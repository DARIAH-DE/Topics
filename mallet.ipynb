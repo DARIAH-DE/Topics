{
 "cells": [
  {
   "cell_type": "code",
   "execution_count": 1,
   "metadata": {
    "collapsed": true
   },
   "outputs": [],
   "source": [
    "from subprocess import call, Popen, PIPE\n",
    "from platform import system\n",
    "import os"
   ]
  },
  {
   "cell_type": "code",
   "execution_count": 2,
   "metadata": {
    "collapsed": false
   },
   "outputs": [],
   "source": [
    "sys = system()\n",
    "if sys == 'Linux':\n",
    "    path_to_mallet = '/home/sina/Uni/Dariah/mallet/bin/mallet'\n",
    "    if sys == 'Windows':\n",
    "        path_to_mallet = os.environ['Mallet_HOME'] + '\\\\bin\\\\mallet'"
   ]
  },
  {
   "cell_type": "code",
   "execution_count": 3,
   "metadata": {
    "collapsed": true
   },
   "outputs": [],
   "source": [
    "#import shlex\n",
    "#args = shlex.split(command_line)"
   ]
  },
  {
   "cell_type": "code",
   "execution_count": 4,
   "metadata": {
    "collapsed": false
   },
   "outputs": [],
   "source": [
    "path_to_corpus = '/home/sina/Uni/Dariah/mallet/sample-data/web/de'\n",
    "num_topics = '5'\n",
    "num_iter = '10'"
   ]
  },
  {
   "cell_type": "code",
   "execution_count": 5,
   "metadata": {
    "collapsed": false
   },
   "outputs": [
    {
     "name": "stdout",
     "output_type": "stream",
     "text": [
      "(b'', b'Labels = \\n   /home/sina/Uni/Dariah/mallet/sample-data/web/de\\n')\n"
     ]
    }
   ],
   "source": [
    "param = \"/home/sina/Uni/Dariah/mallet/bin/mallet import-dir --input /home/sina/Uni/Dariah/mallet/sample-data/web/de --output pytest1.mallet --keep-sequence --remove-stopwords\"\n",
    "\n",
    "try:\n",
    "    p = Popen(param.split(), stdout=PIPE, stderr=PIPE)\n",
    "    out = p.communicate()\n",
    "    \n",
    "    \n",
    "except KeyboardInterrupt:\n",
    "    p.terminate()\n",
    "    \n",
    "print(out)"
   ]
  },
  {
   "cell_type": "code",
   "execution_count": 6,
   "metadata": {
    "collapsed": false
   },
   "outputs": [
    {
     "ename": "SyntaxError",
     "evalue": "positional argument follows keyword argument (<ipython-input-6-5558d9a6e5fa>, line 3)",
     "output_type": "error",
     "traceback": [
      "\u001b[0;36m  File \u001b[0;32m\"<ipython-input-6-5558d9a6e5fa>\"\u001b[0;36m, line \u001b[0;32m3\u001b[0m\n\u001b[0;31m    \"import-dir --input \",\u001b[0m\n\u001b[0m    ^\u001b[0m\n\u001b[0;31mSyntaxError\u001b[0m\u001b[0;31m:\u001b[0m positional argument follows keyword argument\n"
     ]
    }
   ],
   "source": [
    "try:\n",
    "    p = Popen(path_to_mallet, bufsize=0,\n",
    "                        \"import-dir --input \",\n",
    "                        path_to_corpus,\n",
    "                        \" --output \",\n",
    "                        \"pytest2.mallet\",\n",
    "                        \" --keep-sequence \",\n",
    "                        \" --remove-stopwords\")\n",
    "    \n",
    "except KeyboardInterrupt:\n",
    "    p.terminate()\n",
    "    \n",
    "print(out)"
   ]
  },
  {
   "cell_type": "code",
   "execution_count": 7,
   "metadata": {
    "collapsed": false
   },
   "outputs": [
    {
     "name": "stdout",
     "output_type": "stream",
     "text": [
      "(b'', b'Labels = \\n   /home/sina/Uni/Dariah/mallet/sample-data/web/de\\n')\n"
     ]
    }
   ],
   "source": [
    "param = [path_to_mallet, \n",
    "                        'bufsize=0',\n",
    "                        \"import-dir --input\",\n",
    "                        path_to_corpus,\n",
    "                        \"pytest2.mallet\",\n",
    "                        \" --keep-sequence \",\n",
    "                        \" --remove-stopwords\"]\n",
    "try:\n",
    "    p = Popen(param, stdout=PIPE, stderr=PIPE)\n",
    "    \n",
    "except KeyboardInterrupt:\n",
    "    p.terminate()\n",
    "    \n",
    "print(out)"
   ]
  },
  {
   "cell_type": "code",
   "execution_count": 11,
   "metadata": {
    "collapsed": false
   },
   "outputs": [
    {
     "ename": "NameError",
     "evalue": "name 'ls' is not defined",
     "output_type": "error",
     "traceback": [
      "\u001b[0;31m---------------------------------------------------------------------------\u001b[0m",
      "\u001b[0;31mNameError\u001b[0m                                 Traceback (most recent call last)",
      "\u001b[0;32m<ipython-input-11-91e72adbfded>\u001b[0m in \u001b[0;36m<module>\u001b[0;34m()\u001b[0m\n\u001b[0;32m----> 1\u001b[0;31m \u001b[0mp\u001b[0m \u001b[0;34m=\u001b[0m \u001b[0mPopen\u001b[0m\u001b[0;34m(\u001b[0m\u001b[0mls\u001b[0m\u001b[0;34m)\u001b[0m\u001b[0;34m\u001b[0m\u001b[0m\n\u001b[0m",
      "\u001b[0;31mNameError\u001b[0m: name 'ls' is not defined"
     ]
    }
   ],
   "source": [
    "p = Popen(ls)"
   ]
  },
  {
   "cell_type": "code",
   "execution_count": null,
   "metadata": {
    "collapsed": true
   },
   "outputs": [],
   "source": []
  }
 ],
 "metadata": {
  "kernelspec": {
   "display_name": "Python 3",
   "language": "python",
   "name": "python3"
  },
  "language_info": {
   "codemirror_mode": {
    "name": "ipython",
    "version": 3
   },
   "file_extension": ".py",
   "mimetype": "text/x-python",
   "name": "python",
   "nbconvert_exporter": "python",
   "pygments_lexer": "ipython3",
   "version": "3.5.2"
  }
 },
 "nbformat": 4,
 "nbformat_minor": 1
}
