{
 "cells": [
  {
   "cell_type": "markdown",
   "metadata": {
    "deletable": true,
    "editable": true
   },
   "source": [
    "<div style=\"text-align: center\"><h1>Topics – Easy Topic Modeling in Python</h1></div>"
   ]
  },
  {
   "cell_type": "markdown",
   "metadata": {
    "deletable": true,
    "editable": true
   },
   "source": [
    "The text mining technique **Topic Modeling** has become a popular statistical method for clustering documents. This notebook introduces an user-friendly workflow, basically containing data preprocessing, an implementation of the prototypic topic model **Latent Dirichlet Allocation** (LDA) which learns the relationships between words, topics, and documents, as well as multiple visualizations to explore the trained LDA model.\n",
    "\n",
    "In this notebook, we're relying on the LDA implementation by [Andrew McCallum](https://people.cs.umass.edu/~mccallum/) called [**MALLET**](https://radimrehurek.com/gensim/)."
   ]
  },
  {
   "cell_type": "markdown",
   "metadata": {
    "deletable": true,
    "editable": true
   },
   "source": [
    "## First step: Installing dependencies\n",
    "\n",
    "The following tutorial will explain how to perform LDA topic modeling with a programming library in Python. If you have not done so yet, please install all necessary libraries by executing one of the following cells.\n",
    "\n",
    "**Note**: Make sure MALLET is properly installed or at least the unzipped folder in your working directory. If not, download from [this](http://mallet.cs.umass.edu/download.php) ressource."
   ]
  },
  {
   "cell_type": "markdown",
   "metadata": {
    "deletable": true,
    "editable": true
   },
   "source": [
    "### Windows"
   ]
  },
  {
   "cell_type": "code",
   "execution_count": 1,
   "metadata": {
    "collapsed": true,
    "deletable": true,
    "editable": true
   },
   "outputs": [],
   "source": [
    "#!pip install -r requirements.txt"
   ]
  },
  {
   "cell_type": "markdown",
   "metadata": {
    "deletable": true,
    "editable": true
   },
   "source": [
    "### macOS"
   ]
  },
  {
   "cell_type": "code",
   "execution_count": 2,
   "metadata": {
    "collapsed": true,
    "deletable": true,
    "editable": true
   },
   "outputs": [],
   "source": [
    "#!pip3 install -r requirements.txt"
   ]
  },
  {
   "cell_type": "markdown",
   "metadata": {
    "deletable": true,
    "editable": true
   },
   "source": [
    "### Linux"
   ]
  },
  {
   "cell_type": "code",
   "execution_count": 3,
   "metadata": {
    "collapsed": true,
    "deletable": true,
    "editable": true
   },
   "outputs": [],
   "source": [
    "#!sudo pip3 install -r requirements.txt"
   ]
  },
  {
   "cell_type": "markdown",
   "metadata": {
    "deletable": true,
    "editable": true
   },
   "source": [
    "## 1. Preprocessing"
   ]
  },
  {
   "cell_type": "markdown",
   "metadata": {
    "deletable": true,
    "editable": true
   },
   "source": [
    "Let's not pay heed to any warnings right now and execute the following cell."
   ]
  },
  {
   "cell_type": "code",
   "execution_count": 4,
   "metadata": {
    "collapsed": true,
    "deletable": true,
    "editable": true
   },
   "outputs": [],
   "source": [
    "import warnings\n",
    "warnings.filterwarnings('ignore')"
   ]
  },
  {
   "cell_type": "markdown",
   "metadata": {
    "deletable": true,
    "editable": true
   },
   "source": [
    "#### Loading modules from DARIAH-Topics library\n",
    "First, we have to get access to the functionalities of the library by importing them."
   ]
  },
  {
   "cell_type": "code",
   "execution_count": 5,
   "metadata": {
    "collapsed": true,
    "deletable": true,
    "editable": true
   },
   "outputs": [],
   "source": [
    "from dariah_topics import preprocessing\n",
    "from dariah_topics import doclist\n",
    "from dariah_topics import meta\n",
    "from dariah_topics import mallet\n",
    "from dariah_topics import visualization"
   ]
  },
  {
   "cell_type": "markdown",
   "metadata": {
    "deletable": true,
    "editable": true
   },
   "source": [
    "#### Activating inline output in Jupyter notebook\n",
    "The following line will just tell the notebook to show graphics in the output frames."
   ]
  },
  {
   "cell_type": "code",
   "execution_count": 6,
   "metadata": {
    "collapsed": true,
    "deletable": true,
    "editable": true
   },
   "outputs": [],
   "source": [
    "%matplotlib inline"
   ]
  },
  {
   "cell_type": "markdown",
   "metadata": {
    "deletable": true,
    "editable": true
   },
   "source": [
    "### 1.1. Reading a corpus of documents"
   ]
  },
  {
   "cell_type": "markdown",
   "metadata": {
    "deletable": true,
    "editable": true
   },
   "source": [
    "#### Defining the path to the corpus folder\n",
    "\n",
    "In the present example code, we are using a folder of 'txt' documents provided with the package. For using your own corpus, change the path accordingly."
   ]
  },
  {
   "cell_type": "code",
   "execution_count": 7,
   "metadata": {
    "collapsed": true,
    "deletable": true,
    "editable": true
   },
   "outputs": [],
   "source": [
    "path = \"corpus_txt\""
   ]
  },
  {
   "cell_type": "markdown",
   "metadata": {
    "deletable": true,
    "editable": true
   },
   "source": [
    "#### List all documents in the folder\n",
    "We begin by creating a list of all the documents in the folder specified above. That list will tell function `pre.read_from_txt()` (see below) which text documents to read."
   ]
  },
  {
   "cell_type": "code",
   "execution_count": 8,
   "metadata": {
    "collapsed": true,
    "deletable": true,
    "editable": true
   },
   "outputs": [],
   "source": [
    "pathdoclist = doclist.PathDocList(path)\n",
    "document_list = pathdoclist.full_paths(as_str=True)"
   ]
  },
  {
   "cell_type": "markdown",
   "metadata": {
    "deletable": true,
    "editable": true
   },
   "source": [
    "The current list of documents looks like this:"
   ]
  },
  {
   "cell_type": "code",
   "execution_count": 9,
   "metadata": {
    "collapsed": false,
    "deletable": true,
    "editable": true
   },
   "outputs": [
    {
     "data": {
      "text/plain": [
       "['corpus_txt/Lovecraft_AttheMountainofMadness.txt',\n",
       " 'corpus_txt/Howard_TheDevilinIron.txt',\n",
       " 'corpus_txt/Poe_ThePurloinedLetter.txt',\n",
       " 'corpus_txt/Lovecraft_TheShunnedHouse.txt',\n",
       " 'corpus_txt/Poe_TheMasqueoftheRedDeath.txt',\n",
       " 'corpus_txt/Doyle_TheSignoftheFour.txt',\n",
       " 'corpus_txt/Doyle_AStudyinScarlet.txt',\n",
       " 'corpus_txt/Howard_ShadowsintheMoonlight.txt',\n",
       " 'corpus_txt/Kipling_TheEndofthePassage.txt',\n",
       " 'corpus_txt/Poe_EurekaAProsePoem.txt',\n",
       " 'corpus_txt/Howard_GodsoftheNorth.txt',\n",
       " 'corpus_txt/Doyle_TheHoundoftheBaskervilles.txt',\n",
       " 'corpus_txt/Kipling_ThyServantaDog.txt',\n",
       " 'corpus_txt/Poe_TheCaskofAmontillado.txt',\n",
       " 'corpus_txt/Doyle_AScandalinBohemia.txt',\n",
       " 'corpus_txt/Howard_SchadowsinZamboula.txt',\n",
       " 'corpus_txt/Kipling_TheJungleBook.txt']"
      ]
     },
     "execution_count": 9,
     "metadata": {},
     "output_type": "execute_result"
    }
   ],
   "source": [
    "document_list"
   ]
  },
  {
   "cell_type": "markdown",
   "metadata": {
    "deletable": true,
    "editable": true
   },
   "source": [
    "**Alternatively**, if we want to use other documents, or just a selction of those in the specified folder, we can define our own `doclist` by creating a list of strings containing paths to text files. For example, to use only the texts by Edgar A. Poe from the current folder, we would define the list as\n",
    "\n",
    "`\n",
    "    doclist = [ 'corpus_txt/Poe_TheMasqueoftheRedDeath.txt', \n",
    "            'corpus_txt/Poe_TheCaskofAmontillado.txt', \n",
    "            'corpus_txt/Poe_ThePurloinedLetter.txt',\n",
    "            'corpus_txt/Poe_ThePurloinedLetter.txt',\n",
    "            'corpus_txt/Poe_EurekaAProsePoem.txt']\n",
    "`"
   ]
  },
  {
   "cell_type": "markdown",
   "metadata": {
    "deletable": true,
    "editable": true
   },
   "source": [
    "#### Generate document labels"
   ]
  },
  {
   "cell_type": "code",
   "execution_count": 10,
   "metadata": {
    "collapsed": false,
    "deletable": true,
    "editable": true
   },
   "outputs": [
    {
     "data": {
      "text/plain": [
       "['Lovecraft_AttheMountainofMadness',\n",
       " 'Howard_TheDevilinIron',\n",
       " 'Poe_ThePurloinedLetter',\n",
       " 'Lovecraft_TheShunnedHouse',\n",
       " 'Poe_TheMasqueoftheRedDeath',\n",
       " 'Doyle_TheSignoftheFour',\n",
       " 'Doyle_AStudyinScarlet',\n",
       " 'Howard_ShadowsintheMoonlight',\n",
       " 'Kipling_TheEndofthePassage',\n",
       " 'Poe_EurekaAProsePoem',\n",
       " 'Howard_GodsoftheNorth',\n",
       " 'Doyle_TheHoundoftheBaskervilles',\n",
       " 'Kipling_ThyServantaDog',\n",
       " 'Poe_TheCaskofAmontillado',\n",
       " 'Doyle_AScandalinBohemia',\n",
       " 'Howard_SchadowsinZamboula',\n",
       " 'Kipling_TheJungleBook']"
      ]
     },
     "execution_count": 10,
     "metadata": {},
     "output_type": "execute_result"
    }
   ],
   "source": [
    "document_labels = pathdoclist.labels()\n",
    "document_labels"
   ]
  },
  {
   "cell_type": "markdown",
   "metadata": {
    "deletable": true,
    "editable": true
   },
   "source": [
    "#### Optional: Accessing metadata"
   ]
  },
  {
   "cell_type": "markdown",
   "metadata": {
    "deletable": true,
    "editable": true
   },
   "source": [
    "In case you want a more structured overview of your corpus, execute the following cell:"
   ]
  },
  {
   "cell_type": "code",
   "execution_count": 11,
   "metadata": {
    "collapsed": false,
    "deletable": true,
    "editable": true
   },
   "outputs": [
    {
     "data": {
      "text/html": [
       "<div>\n",
       "<table border=\"1\" class=\"dataframe\">\n",
       "  <thead>\n",
       "    <tr style=\"text-align: right;\">\n",
       "      <th></th>\n",
       "      <th>author</th>\n",
       "      <th>basename</th>\n",
       "      <th>filename</th>\n",
       "      <th>title</th>\n",
       "    </tr>\n",
       "  </thead>\n",
       "  <tbody>\n",
       "    <tr>\n",
       "      <th>0</th>\n",
       "      <td>Lovecraft</td>\n",
       "      <td>Lovecraft_AttheMountainofMadness</td>\n",
       "      <td>corpus_txt/Lovecraft_AttheMountainofMadness.txt</td>\n",
       "      <td>AttheMountainofMadness</td>\n",
       "    </tr>\n",
       "    <tr>\n",
       "      <th>1</th>\n",
       "      <td>Howard</td>\n",
       "      <td>Howard_TheDevilinIron</td>\n",
       "      <td>corpus_txt/Howard_TheDevilinIron.txt</td>\n",
       "      <td>TheDevilinIron</td>\n",
       "    </tr>\n",
       "    <tr>\n",
       "      <th>2</th>\n",
       "      <td>Poe</td>\n",
       "      <td>Poe_ThePurloinedLetter</td>\n",
       "      <td>corpus_txt/Poe_ThePurloinedLetter.txt</td>\n",
       "      <td>ThePurloinedLetter</td>\n",
       "    </tr>\n",
       "    <tr>\n",
       "      <th>3</th>\n",
       "      <td>Lovecraft</td>\n",
       "      <td>Lovecraft_TheShunnedHouse</td>\n",
       "      <td>corpus_txt/Lovecraft_TheShunnedHouse.txt</td>\n",
       "      <td>TheShunnedHouse</td>\n",
       "    </tr>\n",
       "    <tr>\n",
       "      <th>4</th>\n",
       "      <td>Poe</td>\n",
       "      <td>Poe_TheMasqueoftheRedDeath</td>\n",
       "      <td>corpus_txt/Poe_TheMasqueoftheRedDeath.txt</td>\n",
       "      <td>TheMasqueoftheRedDeath</td>\n",
       "    </tr>\n",
       "    <tr>\n",
       "      <th>5</th>\n",
       "      <td>Doyle</td>\n",
       "      <td>Doyle_TheSignoftheFour</td>\n",
       "      <td>corpus_txt/Doyle_TheSignoftheFour.txt</td>\n",
       "      <td>TheSignoftheFour</td>\n",
       "    </tr>\n",
       "    <tr>\n",
       "      <th>6</th>\n",
       "      <td>Doyle</td>\n",
       "      <td>Doyle_AStudyinScarlet</td>\n",
       "      <td>corpus_txt/Doyle_AStudyinScarlet.txt</td>\n",
       "      <td>AStudyinScarlet</td>\n",
       "    </tr>\n",
       "    <tr>\n",
       "      <th>7</th>\n",
       "      <td>Howard</td>\n",
       "      <td>Howard_ShadowsintheMoonlight</td>\n",
       "      <td>corpus_txt/Howard_ShadowsintheMoonlight.txt</td>\n",
       "      <td>ShadowsintheMoonlight</td>\n",
       "    </tr>\n",
       "    <tr>\n",
       "      <th>8</th>\n",
       "      <td>Kipling</td>\n",
       "      <td>Kipling_TheEndofthePassage</td>\n",
       "      <td>corpus_txt/Kipling_TheEndofthePassage.txt</td>\n",
       "      <td>TheEndofthePassage</td>\n",
       "    </tr>\n",
       "    <tr>\n",
       "      <th>9</th>\n",
       "      <td>Poe</td>\n",
       "      <td>Poe_EurekaAProsePoem</td>\n",
       "      <td>corpus_txt/Poe_EurekaAProsePoem.txt</td>\n",
       "      <td>EurekaAProsePoem</td>\n",
       "    </tr>\n",
       "    <tr>\n",
       "      <th>10</th>\n",
       "      <td>Howard</td>\n",
       "      <td>Howard_GodsoftheNorth</td>\n",
       "      <td>corpus_txt/Howard_GodsoftheNorth.txt</td>\n",
       "      <td>GodsoftheNorth</td>\n",
       "    </tr>\n",
       "    <tr>\n",
       "      <th>11</th>\n",
       "      <td>Doyle</td>\n",
       "      <td>Doyle_TheHoundoftheBaskervilles</td>\n",
       "      <td>corpus_txt/Doyle_TheHoundoftheBaskervilles.txt</td>\n",
       "      <td>TheHoundoftheBaskervilles</td>\n",
       "    </tr>\n",
       "    <tr>\n",
       "      <th>12</th>\n",
       "      <td>Kipling</td>\n",
       "      <td>Kipling_ThyServantaDog</td>\n",
       "      <td>corpus_txt/Kipling_ThyServantaDog.txt</td>\n",
       "      <td>ThyServantaDog</td>\n",
       "    </tr>\n",
       "    <tr>\n",
       "      <th>13</th>\n",
       "      <td>Poe</td>\n",
       "      <td>Poe_TheCaskofAmontillado</td>\n",
       "      <td>corpus_txt/Poe_TheCaskofAmontillado.txt</td>\n",
       "      <td>TheCaskofAmontillado</td>\n",
       "    </tr>\n",
       "    <tr>\n",
       "      <th>14</th>\n",
       "      <td>Doyle</td>\n",
       "      <td>Doyle_AScandalinBohemia</td>\n",
       "      <td>corpus_txt/Doyle_AScandalinBohemia.txt</td>\n",
       "      <td>AScandalinBohemia</td>\n",
       "    </tr>\n",
       "    <tr>\n",
       "      <th>15</th>\n",
       "      <td>Howard</td>\n",
       "      <td>Howard_SchadowsinZamboula</td>\n",
       "      <td>corpus_txt/Howard_SchadowsinZamboula.txt</td>\n",
       "      <td>SchadowsinZamboula</td>\n",
       "    </tr>\n",
       "    <tr>\n",
       "      <th>16</th>\n",
       "      <td>Kipling</td>\n",
       "      <td>Kipling_TheJungleBook</td>\n",
       "      <td>corpus_txt/Kipling_TheJungleBook.txt</td>\n",
       "      <td>TheJungleBook</td>\n",
       "    </tr>\n",
       "  </tbody>\n",
       "</table>\n",
       "</div>"
      ],
      "text/plain": [
       "       author                          basename  \\\n",
       "0   Lovecraft  Lovecraft_AttheMountainofMadness   \n",
       "1      Howard             Howard_TheDevilinIron   \n",
       "2         Poe            Poe_ThePurloinedLetter   \n",
       "3   Lovecraft         Lovecraft_TheShunnedHouse   \n",
       "4         Poe        Poe_TheMasqueoftheRedDeath   \n",
       "5       Doyle            Doyle_TheSignoftheFour   \n",
       "6       Doyle             Doyle_AStudyinScarlet   \n",
       "7      Howard      Howard_ShadowsintheMoonlight   \n",
       "8     Kipling        Kipling_TheEndofthePassage   \n",
       "9         Poe              Poe_EurekaAProsePoem   \n",
       "10     Howard             Howard_GodsoftheNorth   \n",
       "11      Doyle   Doyle_TheHoundoftheBaskervilles   \n",
       "12    Kipling            Kipling_ThyServantaDog   \n",
       "13        Poe          Poe_TheCaskofAmontillado   \n",
       "14      Doyle           Doyle_AScandalinBohemia   \n",
       "15     Howard         Howard_SchadowsinZamboula   \n",
       "16    Kipling             Kipling_TheJungleBook   \n",
       "\n",
       "                                           filename                      title  \n",
       "0   corpus_txt/Lovecraft_AttheMountainofMadness.txt     AttheMountainofMadness  \n",
       "1              corpus_txt/Howard_TheDevilinIron.txt             TheDevilinIron  \n",
       "2             corpus_txt/Poe_ThePurloinedLetter.txt         ThePurloinedLetter  \n",
       "3          corpus_txt/Lovecraft_TheShunnedHouse.txt            TheShunnedHouse  \n",
       "4         corpus_txt/Poe_TheMasqueoftheRedDeath.txt     TheMasqueoftheRedDeath  \n",
       "5             corpus_txt/Doyle_TheSignoftheFour.txt           TheSignoftheFour  \n",
       "6              corpus_txt/Doyle_AStudyinScarlet.txt            AStudyinScarlet  \n",
       "7       corpus_txt/Howard_ShadowsintheMoonlight.txt      ShadowsintheMoonlight  \n",
       "8         corpus_txt/Kipling_TheEndofthePassage.txt         TheEndofthePassage  \n",
       "9               corpus_txt/Poe_EurekaAProsePoem.txt           EurekaAProsePoem  \n",
       "10             corpus_txt/Howard_GodsoftheNorth.txt             GodsoftheNorth  \n",
       "11   corpus_txt/Doyle_TheHoundoftheBaskervilles.txt  TheHoundoftheBaskervilles  \n",
       "12            corpus_txt/Kipling_ThyServantaDog.txt             ThyServantaDog  \n",
       "13          corpus_txt/Poe_TheCaskofAmontillado.txt       TheCaskofAmontillado  \n",
       "14           corpus_txt/Doyle_AScandalinBohemia.txt          AScandalinBohemia  \n",
       "15         corpus_txt/Howard_SchadowsinZamboula.txt         SchadowsinZamboula  \n",
       "16             corpus_txt/Kipling_TheJungleBook.txt              TheJungleBook  "
      ]
     },
     "execution_count": 11,
     "metadata": {},
     "output_type": "execute_result"
    }
   ],
   "source": [
    "import os\n",
    "\n",
    "metadata = meta.fn2metadata(os.path.join(path, '*.txt'))\n",
    "metadata"
   ]
  },
  {
   "cell_type": "markdown",
   "metadata": {
    "deletable": true,
    "editable": true
   },
   "source": [
    "#### Read listed documents from folder"
   ]
  },
  {
   "cell_type": "code",
   "execution_count": 12,
   "metadata": {
    "collapsed": true,
    "deletable": true,
    "editable": true
   },
   "outputs": [],
   "source": [
    "corpus = preprocessing.read_from_txt(document_list)"
   ]
  },
  {
   "cell_type": "markdown",
   "metadata": {
    "deletable": true,
    "editable": true
   },
   "source": [
    "At this point, the corpus is generator object."
   ]
  },
  {
   "cell_type": "markdown",
   "metadata": {
    "deletable": true,
    "editable": true
   },
   "source": [
    "### 1.3. Tokenize corpus\n",
    "Your text files will be tokenized. Tokenization is the task of cutting a stream of characters into linguistic units, simply words or, more precisely, tokens. The tokenize function the library provides is a simple unicode tokenizer. Depending on the corpus it might be useful to use an external tokenizer function, or even develop your own, since its efficiency varies with language, epoch and text type."
   ]
  },
  {
   "cell_type": "code",
   "execution_count": 13,
   "metadata": {
    "collapsed": true,
    "deletable": true,
    "editable": true
   },
   "outputs": [],
   "source": [
    "tokens = [list(preprocessing.tokenize(document)) for document in list(corpus)]"
   ]
  },
  {
   "cell_type": "markdown",
   "metadata": {
    "deletable": true,
    "editable": true
   },
   "source": [
    "At this point, each text is represented by a list of separate token strings. If we want to look e.g. into the first text (which has the index `0` as Python starts counting at 0) and show its first 10 words/tokens (that have the indeces `0:9` accordingly) by typing:"
   ]
  },
  {
   "cell_type": "code",
   "execution_count": 14,
   "metadata": {
    "collapsed": false,
    "deletable": true,
    "editable": true
   },
   "outputs": [
    {
     "data": {
      "text/plain": [
       "['at', 'the', 'mountains', 'of', 'madness', 'by', 'hp', 'lovecraft', 'chapter']"
      ]
     },
     "execution_count": 14,
     "metadata": {},
     "output_type": "execute_result"
    }
   ],
   "source": [
    "tokens[0][0:9]"
   ]
  },
  {
   "cell_type": "markdown",
   "metadata": {
    "deletable": true,
    "editable": true
   },
   "source": [
    "### 1.4.1 Create a document-term matrix\n",
    "\n",
    "The LDA topic model is based on a [document-term matrix](https://en.wikipedia.org/wiki/Document-term_matrix) of the corpus. To improve performance in large corpora, the matrix describes the frequency of terms that occur in the collection. In a document-term matrix, rows correspond to documents in the collection and columns correspond to terms."
   ]
  },
  {
   "cell_type": "code",
   "execution_count": 15,
   "metadata": {
    "collapsed": false,
    "deletable": true,
    "editable": true
   },
   "outputs": [
    {
     "data": {
      "text/html": [
       "<div>\n",
       "<table border=\"1\" class=\"dataframe\">\n",
       "  <thead>\n",
       "    <tr style=\"text-align: right;\">\n",
       "      <th></th>\n",
       "      <th>the</th>\n",
       "      <th>and</th>\n",
       "      <th>of</th>\n",
       "      <th>to</th>\n",
       "      <th>in</th>\n",
       "      <th>he</th>\n",
       "      <th>that</th>\n",
       "      <th>was</th>\n",
       "      <th>it</th>\n",
       "      <th>his</th>\n",
       "      <th>...</th>\n",
       "      <th>medii</th>\n",
       "      <th>medieval</th>\n",
       "      <th>medico-legal</th>\n",
       "      <th>median</th>\n",
       "      <th>meddling</th>\n",
       "      <th>medal</th>\n",
       "      <th>mechanized</th>\n",
       "      <th>mechanics</th>\n",
       "      <th>meat-gorging</th>\n",
       "      <th>a'most</th>\n",
       "    </tr>\n",
       "  </thead>\n",
       "  <tbody>\n",
       "    <tr>\n",
       "      <th>Lovecraft_AttheMountainofMadness</th>\n",
       "      <td>2750.0</td>\n",
       "      <td>1480.0</td>\n",
       "      <td>1753.0</td>\n",
       "      <td>879.0</td>\n",
       "      <td>648.0</td>\n",
       "      <td>75.0</td>\n",
       "      <td>471.0</td>\n",
       "      <td>398.0</td>\n",
       "      <td>306.0</td>\n",
       "      <td>56.0</td>\n",
       "      <td>...</td>\n",
       "      <td>0.0</td>\n",
       "      <td>0.0</td>\n",
       "      <td>0.0</td>\n",
       "      <td>0.0</td>\n",
       "      <td>1.0</td>\n",
       "      <td>0.0</td>\n",
       "      <td>1.0</td>\n",
       "      <td>1.0</td>\n",
       "      <td>0.0</td>\n",
       "      <td>0.0</td>\n",
       "    </tr>\n",
       "    <tr>\n",
       "      <th>Howard_TheDevilinIron</th>\n",
       "      <td>893.0</td>\n",
       "      <td>386.0</td>\n",
       "      <td>354.0</td>\n",
       "      <td>201.0</td>\n",
       "      <td>200.0</td>\n",
       "      <td>314.0</td>\n",
       "      <td>140.0</td>\n",
       "      <td>208.0</td>\n",
       "      <td>106.0</td>\n",
       "      <td>225.0</td>\n",
       "      <td>...</td>\n",
       "      <td>0.0</td>\n",
       "      <td>0.0</td>\n",
       "      <td>0.0</td>\n",
       "      <td>0.0</td>\n",
       "      <td>0.0</td>\n",
       "      <td>0.0</td>\n",
       "      <td>0.0</td>\n",
       "      <td>0.0</td>\n",
       "      <td>1.0</td>\n",
       "      <td>0.0</td>\n",
       "    </tr>\n",
       "    <tr>\n",
       "      <th>Poe_ThePurloinedLetter</th>\n",
       "      <td>515.0</td>\n",
       "      <td>184.0</td>\n",
       "      <td>274.0</td>\n",
       "      <td>171.0</td>\n",
       "      <td>148.0</td>\n",
       "      <td>68.0</td>\n",
       "      <td>83.0</td>\n",
       "      <td>42.0</td>\n",
       "      <td>98.0</td>\n",
       "      <td>60.0</td>\n",
       "      <td>...</td>\n",
       "      <td>1.0</td>\n",
       "      <td>0.0</td>\n",
       "      <td>0.0</td>\n",
       "      <td>0.0</td>\n",
       "      <td>0.0</td>\n",
       "      <td>0.0</td>\n",
       "      <td>0.0</td>\n",
       "      <td>0.0</td>\n",
       "      <td>0.0</td>\n",
       "      <td>0.0</td>\n",
       "    </tr>\n",
       "    <tr>\n",
       "      <th>Lovecraft_TheShunnedHouse</th>\n",
       "      <td>781.0</td>\n",
       "      <td>449.0</td>\n",
       "      <td>450.0</td>\n",
       "      <td>223.0</td>\n",
       "      <td>234.0</td>\n",
       "      <td>59.0</td>\n",
       "      <td>135.0</td>\n",
       "      <td>156.0</td>\n",
       "      <td>123.0</td>\n",
       "      <td>53.0</td>\n",
       "      <td>...</td>\n",
       "      <td>0.0</td>\n",
       "      <td>0.0</td>\n",
       "      <td>0.0</td>\n",
       "      <td>0.0</td>\n",
       "      <td>0.0</td>\n",
       "      <td>0.0</td>\n",
       "      <td>0.0</td>\n",
       "      <td>0.0</td>\n",
       "      <td>0.0</td>\n",
       "      <td>0.0</td>\n",
       "    </tr>\n",
       "    <tr>\n",
       "      <th>Poe_TheMasqueoftheRedDeath</th>\n",
       "      <td>264.0</td>\n",
       "      <td>125.0</td>\n",
       "      <td>123.0</td>\n",
       "      <td>48.0</td>\n",
       "      <td>49.0</td>\n",
       "      <td>14.0</td>\n",
       "      <td>29.0</td>\n",
       "      <td>46.0</td>\n",
       "      <td>17.0</td>\n",
       "      <td>20.0</td>\n",
       "      <td>...</td>\n",
       "      <td>0.0</td>\n",
       "      <td>0.0</td>\n",
       "      <td>0.0</td>\n",
       "      <td>0.0</td>\n",
       "      <td>0.0</td>\n",
       "      <td>0.0</td>\n",
       "      <td>0.0</td>\n",
       "      <td>0.0</td>\n",
       "      <td>0.0</td>\n",
       "      <td>0.0</td>\n",
       "    </tr>\n",
       "    <tr>\n",
       "      <th>Doyle_TheSignoftheFour</th>\n",
       "      <td>2340.0</td>\n",
       "      <td>1179.0</td>\n",
       "      <td>1122.0</td>\n",
       "      <td>1081.0</td>\n",
       "      <td>680.0</td>\n",
       "      <td>638.0</td>\n",
       "      <td>626.0</td>\n",
       "      <td>574.0</td>\n",
       "      <td>683.0</td>\n",
       "      <td>480.0</td>\n",
       "      <td>...</td>\n",
       "      <td>0.0</td>\n",
       "      <td>1.0</td>\n",
       "      <td>0.0</td>\n",
       "      <td>0.0</td>\n",
       "      <td>0.0</td>\n",
       "      <td>0.0</td>\n",
       "      <td>0.0</td>\n",
       "      <td>0.0</td>\n",
       "      <td>0.0</td>\n",
       "      <td>1.0</td>\n",
       "    </tr>\n",
       "    <tr>\n",
       "      <th>Doyle_AStudyinScarlet</th>\n",
       "      <td>2539.0</td>\n",
       "      <td>1363.0</td>\n",
       "      <td>1210.0</td>\n",
       "      <td>1092.0</td>\n",
       "      <td>731.0</td>\n",
       "      <td>794.0</td>\n",
       "      <td>655.0</td>\n",
       "      <td>651.0</td>\n",
       "      <td>577.0</td>\n",
       "      <td>651.0</td>\n",
       "      <td>...</td>\n",
       "      <td>0.0</td>\n",
       "      <td>0.0</td>\n",
       "      <td>1.0</td>\n",
       "      <td>0.0</td>\n",
       "      <td>0.0</td>\n",
       "      <td>0.0</td>\n",
       "      <td>0.0</td>\n",
       "      <td>0.0</td>\n",
       "      <td>0.0</td>\n",
       "      <td>0.0</td>\n",
       "    </tr>\n",
       "    <tr>\n",
       "      <th>Howard_ShadowsintheMoonlight</th>\n",
       "      <td>885.0</td>\n",
       "      <td>370.0</td>\n",
       "      <td>382.0</td>\n",
       "      <td>208.0</td>\n",
       "      <td>219.0</td>\n",
       "      <td>137.0</td>\n",
       "      <td>101.0</td>\n",
       "      <td>146.0</td>\n",
       "      <td>76.0</td>\n",
       "      <td>168.0</td>\n",
       "      <td>...</td>\n",
       "      <td>0.0</td>\n",
       "      <td>0.0</td>\n",
       "      <td>0.0</td>\n",
       "      <td>0.0</td>\n",
       "      <td>0.0</td>\n",
       "      <td>0.0</td>\n",
       "      <td>0.0</td>\n",
       "      <td>0.0</td>\n",
       "      <td>0.0</td>\n",
       "      <td>0.0</td>\n",
       "    </tr>\n",
       "    <tr>\n",
       "      <th>Kipling_TheEndofthePassage</th>\n",
       "      <td>425.0</td>\n",
       "      <td>209.0</td>\n",
       "      <td>198.0</td>\n",
       "      <td>201.0</td>\n",
       "      <td>96.0</td>\n",
       "      <td>101.0</td>\n",
       "      <td>82.0</td>\n",
       "      <td>78.0</td>\n",
       "      <td>86.0</td>\n",
       "      <td>67.0</td>\n",
       "      <td>...</td>\n",
       "      <td>0.0</td>\n",
       "      <td>0.0</td>\n",
       "      <td>0.0</td>\n",
       "      <td>0.0</td>\n",
       "      <td>0.0</td>\n",
       "      <td>0.0</td>\n",
       "      <td>0.0</td>\n",
       "      <td>0.0</td>\n",
       "      <td>0.0</td>\n",
       "      <td>0.0</td>\n",
       "    </tr>\n",
       "    <tr>\n",
       "      <th>Poe_EurekaAProsePoem</th>\n",
       "      <td>2975.0</td>\n",
       "      <td>664.0</td>\n",
       "      <td>2072.0</td>\n",
       "      <td>1131.0</td>\n",
       "      <td>902.0</td>\n",
       "      <td>78.0</td>\n",
       "      <td>671.0</td>\n",
       "      <td>105.0</td>\n",
       "      <td>484.0</td>\n",
       "      <td>83.0</td>\n",
       "      <td>...</td>\n",
       "      <td>0.0</td>\n",
       "      <td>0.0</td>\n",
       "      <td>0.0</td>\n",
       "      <td>1.0</td>\n",
       "      <td>0.0</td>\n",
       "      <td>0.0</td>\n",
       "      <td>0.0</td>\n",
       "      <td>0.0</td>\n",
       "      <td>0.0</td>\n",
       "      <td>0.0</td>\n",
       "    </tr>\n",
       "    <tr>\n",
       "      <th>Howard_GodsoftheNorth</th>\n",
       "      <td>236.0</td>\n",
       "      <td>106.0</td>\n",
       "      <td>95.0</td>\n",
       "      <td>44.0</td>\n",
       "      <td>71.0</td>\n",
       "      <td>53.0</td>\n",
       "      <td>21.0</td>\n",
       "      <td>43.0</td>\n",
       "      <td>9.0</td>\n",
       "      <td>70.0</td>\n",
       "      <td>...</td>\n",
       "      <td>0.0</td>\n",
       "      <td>0.0</td>\n",
       "      <td>0.0</td>\n",
       "      <td>0.0</td>\n",
       "      <td>0.0</td>\n",
       "      <td>0.0</td>\n",
       "      <td>0.0</td>\n",
       "      <td>0.0</td>\n",
       "      <td>0.0</td>\n",
       "      <td>0.0</td>\n",
       "    </tr>\n",
       "    <tr>\n",
       "      <th>Doyle_TheHoundoftheBaskervilles</th>\n",
       "      <td>3344.0</td>\n",
       "      <td>1628.0</td>\n",
       "      <td>1596.0</td>\n",
       "      <td>1407.0</td>\n",
       "      <td>911.0</td>\n",
       "      <td>914.0</td>\n",
       "      <td>1133.0</td>\n",
       "      <td>803.0</td>\n",
       "      <td>981.0</td>\n",
       "      <td>692.0</td>\n",
       "      <td>...</td>\n",
       "      <td>0.0</td>\n",
       "      <td>0.0</td>\n",
       "      <td>0.0</td>\n",
       "      <td>0.0</td>\n",
       "      <td>0.0</td>\n",
       "      <td>0.0</td>\n",
       "      <td>0.0</td>\n",
       "      <td>0.0</td>\n",
       "      <td>0.0</td>\n",
       "      <td>0.0</td>\n",
       "    </tr>\n",
       "    <tr>\n",
       "      <th>Kipling_ThyServantaDog</th>\n",
       "      <td>790.0</td>\n",
       "      <td>1015.0</td>\n",
       "      <td>510.0</td>\n",
       "      <td>640.0</td>\n",
       "      <td>324.0</td>\n",
       "      <td>636.0</td>\n",
       "      <td>293.0</td>\n",
       "      <td>456.0</td>\n",
       "      <td>295.0</td>\n",
       "      <td>242.0</td>\n",
       "      <td>...</td>\n",
       "      <td>0.0</td>\n",
       "      <td>0.0</td>\n",
       "      <td>0.0</td>\n",
       "      <td>0.0</td>\n",
       "      <td>0.0</td>\n",
       "      <td>0.0</td>\n",
       "      <td>0.0</td>\n",
       "      <td>0.0</td>\n",
       "      <td>0.0</td>\n",
       "      <td>0.0</td>\n",
       "    </tr>\n",
       "    <tr>\n",
       "      <th>Poe_TheCaskofAmontillado</th>\n",
       "      <td>168.0</td>\n",
       "      <td>61.0</td>\n",
       "      <td>76.0</td>\n",
       "      <td>49.0</td>\n",
       "      <td>34.0</td>\n",
       "      <td>53.0</td>\n",
       "      <td>17.0</td>\n",
       "      <td>27.0</td>\n",
       "      <td>36.0</td>\n",
       "      <td>17.0</td>\n",
       "      <td>...</td>\n",
       "      <td>0.0</td>\n",
       "      <td>0.0</td>\n",
       "      <td>0.0</td>\n",
       "      <td>0.0</td>\n",
       "      <td>0.0</td>\n",
       "      <td>0.0</td>\n",
       "      <td>0.0</td>\n",
       "      <td>0.0</td>\n",
       "      <td>0.0</td>\n",
       "      <td>0.0</td>\n",
       "    </tr>\n",
       "    <tr>\n",
       "      <th>Doyle_AScandalinBohemia</th>\n",
       "      <td>448.0</td>\n",
       "      <td>255.0</td>\n",
       "      <td>235.0</td>\n",
       "      <td>244.0</td>\n",
       "      <td>157.0</td>\n",
       "      <td>109.0</td>\n",
       "      <td>104.0</td>\n",
       "      <td>124.0</td>\n",
       "      <td>154.0</td>\n",
       "      <td>105.0</td>\n",
       "      <td>...</td>\n",
       "      <td>0.0</td>\n",
       "      <td>0.0</td>\n",
       "      <td>0.0</td>\n",
       "      <td>0.0</td>\n",
       "      <td>0.0</td>\n",
       "      <td>0.0</td>\n",
       "      <td>0.0</td>\n",
       "      <td>0.0</td>\n",
       "      <td>0.0</td>\n",
       "      <td>0.0</td>\n",
       "    </tr>\n",
       "    <tr>\n",
       "      <th>Howard_SchadowsinZamboula</th>\n",
       "      <td>962.0</td>\n",
       "      <td>373.0</td>\n",
       "      <td>382.0</td>\n",
       "      <td>215.0</td>\n",
       "      <td>189.0</td>\n",
       "      <td>223.0</td>\n",
       "      <td>95.0</td>\n",
       "      <td>155.0</td>\n",
       "      <td>98.0</td>\n",
       "      <td>238.0</td>\n",
       "      <td>...</td>\n",
       "      <td>0.0</td>\n",
       "      <td>0.0</td>\n",
       "      <td>0.0</td>\n",
       "      <td>0.0</td>\n",
       "      <td>0.0</td>\n",
       "      <td>0.0</td>\n",
       "      <td>0.0</td>\n",
       "      <td>0.0</td>\n",
       "      <td>0.0</td>\n",
       "      <td>0.0</td>\n",
       "    </tr>\n",
       "    <tr>\n",
       "      <th>Kipling_TheJungleBook</th>\n",
       "      <td>3457.0</td>\n",
       "      <td>2245.0</td>\n",
       "      <td>1198.0</td>\n",
       "      <td>1171.0</td>\n",
       "      <td>677.0</td>\n",
       "      <td>1056.0</td>\n",
       "      <td>644.0</td>\n",
       "      <td>519.0</td>\n",
       "      <td>374.0</td>\n",
       "      <td>648.0</td>\n",
       "      <td>...</td>\n",
       "      <td>0.0</td>\n",
       "      <td>0.0</td>\n",
       "      <td>0.0</td>\n",
       "      <td>0.0</td>\n",
       "      <td>0.0</td>\n",
       "      <td>1.0</td>\n",
       "      <td>0.0</td>\n",
       "      <td>0.0</td>\n",
       "      <td>0.0</td>\n",
       "      <td>0.0</td>\n",
       "    </tr>\n",
       "  </tbody>\n",
       "</table>\n",
       "<p>17 rows × 22232 columns</p>\n",
       "</div>"
      ],
      "text/plain": [
       "                                     the     and      of      to     in  \\\n",
       "Lovecraft_AttheMountainofMadness  2750.0  1480.0  1753.0   879.0  648.0   \n",
       "Howard_TheDevilinIron              893.0   386.0   354.0   201.0  200.0   \n",
       "Poe_ThePurloinedLetter             515.0   184.0   274.0   171.0  148.0   \n",
       "Lovecraft_TheShunnedHouse          781.0   449.0   450.0   223.0  234.0   \n",
       "Poe_TheMasqueoftheRedDeath         264.0   125.0   123.0    48.0   49.0   \n",
       "Doyle_TheSignoftheFour            2340.0  1179.0  1122.0  1081.0  680.0   \n",
       "Doyle_AStudyinScarlet             2539.0  1363.0  1210.0  1092.0  731.0   \n",
       "Howard_ShadowsintheMoonlight       885.0   370.0   382.0   208.0  219.0   \n",
       "Kipling_TheEndofthePassage         425.0   209.0   198.0   201.0   96.0   \n",
       "Poe_EurekaAProsePoem              2975.0   664.0  2072.0  1131.0  902.0   \n",
       "Howard_GodsoftheNorth              236.0   106.0    95.0    44.0   71.0   \n",
       "Doyle_TheHoundoftheBaskervilles   3344.0  1628.0  1596.0  1407.0  911.0   \n",
       "Kipling_ThyServantaDog             790.0  1015.0   510.0   640.0  324.0   \n",
       "Poe_TheCaskofAmontillado           168.0    61.0    76.0    49.0   34.0   \n",
       "Doyle_AScandalinBohemia            448.0   255.0   235.0   244.0  157.0   \n",
       "Howard_SchadowsinZamboula          962.0   373.0   382.0   215.0  189.0   \n",
       "Kipling_TheJungleBook             3457.0  2245.0  1198.0  1171.0  677.0   \n",
       "\n",
       "                                      he    that    was     it    his   ...    \\\n",
       "Lovecraft_AttheMountainofMadness    75.0   471.0  398.0  306.0   56.0   ...     \n",
       "Howard_TheDevilinIron              314.0   140.0  208.0  106.0  225.0   ...     \n",
       "Poe_ThePurloinedLetter              68.0    83.0   42.0   98.0   60.0   ...     \n",
       "Lovecraft_TheShunnedHouse           59.0   135.0  156.0  123.0   53.0   ...     \n",
       "Poe_TheMasqueoftheRedDeath          14.0    29.0   46.0   17.0   20.0   ...     \n",
       "Doyle_TheSignoftheFour             638.0   626.0  574.0  683.0  480.0   ...     \n",
       "Doyle_AStudyinScarlet              794.0   655.0  651.0  577.0  651.0   ...     \n",
       "Howard_ShadowsintheMoonlight       137.0   101.0  146.0   76.0  168.0   ...     \n",
       "Kipling_TheEndofthePassage         101.0    82.0   78.0   86.0   67.0   ...     \n",
       "Poe_EurekaAProsePoem                78.0   671.0  105.0  484.0   83.0   ...     \n",
       "Howard_GodsoftheNorth               53.0    21.0   43.0    9.0   70.0   ...     \n",
       "Doyle_TheHoundoftheBaskervilles    914.0  1133.0  803.0  981.0  692.0   ...     \n",
       "Kipling_ThyServantaDog             636.0   293.0  456.0  295.0  242.0   ...     \n",
       "Poe_TheCaskofAmontillado            53.0    17.0   27.0   36.0   17.0   ...     \n",
       "Doyle_AScandalinBohemia            109.0   104.0  124.0  154.0  105.0   ...     \n",
       "Howard_SchadowsinZamboula          223.0    95.0  155.0   98.0  238.0   ...     \n",
       "Kipling_TheJungleBook             1056.0   644.0  519.0  374.0  648.0   ...     \n",
       "\n",
       "                                  medii  medieval  medico-legal  median  \\\n",
       "Lovecraft_AttheMountainofMadness    0.0       0.0           0.0     0.0   \n",
       "Howard_TheDevilinIron               0.0       0.0           0.0     0.0   \n",
       "Poe_ThePurloinedLetter              1.0       0.0           0.0     0.0   \n",
       "Lovecraft_TheShunnedHouse           0.0       0.0           0.0     0.0   \n",
       "Poe_TheMasqueoftheRedDeath          0.0       0.0           0.0     0.0   \n",
       "Doyle_TheSignoftheFour              0.0       1.0           0.0     0.0   \n",
       "Doyle_AStudyinScarlet               0.0       0.0           1.0     0.0   \n",
       "Howard_ShadowsintheMoonlight        0.0       0.0           0.0     0.0   \n",
       "Kipling_TheEndofthePassage          0.0       0.0           0.0     0.0   \n",
       "Poe_EurekaAProsePoem                0.0       0.0           0.0     1.0   \n",
       "Howard_GodsoftheNorth               0.0       0.0           0.0     0.0   \n",
       "Doyle_TheHoundoftheBaskervilles     0.0       0.0           0.0     0.0   \n",
       "Kipling_ThyServantaDog              0.0       0.0           0.0     0.0   \n",
       "Poe_TheCaskofAmontillado            0.0       0.0           0.0     0.0   \n",
       "Doyle_AScandalinBohemia             0.0       0.0           0.0     0.0   \n",
       "Howard_SchadowsinZamboula           0.0       0.0           0.0     0.0   \n",
       "Kipling_TheJungleBook               0.0       0.0           0.0     0.0   \n",
       "\n",
       "                                  meddling  medal  mechanized  mechanics  \\\n",
       "Lovecraft_AttheMountainofMadness       1.0    0.0         1.0        1.0   \n",
       "Howard_TheDevilinIron                  0.0    0.0         0.0        0.0   \n",
       "Poe_ThePurloinedLetter                 0.0    0.0         0.0        0.0   \n",
       "Lovecraft_TheShunnedHouse              0.0    0.0         0.0        0.0   \n",
       "Poe_TheMasqueoftheRedDeath             0.0    0.0         0.0        0.0   \n",
       "Doyle_TheSignoftheFour                 0.0    0.0         0.0        0.0   \n",
       "Doyle_AStudyinScarlet                  0.0    0.0         0.0        0.0   \n",
       "Howard_ShadowsintheMoonlight           0.0    0.0         0.0        0.0   \n",
       "Kipling_TheEndofthePassage             0.0    0.0         0.0        0.0   \n",
       "Poe_EurekaAProsePoem                   0.0    0.0         0.0        0.0   \n",
       "Howard_GodsoftheNorth                  0.0    0.0         0.0        0.0   \n",
       "Doyle_TheHoundoftheBaskervilles        0.0    0.0         0.0        0.0   \n",
       "Kipling_ThyServantaDog                 0.0    0.0         0.0        0.0   \n",
       "Poe_TheCaskofAmontillado               0.0    0.0         0.0        0.0   \n",
       "Doyle_AScandalinBohemia                0.0    0.0         0.0        0.0   \n",
       "Howard_SchadowsinZamboula              0.0    0.0         0.0        0.0   \n",
       "Kipling_TheJungleBook                  0.0    1.0         0.0        0.0   \n",
       "\n",
       "                                  meat-gorging  a'most  \n",
       "Lovecraft_AttheMountainofMadness           0.0     0.0  \n",
       "Howard_TheDevilinIron                      1.0     0.0  \n",
       "Poe_ThePurloinedLetter                     0.0     0.0  \n",
       "Lovecraft_TheShunnedHouse                  0.0     0.0  \n",
       "Poe_TheMasqueoftheRedDeath                 0.0     0.0  \n",
       "Doyle_TheSignoftheFour                     0.0     1.0  \n",
       "Doyle_AStudyinScarlet                      0.0     0.0  \n",
       "Howard_ShadowsintheMoonlight               0.0     0.0  \n",
       "Kipling_TheEndofthePassage                 0.0     0.0  \n",
       "Poe_EurekaAProsePoem                       0.0     0.0  \n",
       "Howard_GodsoftheNorth                      0.0     0.0  \n",
       "Doyle_TheHoundoftheBaskervilles            0.0     0.0  \n",
       "Kipling_ThyServantaDog                     0.0     0.0  \n",
       "Poe_TheCaskofAmontillado                   0.0     0.0  \n",
       "Doyle_AScandalinBohemia                    0.0     0.0  \n",
       "Howard_SchadowsinZamboula                  0.0     0.0  \n",
       "Kipling_TheJungleBook                      0.0     0.0  \n",
       "\n",
       "[17 rows x 22232 columns]"
      ]
     },
     "execution_count": 15,
     "metadata": {},
     "output_type": "execute_result"
    }
   ],
   "source": [
    "doc_terms = preprocessing.create_doc_term_matrix(tokens, document_labels)\n",
    "doc_terms"
   ]
  },
  {
   "cell_type": "markdown",
   "metadata": {
    "deletable": true,
    "editable": true
   },
   "source": [
    "### 1.4.2 Create a sparse bag-of-words model\n",
    "\n",
    "The LDA topic model is based on a bag-of-words model of the corpus. To improve performance in large corpora, actual words and document titels are replaced by indices in the actual bag-of-words model. It is therefore necessary to create dictionaries for mapping these indices in advance."
   ]
  },
  {
   "cell_type": "markdown",
   "metadata": {
    "deletable": true,
    "editable": true
   },
   "source": [
    "#### Create Dictionaries"
   ]
  },
  {
   "cell_type": "code",
   "execution_count": 16,
   "metadata": {
    "collapsed": true,
    "deletable": true,
    "editable": true
   },
   "outputs": [],
   "source": [
    "id_types = preprocessing.create_dictionary(tokens)\n",
    "doc_ids = preprocessing.create_dictionary(document_labels)"
   ]
  },
  {
   "cell_type": "markdown",
   "metadata": {
    "deletable": true,
    "editable": true
   },
   "source": [
    "#### Create matrix market"
   ]
  },
  {
   "cell_type": "code",
   "execution_count": 17,
   "metadata": {
    "collapsed": true,
    "deletable": true,
    "editable": true
   },
   "outputs": [],
   "source": [
    "sparse_bow = preprocessing.create_sparse_bow(document_labels, tokens, id_types, doc_ids)"
   ]
  },
  {
   "cell_type": "markdown",
   "metadata": {
    "collapsed": true,
    "deletable": true,
    "editable": true
   },
   "source": [
    "### 1.5. Feature selection and/or removal\n",
    "\n",
    "In topic modeling, it is often usefull (if not vital) to remove some types before modeling. In this example, the 100 most frequent words and the *hapax legomena* in the corpus are listed and removed. Alternatively, the 'feature_list' containing all features to be removed from the corpus can be replaced by, or combined with an external stop word list or any other list of strings containing features we want to remove.\n",
    "\n",
    "Note! For small/normal corpora using a doc_term_matrix (1.5.1) will be easier to handle. Using sparse_bow (1.5.2) is recommended for large corpora only."
   ]
  },
  {
   "cell_type": "markdown",
   "metadata": {
    "deletable": true,
    "editable": true
   },
   "source": [
    "### 1.5.1 Remove features from doc_term_matrix"
   ]
  },
  {
   "cell_type": "markdown",
   "metadata": {
    "deletable": true,
    "editable": true
   },
   "source": [
    "#### Removing 100 most frequent words\n",
    "\n",
    "The columns of the document-term matrix is ordered by total most frequent words. To remove the first 100 columns (and also the 100 total most frequent words), execute the following cell."
   ]
  },
  {
   "cell_type": "code",
   "execution_count": 18,
   "metadata": {
    "collapsed": false,
    "deletable": true,
    "editable": true
   },
   "outputs": [],
   "source": [
    "doc_terms = doc_terms.ix[:,100:]"
   ]
  },
  {
   "cell_type": "markdown",
   "metadata": {
    "deletable": true,
    "editable": true
   },
   "source": [
    "#### Using external stopwordlist for removing features\n",
    "\n",
    "To remove features specify the path to the stopwordlist"
   ]
  },
  {
   "cell_type": "code",
   "execution_count": 19,
   "metadata": {
    "collapsed": false,
    "deletable": true,
    "editable": true
   },
   "outputs": [],
   "source": [
    "path_to_stopwordlist = \"tutorial_supplementals/stopwords/en.txt\"\n",
    "\n",
    "extern_stopwords = [line.strip() for line in open(path_to_stopwordlist, 'r')]\n",
    "\n",
    "for word in extern_stopwords:\n",
    "    if word in doc_terms.columns:\n",
    "        doc_terms.drop([word],inplace=True,axis=1)"
   ]
  },
  {
   "cell_type": "markdown",
   "metadata": {
    "deletable": true,
    "editable": true
   },
   "source": [
    "#### Removing *hapax legomena*\n",
    "\n",
    "To remove all tokens occuring only once in a document, replace all values with zero in the matrix."
   ]
  },
  {
   "cell_type": "code",
   "execution_count": 20,
   "metadata": {
    "collapsed": true,
    "deletable": true,
    "editable": true
   },
   "outputs": [],
   "source": [
    "doc_terms = doc_terms.replace(1, 0)"
   ]
  },
  {
   "cell_type": "markdown",
   "metadata": {
    "deletable": true,
    "editable": true
   },
   "source": [
    "Finally, this is how your clean corpus looks like now."
   ]
  },
  {
   "cell_type": "code",
   "execution_count": 21,
   "metadata": {
    "collapsed": false,
    "deletable": true,
    "editable": true
   },
   "outputs": [
    {
     "data": {
      "text/html": [
       "<div>\n",
       "<table border=\"1\" class=\"dataframe\">\n",
       "  <thead>\n",
       "    <tr style=\"text-align: right;\">\n",
       "      <th></th>\n",
       "      <th>long</th>\n",
       "      <th>eyes</th>\n",
       "      <th>head</th>\n",
       "      <th>night</th>\n",
       "      <th>hand</th>\n",
       "      <th>men</th>\n",
       "      <th>face</th>\n",
       "      <th>good</th>\n",
       "      <th>house</th>\n",
       "      <th>thought</th>\n",
       "      <th>...</th>\n",
       "      <th>medii</th>\n",
       "      <th>medieval</th>\n",
       "      <th>medico-legal</th>\n",
       "      <th>median</th>\n",
       "      <th>meddling</th>\n",
       "      <th>medal</th>\n",
       "      <th>mechanized</th>\n",
       "      <th>mechanics</th>\n",
       "      <th>meat-gorging</th>\n",
       "      <th>a'most</th>\n",
       "    </tr>\n",
       "  </thead>\n",
       "  <tbody>\n",
       "    <tr>\n",
       "      <th>Lovecraft_AttheMountainofMadness</th>\n",
       "      <td>41.0</td>\n",
       "      <td>10.0</td>\n",
       "      <td>16.0</td>\n",
       "      <td>5.0</td>\n",
       "      <td>9.0</td>\n",
       "      <td>32.0</td>\n",
       "      <td>5.0</td>\n",
       "      <td>13.0</td>\n",
       "      <td>2.0</td>\n",
       "      <td>34.0</td>\n",
       "      <td>...</td>\n",
       "      <td>0.0</td>\n",
       "      <td>0.0</td>\n",
       "      <td>0.0</td>\n",
       "      <td>0.0</td>\n",
       "      <td>0.0</td>\n",
       "      <td>0.0</td>\n",
       "      <td>0.0</td>\n",
       "      <td>0.0</td>\n",
       "      <td>0.0</td>\n",
       "      <td>0.0</td>\n",
       "    </tr>\n",
       "    <tr>\n",
       "      <th>Howard_TheDevilinIron</th>\n",
       "      <td>7.0</td>\n",
       "      <td>24.0</td>\n",
       "      <td>21.0</td>\n",
       "      <td>9.0</td>\n",
       "      <td>13.0</td>\n",
       "      <td>16.0</td>\n",
       "      <td>5.0</td>\n",
       "      <td>2.0</td>\n",
       "      <td>5.0</td>\n",
       "      <td>9.0</td>\n",
       "      <td>...</td>\n",
       "      <td>0.0</td>\n",
       "      <td>0.0</td>\n",
       "      <td>0.0</td>\n",
       "      <td>0.0</td>\n",
       "      <td>0.0</td>\n",
       "      <td>0.0</td>\n",
       "      <td>0.0</td>\n",
       "      <td>0.0</td>\n",
       "      <td>0.0</td>\n",
       "      <td>0.0</td>\n",
       "    </tr>\n",
       "    <tr>\n",
       "      <th>Poe_ThePurloinedLetter</th>\n",
       "      <td>8.0</td>\n",
       "      <td>5.0</td>\n",
       "      <td>0.0</td>\n",
       "      <td>3.0</td>\n",
       "      <td>9.0</td>\n",
       "      <td>2.0</td>\n",
       "      <td>0.0</td>\n",
       "      <td>7.0</td>\n",
       "      <td>2.0</td>\n",
       "      <td>9.0</td>\n",
       "      <td>...</td>\n",
       "      <td>0.0</td>\n",
       "      <td>0.0</td>\n",
       "      <td>0.0</td>\n",
       "      <td>0.0</td>\n",
       "      <td>0.0</td>\n",
       "      <td>0.0</td>\n",
       "      <td>0.0</td>\n",
       "      <td>0.0</td>\n",
       "      <td>0.0</td>\n",
       "      <td>0.0</td>\n",
       "    </tr>\n",
       "    <tr>\n",
       "      <th>Lovecraft_TheShunnedHouse</th>\n",
       "      <td>7.0</td>\n",
       "      <td>6.0</td>\n",
       "      <td>2.0</td>\n",
       "      <td>8.0</td>\n",
       "      <td>2.0</td>\n",
       "      <td>2.0</td>\n",
       "      <td>6.0</td>\n",
       "      <td>4.0</td>\n",
       "      <td>60.0</td>\n",
       "      <td>11.0</td>\n",
       "      <td>...</td>\n",
       "      <td>0.0</td>\n",
       "      <td>0.0</td>\n",
       "      <td>0.0</td>\n",
       "      <td>0.0</td>\n",
       "      <td>0.0</td>\n",
       "      <td>0.0</td>\n",
       "      <td>0.0</td>\n",
       "      <td>0.0</td>\n",
       "      <td>0.0</td>\n",
       "      <td>0.0</td>\n",
       "    </tr>\n",
       "    <tr>\n",
       "      <th>Poe_TheMasqueoftheRedDeath</th>\n",
       "      <td>2.0</td>\n",
       "      <td>0.0</td>\n",
       "      <td>0.0</td>\n",
       "      <td>3.0</td>\n",
       "      <td>4.0</td>\n",
       "      <td>0.0</td>\n",
       "      <td>3.0</td>\n",
       "      <td>0.0</td>\n",
       "      <td>0.0</td>\n",
       "      <td>2.0</td>\n",
       "      <td>...</td>\n",
       "      <td>0.0</td>\n",
       "      <td>0.0</td>\n",
       "      <td>0.0</td>\n",
       "      <td>0.0</td>\n",
       "      <td>0.0</td>\n",
       "      <td>0.0</td>\n",
       "      <td>0.0</td>\n",
       "      <td>0.0</td>\n",
       "      <td>0.0</td>\n",
       "      <td>0.0</td>\n",
       "    </tr>\n",
       "    <tr>\n",
       "      <th>Doyle_TheSignoftheFour</th>\n",
       "      <td>45.0</td>\n",
       "      <td>37.0</td>\n",
       "      <td>33.0</td>\n",
       "      <td>63.0</td>\n",
       "      <td>54.0</td>\n",
       "      <td>32.0</td>\n",
       "      <td>50.0</td>\n",
       "      <td>41.0</td>\n",
       "      <td>29.0</td>\n",
       "      <td>47.0</td>\n",
       "      <td>...</td>\n",
       "      <td>0.0</td>\n",
       "      <td>0.0</td>\n",
       "      <td>0.0</td>\n",
       "      <td>0.0</td>\n",
       "      <td>0.0</td>\n",
       "      <td>0.0</td>\n",
       "      <td>0.0</td>\n",
       "      <td>0.0</td>\n",
       "      <td>0.0</td>\n",
       "      <td>0.0</td>\n",
       "    </tr>\n",
       "    <tr>\n",
       "      <th>Doyle_AStudyinScarlet</th>\n",
       "      <td>52.0</td>\n",
       "      <td>59.0</td>\n",
       "      <td>28.0</td>\n",
       "      <td>35.0</td>\n",
       "      <td>57.0</td>\n",
       "      <td>31.0</td>\n",
       "      <td>67.0</td>\n",
       "      <td>31.0</td>\n",
       "      <td>42.0</td>\n",
       "      <td>37.0</td>\n",
       "      <td>...</td>\n",
       "      <td>0.0</td>\n",
       "      <td>0.0</td>\n",
       "      <td>0.0</td>\n",
       "      <td>0.0</td>\n",
       "      <td>0.0</td>\n",
       "      <td>0.0</td>\n",
       "      <td>0.0</td>\n",
       "      <td>0.0</td>\n",
       "      <td>0.0</td>\n",
       "      <td>0.0</td>\n",
       "    </tr>\n",
       "    <tr>\n",
       "      <th>Howard_ShadowsintheMoonlight</th>\n",
       "      <td>19.0</td>\n",
       "      <td>34.0</td>\n",
       "      <td>18.0</td>\n",
       "      <td>11.0</td>\n",
       "      <td>21.0</td>\n",
       "      <td>14.0</td>\n",
       "      <td>12.0</td>\n",
       "      <td>3.0</td>\n",
       "      <td>0.0</td>\n",
       "      <td>8.0</td>\n",
       "      <td>...</td>\n",
       "      <td>0.0</td>\n",
       "      <td>0.0</td>\n",
       "      <td>0.0</td>\n",
       "      <td>0.0</td>\n",
       "      <td>0.0</td>\n",
       "      <td>0.0</td>\n",
       "      <td>0.0</td>\n",
       "      <td>0.0</td>\n",
       "      <td>0.0</td>\n",
       "      <td>0.0</td>\n",
       "    </tr>\n",
       "    <tr>\n",
       "      <th>Kipling_TheEndofthePassage</th>\n",
       "      <td>9.0</td>\n",
       "      <td>14.0</td>\n",
       "      <td>12.0</td>\n",
       "      <td>6.0</td>\n",
       "      <td>9.0</td>\n",
       "      <td>10.0</td>\n",
       "      <td>16.0</td>\n",
       "      <td>16.0</td>\n",
       "      <td>4.0</td>\n",
       "      <td>6.0</td>\n",
       "      <td>...</td>\n",
       "      <td>0.0</td>\n",
       "      <td>0.0</td>\n",
       "      <td>0.0</td>\n",
       "      <td>0.0</td>\n",
       "      <td>0.0</td>\n",
       "      <td>0.0</td>\n",
       "      <td>0.0</td>\n",
       "      <td>0.0</td>\n",
       "      <td>0.0</td>\n",
       "      <td>0.0</td>\n",
       "    </tr>\n",
       "    <tr>\n",
       "      <th>Poe_EurekaAProsePoem</th>\n",
       "      <td>26.0</td>\n",
       "      <td>9.0</td>\n",
       "      <td>0.0</td>\n",
       "      <td>3.0</td>\n",
       "      <td>12.0</td>\n",
       "      <td>9.0</td>\n",
       "      <td>4.0</td>\n",
       "      <td>5.0</td>\n",
       "      <td>0.0</td>\n",
       "      <td>26.0</td>\n",
       "      <td>...</td>\n",
       "      <td>0.0</td>\n",
       "      <td>0.0</td>\n",
       "      <td>0.0</td>\n",
       "      <td>0.0</td>\n",
       "      <td>0.0</td>\n",
       "      <td>0.0</td>\n",
       "      <td>0.0</td>\n",
       "      <td>0.0</td>\n",
       "      <td>0.0</td>\n",
       "      <td>0.0</td>\n",
       "    </tr>\n",
       "    <tr>\n",
       "      <th>Howard_GodsoftheNorth</th>\n",
       "      <td>3.0</td>\n",
       "      <td>12.0</td>\n",
       "      <td>5.0</td>\n",
       "      <td>0.0</td>\n",
       "      <td>3.0</td>\n",
       "      <td>6.0</td>\n",
       "      <td>3.0</td>\n",
       "      <td>0.0</td>\n",
       "      <td>0.0</td>\n",
       "      <td>3.0</td>\n",
       "      <td>...</td>\n",
       "      <td>0.0</td>\n",
       "      <td>0.0</td>\n",
       "      <td>0.0</td>\n",
       "      <td>0.0</td>\n",
       "      <td>0.0</td>\n",
       "      <td>0.0</td>\n",
       "      <td>0.0</td>\n",
       "      <td>0.0</td>\n",
       "      <td>0.0</td>\n",
       "      <td>0.0</td>\n",
       "    </tr>\n",
       "    <tr>\n",
       "      <th>Doyle_TheHoundoftheBaskervilles</th>\n",
       "      <td>69.0</td>\n",
       "      <td>71.0</td>\n",
       "      <td>32.0</td>\n",
       "      <td>70.0</td>\n",
       "      <td>39.0</td>\n",
       "      <td>14.0</td>\n",
       "      <td>77.0</td>\n",
       "      <td>61.0</td>\n",
       "      <td>67.0</td>\n",
       "      <td>42.0</td>\n",
       "      <td>...</td>\n",
       "      <td>0.0</td>\n",
       "      <td>0.0</td>\n",
       "      <td>0.0</td>\n",
       "      <td>0.0</td>\n",
       "      <td>0.0</td>\n",
       "      <td>0.0</td>\n",
       "      <td>0.0</td>\n",
       "      <td>0.0</td>\n",
       "      <td>0.0</td>\n",
       "      <td>0.0</td>\n",
       "    </tr>\n",
       "    <tr>\n",
       "      <th>Kipling_ThyServantaDog</th>\n",
       "      <td>38.0</td>\n",
       "      <td>13.0</td>\n",
       "      <td>36.0</td>\n",
       "      <td>19.0</td>\n",
       "      <td>21.0</td>\n",
       "      <td>8.0</td>\n",
       "      <td>13.0</td>\n",
       "      <td>28.0</td>\n",
       "      <td>27.0</td>\n",
       "      <td>20.0</td>\n",
       "      <td>...</td>\n",
       "      <td>0.0</td>\n",
       "      <td>0.0</td>\n",
       "      <td>0.0</td>\n",
       "      <td>0.0</td>\n",
       "      <td>0.0</td>\n",
       "      <td>0.0</td>\n",
       "      <td>0.0</td>\n",
       "      <td>0.0</td>\n",
       "      <td>0.0</td>\n",
       "      <td>0.0</td>\n",
       "    </tr>\n",
       "    <tr>\n",
       "      <th>Poe_TheCaskofAmontillado</th>\n",
       "      <td>5.0</td>\n",
       "      <td>3.0</td>\n",
       "      <td>2.0</td>\n",
       "      <td>0.0</td>\n",
       "      <td>3.0</td>\n",
       "      <td>0.0</td>\n",
       "      <td>0.0</td>\n",
       "      <td>4.0</td>\n",
       "      <td>0.0</td>\n",
       "      <td>3.0</td>\n",
       "      <td>...</td>\n",
       "      <td>0.0</td>\n",
       "      <td>0.0</td>\n",
       "      <td>0.0</td>\n",
       "      <td>0.0</td>\n",
       "      <td>0.0</td>\n",
       "      <td>0.0</td>\n",
       "      <td>0.0</td>\n",
       "      <td>0.0</td>\n",
       "      <td>0.0</td>\n",
       "      <td>0.0</td>\n",
       "    </tr>\n",
       "    <tr>\n",
       "      <th>Doyle_AScandalinBohemia</th>\n",
       "      <td>5.0</td>\n",
       "      <td>9.0</td>\n",
       "      <td>2.0</td>\n",
       "      <td>4.0</td>\n",
       "      <td>13.0</td>\n",
       "      <td>7.0</td>\n",
       "      <td>10.0</td>\n",
       "      <td>9.0</td>\n",
       "      <td>14.0</td>\n",
       "      <td>4.0</td>\n",
       "      <td>...</td>\n",
       "      <td>0.0</td>\n",
       "      <td>0.0</td>\n",
       "      <td>0.0</td>\n",
       "      <td>0.0</td>\n",
       "      <td>0.0</td>\n",
       "      <td>0.0</td>\n",
       "      <td>0.0</td>\n",
       "      <td>0.0</td>\n",
       "      <td>0.0</td>\n",
       "      <td>0.0</td>\n",
       "    </tr>\n",
       "    <tr>\n",
       "      <th>Howard_SchadowsinZamboula</th>\n",
       "      <td>7.0</td>\n",
       "      <td>31.0</td>\n",
       "      <td>21.0</td>\n",
       "      <td>15.0</td>\n",
       "      <td>24.0</td>\n",
       "      <td>24.0</td>\n",
       "      <td>12.0</td>\n",
       "      <td>4.0</td>\n",
       "      <td>15.0</td>\n",
       "      <td>4.0</td>\n",
       "      <td>...</td>\n",
       "      <td>0.0</td>\n",
       "      <td>0.0</td>\n",
       "      <td>0.0</td>\n",
       "      <td>0.0</td>\n",
       "      <td>0.0</td>\n",
       "      <td>0.0</td>\n",
       "      <td>0.0</td>\n",
       "      <td>0.0</td>\n",
       "      <td>0.0</td>\n",
       "      <td>0.0</td>\n",
       "    </tr>\n",
       "    <tr>\n",
       "      <th>Kipling_TheJungleBook</th>\n",
       "      <td>73.0</td>\n",
       "      <td>68.0</td>\n",
       "      <td>129.0</td>\n",
       "      <td>74.0</td>\n",
       "      <td>16.0</td>\n",
       "      <td>95.0</td>\n",
       "      <td>16.0</td>\n",
       "      <td>72.0</td>\n",
       "      <td>23.0</td>\n",
       "      <td>24.0</td>\n",
       "      <td>...</td>\n",
       "      <td>0.0</td>\n",
       "      <td>0.0</td>\n",
       "      <td>0.0</td>\n",
       "      <td>0.0</td>\n",
       "      <td>0.0</td>\n",
       "      <td>0.0</td>\n",
       "      <td>0.0</td>\n",
       "      <td>0.0</td>\n",
       "      <td>0.0</td>\n",
       "      <td>0.0</td>\n",
       "    </tr>\n",
       "  </tbody>\n",
       "</table>\n",
       "<p>17 rows × 21676 columns</p>\n",
       "</div>"
      ],
      "text/plain": [
       "                                  long  eyes   head  night  hand   men  face  \\\n",
       "Lovecraft_AttheMountainofMadness  41.0  10.0   16.0    5.0   9.0  32.0   5.0   \n",
       "Howard_TheDevilinIron              7.0  24.0   21.0    9.0  13.0  16.0   5.0   \n",
       "Poe_ThePurloinedLetter             8.0   5.0    0.0    3.0   9.0   2.0   0.0   \n",
       "Lovecraft_TheShunnedHouse          7.0   6.0    2.0    8.0   2.0   2.0   6.0   \n",
       "Poe_TheMasqueoftheRedDeath         2.0   0.0    0.0    3.0   4.0   0.0   3.0   \n",
       "Doyle_TheSignoftheFour            45.0  37.0   33.0   63.0  54.0  32.0  50.0   \n",
       "Doyle_AStudyinScarlet             52.0  59.0   28.0   35.0  57.0  31.0  67.0   \n",
       "Howard_ShadowsintheMoonlight      19.0  34.0   18.0   11.0  21.0  14.0  12.0   \n",
       "Kipling_TheEndofthePassage         9.0  14.0   12.0    6.0   9.0  10.0  16.0   \n",
       "Poe_EurekaAProsePoem              26.0   9.0    0.0    3.0  12.0   9.0   4.0   \n",
       "Howard_GodsoftheNorth              3.0  12.0    5.0    0.0   3.0   6.0   3.0   \n",
       "Doyle_TheHoundoftheBaskervilles   69.0  71.0   32.0   70.0  39.0  14.0  77.0   \n",
       "Kipling_ThyServantaDog            38.0  13.0   36.0   19.0  21.0   8.0  13.0   \n",
       "Poe_TheCaskofAmontillado           5.0   3.0    2.0    0.0   3.0   0.0   0.0   \n",
       "Doyle_AScandalinBohemia            5.0   9.0    2.0    4.0  13.0   7.0  10.0   \n",
       "Howard_SchadowsinZamboula          7.0  31.0   21.0   15.0  24.0  24.0  12.0   \n",
       "Kipling_TheJungleBook             73.0  68.0  129.0   74.0  16.0  95.0  16.0   \n",
       "\n",
       "                                  good  house  thought   ...    medii  \\\n",
       "Lovecraft_AttheMountainofMadness  13.0    2.0     34.0   ...      0.0   \n",
       "Howard_TheDevilinIron              2.0    5.0      9.0   ...      0.0   \n",
       "Poe_ThePurloinedLetter             7.0    2.0      9.0   ...      0.0   \n",
       "Lovecraft_TheShunnedHouse          4.0   60.0     11.0   ...      0.0   \n",
       "Poe_TheMasqueoftheRedDeath         0.0    0.0      2.0   ...      0.0   \n",
       "Doyle_TheSignoftheFour            41.0   29.0     47.0   ...      0.0   \n",
       "Doyle_AStudyinScarlet             31.0   42.0     37.0   ...      0.0   \n",
       "Howard_ShadowsintheMoonlight       3.0    0.0      8.0   ...      0.0   \n",
       "Kipling_TheEndofthePassage        16.0    4.0      6.0   ...      0.0   \n",
       "Poe_EurekaAProsePoem               5.0    0.0     26.0   ...      0.0   \n",
       "Howard_GodsoftheNorth              0.0    0.0      3.0   ...      0.0   \n",
       "Doyle_TheHoundoftheBaskervilles   61.0   67.0     42.0   ...      0.0   \n",
       "Kipling_ThyServantaDog            28.0   27.0     20.0   ...      0.0   \n",
       "Poe_TheCaskofAmontillado           4.0    0.0      3.0   ...      0.0   \n",
       "Doyle_AScandalinBohemia            9.0   14.0      4.0   ...      0.0   \n",
       "Howard_SchadowsinZamboula          4.0   15.0      4.0   ...      0.0   \n",
       "Kipling_TheJungleBook             72.0   23.0     24.0   ...      0.0   \n",
       "\n",
       "                                  medieval  medico-legal  median  meddling  \\\n",
       "Lovecraft_AttheMountainofMadness       0.0           0.0     0.0       0.0   \n",
       "Howard_TheDevilinIron                  0.0           0.0     0.0       0.0   \n",
       "Poe_ThePurloinedLetter                 0.0           0.0     0.0       0.0   \n",
       "Lovecraft_TheShunnedHouse              0.0           0.0     0.0       0.0   \n",
       "Poe_TheMasqueoftheRedDeath             0.0           0.0     0.0       0.0   \n",
       "Doyle_TheSignoftheFour                 0.0           0.0     0.0       0.0   \n",
       "Doyle_AStudyinScarlet                  0.0           0.0     0.0       0.0   \n",
       "Howard_ShadowsintheMoonlight           0.0           0.0     0.0       0.0   \n",
       "Kipling_TheEndofthePassage             0.0           0.0     0.0       0.0   \n",
       "Poe_EurekaAProsePoem                   0.0           0.0     0.0       0.0   \n",
       "Howard_GodsoftheNorth                  0.0           0.0     0.0       0.0   \n",
       "Doyle_TheHoundoftheBaskervilles        0.0           0.0     0.0       0.0   \n",
       "Kipling_ThyServantaDog                 0.0           0.0     0.0       0.0   \n",
       "Poe_TheCaskofAmontillado               0.0           0.0     0.0       0.0   \n",
       "Doyle_AScandalinBohemia                0.0           0.0     0.0       0.0   \n",
       "Howard_SchadowsinZamboula              0.0           0.0     0.0       0.0   \n",
       "Kipling_TheJungleBook                  0.0           0.0     0.0       0.0   \n",
       "\n",
       "                                  medal  mechanized  mechanics  meat-gorging  \\\n",
       "Lovecraft_AttheMountainofMadness    0.0         0.0        0.0           0.0   \n",
       "Howard_TheDevilinIron               0.0         0.0        0.0           0.0   \n",
       "Poe_ThePurloinedLetter              0.0         0.0        0.0           0.0   \n",
       "Lovecraft_TheShunnedHouse           0.0         0.0        0.0           0.0   \n",
       "Poe_TheMasqueoftheRedDeath          0.0         0.0        0.0           0.0   \n",
       "Doyle_TheSignoftheFour              0.0         0.0        0.0           0.0   \n",
       "Doyle_AStudyinScarlet               0.0         0.0        0.0           0.0   \n",
       "Howard_ShadowsintheMoonlight        0.0         0.0        0.0           0.0   \n",
       "Kipling_TheEndofthePassage          0.0         0.0        0.0           0.0   \n",
       "Poe_EurekaAProsePoem                0.0         0.0        0.0           0.0   \n",
       "Howard_GodsoftheNorth               0.0         0.0        0.0           0.0   \n",
       "Doyle_TheHoundoftheBaskervilles     0.0         0.0        0.0           0.0   \n",
       "Kipling_ThyServantaDog              0.0         0.0        0.0           0.0   \n",
       "Poe_TheCaskofAmontillado            0.0         0.0        0.0           0.0   \n",
       "Doyle_AScandalinBohemia             0.0         0.0        0.0           0.0   \n",
       "Howard_SchadowsinZamboula           0.0         0.0        0.0           0.0   \n",
       "Kipling_TheJungleBook               0.0         0.0        0.0           0.0   \n",
       "\n",
       "                                  a'most  \n",
       "Lovecraft_AttheMountainofMadness     0.0  \n",
       "Howard_TheDevilinIron                0.0  \n",
       "Poe_ThePurloinedLetter               0.0  \n",
       "Lovecraft_TheShunnedHouse            0.0  \n",
       "Poe_TheMasqueoftheRedDeath           0.0  \n",
       "Doyle_TheSignoftheFour               0.0  \n",
       "Doyle_AStudyinScarlet                0.0  \n",
       "Howard_ShadowsintheMoonlight         0.0  \n",
       "Kipling_TheEndofthePassage           0.0  \n",
       "Poe_EurekaAProsePoem                 0.0  \n",
       "Howard_GodsoftheNorth                0.0  \n",
       "Doyle_TheHoundoftheBaskervilles      0.0  \n",
       "Kipling_ThyServantaDog               0.0  \n",
       "Poe_TheCaskofAmontillado             0.0  \n",
       "Doyle_AScandalinBohemia              0.0  \n",
       "Howard_SchadowsinZamboula            0.0  \n",
       "Kipling_TheJungleBook                0.0  \n",
       "\n",
       "[17 rows x 21676 columns]"
      ]
     },
     "execution_count": 21,
     "metadata": {},
     "output_type": "execute_result"
    }
   ],
   "source": [
    "doc_terms"
   ]
  },
  {
   "cell_type": "markdown",
   "metadata": {
    "deletable": true,
    "editable": true
   },
   "source": [
    "### 1.5.2 Remove features from sparse_bow"
   ]
  },
  {
   "cell_type": "markdown",
   "metadata": {
    "deletable": true,
    "editable": true
   },
   "source": [
    "#### List the 100 most frequent words"
   ]
  },
  {
   "cell_type": "code",
   "execution_count": 22,
   "metadata": {
    "collapsed": true,
    "deletable": true,
    "editable": true
   },
   "outputs": [],
   "source": [
    "mfw100 = preprocessing.find_stopwords(sparse_bow, id_types, 100)"
   ]
  },
  {
   "cell_type": "markdown",
   "metadata": {
    "deletable": true,
    "editable": true
   },
   "source": [
    "These are the five most frequent words:"
   ]
  },
  {
   "cell_type": "code",
   "execution_count": 23,
   "metadata": {
    "collapsed": false,
    "deletable": true,
    "editable": true
   },
   "outputs": [
    {
     "data": {
      "text/plain": [
       "['the', 'and', 'of', 'to', 'in']"
      ]
     },
     "execution_count": 23,
     "metadata": {},
     "output_type": "execute_result"
    }
   ],
   "source": [
    "mfw100[:5]"
   ]
  },
  {
   "cell_type": "markdown",
   "metadata": {
    "deletable": true,
    "editable": true
   },
   "source": [
    "#### List hapax legomena"
   ]
  },
  {
   "cell_type": "code",
   "execution_count": 24,
   "metadata": {
    "collapsed": true,
    "deletable": true,
    "editable": true
   },
   "outputs": [],
   "source": [
    "hapax_list = preprocessing.find_hapax(sparse_bow, id_types)"
   ]
  },
  {
   "cell_type": "markdown",
   "metadata": {
    "deletable": true,
    "editable": true
   },
   "source": [
    "#### Combine lists and remove content from bag-of-words model"
   ]
  },
  {
   "cell_type": "code",
   "execution_count": 25,
   "metadata": {
    "collapsed": true,
    "deletable": true,
    "editable": true
   },
   "outputs": [],
   "source": [
    "feature_list = set(mfw100).union(hapax_list)"
   ]
  },
  {
   "cell_type": "markdown",
   "metadata": {
    "deletable": true,
    "editable": true
   },
   "source": [
    "#### Remove features from files"
   ]
  },
  {
   "cell_type": "code",
   "execution_count": 26,
   "metadata": {
    "collapsed": true,
    "deletable": true,
    "editable": true
   },
   "outputs": [],
   "source": [
    "tokens_cleaned = []\n",
    "\n",
    "for document in tokens:\n",
    "    document_clean = preprocessing.remove_features_from_file(document, feature_list)\n",
    "    tokens_cleaned.append(list(document_clean))"
   ]
  },
  {
   "cell_type": "markdown",
   "metadata": {
    "deletable": true,
    "editable": true
   },
   "source": [
    "#### Write MALLET import files"
   ]
  },
  {
   "cell_type": "code",
   "execution_count": 27,
   "metadata": {
    "collapsed": true,
    "deletable": true,
    "editable": true
   },
   "outputs": [],
   "source": [
    "preprocessing.create_mallet_import(tokens_cleaned, document_labels)"
   ]
  },
  {
   "cell_type": "markdown",
   "metadata": {
    "deletable": true,
    "editable": true
   },
   "source": [
    "## 1. Setting the parameters"
   ]
  },
  {
   "cell_type": "markdown",
   "metadata": {
    "deletable": true,
    "editable": true
   },
   "source": [
    "#### Define path to corpus folder"
   ]
  },
  {
   "cell_type": "code",
   "execution_count": 28,
   "metadata": {
    "collapsed": true,
    "deletable": true,
    "editable": true
   },
   "outputs": [],
   "source": [
    "path_to_corpus = \"tutorial_supplementals/mallet_input\""
   ]
  },
  {
   "cell_type": "markdown",
   "metadata": {
    "deletable": true,
    "editable": true
   },
   "source": [
    "#### Path to mallet folder \n",
    "\n",
    "Now we must tell the library where to find the local instance of mallet. If you managed to install Mallet, it is sufficient set `path_to_mallet = \"mallet\"`, if you just store Mallet in a local folder, you have to specify the path to the binary explictly."
   ]
  },
  {
   "cell_type": "code",
   "execution_count": 29,
   "metadata": {
    "collapsed": true,
    "deletable": true,
    "editable": true
   },
   "outputs": [],
   "source": [
    "#path_to_mallet = \"/home/sina/mallet-2.0.8/bin/mallet\"\n",
    "#path_to_mallet = \"/Users/severin/Documents/dariah/app/mallet/bin/mallet\"\n",
    "path_to_mallet = 'mallet'"
   ]
  },
  {
   "cell_type": "markdown",
   "metadata": {
    "deletable": true,
    "editable": true
   },
   "source": [
    "#### Output folder"
   ]
  },
  {
   "cell_type": "code",
   "execution_count": 30,
   "metadata": {
    "collapsed": true,
    "deletable": true,
    "editable": true
   },
   "outputs": [],
   "source": [
    "outfolder = \"tutorial_supplementals/mallet_output\"\n",
    "binary = \"tutorial_supplementals/mallet_output/binary.mallet\""
   ]
  },
  {
   "cell_type": "markdown",
   "metadata": {
    "deletable": true,
    "editable": true
   },
   "source": [
    "#### The Mallet corpus model\n",
    "\n",
    "Finally, we can give all these folder paths to a Mallet function that handles all the preprocessing steps and creates a Mallet-specific corpus model object."
   ]
  },
  {
   "cell_type": "code",
   "execution_count": 31,
   "metadata": {
    "collapsed": false,
    "deletable": true,
    "editable": true
   },
   "outputs": [
    {
     "name": "stdout",
     "output_type": "stream",
     "text": [
      "CPU times: user 0 ns, sys: 4 ms, total: 4 ms\n",
      "Wall time: 66.9 ms\n"
     ]
    }
   ],
   "source": [
    "%%time\n",
    "\n",
    "mallet_binary = mallet.create_mallet_binary(path_to_mallet=path_to_mallet,\n",
    "                                            path_to_corpus=path_to_corpus,\n",
    "                                            output_file=binary)"
   ]
  },
  {
   "cell_type": "markdown",
   "metadata": {
    "deletable": true,
    "editable": true
   },
   "source": [
    "## 2. Model creation"
   ]
  },
  {
   "cell_type": "markdown",
   "metadata": {
    "deletable": true,
    "editable": true
   },
   "source": [
    "We can define the number of topics we want to calculate as an argument (`num_topics`) in the function. Furthermore, the number of iterations (`num_iterations`) can be defined. A higher number of iterations will probably yield a better model, but also increases processing time.\n",
    "\n",
    "**Warning: this step can take quite a while!** Meaning something between some seconds and some hours depending on corpus size and the number of iterations. Our example short stories corpus should be done within a minute or two at `num_iterations=5000`."
   ]
  },
  {
   "cell_type": "code",
   "execution_count": 32,
   "metadata": {
    "collapsed": false,
    "deletable": true,
    "editable": true,
    "scrolled": false
   },
   "outputs": [
    {
     "name": "stdout",
     "output_type": "stream",
     "text": [
      "CPU times: user 0 ns, sys: 4 ms, total: 4 ms\n",
      "Wall time: 65.5 ms\n"
     ]
    }
   ],
   "source": [
    "%%time\n",
    "\n",
    "mallet.create_mallet_model(path_to_mallet=path_to_mallet, \n",
    "                           path_to_binary=mallet_binary, \n",
    "                           folder_for_output=outfolder,\n",
    "                           num_iterations=5000,\n",
    "                           num_topics=10)"
   ]
  },
  {
   "cell_type": "markdown",
   "metadata": {
    "deletable": true,
    "editable": true
   },
   "source": [
    "### 2.4. Create document-topic matrix\n",
    "\n",
    "The generated model object can now be translated into a human-readable document-topic matrix (that is a actually a pandas data frame) that constitutes our principle exchange format for topic modeling results. For generating the matrix from a Gensim model, we can use the following function:"
   ]
  },
  {
   "cell_type": "code",
   "execution_count": 33,
   "metadata": {
    "collapsed": false,
    "deletable": true,
    "editable": true
   },
   "outputs": [
    {
     "data": {
      "text/html": [
       "<div>\n",
       "<table border=\"1\" class=\"dataframe\">\n",
       "  <thead>\n",
       "    <tr style=\"text-align: right;\">\n",
       "      <th></th>\n",
       "      <th>Doyle_AScandalinBohemia.txt</th>\n",
       "      <th>Doyle_AStudyinScarlet.txt</th>\n",
       "      <th>Doyle_TheHoundoftheBaskervilles.txt</th>\n",
       "      <th>Doyle_TheSignoftheFour.txt</th>\n",
       "      <th>Howard_GodsoftheNorth.txt</th>\n",
       "      <th>Howard_SchadowsinZamboula.txt</th>\n",
       "      <th>Howard_ShadowsintheMoonlight.txt</th>\n",
       "      <th>Howard_TheDevilinIron.txt</th>\n",
       "      <th>Kipling_TheEndofthePassage.txt</th>\n",
       "      <th>Kipling_TheJungleBook.txt</th>\n",
       "      <th>Kipling_ThyServantaDog.txt</th>\n",
       "      <th>Lovecraft_AttheMountainofMadness.txt</th>\n",
       "      <th>Lovecraft_TheShunnedHouse.txt</th>\n",
       "      <th>Poe_EurekaAProsePoem.txt</th>\n",
       "      <th>Poe_TheCaskofAmontillado.txt</th>\n",
       "      <th>Poe_TheMasqueoftheRedDeath.txt</th>\n",
       "      <th>Poe_ThePurloinedLetter.txt</th>\n",
       "    </tr>\n",
       "  </thead>\n",
       "  <tbody>\n",
       "    <tr>\n",
       "      <th>mowgli jungle bagheera</th>\n",
       "      <td>0.007239</td>\n",
       "      <td>0.005834</td>\n",
       "      <td>0.001906</td>\n",
       "      <td>0.006502</td>\n",
       "      <td>0.018899</td>\n",
       "      <td>0.015961</td>\n",
       "      <td>0.027599</td>\n",
       "      <td>0.016670</td>\n",
       "      <td>0.033981</td>\n",
       "      <td>0.513363</td>\n",
       "      <td>0.021671</td>\n",
       "      <td>0.004314</td>\n",
       "      <td>0.008742</td>\n",
       "      <td>0.000105</td>\n",
       "      <td>0.015482</td>\n",
       "      <td>0.000522</td>\n",
       "      <td>0.000198</td>\n",
       "    </tr>\n",
       "    <tr>\n",
       "      <th>conan door hand</th>\n",
       "      <td>0.027104</td>\n",
       "      <td>0.025789</td>\n",
       "      <td>0.024035</td>\n",
       "      <td>0.034378</td>\n",
       "      <td>0.562666</td>\n",
       "      <td>0.549526</td>\n",
       "      <td>0.535393</td>\n",
       "      <td>0.522038</td>\n",
       "      <td>0.032307</td>\n",
       "      <td>0.028596</td>\n",
       "      <td>0.012425</td>\n",
       "      <td>0.017009</td>\n",
       "      <td>0.049821</td>\n",
       "      <td>0.001918</td>\n",
       "      <td>0.036124</td>\n",
       "      <td>0.332463</td>\n",
       "      <td>0.010123</td>\n",
       "    </tr>\n",
       "    <tr>\n",
       "      <th>room answered asked</th>\n",
       "      <td>0.336869</td>\n",
       "      <td>0.347689</td>\n",
       "      <td>0.083589</td>\n",
       "      <td>0.136145</td>\n",
       "      <td>0.000995</td>\n",
       "      <td>0.015779</td>\n",
       "      <td>0.011645</td>\n",
       "      <td>0.009889</td>\n",
       "      <td>0.042685</td>\n",
       "      <td>0.008452</td>\n",
       "      <td>0.020102</td>\n",
       "      <td>0.011404</td>\n",
       "      <td>0.051928</td>\n",
       "      <td>0.009240</td>\n",
       "      <td>0.314794</td>\n",
       "      <td>0.096555</td>\n",
       "      <td>0.417825</td>\n",
       "    </tr>\n",
       "    <tr>\n",
       "      <th>place years thing</th>\n",
       "      <td>0.073906</td>\n",
       "      <td>0.080682</td>\n",
       "      <td>0.079332</td>\n",
       "      <td>0.066989</td>\n",
       "      <td>0.032825</td>\n",
       "      <td>0.045148</td>\n",
       "      <td>0.038419</td>\n",
       "      <td>0.074308</td>\n",
       "      <td>0.081520</td>\n",
       "      <td>0.006856</td>\n",
       "      <td>0.026129</td>\n",
       "      <td>0.180397</td>\n",
       "      <td>0.486096</td>\n",
       "      <td>0.087901</td>\n",
       "      <td>0.125573</td>\n",
       "      <td>0.170668</td>\n",
       "      <td>0.106987</td>\n",
       "    </tr>\n",
       "    <tr>\n",
       "      <th>back great found</th>\n",
       "      <td>0.210943</td>\n",
       "      <td>0.261364</td>\n",
       "      <td>0.279431</td>\n",
       "      <td>0.250584</td>\n",
       "      <td>0.286804</td>\n",
       "      <td>0.270613</td>\n",
       "      <td>0.267284</td>\n",
       "      <td>0.265493</td>\n",
       "      <td>0.176599</td>\n",
       "      <td>0.198379</td>\n",
       "      <td>0.149055</td>\n",
       "      <td>0.181386</td>\n",
       "      <td>0.165684</td>\n",
       "      <td>0.055962</td>\n",
       "      <td>0.307913</td>\n",
       "      <td>0.234342</td>\n",
       "      <td>0.125645</td>\n",
       "    </tr>\n",
       "    <tr>\n",
       "      <th>lake camp feet</th>\n",
       "      <td>0.003199</td>\n",
       "      <td>0.016226</td>\n",
       "      <td>0.008243</td>\n",
       "      <td>0.010170</td>\n",
       "      <td>0.056698</td>\n",
       "      <td>0.017603</td>\n",
       "      <td>0.028883</td>\n",
       "      <td>0.034187</td>\n",
       "      <td>0.020589</td>\n",
       "      <td>0.003615</td>\n",
       "      <td>0.002931</td>\n",
       "      <td>0.511459</td>\n",
       "      <td>0.079313</td>\n",
       "      <td>0.010774</td>\n",
       "      <td>0.036124</td>\n",
       "      <td>0.034969</td>\n",
       "      <td>0.014093</td>\n",
       "    </tr>\n",
       "    <tr>\n",
       "      <th>point centre fact</th>\n",
       "      <td>0.021717</td>\n",
       "      <td>0.027957</td>\n",
       "      <td>0.022054</td>\n",
       "      <td>0.027576</td>\n",
       "      <td>0.003647</td>\n",
       "      <td>0.011401</td>\n",
       "      <td>0.007244</td>\n",
       "      <td>0.017235</td>\n",
       "      <td>0.022598</td>\n",
       "      <td>0.002568</td>\n",
       "      <td>0.008297</td>\n",
       "      <td>0.062129</td>\n",
       "      <td>0.057405</td>\n",
       "      <td>0.817957</td>\n",
       "      <td>0.078555</td>\n",
       "      <td>0.053758</td>\n",
       "      <td>0.228464</td>\n",
       "    </tr>\n",
       "    <tr>\n",
       "      <th>ravager smallest dog</th>\n",
       "      <td>0.001852</td>\n",
       "      <td>0.004176</td>\n",
       "      <td>0.002649</td>\n",
       "      <td>0.006836</td>\n",
       "      <td>0.000332</td>\n",
       "      <td>0.001551</td>\n",
       "      <td>0.005777</td>\n",
       "      <td>0.003485</td>\n",
       "      <td>0.009207</td>\n",
       "      <td>0.003067</td>\n",
       "      <td>0.564394</td>\n",
       "      <td>0.001511</td>\n",
       "      <td>0.009585</td>\n",
       "      <td>0.000035</td>\n",
       "      <td>0.001720</td>\n",
       "      <td>0.000522</td>\n",
       "      <td>0.002580</td>\n",
       "    </tr>\n",
       "    <tr>\n",
       "      <th>sir holmes man</th>\n",
       "      <td>0.136195</td>\n",
       "      <td>0.071693</td>\n",
       "      <td>0.375124</td>\n",
       "      <td>0.259587</td>\n",
       "      <td>0.010279</td>\n",
       "      <td>0.002098</td>\n",
       "      <td>0.003026</td>\n",
       "      <td>0.000094</td>\n",
       "      <td>0.025276</td>\n",
       "      <td>0.001321</td>\n",
       "      <td>0.014158</td>\n",
       "      <td>0.004314</td>\n",
       "      <td>0.031283</td>\n",
       "      <td>0.005335</td>\n",
       "      <td>0.023509</td>\n",
       "      <td>0.032881</td>\n",
       "      <td>0.018857</td>\n",
       "    </tr>\n",
       "    <tr>\n",
       "      <th>man good don't</th>\n",
       "      <td>0.180976</td>\n",
       "      <td>0.158591</td>\n",
       "      <td>0.123639</td>\n",
       "      <td>0.201234</td>\n",
       "      <td>0.026857</td>\n",
       "      <td>0.070321</td>\n",
       "      <td>0.074730</td>\n",
       "      <td>0.056602</td>\n",
       "      <td>0.555239</td>\n",
       "      <td>0.233782</td>\n",
       "      <td>0.180839</td>\n",
       "      <td>0.026077</td>\n",
       "      <td>0.060143</td>\n",
       "      <td>0.010774</td>\n",
       "      <td>0.060206</td>\n",
       "      <td>0.043319</td>\n",
       "      <td>0.075228</td>\n",
       "    </tr>\n",
       "  </tbody>\n",
       "</table>\n",
       "</div>"
      ],
      "text/plain": [
       "                        Doyle_AScandalinBohemia.txt  \\\n",
       "mowgli jungle bagheera                     0.007239   \n",
       "conan door hand                            0.027104   \n",
       "room answered asked                        0.336869   \n",
       "place years thing                          0.073906   \n",
       "back great found                           0.210943   \n",
       "lake camp feet                             0.003199   \n",
       "point centre fact                          0.021717   \n",
       "ravager smallest dog                       0.001852   \n",
       "sir holmes man                             0.136195   \n",
       "man good don't                             0.180976   \n",
       "\n",
       "                        Doyle_AStudyinScarlet.txt  \\\n",
       "mowgli jungle bagheera                   0.005834   \n",
       "conan door hand                          0.025789   \n",
       "room answered asked                      0.347689   \n",
       "place years thing                        0.080682   \n",
       "back great found                         0.261364   \n",
       "lake camp feet                           0.016226   \n",
       "point centre fact                        0.027957   \n",
       "ravager smallest dog                     0.004176   \n",
       "sir holmes man                           0.071693   \n",
       "man good don't                           0.158591   \n",
       "\n",
       "                        Doyle_TheHoundoftheBaskervilles.txt  \\\n",
       "mowgli jungle bagheera                             0.001906   \n",
       "conan door hand                                    0.024035   \n",
       "room answered asked                                0.083589   \n",
       "place years thing                                  0.079332   \n",
       "back great found                                   0.279431   \n",
       "lake camp feet                                     0.008243   \n",
       "point centre fact                                  0.022054   \n",
       "ravager smallest dog                               0.002649   \n",
       "sir holmes man                                     0.375124   \n",
       "man good don't                                     0.123639   \n",
       "\n",
       "                        Doyle_TheSignoftheFour.txt  Howard_GodsoftheNorth.txt  \\\n",
       "mowgli jungle bagheera                    0.006502                   0.018899   \n",
       "conan door hand                           0.034378                   0.562666   \n",
       "room answered asked                       0.136145                   0.000995   \n",
       "place years thing                         0.066989                   0.032825   \n",
       "back great found                          0.250584                   0.286804   \n",
       "lake camp feet                            0.010170                   0.056698   \n",
       "point centre fact                         0.027576                   0.003647   \n",
       "ravager smallest dog                      0.006836                   0.000332   \n",
       "sir holmes man                            0.259587                   0.010279   \n",
       "man good don't                            0.201234                   0.026857   \n",
       "\n",
       "                        Howard_SchadowsinZamboula.txt  \\\n",
       "mowgli jungle bagheera                       0.015961   \n",
       "conan door hand                              0.549526   \n",
       "room answered asked                          0.015779   \n",
       "place years thing                            0.045148   \n",
       "back great found                             0.270613   \n",
       "lake camp feet                               0.017603   \n",
       "point centre fact                            0.011401   \n",
       "ravager smallest dog                         0.001551   \n",
       "sir holmes man                               0.002098   \n",
       "man good don't                               0.070321   \n",
       "\n",
       "                        Howard_ShadowsintheMoonlight.txt  \\\n",
       "mowgli jungle bagheera                          0.027599   \n",
       "conan door hand                                 0.535393   \n",
       "room answered asked                             0.011645   \n",
       "place years thing                               0.038419   \n",
       "back great found                                0.267284   \n",
       "lake camp feet                                  0.028883   \n",
       "point centre fact                               0.007244   \n",
       "ravager smallest dog                            0.005777   \n",
       "sir holmes man                                  0.003026   \n",
       "man good don't                                  0.074730   \n",
       "\n",
       "                        Howard_TheDevilinIron.txt  \\\n",
       "mowgli jungle bagheera                   0.016670   \n",
       "conan door hand                          0.522038   \n",
       "room answered asked                      0.009889   \n",
       "place years thing                        0.074308   \n",
       "back great found                         0.265493   \n",
       "lake camp feet                           0.034187   \n",
       "point centre fact                        0.017235   \n",
       "ravager smallest dog                     0.003485   \n",
       "sir holmes man                           0.000094   \n",
       "man good don't                           0.056602   \n",
       "\n",
       "                        Kipling_TheEndofthePassage.txt  \\\n",
       "mowgli jungle bagheera                        0.033981   \n",
       "conan door hand                               0.032307   \n",
       "room answered asked                           0.042685   \n",
       "place years thing                             0.081520   \n",
       "back great found                              0.176599   \n",
       "lake camp feet                                0.020589   \n",
       "point centre fact                             0.022598   \n",
       "ravager smallest dog                          0.009207   \n",
       "sir holmes man                                0.025276   \n",
       "man good don't                                0.555239   \n",
       "\n",
       "                        Kipling_TheJungleBook.txt  Kipling_ThyServantaDog.txt  \\\n",
       "mowgli jungle bagheera                   0.513363                    0.021671   \n",
       "conan door hand                          0.028596                    0.012425   \n",
       "room answered asked                      0.008452                    0.020102   \n",
       "place years thing                        0.006856                    0.026129   \n",
       "back great found                         0.198379                    0.149055   \n",
       "lake camp feet                           0.003615                    0.002931   \n",
       "point centre fact                        0.002568                    0.008297   \n",
       "ravager smallest dog                     0.003067                    0.564394   \n",
       "sir holmes man                           0.001321                    0.014158   \n",
       "man good don't                           0.233782                    0.180839   \n",
       "\n",
       "                        Lovecraft_AttheMountainofMadness.txt  \\\n",
       "mowgli jungle bagheera                              0.004314   \n",
       "conan door hand                                     0.017009   \n",
       "room answered asked                                 0.011404   \n",
       "place years thing                                   0.180397   \n",
       "back great found                                    0.181386   \n",
       "lake camp feet                                      0.511459   \n",
       "point centre fact                                   0.062129   \n",
       "ravager smallest dog                                0.001511   \n",
       "sir holmes man                                      0.004314   \n",
       "man good don't                                      0.026077   \n",
       "\n",
       "                        Lovecraft_TheShunnedHouse.txt  \\\n",
       "mowgli jungle bagheera                       0.008742   \n",
       "conan door hand                              0.049821   \n",
       "room answered asked                          0.051928   \n",
       "place years thing                            0.486096   \n",
       "back great found                             0.165684   \n",
       "lake camp feet                               0.079313   \n",
       "point centre fact                            0.057405   \n",
       "ravager smallest dog                         0.009585   \n",
       "sir holmes man                               0.031283   \n",
       "man good don't                               0.060143   \n",
       "\n",
       "                        Poe_EurekaAProsePoem.txt  \\\n",
       "mowgli jungle bagheera                  0.000105   \n",
       "conan door hand                         0.001918   \n",
       "room answered asked                     0.009240   \n",
       "place years thing                       0.087901   \n",
       "back great found                        0.055962   \n",
       "lake camp feet                          0.010774   \n",
       "point centre fact                       0.817957   \n",
       "ravager smallest dog                    0.000035   \n",
       "sir holmes man                          0.005335   \n",
       "man good don't                          0.010774   \n",
       "\n",
       "                        Poe_TheCaskofAmontillado.txt  \\\n",
       "mowgli jungle bagheera                      0.015482   \n",
       "conan door hand                             0.036124   \n",
       "room answered asked                         0.314794   \n",
       "place years thing                           0.125573   \n",
       "back great found                            0.307913   \n",
       "lake camp feet                              0.036124   \n",
       "point centre fact                           0.078555   \n",
       "ravager smallest dog                        0.001720   \n",
       "sir holmes man                              0.023509   \n",
       "man good don't                              0.060206   \n",
       "\n",
       "                        Poe_TheMasqueoftheRedDeath.txt  \\\n",
       "mowgli jungle bagheera                        0.000522   \n",
       "conan door hand                               0.332463   \n",
       "room answered asked                           0.096555   \n",
       "place years thing                             0.170668   \n",
       "back great found                              0.234342   \n",
       "lake camp feet                                0.034969   \n",
       "point centre fact                             0.053758   \n",
       "ravager smallest dog                          0.000522   \n",
       "sir holmes man                                0.032881   \n",
       "man good don't                                0.043319   \n",
       "\n",
       "                        Poe_ThePurloinedLetter.txt  \n",
       "mowgli jungle bagheera                    0.000198  \n",
       "conan door hand                           0.010123  \n",
       "room answered asked                       0.417825  \n",
       "place years thing                         0.106987  \n",
       "back great found                          0.125645  \n",
       "lake camp feet                            0.014093  \n",
       "point centre fact                         0.228464  \n",
       "ravager smallest dog                      0.002580  \n",
       "sir holmes man                            0.018857  \n",
       "man good don't                            0.075228  "
      ]
     },
     "execution_count": 33,
     "metadata": {},
     "output_type": "execute_result"
    }
   ],
   "source": [
    "doc_topic = mallet.show_doc_topic_matrix(outfolder)\n",
    "doc_topic"
   ]
  },
  {
   "cell_type": "markdown",
   "metadata": {
    "deletable": true,
    "editable": true
   },
   "source": [
    "## 3. Visualization"
   ]
  },
  {
   "cell_type": "markdown",
   "metadata": {
    "deletable": true,
    "editable": true
   },
   "source": [
    "Now we can see the topics in the model with the following function:\n",
    "\n",
    "**Hint:** Depending on the number of topics chosen in step 2, you might have to adjust *num_topics* in this step accordingly."
   ]
  },
  {
   "cell_type": "code",
   "execution_count": 34,
   "metadata": {
    "collapsed": false,
    "deletable": true,
    "editable": true
   },
   "outputs": [
    {
     "data": {
      "text/html": [
       "<div>\n",
       "<table border=\"1\" class=\"dataframe\">\n",
       "  <thead>\n",
       "    <tr style=\"text-align: right;\">\n",
       "      <th></th>\n",
       "      <th>Key 1</th>\n",
       "      <th>Key 2</th>\n",
       "      <th>Key 3</th>\n",
       "      <th>Key 4</th>\n",
       "      <th>Key 5</th>\n",
       "      <th>Key 6</th>\n",
       "      <th>Key 7</th>\n",
       "      <th>Key 8</th>\n",
       "      <th>Key 9</th>\n",
       "      <th>Key 10</th>\n",
       "    </tr>\n",
       "  </thead>\n",
       "  <tbody>\n",
       "    <tr>\n",
       "      <th>Topic 1</th>\n",
       "      <td>mowgli</td>\n",
       "      <td>jungle</td>\n",
       "      <td>bagheera</td>\n",
       "      <td>big</td>\n",
       "      <td>thou</td>\n",
       "      <td>wolf</td>\n",
       "      <td>sea</td>\n",
       "      <td>rikki-tikki</td>\n",
       "      <td>nag</td>\n",
       "      <td>baloo</td>\n",
       "    </tr>\n",
       "    <tr>\n",
       "      <th>Topic 2</th>\n",
       "      <td>conan</td>\n",
       "      <td>door</td>\n",
       "      <td>hand</td>\n",
       "      <td>man</td>\n",
       "      <td>eyes</td>\n",
       "      <td>wall</td>\n",
       "      <td>trees</td>\n",
       "      <td>head</td>\n",
       "      <td>sword</td>\n",
       "      <td>blood</td>\n",
       "    </tr>\n",
       "    <tr>\n",
       "      <th>Topic 3</th>\n",
       "      <td>room</td>\n",
       "      <td>answered</td>\n",
       "      <td>asked</td>\n",
       "      <td>hand</td>\n",
       "      <td>holmes</td>\n",
       "      <td>man</td>\n",
       "      <td>hope</td>\n",
       "      <td>cried</td>\n",
       "      <td>appeared</td>\n",
       "      <td>street</td>\n",
       "    </tr>\n",
       "    <tr>\n",
       "      <th>Topic 4</th>\n",
       "      <td>place</td>\n",
       "      <td>years</td>\n",
       "      <td>thing</td>\n",
       "      <td>house</td>\n",
       "      <td>street</td>\n",
       "      <td>nature</td>\n",
       "      <td>floor</td>\n",
       "      <td>part</td>\n",
       "      <td>form</td>\n",
       "      <td>pass</td>\n",
       "    </tr>\n",
       "    <tr>\n",
       "      <th>Topic 5</th>\n",
       "      <td>back</td>\n",
       "      <td>great</td>\n",
       "      <td>found</td>\n",
       "      <td>time</td>\n",
       "      <td>long</td>\n",
       "      <td>thought</td>\n",
       "      <td>left</td>\n",
       "      <td>knew</td>\n",
       "      <td>eyes</td>\n",
       "      <td>life</td>\n",
       "    </tr>\n",
       "    <tr>\n",
       "      <th>Topic 6</th>\n",
       "      <td>lake</td>\n",
       "      <td>camp</td>\n",
       "      <td>feet</td>\n",
       "      <td>land</td>\n",
       "      <td>city</td>\n",
       "      <td>mountains</td>\n",
       "      <td>things</td>\n",
       "      <td>great</td>\n",
       "      <td>danforth</td>\n",
       "      <td>made</td>\n",
       "    </tr>\n",
       "    <tr>\n",
       "      <th>Topic 7</th>\n",
       "      <td>point</td>\n",
       "      <td>centre</td>\n",
       "      <td>fact</td>\n",
       "      <td>matter</td>\n",
       "      <td>atoms</td>\n",
       "      <td>force</td>\n",
       "      <td>sun</td>\n",
       "      <td>idea</td>\n",
       "      <td>space</td>\n",
       "      <td>general</td>\n",
       "    </tr>\n",
       "    <tr>\n",
       "      <th>Topic 8</th>\n",
       "      <td>ravager</td>\n",
       "      <td>smallest</td>\n",
       "      <td>dog</td>\n",
       "      <td>moore</td>\n",
       "      <td>slippers</td>\n",
       "      <td>proper</td>\n",
       "      <td>master</td>\n",
       "      <td>wented</td>\n",
       "      <td>tags</td>\n",
       "      <td>toby</td>\n",
       "    </tr>\n",
       "    <tr>\n",
       "      <th>Topic 9</th>\n",
       "      <td>sir</td>\n",
       "      <td>holmes</td>\n",
       "      <td>man</td>\n",
       "      <td>moor</td>\n",
       "      <td>watson</td>\n",
       "      <td>henry</td>\n",
       "      <td>case</td>\n",
       "      <td>baskerville</td>\n",
       "      <td>night</td>\n",
       "      <td>face</td>\n",
       "    </tr>\n",
       "    <tr>\n",
       "      <th>Topic 10</th>\n",
       "      <td>man</td>\n",
       "      <td>good</td>\n",
       "      <td>don't</td>\n",
       "      <td>put</td>\n",
       "      <td>head</td>\n",
       "      <td>time</td>\n",
       "      <td>day</td>\n",
       "      <td>made</td>\n",
       "      <td>give</td>\n",
       "      <td>night</td>\n",
       "    </tr>\n",
       "  </tbody>\n",
       "</table>\n",
       "</div>"
      ],
      "text/plain": [
       "            Key 1     Key 2     Key 3   Key 4     Key 5      Key 6   Key 7  \\\n",
       "Topic 1    mowgli    jungle  bagheera     big      thou       wolf     sea   \n",
       "Topic 2     conan      door      hand     man      eyes       wall   trees   \n",
       "Topic 3      room  answered     asked    hand    holmes        man    hope   \n",
       "Topic 4     place     years     thing   house    street     nature   floor   \n",
       "Topic 5      back     great     found    time      long    thought    left   \n",
       "Topic 6      lake      camp      feet    land      city  mountains  things   \n",
       "Topic 7     point    centre      fact  matter     atoms      force     sun   \n",
       "Topic 8   ravager  smallest       dog   moore  slippers     proper  master   \n",
       "Topic 9       sir    holmes       man    moor    watson      henry    case   \n",
       "Topic 10      man      good     don't     put      head       time     day   \n",
       "\n",
       "                Key 8     Key 9   Key 10  \n",
       "Topic 1   rikki-tikki       nag    baloo  \n",
       "Topic 2          head     sword    blood  \n",
       "Topic 3         cried  appeared   street  \n",
       "Topic 4          part      form     pass  \n",
       "Topic 5          knew      eyes     life  \n",
       "Topic 6         great  danforth     made  \n",
       "Topic 7          idea     space  general  \n",
       "Topic 8        wented      tags     toby  \n",
       "Topic 9   baskerville     night     face  \n",
       "Topic 10         made      give    night  "
      ]
     },
     "execution_count": 34,
     "metadata": {},
     "output_type": "execute_result"
    }
   ],
   "source": [
    "mallet.show_topics_keys(\"tutorial_supplementals/mallet_output\", num_topics=10)"
   ]
  },
  {
   "cell_type": "markdown",
   "metadata": {
    "deletable": true,
    "editable": true
   },
   "source": [
    "### 3.1. Distribution of topics"
   ]
  },
  {
   "cell_type": "markdown",
   "metadata": {
    "deletable": true,
    "editable": true
   },
   "source": [
    "#### Distribution of topics over all documents\n",
    "\n",
    "The distribution of topics over all documents can now be visualized in a heat map:"
   ]
  },
  {
   "cell_type": "code",
   "execution_count": 35,
   "metadata": {
    "collapsed": false,
    "deletable": true,
    "editable": true
   },
   "outputs": [
    {
     "data": {
      "image/png": "[encoded data removed]",
      "text/plain": [
       "<matplotlib.figure.Figure at 0x7fd3fed5e940>"
      ]
     },
     "metadata": {},
     "output_type": "display_data"
    }
   ],
   "source": [
    "heatmap = visualization.doc_topic_heatmap(doc_topic)\n",
    "heatmap.show()"
   ]
  },
  {
   "cell_type": "markdown",
   "metadata": {
    "deletable": true,
    "editable": true
   },
   "source": [
    "#### Distribution of topics in a single documents\n",
    "\n",
    "To take closer look on the topics in a single text, we can use the follwing function that shows all the topics in a text and their respective proportions. To select the document, we have to give its index to the function."
   ]
  },
  {
   "cell_type": "code",
   "execution_count": 36,
   "metadata": {
    "collapsed": false,
    "deletable": true,
    "editable": true
   },
   "outputs": [
    {
     "data": {
      "text/plain": [
       "<module 'matplotlib.pyplot' from '/home/sina/.local/lib/python3.5/site-packages/matplotlib/pyplot.py'>"
      ]
     },
     "execution_count": 36,
     "metadata": {},
     "output_type": "execute_result"
    },
    {
     "data": {
      "image/png": "[encoded data removed]",
      "text/plain": [
       "<matplotlib.figure.Figure at 0x7fd3fec7dd68>"
      ]
     },
     "metadata": {},
     "output_type": "display_data"
    }
   ],
   "source": [
    "visualization.plot_doc_topics(doc_topic, 7)"
   ]
  },
  {
   "cell_type": "markdown",
   "metadata": {
    "deletable": true,
    "editable": true
   },
   "source": [
    "# WORK IN PROGRESS:"
   ]
  },
  {
   "cell_type": "code",
   "execution_count": 37,
   "metadata": {
    "collapsed": false,
    "deletable": true,
    "editable": true
   },
   "outputs": [
    {
     "data": {
      "text/plain": [
       "'word_weights_file = \"tutorial_supplementals/mallet_output/topic_word_weights.txt\"\\n\\nword_scores_grouped = visual.read_mallet_word_weights(word_weights_file)\\n\\ntopic_nr  = 0\\nword_scores_grouped.get_group(topic_nr)'"
      ]
     },
     "execution_count": 37,
     "metadata": {},
     "output_type": "execute_result"
    }
   ],
   "source": [
    "'''word_weights_file = \"tutorial_supplementals/mallet_output/topic_word_weights.txt\"\n",
    "\n",
    "word_scores_grouped = visual.read_mallet_word_weights(word_weights_file)\n",
    "\n",
    "topic_nr  = 0\n",
    "word_scores_grouped.get_group(topic_nr)'''"
   ]
  },
  {
   "cell_type": "code",
   "execution_count": 38,
   "metadata": {
    "collapsed": false,
    "deletable": true,
    "editable": true
   },
   "outputs": [
    {
     "data": {
      "text/plain": [
       "'number_of_top_words = 10\\ntopic_nr = 2\\n\\nwordlewords = visual.get_wordlewords(word_scores_grouped, number_of_top_words, topic_nr)'"
      ]
     },
     "execution_count": 38,
     "metadata": {},
     "output_type": "execute_result"
    }
   ],
   "source": [
    "'''number_of_top_words = 10\n",
    "topic_nr = 2\n",
    "\n",
    "wordlewords = visual.get_wordlewords(word_scores_grouped, number_of_top_words, topic_nr)'''"
   ]
  },
  {
   "cell_type": "code",
   "execution_count": 39,
   "metadata": {
    "collapsed": false,
    "deletable": true,
    "editable": true
   },
   "outputs": [
    {
     "data": {
      "text/plain": [
       "'wordlewords'"
      ]
     },
     "execution_count": 39,
     "metadata": {},
     "output_type": "execute_result"
    }
   ],
   "source": [
    "'''wordlewords'''"
   ]
  },
  {
   "cell_type": "code",
   "execution_count": 40,
   "metadata": {
    "collapsed": false,
    "deletable": true,
    "editable": true
   },
   "outputs": [
    {
     "data": {
      "text/plain": [
       "'word_weights_file = \"/home/sina/DARIAH/Topics/tutorial_supplementals/mallet_output/topic_word_weights.txt\"\\nnumOfTopics = 4\\noutfolder = \"/home/sina/DARIAH/Topics/tutorial_supplementals/mallet_output/wordles\"\\ndpi = 200\\nfont_path = \"/home/sina/DARIAH/Topics/tutorial_supplementals/font\"\\nnumber_of_top_words = 10\\n\\nwordle = visual.plot_wordle_from_mallet(word_weights_file, \\n                                 numOfTopics,\\n                                 number_of_top_words,\\n                                 outfolder,\\n                                 dpi)'"
      ]
     },
     "execution_count": 40,
     "metadata": {},
     "output_type": "execute_result"
    }
   ],
   "source": [
    "'''word_weights_file = \"/home/sina/DARIAH/Topics/tutorial_supplementals/mallet_output/topic_word_weights.txt\"\n",
    "numOfTopics = 4\n",
    "outfolder = \"/home/sina/DARIAH/Topics/tutorial_supplementals/mallet_output/wordles\"\n",
    "dpi = 200\n",
    "font_path = \"/home/sina/DARIAH/Topics/tutorial_supplementals/font\"\n",
    "number_of_top_words = 10\n",
    "\n",
    "wordle = visual.plot_wordle_from_mallet(word_weights_file, \n",
    "                                 numOfTopics,\n",
    "                                 number_of_top_words,\n",
    "                                 outfolder,\n",
    "                                 dpi)'''"
   ]
  },
  {
   "cell_type": "code",
   "execution_count": 41,
   "metadata": {
    "collapsed": false,
    "deletable": true,
    "editable": true
   },
   "outputs": [
    {
     "data": {
      "application/json": {
       "cell": {
        "!": "OSMagics",
        "HTML": "Other",
        "SVG": "Other",
        "bash": "Other",
        "capture": "ExecutionMagics",
        "debug": "ExecutionMagics",
        "file": "Other",
        "html": "DisplayMagics",
        "javascript": "DisplayMagics",
        "js": "DisplayMagics",
        "latex": "DisplayMagics",
        "perl": "Other",
        "prun": "ExecutionMagics",
        "pypy": "Other",
        "python": "Other",
        "python2": "Other",
        "python3": "Other",
        "ruby": "Other",
        "script": "ScriptMagics",
        "sh": "Other",
        "svg": "DisplayMagics",
        "sx": "OSMagics",
        "system": "OSMagics",
        "time": "ExecutionMagics",
        "timeit": "ExecutionMagics",
        "writefile": "OSMagics"
       },
       "line": {
        "alias": "OSMagics",
        "alias_magic": "BasicMagics",
        "autocall": "AutoMagics",
        "automagic": "AutoMagics",
        "autosave": "KernelMagics",
        "bookmark": "OSMagics",
        "cat": "Other",
        "cd": "OSMagics",
        "clear": "KernelMagics",
        "colors": "BasicMagics",
        "config": "ConfigMagics",
        "connect_info": "KernelMagics",
        "cp": "Other",
        "debug": "ExecutionMagics",
        "dhist": "OSMagics",
        "dirs": "OSMagics",
        "doctest_mode": "BasicMagics",
        "ed": "Other",
        "edit": "KernelMagics",
        "env": "OSMagics",
        "gui": "BasicMagics",
        "hist": "Other",
        "history": "HistoryMagics",
        "killbgscripts": "ScriptMagics",
        "ldir": "Other",
        "less": "KernelMagics",
        "lf": "Other",
        "lk": "Other",
        "ll": "Other",
        "load": "CodeMagics",
        "load_ext": "ExtensionMagics",
        "loadpy": "CodeMagics",
        "logoff": "LoggingMagics",
        "logon": "LoggingMagics",
        "logstart": "LoggingMagics",
        "logstate": "LoggingMagics",
        "logstop": "LoggingMagics",
        "ls": "Other",
        "lsmagic": "BasicMagics",
        "lx": "Other",
        "macro": "ExecutionMagics",
        "magic": "BasicMagics",
        "man": "KernelMagics",
        "matplotlib": "PylabMagics",
        "mkdir": "Other",
        "more": "KernelMagics",
        "mv": "Other",
        "notebook": "BasicMagics",
        "page": "BasicMagics",
        "pastebin": "CodeMagics",
        "pdb": "ExecutionMagics",
        "pdef": "NamespaceMagics",
        "pdoc": "NamespaceMagics",
        "pfile": "NamespaceMagics",
        "pinfo": "NamespaceMagics",
        "pinfo2": "NamespaceMagics",
        "popd": "OSMagics",
        "pprint": "BasicMagics",
        "precision": "BasicMagics",
        "profile": "BasicMagics",
        "prun": "ExecutionMagics",
        "psearch": "NamespaceMagics",
        "psource": "NamespaceMagics",
        "pushd": "OSMagics",
        "pwd": "OSMagics",
        "pycat": "OSMagics",
        "pylab": "PylabMagics",
        "qtconsole": "KernelMagics",
        "quickref": "BasicMagics",
        "recall": "HistoryMagics",
        "rehashx": "OSMagics",
        "reload_ext": "ExtensionMagics",
        "rep": "Other",
        "rerun": "HistoryMagics",
        "reset": "NamespaceMagics",
        "reset_selective": "NamespaceMagics",
        "rm": "Other",
        "rmdir": "Other",
        "run": "ExecutionMagics",
        "save": "CodeMagics",
        "sc": "OSMagics",
        "set_env": "OSMagics",
        "store": "StoreMagics",
        "sx": "OSMagics",
        "system": "OSMagics",
        "tb": "ExecutionMagics",
        "time": "ExecutionMagics",
        "timeit": "ExecutionMagics",
        "unalias": "OSMagics",
        "unload_ext": "ExtensionMagics",
        "who": "NamespaceMagics",
        "who_ls": "NamespaceMagics",
        "whos": "NamespaceMagics",
        "xdel": "NamespaceMagics",
        "xmode": "BasicMagics"
       }
      },
      "text/plain": [
       "Available line magics:\n",
       "%alias  %alias_magic  %autocall  %automagic  %autosave  %bookmark  %cat  %cd  %clear  %colors  %config  %connect_info  %cp  %debug  %dhist  %dirs  %doctest_mode  %ed  %edit  %env  %gui  %hist  %history  %killbgscripts  %ldir  %less  %lf  %lk  %ll  %load  %load_ext  %loadpy  %logoff  %logon  %logstart  %logstate  %logstop  %ls  %lsmagic  %lx  %macro  %magic  %man  %matplotlib  %mkdir  %more  %mv  %notebook  %page  %pastebin  %pdb  %pdef  %pdoc  %pfile  %pinfo  %pinfo2  %popd  %pprint  %precision  %profile  %prun  %psearch  %psource  %pushd  %pwd  %pycat  %pylab  %qtconsole  %quickref  %recall  %rehashx  %reload_ext  %rep  %rerun  %reset  %reset_selective  %rm  %rmdir  %run  %save  %sc  %set_env  %store  %sx  %system  %tb  %time  %timeit  %unalias  %unload_ext  %who  %who_ls  %whos  %xdel  %xmode\n",
       "\n",
       "Available cell magics:\n",
       "%%!  %%HTML  %%SVG  %%bash  %%capture  %%debug  %%file  %%html  %%javascript  %%js  %%latex  %%perl  %%prun  %%pypy  %%python  %%python2  %%python3  %%ruby  %%script  %%sh  %%svg  %%sx  %%system  %%time  %%timeit  %%writefile\n",
       "\n",
       "Automagic is ON, % prefix IS NOT needed for line magics."
      ]
     },
     "execution_count": 41,
     "metadata": {},
     "output_type": "execute_result"
    }
   ],
   "source": [
    "%lsmagic"
   ]
  },
  {
   "cell_type": "code",
   "execution_count": 42,
   "metadata": {
    "collapsed": false,
    "deletable": true,
    "editable": true
   },
   "outputs": [
    {
     "ename": "ImportError",
     "evalue": "No module named 'line_profiler'",
     "output_type": "error",
     "traceback": [
      "\u001b[0;31m---------------------------------------------------------------------------\u001b[0m",
      "\u001b[0;31mImportError\u001b[0m                               Traceback (most recent call last)",
      "\u001b[0;32m<ipython-input-42-f2048e70c30c>\u001b[0m in \u001b[0;36m<module>\u001b[0;34m()\u001b[0m\n\u001b[0;32m----> 1\u001b[0;31m \u001b[0mget_ipython\u001b[0m\u001b[0;34m(\u001b[0m\u001b[0;34m)\u001b[0m\u001b[0;34m.\u001b[0m\u001b[0mmagic\u001b[0m\u001b[0;34m(\u001b[0m\u001b[0;34m'load_ext line_profiler'\u001b[0m\u001b[0;34m)\u001b[0m\u001b[0;34m\u001b[0m\u001b[0m\n\u001b[0m",
      "\u001b[0;32m/home/sina/.local/lib/python3.5/site-packages/IPython/core/interactiveshell.py\u001b[0m in \u001b[0;36mmagic\u001b[0;34m(self, arg_s)\u001b[0m\n\u001b[1;32m   2156\u001b[0m         \u001b[0mmagic_name\u001b[0m\u001b[0;34m,\u001b[0m \u001b[0m_\u001b[0m\u001b[0;34m,\u001b[0m \u001b[0mmagic_arg_s\u001b[0m \u001b[0;34m=\u001b[0m \u001b[0marg_s\u001b[0m\u001b[0;34m.\u001b[0m\u001b[0mpartition\u001b[0m\u001b[0;34m(\u001b[0m\u001b[0;34m' '\u001b[0m\u001b[0;34m)\u001b[0m\u001b[0;34m\u001b[0m\u001b[0m\n\u001b[1;32m   2157\u001b[0m         \u001b[0mmagic_name\u001b[0m \u001b[0;34m=\u001b[0m \u001b[0mmagic_name\u001b[0m\u001b[0;34m.\u001b[0m\u001b[0mlstrip\u001b[0m\u001b[0;34m(\u001b[0m\u001b[0mprefilter\u001b[0m\u001b[0;34m.\u001b[0m\u001b[0mESC_MAGIC\u001b[0m\u001b[0;34m)\u001b[0m\u001b[0;34m\u001b[0m\u001b[0m\n\u001b[0;32m-> 2158\u001b[0;31m         \u001b[0;32mreturn\u001b[0m \u001b[0mself\u001b[0m\u001b[0;34m.\u001b[0m\u001b[0mrun_line_magic\u001b[0m\u001b[0;34m(\u001b[0m\u001b[0mmagic_name\u001b[0m\u001b[0;34m,\u001b[0m \u001b[0mmagic_arg_s\u001b[0m\u001b[0;34m)\u001b[0m\u001b[0;34m\u001b[0m\u001b[0m\n\u001b[0m\u001b[1;32m   2159\u001b[0m \u001b[0;34m\u001b[0m\u001b[0m\n\u001b[1;32m   2160\u001b[0m     \u001b[0;31m#-------------------------------------------------------------------------\u001b[0m\u001b[0;34m\u001b[0m\u001b[0;34m\u001b[0m\u001b[0m\n",
      "\u001b[0;32m/home/sina/.local/lib/python3.5/site-packages/IPython/core/interactiveshell.py\u001b[0m in \u001b[0;36mrun_line_magic\u001b[0;34m(self, magic_name, line)\u001b[0m\n\u001b[1;32m   2077\u001b[0m                 \u001b[0mkwargs\u001b[0m\u001b[0;34m[\u001b[0m\u001b[0;34m'local_ns'\u001b[0m\u001b[0;34m]\u001b[0m \u001b[0;34m=\u001b[0m \u001b[0msys\u001b[0m\u001b[0;34m.\u001b[0m\u001b[0m_getframe\u001b[0m\u001b[0;34m(\u001b[0m\u001b[0mstack_depth\u001b[0m\u001b[0;34m)\u001b[0m\u001b[0;34m.\u001b[0m\u001b[0mf_locals\u001b[0m\u001b[0;34m\u001b[0m\u001b[0m\n\u001b[1;32m   2078\u001b[0m             \u001b[0;32mwith\u001b[0m \u001b[0mself\u001b[0m\u001b[0;34m.\u001b[0m\u001b[0mbuiltin_trap\u001b[0m\u001b[0;34m:\u001b[0m\u001b[0;34m\u001b[0m\u001b[0m\n\u001b[0;32m-> 2079\u001b[0;31m                 \u001b[0mresult\u001b[0m \u001b[0;34m=\u001b[0m \u001b[0mfn\u001b[0m\u001b[0;34m(\u001b[0m\u001b[0;34m*\u001b[0m\u001b[0margs\u001b[0m\u001b[0;34m,\u001b[0m\u001b[0;34m**\u001b[0m\u001b[0mkwargs\u001b[0m\u001b[0;34m)\u001b[0m\u001b[0;34m\u001b[0m\u001b[0m\n\u001b[0m\u001b[1;32m   2080\u001b[0m             \u001b[0;32mreturn\u001b[0m \u001b[0mresult\u001b[0m\u001b[0;34m\u001b[0m\u001b[0m\n\u001b[1;32m   2081\u001b[0m \u001b[0;34m\u001b[0m\u001b[0m\n",
      "\u001b[0;32m<decorator-gen-62>\u001b[0m in \u001b[0;36mload_ext\u001b[0;34m(self, module_str)\u001b[0m\n",
      "\u001b[0;32m/home/sina/.local/lib/python3.5/site-packages/IPython/core/magic.py\u001b[0m in \u001b[0;36m<lambda>\u001b[0;34m(f, *a, **k)\u001b[0m\n\u001b[1;32m    186\u001b[0m     \u001b[0;31m# but it's overkill for just that one bit of state.\u001b[0m\u001b[0;34m\u001b[0m\u001b[0;34m\u001b[0m\u001b[0m\n\u001b[1;32m    187\u001b[0m     \u001b[0;32mdef\u001b[0m \u001b[0mmagic_deco\u001b[0m\u001b[0;34m(\u001b[0m\u001b[0marg\u001b[0m\u001b[0;34m)\u001b[0m\u001b[0;34m:\u001b[0m\u001b[0;34m\u001b[0m\u001b[0m\n\u001b[0;32m--> 188\u001b[0;31m         \u001b[0mcall\u001b[0m \u001b[0;34m=\u001b[0m \u001b[0;32mlambda\u001b[0m \u001b[0mf\u001b[0m\u001b[0;34m,\u001b[0m \u001b[0;34m*\u001b[0m\u001b[0ma\u001b[0m\u001b[0;34m,\u001b[0m \u001b[0;34m**\u001b[0m\u001b[0mk\u001b[0m\u001b[0;34m:\u001b[0m \u001b[0mf\u001b[0m\u001b[0;34m(\u001b[0m\u001b[0;34m*\u001b[0m\u001b[0ma\u001b[0m\u001b[0;34m,\u001b[0m \u001b[0;34m**\u001b[0m\u001b[0mk\u001b[0m\u001b[0;34m)\u001b[0m\u001b[0;34m\u001b[0m\u001b[0m\n\u001b[0m\u001b[1;32m    189\u001b[0m \u001b[0;34m\u001b[0m\u001b[0m\n\u001b[1;32m    190\u001b[0m         \u001b[0;32mif\u001b[0m \u001b[0mcallable\u001b[0m\u001b[0;34m(\u001b[0m\u001b[0marg\u001b[0m\u001b[0;34m)\u001b[0m\u001b[0;34m:\u001b[0m\u001b[0;34m\u001b[0m\u001b[0m\n",
      "\u001b[0;32m/home/sina/.local/lib/python3.5/site-packages/IPython/core/magics/extension.py\u001b[0m in \u001b[0;36mload_ext\u001b[0;34m(self, module_str)\u001b[0m\n\u001b[1;32m     35\u001b[0m         \u001b[0;32mif\u001b[0m \u001b[0;32mnot\u001b[0m \u001b[0mmodule_str\u001b[0m\u001b[0;34m:\u001b[0m\u001b[0;34m\u001b[0m\u001b[0m\n\u001b[1;32m     36\u001b[0m             \u001b[0;32mraise\u001b[0m \u001b[0mUsageError\u001b[0m\u001b[0;34m(\u001b[0m\u001b[0;34m'Missing module name.'\u001b[0m\u001b[0;34m)\u001b[0m\u001b[0;34m\u001b[0m\u001b[0m\n\u001b[0;32m---> 37\u001b[0;31m         \u001b[0mres\u001b[0m \u001b[0;34m=\u001b[0m \u001b[0mself\u001b[0m\u001b[0;34m.\u001b[0m\u001b[0mshell\u001b[0m\u001b[0;34m.\u001b[0m\u001b[0mextension_manager\u001b[0m\u001b[0;34m.\u001b[0m\u001b[0mload_extension\u001b[0m\u001b[0;34m(\u001b[0m\u001b[0mmodule_str\u001b[0m\u001b[0;34m)\u001b[0m\u001b[0;34m\u001b[0m\u001b[0m\n\u001b[0m\u001b[1;32m     38\u001b[0m \u001b[0;34m\u001b[0m\u001b[0m\n\u001b[1;32m     39\u001b[0m         \u001b[0;32mif\u001b[0m \u001b[0mres\u001b[0m \u001b[0;34m==\u001b[0m \u001b[0;34m'already loaded'\u001b[0m\u001b[0;34m:\u001b[0m\u001b[0;34m\u001b[0m\u001b[0m\n",
      "\u001b[0;32m/home/sina/.local/lib/python3.5/site-packages/IPython/core/extensions.py\u001b[0m in \u001b[0;36mload_extension\u001b[0;34m(self, module_str)\u001b[0m\n\u001b[1;32m     81\u001b[0m             \u001b[0;32mif\u001b[0m \u001b[0mmodule_str\u001b[0m \u001b[0;32mnot\u001b[0m \u001b[0;32min\u001b[0m \u001b[0msys\u001b[0m\u001b[0;34m.\u001b[0m\u001b[0mmodules\u001b[0m\u001b[0;34m:\u001b[0m\u001b[0;34m\u001b[0m\u001b[0m\n\u001b[1;32m     82\u001b[0m                 \u001b[0;32mwith\u001b[0m \u001b[0mprepended_to_syspath\u001b[0m\u001b[0;34m(\u001b[0m\u001b[0mself\u001b[0m\u001b[0;34m.\u001b[0m\u001b[0mipython_extension_dir\u001b[0m\u001b[0;34m)\u001b[0m\u001b[0;34m:\u001b[0m\u001b[0;34m\u001b[0m\u001b[0m\n\u001b[0;32m---> 83\u001b[0;31m                     \u001b[0m__import__\u001b[0m\u001b[0;34m(\u001b[0m\u001b[0mmodule_str\u001b[0m\u001b[0;34m)\u001b[0m\u001b[0;34m\u001b[0m\u001b[0m\n\u001b[0m\u001b[1;32m     84\u001b[0m             \u001b[0mmod\u001b[0m \u001b[0;34m=\u001b[0m \u001b[0msys\u001b[0m\u001b[0;34m.\u001b[0m\u001b[0mmodules\u001b[0m\u001b[0;34m[\u001b[0m\u001b[0mmodule_str\u001b[0m\u001b[0;34m]\u001b[0m\u001b[0;34m\u001b[0m\u001b[0m\n\u001b[1;32m     85\u001b[0m             \u001b[0;32mif\u001b[0m \u001b[0mself\u001b[0m\u001b[0;34m.\u001b[0m\u001b[0m_call_load_ipython_extension\u001b[0m\u001b[0;34m(\u001b[0m\u001b[0mmod\u001b[0m\u001b[0;34m)\u001b[0m\u001b[0;34m:\u001b[0m\u001b[0;34m\u001b[0m\u001b[0m\n",
      "\u001b[0;31mImportError\u001b[0m: No module named 'line_profiler'"
     ]
    }
   ],
   "source": [
    "%load_ext line_profiler"
   ]
  },
  {
   "cell_type": "code",
   "execution_count": null,
   "metadata": {
    "collapsed": false,
    "deletable": true,
    "editable": true
   },
   "outputs": [],
   "source": [
    "%mprun -f"
   ]
  },
  {
   "cell_type": "code",
   "execution_count": null,
   "metadata": {
    "collapsed": false,
    "deletable": true,
    "editable": true
   },
   "outputs": [],
   "source": [
    "import line_profiler\n",
    "lp = line_profiler.LineProfiler()\n",
    "lp.add_function(some_useless_slow_function)\n",
    "lp.runctx('some_useless_slow_function()', locals=locals(), globals=globals())\n",
    "lp.print_stats()"
   ]
  },
  {
   "cell_type": "code",
   "execution_count": null,
   "metadata": {
    "collapsed": true,
    "deletable": true,
    "editable": true
   },
   "outputs": [],
   "source": []
  }
 ],
 "metadata": {
  "kernelspec": {
   "display_name": "Python 3",
   "language": "python",
   "name": "python3"
  },
  "language_info": {
   "codemirror_mode": {
    "name": "ipython",
    "version": 3
   },
   "file_extension": ".py",
   "mimetype": "text/x-python",
   "name": "python",
   "nbconvert_exporter": "python",
   "pygments_lexer": "ipython3",
   "version": "3.5.2"
  }
 },
 "nbformat": 4,
 "nbformat_minor": 1
}
