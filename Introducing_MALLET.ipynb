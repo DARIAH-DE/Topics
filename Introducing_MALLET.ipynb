{
 "cells": [
  {
   "cell_type": "markdown",
   "metadata": {},
   "source": [
    "<div style=\"text-align: center\"><h1>Topics – Easy Topic Modeling in Python</h1></div>"
   ]
  },
  {
   "cell_type": "markdown",
   "metadata": {},
   "source": [
    "The text mining technique **Topic Modeling** has become a popular statistical method for clustering documents. This notebook introduces an user-friendly workflow, basically containing data preprocessing, an implementation of the prototypic topic model **Latent Dirichlet Allocation** (LDA) which learns the relationships between words, topics, and documents, as well as multiple visualizations to explore the trained LDA model.\n",
    "\n",
    "In this notebook, we're relying on the LDA implementation by [Andrew McCallum](https://people.cs.umass.edu/~mccallum/) called [**MALLET**](https://radimrehurek.com/gensim/)."
   ]
  },
  {
   "cell_type": "markdown",
   "metadata": {},
   "source": [
    "## First step: Installing dependencies\n",
    "\n",
    "The following tutorial will explain how to perform LDA topic modeling with a programming library in Python. If you have not done so yet, please install all necessary libraries by executing one of the following cells.\n",
    "\n",
    "**Note**: Make sure MALLET is properly installed or at least the unzipped folder in your working directory. If not, download from [this](http://mallet.cs.umass.edu/download.php) ressource."
   ]
  },
  {
   "cell_type": "markdown",
   "metadata": {},
   "source": [
    "### Windows"
   ]
  },
  {
   "cell_type": "code",
   "execution_count": null,
   "metadata": {
    "collapsed": true
   },
   "outputs": [],
   "source": [
    "#!pip install -r requirements.txt"
   ]
  },
  {
   "cell_type": "markdown",
   "metadata": {},
   "source": [
    "### macOS"
   ]
  },
  {
   "cell_type": "code",
   "execution_count": null,
   "metadata": {
    "collapsed": true
   },
   "outputs": [],
   "source": [
    "#!pip3 install -r requirements.txt"
   ]
  },
  {
   "cell_type": "markdown",
   "metadata": {},
   "source": [
    "### Linux"
   ]
  },
  {
   "cell_type": "code",
   "execution_count": null,
   "metadata": {
    "collapsed": true
   },
   "outputs": [],
   "source": [
    "#!sudo pip3 install -r requirements.txt"
   ]
  },
  {
   "cell_type": "markdown",
   "metadata": {},
   "source": [
    "## 1. Preprocessing"
   ]
  },
  {
   "cell_type": "markdown",
   "metadata": {},
   "source": [
    "Let's not pay heed to any warnings right now and execute the following cell."
   ]
  },
  {
   "cell_type": "code",
   "execution_count": 1,
   "metadata": {
    "collapsed": true
   },
   "outputs": [],
   "source": [
    "import warnings\n",
    "warnings.filterwarnings('ignore')"
   ]
  },
  {
   "cell_type": "markdown",
   "metadata": {},
   "source": [
    "#### Loading modules from DARIAH-Topics library\n",
    "First, we have to get access to the functionalities of the library by importing them."
   ]
  },
  {
   "cell_type": "code",
   "execution_count": 2,
   "metadata": {
    "collapsed": true
   },
   "outputs": [],
   "source": [
    "from dariah_topics import preprocessing\n",
    "from dariah_topics import doclist\n",
    "from dariah_topics import meta\n",
    "from dariah_topics import mallet\n",
    "from dariah_topics import visualization"
   ]
  },
  {
   "cell_type": "markdown",
   "metadata": {},
   "source": [
    "#### Activating inline output in Jupyter notebook\n",
    "The following line will just tell the notebook to show graphics in the output frames."
   ]
  },
  {
   "cell_type": "code",
   "execution_count": 3,
   "metadata": {
    "collapsed": true
   },
   "outputs": [],
   "source": [
    "%matplotlib inline"
   ]
  },
  {
   "cell_type": "markdown",
   "metadata": {},
   "source": [
    "### 1.1. Reading a corpus of documents"
   ]
  },
  {
   "cell_type": "markdown",
   "metadata": {},
   "source": [
    "#### Defining the path to the corpus folder\n",
    "\n",
    "In the present example code, we are using a folder of 'txt' documents provided with the package. For using your own corpus, change the path accordingly."
   ]
  },
  {
   "cell_type": "code",
   "execution_count": 4,
   "metadata": {
    "collapsed": true
   },
   "outputs": [],
   "source": [
    "path = \"corpus_txt\""
   ]
  },
  {
   "cell_type": "markdown",
   "metadata": {},
   "source": [
    "#### List all documents in the folder\n",
    "We begin by creating a list of all the documents in the folder specified above. That list will tell function `pre.read_from_txt()` (see below) which text documents to read."
   ]
  },
  {
   "cell_type": "code",
   "execution_count": 5,
   "metadata": {
    "collapsed": true
   },
   "outputs": [],
   "source": [
    "pathdoclist = doclist.PathDocList(path)\n",
    "document_list = pathdoclist.full_paths(as_str=True)"
   ]
  },
  {
   "cell_type": "markdown",
   "metadata": {},
   "source": [
    "The current list of documents looks like this:"
   ]
  },
  {
   "cell_type": "code",
   "execution_count": 6,
   "metadata": {},
   "outputs": [
    {
     "data": {
      "text/plain": [
       "['corpus_txt/Poe_TheMasqueoftheRedDeath.txt',\n",
       " 'corpus_txt/Doyle_AScandalinBohemia.txt',\n",
       " 'corpus_txt/Kipling_ThyServantaDog.txt',\n",
       " 'corpus_txt/Poe_EurekaAProsePoem.txt',\n",
       " 'corpus_txt/Howard_TheDevilinIron.txt',\n",
       " 'corpus_txt/Howard_ShadowsintheMoonlight.txt',\n",
       " 'corpus_txt/Kipling_TheJungleBook.txt',\n",
       " 'corpus_txt/Doyle_TheHoundoftheBaskervilles.txt',\n",
       " 'corpus_txt/Howard_GodsoftheNorth.txt',\n",
       " 'corpus_txt/Doyle_TheSignoftheFour.txt',\n",
       " 'corpus_txt/Poe_TheCaskofAmontillado.txt',\n",
       " 'corpus_txt/Lovecraft_TheShunnedHouse.txt',\n",
       " 'corpus_txt/Lovecraft_AttheMountainofMadness.txt',\n",
       " 'corpus_txt/Kipling_TheEndofthePassage.txt',\n",
       " 'corpus_txt/Howard_SchadowsinZamboula.txt',\n",
       " 'corpus_txt/Poe_ThePurloinedLetter.txt',\n",
       " 'corpus_txt/Doyle_AStudyinScarlet.txt']"
      ]
     },
     "execution_count": 6,
     "metadata": {},
     "output_type": "execute_result"
    }
   ],
   "source": [
    "document_list"
   ]
  },
  {
   "cell_type": "markdown",
   "metadata": {},
   "source": [
    "**Alternatively**, if we want to use other documents, or just a selction of those in the specified folder, we can define our own `doclist` by creating a list of strings containing paths to text files. For example, to use only the texts by Edgar A. Poe from the current folder, we would define the list as\n",
    "\n",
    "`\n",
    "    doclist = [ 'corpus_txt/Poe_TheMasqueoftheRedDeath.txt', \n",
    "            'corpus_txt/Poe_TheCaskofAmontillado.txt', \n",
    "            'corpus_txt/Poe_ThePurloinedLetter.txt',\n",
    "            'corpus_txt/Poe_ThePurloinedLetter.txt',\n",
    "            'corpus_txt/Poe_EurekaAProsePoem.txt']\n",
    "`"
   ]
  },
  {
   "cell_type": "markdown",
   "metadata": {},
   "source": [
    "#### Generate document labels"
   ]
  },
  {
   "cell_type": "code",
   "execution_count": 7,
   "metadata": {},
   "outputs": [
    {
     "data": {
      "text/plain": [
       "['Poe_TheMasqueoftheRedDeath',\n",
       " 'Doyle_AScandalinBohemia',\n",
       " 'Kipling_ThyServantaDog',\n",
       " 'Poe_EurekaAProsePoem',\n",
       " 'Howard_TheDevilinIron',\n",
       " 'Howard_ShadowsintheMoonlight',\n",
       " 'Kipling_TheJungleBook',\n",
       " 'Doyle_TheHoundoftheBaskervilles',\n",
       " 'Howard_GodsoftheNorth',\n",
       " 'Doyle_TheSignoftheFour',\n",
       " 'Poe_TheCaskofAmontillado',\n",
       " 'Lovecraft_TheShunnedHouse',\n",
       " 'Lovecraft_AttheMountainofMadness',\n",
       " 'Kipling_TheEndofthePassage',\n",
       " 'Howard_SchadowsinZamboula',\n",
       " 'Poe_ThePurloinedLetter',\n",
       " 'Doyle_AStudyinScarlet']"
      ]
     },
     "execution_count": 7,
     "metadata": {},
     "output_type": "execute_result"
    }
   ],
   "source": [
    "document_labels = pathdoclist.labels()\n",
    "document_labels"
   ]
  },
  {
   "cell_type": "markdown",
   "metadata": {},
   "source": [
    "#### Optional: Accessing metadata"
   ]
  },
  {
   "cell_type": "markdown",
   "metadata": {},
   "source": [
    "In case you want a more structured overview of your corpus, execute the following cell:"
   ]
  },
  {
   "cell_type": "code",
   "execution_count": 8,
   "metadata": {},
   "outputs": [
    {
     "data": {
      "text/html": [
       "<div>\n",
       "<style>\n",
       "    .dataframe thead tr:only-child th {\n",
       "        text-align: right;\n",
       "    }\n",
       "\n",
       "    .dataframe thead th {\n",
       "        text-align: left;\n",
       "    }\n",
       "\n",
       "    .dataframe tbody tr th {\n",
       "        vertical-align: top;\n",
       "    }\n",
       "</style>\n",
       "<table border=\"1\" class=\"dataframe\">\n",
       "  <thead>\n",
       "    <tr style=\"text-align: right;\">\n",
       "      <th></th>\n",
       "      <th>author</th>\n",
       "      <th>basename</th>\n",
       "      <th>filename</th>\n",
       "      <th>title</th>\n",
       "    </tr>\n",
       "  </thead>\n",
       "  <tbody>\n",
       "    <tr>\n",
       "      <th>0</th>\n",
       "      <td>Poe</td>\n",
       "      <td>Poe_TheMasqueoftheRedDeath</td>\n",
       "      <td>corpus_txt/Poe_TheMasqueoftheRedDeath.txt</td>\n",
       "      <td>TheMasqueoftheRedDeath</td>\n",
       "    </tr>\n",
       "    <tr>\n",
       "      <th>1</th>\n",
       "      <td>Doyle</td>\n",
       "      <td>Doyle_AScandalinBohemia</td>\n",
       "      <td>corpus_txt/Doyle_AScandalinBohemia.txt</td>\n",
       "      <td>AScandalinBohemia</td>\n",
       "    </tr>\n",
       "    <tr>\n",
       "      <th>2</th>\n",
       "      <td>Kipling</td>\n",
       "      <td>Kipling_ThyServantaDog</td>\n",
       "      <td>corpus_txt/Kipling_ThyServantaDog.txt</td>\n",
       "      <td>ThyServantaDog</td>\n",
       "    </tr>\n",
       "    <tr>\n",
       "      <th>3</th>\n",
       "      <td>Poe</td>\n",
       "      <td>Poe_EurekaAProsePoem</td>\n",
       "      <td>corpus_txt/Poe_EurekaAProsePoem.txt</td>\n",
       "      <td>EurekaAProsePoem</td>\n",
       "    </tr>\n",
       "    <tr>\n",
       "      <th>4</th>\n",
       "      <td>Howard</td>\n",
       "      <td>Howard_TheDevilinIron</td>\n",
       "      <td>corpus_txt/Howard_TheDevilinIron.txt</td>\n",
       "      <td>TheDevilinIron</td>\n",
       "    </tr>\n",
       "    <tr>\n",
       "      <th>5</th>\n",
       "      <td>Howard</td>\n",
       "      <td>Howard_ShadowsintheMoonlight</td>\n",
       "      <td>corpus_txt/Howard_ShadowsintheMoonlight.txt</td>\n",
       "      <td>ShadowsintheMoonlight</td>\n",
       "    </tr>\n",
       "    <tr>\n",
       "      <th>6</th>\n",
       "      <td>Kipling</td>\n",
       "      <td>Kipling_TheJungleBook</td>\n",
       "      <td>corpus_txt/Kipling_TheJungleBook.txt</td>\n",
       "      <td>TheJungleBook</td>\n",
       "    </tr>\n",
       "    <tr>\n",
       "      <th>7</th>\n",
       "      <td>Doyle</td>\n",
       "      <td>Doyle_TheHoundoftheBaskervilles</td>\n",
       "      <td>corpus_txt/Doyle_TheHoundoftheBaskervilles.txt</td>\n",
       "      <td>TheHoundoftheBaskervilles</td>\n",
       "    </tr>\n",
       "    <tr>\n",
       "      <th>8</th>\n",
       "      <td>Howard</td>\n",
       "      <td>Howard_GodsoftheNorth</td>\n",
       "      <td>corpus_txt/Howard_GodsoftheNorth.txt</td>\n",
       "      <td>GodsoftheNorth</td>\n",
       "    </tr>\n",
       "    <tr>\n",
       "      <th>9</th>\n",
       "      <td>Doyle</td>\n",
       "      <td>Doyle_TheSignoftheFour</td>\n",
       "      <td>corpus_txt/Doyle_TheSignoftheFour.txt</td>\n",
       "      <td>TheSignoftheFour</td>\n",
       "    </tr>\n",
       "    <tr>\n",
       "      <th>10</th>\n",
       "      <td>Poe</td>\n",
       "      <td>Poe_TheCaskofAmontillado</td>\n",
       "      <td>corpus_txt/Poe_TheCaskofAmontillado.txt</td>\n",
       "      <td>TheCaskofAmontillado</td>\n",
       "    </tr>\n",
       "    <tr>\n",
       "      <th>11</th>\n",
       "      <td>Lovecraft</td>\n",
       "      <td>Lovecraft_TheShunnedHouse</td>\n",
       "      <td>corpus_txt/Lovecraft_TheShunnedHouse.txt</td>\n",
       "      <td>TheShunnedHouse</td>\n",
       "    </tr>\n",
       "    <tr>\n",
       "      <th>12</th>\n",
       "      <td>Lovecraft</td>\n",
       "      <td>Lovecraft_AttheMountainofMadness</td>\n",
       "      <td>corpus_txt/Lovecraft_AttheMountainofMadness.txt</td>\n",
       "      <td>AttheMountainofMadness</td>\n",
       "    </tr>\n",
       "    <tr>\n",
       "      <th>13</th>\n",
       "      <td>Kipling</td>\n",
       "      <td>Kipling_TheEndofthePassage</td>\n",
       "      <td>corpus_txt/Kipling_TheEndofthePassage.txt</td>\n",
       "      <td>TheEndofthePassage</td>\n",
       "    </tr>\n",
       "    <tr>\n",
       "      <th>14</th>\n",
       "      <td>Howard</td>\n",
       "      <td>Howard_SchadowsinZamboula</td>\n",
       "      <td>corpus_txt/Howard_SchadowsinZamboula.txt</td>\n",
       "      <td>SchadowsinZamboula</td>\n",
       "    </tr>\n",
       "    <tr>\n",
       "      <th>15</th>\n",
       "      <td>Poe</td>\n",
       "      <td>Poe_ThePurloinedLetter</td>\n",
       "      <td>corpus_txt/Poe_ThePurloinedLetter.txt</td>\n",
       "      <td>ThePurloinedLetter</td>\n",
       "    </tr>\n",
       "    <tr>\n",
       "      <th>16</th>\n",
       "      <td>Doyle</td>\n",
       "      <td>Doyle_AStudyinScarlet</td>\n",
       "      <td>corpus_txt/Doyle_AStudyinScarlet.txt</td>\n",
       "      <td>AStudyinScarlet</td>\n",
       "    </tr>\n",
       "  </tbody>\n",
       "</table>\n",
       "</div>"
      ],
      "text/plain": [
       "       author                          basename  \\\n",
       "0         Poe        Poe_TheMasqueoftheRedDeath   \n",
       "1       Doyle           Doyle_AScandalinBohemia   \n",
       "2     Kipling            Kipling_ThyServantaDog   \n",
       "3         Poe              Poe_EurekaAProsePoem   \n",
       "4      Howard             Howard_TheDevilinIron   \n",
       "5      Howard      Howard_ShadowsintheMoonlight   \n",
       "6     Kipling             Kipling_TheJungleBook   \n",
       "7       Doyle   Doyle_TheHoundoftheBaskervilles   \n",
       "8      Howard             Howard_GodsoftheNorth   \n",
       "9       Doyle            Doyle_TheSignoftheFour   \n",
       "10        Poe          Poe_TheCaskofAmontillado   \n",
       "11  Lovecraft         Lovecraft_TheShunnedHouse   \n",
       "12  Lovecraft  Lovecraft_AttheMountainofMadness   \n",
       "13    Kipling        Kipling_TheEndofthePassage   \n",
       "14     Howard         Howard_SchadowsinZamboula   \n",
       "15        Poe            Poe_ThePurloinedLetter   \n",
       "16      Doyle             Doyle_AStudyinScarlet   \n",
       "\n",
       "                                           filename                      title  \n",
       "0         corpus_txt/Poe_TheMasqueoftheRedDeath.txt     TheMasqueoftheRedDeath  \n",
       "1            corpus_txt/Doyle_AScandalinBohemia.txt          AScandalinBohemia  \n",
       "2             corpus_txt/Kipling_ThyServantaDog.txt             ThyServantaDog  \n",
       "3               corpus_txt/Poe_EurekaAProsePoem.txt           EurekaAProsePoem  \n",
       "4              corpus_txt/Howard_TheDevilinIron.txt             TheDevilinIron  \n",
       "5       corpus_txt/Howard_ShadowsintheMoonlight.txt      ShadowsintheMoonlight  \n",
       "6              corpus_txt/Kipling_TheJungleBook.txt              TheJungleBook  \n",
       "7    corpus_txt/Doyle_TheHoundoftheBaskervilles.txt  TheHoundoftheBaskervilles  \n",
       "8              corpus_txt/Howard_GodsoftheNorth.txt             GodsoftheNorth  \n",
       "9             corpus_txt/Doyle_TheSignoftheFour.txt           TheSignoftheFour  \n",
       "10          corpus_txt/Poe_TheCaskofAmontillado.txt       TheCaskofAmontillado  \n",
       "11         corpus_txt/Lovecraft_TheShunnedHouse.txt            TheShunnedHouse  \n",
       "12  corpus_txt/Lovecraft_AttheMountainofMadness.txt     AttheMountainofMadness  \n",
       "13        corpus_txt/Kipling_TheEndofthePassage.txt         TheEndofthePassage  \n",
       "14         corpus_txt/Howard_SchadowsinZamboula.txt         SchadowsinZamboula  \n",
       "15            corpus_txt/Poe_ThePurloinedLetter.txt         ThePurloinedLetter  \n",
       "16             corpus_txt/Doyle_AStudyinScarlet.txt            AStudyinScarlet  "
      ]
     },
     "execution_count": 8,
     "metadata": {},
     "output_type": "execute_result"
    }
   ],
   "source": [
    "import os\n",
    "\n",
    "metadata = meta.fn2metadata(os.path.join(path, '*.txt'))\n",
    "metadata"
   ]
  },
  {
   "cell_type": "markdown",
   "metadata": {},
   "source": [
    "#### Read listed documents from folder"
   ]
  },
  {
   "cell_type": "code",
   "execution_count": 9,
   "metadata": {
    "collapsed": true
   },
   "outputs": [],
   "source": [
    "corpus = preprocessing.read_from_txt(document_list)"
   ]
  },
  {
   "cell_type": "markdown",
   "metadata": {},
   "source": [
    "At this point, the corpus is generator object."
   ]
  },
  {
   "cell_type": "markdown",
   "metadata": {},
   "source": [
    "### 1.3. Tokenize corpus\n",
    "Your text files will be tokenized. Tokenization is the task of cutting a stream of characters into linguistic units, simply words or, more precisely, tokens. The tokenize function the library provides is a simple unicode tokenizer. Depending on the corpus it might be useful to use an external tokenizer function, or even develop your own, since its efficiency varies with language, epoch and text type."
   ]
  },
  {
   "cell_type": "code",
   "execution_count": 10,
   "metadata": {
    "collapsed": true
   },
   "outputs": [],
   "source": [
    "tokens = [list(preprocessing.tokenize(document)) for document in list(corpus)]"
   ]
  },
  {
   "cell_type": "markdown",
   "metadata": {},
   "source": [
    "At this point, each text is represented by a list of separate token strings. If we want to look e.g. into the first text (which has the index `0` as Python starts counting at 0) and show its first 10 words/tokens (that have the indeces `0:9` accordingly) by typing:"
   ]
  },
  {
   "cell_type": "code",
   "execution_count": 11,
   "metadata": {},
   "outputs": [
    {
     "data": {
      "text/plain": [
       "['the', 'masque', 'of', 'the', 'red', 'death', 'by', 'edgar', 'allan']"
      ]
     },
     "execution_count": 11,
     "metadata": {},
     "output_type": "execute_result"
    }
   ],
   "source": [
    "tokens[0][0:9]"
   ]
  },
  {
   "cell_type": "markdown",
   "metadata": {},
   "source": [
    "### 1.4.1 Create a document-term matrix\n",
    "\n",
    "The LDA topic model is based on a [document-term matrix](https://en.wikipedia.org/wiki/Document-term_matrix) of the corpus. To improve performance in large corpora, the matrix describes the frequency of terms that occur in the collection. In a document-term matrix, rows correspond to documents in the collection and columns correspond to terms."
   ]
  },
  {
   "cell_type": "code",
   "execution_count": 12,
   "metadata": {},
   "outputs": [
    {
     "data": {
      "text/html": [
       "<div>\n",
       "<style>\n",
       "    .dataframe thead tr:only-child th {\n",
       "        text-align: right;\n",
       "    }\n",
       "\n",
       "    .dataframe thead th {\n",
       "        text-align: left;\n",
       "    }\n",
       "\n",
       "    .dataframe tbody tr th {\n",
       "        vertical-align: top;\n",
       "    }\n",
       "</style>\n",
       "<table border=\"1\" class=\"dataframe\">\n",
       "  <thead>\n",
       "    <tr style=\"text-align: right;\">\n",
       "      <th></th>\n",
       "      <th>the</th>\n",
       "      <th>and</th>\n",
       "      <th>of</th>\n",
       "      <th>to</th>\n",
       "      <th>in</th>\n",
       "      <th>he</th>\n",
       "      <th>that</th>\n",
       "      <th>was</th>\n",
       "      <th>it</th>\n",
       "      <th>his</th>\n",
       "      <th>...</th>\n",
       "      <th>medii</th>\n",
       "      <th>medieval</th>\n",
       "      <th>medico-legal</th>\n",
       "      <th>median</th>\n",
       "      <th>meddling</th>\n",
       "      <th>medal</th>\n",
       "      <th>mechanized</th>\n",
       "      <th>mechanics</th>\n",
       "      <th>meat-gorging</th>\n",
       "      <th>a'most</th>\n",
       "    </tr>\n",
       "  </thead>\n",
       "  <tbody>\n",
       "    <tr>\n",
       "      <th>Poe_TheMasqueoftheRedDeath</th>\n",
       "      <td>264.0</td>\n",
       "      <td>125.0</td>\n",
       "      <td>123.0</td>\n",
       "      <td>48.0</td>\n",
       "      <td>49.0</td>\n",
       "      <td>14.0</td>\n",
       "      <td>29.0</td>\n",
       "      <td>46.0</td>\n",
       "      <td>17.0</td>\n",
       "      <td>20.0</td>\n",
       "      <td>...</td>\n",
       "      <td>0.0</td>\n",
       "      <td>0.0</td>\n",
       "      <td>0.0</td>\n",
       "      <td>0.0</td>\n",
       "      <td>0.0</td>\n",
       "      <td>0.0</td>\n",
       "      <td>0.0</td>\n",
       "      <td>0.0</td>\n",
       "      <td>0.0</td>\n",
       "      <td>0.0</td>\n",
       "    </tr>\n",
       "    <tr>\n",
       "      <th>Doyle_AScandalinBohemia</th>\n",
       "      <td>448.0</td>\n",
       "      <td>255.0</td>\n",
       "      <td>235.0</td>\n",
       "      <td>244.0</td>\n",
       "      <td>157.0</td>\n",
       "      <td>109.0</td>\n",
       "      <td>104.0</td>\n",
       "      <td>124.0</td>\n",
       "      <td>154.0</td>\n",
       "      <td>105.0</td>\n",
       "      <td>...</td>\n",
       "      <td>0.0</td>\n",
       "      <td>0.0</td>\n",
       "      <td>0.0</td>\n",
       "      <td>0.0</td>\n",
       "      <td>0.0</td>\n",
       "      <td>0.0</td>\n",
       "      <td>0.0</td>\n",
       "      <td>0.0</td>\n",
       "      <td>0.0</td>\n",
       "      <td>0.0</td>\n",
       "    </tr>\n",
       "    <tr>\n",
       "      <th>Kipling_ThyServantaDog</th>\n",
       "      <td>790.0</td>\n",
       "      <td>1015.0</td>\n",
       "      <td>510.0</td>\n",
       "      <td>640.0</td>\n",
       "      <td>324.0</td>\n",
       "      <td>636.0</td>\n",
       "      <td>293.0</td>\n",
       "      <td>456.0</td>\n",
       "      <td>295.0</td>\n",
       "      <td>242.0</td>\n",
       "      <td>...</td>\n",
       "      <td>0.0</td>\n",
       "      <td>0.0</td>\n",
       "      <td>0.0</td>\n",
       "      <td>0.0</td>\n",
       "      <td>0.0</td>\n",
       "      <td>0.0</td>\n",
       "      <td>0.0</td>\n",
       "      <td>0.0</td>\n",
       "      <td>0.0</td>\n",
       "      <td>0.0</td>\n",
       "    </tr>\n",
       "    <tr>\n",
       "      <th>Poe_EurekaAProsePoem</th>\n",
       "      <td>2975.0</td>\n",
       "      <td>664.0</td>\n",
       "      <td>2072.0</td>\n",
       "      <td>1131.0</td>\n",
       "      <td>902.0</td>\n",
       "      <td>78.0</td>\n",
       "      <td>671.0</td>\n",
       "      <td>105.0</td>\n",
       "      <td>484.0</td>\n",
       "      <td>83.0</td>\n",
       "      <td>...</td>\n",
       "      <td>0.0</td>\n",
       "      <td>0.0</td>\n",
       "      <td>0.0</td>\n",
       "      <td>1.0</td>\n",
       "      <td>0.0</td>\n",
       "      <td>0.0</td>\n",
       "      <td>0.0</td>\n",
       "      <td>0.0</td>\n",
       "      <td>0.0</td>\n",
       "      <td>0.0</td>\n",
       "    </tr>\n",
       "    <tr>\n",
       "      <th>Howard_TheDevilinIron</th>\n",
       "      <td>893.0</td>\n",
       "      <td>386.0</td>\n",
       "      <td>354.0</td>\n",
       "      <td>201.0</td>\n",
       "      <td>200.0</td>\n",
       "      <td>314.0</td>\n",
       "      <td>140.0</td>\n",
       "      <td>208.0</td>\n",
       "      <td>106.0</td>\n",
       "      <td>225.0</td>\n",
       "      <td>...</td>\n",
       "      <td>0.0</td>\n",
       "      <td>0.0</td>\n",
       "      <td>0.0</td>\n",
       "      <td>0.0</td>\n",
       "      <td>0.0</td>\n",
       "      <td>0.0</td>\n",
       "      <td>0.0</td>\n",
       "      <td>0.0</td>\n",
       "      <td>1.0</td>\n",
       "      <td>0.0</td>\n",
       "    </tr>\n",
       "    <tr>\n",
       "      <th>Howard_ShadowsintheMoonlight</th>\n",
       "      <td>885.0</td>\n",
       "      <td>370.0</td>\n",
       "      <td>382.0</td>\n",
       "      <td>208.0</td>\n",
       "      <td>219.0</td>\n",
       "      <td>137.0</td>\n",
       "      <td>101.0</td>\n",
       "      <td>146.0</td>\n",
       "      <td>76.0</td>\n",
       "      <td>168.0</td>\n",
       "      <td>...</td>\n",
       "      <td>0.0</td>\n",
       "      <td>0.0</td>\n",
       "      <td>0.0</td>\n",
       "      <td>0.0</td>\n",
       "      <td>0.0</td>\n",
       "      <td>0.0</td>\n",
       "      <td>0.0</td>\n",
       "      <td>0.0</td>\n",
       "      <td>0.0</td>\n",
       "      <td>0.0</td>\n",
       "    </tr>\n",
       "    <tr>\n",
       "      <th>Kipling_TheJungleBook</th>\n",
       "      <td>3457.0</td>\n",
       "      <td>2245.0</td>\n",
       "      <td>1198.0</td>\n",
       "      <td>1171.0</td>\n",
       "      <td>677.0</td>\n",
       "      <td>1056.0</td>\n",
       "      <td>644.0</td>\n",
       "      <td>519.0</td>\n",
       "      <td>374.0</td>\n",
       "      <td>648.0</td>\n",
       "      <td>...</td>\n",
       "      <td>0.0</td>\n",
       "      <td>0.0</td>\n",
       "      <td>0.0</td>\n",
       "      <td>0.0</td>\n",
       "      <td>0.0</td>\n",
       "      <td>1.0</td>\n",
       "      <td>0.0</td>\n",
       "      <td>0.0</td>\n",
       "      <td>0.0</td>\n",
       "      <td>0.0</td>\n",
       "    </tr>\n",
       "    <tr>\n",
       "      <th>Doyle_TheHoundoftheBaskervilles</th>\n",
       "      <td>3344.0</td>\n",
       "      <td>1628.0</td>\n",
       "      <td>1596.0</td>\n",
       "      <td>1407.0</td>\n",
       "      <td>911.0</td>\n",
       "      <td>914.0</td>\n",
       "      <td>1133.0</td>\n",
       "      <td>803.0</td>\n",
       "      <td>981.0</td>\n",
       "      <td>692.0</td>\n",
       "      <td>...</td>\n",
       "      <td>0.0</td>\n",
       "      <td>0.0</td>\n",
       "      <td>0.0</td>\n",
       "      <td>0.0</td>\n",
       "      <td>0.0</td>\n",
       "      <td>0.0</td>\n",
       "      <td>0.0</td>\n",
       "      <td>0.0</td>\n",
       "      <td>0.0</td>\n",
       "      <td>0.0</td>\n",
       "    </tr>\n",
       "    <tr>\n",
       "      <th>Howard_GodsoftheNorth</th>\n",
       "      <td>236.0</td>\n",
       "      <td>106.0</td>\n",
       "      <td>95.0</td>\n",
       "      <td>44.0</td>\n",
       "      <td>71.0</td>\n",
       "      <td>53.0</td>\n",
       "      <td>21.0</td>\n",
       "      <td>43.0</td>\n",
       "      <td>9.0</td>\n",
       "      <td>70.0</td>\n",
       "      <td>...</td>\n",
       "      <td>0.0</td>\n",
       "      <td>0.0</td>\n",
       "      <td>0.0</td>\n",
       "      <td>0.0</td>\n",
       "      <td>0.0</td>\n",
       "      <td>0.0</td>\n",
       "      <td>0.0</td>\n",
       "      <td>0.0</td>\n",
       "      <td>0.0</td>\n",
       "      <td>0.0</td>\n",
       "    </tr>\n",
       "    <tr>\n",
       "      <th>Doyle_TheSignoftheFour</th>\n",
       "      <td>2340.0</td>\n",
       "      <td>1179.0</td>\n",
       "      <td>1122.0</td>\n",
       "      <td>1081.0</td>\n",
       "      <td>680.0</td>\n",
       "      <td>638.0</td>\n",
       "      <td>626.0</td>\n",
       "      <td>574.0</td>\n",
       "      <td>683.0</td>\n",
       "      <td>480.0</td>\n",
       "      <td>...</td>\n",
       "      <td>0.0</td>\n",
       "      <td>1.0</td>\n",
       "      <td>0.0</td>\n",
       "      <td>0.0</td>\n",
       "      <td>0.0</td>\n",
       "      <td>0.0</td>\n",
       "      <td>0.0</td>\n",
       "      <td>0.0</td>\n",
       "      <td>0.0</td>\n",
       "      <td>1.0</td>\n",
       "    </tr>\n",
       "    <tr>\n",
       "      <th>Poe_TheCaskofAmontillado</th>\n",
       "      <td>168.0</td>\n",
       "      <td>61.0</td>\n",
       "      <td>76.0</td>\n",
       "      <td>49.0</td>\n",
       "      <td>34.0</td>\n",
       "      <td>53.0</td>\n",
       "      <td>17.0</td>\n",
       "      <td>27.0</td>\n",
       "      <td>36.0</td>\n",
       "      <td>17.0</td>\n",
       "      <td>...</td>\n",
       "      <td>0.0</td>\n",
       "      <td>0.0</td>\n",
       "      <td>0.0</td>\n",
       "      <td>0.0</td>\n",
       "      <td>0.0</td>\n",
       "      <td>0.0</td>\n",
       "      <td>0.0</td>\n",
       "      <td>0.0</td>\n",
       "      <td>0.0</td>\n",
       "      <td>0.0</td>\n",
       "    </tr>\n",
       "    <tr>\n",
       "      <th>Lovecraft_TheShunnedHouse</th>\n",
       "      <td>781.0</td>\n",
       "      <td>449.0</td>\n",
       "      <td>450.0</td>\n",
       "      <td>223.0</td>\n",
       "      <td>234.0</td>\n",
       "      <td>59.0</td>\n",
       "      <td>135.0</td>\n",
       "      <td>156.0</td>\n",
       "      <td>123.0</td>\n",
       "      <td>53.0</td>\n",
       "      <td>...</td>\n",
       "      <td>0.0</td>\n",
       "      <td>0.0</td>\n",
       "      <td>0.0</td>\n",
       "      <td>0.0</td>\n",
       "      <td>0.0</td>\n",
       "      <td>0.0</td>\n",
       "      <td>0.0</td>\n",
       "      <td>0.0</td>\n",
       "      <td>0.0</td>\n",
       "      <td>0.0</td>\n",
       "    </tr>\n",
       "    <tr>\n",
       "      <th>Lovecraft_AttheMountainofMadness</th>\n",
       "      <td>2750.0</td>\n",
       "      <td>1480.0</td>\n",
       "      <td>1753.0</td>\n",
       "      <td>879.0</td>\n",
       "      <td>648.0</td>\n",
       "      <td>75.0</td>\n",
       "      <td>471.0</td>\n",
       "      <td>398.0</td>\n",
       "      <td>306.0</td>\n",
       "      <td>56.0</td>\n",
       "      <td>...</td>\n",
       "      <td>0.0</td>\n",
       "      <td>0.0</td>\n",
       "      <td>0.0</td>\n",
       "      <td>0.0</td>\n",
       "      <td>1.0</td>\n",
       "      <td>0.0</td>\n",
       "      <td>1.0</td>\n",
       "      <td>1.0</td>\n",
       "      <td>0.0</td>\n",
       "      <td>0.0</td>\n",
       "    </tr>\n",
       "    <tr>\n",
       "      <th>Kipling_TheEndofthePassage</th>\n",
       "      <td>425.0</td>\n",
       "      <td>209.0</td>\n",
       "      <td>198.0</td>\n",
       "      <td>201.0</td>\n",
       "      <td>96.0</td>\n",
       "      <td>101.0</td>\n",
       "      <td>82.0</td>\n",
       "      <td>78.0</td>\n",
       "      <td>86.0</td>\n",
       "      <td>67.0</td>\n",
       "      <td>...</td>\n",
       "      <td>0.0</td>\n",
       "      <td>0.0</td>\n",
       "      <td>0.0</td>\n",
       "      <td>0.0</td>\n",
       "      <td>0.0</td>\n",
       "      <td>0.0</td>\n",
       "      <td>0.0</td>\n",
       "      <td>0.0</td>\n",
       "      <td>0.0</td>\n",
       "      <td>0.0</td>\n",
       "    </tr>\n",
       "    <tr>\n",
       "      <th>Howard_SchadowsinZamboula</th>\n",
       "      <td>962.0</td>\n",
       "      <td>373.0</td>\n",
       "      <td>382.0</td>\n",
       "      <td>215.0</td>\n",
       "      <td>189.0</td>\n",
       "      <td>223.0</td>\n",
       "      <td>95.0</td>\n",
       "      <td>155.0</td>\n",
       "      <td>98.0</td>\n",
       "      <td>238.0</td>\n",
       "      <td>...</td>\n",
       "      <td>0.0</td>\n",
       "      <td>0.0</td>\n",
       "      <td>0.0</td>\n",
       "      <td>0.0</td>\n",
       "      <td>0.0</td>\n",
       "      <td>0.0</td>\n",
       "      <td>0.0</td>\n",
       "      <td>0.0</td>\n",
       "      <td>0.0</td>\n",
       "      <td>0.0</td>\n",
       "    </tr>\n",
       "    <tr>\n",
       "      <th>Poe_ThePurloinedLetter</th>\n",
       "      <td>515.0</td>\n",
       "      <td>184.0</td>\n",
       "      <td>274.0</td>\n",
       "      <td>171.0</td>\n",
       "      <td>148.0</td>\n",
       "      <td>68.0</td>\n",
       "      <td>83.0</td>\n",
       "      <td>42.0</td>\n",
       "      <td>98.0</td>\n",
       "      <td>60.0</td>\n",
       "      <td>...</td>\n",
       "      <td>1.0</td>\n",
       "      <td>0.0</td>\n",
       "      <td>0.0</td>\n",
       "      <td>0.0</td>\n",
       "      <td>0.0</td>\n",
       "      <td>0.0</td>\n",
       "      <td>0.0</td>\n",
       "      <td>0.0</td>\n",
       "      <td>0.0</td>\n",
       "      <td>0.0</td>\n",
       "    </tr>\n",
       "    <tr>\n",
       "      <th>Doyle_AStudyinScarlet</th>\n",
       "      <td>2539.0</td>\n",
       "      <td>1363.0</td>\n",
       "      <td>1210.0</td>\n",
       "      <td>1092.0</td>\n",
       "      <td>731.0</td>\n",
       "      <td>794.0</td>\n",
       "      <td>655.0</td>\n",
       "      <td>651.0</td>\n",
       "      <td>577.0</td>\n",
       "      <td>651.0</td>\n",
       "      <td>...</td>\n",
       "      <td>0.0</td>\n",
       "      <td>0.0</td>\n",
       "      <td>1.0</td>\n",
       "      <td>0.0</td>\n",
       "      <td>0.0</td>\n",
       "      <td>0.0</td>\n",
       "      <td>0.0</td>\n",
       "      <td>0.0</td>\n",
       "      <td>0.0</td>\n",
       "      <td>0.0</td>\n",
       "    </tr>\n",
       "  </tbody>\n",
       "</table>\n",
       "<p>17 rows × 22232 columns</p>\n",
       "</div>"
      ],
      "text/plain": [
       "                                     the     and      of      to     in  \\\n",
       "Poe_TheMasqueoftheRedDeath         264.0   125.0   123.0    48.0   49.0   \n",
       "Doyle_AScandalinBohemia            448.0   255.0   235.0   244.0  157.0   \n",
       "Kipling_ThyServantaDog             790.0  1015.0   510.0   640.0  324.0   \n",
       "Poe_EurekaAProsePoem              2975.0   664.0  2072.0  1131.0  902.0   \n",
       "Howard_TheDevilinIron              893.0   386.0   354.0   201.0  200.0   \n",
       "Howard_ShadowsintheMoonlight       885.0   370.0   382.0   208.0  219.0   \n",
       "Kipling_TheJungleBook             3457.0  2245.0  1198.0  1171.0  677.0   \n",
       "Doyle_TheHoundoftheBaskervilles   3344.0  1628.0  1596.0  1407.0  911.0   \n",
       "Howard_GodsoftheNorth              236.0   106.0    95.0    44.0   71.0   \n",
       "Doyle_TheSignoftheFour            2340.0  1179.0  1122.0  1081.0  680.0   \n",
       "Poe_TheCaskofAmontillado           168.0    61.0    76.0    49.0   34.0   \n",
       "Lovecraft_TheShunnedHouse          781.0   449.0   450.0   223.0  234.0   \n",
       "Lovecraft_AttheMountainofMadness  2750.0  1480.0  1753.0   879.0  648.0   \n",
       "Kipling_TheEndofthePassage         425.0   209.0   198.0   201.0   96.0   \n",
       "Howard_SchadowsinZamboula          962.0   373.0   382.0   215.0  189.0   \n",
       "Poe_ThePurloinedLetter             515.0   184.0   274.0   171.0  148.0   \n",
       "Doyle_AStudyinScarlet             2539.0  1363.0  1210.0  1092.0  731.0   \n",
       "\n",
       "                                      he    that    was     it    his   ...    \\\n",
       "Poe_TheMasqueoftheRedDeath          14.0    29.0   46.0   17.0   20.0   ...     \n",
       "Doyle_AScandalinBohemia            109.0   104.0  124.0  154.0  105.0   ...     \n",
       "Kipling_ThyServantaDog             636.0   293.0  456.0  295.0  242.0   ...     \n",
       "Poe_EurekaAProsePoem                78.0   671.0  105.0  484.0   83.0   ...     \n",
       "Howard_TheDevilinIron              314.0   140.0  208.0  106.0  225.0   ...     \n",
       "Howard_ShadowsintheMoonlight       137.0   101.0  146.0   76.0  168.0   ...     \n",
       "Kipling_TheJungleBook             1056.0   644.0  519.0  374.0  648.0   ...     \n",
       "Doyle_TheHoundoftheBaskervilles    914.0  1133.0  803.0  981.0  692.0   ...     \n",
       "Howard_GodsoftheNorth               53.0    21.0   43.0    9.0   70.0   ...     \n",
       "Doyle_TheSignoftheFour             638.0   626.0  574.0  683.0  480.0   ...     \n",
       "Poe_TheCaskofAmontillado            53.0    17.0   27.0   36.0   17.0   ...     \n",
       "Lovecraft_TheShunnedHouse           59.0   135.0  156.0  123.0   53.0   ...     \n",
       "Lovecraft_AttheMountainofMadness    75.0   471.0  398.0  306.0   56.0   ...     \n",
       "Kipling_TheEndofthePassage         101.0    82.0   78.0   86.0   67.0   ...     \n",
       "Howard_SchadowsinZamboula          223.0    95.0  155.0   98.0  238.0   ...     \n",
       "Poe_ThePurloinedLetter              68.0    83.0   42.0   98.0   60.0   ...     \n",
       "Doyle_AStudyinScarlet              794.0   655.0  651.0  577.0  651.0   ...     \n",
       "\n",
       "                                  medii  medieval  medico-legal  median  \\\n",
       "Poe_TheMasqueoftheRedDeath          0.0       0.0           0.0     0.0   \n",
       "Doyle_AScandalinBohemia             0.0       0.0           0.0     0.0   \n",
       "Kipling_ThyServantaDog              0.0       0.0           0.0     0.0   \n",
       "Poe_EurekaAProsePoem                0.0       0.0           0.0     1.0   \n",
       "Howard_TheDevilinIron               0.0       0.0           0.0     0.0   \n",
       "Howard_ShadowsintheMoonlight        0.0       0.0           0.0     0.0   \n",
       "Kipling_TheJungleBook               0.0       0.0           0.0     0.0   \n",
       "Doyle_TheHoundoftheBaskervilles     0.0       0.0           0.0     0.0   \n",
       "Howard_GodsoftheNorth               0.0       0.0           0.0     0.0   \n",
       "Doyle_TheSignoftheFour              0.0       1.0           0.0     0.0   \n",
       "Poe_TheCaskofAmontillado            0.0       0.0           0.0     0.0   \n",
       "Lovecraft_TheShunnedHouse           0.0       0.0           0.0     0.0   \n",
       "Lovecraft_AttheMountainofMadness    0.0       0.0           0.0     0.0   \n",
       "Kipling_TheEndofthePassage          0.0       0.0           0.0     0.0   \n",
       "Howard_SchadowsinZamboula           0.0       0.0           0.0     0.0   \n",
       "Poe_ThePurloinedLetter              1.0       0.0           0.0     0.0   \n",
       "Doyle_AStudyinScarlet               0.0       0.0           1.0     0.0   \n",
       "\n",
       "                                  meddling  medal  mechanized  mechanics  \\\n",
       "Poe_TheMasqueoftheRedDeath             0.0    0.0         0.0        0.0   \n",
       "Doyle_AScandalinBohemia                0.0    0.0         0.0        0.0   \n",
       "Kipling_ThyServantaDog                 0.0    0.0         0.0        0.0   \n",
       "Poe_EurekaAProsePoem                   0.0    0.0         0.0        0.0   \n",
       "Howard_TheDevilinIron                  0.0    0.0         0.0        0.0   \n",
       "Howard_ShadowsintheMoonlight           0.0    0.0         0.0        0.0   \n",
       "Kipling_TheJungleBook                  0.0    1.0         0.0        0.0   \n",
       "Doyle_TheHoundoftheBaskervilles        0.0    0.0         0.0        0.0   \n",
       "Howard_GodsoftheNorth                  0.0    0.0         0.0        0.0   \n",
       "Doyle_TheSignoftheFour                 0.0    0.0         0.0        0.0   \n",
       "Poe_TheCaskofAmontillado               0.0    0.0         0.0        0.0   \n",
       "Lovecraft_TheShunnedHouse              0.0    0.0         0.0        0.0   \n",
       "Lovecraft_AttheMountainofMadness       1.0    0.0         1.0        1.0   \n",
       "Kipling_TheEndofthePassage             0.0    0.0         0.0        0.0   \n",
       "Howard_SchadowsinZamboula              0.0    0.0         0.0        0.0   \n",
       "Poe_ThePurloinedLetter                 0.0    0.0         0.0        0.0   \n",
       "Doyle_AStudyinScarlet                  0.0    0.0         0.0        0.0   \n",
       "\n",
       "                                  meat-gorging  a'most  \n",
       "Poe_TheMasqueoftheRedDeath                 0.0     0.0  \n",
       "Doyle_AScandalinBohemia                    0.0     0.0  \n",
       "Kipling_ThyServantaDog                     0.0     0.0  \n",
       "Poe_EurekaAProsePoem                       0.0     0.0  \n",
       "Howard_TheDevilinIron                      1.0     0.0  \n",
       "Howard_ShadowsintheMoonlight               0.0     0.0  \n",
       "Kipling_TheJungleBook                      0.0     0.0  \n",
       "Doyle_TheHoundoftheBaskervilles            0.0     0.0  \n",
       "Howard_GodsoftheNorth                      0.0     0.0  \n",
       "Doyle_TheSignoftheFour                     0.0     1.0  \n",
       "Poe_TheCaskofAmontillado                   0.0     0.0  \n",
       "Lovecraft_TheShunnedHouse                  0.0     0.0  \n",
       "Lovecraft_AttheMountainofMadness           0.0     0.0  \n",
       "Kipling_TheEndofthePassage                 0.0     0.0  \n",
       "Howard_SchadowsinZamboula                  0.0     0.0  \n",
       "Poe_ThePurloinedLetter                     0.0     0.0  \n",
       "Doyle_AStudyinScarlet                      0.0     0.0  \n",
       "\n",
       "[17 rows x 22232 columns]"
      ]
     },
     "execution_count": 12,
     "metadata": {},
     "output_type": "execute_result"
    }
   ],
   "source": [
    "doc_terms = preprocessing.create_doc_term_matrix(tokens, document_labels)\n",
    "doc_terms"
   ]
  },
  {
   "cell_type": "markdown",
   "metadata": {},
   "source": [
    "### 1.4.2 Create a sparse bag-of-words model\n",
    "\n",
    "The LDA topic model is based on a bag-of-words model of the corpus. To improve performance in large corpora, actual words and document titels are replaced by indices in the actual bag-of-words model. It is therefore necessary to create dictionaries for mapping these indices in advance."
   ]
  },
  {
   "cell_type": "markdown",
   "metadata": {},
   "source": [
    "#### Create Dictionaries"
   ]
  },
  {
   "cell_type": "code",
   "execution_count": 13,
   "metadata": {
    "collapsed": true
   },
   "outputs": [],
   "source": [
    "id_types = preprocessing.create_dictionary(tokens)\n",
    "doc_ids = preprocessing.create_dictionary(document_labels)"
   ]
  },
  {
   "cell_type": "markdown",
   "metadata": {},
   "source": [
    "#### Create matrix market"
   ]
  },
  {
   "cell_type": "code",
   "execution_count": 14,
   "metadata": {
    "collapsed": true
   },
   "outputs": [],
   "source": [
    "sparse_bow = preprocessing.create_sparse_bow(document_labels, tokens, id_types, doc_ids)"
   ]
  },
  {
   "cell_type": "markdown",
   "metadata": {
    "collapsed": true
   },
   "source": [
    "### 1.5. Feature selection and/or removal\n",
    "\n",
    "In topic modeling, it is often usefull (if not vital) to remove some types before modeling. In this example, the 100 most frequent words and the *hapax legomena* in the corpus are listed and removed. Alternatively, the 'feature_list' containing all features to be removed from the corpus can be replaced by, or combined with an external stop word list or any other list of strings containing features we want to remove.\n",
    "\n",
    "**Note**: For small/normal corpora using a **`doc_term_matrix` (1.5.1)** will be easier to handle. Using **`sparse_bow` (1.5.2)** is recommended for large corpora only."
   ]
  },
  {
   "cell_type": "markdown",
   "metadata": {},
   "source": [
    "### 1.5.1 Remove features from `doc_term_matrix`"
   ]
  },
  {
   "cell_type": "markdown",
   "metadata": {},
   "source": [
    "#### List the 100 most frequent words"
   ]
  },
  {
   "cell_type": "code",
   "execution_count": 15,
   "metadata": {
    "collapsed": true
   },
   "outputs": [],
   "source": [
    "mfw100 = preprocessing.find_stopwords(doc_terms, 100)"
   ]
  },
  {
   "cell_type": "markdown",
   "metadata": {},
   "source": [
    "These are the five most frequent words:"
   ]
  },
  {
   "cell_type": "code",
   "execution_count": 16,
   "metadata": {},
   "outputs": [
    {
     "data": {
      "text/plain": [
       "['the', 'and', 'of', 'to', 'in']"
      ]
     },
     "execution_count": 16,
     "metadata": {},
     "output_type": "execute_result"
    }
   ],
   "source": [
    "mfw100[:5]"
   ]
  },
  {
   "cell_type": "markdown",
   "metadata": {},
   "source": [
    "#### List hapax legomena"
   ]
  },
  {
   "cell_type": "code",
   "execution_count": 17,
   "metadata": {
    "collapsed": true
   },
   "outputs": [],
   "source": [
    "hapax_list = preprocessing.find_hapax(doc_terms)"
   ]
  },
  {
   "cell_type": "markdown",
   "metadata": {},
   "source": [
    "#### Optional: Use external stopwordlist"
   ]
  },
  {
   "cell_type": "code",
   "execution_count": 18,
   "metadata": {
    "collapsed": true
   },
   "outputs": [],
   "source": [
    "path_to_stopwordlist = \"tutorial_supplementals/stopwords/en.txt\"\n",
    "\n",
    "extern_stopwords = [line.strip() for line in open(path_to_stopwordlist, 'r')]"
   ]
  },
  {
   "cell_type": "markdown",
   "metadata": {},
   "source": [
    "#### Combine lists and remove content from `doc_term_matrix`"
   ]
  },
  {
   "cell_type": "code",
   "execution_count": 19,
   "metadata": {},
   "outputs": [],
   "source": [
    "features = set(mfw100 + hapax_list + extern_stopwords)\n",
    "doc_terms = preprocessing.remove_features(doc_terms, features)"
   ]
  },
  {
   "cell_type": "markdown",
   "metadata": {},
   "source": [
    "Finally, this is how your clean corpus looks like now."
   ]
  },
  {
   "cell_type": "code",
   "execution_count": 20,
   "metadata": {},
   "outputs": [
    {
     "data": {
      "text/html": [
       "<div>\n",
       "<style>\n",
       "    .dataframe thead tr:only-child th {\n",
       "        text-align: right;\n",
       "    }\n",
       "\n",
       "    .dataframe thead th {\n",
       "        text-align: left;\n",
       "    }\n",
       "\n",
       "    .dataframe tbody tr th {\n",
       "        vertical-align: top;\n",
       "    }\n",
       "</style>\n",
       "<table border=\"1\" class=\"dataframe\">\n",
       "  <thead>\n",
       "    <tr style=\"text-align: right;\">\n",
       "      <th></th>\n",
       "      <th>long</th>\n",
       "      <th>eyes</th>\n",
       "      <th>head</th>\n",
       "      <th>night</th>\n",
       "      <th>hand</th>\n",
       "      <th>men</th>\n",
       "      <th>face</th>\n",
       "      <th>good</th>\n",
       "      <th>house</th>\n",
       "      <th>thought</th>\n",
       "      <th>...</th>\n",
       "      <th>ordinarily</th>\n",
       "      <th>nihility</th>\n",
       "      <th>blend</th>\n",
       "      <th>slovenly</th>\n",
       "      <th>belled</th>\n",
       "      <th>squeaked</th>\n",
       "      <th>needle-like</th>\n",
       "      <th>nightingale</th>\n",
       "      <th>bellow</th>\n",
       "      <th>corals</th>\n",
       "    </tr>\n",
       "  </thead>\n",
       "  <tbody>\n",
       "    <tr>\n",
       "      <th>Poe_TheMasqueoftheRedDeath</th>\n",
       "      <td>2.0</td>\n",
       "      <td>1.0</td>\n",
       "      <td>1.0</td>\n",
       "      <td>3.0</td>\n",
       "      <td>4.0</td>\n",
       "      <td>0.0</td>\n",
       "      <td>3.0</td>\n",
       "      <td>0.0</td>\n",
       "      <td>0.0</td>\n",
       "      <td>2.0</td>\n",
       "      <td>...</td>\n",
       "      <td>0.0</td>\n",
       "      <td>0.0</td>\n",
       "      <td>0.0</td>\n",
       "      <td>0.0</td>\n",
       "      <td>0.0</td>\n",
       "      <td>0.0</td>\n",
       "      <td>0.0</td>\n",
       "      <td>0.0</td>\n",
       "      <td>0.0</td>\n",
       "      <td>0.0</td>\n",
       "    </tr>\n",
       "    <tr>\n",
       "      <th>Doyle_AScandalinBohemia</th>\n",
       "      <td>5.0</td>\n",
       "      <td>9.0</td>\n",
       "      <td>2.0</td>\n",
       "      <td>4.0</td>\n",
       "      <td>13.0</td>\n",
       "      <td>7.0</td>\n",
       "      <td>10.0</td>\n",
       "      <td>9.0</td>\n",
       "      <td>14.0</td>\n",
       "      <td>4.0</td>\n",
       "      <td>...</td>\n",
       "      <td>0.0</td>\n",
       "      <td>0.0</td>\n",
       "      <td>0.0</td>\n",
       "      <td>0.0</td>\n",
       "      <td>0.0</td>\n",
       "      <td>0.0</td>\n",
       "      <td>0.0</td>\n",
       "      <td>0.0</td>\n",
       "      <td>0.0</td>\n",
       "      <td>0.0</td>\n",
       "    </tr>\n",
       "    <tr>\n",
       "      <th>Kipling_ThyServantaDog</th>\n",
       "      <td>38.0</td>\n",
       "      <td>13.0</td>\n",
       "      <td>36.0</td>\n",
       "      <td>19.0</td>\n",
       "      <td>21.0</td>\n",
       "      <td>8.0</td>\n",
       "      <td>13.0</td>\n",
       "      <td>28.0</td>\n",
       "      <td>27.0</td>\n",
       "      <td>20.0</td>\n",
       "      <td>...</td>\n",
       "      <td>0.0</td>\n",
       "      <td>0.0</td>\n",
       "      <td>0.0</td>\n",
       "      <td>0.0</td>\n",
       "      <td>0.0</td>\n",
       "      <td>0.0</td>\n",
       "      <td>0.0</td>\n",
       "      <td>0.0</td>\n",
       "      <td>0.0</td>\n",
       "      <td>0.0</td>\n",
       "    </tr>\n",
       "    <tr>\n",
       "      <th>Poe_EurekaAProsePoem</th>\n",
       "      <td>26.0</td>\n",
       "      <td>9.0</td>\n",
       "      <td>0.0</td>\n",
       "      <td>3.0</td>\n",
       "      <td>12.0</td>\n",
       "      <td>9.0</td>\n",
       "      <td>4.0</td>\n",
       "      <td>5.0</td>\n",
       "      <td>0.0</td>\n",
       "      <td>26.0</td>\n",
       "      <td>...</td>\n",
       "      <td>2.0</td>\n",
       "      <td>2.0</td>\n",
       "      <td>0.0</td>\n",
       "      <td>0.0</td>\n",
       "      <td>0.0</td>\n",
       "      <td>0.0</td>\n",
       "      <td>0.0</td>\n",
       "      <td>0.0</td>\n",
       "      <td>0.0</td>\n",
       "      <td>0.0</td>\n",
       "    </tr>\n",
       "    <tr>\n",
       "      <th>Howard_TheDevilinIron</th>\n",
       "      <td>7.0</td>\n",
       "      <td>24.0</td>\n",
       "      <td>21.0</td>\n",
       "      <td>9.0</td>\n",
       "      <td>13.0</td>\n",
       "      <td>16.0</td>\n",
       "      <td>5.0</td>\n",
       "      <td>2.0</td>\n",
       "      <td>5.0</td>\n",
       "      <td>9.0</td>\n",
       "      <td>...</td>\n",
       "      <td>0.0</td>\n",
       "      <td>0.0</td>\n",
       "      <td>0.0</td>\n",
       "      <td>0.0</td>\n",
       "      <td>0.0</td>\n",
       "      <td>0.0</td>\n",
       "      <td>0.0</td>\n",
       "      <td>0.0</td>\n",
       "      <td>0.0</td>\n",
       "      <td>0.0</td>\n",
       "    </tr>\n",
       "    <tr>\n",
       "      <th>Howard_ShadowsintheMoonlight</th>\n",
       "      <td>19.0</td>\n",
       "      <td>34.0</td>\n",
       "      <td>18.0</td>\n",
       "      <td>11.0</td>\n",
       "      <td>21.0</td>\n",
       "      <td>14.0</td>\n",
       "      <td>12.0</td>\n",
       "      <td>3.0</td>\n",
       "      <td>0.0</td>\n",
       "      <td>8.0</td>\n",
       "      <td>...</td>\n",
       "      <td>0.0</td>\n",
       "      <td>0.0</td>\n",
       "      <td>0.0</td>\n",
       "      <td>0.0</td>\n",
       "      <td>0.0</td>\n",
       "      <td>0.0</td>\n",
       "      <td>0.0</td>\n",
       "      <td>0.0</td>\n",
       "      <td>0.0</td>\n",
       "      <td>0.0</td>\n",
       "    </tr>\n",
       "    <tr>\n",
       "      <th>Kipling_TheJungleBook</th>\n",
       "      <td>73.0</td>\n",
       "      <td>68.0</td>\n",
       "      <td>129.0</td>\n",
       "      <td>74.0</td>\n",
       "      <td>16.0</td>\n",
       "      <td>95.0</td>\n",
       "      <td>16.0</td>\n",
       "      <td>72.0</td>\n",
       "      <td>23.0</td>\n",
       "      <td>24.0</td>\n",
       "      <td>...</td>\n",
       "      <td>0.0</td>\n",
       "      <td>0.0</td>\n",
       "      <td>0.0</td>\n",
       "      <td>0.0</td>\n",
       "      <td>2.0</td>\n",
       "      <td>2.0</td>\n",
       "      <td>0.0</td>\n",
       "      <td>2.0</td>\n",
       "      <td>2.0</td>\n",
       "      <td>0.0</td>\n",
       "    </tr>\n",
       "    <tr>\n",
       "      <th>Doyle_TheHoundoftheBaskervilles</th>\n",
       "      <td>69.0</td>\n",
       "      <td>71.0</td>\n",
       "      <td>32.0</td>\n",
       "      <td>70.0</td>\n",
       "      <td>39.0</td>\n",
       "      <td>14.0</td>\n",
       "      <td>77.0</td>\n",
       "      <td>61.0</td>\n",
       "      <td>67.0</td>\n",
       "      <td>42.0</td>\n",
       "      <td>...</td>\n",
       "      <td>0.0</td>\n",
       "      <td>0.0</td>\n",
       "      <td>0.0</td>\n",
       "      <td>2.0</td>\n",
       "      <td>0.0</td>\n",
       "      <td>0.0</td>\n",
       "      <td>0.0</td>\n",
       "      <td>0.0</td>\n",
       "      <td>0.0</td>\n",
       "      <td>0.0</td>\n",
       "    </tr>\n",
       "    <tr>\n",
       "      <th>Howard_GodsoftheNorth</th>\n",
       "      <td>3.0</td>\n",
       "      <td>12.0</td>\n",
       "      <td>5.0</td>\n",
       "      <td>0.0</td>\n",
       "      <td>3.0</td>\n",
       "      <td>6.0</td>\n",
       "      <td>3.0</td>\n",
       "      <td>0.0</td>\n",
       "      <td>0.0</td>\n",
       "      <td>3.0</td>\n",
       "      <td>...</td>\n",
       "      <td>0.0</td>\n",
       "      <td>0.0</td>\n",
       "      <td>0.0</td>\n",
       "      <td>0.0</td>\n",
       "      <td>0.0</td>\n",
       "      <td>0.0</td>\n",
       "      <td>0.0</td>\n",
       "      <td>0.0</td>\n",
       "      <td>0.0</td>\n",
       "      <td>0.0</td>\n",
       "    </tr>\n",
       "    <tr>\n",
       "      <th>Doyle_TheSignoftheFour</th>\n",
       "      <td>45.0</td>\n",
       "      <td>37.0</td>\n",
       "      <td>33.0</td>\n",
       "      <td>63.0</td>\n",
       "      <td>54.0</td>\n",
       "      <td>32.0</td>\n",
       "      <td>50.0</td>\n",
       "      <td>41.0</td>\n",
       "      <td>29.0</td>\n",
       "      <td>47.0</td>\n",
       "      <td>...</td>\n",
       "      <td>0.0</td>\n",
       "      <td>0.0</td>\n",
       "      <td>0.0</td>\n",
       "      <td>0.0</td>\n",
       "      <td>0.0</td>\n",
       "      <td>0.0</td>\n",
       "      <td>0.0</td>\n",
       "      <td>0.0</td>\n",
       "      <td>0.0</td>\n",
       "      <td>0.0</td>\n",
       "    </tr>\n",
       "    <tr>\n",
       "      <th>Poe_TheCaskofAmontillado</th>\n",
       "      <td>5.0</td>\n",
       "      <td>3.0</td>\n",
       "      <td>2.0</td>\n",
       "      <td>0.0</td>\n",
       "      <td>3.0</td>\n",
       "      <td>0.0</td>\n",
       "      <td>1.0</td>\n",
       "      <td>4.0</td>\n",
       "      <td>1.0</td>\n",
       "      <td>3.0</td>\n",
       "      <td>...</td>\n",
       "      <td>0.0</td>\n",
       "      <td>0.0</td>\n",
       "      <td>0.0</td>\n",
       "      <td>0.0</td>\n",
       "      <td>0.0</td>\n",
       "      <td>0.0</td>\n",
       "      <td>0.0</td>\n",
       "      <td>0.0</td>\n",
       "      <td>0.0</td>\n",
       "      <td>0.0</td>\n",
       "    </tr>\n",
       "    <tr>\n",
       "      <th>Lovecraft_TheShunnedHouse</th>\n",
       "      <td>7.0</td>\n",
       "      <td>6.0</td>\n",
       "      <td>2.0</td>\n",
       "      <td>8.0</td>\n",
       "      <td>2.0</td>\n",
       "      <td>2.0</td>\n",
       "      <td>6.0</td>\n",
       "      <td>4.0</td>\n",
       "      <td>60.0</td>\n",
       "      <td>11.0</td>\n",
       "      <td>...</td>\n",
       "      <td>0.0</td>\n",
       "      <td>0.0</td>\n",
       "      <td>2.0</td>\n",
       "      <td>0.0</td>\n",
       "      <td>0.0</td>\n",
       "      <td>0.0</td>\n",
       "      <td>0.0</td>\n",
       "      <td>0.0</td>\n",
       "      <td>0.0</td>\n",
       "      <td>0.0</td>\n",
       "    </tr>\n",
       "    <tr>\n",
       "      <th>Lovecraft_AttheMountainofMadness</th>\n",
       "      <td>41.0</td>\n",
       "      <td>10.0</td>\n",
       "      <td>16.0</td>\n",
       "      <td>5.0</td>\n",
       "      <td>9.0</td>\n",
       "      <td>32.0</td>\n",
       "      <td>5.0</td>\n",
       "      <td>13.0</td>\n",
       "      <td>2.0</td>\n",
       "      <td>34.0</td>\n",
       "      <td>...</td>\n",
       "      <td>0.0</td>\n",
       "      <td>0.0</td>\n",
       "      <td>0.0</td>\n",
       "      <td>0.0</td>\n",
       "      <td>0.0</td>\n",
       "      <td>0.0</td>\n",
       "      <td>2.0</td>\n",
       "      <td>0.0</td>\n",
       "      <td>0.0</td>\n",
       "      <td>2.0</td>\n",
       "    </tr>\n",
       "    <tr>\n",
       "      <th>Kipling_TheEndofthePassage</th>\n",
       "      <td>9.0</td>\n",
       "      <td>14.0</td>\n",
       "      <td>12.0</td>\n",
       "      <td>6.0</td>\n",
       "      <td>9.0</td>\n",
       "      <td>10.0</td>\n",
       "      <td>16.0</td>\n",
       "      <td>16.0</td>\n",
       "      <td>4.0</td>\n",
       "      <td>6.0</td>\n",
       "      <td>...</td>\n",
       "      <td>0.0</td>\n",
       "      <td>0.0</td>\n",
       "      <td>0.0</td>\n",
       "      <td>0.0</td>\n",
       "      <td>0.0</td>\n",
       "      <td>0.0</td>\n",
       "      <td>0.0</td>\n",
       "      <td>0.0</td>\n",
       "      <td>0.0</td>\n",
       "      <td>0.0</td>\n",
       "    </tr>\n",
       "    <tr>\n",
       "      <th>Howard_SchadowsinZamboula</th>\n",
       "      <td>7.0</td>\n",
       "      <td>31.0</td>\n",
       "      <td>21.0</td>\n",
       "      <td>15.0</td>\n",
       "      <td>24.0</td>\n",
       "      <td>24.0</td>\n",
       "      <td>12.0</td>\n",
       "      <td>4.0</td>\n",
       "      <td>15.0</td>\n",
       "      <td>4.0</td>\n",
       "      <td>...</td>\n",
       "      <td>0.0</td>\n",
       "      <td>0.0</td>\n",
       "      <td>0.0</td>\n",
       "      <td>0.0</td>\n",
       "      <td>0.0</td>\n",
       "      <td>0.0</td>\n",
       "      <td>0.0</td>\n",
       "      <td>0.0</td>\n",
       "      <td>0.0</td>\n",
       "      <td>0.0</td>\n",
       "    </tr>\n",
       "    <tr>\n",
       "      <th>Poe_ThePurloinedLetter</th>\n",
       "      <td>8.0</td>\n",
       "      <td>5.0</td>\n",
       "      <td>0.0</td>\n",
       "      <td>3.0</td>\n",
       "      <td>9.0</td>\n",
       "      <td>2.0</td>\n",
       "      <td>1.0</td>\n",
       "      <td>7.0</td>\n",
       "      <td>2.0</td>\n",
       "      <td>9.0</td>\n",
       "      <td>...</td>\n",
       "      <td>0.0</td>\n",
       "      <td>0.0</td>\n",
       "      <td>0.0</td>\n",
       "      <td>0.0</td>\n",
       "      <td>0.0</td>\n",
       "      <td>0.0</td>\n",
       "      <td>0.0</td>\n",
       "      <td>0.0</td>\n",
       "      <td>0.0</td>\n",
       "      <td>0.0</td>\n",
       "    </tr>\n",
       "    <tr>\n",
       "      <th>Doyle_AStudyinScarlet</th>\n",
       "      <td>52.0</td>\n",
       "      <td>59.0</td>\n",
       "      <td>28.0</td>\n",
       "      <td>35.0</td>\n",
       "      <td>57.0</td>\n",
       "      <td>31.0</td>\n",
       "      <td>67.0</td>\n",
       "      <td>31.0</td>\n",
       "      <td>42.0</td>\n",
       "      <td>37.0</td>\n",
       "      <td>...</td>\n",
       "      <td>0.0</td>\n",
       "      <td>0.0</td>\n",
       "      <td>0.0</td>\n",
       "      <td>0.0</td>\n",
       "      <td>0.0</td>\n",
       "      <td>0.0</td>\n",
       "      <td>0.0</td>\n",
       "      <td>0.0</td>\n",
       "      <td>0.0</td>\n",
       "      <td>0.0</td>\n",
       "    </tr>\n",
       "  </tbody>\n",
       "</table>\n",
       "<p>17 rows × 9234 columns</p>\n",
       "</div>"
      ],
      "text/plain": [
       "                                  long  eyes   head  night  hand   men  face  \\\n",
       "Poe_TheMasqueoftheRedDeath         2.0   1.0    1.0    3.0   4.0   0.0   3.0   \n",
       "Doyle_AScandalinBohemia            5.0   9.0    2.0    4.0  13.0   7.0  10.0   \n",
       "Kipling_ThyServantaDog            38.0  13.0   36.0   19.0  21.0   8.0  13.0   \n",
       "Poe_EurekaAProsePoem              26.0   9.0    0.0    3.0  12.0   9.0   4.0   \n",
       "Howard_TheDevilinIron              7.0  24.0   21.0    9.0  13.0  16.0   5.0   \n",
       "Howard_ShadowsintheMoonlight      19.0  34.0   18.0   11.0  21.0  14.0  12.0   \n",
       "Kipling_TheJungleBook             73.0  68.0  129.0   74.0  16.0  95.0  16.0   \n",
       "Doyle_TheHoundoftheBaskervilles   69.0  71.0   32.0   70.0  39.0  14.0  77.0   \n",
       "Howard_GodsoftheNorth              3.0  12.0    5.0    0.0   3.0   6.0   3.0   \n",
       "Doyle_TheSignoftheFour            45.0  37.0   33.0   63.0  54.0  32.0  50.0   \n",
       "Poe_TheCaskofAmontillado           5.0   3.0    2.0    0.0   3.0   0.0   1.0   \n",
       "Lovecraft_TheShunnedHouse          7.0   6.0    2.0    8.0   2.0   2.0   6.0   \n",
       "Lovecraft_AttheMountainofMadness  41.0  10.0   16.0    5.0   9.0  32.0   5.0   \n",
       "Kipling_TheEndofthePassage         9.0  14.0   12.0    6.0   9.0  10.0  16.0   \n",
       "Howard_SchadowsinZamboula          7.0  31.0   21.0   15.0  24.0  24.0  12.0   \n",
       "Poe_ThePurloinedLetter             8.0   5.0    0.0    3.0   9.0   2.0   1.0   \n",
       "Doyle_AStudyinScarlet             52.0  59.0   28.0   35.0  57.0  31.0  67.0   \n",
       "\n",
       "                                  good  house  thought   ...    ordinarily  \\\n",
       "Poe_TheMasqueoftheRedDeath         0.0    0.0      2.0   ...           0.0   \n",
       "Doyle_AScandalinBohemia            9.0   14.0      4.0   ...           0.0   \n",
       "Kipling_ThyServantaDog            28.0   27.0     20.0   ...           0.0   \n",
       "Poe_EurekaAProsePoem               5.0    0.0     26.0   ...           2.0   \n",
       "Howard_TheDevilinIron              2.0    5.0      9.0   ...           0.0   \n",
       "Howard_ShadowsintheMoonlight       3.0    0.0      8.0   ...           0.0   \n",
       "Kipling_TheJungleBook             72.0   23.0     24.0   ...           0.0   \n",
       "Doyle_TheHoundoftheBaskervilles   61.0   67.0     42.0   ...           0.0   \n",
       "Howard_GodsoftheNorth              0.0    0.0      3.0   ...           0.0   \n",
       "Doyle_TheSignoftheFour            41.0   29.0     47.0   ...           0.0   \n",
       "Poe_TheCaskofAmontillado           4.0    1.0      3.0   ...           0.0   \n",
       "Lovecraft_TheShunnedHouse          4.0   60.0     11.0   ...           0.0   \n",
       "Lovecraft_AttheMountainofMadness  13.0    2.0     34.0   ...           0.0   \n",
       "Kipling_TheEndofthePassage        16.0    4.0      6.0   ...           0.0   \n",
       "Howard_SchadowsinZamboula          4.0   15.0      4.0   ...           0.0   \n",
       "Poe_ThePurloinedLetter             7.0    2.0      9.0   ...           0.0   \n",
       "Doyle_AStudyinScarlet             31.0   42.0     37.0   ...           0.0   \n",
       "\n",
       "                                  nihility  blend  slovenly  belled  squeaked  \\\n",
       "Poe_TheMasqueoftheRedDeath             0.0    0.0       0.0     0.0       0.0   \n",
       "Doyle_AScandalinBohemia                0.0    0.0       0.0     0.0       0.0   \n",
       "Kipling_ThyServantaDog                 0.0    0.0       0.0     0.0       0.0   \n",
       "Poe_EurekaAProsePoem                   2.0    0.0       0.0     0.0       0.0   \n",
       "Howard_TheDevilinIron                  0.0    0.0       0.0     0.0       0.0   \n",
       "Howard_ShadowsintheMoonlight           0.0    0.0       0.0     0.0       0.0   \n",
       "Kipling_TheJungleBook                  0.0    0.0       0.0     2.0       2.0   \n",
       "Doyle_TheHoundoftheBaskervilles        0.0    0.0       2.0     0.0       0.0   \n",
       "Howard_GodsoftheNorth                  0.0    0.0       0.0     0.0       0.0   \n",
       "Doyle_TheSignoftheFour                 0.0    0.0       0.0     0.0       0.0   \n",
       "Poe_TheCaskofAmontillado               0.0    0.0       0.0     0.0       0.0   \n",
       "Lovecraft_TheShunnedHouse              0.0    2.0       0.0     0.0       0.0   \n",
       "Lovecraft_AttheMountainofMadness       0.0    0.0       0.0     0.0       0.0   \n",
       "Kipling_TheEndofthePassage             0.0    0.0       0.0     0.0       0.0   \n",
       "Howard_SchadowsinZamboula              0.0    0.0       0.0     0.0       0.0   \n",
       "Poe_ThePurloinedLetter                 0.0    0.0       0.0     0.0       0.0   \n",
       "Doyle_AStudyinScarlet                  0.0    0.0       0.0     0.0       0.0   \n",
       "\n",
       "                                  needle-like  nightingale  bellow  corals  \n",
       "Poe_TheMasqueoftheRedDeath                0.0          0.0     0.0     0.0  \n",
       "Doyle_AScandalinBohemia                   0.0          0.0     0.0     0.0  \n",
       "Kipling_ThyServantaDog                    0.0          0.0     0.0     0.0  \n",
       "Poe_EurekaAProsePoem                      0.0          0.0     0.0     0.0  \n",
       "Howard_TheDevilinIron                     0.0          0.0     0.0     0.0  \n",
       "Howard_ShadowsintheMoonlight              0.0          0.0     0.0     0.0  \n",
       "Kipling_TheJungleBook                     0.0          2.0     2.0     0.0  \n",
       "Doyle_TheHoundoftheBaskervilles           0.0          0.0     0.0     0.0  \n",
       "Howard_GodsoftheNorth                     0.0          0.0     0.0     0.0  \n",
       "Doyle_TheSignoftheFour                    0.0          0.0     0.0     0.0  \n",
       "Poe_TheCaskofAmontillado                  0.0          0.0     0.0     0.0  \n",
       "Lovecraft_TheShunnedHouse                 0.0          0.0     0.0     0.0  \n",
       "Lovecraft_AttheMountainofMadness          2.0          0.0     0.0     2.0  \n",
       "Kipling_TheEndofthePassage                0.0          0.0     0.0     0.0  \n",
       "Howard_SchadowsinZamboula                 0.0          0.0     0.0     0.0  \n",
       "Poe_ThePurloinedLetter                    0.0          0.0     0.0     0.0  \n",
       "Doyle_AStudyinScarlet                     0.0          0.0     0.0     0.0  \n",
       "\n",
       "[17 rows x 9234 columns]"
      ]
     },
     "execution_count": 20,
     "metadata": {},
     "output_type": "execute_result"
    }
   ],
   "source": [
    "doc_terms"
   ]
  },
  {
   "cell_type": "markdown",
   "metadata": {},
   "source": [
    "### 1.5.2 Remove features from `sparse_bow`"
   ]
  },
  {
   "cell_type": "markdown",
   "metadata": {},
   "source": [
    "#### List the 100 most frequent words"
   ]
  },
  {
   "cell_type": "code",
   "execution_count": 21,
   "metadata": {},
   "outputs": [],
   "source": [
    "mfw100 = preprocessing.find_stopwords(sparse_bow, 100, id_types)"
   ]
  },
  {
   "cell_type": "markdown",
   "metadata": {},
   "source": [
    "These are the five most frequent words:"
   ]
  },
  {
   "cell_type": "code",
   "execution_count": 22,
   "metadata": {},
   "outputs": [
    {
     "data": {
      "text/plain": [
       "['the', 'and', 'of', 'to', 'in']"
      ]
     },
     "execution_count": 22,
     "metadata": {},
     "output_type": "execute_result"
    }
   ],
   "source": [
    "mfw100[:5]"
   ]
  },
  {
   "cell_type": "markdown",
   "metadata": {},
   "source": [
    "#### List hapax legomena"
   ]
  },
  {
   "cell_type": "code",
   "execution_count": 23,
   "metadata": {
    "collapsed": true
   },
   "outputs": [],
   "source": [
    "hapax_list = preprocessing.find_hapax(sparse_bow, id_types)"
   ]
  },
  {
   "cell_type": "markdown",
   "metadata": {},
   "source": [
    "#### Optional: Use external stopwordlist"
   ]
  },
  {
   "cell_type": "code",
   "execution_count": 24,
   "metadata": {
    "collapsed": true
   },
   "outputs": [],
   "source": [
    "path_to_stopwordlist = \"tutorial_supplementals/stopwords/en.txt\"\n",
    "\n",
    "extern_stopwords = [line.strip() for line in open(path_to_stopwordlist, 'r')]"
   ]
  },
  {
   "cell_type": "markdown",
   "metadata": {},
   "source": [
    "#### Combine lists"
   ]
  },
  {
   "cell_type": "code",
   "execution_count": 25,
   "metadata": {
    "collapsed": true
   },
   "outputs": [],
   "source": [
    "features = set(mfw100 + hapax_list + extern_stopwords)"
   ]
  },
  {
   "cell_type": "markdown",
   "metadata": {},
   "source": [
    "#### Remove features from files"
   ]
  },
  {
   "cell_type": "code",
   "execution_count": 26,
   "metadata": {},
   "outputs": [],
   "source": [
    "tokens_cleaned = []\n",
    "\n",
    "for document in tokens:\n",
    "    document_clean = preprocessing.remove_features_from_file(document, features)\n",
    "    tokens_cleaned.append(list(document_clean))"
   ]
  },
  {
   "cell_type": "markdown",
   "metadata": {},
   "source": [
    "#### Write MALLET import files"
   ]
  },
  {
   "cell_type": "code",
   "execution_count": 27,
   "metadata": {
    "collapsed": true
   },
   "outputs": [],
   "source": [
    "preprocessing.create_mallet_import(tokens_cleaned, document_labels)"
   ]
  },
  {
   "cell_type": "markdown",
   "metadata": {},
   "source": [
    "## 1. Setting the parameters"
   ]
  },
  {
   "cell_type": "markdown",
   "metadata": {},
   "source": [
    "#### Define path to corpus folder"
   ]
  },
  {
   "cell_type": "code",
   "execution_count": 28,
   "metadata": {
    "collapsed": true
   },
   "outputs": [],
   "source": [
    "path_to_corpus = \"tutorial_supplementals/mallet_input\""
   ]
  },
  {
   "cell_type": "markdown",
   "metadata": {},
   "source": [
    "#### Path to mallet folder \n",
    "\n",
    "Now we must tell the library where to find the local instance of mallet. If you managed to install Mallet, it is sufficient set `path_to_mallet = \"mallet\"`, if you just store Mallet in a local folder, you have to specify the path to the binary explictly."
   ]
  },
  {
   "cell_type": "code",
   "execution_count": 29,
   "metadata": {
    "collapsed": true
   },
   "outputs": [],
   "source": [
    "#path_to_mallet = \"/home/sina/mallet-2.0.8/bin/mallet\"\n",
    "#path_to_mallet = \"/home/severin/Documents/dariah/app/mallet/bin/mallet\"\n",
    "path_to_mallet = 'mallet'"
   ]
  },
  {
   "cell_type": "markdown",
   "metadata": {},
   "source": [
    "#### Output folder"
   ]
  },
  {
   "cell_type": "code",
   "execution_count": 30,
   "metadata": {
    "collapsed": true
   },
   "outputs": [],
   "source": [
    "outfolder = \"tutorial_supplementals/mallet_output\"\n",
    "binary = \"tutorial_supplementals/mallet_output/binary.mallet\""
   ]
  },
  {
   "cell_type": "markdown",
   "metadata": {},
   "source": [
    "#### The Mallet corpus model\n",
    "\n",
    "Finally, we can give all these folder paths to a Mallet function that handles all the preprocessing steps and creates a Mallet-specific corpus model object."
   ]
  },
  {
   "cell_type": "code",
   "execution_count": 31,
   "metadata": {},
   "outputs": [
    {
     "name": "stdout",
     "output_type": "stream",
     "text": [
      "CPU times: user 4 ms, sys: 4 ms, total: 8 ms\n",
      "Wall time: 3.37 s\n"
     ]
    }
   ],
   "source": [
    "%%time\n",
    "\n",
    "mallet_binary = mallet.create_mallet_binary(path_to_mallet=path_to_mallet,\n",
    "                                            path_to_corpus=path_to_corpus,\n",
    "                                            output_file=binary)"
   ]
  },
  {
   "cell_type": "markdown",
   "metadata": {},
   "source": [
    "## 2. Model creation"
   ]
  },
  {
   "cell_type": "markdown",
   "metadata": {},
   "source": [
    "We can define the number of topics we want to calculate as an argument (`num_topics`) in the function. Furthermore, the number of iterations (`num_iterations`) can be defined. A higher number of iterations will probably yield a better model, but also increases processing time.\n",
    "\n",
    "**Warning: this step can take quite a while!** Meaning something between some seconds and some hours depending on corpus size and the number of iterations. Our example short stories corpus should be done within a minute or two at `num_iterations=5000`."
   ]
  },
  {
   "cell_type": "code",
   "execution_count": 32,
   "metadata": {
    "scrolled": false
   },
   "outputs": [
    {
     "name": "stdout",
     "output_type": "stream",
     "text": [
      "CPU times: user 68 ms, sys: 16 ms, total: 84 ms\n",
      "Wall time: 3min 23s\n"
     ]
    }
   ],
   "source": [
    "%%time\n",
    "\n",
    "mallet.create_mallet_model(path_to_mallet=path_to_mallet, \n",
    "                           path_to_binary=mallet_binary, \n",
    "                           folder_for_output=outfolder,\n",
    "                           num_iterations=5000,\n",
    "                           num_topics=10)"
   ]
  },
  {
   "cell_type": "markdown",
   "metadata": {},
   "source": [
    "### 2.4. Create document-topic matrix\n",
    "\n",
    "The generated model object can now be translated into a human-readable document-topic matrix (that is a actually a pandas data frame) that constitutes our principle exchange format for topic modeling results. For generating the matrix from a Gensim model, we can use the following function:"
   ]
  },
  {
   "cell_type": "code",
   "execution_count": 33,
   "metadata": {},
   "outputs": [
    {
     "data": {
      "text/html": [
       "<div>\n",
       "<style>\n",
       "    .dataframe thead tr:only-child th {\n",
       "        text-align: right;\n",
       "    }\n",
       "\n",
       "    .dataframe thead th {\n",
       "        text-align: left;\n",
       "    }\n",
       "\n",
       "    .dataframe tbody tr th {\n",
       "        vertical-align: top;\n",
       "    }\n",
       "</style>\n",
       "<table border=\"1\" class=\"dataframe\">\n",
       "  <thead>\n",
       "    <tr style=\"text-align: right;\">\n",
       "      <th></th>\n",
       "      <th>Poe_TheMasqueoftheRedDeath.txt</th>\n",
       "      <th>Doyle_AScandalinBohemia.txt</th>\n",
       "      <th>Kipling_ThyServantaDog.txt</th>\n",
       "      <th>Poe_EurekaAProsePoem.txt</th>\n",
       "      <th>Howard_TheDevilinIron.txt</th>\n",
       "      <th>Howard_ShadowsintheMoonlight.txt</th>\n",
       "      <th>Kipling_TheJungleBook.txt</th>\n",
       "      <th>Doyle_TheHoundoftheBaskervilles.txt</th>\n",
       "      <th>Howard_GodsoftheNorth.txt</th>\n",
       "      <th>Doyle_TheSignoftheFour.txt</th>\n",
       "      <th>Poe_TheCaskofAmontillado.txt</th>\n",
       "      <th>Lovecraft_TheShunnedHouse.txt</th>\n",
       "      <th>Lovecraft_AttheMountainofMadness.txt</th>\n",
       "      <th>Kipling_TheEndofthePassage.txt</th>\n",
       "      <th>Howard_SchadowsinZamboula.txt</th>\n",
       "      <th>Poe_ThePurloinedLetter.txt</th>\n",
       "      <th>Doyle_AStudyinScarlet.txt</th>\n",
       "    </tr>\n",
       "  </thead>\n",
       "  <tbody>\n",
       "    <tr>\n",
       "      <th>back great time</th>\n",
       "      <td>0.176931</td>\n",
       "      <td>0.174916</td>\n",
       "      <td>0.139891</td>\n",
       "      <td>0.040760</td>\n",
       "      <td>0.251931</td>\n",
       "      <td>0.262883</td>\n",
       "      <td>0.183520</td>\n",
       "      <td>0.249728</td>\n",
       "      <td>0.287467</td>\n",
       "      <td>0.228976</td>\n",
       "      <td>0.171445</td>\n",
       "      <td>0.162102</td>\n",
       "      <td>0.183145</td>\n",
       "      <td>0.157516</td>\n",
       "      <td>0.225921</td>\n",
       "      <td>0.079992</td>\n",
       "      <td>0.193338</td>\n",
       "    </tr>\n",
       "    <tr>\n",
       "      <th>ravager smallest dog</th>\n",
       "      <td>0.001566</td>\n",
       "      <td>0.001178</td>\n",
       "      <td>0.563733</td>\n",
       "      <td>0.000105</td>\n",
       "      <td>0.000471</td>\n",
       "      <td>0.000825</td>\n",
       "      <td>0.002568</td>\n",
       "      <td>0.003589</td>\n",
       "      <td>0.000332</td>\n",
       "      <td>0.007369</td>\n",
       "      <td>0.001720</td>\n",
       "      <td>0.001791</td>\n",
       "      <td>0.000522</td>\n",
       "      <td>0.003515</td>\n",
       "      <td>0.001186</td>\n",
       "      <td>0.004168</td>\n",
       "      <td>0.004495</td>\n",
       "    </tr>\n",
       "    <tr>\n",
       "      <th>mowgli jungle big</th>\n",
       "      <td>0.001566</td>\n",
       "      <td>0.004545</td>\n",
       "      <td>0.027120</td>\n",
       "      <td>0.000035</td>\n",
       "      <td>0.017988</td>\n",
       "      <td>0.028333</td>\n",
       "      <td>0.530915</td>\n",
       "      <td>0.001906</td>\n",
       "      <td>0.011605</td>\n",
       "      <td>0.006235</td>\n",
       "      <td>0.014335</td>\n",
       "      <td>0.007478</td>\n",
       "      <td>0.004204</td>\n",
       "      <td>0.046033</td>\n",
       "      <td>0.011583</td>\n",
       "      <td>0.001786</td>\n",
       "      <td>0.011317</td>\n",
       "    </tr>\n",
       "    <tr>\n",
       "      <th>man made good</th>\n",
       "      <td>0.072547</td>\n",
       "      <td>0.170875</td>\n",
       "      <td>0.177124</td>\n",
       "      <td>0.010146</td>\n",
       "      <td>0.061876</td>\n",
       "      <td>0.083715</td>\n",
       "      <td>0.229793</td>\n",
       "      <td>0.128688</td>\n",
       "      <td>0.038793</td>\n",
       "      <td>0.225308</td>\n",
       "      <td>0.135894</td>\n",
       "      <td>0.058037</td>\n",
       "      <td>0.023000</td>\n",
       "      <td>0.558587</td>\n",
       "      <td>0.081813</td>\n",
       "      <td>0.088726</td>\n",
       "      <td>0.212528</td>\n",
       "    </tr>\n",
       "    <tr>\n",
       "      <th>end thing part</th>\n",
       "      <td>0.149791</td>\n",
       "      <td>0.177273</td>\n",
       "      <td>0.040494</td>\n",
       "      <td>0.190900</td>\n",
       "      <td>0.053400</td>\n",
       "      <td>0.024849</td>\n",
       "      <td>0.010247</td>\n",
       "      <td>0.147104</td>\n",
       "      <td>0.018899</td>\n",
       "      <td>0.144481</td>\n",
       "      <td>0.148509</td>\n",
       "      <td>0.116389</td>\n",
       "      <td>0.133134</td>\n",
       "      <td>0.068798</td>\n",
       "      <td>0.033838</td>\n",
       "      <td>0.538110</td>\n",
       "      <td>0.165987</td>\n",
       "    </tr>\n",
       "    <tr>\n",
       "      <th>lake feet land</th>\n",
       "      <td>0.019311</td>\n",
       "      <td>0.002862</td>\n",
       "      <td>0.006893</td>\n",
       "      <td>0.013424</td>\n",
       "      <td>0.049444</td>\n",
       "      <td>0.033835</td>\n",
       "      <td>0.002967</td>\n",
       "      <td>0.010817</td>\n",
       "      <td>0.044761</td>\n",
       "      <td>0.014171</td>\n",
       "      <td>0.032683</td>\n",
       "      <td>0.113019</td>\n",
       "      <td>0.527286</td>\n",
       "      <td>0.016907</td>\n",
       "      <td>0.015596</td>\n",
       "      <td>0.015681</td>\n",
       "      <td>0.019413</td>\n",
       "    </tr>\n",
       "    <tr>\n",
       "      <th>conan eyes door</th>\n",
       "      <td>0.157098</td>\n",
       "      <td>0.019697</td>\n",
       "      <td>0.010691</td>\n",
       "      <td>0.003801</td>\n",
       "      <td>0.510171</td>\n",
       "      <td>0.531542</td>\n",
       "      <td>0.024258</td>\n",
       "      <td>0.029480</td>\n",
       "      <td>0.572613</td>\n",
       "      <td>0.035312</td>\n",
       "      <td>0.032683</td>\n",
       "      <td>0.032968</td>\n",
       "      <td>0.015141</td>\n",
       "      <td>0.041681</td>\n",
       "      <td>0.551897</td>\n",
       "      <td>0.005756</td>\n",
       "      <td>0.029423</td>\n",
       "    </tr>\n",
       "    <tr>\n",
       "      <th>holmes sir man</th>\n",
       "      <td>0.028706</td>\n",
       "      <td>0.260438</td>\n",
       "      <td>0.017295</td>\n",
       "      <td>0.001987</td>\n",
       "      <td>0.008005</td>\n",
       "      <td>0.006694</td>\n",
       "      <td>0.007056</td>\n",
       "      <td>0.385965</td>\n",
       "      <td>0.004310</td>\n",
       "      <td>0.298399</td>\n",
       "      <td>0.038417</td>\n",
       "      <td>0.029598</td>\n",
       "      <td>0.002775</td>\n",
       "      <td>0.035989</td>\n",
       "      <td>0.004469</td>\n",
       "      <td>0.058952</td>\n",
       "      <td>0.297769</td>\n",
       "    </tr>\n",
       "    <tr>\n",
       "      <th>house street floor</th>\n",
       "      <td>0.362735</td>\n",
       "      <td>0.169192</td>\n",
       "      <td>0.013168</td>\n",
       "      <td>0.007078</td>\n",
       "      <td>0.029478</td>\n",
       "      <td>0.020998</td>\n",
       "      <td>0.007155</td>\n",
       "      <td>0.027649</td>\n",
       "      <td>0.015584</td>\n",
       "      <td>0.024908</td>\n",
       "      <td>0.369839</td>\n",
       "      <td>0.424584</td>\n",
       "      <td>0.057623</td>\n",
       "      <td>0.057415</td>\n",
       "      <td>0.059559</td>\n",
       "      <td>0.066495</td>\n",
       "      <td>0.049633</td>\n",
       "    </tr>\n",
       "    <tr>\n",
       "      <th>centre atoms matter</th>\n",
       "      <td>0.029749</td>\n",
       "      <td>0.019024</td>\n",
       "      <td>0.003591</td>\n",
       "      <td>0.731764</td>\n",
       "      <td>0.017235</td>\n",
       "      <td>0.006327</td>\n",
       "      <td>0.001521</td>\n",
       "      <td>0.015074</td>\n",
       "      <td>0.005637</td>\n",
       "      <td>0.014838</td>\n",
       "      <td>0.054472</td>\n",
       "      <td>0.054034</td>\n",
       "      <td>0.053171</td>\n",
       "      <td>0.013559</td>\n",
       "      <td>0.014137</td>\n",
       "      <td>0.140333</td>\n",
       "      <td>0.016098</td>\n",
       "    </tr>\n",
       "  </tbody>\n",
       "</table>\n",
       "</div>"
      ],
      "text/plain": [
       "                      Poe_TheMasqueoftheRedDeath.txt  \\\n",
       "back great time                             0.176931   \n",
       "ravager smallest dog                        0.001566   \n",
       "mowgli jungle big                           0.001566   \n",
       "man made good                               0.072547   \n",
       "end thing part                              0.149791   \n",
       "lake feet land                              0.019311   \n",
       "conan eyes door                             0.157098   \n",
       "holmes sir man                              0.028706   \n",
       "house street floor                          0.362735   \n",
       "centre atoms matter                         0.029749   \n",
       "\n",
       "                      Doyle_AScandalinBohemia.txt  Kipling_ThyServantaDog.txt  \\\n",
       "back great time                          0.174916                    0.139891   \n",
       "ravager smallest dog                     0.001178                    0.563733   \n",
       "mowgli jungle big                        0.004545                    0.027120   \n",
       "man made good                            0.170875                    0.177124   \n",
       "end thing part                           0.177273                    0.040494   \n",
       "lake feet land                           0.002862                    0.006893   \n",
       "conan eyes door                          0.019697                    0.010691   \n",
       "holmes sir man                           0.260438                    0.017295   \n",
       "house street floor                       0.169192                    0.013168   \n",
       "centre atoms matter                      0.019024                    0.003591   \n",
       "\n",
       "                      Poe_EurekaAProsePoem.txt  Howard_TheDevilinIron.txt  \\\n",
       "back great time                       0.040760                   0.251931   \n",
       "ravager smallest dog                  0.000105                   0.000471   \n",
       "mowgli jungle big                     0.000035                   0.017988   \n",
       "man made good                         0.010146                   0.061876   \n",
       "end thing part                        0.190900                   0.053400   \n",
       "lake feet land                        0.013424                   0.049444   \n",
       "conan eyes door                       0.003801                   0.510171   \n",
       "holmes sir man                        0.001987                   0.008005   \n",
       "house street floor                    0.007078                   0.029478   \n",
       "centre atoms matter                   0.731764                   0.017235   \n",
       "\n",
       "                      Howard_ShadowsintheMoonlight.txt  \\\n",
       "back great time                               0.262883   \n",
       "ravager smallest dog                          0.000825   \n",
       "mowgli jungle big                             0.028333   \n",
       "man made good                                 0.083715   \n",
       "end thing part                                0.024849   \n",
       "lake feet land                                0.033835   \n",
       "conan eyes door                               0.531542   \n",
       "holmes sir man                                0.006694   \n",
       "house street floor                            0.020998   \n",
       "centre atoms matter                           0.006327   \n",
       "\n",
       "                      Kipling_TheJungleBook.txt  \\\n",
       "back great time                        0.183520   \n",
       "ravager smallest dog                   0.002568   \n",
       "mowgli jungle big                      0.530915   \n",
       "man made good                          0.229793   \n",
       "end thing part                         0.010247   \n",
       "lake feet land                         0.002967   \n",
       "conan eyes door                        0.024258   \n",
       "holmes sir man                         0.007056   \n",
       "house street floor                     0.007155   \n",
       "centre atoms matter                    0.001521   \n",
       "\n",
       "                      Doyle_TheHoundoftheBaskervilles.txt  \\\n",
       "back great time                                  0.249728   \n",
       "ravager smallest dog                             0.003589   \n",
       "mowgli jungle big                                0.001906   \n",
       "man made good                                    0.128688   \n",
       "end thing part                                   0.147104   \n",
       "lake feet land                                   0.010817   \n",
       "conan eyes door                                  0.029480   \n",
       "holmes sir man                                   0.385965   \n",
       "house street floor                               0.027649   \n",
       "centre atoms matter                              0.015074   \n",
       "\n",
       "                      Howard_GodsoftheNorth.txt  Doyle_TheSignoftheFour.txt  \\\n",
       "back great time                        0.287467                    0.228976   \n",
       "ravager smallest dog                   0.000332                    0.007369   \n",
       "mowgli jungle big                      0.011605                    0.006235   \n",
       "man made good                          0.038793                    0.225308   \n",
       "end thing part                         0.018899                    0.144481   \n",
       "lake feet land                         0.044761                    0.014171   \n",
       "conan eyes door                        0.572613                    0.035312   \n",
       "holmes sir man                         0.004310                    0.298399   \n",
       "house street floor                     0.015584                    0.024908   \n",
       "centre atoms matter                    0.005637                    0.014838   \n",
       "\n",
       "                      Poe_TheCaskofAmontillado.txt  \\\n",
       "back great time                           0.171445   \n",
       "ravager smallest dog                      0.001720   \n",
       "mowgli jungle big                         0.014335   \n",
       "man made good                             0.135894   \n",
       "end thing part                            0.148509   \n",
       "lake feet land                            0.032683   \n",
       "conan eyes door                           0.032683   \n",
       "holmes sir man                            0.038417   \n",
       "house street floor                        0.369839   \n",
       "centre atoms matter                       0.054472   \n",
       "\n",
       "                      Lovecraft_TheShunnedHouse.txt  \\\n",
       "back great time                            0.162102   \n",
       "ravager smallest dog                       0.001791   \n",
       "mowgli jungle big                          0.007478   \n",
       "man made good                              0.058037   \n",
       "end thing part                             0.116389   \n",
       "lake feet land                             0.113019   \n",
       "conan eyes door                            0.032968   \n",
       "holmes sir man                             0.029598   \n",
       "house street floor                         0.424584   \n",
       "centre atoms matter                        0.054034   \n",
       "\n",
       "                      Lovecraft_AttheMountainofMadness.txt  \\\n",
       "back great time                                   0.183145   \n",
       "ravager smallest dog                              0.000522   \n",
       "mowgli jungle big                                 0.004204   \n",
       "man made good                                     0.023000   \n",
       "end thing part                                    0.133134   \n",
       "lake feet land                                    0.527286   \n",
       "conan eyes door                                   0.015141   \n",
       "holmes sir man                                    0.002775   \n",
       "house street floor                                0.057623   \n",
       "centre atoms matter                               0.053171   \n",
       "\n",
       "                      Kipling_TheEndofthePassage.txt  \\\n",
       "back great time                             0.157516   \n",
       "ravager smallest dog                        0.003515   \n",
       "mowgli jungle big                           0.046033   \n",
       "man made good                               0.558587   \n",
       "end thing part                              0.068798   \n",
       "lake feet land                              0.016907   \n",
       "conan eyes door                             0.041681   \n",
       "holmes sir man                              0.035989   \n",
       "house street floor                          0.057415   \n",
       "centre atoms matter                         0.013559   \n",
       "\n",
       "                      Howard_SchadowsinZamboula.txt  \\\n",
       "back great time                            0.225921   \n",
       "ravager smallest dog                       0.001186   \n",
       "mowgli jungle big                          0.011583   \n",
       "man made good                              0.081813   \n",
       "end thing part                             0.033838   \n",
       "lake feet land                             0.015596   \n",
       "conan eyes door                            0.551897   \n",
       "holmes sir man                             0.004469   \n",
       "house street floor                         0.059559   \n",
       "centre atoms matter                        0.014137   \n",
       "\n",
       "                      Poe_ThePurloinedLetter.txt  Doyle_AStudyinScarlet.txt  \n",
       "back great time                         0.079992                   0.193338  \n",
       "ravager smallest dog                    0.004168                   0.004495  \n",
       "mowgli jungle big                       0.001786                   0.011317  \n",
       "man made good                           0.088726                   0.212528  \n",
       "end thing part                          0.538110                   0.165987  \n",
       "lake feet land                          0.015681                   0.019413  \n",
       "conan eyes door                         0.005756                   0.029423  \n",
       "holmes sir man                          0.058952                   0.297769  \n",
       "house street floor                      0.066495                   0.049633  \n",
       "centre atoms matter                     0.140333                   0.016098  "
      ]
     },
     "execution_count": 33,
     "metadata": {},
     "output_type": "execute_result"
    }
   ],
   "source": [
    "doc_topic = mallet.show_doc_topic_matrix(outfolder)\n",
    "doc_topic"
   ]
  },
  {
   "cell_type": "markdown",
   "metadata": {},
   "source": [
    "## 3. Visualization"
   ]
  },
  {
   "cell_type": "markdown",
   "metadata": {},
   "source": [
    "Now we can see the topics in the model with the following function:\n",
    "\n",
    "**Hint:** Depending on the number of topics chosen in step 2, you might have to adjust *num_topics* in this step accordingly."
   ]
  },
  {
   "cell_type": "code",
   "execution_count": 34,
   "metadata": {},
   "outputs": [
    {
     "data": {
      "text/html": [
       "<div>\n",
       "<style>\n",
       "    .dataframe thead tr:only-child th {\n",
       "        text-align: right;\n",
       "    }\n",
       "\n",
       "    .dataframe thead th {\n",
       "        text-align: left;\n",
       "    }\n",
       "\n",
       "    .dataframe tbody tr th {\n",
       "        vertical-align: top;\n",
       "    }\n",
       "</style>\n",
       "<table border=\"1\" class=\"dataframe\">\n",
       "  <thead>\n",
       "    <tr style=\"text-align: right;\">\n",
       "      <th></th>\n",
       "      <th>Key 1</th>\n",
       "      <th>Key 2</th>\n",
       "      <th>Key 3</th>\n",
       "      <th>Key 4</th>\n",
       "      <th>Key 5</th>\n",
       "      <th>Key 6</th>\n",
       "      <th>Key 7</th>\n",
       "      <th>Key 8</th>\n",
       "      <th>Key 9</th>\n",
       "      <th>Key 10</th>\n",
       "    </tr>\n",
       "  </thead>\n",
       "  <tbody>\n",
       "    <tr>\n",
       "      <th>Topic 1</th>\n",
       "      <td>back</td>\n",
       "      <td>great</td>\n",
       "      <td>time</td>\n",
       "      <td>place</td>\n",
       "      <td>left</td>\n",
       "      <td>found</td>\n",
       "      <td>life</td>\n",
       "      <td>long</td>\n",
       "      <td>knew</td>\n",
       "      <td>thought</td>\n",
       "    </tr>\n",
       "    <tr>\n",
       "      <th>Topic 2</th>\n",
       "      <td>ravager</td>\n",
       "      <td>smallest</td>\n",
       "      <td>dog</td>\n",
       "      <td>moore</td>\n",
       "      <td>slippers</td>\n",
       "      <td>proper</td>\n",
       "      <td>master</td>\n",
       "      <td>wented</td>\n",
       "      <td>tags</td>\n",
       "      <td>back</td>\n",
       "    </tr>\n",
       "    <tr>\n",
       "      <th>Topic 3</th>\n",
       "      <td>mowgli</td>\n",
       "      <td>jungle</td>\n",
       "      <td>big</td>\n",
       "      <td>bagheera</td>\n",
       "      <td>thou</td>\n",
       "      <td>wolf</td>\n",
       "      <td>head</td>\n",
       "      <td>rikki-tikki</td>\n",
       "      <td>sea</td>\n",
       "      <td>nag</td>\n",
       "    </tr>\n",
       "    <tr>\n",
       "      <th>Topic 4</th>\n",
       "      <td>man</td>\n",
       "      <td>made</td>\n",
       "      <td>good</td>\n",
       "      <td>don't</td>\n",
       "      <td>time</td>\n",
       "      <td>put</td>\n",
       "      <td>young</td>\n",
       "      <td>long</td>\n",
       "      <td>make</td>\n",
       "      <td>looked</td>\n",
       "    </tr>\n",
       "    <tr>\n",
       "      <th>Topic 5</th>\n",
       "      <td>end</td>\n",
       "      <td>thing</td>\n",
       "      <td>part</td>\n",
       "      <td>point</td>\n",
       "      <td>moment</td>\n",
       "      <td>make</td>\n",
       "      <td>found</td>\n",
       "      <td>true</td>\n",
       "      <td>nature</td>\n",
       "      <td>words</td>\n",
       "    </tr>\n",
       "    <tr>\n",
       "      <th>Topic 6</th>\n",
       "      <td>lake</td>\n",
       "      <td>feet</td>\n",
       "      <td>land</td>\n",
       "      <td>camp</td>\n",
       "      <td>made</td>\n",
       "      <td>city</td>\n",
       "      <td>years</td>\n",
       "      <td>mountains</td>\n",
       "      <td>things</td>\n",
       "      <td>world</td>\n",
       "    </tr>\n",
       "    <tr>\n",
       "      <th>Topic 7</th>\n",
       "      <td>conan</td>\n",
       "      <td>eyes</td>\n",
       "      <td>door</td>\n",
       "      <td>man</td>\n",
       "      <td>trees</td>\n",
       "      <td>men</td>\n",
       "      <td>hand</td>\n",
       "      <td>wall</td>\n",
       "      <td>sword</td>\n",
       "      <td>girl</td>\n",
       "    </tr>\n",
       "    <tr>\n",
       "      <th>Topic 8</th>\n",
       "      <td>holmes</td>\n",
       "      <td>sir</td>\n",
       "      <td>man</td>\n",
       "      <td>case</td>\n",
       "      <td>moor</td>\n",
       "      <td>face</td>\n",
       "      <td>watson</td>\n",
       "      <td>henry</td>\n",
       "      <td>sherlock</td>\n",
       "      <td>house</td>\n",
       "    </tr>\n",
       "    <tr>\n",
       "      <th>Topic 9</th>\n",
       "      <td>house</td>\n",
       "      <td>street</td>\n",
       "      <td>floor</td>\n",
       "      <td>windows</td>\n",
       "      <td>felt</td>\n",
       "      <td>wall</td>\n",
       "      <td>form</td>\n",
       "      <td>building</td>\n",
       "      <td>door</td>\n",
       "      <td>uncle</td>\n",
       "    </tr>\n",
       "    <tr>\n",
       "      <th>Topic 10</th>\n",
       "      <td>centre</td>\n",
       "      <td>atoms</td>\n",
       "      <td>matter</td>\n",
       "      <td>sun</td>\n",
       "      <td>general</td>\n",
       "      <td>force</td>\n",
       "      <td>space</td>\n",
       "      <td>idea</td>\n",
       "      <td>fact</td>\n",
       "      <td>universe</td>\n",
       "    </tr>\n",
       "  </tbody>\n",
       "</table>\n",
       "</div>"
      ],
      "text/plain": [
       "            Key 1     Key 2   Key 3     Key 4     Key 5   Key 6   Key 7  \\\n",
       "Topic 1      back     great    time     place      left   found    life   \n",
       "Topic 2   ravager  smallest     dog     moore  slippers  proper  master   \n",
       "Topic 3    mowgli    jungle     big  bagheera      thou    wolf    head   \n",
       "Topic 4       man      made    good     don't      time     put   young   \n",
       "Topic 5       end     thing    part     point    moment    make   found   \n",
       "Topic 6      lake      feet    land      camp      made    city   years   \n",
       "Topic 7     conan      eyes    door       man     trees     men    hand   \n",
       "Topic 8    holmes       sir     man      case      moor    face  watson   \n",
       "Topic 9     house    street   floor   windows      felt    wall    form   \n",
       "Topic 10   centre     atoms  matter       sun   general   force   space   \n",
       "\n",
       "                Key 8     Key 9    Key 10  \n",
       "Topic 1          long      knew   thought  \n",
       "Topic 2        wented      tags      back  \n",
       "Topic 3   rikki-tikki       sea       nag  \n",
       "Topic 4          long      make    looked  \n",
       "Topic 5          true    nature     words  \n",
       "Topic 6     mountains    things     world  \n",
       "Topic 7          wall     sword      girl  \n",
       "Topic 8         henry  sherlock     house  \n",
       "Topic 9      building      door     uncle  \n",
       "Topic 10         idea      fact  universe  "
      ]
     },
     "execution_count": 34,
     "metadata": {},
     "output_type": "execute_result"
    }
   ],
   "source": [
    "mallet.show_topics_keys(\"tutorial_supplementals/mallet_output\", num_topics=10)"
   ]
  },
  {
   "cell_type": "markdown",
   "metadata": {},
   "source": [
    "### 3.1. Distribution of topics"
   ]
  },
  {
   "cell_type": "markdown",
   "metadata": {},
   "source": [
    "#### Distribution of topics over all documents\n",
    "\n",
    "The distribution of topics over all documents can now be visualized in a heat map:"
   ]
  },
  {
   "cell_type": "code",
   "execution_count": 35,
   "metadata": {},
   "outputs": [
    {
     "data": {
      "image/png": "[encoded data removed]",
      "text/plain": [
       "<matplotlib.figure.Figure at 0xa6bd95ac>"
      ]
     },
     "metadata": {},
     "output_type": "display_data"
    }
   ],
   "source": [
    "heatmap = visualization.doc_topic_heatmap(doc_topic)\n",
    "heatmap.show()"
   ]
  },
  {
   "cell_type": "markdown",
   "metadata": {},
   "source": [
    "#### Distribution of topics in a single documents\n",
    "\n",
    "To take closer look on the topics in a single text, we can use the follwing function that shows all the topics in a text and their respective proportions. To select the document, we have to give its index to the function."
   ]
  },
  {
   "cell_type": "code",
   "execution_count": 36,
   "metadata": {},
   "outputs": [
    {
     "data": {
      "text/plain": [
       "<module 'matplotlib.pyplot' from '/home/severin/.local/lib/python3.5/site-packages/matplotlib/pyplot.py'>"
      ]
     },
     "execution_count": 36,
     "metadata": {},
     "output_type": "execute_result"
    },
    {
     "data": {
      "image/png": "[encoded data removed]",
      "text/plain": [
       "<matplotlib.figure.Figure at 0xa5c5494c>"
      ]
     },
     "metadata": {},
     "output_type": "display_data"
    }
   ],
   "source": [
    "visualization.plot_doc_topics(doc_topic, 7)"
   ]
  },
  {
   "cell_type": "markdown",
   "metadata": {},
   "source": [
    "# WORK IN PROGRESS:"
   ]
  },
  {
   "cell_type": "code",
   "execution_count": null,
   "metadata": {
    "collapsed": true
   },
   "outputs": [],
   "source": [
    "'''word_weights_file = \"tutorial_supplementals/mallet_output/topic_word_weights.txt\"\n",
    "\n",
    "word_scores_grouped = visual.read_mallet_word_weights(word_weights_file)\n",
    "\n",
    "topic_nr  = 0\n",
    "word_scores_grouped.get_group(topic_nr)'''"
   ]
  },
  {
   "cell_type": "code",
   "execution_count": null,
   "metadata": {
    "collapsed": true
   },
   "outputs": [],
   "source": [
    "'''number_of_top_words = 10\n",
    "topic_nr = 2\n",
    "\n",
    "wordlewords = visual.get_wordlewords(word_scores_grouped, number_of_top_words, topic_nr)'''"
   ]
  },
  {
   "cell_type": "code",
   "execution_count": null,
   "metadata": {
    "collapsed": true
   },
   "outputs": [],
   "source": [
    "'''wordlewords'''"
   ]
  },
  {
   "cell_type": "code",
   "execution_count": null,
   "metadata": {
    "collapsed": true
   },
   "outputs": [],
   "source": [
    "'''word_weights_file = \"/home/sina/DARIAH/Topics/tutorial_supplementals/mallet_output/topic_word_weights.txt\"\n",
    "numOfTopics = 4\n",
    "outfolder = \"/home/sina/DARIAH/Topics/tutorial_supplementals/mallet_output/wordles\"\n",
    "dpi = 200\n",
    "font_path = \"/home/sina/DARIAH/Topics/tutorial_supplementals/font\"\n",
    "number_of_top_words = 10\n",
    "\n",
    "wordle = visual.plot_wordle_from_mallet(word_weights_file, \n",
    "                                 numOfTopics,\n",
    "                                 number_of_top_words,\n",
    "                                 outfolder,\n",
    "                                 dpi)'''"
   ]
  },
  {
   "cell_type": "code",
   "execution_count": null,
   "metadata": {
    "collapsed": true
   },
   "outputs": [],
   "source": [
    "%lsmagic"
   ]
  },
  {
   "cell_type": "code",
   "execution_count": null,
   "metadata": {
    "collapsed": true
   },
   "outputs": [],
   "source": [
    "%load_ext line_profiler"
   ]
  },
  {
   "cell_type": "code",
   "execution_count": null,
   "metadata": {
    "collapsed": true
   },
   "outputs": [],
   "source": [
    "%mprun -f"
   ]
  },
  {
   "cell_type": "code",
   "execution_count": null,
   "metadata": {
    "collapsed": true
   },
   "outputs": [],
   "source": [
    "import line_profiler\n",
    "lp = line_profiler.LineProfiler()\n",
    "lp.add_function(some_useless_slow_function)\n",
    "lp.runctx('some_useless_slow_function()', locals=locals(), globals=globals())\n",
    "lp.print_stats()"
   ]
  },
  {
   "cell_type": "code",
   "execution_count": null,
   "metadata": {
    "collapsed": true
   },
   "outputs": [],
   "source": []
  }
 ],
 "metadata": {
  "kernelspec": {
   "display_name": "Python 3",
   "language": "python",
   "name": "python3"
  },
  "language_info": {
   "codemirror_mode": {
    "name": "ipython",
    "version": 3
   },
   "file_extension": ".py",
   "mimetype": "text/x-python",
   "name": "python",
   "nbconvert_exporter": "python",
   "pygments_lexer": "ipython3",
   "version": "3.5.3"
  }
 },
 "nbformat": 4,
 "nbformat_minor": 1
}
