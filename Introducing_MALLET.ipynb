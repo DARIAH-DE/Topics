{
 "cells": [
  {
   "cell_type": "markdown",
   "metadata": {},
   "source": [
    "<div style=\"text-align: center\"><h1>Topics – Easy Topic Modeling in Python</h1></div>"
   ]
  },
  {
   "cell_type": "markdown",
   "metadata": {},
   "source": [
    "The text mining technique **Topic Modeling** has become a popular statistical method for clustering documents. This notebook introduces an user-friendly workflow, basically containing data preprocessing, an implementation of the prototypic topic model **Latent Dirichlet Allocation** (LDA) which learns the relationships between words, topics, and documents, as well as multiple visualizations to explore the trained LDA model.\n",
    "\n",
    "In this notebook, we're relying on the LDA implementation by [Andrew McCallum](https://people.cs.umass.edu/~mccallum/) called [**MALLET**](https://radimrehurek.com/gensim/)."
   ]
  },
  {
   "cell_type": "markdown",
   "metadata": {},
   "source": [
    "## First step: Installing dependencies\n",
    "\n",
    "The following tutorial will explain how to perform LDA topic modeling with a programming library in Python. If you have not done so yet, please install all necessary libraries by executing one of the following cells.\n",
    "\n",
    "**Note**: Make sure MALLET is properly installed or at least the unzipped folder in your working directory. If not, download from [this](http://mallet.cs.umass.edu/download.php) ressource."
   ]
  },
  {
   "cell_type": "markdown",
   "metadata": {},
   "source": [
    "### Windows"
   ]
  },
  {
   "cell_type": "code",
   "execution_count": null,
   "metadata": {
    "collapsed": true
   },
   "outputs": [],
   "source": [
    "#!pip install -r requirements.txt"
   ]
  },
  {
   "cell_type": "markdown",
   "metadata": {},
   "source": [
    "### macOS"
   ]
  },
  {
   "cell_type": "code",
   "execution_count": null,
   "metadata": {
    "collapsed": true
   },
   "outputs": [],
   "source": [
    "#!pip3 install -r requirements.txt"
   ]
  },
  {
   "cell_type": "markdown",
   "metadata": {},
   "source": [
    "### Linux"
   ]
  },
  {
   "cell_type": "code",
   "execution_count": null,
   "metadata": {
    "collapsed": true
   },
   "outputs": [],
   "source": [
    "#!sudo pip3 install -r requirements.txt"
   ]
  },
  {
   "cell_type": "markdown",
   "metadata": {},
   "source": [
    "## 1. Preprocessing"
   ]
  },
  {
   "cell_type": "markdown",
   "metadata": {},
   "source": [
    "Let's not pay heed to any warnings right now and execute the following cell."
   ]
  },
  {
   "cell_type": "code",
   "execution_count": 1,
   "metadata": {
    "collapsed": true
   },
   "outputs": [],
   "source": [
    "import warnings\n",
    "warnings.filterwarnings('ignore')"
   ]
  },
  {
   "cell_type": "markdown",
   "metadata": {},
   "source": [
    "#### Loading modules from DARIAH-Topics library\n",
    "First, we have to get access to the functionalities of the library by importing them."
   ]
  },
  {
   "cell_type": "code",
   "execution_count": 2,
   "metadata": {
    "collapsed": true
   },
   "outputs": [],
   "source": [
    "from dariah_topics import preprocessing\n",
    "from dariah_topics import doclist\n",
    "from dariah_topics import meta\n",
    "from dariah_topics import mallet\n",
    "from dariah_topics import visualization"
   ]
  },
  {
   "cell_type": "markdown",
   "metadata": {},
   "source": [
    "#### Activating inline output in Jupyter notebook\n",
    "The following line will just tell the notebook to show graphics in the output frames."
   ]
  },
  {
   "cell_type": "code",
   "execution_count": 3,
   "metadata": {
    "collapsed": true
   },
   "outputs": [],
   "source": [
    "%matplotlib inline"
   ]
  },
  {
   "cell_type": "markdown",
   "metadata": {},
   "source": [
    "### 1.1. Reading a corpus of documents"
   ]
  },
  {
   "cell_type": "markdown",
   "metadata": {},
   "source": [
    "#### Defining the path to the corpus folder\n",
    "\n",
    "In the present example code, we are using a folder of 'txt' documents provided with the package. For using your own corpus, change the path accordingly."
   ]
  },
  {
   "cell_type": "code",
   "execution_count": 4,
   "metadata": {
    "collapsed": true
   },
   "outputs": [],
   "source": [
    "path = \"corpus_txt\""
   ]
  },
  {
   "cell_type": "markdown",
   "metadata": {},
   "source": [
    "#### List all documents in the folder\n",
    "We begin by creating a list of all the documents in the folder specified above. That list will tell function `pre.read_from_txt()` (see below) which text documents to read."
   ]
  },
  {
   "cell_type": "code",
   "execution_count": 5,
   "metadata": {
    "collapsed": true
   },
   "outputs": [],
   "source": [
    "pathdoclist = doclist.PathDocList(path)\n",
    "document_list = pathdoclist.full_paths(as_str=True)"
   ]
  },
  {
   "cell_type": "markdown",
   "metadata": {},
   "source": [
    "The current list of documents looks like this:"
   ]
  },
  {
   "cell_type": "code",
   "execution_count": 6,
   "metadata": {},
   "outputs": [
    {
     "data": {
      "text/plain": [
       "['corpus_txt/Doyle_AScandalinBohemia.txt',\n",
       " 'corpus_txt/Doyle_AStudyinScarlet.txt',\n",
       " 'corpus_txt/Doyle_TheHoundoftheBaskervilles.txt',\n",
       " 'corpus_txt/Doyle_TheSignoftheFour.txt',\n",
       " 'corpus_txt/Howard_GodsoftheNorth.txt',\n",
       " 'corpus_txt/Howard_SchadowsinZamboula.txt',\n",
       " 'corpus_txt/Howard_ShadowsintheMoonlight.txt',\n",
       " 'corpus_txt/Howard_TheDevilinIron.txt',\n",
       " 'corpus_txt/Kipling_TheEndofthePassage.txt',\n",
       " 'corpus_txt/Kipling_TheJungleBook.txt',\n",
       " 'corpus_txt/Kipling_ThyServantaDog.txt',\n",
       " 'corpus_txt/Lovecraft_AttheMountainofMadness.txt',\n",
       " 'corpus_txt/Lovecraft_TheShunnedHouse.txt',\n",
       " 'corpus_txt/Poe_EurekaAProsePoem.txt',\n",
       " 'corpus_txt/Poe_TheCaskofAmontillado.txt',\n",
       " 'corpus_txt/Poe_TheMasqueoftheRedDeath.txt',\n",
       " 'corpus_txt/Poe_ThePurloinedLetter.txt']"
      ]
     },
     "execution_count": 6,
     "metadata": {},
     "output_type": "execute_result"
    }
   ],
   "source": [
    "document_list"
   ]
  },
  {
   "cell_type": "markdown",
   "metadata": {},
   "source": [
    "**Alternatively**, if we want to use other documents, or just a selction of those in the specified folder, we can define our own `doclist` by creating a list of strings containing paths to text files. For example, to use only the texts by Edgar A. Poe from the current folder, we would define the list as\n",
    "\n",
    "`\n",
    "    doclist = [ 'corpus_txt/Poe_TheMasqueoftheRedDeath.txt', \n",
    "            'corpus_txt/Poe_TheCaskofAmontillado.txt', \n",
    "            'corpus_txt/Poe_ThePurloinedLetter.txt',\n",
    "            'corpus_txt/Poe_ThePurloinedLetter.txt',\n",
    "            'corpus_txt/Poe_EurekaAProsePoem.txt']\n",
    "`"
   ]
  },
  {
   "cell_type": "markdown",
   "metadata": {},
   "source": [
    "#### Generate document labels"
   ]
  },
  {
   "cell_type": "code",
   "execution_count": 7,
   "metadata": {},
   "outputs": [
    {
     "data": {
      "text/plain": [
       "['Doyle_AScandalinBohemia',\n",
       " 'Doyle_AStudyinScarlet',\n",
       " 'Doyle_TheHoundoftheBaskervilles',\n",
       " 'Doyle_TheSignoftheFour',\n",
       " 'Howard_GodsoftheNorth',\n",
       " 'Howard_SchadowsinZamboula',\n",
       " 'Howard_ShadowsintheMoonlight',\n",
       " 'Howard_TheDevilinIron',\n",
       " 'Kipling_TheEndofthePassage',\n",
       " 'Kipling_TheJungleBook',\n",
       " 'Kipling_ThyServantaDog',\n",
       " 'Lovecraft_AttheMountainofMadness',\n",
       " 'Lovecraft_TheShunnedHouse',\n",
       " 'Poe_EurekaAProsePoem',\n",
       " 'Poe_TheCaskofAmontillado',\n",
       " 'Poe_TheMasqueoftheRedDeath',\n",
       " 'Poe_ThePurloinedLetter']"
      ]
     },
     "execution_count": 7,
     "metadata": {},
     "output_type": "execute_result"
    }
   ],
   "source": [
    "document_labels = pathdoclist.labels()\n",
    "document_labels"
   ]
  },
  {
   "cell_type": "markdown",
   "metadata": {},
   "source": [
    "#### Optional: Accessing metadata"
   ]
  },
  {
   "cell_type": "markdown",
   "metadata": {},
   "source": [
    "In case you want a more structured overview of your corpus, execute the following cell:"
   ]
  },
  {
   "cell_type": "code",
   "execution_count": 8,
   "metadata": {},
   "outputs": [
    {
     "data": {
      "text/html": [
       "<div>\n",
       "<table border=\"1\" class=\"dataframe\">\n",
       "  <thead>\n",
       "    <tr style=\"text-align: right;\">\n",
       "      <th></th>\n",
       "      <th>author</th>\n",
       "      <th>basename</th>\n",
       "      <th>filename</th>\n",
       "      <th>title</th>\n",
       "    </tr>\n",
       "  </thead>\n",
       "  <tbody>\n",
       "    <tr>\n",
       "      <th>0</th>\n",
       "      <td>Doyle</td>\n",
       "      <td>Doyle_AScandalinBohemia</td>\n",
       "      <td>corpus_txt/Doyle_AScandalinBohemia.txt</td>\n",
       "      <td>AScandalinBohemia</td>\n",
       "    </tr>\n",
       "    <tr>\n",
       "      <th>1</th>\n",
       "      <td>Doyle</td>\n",
       "      <td>Doyle_AStudyinScarlet</td>\n",
       "      <td>corpus_txt/Doyle_AStudyinScarlet.txt</td>\n",
       "      <td>AStudyinScarlet</td>\n",
       "    </tr>\n",
       "    <tr>\n",
       "      <th>2</th>\n",
       "      <td>Doyle</td>\n",
       "      <td>Doyle_TheHoundoftheBaskervilles</td>\n",
       "      <td>corpus_txt/Doyle_TheHoundoftheBaskervilles.txt</td>\n",
       "      <td>TheHoundoftheBaskervilles</td>\n",
       "    </tr>\n",
       "    <tr>\n",
       "      <th>3</th>\n",
       "      <td>Doyle</td>\n",
       "      <td>Doyle_TheSignoftheFour</td>\n",
       "      <td>corpus_txt/Doyle_TheSignoftheFour.txt</td>\n",
       "      <td>TheSignoftheFour</td>\n",
       "    </tr>\n",
       "    <tr>\n",
       "      <th>4</th>\n",
       "      <td>Howard</td>\n",
       "      <td>Howard_GodsoftheNorth</td>\n",
       "      <td>corpus_txt/Howard_GodsoftheNorth.txt</td>\n",
       "      <td>GodsoftheNorth</td>\n",
       "    </tr>\n",
       "    <tr>\n",
       "      <th>5</th>\n",
       "      <td>Howard</td>\n",
       "      <td>Howard_SchadowsinZamboula</td>\n",
       "      <td>corpus_txt/Howard_SchadowsinZamboula.txt</td>\n",
       "      <td>SchadowsinZamboula</td>\n",
       "    </tr>\n",
       "    <tr>\n",
       "      <th>6</th>\n",
       "      <td>Howard</td>\n",
       "      <td>Howard_ShadowsintheMoonlight</td>\n",
       "      <td>corpus_txt/Howard_ShadowsintheMoonlight.txt</td>\n",
       "      <td>ShadowsintheMoonlight</td>\n",
       "    </tr>\n",
       "    <tr>\n",
       "      <th>7</th>\n",
       "      <td>Howard</td>\n",
       "      <td>Howard_TheDevilinIron</td>\n",
       "      <td>corpus_txt/Howard_TheDevilinIron.txt</td>\n",
       "      <td>TheDevilinIron</td>\n",
       "    </tr>\n",
       "    <tr>\n",
       "      <th>8</th>\n",
       "      <td>Kipling</td>\n",
       "      <td>Kipling_TheEndofthePassage</td>\n",
       "      <td>corpus_txt/Kipling_TheEndofthePassage.txt</td>\n",
       "      <td>TheEndofthePassage</td>\n",
       "    </tr>\n",
       "    <tr>\n",
       "      <th>9</th>\n",
       "      <td>Kipling</td>\n",
       "      <td>Kipling_TheJungleBook</td>\n",
       "      <td>corpus_txt/Kipling_TheJungleBook.txt</td>\n",
       "      <td>TheJungleBook</td>\n",
       "    </tr>\n",
       "    <tr>\n",
       "      <th>10</th>\n",
       "      <td>Kipling</td>\n",
       "      <td>Kipling_ThyServantaDog</td>\n",
       "      <td>corpus_txt/Kipling_ThyServantaDog.txt</td>\n",
       "      <td>ThyServantaDog</td>\n",
       "    </tr>\n",
       "    <tr>\n",
       "      <th>11</th>\n",
       "      <td>Lovecraft</td>\n",
       "      <td>Lovecraft_AttheMountainofMadness</td>\n",
       "      <td>corpus_txt/Lovecraft_AttheMountainofMadness.txt</td>\n",
       "      <td>AttheMountainofMadness</td>\n",
       "    </tr>\n",
       "    <tr>\n",
       "      <th>12</th>\n",
       "      <td>Lovecraft</td>\n",
       "      <td>Lovecraft_TheShunnedHouse</td>\n",
       "      <td>corpus_txt/Lovecraft_TheShunnedHouse.txt</td>\n",
       "      <td>TheShunnedHouse</td>\n",
       "    </tr>\n",
       "    <tr>\n",
       "      <th>13</th>\n",
       "      <td>Poe</td>\n",
       "      <td>Poe_EurekaAProsePoem</td>\n",
       "      <td>corpus_txt/Poe_EurekaAProsePoem.txt</td>\n",
       "      <td>EurekaAProsePoem</td>\n",
       "    </tr>\n",
       "    <tr>\n",
       "      <th>14</th>\n",
       "      <td>Poe</td>\n",
       "      <td>Poe_TheCaskofAmontillado</td>\n",
       "      <td>corpus_txt/Poe_TheCaskofAmontillado.txt</td>\n",
       "      <td>TheCaskofAmontillado</td>\n",
       "    </tr>\n",
       "    <tr>\n",
       "      <th>15</th>\n",
       "      <td>Poe</td>\n",
       "      <td>Poe_TheMasqueoftheRedDeath</td>\n",
       "      <td>corpus_txt/Poe_TheMasqueoftheRedDeath.txt</td>\n",
       "      <td>TheMasqueoftheRedDeath</td>\n",
       "    </tr>\n",
       "    <tr>\n",
       "      <th>16</th>\n",
       "      <td>Poe</td>\n",
       "      <td>Poe_ThePurloinedLetter</td>\n",
       "      <td>corpus_txt/Poe_ThePurloinedLetter.txt</td>\n",
       "      <td>ThePurloinedLetter</td>\n",
       "    </tr>\n",
       "  </tbody>\n",
       "</table>\n",
       "</div>"
      ],
      "text/plain": [
       "       author                          basename  \\\n",
       "0       Doyle           Doyle_AScandalinBohemia   \n",
       "1       Doyle             Doyle_AStudyinScarlet   \n",
       "2       Doyle   Doyle_TheHoundoftheBaskervilles   \n",
       "3       Doyle            Doyle_TheSignoftheFour   \n",
       "4      Howard             Howard_GodsoftheNorth   \n",
       "5      Howard         Howard_SchadowsinZamboula   \n",
       "6      Howard      Howard_ShadowsintheMoonlight   \n",
       "7      Howard             Howard_TheDevilinIron   \n",
       "8     Kipling        Kipling_TheEndofthePassage   \n",
       "9     Kipling             Kipling_TheJungleBook   \n",
       "10    Kipling            Kipling_ThyServantaDog   \n",
       "11  Lovecraft  Lovecraft_AttheMountainofMadness   \n",
       "12  Lovecraft         Lovecraft_TheShunnedHouse   \n",
       "13        Poe              Poe_EurekaAProsePoem   \n",
       "14        Poe          Poe_TheCaskofAmontillado   \n",
       "15        Poe        Poe_TheMasqueoftheRedDeath   \n",
       "16        Poe            Poe_ThePurloinedLetter   \n",
       "\n",
       "                                           filename                      title  \n",
       "0            corpus_txt/Doyle_AScandalinBohemia.txt          AScandalinBohemia  \n",
       "1              corpus_txt/Doyle_AStudyinScarlet.txt            AStudyinScarlet  \n",
       "2    corpus_txt/Doyle_TheHoundoftheBaskervilles.txt  TheHoundoftheBaskervilles  \n",
       "3             corpus_txt/Doyle_TheSignoftheFour.txt           TheSignoftheFour  \n",
       "4              corpus_txt/Howard_GodsoftheNorth.txt             GodsoftheNorth  \n",
       "5          corpus_txt/Howard_SchadowsinZamboula.txt         SchadowsinZamboula  \n",
       "6       corpus_txt/Howard_ShadowsintheMoonlight.txt      ShadowsintheMoonlight  \n",
       "7              corpus_txt/Howard_TheDevilinIron.txt             TheDevilinIron  \n",
       "8         corpus_txt/Kipling_TheEndofthePassage.txt         TheEndofthePassage  \n",
       "9              corpus_txt/Kipling_TheJungleBook.txt              TheJungleBook  \n",
       "10            corpus_txt/Kipling_ThyServantaDog.txt             ThyServantaDog  \n",
       "11  corpus_txt/Lovecraft_AttheMountainofMadness.txt     AttheMountainofMadness  \n",
       "12         corpus_txt/Lovecraft_TheShunnedHouse.txt            TheShunnedHouse  \n",
       "13              corpus_txt/Poe_EurekaAProsePoem.txt           EurekaAProsePoem  \n",
       "14          corpus_txt/Poe_TheCaskofAmontillado.txt       TheCaskofAmontillado  \n",
       "15        corpus_txt/Poe_TheMasqueoftheRedDeath.txt     TheMasqueoftheRedDeath  \n",
       "16            corpus_txt/Poe_ThePurloinedLetter.txt         ThePurloinedLetter  "
      ]
     },
     "execution_count": 8,
     "metadata": {},
     "output_type": "execute_result"
    }
   ],
   "source": [
    "import os\n",
    "\n",
    "metadata = meta.fn2metadata(os.path.join(path, '*.txt'))\n",
    "metadata"
   ]
  },
  {
   "cell_type": "markdown",
   "metadata": {},
   "source": [
    "#### Read listed documents from folder"
   ]
  },
  {
   "cell_type": "code",
   "execution_count": 9,
   "metadata": {
    "collapsed": true
   },
   "outputs": [],
   "source": [
    "corpus = preprocessing.read_from_txt(document_list)"
   ]
  },
  {
   "cell_type": "markdown",
   "metadata": {},
   "source": [
    "At this point, the corpus is generator object."
   ]
  },
  {
   "cell_type": "markdown",
   "metadata": {},
   "source": [
    "### 1.3. Tokenize corpus\n",
    "Your text files will be tokenized. Tokenization is the task of cutting a stream of characters into linguistic units, simply words or, more precisely, tokens. The tokenize function the library provides is a simple unicode tokenizer. Depending on the corpus it might be useful to use an external tokenizer function, or even develop your own, since its efficiency varies with language, epoch and text type."
   ]
  },
  {
   "cell_type": "code",
   "execution_count": 10,
   "metadata": {
    "collapsed": true
   },
   "outputs": [],
   "source": [
    "tokens = [list(preprocessing.tokenize(document)) for document in list(corpus)]"
   ]
  },
  {
   "cell_type": "markdown",
   "metadata": {},
   "source": [
    "At this point, each text is represented by a list of separate token strings. If we want to look e.g. into the first text (which has the index `0` as Python starts counting at 0) and show its first 10 words/tokens (that have the indeces `0:9` accordingly) by typing:"
   ]
  },
  {
   "cell_type": "code",
   "execution_count": 11,
   "metadata": {},
   "outputs": [
    {
     "data": {
      "text/plain": [
       "['scandal',\n",
       " 'in',\n",
       " 'bohemia',\n",
       " 'conan',\n",
       " 'doyle',\n",
       " 'to',\n",
       " 'sherlock',\n",
       " 'holmes',\n",
       " 'she']"
      ]
     },
     "execution_count": 11,
     "metadata": {},
     "output_type": "execute_result"
    }
   ],
   "source": [
    "tokens[0][0:9]"
   ]
  },
  {
   "cell_type": "markdown",
   "metadata": {},
   "source": [
    "### 1.4. Create a sparse bag-of-words model\n",
    "\n",
    "The LDA topic model is based on a bag-of-words model of the corpus. To improve performance in large corpora, actual words and document titels are replaced by indices in the actual bag-of-words model. It is therefore necessary to create dictionaries for mapping these indices in advance."
   ]
  },
  {
   "cell_type": "markdown",
   "metadata": {},
   "source": [
    "#### Create Dictionaries"
   ]
  },
  {
   "cell_type": "code",
   "execution_count": 12,
   "metadata": {
    "collapsed": true
   },
   "outputs": [],
   "source": [
    "id_types = preprocessing.create_dictionary(tokens)\n",
    "doc_ids = preprocessing.create_dictionary(document_labels)"
   ]
  },
  {
   "cell_type": "markdown",
   "metadata": {},
   "source": [
    "#### Create matrix market"
   ]
  },
  {
   "cell_type": "code",
   "execution_count": 13,
   "metadata": {
    "collapsed": true
   },
   "outputs": [],
   "source": [
    "sparse_bow = preprocessing.create_sparse_bow(document_labels, tokens, id_types, doc_ids)"
   ]
  },
  {
   "cell_type": "markdown",
   "metadata": {
    "collapsed": true
   },
   "source": [
    "### 1.5. Feature selection and/or removal\n",
    "\n",
    "In topic modeling, it is often usefull (if not vital) to remove some types before modeling. In this example, the 100 most frequent words and the *hapax legomena* in the corpus are listed and removed. Alternatively, the 'feature_list' containing all features to be removed from the corpus can be replaced by, or combined with an external stop word list or any other list of strings containing features we want to remove."
   ]
  },
  {
   "cell_type": "markdown",
   "metadata": {},
   "source": [
    "#### List the 100 most frequent words"
   ]
  },
  {
   "cell_type": "code",
   "execution_count": 14,
   "metadata": {
    "collapsed": true
   },
   "outputs": [],
   "source": [
    "mfw100 = preprocessing.find_stopwords(sparse_bow, id_types, 100)"
   ]
  },
  {
   "cell_type": "markdown",
   "metadata": {},
   "source": [
    "These are the five most frequent words:"
   ]
  },
  {
   "cell_type": "code",
   "execution_count": 15,
   "metadata": {},
   "outputs": [
    {
     "data": {
      "text/plain": [
       "['the', 'and', 'of', 'to', 'in']"
      ]
     },
     "execution_count": 15,
     "metadata": {},
     "output_type": "execute_result"
    }
   ],
   "source": [
    "mfw100[:5]"
   ]
  },
  {
   "cell_type": "markdown",
   "metadata": {},
   "source": [
    "#### List hapax legomena"
   ]
  },
  {
   "cell_type": "code",
   "execution_count": 16,
   "metadata": {
    "collapsed": true
   },
   "outputs": [],
   "source": [
    "hapax_list = preprocessing.find_hapax(sparse_bow, id_types)"
   ]
  },
  {
   "cell_type": "markdown",
   "metadata": {},
   "source": [
    "#### Combine lists and remove content from bag-of-words model"
   ]
  },
  {
   "cell_type": "code",
   "execution_count": 17,
   "metadata": {
    "collapsed": true
   },
   "outputs": [],
   "source": [
    "feature_list = set(mfw100).union(hapax_list)"
   ]
  },
  {
   "cell_type": "code",
   "execution_count": 18,
   "metadata": {
    "collapsed": true
   },
   "outputs": [],
   "source": [
    "#sparse_bow = preprocessing.remove_features(sparse_bow, id_types, feature_list)"
   ]
  },
  {
   "cell_type": "code",
   "execution_count": 19,
   "metadata": {
    "collapsed": true
   },
   "outputs": [],
   "source": [
    "#doc2bow_list = []\n",
    "#for doc in sparse_bow.index.groupby(sparse_bow.index.get_level_values('doc_id')):\n",
    "#    temp = [(token, count) for token, count in zip(sparse_bow.loc[doc].index, sparse_bow.loc[doc][0])]\n",
    "#    doc2bow_list.append(temp)\n",
    "#len(doc2bow_list)"
   ]
  },
  {
   "cell_type": "markdown",
   "metadata": {},
   "source": [
    "#### Remove features from files"
   ]
  },
  {
   "cell_type": "code",
   "execution_count": 20,
   "metadata": {
    "collapsed": true
   },
   "outputs": [],
   "source": [
    "tokens_cleaned = []\n",
    "\n",
    "for document in tokens:\n",
    "    document_clean = preprocessing.remove_features_from_file(document, feature_list)\n",
    "    tokens_cleaned.append(list(document_clean))"
   ]
  },
  {
   "cell_type": "markdown",
   "metadata": {},
   "source": [
    "#### Write MALLET import files"
   ]
  },
  {
   "cell_type": "code",
   "execution_count": 21,
   "metadata": {
    "collapsed": true
   },
   "outputs": [],
   "source": [
    "preprocessing.create_mallet_import(tokens_cleaned, document_labels)"
   ]
  },
  {
   "cell_type": "markdown",
   "metadata": {},
   "source": [
    "## 1. Setting the parameters"
   ]
  },
  {
   "cell_type": "markdown",
   "metadata": {},
   "source": [
    "#### Define path to corpus folder"
   ]
  },
  {
   "cell_type": "code",
   "execution_count": 22,
   "metadata": {
    "collapsed": true
   },
   "outputs": [],
   "source": [
    "path_to_corpus = \"tutorial_supplementals/mallet_input\""
   ]
  },
  {
   "cell_type": "markdown",
   "metadata": {},
   "source": [
    "#### Path to mallet folder \n",
    "\n",
    "Now we must tell the library where to find the local instance of mallet. If you managed to install Mallet, it is sufficient set `path_to_mallet = \"mallet\"`, if you just store Mallet in a local folder, you have to specify the path to the binary explictly."
   ]
  },
  {
   "cell_type": "code",
   "execution_count": 23,
   "metadata": {
    "collapsed": true
   },
   "outputs": [],
   "source": [
    "#path_to_mallet = \"/home/sina/mallet-2.0.8/bin/mallet\"\n",
    "#path_to_mallet = \"/Users/severin/Documents/dariah/app/mallet/bin/mallet\"\n",
    "path_to_mallet = 'mallet'"
   ]
  },
  {
   "cell_type": "markdown",
   "metadata": {},
   "source": [
    "#### Output folder"
   ]
  },
  {
   "cell_type": "code",
   "execution_count": 24,
   "metadata": {
    "collapsed": true
   },
   "outputs": [],
   "source": [
    "outfolder = \"tutorial_supplementals/mallet_output\"\n",
    "binary = \"tutorial_supplementals/mallet_output/binary.mallet\""
   ]
  },
  {
   "cell_type": "markdown",
   "metadata": {},
   "source": [
    "#### The Mallet corpus model\n",
    "\n",
    "Finally, we can give all these folder paths to a Mallet function that handles all the preprocessing steps and creates a Mallet-specific corpus model object."
   ]
  },
  {
   "cell_type": "code",
   "execution_count": 25,
   "metadata": {
    "collapsed": true
   },
   "outputs": [],
   "source": [
    "mallet_binary = mallet.create_mallet_binary(path_to_mallet=path_to_mallet,\n",
    "                                            path_to_corpus=path_to_corpus,\n",
    "                                            output_file=binary)"
   ]
  },
  {
   "cell_type": "markdown",
   "metadata": {},
   "source": [
    "## 2. Model creation"
   ]
  },
  {
   "cell_type": "markdown",
   "metadata": {},
   "source": [
    "We can define the number of topics we want to calculate as an argument (`num_topics`) in the function. Furthermore, the number of iterations (`num_iterations`) can be defined. A higher number of iterations will probably yield a better model, but also increases processing time.\n",
    "\n",
    "**Warning: this step can take quite a while!** Meaning something between some seconds and some hours depending on corpus size and the number of iterations. Our example short stories corpus should be done within a minute or two at `num_iterations=5000`."
   ]
  },
  {
   "cell_type": "code",
   "execution_count": 26,
   "metadata": {
    "scrolled": false
   },
   "outputs": [
    {
     "name": "stdout",
     "output_type": "stream",
     "text": [
      "CPU times: user 52 ms, sys: 31.9 ms, total: 83.9 ms\n",
      "Wall time: 1min 45s\n"
     ]
    }
   ],
   "source": [
    "%%time\n",
    "\n",
    "mallet.create_mallet_model(path_to_mallet=path_to_mallet, \n",
    "                           path_to_binary=mallet_binary, \n",
    "                           folder_for_output=outfolder,\n",
    "                           num_iterations=5000,\n",
    "                           num_topics=10)"
   ]
  },
  {
   "cell_type": "markdown",
   "metadata": {},
   "source": [
    "### 2.4. Create document-topic matrix\n",
    "\n",
    "The generated model object can now be translated into a human-readable document-topic matrix (that is a actually a pandas data frame) that constitutes our principle exchange format for topic modeling results. For generating the matrix from a Gensim model, we can use the following function:"
   ]
  },
  {
   "cell_type": "code",
   "execution_count": 27,
   "metadata": {},
   "outputs": [
    {
     "data": {
      "text/html": [
       "<div>\n",
       "<table border=\"1\" class=\"dataframe\">\n",
       "  <thead>\n",
       "    <tr style=\"text-align: right;\">\n",
       "      <th></th>\n",
       "      <th>Doyle_AScandalinBohemia.txt</th>\n",
       "      <th>Doyle_AStudyinScarlet.txt</th>\n",
       "      <th>Doyle_TheHoundoftheBaskervilles.txt</th>\n",
       "      <th>Doyle_TheSignoftheFour.txt</th>\n",
       "      <th>Howard_GodsoftheNorth.txt</th>\n",
       "      <th>Howard_SchadowsinZamboula.txt</th>\n",
       "      <th>Howard_ShadowsintheMoonlight.txt</th>\n",
       "      <th>Howard_TheDevilinIron.txt</th>\n",
       "      <th>Kipling_TheEndofthePassage.txt</th>\n",
       "      <th>Kipling_TheJungleBook.txt</th>\n",
       "      <th>Kipling_ThyServantaDog.txt</th>\n",
       "      <th>Lovecraft_AttheMountainofMadness.txt</th>\n",
       "      <th>Lovecraft_TheShunnedHouse.txt</th>\n",
       "      <th>Poe_EurekaAProsePoem.txt</th>\n",
       "      <th>Poe_TheCaskofAmontillado.txt</th>\n",
       "      <th>Poe_TheMasqueoftheRedDeath.txt</th>\n",
       "      <th>Poe_ThePurloinedLetter.txt</th>\n",
       "    </tr>\n",
       "  </thead>\n",
       "  <tbody>\n",
       "    <tr>\n",
       "      <th>man time back</th>\n",
       "      <td>0.281313</td>\n",
       "      <td>0.300128</td>\n",
       "      <td>0.328193</td>\n",
       "      <td>0.344281</td>\n",
       "      <td>0.228448</td>\n",
       "      <td>0.250182</td>\n",
       "      <td>0.248212</td>\n",
       "      <td>0.211998</td>\n",
       "      <td>0.462839</td>\n",
       "      <td>0.382074</td>\n",
       "      <td>0.281309</td>\n",
       "      <td>0.112470</td>\n",
       "      <td>0.146935</td>\n",
       "      <td>0.032322</td>\n",
       "      <td>0.240252</td>\n",
       "      <td>0.146660</td>\n",
       "      <td>0.143906</td>\n",
       "    </tr>\n",
       "    <tr>\n",
       "      <th>made thought part</th>\n",
       "      <td>0.195118</td>\n",
       "      <td>0.187727</td>\n",
       "      <td>0.165421</td>\n",
       "      <td>0.153084</td>\n",
       "      <td>0.023541</td>\n",
       "      <td>0.038034</td>\n",
       "      <td>0.035668</td>\n",
       "      <td>0.052458</td>\n",
       "      <td>0.073820</td>\n",
       "      <td>0.021965</td>\n",
       "      <td>0.046850</td>\n",
       "      <td>0.148851</td>\n",
       "      <td>0.106488</td>\n",
       "      <td>0.163982</td>\n",
       "      <td>0.446674</td>\n",
       "      <td>0.165449</td>\n",
       "      <td>0.554387</td>\n",
       "    </tr>\n",
       "    <tr>\n",
       "      <th>conan door eyes</th>\n",
       "      <td>0.031145</td>\n",
       "      <td>0.033248</td>\n",
       "      <td>0.029183</td>\n",
       "      <td>0.036245</td>\n",
       "      <td>0.583223</td>\n",
       "      <td>0.559194</td>\n",
       "      <td>0.554099</td>\n",
       "      <td>0.541439</td>\n",
       "      <td>0.030633</td>\n",
       "      <td>0.028896</td>\n",
       "      <td>0.010608</td>\n",
       "      <td>0.017119</td>\n",
       "      <td>0.027702</td>\n",
       "      <td>0.003312</td>\n",
       "      <td>0.047592</td>\n",
       "      <td>0.191545</td>\n",
       "      <td>0.012505</td>\n",
       "    </tr>\n",
       "    <tr>\n",
       "      <th>mowgli jungle big</th>\n",
       "      <td>0.006229</td>\n",
       "      <td>0.012082</td>\n",
       "      <td>0.001411</td>\n",
       "      <td>0.013371</td>\n",
       "      <td>0.022878</td>\n",
       "      <td>0.010854</td>\n",
       "      <td>0.030717</td>\n",
       "      <td>0.020814</td>\n",
       "      <td>0.065450</td>\n",
       "      <td>0.534655</td>\n",
       "      <td>0.033311</td>\n",
       "      <td>0.003874</td>\n",
       "      <td>0.006214</td>\n",
       "      <td>0.000384</td>\n",
       "      <td>0.001720</td>\n",
       "      <td>0.000522</td>\n",
       "      <td>0.000198</td>\n",
       "    </tr>\n",
       "    <tr>\n",
       "      <th>centre atoms force</th>\n",
       "      <td>0.014983</td>\n",
       "      <td>0.020115</td>\n",
       "      <td>0.013193</td>\n",
       "      <td>0.018306</td>\n",
       "      <td>0.000332</td>\n",
       "      <td>0.011583</td>\n",
       "      <td>0.003576</td>\n",
       "      <td>0.012526</td>\n",
       "      <td>0.018246</td>\n",
       "      <td>0.002418</td>\n",
       "      <td>0.007554</td>\n",
       "      <td>0.046466</td>\n",
       "      <td>0.053823</td>\n",
       "      <td>0.761402</td>\n",
       "      <td>0.037271</td>\n",
       "      <td>0.048539</td>\n",
       "      <td>0.153434</td>\n",
       "    </tr>\n",
       "    <tr>\n",
       "      <th>ravager smallest dog</th>\n",
       "      <td>0.001852</td>\n",
       "      <td>0.004877</td>\n",
       "      <td>0.002203</td>\n",
       "      <td>0.006235</td>\n",
       "      <td>0.000332</td>\n",
       "      <td>0.001186</td>\n",
       "      <td>0.003209</td>\n",
       "      <td>0.001978</td>\n",
       "      <td>0.007198</td>\n",
       "      <td>0.001421</td>\n",
       "      <td>0.567944</td>\n",
       "      <td>0.000962</td>\n",
       "      <td>0.000527</td>\n",
       "      <td>0.000174</td>\n",
       "      <td>0.000573</td>\n",
       "      <td>0.001566</td>\n",
       "      <td>0.003374</td>\n",
       "    </tr>\n",
       "    <tr>\n",
       "      <th>sir holmes moor</th>\n",
       "      <td>0.086700</td>\n",
       "      <td>0.047274</td>\n",
       "      <td>0.340718</td>\n",
       "      <td>0.066455</td>\n",
       "      <td>0.010279</td>\n",
       "      <td>0.001733</td>\n",
       "      <td>0.004493</td>\n",
       "      <td>0.003485</td>\n",
       "      <td>0.211416</td>\n",
       "      <td>0.001670</td>\n",
       "      <td>0.009370</td>\n",
       "      <td>0.006348</td>\n",
       "      <td>0.023067</td>\n",
       "      <td>0.004986</td>\n",
       "      <td>0.013188</td>\n",
       "      <td>0.030793</td>\n",
       "      <td>0.023224</td>\n",
       "    </tr>\n",
       "    <tr>\n",
       "      <th>house street floor</th>\n",
       "      <td>0.050673</td>\n",
       "      <td>0.052184</td>\n",
       "      <td>0.044629</td>\n",
       "      <td>0.038980</td>\n",
       "      <td>0.073276</td>\n",
       "      <td>0.097866</td>\n",
       "      <td>0.084082</td>\n",
       "      <td>0.101997</td>\n",
       "      <td>0.059759</td>\n",
       "      <td>0.010745</td>\n",
       "      <td>0.022001</td>\n",
       "      <td>0.123186</td>\n",
       "      <td>0.496840</td>\n",
       "      <td>0.021722</td>\n",
       "      <td>0.112959</td>\n",
       "      <td>0.376305</td>\n",
       "      <td>0.041485</td>\n",
       "    </tr>\n",
       "    <tr>\n",
       "      <th>holmes man small</th>\n",
       "      <td>0.325758</td>\n",
       "      <td>0.326140</td>\n",
       "      <td>0.065124</td>\n",
       "      <td>0.310670</td>\n",
       "      <td>0.000995</td>\n",
       "      <td>0.012678</td>\n",
       "      <td>0.010545</td>\n",
       "      <td>0.009512</td>\n",
       "      <td>0.056411</td>\n",
       "      <td>0.009698</td>\n",
       "      <td>0.015314</td>\n",
       "      <td>0.003545</td>\n",
       "      <td>0.040973</td>\n",
       "      <td>0.000941</td>\n",
       "      <td>0.061353</td>\n",
       "      <td>0.025574</td>\n",
       "      <td>0.053791</td>\n",
       "    </tr>\n",
       "    <tr>\n",
       "      <th>great camp feet</th>\n",
       "      <td>0.006229</td>\n",
       "      <td>0.016226</td>\n",
       "      <td>0.009926</td>\n",
       "      <td>0.012371</td>\n",
       "      <td>0.056698</td>\n",
       "      <td>0.016691</td>\n",
       "      <td>0.025399</td>\n",
       "      <td>0.043794</td>\n",
       "      <td>0.014228</td>\n",
       "      <td>0.006457</td>\n",
       "      <td>0.005738</td>\n",
       "      <td>0.537179</td>\n",
       "      <td>0.097430</td>\n",
       "      <td>0.010774</td>\n",
       "      <td>0.038417</td>\n",
       "      <td>0.013048</td>\n",
       "      <td>0.013696</td>\n",
       "    </tr>\n",
       "  </tbody>\n",
       "</table>\n",
       "</div>"
      ],
      "text/plain": [
       "                      Doyle_AScandalinBohemia.txt  Doyle_AStudyinScarlet.txt  \\\n",
       "man time back                            0.281313                   0.300128   \n",
       "made thought part                        0.195118                   0.187727   \n",
       "conan door eyes                          0.031145                   0.033248   \n",
       "mowgli jungle big                        0.006229                   0.012082   \n",
       "centre atoms force                       0.014983                   0.020115   \n",
       "ravager smallest dog                     0.001852                   0.004877   \n",
       "sir holmes moor                          0.086700                   0.047274   \n",
       "house street floor                       0.050673                   0.052184   \n",
       "holmes man small                         0.325758                   0.326140   \n",
       "great camp feet                          0.006229                   0.016226   \n",
       "\n",
       "                      Doyle_TheHoundoftheBaskervilles.txt  \\\n",
       "man time back                                    0.328193   \n",
       "made thought part                                0.165421   \n",
       "conan door eyes                                  0.029183   \n",
       "mowgli jungle big                                0.001411   \n",
       "centre atoms force                               0.013193   \n",
       "ravager smallest dog                             0.002203   \n",
       "sir holmes moor                                  0.340718   \n",
       "house street floor                               0.044629   \n",
       "holmes man small                                 0.065124   \n",
       "great camp feet                                  0.009926   \n",
       "\n",
       "                      Doyle_TheSignoftheFour.txt  Howard_GodsoftheNorth.txt  \\\n",
       "man time back                           0.344281                   0.228448   \n",
       "made thought part                       0.153084                   0.023541   \n",
       "conan door eyes                         0.036245                   0.583223   \n",
       "mowgli jungle big                       0.013371                   0.022878   \n",
       "centre atoms force                      0.018306                   0.000332   \n",
       "ravager smallest dog                    0.006235                   0.000332   \n",
       "sir holmes moor                         0.066455                   0.010279   \n",
       "house street floor                      0.038980                   0.073276   \n",
       "holmes man small                        0.310670                   0.000995   \n",
       "great camp feet                         0.012371                   0.056698   \n",
       "\n",
       "                      Howard_SchadowsinZamboula.txt  \\\n",
       "man time back                              0.250182   \n",
       "made thought part                          0.038034   \n",
       "conan door eyes                            0.559194   \n",
       "mowgli jungle big                          0.010854   \n",
       "centre atoms force                         0.011583   \n",
       "ravager smallest dog                       0.001186   \n",
       "sir holmes moor                            0.001733   \n",
       "house street floor                         0.097866   \n",
       "holmes man small                           0.012678   \n",
       "great camp feet                            0.016691   \n",
       "\n",
       "                      Howard_ShadowsintheMoonlight.txt  \\\n",
       "man time back                                 0.248212   \n",
       "made thought part                             0.035668   \n",
       "conan door eyes                               0.554099   \n",
       "mowgli jungle big                             0.030717   \n",
       "centre atoms force                            0.003576   \n",
       "ravager smallest dog                          0.003209   \n",
       "sir holmes moor                               0.004493   \n",
       "house street floor                            0.084082   \n",
       "holmes man small                              0.010545   \n",
       "great camp feet                               0.025399   \n",
       "\n",
       "                      Howard_TheDevilinIron.txt  \\\n",
       "man time back                          0.211998   \n",
       "made thought part                      0.052458   \n",
       "conan door eyes                        0.541439   \n",
       "mowgli jungle big                      0.020814   \n",
       "centre atoms force                     0.012526   \n",
       "ravager smallest dog                   0.001978   \n",
       "sir holmes moor                        0.003485   \n",
       "house street floor                     0.101997   \n",
       "holmes man small                       0.009512   \n",
       "great camp feet                        0.043794   \n",
       "\n",
       "                      Kipling_TheEndofthePassage.txt  \\\n",
       "man time back                               0.462839   \n",
       "made thought part                           0.073820   \n",
       "conan door eyes                             0.030633   \n",
       "mowgli jungle big                           0.065450   \n",
       "centre atoms force                          0.018246   \n",
       "ravager smallest dog                        0.007198   \n",
       "sir holmes moor                             0.211416   \n",
       "house street floor                          0.059759   \n",
       "holmes man small                            0.056411   \n",
       "great camp feet                             0.014228   \n",
       "\n",
       "                      Kipling_TheJungleBook.txt  Kipling_ThyServantaDog.txt  \\\n",
       "man time back                          0.382074                    0.281309   \n",
       "made thought part                      0.021965                    0.046850   \n",
       "conan door eyes                        0.028896                    0.010608   \n",
       "mowgli jungle big                      0.534655                    0.033311   \n",
       "centre atoms force                     0.002418                    0.007554   \n",
       "ravager smallest dog                   0.001421                    0.567944   \n",
       "sir holmes moor                        0.001670                    0.009370   \n",
       "house street floor                     0.010745                    0.022001   \n",
       "holmes man small                       0.009698                    0.015314   \n",
       "great camp feet                        0.006457                    0.005738   \n",
       "\n",
       "                      Lovecraft_AttheMountainofMadness.txt  \\\n",
       "man time back                                     0.112470   \n",
       "made thought part                                 0.148851   \n",
       "conan door eyes                                   0.017119   \n",
       "mowgli jungle big                                 0.003874   \n",
       "centre atoms force                                0.046466   \n",
       "ravager smallest dog                              0.000962   \n",
       "sir holmes moor                                   0.006348   \n",
       "house street floor                                0.123186   \n",
       "holmes man small                                  0.003545   \n",
       "great camp feet                                   0.537179   \n",
       "\n",
       "                      Lovecraft_TheShunnedHouse.txt  Poe_EurekaAProsePoem.txt  \\\n",
       "man time back                              0.146935                  0.032322   \n",
       "made thought part                          0.106488                  0.163982   \n",
       "conan door eyes                            0.027702                  0.003312   \n",
       "mowgli jungle big                          0.006214                  0.000384   \n",
       "centre atoms force                         0.053823                  0.761402   \n",
       "ravager smallest dog                       0.000527                  0.000174   \n",
       "sir holmes moor                            0.023067                  0.004986   \n",
       "house street floor                         0.496840                  0.021722   \n",
       "holmes man small                           0.040973                  0.000941   \n",
       "great camp feet                            0.097430                  0.010774   \n",
       "\n",
       "                      Poe_TheCaskofAmontillado.txt  \\\n",
       "man time back                             0.240252   \n",
       "made thought part                         0.446674   \n",
       "conan door eyes                           0.047592   \n",
       "mowgli jungle big                         0.001720   \n",
       "centre atoms force                        0.037271   \n",
       "ravager smallest dog                      0.000573   \n",
       "sir holmes moor                           0.013188   \n",
       "house street floor                        0.112959   \n",
       "holmes man small                          0.061353   \n",
       "great camp feet                           0.038417   \n",
       "\n",
       "                      Poe_TheMasqueoftheRedDeath.txt  \\\n",
       "man time back                               0.146660   \n",
       "made thought part                           0.165449   \n",
       "conan door eyes                             0.191545   \n",
       "mowgli jungle big                           0.000522   \n",
       "centre atoms force                          0.048539   \n",
       "ravager smallest dog                        0.001566   \n",
       "sir holmes moor                             0.030793   \n",
       "house street floor                          0.376305   \n",
       "holmes man small                            0.025574   \n",
       "great camp feet                             0.013048   \n",
       "\n",
       "                      Poe_ThePurloinedLetter.txt  \n",
       "man time back                           0.143906  \n",
       "made thought part                       0.554387  \n",
       "conan door eyes                         0.012505  \n",
       "mowgli jungle big                       0.000198  \n",
       "centre atoms force                      0.153434  \n",
       "ravager smallest dog                    0.003374  \n",
       "sir holmes moor                         0.023224  \n",
       "house street floor                      0.041485  \n",
       "holmes man small                        0.053791  \n",
       "great camp feet                         0.013696  "
      ]
     },
     "execution_count": 27,
     "metadata": {},
     "output_type": "execute_result"
    }
   ],
   "source": [
    "doc_topic = mallet.show_doc_topic_matrix(outfolder)\n",
    "doc_topic"
   ]
  },
  {
   "cell_type": "markdown",
   "metadata": {},
   "source": [
    "## 3. Visualization"
   ]
  },
  {
   "cell_type": "markdown",
   "metadata": {},
   "source": [
    "Now we can see the topics in the model with the following function:\n",
    "\n",
    "**Hint:** Depending on the number of topics chosen in step 2, you might have to adjust *num_topics* in this step accordingly."
   ]
  },
  {
   "cell_type": "code",
   "execution_count": 28,
   "metadata": {},
   "outputs": [
    {
     "data": {
      "text/html": [
       "<div>\n",
       "<table border=\"1\" class=\"dataframe\">\n",
       "  <thead>\n",
       "    <tr style=\"text-align: right;\">\n",
       "      <th></th>\n",
       "      <th>Key 1</th>\n",
       "      <th>Key 2</th>\n",
       "      <th>Key 3</th>\n",
       "      <th>Key 4</th>\n",
       "      <th>Key 5</th>\n",
       "      <th>Key 6</th>\n",
       "      <th>Key 7</th>\n",
       "      <th>Key 8</th>\n",
       "      <th>Key 9</th>\n",
       "      <th>Key 10</th>\n",
       "    </tr>\n",
       "  </thead>\n",
       "  <tbody>\n",
       "    <tr>\n",
       "      <th>Topic 1</th>\n",
       "      <td>man</td>\n",
       "      <td>time</td>\n",
       "      <td>back</td>\n",
       "      <td>night</td>\n",
       "      <td>eyes</td>\n",
       "      <td>good</td>\n",
       "      <td>long</td>\n",
       "      <td>great</td>\n",
       "      <td>heard</td>\n",
       "      <td>day</td>\n",
       "    </tr>\n",
       "    <tr>\n",
       "      <th>Topic 2</th>\n",
       "      <td>made</td>\n",
       "      <td>thought</td>\n",
       "      <td>part</td>\n",
       "      <td>thing</td>\n",
       "      <td>moment</td>\n",
       "      <td>doubt</td>\n",
       "      <td>point</td>\n",
       "      <td>long</td>\n",
       "      <td>nature</td>\n",
       "      <td>things</td>\n",
       "    </tr>\n",
       "    <tr>\n",
       "      <th>Topic 3</th>\n",
       "      <td>conan</td>\n",
       "      <td>door</td>\n",
       "      <td>eyes</td>\n",
       "      <td>men</td>\n",
       "      <td>black</td>\n",
       "      <td>sword</td>\n",
       "      <td>blood</td>\n",
       "      <td>trees</td>\n",
       "      <td>girl</td>\n",
       "      <td>head</td>\n",
       "    </tr>\n",
       "    <tr>\n",
       "      <th>Topic 4</th>\n",
       "      <td>mowgli</td>\n",
       "      <td>jungle</td>\n",
       "      <td>big</td>\n",
       "      <td>bagheera</td>\n",
       "      <td>men</td>\n",
       "      <td>thou</td>\n",
       "      <td>sea</td>\n",
       "      <td>rikki-tikki</td>\n",
       "      <td>wolf</td>\n",
       "      <td>head</td>\n",
       "    </tr>\n",
       "    <tr>\n",
       "      <th>Topic 5</th>\n",
       "      <td>centre</td>\n",
       "      <td>atoms</td>\n",
       "      <td>force</td>\n",
       "      <td>sun</td>\n",
       "      <td>general</td>\n",
       "      <td>matter</td>\n",
       "      <td>point</td>\n",
       "      <td>idea</td>\n",
       "      <td>universe</td>\n",
       "      <td>principle</td>\n",
       "    </tr>\n",
       "    <tr>\n",
       "      <th>Topic 6</th>\n",
       "      <td>ravager</td>\n",
       "      <td>smallest</td>\n",
       "      <td>dog</td>\n",
       "      <td>moore</td>\n",
       "      <td>slippers</td>\n",
       "      <td>proper</td>\n",
       "      <td>master</td>\n",
       "      <td>wented</td>\n",
       "      <td>tags</td>\n",
       "      <td>gods</td>\n",
       "    </tr>\n",
       "    <tr>\n",
       "      <th>Topic 7</th>\n",
       "      <td>sir</td>\n",
       "      <td>holmes</td>\n",
       "      <td>moor</td>\n",
       "      <td>watson</td>\n",
       "      <td>henry</td>\n",
       "      <td>man</td>\n",
       "      <td>baskerville</td>\n",
       "      <td>mortimer</td>\n",
       "      <td>stapleton</td>\n",
       "      <td>hall</td>\n",
       "    </tr>\n",
       "    <tr>\n",
       "      <th>Topic 8</th>\n",
       "      <td>house</td>\n",
       "      <td>street</td>\n",
       "      <td>floor</td>\n",
       "      <td>horror</td>\n",
       "      <td>felt</td>\n",
       "      <td>thing</td>\n",
       "      <td>light</td>\n",
       "      <td>form</td>\n",
       "      <td>grew</td>\n",
       "      <td>brought</td>\n",
       "    </tr>\n",
       "    <tr>\n",
       "      <th>Topic 9</th>\n",
       "      <td>holmes</td>\n",
       "      <td>man</td>\n",
       "      <td>small</td>\n",
       "      <td>answered</td>\n",
       "      <td>face</td>\n",
       "      <td>room</td>\n",
       "      <td>door</td>\n",
       "      <td>sherlock</td>\n",
       "      <td>case</td>\n",
       "      <td>asked</td>\n",
       "    </tr>\n",
       "    <tr>\n",
       "      <th>Topic 10</th>\n",
       "      <td>great</td>\n",
       "      <td>camp</td>\n",
       "      <td>feet</td>\n",
       "      <td>land</td>\n",
       "      <td>lake</td>\n",
       "      <td>city</td>\n",
       "      <td>things</td>\n",
       "      <td>world</td>\n",
       "      <td>years</td>\n",
       "      <td>mountains</td>\n",
       "    </tr>\n",
       "  </tbody>\n",
       "</table>\n",
       "</div>"
      ],
      "text/plain": [
       "            Key 1     Key 2  Key 3     Key 4     Key 5   Key 6        Key 7  \\\n",
       "Topic 1       man      time   back     night      eyes    good         long   \n",
       "Topic 2      made   thought   part     thing    moment   doubt        point   \n",
       "Topic 3     conan      door   eyes       men     black   sword        blood   \n",
       "Topic 4    mowgli    jungle    big  bagheera       men    thou          sea   \n",
       "Topic 5    centre     atoms  force       sun   general  matter        point   \n",
       "Topic 6   ravager  smallest    dog     moore  slippers  proper       master   \n",
       "Topic 7       sir    holmes   moor    watson     henry     man  baskerville   \n",
       "Topic 8     house    street  floor    horror      felt   thing        light   \n",
       "Topic 9    holmes       man  small  answered      face    room         door   \n",
       "Topic 10    great      camp   feet      land      lake    city       things   \n",
       "\n",
       "                Key 8      Key 9     Key 10  \n",
       "Topic 1         great      heard        day  \n",
       "Topic 2          long     nature     things  \n",
       "Topic 3         trees       girl       head  \n",
       "Topic 4   rikki-tikki       wolf       head  \n",
       "Topic 5          idea   universe  principle  \n",
       "Topic 6        wented       tags       gods  \n",
       "Topic 7      mortimer  stapleton       hall  \n",
       "Topic 8          form       grew    brought  \n",
       "Topic 9      sherlock       case      asked  \n",
       "Topic 10        world      years  mountains  "
      ]
     },
     "execution_count": 28,
     "metadata": {},
     "output_type": "execute_result"
    }
   ],
   "source": [
    "mallet.show_topics_keys(\"tutorial_supplementals/mallet_output\", num_topics=10)"
   ]
  },
  {
   "cell_type": "markdown",
   "metadata": {},
   "source": [
    "### 3.1. Distribution of topics"
   ]
  },
  {
   "cell_type": "markdown",
   "metadata": {},
   "source": [
    "#### Distribution of topics over all documents\n",
    "\n",
    "The distribution of topics over all documents can now be visualized in a heat map:"
   ]
  },
  {
   "cell_type": "code",
   "execution_count": 29,
   "metadata": {},
   "outputs": [
    {
     "data": {
      "image/png": "[encoded data removed]",
      "text/plain": [
       "<matplotlib.figure.Figure at 0x10ee314a8>"
      ]
     },
     "metadata": {},
     "output_type": "display_data"
    }
   ],
   "source": [
    "heatmap = visualization.doc_topic_heatmap(doc_topic)\n",
    "heatmap.show()"
   ]
  },
  {
   "cell_type": "markdown",
   "metadata": {},
   "source": [
    "#### Distribution of topics in a single documents\n",
    "\n",
    "To take closer look on the topics in a single text, we can use the follwing function that shows all the topics in a text and their respective proportions. To select the document, we have to give its index to the function."
   ]
  },
  {
   "cell_type": "code",
   "execution_count": 30,
   "metadata": {},
   "outputs": [
    {
     "data": {
      "text/plain": [
       "<module 'matplotlib.pyplot' from '/Library/Frameworks/Python.framework/Versions/3.6/lib/python3.6/site-packages/matplotlib/pyplot.py'>"
      ]
     },
     "execution_count": 30,
     "metadata": {},
     "output_type": "execute_result"
    },
    {
     "data": {
      "image/png": "[encoded data removed]",
      "text/plain": [
       "<matplotlib.figure.Figure at 0x10c3f8be0>"
      ]
     },
     "metadata": {},
     "output_type": "display_data"
    }
   ],
   "source": [
    "visualization.plot_doc_topics(doc_topic, 7)"
   ]
  },
  {
   "cell_type": "markdown",
   "metadata": {},
   "source": [
    "# WORK IN PROGRESS:"
   ]
  },
  {
   "cell_type": "code",
   "execution_count": 30,
   "metadata": {},
   "outputs": [
    {
     "name": "stderr",
     "output_type": "stream",
     "text": [
      "/home/sina/DARIAH/Topics/dariah_topics/visualization.py:352: FutureWarning: sort(columns=....) is deprecated, use sort_values(by=.....)\n",
      "  word_scores = word_scores.sort(columns=[0,2], axis=0, ascending=[True, False])\n"
     ]
    },
    {
     "data": {
      "text/html": [
       "<div>\n",
       "<table border=\"1\" class=\"dataframe\">\n",
       "  <thead>\n",
       "    <tr style=\"text-align: right;\">\n",
       "      <th></th>\n",
       "      <th>0</th>\n",
       "      <th>1</th>\n",
       "      <th>2</th>\n",
       "    </tr>\n",
       "  </thead>\n",
       "  <tbody>\n",
       "    <tr>\n",
       "      <th>6874</th>\n",
       "      <td>0</td>\n",
       "      <td>holmes</td>\n",
       "      <td>241.01</td>\n",
       "    </tr>\n",
       "    <tr>\n",
       "      <th>983</th>\n",
       "      <td>0</td>\n",
       "      <td>time</td>\n",
       "      <td>143.01</td>\n",
       "    </tr>\n",
       "    <tr>\n",
       "      <th>96</th>\n",
       "      <td>0</td>\n",
       "      <td>small</td>\n",
       "      <td>130.01</td>\n",
       "    </tr>\n",
       "    <tr>\n",
       "      <th>2734</th>\n",
       "      <td>0</td>\n",
       "      <td>cried</td>\n",
       "      <td>122.01</td>\n",
       "    </tr>\n",
       "    <tr>\n",
       "      <th>4768</th>\n",
       "      <td>0</td>\n",
       "      <td>answered</td>\n",
       "      <td>121.01</td>\n",
       "    </tr>\n",
       "    <tr>\n",
       "      <th>3100</th>\n",
       "      <td>0</td>\n",
       "      <td>room</td>\n",
       "      <td>114.01</td>\n",
       "    </tr>\n",
       "    <tr>\n",
       "      <th>69</th>\n",
       "      <td>0</td>\n",
       "      <td>hand</td>\n",
       "      <td>112.01</td>\n",
       "    </tr>\n",
       "    <tr>\n",
       "      <th>1170</th>\n",
       "      <td>0</td>\n",
       "      <td>asked</td>\n",
       "      <td>108.01</td>\n",
       "    </tr>\n",
       "    <tr>\n",
       "      <th>792</th>\n",
       "      <td>0</td>\n",
       "      <td>found</td>\n",
       "      <td>105.01</td>\n",
       "    </tr>\n",
       "    <tr>\n",
       "      <th>6873</th>\n",
       "      <td>0</td>\n",
       "      <td>sherlock</td>\n",
       "      <td>105.01</td>\n",
       "    </tr>\n",
       "    <tr>\n",
       "      <th>2029</th>\n",
       "      <td>0</td>\n",
       "      <td>face</td>\n",
       "      <td>96.01</td>\n",
       "    </tr>\n",
       "    <tr>\n",
       "      <th>706</th>\n",
       "      <td>0</td>\n",
       "      <td>case</td>\n",
       "      <td>94.01</td>\n",
       "    </tr>\n",
       "    <tr>\n",
       "      <th>666</th>\n",
       "      <td>0</td>\n",
       "      <td>work</td>\n",
       "      <td>87.01</td>\n",
       "    </tr>\n",
       "    <tr>\n",
       "      <th>2024</th>\n",
       "      <td>0</td>\n",
       "      <td>mind</td>\n",
       "      <td>86.01</td>\n",
       "    </tr>\n",
       "    <tr>\n",
       "      <th>49</th>\n",
       "      <td>0</td>\n",
       "      <td>great</td>\n",
       "      <td>85.01</td>\n",
       "    </tr>\n",
       "    <tr>\n",
       "      <th>3298</th>\n",
       "      <td>0</td>\n",
       "      <td>window</td>\n",
       "      <td>83.01</td>\n",
       "    </tr>\n",
       "    <tr>\n",
       "      <th>583</th>\n",
       "      <td>0</td>\n",
       "      <td>young</td>\n",
       "      <td>77.01</td>\n",
       "    </tr>\n",
       "    <tr>\n",
       "      <th>5216</th>\n",
       "      <td>0</td>\n",
       "      <td>door</td>\n",
       "      <td>76.01</td>\n",
       "    </tr>\n",
       "    <tr>\n",
       "      <th>4418</th>\n",
       "      <td>0</td>\n",
       "      <td>street</td>\n",
       "      <td>74.01</td>\n",
       "    </tr>\n",
       "    <tr>\n",
       "      <th>6453</th>\n",
       "      <td>0</td>\n",
       "      <td>miss</td>\n",
       "      <td>74.01</td>\n",
       "    </tr>\n",
       "    <tr>\n",
       "      <th>7183</th>\n",
       "      <td>0</td>\n",
       "      <td>cab</td>\n",
       "      <td>74.01</td>\n",
       "    </tr>\n",
       "    <tr>\n",
       "      <th>314</th>\n",
       "      <td>0</td>\n",
       "      <td>put</td>\n",
       "      <td>73.01</td>\n",
       "    </tr>\n",
       "    <tr>\n",
       "      <th>7332</th>\n",
       "      <td>0</td>\n",
       "      <td>treasure</td>\n",
       "      <td>70.01</td>\n",
       "    </tr>\n",
       "    <tr>\n",
       "      <th>135</th>\n",
       "      <td>0</td>\n",
       "      <td>hope</td>\n",
       "      <td>67.01</td>\n",
       "    </tr>\n",
       "    <tr>\n",
       "      <th>894</th>\n",
       "      <td>0</td>\n",
       "      <td>night</td>\n",
       "      <td>67.01</td>\n",
       "    </tr>\n",
       "    <tr>\n",
       "      <th>5413</th>\n",
       "      <td>0</td>\n",
       "      <td>companion</td>\n",
       "      <td>66.01</td>\n",
       "    </tr>\n",
       "    <tr>\n",
       "      <th>7094</th>\n",
       "      <td>0</td>\n",
       "      <td>sholto</td>\n",
       "      <td>66.01</td>\n",
       "    </tr>\n",
       "    <tr>\n",
       "      <th>477</th>\n",
       "      <td>0</td>\n",
       "      <td>round</td>\n",
       "      <td>65.01</td>\n",
       "    </tr>\n",
       "    <tr>\n",
       "      <th>6965</th>\n",
       "      <td>0</td>\n",
       "      <td>remarked</td>\n",
       "      <td>63.01</td>\n",
       "    </tr>\n",
       "    <tr>\n",
       "      <th>1374</th>\n",
       "      <td>0</td>\n",
       "      <td>word</td>\n",
       "      <td>61.01</td>\n",
       "    </tr>\n",
       "    <tr>\n",
       "      <th>...</th>\n",
       "      <td>...</td>\n",
       "      <td>...</td>\n",
       "      <td>...</td>\n",
       "    </tr>\n",
       "    <tr>\n",
       "      <th>11936</th>\n",
       "      <td>0</td>\n",
       "      <td>parbati</td>\n",
       "      <td>0.01</td>\n",
       "    </tr>\n",
       "    <tr>\n",
       "      <th>11937</th>\n",
       "      <td>0</td>\n",
       "      <td>camels</td>\n",
       "      <td>0.01</td>\n",
       "    </tr>\n",
       "    <tr>\n",
       "      <th>11938</th>\n",
       "      <td>0</td>\n",
       "      <td>amir</td>\n",
       "      <td>0.01</td>\n",
       "    </tr>\n",
       "    <tr>\n",
       "      <th>11939</th>\n",
       "      <td>0</td>\n",
       "      <td>jingle</td>\n",
       "      <td>0.01</td>\n",
       "    </tr>\n",
       "    <tr>\n",
       "      <th>11940</th>\n",
       "      <td>0</td>\n",
       "      <td>screw-gun</td>\n",
       "      <td>0.01</td>\n",
       "    </tr>\n",
       "    <tr>\n",
       "      <th>11941</th>\n",
       "      <td>0</td>\n",
       "      <td>hen's</td>\n",
       "      <td>0.01</td>\n",
       "    </tr>\n",
       "    <tr>\n",
       "      <th>11942</th>\n",
       "      <td>0</td>\n",
       "      <td>troop-horse</td>\n",
       "      <td>0.01</td>\n",
       "    </tr>\n",
       "    <tr>\n",
       "      <th>11943</th>\n",
       "      <td>0</td>\n",
       "      <td>lancers</td>\n",
       "      <td>0.01</td>\n",
       "    </tr>\n",
       "    <tr>\n",
       "      <th>11944</th>\n",
       "      <td>0</td>\n",
       "      <td>dick</td>\n",
       "      <td>0.01</td>\n",
       "    </tr>\n",
       "    <tr>\n",
       "      <th>11945</th>\n",
       "      <td>0</td>\n",
       "      <td>cunliffe's</td>\n",
       "      <td>0.01</td>\n",
       "    </tr>\n",
       "    <tr>\n",
       "      <th>11946</th>\n",
       "      <td>0</td>\n",
       "      <td>yoke</td>\n",
       "      <td>0.01</td>\n",
       "    </tr>\n",
       "    <tr>\n",
       "      <th>11947</th>\n",
       "      <td>0</td>\n",
       "      <td>gun-bullocks</td>\n",
       "      <td>0.01</td>\n",
       "    </tr>\n",
       "    <tr>\n",
       "      <th>11948</th>\n",
       "      <td>0</td>\n",
       "      <td>chewing</td>\n",
       "      <td>0.01</td>\n",
       "    </tr>\n",
       "    <tr>\n",
       "      <th>11949</th>\n",
       "      <td>0</td>\n",
       "      <td>australia</td>\n",
       "      <td>0.01</td>\n",
       "    </tr>\n",
       "    <tr>\n",
       "      <th>11950</th>\n",
       "      <td>0</td>\n",
       "      <td>cavalry</td>\n",
       "      <td>0.01</td>\n",
       "    </tr>\n",
       "    <tr>\n",
       "      <th>11951</th>\n",
       "      <td>0</td>\n",
       "      <td>bridle-wise</td>\n",
       "      <td>0.01</td>\n",
       "    </tr>\n",
       "    <tr>\n",
       "      <th>11952</th>\n",
       "      <td>0</td>\n",
       "      <td>dick's</td>\n",
       "      <td>0.01</td>\n",
       "    </tr>\n",
       "    <tr>\n",
       "      <th>11953</th>\n",
       "      <td>0</td>\n",
       "      <td>well-balanced</td>\n",
       "      <td>0.01</td>\n",
       "    </tr>\n",
       "    <tr>\n",
       "      <th>11954</th>\n",
       "      <td>0</td>\n",
       "      <td>hullah</td>\n",
       "      <td>0.01</td>\n",
       "    </tr>\n",
       "    <tr>\n",
       "      <th>11955</th>\n",
       "      <td>0</td>\n",
       "      <td>brumby</td>\n",
       "      <td>0.01</td>\n",
       "    </tr>\n",
       "    <tr>\n",
       "      <th>11956</th>\n",
       "      <td>0</td>\n",
       "      <td>yapped</td>\n",
       "      <td>0.01</td>\n",
       "    </tr>\n",
       "    <tr>\n",
       "      <th>11957</th>\n",
       "      <td>0</td>\n",
       "      <td>hukm</td>\n",
       "      <td>0.01</td>\n",
       "    </tr>\n",
       "    <tr>\n",
       "      <th>11958</th>\n",
       "      <td>0</td>\n",
       "      <td>canter</td>\n",
       "      <td>0.01</td>\n",
       "    </tr>\n",
       "    <tr>\n",
       "      <th>11959</th>\n",
       "      <td>0</td>\n",
       "      <td>bonnie</td>\n",
       "      <td>0.01</td>\n",
       "    </tr>\n",
       "    <tr>\n",
       "      <th>11960</th>\n",
       "      <td>0</td>\n",
       "      <td>dundee</td>\n",
       "      <td>0.01</td>\n",
       "    </tr>\n",
       "    <tr>\n",
       "      <th>11961</th>\n",
       "      <td>0</td>\n",
       "      <td>forty-pounder</td>\n",
       "      <td>0.01</td>\n",
       "    </tr>\n",
       "    <tr>\n",
       "      <th>11962</th>\n",
       "      <td>0</td>\n",
       "      <td>obeys</td>\n",
       "      <td>0.01</td>\n",
       "    </tr>\n",
       "    <tr>\n",
       "      <th>11963</th>\n",
       "      <td>0</td>\n",
       "      <td>brigadier</td>\n",
       "      <td>0.01</td>\n",
       "    </tr>\n",
       "    <tr>\n",
       "      <th>11964</th>\n",
       "      <td>0</td>\n",
       "      <td>teams</td>\n",
       "      <td>0.01</td>\n",
       "    </tr>\n",
       "    <tr>\n",
       "      <th>11965</th>\n",
       "      <td>0</td>\n",
       "      <td>trombone</td>\n",
       "      <td>0.01</td>\n",
       "    </tr>\n",
       "  </tbody>\n",
       "</table>\n",
       "<p>11966 rows × 3 columns</p>\n",
       "</div>"
      ],
      "text/plain": [
       "       0              1       2\n",
       "6874   0         holmes  241.01\n",
       "983    0           time  143.01\n",
       "96     0          small  130.01\n",
       "2734   0          cried  122.01\n",
       "4768   0       answered  121.01\n",
       "3100   0           room  114.01\n",
       "69     0           hand  112.01\n",
       "1170   0          asked  108.01\n",
       "792    0          found  105.01\n",
       "6873   0       sherlock  105.01\n",
       "2029   0           face   96.01\n",
       "706    0           case   94.01\n",
       "666    0           work   87.01\n",
       "2024   0           mind   86.01\n",
       "49     0          great   85.01\n",
       "3298   0         window   83.01\n",
       "583    0          young   77.01\n",
       "5216   0           door   76.01\n",
       "4418   0         street   74.01\n",
       "6453   0           miss   74.01\n",
       "7183   0            cab   74.01\n",
       "314    0            put   73.01\n",
       "7332   0       treasure   70.01\n",
       "135    0           hope   67.01\n",
       "894    0          night   67.01\n",
       "5413   0      companion   66.01\n",
       "7094   0         sholto   66.01\n",
       "477    0          round   65.01\n",
       "6965   0       remarked   63.01\n",
       "1374   0           word   61.01\n",
       "...   ..            ...     ...\n",
       "11936  0        parbati    0.01\n",
       "11937  0         camels    0.01\n",
       "11938  0           amir    0.01\n",
       "11939  0         jingle    0.01\n",
       "11940  0      screw-gun    0.01\n",
       "11941  0          hen's    0.01\n",
       "11942  0    troop-horse    0.01\n",
       "11943  0        lancers    0.01\n",
       "11944  0           dick    0.01\n",
       "11945  0     cunliffe's    0.01\n",
       "11946  0           yoke    0.01\n",
       "11947  0   gun-bullocks    0.01\n",
       "11948  0        chewing    0.01\n",
       "11949  0      australia    0.01\n",
       "11950  0        cavalry    0.01\n",
       "11951  0    bridle-wise    0.01\n",
       "11952  0         dick's    0.01\n",
       "11953  0  well-balanced    0.01\n",
       "11954  0         hullah    0.01\n",
       "11955  0         brumby    0.01\n",
       "11956  0         yapped    0.01\n",
       "11957  0           hukm    0.01\n",
       "11958  0         canter    0.01\n",
       "11959  0         bonnie    0.01\n",
       "11960  0         dundee    0.01\n",
       "11961  0  forty-pounder    0.01\n",
       "11962  0          obeys    0.01\n",
       "11963  0      brigadier    0.01\n",
       "11964  0          teams    0.01\n",
       "11965  0       trombone    0.01\n",
       "\n",
       "[11966 rows x 3 columns]"
      ]
     },
     "execution_count": 30,
     "metadata": {},
     "output_type": "execute_result"
    }
   ],
   "source": [
    "'''word_weights_file = \"tutorial_supplementals/mallet_output/topic_word_weights.txt\"\n",
    "\n",
    "word_scores_grouped = visual.read_mallet_word_weights(word_weights_file)\n",
    "\n",
    "topic_nr  = 0\n",
    "word_scores_grouped.get_group(topic_nr)'''"
   ]
  },
  {
   "cell_type": "code",
   "execution_count": 31,
   "metadata": {},
   "outputs": [
    {
     "name": "stdout",
     "output_type": "stream",
     "text": [
      "['lake', 'camp', 'feet', 'land', 'city', 'mountains', 'world', 'danforth', 'found', 'things']\n",
      "[81.01, 74.01, 70.01, 70.01, 66.01, 63.01, 57.01, 55.01, 54.01, 54.01]\n"
     ]
    }
   ],
   "source": [
    "'''number_of_top_words = 10\n",
    "topic_nr = 2\n",
    "\n",
    "wordlewords = visual.get_wordlewords(word_scores_grouped, number_of_top_words, topic_nr)'''"
   ]
  },
  {
   "cell_type": "code",
   "execution_count": 32,
   "metadata": {},
   "outputs": [
    {
     "data": {
      "text/plain": [
       "'lake 81.01camp 74.01feet 70.01land 70.01city 66.01mountains 63.01world 57.01danforth 55.01found 54.01things 54.01'"
      ]
     },
     "execution_count": 32,
     "metadata": {},
     "output_type": "execute_result"
    }
   ],
   "source": [
    "'''wordlewords'''"
   ]
  },
  {
   "cell_type": "code",
   "execution_count": 33,
   "metadata": {},
   "outputs": [
    {
     "name": "stderr",
     "output_type": "stream",
     "text": [
      "/home/sina/DARIAH/Topics/dariah_topics/visualization.py:352: FutureWarning: sort(columns=....) is deprecated, use sort_values(by=.....)\n",
      "  word_scores = word_scores.sort(columns=[0,2], axis=0, ascending=[True, False])\n"
     ]
    },
    {
     "name": "stdout",
     "output_type": "stream",
     "text": [
      "['ravager', 'smallest', 'dog', 'moore', 'slippers', 'proper', 'master', 'wented', 'tags', 'back']\n",
      "[198.01, 146.01, 128.01, 106.01, 105.01, 77.01, 69.01, 59.01, 59.01, 55.01]\n",
      "ravager 198.01smallest 146.01dog 128.01moore 106.01slippers 105.01proper 77.01master 69.01wented 59.01tags 59.01back 55.01\n"
     ]
    },
    {
     "data": {
      "image/png": "[encoded data removed]",
      "text/plain": [
       "<matplotlib.figure.Figure at 0x7f429f32aa20>"
      ]
     },
     "metadata": {},
     "output_type": "display_data"
    }
   ],
   "source": [
    "'''word_weights_file = \"/home/sina/DARIAH/Topics/tutorial_supplementals/mallet_output/topic_word_weights.txt\"\n",
    "numOfTopics = 4\n",
    "outfolder = \"/home/sina/DARIAH/Topics/tutorial_supplementals/mallet_output/wordles\"\n",
    "dpi = 200\n",
    "font_path = \"/home/sina/DARIAH/Topics/tutorial_supplementals/font\"\n",
    "number_of_top_words = 10\n",
    "\n",
    "wordle = visual.plot_wordle_from_mallet(word_weights_file, \n",
    "                                 numOfTopics,\n",
    "                                 number_of_top_words,\n",
    "                                 outfolder,\n",
    "                                 dpi)'''"
   ]
  },
  {
   "cell_type": "code",
   "execution_count": null,
   "metadata": {
    "collapsed": true
   },
   "outputs": [],
   "source": []
  }
 ],
 "metadata": {
  "kernelspec": {
   "display_name": "Python 3",
   "language": "python",
   "name": "python3"
  },
  "language_info": {
   "codemirror_mode": {
    "name": "ipython",
    "version": 3
   },
   "file_extension": ".py",
   "mimetype": "text/x-python",
   "name": "python",
   "nbconvert_exporter": "python",
   "pygments_lexer": "ipython3",
   "version": "3.6.1"
  }
 },
 "nbformat": 4,
 "nbformat_minor": 1
}
