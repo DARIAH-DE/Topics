{
 "cells": [
  {
   "cell_type": "markdown",
   "metadata": {},
   "source": [
    "<div style=\"text-align: center\"><h1>Topics – Easy Topic Modeling in Python</h1></div>"
   ]
  },
  {
   "cell_type": "markdown",
   "metadata": {},
   "source": [
    "The text mining technique **Topic Modeling** has become a popular statistical method for clustering documents. This notebook introduces an user-friendly workflow, basically containing data preprocessing, an implementation of the prototypic topic model **Latent Dirichlet Allocation** (LDA) which learns the relationships between words, topics, and documents, as well as multiple visualizations to explore the trained LDA model.\n",
    "\n",
    "In this notebook, we're relying on the LDA implementation by [Andrew McCallum](https://people.cs.umass.edu/~mccallum/) called [**MALLET**](https://radimrehurek.com/gensim/)."
   ]
  },
  {
   "cell_type": "markdown",
   "metadata": {},
   "source": [
    "## 1. Preprocessing"
   ]
  },
  {
   "cell_type": "markdown",
   "metadata": {},
   "source": [
    "Let's not pay heed to any warnings right now and execute the following cell."
   ]
  },
  {
   "cell_type": "code",
   "execution_count": null,
   "metadata": {
    "collapsed": true
   },
   "outputs": [],
   "source": [
    "import warnings\n",
    "warnings.filterwarnings('ignore')"
   ]
  },
  {
   "cell_type": "markdown",
   "metadata": {},
   "source": [
    "#### Loading modules from DARIAH-Topics library\n",
    "First, we have to get access to the functionalities of the library by importing them."
   ]
  },
  {
   "cell_type": "code",
   "execution_count": null,
   "metadata": {},
   "outputs": [],
   "source": [
    "from dariah_topics import preprocessing\n",
    "from dariah_topics import doclist\n",
    "from dariah_topics import meta\n",
    "from dariah_topics import mallet\n",
    "from dariah_topics import visualization"
   ]
  },
  {
   "cell_type": "markdown",
   "metadata": {},
   "source": [
    "#### Activating inline output in Jupyter notebook\n",
    "The following line will just tell the notebook to show graphics in the output frames."
   ]
  },
  {
   "cell_type": "code",
   "execution_count": null,
   "metadata": {
    "collapsed": true
   },
   "outputs": [],
   "source": [
    "%matplotlib inline"
   ]
  },
  {
   "cell_type": "markdown",
   "metadata": {},
   "source": [
    "#### Output folder\n",
    "This is where you can find the already trained data"
   ]
  },
  {
   "cell_type": "code",
   "execution_count": null,
   "metadata": {
    "collapsed": true
   },
   "outputs": [],
   "source": [
    "outfolder = \"/Users/MHuber/Documents/SS2017/grenzbote_mallet_output_rechenknecht\""
   ]
  },
  {
   "cell_type": "markdown",
   "metadata": {},
   "source": [
    "### Create document-topic matrix\n",
    "\n",
    "The generated model object can now be translated into a human-readable document-topic matrix (that is a actually a pandas data frame) that constitutes our principle exchange format for topic modeling results. For generating the matrix from a Gensim model, we can use the following function:"
   ]
  },
  {
   "cell_type": "code",
   "execution_count": null,
   "metadata": {},
   "outputs": [],
   "source": [
    "doc_topic = mallet.show_doc_topic_matrix(outfolder)\n",
    "#doct_topic"
   ]
  },
  {
   "cell_type": "markdown",
   "metadata": {},
   "source": [
    "## 3. Visualization"
   ]
  },
  {
   "cell_type": "code",
   "execution_count": null,
   "metadata": {},
   "outputs": [],
   "source": [
    "topic_keys = mallet.show_topics_keys(outfolder, num_topics=20)\n",
    "#topic_keys"
   ]
  },
  {
   "cell_type": "code",
   "execution_count": null,
   "metadata": {},
   "outputs": [],
   "source": [
    "topic_keys.loc[['Topic 5','Topic 6', 'Topic 7']]"
   ]
  },
  {
   "cell_type": "code",
   "execution_count": null,
   "metadata": {},
   "outputs": [],
   "source": [
    "visualization.plot_wordle_from_mallet(word_weights_file='/Users/MHuber/Documents/SS2017/grenzbote_mallet_output_rechenknecht/topic_word_weights.txt',topic_nr=4,number_of_top_words=10,outfolder='/Users/MHuber/Documents/SS2017/grenzbote_mallet_output_rechenknecht',dpi=900)"
   ]
  },
  {
   "cell_type": "code",
   "execution_count": null,
   "metadata": {},
   "outputs": [],
   "source": [
    "visualization.plot_wordle_from_mallet(word_weights_file='/Users/MHuber/Documents/SS2017/grenzbote_mallet_output_rechenknecht/topic_word_weights.txt',topic_nr=5,number_of_top_words=10,outfolder='/Users/MHuber/Documents/SS2017/grenzbote_mallet_output_rechenknecht',dpi=900)"
   ]
  },
  {
   "cell_type": "code",
   "execution_count": null,
   "metadata": {},
   "outputs": [],
   "source": [
    "visualization.plot_wordle_from_mallet(word_weights_file='/Users/MHuber/Documents/SS2017/grenzbote_mallet_output_rechenknecht/topic_word_weights.txt',topic_nr=6,number_of_top_words=10,outfolder='/Users/MHuber/Documents/SS2017/grenzbote_mallet_output_rechenknecht',dpi=900)\n"
   ]
  },
  {
   "cell_type": "code",
   "execution_count": null,
   "metadata": {},
   "outputs": [],
   "source": [
    "#getdict_topic_over_time(labels=['armee truppen general', 'schule lehrer sprache', 'kirche katholischen gott','dichter leben kunst'],threshold=0.1, starttime = 1841, endtime=1920)\n"
   ]
  },
  {
   "cell_type": "code",
   "execution_count": null,
   "metadata": {},
   "outputs": [],
   "source": [
    "from collections import defaultdict\n",
    "import matplotlib.pyplot as plt\n",
    "\n",
    "\n",
    "def getdict_topic_over_time(labels=['armee truppen general', 'regierung preußen partei', 'dichter goethe kunst'],threshold=0.1, starttime = 1841, endtime=1920):\n",
    "    dictList=[]\n",
    "    years=list(range(starttime,endtime))\n",
    "    doc_topicT = doc_topic.T\n",
    "    for label in labels:\n",
    "        topic_over_threshold_per_year =[]\n",
    "        df = doc_topicT.loc[doc_topicT[label] >  threshold]\n",
    "        d = defaultdict(int)\n",
    "        for item in df.index.values:\n",
    "            year = item.split('_')\n",
    "            d[year[0]]+=1\n",
    "        for year in years:\n",
    "            topic_over_threshold_per_year.append(d[str(year)])\n",
    "        #print(\"years: \", years, \" topic_over_threshold_per_year: \", topic_over_threshold_per_year)\n",
    "        plt.plot(years, topic_over_threshold_per_year, label=label)\n",
    "                   \n",
    "    plt.xlabel('Year')\n",
    "    plt.ylabel('count topics over threshold')\n",
    "    #nicht notwendig\n",
    "    #plt.xlim = (range(starttime,endtime))\n",
    "    plt.legend()\n",
    "    fig = plt.gcf()\n",
    "    fig.set_size_inches(18.5, 10.5)\n",
    "    plt.show()\n",
    "    \n",
    "getdict_topic_over_time(labels=['armee truppen general', 'regierung preußen partei', 'dichter goethe kunst'],threshold=0.1, starttime = 1841, endtime=1920)\n",
    "    "
   ]
  },
  {
   "cell_type": "code",
   "execution_count": null,
   "metadata": {
    "collapsed": true
   },
   "outputs": [],
   "source": []
  }
 ],
 "metadata": {
  "git": {
   "suppress_outputs": true
  },
  "kernelspec": {
   "display_name": "Python 3",
   "language": "python",
   "name": "python3"
  },
  "language_info": {
   "codemirror_mode": {
    "name": "ipython",
    "version": 3
   },
   "file_extension": ".py",
   "mimetype": "text/x-python",
   "name": "python",
   "nbconvert_exporter": "python",
   "pygments_lexer": "ipython3",
   "version": "3.5.3"
  }
 },
 "nbformat": 4,
 "nbformat_minor": 1
}