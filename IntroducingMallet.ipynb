{
 "cells": [
  {
   "cell_type": "markdown",
   "metadata": {},
   "source": [
    "# Topics – Easy Topic Modeling in Python\n",
    "\n",
    "The text mining technique **Topic Modeling** has become a popular statistical method for clustering documents. This [Jupyter notebook](http://jupyter.org/) introduces a step-by-step workflow, basically containing data preprocessing, the actual topic modeling using **latent Dirichlet allocation** (LDA), which learns the relationships between words, topics, and documents, as well as some interactive visualizations to explore the model.\n",
    "\n",
    "LDA, introduced in the context of text analysis in [2003](http://www.jmlr.org/papers/volume3/blei03a/blei03a.pdf), is an instance of a more general class of models called **mixed-membership models**. Involving a number of distributions and parameters, the topic model is typically performed using [Gibbs sampling](https://en.wikipedia.org/wiki/Gibbs_sampling) with conjugate priors and is purely based on word frequencies.\n",
    "\n",
    "There have been written numerous introductions to topic modeling for humanists (e.g. [this one](http://scottbot.net/topic-modeling-for-humanists-a-guided-tour/)), which provide another level of detail regarding its technical and epistemic properties.\n",
    "\n",
    "For this workflow, you will need a corpus (a set of texts) as plain text (`.txt`) or [TEI XML](http://www.tei-c.org/index.xml) (`.xml`). Using the `dariah_topics` package, you also have the ability to process the output of [DARIAH-DKPro-Wrapper](https://github.com/DARIAH-DE/DARIAH-DKPro-Wrapper), a command-line tool for *natural language processing*.\n",
    "\n",
    "Topic modeling works best with very large corpora. The [TextGrid Repository](https://textgridrep.org/) is a great place to start searching for text data. Anyway, to demonstrate the technique, we provide one small text collection in the folder `grenzboten_sample` containing 15 diary excerpts, as well as 15 war diary excerpts, which appeared in *Die Grenzboten*, a German newspaper of the late 19th and early 20th century.\n",
    "\n",
    "**Of course, you can work with your own corpus in this notebook.**\n",
    "\n",
    "We're relying on the LDA implementation by [Andrew McCallum](https://people.cs.umass.edu/~mccallum/), called [MALLET](http://mallet.cs.umass.edu/topics.php), which is known to be very robust. Aside from that, we provide two more Jupyter notebooks:\n",
    "\n",
    "* [IntroducingMallet](IntroducingGensim.ipynb), using LDA by [Gensim](https://radimrehurek.com/project/gensim/), which is attractive because of its multi-core support.\n",
    "* [IntroducingLda](IntroducingLda.ipynb), using LDA by [lda](http://pythonhosted.org/lda/index.html), which is very lightweight.\n",
    "\n",
    "For more information in general, have a look at the [documentation](http://dev.digital-humanities.de/ci/job/DARIAH-Topics/doclinks/1/)."
   ]
  },
  {
   "cell_type": "markdown",
   "metadata": {},
   "source": [
    "## First step: Installing dependencies\n",
    "\n",
    "To work within this Jupyter notebook, you will have to import the `dariah_topics` library. As you do, `dariah_topics` also imports a couple of external libraries, which have to be installed first. `pip` is the preferred installer program in Python. Starting with Python 3.4, it is included by default with the Python binary installers. If you are interested in `pip`, have a look at [this website](https://docs.python.org/3/installing/index.html).\n",
    "\n",
    "You have the ability to install dependencies via `pip` from within this notebook. To get a feeling for working with Jupyter, copy and paste (or best: type) the following code snippet in the empty cell below and press the **Run**-button.\n",
    "\n",
    "```\n",
    "import pip\n",
    "\n",
    "pip.main(['install', '-r', 'requirements.txt'])\n",
    "```\n",
    "\n",
    "If you get any errors or are not able to install *all* dependencies properly, try [Stack Overflow](https://stackoverflow.com/questions/tagged/pip) for troubleshooting or create a new issue on our [GitHub page](https://github.com/DARIAH-DE/Topics).\n",
    "\n",
    "**Furthermore**, you will have to install MALLET, or at least [download](http://mallet.cs.umass.edu/download.php), unzip and specifiy the path to the unzipped folder further below."
   ]
  },
  {
   "cell_type": "code",
   "execution_count": null,
   "metadata": {},
   "outputs": [],
   "source": []
  },
  {
   "cell_type": "markdown",
   "metadata": {},
   "source": [
    "### What have I done?\n",
    "\n",
    "With `import pip` you have imported the package `pip`, which is in the Python standard library included. In the next line, you called `pip`'s function `main` and commited a [list](https://en.wikipedia.org/wiki/List_(abstract_data_type) with three elements:\n",
    "\n",
    "1. `install` is the command to install packages.\n",
    "2. `-r` (or `--requirements`) installs from the given requirements file.\n",
    "3. `requirements.txt` is a simple text file containing a list of all required libraries."
   ]
  },
  {
   "cell_type": "markdown",
   "metadata": {},
   "source": [
    "### Some final words\n",
    "As you already know, code has to be written in the grey cells. You execute a cell by clicking the **Run**-button. If you want to run all cells of the notebook at once, click **Cell > Run All** or **Kernel > Restart & Run All** respectively, if you want to restart the Python kernel first. On the left side of an (unexecuted) cell stands `In [ ]:`. The empty bracket means, that the cell hasn't been executed yet. By clicking **Run**, a star appears in the brackets (`In [*]:`), which means the process is running. In most cases, you won't see that star, because your computer is faster than your eyes. You can execute only one cell at once, all following executions will be in the waiting line. If the process of a cell is done, a number appears in the brackets (`In [1]:`)."
   ]
  },
  {
   "cell_type": "markdown",
   "metadata": {
    "collapsed": true
   },
   "source": [
    "## Starting with topic modeling!\n",
    "\n",
    "Execute the following cell to import modules from the `dariah_topics` library."
   ]
  },
  {
   "cell_type": "code",
   "execution_count": 1,
   "metadata": {},
   "outputs": [
    {
     "name": "stderr",
     "output_type": "stream",
     "text": [
      "ERROR visualization: WordCloud functions not available, they require the wordcloud module\n"
     ]
    }
   ],
   "source": [
    "from dariah_topics import preprocessing\n",
    "from dariah_topics import meta\n",
    "from dariah_topics import mallet\n",
    "from dariah_topics import postprocessing\n",
    "from dariah_topics import visualization"
   ]
  },
  {
   "cell_type": "markdown",
   "metadata": {},
   "source": [
    "Let's not pay heed to any warnings right now and execute the following cell."
   ]
  },
  {
   "cell_type": "code",
   "execution_count": 2,
   "metadata": {},
   "outputs": [],
   "source": [
    "import warnings\n",
    "warnings.filterwarnings('ignore')"
   ]
  },
  {
   "cell_type": "markdown",
   "metadata": {},
   "source": [
    "The following line will just tell the notebook to show graphics in the output frames."
   ]
  },
  {
   "cell_type": "code",
   "execution_count": 3,
   "metadata": {},
   "outputs": [],
   "source": [
    "%matplotlib inline"
   ]
  },
  {
   "cell_type": "markdown",
   "metadata": {},
   "source": [
    "## 1. Preprocessing"
   ]
  },
  {
   "cell_type": "markdown",
   "metadata": {},
   "source": [
    "### 1.1. Reading a corpus of documents"
   ]
  },
  {
   "cell_type": "markdown",
   "metadata": {},
   "source": [
    "#### Defining the path to the corpus folder\n",
    "\n",
    "In the present example code, we are using the 30 diary excerpts from the folder `grenzboten`. To use your own corpus, change the path accordingly."
   ]
  },
  {
   "cell_type": "code",
   "execution_count": 4,
   "metadata": {},
   "outputs": [],
   "source": [
    "path_to_corpus = 'grenzboten_sample/*.txt'"
   ]
  },
  {
   "cell_type": "markdown",
   "metadata": {},
   "source": [
    "By adding `/*.txt` to the actual path, we make sure to select only files with the suffix `.txt`."
   ]
  },
  {
   "cell_type": "markdown",
   "metadata": {},
   "source": [
    "#### Accessing file paths and metadata\n",
    "We begin by creating a list of all the documents in the folder specified above. That list will tell the function `preprocessing.read_from_pathlist` (see below) which text documents to read. Furthermore, based on filenames we can create some metadata, e.g. author and title."
   ]
  },
  {
   "cell_type": "code",
   "execution_count": 5,
   "metadata": {},
   "outputs": [
    {
     "data": {
      "text/html": [
       "<div>\n",
       "<style>\n",
       "    .dataframe thead tr:only-child th {\n",
       "        text-align: right;\n",
       "    }\n",
       "\n",
       "    .dataframe thead th {\n",
       "        text-align: left;\n",
       "    }\n",
       "\n",
       "    .dataframe tbody tr th {\n",
       "        vertical-align: top;\n",
       "    }\n",
       "</style>\n",
       "<table border=\"1\" class=\"dataframe\">\n",
       "  <thead>\n",
       "    <tr style=\"text-align: right;\">\n",
       "      <th></th>\n",
       "      <th>author</th>\n",
       "      <th>basename</th>\n",
       "      <th>filename</th>\n",
       "      <th>title</th>\n",
       "    </tr>\n",
       "  </thead>\n",
       "  <tbody>\n",
       "    <tr>\n",
       "      <th>0</th>\n",
       "      <td>Beck</td>\n",
       "      <td>Beck_1844_Tagebuch_56</td>\n",
       "      <td>grenzboten_sample/Beck_1844_Tagebuch_56.txt</td>\n",
       "      <td>1844_Tagebuch_56</td>\n",
       "    </tr>\n",
       "    <tr>\n",
       "      <th>1</th>\n",
       "      <td>Unbekannt</td>\n",
       "      <td>Unbekannt_1844_Tagebuch_70</td>\n",
       "      <td>grenzboten_sample/Unbekannt_1844_Tagebuch_70.txt</td>\n",
       "      <td>1844_Tagebuch_70</td>\n",
       "    </tr>\n",
       "    <tr>\n",
       "      <th>2</th>\n",
       "      <td>Nimmer</td>\n",
       "      <td>Nimmer_1844_Tagebuch_77</td>\n",
       "      <td>grenzboten_sample/Nimmer_1844_Tagebuch_77.txt</td>\n",
       "      <td>1844_Tagebuch_77</td>\n",
       "    </tr>\n",
       "    <tr>\n",
       "      <th>3</th>\n",
       "      <td>Unbekannt</td>\n",
       "      <td>Unbekannt_1844_Tagebuch_82</td>\n",
       "      <td>grenzboten_sample/Unbekannt_1844_Tagebuch_82.txt</td>\n",
       "      <td>1844_Tagebuch_82</td>\n",
       "    </tr>\n",
       "    <tr>\n",
       "      <th>4</th>\n",
       "      <td>Jörgel</td>\n",
       "      <td>Jörgel_1844_Tagebuch_88</td>\n",
       "      <td>grenzboten_sample/Jörgel_1844_Tagebuch_88.txt</td>\n",
       "      <td>1844_Tagebuch_88</td>\n",
       "    </tr>\n",
       "  </tbody>\n",
       "</table>\n",
       "</div>"
      ],
      "text/plain": [
       "      author                    basename  \\\n",
       "0       Beck       Beck_1844_Tagebuch_56   \n",
       "1  Unbekannt  Unbekannt_1844_Tagebuch_70   \n",
       "2     Nimmer     Nimmer_1844_Tagebuch_77   \n",
       "3  Unbekannt  Unbekannt_1844_Tagebuch_82   \n",
       "4     Jörgel     Jörgel_1844_Tagebuch_88   \n",
       "\n",
       "                                           filename             title  \n",
       "0       grenzboten_sample/Beck_1844_Tagebuch_56.txt  1844_Tagebuch_56  \n",
       "1  grenzboten_sample/Unbekannt_1844_Tagebuch_70.txt  1844_Tagebuch_70  \n",
       "2     grenzboten_sample/Nimmer_1844_Tagebuch_77.txt  1844_Tagebuch_77  \n",
       "3  grenzboten_sample/Unbekannt_1844_Tagebuch_82.txt  1844_Tagebuch_82  \n",
       "4     grenzboten_sample/Jörgel_1844_Tagebuch_88.txt  1844_Tagebuch_88  "
      ]
     },
     "execution_count": 5,
     "metadata": {},
     "output_type": "execute_result"
    }
   ],
   "source": [
    "metadata = meta.fn2metadata(path_to_corpus)\n",
    "metadata[:5] # by adding '[:5]' to the variable, only the first 5 elements will be printed"
   ]
  },
  {
   "cell_type": "markdown",
   "metadata": {},
   "source": [
    "#### Read listed documents from folder"
   ]
  },
  {
   "cell_type": "code",
   "execution_count": 6,
   "metadata": {},
   "outputs": [
    {
     "data": {
      "text/plain": [
       "'Tagebuch von Karl Beck. Man spricht seit vierzehn Tagen von einem vollständigen Ministerwechsel und es circuliren im Publicum die verschiedensten Combinationen, wobei heute ganz andere Namen genannt werden, als gestern und morgen wieder andere, als heute.'"
      ]
     },
     "execution_count": 6,
     "metadata": {},
     "output_type": "execute_result"
    }
   ],
   "source": [
    "corpus = list(preprocessing.read_from_pathlist(metadata['filename']))\n",
    "corpus[0][:255] # printing the first 255 characters of the first document"
   ]
  },
  {
   "cell_type": "markdown",
   "metadata": {},
   "source": [
    "Your `corpus` contains as much elements (`documents`) as texts in your corpus are. Each element of `corpus` is a list containing exactly one element, the text itself as one single string including all whitespaces and punctuations:\n",
    "\n",
    "```\n",
    "[['This is the content of your first document.'],\n",
    " ['This is the content of your second document.'],\n",
    " ...\n",
    " ['This is the content of your last document.']]\n",
    "```"
   ]
  },
  {
   "cell_type": "markdown",
   "metadata": {},
   "source": [
    "### 1.3. Tokenize corpus\n",
    "Now, your `documents` in `corpus` will be tokenized. Tokenization is the task of cutting a stream of characters into linguistic units, simply words or, more precisely, tokens. The tokenize function `dariah_topics` provides is a simple Unicode tokenizer. Depending on the corpus, it might be useful to use an external tokenizer function, or even develop your own, since its efficiency varies with language, epoch and text type."
   ]
  },
  {
   "cell_type": "code",
   "execution_count": 7,
   "metadata": {},
   "outputs": [],
   "source": [
    "tokenized_corpus = [list(preprocessing.tokenize(document)) for document in corpus]"
   ]
  },
  {
   "cell_type": "markdown",
   "metadata": {},
   "source": [
    "At this point, each `document` is represented by a list of separate token strings. As above, have a look at the first document (which has the index `0` as Python starts counting at 0) and show its first 14 words/tokens (that have the indices `0:13` accordingly)."
   ]
  },
  {
   "cell_type": "code",
   "execution_count": 8,
   "metadata": {},
   "outputs": [
    {
     "data": {
      "text/plain": [
       "['tagebuch',\n",
       " 'von',\n",
       " 'karl',\n",
       " 'beck',\n",
       " 'man',\n",
       " 'spricht',\n",
       " 'seit',\n",
       " 'vierzehn',\n",
       " 'tagen',\n",
       " 'von',\n",
       " 'einem',\n",
       " 'vollständigen',\n",
       " 'ministerwechsel']"
      ]
     },
     "execution_count": 8,
     "metadata": {},
     "output_type": "execute_result"
    }
   ],
   "source": [
    "tokenized_corpus[0][0:13]"
   ]
  },
  {
   "cell_type": "markdown",
   "metadata": {},
   "source": [
    "### 1.4.1 Create a document-term matrix\n",
    "\n",
    "The LDA topic model is based on a [document-term matrix](https://en.wikipedia.org/wiki/Document-term_matrix) of the corpus. To improve performance in large corpora, the matrix describes the frequency of terms that occur in the collection. In a document-term matrix, rows correspond to documents in the collection and columns correspond to terms."
   ]
  },
  {
   "cell_type": "code",
   "execution_count": 9,
   "metadata": {},
   "outputs": [
    {
     "data": {
      "text/html": [
       "<div>\n",
       "<style>\n",
       "    .dataframe thead tr:only-child th {\n",
       "        text-align: right;\n",
       "    }\n",
       "\n",
       "    .dataframe thead th {\n",
       "        text-align: left;\n",
       "    }\n",
       "\n",
       "    .dataframe tbody tr th {\n",
       "        vertical-align: top;\n",
       "    }\n",
       "</style>\n",
       "<table border=\"1\" class=\"dataframe\">\n",
       "  <thead>\n",
       "    <tr style=\"text-align: right;\">\n",
       "      <th></th>\n",
       "      <th>die</th>\n",
       "      <th>der</th>\n",
       "      <th>und</th>\n",
       "      <th>in</th>\n",
       "      <th>den</th>\n",
       "      <th>von</th>\n",
       "      <th>zu</th>\n",
       "      <th>das</th>\n",
       "      <th>des</th>\n",
       "      <th>nicht</th>\n",
       "      <th>...</th>\n",
       "      <th>staatsmonopol</th>\n",
       "      <th>steigernde</th>\n",
       "      <th>staatspapieren</th>\n",
       "      <th>staatsrücksichten</th>\n",
       "      <th>staatszeitung</th>\n",
       "      <th>stallknecht</th>\n",
       "      <th>stammen</th>\n",
       "      <th>starkem</th>\n",
       "      <th>statu</th>\n",
       "      <th>subscriben</th>\n",
       "    </tr>\n",
       "  </thead>\n",
       "  <tbody>\n",
       "    <tr>\n",
       "      <th>1844_Tagebuch_56</th>\n",
       "      <td>90.0</td>\n",
       "      <td>92.0</td>\n",
       "      <td>84.0</td>\n",
       "      <td>70.0</td>\n",
       "      <td>30.0</td>\n",
       "      <td>26.0</td>\n",
       "      <td>25.0</td>\n",
       "      <td>16.0</td>\n",
       "      <td>25.0</td>\n",
       "      <td>23.0</td>\n",
       "      <td>...</td>\n",
       "      <td>0.0</td>\n",
       "      <td>0.0</td>\n",
       "      <td>0.0</td>\n",
       "      <td>0.0</td>\n",
       "      <td>0.0</td>\n",
       "      <td>0.0</td>\n",
       "      <td>0.0</td>\n",
       "      <td>0.0</td>\n",
       "      <td>0.0</td>\n",
       "      <td>0.0</td>\n",
       "    </tr>\n",
       "    <tr>\n",
       "      <th>1844_Tagebuch_70</th>\n",
       "      <td>205.0</td>\n",
       "      <td>224.0</td>\n",
       "      <td>193.0</td>\n",
       "      <td>133.0</td>\n",
       "      <td>78.0</td>\n",
       "      <td>64.0</td>\n",
       "      <td>112.0</td>\n",
       "      <td>86.0</td>\n",
       "      <td>45.0</td>\n",
       "      <td>67.0</td>\n",
       "      <td>...</td>\n",
       "      <td>0.0</td>\n",
       "      <td>0.0</td>\n",
       "      <td>0.0</td>\n",
       "      <td>0.0</td>\n",
       "      <td>0.0</td>\n",
       "      <td>0.0</td>\n",
       "      <td>0.0</td>\n",
       "      <td>0.0</td>\n",
       "      <td>0.0</td>\n",
       "      <td>0.0</td>\n",
       "    </tr>\n",
       "    <tr>\n",
       "      <th>1844_Tagebuch_77</th>\n",
       "      <td>181.0</td>\n",
       "      <td>153.0</td>\n",
       "      <td>141.0</td>\n",
       "      <td>98.0</td>\n",
       "      <td>55.0</td>\n",
       "      <td>59.0</td>\n",
       "      <td>72.0</td>\n",
       "      <td>59.0</td>\n",
       "      <td>44.0</td>\n",
       "      <td>41.0</td>\n",
       "      <td>...</td>\n",
       "      <td>0.0</td>\n",
       "      <td>0.0</td>\n",
       "      <td>0.0</td>\n",
       "      <td>0.0</td>\n",
       "      <td>0.0</td>\n",
       "      <td>0.0</td>\n",
       "      <td>0.0</td>\n",
       "      <td>0.0</td>\n",
       "      <td>0.0</td>\n",
       "      <td>0.0</td>\n",
       "    </tr>\n",
       "    <tr>\n",
       "      <th>1844_Tagebuch_82</th>\n",
       "      <td>213.0</td>\n",
       "      <td>207.0</td>\n",
       "      <td>169.0</td>\n",
       "      <td>128.0</td>\n",
       "      <td>85.0</td>\n",
       "      <td>86.0</td>\n",
       "      <td>79.0</td>\n",
       "      <td>80.0</td>\n",
       "      <td>66.0</td>\n",
       "      <td>67.0</td>\n",
       "      <td>...</td>\n",
       "      <td>0.0</td>\n",
       "      <td>0.0</td>\n",
       "      <td>0.0</td>\n",
       "      <td>0.0</td>\n",
       "      <td>0.0</td>\n",
       "      <td>0.0</td>\n",
       "      <td>0.0</td>\n",
       "      <td>0.0</td>\n",
       "      <td>0.0</td>\n",
       "      <td>0.0</td>\n",
       "    </tr>\n",
       "    <tr>\n",
       "      <th>1844_Tagebuch_88</th>\n",
       "      <td>68.0</td>\n",
       "      <td>59.0</td>\n",
       "      <td>70.0</td>\n",
       "      <td>54.0</td>\n",
       "      <td>22.0</td>\n",
       "      <td>27.0</td>\n",
       "      <td>28.0</td>\n",
       "      <td>19.0</td>\n",
       "      <td>13.0</td>\n",
       "      <td>11.0</td>\n",
       "      <td>...</td>\n",
       "      <td>0.0</td>\n",
       "      <td>0.0</td>\n",
       "      <td>0.0</td>\n",
       "      <td>0.0</td>\n",
       "      <td>0.0</td>\n",
       "      <td>0.0</td>\n",
       "      <td>0.0</td>\n",
       "      <td>0.0</td>\n",
       "      <td>0.0</td>\n",
       "      <td>0.0</td>\n",
       "    </tr>\n",
       "  </tbody>\n",
       "</table>\n",
       "<p>5 rows × 24451 columns</p>\n",
       "</div>"
      ],
      "text/plain": [
       "                    die    der    und     in   den   von     zu   das   des  \\\n",
       "1844_Tagebuch_56   90.0   92.0   84.0   70.0  30.0  26.0   25.0  16.0  25.0   \n",
       "1844_Tagebuch_70  205.0  224.0  193.0  133.0  78.0  64.0  112.0  86.0  45.0   \n",
       "1844_Tagebuch_77  181.0  153.0  141.0   98.0  55.0  59.0   72.0  59.0  44.0   \n",
       "1844_Tagebuch_82  213.0  207.0  169.0  128.0  85.0  86.0   79.0  80.0  66.0   \n",
       "1844_Tagebuch_88   68.0   59.0   70.0   54.0  22.0  27.0   28.0  19.0  13.0   \n",
       "\n",
       "                  nicht     ...      staatsmonopol  steigernde  \\\n",
       "1844_Tagebuch_56   23.0     ...                0.0         0.0   \n",
       "1844_Tagebuch_70   67.0     ...                0.0         0.0   \n",
       "1844_Tagebuch_77   41.0     ...                0.0         0.0   \n",
       "1844_Tagebuch_82   67.0     ...                0.0         0.0   \n",
       "1844_Tagebuch_88   11.0     ...                0.0         0.0   \n",
       "\n",
       "                  staatspapieren  staatsrücksichten  staatszeitung  \\\n",
       "1844_Tagebuch_56             0.0                0.0            0.0   \n",
       "1844_Tagebuch_70             0.0                0.0            0.0   \n",
       "1844_Tagebuch_77             0.0                0.0            0.0   \n",
       "1844_Tagebuch_82             0.0                0.0            0.0   \n",
       "1844_Tagebuch_88             0.0                0.0            0.0   \n",
       "\n",
       "                  stallknecht  stammen  starkem  statu  subscriben  \n",
       "1844_Tagebuch_56          0.0      0.0      0.0    0.0         0.0  \n",
       "1844_Tagebuch_70          0.0      0.0      0.0    0.0         0.0  \n",
       "1844_Tagebuch_77          0.0      0.0      0.0    0.0         0.0  \n",
       "1844_Tagebuch_82          0.0      0.0      0.0    0.0         0.0  \n",
       "1844_Tagebuch_88          0.0      0.0      0.0    0.0         0.0  \n",
       "\n",
       "[5 rows x 24451 columns]"
      ]
     },
     "execution_count": 9,
     "metadata": {},
     "output_type": "execute_result"
    }
   ],
   "source": [
    "document_term_matrix = preprocessing.create_document_term_matrix(tokenized_corpus, metadata['title'])\n",
    "document_term_matrix[:5]"
   ]
  },
  {
   "cell_type": "markdown",
   "metadata": {
    "collapsed": true
   },
   "source": [
    "### 1.5. Feature removal\n",
    "\n",
    "*Stopwords* (also known as *most frequent tokens*) and *hapax legomena* are harmful for LDA and have to be removed from the corpus or the document-term matrix respectively. In this example, the 50 most frequent tokens will be categorized as stopwords.\n",
    "\n",
    "**Hint**: Be careful with removing most frequent tokens, you might remove tokens quite important for LDA. Anyway, to gain better results, it is highly recommended to use an external stopwords list.\n",
    "\n",
    "In this notebook, we combine the 50 most frequent tokens, hapax legomena and an external stopwordslist."
   ]
  },
  {
   "cell_type": "markdown",
   "metadata": {},
   "source": [
    "#### List the 100 most frequent words"
   ]
  },
  {
   "cell_type": "code",
   "execution_count": 10,
   "metadata": {},
   "outputs": [],
   "source": [
    "stopwords = preprocessing.find_stopwords(document_term_matrix, most_frequent_tokens=100)"
   ]
  },
  {
   "cell_type": "markdown",
   "metadata": {},
   "source": [
    "These are the five most frequent words:"
   ]
  },
  {
   "cell_type": "code",
   "execution_count": 11,
   "metadata": {},
   "outputs": [
    {
     "data": {
      "text/plain": [
       "['die', 'der', 'und', 'in', 'den']"
      ]
     },
     "execution_count": 11,
     "metadata": {},
     "output_type": "execute_result"
    }
   ],
   "source": [
    "stopwords[:5]"
   ]
  },
  {
   "cell_type": "markdown",
   "metadata": {},
   "source": [
    "#### List hapax legomena"
   ]
  },
  {
   "cell_type": "code",
   "execution_count": 12,
   "metadata": {},
   "outputs": [
    {
     "name": "stdout",
     "output_type": "stream",
     "text": [
      "Total number of types in corpus: 24451\n",
      "Total number of hapax legomena: 19757\n"
     ]
    }
   ],
   "source": [
    "hapax_legomena = preprocessing.find_hapax_legomena(document_term_matrix)\n",
    "print(\"Total number of types in corpus:\", document_term_matrix.shape[1])\n",
    "print(\"Total number of hapax legomena:\", len(hapax_legomena))"
   ]
  },
  {
   "cell_type": "markdown",
   "metadata": {},
   "source": [
    "#### Optional: Use external stopwordlist"
   ]
  },
  {
   "cell_type": "code",
   "execution_count": 13,
   "metadata": {},
   "outputs": [],
   "source": [
    "path_to_stopwordlist = \"tutorial_supplementals/stopwords/de.txt\"\n",
    "external_stopwords = [line.strip() for line in open(path_to_stopwordlist, 'r', encoding='utf-8')]"
   ]
  },
  {
   "cell_type": "markdown",
   "metadata": {},
   "source": [
    "#### Combine lists and remove content from `doc_term_matrix`"
   ]
  },
  {
   "cell_type": "code",
   "execution_count": 14,
   "metadata": {},
   "outputs": [],
   "source": [
    "features = stopwords + hapax_legomena + external_stopwords\n",
    "document_term_matrix = preprocessing.remove_features(features, document_term_matrix=document_term_matrix)"
   ]
  },
  {
   "cell_type": "markdown",
   "metadata": {},
   "source": [
    "Finally, this is how your clean corpus looks like now."
   ]
  },
  {
   "cell_type": "code",
   "execution_count": 15,
   "metadata": {},
   "outputs": [
    {
     "data": {
      "text/html": [
       "<div>\n",
       "<style>\n",
       "    .dataframe thead tr:only-child th {\n",
       "        text-align: right;\n",
       "    }\n",
       "\n",
       "    .dataframe thead th {\n",
       "        text-align: left;\n",
       "    }\n",
       "\n",
       "    .dataframe tbody tr th {\n",
       "        vertical-align: top;\n",
       "    }\n",
       "</style>\n",
       "<table border=\"1\" class=\"dataframe\">\n",
       "  <thead>\n",
       "    <tr style=\"text-align: right;\">\n",
       "      <th></th>\n",
       "      <th>franzosen</th>\n",
       "      <th>genommen</th>\n",
       "      <th>abgewiesen</th>\n",
       "      <th>südlich</th>\n",
       "      <th>berlin</th>\n",
       "      <th>lassen</th>\n",
       "      <th>geschütze</th>\n",
       "      <th>englische</th>\n",
       "      <th>januar</th>\n",
       "      <th>deutschland</th>\n",
       "      <th>...</th>\n",
       "      <th>bankprojects</th>\n",
       "      <th>ii&amp;gt</th>\n",
       "      <th>pflanzenausstellung</th>\n",
       "      <th>unbekümmert</th>\n",
       "      <th>nischt</th>\n",
       "      <th>thiaumont-walde</th>\n",
       "      <th>kompositionen</th>\n",
       "      <th>monarchischer</th>\n",
       "      <th>ehrenwerthen</th>\n",
       "      <th>zaturcy</th>\n",
       "    </tr>\n",
       "  </thead>\n",
       "  <tbody>\n",
       "    <tr>\n",
       "      <th>1844_Tagebuch_56</th>\n",
       "      <td>0.0</td>\n",
       "      <td>1.0</td>\n",
       "      <td>0.0</td>\n",
       "      <td>0.0</td>\n",
       "      <td>4.0</td>\n",
       "      <td>3.0</td>\n",
       "      <td>0.0</td>\n",
       "      <td>0.0</td>\n",
       "      <td>0.0</td>\n",
       "      <td>4.0</td>\n",
       "      <td>...</td>\n",
       "      <td>0.0</td>\n",
       "      <td>0.0</td>\n",
       "      <td>0.0</td>\n",
       "      <td>0.0</td>\n",
       "      <td>0.0</td>\n",
       "      <td>0.0</td>\n",
       "      <td>0.0</td>\n",
       "      <td>0.0</td>\n",
       "      <td>0.0</td>\n",
       "      <td>0.0</td>\n",
       "    </tr>\n",
       "    <tr>\n",
       "      <th>1844_Tagebuch_70</th>\n",
       "      <td>2.0</td>\n",
       "      <td>1.0</td>\n",
       "      <td>0.0</td>\n",
       "      <td>0.0</td>\n",
       "      <td>8.0</td>\n",
       "      <td>6.0</td>\n",
       "      <td>0.0</td>\n",
       "      <td>3.0</td>\n",
       "      <td>0.0</td>\n",
       "      <td>1.0</td>\n",
       "      <td>...</td>\n",
       "      <td>0.0</td>\n",
       "      <td>0.0</td>\n",
       "      <td>0.0</td>\n",
       "      <td>2.0</td>\n",
       "      <td>0.0</td>\n",
       "      <td>0.0</td>\n",
       "      <td>0.0</td>\n",
       "      <td>0.0</td>\n",
       "      <td>0.0</td>\n",
       "      <td>0.0</td>\n",
       "    </tr>\n",
       "    <tr>\n",
       "      <th>1844_Tagebuch_77</th>\n",
       "      <td>0.0</td>\n",
       "      <td>1.0</td>\n",
       "      <td>0.0</td>\n",
       "      <td>0.0</td>\n",
       "      <td>5.0</td>\n",
       "      <td>9.0</td>\n",
       "      <td>0.0</td>\n",
       "      <td>2.0</td>\n",
       "      <td>2.0</td>\n",
       "      <td>2.0</td>\n",
       "      <td>...</td>\n",
       "      <td>0.0</td>\n",
       "      <td>0.0</td>\n",
       "      <td>0.0</td>\n",
       "      <td>0.0</td>\n",
       "      <td>0.0</td>\n",
       "      <td>0.0</td>\n",
       "      <td>0.0</td>\n",
       "      <td>0.0</td>\n",
       "      <td>0.0</td>\n",
       "      <td>0.0</td>\n",
       "    </tr>\n",
       "    <tr>\n",
       "      <th>1844_Tagebuch_82</th>\n",
       "      <td>0.0</td>\n",
       "      <td>0.0</td>\n",
       "      <td>0.0</td>\n",
       "      <td>0.0</td>\n",
       "      <td>5.0</td>\n",
       "      <td>10.0</td>\n",
       "      <td>0.0</td>\n",
       "      <td>0.0</td>\n",
       "      <td>0.0</td>\n",
       "      <td>2.0</td>\n",
       "      <td>...</td>\n",
       "      <td>0.0</td>\n",
       "      <td>0.0</td>\n",
       "      <td>0.0</td>\n",
       "      <td>0.0</td>\n",
       "      <td>0.0</td>\n",
       "      <td>0.0</td>\n",
       "      <td>0.0</td>\n",
       "      <td>0.0</td>\n",
       "      <td>0.0</td>\n",
       "      <td>0.0</td>\n",
       "    </tr>\n",
       "    <tr>\n",
       "      <th>1844_Tagebuch_88</th>\n",
       "      <td>2.0</td>\n",
       "      <td>0.0</td>\n",
       "      <td>0.0</td>\n",
       "      <td>0.0</td>\n",
       "      <td>0.0</td>\n",
       "      <td>1.0</td>\n",
       "      <td>0.0</td>\n",
       "      <td>0.0</td>\n",
       "      <td>0.0</td>\n",
       "      <td>4.0</td>\n",
       "      <td>...</td>\n",
       "      <td>0.0</td>\n",
       "      <td>0.0</td>\n",
       "      <td>0.0</td>\n",
       "      <td>0.0</td>\n",
       "      <td>0.0</td>\n",
       "      <td>0.0</td>\n",
       "      <td>0.0</td>\n",
       "      <td>0.0</td>\n",
       "      <td>0.0</td>\n",
       "      <td>0.0</td>\n",
       "    </tr>\n",
       "  </tbody>\n",
       "</table>\n",
       "<p>5 rows × 4242 columns</p>\n",
       "</div>"
      ],
      "text/plain": [
       "                  franzosen  genommen  abgewiesen  südlich  berlin  lassen  \\\n",
       "1844_Tagebuch_56        0.0       1.0         0.0      0.0     4.0     3.0   \n",
       "1844_Tagebuch_70        2.0       1.0         0.0      0.0     8.0     6.0   \n",
       "1844_Tagebuch_77        0.0       1.0         0.0      0.0     5.0     9.0   \n",
       "1844_Tagebuch_82        0.0       0.0         0.0      0.0     5.0    10.0   \n",
       "1844_Tagebuch_88        2.0       0.0         0.0      0.0     0.0     1.0   \n",
       "\n",
       "                  geschütze  englische  januar  deutschland   ...     \\\n",
       "1844_Tagebuch_56        0.0        0.0     0.0          4.0   ...      \n",
       "1844_Tagebuch_70        0.0        3.0     0.0          1.0   ...      \n",
       "1844_Tagebuch_77        0.0        2.0     2.0          2.0   ...      \n",
       "1844_Tagebuch_82        0.0        0.0     0.0          2.0   ...      \n",
       "1844_Tagebuch_88        0.0        0.0     0.0          4.0   ...      \n",
       "\n",
       "                  bankprojects  ii&gt  pflanzenausstellung  unbekümmert  \\\n",
       "1844_Tagebuch_56           0.0    0.0                  0.0          0.0   \n",
       "1844_Tagebuch_70           0.0    0.0                  0.0          2.0   \n",
       "1844_Tagebuch_77           0.0    0.0                  0.0          0.0   \n",
       "1844_Tagebuch_82           0.0    0.0                  0.0          0.0   \n",
       "1844_Tagebuch_88           0.0    0.0                  0.0          0.0   \n",
       "\n",
       "                  nischt  thiaumont-walde  kompositionen  monarchischer  \\\n",
       "1844_Tagebuch_56     0.0              0.0            0.0            0.0   \n",
       "1844_Tagebuch_70     0.0              0.0            0.0            0.0   \n",
       "1844_Tagebuch_77     0.0              0.0            0.0            0.0   \n",
       "1844_Tagebuch_82     0.0              0.0            0.0            0.0   \n",
       "1844_Tagebuch_88     0.0              0.0            0.0            0.0   \n",
       "\n",
       "                  ehrenwerthen  zaturcy  \n",
       "1844_Tagebuch_56           0.0      0.0  \n",
       "1844_Tagebuch_70           0.0      0.0  \n",
       "1844_Tagebuch_77           0.0      0.0  \n",
       "1844_Tagebuch_82           0.0      0.0  \n",
       "1844_Tagebuch_88           0.0      0.0  \n",
       "\n",
       "[5 rows x 4242 columns]"
      ]
     },
     "execution_count": 15,
     "metadata": {},
     "output_type": "execute_result"
    }
   ],
   "source": [
    "document_term_matrix[:5]"
   ]
  },
  {
   "cell_type": "markdown",
   "metadata": {},
   "source": [
    "#### Write MALLET import files"
   ]
  },
  {
   "cell_type": "code",
   "execution_count": 16,
   "metadata": {},
   "outputs": [],
   "source": [
    "postprocessing.save_tokenized_corpus(tokenized_corpus, metadata['basename'], 'tutorial_supplementals/mallet_input')"
   ]
  },
  {
   "cell_type": "markdown",
   "metadata": {},
   "source": [
    "## 1. Setting the parameters"
   ]
  },
  {
   "cell_type": "markdown",
   "metadata": {},
   "source": [
    "#### Define path to corpus folder"
   ]
  },
  {
   "cell_type": "code",
   "execution_count": 17,
   "metadata": {},
   "outputs": [],
   "source": [
    "path_to_corpus = 'tutorial_supplementals/mallet_input'"
   ]
  },
  {
   "cell_type": "markdown",
   "metadata": {},
   "source": [
    "#### Path to mallet folder \n",
    "\n",
    "Now we must tell the library where to find the local instance of mallet. If you managed to install Mallet, it is sufficient set `path_to_mallet = \"mallet\"`, if you just store Mallet in a local folder, you have to specify the path to the binary explictly."
   ]
  },
  {
   "cell_type": "code",
   "execution_count": 18,
   "metadata": {},
   "outputs": [],
   "source": [
    "path_to_mallet = 'mallet'"
   ]
  },
  {
   "cell_type": "markdown",
   "metadata": {},
   "source": [
    "#### Output folder"
   ]
  },
  {
   "cell_type": "code",
   "execution_count": 19,
   "metadata": {},
   "outputs": [],
   "source": [
    "output_folder = 'tutorial_supplementals/mallet_output'\n",
    "mallet_binary = 'tutorial_supplementals/mallet_output/binary.mallet'"
   ]
  },
  {
   "cell_type": "markdown",
   "metadata": {},
   "source": [
    "#### The Mallet corpus model\n",
    "\n",
    "Finally, we can give all these folder paths to a Mallet function that handles all the preprocessing steps and creates a Mallet-specific corpus model object."
   ]
  },
  {
   "cell_type": "code",
   "execution_count": 20,
   "metadata": {},
   "outputs": [
    {
     "name": "stdout",
     "output_type": "stream",
     "text": [
      "CPU times: user 4.29 ms, sys: 4.47 ms, total: 8.77 ms\n",
      "Wall time: 212 ms\n"
     ]
    }
   ],
   "source": [
    "%%time\n",
    "\n",
    "mallet_binary = mallet.create_mallet_binary(path_to_mallet=path_to_mallet,\n",
    "                                            path_to_corpus=path_to_corpus,\n",
    "                                            output_file=mallet_binary) "
   ]
  },
  {
   "cell_type": "markdown",
   "metadata": {},
   "source": [
    "## 2. Model creation"
   ]
  },
  {
   "cell_type": "markdown",
   "metadata": {},
   "source": [
    "We use the function `create_mallet_model()` from the library `dariah_topics.mallet` to generate a LDA topic model. To create a LDA model, there have to be specified a couple of parameters.\n",
    "\n",
    "But first, if you are curious about any library, module, class or function, try `help()`. This can be very useful, because (at least in a well documented library) explanations of use and parameters will be printed. We're interested in the function `create_mallet_model()` in the module `dariah_topics.mallet`, so let's try:\n",
    "\n",
    "```\n",
    "help(mallet.create_mallet_model)\n",
    "```\n",
    "\n",
    "This will print something like this (in fact even more):\n",
    "\n",
    "```\n",
    "Help on function create_mallet_model in module dariah_topics.mallet:\n",
    "\n",
    "create_mallet_model(parameter ...)\n",
    "    Args:\n",
    "        path_to_mallet (str): Path to MALLET. Defaults to 'mallet'. If MALLET is\n",
    "            not properly installed use absolute path, e.g. '/home/workspace/mallet/bin/mallet'.\n",
    "        path_to_binary (str): Path to previously created MALLET binary.\n",
    "        input_model (str): Absolute path to the binary topic model created by `output_model`.\n",
    "        input_state (str): Absolute path to the gzipped Gibbs sampling state created by `output_state`.\n",
    "        folder_for_output (str): Folder for MALLET output.\n",
    "        output_model (bool): Write a serialized MALLET topic trainer object.\n",
    "            This type of output is appropriate for pausing and restarting training,\n",
    "            but does not produce data that can easily be analyzed. Defaults to True.\n",
    "        output_topic_keys (bool): Write the top words for each topic and any\n",
    "            Dirichlet parameters. Defaults to True.\n",
    "        topic_word_weights_file (bool): Write unnormalized weights for every\n",
    "            topic and word type. Defaults to True.\n",
    "        word_topic_counts_file (bool): Write a sparse representation of topic-word\n",
    "            assignments. By default this is null, indicating that no file will\n",
    "            be written. Defaults to True.\n",
    "        output_doc_topics (bool): Write the topic proportions per document, at\n",
    "            the end of the iterations. Defaults to True.\n",
    "        doc_topics_threshold (float): Do not print topics with proportions less\n",
    "            than this threshold value within `output_doc_topics`. Defaults to 0.0.\n",
    "        num_topics (int): Number of topics. Defaults to 10.\n",
    "        num_top_words (int): Number of keywords for each topic. Defaults to 10.\n",
    "        num_interations (int): Number of iterations. Defaults to 1000.\n",
    "        num_threads (int): Number of threads for parallel training.  Defaults to 1.\n",
    "        num_icm_iterations (int): Number of iterations of iterated conditional\n",
    "            modes (topic maximization).  Defaults to 0.\n",
    "        alpha (float): Sum over topics of smoothing over doc-topic distributions.\n",
    "            alpha_k = [this value] / [num topics]. Defaults to 5.0.\n",
    "        beta (float): Smoothing parameter for each topic-word. Defaults to 0.01\n",
    "```\n",
    "\n",
    "So, now you know how to define the number of topics and the number of sampling iterations as well. A higher number of iterations will probably yield a better model, but also increases processing time. `alpha` and `beta` are so-called *hyperparameters*. They influence the model's performance, so feel free to play around with them. In the present example, we will leave the default values. Furthermore, there exist various methods for hyperparameter optimization, e.g. gridsearch or Gaussian optimization.\n",
    "\n",
    "**Warning: This step can take quite a while!** Meaning something between some seconds and some hours depending on corpus size and the number of iterations. Our example corpus should be done within a minute or two at `num_iterations=5000`."
   ]
  },
  {
   "cell_type": "code",
   "execution_count": 21,
   "metadata": {
    "scrolled": false
   },
   "outputs": [
    {
     "name": "stdout",
     "output_type": "stream",
     "text": [
      "CPU times: user 3.86 ms, sys: 4.43 ms, total: 8.29 ms\n",
      "Wall time: 194 ms\n"
     ]
    }
   ],
   "source": [
    "%%time\n",
    "\n",
    "mallet.create_mallet_model(path_to_mallet=path_to_mallet, \n",
    "                           path_to_binary=mallet_binary, \n",
    "                           folder_for_output=output_folder,\n",
    "                           num_iterations=5000,\n",
    "                           num_topics=10)"
   ]
  },
  {
   "cell_type": "markdown",
   "metadata": {},
   "source": [
    "### 2.4. Create document-topic matrix\n",
    "\n",
    "The generated model object can now be translated into a human-readable document-topic matrix (that is a actually a pandas data frame) that constitutes our principle exchange format for topic modeling results. For generating the matrix from a Gensim model, we can use the following function:"
   ]
  },
  {
   "cell_type": "code",
   "execution_count": 22,
   "metadata": {},
   "outputs": [
    {
     "data": {
      "text/html": [
       "<div>\n",
       "<style>\n",
       "    .dataframe thead tr:only-child th {\n",
       "        text-align: right;\n",
       "    }\n",
       "\n",
       "    .dataframe thead th {\n",
       "        text-align: left;\n",
       "    }\n",
       "\n",
       "    .dataframe tbody tr th {\n",
       "        vertical-align: top;\n",
       "    }\n",
       "</style>\n",
       "<table border=\"1\" class=\"dataframe\">\n",
       "  <thead>\n",
       "    <tr style=\"text-align: right;\">\n",
       "      <th></th>\n",
       "      <th>Key 0</th>\n",
       "      <th>Key 1</th>\n",
       "      <th>Key 2</th>\n",
       "      <th>Key 3</th>\n",
       "      <th>Key 4</th>\n",
       "      <th>Key 5</th>\n",
       "      <th>Key 6</th>\n",
       "      <th>Key 7</th>\n",
       "      <th>Key 8</th>\n",
       "      <th>Key 9</th>\n",
       "    </tr>\n",
       "  </thead>\n",
       "  <tbody>\n",
       "    <tr>\n",
       "      <th>Topic 0</th>\n",
       "      <td>drei</td>\n",
       "      <td>september</td>\n",
       "      <td>deutscher</td>\n",
       "      <td>england</td>\n",
       "      <td>wegen</td>\n",
       "      <td>paris</td>\n",
       "      <td>regierung</td>\n",
       "      <td>deutschland</td>\n",
       "      <td>gebracht</td>\n",
       "      <td>machen</td>\n",
       "    </tr>\n",
       "    <tr>\n",
       "      <th>Topic 1</th>\n",
       "      <td>leben</td>\n",
       "      <td>deutschland</td>\n",
       "      <td>kunst</td>\n",
       "      <td>erste</td>\n",
       "      <td>könig</td>\n",
       "      <td>geschichte</td>\n",
       "      <td>professor</td>\n",
       "      <td>verfasser</td>\n",
       "      <td>ganze</td>\n",
       "      <td>kam</td>\n",
       "    </tr>\n",
       "    <tr>\n",
       "      <th>Topic 2</th>\n",
       "      <td>vom</td>\n",
       "      <td>einmal</td>\n",
       "      <td>wiener</td>\n",
       "      <td>waren</td>\n",
       "      <td>berliner</td>\n",
       "      <td>zwei</td>\n",
       "      <td>steht</td>\n",
       "      <td>allgemeinen</td>\n",
       "      <td>schreiben</td>\n",
       "      <td>eben</td>\n",
       "    </tr>\n",
       "    <tr>\n",
       "      <th>Topic 3</th>\n",
       "      <td>leipzig</td>\n",
       "      <td>ward</td>\n",
       "      <td>stadt</td>\n",
       "      <td>mag</td>\n",
       "      <td>herrn</td>\n",
       "      <td>darauf</td>\n",
       "      <td>möglich</td>\n",
       "      <td>sieht</td>\n",
       "      <td>theil</td>\n",
       "      <td>sollte</td>\n",
       "    </tr>\n",
       "    <tr>\n",
       "      <th>Topic 4</th>\n",
       "      <td>scheint</td>\n",
       "      <td>presse</td>\n",
       "      <td>werde</td>\n",
       "      <td>sei</td>\n",
       "      <td>irgend</td>\n",
       "      <td>dadurch</td>\n",
       "      <td>frage</td>\n",
       "      <td>eigentlich</td>\n",
       "      <td>vom</td>\n",
       "      <td>briefe</td>\n",
       "    </tr>\n",
       "    <tr>\n",
       "      <th>Topic 5</th>\n",
       "      <td>geschütze</td>\n",
       "      <td>januar</td>\n",
       "      <td>abgewiesen</td>\n",
       "      <td>genommen</td>\n",
       "      <td>östlich</td>\n",
       "      <td>kriegstagebuch</td>\n",
       "      <td>franzosen</td>\n",
       "      <td>angriff</td>\n",
       "      <td>engländer</td>\n",
       "      <td>truppen</td>\n",
       "    </tr>\n",
       "    <tr>\n",
       "      <th>Topic 6</th>\n",
       "      <td>ohne</td>\n",
       "      <td>seinen</td>\n",
       "      <td>wohl</td>\n",
       "      <td>dieses</td>\n",
       "      <td>diesem</td>\n",
       "      <td>hatte</td>\n",
       "      <td>lassen</td>\n",
       "      <td>muß</td>\n",
       "      <td>ihren</td>\n",
       "      <td>unserer</td>\n",
       "    </tr>\n",
       "    <tr>\n",
       "      <th>Topic 7</th>\n",
       "      <td>ihr</td>\n",
       "      <td>immer</td>\n",
       "      <td>ganz</td>\n",
       "      <td>nun</td>\n",
       "      <td>sondern</td>\n",
       "      <td>ihn</td>\n",
       "      <td>nichts</td>\n",
       "      <td>wurde</td>\n",
       "      <td>keine</td>\n",
       "      <td>weil</td>\n",
       "    </tr>\n",
       "    <tr>\n",
       "      <th>Topic 8</th>\n",
       "      <td>ihnen</td>\n",
       "      <td>ihrer</td>\n",
       "      <td>worden</td>\n",
       "      <td>diesen</td>\n",
       "      <td>damit</td>\n",
       "      <td>halten</td>\n",
       "      <td>wurden</td>\n",
       "      <td>frankreich</td>\n",
       "      <td>menschen</td>\n",
       "      <td>französischen</td>\n",
       "    </tr>\n",
       "    <tr>\n",
       "      <th>Topic 9</th>\n",
       "      <td>südlich</td>\n",
       "      <td>juli</td>\n",
       "      <td>märz</td>\n",
       "      <td>april</td>\n",
       "      <td>zwischen</td>\n",
       "      <td>stellungen</td>\n",
       "      <td>abgewiesen</td>\n",
       "      <td>nördlich</td>\n",
       "      <td>heftige</td>\n",
       "      <td>gestürmt</td>\n",
       "    </tr>\n",
       "  </tbody>\n",
       "</table>\n",
       "</div>"
      ],
      "text/plain": [
       "             Key 0        Key 1       Key 2     Key 3     Key 4  \\\n",
       "Topic 0       drei    september   deutscher   england     wegen   \n",
       "Topic 1      leben  deutschland       kunst     erste     könig   \n",
       "Topic 2        vom       einmal      wiener     waren  berliner   \n",
       "Topic 3    leipzig         ward       stadt       mag     herrn   \n",
       "Topic 4    scheint       presse       werde       sei    irgend   \n",
       "Topic 5  geschütze       januar  abgewiesen  genommen   östlich   \n",
       "Topic 6       ohne       seinen        wohl    dieses    diesem   \n",
       "Topic 7        ihr        immer        ganz       nun   sondern   \n",
       "Topic 8      ihnen        ihrer      worden    diesen     damit   \n",
       "Topic 9    südlich         juli        märz     april  zwischen   \n",
       "\n",
       "                  Key 5       Key 6        Key 7      Key 8          Key 9  \n",
       "Topic 0           paris   regierung  deutschland   gebracht         machen  \n",
       "Topic 1      geschichte   professor    verfasser      ganze            kam  \n",
       "Topic 2            zwei       steht  allgemeinen  schreiben           eben  \n",
       "Topic 3          darauf     möglich        sieht      theil         sollte  \n",
       "Topic 4         dadurch       frage   eigentlich        vom         briefe  \n",
       "Topic 5  kriegstagebuch   franzosen      angriff  engländer        truppen  \n",
       "Topic 6           hatte      lassen          muß      ihren        unserer  \n",
       "Topic 7             ihn      nichts        wurde      keine           weil  \n",
       "Topic 8          halten      wurden   frankreich   menschen  französischen  \n",
       "Topic 9      stellungen  abgewiesen     nördlich    heftige       gestürmt  "
      ]
     },
     "execution_count": 22,
     "metadata": {},
     "output_type": "execute_result"
    }
   ],
   "source": [
    "topics = postprocessing.show_topics(topic_keys_file='tutorial_supplementals/mallet_output/topic_keys.txt')\n",
    "topics"
   ]
  },
  {
   "cell_type": "markdown",
   "metadata": {},
   "source": [
    "## 3. Visualization"
   ]
  },
  {
   "cell_type": "markdown",
   "metadata": {},
   "source": [
    "Now we can see the topics in the model with the following function:\n",
    "\n",
    "**Hint:** Depending on the number of topics chosen in step 2, you might have to adjust *num_topics* in this step accordingly."
   ]
  },
  {
   "cell_type": "code",
   "execution_count": 23,
   "metadata": {},
   "outputs": [
    {
     "data": {
      "text/html": [
       "<div>\n",
       "<style>\n",
       "    .dataframe thead tr:only-child th {\n",
       "        text-align: right;\n",
       "    }\n",
       "\n",
       "    .dataframe thead th {\n",
       "        text-align: left;\n",
       "    }\n",
       "\n",
       "    .dataframe tbody tr th {\n",
       "        vertical-align: top;\n",
       "    }\n",
       "</style>\n",
       "<table border=\"1\" class=\"dataframe\">\n",
       "  <thead>\n",
       "    <tr style=\"text-align: right;\">\n",
       "      <th></th>\n",
       "      <th>drei september deutscher</th>\n",
       "      <th>leben deutschland kunst</th>\n",
       "      <th>vom einmal wiener</th>\n",
       "      <th>leipzig ward stadt</th>\n",
       "      <th>scheint presse werde</th>\n",
       "      <th>geschütze januar abgewiesen</th>\n",
       "      <th>ohne seinen wohl</th>\n",
       "      <th>ihr immer ganz</th>\n",
       "      <th>ihnen ihrer worden</th>\n",
       "      <th>südlich juli märz</th>\n",
       "    </tr>\n",
       "  </thead>\n",
       "  <tbody>\n",
       "    <tr>\n",
       "      <th>Grenzboten_1844_Tagebuch_56.txt</th>\n",
       "      <td>0.069915</td>\n",
       "      <td>0.058898</td>\n",
       "      <td>0.137712</td>\n",
       "      <td>0.105508</td>\n",
       "      <td>0.041949</td>\n",
       "      <td>0.012288</td>\n",
       "      <td>0.218220</td>\n",
       "      <td>0.308051</td>\n",
       "      <td>0.047034</td>\n",
       "      <td>0.000424</td>\n",
       "    </tr>\n",
       "    <tr>\n",
       "      <th>Grenzboten_1844_Tagebuch_70.txt</th>\n",
       "      <td>0.053368</td>\n",
       "      <td>0.069603</td>\n",
       "      <td>0.274093</td>\n",
       "      <td>0.043005</td>\n",
       "      <td>0.066149</td>\n",
       "      <td>0.003282</td>\n",
       "      <td>0.178411</td>\n",
       "      <td>0.260622</td>\n",
       "      <td>0.050604</td>\n",
       "      <td>0.000864</td>\n",
       "    </tr>\n",
       "    <tr>\n",
       "      <th>Grenzboten_1844_Tagebuch_77.txt</th>\n",
       "      <td>0.047408</td>\n",
       "      <td>0.089128</td>\n",
       "      <td>0.143911</td>\n",
       "      <td>0.159503</td>\n",
       "      <td>0.032659</td>\n",
       "      <td>0.000632</td>\n",
       "      <td>0.244627</td>\n",
       "      <td>0.209650</td>\n",
       "      <td>0.072271</td>\n",
       "      <td>0.000211</td>\n",
       "    </tr>\n",
       "    <tr>\n",
       "      <th>Grenzboten_1844_Tagebuch_82.txt</th>\n",
       "      <td>0.046118</td>\n",
       "      <td>0.049323</td>\n",
       "      <td>0.099893</td>\n",
       "      <td>0.185363</td>\n",
       "      <td>0.080662</td>\n",
       "      <td>0.004452</td>\n",
       "      <td>0.248397</td>\n",
       "      <td>0.224537</td>\n",
       "      <td>0.060007</td>\n",
       "      <td>0.001246</td>\n",
       "    </tr>\n",
       "    <tr>\n",
       "      <th>Grenzboten_1844_Tagebuch_88.txt</th>\n",
       "      <td>0.059833</td>\n",
       "      <td>0.079314</td>\n",
       "      <td>0.350186</td>\n",
       "      <td>0.064471</td>\n",
       "      <td>0.057978</td>\n",
       "      <td>0.000464</td>\n",
       "      <td>0.108071</td>\n",
       "      <td>0.182282</td>\n",
       "      <td>0.093228</td>\n",
       "      <td>0.004174</td>\n",
       "    </tr>\n",
       "  </tbody>\n",
       "</table>\n",
       "</div>"
      ],
      "text/plain": [
       "                                 drei september deutscher  \\\n",
       "Grenzboten_1844_Tagebuch_56.txt                  0.069915   \n",
       "Grenzboten_1844_Tagebuch_70.txt                  0.053368   \n",
       "Grenzboten_1844_Tagebuch_77.txt                  0.047408   \n",
       "Grenzboten_1844_Tagebuch_82.txt                  0.046118   \n",
       "Grenzboten_1844_Tagebuch_88.txt                  0.059833   \n",
       "\n",
       "                                 leben deutschland kunst  vom einmal wiener  \\\n",
       "Grenzboten_1844_Tagebuch_56.txt                 0.058898           0.137712   \n",
       "Grenzboten_1844_Tagebuch_70.txt                 0.069603           0.274093   \n",
       "Grenzboten_1844_Tagebuch_77.txt                 0.089128           0.143911   \n",
       "Grenzboten_1844_Tagebuch_82.txt                 0.049323           0.099893   \n",
       "Grenzboten_1844_Tagebuch_88.txt                 0.079314           0.350186   \n",
       "\n",
       "                                 leipzig ward stadt  scheint presse werde  \\\n",
       "Grenzboten_1844_Tagebuch_56.txt            0.105508              0.041949   \n",
       "Grenzboten_1844_Tagebuch_70.txt            0.043005              0.066149   \n",
       "Grenzboten_1844_Tagebuch_77.txt            0.159503              0.032659   \n",
       "Grenzboten_1844_Tagebuch_82.txt            0.185363              0.080662   \n",
       "Grenzboten_1844_Tagebuch_88.txt            0.064471              0.057978   \n",
       "\n",
       "                                 geschütze januar abgewiesen  \\\n",
       "Grenzboten_1844_Tagebuch_56.txt                     0.012288   \n",
       "Grenzboten_1844_Tagebuch_70.txt                     0.003282   \n",
       "Grenzboten_1844_Tagebuch_77.txt                     0.000632   \n",
       "Grenzboten_1844_Tagebuch_82.txt                     0.004452   \n",
       "Grenzboten_1844_Tagebuch_88.txt                     0.000464   \n",
       "\n",
       "                                 ohne seinen wohl  ihr immer ganz  \\\n",
       "Grenzboten_1844_Tagebuch_56.txt          0.218220        0.308051   \n",
       "Grenzboten_1844_Tagebuch_70.txt          0.178411        0.260622   \n",
       "Grenzboten_1844_Tagebuch_77.txt          0.244627        0.209650   \n",
       "Grenzboten_1844_Tagebuch_82.txt          0.248397        0.224537   \n",
       "Grenzboten_1844_Tagebuch_88.txt          0.108071        0.182282   \n",
       "\n",
       "                                 ihnen ihrer worden  südlich juli märz  \n",
       "Grenzboten_1844_Tagebuch_56.txt            0.047034           0.000424  \n",
       "Grenzboten_1844_Tagebuch_70.txt            0.050604           0.000864  \n",
       "Grenzboten_1844_Tagebuch_77.txt            0.072271           0.000211  \n",
       "Grenzboten_1844_Tagebuch_82.txt            0.060007           0.001246  \n",
       "Grenzboten_1844_Tagebuch_88.txt            0.093228           0.004174  "
      ]
     },
     "execution_count": 23,
     "metadata": {},
     "output_type": "execute_result"
    }
   ],
   "source": [
    "document_topics = postprocessing.show_document_topics(topics=topics,\n",
    "                                                      doc_topics_file='tutorial_supplementals/mallet_output/doc_topics.txt')\n",
    "document_topics[:5]"
   ]
  },
  {
   "cell_type": "markdown",
   "metadata": {},
   "source": [
    "### 3.1. Distribution of topics"
   ]
  },
  {
   "cell_type": "markdown",
   "metadata": {},
   "source": [
    "#### Distribution of topics over all documents\n",
    "\n",
    "The distribution of topics over all documents can now be visualized in a heat map."
   ]
  },
  {
   "cell_type": "code",
   "execution_count": 24,
   "metadata": {},
   "outputs": [
    {
     "data": {
      "text/html": [
       "\n",
       "    <div class=\"bk-root\">\n",
       "        <a href=\"https://bokeh.pydata.org\" target=\"_blank\" class=\"bk-logo bk-logo-small bk-logo-notebook\"></a>\n",
       "        <span id=\"f2a532cc-874e-410a-a42c-bd79b4e6d179\">Loading BokehJS ...</span>\n",
       "    </div>"
      ]
     },
     "metadata": {},
     "output_type": "display_data"
    },
    {
     "data": {
      "application/javascript": [
       "\n",
       "(function(root) {\n",
       "  function now() {\n",
       "    return new Date();\n",
       "  }\n",
       "\n",
       "  var force = true;\n",
       "\n",
       "  if (typeof (root._bokeh_onload_callbacks) === \"undefined\" || force === true) {\n",
       "    root._bokeh_onload_callbacks = [];\n",
       "    root._bokeh_is_loading = undefined;\n",
       "  }\n",
       "\n",
       "  var JS_MIME_TYPE = 'application/javascript';\n",
       "  var HTML_MIME_TYPE = 'text/html';\n",
       "  var EXEC_MIME_TYPE = 'application/vnd.bokehjs_exec.v0+json';\n",
       "  var CLASS_NAME = 'output_bokeh rendered_html';\n",
       "\n",
       "  /**\n",
       "   * Render data to the DOM node\n",
       "   */\n",
       "  function render(props, node) {\n",
       "    var script = document.createElement(\"script\");\n",
       "    node.appendChild(script);\n",
       "  }\n",
       "\n",
       "  /**\n",
       "   * Handle when an output is cleared or removed\n",
       "   */\n",
       "  function handleClearOutput(event, handle) {\n",
       "    var cell = handle.cell;\n",
       "\n",
       "    var id = cell.output_area._bokeh_element_id;\n",
       "    var server_id = cell.output_area._bokeh_server_id;\n",
       "    // Clean up Bokeh references\n",
       "    if (id !== undefined) {\n",
       "      Bokeh.index[id].model.document.clear();\n",
       "      delete Bokeh.index[id];\n",
       "    }\n",
       "\n",
       "    if (server_id !== undefined) {\n",
       "      // Clean up Bokeh references\n",
       "      var cmd = \"from bokeh.io import _state; print(_state.uuid_to_server['\" + server_id + \"'].get_sessions()[0].document.roots[0]._id)\";\n",
       "      cell.notebook.kernel.execute(cmd, {\n",
       "        iopub: {\n",
       "          output: function(msg) {\n",
       "            var element_id = msg.content.text.trim();\n",
       "            Bokeh.index[element_id].model.document.clear();\n",
       "            delete Bokeh.index[element_id];\n",
       "          }\n",
       "        }\n",
       "      });\n",
       "      // Destroy server and session\n",
       "      var cmd = \"from bokeh import io; io._destroy_server('\" + server_id + \"')\";\n",
       "      cell.notebook.kernel.execute(cmd);\n",
       "    }\n",
       "  }\n",
       "\n",
       "  /**\n",
       "   * Handle when a new output is added\n",
       "   */\n",
       "  function handleAddOutput(event, handle) {\n",
       "    var output_area = handle.output_area;\n",
       "    var output = handle.output;\n",
       "\n",
       "    // limit handleAddOutput to display_data with EXEC_MIME_TYPE content only\n",
       "    if ((output.output_type != \"display_data\") || (!output.data.hasOwnProperty(EXEC_MIME_TYPE))) {\n",
       "      return\n",
       "    }\n",
       "\n",
       "    var toinsert = output_area.element.find(`.${CLASS_NAME.split(' ')[0]}`);\n",
       "\n",
       "    if (output.metadata[EXEC_MIME_TYPE][\"id\"] !== undefined) {\n",
       "      toinsert[0].firstChild.textContent = output.data[JS_MIME_TYPE];\n",
       "      // store reference to embed id on output_area\n",
       "      output_area._bokeh_element_id = output.metadata[EXEC_MIME_TYPE][\"id\"];\n",
       "    }\n",
       "    if (output.metadata[EXEC_MIME_TYPE][\"server_id\"] !== undefined) {\n",
       "      var bk_div = document.createElement(\"div\");\n",
       "      bk_div.innerHTML = output.data[HTML_MIME_TYPE];\n",
       "      var script_attrs = bk_div.children[0].attributes;\n",
       "      for (var i = 0; i < script_attrs.length; i++) {\n",
       "        toinsert[0].firstChild.setAttribute(script_attrs[i].name, script_attrs[i].value);\n",
       "      }\n",
       "      // store reference to server id on output_area\n",
       "      output_area._bokeh_server_id = output.metadata[EXEC_MIME_TYPE][\"server_id\"];\n",
       "    }\n",
       "  }\n",
       "\n",
       "  function register_renderer(events, OutputArea) {\n",
       "\n",
       "    function append_mime(data, metadata, element) {\n",
       "      // create a DOM node to render to\n",
       "      var toinsert = this.create_output_subarea(\n",
       "        metadata,\n",
       "        CLASS_NAME,\n",
       "        EXEC_MIME_TYPE\n",
       "      );\n",
       "      this.keyboard_manager.register_events(toinsert);\n",
       "      // Render to node\n",
       "      var props = {data: data, metadata: metadata[EXEC_MIME_TYPE]};\n",
       "      render(props, toinsert[0]);\n",
       "      element.append(toinsert);\n",
       "      return toinsert\n",
       "    }\n",
       "\n",
       "    /* Handle when an output is cleared or removed */\n",
       "    events.on('clear_output.CodeCell', handleClearOutput);\n",
       "    events.on('delete.Cell', handleClearOutput);\n",
       "\n",
       "    /* Handle when a new output is added */\n",
       "    events.on('output_added.OutputArea', handleAddOutput);\n",
       "\n",
       "    /**\n",
       "     * Register the mime type and append_mime function with output_area\n",
       "     */\n",
       "    OutputArea.prototype.register_mime_type(EXEC_MIME_TYPE, append_mime, {\n",
       "      /* Is output safe? */\n",
       "      safe: true,\n",
       "      /* Index of renderer in `output_area.display_order` */\n",
       "      index: 0\n",
       "    });\n",
       "  }\n",
       "\n",
       "  // register the mime type if in Jupyter Notebook environment and previously unregistered\n",
       "  if (root.Jupyter !== undefined) {\n",
       "    var events = require('base/js/events');\n",
       "    var OutputArea = require('notebook/js/outputarea').OutputArea;\n",
       "\n",
       "    if (OutputArea.prototype.mime_types().indexOf(EXEC_MIME_TYPE) == -1) {\n",
       "      register_renderer(events, OutputArea);\n",
       "    }\n",
       "  }\n",
       "\n",
       "  \n",
       "  if (typeof (root._bokeh_timeout) === \"undefined\" || force === true) {\n",
       "    root._bokeh_timeout = Date.now() + 5000;\n",
       "    root._bokeh_failed_load = false;\n",
       "  }\n",
       "\n",
       "  var NB_LOAD_WARNING = {'data': {'text/html':\n",
       "     \"<div style='background-color: #fdd'>\\n\"+\n",
       "     \"<p>\\n\"+\n",
       "     \"BokehJS does not appear to have successfully loaded. If loading BokehJS from CDN, this \\n\"+\n",
       "     \"may be due to a slow or bad network connection. Possible fixes:\\n\"+\n",
       "     \"</p>\\n\"+\n",
       "     \"<ul>\\n\"+\n",
       "     \"<li>re-rerun `output_notebook()` to attempt to load from CDN again, or</li>\\n\"+\n",
       "     \"<li>use INLINE resources instead, as so:</li>\\n\"+\n",
       "     \"</ul>\\n\"+\n",
       "     \"<code>\\n\"+\n",
       "     \"from bokeh.resources import INLINE\\n\"+\n",
       "     \"output_notebook(resources=INLINE)\\n\"+\n",
       "     \"</code>\\n\"+\n",
       "     \"</div>\"}};\n",
       "\n",
       "  function display_loaded() {\n",
       "    var el = document.getElementById(\"f2a532cc-874e-410a-a42c-bd79b4e6d179\");\n",
       "    if (el != null) {\n",
       "      el.textContent = \"BokehJS is loading...\";\n",
       "    }\n",
       "    if (root.Bokeh !== undefined) {\n",
       "      if (el != null) {\n",
       "        el.textContent = \"BokehJS \" + root.Bokeh.version + \" successfully loaded.\";\n",
       "      }\n",
       "    } else if (Date.now() < root._bokeh_timeout) {\n",
       "      setTimeout(display_loaded, 100)\n",
       "    }\n",
       "  }\n",
       "\n",
       "\n",
       "  function run_callbacks() {\n",
       "    try {\n",
       "      root._bokeh_onload_callbacks.forEach(function(callback) { callback() });\n",
       "    }\n",
       "    finally {\n",
       "      delete root._bokeh_onload_callbacks\n",
       "    }\n",
       "    console.info(\"Bokeh: all callbacks have finished\");\n",
       "  }\n",
       "\n",
       "  function load_libs(js_urls, callback) {\n",
       "    root._bokeh_onload_callbacks.push(callback);\n",
       "    if (root._bokeh_is_loading > 0) {\n",
       "      console.log(\"Bokeh: BokehJS is being loaded, scheduling callback at\", now());\n",
       "      return null;\n",
       "    }\n",
       "    if (js_urls == null || js_urls.length === 0) {\n",
       "      run_callbacks();\n",
       "      return null;\n",
       "    }\n",
       "    console.log(\"Bokeh: BokehJS not loaded, scheduling load and callback at\", now());\n",
       "    root._bokeh_is_loading = js_urls.length;\n",
       "    for (var i = 0; i < js_urls.length; i++) {\n",
       "      var url = js_urls[i];\n",
       "      var s = document.createElement('script');\n",
       "      s.src = url;\n",
       "      s.async = false;\n",
       "      s.onreadystatechange = s.onload = function() {\n",
       "        root._bokeh_is_loading--;\n",
       "        if (root._bokeh_is_loading === 0) {\n",
       "          console.log(\"Bokeh: all BokehJS libraries loaded\");\n",
       "          run_callbacks()\n",
       "        }\n",
       "      };\n",
       "      s.onerror = function() {\n",
       "        console.warn(\"failed to load library \" + url);\n",
       "      };\n",
       "      console.log(\"Bokeh: injecting script tag for BokehJS library: \", url);\n",
       "      document.getElementsByTagName(\"head\")[0].appendChild(s);\n",
       "    }\n",
       "  };var element = document.getElementById(\"f2a532cc-874e-410a-a42c-bd79b4e6d179\");\n",
       "  if (element == null) {\n",
       "    console.log(\"Bokeh: ERROR: autoload.js configured with elementid 'f2a532cc-874e-410a-a42c-bd79b4e6d179' but no matching script tag was found. \")\n",
       "    return false;\n",
       "  }\n",
       "\n",
       "  var js_urls = [\"https://cdn.pydata.org/bokeh/release/bokeh-0.12.9.min.js\", \"https://cdn.pydata.org/bokeh/release/bokeh-widgets-0.12.9.min.js\", \"https://cdn.pydata.org/bokeh/release/bokeh-tables-0.12.9.min.js\", \"https://cdn.pydata.org/bokeh/release/bokeh-gl-0.12.9.min.js\"];\n",
       "\n",
       "  var inline_js = [\n",
       "    function(Bokeh) {\n",
       "      Bokeh.set_log_level(\"info\");\n",
       "    },\n",
       "    \n",
       "    function(Bokeh) {\n",
       "      \n",
       "    },\n",
       "    function(Bokeh) {\n",
       "      console.log(\"Bokeh: injecting CSS: https://cdn.pydata.org/bokeh/release/bokeh-0.12.9.min.css\");\n",
       "      Bokeh.embed.inject_css(\"https://cdn.pydata.org/bokeh/release/bokeh-0.12.9.min.css\");\n",
       "      console.log(\"Bokeh: injecting CSS: https://cdn.pydata.org/bokeh/release/bokeh-widgets-0.12.9.min.css\");\n",
       "      Bokeh.embed.inject_css(\"https://cdn.pydata.org/bokeh/release/bokeh-widgets-0.12.9.min.css\");\n",
       "      console.log(\"Bokeh: injecting CSS: https://cdn.pydata.org/bokeh/release/bokeh-tables-0.12.9.min.css\");\n",
       "      Bokeh.embed.inject_css(\"https://cdn.pydata.org/bokeh/release/bokeh-tables-0.12.9.min.css\");\n",
       "    }\n",
       "  ];\n",
       "\n",
       "  function run_inline_js() {\n",
       "    \n",
       "    if ((root.Bokeh !== undefined) || (force === true)) {\n",
       "      for (var i = 0; i < inline_js.length; i++) {\n",
       "        inline_js[i].call(root, root.Bokeh);\n",
       "      }if (force === true) {\n",
       "        display_loaded();\n",
       "      }} else if (Date.now() < root._bokeh_timeout) {\n",
       "      setTimeout(run_inline_js, 100);\n",
       "    } else if (!root._bokeh_failed_load) {\n",
       "      console.log(\"Bokeh: BokehJS failed to load within specified timeout.\");\n",
       "      root._bokeh_failed_load = true;\n",
       "    } else if (force !== true) {\n",
       "      var cell = $(document.getElementById(\"f2a532cc-874e-410a-a42c-bd79b4e6d179\")).parents('.cell').data().cell;\n",
       "      cell.output_area.append_execute_result(NB_LOAD_WARNING)\n",
       "    }\n",
       "\n",
       "  }\n",
       "\n",
       "  if (root._bokeh_is_loading === 0) {\n",
       "    console.log(\"Bokeh: BokehJS loaded, going straight to plotting\");\n",
       "    run_inline_js();\n",
       "  } else {\n",
       "    load_libs(js_urls, function() {\n",
       "      console.log(\"Bokeh: BokehJS plotting callback run at\", now());\n",
       "      run_inline_js();\n",
       "    });\n",
       "  }\n",
       "}(window));"
      ],
      "application/vnd.bokehjs_load.v0+json": "\n(function(root) {\n  function now() {\n    return new Date();\n  }\n\n  var force = true;\n\n  if (typeof (root._bokeh_onload_callbacks) === \"undefined\" || force === true) {\n    root._bokeh_onload_callbacks = [];\n    root._bokeh_is_loading = undefined;\n  }\n\n  \n\n  \n  if (typeof (root._bokeh_timeout) === \"undefined\" || force === true) {\n    root._bokeh_timeout = Date.now() + 5000;\n    root._bokeh_failed_load = false;\n  }\n\n  var NB_LOAD_WARNING = {'data': {'text/html':\n     \"<div style='background-color: #fdd'>\\n\"+\n     \"<p>\\n\"+\n     \"BokehJS does not appear to have successfully loaded. If loading BokehJS from CDN, this \\n\"+\n     \"may be due to a slow or bad network connection. Possible fixes:\\n\"+\n     \"</p>\\n\"+\n     \"<ul>\\n\"+\n     \"<li>re-rerun `output_notebook()` to attempt to load from CDN again, or</li>\\n\"+\n     \"<li>use INLINE resources instead, as so:</li>\\n\"+\n     \"</ul>\\n\"+\n     \"<code>\\n\"+\n     \"from bokeh.resources import INLINE\\n\"+\n     \"output_notebook(resources=INLINE)\\n\"+\n     \"</code>\\n\"+\n     \"</div>\"}};\n\n  function display_loaded() {\n    var el = document.getElementById(\"f2a532cc-874e-410a-a42c-bd79b4e6d179\");\n    if (el != null) {\n      el.textContent = \"BokehJS is loading...\";\n    }\n    if (root.Bokeh !== undefined) {\n      if (el != null) {\n        el.textContent = \"BokehJS \" + root.Bokeh.version + \" successfully loaded.\";\n      }\n    } else if (Date.now() < root._bokeh_timeout) {\n      setTimeout(display_loaded, 100)\n    }\n  }\n\n\n  function run_callbacks() {\n    try {\n      root._bokeh_onload_callbacks.forEach(function(callback) { callback() });\n    }\n    finally {\n      delete root._bokeh_onload_callbacks\n    }\n    console.info(\"Bokeh: all callbacks have finished\");\n  }\n\n  function load_libs(js_urls, callback) {\n    root._bokeh_onload_callbacks.push(callback);\n    if (root._bokeh_is_loading > 0) {\n      console.log(\"Bokeh: BokehJS is being loaded, scheduling callback at\", now());\n      return null;\n    }\n    if (js_urls == null || js_urls.length === 0) {\n      run_callbacks();\n      return null;\n    }\n    console.log(\"Bokeh: BokehJS not loaded, scheduling load and callback at\", now());\n    root._bokeh_is_loading = js_urls.length;\n    for (var i = 0; i < js_urls.length; i++) {\n      var url = js_urls[i];\n      var s = document.createElement('script');\n      s.src = url;\n      s.async = false;\n      s.onreadystatechange = s.onload = function() {\n        root._bokeh_is_loading--;\n        if (root._bokeh_is_loading === 0) {\n          console.log(\"Bokeh: all BokehJS libraries loaded\");\n          run_callbacks()\n        }\n      };\n      s.onerror = function() {\n        console.warn(\"failed to load library \" + url);\n      };\n      console.log(\"Bokeh: injecting script tag for BokehJS library: \", url);\n      document.getElementsByTagName(\"head\")[0].appendChild(s);\n    }\n  };var element = document.getElementById(\"f2a532cc-874e-410a-a42c-bd79b4e6d179\");\n  if (element == null) {\n    console.log(\"Bokeh: ERROR: autoload.js configured with elementid 'f2a532cc-874e-410a-a42c-bd79b4e6d179' but no matching script tag was found. \")\n    return false;\n  }\n\n  var js_urls = [\"https://cdn.pydata.org/bokeh/release/bokeh-0.12.9.min.js\", \"https://cdn.pydata.org/bokeh/release/bokeh-widgets-0.12.9.min.js\", \"https://cdn.pydata.org/bokeh/release/bokeh-tables-0.12.9.min.js\", \"https://cdn.pydata.org/bokeh/release/bokeh-gl-0.12.9.min.js\"];\n\n  var inline_js = [\n    function(Bokeh) {\n      Bokeh.set_log_level(\"info\");\n    },\n    \n    function(Bokeh) {\n      \n    },\n    function(Bokeh) {\n      console.log(\"Bokeh: injecting CSS: https://cdn.pydata.org/bokeh/release/bokeh-0.12.9.min.css\");\n      Bokeh.embed.inject_css(\"https://cdn.pydata.org/bokeh/release/bokeh-0.12.9.min.css\");\n      console.log(\"Bokeh: injecting CSS: https://cdn.pydata.org/bokeh/release/bokeh-widgets-0.12.9.min.css\");\n      Bokeh.embed.inject_css(\"https://cdn.pydata.org/bokeh/release/bokeh-widgets-0.12.9.min.css\");\n      console.log(\"Bokeh: injecting CSS: https://cdn.pydata.org/bokeh/release/bokeh-tables-0.12.9.min.css\");\n      Bokeh.embed.inject_css(\"https://cdn.pydata.org/bokeh/release/bokeh-tables-0.12.9.min.css\");\n    }\n  ];\n\n  function run_inline_js() {\n    \n    if ((root.Bokeh !== undefined) || (force === true)) {\n      for (var i = 0; i < inline_js.length; i++) {\n        inline_js[i].call(root, root.Bokeh);\n      }if (force === true) {\n        display_loaded();\n      }} else if (Date.now() < root._bokeh_timeout) {\n      setTimeout(run_inline_js, 100);\n    } else if (!root._bokeh_failed_load) {\n      console.log(\"Bokeh: BokehJS failed to load within specified timeout.\");\n      root._bokeh_failed_load = true;\n    } else if (force !== true) {\n      var cell = $(document.getElementById(\"f2a532cc-874e-410a-a42c-bd79b4e6d179\")).parents('.cell').data().cell;\n      cell.output_area.append_execute_result(NB_LOAD_WARNING)\n    }\n\n  }\n\n  if (root._bokeh_is_loading === 0) {\n    console.log(\"Bokeh: BokehJS loaded, going straight to plotting\");\n    run_inline_js();\n  } else {\n    load_libs(js_urls, function() {\n      console.log(\"Bokeh: BokehJS plotting callback run at\", now());\n      run_inline_js();\n    });\n  }\n}(window));"
     },
     "metadata": {},
     "output_type": "display_data"
    },
    {
     "data": {
      "text/html": [
       "\n",
       "<div class=\"bk-root\">\n",
       "    <div class=\"bk-plotdiv\" id=\"65207ab9-8646-4b75-8d2c-09fd580450b8\"></div>\n",
       "</div>"
      ]
     },
     "metadata": {},
     "output_type": "display_data"
    },
    {
     "data": {
      "application/javascript": [
       "(function(root) {\n",
       "  function embed_document(root) {\n",
       "    var docs_json = {\"df8dc156-555e-46c1-8088-7304c24faa10\":{\"roots\":{\"references\":[{\"attributes\":{\"above\":[{\"id\":\"7ab92cea-0409-4bcc-9153-328b34c3bc35\",\"type\":\"CategoricalAxis\"}],\"left\":[{\"id\":\"52c8087e-02b8-4d3d-a019-5d24c5c25b14\",\"type\":\"CategoricalAxis\"}],\"plot_height\":768,\"plot_width\":1024,\"renderers\":[{\"id\":\"7ab92cea-0409-4bcc-9153-328b34c3bc35\",\"type\":\"CategoricalAxis\"},{\"id\":\"9189e3ba-8319-4b66-bfea-5fbe2ca36a7a\",\"type\":\"Grid\"},{\"id\":\"52c8087e-02b8-4d3d-a019-5d24c5c25b14\",\"type\":\"CategoricalAxis\"},{\"id\":\"a9c50c21-7a11-46bb-ac4e-1b7579d40bce\",\"type\":\"Grid\"},{\"id\":\"84222ab0-c88c-4809-833e-2011aef06eb3\",\"type\":\"BoxAnnotation\"},{\"id\":\"d9eae4f9-323c-47d5-9fd0-53d02464f0d0\",\"type\":\"GlyphRenderer\"},{\"id\":\"73ebda63-2c08-4ae0-9041-7c1ee90a8608\",\"type\":\"ColorBar\"}],\"right\":[{\"id\":\"73ebda63-2c08-4ae0-9041-7c1ee90a8608\",\"type\":\"ColorBar\"}],\"sizing_mode\":\"scale_width\",\"title\":{\"id\":\"090bb0b9-2107-4750-9b10-9b0efbe28d6f\",\"type\":\"Title\"},\"toolbar\":{\"id\":\"59e5adf5-ee03-4aad-8c34-7cb3826e9ade\",\"type\":\"Toolbar\"},\"toolbar_location\":\"below\",\"x_range\":{\"id\":\"e66d9178-ce61-4604-974c-fd23a4947bcf\",\"type\":\"FactorRange\"},\"x_scale\":{\"id\":\"5b44d713-d977-48c8-966b-8bcf58a267d2\",\"type\":\"CategoricalScale\"},\"y_range\":{\"id\":\"bff70443-6571-4170-a4b9-b5287eea9a35\",\"type\":\"FactorRange\"},\"y_scale\":{\"id\":\"af3ca43d-dea6-4fb3-8331-da34f1d52dc8\",\"type\":\"CategoricalScale\"}},\"id\":\"ef295e12-6db1-4c8e-aee0-e659dd27cb0e\",\"subtype\":\"Figure\",\"type\":\"Plot\"},{\"attributes\":{},\"id\":\"df321bfe-2b5d-4af9-884b-0ebfa5e199a8\",\"type\":\"WheelZoomTool\"},{\"attributes\":{},\"id\":\"866fe345-2000-4311-bab1-a1c57a754740\",\"type\":\"CategoricalTickFormatter\"},{\"attributes\":{\"grid_line_color\":{\"value\":null},\"plot\":{\"id\":\"ef295e12-6db1-4c8e-aee0-e659dd27cb0e\",\"subtype\":\"Figure\",\"type\":\"Plot\"},\"ticker\":{\"id\":\"a358f729-37ee-43ca-ae3a-3934f323c5cb\",\"type\":\"CategoricalTicker\"}},\"id\":\"9189e3ba-8319-4b66-bfea-5fbe2ca36a7a\",\"type\":\"Grid\"},{\"attributes\":{},\"id\":\"c9752105-45e6-4d14-94d5-b4f3eda181e3\",\"type\":\"BasicTickFormatter\"},{\"attributes\":{},\"id\":\"af3ca43d-dea6-4fb3-8331-da34f1d52dc8\",\"type\":\"CategoricalScale\"},{\"attributes\":{},\"id\":\"fdf8a36e-ee04-426e-a792-fbec0889b9c1\",\"type\":\"CategoricalTickFormatter\"},{\"attributes\":{\"bottom_units\":\"screen\",\"fill_alpha\":{\"value\":0.5},\"fill_color\":{\"value\":\"lightgrey\"},\"left_units\":\"screen\",\"level\":\"overlay\",\"line_alpha\":{\"value\":1.0},\"line_color\":{\"value\":\"black\"},\"line_dash\":[4,4],\"line_width\":{\"value\":2},\"plot\":null,\"render_mode\":\"css\",\"right_units\":\"screen\",\"top_units\":\"screen\"},\"id\":\"84222ab0-c88c-4809-833e-2011aef06eb3\",\"type\":\"BoxAnnotation\"},{\"attributes\":{\"fill_alpha\":{\"value\":0.1},\"fill_color\":{\"value\":\"#1f77b4\"},\"height\":{\"units\":\"data\",\"value\":1},\"line_alpha\":{\"value\":0.1},\"line_color\":{\"value\":\"#1f77b4\"},\"width\":{\"units\":\"data\",\"value\":1},\"x\":{\"field\":\"Document\"},\"y\":{\"field\":\"Topic\"}},\"id\":\"4b4f6f80-a8e0-4b63-a08d-583b50a14341\",\"type\":\"Rect\"},{\"attributes\":{\"axis_line_color\":{\"value\":null},\"formatter\":{\"id\":\"fdf8a36e-ee04-426e-a792-fbec0889b9c1\",\"type\":\"CategoricalTickFormatter\"},\"major_label_orientation\":1.0471975511965976,\"major_label_standoff\":0,\"major_label_text_font_size\":{\"value\":\"9pt\"},\"major_tick_line_color\":{\"value\":null},\"plot\":{\"id\":\"ef295e12-6db1-4c8e-aee0-e659dd27cb0e\",\"subtype\":\"Figure\",\"type\":\"Plot\"},\"ticker\":{\"id\":\"a358f729-37ee-43ca-ae3a-3934f323c5cb\",\"type\":\"CategoricalTicker\"}},\"id\":\"7ab92cea-0409-4bcc-9153-328b34c3bc35\",\"type\":\"CategoricalAxis\"},{\"attributes\":{\"desired_num_ticks\":7},\"id\":\"0b5f6a86-ead9-44f4-a257-73a993d03966\",\"type\":\"BasicTicker\"},{\"attributes\":{\"callback\":null,\"factors\":[\"drei september deutscher\",\"leben deutschland kunst\",\"vom einmal wiener\",\"leipzig ward stadt\",\"scheint presse werde\",\"gesch\\u00fctze januar abgewiesen\",\"ohne seinen wohl\",\"ihr immer ganz\",\"ihnen ihrer worden\",\"s\\u00fcdlich juli m\\u00e4rz\"]},\"id\":\"e66d9178-ce61-4604-974c-fd23a4947bcf\",\"type\":\"FactorRange\"},{\"attributes\":{},\"id\":\"a358f729-37ee-43ca-ae3a-3934f323c5cb\",\"type\":\"CategoricalTicker\"},{\"attributes\":{\"source\":{\"id\":\"03fd4c3d-0fbb-4d7d-845f-aaf9e0601b5a\",\"type\":\"ColumnDataSource\"}},\"id\":\"f8254cf7-62a2-40f7-98f2-d5fd178dec9c\",\"type\":\"CDSView\"},{\"attributes\":{\"axis_line_color\":{\"value\":null},\"formatter\":{\"id\":\"866fe345-2000-4311-bab1-a1c57a754740\",\"type\":\"CategoricalTickFormatter\"},\"major_label_standoff\":0,\"major_label_text_font_size\":{\"value\":\"9pt\"},\"major_tick_line_color\":{\"value\":null},\"plot\":{\"id\":\"ef295e12-6db1-4c8e-aee0-e659dd27cb0e\",\"subtype\":\"Figure\",\"type\":\"Plot\"},\"ticker\":{\"id\":\"7f6ce487-cf39-4ef0-8ca5-1d235fb36e60\",\"type\":\"CategoricalTicker\"}},\"id\":\"52c8087e-02b8-4d3d-a019-5d24c5c25b14\",\"type\":\"CategoricalAxis\"},{\"attributes\":{\"fill_color\":{\"field\":\"Score\",\"transform\":{\"id\":\"7e42b8d2-2ef5-40a1-a32e-bcdf5da0dec4\",\"type\":\"LinearColorMapper\"}},\"height\":{\"units\":\"data\",\"value\":1},\"line_color\":{\"value\":null},\"width\":{\"units\":\"data\",\"value\":1},\"x\":{\"field\":\"Document\"},\"y\":{\"field\":\"Topic\"}},\"id\":\"520fabf0-8bf5-4270-a2aa-1850df74b9c5\",\"type\":\"Rect\"},{\"attributes\":{\"callback\":null,\"factors\":[\"Grenzboten_1916_Kriegstagebuch_81.txt\",\"Grenzboten_1916_Kriegstagebuch_69.txt\",\"Grenzboten_1916_Kriegstagebuch_49.txt\",\"Grenzboten_1916_Kriegstagebuch_48.txt\",\"Grenzboten_1916_Kriegstagebuch_41.txt\",\"Grenzboten_1915_Kriegstagebuch_99.txt\",\"Grenzboten_1915_Kriegstagebuch_94.txt\",\"Grenzboten_1915_Kriegstagebuch_73.txt\",\"Grenzboten_1915_Kriegstagebuch_39.txt\",\"Grenzboten_1915_Kriegstagebuch_33.txt\",\"Grenzboten_1914_Kriegstagebuch_97.txt\",\"Grenzboten_1914_Kriegstagebuch_95.txt\",\"Grenzboten_1914_Kriegstagebuch_94.txt\",\"Grenzboten_1914_Kriegstagebuch_68.txt\",\"Grenzboten_1914_Kriegstagebuch_37.txt\",\"Grenzboten_1846_Tagebuch_96.txt\",\"Grenzboten_1846_Tagebuch_88.txt\",\"Grenzboten_1846_Tagebuch_82.txt\",\"Grenzboten_1846_Tagebuch_72.txt\",\"Grenzboten_1846_Tagebuch_51.txt\",\"Grenzboten_1845_Tagebuch_93.txt\",\"Grenzboten_1845_Tagebuch_85.txt\",\"Grenzboten_1845_Tagebuch_81.txt\",\"Grenzboten_1845_Tagebuch_62.txt\",\"Grenzboten_1845_Tagebuch_52.txt\",\"Grenzboten_1844_Tagebuch_88.txt\",\"Grenzboten_1844_Tagebuch_82.txt\",\"Grenzboten_1844_Tagebuch_77.txt\",\"Grenzboten_1844_Tagebuch_70.txt\",\"Grenzboten_1844_Tagebuch_56.txt\"]},\"id\":\"bff70443-6571-4170-a4b9-b5287eea9a35\",\"type\":\"FactorRange\"},{\"attributes\":{},\"id\":\"7f6ce487-cf39-4ef0-8ca5-1d235fb36e60\",\"type\":\"CategoricalTicker\"},{\"attributes\":{\"color_mapper\":{\"id\":\"7e42b8d2-2ef5-40a1-a32e-bcdf5da0dec4\",\"type\":\"LinearColorMapper\"},\"formatter\":{\"id\":\"c9752105-45e6-4d14-94d5-b4f3eda181e3\",\"type\":\"BasicTickFormatter\"},\"label_standoff\":6,\"location\":[0,0],\"major_label_text_font_size\":{\"value\":\"10pt\"},\"plot\":{\"id\":\"ef295e12-6db1-4c8e-aee0-e659dd27cb0e\",\"subtype\":\"Figure\",\"type\":\"Plot\"},\"ticker\":{\"id\":\"0b5f6a86-ead9-44f4-a257-73a993d03966\",\"type\":\"BasicTicker\"}},\"id\":\"73ebda63-2c08-4ae0-9041-7c1ee90a8608\",\"type\":\"ColorBar\"},{\"attributes\":{\"dimension\":1,\"grid_line_color\":{\"value\":null},\"plot\":{\"id\":\"ef295e12-6db1-4c8e-aee0-e659dd27cb0e\",\"subtype\":\"Figure\",\"type\":\"Plot\"},\"ticker\":{\"id\":\"7f6ce487-cf39-4ef0-8ca5-1d235fb36e60\",\"type\":\"CategoricalTicker\"}},\"id\":\"a9c50c21-7a11-46bb-ac4e-1b7579d40bce\",\"type\":\"Grid\"},{\"attributes\":{\"high\":0.7464088397790055,\"low\":7.227522405319457e-05,\"palette\":[\"#c6dbef\",\"#9ecae1\",\"#6baed6\",\"#4292c6\",\"#2171b5\",\"#08519c\",\"#08306b\"]},\"id\":\"7e42b8d2-2ef5-40a1-a32e-bcdf5da0dec4\",\"type\":\"LinearColorMapper\"},{\"attributes\":{\"plot\":null,\"text\":\"Grenzboten\"},\"id\":\"090bb0b9-2107-4750-9b10-9b0efbe28d6f\",\"type\":\"Title\"},{\"attributes\":{\"callback\":null,\"column_names\":[\"Document\",\"Score\",\"Topic\",\"index\"],\"data\":{\"Document\":[\"drei september deutscher\",\"drei september deutscher\",\"drei september deutscher\",\"drei september deutscher\",\"drei september deutscher\",\"drei september deutscher\",\"drei september deutscher\",\"drei september deutscher\",\"drei september deutscher\",\"drei september deutscher\",\"drei september deutscher\",\"drei september deutscher\",\"drei september deutscher\",\"drei september deutscher\",\"drei september deutscher\",\"drei september deutscher\",\"drei september deutscher\",\"drei september deutscher\",\"drei september deutscher\",\"drei september deutscher\",\"drei september deutscher\",\"drei september deutscher\",\"drei september deutscher\",\"drei september deutscher\",\"drei september deutscher\",\"drei september deutscher\",\"drei september deutscher\",\"drei september deutscher\",\"drei september deutscher\",\"drei september deutscher\",\"leben deutschland kunst\",\"leben deutschland kunst\",\"leben deutschland kunst\",\"leben deutschland kunst\",\"leben deutschland kunst\",\"leben deutschland kunst\",\"leben deutschland kunst\",\"leben deutschland kunst\",\"leben deutschland kunst\",\"leben deutschland kunst\",\"leben deutschland kunst\",\"leben deutschland kunst\",\"leben deutschland kunst\",\"leben deutschland kunst\",\"leben deutschland kunst\",\"leben deutschland kunst\",\"leben deutschland kunst\",\"leben deutschland kunst\",\"leben deutschland kunst\",\"leben deutschland kunst\",\"leben deutschland kunst\",\"leben deutschland kunst\",\"leben deutschland kunst\",\"leben deutschland kunst\",\"leben deutschland kunst\",\"leben deutschland kunst\",\"leben deutschland kunst\",\"leben deutschland kunst\",\"leben deutschland kunst\",\"leben deutschland kunst\",\"vom einmal wiener\",\"vom einmal wiener\",\"vom einmal wiener\",\"vom einmal wiener\",\"vom einmal wiener\",\"vom einmal wiener\",\"vom einmal wiener\",\"vom einmal wiener\",\"vom einmal wiener\",\"vom einmal wiener\",\"vom einmal wiener\",\"vom einmal wiener\",\"vom einmal wiener\",\"vom einmal wiener\",\"vom einmal wiener\",\"vom einmal wiener\",\"vom einmal wiener\",\"vom einmal wiener\",\"vom einmal wiener\",\"vom einmal wiener\",\"vom einmal wiener\",\"vom einmal wiener\",\"vom einmal wiener\",\"vom einmal wiener\",\"vom einmal wiener\",\"vom einmal wiener\",\"vom einmal wiener\",\"vom einmal wiener\",\"vom einmal wiener\",\"vom einmal wiener\",\"leipzig ward stadt\",\"leipzig ward stadt\",\"leipzig ward stadt\",\"leipzig ward stadt\",\"leipzig ward stadt\",\"leipzig ward stadt\",\"leipzig ward stadt\",\"leipzig ward stadt\",\"leipzig ward stadt\",\"leipzig ward stadt\",\"leipzig ward stadt\",\"leipzig ward stadt\",\"leipzig ward stadt\",\"leipzig ward stadt\",\"leipzig ward stadt\",\"leipzig ward stadt\",\"leipzig ward stadt\",\"leipzig ward stadt\",\"leipzig ward stadt\",\"leipzig ward stadt\",\"leipzig ward stadt\",\"leipzig ward stadt\",\"leipzig ward stadt\",\"leipzig ward stadt\",\"leipzig ward stadt\",\"leipzig ward stadt\",\"leipzig ward stadt\",\"leipzig ward stadt\",\"leipzig ward stadt\",\"leipzig ward stadt\",\"scheint presse werde\",\"scheint presse werde\",\"scheint presse werde\",\"scheint presse werde\",\"scheint presse werde\",\"scheint presse werde\",\"scheint presse werde\",\"scheint presse werde\",\"scheint presse werde\",\"scheint presse werde\",\"scheint presse werde\",\"scheint presse werde\",\"scheint presse werde\",\"scheint presse werde\",\"scheint presse werde\",\"scheint presse werde\",\"scheint presse werde\",\"scheint presse werde\",\"scheint presse werde\",\"scheint presse werde\",\"scheint presse werde\",\"scheint presse werde\",\"scheint presse werde\",\"scheint presse werde\",\"scheint presse werde\",\"scheint presse werde\",\"scheint presse werde\",\"scheint presse werde\",\"scheint presse werde\",\"scheint presse werde\",\"gesch\\u00fctze januar abgewiesen\",\"gesch\\u00fctze januar abgewiesen\",\"gesch\\u00fctze januar abgewiesen\",\"gesch\\u00fctze januar abgewiesen\",\"gesch\\u00fctze januar abgewiesen\",\"gesch\\u00fctze januar abgewiesen\",\"gesch\\u00fctze januar abgewiesen\",\"gesch\\u00fctze januar abgewiesen\",\"gesch\\u00fctze januar abgewiesen\",\"gesch\\u00fctze januar abgewiesen\",\"gesch\\u00fctze januar abgewiesen\",\"gesch\\u00fctze januar abgewiesen\",\"gesch\\u00fctze januar abgewiesen\",\"gesch\\u00fctze januar abgewiesen\",\"gesch\\u00fctze januar abgewiesen\",\"gesch\\u00fctze januar abgewiesen\",\"gesch\\u00fctze januar abgewiesen\",\"gesch\\u00fctze januar abgewiesen\",\"gesch\\u00fctze januar abgewiesen\",\"gesch\\u00fctze januar abgewiesen\",\"gesch\\u00fctze januar abgewiesen\",\"gesch\\u00fctze januar abgewiesen\",\"gesch\\u00fctze januar abgewiesen\",\"gesch\\u00fctze januar abgewiesen\",\"gesch\\u00fctze januar abgewiesen\",\"gesch\\u00fctze januar abgewiesen\",\"gesch\\u00fctze januar abgewiesen\",\"gesch\\u00fctze januar abgewiesen\",\"gesch\\u00fctze januar abgewiesen\",\"gesch\\u00fctze januar abgewiesen\",\"ohne seinen wohl\",\"ohne seinen wohl\",\"ohne seinen wohl\",\"ohne seinen wohl\",\"ohne seinen wohl\",\"ohne seinen wohl\",\"ohne seinen wohl\",\"ohne seinen wohl\",\"ohne seinen wohl\",\"ohne seinen wohl\",\"ohne seinen wohl\",\"ohne seinen wohl\",\"ohne seinen wohl\",\"ohne seinen wohl\",\"ohne seinen wohl\",\"ohne seinen wohl\",\"ohne seinen wohl\",\"ohne seinen wohl\",\"ohne seinen wohl\",\"ohne seinen wohl\",\"ohne seinen wohl\",\"ohne seinen wohl\",\"ohne seinen wohl\",\"ohne seinen wohl\",\"ohne seinen wohl\",\"ohne seinen wohl\",\"ohne seinen wohl\",\"ohne seinen wohl\",\"ohne seinen wohl\",\"ohne seinen wohl\",\"ihr immer ganz\",\"ihr immer ganz\",\"ihr immer ganz\",\"ihr immer ganz\",\"ihr immer ganz\",\"ihr immer ganz\",\"ihr immer ganz\",\"ihr immer ganz\",\"ihr immer ganz\",\"ihr immer ganz\",\"ihr immer ganz\",\"ihr immer ganz\",\"ihr immer ganz\",\"ihr immer ganz\",\"ihr immer ganz\",\"ihr immer ganz\",\"ihr immer ganz\",\"ihr immer ganz\",\"ihr immer ganz\",\"ihr immer ganz\",\"ihr immer ganz\",\"ihr immer ganz\",\"ihr immer ganz\",\"ihr immer ganz\",\"ihr immer ganz\",\"ihr immer ganz\",\"ihr immer ganz\",\"ihr immer ganz\",\"ihr immer ganz\",\"ihr immer ganz\",\"ihnen ihrer worden\",\"ihnen ihrer worden\",\"ihnen ihrer worden\",\"ihnen ihrer worden\",\"ihnen ihrer worden\",\"ihnen ihrer worden\",\"ihnen ihrer worden\",\"ihnen ihrer worden\",\"ihnen ihrer worden\",\"ihnen ihrer worden\",\"ihnen ihrer worden\",\"ihnen ihrer worden\",\"ihnen ihrer worden\",\"ihnen ihrer worden\",\"ihnen ihrer worden\",\"ihnen ihrer worden\",\"ihnen ihrer worden\",\"ihnen ihrer worden\",\"ihnen ihrer worden\",\"ihnen ihrer worden\",\"ihnen ihrer worden\",\"ihnen ihrer worden\",\"ihnen ihrer worden\",\"ihnen ihrer worden\",\"ihnen ihrer worden\",\"ihnen ihrer worden\",\"ihnen ihrer worden\",\"ihnen ihrer worden\",\"ihnen ihrer worden\",\"ihnen ihrer worden\",\"s\\u00fcdlich juli m\\u00e4rz\",\"s\\u00fcdlich juli m\\u00e4rz\",\"s\\u00fcdlich juli m\\u00e4rz\",\"s\\u00fcdlich juli m\\u00e4rz\",\"s\\u00fcdlich juli m\\u00e4rz\",\"s\\u00fcdlich juli m\\u00e4rz\",\"s\\u00fcdlich juli m\\u00e4rz\",\"s\\u00fcdlich juli m\\u00e4rz\",\"s\\u00fcdlich juli m\\u00e4rz\",\"s\\u00fcdlich juli m\\u00e4rz\",\"s\\u00fcdlich juli m\\u00e4rz\",\"s\\u00fcdlich juli m\\u00e4rz\",\"s\\u00fcdlich juli m\\u00e4rz\",\"s\\u00fcdlich juli m\\u00e4rz\",\"s\\u00fcdlich juli m\\u00e4rz\",\"s\\u00fcdlich juli m\\u00e4rz\",\"s\\u00fcdlich juli m\\u00e4rz\",\"s\\u00fcdlich juli m\\u00e4rz\",\"s\\u00fcdlich juli m\\u00e4rz\",\"s\\u00fcdlich juli m\\u00e4rz\",\"s\\u00fcdlich juli m\\u00e4rz\",\"s\\u00fcdlich juli m\\u00e4rz\",\"s\\u00fcdlich juli m\\u00e4rz\",\"s\\u00fcdlich juli m\\u00e4rz\",\"s\\u00fcdlich juli m\\u00e4rz\",\"s\\u00fcdlich juli m\\u00e4rz\",\"s\\u00fcdlich juli m\\u00e4rz\",\"s\\u00fcdlich juli m\\u00e4rz\",\"s\\u00fcdlich juli m\\u00e4rz\",\"s\\u00fcdlich juli m\\u00e4rz\"],\"Score\":{\"__ndarray__\":\"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\",\"dtype\":\"float64\",\"shape\":[300]},\"Topic\":[\"Grenzboten_1844_Tagebuch_56.txt\",\"Grenzboten_1844_Tagebuch_70.txt\",\"Grenzboten_1844_Tagebuch_77.txt\",\"Grenzboten_1844_Tagebuch_82.txt\",\"Grenzboten_1844_Tagebuch_88.txt\",\"Grenzboten_1845_Tagebuch_52.txt\",\"Grenzboten_1845_Tagebuch_62.txt\",\"Grenzboten_1845_Tagebuch_81.txt\",\"Grenzboten_1845_Tagebuch_85.txt\",\"Grenzboten_1845_Tagebuch_93.txt\",\"Grenzboten_1846_Tagebuch_51.txt\",\"Grenzboten_1846_Tagebuch_72.txt\",\"Grenzboten_1846_Tagebuch_82.txt\",\"Grenzboten_1846_Tagebuch_88.txt\",\"Grenzboten_1846_Tagebuch_96.txt\",\"Grenzboten_1914_Kriegstagebuch_37.txt\",\"Grenzboten_1914_Kriegstagebuch_68.txt\",\"Grenzboten_1914_Kriegstagebuch_94.txt\",\"Grenzboten_1914_Kriegstagebuch_95.txt\",\"Grenzboten_1914_Kriegstagebuch_97.txt\",\"Grenzboten_1915_Kriegstagebuch_33.txt\",\"Grenzboten_1915_Kriegstagebuch_39.txt\",\"Grenzboten_1915_Kriegstagebuch_73.txt\",\"Grenzboten_1915_Kriegstagebuch_94.txt\",\"Grenzboten_1915_Kriegstagebuch_99.txt\",\"Grenzboten_1916_Kriegstagebuch_41.txt\",\"Grenzboten_1916_Kriegstagebuch_48.txt\",\"Grenzboten_1916_Kriegstagebuch_49.txt\",\"Grenzboten_1916_Kriegstagebuch_69.txt\",\"Grenzboten_1916_Kriegstagebuch_81.txt\",\"Grenzboten_1844_Tagebuch_56.txt\",\"Grenzboten_1844_Tagebuch_70.txt\",\"Grenzboten_1844_Tagebuch_77.txt\",\"Grenzboten_1844_Tagebuch_82.txt\",\"Grenzboten_1844_Tagebuch_88.txt\",\"Grenzboten_1845_Tagebuch_52.txt\",\"Grenzboten_1845_Tagebuch_62.txt\",\"Grenzboten_1845_Tagebuch_81.txt\",\"Grenzboten_1845_Tagebuch_85.txt\",\"Grenzboten_1845_Tagebuch_93.txt\",\"Grenzboten_1846_Tagebuch_51.txt\",\"Grenzboten_1846_Tagebuch_72.txt\",\"Grenzboten_1846_Tagebuch_82.txt\",\"Grenzboten_1846_Tagebuch_88.txt\",\"Grenzboten_1846_Tagebuch_96.txt\",\"Grenzboten_1914_Kriegstagebuch_37.txt\",\"Grenzboten_1914_Kriegstagebuch_68.txt\",\"Grenzboten_1914_Kriegstagebuch_94.txt\",\"Grenzboten_1914_Kriegstagebuch_95.txt\",\"Grenzboten_1914_Kriegstagebuch_97.txt\",\"Grenzboten_1915_Kriegstagebuch_33.txt\",\"Grenzboten_1915_Kriegstagebuch_39.txt\",\"Grenzboten_1915_Kriegstagebuch_73.txt\",\"Grenzboten_1915_Kriegstagebuch_94.txt\",\"Grenzboten_1915_Kriegstagebuch_99.txt\",\"Grenzboten_1916_Kriegstagebuch_41.txt\",\"Grenzboten_1916_Kriegstagebuch_48.txt\",\"Grenzboten_1916_Kriegstagebuch_49.txt\",\"Grenzboten_1916_Kriegstagebuch_69.txt\",\"Grenzboten_1916_Kriegstagebuch_81.txt\",\"Grenzboten_1844_Tagebuch_56.txt\",\"Grenzboten_1844_Tagebuch_70.txt\",\"Grenzboten_1844_Tagebuch_77.txt\",\"Grenzboten_1844_Tagebuch_82.txt\",\"Grenzboten_1844_Tagebuch_88.txt\",\"Grenzboten_1845_Tagebuch_52.txt\",\"Grenzboten_1845_Tagebuch_62.txt\",\"Grenzboten_1845_Tagebuch_81.txt\",\"Grenzboten_1845_Tagebuch_85.txt\",\"Grenzboten_1845_Tagebuch_93.txt\",\"Grenzboten_1846_Tagebuch_51.txt\",\"Grenzboten_1846_Tagebuch_72.txt\",\"Grenzboten_1846_Tagebuch_82.txt\",\"Grenzboten_1846_Tagebuch_88.txt\",\"Grenzboten_1846_Tagebuch_96.txt\",\"Grenzboten_1914_Kriegstagebuch_37.txt\",\"Grenzboten_1914_Kriegstagebuch_68.txt\",\"Grenzboten_1914_Kriegstagebuch_94.txt\",\"Grenzboten_1914_Kriegstagebuch_95.txt\",\"Grenzboten_1914_Kriegstagebuch_97.txt\",\"Grenzboten_1915_Kriegstagebuch_33.txt\",\"Grenzboten_1915_Kriegstagebuch_39.txt\",\"Grenzboten_1915_Kriegstagebuch_73.txt\",\"Grenzboten_1915_Kriegstagebuch_94.txt\",\"Grenzboten_1915_Kriegstagebuch_99.txt\",\"Grenzboten_1916_Kriegstagebuch_41.txt\",\"Grenzboten_1916_Kriegstagebuch_48.txt\",\"Grenzboten_1916_Kriegstagebuch_49.txt\",\"Grenzboten_1916_Kriegstagebuch_69.txt\",\"Grenzboten_1916_Kriegstagebuch_81.txt\",\"Grenzboten_1844_Tagebuch_56.txt\",\"Grenzboten_1844_Tagebuch_70.txt\",\"Grenzboten_1844_Tagebuch_77.txt\",\"Grenzboten_1844_Tagebuch_82.txt\",\"Grenzboten_1844_Tagebuch_88.txt\",\"Grenzboten_1845_Tagebuch_52.txt\",\"Grenzboten_1845_Tagebuch_62.txt\",\"Grenzboten_1845_Tagebuch_81.txt\",\"Grenzboten_1845_Tagebuch_85.txt\",\"Grenzboten_1845_Tagebuch_93.txt\",\"Grenzboten_1846_Tagebuch_51.txt\",\"Grenzboten_1846_Tagebuch_72.txt\",\"Grenzboten_1846_Tagebuch_82.txt\",\"Grenzboten_1846_Tagebuch_88.txt\",\"Grenzboten_1846_Tagebuch_96.txt\",\"Grenzboten_1914_Kriegstagebuch_37.txt\",\"Grenzboten_1914_Kriegstagebuch_68.txt\",\"Grenzboten_1914_Kriegstagebuch_94.txt\",\"Grenzboten_1914_Kriegstagebuch_95.txt\",\"Grenzboten_1914_Kriegstagebuch_97.txt\",\"Grenzboten_1915_Kriegstagebuch_33.txt\",\"Grenzboten_1915_Kriegstagebuch_39.txt\",\"Grenzboten_1915_Kriegstagebuch_73.txt\",\"Grenzboten_1915_Kriegstagebuch_94.txt\",\"Grenzboten_1915_Kriegstagebuch_99.txt\",\"Grenzboten_1916_Kriegstagebuch_41.txt\",\"Grenzboten_1916_Kriegstagebuch_48.txt\",\"Grenzboten_1916_Kriegstagebuch_49.txt\",\"Grenzboten_1916_Kriegstagebuch_69.txt\",\"Grenzboten_1916_Kriegstagebuch_81.txt\",\"Grenzboten_1844_Tagebuch_56.txt\",\"Grenzboten_1844_Tagebuch_70.txt\",\"Grenzboten_1844_Tagebuch_77.txt\",\"Grenzboten_1844_Tagebuch_82.txt\",\"Grenzboten_1844_Tagebuch_88.txt\",\"Grenzboten_1845_Tagebuch_52.txt\",\"Grenzboten_1845_Tagebuch_62.txt\",\"Grenzboten_1845_Tagebuch_81.txt\",\"Grenzboten_1845_Tagebuch_85.txt\",\"Grenzboten_1845_Tagebuch_93.txt\",\"Grenzboten_1846_Tagebuch_51.txt\",\"Grenzboten_1846_Tagebuch_72.txt\",\"Grenzboten_1846_Tagebuch_82.txt\",\"Grenzboten_1846_Tagebuch_88.txt\",\"Grenzboten_1846_Tagebuch_96.txt\",\"Grenzboten_1914_Kriegstagebuch_37.txt\",\"Grenzboten_1914_Kriegstagebuch_68.txt\",\"Grenzboten_1914_Kriegstagebuch_94.txt\",\"Grenzboten_1914_Kriegstagebuch_95.txt\",\"Grenzboten_1914_Kriegstagebuch_97.txt\",\"Grenzboten_1915_Kriegstagebuch_33.txt\",\"Grenzboten_1915_Kriegstagebuch_39.txt\",\"Grenzboten_1915_Kriegstagebuch_73.txt\",\"Grenzboten_1915_Kriegstagebuch_94.txt\",\"Grenzboten_1915_Kriegstagebuch_99.txt\",\"Grenzboten_1916_Kriegstagebuch_41.txt\",\"Grenzboten_1916_Kriegstagebuch_48.txt\",\"Grenzboten_1916_Kriegstagebuch_49.txt\",\"Grenzboten_1916_Kriegstagebuch_69.txt\",\"Grenzboten_1916_Kriegstagebuch_81.txt\",\"Grenzboten_1844_Tagebuch_56.txt\",\"Grenzboten_1844_Tagebuch_70.txt\",\"Grenzboten_1844_Tagebuch_77.txt\",\"Grenzboten_1844_Tagebuch_82.txt\",\"Grenzboten_1844_Tagebuch_88.txt\",\"Grenzboten_1845_Tagebuch_52.txt\",\"Grenzboten_1845_Tagebuch_62.txt\",\"Grenzboten_1845_Tagebuch_81.txt\",\"Grenzboten_1845_Tagebuch_85.txt\",\"Grenzboten_1845_Tagebuch_93.txt\",\"Grenzboten_1846_Tagebuch_51.txt\",\"Grenzboten_1846_Tagebuch_72.txt\",\"Grenzboten_1846_Tagebuch_82.txt\",\"Grenzboten_1846_Tagebuch_88.txt\",\"Grenzboten_1846_Tagebuch_96.txt\",\"Grenzboten_1914_Kriegstagebuch_37.txt\",\"Grenzboten_1914_Kriegstagebuch_68.txt\",\"Grenzboten_1914_Kriegstagebuch_94.txt\",\"Grenzboten_1914_Kriegstagebuch_95.txt\",\"Grenzboten_1914_Kriegstagebuch_97.txt\",\"Grenzboten_1915_Kriegstagebuch_33.txt\",\"Grenzboten_1915_Kriegstagebuch_39.txt\",\"Grenzboten_1915_Kriegstagebuch_73.txt\",\"Grenzboten_1915_Kriegstagebuch_94.txt\",\"Grenzboten_1915_Kriegstagebuch_99.txt\",\"Grenzboten_1916_Kriegstagebuch_41.txt\",\"Grenzboten_1916_Kriegstagebuch_48.txt\",\"Grenzboten_1916_Kriegstagebuch_49.txt\",\"Grenzboten_1916_Kriegstagebuch_69.txt\",\"Grenzboten_1916_Kriegstagebuch_81.txt\",\"Grenzboten_1844_Tagebuch_56.txt\",\"Grenzboten_1844_Tagebuch_70.txt\",\"Grenzboten_1844_Tagebuch_77.txt\",\"Grenzboten_1844_Tagebuch_82.txt\",\"Grenzboten_1844_Tagebuch_88.txt\",\"Grenzboten_1845_Tagebuch_52.txt\",\"Grenzboten_1845_Tagebuch_62.txt\",\"Grenzboten_1845_Tagebuch_81.txt\",\"Grenzboten_1845_Tagebuch_85.txt\",\"Grenzboten_1845_Tagebuch_93.txt\",\"Grenzboten_1846_Tagebuch_51.txt\",\"Grenzboten_1846_Tagebuch_72.txt\",\"Grenzboten_1846_Tagebuch_82.txt\",\"Grenzboten_1846_Tagebuch_88.txt\",\"Grenzboten_1846_Tagebuch_96.txt\",\"Grenzboten_1914_Kriegstagebuch_37.txt\",\"Grenzboten_1914_Kriegstagebuch_68.txt\",\"Grenzboten_1914_Kriegstagebuch_94.txt\",\"Grenzboten_1914_Kriegstagebuch_95.txt\",\"Grenzboten_1914_Kriegstagebuch_97.txt\",\"Grenzboten_1915_Kriegstagebuch_33.txt\",\"Grenzboten_1915_Kriegstagebuch_39.txt\",\"Grenzboten_1915_Kriegstagebuch_73.txt\",\"Grenzboten_1915_Kriegstagebuch_94.txt\",\"Grenzboten_1915_Kriegstagebuch_99.txt\",\"Grenzboten_1916_Kriegstagebuch_41.txt\",\"Grenzboten_1916_Kriegstagebuch_48.txt\",\"Grenzboten_1916_Kriegstagebuch_49.txt\",\"Grenzboten_1916_Kriegstagebuch_69.txt\",\"Grenzboten_1916_Kriegstagebuch_81.txt\",\"Grenzboten_1844_Tagebuch_56.txt\",\"Grenzboten_1844_Tagebuch_70.txt\",\"Grenzboten_1844_Tagebuch_77.txt\",\"Grenzboten_1844_Tagebuch_82.txt\",\"Grenzboten_1844_Tagebuch_88.txt\",\"Grenzboten_1845_Tagebuch_52.txt\",\"Grenzboten_1845_Tagebuch_62.txt\",\"Grenzboten_1845_Tagebuch_81.txt\",\"Grenzboten_1845_Tagebuch_85.txt\",\"Grenzboten_1845_Tagebuch_93.txt\",\"Grenzboten_1846_Tagebuch_51.txt\",\"Grenzboten_1846_Tagebuch_72.txt\",\"Grenzboten_1846_Tagebuch_82.txt\",\"Grenzboten_1846_Tagebuch_88.txt\",\"Grenzboten_1846_Tagebuch_96.txt\",\"Grenzboten_1914_Kriegstagebuch_37.txt\",\"Grenzboten_1914_Kriegstagebuch_68.txt\",\"Grenzboten_1914_Kriegstagebuch_94.txt\",\"Grenzboten_1914_Kriegstagebuch_95.txt\",\"Grenzboten_1914_Kriegstagebuch_97.txt\",\"Grenzboten_1915_Kriegstagebuch_33.txt\",\"Grenzboten_1915_Kriegstagebuch_39.txt\",\"Grenzboten_1915_Kriegstagebuch_73.txt\",\"Grenzboten_1915_Kriegstagebuch_94.txt\",\"Grenzboten_1915_Kriegstagebuch_99.txt\",\"Grenzboten_1916_Kriegstagebuch_41.txt\",\"Grenzboten_1916_Kriegstagebuch_48.txt\",\"Grenzboten_1916_Kriegstagebuch_49.txt\",\"Grenzboten_1916_Kriegstagebuch_69.txt\",\"Grenzboten_1916_Kriegstagebuch_81.txt\",\"Grenzboten_1844_Tagebuch_56.txt\",\"Grenzboten_1844_Tagebuch_70.txt\",\"Grenzboten_1844_Tagebuch_77.txt\",\"Grenzboten_1844_Tagebuch_82.txt\",\"Grenzboten_1844_Tagebuch_88.txt\",\"Grenzboten_1845_Tagebuch_52.txt\",\"Grenzboten_1845_Tagebuch_62.txt\",\"Grenzboten_1845_Tagebuch_81.txt\",\"Grenzboten_1845_Tagebuch_85.txt\",\"Grenzboten_1845_Tagebuch_93.txt\",\"Grenzboten_1846_Tagebuch_51.txt\",\"Grenzboten_1846_Tagebuch_72.txt\",\"Grenzboten_1846_Tagebuch_82.txt\",\"Grenzboten_1846_Tagebuch_88.txt\",\"Grenzboten_1846_Tagebuch_96.txt\",\"Grenzboten_1914_Kriegstagebuch_37.txt\",\"Grenzboten_1914_Kriegstagebuch_68.txt\",\"Grenzboten_1914_Kriegstagebuch_94.txt\",\"Grenzboten_1914_Kriegstagebuch_95.txt\",\"Grenzboten_1914_Kriegstagebuch_97.txt\",\"Grenzboten_1915_Kriegstagebuch_33.txt\",\"Grenzboten_1915_Kriegstagebuch_39.txt\",\"Grenzboten_1915_Kriegstagebuch_73.txt\",\"Grenzboten_1915_Kriegstagebuch_94.txt\",\"Grenzboten_1915_Kriegstagebuch_99.txt\",\"Grenzboten_1916_Kriegstagebuch_41.txt\",\"Grenzboten_1916_Kriegstagebuch_48.txt\",\"Grenzboten_1916_Kriegstagebuch_49.txt\",\"Grenzboten_1916_Kriegstagebuch_69.txt\",\"Grenzboten_1916_Kriegstagebuch_81.txt\",\"Grenzboten_1844_Tagebuch_56.txt\",\"Grenzboten_1844_Tagebuch_70.txt\",\"Grenzboten_1844_Tagebuch_77.txt\",\"Grenzboten_1844_Tagebuch_82.txt\",\"Grenzboten_1844_Tagebuch_88.txt\",\"Grenzboten_1845_Tagebuch_52.txt\",\"Grenzboten_1845_Tagebuch_62.txt\",\"Grenzboten_1845_Tagebuch_81.txt\",\"Grenzboten_1845_Tagebuch_85.txt\",\"Grenzboten_1845_Tagebuch_93.txt\",\"Grenzboten_1846_Tagebuch_51.txt\",\"Grenzboten_1846_Tagebuch_72.txt\",\"Grenzboten_1846_Tagebuch_82.txt\",\"Grenzboten_1846_Tagebuch_88.txt\",\"Grenzboten_1846_Tagebuch_96.txt\",\"Grenzboten_1914_Kriegstagebuch_37.txt\",\"Grenzboten_1914_Kriegstagebuch_68.txt\",\"Grenzboten_1914_Kriegstagebuch_94.txt\",\"Grenzboten_1914_Kriegstagebuch_95.txt\",\"Grenzboten_1914_Kriegstagebuch_97.txt\",\"Grenzboten_1915_Kriegstagebuch_33.txt\",\"Grenzboten_1915_Kriegstagebuch_39.txt\",\"Grenzboten_1915_Kriegstagebuch_73.txt\",\"Grenzboten_1915_Kriegstagebuch_94.txt\",\"Grenzboten_1915_Kriegstagebuch_99.txt\",\"Grenzboten_1916_Kriegstagebuch_41.txt\",\"Grenzboten_1916_Kriegstagebuch_48.txt\",\"Grenzboten_1916_Kriegstagebuch_49.txt\",\"Grenzboten_1916_Kriegstagebuch_69.txt\",\"Grenzboten_1916_Kriegstagebuch_81.txt\"],\"index\":[0,1,2,3,4,5,6,7,8,9,10,11,12,13,14,15,16,17,18,19,20,21,22,23,24,25,26,27,28,29,30,31,32,33,34,35,36,37,38,39,40,41,42,43,44,45,46,47,48,49,50,51,52,53,54,55,56,57,58,59,60,61,62,63,64,65,66,67,68,69,70,71,72,73,74,75,76,77,78,79,80,81,82,83,84,85,86,87,88,89,90,91,92,93,94,95,96,97,98,99,100,101,102,103,104,105,106,107,108,109,110,111,112,113,114,115,116,117,118,119,120,121,122,123,124,125,126,127,128,129,130,131,132,133,134,135,136,137,138,139,140,141,142,143,144,145,146,147,148,149,150,151,152,153,154,155,156,157,158,159,160,161,162,163,164,165,166,167,168,169,170,171,172,173,174,175,176,177,178,179,180,181,182,183,184,185,186,187,188,189,190,191,192,193,194,195,196,197,198,199,200,201,202,203,204,205,206,207,208,209,210,211,212,213,214,215,216,217,218,219,220,221,222,223,224,225,226,227,228,229,230,231,232,233,234,235,236,237,238,239,240,241,242,243,244,245,246,247,248,249,250,251,252,253,254,255,256,257,258,259,260,261,262,263,264,265,266,267,268,269,270,271,272,273,274,275,276,277,278,279,280,281,282,283,284,285,286,287,288,289,290,291,292,293,294,295,296,297,298,299]}},\"id\":\"03fd4c3d-0fbb-4d7d-845f-aaf9e0601b5a\",\"type\":\"ColumnDataSource\"},{\"attributes\":{\"callback\":null,\"tooltips\":[[\"Document\",\"@Document\"],[\"Topic\",\"@Topic\"],[\"Score\",\"@Score\"]]},\"id\":\"4f2ea23c-c83b-4a6f-bcfe-9d018b1ab0e3\",\"type\":\"HoverTool\"},{\"attributes\":{},\"id\":\"5b44d713-d977-48c8-966b-8bcf58a267d2\",\"type\":\"CategoricalScale\"},{\"attributes\":{\"data_source\":{\"id\":\"03fd4c3d-0fbb-4d7d-845f-aaf9e0601b5a\",\"type\":\"ColumnDataSource\"},\"glyph\":{\"id\":\"520fabf0-8bf5-4270-a2aa-1850df74b9c5\",\"type\":\"Rect\"},\"hover_glyph\":null,\"muted_glyph\":null,\"nonselection_glyph\":{\"id\":\"4b4f6f80-a8e0-4b63-a08d-583b50a14341\",\"type\":\"Rect\"},\"selection_glyph\":null,\"view\":{\"id\":\"f8254cf7-62a2-40f7-98f2-d5fd178dec9c\",\"type\":\"CDSView\"}},\"id\":\"d9eae4f9-323c-47d5-9fd0-53d02464f0d0\",\"type\":\"GlyphRenderer\"},{\"attributes\":{},\"id\":\"c78c7b73-003f-46c7-bd61-7853b3938af7\",\"type\":\"SaveTool\"},{\"attributes\":{\"active_drag\":\"auto\",\"active_inspect\":\"auto\",\"active_scroll\":\"auto\",\"active_tap\":\"auto\",\"tools\":[{\"id\":\"4f2ea23c-c83b-4a6f-bcfe-9d018b1ab0e3\",\"type\":\"HoverTool\"},{\"id\":\"c78c7b73-003f-46c7-bd61-7853b3938af7\",\"type\":\"SaveTool\"},{\"id\":\"ada2b950-b7e3-4516-8b41-db70557cd731\",\"type\":\"PanTool\"},{\"id\":\"f28b7aed-080e-4350-836e-47ddaffc2e2e\",\"type\":\"BoxZoomTool\"},{\"id\":\"8d34482c-1713-458f-9e01-f9104cd1dc21\",\"type\":\"ResetTool\"},{\"id\":\"df321bfe-2b5d-4af9-884b-0ebfa5e199a8\",\"type\":\"WheelZoomTool\"}]},\"id\":\"59e5adf5-ee03-4aad-8c34-7cb3826e9ade\",\"type\":\"Toolbar\"},{\"attributes\":{},\"id\":\"ada2b950-b7e3-4516-8b41-db70557cd731\",\"type\":\"PanTool\"},{\"attributes\":{\"overlay\":{\"id\":\"84222ab0-c88c-4809-833e-2011aef06eb3\",\"type\":\"BoxAnnotation\"}},\"id\":\"f28b7aed-080e-4350-836e-47ddaffc2e2e\",\"type\":\"BoxZoomTool\"},{\"attributes\":{},\"id\":\"8d34482c-1713-458f-9e01-f9104cd1dc21\",\"type\":\"ResetTool\"}],\"root_ids\":[\"ef295e12-6db1-4c8e-aee0-e659dd27cb0e\"]},\"title\":\"Bokeh Application\",\"version\":\"0.12.9\"}};\n",
       "    var render_items = [{\"docid\":\"df8dc156-555e-46c1-8088-7304c24faa10\",\"elementid\":\"65207ab9-8646-4b75-8d2c-09fd580450b8\",\"modelid\":\"ef295e12-6db1-4c8e-aee0-e659dd27cb0e\",\"notebook_comms_target\":\"cae485fe-bc79-4407-8785-cc209b441984\"}];\n",
       "\n",
       "    root.Bokeh.embed.embed_items(docs_json, render_items);\n",
       "  }\n",
       "\n",
       "  if (root.Bokeh !== undefined) {\n",
       "    embed_document(root);\n",
       "  } else {\n",
       "    var attempts = 0;\n",
       "    var timer = setInterval(function(root) {\n",
       "      if (root.Bokeh !== undefined) {\n",
       "        embed_document(root);\n",
       "        clearInterval(timer);\n",
       "      }\n",
       "      attempts++;\n",
       "      if (attempts > 100) {\n",
       "        console.log(\"Bokeh: ERROR: Unable to embed document because BokehJS library is missing\")\n",
       "        clearInterval(timer);\n",
       "      }\n",
       "    }, 10, root)\n",
       "  }\n",
       "})(window);"
      ],
      "application/vnd.bokehjs_exec.v0+json": ""
     },
     "metadata": {
      "application/vnd.bokehjs_exec.v0+json": {
       "id": "ef295e12-6db1-4c8e-aee0-e659dd27cb0e"
      }
     },
     "output_type": "display_data"
    },
    {
     "data": {
      "text/html": [
       "<p><code>&lt;Bokeh Notebook handle for <strong>In[24]</strong>&gt;</code></p>"
      ],
      "text/plain": [
       "<bokeh.io._CommsHandle at 0x7f5527047128>"
      ]
     },
     "execution_count": 24,
     "metadata": {},
     "output_type": "execute_result"
    }
   ],
   "source": [
    "from bokeh.io import show\n",
    "\n",
    "plot = visualization.doc_topic_heatmap_interactive(document_topics, title='Grenzboten')\n",
    "show(plot, notebook_handle=True)"
   ]
  },
  {
   "cell_type": "markdown",
   "metadata": {},
   "source": [
    "#### Distribution of topics in a single documents\n",
    "\n",
    "To take closer look on the topics in a single text, we can use the follwing function that shows all the topics in a text and their respective proportions. To select the document, we have to give its index to the function."
   ]
  },
  {
   "cell_type": "code",
   "execution_count": 25,
   "metadata": {},
   "outputs": [
    {
     "data": {
      "text/plain": [
       "<module 'matplotlib.pyplot' from '/usr/local/lib/python3.6/dist-packages/matplotlib/pyplot.py'>"
      ]
     },
     "execution_count": 25,
     "metadata": {},
     "output_type": "execute_result"
    },
    {
     "data": {
      "image/png": "[encoded data removed]",
      "text/plain": [
       "<matplotlib.figure.Figure at 0x7f5527f82550>"
      ]
     },
     "metadata": {},
     "output_type": "display_data"
    }
   ],
   "source": [
    "visualization.plot_doc_topics(document_topics, 0)"
   ]
  }
 ],
 "metadata": {
  "kernelspec": {
   "display_name": "Python 3",
   "language": "python",
   "name": "python3"
  },
  "language_info": {
   "codemirror_mode": {
    "name": "ipython",
    "version": 3
   },
   "file_extension": ".py",
   "mimetype": "text/x-python",
   "name": "python",
   "nbconvert_exporter": "python",
   "pygments_lexer": "ipython3",
   "version": "3.6.3"
  }
 },
 "nbformat": 4,
 "nbformat_minor": 1
}
