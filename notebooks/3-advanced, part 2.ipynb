{
 "cells": [
  {
   "cell_type": "markdown",
   "metadata": {},
   "source": [
    "# Advanced Topic Modeling: Part 2\n",
    "\n",
    "**This is a work-in-progress!** Documentation is coming soon...\n",
    "\n",
    "To preprocess the corpus, make sure you have the [DARIAH DKPro-Wrapper](https://dariah-de.github.io/DARIAH-DKPro-Wrapper/) JAR file and the configs folder in your current working directory. You might also be interested in the [Jupyter notebook](https://github.com/cophi-wue/cophi-toolbox/blob/master/notebooks/introducing-cophi.ipynb) introducing `cophi`."
   ]
  },
  {
   "cell_type": "code",
   "execution_count": 1,
   "metadata": {},
   "outputs": [],
   "source": [
    "from pathlib import Path\n",
    "\n",
    "import dariah\n",
    "import cophi"
   ]
  },
  {
   "cell_type": "markdown",
   "metadata": {},
   "source": [
    "## Preprocessing a corpus"
   ]
  },
  {
   "cell_type": "code",
   "execution_count": 2,
   "metadata": {},
   "outputs": [],
   "source": [
    "directory = Path(\"data\", \"british-fiction-corpus\")"
   ]
  },
  {
   "cell_type": "code",
   "execution_count": null,
   "metadata": {},
   "outputs": [],
   "source": [
    "corpus, metadata = cophi.corpus(directory,\n",
    "                                lemma=True,\n",
    "                                pos=[\"NN\"],\n",
    "                                language=\"en\",\n",
    "                                metadata=True)"
   ]
  },
  {
   "cell_type": "code",
   "execution_count": 4,
   "metadata": {},
   "outputs": [
    {
     "data": {
      "text/html": [
       "<div>\n",
       "<style scoped>\n",
       "    .dataframe tbody tr th:only-of-type {\n",
       "        vertical-align: middle;\n",
       "    }\n",
       "\n",
       "    .dataframe tbody tr th {\n",
       "        vertical-align: top;\n",
       "    }\n",
       "\n",
       "    .dataframe thead th {\n",
       "        text-align: right;\n",
       "    }\n",
       "</style>\n",
       "<table border=\"1\" class=\"dataframe\">\n",
       "  <thead>\n",
       "    <tr style=\"text-align: right;\">\n",
       "      <th></th>\n",
       "      <th>filepath</th>\n",
       "      <th>parent</th>\n",
       "      <th>suffix</th>\n",
       "      <th>title</th>\n",
       "      <th>uuid</th>\n",
       "    </tr>\n",
       "  </thead>\n",
       "  <tbody>\n",
       "    <tr>\n",
       "      <th>0</th>\n",
       "      <td>data/british-fiction-corpus/fielding_tom.txt</td>\n",
       "      <td>data/british-fiction-corpus</td>\n",
       "      <td>.txt</td>\n",
       "      <td>fielding_tom</td>\n",
       "      <td>e84162fe-6da3-11e9-bdd2-7c7a9196f28f</td>\n",
       "    </tr>\n",
       "    <tr>\n",
       "      <th>1</th>\n",
       "      <td>data/british-fiction-corpus/thackeray_lyndon.txt</td>\n",
       "      <td>data/british-fiction-corpus</td>\n",
       "      <td>.txt</td>\n",
       "      <td>thackeray_lyndon</td>\n",
       "      <td>100b1438-6da4-11e9-bdd2-7c7a9196f28f</td>\n",
       "    </tr>\n",
       "    <tr>\n",
       "      <th>2</th>\n",
       "      <td>data/british-fiction-corpus/fielding_joseph.txt</td>\n",
       "      <td>data/british-fiction-corpus</td>\n",
       "      <td>.txt</td>\n",
       "      <td>fielding_joseph</td>\n",
       "      <td>324c170e-6da4-11e9-bdd2-7c7a9196f28f</td>\n",
       "    </tr>\n",
       "    <tr>\n",
       "      <th>3</th>\n",
       "      <td>data/british-fiction-corpus/dickens_bleak.txt</td>\n",
       "      <td>data/british-fiction-corpus</td>\n",
       "      <td>.txt</td>\n",
       "      <td>dickens_bleak</td>\n",
       "      <td>58eb7378-6da4-11e9-bdd2-7c7a9196f28f</td>\n",
       "    </tr>\n",
       "    <tr>\n",
       "      <th>4</th>\n",
       "      <td>data/british-fiction-corpus/thackeray_vanity.txt</td>\n",
       "      <td>data/british-fiction-corpus</td>\n",
       "      <td>.txt</td>\n",
       "      <td>thackeray_vanity</td>\n",
       "      <td>9ad04e08-6da4-11e9-bdd2-7c7a9196f28f</td>\n",
       "    </tr>\n",
       "  </tbody>\n",
       "</table>\n",
       "</div>"
      ],
      "text/plain": [
       "                                           filepath  \\\n",
       "0      data/british-fiction-corpus/fielding_tom.txt   \n",
       "1  data/british-fiction-corpus/thackeray_lyndon.txt   \n",
       "2   data/british-fiction-corpus/fielding_joseph.txt   \n",
       "3     data/british-fiction-corpus/dickens_bleak.txt   \n",
       "4  data/british-fiction-corpus/thackeray_vanity.txt   \n",
       "\n",
       "                        parent suffix             title  \\\n",
       "0  data/british-fiction-corpus   .txt      fielding_tom   \n",
       "1  data/british-fiction-corpus   .txt  thackeray_lyndon   \n",
       "2  data/british-fiction-corpus   .txt   fielding_joseph   \n",
       "3  data/british-fiction-corpus   .txt     dickens_bleak   \n",
       "4  data/british-fiction-corpus   .txt  thackeray_vanity   \n",
       "\n",
       "                                   uuid  \n",
       "0  e84162fe-6da3-11e9-bdd2-7c7a9196f28f  \n",
       "1  100b1438-6da4-11e9-bdd2-7c7a9196f28f  \n",
       "2  324c170e-6da4-11e9-bdd2-7c7a9196f28f  \n",
       "3  58eb7378-6da4-11e9-bdd2-7c7a9196f28f  \n",
       "4  9ad04e08-6da4-11e9-bdd2-7c7a9196f28f  "
      ]
     },
     "execution_count": 4,
     "metadata": {},
     "output_type": "execute_result"
    }
   ],
   "source": [
    "metadata.iloc[:5]"
   ]
  },
  {
   "cell_type": "markdown",
   "metadata": {},
   "source": [
    "### Extending metadata"
   ]
  },
  {
   "cell_type": "code",
   "execution_count": 5,
   "metadata": {},
   "outputs": [
    {
     "data": {
      "text/html": [
       "<div>\n",
       "<style scoped>\n",
       "    .dataframe tbody tr th:only-of-type {\n",
       "        vertical-align: middle;\n",
       "    }\n",
       "\n",
       "    .dataframe tbody tr th {\n",
       "        vertical-align: top;\n",
       "    }\n",
       "\n",
       "    .dataframe thead th {\n",
       "        text-align: right;\n",
       "    }\n",
       "</style>\n",
       "<table border=\"1\" class=\"dataframe\">\n",
       "  <thead>\n",
       "    <tr style=\"text-align: right;\">\n",
       "      <th></th>\n",
       "      <th>filepath</th>\n",
       "      <th>parent</th>\n",
       "      <th>suffix</th>\n",
       "      <th>title</th>\n",
       "      <th>uuid</th>\n",
       "      <th>year</th>\n",
       "    </tr>\n",
       "  </thead>\n",
       "  <tbody>\n",
       "    <tr>\n",
       "      <th>0</th>\n",
       "      <td>data/british-fiction-corpus/fielding_tom.txt</td>\n",
       "      <td>data/british-fiction-corpus</td>\n",
       "      <td>.txt</td>\n",
       "      <td>fielding_tom</td>\n",
       "      <td>e84162fe-6da3-11e9-bdd2-7c7a9196f28f</td>\n",
       "      <td>1868</td>\n",
       "    </tr>\n",
       "    <tr>\n",
       "      <th>1</th>\n",
       "      <td>data/british-fiction-corpus/thackeray_lyndon.txt</td>\n",
       "      <td>data/british-fiction-corpus</td>\n",
       "      <td>.txt</td>\n",
       "      <td>thackeray_lyndon</td>\n",
       "      <td>100b1438-6da4-11e9-bdd2-7c7a9196f28f</td>\n",
       "      <td>1853</td>\n",
       "    </tr>\n",
       "    <tr>\n",
       "      <th>2</th>\n",
       "      <td>data/british-fiction-corpus/fielding_joseph.txt</td>\n",
       "      <td>data/british-fiction-corpus</td>\n",
       "      <td>.txt</td>\n",
       "      <td>fielding_joseph</td>\n",
       "      <td>324c170e-6da4-11e9-bdd2-7c7a9196f28f</td>\n",
       "      <td>1860</td>\n",
       "    </tr>\n",
       "    <tr>\n",
       "      <th>3</th>\n",
       "      <td>data/british-fiction-corpus/dickens_bleak.txt</td>\n",
       "      <td>data/british-fiction-corpus</td>\n",
       "      <td>.txt</td>\n",
       "      <td>dickens_bleak</td>\n",
       "      <td>58eb7378-6da4-11e9-bdd2-7c7a9196f28f</td>\n",
       "      <td>1799</td>\n",
       "    </tr>\n",
       "    <tr>\n",
       "      <th>4</th>\n",
       "      <td>data/british-fiction-corpus/thackeray_vanity.txt</td>\n",
       "      <td>data/british-fiction-corpus</td>\n",
       "      <td>.txt</td>\n",
       "      <td>thackeray_vanity</td>\n",
       "      <td>9ad04e08-6da4-11e9-bdd2-7c7a9196f28f</td>\n",
       "      <td>1742</td>\n",
       "    </tr>\n",
       "  </tbody>\n",
       "</table>\n",
       "</div>"
      ],
      "text/plain": [
       "                                           filepath  \\\n",
       "0      data/british-fiction-corpus/fielding_tom.txt   \n",
       "1  data/british-fiction-corpus/thackeray_lyndon.txt   \n",
       "2   data/british-fiction-corpus/fielding_joseph.txt   \n",
       "3     data/british-fiction-corpus/dickens_bleak.txt   \n",
       "4  data/british-fiction-corpus/thackeray_vanity.txt   \n",
       "\n",
       "                        parent suffix             title  \\\n",
       "0  data/british-fiction-corpus   .txt      fielding_tom   \n",
       "1  data/british-fiction-corpus   .txt  thackeray_lyndon   \n",
       "2  data/british-fiction-corpus   .txt   fielding_joseph   \n",
       "3  data/british-fiction-corpus   .txt     dickens_bleak   \n",
       "4  data/british-fiction-corpus   .txt  thackeray_vanity   \n",
       "\n",
       "                                   uuid  year  \n",
       "0  e84162fe-6da3-11e9-bdd2-7c7a9196f28f  1868  \n",
       "1  100b1438-6da4-11e9-bdd2-7c7a9196f28f  1853  \n",
       "2  324c170e-6da4-11e9-bdd2-7c7a9196f28f  1860  \n",
       "3  58eb7378-6da4-11e9-bdd2-7c7a9196f28f  1799  \n",
       "4  9ad04e08-6da4-11e9-bdd2-7c7a9196f28f  1742  "
      ]
     },
     "execution_count": 5,
     "metadata": {},
     "output_type": "execute_result"
    }
   ],
   "source": [
    "metadata[\"year\"] = [1868, 1853, 1860, 1799, 1742, 1749, 1844, 1850, 1876, 1848]\n",
    "metadata.iloc[:5]"
   ]
  },
  {
   "cell_type": "code",
   "execution_count": 6,
   "metadata": {},
   "outputs": [],
   "source": [
    "dtm = corpus.drop(corpus.dtm, corpus.hapax)"
   ]
  },
  {
   "cell_type": "code",
   "execution_count": 7,
   "metadata": {},
   "outputs": [
    {
     "data": {
      "text/html": [
       "<div>\n",
       "<style scoped>\n",
       "    .dataframe tbody tr th:only-of-type {\n",
       "        vertical-align: middle;\n",
       "    }\n",
       "\n",
       "    .dataframe tbody tr th {\n",
       "        vertical-align: top;\n",
       "    }\n",
       "\n",
       "    .dataframe thead th {\n",
       "        text-align: right;\n",
       "    }\n",
       "</style>\n",
       "<table border=\"1\" class=\"dataframe\">\n",
       "  <thead>\n",
       "    <tr style=\"text-align: right;\">\n",
       "      <th></th>\n",
       "      <th>a-year</th>\n",
       "      <th>abbe</th>\n",
       "      <th>abhorrence</th>\n",
       "      <th>ability</th>\n",
       "      <th>abode</th>\n",
       "      <th>absence</th>\n",
       "      <th>absolution</th>\n",
       "      <th>absurdity</th>\n",
       "      <th>abundance</th>\n",
       "      <th>abuse</th>\n",
       "    </tr>\n",
       "  </thead>\n",
       "  <tbody>\n",
       "    <tr>\n",
       "      <th>1868_fielding_tom</th>\n",
       "      <td>2</td>\n",
       "      <td>0</td>\n",
       "      <td>8</td>\n",
       "      <td>6</td>\n",
       "      <td>4</td>\n",
       "      <td>9</td>\n",
       "      <td>2</td>\n",
       "      <td>5</td>\n",
       "      <td>2</td>\n",
       "      <td>12</td>\n",
       "    </tr>\n",
       "    <tr>\n",
       "      <th>1853_thackeray_lyndon</th>\n",
       "      <td>0</td>\n",
       "      <td>7</td>\n",
       "      <td>0</td>\n",
       "      <td>2</td>\n",
       "      <td>1</td>\n",
       "      <td>6</td>\n",
       "      <td>0</td>\n",
       "      <td>1</td>\n",
       "      <td>0</td>\n",
       "      <td>6</td>\n",
       "    </tr>\n",
       "    <tr>\n",
       "      <th>1860_fielding_joseph</th>\n",
       "      <td>0</td>\n",
       "      <td>7</td>\n",
       "      <td>0</td>\n",
       "      <td>2</td>\n",
       "      <td>1</td>\n",
       "      <td>6</td>\n",
       "      <td>0</td>\n",
       "      <td>1</td>\n",
       "      <td>0</td>\n",
       "      <td>6</td>\n",
       "    </tr>\n",
       "    <tr>\n",
       "      <th>1799_dickens_bleak</th>\n",
       "      <td>0</td>\n",
       "      <td>7</td>\n",
       "      <td>0</td>\n",
       "      <td>2</td>\n",
       "      <td>1</td>\n",
       "      <td>6</td>\n",
       "      <td>0</td>\n",
       "      <td>1</td>\n",
       "      <td>0</td>\n",
       "      <td>6</td>\n",
       "    </tr>\n",
       "    <tr>\n",
       "      <th>1742_thackeray_vanity</th>\n",
       "      <td>0</td>\n",
       "      <td>0</td>\n",
       "      <td>2</td>\n",
       "      <td>1</td>\n",
       "      <td>2</td>\n",
       "      <td>15</td>\n",
       "      <td>0</td>\n",
       "      <td>0</td>\n",
       "      <td>1</td>\n",
       "      <td>3</td>\n",
       "    </tr>\n",
       "  </tbody>\n",
       "</table>\n",
       "</div>"
      ],
      "text/plain": [
       "                       a-year  abbe  abhorrence  ability  abode  absence  \\\n",
       "1868_fielding_tom           2     0           8        6      4        9   \n",
       "1853_thackeray_lyndon       0     7           0        2      1        6   \n",
       "1860_fielding_joseph        0     7           0        2      1        6   \n",
       "1799_dickens_bleak          0     7           0        2      1        6   \n",
       "1742_thackeray_vanity       0     0           2        1      2       15   \n",
       "\n",
       "                       absolution  absurdity  abundance  abuse  \n",
       "1868_fielding_tom               2          5          2     12  \n",
       "1853_thackeray_lyndon           0          1          0      6  \n",
       "1860_fielding_joseph            0          1          0      6  \n",
       "1799_dickens_bleak              0          1          0      6  \n",
       "1742_thackeray_vanity           0          0          1      3  "
      ]
     },
     "execution_count": 7,
     "metadata": {},
     "output_type": "execute_result"
    }
   ],
   "source": [
    "dtm = corpus.map_metadata(data=dtm,\n",
    "                          metadata=metadata,\n",
    "                          uuid=\"uuid\",\n",
    "                          fields=[\"year\", \"title\"],\n",
    "                          sep=\"_\").fillna(0).astype(int)\n",
    "dtm.iloc[:5,:10]"
   ]
  },
  {
   "cell_type": "markdown",
   "metadata": {},
   "source": [
    "## Training a model"
   ]
  },
  {
   "cell_type": "code",
   "execution_count": 9,
   "metadata": {},
   "outputs": [],
   "source": [
    "model = dariah.core.LDA(num_topics=10,\n",
    "                        num_iterations=1000,\n",
    "                        mallet=\"mallet-2.0.8/bin/mallet\")\n",
    "model.fit(dtm)"
   ]
  },
  {
   "cell_type": "code",
   "execution_count": 10,
   "metadata": {},
   "outputs": [
    {
     "data": {
      "text/html": [
       "<div>\n",
       "<style scoped>\n",
       "    .dataframe tbody tr th:only-of-type {\n",
       "        vertical-align: middle;\n",
       "    }\n",
       "\n",
       "    .dataframe tbody tr th {\n",
       "        vertical-align: top;\n",
       "    }\n",
       "\n",
       "    .dataframe thead th {\n",
       "        text-align: right;\n",
       "    }\n",
       "</style>\n",
       "<table border=\"1\" class=\"dataframe\">\n",
       "  <thead>\n",
       "    <tr style=\"text-align: right;\">\n",
       "      <th></th>\n",
       "      <th>word0</th>\n",
       "      <th>word1</th>\n",
       "      <th>word2</th>\n",
       "      <th>word3</th>\n",
       "      <th>word4</th>\n",
       "    </tr>\n",
       "  </thead>\n",
       "  <tbody>\n",
       "    <tr>\n",
       "      <th>topic0</th>\n",
       "      <td>lady</td>\n",
       "      <td>gentleman</td>\n",
       "      <td>mother</td>\n",
       "      <td>men</td>\n",
       "      <td>day</td>\n",
       "    </tr>\n",
       "    <tr>\n",
       "      <th>topic1</th>\n",
       "      <td>way</td>\n",
       "      <td>princess</td>\n",
       "      <td>name</td>\n",
       "      <td>time</td>\n",
       "      <td>uncle</td>\n",
       "    </tr>\n",
       "    <tr>\n",
       "      <th>topic2</th>\n",
       "      <td>friend</td>\n",
       "      <td>lady</td>\n",
       "      <td>love</td>\n",
       "      <td>honour</td>\n",
       "      <td>fellow</td>\n",
       "    </tr>\n",
       "    <tr>\n",
       "      <th>topic3</th>\n",
       "      <td>person</td>\n",
       "      <td>woman</td>\n",
       "      <td>squire</td>\n",
       "      <td>father</td>\n",
       "      <td>hath</td>\n",
       "    </tr>\n",
       "    <tr>\n",
       "      <th>topic4</th>\n",
       "      <td>girl</td>\n",
       "      <td>sister</td>\n",
       "      <td>child</td>\n",
       "      <td>daughter</td>\n",
       "      <td>night</td>\n",
       "    </tr>\n",
       "    <tr>\n",
       "      <th>topic5</th>\n",
       "      <td>man</td>\n",
       "      <td>fellow</td>\n",
       "      <td>play</td>\n",
       "      <td>son</td>\n",
       "      <td>life</td>\n",
       "    </tr>\n",
       "    <tr>\n",
       "      <th>topic6</th>\n",
       "      <td>dear</td>\n",
       "      <td>hand</td>\n",
       "      <td>lady</td>\n",
       "      <td>room</td>\n",
       "      <td>son</td>\n",
       "    </tr>\n",
       "    <tr>\n",
       "      <th>topic7</th>\n",
       "      <td>man</td>\n",
       "      <td>time</td>\n",
       "      <td>matter</td>\n",
       "      <td>chapter</td>\n",
       "      <td>house</td>\n",
       "    </tr>\n",
       "    <tr>\n",
       "      <th>topic8</th>\n",
       "      <td>father</td>\n",
       "      <td>time</td>\n",
       "      <td>place</td>\n",
       "      <td>home</td>\n",
       "      <td>wife</td>\n",
       "    </tr>\n",
       "    <tr>\n",
       "      <th>topic9</th>\n",
       "      <td>way</td>\n",
       "      <td>face</td>\n",
       "      <td>heart</td>\n",
       "      <td>sir</td>\n",
       "      <td>people</td>\n",
       "    </tr>\n",
       "  </tbody>\n",
       "</table>\n",
       "</div>"
      ],
      "text/plain": [
       "         word0      word1   word2     word3   word4\n",
       "topic0    lady  gentleman  mother       men     day\n",
       "topic1     way   princess    name      time   uncle\n",
       "topic2  friend       lady    love    honour  fellow\n",
       "topic3  person      woman  squire    father    hath\n",
       "topic4    girl     sister   child  daughter   night\n",
       "topic5     man     fellow    play       son    life\n",
       "topic6    dear       hand    lady      room     son\n",
       "topic7     man       time  matter   chapter   house\n",
       "topic8  father       time   place      home    wife\n",
       "topic9     way       face   heart       sir  people"
      ]
     },
     "execution_count": 10,
     "metadata": {},
     "output_type": "execute_result"
    }
   ],
   "source": [
    "model.topics.iloc[:, :5]"
   ]
  },
  {
   "cell_type": "markdown",
   "metadata": {},
   "source": [
    "## Visualizing a model"
   ]
  },
  {
   "cell_type": "code",
   "execution_count": 11,
   "metadata": {},
   "outputs": [],
   "source": [
    "vis = dariah.core.Vis(model)"
   ]
  },
  {
   "cell_type": "code",
   "execution_count": 12,
   "metadata": {},
   "outputs": [
    {
     "data": {
      "text/plain": [
       "<matplotlib.axes._subplots.AxesSubplot at 0x7fa21ea69b38>"
      ]
     },
     "execution_count": 12,
     "metadata": {},
     "output_type": "execute_result"
    },
    {
     "data": {
      "image/png": "[encoded data removed]",
      "text/plain": [
       "<Figure size 432x288 with 2 Axes>"
      ]
     },
     "metadata": {
      "needs_background": "light"
     },
     "output_type": "display_data"
    }
   ],
   "source": [
    "%matplotlib inline\n",
    "\n",
    "vis.topic_document()"
   ]
  }
 ],
 "metadata": {
  "kernelspec": {
   "display_name": "Python 3",
   "language": "python",
   "name": "python3"
  },
  "language_info": {
   "codemirror_mode": {
    "name": "ipython",
    "version": 3
   },
   "file_extension": ".py",
   "mimetype": "text/x-python",
   "name": "python",
   "nbconvert_exporter": "python",
   "pygments_lexer": "ipython3",
   "version": "3.7.2"
  }
 },
 "nbformat": 4,
 "nbformat_minor": 4
}
