{
 "cells": [
  {
   "cell_type": "markdown",
   "metadata": {},
   "source": [
    "# Advanced Topic Modeling: Part 2\n",
    "\n",
    "- MALLET\n",
    "- Low-level API\n",
    "- DKPro-Wrapper"
   ]
  },
  {
   "cell_type": "code",
   "execution_count": 2,
   "metadata": {},
   "outputs": [],
   "source": [
    "import dariah"
   ]
  },
  {
   "cell_type": "code",
   "execution_count": 3,
   "metadata": {},
   "outputs": [],
   "source": [
    "d = dariah.dkpro.processing.DKPro(\"ddw-0.4.6.jar\")"
   ]
  },
  {
   "cell_type": "code",
   "execution_count": 10,
   "metadata": {},
   "outputs": [
    {
     "name": "stdout",
     "output_type": "stream",
     "text": [
      "INFO: Input: /home/severin/Desktop/test.txt\n",
      "INFO: Output: .\n",
      "INFO: Config: configs/default.properties, configs/default_de.properties\n",
      "INFO: Language: de\n",
      "INFO: Reader: Text\n",
      "INFO: Process 1 files\n",
      "INFO: Start running the pipeline (this may take a while)...\n",
      "INFO: Process file: test.txt\n",
      "INFO: ---- DONE -----\n",
      "INFO: All files processed in 0.66 minutes\n"
     ]
    },
    {
     "data": {
      "text/plain": [
       "True"
      ]
     },
     "execution_count": 10,
     "metadata": {},
     "output_type": "execute_result"
    }
   ],
   "source": [
    "d.process(filepath=\"/home/severin/Desktop/test.txt\", language=\"de\", output=\".\")"
   ]
  },
  {
   "cell_type": "code",
   "execution_count": 4,
   "metadata": {},
   "outputs": [],
   "source": [
    "df = d.read(\"test.txt.csv\")"
   ]
  },
  {
   "cell_type": "code",
   "execution_count": 1,
   "metadata": {},
   "outputs": [],
   "source": [
    "from dariah.dkpro import core"
   ]
  },
  {
   "cell_type": "code",
   "execution_count": 2,
   "metadata": {},
   "outputs": [],
   "source": [
    "documents = list()\n",
    "from pathlib import Path\n",
    "\n",
    "for file in Path(\".\").glob(\"*.csv\"):\n",
    "    documents.append(core.Document(file))"
   ]
  },
  {
   "cell_type": "code",
   "execution_count": 5,
   "metadata": {},
   "outputs": [],
   "source": [
    "c = core.Corpus(documents)"
   ]
  },
  {
   "cell_type": "code",
   "execution_count": 3,
   "metadata": {},
   "outputs": [
    {
     "data": {
      "text/plain": [
       "'test'"
      ]
     },
     "execution_count": 3,
     "metadata": {},
     "output_type": "execute_result"
    }
   ],
   "source": [
    "documents[0].filter(pos=[\"NN\"]).name"
   ]
  },
  {
   "cell_type": "code",
   "execution_count": 10,
   "metadata": {},
   "outputs": [
    {
     "data": {
      "text/plain": [
       "1.0"
      ]
     },
     "execution_count": 10,
     "metadata": {},
     "output_type": "execute_result"
    }
   ],
   "source": [
    "c.ttr"
   ]
  },
  {
   "cell_type": "code",
   "execution_count": null,
   "metadata": {},
   "outputs": [],
   "source": []
  },
  {
   "cell_type": "code",
   "execution_count": null,
   "metadata": {},
   "outputs": [],
   "source": []
  },
  {
   "cell_type": "code",
   "execution_count": null,
   "metadata": {},
   "outputs": [],
   "source": []
  },
  {
   "cell_type": "code",
   "execution_count": null,
   "metadata": {},
   "outputs": [],
   "source": []
  },
  {
   "cell_type": "code",
   "execution_count": 3,
   "metadata": {},
   "outputs": [
    {
     "data": {
      "text/plain": [
       "[\"a'mighty\",\n",
       " \"a'n\",\n",
       " 'a-bakin',\n",
       " 'a-beatin',\n",
       " 'a-begging',\n",
       " 'a-bleatin',\n",
       " 'a-bringin',\n",
       " 'a-carrying',\n",
       " 'a-collectin',\n",
       " 'a-comin']"
      ]
     },
     "execution_count": 3,
     "metadata": {},
     "output_type": "execute_result"
    }
   ],
   "source": [
    "features = c.hapax + c.mfw(100)\n",
    "features[:10]"
   ]
  },
  {
   "cell_type": "code",
   "execution_count": 4,
   "metadata": {},
   "outputs": [
    {
     "name": "stdout",
     "output_type": "stream",
     "text": [
      "(10, 33050)\n",
      "(10, 16455)\n"
     ]
    }
   ],
   "source": [
    "print(c.dtm.shape)\n",
    "dtm = c.drop(c.dtm, features)\n",
    "print(dtm.shape)"
   ]
  },
  {
   "cell_type": "code",
   "execution_count": 10,
   "metadata": {},
   "outputs": [],
   "source": [
    "m = dariah.topics.modeling.LDA(num_topics=10,\n",
    "                               num_iterations=100,\n",
    "                               alpha=0.1,\n",
    "                               eta=0.01,\n",
    "                               implementation=\"mallet\",\n",
    "                               executable=\"/home/severin/Downloads/mallet-2.0.8/bin/mallet\")"
   ]
  },
  {
   "cell_type": "code",
   "execution_count": 11,
   "metadata": {},
   "outputs": [],
   "source": [
    "m.fit(dtm)"
   ]
  },
  {
   "cell_type": "code",
   "execution_count": 17,
   "metadata": {},
   "outputs": [
    {
     "data": {
      "text/html": [
       "<div>\n",
       "<style scoped>\n",
       "    .dataframe tbody tr th:only-of-type {\n",
       "        vertical-align: middle;\n",
       "    }\n",
       "\n",
       "    .dataframe tbody tr th {\n",
       "        vertical-align: top;\n",
       "    }\n",
       "\n",
       "    .dataframe thead th {\n",
       "        text-align: right;\n",
       "    }\n",
       "</style>\n",
       "<table border=\"1\" class=\"dataframe\">\n",
       "  <thead>\n",
       "    <tr style=\"text-align: right;\">\n",
       "      <th></th>\n",
       "      <th>word0</th>\n",
       "      <th>word1</th>\n",
       "      <th>word2</th>\n",
       "      <th>word3</th>\n",
       "      <th>word4</th>\n",
       "      <th>word5</th>\n",
       "      <th>word6</th>\n",
       "      <th>word7</th>\n",
       "      <th>word8</th>\n",
       "      <th>word9</th>\n",
       "    </tr>\n",
       "  </thead>\n",
       "  <tbody>\n",
       "    <tr>\n",
       "      <th>topic0</th>\n",
       "      <td>phineas</td>\n",
       "      <td>lord</td>\n",
       "      <td>laura</td>\n",
       "      <td>finn</td>\n",
       "      <td>house</td>\n",
       "      <td>kennedy</td>\n",
       "      <td>violet</td>\n",
       "      <td>parliament</td>\n",
       "      <td>chiltern</td>\n",
       "      <td>nothing</td>\n",
       "    </tr>\n",
       "    <tr>\n",
       "      <th>topic1</th>\n",
       "      <td>don</td>\n",
       "      <td>can</td>\n",
       "      <td>lopez</td>\n",
       "      <td>course</td>\n",
       "      <td>father</td>\n",
       "      <td>duke</td>\n",
       "      <td>money</td>\n",
       "      <td>thought</td>\n",
       "      <td>nothing</td>\n",
       "      <td>wharton</td>\n",
       "    </tr>\n",
       "    <tr>\n",
       "      <th>topic2</th>\n",
       "      <td>tom</td>\n",
       "      <td>crawley</td>\n",
       "      <td>maggie</td>\n",
       "      <td>osborne</td>\n",
       "      <td>rebecca</td>\n",
       "      <td>amelia</td>\n",
       "      <td>tulliver</td>\n",
       "      <td>pitt</td>\n",
       "      <td>dobbin</td>\n",
       "      <td>rawdon</td>\n",
       "    </tr>\n",
       "    <tr>\n",
       "      <th>topic3</th>\n",
       "      <td>jones</td>\n",
       "      <td>indeed</td>\n",
       "      <td>may</td>\n",
       "      <td>adams</td>\n",
       "      <td>those</td>\n",
       "      <td>these</td>\n",
       "      <td>answered</td>\n",
       "      <td>joseph</td>\n",
       "      <td>being</td>\n",
       "      <td>most</td>\n",
       "    </tr>\n",
       "    <tr>\n",
       "      <th>topic4</th>\n",
       "      <td>it</td>\n",
       "      <td>got</td>\n",
       "      <td>again</td>\n",
       "      <td>can</td>\n",
       "      <td>while</td>\n",
       "      <td>better</td>\n",
       "      <td>look</td>\n",
       "      <td>round</td>\n",
       "      <td>there</td>\n",
       "      <td>quite</td>\n",
       "    </tr>\n",
       "    <tr>\n",
       "      <th>topic5</th>\n",
       "      <td>adam</td>\n",
       "      <td>hetty</td>\n",
       "      <td>work</td>\n",
       "      <td>eyes</td>\n",
       "      <td>thee</td>\n",
       "      <td>mother</td>\n",
       "      <td>young</td>\n",
       "      <td>arthur</td>\n",
       "      <td>day</td>\n",
       "      <td>long</td>\n",
       "    </tr>\n",
       "    <tr>\n",
       "      <th>topic6</th>\n",
       "      <td>young</td>\n",
       "      <td>captain</td>\n",
       "      <td>sir</td>\n",
       "      <td>over</td>\n",
       "      <td>george</td>\n",
       "      <td>day</td>\n",
       "      <td>went</td>\n",
       "      <td>friend</td>\n",
       "      <td>most</td>\n",
       "      <td>house</td>\n",
       "    </tr>\n",
       "    <tr>\n",
       "      <th>topic7</th>\n",
       "      <td>our</td>\n",
       "      <td>where</td>\n",
       "      <td>years</td>\n",
       "      <td>way</td>\n",
       "      <td>world</td>\n",
       "      <td>came</td>\n",
       "      <td>always</td>\n",
       "      <td>gentleman</td>\n",
       "      <td>first</td>\n",
       "      <td>take</td>\n",
       "    </tr>\n",
       "    <tr>\n",
       "      <th>topic8</th>\n",
       "      <td>began</td>\n",
       "      <td>though</td>\n",
       "      <td>two</td>\n",
       "      <td>ever</td>\n",
       "      <td>thought</td>\n",
       "      <td>poor</td>\n",
       "      <td>make</td>\n",
       "      <td>chapter</td>\n",
       "      <td>part</td>\n",
       "      <td>heard</td>\n",
       "    </tr>\n",
       "    <tr>\n",
       "      <th>topic9</th>\n",
       "      <td>peggotty</td>\n",
       "      <td>down</td>\n",
       "      <td>went</td>\n",
       "      <td>aunt</td>\n",
       "      <td>don</td>\n",
       "      <td>here</td>\n",
       "      <td>house</td>\n",
       "      <td>sir</td>\n",
       "      <td>being</td>\n",
       "      <td>myself</td>\n",
       "    </tr>\n",
       "  </tbody>\n",
       "</table>\n",
       "</div>"
      ],
      "text/plain": [
       "           word0    word1   word2    word3    word4    word5     word6  \\\n",
       "topic0   phineas     lord   laura     finn    house  kennedy    violet   \n",
       "topic1       don      can   lopez   course   father     duke     money   \n",
       "topic2       tom  crawley  maggie  osborne  rebecca   amelia  tulliver   \n",
       "topic3     jones   indeed     may    adams    those    these  answered   \n",
       "topic4        it      got   again      can    while   better      look   \n",
       "topic5      adam    hetty    work     eyes     thee   mother     young   \n",
       "topic6     young  captain     sir     over   george      day      went   \n",
       "topic7       our    where   years      way    world     came    always   \n",
       "topic8     began   though     two     ever  thought     poor      make   \n",
       "topic9  peggotty     down    went     aunt      don     here     house   \n",
       "\n",
       "             word7     word8    word9  \n",
       "topic0  parliament  chiltern  nothing  \n",
       "topic1     thought   nothing  wharton  \n",
       "topic2        pitt    dobbin   rawdon  \n",
       "topic3      joseph     being     most  \n",
       "topic4       round     there    quite  \n",
       "topic5      arthur       day     long  \n",
       "topic6      friend      most    house  \n",
       "topic7   gentleman     first     take  \n",
       "topic8     chapter      part    heard  \n",
       "topic9         sir     being   myself  "
      ]
     },
     "execution_count": 17,
     "metadata": {},
     "output_type": "execute_result"
    }
   ],
   "source": [
    "m.topics.iloc[:, :10]"
   ]
  },
  {
   "cell_type": "code",
   "execution_count": 13,
   "metadata": {},
   "outputs": [],
   "source": [
    "v = dariah.topics.visualization.Vis(m)"
   ]
  },
  {
   "cell_type": "code",
   "execution_count": 15,
   "metadata": {},
   "outputs": [
    {
     "data": {
      "text/plain": [
       "<matplotlib.axes._subplots.AxesSubplot at 0x7feb17930978>"
      ]
     },
     "execution_count": 15,
     "metadata": {},
     "output_type": "execute_result"
    },
    {
     "data": {
      "image/png": "[encoded data removed]",
      "text/plain": [
       "<Figure size 432x288 with 2 Axes>"
      ]
     },
     "metadata": {
      "needs_background": "light"
     },
     "output_type": "display_data"
    }
   ],
   "source": [
    "v.topic_document()"
   ]
  }
 ],
 "metadata": {
  "kernelspec": {
   "display_name": "Python 3",
   "language": "python",
   "name": "python3"
  },
  "language_info": {
   "codemirror_mode": {
    "name": "ipython",
    "version": 3
   },
   "file_extension": ".py",
   "mimetype": "text/x-python",
   "name": "python",
   "nbconvert_exporter": "python",
   "pygments_lexer": "ipython3",
   "version": "3.7.2"
  }
 },
 "nbformat": 4,
 "nbformat_minor": 2
}
