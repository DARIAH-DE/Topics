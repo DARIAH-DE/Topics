{
 "cells": [
  {
   "cell_type": "markdown",
   "metadata": {},
   "source": [
    "# Advanced Topic Modeling: Part 2"
   ]
  },
  {
   "cell_type": "code",
   "execution_count": 1,
   "metadata": {},
   "outputs": [],
   "source": [
    "from pathlib import Path\n",
    "\n",
    "import dariah\n",
    "import cophi"
   ]
  },
  {
   "cell_type": "markdown",
   "metadata": {},
   "source": [
    "## Preprocessing a corpus"
   ]
  },
  {
   "cell_type": "code",
   "execution_count": 2,
   "metadata": {},
   "outputs": [],
   "source": [
    "directory = Path(\"data\", \"british-fiction-corpus\")"
   ]
  },
  {
   "cell_type": "code",
   "execution_count": 3,
   "metadata": {},
   "outputs": [],
   "source": [
    "corpus, metadata = cophi.corpus(directory,\n",
    "                                lemma=True,\n",
    "                                pos=[\"NN\"],\n",
    "                                language=\"en\",\n",
    "                                metadata=True)"
   ]
  },
  {
   "cell_type": "code",
   "execution_count": 4,
   "metadata": {},
   "outputs": [
    {
     "data": {
      "text/html": [
       "<div>\n",
       "<style scoped>\n",
       "    .dataframe tbody tr th:only-of-type {\n",
       "        vertical-align: middle;\n",
       "    }\n",
       "\n",
       "    .dataframe tbody tr th {\n",
       "        vertical-align: top;\n",
       "    }\n",
       "\n",
       "    .dataframe thead th {\n",
       "        text-align: right;\n",
       "    }\n",
       "</style>\n",
       "<table border=\"1\" class=\"dataframe\">\n",
       "  <thead>\n",
       "    <tr style=\"text-align: right;\">\n",
       "      <th></th>\n",
       "      <th>filepath</th>\n",
       "      <th>parent</th>\n",
       "      <th>suffix</th>\n",
       "      <th>title</th>\n",
       "      <th>uuid</th>\n",
       "    </tr>\n",
       "  </thead>\n",
       "  <tbody>\n",
       "    <tr>\n",
       "      <th>0</th>\n",
       "      <td>data/british-fiction-corpus/fielding_tom.txt</td>\n",
       "      <td>data/british-fiction-corpus</td>\n",
       "      <td>.txt</td>\n",
       "      <td>fielding_tom</td>\n",
       "      <td>4b0bd7aa-6da1-11e9-bdd2-7c7a9196f28f</td>\n",
       "    </tr>\n",
       "    <tr>\n",
       "      <th>1</th>\n",
       "      <td>data/british-fiction-corpus/thackeray_lyndon.txt</td>\n",
       "      <td>data/british-fiction-corpus</td>\n",
       "      <td>.txt</td>\n",
       "      <td>thackeray_lyndon</td>\n",
       "      <td>72052622-6da1-11e9-bdd2-7c7a9196f28f</td>\n",
       "    </tr>\n",
       "    <tr>\n",
       "      <th>2</th>\n",
       "      <td>data/british-fiction-corpus/fielding_joseph.txt</td>\n",
       "      <td>data/british-fiction-corpus</td>\n",
       "      <td>.txt</td>\n",
       "      <td>fielding_joseph</td>\n",
       "      <td>b1a7baa6-6da1-11e9-bdd2-7c7a9196f28f</td>\n",
       "    </tr>\n",
       "    <tr>\n",
       "      <th>3</th>\n",
       "      <td>data/british-fiction-corpus/dickens_bleak.txt</td>\n",
       "      <td>data/british-fiction-corpus</td>\n",
       "      <td>.txt</td>\n",
       "      <td>dickens_bleak</td>\n",
       "      <td>e1162c78-6da1-11e9-bdd2-7c7a9196f28f</td>\n",
       "    </tr>\n",
       "    <tr>\n",
       "      <th>4</th>\n",
       "      <td>data/british-fiction-corpus/thackeray_vanity.txt</td>\n",
       "      <td>data/british-fiction-corpus</td>\n",
       "      <td>.txt</td>\n",
       "      <td>thackeray_vanity</td>\n",
       "      <td>244ac148-6da2-11e9-bdd2-7c7a9196f28f</td>\n",
       "    </tr>\n",
       "  </tbody>\n",
       "</table>\n",
       "</div>"
      ],
      "text/plain": [
       "                                           filepath  \\\n",
       "0      data/british-fiction-corpus/fielding_tom.txt   \n",
       "1  data/british-fiction-corpus/thackeray_lyndon.txt   \n",
       "2   data/british-fiction-corpus/fielding_joseph.txt   \n",
       "3     data/british-fiction-corpus/dickens_bleak.txt   \n",
       "4  data/british-fiction-corpus/thackeray_vanity.txt   \n",
       "\n",
       "                        parent suffix             title  \\\n",
       "0  data/british-fiction-corpus   .txt      fielding_tom   \n",
       "1  data/british-fiction-corpus   .txt  thackeray_lyndon   \n",
       "2  data/british-fiction-corpus   .txt   fielding_joseph   \n",
       "3  data/british-fiction-corpus   .txt     dickens_bleak   \n",
       "4  data/british-fiction-corpus   .txt  thackeray_vanity   \n",
       "\n",
       "                                   uuid  \n",
       "0  4b0bd7aa-6da1-11e9-bdd2-7c7a9196f28f  \n",
       "1  72052622-6da1-11e9-bdd2-7c7a9196f28f  \n",
       "2  b1a7baa6-6da1-11e9-bdd2-7c7a9196f28f  \n",
       "3  e1162c78-6da1-11e9-bdd2-7c7a9196f28f  \n",
       "4  244ac148-6da2-11e9-bdd2-7c7a9196f28f  "
      ]
     },
     "execution_count": 4,
     "metadata": {},
     "output_type": "execute_result"
    }
   ],
   "source": [
    "metadata.iloc[:5]"
   ]
  },
  {
   "cell_type": "markdown",
   "metadata": {},
   "source": [
    "### Extending metadata"
   ]
  },
  {
   "cell_type": "code",
   "execution_count": 5,
   "metadata": {},
   "outputs": [
    {
     "data": {
      "text/html": [
       "<div>\n",
       "<style scoped>\n",
       "    .dataframe tbody tr th:only-of-type {\n",
       "        vertical-align: middle;\n",
       "    }\n",
       "\n",
       "    .dataframe tbody tr th {\n",
       "        vertical-align: top;\n",
       "    }\n",
       "\n",
       "    .dataframe thead th {\n",
       "        text-align: right;\n",
       "    }\n",
       "</style>\n",
       "<table border=\"1\" class=\"dataframe\">\n",
       "  <thead>\n",
       "    <tr style=\"text-align: right;\">\n",
       "      <th></th>\n",
       "      <th>filepath</th>\n",
       "      <th>parent</th>\n",
       "      <th>suffix</th>\n",
       "      <th>title</th>\n",
       "      <th>uuid</th>\n",
       "      <th>year</th>\n",
       "    </tr>\n",
       "  </thead>\n",
       "  <tbody>\n",
       "    <tr>\n",
       "      <th>0</th>\n",
       "      <td>data/british-fiction-corpus/fielding_tom.txt</td>\n",
       "      <td>data/british-fiction-corpus</td>\n",
       "      <td>.txt</td>\n",
       "      <td>fielding_tom</td>\n",
       "      <td>4b0bd7aa-6da1-11e9-bdd2-7c7a9196f28f</td>\n",
       "      <td>1868</td>\n",
       "    </tr>\n",
       "    <tr>\n",
       "      <th>1</th>\n",
       "      <td>data/british-fiction-corpus/thackeray_lyndon.txt</td>\n",
       "      <td>data/british-fiction-corpus</td>\n",
       "      <td>.txt</td>\n",
       "      <td>thackeray_lyndon</td>\n",
       "      <td>72052622-6da1-11e9-bdd2-7c7a9196f28f</td>\n",
       "      <td>1853</td>\n",
       "    </tr>\n",
       "    <tr>\n",
       "      <th>2</th>\n",
       "      <td>data/british-fiction-corpus/fielding_joseph.txt</td>\n",
       "      <td>data/british-fiction-corpus</td>\n",
       "      <td>.txt</td>\n",
       "      <td>fielding_joseph</td>\n",
       "      <td>b1a7baa6-6da1-11e9-bdd2-7c7a9196f28f</td>\n",
       "      <td>1860</td>\n",
       "    </tr>\n",
       "    <tr>\n",
       "      <th>3</th>\n",
       "      <td>data/british-fiction-corpus/dickens_bleak.txt</td>\n",
       "      <td>data/british-fiction-corpus</td>\n",
       "      <td>.txt</td>\n",
       "      <td>dickens_bleak</td>\n",
       "      <td>e1162c78-6da1-11e9-bdd2-7c7a9196f28f</td>\n",
       "      <td>1799</td>\n",
       "    </tr>\n",
       "    <tr>\n",
       "      <th>4</th>\n",
       "      <td>data/british-fiction-corpus/thackeray_vanity.txt</td>\n",
       "      <td>data/british-fiction-corpus</td>\n",
       "      <td>.txt</td>\n",
       "      <td>thackeray_vanity</td>\n",
       "      <td>244ac148-6da2-11e9-bdd2-7c7a9196f28f</td>\n",
       "      <td>1742</td>\n",
       "    </tr>\n",
       "  </tbody>\n",
       "</table>\n",
       "</div>"
      ],
      "text/plain": [
       "                                           filepath  \\\n",
       "0      data/british-fiction-corpus/fielding_tom.txt   \n",
       "1  data/british-fiction-corpus/thackeray_lyndon.txt   \n",
       "2   data/british-fiction-corpus/fielding_joseph.txt   \n",
       "3     data/british-fiction-corpus/dickens_bleak.txt   \n",
       "4  data/british-fiction-corpus/thackeray_vanity.txt   \n",
       "\n",
       "                        parent suffix             title  \\\n",
       "0  data/british-fiction-corpus   .txt      fielding_tom   \n",
       "1  data/british-fiction-corpus   .txt  thackeray_lyndon   \n",
       "2  data/british-fiction-corpus   .txt   fielding_joseph   \n",
       "3  data/british-fiction-corpus   .txt     dickens_bleak   \n",
       "4  data/british-fiction-corpus   .txt  thackeray_vanity   \n",
       "\n",
       "                                   uuid  year  \n",
       "0  4b0bd7aa-6da1-11e9-bdd2-7c7a9196f28f  1868  \n",
       "1  72052622-6da1-11e9-bdd2-7c7a9196f28f  1853  \n",
       "2  b1a7baa6-6da1-11e9-bdd2-7c7a9196f28f  1860  \n",
       "3  e1162c78-6da1-11e9-bdd2-7c7a9196f28f  1799  \n",
       "4  244ac148-6da2-11e9-bdd2-7c7a9196f28f  1742  "
      ]
     },
     "execution_count": 5,
     "metadata": {},
     "output_type": "execute_result"
    }
   ],
   "source": [
    "metadata[\"year\"] = [1868, 1853, 1860, 1799, 1742, 1749, 1844, 1850, 1876, 1848]\n",
    "metadata.iloc[:5]"
   ]
  },
  {
   "cell_type": "code",
   "execution_count": 6,
   "metadata": {},
   "outputs": [],
   "source": [
    "dtm = corpus.drop(corpus.dtm, corpus.hapax)"
   ]
  },
  {
   "cell_type": "code",
   "execution_count": 7,
   "metadata": {},
   "outputs": [
    {
     "data": {
      "text/html": [
       "<div>\n",
       "<style scoped>\n",
       "    .dataframe tbody tr th:only-of-type {\n",
       "        vertical-align: middle;\n",
       "    }\n",
       "\n",
       "    .dataframe tbody tr th {\n",
       "        vertical-align: top;\n",
       "    }\n",
       "\n",
       "    .dataframe thead th {\n",
       "        text-align: right;\n",
       "    }\n",
       "</style>\n",
       "<table border=\"1\" class=\"dataframe\">\n",
       "  <thead>\n",
       "    <tr style=\"text-align: right;\">\n",
       "      <th></th>\n",
       "      <th>chapter</th>\n",
       "      <th>century</th>\n",
       "      <th>morning</th>\n",
       "      <th>iron</th>\n",
       "      <th>gate</th>\n",
       "      <th>academy</th>\n",
       "      <th>lady</th>\n",
       "      <th>family</th>\n",
       "      <th>coach</th>\n",
       "      <th>horse</th>\n",
       "    </tr>\n",
       "  </thead>\n",
       "  <tbody>\n",
       "    <tr>\n",
       "      <th>1868_fielding_tom</th>\n",
       "      <td>47</td>\n",
       "      <td>7</td>\n",
       "      <td>115</td>\n",
       "      <td>8</td>\n",
       "      <td>11</td>\n",
       "      <td>4</td>\n",
       "      <td>498</td>\n",
       "      <td>249</td>\n",
       "      <td>50</td>\n",
       "      <td>103</td>\n",
       "    </tr>\n",
       "    <tr>\n",
       "      <th>1853_thackeray_lyndon</th>\n",
       "      <td>47</td>\n",
       "      <td>7</td>\n",
       "      <td>115</td>\n",
       "      <td>8</td>\n",
       "      <td>11</td>\n",
       "      <td>4</td>\n",
       "      <td>498</td>\n",
       "      <td>249</td>\n",
       "      <td>50</td>\n",
       "      <td>103</td>\n",
       "    </tr>\n",
       "    <tr>\n",
       "      <th>1860_fielding_joseph</th>\n",
       "      <td>47</td>\n",
       "      <td>7</td>\n",
       "      <td>115</td>\n",
       "      <td>8</td>\n",
       "      <td>11</td>\n",
       "      <td>4</td>\n",
       "      <td>498</td>\n",
       "      <td>249</td>\n",
       "      <td>50</td>\n",
       "      <td>103</td>\n",
       "    </tr>\n",
       "    <tr>\n",
       "      <th>1799_dickens_bleak</th>\n",
       "      <td>47</td>\n",
       "      <td>7</td>\n",
       "      <td>115</td>\n",
       "      <td>8</td>\n",
       "      <td>11</td>\n",
       "      <td>4</td>\n",
       "      <td>498</td>\n",
       "      <td>249</td>\n",
       "      <td>50</td>\n",
       "      <td>103</td>\n",
       "    </tr>\n",
       "    <tr>\n",
       "      <th>1742_thackeray_vanity</th>\n",
       "      <td>47</td>\n",
       "      <td>7</td>\n",
       "      <td>115</td>\n",
       "      <td>8</td>\n",
       "      <td>11</td>\n",
       "      <td>4</td>\n",
       "      <td>498</td>\n",
       "      <td>249</td>\n",
       "      <td>50</td>\n",
       "      <td>103</td>\n",
       "    </tr>\n",
       "  </tbody>\n",
       "</table>\n",
       "</div>"
      ],
      "text/plain": [
       "                       chapter  century  morning  iron  gate  academy  lady  \\\n",
       "1868_fielding_tom           47        7      115     8    11        4   498   \n",
       "1853_thackeray_lyndon       47        7      115     8    11        4   498   \n",
       "1860_fielding_joseph        47        7      115     8    11        4   498   \n",
       "1799_dickens_bleak          47        7      115     8    11        4   498   \n",
       "1742_thackeray_vanity       47        7      115     8    11        4   498   \n",
       "\n",
       "                       family  coach  horse  \n",
       "1868_fielding_tom         249     50    103  \n",
       "1853_thackeray_lyndon     249     50    103  \n",
       "1860_fielding_joseph      249     50    103  \n",
       "1799_dickens_bleak        249     50    103  \n",
       "1742_thackeray_vanity     249     50    103  "
      ]
     },
     "execution_count": 7,
     "metadata": {},
     "output_type": "execute_result"
    }
   ],
   "source": [
    "dtm = corpus.map_metadata(data=dtm,\n",
    "                          metadata=metadata,\n",
    "                          uuid=\"uuid\",\n",
    "                          fields=[\"year\", \"title\"],\n",
    "                          sep=\"_\").fillna(0).astype(int)\n",
    "dtm.iloc[:5,:10]"
   ]
  },
  {
   "cell_type": "markdown",
   "metadata": {},
   "source": [
    "## Training a model"
   ]
  },
  {
   "cell_type": "code",
   "execution_count": 8,
   "metadata": {},
   "outputs": [],
   "source": [
    "model = dariah.core.LDA(num_topics=10,\n",
    "                        num_iterations=1000,\n",
    "                        mallet=\"mallet-2.0.8/bin/mallet\")\n",
    "model.fit(dtm)"
   ]
  },
  {
   "cell_type": "code",
   "execution_count": 9,
   "metadata": {},
   "outputs": [
    {
     "data": {
      "text/html": [
       "<div>\n",
       "<style scoped>\n",
       "    .dataframe tbody tr th:only-of-type {\n",
       "        vertical-align: middle;\n",
       "    }\n",
       "\n",
       "    .dataframe tbody tr th {\n",
       "        vertical-align: top;\n",
       "    }\n",
       "\n",
       "    .dataframe thead th {\n",
       "        text-align: right;\n",
       "    }\n",
       "</style>\n",
       "<table border=\"1\" class=\"dataframe\">\n",
       "  <thead>\n",
       "    <tr style=\"text-align: right;\">\n",
       "      <th></th>\n",
       "      <th>word0</th>\n",
       "      <th>word1</th>\n",
       "      <th>word2</th>\n",
       "      <th>word3</th>\n",
       "      <th>word4</th>\n",
       "    </tr>\n",
       "  </thead>\n",
       "  <tbody>\n",
       "    <tr>\n",
       "      <th>topic0</th>\n",
       "      <td>daughter</td>\n",
       "      <td>girl</td>\n",
       "      <td>news</td>\n",
       "      <td>look</td>\n",
       "      <td>week</td>\n",
       "    </tr>\n",
       "    <tr>\n",
       "      <th>topic1</th>\n",
       "      <td>way</td>\n",
       "      <td>son</td>\n",
       "      <td>friend</td>\n",
       "      <td>mother</td>\n",
       "      <td>day</td>\n",
       "    </tr>\n",
       "    <tr>\n",
       "      <th>topic2</th>\n",
       "      <td>part</td>\n",
       "      <td>country</td>\n",
       "      <td>family</td>\n",
       "      <td>officer</td>\n",
       "      <td>bed</td>\n",
       "    </tr>\n",
       "    <tr>\n",
       "      <th>topic3</th>\n",
       "      <td>night</td>\n",
       "      <td>days</td>\n",
       "      <td>marriage</td>\n",
       "      <td>person</td>\n",
       "      <td>brother</td>\n",
       "    </tr>\n",
       "    <tr>\n",
       "      <th>topic4</th>\n",
       "      <td>lady</td>\n",
       "      <td>heart</td>\n",
       "      <td>dinner</td>\n",
       "      <td>people</td>\n",
       "      <td>head</td>\n",
       "    </tr>\n",
       "    <tr>\n",
       "      <th>topic5</th>\n",
       "      <td>woman</td>\n",
       "      <td>gentleman</td>\n",
       "      <td>love</td>\n",
       "      <td>room</td>\n",
       "      <td>time</td>\n",
       "    </tr>\n",
       "    <tr>\n",
       "      <th>topic6</th>\n",
       "      <td>dear</td>\n",
       "      <td>child</td>\n",
       "      <td>family</td>\n",
       "      <td>wife</td>\n",
       "      <td>eyes</td>\n",
       "    </tr>\n",
       "    <tr>\n",
       "      <th>topic7</th>\n",
       "      <td>money</td>\n",
       "      <td>house</td>\n",
       "      <td>carriage</td>\n",
       "      <td>course</td>\n",
       "      <td>servant</td>\n",
       "    </tr>\n",
       "    <tr>\n",
       "      <th>topic8</th>\n",
       "      <td>place</td>\n",
       "      <td>gentleman</td>\n",
       "      <td>father</td>\n",
       "      <td>pleasure</td>\n",
       "      <td>company</td>\n",
       "    </tr>\n",
       "    <tr>\n",
       "      <th>topic9</th>\n",
       "      <td>day</td>\n",
       "      <td>house</td>\n",
       "      <td>friend</td>\n",
       "      <td>boy</td>\n",
       "      <td>letter</td>\n",
       "    </tr>\n",
       "  </tbody>\n",
       "</table>\n",
       "</div>"
      ],
      "text/plain": [
       "           word0      word1     word2     word3    word4\n",
       "topic0  daughter       girl      news      look     week\n",
       "topic1       way        son    friend    mother      day\n",
       "topic2      part    country    family   officer      bed\n",
       "topic3     night       days  marriage    person  brother\n",
       "topic4      lady      heart    dinner    people     head\n",
       "topic5     woman  gentleman      love      room     time\n",
       "topic6      dear      child    family      wife     eyes\n",
       "topic7     money      house  carriage    course  servant\n",
       "topic8     place  gentleman    father  pleasure  company\n",
       "topic9       day      house    friend       boy   letter"
      ]
     },
     "execution_count": 9,
     "metadata": {},
     "output_type": "execute_result"
    }
   ],
   "source": [
    "model.topics.iloc[:, :5]"
   ]
  },
  {
   "cell_type": "markdown",
   "metadata": {},
   "source": [
    "## Visualizing a model"
   ]
  },
  {
   "cell_type": "code",
   "execution_count": 10,
   "metadata": {},
   "outputs": [],
   "source": [
    "vis = dariah.core.Vis(model)"
   ]
  },
  {
   "cell_type": "code",
   "execution_count": 11,
   "metadata": {},
   "outputs": [
    {
     "data": {
      "text/plain": [
       "<matplotlib.axes._subplots.AxesSubplot at 0x7f04de219160>"
      ]
     },
     "execution_count": 11,
     "metadata": {},
     "output_type": "execute_result"
    },
    {
     "data": {
      "image/png": "[encoded data removed]",
      "text/plain": [
       "<Figure size 432x288 with 2 Axes>"
      ]
     },
     "metadata": {
      "needs_background": "light"
     },
     "output_type": "display_data"
    }
   ],
   "source": [
    "%matplotlib inline\n",
    "\n",
    "vis.topic_document()"
   ]
  }
 ],
 "metadata": {
  "kernelspec": {
   "display_name": "Python 3",
   "language": "python",
   "name": "python3"
  },
  "language_info": {
   "codemirror_mode": {
    "name": "ipython",
    "version": 3
   },
   "file_extension": ".py",
   "mimetype": "text/x-python",
   "name": "python",
   "nbconvert_exporter": "python",
   "pygments_lexer": "ipython3",
   "version": "3.7.2"
  }
 },
 "nbformat": 4,
 "nbformat_minor": 2
}
