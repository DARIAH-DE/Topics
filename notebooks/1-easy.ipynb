{
 "cells": [
  {
   "cell_type": "markdown",
   "metadata": {},
   "source": [
    "# Easy Topic Modeling\n",
    "\n",
    "The text mining technique topic modeling has become a popular procedure for clustering documents into semantic groups. This Jupyter notebook introduces the high-level API of `dariah`, a Python library for topic modeling and visualization.\n",
    "\n",
    "> Topic modeling algorithms are statistical methods that analyze the words of the original texts to discover the themes that run through them, how those themes are connected to each other, and how they change over time. ([David M. Blei](http://www.cs.columbia.edu/~blei/papers/Blei2012.pdf))\n",
    "\n",
    "Getting started is _really easy_. All you have to do is import the library – you can train a model straightaway from raw textfiles."
   ]
  },
  {
   "cell_type": "code",
   "execution_count": 1,
   "metadata": {},
   "outputs": [],
   "source": [
    "import dariah"
   ]
  },
  {
   "cell_type": "markdown",
   "metadata": {},
   "source": [
    "## Training the model"
   ]
  },
  {
   "cell_type": "markdown",
   "metadata": {},
   "source": [
    "Just set four parameters:\n",
    "1. `directory`: The path to your corpus with some plain text files.\n",
    "2. `stopwords`: Either a threshold for the most common words to remove, or a list with tokens.\n",
    "3. `num_topics`: The number of topics.\n",
    "4. `num_iterations`: The number of iterations.\n",
    "\n",
    "The default logging level is `WARNING` – if you want to know which texts are currently being processed, or or how much iterations are still left, set the level to `INFO`:\n",
    "```python\n",
    "import logging\n",
    "logger = logging.getLogger()\n",
    "logger.setLevel(logging.INFO)\n",
    "```\n",
    "\n",
    "However, as a very first step, set the path to your corpus:"
   ]
  },
  {
   "cell_type": "code",
   "execution_count": 2,
   "metadata": {},
   "outputs": [],
   "source": [
    "from pathlib import Path\n",
    "\n",
    "directory = Path(\"data\", \"british-fiction-corpus\")"
   ]
  },
  {
   "cell_type": "markdown",
   "metadata": {},
   "source": [
    "and pass it with additional arguments to the high-level API:"
   ]
  },
  {
   "cell_type": "code",
   "execution_count": 3,
   "metadata": {},
   "outputs": [],
   "source": [
    "model, vis = dariah.topics(directory,\n",
    "                           stopwords=100,\n",
    "                           num_topics=10,\n",
    "                           num_iterations=1000)"
   ]
  },
  {
   "cell_type": "markdown",
   "metadata": {},
   "source": [
    "You get a model object back:"
   ]
  },
  {
   "cell_type": "code",
   "execution_count": 4,
   "metadata": {},
   "outputs": [
    {
     "data": {
      "text/plain": [
       "<Model: LDA, 10 topics, 1000 iterations, alpha=0.1, eta=0.01>"
      ]
     },
     "execution_count": 4,
     "metadata": {},
     "output_type": "execute_result"
    }
   ],
   "source": [
    "model"
   ]
  },
  {
   "cell_type": "markdown",
   "metadata": {},
   "source": [
    "and a visualization object:"
   ]
  },
  {
   "cell_type": "code",
   "execution_count": 5,
   "metadata": {},
   "outputs": [
    {
     "data": {
      "text/plain": [
       "<Visualization: LDA, 10 topics, 1000 iterations, alpha=0.1, eta=0.01>"
      ]
     },
     "execution_count": 5,
     "metadata": {},
     "output_type": "execute_result"
    }
   ],
   "source": [
    "vis"
   ]
  },
  {
   "cell_type": "markdown",
   "metadata": {},
   "source": [
    "## Inspecting the model\n",
    "\n",
    "1. The topic-document distribution\n",
    "2. The topic-word distribution"
   ]
  },
  {
   "cell_type": "code",
   "execution_count": 6,
   "metadata": {},
   "outputs": [
    {
     "data": {
      "text/html": [
       "<div>\n",
       "<style scoped>\n",
       "    .dataframe tbody tr th:only-of-type {\n",
       "        vertical-align: middle;\n",
       "    }\n",
       "\n",
       "    .dataframe tbody tr th {\n",
       "        vertical-align: top;\n",
       "    }\n",
       "\n",
       "    .dataframe thead th {\n",
       "        text-align: right;\n",
       "    }\n",
       "</style>\n",
       "<table border=\"1\" class=\"dataframe\">\n",
       "  <thead>\n",
       "    <tr style=\"text-align: right;\">\n",
       "      <th></th>\n",
       "      <th>fielding_tom</th>\n",
       "      <th>thackeray_lyndon</th>\n",
       "      <th>fielding_joseph</th>\n",
       "      <th>dickens_bleak</th>\n",
       "      <th>thackeray_vanity</th>\n",
       "    </tr>\n",
       "  </thead>\n",
       "  <tbody>\n",
       "    <tr>\n",
       "      <th>topic0</th>\n",
       "      <td>0.000682</td>\n",
       "      <td>0.001562</td>\n",
       "      <td>0.002035</td>\n",
       "      <td>0.003236</td>\n",
       "      <td>0.003315</td>\n",
       "    </tr>\n",
       "    <tr>\n",
       "      <th>topic1</th>\n",
       "      <td>0.059122</td>\n",
       "      <td>0.168477</td>\n",
       "      <td>0.078927</td>\n",
       "      <td>0.252130</td>\n",
       "      <td>0.244239</td>\n",
       "    </tr>\n",
       "    <tr>\n",
       "      <th>topic2</th>\n",
       "      <td>0.421229</td>\n",
       "      <td>0.031775</td>\n",
       "      <td>0.395744</td>\n",
       "      <td>0.017315</td>\n",
       "      <td>0.015220</td>\n",
       "    </tr>\n",
       "    <tr>\n",
       "      <th>topic3</th>\n",
       "      <td>0.000852</td>\n",
       "      <td>0.003076</td>\n",
       "      <td>0.000917</td>\n",
       "      <td>0.306225</td>\n",
       "      <td>0.006143</td>\n",
       "    </tr>\n",
       "    <tr>\n",
       "      <th>topic4</th>\n",
       "      <td>0.003843</td>\n",
       "      <td>0.313530</td>\n",
       "      <td>0.005898</td>\n",
       "      <td>0.007637</td>\n",
       "      <td>0.351244</td>\n",
       "    </tr>\n",
       "    <tr>\n",
       "      <th>topic5</th>\n",
       "      <td>0.229693</td>\n",
       "      <td>0.188390</td>\n",
       "      <td>0.206614</td>\n",
       "      <td>0.233200</td>\n",
       "      <td>0.164346</td>\n",
       "    </tr>\n",
       "    <tr>\n",
       "      <th>topic6</th>\n",
       "      <td>0.282450</td>\n",
       "      <td>0.277078</td>\n",
       "      <td>0.308180</td>\n",
       "      <td>0.171313</td>\n",
       "      <td>0.201200</td>\n",
       "    </tr>\n",
       "    <tr>\n",
       "      <th>topic7</th>\n",
       "      <td>0.001844</td>\n",
       "      <td>0.015808</td>\n",
       "      <td>0.001298</td>\n",
       "      <td>0.004650</td>\n",
       "      <td>0.011452</td>\n",
       "    </tr>\n",
       "    <tr>\n",
       "      <th>topic8</th>\n",
       "      <td>0.000285</td>\n",
       "      <td>0.000301</td>\n",
       "      <td>0.000003</td>\n",
       "      <td>0.003371</td>\n",
       "      <td>0.002608</td>\n",
       "    </tr>\n",
       "    <tr>\n",
       "      <th>topic9</th>\n",
       "      <td>0.000001</td>\n",
       "      <td>0.000002</td>\n",
       "      <td>0.000384</td>\n",
       "      <td>0.000923</td>\n",
       "      <td>0.000233</td>\n",
       "    </tr>\n",
       "  </tbody>\n",
       "</table>\n",
       "</div>"
      ],
      "text/plain": [
       "        fielding_tom  thackeray_lyndon  fielding_joseph  dickens_bleak  \\\n",
       "topic0      0.000682          0.001562         0.002035       0.003236   \n",
       "topic1      0.059122          0.168477         0.078927       0.252130   \n",
       "topic2      0.421229          0.031775         0.395744       0.017315   \n",
       "topic3      0.000852          0.003076         0.000917       0.306225   \n",
       "topic4      0.003843          0.313530         0.005898       0.007637   \n",
       "topic5      0.229693          0.188390         0.206614       0.233200   \n",
       "topic6      0.282450          0.277078         0.308180       0.171313   \n",
       "topic7      0.001844          0.015808         0.001298       0.004650   \n",
       "topic8      0.000285          0.000301         0.000003       0.003371   \n",
       "topic9      0.000001          0.000002         0.000384       0.000923   \n",
       "\n",
       "        thackeray_vanity  \n",
       "topic0          0.003315  \n",
       "topic1          0.244239  \n",
       "topic2          0.015220  \n",
       "topic3          0.006143  \n",
       "topic4          0.351244  \n",
       "topic5          0.164346  \n",
       "topic6          0.201200  \n",
       "topic7          0.011452  \n",
       "topic8          0.002608  \n",
       "topic9          0.000233  "
      ]
     },
     "execution_count": 6,
     "metadata": {},
     "output_type": "execute_result"
    }
   ],
   "source": [
    "model.topic_document.iloc[:, :5]"
   ]
  },
  {
   "cell_type": "code",
   "execution_count": 7,
   "metadata": {},
   "outputs": [
    {
     "data": {
      "text/html": [
       "<div>\n",
       "<style scoped>\n",
       "    .dataframe tbody tr th:only-of-type {\n",
       "        vertical-align: middle;\n",
       "    }\n",
       "\n",
       "    .dataframe tbody tr th {\n",
       "        vertical-align: top;\n",
       "    }\n",
       "\n",
       "    .dataframe thead th {\n",
       "        text-align: right;\n",
       "    }\n",
       "</style>\n",
       "<table border=\"1\" class=\"dataframe\">\n",
       "  <thead>\n",
       "    <tr style=\"text-align: right;\">\n",
       "      <th></th>\n",
       "      <th>a'most</th>\n",
       "      <th>a'ready</th>\n",
       "      <th>a-be</th>\n",
       "      <th>a-bed</th>\n",
       "      <th>a-buzz</th>\n",
       "    </tr>\n",
       "  </thead>\n",
       "  <tbody>\n",
       "    <tr>\n",
       "      <th>topic0</th>\n",
       "      <td>1.659662e-04</td>\n",
       "      <td>2.487423e-04</td>\n",
       "      <td>1.659662e-04</td>\n",
       "      <td>4.138807e-07</td>\n",
       "      <td>8.319003e-05</td>\n",
       "    </tr>\n",
       "    <tr>\n",
       "      <th>topic1</th>\n",
       "      <td>1.006912e-07</td>\n",
       "      <td>1.006912e-07</td>\n",
       "      <td>1.006912e-07</td>\n",
       "      <td>1.006912e-07</td>\n",
       "      <td>1.006912e-07</td>\n",
       "    </tr>\n",
       "    <tr>\n",
       "      <th>topic2</th>\n",
       "      <td>1.902531e-07</td>\n",
       "      <td>1.902531e-07</td>\n",
       "      <td>1.902531e-07</td>\n",
       "      <td>5.726620e-05</td>\n",
       "      <td>1.902531e-07</td>\n",
       "    </tr>\n",
       "    <tr>\n",
       "      <th>topic3</th>\n",
       "      <td>1.072607e-04</td>\n",
       "      <td>2.674830e-07</td>\n",
       "      <td>2.674830e-07</td>\n",
       "      <td>2.674830e-07</td>\n",
       "      <td>2.674830e-07</td>\n",
       "    </tr>\n",
       "    <tr>\n",
       "      <th>topic4</th>\n",
       "      <td>2.057632e-07</td>\n",
       "      <td>2.057632e-07</td>\n",
       "      <td>2.057632e-07</td>\n",
       "      <td>2.057632e-07</td>\n",
       "      <td>2.057632e-07</td>\n",
       "    </tr>\n",
       "    <tr>\n",
       "      <th>topic5</th>\n",
       "      <td>7.074310e-08</td>\n",
       "      <td>7.074310e-08</td>\n",
       "      <td>7.074310e-08</td>\n",
       "      <td>7.074310e-08</td>\n",
       "      <td>7.074310e-08</td>\n",
       "    </tr>\n",
       "    <tr>\n",
       "      <th>topic6</th>\n",
       "      <td>9.662718e-08</td>\n",
       "      <td>9.662718e-08</td>\n",
       "      <td>9.662718e-08</td>\n",
       "      <td>9.662718e-08</td>\n",
       "      <td>9.662718e-08</td>\n",
       "    </tr>\n",
       "    <tr>\n",
       "      <th>topic7</th>\n",
       "      <td>2.667054e-07</td>\n",
       "      <td>2.667054e-07</td>\n",
       "      <td>2.667054e-07</td>\n",
       "      <td>2.667054e-07</td>\n",
       "      <td>2.667054e-07</td>\n",
       "    </tr>\n",
       "    <tr>\n",
       "      <th>topic8</th>\n",
       "      <td>6.395682e-07</td>\n",
       "      <td>1.285532e-04</td>\n",
       "      <td>6.395682e-07</td>\n",
       "      <td>6.395682e-07</td>\n",
       "      <td>6.395682e-07</td>\n",
       "    </tr>\n",
       "    <tr>\n",
       "      <th>topic9</th>\n",
       "      <td>4.462782e-07</td>\n",
       "      <td>4.462782e-07</td>\n",
       "      <td>4.462782e-07</td>\n",
       "      <td>4.462782e-07</td>\n",
       "      <td>4.462782e-07</td>\n",
       "    </tr>\n",
       "  </tbody>\n",
       "</table>\n",
       "</div>"
      ],
      "text/plain": [
       "              a'most       a'ready          a-be         a-bed        a-buzz\n",
       "topic0  1.659662e-04  2.487423e-04  1.659662e-04  4.138807e-07  8.319003e-05\n",
       "topic1  1.006912e-07  1.006912e-07  1.006912e-07  1.006912e-07  1.006912e-07\n",
       "topic2  1.902531e-07  1.902531e-07  1.902531e-07  5.726620e-05  1.902531e-07\n",
       "topic3  1.072607e-04  2.674830e-07  2.674830e-07  2.674830e-07  2.674830e-07\n",
       "topic4  2.057632e-07  2.057632e-07  2.057632e-07  2.057632e-07  2.057632e-07\n",
       "topic5  7.074310e-08  7.074310e-08  7.074310e-08  7.074310e-08  7.074310e-08\n",
       "topic6  9.662718e-08  9.662718e-08  9.662718e-08  9.662718e-08  9.662718e-08\n",
       "topic7  2.667054e-07  2.667054e-07  2.667054e-07  2.667054e-07  2.667054e-07\n",
       "topic8  6.395682e-07  1.285532e-04  6.395682e-07  6.395682e-07  6.395682e-07\n",
       "topic9  4.462782e-07  4.462782e-07  4.462782e-07  4.462782e-07  4.462782e-07"
      ]
     },
     "execution_count": 7,
     "metadata": {},
     "output_type": "execute_result"
    }
   ],
   "source": [
    "model.topic_word.iloc[:, :5]"
   ]
  },
  {
   "cell_type": "code",
   "execution_count": 8,
   "metadata": {},
   "outputs": [
    {
     "data": {
      "text/html": [
       "<div>\n",
       "<style scoped>\n",
       "    .dataframe tbody tr th:only-of-type {\n",
       "        vertical-align: middle;\n",
       "    }\n",
       "\n",
       "    .dataframe tbody tr th {\n",
       "        vertical-align: top;\n",
       "    }\n",
       "\n",
       "    .dataframe thead th {\n",
       "        text-align: right;\n",
       "    }\n",
       "</style>\n",
       "<table border=\"1\" class=\"dataframe\">\n",
       "  <thead>\n",
       "    <tr style=\"text-align: right;\">\n",
       "      <th></th>\n",
       "      <th>word0</th>\n",
       "      <th>word1</th>\n",
       "      <th>word2</th>\n",
       "      <th>word3</th>\n",
       "      <th>word4</th>\n",
       "    </tr>\n",
       "  </thead>\n",
       "  <tbody>\n",
       "    <tr>\n",
       "      <th>topic0</th>\n",
       "      <td>adam</td>\n",
       "      <td>hetty</td>\n",
       "      <td>it's</td>\n",
       "      <td>arthur</td>\n",
       "      <td>poyser</td>\n",
       "    </tr>\n",
       "    <tr>\n",
       "      <th>topic1</th>\n",
       "      <td>went</td>\n",
       "      <td>off</td>\n",
       "      <td>hand</td>\n",
       "      <td>away</td>\n",
       "      <td>too</td>\n",
       "    </tr>\n",
       "    <tr>\n",
       "      <th>topic2</th>\n",
       "      <td>jones</td>\n",
       "      <td>am</td>\n",
       "      <td>adams</td>\n",
       "      <td>indeed</td>\n",
       "      <td>being</td>\n",
       "    </tr>\n",
       "    <tr>\n",
       "      <th>topic3</th>\n",
       "      <td>am</td>\n",
       "      <td>peggotty</td>\n",
       "      <td>don't</td>\n",
       "      <td>sir</td>\n",
       "      <td>down</td>\n",
       "    </tr>\n",
       "    <tr>\n",
       "      <th>topic4</th>\n",
       "      <td>crawley</td>\n",
       "      <td>sir</td>\n",
       "      <td>george</td>\n",
       "      <td>osborne</td>\n",
       "      <td>rebecca</td>\n",
       "    </tr>\n",
       "    <tr>\n",
       "      <th>topic5</th>\n",
       "      <td>can</td>\n",
       "      <td>make</td>\n",
       "      <td>thought</td>\n",
       "      <td>always</td>\n",
       "      <td>may</td>\n",
       "    </tr>\n",
       "    <tr>\n",
       "      <th>topic6</th>\n",
       "      <td>our</td>\n",
       "      <td>these</td>\n",
       "      <td>most</td>\n",
       "      <td>where</td>\n",
       "      <td>young</td>\n",
       "    </tr>\n",
       "    <tr>\n",
       "      <th>topic7</th>\n",
       "      <td>lopez</td>\n",
       "      <td>don't</td>\n",
       "      <td>duke</td>\n",
       "      <td>course</td>\n",
       "      <td>wharton</td>\n",
       "    </tr>\n",
       "    <tr>\n",
       "      <th>topic8</th>\n",
       "      <td>tom</td>\n",
       "      <td>maggie</td>\n",
       "      <td>tulliver</td>\n",
       "      <td>glegg</td>\n",
       "      <td>it's</td>\n",
       "    </tr>\n",
       "    <tr>\n",
       "      <th>topic9</th>\n",
       "      <td>phineas</td>\n",
       "      <td>laura</td>\n",
       "      <td>lord</td>\n",
       "      <td>finn</td>\n",
       "      <td>kennedy</td>\n",
       "    </tr>\n",
       "  </tbody>\n",
       "</table>\n",
       "</div>"
      ],
      "text/plain": [
       "          word0     word1     word2    word3    word4\n",
       "topic0     adam     hetty      it's   arthur   poyser\n",
       "topic1     went       off      hand     away      too\n",
       "topic2    jones        am     adams   indeed    being\n",
       "topic3       am  peggotty     don't      sir     down\n",
       "topic4  crawley       sir    george  osborne  rebecca\n",
       "topic5      can      make   thought   always      may\n",
       "topic6      our     these      most    where    young\n",
       "topic7    lopez     don't      duke   course  wharton\n",
       "topic8      tom    maggie  tulliver    glegg     it's\n",
       "topic9  phineas     laura      lord     finn  kennedy"
      ]
     },
     "execution_count": 8,
     "metadata": {},
     "output_type": "execute_result"
    }
   ],
   "source": [
    "model.topics.iloc[:, :5]"
   ]
  },
  {
   "cell_type": "markdown",
   "metadata": {},
   "source": [
    "## Visualizing the model\n",
    "\n",
    "Visualizing the topic model is as easy as the training was, e.g. plotting the topic-document distribution in a heatmap:"
   ]
  },
  {
   "cell_type": "code",
   "execution_count": 9,
   "metadata": {},
   "outputs": [
    {
     "data": {
      "text/plain": [
       "<matplotlib.axes._subplots.AxesSubplot at 0x7f2829948710>"
      ]
     },
     "execution_count": 9,
     "metadata": {},
     "output_type": "execute_result"
    },
    {
     "data": {
      "image/png": "[encoded data removed]",
      "text/plain": [
       "<Figure size 432x288 with 2 Axes>"
      ]
     },
     "metadata": {
      "needs_background": "light"
     },
     "output_type": "display_data"
    }
   ],
   "source": [
    "%matplotlib inline\n",
    "\n",
    "vis.topic_document()"
   ]
  },
  {
   "cell_type": "markdown",
   "metadata": {},
   "source": [
    "or visualizing how _dominant_ specific words are in a topic:"
   ]
  },
  {
   "cell_type": "code",
   "execution_count": 10,
   "metadata": {},
   "outputs": [
    {
     "data": {
      "image/png": "[encoded data removed]",
      "text/plain": [
       "<Figure size 432x288 with 2 Axes>"
      ]
     },
     "metadata": {
      "needs_background": "light"
     },
     "output_type": "display_data"
    }
   ],
   "source": [
    "vis.topic_word(words=[\"girl\", \"boy\", \"wife\", \"husband\"])"
   ]
  },
  {
   "cell_type": "markdown",
   "metadata": {},
   "source": [
    "How topics are distributed in a document:"
   ]
  },
  {
   "cell_type": "code",
   "execution_count": 11,
   "metadata": {},
   "outputs": [
    {
     "data": {
      "text/plain": [
       "<matplotlib.axes._subplots.AxesSubplot at 0x7f282988c668>"
      ]
     },
     "execution_count": 11,
     "metadata": {},
     "output_type": "execute_result"
    },
    {
     "data": {
      "image/png": "[encoded data removed]",
      "text/plain": [
       "<Figure size 432x288 with 1 Axes>"
      ]
     },
     "metadata": {
      "needs_background": "light"
     },
     "output_type": "display_data"
    }
   ],
   "source": [
    "vis.document(\"dickens_bleak\")"
   ]
  },
  {
   "cell_type": "markdown",
   "metadata": {},
   "source": [
    "or words in a topic:"
   ]
  },
  {
   "cell_type": "code",
   "execution_count": 12,
   "metadata": {},
   "outputs": [
    {
     "data": {
      "text/plain": [
       "<matplotlib.axes._subplots.AxesSubplot at 0x7f2829885ba8>"
      ]
     },
     "execution_count": 12,
     "metadata": {},
     "output_type": "execute_result"
    },
    {
     "data": {
      "image/png": "[encoded data removed]",
      "text/plain": [
       "<Figure size 432x288 with 1 Axes>"
      ]
     },
     "metadata": {
      "needs_background": "light"
     },
     "output_type": "display_data"
    }
   ],
   "source": [
    "vis.topic(\"topic0\")"
   ]
  },
  {
   "cell_type": "markdown",
   "metadata": {},
   "source": [
    "## Advanced topic modeling\n",
    "\n",
    "Check out the other notebooks for more advanced topic modeling."
   ]
  }
 ],
 "metadata": {
  "kernelspec": {
   "display_name": "Python 3",
   "language": "python",
   "name": "python3"
  },
  "language_info": {
   "codemirror_mode": {
    "name": "ipython",
    "version": 3
   },
   "file_extension": ".py",
   "mimetype": "text/x-python",
   "name": "python",
   "nbconvert_exporter": "python",
   "pygments_lexer": "ipython3",
   "version": "3.7.2"
  }
 },
 "nbformat": 4,
 "nbformat_minor": 2
}
