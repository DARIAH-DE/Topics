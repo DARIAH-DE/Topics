{
 "cells": [
  {
   "cell_type": "markdown",
   "metadata": {},
   "source": [
    "# Easy Topic Modeling\n",
    "\n",
    "The text mining technique topic modeling has become a popular procedure for clustering documents into semantic groups. This Jupyter notebook introduces the high-level API of `dariah`, a Python library for natural language processing, topic modeling and visualization.\n",
    "\n",
    "> Topic modeling algorithms are statistical methods that analyze the words of the original texts to discover the themes that run through them, how those themes are connected to each other, and how they change over time. ([David M. Blei](http://www.cs.columbia.edu/~blei/papers/Blei2012.pdf))\n",
    "\n",
    "Getting started is _really easy_. All you have to do is import the library – you can train a model straightaway from raw textfiles."
   ]
  },
  {
   "cell_type": "code",
   "execution_count": 1,
   "metadata": {},
   "outputs": [],
   "source": [
    "import dariah"
   ]
  },
  {
   "cell_type": "markdown",
   "metadata": {},
   "source": [
    "## Training the model"
   ]
  },
  {
   "cell_type": "markdown",
   "metadata": {},
   "source": [
    "Just set four parameters:\n",
    "1. `directory`: The path to your corpus with some plain text files.\n",
    "2. `stopwords`: Either a threshold for the most common words to remove, or a list with tokens.\n",
    "3. `num_topics`: The number of topics.\n",
    "4. `num_iterations`: The number of iterations."
   ]
  },
  {
   "cell_type": "code",
   "execution_count": 2,
   "metadata": {},
   "outputs": [],
   "source": [
    "m, v = dariah.topicmodel(directory=\"data/british-fiction-corpus\",\n",
    "                         stopwords=100,\n",
    "                         num_topics=10,\n",
    "                         num_iterations=1000)"
   ]
  },
  {
   "cell_type": "markdown",
   "metadata": {},
   "source": [
    "You get a model object back:"
   ]
  },
  {
   "cell_type": "code",
   "execution_count": 3,
   "metadata": {},
   "outputs": [
    {
     "data": {
      "text/plain": [
       "<Model: LDA, 10 topics, 1000 iterations, alpha=0.1, eta=0.01>"
      ]
     },
     "execution_count": 3,
     "metadata": {},
     "output_type": "execute_result"
    }
   ],
   "source": [
    "m"
   ]
  },
  {
   "cell_type": "markdown",
   "metadata": {},
   "source": [
    "and a visualization object:"
   ]
  },
  {
   "cell_type": "code",
   "execution_count": 4,
   "metadata": {},
   "outputs": [
    {
     "data": {
      "text/plain": [
       "<Visualization: LDA, 10 topics, 1000 iterations, alpha=0.1, eta=0.01>"
      ]
     },
     "execution_count": 4,
     "metadata": {},
     "output_type": "execute_result"
    }
   ],
   "source": [
    "v"
   ]
  },
  {
   "cell_type": "markdown",
   "metadata": {},
   "source": [
    "## Inspecting the model\n",
    "\n",
    "1. The topic-document distribution\n",
    "2. The topic-word distribution"
   ]
  },
  {
   "cell_type": "code",
   "execution_count": 5,
   "metadata": {},
   "outputs": [
    {
     "data": {
      "text/html": [
       "<div>\n",
       "<style scoped>\n",
       "    .dataframe tbody tr th:only-of-type {\n",
       "        vertical-align: middle;\n",
       "    }\n",
       "\n",
       "    .dataframe tbody tr th {\n",
       "        vertical-align: top;\n",
       "    }\n",
       "\n",
       "    .dataframe thead th {\n",
       "        text-align: right;\n",
       "    }\n",
       "</style>\n",
       "<table border=\"1\" class=\"dataframe\">\n",
       "  <thead>\n",
       "    <tr style=\"text-align: right;\">\n",
       "      <th></th>\n",
       "      <th>fielding_tom</th>\n",
       "      <th>thackeray_lyndon</th>\n",
       "      <th>fielding_joseph</th>\n",
       "      <th>dickens_bleak</th>\n",
       "      <th>thackeray_vanity</th>\n",
       "    </tr>\n",
       "  </thead>\n",
       "  <tbody>\n",
       "    <tr>\n",
       "      <th>topic0</th>\n",
       "      <td>0.384688</td>\n",
       "      <td>0.282721</td>\n",
       "      <td>0.355036</td>\n",
       "      <td>0.284421</td>\n",
       "      <td>0.238761</td>\n",
       "    </tr>\n",
       "    <tr>\n",
       "      <th>topic1</th>\n",
       "      <td>0.000923</td>\n",
       "      <td>0.010050</td>\n",
       "      <td>0.004170</td>\n",
       "      <td>0.364765</td>\n",
       "      <td>0.022386</td>\n",
       "    </tr>\n",
       "    <tr>\n",
       "      <th>topic2</th>\n",
       "      <td>0.136725</td>\n",
       "      <td>0.198759</td>\n",
       "      <td>0.158767</td>\n",
       "      <td>0.278582</td>\n",
       "      <td>0.252312</td>\n",
       "    </tr>\n",
       "    <tr>\n",
       "      <th>topic3</th>\n",
       "      <td>0.001079</td>\n",
       "      <td>0.021498</td>\n",
       "      <td>0.000816</td>\n",
       "      <td>0.003865</td>\n",
       "      <td>0.310126</td>\n",
       "    </tr>\n",
       "    <tr>\n",
       "      <th>topic4</th>\n",
       "      <td>0.000568</td>\n",
       "      <td>0.000828</td>\n",
       "      <td>0.000003</td>\n",
       "      <td>0.003034</td>\n",
       "      <td>0.002576</td>\n",
       "    </tr>\n",
       "    <tr>\n",
       "      <th>topic5</th>\n",
       "      <td>0.028562</td>\n",
       "      <td>0.422612</td>\n",
       "      <td>0.036644</td>\n",
       "      <td>0.027645</td>\n",
       "      <td>0.132832</td>\n",
       "    </tr>\n",
       "    <tr>\n",
       "      <th>topic6</th>\n",
       "      <td>0.444829</td>\n",
       "      <td>0.045562</td>\n",
       "      <td>0.440059</td>\n",
       "      <td>0.028116</td>\n",
       "      <td>0.027610</td>\n",
       "    </tr>\n",
       "    <tr>\n",
       "      <th>topic7</th>\n",
       "      <td>0.000001</td>\n",
       "      <td>0.000002</td>\n",
       "      <td>0.000003</td>\n",
       "      <td>0.001799</td>\n",
       "      <td>0.000022</td>\n",
       "    </tr>\n",
       "    <tr>\n",
       "      <th>topic8</th>\n",
       "      <td>0.000597</td>\n",
       "      <td>0.001058</td>\n",
       "      <td>0.001680</td>\n",
       "      <td>0.004044</td>\n",
       "      <td>0.003811</td>\n",
       "    </tr>\n",
       "    <tr>\n",
       "      <th>topic9</th>\n",
       "      <td>0.002028</td>\n",
       "      <td>0.016909</td>\n",
       "      <td>0.002823</td>\n",
       "      <td>0.003730</td>\n",
       "      <td>0.009563</td>\n",
       "    </tr>\n",
       "  </tbody>\n",
       "</table>\n",
       "</div>"
      ],
      "text/plain": [
       "        fielding_tom  thackeray_lyndon  fielding_joseph  dickens_bleak  \\\n",
       "topic0      0.384688          0.282721         0.355036       0.284421   \n",
       "topic1      0.000923          0.010050         0.004170       0.364765   \n",
       "topic2      0.136725          0.198759         0.158767       0.278582   \n",
       "topic3      0.001079          0.021498         0.000816       0.003865   \n",
       "topic4      0.000568          0.000828         0.000003       0.003034   \n",
       "topic5      0.028562          0.422612         0.036644       0.027645   \n",
       "topic6      0.444829          0.045562         0.440059       0.028116   \n",
       "topic7      0.000001          0.000002         0.000003       0.001799   \n",
       "topic8      0.000597          0.001058         0.001680       0.004044   \n",
       "topic9      0.002028          0.016909         0.002823       0.003730   \n",
       "\n",
       "        thackeray_vanity  \n",
       "topic0          0.238761  \n",
       "topic1          0.022386  \n",
       "topic2          0.252312  \n",
       "topic3          0.310126  \n",
       "topic4          0.002576  \n",
       "topic5          0.132832  \n",
       "topic6          0.027610  \n",
       "topic7          0.000022  \n",
       "topic8          0.003811  \n",
       "topic9          0.009563  "
      ]
     },
     "execution_count": 5,
     "metadata": {},
     "output_type": "execute_result"
    }
   ],
   "source": [
    "m.topic_document.iloc[:, :5]"
   ]
  },
  {
   "cell_type": "code",
   "execution_count": 6,
   "metadata": {},
   "outputs": [
    {
     "data": {
      "text/html": [
       "<div>\n",
       "<style scoped>\n",
       "    .dataframe tbody tr th:only-of-type {\n",
       "        vertical-align: middle;\n",
       "    }\n",
       "\n",
       "    .dataframe tbody tr th {\n",
       "        vertical-align: top;\n",
       "    }\n",
       "\n",
       "    .dataframe thead th {\n",
       "        text-align: right;\n",
       "    }\n",
       "</style>\n",
       "<table border=\"1\" class=\"dataframe\">\n",
       "  <thead>\n",
       "    <tr style=\"text-align: right;\">\n",
       "      <th></th>\n",
       "      <th>a'most</th>\n",
       "      <th>a'ready</th>\n",
       "      <th>a-be</th>\n",
       "      <th>a-bed</th>\n",
       "      <th>a-buzz</th>\n",
       "    </tr>\n",
       "  </thead>\n",
       "  <tbody>\n",
       "    <tr>\n",
       "      <th>topic0</th>\n",
       "      <td>5.568036e-08</td>\n",
       "      <td>5.568036e-08</td>\n",
       "      <td>5.568036e-08</td>\n",
       "      <td>1.675979e-05</td>\n",
       "      <td>5.568036e-08</td>\n",
       "    </tr>\n",
       "    <tr>\n",
       "      <th>topic1</th>\n",
       "      <td>1.649249e-04</td>\n",
       "      <td>2.058988e-07</td>\n",
       "      <td>2.058988e-07</td>\n",
       "      <td>2.058988e-07</td>\n",
       "      <td>2.058988e-07</td>\n",
       "    </tr>\n",
       "    <tr>\n",
       "      <th>topic2</th>\n",
       "      <td>8.052207e-08</td>\n",
       "      <td>8.052207e-08</td>\n",
       "      <td>8.052207e-08</td>\n",
       "      <td>8.052207e-08</td>\n",
       "      <td>8.052207e-08</td>\n",
       "    </tr>\n",
       "    <tr>\n",
       "      <th>topic3</th>\n",
       "      <td>3.208877e-07</td>\n",
       "      <td>3.208877e-07</td>\n",
       "      <td>3.208877e-07</td>\n",
       "      <td>3.208877e-07</td>\n",
       "      <td>3.208877e-07</td>\n",
       "    </tr>\n",
       "    <tr>\n",
       "      <th>topic4</th>\n",
       "      <td>5.961767e-07</td>\n",
       "      <td>5.961767e-07</td>\n",
       "      <td>5.961767e-07</td>\n",
       "      <td>5.961767e-07</td>\n",
       "      <td>5.961767e-07</td>\n",
       "    </tr>\n",
       "    <tr>\n",
       "      <th>topic5</th>\n",
       "      <td>2.476072e-07</td>\n",
       "      <td>2.476072e-07</td>\n",
       "      <td>2.476072e-07</td>\n",
       "      <td>2.476072e-07</td>\n",
       "      <td>2.476072e-07</td>\n",
       "    </tr>\n",
       "    <tr>\n",
       "      <th>topic6</th>\n",
       "      <td>1.687663e-07</td>\n",
       "      <td>1.687663e-07</td>\n",
       "      <td>1.687663e-07</td>\n",
       "      <td>1.687663e-07</td>\n",
       "      <td>1.687663e-07</td>\n",
       "    </tr>\n",
       "    <tr>\n",
       "      <th>topic7</th>\n",
       "      <td>4.448488e-07</td>\n",
       "      <td>4.448488e-07</td>\n",
       "      <td>4.448488e-07</td>\n",
       "      <td>4.448488e-07</td>\n",
       "      <td>4.448488e-07</td>\n",
       "    </tr>\n",
       "    <tr>\n",
       "      <th>topic8</th>\n",
       "      <td>3.982073e-07</td>\n",
       "      <td>3.189640e-04</td>\n",
       "      <td>1.596811e-04</td>\n",
       "      <td>3.982073e-07</td>\n",
       "      <td>8.003966e-05</td>\n",
       "    </tr>\n",
       "    <tr>\n",
       "      <th>topic9</th>\n",
       "      <td>2.866681e-07</td>\n",
       "      <td>2.866681e-07</td>\n",
       "      <td>2.866681e-07</td>\n",
       "      <td>2.866681e-07</td>\n",
       "      <td>2.866681e-07</td>\n",
       "    </tr>\n",
       "  </tbody>\n",
       "</table>\n",
       "</div>"
      ],
      "text/plain": [
       "              a'most       a'ready          a-be         a-bed        a-buzz\n",
       "topic0  5.568036e-08  5.568036e-08  5.568036e-08  1.675979e-05  5.568036e-08\n",
       "topic1  1.649249e-04  2.058988e-07  2.058988e-07  2.058988e-07  2.058988e-07\n",
       "topic2  8.052207e-08  8.052207e-08  8.052207e-08  8.052207e-08  8.052207e-08\n",
       "topic3  3.208877e-07  3.208877e-07  3.208877e-07  3.208877e-07  3.208877e-07\n",
       "topic4  5.961767e-07  5.961767e-07  5.961767e-07  5.961767e-07  5.961767e-07\n",
       "topic5  2.476072e-07  2.476072e-07  2.476072e-07  2.476072e-07  2.476072e-07\n",
       "topic6  1.687663e-07  1.687663e-07  1.687663e-07  1.687663e-07  1.687663e-07\n",
       "topic7  4.448488e-07  4.448488e-07  4.448488e-07  4.448488e-07  4.448488e-07\n",
       "topic8  3.982073e-07  3.189640e-04  1.596811e-04  3.982073e-07  8.003966e-05\n",
       "topic9  2.866681e-07  2.866681e-07  2.866681e-07  2.866681e-07  2.866681e-07"
      ]
     },
     "execution_count": 6,
     "metadata": {},
     "output_type": "execute_result"
    }
   ],
   "source": [
    "m.topic_word.iloc[:, :5]"
   ]
  },
  {
   "cell_type": "code",
   "execution_count": 8,
   "metadata": {},
   "outputs": [
    {
     "data": {
      "text/html": [
       "<div>\n",
       "<style scoped>\n",
       "    .dataframe tbody tr th:only-of-type {\n",
       "        vertical-align: middle;\n",
       "    }\n",
       "\n",
       "    .dataframe tbody tr th {\n",
       "        vertical-align: top;\n",
       "    }\n",
       "\n",
       "    .dataframe thead th {\n",
       "        text-align: right;\n",
       "    }\n",
       "</style>\n",
       "<table border=\"1\" class=\"dataframe\">\n",
       "  <thead>\n",
       "    <tr style=\"text-align: right;\">\n",
       "      <th></th>\n",
       "      <th>word0</th>\n",
       "      <th>word1</th>\n",
       "      <th>word2</th>\n",
       "      <th>word3</th>\n",
       "      <th>word4</th>\n",
       "    </tr>\n",
       "  </thead>\n",
       "  <tbody>\n",
       "    <tr>\n",
       "      <th>topic0</th>\n",
       "      <td>may</td>\n",
       "      <td>can</td>\n",
       "      <td>house</td>\n",
       "      <td>without</td>\n",
       "      <td>though</td>\n",
       "    </tr>\n",
       "    <tr>\n",
       "      <th>topic1</th>\n",
       "      <td>am</td>\n",
       "      <td>peggotty</td>\n",
       "      <td>went</td>\n",
       "      <td>don't</td>\n",
       "      <td>aunt</td>\n",
       "    </tr>\n",
       "    <tr>\n",
       "      <th>topic2</th>\n",
       "      <td>two</td>\n",
       "      <td>away</td>\n",
       "      <td>day</td>\n",
       "      <td>our</td>\n",
       "      <td>young</td>\n",
       "    </tr>\n",
       "    <tr>\n",
       "      <th>topic3</th>\n",
       "      <td>crawley</td>\n",
       "      <td>sir</td>\n",
       "      <td>george</td>\n",
       "      <td>osborne</td>\n",
       "      <td>rebecca</td>\n",
       "    </tr>\n",
       "    <tr>\n",
       "      <th>topic4</th>\n",
       "      <td>tom</td>\n",
       "      <td>maggie</td>\n",
       "      <td>tulliver</td>\n",
       "      <td>glegg</td>\n",
       "      <td>it's</td>\n",
       "    </tr>\n",
       "    <tr>\n",
       "      <th>topic5</th>\n",
       "      <td>captain</td>\n",
       "      <td>young</td>\n",
       "      <td>our</td>\n",
       "      <td>lord</td>\n",
       "      <td>where</td>\n",
       "    </tr>\n",
       "    <tr>\n",
       "      <th>topic6</th>\n",
       "      <td>jones</td>\n",
       "      <td>indeed</td>\n",
       "      <td>adams</td>\n",
       "      <td>am</td>\n",
       "      <td>answered</td>\n",
       "    </tr>\n",
       "    <tr>\n",
       "      <th>topic7</th>\n",
       "      <td>phineas</td>\n",
       "      <td>laura</td>\n",
       "      <td>lord</td>\n",
       "      <td>finn</td>\n",
       "      <td>kennedy</td>\n",
       "    </tr>\n",
       "    <tr>\n",
       "      <th>topic8</th>\n",
       "      <td>adam</td>\n",
       "      <td>hetty</td>\n",
       "      <td>it's</td>\n",
       "      <td>arthur</td>\n",
       "      <td>poyser</td>\n",
       "    </tr>\n",
       "    <tr>\n",
       "      <th>topic9</th>\n",
       "      <td>lopez</td>\n",
       "      <td>duke</td>\n",
       "      <td>course</td>\n",
       "      <td>don't</td>\n",
       "      <td>wharton</td>\n",
       "    </tr>\n",
       "  </tbody>\n",
       "</table>\n",
       "</div>"
      ],
      "text/plain": [
       "          word0     word1     word2    word3     word4\n",
       "topic0      may       can     house  without    though\n",
       "topic1       am  peggotty      went    don't      aunt\n",
       "topic2      two      away       day      our     young\n",
       "topic3  crawley       sir    george  osborne   rebecca\n",
       "topic4      tom    maggie  tulliver    glegg      it's\n",
       "topic5  captain     young       our     lord     where\n",
       "topic6    jones    indeed     adams       am  answered\n",
       "topic7  phineas     laura      lord     finn   kennedy\n",
       "topic8     adam     hetty      it's   arthur    poyser\n",
       "topic9    lopez      duke    course    don't   wharton"
      ]
     },
     "execution_count": 8,
     "metadata": {},
     "output_type": "execute_result"
    }
   ],
   "source": [
    "m.topics.iloc[:, :5]"
   ]
  },
  {
   "cell_type": "markdown",
   "metadata": {},
   "source": [
    "## Visualizing the model"
   ]
  },
  {
   "cell_type": "code",
   "execution_count": 9,
   "metadata": {},
   "outputs": [
    {
     "data": {
      "text/plain": [
       "<matplotlib.axes._subplots.AxesSubplot at 0x7f515e3b5f28>"
      ]
     },
     "execution_count": 9,
     "metadata": {},
     "output_type": "execute_result"
    },
    {
     "data": {
      "image/png": "[encoded data removed]",
      "text/plain": [
       "<Figure size 432x288 with 2 Axes>"
      ]
     },
     "metadata": {
      "needs_background": "light"
     },
     "output_type": "display_data"
    }
   ],
   "source": [
    "%matplotlib inline\n",
    "\n",
    "v.topic_document()"
   ]
  },
  {
   "cell_type": "code",
   "execution_count": 10,
   "metadata": {},
   "outputs": [
    {
     "data": {
      "image/png": "[encoded data removed]",
      "text/plain": [
       "<Figure size 432x288 with 2 Axes>"
      ]
     },
     "metadata": {
      "needs_background": "light"
     },
     "output_type": "display_data"
    }
   ],
   "source": [
    "v.topic_word(words=[\"girl\", \"boy\", \"wife\", \"husband\"])"
   ]
  },
  {
   "cell_type": "code",
   "execution_count": 11,
   "metadata": {},
   "outputs": [
    {
     "data": {
      "text/plain": [
       "<matplotlib.axes._subplots.AxesSubplot at 0x7f515e2fd550>"
      ]
     },
     "execution_count": 11,
     "metadata": {},
     "output_type": "execute_result"
    },
    {
     "data": {
      "image/png": "[encoded data removed]",
      "text/plain": [
       "<Figure size 432x288 with 1 Axes>"
      ]
     },
     "metadata": {
      "needs_background": "light"
     },
     "output_type": "display_data"
    }
   ],
   "source": [
    "v.document(\"dickens_bleak\")"
   ]
  },
  {
   "cell_type": "code",
   "execution_count": 12,
   "metadata": {},
   "outputs": [
    {
     "data": {
      "text/plain": [
       "<matplotlib.axes._subplots.AxesSubplot at 0x7f515e2c06a0>"
      ]
     },
     "execution_count": 12,
     "metadata": {},
     "output_type": "execute_result"
    },
    {
     "data": {
      "image/png": "[encoded data removed]",
      "text/plain": [
       "<Figure size 432x288 with 1 Axes>"
      ]
     },
     "metadata": {
      "needs_background": "light"
     },
     "output_type": "display_data"
    }
   ],
   "source": [
    "v.topic(\"topic0\")"
   ]
  },
  {
   "cell_type": "markdown",
   "metadata": {},
   "source": [
    "## Advanced topic modeling\n",
    "\n",
    "Check out the other notebooks."
   ]
  }
 ],
 "metadata": {
  "kernelspec": {
   "display_name": "Python 3",
   "language": "python",
   "name": "python3"
  },
  "language_info": {
   "codemirror_mode": {
    "name": "ipython",
    "version": 3
   },
   "file_extension": ".py",
   "mimetype": "text/x-python",
   "name": "python",
   "nbconvert_exporter": "python",
   "pygments_lexer": "ipython3",
   "version": "3.7.2"
  }
 },
 "nbformat": 4,
 "nbformat_minor": 2
}
