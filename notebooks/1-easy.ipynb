{
 "cells": [
  {
   "cell_type": "markdown",
   "metadata": {},
   "source": [
    "# Easy Topic Modeling\n",
    "\n",
    "The text mining technique topic modeling has become a popular procedure for clustering documents into semantic groups. This Jupyter notebook introduces the high-level API of `dariah`, a Python library for topic modeling and visualization.\n",
    "\n",
    "> Topic modeling algorithms are statistical methods that analyze the words of the original texts to discover the themes that run through them, how those themes are connected to each other, and how they change over time. ([David M. Blei](http://www.cs.columbia.edu/~blei/papers/Blei2012.pdf))\n",
    "\n",
    "Getting started is _really easy_. All you have to do is import the library – you can train a model straightaway from raw textfiles."
   ]
  },
  {
   "cell_type": "code",
   "execution_count": 1,
   "metadata": {},
   "outputs": [],
   "source": [
    "import dariah"
   ]
  },
  {
   "cell_type": "markdown",
   "metadata": {},
   "source": [
    "## Training the model"
   ]
  },
  {
   "cell_type": "markdown",
   "metadata": {},
   "source": [
    "Just set four parameters:\n",
    "1. `directory`: The path to your corpus with some plain text files.\n",
    "2. `stopwords`: Either a threshold for the most common words to remove, or a list with tokens.\n",
    "3. `num_topics`: The number of topics.\n",
    "4. `num_iterations`: The number of iterations.\n",
    "\n",
    "The default logging level is `WARNING` – if you want to know which texts are currently being processed, or or how much iterations are still left, set the level to `INFO`:\n",
    "```python\n",
    "import logging\n",
    "logger = logging.getLogger()\n",
    "logger.setLevel(logging.INFO)\n",
    "```"
   ]
  },
  {
   "cell_type": "code",
   "execution_count": 2,
   "metadata": {},
   "outputs": [],
   "source": [
    "model, vis = dariah.topics(directory=\"data/british-fiction-corpus\",\n",
    "                           stopwords=100,\n",
    "                           num_topics=10,\n",
    "                           num_iterations=1000)"
   ]
  },
  {
   "cell_type": "markdown",
   "metadata": {},
   "source": [
    "You get a model object back:"
   ]
  },
  {
   "cell_type": "code",
   "execution_count": 3,
   "metadata": {},
   "outputs": [
    {
     "data": {
      "text/plain": [
       "<Model: LDA, 10 topics, 1000 iterations, alpha=0.1, eta=0.01>"
      ]
     },
     "execution_count": 3,
     "metadata": {},
     "output_type": "execute_result"
    }
   ],
   "source": [
    "model"
   ]
  },
  {
   "cell_type": "markdown",
   "metadata": {},
   "source": [
    "and a visualization object:"
   ]
  },
  {
   "cell_type": "code",
   "execution_count": 3,
   "metadata": {},
   "outputs": [
    {
     "data": {
      "text/plain": [
       "<Visualization: LDA, 10 topics, 1000 iterations, alpha=0.1, eta=0.01>"
      ]
     },
     "execution_count": 3,
     "metadata": {},
     "output_type": "execute_result"
    }
   ],
   "source": [
    "vis"
   ]
  },
  {
   "cell_type": "markdown",
   "metadata": {},
   "source": [
    "## Inspecting the model\n",
    "\n",
    "1. The topic-document distribution\n",
    "2. The topic-word distribution"
   ]
  },
  {
   "cell_type": "code",
   "execution_count": 4,
   "metadata": {},
   "outputs": [
    {
     "data": {
      "text/html": [
       "<div>\n",
       "<style scoped>\n",
       "    .dataframe tbody tr th:only-of-type {\n",
       "        vertical-align: middle;\n",
       "    }\n",
       "\n",
       "    .dataframe tbody tr th {\n",
       "        vertical-align: top;\n",
       "    }\n",
       "\n",
       "    .dataframe thead th {\n",
       "        text-align: right;\n",
       "    }\n",
       "</style>\n",
       "<table border=\"1\" class=\"dataframe\">\n",
       "  <thead>\n",
       "    <tr style=\"text-align: right;\">\n",
       "      <th></th>\n",
       "      <th>fielding_tom</th>\n",
       "      <th>thackeray_lyndon</th>\n",
       "      <th>fielding_joseph</th>\n",
       "      <th>dickens_bleak</th>\n",
       "      <th>thackeray_vanity</th>\n",
       "    </tr>\n",
       "  </thead>\n",
       "  <tbody>\n",
       "    <tr>\n",
       "      <th>topic0</th>\n",
       "      <td>0.019675</td>\n",
       "      <td>0.379828</td>\n",
       "      <td>0.024981</td>\n",
       "      <td>0.013049</td>\n",
       "      <td>0.101002</td>\n",
       "    </tr>\n",
       "    <tr>\n",
       "      <th>topic1</th>\n",
       "      <td>0.000001</td>\n",
       "      <td>0.011358</td>\n",
       "      <td>0.000866</td>\n",
       "      <td>0.004673</td>\n",
       "      <td>0.004719</td>\n",
       "    </tr>\n",
       "    <tr>\n",
       "      <th>topic2</th>\n",
       "      <td>0.128929</td>\n",
       "      <td>0.252990</td>\n",
       "      <td>0.164484</td>\n",
       "      <td>0.283949</td>\n",
       "      <td>0.295530</td>\n",
       "    </tr>\n",
       "    <tr>\n",
       "      <th>topic3</th>\n",
       "      <td>0.000427</td>\n",
       "      <td>0.014684</td>\n",
       "      <td>0.000180</td>\n",
       "      <td>0.003168</td>\n",
       "      <td>0.283267</td>\n",
       "    </tr>\n",
       "    <tr>\n",
       "      <th>topic4</th>\n",
       "      <td>0.004239</td>\n",
       "      <td>0.014088</td>\n",
       "      <td>0.006126</td>\n",
       "      <td>0.351562</td>\n",
       "      <td>0.022344</td>\n",
       "    </tr>\n",
       "    <tr>\n",
       "      <th>topic5</th>\n",
       "      <td>0.000441</td>\n",
       "      <td>0.003053</td>\n",
       "      <td>0.002620</td>\n",
       "      <td>0.008648</td>\n",
       "      <td>0.005320</td>\n",
       "    </tr>\n",
       "    <tr>\n",
       "      <th>topic6</th>\n",
       "      <td>0.341754</td>\n",
       "      <td>0.160953</td>\n",
       "      <td>0.306350</td>\n",
       "      <td>0.153394</td>\n",
       "      <td>0.133170</td>\n",
       "    </tr>\n",
       "    <tr>\n",
       "      <th>topic7</th>\n",
       "      <td>0.392654</td>\n",
       "      <td>0.023998</td>\n",
       "      <td>0.390204</td>\n",
       "      <td>0.010960</td>\n",
       "      <td>0.013700</td>\n",
       "    </tr>\n",
       "    <tr>\n",
       "      <th>topic8</th>\n",
       "      <td>0.000058</td>\n",
       "      <td>0.000186</td>\n",
       "      <td>0.000003</td>\n",
       "      <td>0.003281</td>\n",
       "      <td>0.000909</td>\n",
       "    </tr>\n",
       "    <tr>\n",
       "      <th>topic9</th>\n",
       "      <td>0.111821</td>\n",
       "      <td>0.138861</td>\n",
       "      <td>0.104185</td>\n",
       "      <td>0.167316</td>\n",
       "      <td>0.140040</td>\n",
       "    </tr>\n",
       "  </tbody>\n",
       "</table>\n",
       "</div>"
      ],
      "text/plain": [
       "        fielding_tom  thackeray_lyndon  fielding_joseph  dickens_bleak  \\\n",
       "topic0      0.019675          0.379828         0.024981       0.013049   \n",
       "topic1      0.000001          0.011358         0.000866       0.004673   \n",
       "topic2      0.128929          0.252990         0.164484       0.283949   \n",
       "topic3      0.000427          0.014684         0.000180       0.003168   \n",
       "topic4      0.004239          0.014088         0.006126       0.351562   \n",
       "topic5      0.000441          0.003053         0.002620       0.008648   \n",
       "topic6      0.341754          0.160953         0.306350       0.153394   \n",
       "topic7      0.392654          0.023998         0.390204       0.010960   \n",
       "topic8      0.000058          0.000186         0.000003       0.003281   \n",
       "topic9      0.111821          0.138861         0.104185       0.167316   \n",
       "\n",
       "        thackeray_vanity  \n",
       "topic0          0.101002  \n",
       "topic1          0.004719  \n",
       "topic2          0.295530  \n",
       "topic3          0.283267  \n",
       "topic4          0.022344  \n",
       "topic5          0.005320  \n",
       "topic6          0.133170  \n",
       "topic7          0.013700  \n",
       "topic8          0.000909  \n",
       "topic9          0.140040  "
      ]
     },
     "execution_count": 4,
     "metadata": {},
     "output_type": "execute_result"
    }
   ],
   "source": [
    "model.topic_document.iloc[:, :5]"
   ]
  },
  {
   "cell_type": "code",
   "execution_count": 5,
   "metadata": {},
   "outputs": [
    {
     "data": {
      "text/html": [
       "<div>\n",
       "<style scoped>\n",
       "    .dataframe tbody tr th:only-of-type {\n",
       "        vertical-align: middle;\n",
       "    }\n",
       "\n",
       "    .dataframe tbody tr th {\n",
       "        vertical-align: top;\n",
       "    }\n",
       "\n",
       "    .dataframe thead th {\n",
       "        text-align: right;\n",
       "    }\n",
       "</style>\n",
       "<table border=\"1\" class=\"dataframe\">\n",
       "  <thead>\n",
       "    <tr style=\"text-align: right;\">\n",
       "      <th></th>\n",
       "      <th>a'most</th>\n",
       "      <th>a'ready</th>\n",
       "      <th>a-be</th>\n",
       "      <th>a-bed</th>\n",
       "      <th>a-buzz</th>\n",
       "    </tr>\n",
       "  </thead>\n",
       "  <tbody>\n",
       "    <tr>\n",
       "      <th>topic0</th>\n",
       "      <td>3.128368e-07</td>\n",
       "      <td>3.128368e-07</td>\n",
       "      <td>3.128368e-07</td>\n",
       "      <td>3.128368e-07</td>\n",
       "      <td>3.128368e-07</td>\n",
       "    </tr>\n",
       "    <tr>\n",
       "      <th>topic1</th>\n",
       "      <td>1.584345e-07</td>\n",
       "      <td>1.584345e-07</td>\n",
       "      <td>1.584345e-07</td>\n",
       "      <td>1.584345e-07</td>\n",
       "      <td>1.584345e-07</td>\n",
       "    </tr>\n",
       "    <tr>\n",
       "      <th>topic2</th>\n",
       "      <td>8.165562e-08</td>\n",
       "      <td>8.165562e-08</td>\n",
       "      <td>8.165562e-08</td>\n",
       "      <td>8.165562e-08</td>\n",
       "      <td>1.641278e-05</td>\n",
       "    </tr>\n",
       "    <tr>\n",
       "      <th>topic3</th>\n",
       "      <td>3.572762e-07</td>\n",
       "      <td>3.572762e-07</td>\n",
       "      <td>3.572762e-07</td>\n",
       "      <td>3.572762e-07</td>\n",
       "      <td>3.572762e-07</td>\n",
       "    </tr>\n",
       "    <tr>\n",
       "      <th>topic4</th>\n",
       "      <td>2.397303e-04</td>\n",
       "      <td>2.992887e-07</td>\n",
       "      <td>2.992887e-07</td>\n",
       "      <td>2.992887e-07</td>\n",
       "      <td>2.992887e-07</td>\n",
       "    </tr>\n",
       "    <tr>\n",
       "      <th>topic5</th>\n",
       "      <td>3.401413e-07</td>\n",
       "      <td>2.724531e-04</td>\n",
       "      <td>1.363966e-04</td>\n",
       "      <td>3.401413e-07</td>\n",
       "      <td>3.401413e-07</td>\n",
       "    </tr>\n",
       "    <tr>\n",
       "      <th>topic6</th>\n",
       "      <td>9.695790e-08</td>\n",
       "      <td>9.695790e-08</td>\n",
       "      <td>9.695790e-08</td>\n",
       "      <td>2.918433e-05</td>\n",
       "      <td>9.695790e-08</td>\n",
       "    </tr>\n",
       "    <tr>\n",
       "      <th>topic7</th>\n",
       "      <td>2.072945e-07</td>\n",
       "      <td>2.072945e-07</td>\n",
       "      <td>2.072945e-07</td>\n",
       "      <td>2.072945e-07</td>\n",
       "      <td>2.072945e-07</td>\n",
       "    </tr>\n",
       "    <tr>\n",
       "      <th>topic8</th>\n",
       "      <td>4.091059e-07</td>\n",
       "      <td>4.091059e-07</td>\n",
       "      <td>4.091059e-07</td>\n",
       "      <td>4.091059e-07</td>\n",
       "      <td>4.091059e-07</td>\n",
       "    </tr>\n",
       "    <tr>\n",
       "      <th>topic9</th>\n",
       "      <td>1.017972e-07</td>\n",
       "      <td>1.017972e-07</td>\n",
       "      <td>1.017972e-07</td>\n",
       "      <td>1.017972e-07</td>\n",
       "      <td>1.017972e-07</td>\n",
       "    </tr>\n",
       "  </tbody>\n",
       "</table>\n",
       "</div>"
      ],
      "text/plain": [
       "              a'most       a'ready          a-be         a-bed        a-buzz\n",
       "topic0  3.128368e-07  3.128368e-07  3.128368e-07  3.128368e-07  3.128368e-07\n",
       "topic1  1.584345e-07  1.584345e-07  1.584345e-07  1.584345e-07  1.584345e-07\n",
       "topic2  8.165562e-08  8.165562e-08  8.165562e-08  8.165562e-08  1.641278e-05\n",
       "topic3  3.572762e-07  3.572762e-07  3.572762e-07  3.572762e-07  3.572762e-07\n",
       "topic4  2.397303e-04  2.992887e-07  2.992887e-07  2.992887e-07  2.992887e-07\n",
       "topic5  3.401413e-07  2.724531e-04  1.363966e-04  3.401413e-07  3.401413e-07\n",
       "topic6  9.695790e-08  9.695790e-08  9.695790e-08  2.918433e-05  9.695790e-08\n",
       "topic7  2.072945e-07  2.072945e-07  2.072945e-07  2.072945e-07  2.072945e-07\n",
       "topic8  4.091059e-07  4.091059e-07  4.091059e-07  4.091059e-07  4.091059e-07\n",
       "topic9  1.017972e-07  1.017972e-07  1.017972e-07  1.017972e-07  1.017972e-07"
      ]
     },
     "execution_count": 5,
     "metadata": {},
     "output_type": "execute_result"
    }
   ],
   "source": [
    "model.topic_word.iloc[:, :5]"
   ]
  },
  {
   "cell_type": "code",
   "execution_count": 6,
   "metadata": {},
   "outputs": [
    {
     "data": {
      "text/html": [
       "<div>\n",
       "<style scoped>\n",
       "    .dataframe tbody tr th:only-of-type {\n",
       "        vertical-align: middle;\n",
       "    }\n",
       "\n",
       "    .dataframe tbody tr th {\n",
       "        vertical-align: top;\n",
       "    }\n",
       "\n",
       "    .dataframe thead th {\n",
       "        text-align: right;\n",
       "    }\n",
       "</style>\n",
       "<table border=\"1\" class=\"dataframe\">\n",
       "  <thead>\n",
       "    <tr style=\"text-align: right;\">\n",
       "      <th></th>\n",
       "      <th>word0</th>\n",
       "      <th>word1</th>\n",
       "      <th>word2</th>\n",
       "      <th>word3</th>\n",
       "      <th>word4</th>\n",
       "    </tr>\n",
       "  </thead>\n",
       "  <tbody>\n",
       "    <tr>\n",
       "      <th>topic0</th>\n",
       "      <td>our</td>\n",
       "      <td>captain</td>\n",
       "      <td>young</td>\n",
       "      <td>whom</td>\n",
       "      <td>lord</td>\n",
       "    </tr>\n",
       "    <tr>\n",
       "      <th>topic1</th>\n",
       "      <td>phineas</td>\n",
       "      <td>lord</td>\n",
       "      <td>laura</td>\n",
       "      <td>course</td>\n",
       "      <td>don't</td>\n",
       "    </tr>\n",
       "    <tr>\n",
       "      <th>topic2</th>\n",
       "      <td>over</td>\n",
       "      <td>came</td>\n",
       "      <td>down</td>\n",
       "      <td>where</td>\n",
       "      <td>day</td>\n",
       "    </tr>\n",
       "    <tr>\n",
       "      <th>topic3</th>\n",
       "      <td>crawley</td>\n",
       "      <td>george</td>\n",
       "      <td>osborne</td>\n",
       "      <td>rebecca</td>\n",
       "      <td>amelia</td>\n",
       "    </tr>\n",
       "    <tr>\n",
       "      <th>topic4</th>\n",
       "      <td>am</td>\n",
       "      <td>us</td>\n",
       "      <td>quite</td>\n",
       "      <td>sir</td>\n",
       "      <td>returned</td>\n",
       "    </tr>\n",
       "    <tr>\n",
       "      <th>topic5</th>\n",
       "      <td>adam</td>\n",
       "      <td>hetty</td>\n",
       "      <td>it's</td>\n",
       "      <td>arthur</td>\n",
       "      <td>poyser</td>\n",
       "    </tr>\n",
       "    <tr>\n",
       "      <th>topic6</th>\n",
       "      <td>though</td>\n",
       "      <td>being</td>\n",
       "      <td>can</td>\n",
       "      <td>those</td>\n",
       "      <td>most</td>\n",
       "    </tr>\n",
       "    <tr>\n",
       "      <th>topic7</th>\n",
       "      <td>jones</td>\n",
       "      <td>indeed</td>\n",
       "      <td>adams</td>\n",
       "      <td>am</td>\n",
       "      <td>answered</td>\n",
       "    </tr>\n",
       "    <tr>\n",
       "      <th>topic8</th>\n",
       "      <td>tom</td>\n",
       "      <td>maggie</td>\n",
       "      <td>peggotty</td>\n",
       "      <td>aunt</td>\n",
       "      <td>tulliver</td>\n",
       "    </tr>\n",
       "    <tr>\n",
       "      <th>topic9</th>\n",
       "      <td>without</td>\n",
       "      <td>shall</td>\n",
       "      <td>may</td>\n",
       "      <td>let</td>\n",
       "      <td>better</td>\n",
       "    </tr>\n",
       "  </tbody>\n",
       "</table>\n",
       "</div>"
      ],
      "text/plain": [
       "          word0    word1     word2    word3     word4\n",
       "topic0      our  captain     young     whom      lord\n",
       "topic1  phineas     lord     laura   course     don't\n",
       "topic2     over     came      down    where       day\n",
       "topic3  crawley   george   osborne  rebecca    amelia\n",
       "topic4       am       us     quite      sir  returned\n",
       "topic5     adam    hetty      it's   arthur    poyser\n",
       "topic6   though    being       can    those      most\n",
       "topic7    jones   indeed     adams       am  answered\n",
       "topic8      tom   maggie  peggotty     aunt  tulliver\n",
       "topic9  without    shall       may      let    better"
      ]
     },
     "execution_count": 6,
     "metadata": {},
     "output_type": "execute_result"
    }
   ],
   "source": [
    "model.topics.iloc[:, :5]"
   ]
  },
  {
   "cell_type": "markdown",
   "metadata": {},
   "source": [
    "## Visualizing the model\n",
    "\n",
    "Visualizing the topic model is as easy as the training was, e.g. plotting the topic-document distribution in a heatmap:"
   ]
  },
  {
   "cell_type": "code",
   "execution_count": 7,
   "metadata": {},
   "outputs": [
    {
     "data": {
      "text/plain": [
       "<matplotlib.axes._subplots.AxesSubplot at 0x7fa841bd6390>"
      ]
     },
     "execution_count": 7,
     "metadata": {},
     "output_type": "execute_result"
    },
    {
     "data": {
      "image/png": "[encoded data removed]",
      "text/plain": [
       "<Figure size 432x288 with 2 Axes>"
      ]
     },
     "metadata": {
      "needs_background": "light"
     },
     "output_type": "display_data"
    }
   ],
   "source": [
    "%matplotlib inline\n",
    "\n",
    "vis.topic_document()"
   ]
  },
  {
   "cell_type": "markdown",
   "metadata": {},
   "source": [
    "or visualizing how _dominant_ specific words are in a topic:"
   ]
  },
  {
   "cell_type": "code",
   "execution_count": 8,
   "metadata": {},
   "outputs": [
    {
     "data": {
      "image/png": "[encoded data removed]",
      "text/plain": [
       "<Figure size 432x288 with 2 Axes>"
      ]
     },
     "metadata": {
      "needs_background": "light"
     },
     "output_type": "display_data"
    }
   ],
   "source": [
    "vis.topic_word(words=[\"girl\", \"boy\", \"wife\", \"husband\"])"
   ]
  },
  {
   "cell_type": "markdown",
   "metadata": {},
   "source": [
    "How topics are distributed in a document:"
   ]
  },
  {
   "cell_type": "code",
   "execution_count": 12,
   "metadata": {},
   "outputs": [
    {
     "data": {
      "text/plain": [
       "<matplotlib.axes._subplots.AxesSubplot at 0x7fab9e755c88>"
      ]
     },
     "execution_count": 12,
     "metadata": {},
     "output_type": "execute_result"
    },
    {
     "data": {
      "image/png": "[encoded data removed]",
      "text/plain": [
       "<Figure size 432x288 with 1 Axes>"
      ]
     },
     "metadata": {
      "needs_background": "light"
     },
     "output_type": "display_data"
    }
   ],
   "source": [
    "vis.document(\"dickens_bleak\")"
   ]
  },
  {
   "cell_type": "markdown",
   "metadata": {},
   "source": [
    "or words in a topic:"
   ]
  },
  {
   "cell_type": "code",
   "execution_count": 13,
   "metadata": {},
   "outputs": [
    {
     "data": {
      "text/plain": [
       "<matplotlib.axes._subplots.AxesSubplot at 0x7fab9e5dfb70>"
      ]
     },
     "execution_count": 13,
     "metadata": {},
     "output_type": "execute_result"
    },
    {
     "data": {
      "image/png": "[encoded data removed]",
      "text/plain": [
       "<Figure size 432x288 with 1 Axes>"
      ]
     },
     "metadata": {
      "needs_background": "light"
     },
     "output_type": "display_data"
    }
   ],
   "source": [
    "vis.topic(\"topic0\")"
   ]
  },
  {
   "cell_type": "markdown",
   "metadata": {},
   "source": [
    "## Advanced topic modeling\n",
    "\n",
    "Check out the other notebooks for more advanced topic modeling."
   ]
  }
 ],
 "metadata": {
  "kernelspec": {
   "display_name": "Python 3",
   "language": "python",
   "name": "python3"
  },
  "language_info": {
   "codemirror_mode": {
    "name": "ipython",
    "version": 3
   },
   "file_extension": ".py",
   "mimetype": "text/x-python",
   "name": "python",
   "nbconvert_exporter": "python",
   "pygments_lexer": "ipython3",
   "version": "3.7.2"
  }
 },
 "nbformat": 4,
 "nbformat_minor": 2
}
