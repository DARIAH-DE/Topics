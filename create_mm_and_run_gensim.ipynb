{
 "cells": [
  {
   "cell_type": "code",
   "execution_count": null,
   "metadata": {
    "collapsed": false
   },
   "outputs": [],
   "source": [
    "import collection"
   ]
  },
  {
   "cell_type": "code",
   "execution_count": 2,
   "metadata": {
    "collapsed": true
   },
   "outputs": [],
   "source": [
    "#path_txt = \"corpus_txt/\"\n",
    "\n",
    "path_txt = \"grenzbote_plain/*/\"\n",
    "\n",
    "#path_txt = \"drama/\"\n",
    "\n",
    "doclist_txt = collection.create_document_list(path_txt)\n",
    "\n",
    "doc_labels = list(collection.get_labels(doclist_txt))\n",
    "\n",
    "corpus_txt = collection.read_from_txt(doclist_txt)\n",
    "\n",
    "doc_tokens = list(collection.tokenizer(corpus_txt))\n",
    "\n",
    "id_types, doc_dict, doc_ids = collection.create_large_TF_matrix(doc_labels, doc_tokens)\n",
    "\n",
    "termdoc_matrix = {v : k for k, v in id_types.items()}\n",
    "\n",
    "id_docs = {v : k for k, v in doc_ids.items()}"
   ]
  },
  {
   "cell_type": "code",
   "execution_count": 3,
   "metadata": {
    "collapsed": true
   },
   "outputs": [],
   "source": [
    "largecounter = collection.create_large_counter(doc_labels, doc_tokens, termdoc_matrix)\n",
    "\n",
    "largecounter = {id_docs[key] : value for key, value in largecounter.items()}"
   ]
  },
  {
   "cell_type": "code",
   "execution_count": 27,
   "metadata": {
    "collapsed": false
   },
   "outputs": [
    {
     "data": {
      "text/plain": [
       "410"
      ]
     },
     "execution_count": 27,
     "metadata": {},
     "output_type": "execute_result"
    }
   ],
   "source": [
    "len(largecounter)"
   ]
  },
  {
   "cell_type": "code",
   "execution_count": 5,
   "metadata": {
    "collapsed": false
   },
   "outputs": [],
   "source": [
    "#len(sparse_index)"
   ]
  },
  {
   "cell_type": "code",
   "execution_count": 6,
   "metadata": {
    "collapsed": false
   },
   "outputs": [],
   "source": [
    "#len(pd.DataFrame(np.zeros((len(sparse_index.get_level_values('token_id')),1), dtype = int), index = sparse_index))"
   ]
  },
  {
   "cell_type": "code",
   "execution_count": 7,
   "metadata": {
    "collapsed": false
   },
   "outputs": [],
   "source": [
    "import pandas as pd\n",
    "import numpy as np\n",
    "def populate_two(sparse_index, largecounter):\n",
    "    \n",
    "    #sparse_df_filled_test = pd.Series(index=sparse_index).fillna(int(0))\n",
    "    sparse_df_filled_test = pd.DataFrame(np.zeros((len(sparse_index), 1), dtype = int), index = sparse_index)\n",
    "    \n",
    "    \n",
    "    index_iterator = sparse_index.groupby(sparse_index.get_level_values('doc_id'))\n",
    "    \n",
    "    for doc_id in range(len(sparse_index.levels[0])):\n",
    "        for token_id in [val[1] for val in index_iterator[doc_id]]:\n",
    "            \n",
    "            sparse_df_filled_test.set_value((doc_id, token_id), 0, int(largecounter[doc_id][token_id]))\n",
    "            \n",
    "    return sparse_df_filled_test\n",
    "    "
   ]
  },
  {
   "cell_type": "code",
   "execution_count": 8,
   "metadata": {
    "collapsed": true
   },
   "outputs": [],
   "source": [
    "sparse_index = collection.create_sparse_index(largecounter)"
   ]
  },
  {
   "cell_type": "code",
   "execution_count": 9,
   "metadata": {
    "collapsed": false
   },
   "outputs": [],
   "source": [
    "sparse_df = populate_two(sparse_index, largecounter)"
   ]
  },
  {
   "cell_type": "code",
   "execution_count": 10,
   "metadata": {
    "collapsed": false
   },
   "outputs": [],
   "source": [
    "#sparse_index = collection.create_sparse_index(largecounter)\n",
    "\n",
    "#sparse_df = collection.populate_two(sparse_index, largecounter)\n",
    "\n",
    "#sparse_df.to_csv('sparse_drama.mm', sep = ' ')"
   ]
  },
  {
   "cell_type": "code",
   "execution_count": 11,
   "metadata": {
    "collapsed": false
   },
   "outputs": [],
   "source": [
    "sparse_df = sparse_df.sortlevel()"
   ]
  },
  {
   "cell_type": "code",
   "execution_count": 12,
   "metadata": {
    "collapsed": false
   },
   "outputs": [
    {
     "data": {
      "text/plain": [
       "444"
      ]
     },
     "execution_count": 12,
     "metadata": {},
     "output_type": "execute_result"
    }
   ],
   "source": [
    "max(sparse_df[0])"
   ]
  },
  {
   "cell_type": "code",
   "execution_count": 13,
   "metadata": {
    "collapsed": false
   },
   "outputs": [
    {
     "data": {
      "text/plain": [
       "409"
      ]
     },
     "execution_count": 13,
     "metadata": {},
     "output_type": "execute_result"
    }
   ],
   "source": [
    "max(sparse_df.index.get_level_values(\"doc_id\"))"
   ]
  },
  {
   "cell_type": "code",
   "execution_count": 14,
   "metadata": {
    "collapsed": false
   },
   "outputs": [
    {
     "data": {
      "text/plain": [
       "99175"
      ]
     },
     "execution_count": 14,
     "metadata": {},
     "output_type": "execute_result"
    }
   ],
   "source": [
    "max(sparse_df.index.get_level_values(\"token_id\"))"
   ]
  },
  {
   "cell_type": "code",
   "execution_count": 15,
   "metadata": {
    "collapsed": false
   },
   "outputs": [
    {
     "data": {
      "text/plain": [
       "1286350"
      ]
     },
     "execution_count": 15,
     "metadata": {},
     "output_type": "execute_result"
    }
   ],
   "source": [
    "sum(sparse_df[0])"
   ]
  },
  {
   "cell_type": "code",
   "execution_count": 16,
   "metadata": {
    "collapsed": false
   },
   "outputs": [],
   "source": [
    "\n",
    "\n",
    "num_docs = max(sparse_df.index.get_level_values(\"doc_id\"))\n",
    "num_types = max(sparse_df.index.get_level_values(\"token_id\"))\n",
    "sum_counts = sum(sparse_df[0])\n",
    "\n",
    "header_string = str(num_docs) + \" \" + str(num_types) + \" \" + str(sum_counts) + \"\\n\"\n",
    "\n",
    "with open(\"gb_plain.mm\", 'a', encoding = \"utf-8\") as f:\n",
    "    f.write(\"%%MatrixMarket matrix coordinate real general\\n\")\n",
    "    #f.write(header_string)\n",
    "    sparse_df.to_csv( f, sep = ' ', header = None)\n",
    "\n"
   ]
  },
  {
   "cell_type": "code",
   "execution_count": 17,
   "metadata": {
    "collapsed": true
   },
   "outputs": [],
   "source": [
    "import gensim"
   ]
  },
  {
   "cell_type": "code",
   "execution_count": 18,
   "metadata": {
    "collapsed": false
   },
   "outputs": [],
   "source": [
    "corpusPath = \"gb_plain.mm\"\n",
    "\n",
    "mm = gensim.corpora.MmCorpus(corpusPath)"
   ]
  },
  {
   "cell_type": "code",
   "execution_count": 19,
   "metadata": {
    "collapsed": true
   },
   "outputs": [],
   "source": [
    "#in case you're only loading the corpus - build dict first\n",
    "\n",
    "import pickle\n",
    "\n",
    "pickle.dump( id_types, open( \"gb_plain.dictionary\", \"wb\" ) )"
   ]
  },
  {
   "cell_type": "code",
   "execution_count": 20,
   "metadata": {
    "collapsed": false
   },
   "outputs": [],
   "source": [
    "id_types = pickle.load(open(\"gb_plain.dictionary\", 'rb'))"
   ]
  },
  {
   "cell_type": "code",
   "execution_count": 21,
   "metadata": {
    "collapsed": true
   },
   "outputs": [],
   "source": [
    "#mm = gensim.corpora.MmCorpus(\"gb_all.mm\")"
   ]
  },
  {
   "cell_type": "code",
   "execution_count": 22,
   "metadata": {
    "collapsed": true
   },
   "outputs": [],
   "source": [
    "#id_types = pickle.load(open(\"gb_all.dictionary\", 'rb'))"
   ]
  },
  {
   "cell_type": "code",
   "execution_count": 23,
   "metadata": {
    "collapsed": false
   },
   "outputs": [],
   "source": [
    "model = gensim.models.LdaModel(corpus=mm, id2word=id_types, num_topics=60, alpha = \"symmetric\", passes = 10)"
   ]
  },
  {
   "cell_type": "code",
   "execution_count": 24,
   "metadata": {
    "collapsed": false
   },
   "outputs": [
    {
     "data": {
      "text/plain": [
       "['thronwechsel',\n",
       " 'lliot',\n",
       " 'directionsmitglieder',\n",
       " 'oswald',\n",
       " 'künstlerischer',\n",
       " 'schießplatz',\n",
       " 'vollkommenheit',\n",
       " 'wandertrieb',\n",
       " 'nichterstcllen',\n",
       " 'nhetz']"
      ]
     },
     "execution_count": 24,
     "metadata": {},
     "output_type": "execute_result"
    }
   ],
   "source": [
    "topic_nr_x = model.get_topic_terms(10)\n",
    "\n",
    "[id_types[i[0]] for i in topic_nr_x]"
   ]
  },
  {
   "cell_type": "code",
   "execution_count": 25,
   "metadata": {
    "collapsed": false
   },
   "outputs": [],
   "source": [
    "topics = model.show_topics(num_topics = 60)"
   ]
  },
  {
   "cell_type": "code",
   "execution_count": 26,
   "metadata": {
    "collapsed": false
   },
   "outputs": [
    {
     "data": {
      "text/plain": [
       "[(0,\n",
       "  '0.000*wahlvrüfungcn + 0.000*werd + 0.000*geschäftsfreunden + 0.000*überzusiedeln + 0.000*evvivas + 0.000*cyklen + 0.000*segensreichste + 0.000*treitzschkes + 0.000*buckle + 0.000*517'),\n",
       " (1,\n",
       "  '0.000*machtvollkommenheit + 0.000*emphatischcrem + 0.000*saale + 0.000*ciellen + 0.000*donizetti + 0.000*culturverhältnissen + 0.000*krähet + 0.000*angewandten + 0.000*formulartöpfc + 0.000*professors'),\n",
       " (2,\n",
       "  '0.000*vorsorge + 0.000*zwanglos + 0.000*back + 0.000*harmloser + 0.000*zustimmenden + 0.000*untergang + 0.000*tacten + 0.000*1665 + 0.000*unmündige + 0.000*dalismus'),\n",
       " (3,\n",
       "  '0.000*starb + 0.000*labedoyöre + 0.000*tändcrn + 0.000*jahrelang + 0.000*staatswissenschaften + 0.000*lebenskräftigen + 0.000*lesevereins + 0.000*generalsecretär + 0.000*pettenkofer + 0.000*fischart'),\n",
       " (4,\n",
       "  '0.000*beimischen + 0.000*kernbevölkcrung + 0.000*überspannt + 0.000*verbessertes + 0.000*slavomanie + 0.000*gleichwichtige + 0.000*funkeln + 0.000*herbstabenden + 0.000*diplomat + 0.000*willkommen'),\n",
       " (5,\n",
       "  '0.000*entgegengetragen + 0.000*lebensgefahr + 0.000*gewesenen + 0.000*tuberculose + 0.000*hinzutreten + 0.000*naddampfer + 0.000*eingeholter + 0.000*theilnehmend + 0.000*äistimes + 0.000*anschlichen'),\n",
       " (6,\n",
       "  '0.000*erwerbszweig + 0.000*umherbummelten + 0.000*praktisches + 0.000*planmäßig + 0.000*zornesvoll + 0.000*thyestes + 0.000*foe + 0.000*aunes + 0.000*kreuzritter + 0.000*nothdürftigste'),\n",
       " (7,\n",
       "  '0.000*unbeträchtlicher + 0.000*hochverräterischer + 0.000*mercurius + 0.000*abglanz + 0.000*unterhaltlichsten + 0.000*strandbatterien + 0.000*ueberreichung + 0.000*öpouse + 0.000*deposscdirten + 0.000*freigab'),\n",
       " (8,\n",
       "  '0.000*eonönv + 0.000*gaste + 0.000*saturday + 0.000*nachwirkungen + 0.000*machtbereich + 0.000*kurhauslasse + 0.000*begreifend + 0.000*canonischen + 0.000*klavierauszug + 0.000*spielzeuge'),\n",
       " (9,\n",
       "  '0.000*befriedigung + 0.000*könneritz + 0.000*quadratfuß + 0.000*septlmberveitrags + 0.000*verfassuugscnlwiirf + 0.000*freiheitsbrief + 0.000*redigirte + 0.000*steuerkünsten + 0.000*dampfer + 0.000*herbeigeholt'),\n",
       " (10,\n",
       "  '0.000*thronwechsel + 0.000*lliot + 0.000*directionsmitglieder + 0.000*oswald + 0.000*künstlerischer + 0.000*schießplatz + 0.000*vollkommenheit + 0.000*wandertrieb + 0.000*nichterstcllen + 0.000*nhetz'),\n",
       " (11,\n",
       "  '0.000*richterstand + 0.000*endemischer + 0.000*1497 + 0.000*marmorstadt + 0.000*anerkennte + 0.000*peinigend + 0.000*organi + 0.000*wdenken + 0.000*woyewodschaft + 0.000*wegen'),\n",
       " (12,\n",
       "  '0.000*zwitterzustind + 0.000*arbeitsamen + 0.000*steg + 0.000*wolfgangskapelle + 0.000*einzellandtage + 0.000*verfassungsentwurfes + 0.000*acquit + 0.000*eingestellt + 0.000*bennett + 0.000*aufzukitzeln'),\n",
       " (13,\n",
       "  '0.000*begünstigt + 0.000*ehrgeizig + 0.000*bestimmt + 0.000*zettelchen + 0.000*gesticulirend + 0.000*chemische + 0.000*comitats + 0.000*stündlich + 0.000*leitartikeln + 0.000*wendenfürsten'),\n",
       " (14,\n",
       "  '0.000*noi + 0.000*vorladungen + 0.000*alpaca + 0.000*herrenhäusler + 0.000*borträge + 0.000*hiäh + 0.000*entwede + 0.000*butler + 0.000*steuerkasse + 0.000*rent'),\n",
       " (15,\n",
       "  '0.000*gleichaltrigen + 0.000*schlußstein + 0.000*unentgeltlicher + 0.000*feuerschlünden + 0.000*jkr + 0.000*umbrämt + 0.000*seitenfenster + 0.000*doppelfrage + 0.000*fueros + 0.000*laaien'),\n",
       " (16,\n",
       "  '0.000*seinepräfect + 0.000*entbunden + 0.000*freihafen + 0.000*lomellina + 0.000*kreisform + 0.000*gemischte + 0.000*höhlenhyäne + 0.000*reservebataillonen + 0.000*klystirsprihe + 0.000*mitlebenden'),\n",
       " (17,\n",
       "  '0.000*nasfauische + 0.000*dnickung + 0.000*particularistenmasse + 0.000*sittlichen + 0.000*psychologische + 0.000*nichtverständigung + 0.000*rügen + 0.000*vright + 0.000*johannes + 0.000*normaler'),\n",
       " (18,\n",
       "  '0.000*schädlichen + 0.000*bettels + 0.000*kirchenfürst + 0.000*landeshaushalts + 0.000*granr + 0.000*harmodius + 0.000*realschulwesen + 0.000*trischatnys + 0.000*badischer + 0.000*unentbehrliches'),\n",
       " (19,\n",
       "  '0.000*castell + 0.000*unversöhnlicher + 0.000*see7 + 0.000*gs + 0.000*lithauens + 0.000*emanuels + 0.000*engverbundene + 0.000*gründungsperiode + 0.000*beneidenswerthe + 0.000*rtchteramtes'),\n",
       " (20,\n",
       "  '0.000*nichteramte + 0.000*affondatore + 0.000*scharfsinnigen + 0.000*postille + 0.000*verschmerzen + 0.000*übersichtlichkeit + 0.000*antirussische + 0.000*klinget + 0.000*tausches + 0.000*geisteslebens'),\n",
       " (21,\n",
       "  '0.000*kriegsgerichte + 0.000*zollvereinsstaaten + 0.000*uneigennützigst + 0.000*aurelianischcir + 0.000*umtanzt + 0.000*verbrauchsteuern + 0.000*lieg + 0.000*zweigen + 0.000*onäon + 0.000*unausgebildeten'),\n",
       " (22,\n",
       "  '0.000*plödis + 0.000*dizlitti + 0.000*aehnlichem + 0.000*trinärer + 0.000*vorhand + 0.000*kalteis + 0.000*steinbeilen + 0.000*original + 0.000*pioeo + 0.000*residirt'),\n",
       " (23,\n",
       "  '0.000*wesirussische + 0.000*exotische + 0.000*empfehlungsschreiben + 0.000*fundationsmäßigen + 0.000*potsdams + 0.000*einschließt + 0.000*schlachttag + 0.000*eigenthü + 0.000*writ + 0.000*gepflogene'),\n",
       " (24,\n",
       "  '0.000*marianne + 0.000*della + 0.000*privatcapital + 0.000*zweckdienlich + 0.000*photographieapparats + 0.000*königlich + 0.000*ussing + 0.000*hausindustrie + 0.000*vaterlandsverrath + 0.000*tatenlosigkeit'),\n",
       " (25,\n",
       "  '0.000*entbehrliche + 0.000*überein + 0.000*gemeinsten + 0.000*landesverlhcidigungs + 0.000*sonnenrades + 0.000*goluchvwkis + 0.000*etatsstärke + 0.000*siaatsrechts + 0.000*trautmannsdorf + 0.000*referent'),\n",
       " (26,\n",
       "  '0.000*centralorgan + 0.000*ins + 0.000*niederlegen + 0.000*geschäftlicher + 0.000*gräßlicherer + 0.000*unterrichtsabtheilung + 0.000*choleraströme + 0.000*human + 0.000*aufrichtete + 0.000*verhaßter'),\n",
       " (27,\n",
       "  '0.000*rissen + 0.000*vergrößerten + 0.000*schlauch + 0.000*vertheidigte + 0.000*staatswörterbuch + 0.000*erguß + 0.000*coiporalstocks + 0.000*fischerboot + 0.000*magerkeit + 0.000*bennig'),\n",
       " (28,\n",
       "  '0.000*gesundheits + 0.000*classisicirung + 0.000*plinius + 0.000*biedere + 0.000*schleppnetz + 0.000*staatsschriften + 0.000*zauberkünsten + 0.000*zauber + 0.000*erhebt + 0.000*segelcorvctte'),\n",
       " (29,\n",
       "  '0.000*5a + 0.000*psuple + 0.000*cvnstctuirung + 0.000*spielart + 0.000*bibliothekar + 0.000*versäumnisse + 0.000*wizards + 0.000*aufge + 0.000*wogegen + 0.000*contrakt'),\n",
       " (30,\n",
       "  '0.000*unterdrückungssystem + 0.000*diedenhofen + 0.000*verlautbaren + 0.000*anmaßlichen + 0.000*schutzzöllnerische + 0.000*unvorhergesehene + 0.000*briefschreiben + 0.000*stimmberechtigt + 0.000*widersetzten + 0.000*ne4'),\n",
       " (31,\n",
       "  '0.000*volksabstimmung + 0.000*durchgangspunkt + 0.000*havelbcr + 0.000*prärogativen + 0.000*nilland + 0.000*stadttheil + 0.000*gastrechts + 0.000*1233 + 0.000*unzufrieden + 0.000*1827'),\n",
       " (32,\n",
       "  '0.000*beaufsichtigung + 0.000*sittengemälde + 0.000*gemeinderaths + 0.000*altererbter + 0.000*bourgeoisdemagogie + 0.000*buda + 0.000*buonapartistischen + 0.000*strafgesetzes + 0.000*vertrete + 0.000*glätter'),\n",
       " (33,\n",
       "  '0.000*tartarus + 0.000*znter + 0.000*publikum + 0.000*jagdfolgcrecht + 0.000*blüthen + 0.000*trugbild + 0.000*entfenlcn + 0.000*hintersten + 0.000*treitschkes + 0.000*eindecker'),\n",
       " (34,\n",
       "  '0.000*marinedepot + 0.000*schynige + 0.000*reichstagsmitglicder + 0.000*jüdische + 0.000*störend + 0.000*küstenbevölkerung + 0.000*corneto + 0.000*aufzusteigen + 0.000*utilitätspolitik + 0.000*bleitkopf'),\n",
       " (35,\n",
       "  '0.000*wunden + 0.000*kesselflicker + 0.000*stimmberechtigte + 0.000*vorterrain + 0.000*kreuzgänge + 0.000*auswuchs + 0.000*lahnstein + 0.000*palämons + 0.000*gcschützpforten + 0.000*sykomoren'),\n",
       " (36,\n",
       "  '0.000*ushna + 0.000*stammbuch + 0.000*töne + 0.000*dürres + 0.000*1030 + 0.000*rcdnertriumphe + 0.000*werkgerechtigkeit + 0.000*sämmtliche + 0.000*solideste + 0.000*strategie'),\n",
       " (37,\n",
       "  '0.000*grad + 0.000*kausalzusammenhang + 0.000*steinhämmern + 0.000*beisammensein + 0.000*princeß + 0.000*xbeliebige + 0.000*kümmerliche + 0.000*brcuning + 0.000*auszug + 0.000*mallinckrodt'),\n",
       " (38,\n",
       "  '0.000*anzeigt + 0.000*kriei + 0.000*anmuthenden + 0.000*sibirien + 0.000*weltmonarchie + 0.000*kührlich + 0.000*widerruf + 0.000*höfe + 0.000*einlaufen + 0.000*folglich'),\n",
       " (39,\n",
       "  '0.000*geräumiges + 0.000*hinreißend + 0.000*viäemur + 0.000*aumü + 0.000*vorzüglichem + 0.000*bewanderter + 0.000*donaldson + 0.000*uxoreula + 0.000*unabweislich + 0.000*bekomm'),\n",
       " (40,\n",
       "  '0.000*übersetzer + 0.000*rannichor + 0.000*arbcitcten + 0.000*weges + 0.000*untiefe + 0.000*abgestorbene + 0.000*entsittlichung + 0.000*zufälle + 0.000*schlußband + 0.000*polemik'),\n",
       " (41,\n",
       "  '0.000*ricasoli + 0.000*südslawische + 0.000*eingetauscht + 0.000*blindheit + 0.000*steuerquantum + 0.000*lehre + 0.000*einschließen + 0.000*kreuzzugs + 0.000*verkappte + 0.000*köckels'),\n",
       " (42,\n",
       "  '0.000*vielgeliebte + 0.000*unzureichend + 0.000*gefüttert + 0.000*überlieferter + 0.000*gsparagraphcn + 0.000*gestrichnen + 0.000*besoldungen + 0.000*gewichtigen + 0.000*oesterreich + 0.000*islands'),\n",
       " (43,\n",
       "  '0.000*tegetmeyer + 0.000*tiroler + 0.000*potter + 0.000*erhaltung + 0.000*umbau + 0.000*auweucnng + 0.000*uim + 0.000*schlau + 0.000*testimo + 0.000*subjective'),\n",
       " (44,\n",
       "  '0.000*lehre + 0.000*weihgeschenk + 0.000*festbinden + 0.000*jacht + 0.000*beiwort + 0.000*2116 + 0.000*mitlebt + 0.000*aerar + 0.000*elfjähriger + 0.000*centralaction'),\n",
       " (45,\n",
       "  '0.000*hergeliehen + 0.000*attentat + 0.000*247 + 0.000*früheres + 0.000*zelt + 0.000*absolutistisches + 0.000*unermüdlichsten + 0.000*einiger + 0.000*genommene + 0.000*wiederaufbau'),\n",
       " (46,\n",
       "  '0.000*robot + 0.000*ausschufzbericht + 0.000*martyrerblut + 0.000*theils + 0.000*ziegeldächer + 0.000*oclavns + 0.000*konsulats + 0.000*gymnasien + 0.000*märchenhaftes + 0.000*einnahmeposten'),\n",
       " (47,\n",
       "  '0.000*wachtmeister + 0.000*application + 0.000*abenddämmerung + 0.000*ubicini + 0.000*nachdrücklichkeit + 0.000*gesammtbetrage + 0.000*anzuzünden + 0.000*drangen + 0.000*episco + 0.000*augsburgischen'),\n",
       " (48,\n",
       "  '0.000*büreaukratisches + 0.000*ausdrücklichere + 0.000*romans + 0.000*weiterzuführen + 0.000*kaledonische + 0.000*30 + 0.000*baldigst + 0.000*nilarm + 0.000*officielles + 0.000*landcstheils'),\n",
       " (49,\n",
       "  '0.000*sieg + 0.000*wissenschaften + 0.000*fabelhafte + 0.000*algerischer + 0.000*verwaisung + 0.000*sitte + 0.000*communist + 0.000*partiellen + 0.000*abgrund + 0.000*schubart'),\n",
       " (50,\n",
       "  '0.000*venanz + 0.000*schraubenfregatte + 0.000*gußeisen + 0.000*arbeitsplätze + 0.000*eisenkrummzapfen + 0.000*charactervollen + 0.000*krüger + 0.000*epoche + 0.000*zend + 0.000*hochaltar'),\n",
       " (51,\n",
       "  '0.000*gellen + 0.000*postwesens + 0.000*magnusschen + 0.000*fortsetzungen + 0.000*einbrechen + 0.000*skalitz + 0.000*pentelische + 0.000*axiom + 0.000*zweitfolgenden + 0.000*3000'),\n",
       " (52,\n",
       "  '0.000*viehes + 0.000*küstenvertheidigung + 0.000*vollstrecken + 0.000*democratische + 0.000*gleichsam + 0.000*käuze + 0.000*stall + 0.000*mißlingen + 0.000*seuchen + 0.000*mißbilligung'),\n",
       " (53,\n",
       "  '0.000*honoratioren + 0.000*konzerte + 0.000*ausdehnen + 0.000*intcressen + 0.000*kinderleiche + 0.000*vordrängte + 0.000*pseuhischc + 0.000*mögensrechtlichen + 0.000*kronzehnten + 0.000*wimmelten'),\n",
       " (54,\n",
       "  '0.000*reformatoren + 0.000*einundachtzigjährigen + 0.000*13798 + 0.000*besoldet + 0.000*angelegenheit + 0.000*erwiderung + 0.000*mitgliedes + 0.000*hinriß + 0.000*frankenwein + 0.000*besieger'),\n",
       " (55,\n",
       "  '0.000*schwertesschlag + 0.000*angeben + 0.000*vesieger + 0.000*curatus + 0.000*sperrgeld + 0.000*gemeindegesetz + 0.000*brandschatzen + 0.000*autor + 0.000*ankäufen + 0.000*stimmenwerber'),\n",
       " (56,\n",
       "  '0.000*nwcws + 0.000*rücksicht + 0.000*geartete + 0.000*disponirt + 0.000*komplimente + 0.000*begrenzung + 0.000*jeden + 0.000*quixotes + 0.000*herrührend + 0.000*prägnanz'),\n",
       " (57,\n",
       "  '0.000*wunderhübschen + 0.000*seeretäre + 0.000*gesammtdarstellung + 0.000*verband + 0.000*ludwig + 0.000*schall + 0.000*hauptsprecher + 0.000*hauplkriterium + 0.000*kleinerem + 0.000*handschriftcnentdccker'),\n",
       " (58,\n",
       "  '0.000*häuserreihen + 0.000*vorwürfen + 0.000*mentem + 0.000*heilgruß + 0.000*umringten + 0.000*einsuhrzolles + 0.000*sauve + 0.000*steinbeilen + 0.000*schutzpatron + 0.000*krakauische'),\n",
       " (59,\n",
       "  '0.000*musikleben + 0.000*angewendeten + 0.000*8co + 0.000*unfähiger + 0.000*dsolug + 0.000*verjagt + 0.000*98 + 0.000*jgsser + 0.000*verkehre + 0.000*demarkationslinie')]"
      ]
     },
     "execution_count": 26,
     "metadata": {},
     "output_type": "execute_result"
    }
   ],
   "source": [
    "topics"
   ]
  }
 ],
 "metadata": {
  "kernelspec": {
   "display_name": "Python 3",
   "language": "python",
   "name": "python3"
  },
  "language_info": {
   "codemirror_mode": {
    "name": "ipython",
    "version": 3
   },
   "file_extension": ".py",
   "mimetype": "text/x-python",
   "name": "python",
   "nbconvert_exporter": "python",
   "pygments_lexer": "ipython3",
   "version": "3.5.1"
  }
 },
 "nbformat": 4,
 "nbformat_minor": 0
}
