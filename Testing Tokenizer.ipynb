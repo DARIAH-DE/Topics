{
 "cells": [
  {
   "cell_type": "code",
   "execution_count": 1,
   "metadata": {
    "collapsed": false
   },
   "outputs": [],
   "source": [
    "import regex\n",
    "import pandas as pd\n",
    "\n",
    "general = \"01.01.2017, 01/01/2017, 5€, $5, £5,99, 5,99€, 9,99, 100, U.S.A., AT&T, https://de.dariah.eu\"\n",
    "french = \"Français! «Oui», m'éveillai étant Tchouang-tseu... Suis-je réalité? Qui rêve qu'il qui s'imagine!\"\n",
    "spanish = \"Español! «Sí», de programación y años después del sueño léxico. Matemático meta-aplicado?\"\n",
    "english = \"English! «Yes», it's the 2nd leaf-cutting ant at five o'clock. Didn't I say?\"\n",
    "portuguese = \"Português! «Sim», ciência da computação é a ciência que estuda as técnicas. Classifica-se como ciência?\"\n",
    "german = \"Deutsch! «Ja», wie geht's? Ein typisches Beispiel für ein System. OK, verbundenes-wort.\""
   ]
  },
  {
   "cell_type": "code",
   "execution_count": 2,
   "metadata": {
    "collapsed": false
   },
   "outputs": [
    {
     "name": "stdout",
     "output_type": "stream",
     "text": [
      "Français! «Oui», m'éveillai étant Tchouang-tseu... Suis-je réalité? Qui rêve qu'il qui s'imagine!\n"
     ]
    }
   ],
   "source": [
    "french_pattern = regex.compile(r'\\p{L}[\\p{L}\\p{P}]*\\p{L}|\\p{N}[\\p{N}\\p{P}]*\\p{N}|\\p{S}?\\p{N}[\\p{P}\\p{N}]{3}\\p{S}?')\n",
    "print(french)"
   ]
  },
  {
   "cell_type": "code",
   "execution_count": 3,
   "metadata": {
    "collapsed": false
   },
   "outputs": [
    {
     "data": {
      "text/plain": [
       "0              01.01.2017\n",
       "1              01/01/2017\n",
       "2                   £5,99\n",
       "3                    5,99\n",
       "4                    9,99\n",
       "5                     100\n",
       "6                   U.S.A\n",
       "7                    AT&T\n",
       "8    https://de.dariah.eu\n",
       "dtype: object"
      ]
     },
     "execution_count": 3,
     "metadata": {},
     "output_type": "execute_result"
    }
   ],
   "source": [
    "pd.Series(french_pattern.findall(general))"
   ]
  },
  {
   "cell_type": "code",
   "execution_count": 4,
   "metadata": {
    "collapsed": false
   },
   "outputs": [
    {
     "data": {
      "text/plain": [
       "0          Français\n",
       "1               Oui\n",
       "2        m'éveillai\n",
       "3             étant\n",
       "4     Tchouang-tseu\n",
       "5           Suis-je\n",
       "6           réalité\n",
       "7               Qui\n",
       "8              rêve\n",
       "9             qu'il\n",
       "10              qui\n",
       "11        s'imagine\n",
       "dtype: object"
      ]
     },
     "execution_count": 4,
     "metadata": {},
     "output_type": "execute_result"
    }
   ],
   "source": [
    "pd.Series(french_pattern.findall(french))"
   ]
  },
  {
   "cell_type": "code",
   "execution_count": 5,
   "metadata": {
    "collapsed": false
   },
   "outputs": [
    {
     "name": "stdout",
     "output_type": "stream",
     "text": [
      "Español! «Sí», de programación y años después del sueño léxico. Matemático meta-aplicado?\n"
     ]
    }
   ],
   "source": [
    "spanish_pattern = regex.compile(r'\\p{N}[\\p{N}\\p{P}]*\\p{N}|\\p{S}?\\p{N}[\\p{P}\\p{N}]{3}\\p{S}?|\\p{L}[\\p{L}\\p{P}]*\\p{L}|\\p{L}{1}')\n",
    "print(spanish)"
   ]
  },
  {
   "cell_type": "code",
   "execution_count": 6,
   "metadata": {
    "collapsed": false
   },
   "outputs": [
    {
     "data": {
      "text/plain": [
       "0              01.01.2017\n",
       "1              01/01/2017\n",
       "2                   £5,99\n",
       "3                    5,99\n",
       "4                    9,99\n",
       "5                     100\n",
       "6                   U.S.A\n",
       "7                    AT&T\n",
       "8    https://de.dariah.eu\n",
       "dtype: object"
      ]
     },
     "execution_count": 6,
     "metadata": {},
     "output_type": "execute_result"
    }
   ],
   "source": [
    "pd.Series(spanish_pattern.findall(general))"
   ]
  },
  {
   "cell_type": "code",
   "execution_count": 7,
   "metadata": {
    "collapsed": false
   },
   "outputs": [
    {
     "data": {
      "text/plain": [
       "0           Español\n",
       "1                Sí\n",
       "2                de\n",
       "3      programación\n",
       "4                 y\n",
       "5              años\n",
       "6           después\n",
       "7               del\n",
       "8             sueño\n",
       "9            léxico\n",
       "10       Matemático\n",
       "11    meta-aplicado\n",
       "dtype: object"
      ]
     },
     "execution_count": 7,
     "metadata": {},
     "output_type": "execute_result"
    }
   ],
   "source": [
    "pd.Series(spanish_pattern.findall(spanish))"
   ]
  },
  {
   "cell_type": "code",
   "execution_count": 8,
   "metadata": {
    "collapsed": false
   },
   "outputs": [
    {
     "name": "stdout",
     "output_type": "stream",
     "text": [
      "English! «Yes», it's the 2nd leaf-cutting ant at five o'clock. Didn't I say?\n"
     ]
    }
   ],
   "source": [
    "english_pattern = regex.compile(r'\\p{N}[\\p{N}\\p{P}]*\\p{N}|\\p{S}?\\p{N}[\\p{P}\\p{N}]{3}\\p{S}?|\\p{L}[\\p{L}\\p{P}]*\\p{L}|\\p{L}{1}|\\p{N}\\p{L}+')\n",
    "print(english)"
   ]
  },
  {
   "cell_type": "code",
   "execution_count": 9,
   "metadata": {
    "collapsed": false
   },
   "outputs": [
    {
     "data": {
      "text/plain": [
       "0              01.01.2017\n",
       "1              01/01/2017\n",
       "2                   £5,99\n",
       "3                    5,99\n",
       "4                    9,99\n",
       "5                     100\n",
       "6                   U.S.A\n",
       "7                    AT&T\n",
       "8    https://de.dariah.eu\n",
       "dtype: object"
      ]
     },
     "execution_count": 9,
     "metadata": {},
     "output_type": "execute_result"
    }
   ],
   "source": [
    "pd.Series(english_pattern.findall(general))"
   ]
  },
  {
   "cell_type": "code",
   "execution_count": 10,
   "metadata": {
    "collapsed": false
   },
   "outputs": [
    {
     "data": {
      "text/plain": [
       "0          English\n",
       "1              Yes\n",
       "2             it's\n",
       "3              the\n",
       "4              2nd\n",
       "5     leaf-cutting\n",
       "6              ant\n",
       "7               at\n",
       "8             five\n",
       "9          o'clock\n",
       "10          Didn't\n",
       "11               I\n",
       "12             say\n",
       "dtype: object"
      ]
     },
     "execution_count": 10,
     "metadata": {},
     "output_type": "execute_result"
    }
   ],
   "source": [
    "pd.Series(english_pattern.findall(english))"
   ]
  },
  {
   "cell_type": "code",
   "execution_count": 11,
   "metadata": {
    "collapsed": false
   },
   "outputs": [
    {
     "name": "stdout",
     "output_type": "stream",
     "text": [
      "Português! «Sim», ciência da computação é a ciência que estuda as técnicas. Classifica-se como ciência?\n"
     ]
    }
   ],
   "source": [
    "portuguese_pattern = regex.compile(r'\\p{N}[\\p{N}\\p{P}]*\\p{N}|\\p{S}?\\p{N}[\\p{P}\\p{N}]{3}\\p{S}?|\\p{L}[\\p{L}\\p{P}]*\\p{L}|\\p{L}{1}')\n",
    "print(portuguese)"
   ]
  },
  {
   "cell_type": "code",
   "execution_count": 12,
   "metadata": {
    "collapsed": false
   },
   "outputs": [
    {
     "data": {
      "text/plain": [
       "0              01.01.2017\n",
       "1              01/01/2017\n",
       "2                   £5,99\n",
       "3                    5,99\n",
       "4                    9,99\n",
       "5                     100\n",
       "6                   U.S.A\n",
       "7                    AT&T\n",
       "8    https://de.dariah.eu\n",
       "dtype: object"
      ]
     },
     "execution_count": 12,
     "metadata": {},
     "output_type": "execute_result"
    }
   ],
   "source": [
    "pd.Series(portuguese_pattern.findall(general))"
   ]
  },
  {
   "cell_type": "code",
   "execution_count": 13,
   "metadata": {
    "collapsed": false
   },
   "outputs": [
    {
     "data": {
      "text/plain": [
       "0         Português\n",
       "1               Sim\n",
       "2           ciência\n",
       "3                da\n",
       "4        computação\n",
       "5                 é\n",
       "6                 a\n",
       "7           ciência\n",
       "8               que\n",
       "9            estuda\n",
       "10               as\n",
       "11         técnicas\n",
       "12    Classifica-se\n",
       "13             como\n",
       "14          ciência\n",
       "dtype: object"
      ]
     },
     "execution_count": 13,
     "metadata": {},
     "output_type": "execute_result"
    }
   ],
   "source": [
    "pd.Series(portuguese_pattern.findall(portuguese))"
   ]
  },
  {
   "cell_type": "code",
   "execution_count": 14,
   "metadata": {
    "collapsed": false
   },
   "outputs": [
    {
     "name": "stdout",
     "output_type": "stream",
     "text": [
      "Deutsch! «Ja», wie geht's? Ein typisches Beispiel für ein System. OK, verbundenes-wort.\n"
     ]
    }
   ],
   "source": [
    "german_pattern = regex.compile(r'\\p{L}[\\p{L}\\p{P}]*\\p{L}|\\p{N}[\\p{N}\\p{P}]*\\p{N}|\\p{S}?\\p{N}[\\p{P}\\p{N}]{3}\\p{S}?')\n",
    "print(german)"
   ]
  },
  {
   "cell_type": "code",
   "execution_count": 15,
   "metadata": {
    "collapsed": false
   },
   "outputs": [
    {
     "data": {
      "text/plain": [
       "0              Deutsch\n",
       "1                   Ja\n",
       "2                  wie\n",
       "3               geht's\n",
       "4                  Ein\n",
       "5            typisches\n",
       "6             Beispiel\n",
       "7                  für\n",
       "8                  ein\n",
       "9               System\n",
       "10                  OK\n",
       "11    verbundenes-wort\n",
       "dtype: object"
      ]
     },
     "execution_count": 15,
     "metadata": {},
     "output_type": "execute_result"
    }
   ],
   "source": [
    "pd.Series(german_pattern.findall(german))"
   ]
  }
 ],
 "metadata": {
  "kernelspec": {
   "display_name": "Python 3",
   "language": "python",
   "name": "python3"
  },
  "language_info": {
   "codemirror_mode": {
    "name": "ipython",
    "version": 3
   },
   "file_extension": ".py",
   "mimetype": "text/x-python",
   "name": "python",
   "nbconvert_exporter": "python",
   "pygments_lexer": "ipython3",
   "version": "3.5.2"
  }
 },
 "nbformat": 4,
 "nbformat_minor": 2
}
