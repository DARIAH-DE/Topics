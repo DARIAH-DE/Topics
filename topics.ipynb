{
 "cells": [
  {
   "cell_type": "markdown",
   "metadata": {},
   "source": [
    "# Topics - Easy Topic Modeling in Python\n",
    "\n",
    "This notebook introduces a workflow using the text mining technique **Topic Modeling**. The Python library [**gensim**](http://radimrehurek.com/gensim/), an open-source vector space modeling and topic modeling toolkit, offers one reliable way to compute the abstract topics of a collection of documents using [LDA](https://en.wikipedia.org/wiki/Latent_Dirichlet_allocation), a generative statistical model. \n",
    "\n",
    "\"Topic models are algorithms for discovering the main themes that pervade a large and otherwise unstructured collection of documents. Topic models can organize the collection according to the discovered themes.\" ([Blei 2012: 77](https://www.cs.princeton.edu/~blei/papers/Blei2012.pdf))\n",
    "\n",
    "Some parts of the following code is heavily inspired by the [gensim tutorial](https://radimrehurek.com/gensim/tutorial.html)."
   ]
  },
  {
   "cell_type": "markdown",
   "metadata": {},
   "source": [
    "### 1. Prearrangement"
   ]
  },
  {
   "cell_type": "markdown",
   "metadata": {},
   "source": [
    "First of all you have to import several pre-processing functions from the [cophi-toolbox](https://github.com/thvitt/cophi-toolbox) and the script **model_creation.py** to create and visualize the LDA model.\n",
    "\n",
    "As a first step, simply run the following statement. The first two lines import the mentioned modules, the last line makes sure that graphs (created by matplotlib) will be displayed within your Jupyter notebook."
   ]
  },
  {
   "cell_type": "code",
   "execution_count": 1,
   "metadata": {
    "collapsed": false
   },
   "outputs": [],
   "source": [
    "from cophi_toolbox.dariah import topics as pre\n",
    "import model_creation as cre\n",
    "%matplotlib inline"
   ]
  },
  {
   "cell_type": "markdown",
   "metadata": {},
   "source": [
    "### 2. Reading documents "
   ]
  },
  {
   "cell_type": "markdown",
   "metadata": {},
   "source": [
    "Let's start reading text files from a folder. The folder **corpus** within **Topics** contains a collection of short stories saved as [plain text](https://en.wikipedi.org/wiki/Plain_text). In case you have your own collection, feel free to set the variable `folder` to the respective path. Be aware of forgetting \"`/*.txt`\" at the end.\n",
    "\n",
    "e. g. `folder = '/users/mycollection/*.txt'`\n",
    "\n",
    "**Note**: Every file has to be saved as plain text."
   ]
  },
  {
   "cell_type": "code",
   "execution_count": 2,
   "metadata": {
    "collapsed": false
   },
   "outputs": [],
   "source": [
    "folder = './corpus/*.txt'"
   ]
  },
  {
   "cell_type": "markdown",
   "metadata": {},
   "source": [
    "To use the first function `pre.readCorpus`, which is reading and saving the content of every single document in a [list](https://docs.python.org/3/tutorial/datastructures.html), run the following statement:"
   ]
  },
  {
   "cell_type": "code",
   "execution_count": 3,
   "metadata": {
    "collapsed": false
   },
   "outputs": [],
   "source": [
    "documents = pre.readCorpus(folder)"
   ]
  },
  {
   "cell_type": "markdown",
   "metadata": {},
   "source": [
    "Now, let's store the file names as document labels in a separate list:"
   ]
  },
  {
   "cell_type": "code",
   "execution_count": 4,
   "metadata": {
    "collapsed": false
   },
   "outputs": [
    {
     "data": {
      "text/plain": [
       "['Doyle_AScandalinBohemia',\n",
       " 'Doyle_AStudyinScarlet',\n",
       " 'Doyle_TheHoundoftheBaskervilles',\n",
       " 'Doyle_TheSignoftheFour',\n",
       " 'Howard_GodsoftheNorth',\n",
       " 'Howard_SchadowsinZamboula',\n",
       " 'Howard_ShadowsintheMoonlight',\n",
       " 'Howard_TheDevilinIron',\n",
       " 'Kipling_TheEndofthePassage',\n",
       " 'Kipling_TheJungleBook',\n",
       " 'Kipling_ThyServantaDog',\n",
       " 'Lovecraft_AttheMountainofMadness',\n",
       " 'Lovecraft_TheShunnedHouse',\n",
       " 'Poe_EurekaAProsePoem',\n",
       " 'Poe_TheCaskofAmontillado',\n",
       " 'Poe_TheMasqueoftheRedDeath',\n",
       " 'Poe_ThePurloinedLetter']"
      ]
     },
     "execution_count": 4,
     "metadata": {},
     "output_type": "execute_result"
    }
   ],
   "source": [
    "doc_labels = pre.docLabels(folder)\n",
    "doc_labels"
   ]
  },
  {
   "cell_type": "markdown",
   "metadata": {},
   "source": [
    "**Hint**: If you are interested in a single function, try using `help()` as in the following block demonstrated."
   ]
  },
  {
   "cell_type": "code",
   "execution_count": 5,
   "metadata": {
    "collapsed": false
   },
   "outputs": [
    {
     "name": "stdout",
     "output_type": "stream",
     "text": [
      "Help on function docLabels in module cophi_toolbox.dariah.topics:\n",
      "\n",
      "docLabels(path)\n",
      "    Create a list of names (of the files) using paths and return a\n",
      "    list.\n",
      "    \n",
      "    Args:\n",
      "        path (str): Path/glob pattern of the text files to process.\n",
      "    \n",
      "    Author:\n",
      "        DARIAH-DE\n",
      "\n"
     ]
    }
   ],
   "source": [
    "help(pre.docLabels)"
   ]
  },
  {
   "cell_type": "markdown",
   "metadata": {},
   "source": [
    "### 3. Preprocessing"
   ]
  },
  {
   "cell_type": "markdown",
   "metadata": {},
   "source": [
    "To compute a reliable result, you have to pre-process the documents before creating a model. \n",
    "\n",
    "Tokenization, also called word segmentation, is the process of finding word boundaries - in its simplest form, by using the blanks in-between words as delimiters. This is exactly what you do now using `pre.tokenize`."
   ]
  },
  {
   "cell_type": "code",
   "execution_count": 6,
   "metadata": {
    "collapsed": true
   },
   "outputs": [],
   "source": [
    "texts = pre.tokenize(documents)"
   ]
  },
  {
   "cell_type": "markdown",
   "metadata": {},
   "source": [
    "Now remove hapax legomena. A hapax legomenon is a single word that occurs only once in a text."
   ]
  },
  {
   "cell_type": "code",
   "execution_count": 7,
   "metadata": {
    "collapsed": true
   },
   "outputs": [],
   "source": [
    "texts = pre.removeHapaxLeg(texts)"
   ]
  },
  {
   "cell_type": "markdown",
   "metadata": {},
   "source": [
    "Let's finally remove stopwords. Stopwords might occure a thousand times in one document but will not be considered because of its semantic unimportance. Feel free to have a look at the stopwords lists in the folder **stopwords** within **helpful_stuff**.\n",
    "\n",
    "Before removing stopwords, make sure the parameter `stoplist` is set correctly to either 'en', 'de', 'es' or 'fr'."
   ]
  },
  {
   "cell_type": "code",
   "execution_count": 8,
   "metadata": {
    "collapsed": true
   },
   "outputs": [],
   "source": [
    "texts = pre.removeStopWords(texts, stoplist = 'en')"
   ]
  },
  {
   "cell_type": "markdown",
   "metadata": {},
   "source": [
    "### 4. Model creation"
   ]
  },
  {
   "cell_type": "markdown",
   "metadata": {},
   "source": [
    "Create the LDA model, and if you are wondering: yes, this may take a while. `no_of_topics = 10` means ten topics will be created. In case you want twenty models or whatever to be created, just update the number.\n",
    "\n",
    "The output offers a brief insight what the function is actually doing."
   ]
  },
  {
   "cell_type": "code",
   "execution_count": 25,
   "metadata": {
    "collapsed": false,
    "scrolled": true
   },
   "outputs": [
    {
     "name": "stderr",
     "output_type": "stream",
     "text": [
      "2016-09-27 14:38:00,862 : INFO : adding document #0 to Dictionary(0 unique tokens: [])\n",
      "2016-09-27 14:38:00,888 : INFO : built Dictionary(514 unique tokens: ['bohemian', 'pulled', 'plans', 'case', 'good']...) from 17 documents (total 35384 corpus positions)\n",
      "2016-09-27 14:38:00,912 : INFO : using symmetric alpha at 0.1\n",
      "2016-09-27 14:38:00,913 : INFO : using symmetric eta at 0.1\n",
      "2016-09-27 14:38:00,914 : INFO : using serial LDA version on this node\n",
      "2016-09-27 14:38:00,970 : INFO : running online LDA training, 10 topics, 10 passes over the supplied corpus of 17 documents, updating model once every 17 documents, evaluating perplexity every 17 documents, iterating 50x with a convergence threshold of 0.001000\n",
      "2016-09-27 14:38:01,465 : INFO : -6.976 per-word bound, 125.9 perplexity estimate based on a held-out corpus of 17 documents with 35384 words\n",
      "2016-09-27 14:38:01,465 : INFO : PROGRESS: pass 0, at document #17/17\n",
      "2016-09-27 14:38:01,551 : INFO : topic #5 (0.100): 0.035*will + 0.034*man + 0.019*time + 0.017*head + 0.014*night + 0.014*well + 0.013*great + 0.013*long + 0.012*eyes + 0.012*men\n",
      "2016-09-27 14:38:01,552 : INFO : topic #6 (0.100): 0.025*man + 0.023*will + 0.020*well + 0.017*time + 0.016*holmes + 0.013*great + 0.011*long + 0.011*matter + 0.011*night + 0.011*face\n",
      "2016-09-27 14:38:01,553 : INFO : topic #0 (0.100): 0.022*man + 0.021*house + 0.017*time + 0.015*street + 0.015*will + 0.013*well + 0.011*holmes + 0.011*great + 0.011*door + 0.011*long\n",
      "2016-09-27 14:38:01,554 : INFO : topic #3 (0.100): 0.026*man + 0.024*will + 0.018*holmes + 0.016*long + 0.014*well + 0.012*eyes + 0.011*house + 0.010*night + 0.010*time + 0.010*hand\n",
      "2016-09-27 14:38:01,556 : INFO : topic #4 (0.100): 0.022*man + 0.018*will + 0.017*well + 0.015*good + 0.012*long + 0.012*holmes + 0.012*night + 0.011*great + 0.011*time + 0.010*matter\n",
      "2016-09-27 14:38:01,557 : INFO : topic diff=1.300696, rho=1.000000\n",
      "2016-09-27 14:38:02,006 : INFO : -5.914 per-word bound, 60.3 perplexity estimate based on a held-out corpus of 17 documents with 35384 words\n",
      "2016-09-27 14:38:02,007 : INFO : PROGRESS: pass 1, at document #17/17\n",
      "2016-09-27 14:38:02,098 : INFO : topic #8 (0.100): 0.026*man + 0.021*will + 0.019*door + 0.014*black + 0.014*holmes + 0.014*hand + 0.013*eyes + 0.011*night + 0.011*time + 0.011*room\n",
      "2016-09-27 14:38:02,100 : INFO : topic #0 (0.100): 0.037*house + 0.026*street + 0.018*time + 0.017*man + 0.015*door + 0.013*thing + 0.012*well + 0.012*great + 0.010*will + 0.010*years\n",
      "2016-09-27 14:38:02,101 : INFO : topic #1 (0.100): 0.026*man + 0.025*will + 0.014*time + 0.014*eyes + 0.013*well + 0.013*long + 0.012*holmes + 0.012*great + 0.011*night + 0.011*house\n",
      "2016-09-27 14:38:02,102 : INFO : topic #3 (0.100): 0.027*man + 0.023*will + 0.023*holmes + 0.014*well + 0.013*long + 0.012*house + 0.011*eyes + 0.011*night + 0.010*time + 0.009*good\n",
      "2016-09-27 14:38:02,103 : INFO : topic #9 (0.100): 0.026*will + 0.024*man + 0.018*eyes + 0.018*time + 0.014*head + 0.014*well + 0.012*good + 0.012*hand + 0.011*great + 0.011*long\n",
      "2016-09-27 14:38:02,105 : INFO : topic diff=0.445964, rho=0.577350\n",
      "2016-09-27 14:38:02,576 : INFO : -5.815 per-word bound, 56.3 perplexity estimate based on a held-out corpus of 17 documents with 35384 words\n",
      "2016-09-27 14:38:02,576 : INFO : PROGRESS: pass 2, at document #17/17\n",
      "2016-09-27 14:38:02,663 : INFO : topic #3 (0.100): 0.027*man + 0.027*holmes + 0.024*will + 0.014*well + 0.012*house + 0.011*night + 0.011*watson + 0.011*long + 0.010*eyes + 0.010*face\n",
      "2016-09-27 14:38:02,664 : INFO : topic #6 (0.100): 0.027*man + 0.022*well + 0.022*will + 0.017*holmes + 0.015*time + 0.012*matter + 0.012*face + 0.011*letter + 0.011*good + 0.011*long\n",
      "2016-09-27 14:38:02,665 : INFO : topic #1 (0.100): 0.025*man + 0.024*will + 0.014*time + 0.013*eyes + 0.013*well + 0.013*long + 0.012*holmes + 0.011*great + 0.011*night + 0.010*house\n",
      "2016-09-27 14:38:02,667 : INFO : topic #7 (0.100): 0.035*man + 0.020*will + 0.020*time + 0.019*holmes + 0.017*well + 0.014*face + 0.014*don + 0.014*night + 0.011*eyes + 0.011*hand\n",
      "2016-09-27 14:38:02,668 : INFO : topic #8 (0.100): 0.028*man + 0.024*door + 0.020*will + 0.016*eyes + 0.016*black + 0.016*hand + 0.013*girl + 0.012*head + 0.012*stood + 0.012*room\n",
      "2016-09-27 14:38:02,669 : INFO : topic diff=0.485010, rho=0.500000\n",
      "2016-09-27 14:38:03,130 : INFO : -5.751 per-word bound, 53.9 perplexity estimate based on a held-out corpus of 17 documents with 35384 words\n",
      "2016-09-27 14:38:03,130 : INFO : PROGRESS: pass 3, at document #17/17\n",
      "2016-09-27 14:38:03,211 : INFO : topic #2 (0.100): 0.025*great + 0.025*will + 0.019*man + 0.018*time + 0.016*well + 0.015*course + 0.014*point + 0.014*long + 0.013*matter + 0.011*left\n",
      "2016-09-27 14:38:03,212 : INFO : topic #5 (0.100): 0.042*will + 0.036*man + 0.024*head + 0.024*time + 0.016*long + 0.016*men + 0.016*night + 0.015*good + 0.015*well + 0.014*things\n",
      "2016-09-27 14:38:03,213 : INFO : topic #9 (0.100): 0.023*eyes + 0.023*man + 0.020*will + 0.019*girl + 0.017*time + 0.016*lay + 0.016*head + 0.016*hand + 0.015*ll + 0.014*black\n",
      "2016-09-27 14:38:03,215 : INFO : topic #8 (0.100): 0.029*man + 0.027*door + 0.020*will + 0.019*eyes + 0.017*black + 0.016*hand + 0.015*girl + 0.014*head + 0.013*great + 0.013*stood\n",
      "2016-09-27 14:38:03,216 : INFO : topic #0 (0.100): 0.056*house + 0.038*street + 0.019*door + 0.018*time + 0.017*thing + 0.013*years + 0.013*great + 0.013*family + 0.012*half + 0.011*thought\n",
      "2016-09-27 14:38:03,217 : INFO : topic diff=0.468804, rho=0.447214\n",
      "2016-09-27 14:38:03,710 : INFO : -5.708 per-word bound, 52.3 perplexity estimate based on a held-out corpus of 17 documents with 35384 words\n",
      "2016-09-27 14:38:03,711 : INFO : PROGRESS: pass 4, at document #17/17\n",
      "2016-09-27 14:38:03,803 : INFO : topic #6 (0.100): 0.029*man + 0.021*will + 0.020*well + 0.016*holmes + 0.015*asked + 0.015*time + 0.013*face + 0.013*answered + 0.012*hope + 0.012*hand\n",
      "2016-09-27 14:38:03,804 : INFO : topic #9 (0.100): 0.024*eyes + 0.022*man + 0.022*girl + 0.019*will + 0.018*lay + 0.017*hand + 0.016*head + 0.016*ll + 0.016*time + 0.015*black\n",
      "2016-09-27 14:38:03,806 : INFO : topic #5 (0.100): 0.041*will + 0.036*man + 0.026*head + 0.024*time + 0.017*long + 0.016*men + 0.016*night + 0.016*good + 0.015*told + 0.015*things\n",
      "2016-09-27 14:38:03,807 : INFO : topic #3 (0.100): 0.030*holmes + 0.028*man + 0.024*will + 0.015*well + 0.013*watson + 0.012*night + 0.011*house + 0.010*face + 0.010*time + 0.010*eyes\n",
      "2016-09-27 14:38:03,809 : INFO : topic #7 (0.100): 0.040*man + 0.019*holmes + 0.019*time + 0.018*don + 0.018*well + 0.016*will + 0.016*face + 0.016*night + 0.014*small + 0.013*hand\n",
      "2016-09-27 14:38:03,811 : INFO : topic diff=0.435078, rho=0.408248\n",
      "2016-09-27 14:38:04,261 : INFO : -5.680 per-word bound, 51.3 perplexity estimate based on a held-out corpus of 17 documents with 35384 words\n",
      "2016-09-27 14:38:04,262 : INFO : PROGRESS: pass 5, at document #17/17\n",
      "2016-09-27 14:38:04,335 : INFO : topic #3 (0.100): 0.031*holmes + 0.028*man + 0.024*will + 0.015*well + 0.013*watson + 0.012*night + 0.011*house + 0.010*face + 0.010*time + 0.010*good\n",
      "2016-09-27 14:38:04,336 : INFO : topic #2 (0.100): 0.030*will + 0.027*great + 0.019*time + 0.019*course + 0.019*point + 0.017*matter + 0.016*well + 0.016*long + 0.015*man + 0.013*things\n",
      "2016-09-27 14:38:04,337 : INFO : topic #4 (0.100): 0.013*man + 0.011*will + 0.010*well + 0.009*good + 0.008*long + 0.008*holmes + 0.007*night + 0.007*great + 0.007*time + 0.006*matter\n",
      "2016-09-27 14:38:04,339 : INFO : topic #8 (0.100): 0.030*door + 0.030*man + 0.021*eyes + 0.020*will + 0.019*black + 0.017*girl + 0.017*hand + 0.016*head + 0.015*great + 0.014*men\n",
      "2016-09-27 14:38:04,340 : INFO : topic #6 (0.100): 0.030*man + 0.020*will + 0.020*well + 0.016*asked + 0.016*holmes + 0.015*time + 0.013*answered + 0.013*hope + 0.013*face + 0.013*hand\n",
      "2016-09-27 14:38:04,341 : INFO : topic diff=0.392951, rho=0.377964\n",
      "2016-09-27 14:38:04,779 : INFO : -5.661 per-word bound, 50.6 perplexity estimate based on a held-out corpus of 17 documents with 35384 words\n",
      "2016-09-27 14:38:04,780 : INFO : PROGRESS: pass 6, at document #17/17\n",
      "2016-09-27 14:38:04,851 : INFO : topic #8 (0.100): 0.031*door + 0.030*man + 0.021*eyes + 0.020*will + 0.020*black + 0.018*girl + 0.017*hand + 0.016*head + 0.015*great + 0.015*men\n",
      "2016-09-27 14:38:04,853 : INFO : topic #3 (0.100): 0.031*holmes + 0.028*man + 0.024*will + 0.015*well + 0.013*watson + 0.012*night + 0.011*house + 0.010*face + 0.010*time + 0.010*good\n",
      "2016-09-27 14:38:04,854 : INFO : topic #1 (0.100): 0.016*man + 0.016*will + 0.009*time + 0.009*eyes + 0.009*well + 0.009*long + 0.008*holmes + 0.008*great + 0.008*night + 0.007*house\n",
      "2016-09-27 14:38:04,855 : INFO : topic #7 (0.100): 0.041*man + 0.019*don + 0.019*holmes + 0.018*well + 0.018*small + 0.018*time + 0.017*night + 0.017*face + 0.015*hand + 0.014*will\n",
      "2016-09-27 14:38:04,856 : INFO : topic #0 (0.100): 0.065*house + 0.044*street + 0.021*door + 0.019*thing + 0.019*time + 0.015*years + 0.015*family + 0.014*half + 0.013*great + 0.013*ground\n",
      "2016-09-27 14:38:04,858 : INFO : topic diff=0.349487, rho=0.353553\n",
      "2016-09-27 14:38:05,287 : INFO : -5.649 per-word bound, 50.2 perplexity estimate based on a held-out corpus of 17 documents with 35384 words\n",
      "2016-09-27 14:38:05,289 : INFO : PROGRESS: pass 7, at document #17/17\n",
      "2016-09-27 14:38:05,368 : INFO : topic #4 (0.100): 0.009*man + 0.007*will + 0.007*well + 0.006*good + 0.005*long + 0.005*holmes + 0.005*night + 0.005*great + 0.005*time + 0.005*matter\n",
      "2016-09-27 14:38:05,370 : INFO : topic #2 (0.100): 0.032*will + 0.028*great + 0.021*point + 0.021*course + 0.019*time + 0.019*matter + 0.016*long + 0.016*well + 0.015*things + 0.014*general\n",
      "2016-09-27 14:38:05,371 : INFO : topic #9 (0.100): 0.026*girl + 0.026*eyes + 0.022*man + 0.020*lay + 0.019*hand + 0.018*ll + 0.017*black + 0.017*head + 0.016*will + 0.016*long\n",
      "2016-09-27 14:38:05,372 : INFO : topic #5 (0.100): 0.040*will + 0.037*man + 0.027*head + 0.026*time + 0.017*night + 0.017*told + 0.017*long + 0.017*men + 0.017*good + 0.017*things\n",
      "2016-09-27 14:38:05,373 : INFO : topic #1 (0.100): 0.014*man + 0.014*will + 0.008*time + 0.008*eyes + 0.008*well + 0.007*long + 0.007*holmes + 0.007*great + 0.007*night + 0.006*house\n",
      "2016-09-27 14:38:05,374 : INFO : topic diff=0.306615, rho=0.333333\n",
      "2016-09-27 14:38:05,811 : INFO : -5.641 per-word bound, 49.9 perplexity estimate based on a held-out corpus of 17 documents with 35384 words\n",
      "2016-09-27 14:38:05,812 : INFO : PROGRESS: pass 8, at document #17/17\n",
      "2016-09-27 14:38:05,885 : INFO : topic #4 (0.100): 0.007*man + 0.006*will + 0.006*well + 0.005*good + 0.005*long + 0.005*holmes + 0.004*night + 0.004*great + 0.004*time + 0.004*matter\n",
      "2016-09-27 14:38:05,887 : INFO : topic #9 (0.100): 0.027*girl + 0.026*eyes + 0.022*man + 0.021*lay + 0.019*hand + 0.018*ll + 0.017*black + 0.017*head + 0.016*long + 0.016*will\n",
      "2016-09-27 14:38:05,888 : INFO : topic #6 (0.100): 0.031*man + 0.019*will + 0.018*well + 0.017*asked + 0.016*holmes + 0.015*time + 0.015*answered + 0.014*hope + 0.014*hand + 0.013*face\n",
      "2016-09-27 14:38:05,889 : INFO : topic #5 (0.100): 0.040*will + 0.037*man + 0.027*head + 0.026*time + 0.017*told + 0.017*night + 0.017*long + 0.017*things + 0.017*good + 0.017*men\n",
      "2016-09-27 14:38:05,890 : INFO : topic #7 (0.100): 0.042*man + 0.021*small + 0.019*don + 0.018*well + 0.018*holmes + 0.018*night + 0.018*time + 0.016*face + 0.016*hand + 0.015*good\n",
      "2016-09-27 14:38:05,891 : INFO : topic diff=0.265852, rho=0.316228\n",
      "2016-09-27 14:38:06,331 : INFO : -5.635 per-word bound, 49.7 perplexity estimate based on a held-out corpus of 17 documents with 35384 words\n",
      "2016-09-27 14:38:06,332 : INFO : PROGRESS: pass 9, at document #17/17\n",
      "2016-09-27 14:38:06,404 : INFO : topic #1 (0.100): 0.009*man + 0.009*will + 0.006*time + 0.006*eyes + 0.006*well + 0.005*long + 0.005*holmes + 0.005*great + 0.005*night + 0.005*house\n",
      "2016-09-27 14:38:06,405 : INFO : topic #6 (0.100): 0.031*man + 0.019*will + 0.018*well + 0.017*asked + 0.016*holmes + 0.015*answered + 0.015*time + 0.014*hope + 0.014*hand + 0.013*face\n",
      "2016-09-27 14:38:06,407 : INFO : topic #4 (0.100): 0.006*man + 0.005*will + 0.005*well + 0.004*good + 0.004*long + 0.004*holmes + 0.004*night + 0.004*great + 0.004*time + 0.003*matter\n",
      "2016-09-27 14:38:06,408 : INFO : topic #9 (0.100): 0.028*girl + 0.027*eyes + 0.022*man + 0.021*lay + 0.020*hand + 0.018*ll + 0.018*black + 0.017*head + 0.016*long + 0.016*white\n",
      "2016-09-27 14:38:06,410 : INFO : topic #3 (0.100): 0.032*holmes + 0.028*man + 0.024*will + 0.015*well + 0.014*watson + 0.012*night + 0.011*house + 0.010*face + 0.010*time + 0.009*good\n",
      "2016-09-27 14:38:06,411 : INFO : topic diff=0.228434, rho=0.301511\n"
     ]
    }
   ],
   "source": [
    "no_of_topics = 10\n",
    "\n",
    "gensim_output = cre.gensimModel(texts, no_of_topics)\n",
    "\n",
    "model = gensim_output[0]\n",
    "dictionary = gensim_output[1]\n",
    "corpus = gensim_output[2]\n",
    "topics = gensim_output[3]"
   ]
  },
  {
   "cell_type": "markdown",
   "metadata": {},
   "source": [
    "Now, create topic labels using the LDA model."
   ]
  },
  {
   "cell_type": "code",
   "execution_count": 26,
   "metadata": {
    "collapsed": false
   },
   "outputs": [],
   "source": [
    "topic_labels = cre.topicLabels(model, no_of_topics)"
   ]
  },
  {
   "cell_type": "markdown",
   "metadata": {},
   "source": [
    "Let's see what you have done: the generated topics will be printed out with the following statement."
   ]
  },
  {
   "cell_type": "code",
   "execution_count": 27,
   "metadata": {
    "collapsed": false,
    "scrolled": true
   },
   "outputs": [
    {
     "data": {
      "text/plain": [
       "[(5,\n",
       "  '0.040*will + 0.037*man + 0.027*head + 0.026*time + 0.018*told + 0.017*night + 0.017*things + 0.017*good + 0.017*long + 0.017*men'),\n",
       " (8,\n",
       "  '0.032*door + 0.030*man + 0.022*eyes + 0.021*black + 0.020*will + 0.018*girl + 0.017*head + 0.017*hand + 0.016*great + 0.016*men'),\n",
       " (2,\n",
       "  '0.034*will + 0.029*great + 0.023*point + 0.022*course + 0.020*matter + 0.019*time + 0.017*long + 0.016*well + 0.016*things + 0.015*general'),\n",
       " (6,\n",
       "  '0.031*man + 0.019*will + 0.018*well + 0.017*asked + 0.016*holmes + 0.015*answered + 0.015*time + 0.014*hope + 0.014*hand + 0.013*face'),\n",
       " (0,\n",
       "  '0.067*house + 0.046*street + 0.022*door + 0.020*thing + 0.019*time + 0.015*years + 0.015*family + 0.014*half + 0.013*great + 0.013*ground')]"
      ]
     },
     "execution_count": 27,
     "metadata": {},
     "output_type": "execute_result"
    }
   ],
   "source": [
    "model.show_topics(num_topics = 5)"
   ]
  },
  {
   "cell_type": "markdown",
   "metadata": {},
   "source": [
    "To save the gensim output in the folder **out** within **Topics**, but this is not necessary to visualize the model:"
   ]
  },
  {
   "cell_type": "code",
   "execution_count": 28,
   "metadata": {
    "collapsed": false
   },
   "outputs": [
    {
     "name": "stderr",
     "output_type": "stream",
     "text": [
      "2016-09-27 14:38:36,335 : INFO : saving Dictionary object under out/corpus.dict, separately None\n",
      "2016-09-27 14:38:36,337 : INFO : storing corpus in Matrix Market format to out/corpus.mm\n",
      "2016-09-27 14:38:36,339 : INFO : saving sparse matrix to out/corpus.mm\n",
      "2016-09-27 14:38:36,341 : INFO : PROGRESS: saving document #0\n",
      "2016-09-27 14:38:36,361 : INFO : saved 17x514 matrix, density=52.472% (4585/8738)\n",
      "2016-09-27 14:38:36,363 : INFO : saving MmCorpus index to out/corpus.mm.index\n",
      "2016-09-27 14:38:36,364 : INFO : saving LdaState object under out/corpus.lda.state, separately None\n",
      "2016-09-27 14:38:36,366 : INFO : saving LdaModel object under out/corpus.lda, separately None\n",
      "2016-09-27 14:38:36,367 : INFO : not storing attribute dispatcher\n",
      "2016-09-27 14:38:36,368 : INFO : not storing attribute state\n"
     ]
    },
    {
     "name": "stdout",
     "output_type": "stream",
     "text": [
      "saving ...\n",
      "\n"
     ]
    }
   ],
   "source": [
    "cre.saveGensimModel(model, corpus, dictionary, no_of_topics, doc_labels)"
   ]
  },
  {
   "cell_type": "markdown",
   "metadata": {},
   "source": [
    "### 5. The document-topic matrix"
   ]
  },
  {
   "cell_type": "markdown",
   "metadata": {},
   "source": [
    "As one of the last steps you will create a doc-topic matrix from the gensim objects. In its basics the doc-topic matrix describes the frequency of topics that occur in your collection of documents. "
   ]
  },
  {
   "cell_type": "code",
   "execution_count": 31,
   "metadata": {
    "collapsed": false
   },
   "outputs": [],
   "source": [
    "doc_topic = cre.gensim_to_dtm(model, corpus, no_of_topics)"
   ]
  },
  {
   "cell_type": "markdown",
   "metadata": {},
   "source": [
    "### 6. Document-topic heatmap"
   ]
  },
  {
   "cell_type": "markdown",
   "metadata": {},
   "source": [
    "`cre.docTopHeatmap` finally visualizes the model and displays a [heatmap](https://en.wikipedia.org/wiki/Heat_map)."
   ]
  },
  {
   "cell_type": "code",
   "execution_count": 32,
   "metadata": {
    "collapsed": false
   },
   "outputs": [
    {
     "data": {
      "image/png": "[encoded data removed]",
      "text/plain": [
       "<matplotlib.figure.Figure at 0x10789bb70>"
      ]
     },
     "metadata": {},
     "output_type": "display_data"
    }
   ],
   "source": [
    "cre.docTopHeatmap(doc_topic, doc_labels, topic_labels)"
   ]
  },
  {
   "cell_type": "code",
   "execution_count": null,
   "metadata": {
    "collapsed": true
   },
   "outputs": [],
   "source": []
  }
 ],
 "metadata": {
  "kernelspec": {
   "display_name": "Python 3",
   "language": "python",
   "name": "python3"
  },
  "language_info": {
   "codemirror_mode": {
    "name": "ipython",
    "version": 3
   },
   "file_extension": ".py",
   "mimetype": "text/x-python",
   "name": "python",
   "nbconvert_exporter": "python",
   "pygments_lexer": "ipython3",
   "version": "3.5.2"
  }
 },
 "nbformat": 4,
 "nbformat_minor": 0
}

