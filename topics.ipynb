{
 "cells": [
  {
   "cell_type": "markdown",
   "metadata": {},
   "source": [
    "# Topic Modeling #\n",
    "\n",
    "Gensim-based functions:"
   ]
  },
  {
   "cell_type": "markdown",
   "metadata": {},
   "source": [
    "Load functions from 'topics.py'."
   ]
  },
  {
   "cell_type": "code",
   "execution_count": 1,
   "metadata": {
    "collapsed": false
   },
   "outputs": [],
   "source": [
    "import topics as tp"
   ]
  },
  {
   "cell_type": "markdown",
   "metadata": {},
   "source": [
    "Tell jupyter to draw figures within the browser."
   ]
  },
  {
   "cell_type": "code",
   "execution_count": 2,
   "metadata": {
    "collapsed": true
   },
   "outputs": [],
   "source": [
    "%matplotlib inline"
   ]
  },
  {
   "cell_type": "markdown",
   "metadata": {},
   "source": [
    "Read text files from a folder."
   ]
  },
  {
   "cell_type": "code",
   "execution_count": 3,
   "metadata": {
    "collapsed": false
   },
   "outputs": [],
   "source": [
    "#folder = './test_corpus/*.txt'\n",
    "folder = './corpus_lang/*.txt'\n",
    "documents = tp.readCorpus(folder)"
   ]
  },
  {
   "cell_type": "markdown",
   "metadata": {},
   "source": [
    "Store the file names as document labels in a separate list."
   ]
  },
  {
   "cell_type": "code",
   "execution_count": 4,
   "metadata": {
    "collapsed": false
   },
   "outputs": [
    {
     "data": {
      "text/plain": [
       "['Kipling_TheEndofthePassage',\n",
       " 'Howard_TheDevilinIron',\n",
       " 'Poe_TheMasqueoftheRedDeath',\n",
       " 'Doyle_AScandalinBohemia',\n",
       " 'Doyle_AStudyinScarlet',\n",
       " 'Kipling_ThyServantaDog',\n",
       " 'Poe_TheCaskofAmontillado',\n",
       " 'Howard_ShadowsintheMoonlight',\n",
       " 'Howard_GodsoftheNorth',\n",
       " 'Howard_SchadowsinZamboula',\n",
       " 'Doyle_TheSignoftheFour',\n",
       " 'Lovecraft_AttheMountainofMadness',\n",
       " 'Poe_ThePurloinedLetter',\n",
       " 'Lovecraft_TheShunnedHouse',\n",
       " 'Poe_EurekaAProsePoem',\n",
       " 'Kipling_TheJungleBook',\n",
       " 'Doyle_TheHoundoftheBaskervilles']"
      ]
     },
     "execution_count": 4,
     "metadata": {},
     "output_type": "execute_result"
    }
   ],
   "source": [
    "doc_labels = tp.docLabels(folder)\n",
    "doc_labels"
   ]
  },
  {
   "cell_type": "markdown",
   "metadata": {},
   "source": [
    "### Preprocessing ###\n",
    "\n",
    "Tokenize texts."
   ]
  },
  {
   "cell_type": "code",
   "execution_count": 5,
   "metadata": {
    "collapsed": true
   },
   "outputs": [],
   "source": [
    "texts = tp.tokenize(documents)"
   ]
  },
  {
   "cell_type": "markdown",
   "metadata": {},
   "source": [
    "Remove hapax legomena."
   ]
  },
  {
   "cell_type": "code",
   "execution_count": 6,
   "metadata": {
    "collapsed": true
   },
   "outputs": [],
   "source": [
    "texts = tp.removeHapaxLeg(texts)"
   ]
  },
  {
   "cell_type": "markdown",
   "metadata": {},
   "source": [
    "Remove stopwords."
   ]
  },
  {
   "cell_type": "code",
   "execution_count": 7,
   "metadata": {
    "collapsed": true
   },
   "outputs": [],
   "source": [
    "texts = tp.removeStopWords(texts, stoplist = 'en')"
   ]
  },
  {
   "cell_type": "markdown",
   "metadata": {},
   "source": [
    "### Model creation ###"
   ]
  },
  {
   "cell_type": "code",
   "execution_count": 8,
   "metadata": {
    "collapsed": false,
    "scrolled": true
   },
   "outputs": [],
   "source": [
    "from gensim import corpora, models\n",
    "\n",
    "no_of_topics = 10\n",
    "\n",
    "dictionary = corpora.Dictionary(texts)\n",
    "corpus = [dictionary.doc2bow(text) for text in texts]\n",
    "model = models.LdaModel(corpus,\n",
    "    id2word = dictionary,\n",
    "    num_topics = no_of_topics,\n",
    "    passes = 10\n",
    "    )"
   ]
  },
  {
   "cell_type": "markdown",
   "metadata": {},
   "source": [
    "Show some topics."
   ]
  },
  {
   "cell_type": "code",
   "execution_count": 9,
   "metadata": {
    "collapsed": false,
    "scrolled": true
   },
   "outputs": [
    {
     "data": {
      "text/plain": [
       "['0.007*s + 0.005*lake + 0.005*great + 0.004*old + 0.003*ones + 0.003*city + 0.003*camp + 0.003*did + 0.003*feet + 0.003*like',\n",
       " '0.015*said + 0.011*s + 0.008*man + 0.005*holmes + 0.005*like + 0.004*sir + 0.004*t + 0.004*did + 0.004*came + 0.004*come',\n",
       " '0.001*s + 0.001*said + 0.001*man + 0.000*like + 0.000*came + 0.000*conan + 0.000*great + 0.000*did + 0.000*little + 0.000*come',\n",
       " '0.010*house + 0.008*s + 0.007*street + 0.006*uncle + 0.006*harris + 0.003*door + 0.003*shunned + 0.003*old + 0.003*thing + 0.003*cellar',\n",
       " '0.011*said + 0.007*amontillado + 0.007*ugh + 0.006*fortunato + 0.004*let + 0.004*replied + 0.003*friend + 0.003*yes + 0.003*bones + 0.003*luchesi']"
      ]
     },
     "execution_count": 9,
     "metadata": {},
     "output_type": "execute_result"
    }
   ],
   "source": [
    "model.show_topics(num_topics = 5)"
   ]
  },
  {
   "cell_type": "markdown",
   "metadata": {},
   "source": [
    "Save genisim output."
   ]
  },
  {
   "cell_type": "code",
   "execution_count": 10,
   "metadata": {
    "collapsed": false
   },
   "outputs": [
    {
     "name": "stdout",
     "output_type": "stream",
     "text": [
      "saving ...\n",
      "\n"
     ]
    }
   ],
   "source": [
    "import os\n",
    "from gensim.corpora import MmCorpus, Dictionary\n",
    "\n",
    "print(\"saving ...\\n\")\n",
    "\n",
    "foldername = 'test'\n",
    "topics = model.show_topics(num_topics = 5)\n",
    " \n",
    "if not os.path.exists(\"out\"): os.makedirs(\"out\")\n",
    " \n",
    "with open(\"out/\"+foldername+\"_doclabels.txt\", \"w\") as f:\n",
    "    for item in doc_labels: f.write(item+\"\\n\")\n",
    " \n",
    "with open(\"out/\"+foldername+\"_topics.txt\", \"w\") as f:\n",
    "    for item, i in zip(topics, enumerate(topics)):\n",
    "        f.write(\"topic #\"+str(i[0])+\": \"+item+\"\\n\")\n",
    " \n",
    "dictionary.save(\"out/\"+foldername+\".dict\")\n",
    "MmCorpus.serialize(\"out/\"+foldername+\".mm\", corpus)\n",
    "model.save(\"out/\"+foldername+\".lda\")"
   ]
  },
  {
   "cell_type": "markdown",
   "metadata": {},
   "source": [
    "Create a doc-topic matrix from the gensim objects."
   ]
  },
  {
   "cell_type": "code",
   "execution_count": 12,
   "metadata": {
    "collapsed": false
   },
   "outputs": [],
   "source": [
    "doc_topic = tp.gensim_to_dtm(model, corpus, no_of_topics)"
   ]
  },
  {
   "cell_type": "code",
   "execution_count": null,
   "metadata": {
    "collapsed": false,
    "scrolled": true
   },
   "outputs": [],
   "source": []
  },
  {
   "cell_type": "code",
   "execution_count": 13,
   "metadata": {
    "collapsed": false
   },
   "outputs": [
    {
     "data": {
      "text/plain": [
       "['said s little',\n",
       " 'said s man',\n",
       " 'said s man',\n",
       " 's lake great',\n",
       " 'atoms say matter',\n",
       " 'house s street',\n",
       " 's said man',\n",
       " 's said man',\n",
       " 's said man',\n",
       " 'said amontillado ugh']"
      ]
     },
     "execution_count": 13,
     "metadata": {},
     "output_type": "execute_result"
    }
   ],
   "source": [
    "# get plot labels\n",
    "\n",
    "topic_labels = []\n",
    "for i in range(no_of_topics):\n",
    "    topic_terms = [x[1] for x in model.show_topic(i, topn=3)]\n",
    "    topic_labels.append(\" \".join(topic_terms))\n",
    "topic_labels"
   ]
  },
  {
   "cell_type": "code",
   "execution_count": 17,
   "metadata": {
    "collapsed": false
   },
   "outputs": [
    {
     "data": {
      "image/png": "[encoded data removed]",
      "text/plain": [
       "<matplotlib.figure.Figure at 0x7ffa73070f28>"
      ]
     },
     "metadata": {},
     "output_type": "display_data"
    }
   ],
   "source": [
    "# cf. https://de.dariah.eu/tatom/topic_model_visualization.html\n",
    "import matplotlib.pyplot as plt\n",
    "import numpy as np\n",
    "\n",
    "no_of_docs = len(corpus)\n",
    "\n",
    "if no_of_docs > 20 or no_of_topics > 20: plt.figure(figsize=(20,20))    # if many items, enlarge figure\n",
    "plt.pcolor(doc_topic, norm=None, cmap='Reds')\n",
    "plt.yticks(np.arange(doc_topic.shape[0])+1.0, doc_labels)\n",
    "plt.xticks(np.arange(doc_topic.shape[1])+0.5, topic_labels, rotation='90')\n",
    "plt.gca().invert_yaxis()\n",
    "plt.colorbar(cmap='Reds')\n",
    "plt.tight_layout()\n",
    "\n",
    "#plt.savefig(path+\"/\"+corpusname+\"_heatmap.png\") #, dpi=80)\n",
    "plt.show()"
   ]
  }
 ],
 "metadata": {
  "kernelspec": {
   "display_name": "Python 3",
   "language": "python",
   "name": "python3"
  },
  "language_info": {
   "codemirror_mode": {
    "name": "ipython",
    "version": 3
   },
   "file_extension": ".py",
   "mimetype": "text/x-python",
   "name": "python",
   "nbconvert_exporter": "python",
   "pygments_lexer": "ipython3",
   "version": "3.4.3"
  }
 },
 "nbformat": 4,
 "nbformat_minor": 0
}
