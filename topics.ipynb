{
 "cells": [
  {
   "cell_type": "markdown",
   "metadata": {},
   "source": [
    "# Topic Modeling #\n",
    "\n"
   ]
  },
  {
   "cell_type": "markdown",
   "metadata": {},
   "source": [
    "Load functions from 'topics.py'."
   ]
  },
  {
   "cell_type": "code",
   "execution_count": 1,
   "metadata": {
    "collapsed": false
   },
   "outputs": [],
   "source": [
    "import topics as tp"
   ]
  },
  {
   "cell_type": "markdown",
   "metadata": {},
   "source": [
    "Read text files from a folder."
   ]
  },
  {
   "cell_type": "code",
   "execution_count": 2,
   "metadata": {
    "collapsed": false
   },
   "outputs": [],
   "source": [
    "documents = tp.readCorpus('./test_corpus/*.txt')"
   ]
  },
  {
   "cell_type": "markdown",
   "metadata": {},
   "source": [
    "Or create a test data set."
   ]
  },
  {
   "cell_type": "markdown",
   "metadata": {},
   "source": [
    "## Preprocessing ##\n",
    "\n",
    "Tokenize texts."
   ]
  },
  {
   "cell_type": "code",
   "execution_count": 3,
   "metadata": {
    "collapsed": true
   },
   "outputs": [],
   "source": [
    "texts = tp.tokenize(documents)"
   ]
  },
  {
   "cell_type": "markdown",
   "metadata": {},
   "source": [
    "Remove hapax legomena."
   ]
  },
  {
   "cell_type": "code",
   "execution_count": 4,
   "metadata": {
    "collapsed": true
   },
   "outputs": [],
   "source": [
    "texts = tp.removeHapaxLeg(texts)"
   ]
  },
  {
   "cell_type": "markdown",
   "metadata": {},
   "source": [
    "Remove stopwords."
   ]
  },
  {
   "cell_type": "code",
   "execution_count": 5,
   "metadata": {
    "collapsed": true
   },
   "outputs": [],
   "source": [
    "texts = tp.removeStopWords(texts, stoplist = 'en')"
   ]
  },
  {
   "cell_type": "markdown",
   "metadata": {},
   "source": [
    "## Model creation ##"
   ]
  },
  {
   "cell_type": "code",
   "execution_count": 6,
   "metadata": {
    "collapsed": false,
    "scrolled": true
   },
   "outputs": [],
   "source": [
    "model = tp.getTopics(texts, topics = 5, ldaSource = 'gensim')"
   ]
  },
  {
   "cell_type": "markdown",
   "metadata": {},
   "source": [
    "## Visualization ##\n",
    "\n",
    "Basic text output using gensim functions:"
   ]
  },
  {
   "cell_type": "code",
   "execution_count": 13,
   "metadata": {
    "collapsed": false,
    "scrolled": false
   },
   "outputs": [
    {
     "data": {
      "text/plain": [
       "['0.001*s + 0.001*sir + 0.001*holmes + 0.001*said + 0.001*man + 0.001*night + 0.000*did + 0.000*come + 0.000*eyes + 0.000*think',\n",
       " '0.001*said + 0.001*s + 0.001*man + 0.001*holmes + 0.001*sir + 0.001*know + 0.001*time + 0.001*night + 0.001*little + 0.001*came',\n",
       " '0.012*s + 0.010*conan + 0.008*like + 0.007*olivia + 0.006*eyes + 0.005*sword + 0.005*saw + 0.004*man + 0.004*lay + 0.004*feet',\n",
       " '0.013*said + 0.010*s + 0.009*man + 0.008*holmes + 0.005*little + 0.005*small + 0.005*night + 0.005*sholto + 0.005*treasure + 0.004*way',\n",
       " '0.016*sir + 0.011*said + 0.010*s + 0.010*man + 0.009*holmes + 0.007*moor + 0.007*henry + 0.005*know + 0.005*watson + 0.005*baskerville']"
      ]
     },
     "execution_count": 13,
     "metadata": {},
     "output_type": "execute_result"
    }
   ],
   "source": [
    "model.show_topics(num_topics = 5)"
   ]
  },
  {
   "cell_type": "code",
   "execution_count": 18,
   "metadata": {
    "collapsed": false
   },
   "outputs": [
    {
     "data": {
      "text/plain": [
       "<gensim.models.ldamodel.LdaModel at 0x7f9f711d7a20>"
      ]
     },
     "execution_count": 18,
     "metadata": {},
     "output_type": "execute_result"
    }
   ],
   "source": [
    "model\n"
   ]
  },
  {
   "cell_type": "code",
   "execution_count": null,
   "metadata": {
    "collapsed": true
   },
   "outputs": [],
   "source": [
    "from gensim.corpora import MmCorpus\n",
    "from gensim.models import LdaModel\n",
    "import numpy as np\n",
    "import matplotlib.pyplot as plt\n",
    "import sys, os\n",
    "\n",
    "\n",
    "if len(sys.argv) < 2:\n",
    "    print(\"usage: {0} [path to model.lda]\\n\".format(sys.argv[0]))\n",
    "    sys.exit(1)\n",
    "\n",
    "\n",
    "path, file = os.path.split(sys.argv[1])\n",
    "corpusname = file.split(\".\")[0]\n",
    "\n",
    "\n",
    "# load model\n",
    "\n",
    "doc_labels = []\n",
    "with open(path+\"/\"+corpusname+\"_doclabels.txt\", \"r\") as f:\n",
    "    for line in f: doc_labels.append(line)\n",
    "\n",
    "corpus = MmCorpus(path+\"/\"+corpusname+\".mm\")\n",
    "model = LdaModel.load(sys.argv[1])\n",
    "\n",
    "no_of_topics = model.num_topics\n",
    "no_of_docs = len(doc_labels)\n",
    "\n",
    "\n",
    "# get doc-topic matrix\n",
    "\n",
    "doc_topic = np.zeros((no_of_docs, no_of_topics))\n",
    "\n",
    "for doc, i in zip(corpus, range(no_of_docs)):           # use document bow from corpus\n",
    "    topic_dist = model.__getitem__(doc)                 # to get topic distribution from model\n",
    "    for topic in topic_dist:                            # topic_dist is a list of tuples (topic_id, topic_prob)\n",
    "        doc_topic[i][topic[0]] = topic[1]               # save topic probability\n",
    "\n",
    "# get plot labels\n",
    "\n",
    "topic_labels = []\n",
    "for i in range(no_of_topics):\n",
    "    topic_terms = [x[1] for x in model.show_topic(i, topn=3)]           # show_topic() returns tuples (word_prob, word)\n",
    "    topic_labels.append(\" \".join(topic_terms))\n",
    "\n",
    "#print(doc_topic)\n",
    "#print(doc_topic.shape)\n",
    "\n",
    "\n",
    "# cf. https://de.dariah.eu/tatom/topic_model_visualization.html\n",
    "\n",
    "if no_of_docs > 20 or no_of_topics > 20: plt.figure(figsize=(20,20))    # if many items, enlarge figure\n",
    "plt.pcolor(doc_topic, norm=None, cmap='Reds')\n",
    "plt.yticks(np.arange(doc_topic.shape[0])+1.0, doc_labels)\n",
    "plt.xticks(np.arange(doc_topic.shape[1])+0.5, topic_labels, rotation='90')\n",
    "plt.gca().invert_yaxis()\n",
    "plt.colorbar(cmap='Reds')\n",
    "plt.tight_layout()\n",
    "\n",
    "plt.savefig(path+\"/\"+corpusname+\"_heatmap.png\") #, dpi=80)\n",
    "#plt.show()"
   ]
  }
 ],
 "metadata": {
  "kernelspec": {
   "display_name": "Python 3",
   "language": "python",
   "name": "python3"
  },
  "language_info": {
   "codemirror_mode": {
    "name": "ipython",
    "version": 3
   },
   "file_extension": ".py",
   "mimetype": "text/x-python",
   "name": "python",
   "nbconvert_exporter": "python",
   "pygments_lexer": "ipython3",
   "version": "3.4.3"
  }
 },
 "nbformat": 4,
 "nbformat_minor": 0
}
