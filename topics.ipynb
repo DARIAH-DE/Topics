{
 "cells": [
  {
   "cell_type": "markdown",
   "metadata": {},
   "source": [
    "# Topics - Easy Topic Modeling in Python #\n",
    "\n",
    "This notebook introduces a workflow using the text mining technique **Topic Modeling**. The Python library [**gensim**](http://radimrehurek.com/gensim/), an open-source vector space modeling and topic modeling toolkit, offers one reliable way to compute the abstract topics of a collection of documents using [LDA](https://en.wikipedia.org/wiki/Latent_Dirichlet_allocation), a generative statistical model. \n",
    "\n",
    "Some parts of the following code is heavily inspired by the [gensim tutorial](https://radimrehurek.com/gensim/tutorial.html)."
   ]
  },
  {
   "cell_type": "markdown",
   "metadata": {},
   "source": [
    "First of all you have to import topics.py:"
   ]
  },
  {
   "cell_type": "code",
   "execution_count": 1,
   "metadata": {
    "collapsed": false
   },
   "outputs": [],
   "source": [
    "import topics as tp"
   ]
  },
  {
   "cell_type": "markdown",
   "metadata": {},
   "source": [
    "To make sure the necessary libraries [NumPy](http://www.numpy.org), [matplotlib](http://matplotlib.org) and gensim are installed, simply run the following code:"
   ]
  },
  {
   "cell_type": "code",
   "execution_count": 2,
   "metadata": {
    "collapsed": false
   },
   "outputs": [
    {
     "name": "stdout",
     "output_type": "stream",
     "text": [
      "NumPy 1.11.0 \n",
      "matplotlib 1.5.1 \n",
      "gensim 0.12.4\n"
     ]
    }
   ],
   "source": [
    "tp.testing()"
   ]
  },
  {
   "cell_type": "markdown",
   "metadata": {},
   "source": [
    "In case you get NumPy v1.11.0, matplotlib v1.5.1 and gensim v0.12.4, everything works fine.\n",
    "\n",
    "Have a look at your previously downloaded repository **Topics**, especially the file **topics.py**, which contains the actual magic. From reading your corpus, preprocessing single documents to finally creating the model."
   ]
  },
  {
   "cell_type": "markdown",
   "metadata": {},
   "source": [
    "Tell Jupyter to draw figures within the browser:"
   ]
  },
  {
   "cell_type": "code",
   "execution_count": 3,
   "metadata": {
    "collapsed": true
   },
   "outputs": [],
   "source": [
    "%matplotlib inline"
   ]
  },
  {
   "cell_type": "markdown",
   "metadata": {},
   "source": [
    "Let's start reading text files from a folder. The folder **corpus** within **Topics** contains a collection of short stories saved as [plain text](https://en.wikipedi.org/wiki/Plain_text). If you have your own collection, feel free to set the variable `folder` to the respective path and replace `./corpus/`, e. g. `folder = '/users/mycollection/*.txt'`. **Important**: Every file has to be saved as plain text.\n",
    "\n",
    "In the next line, `tp.readCorpus` is reading and saving every single .txt file in a list. "
   ]
  },
  {
   "cell_type": "code",
   "execution_count": 4,
   "metadata": {
    "collapsed": false
   },
   "outputs": [],
   "source": [
    "folder = './corpus/*.txt'\n",
    "documents = tp.readCorpus(folder)"
   ]
  },
  {
   "cell_type": "markdown",
   "metadata": {},
   "source": [
    "Store the file names as document labels in a separate list."
   ]
  },
  {
   "cell_type": "code",
   "execution_count": 5,
   "metadata": {
    "collapsed": false
   },
   "outputs": [
    {
     "data": {
      "text/plain": [
       "['Doyle_AScandalinBohemia',\n",
       " 'Doyle_AStudyinScarlet',\n",
       " 'Doyle_TheHoundoftheBaskervilles',\n",
       " 'Doyle_TheSignoftheFour',\n",
       " 'Howard_GodsoftheNorth',\n",
       " 'Howard_SchadowsinZamboula',\n",
       " 'Howard_ShadowsintheMoonlight',\n",
       " 'Howard_TheDevilinIron',\n",
       " 'Kipling_TheEndofthePassage',\n",
       " 'Kipling_TheJungleBook',\n",
       " 'Kipling_ThyServantaDog',\n",
       " 'Lovecraft_AttheMountainofMadness',\n",
       " 'Lovecraft_TheShunnedHouse',\n",
       " 'Poe_EurekaAProsePoem',\n",
       " 'Poe_TheCaskofAmontillado',\n",
       " 'Poe_TheMasqueoftheRedDeath',\n",
       " 'Poe_ThePurloinedLetter']"
      ]
     },
     "execution_count": 5,
     "metadata": {},
     "output_type": "execute_result"
    }
   ],
   "source": [
    "doc_labels = tp.docLabels(folder)\n",
    "doc_labels"
   ]
  },
  {
   "cell_type": "markdown",
   "metadata": {},
   "source": [
    "### Preprocessing ###\n",
    "\n",
    "Tokenization, also called word segmentation, is the process of finding word boundaries - in its simplest form, by using the blanks in-between words as delimiters. This is exactly what you do now with your documents."
   ]
  },
  {
   "cell_type": "code",
   "execution_count": 6,
   "metadata": {
    "collapsed": true
   },
   "outputs": [],
   "source": [
    "texts = tp.tokenize(documents)"
   ]
  },
  {
   "cell_type": "markdown",
   "metadata": {},
   "source": [
    "Remove hapax legomena. A hapax legomenon is a single word that occurs only once in a text."
   ]
  },
  {
   "cell_type": "code",
   "execution_count": 7,
   "metadata": {
    "collapsed": true
   },
   "outputs": [],
   "source": [
    "texts = tp.removeHapaxLeg(texts)"
   ]
  },
  {
   "cell_type": "markdown",
   "metadata": {},
   "source": [
    "Remove stopwords. Stopwords might occure a thousand times in one document but will not be considered because of its semantic unimportance. Feel free to have a look at the stopwords lists in the folder **stopwords** within **helpful_stuff**.\n",
    "\n",
    "Before removing stopwords, make sure the parameter `stoplist` is set correctly to either 'en', 'de', 'es' or 'fr'."
   ]
  },
  {
   "cell_type": "code",
   "execution_count": 8,
   "metadata": {
    "collapsed": true
   },
   "outputs": [],
   "source": [
    "texts = tp.removeStopWords(texts, stoplist = 'en')"
   ]
  },
  {
   "cell_type": "markdown",
   "metadata": {},
   "source": [
    "### Model creation ###"
   ]
  },
  {
   "cell_type": "markdown",
   "metadata": {},
   "source": [
    "So far, create the model (but this may take a while):"
   ]
  },
  {
   "cell_type": "code",
   "execution_count": 9,
   "metadata": {
    "collapsed": false,
    "scrolled": true
   },
   "outputs": [],
   "source": [
    "from gensim import corpora, models\n",
    "# Specify number of topics\n",
    "no_of_topics = 10\n",
    "# Generate dictionary object\n",
    "dictionary = corpora.Dictionary(texts)\n",
    "# Generate corpus object\n",
    "corpus = [dictionary.doc2bow(text) for text in texts]\n",
    "# Generate model object\n",
    "model = models.LdaModel(corpus,\n",
    "    id2word = dictionary,\n",
    "    num_topics = no_of_topics,\n",
    "    passes = 10\n",
    "    )"
   ]
  },
  {
   "cell_type": "code",
   "execution_count": 10,
   "metadata": {
    "collapsed": true
   },
   "outputs": [],
   "source": [
    "topic_labels = tp.topicLabels(model, no_of_topics)"
   ]
  },
  {
   "cell_type": "code",
   "execution_count": 11,
   "metadata": {
    "collapsed": false,
    "scrolled": true
   },
   "outputs": [
    {
     "data": {
      "text/plain": [
       "[(4,\n",
       "  '0.031*s + 0.030*said + 0.024*man + 0.016*t + 0.013*holmes + 0.013*little + 0.011*time + 0.011*come + 0.011*face + 0.010*way'),\n",
       " (6,\n",
       "  '0.013*said + 0.012*s + 0.010*man + 0.005*little + 0.005*time + 0.005*come + 0.005*way + 0.005*did + 0.005*night + 0.005*like'),\n",
       " (9,\n",
       "  '0.039*s + 0.033*door + 0.029*house + 0.020*like + 0.019*street + 0.017*did + 0.015*black + 0.013*man + 0.013*hand + 0.013*chamber'),\n",
       " (8,\n",
       "  '0.030*s + 0.020*great + 0.018*point + 0.018*course + 0.017*let + 0.017*say + 0.017*matter + 0.014*old + 0.014*time + 0.013*general'),\n",
       " (2,\n",
       "  '0.021*holmes + 0.015*said + 0.010*man + 0.009*photograph + 0.009*s + 0.008*street + 0.008*room + 0.008*know + 0.008*majesty + 0.007*king')]"
      ]
     },
     "execution_count": 11,
     "metadata": {},
     "output_type": "execute_result"
    }
   ],
   "source": [
    "model.show_topics(num_topics = 5)"
   ]
  },
  {
   "cell_type": "markdown",
   "metadata": {},
   "source": [
    "Save gensim output."
   ]
  },
  {
   "cell_type": "code",
   "execution_count": 12,
   "metadata": {
    "collapsed": false
   },
   "outputs": [
    {
     "name": "stdout",
     "output_type": "stream",
     "text": [
      "saving ...\n",
      "\n"
     ]
    }
   ],
   "source": [
    "tp.saveGensimModel(model, corpus, dictionary, no_of_topics, doc_labels)"
   ]
  },
  {
   "cell_type": "markdown",
   "metadata": {},
   "source": [
    "### The document-topic matrix ###\n",
    "Create a doc-topic matrix from the gensim objects."
   ]
  },
  {
   "cell_type": "code",
   "execution_count": 13,
   "metadata": {
    "collapsed": false
   },
   "outputs": [],
   "source": [
    "doc_topic = tp.gensim_to_dtm(model, corpus, no_of_topics)"
   ]
  },
  {
   "cell_type": "markdown",
   "metadata": {},
   "source": [
    "### Document-topic heatmap ###"
   ]
  },
  {
   "cell_type": "markdown",
   "metadata": {},
   "source": [
    "Finally you can visualize our saved model as a heatmap."
   ]
  },
  {
   "cell_type": "code",
   "execution_count": 14,
   "metadata": {
    "collapsed": false
   },
   "outputs": [
    {
     "data": {
      "image/png": "[encoded data removed]",
      "text/plain": [
       "<matplotlib.figure.Figure at 0x106cde550>"
      ]
     },
     "metadata": {},
     "output_type": "display_data"
    }
   ],
   "source": [
    "tp.docTopHeatmap(doc_topic, doc_labels, topic_labels)"
   ]
  }
 ],
 "metadata": {
  "kernelspec": {
   "display_name": "Python 3",
   "language": "python",
   "name": "python3"
  },
  "language_info": {
   "codemirror_mode": {
    "name": "ipython",
    "version": 3
   },
   "file_extension": ".py",
   "mimetype": "text/x-python",
   "name": "python",
   "nbconvert_exporter": "python",
   "pygments_lexer": "ipython3",
   "version": "3.5.1"
  }
 },
 "nbformat": 4,
 "nbformat_minor": 0
}
