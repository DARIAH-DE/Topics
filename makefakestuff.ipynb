{
 "cells": [
  {
   "cell_type": "code",
   "execution_count": null,
   "metadata": {
    "collapsed": true
   },
   "outputs": [],
   "source": [
    "for index, doc in enumerate(doc2bow_list):\n",
    "    with open(\"document\" + str(index) + \".txt\", 'w', encoding='utf-8') as f:\n",
    "        content = []\n",
    "        temp1 = [' '.join(type2id[token[0]]*token[1]) for token in doc if token[1] > 1]\n",
    "        temp2 = [type2id[token[0]] for token in doc if token[1] < 2]\n",
    "        content.append(temp1)\n",
    "        content.append(temp2)\n",
    "        writecontent = ' '.join(content)\n",
    "        f.write(writecontent)"
   ]
  }
 ],
 "metadata": {
  "kernelspec": {
   "display_name": "Python 3",
   "language": "python",
   "name": "python3"
  },
  "language_info": {
   "codemirror_mode": {
    "name": "ipython",
    "version": 3
   },
   "file_extension": ".py",
   "mimetype": "text/x-python",
   "name": "python",
   "nbconvert_exporter": "python",
   "pygments_lexer": "ipython3",
   "version": "3.5.2"
  }
 },
 "nbformat": 4,
 "nbformat_minor": 0
}
