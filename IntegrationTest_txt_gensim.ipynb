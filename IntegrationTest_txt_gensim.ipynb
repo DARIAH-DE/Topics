{
 "cells": [
  {
   "cell_type": "code",
   "execution_count": 2,
   "metadata": {
    "collapsed": false,
    "deletable": true,
    "editable": true
   },
   "outputs": [],
   "source": [
    "from dariah_topics import preprocessing as pre\n",
    "from dariah_topics import visualization as visual\n",
    "from dariah_topics import evaluation"
   ]
  },
  {
   "cell_type": "markdown",
   "metadata": {
    "deletable": true,
    "editable": true
   },
   "source": [
    "## Preprocessing"
   ]
  },
  {
   "cell_type": "markdown",
   "metadata": {
    "deletable": true,
    "editable": true
   },
   "source": [
    "#### Liste mit Dateinamen erzeugen"
   ]
  },
  {
   "cell_type": "code",
   "execution_count": 3,
   "metadata": {
    "collapsed": false,
    "deletable": true,
    "editable": true
   },
   "outputs": [
    {
     "name": "stderr",
     "output_type": "stream",
     "text": [
      "INFO preprocessing: Creating document list from TXT files ...\n"
     ]
    },
    {
     "data": {
      "text/plain": [
       "['corpus_txt/Doyle_AScandalinBohemia.txt',\n",
       " 'corpus_txt/Doyle_AStudyinScarlet.txt',\n",
       " 'corpus_txt/Doyle_TheHoundoftheBaskervilles.txt',\n",
       " 'corpus_txt/Doyle_TheSignoftheFour.txt',\n",
       " 'corpus_txt/Howard_GodsoftheNorth.txt']"
      ]
     },
     "execution_count": 3,
     "metadata": {},
     "output_type": "execute_result"
    }
   ],
   "source": [
    "path_txt = \"corpus_txt\"\n",
    "#path_txt = \"grenzbote_plain/*/\"\n",
    "#path_txt = \"wiki/\"\n",
    "\n",
    "doclist_txt = pre.create_document_list(path_txt)\n",
    "assert doclist_txt, \"No documents found\"\n",
    "doclist_txt[:5]"
   ]
  },
  {
   "cell_type": "markdown",
   "metadata": {
    "deletable": true,
    "editable": true
   },
   "source": [
    "#####  Liste mit Dokumentenlabels erzeugen - (Funktion wird durch Thorsten's generischere Funktion ersetzt)"
   ]
  },
  {
   "cell_type": "code",
   "execution_count": 4,
   "metadata": {
    "collapsed": false,
    "deletable": true,
    "editable": true
   },
   "outputs": [
    {
     "name": "stderr",
     "output_type": "stream",
     "text": [
      "INFO preprocessing: Creating document labels ...\n"
     ]
    },
    {
     "data": {
      "text/plain": [
       "['Doyle_AScandalinBohemia',\n",
       " 'Doyle_AStudyinScarlet',\n",
       " 'Doyle_TheHoundoftheBaskervilles',\n",
       " 'Doyle_TheSignoftheFour',\n",
       " 'Howard_GodsoftheNorth']"
      ]
     },
     "execution_count": 4,
     "metadata": {},
     "output_type": "execute_result"
    }
   ],
   "source": [
    "doc_labels = list(pre.get_labels(doclist_txt))\n",
    "doc_labels[:5]"
   ]
  },
  {
   "cell_type": "markdown",
   "metadata": {
    "deletable": true,
    "editable": true
   },
   "source": [
    "#### Corpus laden"
   ]
  },
  {
   "cell_type": "code",
   "execution_count": 5,
   "metadata": {
    "collapsed": false,
    "deletable": true,
    "editable": true
   },
   "outputs": [],
   "source": [
    "corpus_txt = pre.read_from_txt(doclist_txt)"
   ]
  },
  {
   "cell_type": "markdown",
   "metadata": {
    "deletable": true,
    "editable": true
   },
   "source": [
    "#### Tokenisieren"
   ]
  },
  {
   "cell_type": "code",
   "execution_count": 6,
   "metadata": {
    "collapsed": false,
    "deletable": true,
    "editable": true
   },
   "outputs": [
    {
     "name": "stderr",
     "output_type": "stream",
     "text": [
      "INFO preprocessing: Accessing TXT documents ...\n"
     ]
    }
   ],
   "source": [
    "doc_tokens = [list(pre.tokenize(txt)) for txt in list(corpus_txt)]"
   ]
  },
  {
   "cell_type": "markdown",
   "metadata": {
    "deletable": true,
    "editable": true
   },
   "source": [
    "#### Create Dictionaries"
   ]
  },
  {
   "cell_type": "code",
   "execution_count": 7,
   "metadata": {
    "collapsed": false,
    "deletable": true,
    "editable": true
   },
   "outputs": [],
   "source": [
    "id_types = pre.create_dictionary(doc_tokens)\n",
    "doc_ids = pre.create_dictionary(doc_labels)"
   ]
  },
  {
   "cell_type": "markdown",
   "metadata": {
    "deletable": true,
    "editable": true
   },
   "source": [
    "#### Sparse BOW Model"
   ]
  },
  {
   "cell_type": "code",
   "execution_count": 9,
   "metadata": {
    "collapsed": false,
    "deletable": true,
    "editable": true
   },
   "outputs": [],
   "source": [
    "sparse_bow = pre.create_mm(doc_labels, doc_tokens, id_types, doc_ids)"
   ]
  },
  {
   "cell_type": "code",
   "execution_count": 10,
   "metadata": {
    "collapsed": false,
    "deletable": true,
    "editable": true
   },
   "outputs": [
    {
     "data": {
      "text/html": [
       "<div>\n",
       "<table border=\"1\" class=\"dataframe\">\n",
       "  <thead>\n",
       "    <tr style=\"text-align: right;\">\n",
       "      <th></th>\n",
       "      <th></th>\n",
       "      <th>0</th>\n",
       "    </tr>\n",
       "    <tr>\n",
       "      <th>doc_id</th>\n",
       "      <th>token_id</th>\n",
       "      <th></th>\n",
       "    </tr>\n",
       "  </thead>\n",
       "  <tbody>\n",
       "    <tr>\n",
       "      <th rowspan=\"5\" valign=\"top\">1</th>\n",
       "      <th>4098</th>\n",
       "      <td>1</td>\n",
       "    </tr>\n",
       "    <tr>\n",
       "      <th>20483</th>\n",
       "      <td>3</td>\n",
       "    </tr>\n",
       "    <tr>\n",
       "      <th>21277</th>\n",
       "      <td>1</td>\n",
       "    </tr>\n",
       "    <tr>\n",
       "      <th>9411</th>\n",
       "      <td>1</td>\n",
       "    </tr>\n",
       "    <tr>\n",
       "      <th>8199</th>\n",
       "      <td>1</td>\n",
       "    </tr>\n",
       "  </tbody>\n",
       "</table>\n",
       "</div>"
      ],
      "text/plain": [
       "                 0\n",
       "doc_id token_id   \n",
       "1      4098      1\n",
       "       20483     3\n",
       "       21277     1\n",
       "       9411      1\n",
       "       8199      1"
      ]
     },
     "execution_count": 10,
     "metadata": {},
     "output_type": "execute_result"
    }
   ],
   "source": [
    "sparse_bow[:5]"
   ]
  },
  {
   "cell_type": "markdown",
   "metadata": {
    "deletable": true,
    "editable": true
   },
   "source": [
    "## Topic Modeling with Gensim"
   ]
  },
  {
   "cell_type": "markdown",
   "metadata": {
    "deletable": true,
    "editable": true
   },
   "source": [
    "##### Saving Sparse BOW"
   ]
  },
  {
   "cell_type": "code",
   "execution_count": 11,
   "metadata": {
    "collapsed": false,
    "deletable": true,
    "editable": true
   },
   "outputs": [],
   "source": [
    "pre.save_bow_mm(sparse_bow, \"gensim_txt\")"
   ]
  },
  {
   "cell_type": "markdown",
   "metadata": {
    "deletable": true,
    "editable": true
   },
   "source": [
    "#### Import Market Matrix"
   ]
  },
  {
   "cell_type": "code",
   "execution_count": 12,
   "metadata": {
    "collapsed": false,
    "deletable": true,
    "editable": true
   },
   "outputs": [],
   "source": [
    "from gensim.models import LdaModel\n",
    "from gensim.corpora import MmCorpus"
   ]
  },
  {
   "cell_type": "code",
   "execution_count": 13,
   "metadata": {
    "collapsed": false,
    "deletable": true,
    "editable": true
   },
   "outputs": [
    {
     "name": "stderr",
     "output_type": "stream",
     "text": [
      "INFO gensim.matutils: initializing corpus reader from gensim_txt.mm\n",
      "INFO gensim.matutils: accepted corpus with 17 documents, 22232 features, 369906 non-zero entries\n"
     ]
    }
   ],
   "source": [
    "mm = MmCorpus(\"gensim_txt.mm\")"
   ]
  },
  {
   "cell_type": "code",
   "execution_count": 14,
   "metadata": {
    "collapsed": false,
    "deletable": true,
    "editable": true
   },
   "outputs": [],
   "source": [
    "doc2id = {value : key for key, value in doc_ids.items()}\n",
    "type2id = {value : key for key, value in id_types.items()}"
   ]
  },
  {
   "cell_type": "markdown",
   "metadata": {
    "deletable": true,
    "editable": true
   },
   "source": [
    "##### Remove Features"
   ]
  },
  {
   "cell_type": "markdown",
   "metadata": {
    "deletable": true,
    "editable": true
   },
   "source": [
    "type2id = {value : key for key, value in id_types.items()}\n",
    "sparse_bow_collapsed = sparse_bow.groupby(sparse_bow.index.get_level_values('token_id')).sum()"
   ]
  },
  {
   "cell_type": "markdown",
   "metadata": {
    "deletable": true,
    "editable": true
   },
   "source": [
    "sparse_bow_hapax = sparse_bow_collapsed.loc[sparse_bow_collapsed[0] == 1]\n",
    "hapax = [type2id[key] for key in sparse_bow_hapax.index.get_level_values('token_id')]"
   ]
  },
  {
   "cell_type": "markdown",
   "metadata": {
    "deletable": true,
    "editable": true
   },
   "source": [
    "len(hapax)"
   ]
  },
  {
   "cell_type": "code",
   "execution_count": 15,
   "metadata": {
    "collapsed": false,
    "deletable": true,
    "editable": true
   },
   "outputs": [],
   "source": [
    "import os.path\n",
    "basepath = os.path.abspath('.')\n",
    "\n",
    "with open(os.path.join(basepath, \"tutorial_supplementals\", \"stopwords\", \"de.txt\"), 'r', encoding = 'utf-8') as f: \n",
    "    stopword_list = f.read().split('\\n')\n",
    "    \n",
    "stopword_list = set(stopword_list)"
   ]
  },
  {
   "cell_type": "code",
   "execution_count": 16,
   "metadata": {
    "collapsed": false,
    "deletable": true,
    "editable": true
   },
   "outputs": [
    {
     "name": "stderr",
     "output_type": "stream",
     "text": [
      "INFO preprocessing: Find hapax legomena ...\n",
      "INFO preprocessing: Finding stopwords ...\n",
      "INFO preprocessing: Removing features ...\n"
     ]
    }
   ],
   "source": [
    "hapax_from_remove = pre.find_hapax(sparse_bow, id_types)\n",
    "stopwords_from_remove = pre.find_stopwords(sparse_bow, id_types, mfw=75)\n",
    "\n",
    "#features_to_be_removed = set(hapax_from_remove + stopwords_from_remove)\n",
    "features_to_be_removed = stopwords_from_remove\n",
    "\n",
    "sparse_bow_short = pre.remove_features(sparse_bow, id_types, features_to_be_removed)"
   ]
  },
  {
   "cell_type": "code",
   "execution_count": 17,
   "metadata": {
    "collapsed": false,
    "deletable": true,
    "editable": true
   },
   "outputs": [
    {
     "data": {
      "text/plain": [
       "75"
      ]
     },
     "execution_count": 17,
     "metadata": {},
     "output_type": "execute_result"
    }
   ],
   "source": [
    "len(features_to_be_removed)"
   ]
  },
  {
   "cell_type": "code",
   "execution_count": 18,
   "metadata": {
    "collapsed": false,
    "deletable": true,
    "editable": true
   },
   "outputs": [],
   "source": [
    "pre.save_bow_mm(sparse_bow_short, \"gensim_txt\")"
   ]
  },
  {
   "cell_type": "code",
   "execution_count": 19,
   "metadata": {
    "collapsed": false,
    "deletable": true,
    "editable": true
   },
   "outputs": [
    {
     "name": "stderr",
     "output_type": "stream",
     "text": [
      "INFO gensim.matutils: initializing corpus reader from gensim_txt.mm\n",
      "INFO gensim.matutils: accepted corpus with 17 documents, 22232 features, 192053 non-zero entries\n"
     ]
    }
   ],
   "source": [
    "mm = MmCorpus(\"gensim_txt.mm\")"
   ]
  },
  {
   "cell_type": "markdown",
   "metadata": {
    "deletable": true,
    "editable": true
   },
   "source": [
    "#### Convert sparse_bow to list of (doc, tokens) tuples (like doc2bow)"
   ]
  },
  {
   "cell_type": "code",
   "execution_count": 20,
   "metadata": {
    "collapsed": false,
    "deletable": true,
    "editable": true
   },
   "outputs": [],
   "source": [
    "doc2bow_list = []\n",
    "\n",
    "for doc in sparse_bow_short.index.groupby(sparse_bow_short.index.get_level_values('doc_id')):\n",
    "    temp = [(token, count) for token, count in zip(sparse_bow_short.loc[doc].index, sparse_bow_short.loc[doc][0])]\n",
    "    doc2bow_list.append(temp)"
   ]
  },
  {
   "cell_type": "code",
   "execution_count": 21,
   "metadata": {
    "collapsed": false,
    "deletable": true,
    "editable": true
   },
   "outputs": [
    {
     "data": {
      "text/plain": [
       "17"
      ]
     },
     "execution_count": 21,
     "metadata": {},
     "output_type": "execute_result"
    }
   ],
   "source": [
    "len(doc2bow_list)"
   ]
  },
  {
   "cell_type": "code",
   "execution_count": 22,
   "metadata": {
    "collapsed": false,
    "deletable": true,
    "editable": true
   },
   "outputs": [
    {
     "name": "stderr",
     "output_type": "stream",
     "text": [
      "INFO gensim.models.ldamodel: using symmetric alpha at 0.05\n",
      "INFO gensim.models.ldamodel: using symmetric eta at 4.49781855799937e-05\n",
      "INFO gensim.models.ldamodel: using serial LDA version on this node\n",
      "INFO gensim.models.ldamodel: running online LDA training, 20 topics, 10 passes over the supplied corpus of 17 documents, updating model once every 17 documents, evaluating perplexity every 17 documents, iterating 20x with a convergence threshold of 0.001000\n",
      "INFO gensim.models.ldamodel: -14.377 per-word bound, 21280.8 perplexity estimate based on a held-out corpus of 17 documents with 192053 words\n",
      "INFO gensim.models.ldamodel: PROGRESS: pass 0, at document #17/17\n",
      "INFO gensim.models.ldamodel: topic #5 (0.050): 0.003*\"resting\" + 0.003*\"left\" + 0.003*\"radha\" + 0.003*\"mortimer\" + 0.003*\"sifted\" + 0.003*\"each-end\" + 0.003*\"revoir\" + 0.003*\"impetus\" + 0.003*\"corridors\" + 0.003*\"broadening\"\n",
      "INFO gensim.models.ldamodel: topic #9 (0.050): 0.003*\"sifted\" + 0.003*\"left\" + 0.003*\"impetus\" + 0.003*\"rotation\" + 0.003*\"legiance\" + 0.003*\"radha\" + 0.003*\"revoir\" + 0.003*\"malignancy\" + 0.002*\"resting\" + 0.002*\"produce\"\n",
      "INFO gensim.models.ldamodel: topic #18 (0.050): 0.003*\"malignancy\" + 0.003*\"sifted\" + 0.003*\"eerily\" + 0.003*\"resting\" + 0.003*\"impetus\" + 0.003*\"radha\" + 0.003*\"impenetrability\" + 0.002*\"toronto\" + 0.002*\"infamy\" + 0.002*\"injustice\"\n",
      "INFO gensim.models.ldamodel: topic #15 (0.050): 0.003*\"impetus\" + 0.003*\"resting\" + 0.003*\"malignancy\" + 0.003*\"buffoons\" + 0.003*\"mortimer\" + 0.003*\"radha\" + 0.003*\"evilly\" + 0.003*\"spirally\" + 0.003*\"revoir\" + 0.002*\"impenetrability\"\n",
      "INFO gensim.models.ldamodel: topic #0 (0.050): 0.003*\"vitals\" + 0.003*\"revoir\" + 0.003*\"injustice\" + 0.003*\"elevations\" + 0.003*\"left\" + 0.003*\"impetus\" + 0.003*\"impenetrability\" + 0.003*\"evilly\" + 0.003*\"lattice\" + 0.003*\"fabulous\"\n",
      "INFO gensim.models.ldamodel: topic diff=5.874346, rho=1.000000\n",
      "INFO gensim.models.ldamodel: -10.945 per-word bound, 1971.7 perplexity estimate based on a held-out corpus of 17 documents with 192053 words\n",
      "INFO gensim.models.ldamodel: PROGRESS: pass 1, at document #17/17\n",
      "INFO gensim.models.ldamodel: topic #6 (0.050): 0.006*\"fierce-eyed\" + 0.003*\"radha\" + 0.003*\"toronto\" + 0.003*\"treasures\" + 0.003*\"vitals\" + 0.003*\"left\" + 0.003*\"sifted\" + 0.002*\"evilly\" + 0.002*\"elevations\" + 0.002*\"mister-kent\"\n",
      "INFO gensim.models.ldamodel: topic #15 (0.050): 0.004*\"evilly\" + 0.004*\"impetus\" + 0.003*\"legiance\" + 0.003*\"radha\" + 0.003*\"revoir\" + 0.003*\"resting\" + 0.003*\"buffoons\" + 0.003*\"mortimer\" + 0.003*\"mister-kent\" + 0.003*\"injustice\"\n",
      "INFO gensim.models.ldamodel: topic #12 (0.050): 0.004*\"legiance\" + 0.003*\"produce\" + 0.003*\"describing\" + 0.003*\"radha\" + 0.003*\"elevations\" + 0.003*\"dodging\" + 0.003*\"evilly\" + 0.003*\"sifted\" + 0.003*\"resting\" + 0.003*\"tra-la\"\n",
      "INFO gensim.models.ldamodel: topic #2 (0.050): 0.004*\"sifted\" + 0.003*\"vitals\" + 0.003*\"legiance\" + 0.003*\"evilly\" + 0.003*\"dodging\" + 0.003*\"impenetrability\" + 0.003*\"douche\" + 0.003*\"impetus\" + 0.003*\"wounded\" + 0.002*\"mister-kent\"\n",
      "INFO gensim.models.ldamodel: topic #14 (0.050): 0.004*\"legiance\" + 0.003*\"evilly\" + 0.003*\"eerily\" + 0.003*\"nitrate\" + 0.003*\"mister-kent\" + 0.002*\"elevations\" + 0.002*\"rotation\" + 0.002*\"sifted\" + 0.002*\"resting\" + 0.002*\"lattice\"\n",
      "INFO gensim.models.ldamodel: topic diff=2.613638, rho=0.577350\n",
      "INFO gensim.models.ldamodel: -9.767 per-word bound, 871.4 perplexity estimate based on a held-out corpus of 17 documents with 192053 words\n",
      "INFO gensim.models.ldamodel: PROGRESS: pass 2, at document #17/17\n",
      "INFO gensim.models.ldamodel: topic #8 (0.050): 0.007*\"evilly\" + 0.004*\"mister-kent\" + 0.003*\"legiance\" + 0.003*\"radha\" + 0.003*\"eerily\" + 0.003*\"nitrate\" + 0.003*\"tenfold\" + 0.003*\"entangle\" + 0.003*\"revoir\" + 0.003*\"simplifies\"\n",
      "INFO gensim.models.ldamodel: topic #5 (0.050): 0.006*\"lomar\" + 0.004*\"left\" + 0.004*\"rome\" + 0.004*\"nd\" + 0.004*\"necromancer\" + 0.004*\"resting\" + 0.004*\"broadening\" + 0.004*\"bursts\" + 0.003*\"malignancy\" + 0.003*\"impenetrability\"\n",
      "INFO gensim.models.ldamodel: topic #4 (0.050): 0.004*\"dodging\" + 0.004*\"corridors\" + 0.003*\"vitals\" + 0.003*\"legiance\" + 0.003*\"clotted\" + 0.003*\"rotation\" + 0.003*\"revoir\" + 0.003*\"buffoons\" + 0.003*\"practicable\" + 0.003*\"lattice\"\n",
      "INFO gensim.models.ldamodel: topic #13 (0.050): 0.003*\"radha\" + 0.002*\"left\" + 0.002*\"evilly\" + 0.002*\"legiance\" + 0.002*\"produce\" + 0.002*\"mister-kent\" + 0.002*\"eerily\" + 0.002*\"malignancy\" + 0.002*\"tra-la\" + 0.002*\"riding-times\"\n",
      "INFO gensim.models.ldamodel: topic #14 (0.050): 0.004*\"legiance\" + 0.002*\"evilly\" + 0.002*\"eerily\" + 0.002*\"nitrate\" + 0.002*\"mister-kent\" + 0.002*\"elevations\" + 0.002*\"rotation\" + 0.002*\"sifted\" + 0.002*\"resting\" + 0.002*\"lattice\"\n",
      "INFO gensim.models.ldamodel: topic diff=2.176230, rho=0.500000\n",
      "INFO gensim.models.ldamodel: -9.252 per-word bound, 609.9 perplexity estimate based on a held-out corpus of 17 documents with 192053 words\n",
      "INFO gensim.models.ldamodel: PROGRESS: pass 3, at document #17/17\n",
      "INFO gensim.models.ldamodel: topic #14 (0.050): 0.003*\"legiance\" + 0.002*\"evilly\" + 0.002*\"eerily\" + 0.002*\"nitrate\" + 0.002*\"mister-kent\" + 0.002*\"elevations\" + 0.002*\"rotation\" + 0.002*\"sifted\" + 0.002*\"resting\" + 0.002*\"lattice\"\n",
      "INFO gensim.models.ldamodel: topic #18 (0.050): 0.002*\"malignancy\" + 0.002*\"sifted\" + 0.002*\"resting\" + 0.002*\"eerily\" + 0.002*\"impetus\" + 0.002*\"radha\" + 0.001*\"impenetrability\" + 0.001*\"toronto\" + 0.001*\"broadening\" + 0.001*\"revoir\"\n",
      "INFO gensim.models.ldamodel: topic #9 (0.050): 0.012*\"prodigiously\" + 0.009*\"wouldn't\" + 0.008*\"sensitive\" + 0.007*\"elderly\" + 0.006*\"impenetrability\" + 0.006*\"fray\" + 0.006*\"sifted\" + 0.005*\"overlook\" + 0.005*\"pranceful\" + 0.005*\"mortimer\"\n",
      "INFO gensim.models.ldamodel: topic #6 (0.050): 0.013*\"fierce-eyed\" + 0.005*\"treasures\" + 0.004*\"toronto\" + 0.004*\"disciples\" + 0.004*\"witchlike\" + 0.004*\"surgeon\" + 0.004*\"sifted\" + 0.003*\"left\" + 0.003*\"radha\" + 0.003*\"torrents\"\n",
      "INFO gensim.models.ldamodel: topic #16 (0.050): 0.002*\"evilly\" + 0.002*\"revoir\" + 0.002*\"vitals\" + 0.002*\"rotation\" + 0.002*\"buffoons\" + 0.002*\"bursts\" + 0.002*\"sifted\" + 0.001*\"resting\" + 0.001*\"produce\" + 0.001*\"radha\"\n",
      "INFO gensim.models.ldamodel: topic diff=1.616717, rho=0.447214\n",
      "INFO gensim.models.ldamodel: -9.002 per-word bound, 512.8 perplexity estimate based on a held-out corpus of 17 documents with 192053 words\n",
      "INFO gensim.models.ldamodel: PROGRESS: pass 4, at document #17/17\n",
      "INFO gensim.models.ldamodel: topic #2 (0.050): 0.005*\"cottage\" + 0.005*\"bazars\" + 0.004*\"scouring\" + 0.003*\"evilly\" + 0.003*\"mister-kent\" + 0.003*\"entangle\" + 0.003*\"sifted\" + 0.003*\"legislation\" + 0.003*\"left\" + 0.003*\"portraits\"\n",
      "INFO gensim.models.ldamodel: topic #13 (0.050): 0.002*\"radha\" + 0.002*\"left\" + 0.002*\"evilly\" + 0.001*\"legiance\" + 0.001*\"produce\" + 0.001*\"mister-kent\" + 0.001*\"eerily\" + 0.001*\"malignancy\" + 0.001*\"tra-la\" + 0.001*\"riding-times\"\n",
      "INFO gensim.models.ldamodel: topic #15 (0.050): 0.007*\"evilly\" + 0.004*\"legiance\" + 0.004*\"impetus\" + 0.004*\"mister-kent\" + 0.004*\"nitrate\" + 0.003*\"simplifies\" + 0.003*\"riding-times\" + 0.003*\"injustice\" + 0.003*\"entangle\" + 0.003*\"revoir\"\n",
      "INFO gensim.models.ldamodel: topic #19 (0.050): 0.002*\"impetus\" + 0.001*\"sifted\" + 0.001*\"impenetrability\" + 0.001*\"eerily\" + 0.001*\"evilly\" + 0.001*\"douche\" + 0.001*\"corridors\" + 0.001*\"lattice\" + 0.001*\"resting\" + 0.001*\"vitals\"\n",
      "INFO gensim.models.ldamodel: topic #17 (0.050): 0.004*\"infamy\" + 0.002*\"impetus\" + 0.002*\"broadening\" + 0.002*\"dodging\" + 0.002*\"radha\" + 0.002*\"douche\" + 0.002*\"sifted\" + 0.002*\"impenetrability\" + 0.002*\"vitals\" + 0.002*\"malignancy\"\n",
      "INFO gensim.models.ldamodel: topic diff=1.206600, rho=0.408248\n",
      "INFO gensim.models.ldamodel: -8.857 per-word bound, 463.6 perplexity estimate based on a held-out corpus of 17 documents with 192053 words\n",
      "INFO gensim.models.ldamodel: PROGRESS: pass 5, at document #17/17\n",
      "INFO gensim.models.ldamodel: topic #9 (0.050): 0.012*\"prodigiously\" + 0.009*\"wouldn't\" + 0.008*\"sensitive\" + 0.007*\"impenetrability\" + 0.007*\"elderly\" + 0.007*\"fray\" + 0.006*\"sifted\" + 0.006*\"pranceful\" + 0.006*\"mortimer\" + 0.005*\"overlook\"\n",
      "INFO gensim.models.ldamodel: topic #12 (0.050): 0.004*\"legiance\" + 0.003*\"produce\" + 0.003*\"describing\" + 0.003*\"radha\" + 0.003*\"tra-la\" + 0.003*\"evilly\" + 0.003*\"elevations\" + 0.003*\"fabulous\" + 0.003*\"aspirations\" + 0.003*\"mister-kent\"\n",
      "INFO gensim.models.ldamodel: topic #13 (0.050): 0.001*\"radha\" + 0.001*\"left\" + 0.001*\"evilly\" + 0.001*\"legiance\" + 0.001*\"produce\" + 0.001*\"mister-kent\" + 0.001*\"eerily\" + 0.001*\"malignancy\" + 0.001*\"tra-la\" + 0.001*\"riding-times\"\n",
      "INFO gensim.models.ldamodel: topic #8 (0.050): 0.007*\"evilly\" + 0.005*\"exchange\" + 0.004*\"mister-kent\" + 0.003*\"entangle\" + 0.003*\"sally\" + 0.003*\"radha\" + 0.003*\"eerily\" + 0.003*\"nitrate\" + 0.003*\"stone-shadowed\" + 0.003*\"legiance\"\n",
      "INFO gensim.models.ldamodel: topic #17 (0.050): 0.003*\"infamy\" + 0.002*\"impetus\" + 0.002*\"broadening\" + 0.002*\"dodging\" + 0.002*\"radha\" + 0.002*\"douche\" + 0.002*\"sifted\" + 0.001*\"impenetrability\" + 0.001*\"vitals\" + 0.001*\"malignancy\"\n",
      "INFO gensim.models.ldamodel: topic diff=0.906187, rho=0.377964\n",
      "INFO gensim.models.ldamodel: -8.766 per-word bound, 435.4 perplexity estimate based on a held-out corpus of 17 documents with 192053 words\n",
      "INFO gensim.models.ldamodel: PROGRESS: pass 6, at document #17/17\n",
      "INFO gensim.models.ldamodel: topic #6 (0.050): 0.014*\"fierce-eyed\" + 0.006*\"treasures\" + 0.005*\"disciples\" + 0.005*\"witchlike\" + 0.004*\"toronto\" + 0.004*\"surgeon\" + 0.004*\"sifted\" + 0.004*\"left\" + 0.004*\"torrents\" + 0.003*\"radha\"\n",
      "INFO gensim.models.ldamodel: topic #2 (0.050): 0.007*\"cottage\" + 0.006*\"bazars\" + 0.005*\"scouring\" + 0.004*\"evilly\" + 0.003*\"entangle\" + 0.003*\"legislation\" + 0.003*\"mister-kent\" + 0.003*\"portraits\" + 0.003*\"deserted\" + 0.003*\"unique\"\n",
      "INFO gensim.models.ldamodel: topic #16 (0.050): 0.001*\"evilly\" + 0.001*\"revoir\" + 0.001*\"vitals\" + 0.001*\"rotation\" + 0.001*\"buffoons\" + 0.001*\"bursts\" + 0.001*\"sifted\" + 0.001*\"resting\" + 0.001*\"produce\" + 0.001*\"radha\"\n",
      "INFO gensim.models.ldamodel: topic #10 (0.050): 0.001*\"sifted\" + 0.001*\"grayish\" + 0.001*\"revolutions\" + 0.001*\"disciples\" + 0.001*\"left\" + 0.001*\"radha\" + 0.001*\"broadening\" + 0.001*\"impetus\" + 0.001*\"resting\" + 0.001*\"fierce-eyed\"\n",
      "INFO gensim.models.ldamodel: topic #11 (0.050): 0.004*\"apart\" + 0.004*\"radha\" + 0.004*\"evilly\" + 0.003*\"mister-kent\" + 0.003*\"lucky\" + 0.003*\"entitled\" + 0.003*\"each-end\" + 0.003*\"developments\" + 0.003*\"walk-about\" + 0.003*\"perpetration\"\n",
      "INFO gensim.models.ldamodel: topic diff=0.685226, rho=0.353553\n",
      "INFO gensim.models.ldamodel: -8.708 per-word bound, 418.2 perplexity estimate based on a held-out corpus of 17 documents with 192053 words\n",
      "INFO gensim.models.ldamodel: PROGRESS: pass 7, at document #17/17\n",
      "INFO gensim.models.ldamodel: topic #19 (0.050): 0.001*\"impetus\" + 0.001*\"sifted\" + 0.001*\"impenetrability\" + 0.000*\"eerily\" + 0.000*\"evilly\" + 0.000*\"douche\" + 0.000*\"corridors\" + 0.000*\"lattice\" + 0.000*\"resting\" + 0.000*\"vitals\"\n",
      "INFO gensim.models.ldamodel: topic #9 (0.050): 0.013*\"prodigiously\" + 0.009*\"wouldn't\" + 0.008*\"sensitive\" + 0.007*\"impenetrability\" + 0.007*\"elderly\" + 0.007*\"fray\" + 0.006*\"sifted\" + 0.006*\"pranceful\" + 0.006*\"mortimer\" + 0.006*\"overlook\"\n",
      "INFO gensim.models.ldamodel: topic #4 (0.050): 0.004*\"dodging\" + 0.004*\"corridors\" + 0.004*\"vitals\" + 0.004*\"clotted\" + 0.004*\"lattice\" + 0.004*\"reeled\" + 0.004*\"revoir\" + 0.003*\"legiance\" + 0.003*\"cotton\" + 0.003*\"rotation\"\n",
      "INFO gensim.models.ldamodel: topic #14 (0.050): 0.001*\"legiance\" + 0.001*\"evilly\" + 0.001*\"eerily\" + 0.001*\"nitrate\" + 0.001*\"mister-kent\" + 0.001*\"elevations\" + 0.001*\"rotation\" + 0.001*\"sifted\" + 0.001*\"resting\" + 0.001*\"lattice\"\n",
      "INFO gensim.models.ldamodel: topic #11 (0.050): 0.005*\"apart\" + 0.004*\"radha\" + 0.004*\"evilly\" + 0.004*\"lucky\" + 0.003*\"mister-kent\" + 0.003*\"entitled\" + 0.003*\"each-end\" + 0.003*\"developments\" + 0.003*\"walk-about\" + 0.003*\"perpetration\"\n",
      "INFO gensim.models.ldamodel: topic diff=0.521425, rho=0.333333\n",
      "INFO gensim.models.ldamodel: -8.669 per-word bound, 407.1 perplexity estimate based on a held-out corpus of 17 documents with 192053 words\n",
      "INFO gensim.models.ldamodel: PROGRESS: pass 8, at document #17/17\n",
      "INFO gensim.models.ldamodel: topic #9 (0.050): 0.013*\"prodigiously\" + 0.009*\"wouldn't\" + 0.008*\"sensitive\" + 0.007*\"impenetrability\" + 0.007*\"elderly\" + 0.007*\"fray\" + 0.006*\"pranceful\" + 0.006*\"sifted\" + 0.006*\"mortimer\" + 0.006*\"overlook\"\n",
      "INFO gensim.models.ldamodel: topic #18 (0.050): 0.000*\"malignancy\" + 0.000*\"sifted\" + 0.000*\"resting\" + 0.000*\"eerily\" + 0.000*\"impetus\" + 0.000*\"radha\" + 0.000*\"impenetrability\" + 0.000*\"toronto\" + 0.000*\"broadening\" + 0.000*\"revoir\"\n",
      "INFO gensim.models.ldamodel: topic #8 (0.050): 0.008*\"exchange\" + 0.006*\"evilly\" + 0.004*\"mister-kent\" + 0.003*\"entangle\" + 0.003*\"sally\" + 0.003*\"consoled\" + 0.003*\"stone-shadowed\" + 0.003*\"sombre\" + 0.002*\"lip\" + 0.002*\"radha\"\n",
      "INFO gensim.models.ldamodel: topic #0 (0.050): 0.009*\"infamy\" + 0.008*\"dodging\" + 0.005*\"douche\" + 0.004*\"wounded\" + 0.004*\"vitals\" + 0.004*\"injustice\" + 0.004*\"rotation\" + 0.004*\"goal\" + 0.004*\"corridors\" + 0.004*\"sifted\"\n",
      "INFO gensim.models.ldamodel: topic #5 (0.050): 0.007*\"lomar\" + 0.005*\"nd\" + 0.005*\"rome\" + 0.005*\"left\" + 0.004*\"necromancer\" + 0.004*\"bursts\" + 0.004*\"horn-like\" + 0.004*\"malignancy\" + 0.004*\"unconcealed\" + 0.004*\"broadening\"\n",
      "INFO gensim.models.ldamodel: topic diff=0.399178, rho=0.316228\n",
      "INFO gensim.models.ldamodel: -8.643 per-word bound, 399.8 perplexity estimate based on a held-out corpus of 17 documents with 192053 words\n",
      "INFO gensim.models.ldamodel: PROGRESS: pass 9, at document #17/17\n",
      "INFO gensim.models.ldamodel: topic #6 (0.050): 0.014*\"fierce-eyed\" + 0.006*\"treasures\" + 0.005*\"disciples\" + 0.005*\"witchlike\" + 0.004*\"surgeon\" + 0.004*\"toronto\" + 0.004*\"sifted\" + 0.004*\"left\" + 0.004*\"torrents\" + 0.003*\"radha\"\n",
      "INFO gensim.models.ldamodel: topic #17 (0.050): 0.001*\"infamy\" + 0.001*\"impetus\" + 0.001*\"broadening\" + 0.001*\"dodging\" + 0.001*\"radha\" + 0.001*\"douche\" + 0.001*\"sifted\" + 0.001*\"impenetrability\" + 0.001*\"vitals\" + 0.000*\"malignancy\"\n",
      "INFO gensim.models.ldamodel: topic #3 (0.050): 0.008*\"hocus-pocus\" + 0.007*\"involves\" + 0.005*\"radha\" + 0.004*\"geometrically\" + 0.004*\"toronto\" + 0.004*\"fairy\" + 0.004*\"ringed\" + 0.004*\"elevations\" + 0.003*\"drum\" + 0.003*\"torrents\"\n",
      "INFO gensim.models.ldamodel: topic #12 (0.050): 0.004*\"legiance\" + 0.003*\"produce\" + 0.003*\"describing\" + 0.003*\"tra-la\" + 0.003*\"radha\" + 0.003*\"evilly\" + 0.003*\"fabulous\" + 0.003*\"aspirations\" + 0.003*\"mister-kent\" + 0.003*\"elevations\"\n",
      "INFO gensim.models.ldamodel: topic #2 (0.050): 0.007*\"cottage\" + 0.006*\"bazars\" + 0.006*\"scouring\" + 0.004*\"evilly\" + 0.004*\"entangle\" + 0.003*\"legislation\" + 0.003*\"mister-kent\" + 0.003*\"portraits\" + 0.003*\"deserted\" + 0.003*\"unique\"\n",
      "INFO gensim.models.ldamodel: topic diff=0.307452, rho=0.301511\n"
     ]
    }
   ],
   "source": [
    "#model = LdaModel(corpus=mm, id2word=type2id, num_topics=60, alpha = \"symmetric\", passes = 10) #import momentan in visual \n",
    "# -> da ich mir noch nicht sicher bin, welche Funktionen in das tm_gensim.py sollen\n",
    "model = LdaModel(corpus=mm, id2word=type2id, num_topics=20, passes = 10, iterations = 20)"
   ]
  },
  {
   "cell_type": "code",
   "execution_count": 23,
   "metadata": {
    "collapsed": false,
    "deletable": true,
    "editable": true
   },
   "outputs": [
    {
     "data": {
      "text/plain": [
       "[(0, 0.13167135367236593),\n",
       " (1, 0.069001016387639932),\n",
       " (4, 0.10473627468687931),\n",
       " (5, 0.1004043862901995),\n",
       " (6, 0.036912782758787753),\n",
       " (8, 0.043331978713068285),\n",
       " (9, 0.089898997630630681),\n",
       " (12, 0.26446716653188845),\n",
       " (15, 0.13535590224794253)]"
      ]
     },
     "execution_count": 23,
     "metadata": {},
     "output_type": "execute_result"
    }
   ],
   "source": [
    "model.get_document_topics(doc2bow_list[1])"
   ]
  },
  {
   "cell_type": "code",
   "execution_count": 24,
   "metadata": {
    "collapsed": false,
    "deletable": true,
    "editable": true
   },
   "outputs": [
    {
     "data": {
      "text/plain": [
       "['fierce-eyed',\n",
       " 'radha',\n",
       " 'toronto',\n",
       " 'produce',\n",
       " 'recklessly',\n",
       " 'retorts',\n",
       " 'sifted',\n",
       " 'sally',\n",
       " 'disciples',\n",
       " 'nd']"
      ]
     },
     "execution_count": 24,
     "metadata": {},
     "output_type": "execute_result"
    }
   ],
   "source": [
    "#Anzeige der keywords für topic n\n",
    "n = 1\n",
    "topic_nr_x = model.get_topic_terms(n)\n",
    "\n",
    "topicTerms = [type2id[i[0]] for i in topic_nr_x]\n",
    "topicTerms"
   ]
  },
  {
   "cell_type": "code",
   "execution_count": 25,
   "metadata": {
    "collapsed": false,
    "deletable": true,
    "editable": true
   },
   "outputs": [
    {
     "data": {
      "text/html": [
       "<div>\n",
       "<table border=\"1\" class=\"dataframe\">\n",
       "  <thead>\n",
       "    <tr style=\"text-align: right;\">\n",
       "      <th></th>\n",
       "      <th>0</th>\n",
       "      <th>1</th>\n",
       "      <th>2</th>\n",
       "      <th>3</th>\n",
       "      <th>4</th>\n",
       "      <th>5</th>\n",
       "      <th>6</th>\n",
       "      <th>7</th>\n",
       "      <th>8</th>\n",
       "      <th>9</th>\n",
       "    </tr>\n",
       "  </thead>\n",
       "  <tbody>\n",
       "    <tr>\n",
       "      <th>0</th>\n",
       "      <td>(infamy, 0.00942058548937)</td>\n",
       "      <td>(dodging, 0.00775093867522)</td>\n",
       "      <td>(douche, 0.00500425123477)</td>\n",
       "      <td>(wounded, 0.00440825060926)</td>\n",
       "      <td>(vitals, 0.00421797220584)</td>\n",
       "      <td>(injustice, 0.00386919405145)</td>\n",
       "      <td>(rotation, 0.00383464595995)</td>\n",
       "      <td>(corridors, 0.00369199364721)</td>\n",
       "      <td>(goal, 0.00368854463022)</td>\n",
       "      <td>(sifted, 0.00357396804849)</td>\n",
       "    </tr>\n",
       "    <tr>\n",
       "      <th>1</th>\n",
       "      <td>(fierce-eyed, 0.00876069669552)</td>\n",
       "      <td>(radha, 0.00582426403017)</td>\n",
       "      <td>(toronto, 0.00412736129402)</td>\n",
       "      <td>(produce, 0.00400646730901)</td>\n",
       "      <td>(recklessly, 0.0039339518436)</td>\n",
       "      <td>(retorts, 0.00333922182936)</td>\n",
       "      <td>(sifted, 0.00327653695383)</td>\n",
       "      <td>(sally, 0.00322464902419)</td>\n",
       "      <td>(disciples, 0.00318923167125)</td>\n",
       "      <td>(nd, 0.00312480525947)</td>\n",
       "    </tr>\n",
       "    <tr>\n",
       "      <th>2</th>\n",
       "      <td>(cottage, 0.00734787127314)</td>\n",
       "      <td>(bazars, 0.00649651895263)</td>\n",
       "      <td>(scouring, 0.00606024830104)</td>\n",
       "      <td>(evilly, 0.0036004343027)</td>\n",
       "      <td>(entangle, 0.0035229239413)</td>\n",
       "      <td>(legislation, 0.00347131983325)</td>\n",
       "      <td>(mister-kent, 0.00315113626552)</td>\n",
       "      <td>(portraits, 0.00308663284317)</td>\n",
       "      <td>(deserted, 0.00307731269285)</td>\n",
       "      <td>(unique, 0.00304414163096)</td>\n",
       "    </tr>\n",
       "    <tr>\n",
       "      <th>3</th>\n",
       "      <td>(hocus-pocus, 0.00773331991114)</td>\n",
       "      <td>(involves, 0.0067750014097)</td>\n",
       "      <td>(radha, 0.0046926879271)</td>\n",
       "      <td>(geometrically, 0.00426739539374)</td>\n",
       "      <td>(toronto, 0.00406485594463)</td>\n",
       "      <td>(fairy, 0.00403229918124)</td>\n",
       "      <td>(ringed, 0.00398332121315)</td>\n",
       "      <td>(elevations, 0.00375914556856)</td>\n",
       "      <td>(drum, 0.00328871593551)</td>\n",
       "      <td>(torrents, 0.00324901366541)</td>\n",
       "    </tr>\n",
       "    <tr>\n",
       "      <th>4</th>\n",
       "      <td>(dodging, 0.00450354254105)</td>\n",
       "      <td>(corridors, 0.0043272535329)</td>\n",
       "      <td>(vitals, 0.00427231332268)</td>\n",
       "      <td>(clotted, 0.0041324743117)</td>\n",
       "      <td>(lattice, 0.00391791469164)</td>\n",
       "      <td>(reeled, 0.00388960424145)</td>\n",
       "      <td>(revoir, 0.00376955632721)</td>\n",
       "      <td>(legiance, 0.00329913310167)</td>\n",
       "      <td>(cotton, 0.00327591918239)</td>\n",
       "      <td>(pole-cat, 0.00309696113169)</td>\n",
       "    </tr>\n",
       "    <tr>\n",
       "      <th>5</th>\n",
       "      <td>(lomar, 0.00715148300425)</td>\n",
       "      <td>(rome, 0.00495839329889)</td>\n",
       "      <td>(nd, 0.00494942793894)</td>\n",
       "      <td>(left, 0.00458624188979)</td>\n",
       "      <td>(necromancer, 0.00445087104813)</td>\n",
       "      <td>(bursts, 0.00414818932982)</td>\n",
       "      <td>(horn-like, 0.0041130866504)</td>\n",
       "      <td>(malignancy, 0.00402335324306)</td>\n",
       "      <td>(unconcealed, 0.00397404056007)</td>\n",
       "      <td>(broadening, 0.00395707353245)</td>\n",
       "    </tr>\n",
       "    <tr>\n",
       "      <th>6</th>\n",
       "      <td>(fierce-eyed, 0.0141326532063)</td>\n",
       "      <td>(treasures, 0.00611085342654)</td>\n",
       "      <td>(disciples, 0.00503259359449)</td>\n",
       "      <td>(witchlike, 0.00469775378115)</td>\n",
       "      <td>(surgeon, 0.00449504696252)</td>\n",
       "      <td>(toronto, 0.0043832073492)</td>\n",
       "      <td>(sifted, 0.00417910394832)</td>\n",
       "      <td>(left, 0.00385252557266)</td>\n",
       "      <td>(torrents, 0.00367760620555)</td>\n",
       "      <td>(radha, 0.0034733671404)</td>\n",
       "    </tr>\n",
       "    <tr>\n",
       "      <th>7</th>\n",
       "      <td>(malignancy, 0.000286583399862)</td>\n",
       "      <td>(vitals, 0.000274208657771)</td>\n",
       "      <td>(impetus, 0.000259835145173)</td>\n",
       "      <td>(radha, 0.000249034090363)</td>\n",
       "      <td>(corridors, 0.000247292919763)</td>\n",
       "      <td>(elevations, 0.00024497815456)</td>\n",
       "      <td>(practicable, 0.000243050744663)</td>\n",
       "      <td>(sifted, 0.000242226752263)</td>\n",
       "      <td>(evilly, 0.000241474634915)</td>\n",
       "      <td>(revoir, 0.000234230968683)</td>\n",
       "    </tr>\n",
       "    <tr>\n",
       "      <th>8</th>\n",
       "      <td>(exchange, 0.00830182515173)</td>\n",
       "      <td>(evilly, 0.00607413500598)</td>\n",
       "      <td>(mister-kent, 0.00401899325729)</td>\n",
       "      <td>(entangle, 0.00289976186428)</td>\n",
       "      <td>(sally, 0.00281713040554)</td>\n",
       "      <td>(sombre, 0.00261368194486)</td>\n",
       "      <td>(consoled, 0.00260760652127)</td>\n",
       "      <td>(stone-shadowed, 0.00257660589823)</td>\n",
       "      <td>(roerich's, 0.00247144829419)</td>\n",
       "      <td>(lip, 0.00245685613833)</td>\n",
       "    </tr>\n",
       "    <tr>\n",
       "      <th>9</th>\n",
       "      <td>(prodigiously, 0.0126882279865)</td>\n",
       "      <td>(wouldn't, 0.00907219012115)</td>\n",
       "      <td>(sensitive, 0.00821181664535)</td>\n",
       "      <td>(impenetrability, 0.00727259042424)</td>\n",
       "      <td>(elderly, 0.0068344622938)</td>\n",
       "      <td>(fray, 0.00660868100538)</td>\n",
       "      <td>(pranceful, 0.00636574905297)</td>\n",
       "      <td>(sifted, 0.00625784486794)</td>\n",
       "      <td>(mortimer, 0.00593866528805)</td>\n",
       "      <td>(overlook, 0.00554728750318)</td>\n",
       "    </tr>\n",
       "    <tr>\n",
       "      <th>10</th>\n",
       "      <td>(grayish, 0.00156248403672)</td>\n",
       "      <td>(lectured, 0.000815908350245)</td>\n",
       "      <td>(sped, 0.000814710905162)</td>\n",
       "      <td>(ahead, 0.000812972578023)</td>\n",
       "      <td>(uneasily, 0.000812600742176)</td>\n",
       "      <td>(tawny-haired, 0.000812305859498)</td>\n",
       "      <td>(queries, 0.000812230084705)</td>\n",
       "      <td>(trains, 0.000811736616514)</td>\n",
       "      <td>(tolled, 0.000811467295981)</td>\n",
       "      <td>(kneeled, 0.000811252954899)</td>\n",
       "    </tr>\n",
       "    <tr>\n",
       "      <th>11</th>\n",
       "      <td>(apart, 0.00497086696581)</td>\n",
       "      <td>(radha, 0.00382328853252)</td>\n",
       "      <td>(lucky, 0.00373156765871)</td>\n",
       "      <td>(evilly, 0.003520597381)</td>\n",
       "      <td>(mister-kent, 0.00346687931495)</td>\n",
       "      <td>(entitled, 0.00335205705056)</td>\n",
       "      <td>(each-end, 0.00299108129848)</td>\n",
       "      <td>(developments, 0.0029794070218)</td>\n",
       "      <td>(walk-about, 0.00294484792211)</td>\n",
       "      <td>(perpetration, 0.00293866992799)</td>\n",
       "    </tr>\n",
       "    <tr>\n",
       "      <th>12</th>\n",
       "      <td>(legiance, 0.0038019786761)</td>\n",
       "      <td>(produce, 0.00326603280233)</td>\n",
       "      <td>(describing, 0.00325156802064)</td>\n",
       "      <td>(tra-la, 0.00316923856362)</td>\n",
       "      <td>(radha, 0.00311361761323)</td>\n",
       "      <td>(evilly, 0.00309003233814)</td>\n",
       "      <td>(fabulous, 0.00294187150868)</td>\n",
       "      <td>(aspirations, 0.00286030201305)</td>\n",
       "      <td>(mister-kent, 0.0027503388863)</td>\n",
       "      <td>(elevations, 0.00273719446561)</td>\n",
       "    </tr>\n",
       "    <tr>\n",
       "      <th>13</th>\n",
       "      <td>(radha, 0.000405728301464)</td>\n",
       "      <td>(left, 0.000382295942555)</td>\n",
       "      <td>(evilly, 0.000365331363983)</td>\n",
       "      <td>(legiance, 0.000350437468345)</td>\n",
       "      <td>(produce, 0.000349461137054)</td>\n",
       "      <td>(mister-kent, 0.00034750114044)</td>\n",
       "      <td>(eerily, 0.000334109260394)</td>\n",
       "      <td>(malignancy, 0.000332444257028)</td>\n",
       "      <td>(tra-la, 0.000313655074975)</td>\n",
       "      <td>(riding-times, 0.000311491479566)</td>\n",
       "    </tr>\n",
       "    <tr>\n",
       "      <th>14</th>\n",
       "      <td>(legiance, 0.000511362187614)</td>\n",
       "      <td>(evilly, 0.000353029035342)</td>\n",
       "      <td>(eerily, 0.000341837447416)</td>\n",
       "      <td>(nitrate, 0.000339539826872)</td>\n",
       "      <td>(mister-kent, 0.000328730685872)</td>\n",
       "      <td>(elevations, 0.000314423722548)</td>\n",
       "      <td>(rotation, 0.000313239114623)</td>\n",
       "      <td>(sifted, 0.000307835492886)</td>\n",
       "      <td>(resting, 0.000302416811473)</td>\n",
       "      <td>(lattice, 0.000296328891931)</td>\n",
       "    </tr>\n",
       "    <tr>\n",
       "      <th>15</th>\n",
       "      <td>(evilly, 0.00802834141157)</td>\n",
       "      <td>(legiance, 0.00493658034659)</td>\n",
       "      <td>(mister-kent, 0.00478886314)</td>\n",
       "      <td>(impetus, 0.00428816883026)</td>\n",
       "      <td>(nitrate, 0.00400839306799)</td>\n",
       "      <td>(simplifies, 0.00363038116978)</td>\n",
       "      <td>(taxed, 0.00357303278797)</td>\n",
       "      <td>(riding-times, 0.00355147266035)</td>\n",
       "      <td>(entangle, 0.00353973442177)</td>\n",
       "      <td>(injustice, 0.00353191383039)</td>\n",
       "    </tr>\n",
       "    <tr>\n",
       "      <th>16</th>\n",
       "      <td>(evilly, 0.000373903857504)</td>\n",
       "      <td>(revoir, 0.000314880703433)</td>\n",
       "      <td>(vitals, 0.00027432459713)</td>\n",
       "      <td>(rotation, 0.000267431080217)</td>\n",
       "      <td>(buffoons, 0.000258370743252)</td>\n",
       "      <td>(bursts, 0.000257319137862)</td>\n",
       "      <td>(sifted, 0.000257306525674)</td>\n",
       "      <td>(resting, 0.000252858880748)</td>\n",
       "      <td>(produce, 0.0002506010944)</td>\n",
       "      <td>(radha, 0.000249954671366)</td>\n",
       "    </tr>\n",
       "    <tr>\n",
       "      <th>17</th>\n",
       "      <td>(infamy, 0.00111559641503)</td>\n",
       "      <td>(impetus, 0.000675687354457)</td>\n",
       "      <td>(broadening, 0.000649483795272)</td>\n",
       "      <td>(dodging, 0.000593708358789)</td>\n",
       "      <td>(radha, 0.00056964502947)</td>\n",
       "      <td>(douche, 0.000562765552288)</td>\n",
       "      <td>(sifted, 0.000556336876554)</td>\n",
       "      <td>(impenetrability, 0.000517999230488)</td>\n",
       "      <td>(vitals, 0.000511408887549)</td>\n",
       "      <td>(malignancy, 0.000490974430922)</td>\n",
       "    </tr>\n",
       "    <tr>\n",
       "      <th>18</th>\n",
       "      <td>(malignancy, 0.000289411518818)</td>\n",
       "      <td>(sifted, 0.000287569715803)</td>\n",
       "      <td>(resting, 0.00026723874431)</td>\n",
       "      <td>(eerily, 0.00026701037381)</td>\n",
       "      <td>(impetus, 0.000258289507597)</td>\n",
       "      <td>(radha, 0.000241975636646)</td>\n",
       "      <td>(impenetrability, 0.000229975024532)</td>\n",
       "      <td>(toronto, 0.000218103675064)</td>\n",
       "      <td>(broadening, 0.000205156563207)</td>\n",
       "      <td>(revoir, 0.000203977910704)</td>\n",
       "    </tr>\n",
       "    <tr>\n",
       "      <th>19</th>\n",
       "      <td>(impetus, 0.000318922314557)</td>\n",
       "      <td>(sifted, 0.000312278143241)</td>\n",
       "      <td>(impenetrability, 0.000283097894333)</td>\n",
       "      <td>(eerily, 0.000266038029968)</td>\n",
       "      <td>(evilly, 0.000255476550265)</td>\n",
       "      <td>(douche, 0.000249399872538)</td>\n",
       "      <td>(corridors, 0.000244970920301)</td>\n",
       "      <td>(lattice, 0.000243918673309)</td>\n",
       "      <td>(resting, 0.000240613981019)</td>\n",
       "      <td>(vitals, 0.000237721468769)</td>\n",
       "    </tr>\n",
       "  </tbody>\n",
       "</table>\n",
       "</div>"
      ],
      "text/plain": [
       "                                  0                              1  \\\n",
       "0        (infamy, 0.00942058548937)    (dodging, 0.00775093867522)   \n",
       "1   (fierce-eyed, 0.00876069669552)      (radha, 0.00582426403017)   \n",
       "2       (cottage, 0.00734787127314)     (bazars, 0.00649651895263)   \n",
       "3   (hocus-pocus, 0.00773331991114)    (involves, 0.0067750014097)   \n",
       "4       (dodging, 0.00450354254105)   (corridors, 0.0043272535329)   \n",
       "5         (lomar, 0.00715148300425)       (rome, 0.00495839329889)   \n",
       "6    (fierce-eyed, 0.0141326532063)  (treasures, 0.00611085342654)   \n",
       "7   (malignancy, 0.000286583399862)    (vitals, 0.000274208657771)   \n",
       "8      (exchange, 0.00830182515173)     (evilly, 0.00607413500598)   \n",
       "9   (prodigiously, 0.0126882279865)   (wouldn't, 0.00907219012115)   \n",
       "10      (grayish, 0.00156248403672)  (lectured, 0.000815908350245)   \n",
       "11        (apart, 0.00497086696581)      (radha, 0.00382328853252)   \n",
       "12      (legiance, 0.0038019786761)    (produce, 0.00326603280233)   \n",
       "13       (radha, 0.000405728301464)      (left, 0.000382295942555)   \n",
       "14    (legiance, 0.000511362187614)    (evilly, 0.000353029035342)   \n",
       "15       (evilly, 0.00802834141157)   (legiance, 0.00493658034659)   \n",
       "16      (evilly, 0.000373903857504)    (revoir, 0.000314880703433)   \n",
       "17       (infamy, 0.00111559641503)   (impetus, 0.000675687354457)   \n",
       "18  (malignancy, 0.000289411518818)    (sifted, 0.000287569715803)   \n",
       "19     (impetus, 0.000318922314557)    (sifted, 0.000312278143241)   \n",
       "\n",
       "                                       2                                    3  \\\n",
       "0             (douche, 0.00500425123477)          (wounded, 0.00440825060926)   \n",
       "1            (toronto, 0.00412736129402)          (produce, 0.00400646730901)   \n",
       "2           (scouring, 0.00606024830104)            (evilly, 0.0036004343027)   \n",
       "3               (radha, 0.0046926879271)    (geometrically, 0.00426739539374)   \n",
       "4             (vitals, 0.00427231332268)           (clotted, 0.0041324743117)   \n",
       "5                 (nd, 0.00494942793894)             (left, 0.00458624188979)   \n",
       "6          (disciples, 0.00503259359449)        (witchlike, 0.00469775378115)   \n",
       "7           (impetus, 0.000259835145173)           (radha, 0.000249034090363)   \n",
       "8        (mister-kent, 0.00401899325729)         (entangle, 0.00289976186428)   \n",
       "9          (sensitive, 0.00821181664535)  (impenetrability, 0.00727259042424)   \n",
       "10             (sped, 0.000814710905162)           (ahead, 0.000812972578023)   \n",
       "11             (lucky, 0.00373156765871)             (evilly, 0.003520597381)   \n",
       "12        (describing, 0.00325156802064)           (tra-la, 0.00316923856362)   \n",
       "13           (evilly, 0.000365331363983)        (legiance, 0.000350437468345)   \n",
       "14           (eerily, 0.000341837447416)         (nitrate, 0.000339539826872)   \n",
       "15          (mister-kent, 0.00478886314)          (impetus, 0.00428816883026)   \n",
       "16            (vitals, 0.00027432459713)        (rotation, 0.000267431080217)   \n",
       "17       (broadening, 0.000649483795272)         (dodging, 0.000593708358789)   \n",
       "18           (resting, 0.00026723874431)           (eerily, 0.00026701037381)   \n",
       "19  (impenetrability, 0.000283097894333)          (eerily, 0.000266038029968)   \n",
       "\n",
       "                                   4                                  5  \\\n",
       "0         (vitals, 0.00421797220584)      (injustice, 0.00386919405145)   \n",
       "1      (recklessly, 0.0039339518436)        (retorts, 0.00333922182936)   \n",
       "2        (entangle, 0.0035229239413)    (legislation, 0.00347131983325)   \n",
       "3        (toronto, 0.00406485594463)          (fairy, 0.00403229918124)   \n",
       "4        (lattice, 0.00391791469164)         (reeled, 0.00388960424145)   \n",
       "5    (necromancer, 0.00445087104813)         (bursts, 0.00414818932982)   \n",
       "6        (surgeon, 0.00449504696252)         (toronto, 0.0043832073492)   \n",
       "7     (corridors, 0.000247292919763)     (elevations, 0.00024497815456)   \n",
       "8          (sally, 0.00281713040554)         (sombre, 0.00261368194486)   \n",
       "9         (elderly, 0.0068344622938)           (fray, 0.00660868100538)   \n",
       "10     (uneasily, 0.000812600742176)  (tawny-haired, 0.000812305859498)   \n",
       "11   (mister-kent, 0.00346687931495)       (entitled, 0.00335205705056)   \n",
       "12         (radha, 0.00311361761323)         (evilly, 0.00309003233814)   \n",
       "13      (produce, 0.000349461137054)    (mister-kent, 0.00034750114044)   \n",
       "14  (mister-kent, 0.000328730685872)    (elevations, 0.000314423722548)   \n",
       "15       (nitrate, 0.00400839306799)     (simplifies, 0.00363038116978)   \n",
       "16     (buffoons, 0.000258370743252)        (bursts, 0.000257319137862)   \n",
       "17         (radha, 0.00056964502947)        (douche, 0.000562765552288)   \n",
       "18      (impetus, 0.000258289507597)         (radha, 0.000241975636646)   \n",
       "19       (evilly, 0.000255476550265)        (douche, 0.000249399872538)   \n",
       "\n",
       "                                       6  \\\n",
       "0           (rotation, 0.00383464595995)   \n",
       "1             (sifted, 0.00327653695383)   \n",
       "2        (mister-kent, 0.00315113626552)   \n",
       "3             (ringed, 0.00398332121315)   \n",
       "4             (revoir, 0.00376955632721)   \n",
       "5           (horn-like, 0.0041130866504)   \n",
       "6             (sifted, 0.00417910394832)   \n",
       "7       (practicable, 0.000243050744663)   \n",
       "8           (consoled, 0.00260760652127)   \n",
       "9          (pranceful, 0.00636574905297)   \n",
       "10          (queries, 0.000812230084705)   \n",
       "11          (each-end, 0.00299108129848)   \n",
       "12          (fabulous, 0.00294187150868)   \n",
       "13           (eerily, 0.000334109260394)   \n",
       "14         (rotation, 0.000313239114623)   \n",
       "15             (taxed, 0.00357303278797)   \n",
       "16           (sifted, 0.000257306525674)   \n",
       "17           (sifted, 0.000556336876554)   \n",
       "18  (impenetrability, 0.000229975024532)   \n",
       "19        (corridors, 0.000244970920301)   \n",
       "\n",
       "                                       7                                8  \\\n",
       "0          (corridors, 0.00369199364721)         (goal, 0.00368854463022)   \n",
       "1              (sally, 0.00322464902419)    (disciples, 0.00318923167125)   \n",
       "2          (portraits, 0.00308663284317)     (deserted, 0.00307731269285)   \n",
       "3         (elevations, 0.00375914556856)         (drum, 0.00328871593551)   \n",
       "4           (legiance, 0.00329913310167)       (cotton, 0.00327591918239)   \n",
       "5         (malignancy, 0.00402335324306)  (unconcealed, 0.00397404056007)   \n",
       "6               (left, 0.00385252557266)     (torrents, 0.00367760620555)   \n",
       "7            (sifted, 0.000242226752263)      (evilly, 0.000241474634915)   \n",
       "8     (stone-shadowed, 0.00257660589823)    (roerich's, 0.00247144829419)   \n",
       "9             (sifted, 0.00625784486794)     (mortimer, 0.00593866528805)   \n",
       "10           (trains, 0.000811736616514)      (tolled, 0.000811467295981)   \n",
       "11       (developments, 0.0029794070218)   (walk-about, 0.00294484792211)   \n",
       "12       (aspirations, 0.00286030201305)   (mister-kent, 0.0027503388863)   \n",
       "13       (malignancy, 0.000332444257028)      (tra-la, 0.000313655074975)   \n",
       "14           (sifted, 0.000307835492886)     (resting, 0.000302416811473)   \n",
       "15      (riding-times, 0.00355147266035)     (entangle, 0.00353973442177)   \n",
       "16          (resting, 0.000252858880748)       (produce, 0.0002506010944)   \n",
       "17  (impenetrability, 0.000517999230488)      (vitals, 0.000511408887549)   \n",
       "18          (toronto, 0.000218103675064)  (broadening, 0.000205156563207)   \n",
       "19          (lattice, 0.000243918673309)     (resting, 0.000240613981019)   \n",
       "\n",
       "                                    9  \n",
       "0          (sifted, 0.00357396804849)  \n",
       "1              (nd, 0.00312480525947)  \n",
       "2          (unique, 0.00304414163096)  \n",
       "3        (torrents, 0.00324901366541)  \n",
       "4        (pole-cat, 0.00309696113169)  \n",
       "5      (broadening, 0.00395707353245)  \n",
       "6            (radha, 0.0034733671404)  \n",
       "7         (revoir, 0.000234230968683)  \n",
       "8             (lip, 0.00245685613833)  \n",
       "9        (overlook, 0.00554728750318)  \n",
       "10       (kneeled, 0.000811252954899)  \n",
       "11   (perpetration, 0.00293866992799)  \n",
       "12     (elevations, 0.00273719446561)  \n",
       "13  (riding-times, 0.000311491479566)  \n",
       "14       (lattice, 0.000296328891931)  \n",
       "15      (injustice, 0.00353191383039)  \n",
       "16         (radha, 0.000249954671366)  \n",
       "17    (malignancy, 0.000490974430922)  \n",
       "18        (revoir, 0.000203977910704)  \n",
       "19        (vitals, 0.000237721468769)  "
      ]
     },
     "execution_count": 25,
     "metadata": {},
     "output_type": "execute_result"
    }
   ],
   "source": [
    "#Topic probabilities - zum Testen der Funktion\n",
    "topics = model.show_topics(num_topics = model.num_topics, formatted=False)\n",
    "\n",
    "num_topics = model.num_topics\n",
    "topics_df = pre.pd.DataFrame(index = range(num_topics), columns= range(10))\n",
    "\n",
    "for topic in topics:\n",
    "    idx = topic[0]\n",
    "    temp = topic[1]\n",
    "    topics_df.loc[idx] = temp\n",
    "        \n",
    "topics_df"
   ]
  },
  {
   "cell_type": "code",
   "execution_count": 26,
   "metadata": {
    "collapsed": false,
    "deletable": true,
    "editable": true
   },
   "outputs": [
    {
     "data": {
      "text/html": [
       "<div>\n",
       "<table border=\"1\" class=\"dataframe\">\n",
       "  <thead>\n",
       "    <tr style=\"text-align: right;\">\n",
       "      <th></th>\n",
       "      <th>0</th>\n",
       "      <th>1</th>\n",
       "      <th>2</th>\n",
       "      <th>3</th>\n",
       "      <th>4</th>\n",
       "      <th>5</th>\n",
       "      <th>6</th>\n",
       "      <th>7</th>\n",
       "      <th>8</th>\n",
       "      <th>9</th>\n",
       "    </tr>\n",
       "  </thead>\n",
       "  <tbody>\n",
       "    <tr>\n",
       "      <th>0</th>\n",
       "      <td>(infamy, 0.00942058548937)</td>\n",
       "      <td>(dodging, 0.00775093867522)</td>\n",
       "      <td>(douche, 0.00500425123477)</td>\n",
       "      <td>(wounded, 0.00440825060926)</td>\n",
       "      <td>(vitals, 0.00421797220584)</td>\n",
       "      <td>(injustice, 0.00386919405145)</td>\n",
       "      <td>(rotation, 0.00383464595995)</td>\n",
       "      <td>(corridors, 0.00369199364721)</td>\n",
       "      <td>(goal, 0.00368854463022)</td>\n",
       "      <td>(sifted, 0.00357396804849)</td>\n",
       "    </tr>\n",
       "    <tr>\n",
       "      <th>1</th>\n",
       "      <td>(fierce-eyed, 0.00876069669552)</td>\n",
       "      <td>(radha, 0.00582426403017)</td>\n",
       "      <td>(toronto, 0.00412736129402)</td>\n",
       "      <td>(produce, 0.00400646730901)</td>\n",
       "      <td>(recklessly, 0.0039339518436)</td>\n",
       "      <td>(retorts, 0.00333922182936)</td>\n",
       "      <td>(sifted, 0.00327653695383)</td>\n",
       "      <td>(sally, 0.00322464902419)</td>\n",
       "      <td>(disciples, 0.00318923167125)</td>\n",
       "      <td>(nd, 0.00312480525947)</td>\n",
       "    </tr>\n",
       "    <tr>\n",
       "      <th>2</th>\n",
       "      <td>(cottage, 0.00734787127314)</td>\n",
       "      <td>(bazars, 0.00649651895263)</td>\n",
       "      <td>(scouring, 0.00606024830104)</td>\n",
       "      <td>(evilly, 0.0036004343027)</td>\n",
       "      <td>(entangle, 0.0035229239413)</td>\n",
       "      <td>(legislation, 0.00347131983325)</td>\n",
       "      <td>(mister-kent, 0.00315113626552)</td>\n",
       "      <td>(portraits, 0.00308663284317)</td>\n",
       "      <td>(deserted, 0.00307731269285)</td>\n",
       "      <td>(unique, 0.00304414163096)</td>\n",
       "    </tr>\n",
       "    <tr>\n",
       "      <th>3</th>\n",
       "      <td>(hocus-pocus, 0.00773331991114)</td>\n",
       "      <td>(involves, 0.0067750014097)</td>\n",
       "      <td>(radha, 0.0046926879271)</td>\n",
       "      <td>(geometrically, 0.00426739539374)</td>\n",
       "      <td>(toronto, 0.00406485594463)</td>\n",
       "      <td>(fairy, 0.00403229918124)</td>\n",
       "      <td>(ringed, 0.00398332121315)</td>\n",
       "      <td>(elevations, 0.00375914556856)</td>\n",
       "      <td>(drum, 0.00328871593551)</td>\n",
       "      <td>(torrents, 0.00324901366541)</td>\n",
       "    </tr>\n",
       "    <tr>\n",
       "      <th>4</th>\n",
       "      <td>(dodging, 0.00450354254105)</td>\n",
       "      <td>(corridors, 0.0043272535329)</td>\n",
       "      <td>(vitals, 0.00427231332268)</td>\n",
       "      <td>(clotted, 0.0041324743117)</td>\n",
       "      <td>(lattice, 0.00391791469164)</td>\n",
       "      <td>(reeled, 0.00388960424145)</td>\n",
       "      <td>(revoir, 0.00376955632721)</td>\n",
       "      <td>(legiance, 0.00329913310167)</td>\n",
       "      <td>(cotton, 0.00327591918239)</td>\n",
       "      <td>(pole-cat, 0.00309696113169)</td>\n",
       "    </tr>\n",
       "    <tr>\n",
       "      <th>5</th>\n",
       "      <td>(lomar, 0.00715148300425)</td>\n",
       "      <td>(rome, 0.00495839329889)</td>\n",
       "      <td>(nd, 0.00494942793894)</td>\n",
       "      <td>(left, 0.00458624188979)</td>\n",
       "      <td>(necromancer, 0.00445087104813)</td>\n",
       "      <td>(bursts, 0.00414818932982)</td>\n",
       "      <td>(horn-like, 0.0041130866504)</td>\n",
       "      <td>(malignancy, 0.00402335324306)</td>\n",
       "      <td>(unconcealed, 0.00397404056007)</td>\n",
       "      <td>(broadening, 0.00395707353245)</td>\n",
       "    </tr>\n",
       "    <tr>\n",
       "      <th>6</th>\n",
       "      <td>(fierce-eyed, 0.0141326532063)</td>\n",
       "      <td>(treasures, 0.00611085342654)</td>\n",
       "      <td>(disciples, 0.00503259359449)</td>\n",
       "      <td>(witchlike, 0.00469775378115)</td>\n",
       "      <td>(surgeon, 0.00449504696252)</td>\n",
       "      <td>(toronto, 0.0043832073492)</td>\n",
       "      <td>(sifted, 0.00417910394832)</td>\n",
       "      <td>(left, 0.00385252557266)</td>\n",
       "      <td>(torrents, 0.00367760620555)</td>\n",
       "      <td>(radha, 0.0034733671404)</td>\n",
       "    </tr>\n",
       "    <tr>\n",
       "      <th>7</th>\n",
       "      <td>(malignancy, 0.000286583399862)</td>\n",
       "      <td>(vitals, 0.000274208657771)</td>\n",
       "      <td>(impetus, 0.000259835145173)</td>\n",
       "      <td>(radha, 0.000249034090363)</td>\n",
       "      <td>(corridors, 0.000247292919763)</td>\n",
       "      <td>(elevations, 0.00024497815456)</td>\n",
       "      <td>(practicable, 0.000243050744663)</td>\n",
       "      <td>(sifted, 0.000242226752263)</td>\n",
       "      <td>(evilly, 0.000241474634915)</td>\n",
       "      <td>(revoir, 0.000234230968683)</td>\n",
       "    </tr>\n",
       "    <tr>\n",
       "      <th>8</th>\n",
       "      <td>(exchange, 0.00830182515173)</td>\n",
       "      <td>(evilly, 0.00607413500598)</td>\n",
       "      <td>(mister-kent, 0.00401899325729)</td>\n",
       "      <td>(entangle, 0.00289976186428)</td>\n",
       "      <td>(sally, 0.00281713040554)</td>\n",
       "      <td>(sombre, 0.00261368194486)</td>\n",
       "      <td>(consoled, 0.00260760652127)</td>\n",
       "      <td>(stone-shadowed, 0.00257660589823)</td>\n",
       "      <td>(roerich's, 0.00247144829419)</td>\n",
       "      <td>(lip, 0.00245685613833)</td>\n",
       "    </tr>\n",
       "    <tr>\n",
       "      <th>9</th>\n",
       "      <td>(prodigiously, 0.0126882279865)</td>\n",
       "      <td>(wouldn't, 0.00907219012115)</td>\n",
       "      <td>(sensitive, 0.00821181664535)</td>\n",
       "      <td>(impenetrability, 0.00727259042424)</td>\n",
       "      <td>(elderly, 0.0068344622938)</td>\n",
       "      <td>(fray, 0.00660868100538)</td>\n",
       "      <td>(pranceful, 0.00636574905297)</td>\n",
       "      <td>(sifted, 0.00625784486794)</td>\n",
       "      <td>(mortimer, 0.00593866528805)</td>\n",
       "      <td>(overlook, 0.00554728750318)</td>\n",
       "    </tr>\n",
       "    <tr>\n",
       "      <th>10</th>\n",
       "      <td>(grayish, 0.00156248403672)</td>\n",
       "      <td>(lectured, 0.000815908350245)</td>\n",
       "      <td>(sped, 0.000814710905162)</td>\n",
       "      <td>(ahead, 0.000812972578023)</td>\n",
       "      <td>(uneasily, 0.000812600742176)</td>\n",
       "      <td>(tawny-haired, 0.000812305859498)</td>\n",
       "      <td>(queries, 0.000812230084705)</td>\n",
       "      <td>(trains, 0.000811736616514)</td>\n",
       "      <td>(tolled, 0.000811467295981)</td>\n",
       "      <td>(kneeled, 0.000811252954899)</td>\n",
       "    </tr>\n",
       "    <tr>\n",
       "      <th>11</th>\n",
       "      <td>(apart, 0.00497086696581)</td>\n",
       "      <td>(radha, 0.00382328853252)</td>\n",
       "      <td>(lucky, 0.00373156765871)</td>\n",
       "      <td>(evilly, 0.003520597381)</td>\n",
       "      <td>(mister-kent, 0.00346687931495)</td>\n",
       "      <td>(entitled, 0.00335205705056)</td>\n",
       "      <td>(each-end, 0.00299108129848)</td>\n",
       "      <td>(developments, 0.0029794070218)</td>\n",
       "      <td>(walk-about, 0.00294484792211)</td>\n",
       "      <td>(perpetration, 0.00293866992799)</td>\n",
       "    </tr>\n",
       "    <tr>\n",
       "      <th>12</th>\n",
       "      <td>(legiance, 0.0038019786761)</td>\n",
       "      <td>(produce, 0.00326603280233)</td>\n",
       "      <td>(describing, 0.00325156802064)</td>\n",
       "      <td>(tra-la, 0.00316923856362)</td>\n",
       "      <td>(radha, 0.00311361761323)</td>\n",
       "      <td>(evilly, 0.00309003233814)</td>\n",
       "      <td>(fabulous, 0.00294187150868)</td>\n",
       "      <td>(aspirations, 0.00286030201305)</td>\n",
       "      <td>(mister-kent, 0.0027503388863)</td>\n",
       "      <td>(elevations, 0.00273719446561)</td>\n",
       "    </tr>\n",
       "    <tr>\n",
       "      <th>13</th>\n",
       "      <td>(radha, 0.000405728301464)</td>\n",
       "      <td>(left, 0.000382295942555)</td>\n",
       "      <td>(evilly, 0.000365331363983)</td>\n",
       "      <td>(legiance, 0.000350437468345)</td>\n",
       "      <td>(produce, 0.000349461137054)</td>\n",
       "      <td>(mister-kent, 0.00034750114044)</td>\n",
       "      <td>(eerily, 0.000334109260394)</td>\n",
       "      <td>(malignancy, 0.000332444257028)</td>\n",
       "      <td>(tra-la, 0.000313655074975)</td>\n",
       "      <td>(riding-times, 0.000311491479566)</td>\n",
       "    </tr>\n",
       "    <tr>\n",
       "      <th>14</th>\n",
       "      <td>(legiance, 0.000511362187614)</td>\n",
       "      <td>(evilly, 0.000353029035342)</td>\n",
       "      <td>(eerily, 0.000341837447416)</td>\n",
       "      <td>(nitrate, 0.000339539826872)</td>\n",
       "      <td>(mister-kent, 0.000328730685872)</td>\n",
       "      <td>(elevations, 0.000314423722548)</td>\n",
       "      <td>(rotation, 0.000313239114623)</td>\n",
       "      <td>(sifted, 0.000307835492886)</td>\n",
       "      <td>(resting, 0.000302416811473)</td>\n",
       "      <td>(lattice, 0.000296328891931)</td>\n",
       "    </tr>\n",
       "    <tr>\n",
       "      <th>15</th>\n",
       "      <td>(evilly, 0.00802834141157)</td>\n",
       "      <td>(legiance, 0.00493658034659)</td>\n",
       "      <td>(mister-kent, 0.00478886314)</td>\n",
       "      <td>(impetus, 0.00428816883026)</td>\n",
       "      <td>(nitrate, 0.00400839306799)</td>\n",
       "      <td>(simplifies, 0.00363038116978)</td>\n",
       "      <td>(taxed, 0.00357303278797)</td>\n",
       "      <td>(riding-times, 0.00355147266035)</td>\n",
       "      <td>(entangle, 0.00353973442177)</td>\n",
       "      <td>(injustice, 0.00353191383039)</td>\n",
       "    </tr>\n",
       "    <tr>\n",
       "      <th>16</th>\n",
       "      <td>(evilly, 0.000373903857504)</td>\n",
       "      <td>(revoir, 0.000314880703433)</td>\n",
       "      <td>(vitals, 0.00027432459713)</td>\n",
       "      <td>(rotation, 0.000267431080217)</td>\n",
       "      <td>(buffoons, 0.000258370743252)</td>\n",
       "      <td>(bursts, 0.000257319137862)</td>\n",
       "      <td>(sifted, 0.000257306525674)</td>\n",
       "      <td>(resting, 0.000252858880748)</td>\n",
       "      <td>(produce, 0.0002506010944)</td>\n",
       "      <td>(radha, 0.000249954671366)</td>\n",
       "    </tr>\n",
       "    <tr>\n",
       "      <th>17</th>\n",
       "      <td>(infamy, 0.00111559641503)</td>\n",
       "      <td>(impetus, 0.000675687354457)</td>\n",
       "      <td>(broadening, 0.000649483795272)</td>\n",
       "      <td>(dodging, 0.000593708358789)</td>\n",
       "      <td>(radha, 0.00056964502947)</td>\n",
       "      <td>(douche, 0.000562765552288)</td>\n",
       "      <td>(sifted, 0.000556336876554)</td>\n",
       "      <td>(impenetrability, 0.000517999230488)</td>\n",
       "      <td>(vitals, 0.000511408887549)</td>\n",
       "      <td>(malignancy, 0.000490974430922)</td>\n",
       "    </tr>\n",
       "    <tr>\n",
       "      <th>18</th>\n",
       "      <td>(malignancy, 0.000289411518818)</td>\n",
       "      <td>(sifted, 0.000287569715803)</td>\n",
       "      <td>(resting, 0.00026723874431)</td>\n",
       "      <td>(eerily, 0.00026701037381)</td>\n",
       "      <td>(impetus, 0.000258289507597)</td>\n",
       "      <td>(radha, 0.000241975636646)</td>\n",
       "      <td>(impenetrability, 0.000229975024532)</td>\n",
       "      <td>(toronto, 0.000218103675064)</td>\n",
       "      <td>(broadening, 0.000205156563207)</td>\n",
       "      <td>(revoir, 0.000203977910704)</td>\n",
       "    </tr>\n",
       "    <tr>\n",
       "      <th>19</th>\n",
       "      <td>(impetus, 0.000318922314557)</td>\n",
       "      <td>(sifted, 0.000312278143241)</td>\n",
       "      <td>(impenetrability, 0.000283097894333)</td>\n",
       "      <td>(eerily, 0.000266038029968)</td>\n",
       "      <td>(evilly, 0.000255476550265)</td>\n",
       "      <td>(douche, 0.000249399872538)</td>\n",
       "      <td>(corridors, 0.000244970920301)</td>\n",
       "      <td>(lattice, 0.000243918673309)</td>\n",
       "      <td>(resting, 0.000240613981019)</td>\n",
       "      <td>(vitals, 0.000237721468769)</td>\n",
       "    </tr>\n",
       "  </tbody>\n",
       "</table>\n",
       "</div>"
      ],
      "text/plain": [
       "                                  0                              1  \\\n",
       "0        (infamy, 0.00942058548937)    (dodging, 0.00775093867522)   \n",
       "1   (fierce-eyed, 0.00876069669552)      (radha, 0.00582426403017)   \n",
       "2       (cottage, 0.00734787127314)     (bazars, 0.00649651895263)   \n",
       "3   (hocus-pocus, 0.00773331991114)    (involves, 0.0067750014097)   \n",
       "4       (dodging, 0.00450354254105)   (corridors, 0.0043272535329)   \n",
       "5         (lomar, 0.00715148300425)       (rome, 0.00495839329889)   \n",
       "6    (fierce-eyed, 0.0141326532063)  (treasures, 0.00611085342654)   \n",
       "7   (malignancy, 0.000286583399862)    (vitals, 0.000274208657771)   \n",
       "8      (exchange, 0.00830182515173)     (evilly, 0.00607413500598)   \n",
       "9   (prodigiously, 0.0126882279865)   (wouldn't, 0.00907219012115)   \n",
       "10      (grayish, 0.00156248403672)  (lectured, 0.000815908350245)   \n",
       "11        (apart, 0.00497086696581)      (radha, 0.00382328853252)   \n",
       "12      (legiance, 0.0038019786761)    (produce, 0.00326603280233)   \n",
       "13       (radha, 0.000405728301464)      (left, 0.000382295942555)   \n",
       "14    (legiance, 0.000511362187614)    (evilly, 0.000353029035342)   \n",
       "15       (evilly, 0.00802834141157)   (legiance, 0.00493658034659)   \n",
       "16      (evilly, 0.000373903857504)    (revoir, 0.000314880703433)   \n",
       "17       (infamy, 0.00111559641503)   (impetus, 0.000675687354457)   \n",
       "18  (malignancy, 0.000289411518818)    (sifted, 0.000287569715803)   \n",
       "19     (impetus, 0.000318922314557)    (sifted, 0.000312278143241)   \n",
       "\n",
       "                                       2                                    3  \\\n",
       "0             (douche, 0.00500425123477)          (wounded, 0.00440825060926)   \n",
       "1            (toronto, 0.00412736129402)          (produce, 0.00400646730901)   \n",
       "2           (scouring, 0.00606024830104)            (evilly, 0.0036004343027)   \n",
       "3               (radha, 0.0046926879271)    (geometrically, 0.00426739539374)   \n",
       "4             (vitals, 0.00427231332268)           (clotted, 0.0041324743117)   \n",
       "5                 (nd, 0.00494942793894)             (left, 0.00458624188979)   \n",
       "6          (disciples, 0.00503259359449)        (witchlike, 0.00469775378115)   \n",
       "7           (impetus, 0.000259835145173)           (radha, 0.000249034090363)   \n",
       "8        (mister-kent, 0.00401899325729)         (entangle, 0.00289976186428)   \n",
       "9          (sensitive, 0.00821181664535)  (impenetrability, 0.00727259042424)   \n",
       "10             (sped, 0.000814710905162)           (ahead, 0.000812972578023)   \n",
       "11             (lucky, 0.00373156765871)             (evilly, 0.003520597381)   \n",
       "12        (describing, 0.00325156802064)           (tra-la, 0.00316923856362)   \n",
       "13           (evilly, 0.000365331363983)        (legiance, 0.000350437468345)   \n",
       "14           (eerily, 0.000341837447416)         (nitrate, 0.000339539826872)   \n",
       "15          (mister-kent, 0.00478886314)          (impetus, 0.00428816883026)   \n",
       "16            (vitals, 0.00027432459713)        (rotation, 0.000267431080217)   \n",
       "17       (broadening, 0.000649483795272)         (dodging, 0.000593708358789)   \n",
       "18           (resting, 0.00026723874431)           (eerily, 0.00026701037381)   \n",
       "19  (impenetrability, 0.000283097894333)          (eerily, 0.000266038029968)   \n",
       "\n",
       "                                   4                                  5  \\\n",
       "0         (vitals, 0.00421797220584)      (injustice, 0.00386919405145)   \n",
       "1      (recklessly, 0.0039339518436)        (retorts, 0.00333922182936)   \n",
       "2        (entangle, 0.0035229239413)    (legislation, 0.00347131983325)   \n",
       "3        (toronto, 0.00406485594463)          (fairy, 0.00403229918124)   \n",
       "4        (lattice, 0.00391791469164)         (reeled, 0.00388960424145)   \n",
       "5    (necromancer, 0.00445087104813)         (bursts, 0.00414818932982)   \n",
       "6        (surgeon, 0.00449504696252)         (toronto, 0.0043832073492)   \n",
       "7     (corridors, 0.000247292919763)     (elevations, 0.00024497815456)   \n",
       "8          (sally, 0.00281713040554)         (sombre, 0.00261368194486)   \n",
       "9         (elderly, 0.0068344622938)           (fray, 0.00660868100538)   \n",
       "10     (uneasily, 0.000812600742176)  (tawny-haired, 0.000812305859498)   \n",
       "11   (mister-kent, 0.00346687931495)       (entitled, 0.00335205705056)   \n",
       "12         (radha, 0.00311361761323)         (evilly, 0.00309003233814)   \n",
       "13      (produce, 0.000349461137054)    (mister-kent, 0.00034750114044)   \n",
       "14  (mister-kent, 0.000328730685872)    (elevations, 0.000314423722548)   \n",
       "15       (nitrate, 0.00400839306799)     (simplifies, 0.00363038116978)   \n",
       "16     (buffoons, 0.000258370743252)        (bursts, 0.000257319137862)   \n",
       "17         (radha, 0.00056964502947)        (douche, 0.000562765552288)   \n",
       "18      (impetus, 0.000258289507597)         (radha, 0.000241975636646)   \n",
       "19       (evilly, 0.000255476550265)        (douche, 0.000249399872538)   \n",
       "\n",
       "                                       6  \\\n",
       "0           (rotation, 0.00383464595995)   \n",
       "1             (sifted, 0.00327653695383)   \n",
       "2        (mister-kent, 0.00315113626552)   \n",
       "3             (ringed, 0.00398332121315)   \n",
       "4             (revoir, 0.00376955632721)   \n",
       "5           (horn-like, 0.0041130866504)   \n",
       "6             (sifted, 0.00417910394832)   \n",
       "7       (practicable, 0.000243050744663)   \n",
       "8           (consoled, 0.00260760652127)   \n",
       "9          (pranceful, 0.00636574905297)   \n",
       "10          (queries, 0.000812230084705)   \n",
       "11          (each-end, 0.00299108129848)   \n",
       "12          (fabulous, 0.00294187150868)   \n",
       "13           (eerily, 0.000334109260394)   \n",
       "14         (rotation, 0.000313239114623)   \n",
       "15             (taxed, 0.00357303278797)   \n",
       "16           (sifted, 0.000257306525674)   \n",
       "17           (sifted, 0.000556336876554)   \n",
       "18  (impenetrability, 0.000229975024532)   \n",
       "19        (corridors, 0.000244970920301)   \n",
       "\n",
       "                                       7                                8  \\\n",
       "0          (corridors, 0.00369199364721)         (goal, 0.00368854463022)   \n",
       "1              (sally, 0.00322464902419)    (disciples, 0.00318923167125)   \n",
       "2          (portraits, 0.00308663284317)     (deserted, 0.00307731269285)   \n",
       "3         (elevations, 0.00375914556856)         (drum, 0.00328871593551)   \n",
       "4           (legiance, 0.00329913310167)       (cotton, 0.00327591918239)   \n",
       "5         (malignancy, 0.00402335324306)  (unconcealed, 0.00397404056007)   \n",
       "6               (left, 0.00385252557266)     (torrents, 0.00367760620555)   \n",
       "7            (sifted, 0.000242226752263)      (evilly, 0.000241474634915)   \n",
       "8     (stone-shadowed, 0.00257660589823)    (roerich's, 0.00247144829419)   \n",
       "9             (sifted, 0.00625784486794)     (mortimer, 0.00593866528805)   \n",
       "10           (trains, 0.000811736616514)      (tolled, 0.000811467295981)   \n",
       "11       (developments, 0.0029794070218)   (walk-about, 0.00294484792211)   \n",
       "12       (aspirations, 0.00286030201305)   (mister-kent, 0.0027503388863)   \n",
       "13       (malignancy, 0.000332444257028)      (tra-la, 0.000313655074975)   \n",
       "14           (sifted, 0.000307835492886)     (resting, 0.000302416811473)   \n",
       "15      (riding-times, 0.00355147266035)     (entangle, 0.00353973442177)   \n",
       "16          (resting, 0.000252858880748)       (produce, 0.0002506010944)   \n",
       "17  (impenetrability, 0.000517999230488)      (vitals, 0.000511408887549)   \n",
       "18          (toronto, 0.000218103675064)  (broadening, 0.000205156563207)   \n",
       "19          (lattice, 0.000243918673309)     (resting, 0.000240613981019)   \n",
       "\n",
       "                                    9  \n",
       "0          (sifted, 0.00357396804849)  \n",
       "1              (nd, 0.00312480525947)  \n",
       "2          (unique, 0.00304414163096)  \n",
       "3        (torrents, 0.00324901366541)  \n",
       "4        (pole-cat, 0.00309696113169)  \n",
       "5      (broadening, 0.00395707353245)  \n",
       "6            (radha, 0.0034733671404)  \n",
       "7         (revoir, 0.000234230968683)  \n",
       "8             (lip, 0.00245685613833)  \n",
       "9        (overlook, 0.00554728750318)  \n",
       "10       (kneeled, 0.000811252954899)  \n",
       "11   (perpetration, 0.00293866992799)  \n",
       "12     (elevations, 0.00273719446561)  \n",
       "13  (riding-times, 0.000311491479566)  \n",
       "14       (lattice, 0.000296328891931)  \n",
       "15      (injustice, 0.00353191383039)  \n",
       "16         (radha, 0.000249954671366)  \n",
       "17    (malignancy, 0.000490974430922)  \n",
       "18        (revoir, 0.000203977910704)  \n",
       "19        (vitals, 0.000237721468769)  "
      ]
     },
     "execution_count": 26,
     "metadata": {},
     "output_type": "execute_result"
    }
   ],
   "source": [
    "topics_df = pre.gensim2dataframe(model)\n",
    "topics_df"
   ]
  },
  {
   "cell_type": "code",
   "execution_count": 27,
   "metadata": {
    "collapsed": false,
    "deletable": true,
    "editable": true
   },
   "outputs": [
    {
     "data": {
      "text/html": [
       "<div>\n",
       "<table border=\"1\" class=\"dataframe\">\n",
       "  <thead>\n",
       "    <tr style=\"text-align: right;\">\n",
       "      <th></th>\n",
       "      <th>0</th>\n",
       "      <th>1</th>\n",
       "      <th>2</th>\n",
       "      <th>3</th>\n",
       "      <th>4</th>\n",
       "      <th>5</th>\n",
       "      <th>6</th>\n",
       "      <th>7</th>\n",
       "      <th>8</th>\n",
       "      <th>9</th>\n",
       "      <th>10</th>\n",
       "      <th>11</th>\n",
       "      <th>12</th>\n",
       "      <th>13</th>\n",
       "      <th>14</th>\n",
       "      <th>15</th>\n",
       "      <th>16</th>\n",
       "      <th>17</th>\n",
       "      <th>18</th>\n",
       "      <th>19</th>\n",
       "    </tr>\n",
       "  </thead>\n",
       "  <tbody>\n",
       "    <tr>\n",
       "      <th>0</th>\n",
       "      <td>(infamy, 0.00942058548937)</td>\n",
       "      <td>(fierce-eyed, 0.00876069669552)</td>\n",
       "      <td>(cottage, 0.00734787127314)</td>\n",
       "      <td>(hocus-pocus, 0.00773331991114)</td>\n",
       "      <td>(dodging, 0.00450354254105)</td>\n",
       "      <td>(lomar, 0.00715148300425)</td>\n",
       "      <td>(fierce-eyed, 0.0141326532063)</td>\n",
       "      <td>(malignancy, 0.000286583399862)</td>\n",
       "      <td>(exchange, 0.00830182515173)</td>\n",
       "      <td>(prodigiously, 0.0126882279865)</td>\n",
       "      <td>(grayish, 0.00156248403672)</td>\n",
       "      <td>(apart, 0.00497086696581)</td>\n",
       "      <td>(legiance, 0.0038019786761)</td>\n",
       "      <td>(radha, 0.000405728301464)</td>\n",
       "      <td>(legiance, 0.000511362187614)</td>\n",
       "      <td>(evilly, 0.00802834141157)</td>\n",
       "      <td>(evilly, 0.000373903857504)</td>\n",
       "      <td>(infamy, 0.00111559641503)</td>\n",
       "      <td>(malignancy, 0.000289411518818)</td>\n",
       "      <td>(impetus, 0.000318922314557)</td>\n",
       "    </tr>\n",
       "    <tr>\n",
       "      <th>1</th>\n",
       "      <td>(dodging, 0.00775093867522)</td>\n",
       "      <td>(radha, 0.00582426403017)</td>\n",
       "      <td>(bazars, 0.00649651895263)</td>\n",
       "      <td>(involves, 0.0067750014097)</td>\n",
       "      <td>(corridors, 0.0043272535329)</td>\n",
       "      <td>(rome, 0.00495839329889)</td>\n",
       "      <td>(treasures, 0.00611085342654)</td>\n",
       "      <td>(vitals, 0.000274208657771)</td>\n",
       "      <td>(evilly, 0.00607413500598)</td>\n",
       "      <td>(wouldn't, 0.00907219012115)</td>\n",
       "      <td>(lectured, 0.000815908350245)</td>\n",
       "      <td>(radha, 0.00382328853252)</td>\n",
       "      <td>(produce, 0.00326603280233)</td>\n",
       "      <td>(left, 0.000382295942555)</td>\n",
       "      <td>(evilly, 0.000353029035342)</td>\n",
       "      <td>(legiance, 0.00493658034659)</td>\n",
       "      <td>(revoir, 0.000314880703433)</td>\n",
       "      <td>(impetus, 0.000675687354457)</td>\n",
       "      <td>(sifted, 0.000287569715803)</td>\n",
       "      <td>(sifted, 0.000312278143241)</td>\n",
       "    </tr>\n",
       "    <tr>\n",
       "      <th>2</th>\n",
       "      <td>(douche, 0.00500425123477)</td>\n",
       "      <td>(toronto, 0.00412736129402)</td>\n",
       "      <td>(scouring, 0.00606024830104)</td>\n",
       "      <td>(radha, 0.0046926879271)</td>\n",
       "      <td>(vitals, 0.00427231332268)</td>\n",
       "      <td>(nd, 0.00494942793894)</td>\n",
       "      <td>(disciples, 0.00503259359449)</td>\n",
       "      <td>(impetus, 0.000259835145173)</td>\n",
       "      <td>(mister-kent, 0.00401899325729)</td>\n",
       "      <td>(sensitive, 0.00821181664535)</td>\n",
       "      <td>(sped, 0.000814710905162)</td>\n",
       "      <td>(lucky, 0.00373156765871)</td>\n",
       "      <td>(describing, 0.00325156802064)</td>\n",
       "      <td>(evilly, 0.000365331363983)</td>\n",
       "      <td>(eerily, 0.000341837447416)</td>\n",
       "      <td>(mister-kent, 0.00478886314)</td>\n",
       "      <td>(vitals, 0.00027432459713)</td>\n",
       "      <td>(broadening, 0.000649483795272)</td>\n",
       "      <td>(resting, 0.00026723874431)</td>\n",
       "      <td>(impenetrability, 0.000283097894333)</td>\n",
       "    </tr>\n",
       "    <tr>\n",
       "      <th>3</th>\n",
       "      <td>(wounded, 0.00440825060926)</td>\n",
       "      <td>(produce, 0.00400646730901)</td>\n",
       "      <td>(evilly, 0.0036004343027)</td>\n",
       "      <td>(geometrically, 0.00426739539374)</td>\n",
       "      <td>(clotted, 0.0041324743117)</td>\n",
       "      <td>(left, 0.00458624188979)</td>\n",
       "      <td>(witchlike, 0.00469775378115)</td>\n",
       "      <td>(radha, 0.000249034090363)</td>\n",
       "      <td>(entangle, 0.00289976186428)</td>\n",
       "      <td>(impenetrability, 0.00727259042424)</td>\n",
       "      <td>(ahead, 0.000812972578023)</td>\n",
       "      <td>(evilly, 0.003520597381)</td>\n",
       "      <td>(tra-la, 0.00316923856362)</td>\n",
       "      <td>(legiance, 0.000350437468345)</td>\n",
       "      <td>(nitrate, 0.000339539826872)</td>\n",
       "      <td>(impetus, 0.00428816883026)</td>\n",
       "      <td>(rotation, 0.000267431080217)</td>\n",
       "      <td>(dodging, 0.000593708358789)</td>\n",
       "      <td>(eerily, 0.00026701037381)</td>\n",
       "      <td>(eerily, 0.000266038029968)</td>\n",
       "    </tr>\n",
       "    <tr>\n",
       "      <th>4</th>\n",
       "      <td>(vitals, 0.00421797220584)</td>\n",
       "      <td>(recklessly, 0.0039339518436)</td>\n",
       "      <td>(entangle, 0.0035229239413)</td>\n",
       "      <td>(toronto, 0.00406485594463)</td>\n",
       "      <td>(lattice, 0.00391791469164)</td>\n",
       "      <td>(necromancer, 0.00445087104813)</td>\n",
       "      <td>(surgeon, 0.00449504696252)</td>\n",
       "      <td>(corridors, 0.000247292919763)</td>\n",
       "      <td>(sally, 0.00281713040554)</td>\n",
       "      <td>(elderly, 0.0068344622938)</td>\n",
       "      <td>(uneasily, 0.000812600742176)</td>\n",
       "      <td>(mister-kent, 0.00346687931495)</td>\n",
       "      <td>(radha, 0.00311361761323)</td>\n",
       "      <td>(produce, 0.000349461137054)</td>\n",
       "      <td>(mister-kent, 0.000328730685872)</td>\n",
       "      <td>(nitrate, 0.00400839306799)</td>\n",
       "      <td>(buffoons, 0.000258370743252)</td>\n",
       "      <td>(radha, 0.00056964502947)</td>\n",
       "      <td>(impetus, 0.000258289507597)</td>\n",
       "      <td>(evilly, 0.000255476550265)</td>\n",
       "    </tr>\n",
       "    <tr>\n",
       "      <th>5</th>\n",
       "      <td>(injustice, 0.00386919405145)</td>\n",
       "      <td>(retorts, 0.00333922182936)</td>\n",
       "      <td>(legislation, 0.00347131983325)</td>\n",
       "      <td>(fairy, 0.00403229918124)</td>\n",
       "      <td>(reeled, 0.00388960424145)</td>\n",
       "      <td>(bursts, 0.00414818932982)</td>\n",
       "      <td>(toronto, 0.0043832073492)</td>\n",
       "      <td>(elevations, 0.00024497815456)</td>\n",
       "      <td>(sombre, 0.00261368194486)</td>\n",
       "      <td>(fray, 0.00660868100538)</td>\n",
       "      <td>(tawny-haired, 0.000812305859498)</td>\n",
       "      <td>(entitled, 0.00335205705056)</td>\n",
       "      <td>(evilly, 0.00309003233814)</td>\n",
       "      <td>(mister-kent, 0.00034750114044)</td>\n",
       "      <td>(elevations, 0.000314423722548)</td>\n",
       "      <td>(simplifies, 0.00363038116978)</td>\n",
       "      <td>(bursts, 0.000257319137862)</td>\n",
       "      <td>(douche, 0.000562765552288)</td>\n",
       "      <td>(radha, 0.000241975636646)</td>\n",
       "      <td>(douche, 0.000249399872538)</td>\n",
       "    </tr>\n",
       "    <tr>\n",
       "      <th>6</th>\n",
       "      <td>(rotation, 0.00383464595995)</td>\n",
       "      <td>(sifted, 0.00327653695383)</td>\n",
       "      <td>(mister-kent, 0.00315113626552)</td>\n",
       "      <td>(ringed, 0.00398332121315)</td>\n",
       "      <td>(revoir, 0.00376955632721)</td>\n",
       "      <td>(horn-like, 0.0041130866504)</td>\n",
       "      <td>(sifted, 0.00417910394832)</td>\n",
       "      <td>(practicable, 0.000243050744663)</td>\n",
       "      <td>(consoled, 0.00260760652127)</td>\n",
       "      <td>(pranceful, 0.00636574905297)</td>\n",
       "      <td>(queries, 0.000812230084705)</td>\n",
       "      <td>(each-end, 0.00299108129848)</td>\n",
       "      <td>(fabulous, 0.00294187150868)</td>\n",
       "      <td>(eerily, 0.000334109260394)</td>\n",
       "      <td>(rotation, 0.000313239114623)</td>\n",
       "      <td>(taxed, 0.00357303278797)</td>\n",
       "      <td>(sifted, 0.000257306525674)</td>\n",
       "      <td>(sifted, 0.000556336876554)</td>\n",
       "      <td>(impenetrability, 0.000229975024532)</td>\n",
       "      <td>(corridors, 0.000244970920301)</td>\n",
       "    </tr>\n",
       "    <tr>\n",
       "      <th>7</th>\n",
       "      <td>(corridors, 0.00369199364721)</td>\n",
       "      <td>(sally, 0.00322464902419)</td>\n",
       "      <td>(portraits, 0.00308663284317)</td>\n",
       "      <td>(elevations, 0.00375914556856)</td>\n",
       "      <td>(legiance, 0.00329913310167)</td>\n",
       "      <td>(malignancy, 0.00402335324306)</td>\n",
       "      <td>(left, 0.00385252557266)</td>\n",
       "      <td>(sifted, 0.000242226752263)</td>\n",
       "      <td>(stone-shadowed, 0.00257660589823)</td>\n",
       "      <td>(sifted, 0.00625784486794)</td>\n",
       "      <td>(trains, 0.000811736616514)</td>\n",
       "      <td>(developments, 0.0029794070218)</td>\n",
       "      <td>(aspirations, 0.00286030201305)</td>\n",
       "      <td>(malignancy, 0.000332444257028)</td>\n",
       "      <td>(sifted, 0.000307835492886)</td>\n",
       "      <td>(riding-times, 0.00355147266035)</td>\n",
       "      <td>(resting, 0.000252858880748)</td>\n",
       "      <td>(impenetrability, 0.000517999230488)</td>\n",
       "      <td>(toronto, 0.000218103675064)</td>\n",
       "      <td>(lattice, 0.000243918673309)</td>\n",
       "    </tr>\n",
       "    <tr>\n",
       "      <th>8</th>\n",
       "      <td>(goal, 0.00368854463022)</td>\n",
       "      <td>(disciples, 0.00318923167125)</td>\n",
       "      <td>(deserted, 0.00307731269285)</td>\n",
       "      <td>(drum, 0.00328871593551)</td>\n",
       "      <td>(cotton, 0.00327591918239)</td>\n",
       "      <td>(unconcealed, 0.00397404056007)</td>\n",
       "      <td>(torrents, 0.00367760620555)</td>\n",
       "      <td>(evilly, 0.000241474634915)</td>\n",
       "      <td>(roerich's, 0.00247144829419)</td>\n",
       "      <td>(mortimer, 0.00593866528805)</td>\n",
       "      <td>(tolled, 0.000811467295981)</td>\n",
       "      <td>(walk-about, 0.00294484792211)</td>\n",
       "      <td>(mister-kent, 0.0027503388863)</td>\n",
       "      <td>(tra-la, 0.000313655074975)</td>\n",
       "      <td>(resting, 0.000302416811473)</td>\n",
       "      <td>(entangle, 0.00353973442177)</td>\n",
       "      <td>(produce, 0.0002506010944)</td>\n",
       "      <td>(vitals, 0.000511408887549)</td>\n",
       "      <td>(broadening, 0.000205156563207)</td>\n",
       "      <td>(resting, 0.000240613981019)</td>\n",
       "    </tr>\n",
       "    <tr>\n",
       "      <th>9</th>\n",
       "      <td>(sifted, 0.00357396804849)</td>\n",
       "      <td>(nd, 0.00312480525947)</td>\n",
       "      <td>(unique, 0.00304414163096)</td>\n",
       "      <td>(torrents, 0.00324901366541)</td>\n",
       "      <td>(pole-cat, 0.00309696113169)</td>\n",
       "      <td>(broadening, 0.00395707353245)</td>\n",
       "      <td>(radha, 0.0034733671404)</td>\n",
       "      <td>(revoir, 0.000234230968683)</td>\n",
       "      <td>(lip, 0.00245685613833)</td>\n",
       "      <td>(overlook, 0.00554728750318)</td>\n",
       "      <td>(kneeled, 0.000811252954899)</td>\n",
       "      <td>(perpetration, 0.00293866992799)</td>\n",
       "      <td>(elevations, 0.00273719446561)</td>\n",
       "      <td>(riding-times, 0.000311491479566)</td>\n",
       "      <td>(lattice, 0.000296328891931)</td>\n",
       "      <td>(injustice, 0.00353191383039)</td>\n",
       "      <td>(radha, 0.000249954671366)</td>\n",
       "      <td>(malignancy, 0.000490974430922)</td>\n",
       "      <td>(revoir, 0.000203977910704)</td>\n",
       "      <td>(vitals, 0.000237721468769)</td>\n",
       "    </tr>\n",
       "  </tbody>\n",
       "</table>\n",
       "</div>"
      ],
      "text/plain": [
       "                              0                                1   \\\n",
       "0     (infamy, 0.00942058548937)  (fierce-eyed, 0.00876069669552)   \n",
       "1    (dodging, 0.00775093867522)        (radha, 0.00582426403017)   \n",
       "2     (douche, 0.00500425123477)      (toronto, 0.00412736129402)   \n",
       "3    (wounded, 0.00440825060926)      (produce, 0.00400646730901)   \n",
       "4     (vitals, 0.00421797220584)    (recklessly, 0.0039339518436)   \n",
       "5  (injustice, 0.00386919405145)      (retorts, 0.00333922182936)   \n",
       "6   (rotation, 0.00383464595995)       (sifted, 0.00327653695383)   \n",
       "7  (corridors, 0.00369199364721)        (sally, 0.00322464902419)   \n",
       "8       (goal, 0.00368854463022)    (disciples, 0.00318923167125)   \n",
       "9     (sifted, 0.00357396804849)           (nd, 0.00312480525947)   \n",
       "\n",
       "                                2                                  3   \\\n",
       "0      (cottage, 0.00734787127314)    (hocus-pocus, 0.00773331991114)   \n",
       "1       (bazars, 0.00649651895263)        (involves, 0.0067750014097)   \n",
       "2     (scouring, 0.00606024830104)           (radha, 0.0046926879271)   \n",
       "3        (evilly, 0.0036004343027)  (geometrically, 0.00426739539374)   \n",
       "4      (entangle, 0.0035229239413)        (toronto, 0.00406485594463)   \n",
       "5  (legislation, 0.00347131983325)          (fairy, 0.00403229918124)   \n",
       "6  (mister-kent, 0.00315113626552)         (ringed, 0.00398332121315)   \n",
       "7    (portraits, 0.00308663284317)     (elevations, 0.00375914556856)   \n",
       "8     (deserted, 0.00307731269285)           (drum, 0.00328871593551)   \n",
       "9       (unique, 0.00304414163096)       (torrents, 0.00324901366541)   \n",
       "\n",
       "                             4                                5   \\\n",
       "0   (dodging, 0.00450354254105)        (lomar, 0.00715148300425)   \n",
       "1  (corridors, 0.0043272535329)         (rome, 0.00495839329889)   \n",
       "2    (vitals, 0.00427231332268)           (nd, 0.00494942793894)   \n",
       "3    (clotted, 0.0041324743117)         (left, 0.00458624188979)   \n",
       "4   (lattice, 0.00391791469164)  (necromancer, 0.00445087104813)   \n",
       "5    (reeled, 0.00388960424145)       (bursts, 0.00414818932982)   \n",
       "6    (revoir, 0.00376955632721)     (horn-like, 0.0041130866504)   \n",
       "7  (legiance, 0.00329913310167)   (malignancy, 0.00402335324306)   \n",
       "8    (cotton, 0.00327591918239)  (unconcealed, 0.00397404056007)   \n",
       "9  (pole-cat, 0.00309696113169)   (broadening, 0.00395707353245)   \n",
       "\n",
       "                               6                                 7   \\\n",
       "0  (fierce-eyed, 0.0141326532063)   (malignancy, 0.000286583399862)   \n",
       "1   (treasures, 0.00611085342654)       (vitals, 0.000274208657771)   \n",
       "2   (disciples, 0.00503259359449)      (impetus, 0.000259835145173)   \n",
       "3   (witchlike, 0.00469775378115)        (radha, 0.000249034090363)   \n",
       "4     (surgeon, 0.00449504696252)    (corridors, 0.000247292919763)   \n",
       "5      (toronto, 0.0043832073492)    (elevations, 0.00024497815456)   \n",
       "6      (sifted, 0.00417910394832)  (practicable, 0.000243050744663)   \n",
       "7        (left, 0.00385252557266)       (sifted, 0.000242226752263)   \n",
       "8    (torrents, 0.00367760620555)       (evilly, 0.000241474634915)   \n",
       "9        (radha, 0.0034733671404)       (revoir, 0.000234230968683)   \n",
       "\n",
       "                                   8                                    9   \\\n",
       "0        (exchange, 0.00830182515173)      (prodigiously, 0.0126882279865)   \n",
       "1          (evilly, 0.00607413500598)         (wouldn't, 0.00907219012115)   \n",
       "2     (mister-kent, 0.00401899325729)        (sensitive, 0.00821181664535)   \n",
       "3        (entangle, 0.00289976186428)  (impenetrability, 0.00727259042424)   \n",
       "4           (sally, 0.00281713040554)           (elderly, 0.0068344622938)   \n",
       "5          (sombre, 0.00261368194486)             (fray, 0.00660868100538)   \n",
       "6        (consoled, 0.00260760652127)        (pranceful, 0.00636574905297)   \n",
       "7  (stone-shadowed, 0.00257660589823)           (sifted, 0.00625784486794)   \n",
       "8       (roerich's, 0.00247144829419)         (mortimer, 0.00593866528805)   \n",
       "9             (lip, 0.00245685613833)         (overlook, 0.00554728750318)   \n",
       "\n",
       "                                  10                                11  \\\n",
       "0        (grayish, 0.00156248403672)         (apart, 0.00497086696581)   \n",
       "1      (lectured, 0.000815908350245)         (radha, 0.00382328853252)   \n",
       "2          (sped, 0.000814710905162)         (lucky, 0.00373156765871)   \n",
       "3         (ahead, 0.000812972578023)          (evilly, 0.003520597381)   \n",
       "4      (uneasily, 0.000812600742176)   (mister-kent, 0.00346687931495)   \n",
       "5  (tawny-haired, 0.000812305859498)      (entitled, 0.00335205705056)   \n",
       "6       (queries, 0.000812230084705)      (each-end, 0.00299108129848)   \n",
       "7        (trains, 0.000811736616514)   (developments, 0.0029794070218)   \n",
       "8        (tolled, 0.000811467295981)    (walk-about, 0.00294484792211)   \n",
       "9       (kneeled, 0.000811252954899)  (perpetration, 0.00293866992799)   \n",
       "\n",
       "                                12                                 13  \\\n",
       "0      (legiance, 0.0038019786761)         (radha, 0.000405728301464)   \n",
       "1      (produce, 0.00326603280233)          (left, 0.000382295942555)   \n",
       "2   (describing, 0.00325156802064)        (evilly, 0.000365331363983)   \n",
       "3       (tra-la, 0.00316923856362)      (legiance, 0.000350437468345)   \n",
       "4        (radha, 0.00311361761323)       (produce, 0.000349461137054)   \n",
       "5       (evilly, 0.00309003233814)    (mister-kent, 0.00034750114044)   \n",
       "6     (fabulous, 0.00294187150868)        (eerily, 0.000334109260394)   \n",
       "7  (aspirations, 0.00286030201305)    (malignancy, 0.000332444257028)   \n",
       "8   (mister-kent, 0.0027503388863)        (tra-la, 0.000313655074975)   \n",
       "9   (elevations, 0.00273719446561)  (riding-times, 0.000311491479566)   \n",
       "\n",
       "                                 14                                15  \\\n",
       "0     (legiance, 0.000511362187614)        (evilly, 0.00802834141157)   \n",
       "1       (evilly, 0.000353029035342)      (legiance, 0.00493658034659)   \n",
       "2       (eerily, 0.000341837447416)      (mister-kent, 0.00478886314)   \n",
       "3      (nitrate, 0.000339539826872)       (impetus, 0.00428816883026)   \n",
       "4  (mister-kent, 0.000328730685872)       (nitrate, 0.00400839306799)   \n",
       "5   (elevations, 0.000314423722548)    (simplifies, 0.00363038116978)   \n",
       "6     (rotation, 0.000313239114623)         (taxed, 0.00357303278797)   \n",
       "7       (sifted, 0.000307835492886)  (riding-times, 0.00355147266035)   \n",
       "8      (resting, 0.000302416811473)      (entangle, 0.00353973442177)   \n",
       "9      (lattice, 0.000296328891931)     (injustice, 0.00353191383039)   \n",
       "\n",
       "                              16                                    17  \\\n",
       "0    (evilly, 0.000373903857504)            (infamy, 0.00111559641503)   \n",
       "1    (revoir, 0.000314880703433)          (impetus, 0.000675687354457)   \n",
       "2     (vitals, 0.00027432459713)       (broadening, 0.000649483795272)   \n",
       "3  (rotation, 0.000267431080217)          (dodging, 0.000593708358789)   \n",
       "4  (buffoons, 0.000258370743252)             (radha, 0.00056964502947)   \n",
       "5    (bursts, 0.000257319137862)           (douche, 0.000562765552288)   \n",
       "6    (sifted, 0.000257306525674)           (sifted, 0.000556336876554)   \n",
       "7   (resting, 0.000252858880748)  (impenetrability, 0.000517999230488)   \n",
       "8     (produce, 0.0002506010944)           (vitals, 0.000511408887549)   \n",
       "9     (radha, 0.000249954671366)       (malignancy, 0.000490974430922)   \n",
       "\n",
       "                                     18                                    19  \n",
       "0       (malignancy, 0.000289411518818)          (impetus, 0.000318922314557)  \n",
       "1           (sifted, 0.000287569715803)           (sifted, 0.000312278143241)  \n",
       "2           (resting, 0.00026723874431)  (impenetrability, 0.000283097894333)  \n",
       "3            (eerily, 0.00026701037381)           (eerily, 0.000266038029968)  \n",
       "4          (impetus, 0.000258289507597)           (evilly, 0.000255476550265)  \n",
       "5            (radha, 0.000241975636646)           (douche, 0.000249399872538)  \n",
       "6  (impenetrability, 0.000229975024532)        (corridors, 0.000244970920301)  \n",
       "7          (toronto, 0.000218103675064)          (lattice, 0.000243918673309)  \n",
       "8       (broadening, 0.000205156563207)          (resting, 0.000240613981019)  \n",
       "9           (revoir, 0.000203977910704)           (vitals, 0.000237721468769)  "
      ]
     },
     "execution_count": 27,
     "metadata": {},
     "output_type": "execute_result"
    }
   ],
   "source": [
    "doc_topic = topics_df.T\n",
    "doc_topic"
   ]
  },
  {
   "cell_type": "markdown",
   "metadata": {
    "deletable": true,
    "editable": true
   },
   "source": [
    "## Visualisierung "
   ]
  },
  {
   "cell_type": "code",
   "execution_count": 27,
   "metadata": {
    "collapsed": false,
    "deletable": true,
    "editable": true
   },
   "outputs": [
    {
     "data": {
      "text/plain": [
       "\"lda_model = 'out_easy/corpus.lda'\\ncorpus = 'out_easy/corpus.mm'\\ndictionary = 'out_easy/corpus.dict'\\ndoc_labels = 'out_easy/corpus_doclabels.txt'\\ninteractive  = False\\n\\nvis = visual.Visualization(lda_model, corpus, dictionary, doc_labels, interactive)\""
      ]
     },
     "execution_count": 27,
     "metadata": {},
     "output_type": "execute_result"
    }
   ],
   "source": [
    "'''lda_model = 'out_easy/corpus.lda'\n",
    "corpus = 'out_easy/corpus.mm'\n",
    "dictionary = 'out_easy/corpus.dict'\n",
    "doc_labels = 'out_easy/corpus_doclabels.txt'\n",
    "interactive  = False\n",
    "\n",
    "vis = visual.Visualization(lda_model, corpus, dictionary, doc_labels, interactive)'''"
   ]
  },
  {
   "cell_type": "markdown",
   "metadata": {
    "deletable": true,
    "editable": true
   },
   "source": [
    "##### Create a document-topic matrix (that is a pandas data frame actually)"
   ]
  },
  {
   "cell_type": "code",
   "execution_count": 28,
   "metadata": {
    "collapsed": false,
    "deletable": true,
    "editable": true
   },
   "outputs": [],
   "source": [
    "doc_topic = visual.create_doc_topic(mm, model, doc_labels)"
   ]
  },
  {
   "cell_type": "markdown",
   "metadata": {
    "deletable": true,
    "editable": true
   },
   "source": [
    "##### Visualize document-topic matrix"
   ]
  },
  {
   "cell_type": "code",
   "execution_count": 29,
   "metadata": {
    "collapsed": false,
    "deletable": true,
    "editable": true
   },
   "outputs": [
    {
     "data": {
      "text/plain": [
       "<module 'matplotlib.pyplot' from '/Library/Frameworks/Python.framework/Versions/3.5/lib/python3.5/site-packages/matplotlib/pyplot.py'>"
      ]
     },
     "execution_count": 29,
     "metadata": {},
     "output_type": "execute_result"
    },
    {
     "data": {
      "image/png": "[encoded data removed]",
      "text/plain": [
       "<matplotlib.figure.Figure at 0x10eab7da0>"
      ]
     },
     "metadata": {},
     "output_type": "display_data"
    }
   ],
   "source": [
    "%matplotlib inline\n",
    "visual.doc_topic_heatmap(doc_topic)"
   ]
  },
  {
   "cell_type": "markdown",
   "metadata": {
    "deletable": true,
    "editable": true
   },
   "source": [
    "##### Visualize topic distribution in a single document"
   ]
  },
  {
   "cell_type": "code",
   "execution_count": 30,
   "metadata": {
    "collapsed": false,
    "deletable": true,
    "editable": true
   },
   "outputs": [
    {
     "data": {
      "text/plain": [
       "<module 'matplotlib.pyplot' from '/Library/Frameworks/Python.framework/Versions/3.5/lib/python3.5/site-packages/matplotlib/pyplot.py'>"
      ]
     },
     "execution_count": 30,
     "metadata": {},
     "output_type": "execute_result"
    },
    {
     "data": {
      "image/png": "[encoded data removed]",
      "text/plain": [
       "<matplotlib.figure.Figure at 0x110c72978>"
      ]
     },
     "metadata": {},
     "output_type": "display_data"
    }
   ],
   "source": [
    "visual.plot_doc_topics(doc_topic, 0)"
   ]
  },
  {
   "cell_type": "markdown",
   "metadata": {
    "collapsed": true,
    "deletable": true,
    "editable": true
   },
   "source": [
    "![success](http://cdn2.hubspot.net/hub/128506/file-446943132-jpg/images/computer_woman_success.jpg)"
   ]
  }
 ],
 "metadata": {
  "kernelspec": {
   "display_name": "Python 3",
   "language": "python",
   "name": "python3"
  },
  "language_info": {
   "codemirror_mode": {
    "name": "ipython",
    "version": 3
   },
   "file_extension": ".py",
   "mimetype": "text/x-python",
   "name": "python",
   "nbconvert_exporter": "python",
   "pygments_lexer": "ipython3",
   "version": "3.5.2"
  }
 },
 "nbformat": 4,
 "nbformat_minor": 0
}
