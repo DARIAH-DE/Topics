{
 "cells": [
  {
   "cell_type": "code",
   "execution_count": 1,
   "metadata": {},
   "outputs": [],
   "source": [
    "from dariah_topics import preprocessing as pre\n",
    "from dariah_topics import visualization as visual\n",
    "from dariah_topics import evaluation\n",
    "from dariah_topics import doclist\n",
    "from dariah_topics import meta"
   ]
  },
  {
   "cell_type": "markdown",
   "metadata": {},
   "source": [
    "## Preprocessing"
   ]
  },
  {
   "cell_type": "markdown",
   "metadata": {},
   "source": [
    "#### Liste mit Dateinamen erzeugen"
   ]
  },
  {
   "cell_type": "code",
   "execution_count": 2,
   "metadata": {},
   "outputs": [
    {
     "data": {
      "text/plain": [
       "['corpus_txt/Doyle_AScandalinBohemia.txt',\n",
       " 'corpus_txt/Doyle_AStudyinScarlet.txt',\n",
       " 'corpus_txt/Doyle_TheHoundoftheBaskervilles.txt',\n",
       " 'corpus_txt/Doyle_TheSignoftheFour.txt',\n",
       " 'corpus_txt/Howard_GodsoftheNorth.txt',\n",
       " 'corpus_txt/Howard_SchadowsinZamboula.txt',\n",
       " 'corpus_txt/Howard_ShadowsintheMoonlight.txt',\n",
       " 'corpus_txt/Howard_TheDevilinIron.txt',\n",
       " 'corpus_txt/Kipling_TheEndofthePassage.txt',\n",
       " 'corpus_txt/Kipling_TheJungleBook.txt',\n",
       " 'corpus_txt/Kipling_ThyServantaDog.txt',\n",
       " 'corpus_txt/Lovecraft_AttheMountainofMadness.txt',\n",
       " 'corpus_txt/Lovecraft_TheShunnedHouse.txt',\n",
       " 'corpus_txt/Poe_EurekaAProsePoem.txt',\n",
       " 'corpus_txt/Poe_TheCaskofAmontillado.txt',\n",
       " 'corpus_txt/Poe_TheMasqueoftheRedDeath.txt',\n",
       " 'corpus_txt/Poe_ThePurloinedLetter.txt']"
      ]
     },
     "execution_count": 2,
     "metadata": {},
     "output_type": "execute_result"
    }
   ],
   "source": [
    "path_txt = \"corpus_txt\"\n",
    "#path_txt = \"grenzbote_plain/*/\"\n",
    "#path_txt = \"wiki/\"\n",
    "\n",
    "doclist_ = doclist.PathDocList(path_txt)\n",
    "doclist_txt = doclist_.full_paths(as_str=True)\n",
    "doclist_txt"
   ]
  },
  {
   "cell_type": "markdown",
   "metadata": {},
   "source": [
    "####  Liste mit Dokumentenlabels erzeugen"
   ]
  },
  {
   "cell_type": "code",
   "execution_count": 3,
   "metadata": {},
   "outputs": [
    {
     "data": {
      "text/plain": [
       "['Doyle_AScandalinBohemia',\n",
       " 'Doyle_AStudyinScarlet',\n",
       " 'Doyle_TheHoundoftheBaskervilles',\n",
       " 'Doyle_TheSignoftheFour',\n",
       " 'Howard_GodsoftheNorth',\n",
       " 'Howard_SchadowsinZamboula',\n",
       " 'Howard_ShadowsintheMoonlight',\n",
       " 'Howard_TheDevilinIron',\n",
       " 'Kipling_TheEndofthePassage',\n",
       " 'Kipling_TheJungleBook',\n",
       " 'Kipling_ThyServantaDog',\n",
       " 'Lovecraft_AttheMountainofMadness',\n",
       " 'Lovecraft_TheShunnedHouse',\n",
       " 'Poe_EurekaAProsePoem',\n",
       " 'Poe_TheCaskofAmontillado',\n",
       " 'Poe_TheMasqueoftheRedDeath',\n",
       " 'Poe_ThePurloinedLetter']"
      ]
     },
     "execution_count": 3,
     "metadata": {},
     "output_type": "execute_result"
    }
   ],
   "source": [
    "doc_labels = doclist_.labels()\n",
    "doc_labels"
   ]
  },
  {
   "cell_type": "markdown",
   "metadata": {},
   "source": [
    "#### Metadaten (alternativ zu `PathDocList`)"
   ]
  },
  {
   "cell_type": "code",
   "execution_count": 4,
   "metadata": {},
   "outputs": [
    {
     "data": {
      "text/html": [
       "<div>\n",
       "<table border=\"1\" class=\"dataframe\">\n",
       "  <thead>\n",
       "    <tr style=\"text-align: right;\">\n",
       "      <th></th>\n",
       "      <th>author</th>\n",
       "      <th>basename</th>\n",
       "      <th>filename</th>\n",
       "      <th>title</th>\n",
       "    </tr>\n",
       "  </thead>\n",
       "  <tbody>\n",
       "    <tr>\n",
       "      <th>0</th>\n",
       "      <td>Doyle</td>\n",
       "      <td>Doyle_AScandalinBohemia</td>\n",
       "      <td>corpus_txt/Doyle_AScandalinBohemia.txt</td>\n",
       "      <td>AScandalinBohemia</td>\n",
       "    </tr>\n",
       "    <tr>\n",
       "      <th>1</th>\n",
       "      <td>Doyle</td>\n",
       "      <td>Doyle_AStudyinScarlet</td>\n",
       "      <td>corpus_txt/Doyle_AStudyinScarlet.txt</td>\n",
       "      <td>AStudyinScarlet</td>\n",
       "    </tr>\n",
       "    <tr>\n",
       "      <th>2</th>\n",
       "      <td>Doyle</td>\n",
       "      <td>Doyle_TheHoundoftheBaskervilles</td>\n",
       "      <td>corpus_txt/Doyle_TheHoundoftheBaskervilles.txt</td>\n",
       "      <td>TheHoundoftheBaskervilles</td>\n",
       "    </tr>\n",
       "    <tr>\n",
       "      <th>3</th>\n",
       "      <td>Doyle</td>\n",
       "      <td>Doyle_TheSignoftheFour</td>\n",
       "      <td>corpus_txt/Doyle_TheSignoftheFour.txt</td>\n",
       "      <td>TheSignoftheFour</td>\n",
       "    </tr>\n",
       "    <tr>\n",
       "      <th>4</th>\n",
       "      <td>Howard</td>\n",
       "      <td>Howard_GodsoftheNorth</td>\n",
       "      <td>corpus_txt/Howard_GodsoftheNorth.txt</td>\n",
       "      <td>GodsoftheNorth</td>\n",
       "    </tr>\n",
       "    <tr>\n",
       "      <th>5</th>\n",
       "      <td>Howard</td>\n",
       "      <td>Howard_SchadowsinZamboula</td>\n",
       "      <td>corpus_txt/Howard_SchadowsinZamboula.txt</td>\n",
       "      <td>SchadowsinZamboula</td>\n",
       "    </tr>\n",
       "    <tr>\n",
       "      <th>6</th>\n",
       "      <td>Howard</td>\n",
       "      <td>Howard_ShadowsintheMoonlight</td>\n",
       "      <td>corpus_txt/Howard_ShadowsintheMoonlight.txt</td>\n",
       "      <td>ShadowsintheMoonlight</td>\n",
       "    </tr>\n",
       "    <tr>\n",
       "      <th>7</th>\n",
       "      <td>Howard</td>\n",
       "      <td>Howard_TheDevilinIron</td>\n",
       "      <td>corpus_txt/Howard_TheDevilinIron.txt</td>\n",
       "      <td>TheDevilinIron</td>\n",
       "    </tr>\n",
       "    <tr>\n",
       "      <th>8</th>\n",
       "      <td>Kipling</td>\n",
       "      <td>Kipling_TheEndofthePassage</td>\n",
       "      <td>corpus_txt/Kipling_TheEndofthePassage.txt</td>\n",
       "      <td>TheEndofthePassage</td>\n",
       "    </tr>\n",
       "    <tr>\n",
       "      <th>9</th>\n",
       "      <td>Kipling</td>\n",
       "      <td>Kipling_TheJungleBook</td>\n",
       "      <td>corpus_txt/Kipling_TheJungleBook.txt</td>\n",
       "      <td>TheJungleBook</td>\n",
       "    </tr>\n",
       "    <tr>\n",
       "      <th>10</th>\n",
       "      <td>Kipling</td>\n",
       "      <td>Kipling_ThyServantaDog</td>\n",
       "      <td>corpus_txt/Kipling_ThyServantaDog.txt</td>\n",
       "      <td>ThyServantaDog</td>\n",
       "    </tr>\n",
       "    <tr>\n",
       "      <th>11</th>\n",
       "      <td>Lovecraft</td>\n",
       "      <td>Lovecraft_AttheMountainofMadness</td>\n",
       "      <td>corpus_txt/Lovecraft_AttheMountainofMadness.txt</td>\n",
       "      <td>AttheMountainofMadness</td>\n",
       "    </tr>\n",
       "    <tr>\n",
       "      <th>12</th>\n",
       "      <td>Lovecraft</td>\n",
       "      <td>Lovecraft_TheShunnedHouse</td>\n",
       "      <td>corpus_txt/Lovecraft_TheShunnedHouse.txt</td>\n",
       "      <td>TheShunnedHouse</td>\n",
       "    </tr>\n",
       "    <tr>\n",
       "      <th>13</th>\n",
       "      <td>Poe</td>\n",
       "      <td>Poe_EurekaAProsePoem</td>\n",
       "      <td>corpus_txt/Poe_EurekaAProsePoem.txt</td>\n",
       "      <td>EurekaAProsePoem</td>\n",
       "    </tr>\n",
       "    <tr>\n",
       "      <th>14</th>\n",
       "      <td>Poe</td>\n",
       "      <td>Poe_TheCaskofAmontillado</td>\n",
       "      <td>corpus_txt/Poe_TheCaskofAmontillado.txt</td>\n",
       "      <td>TheCaskofAmontillado</td>\n",
       "    </tr>\n",
       "    <tr>\n",
       "      <th>15</th>\n",
       "      <td>Poe</td>\n",
       "      <td>Poe_TheMasqueoftheRedDeath</td>\n",
       "      <td>corpus_txt/Poe_TheMasqueoftheRedDeath.txt</td>\n",
       "      <td>TheMasqueoftheRedDeath</td>\n",
       "    </tr>\n",
       "    <tr>\n",
       "      <th>16</th>\n",
       "      <td>Poe</td>\n",
       "      <td>Poe_ThePurloinedLetter</td>\n",
       "      <td>corpus_txt/Poe_ThePurloinedLetter.txt</td>\n",
       "      <td>ThePurloinedLetter</td>\n",
       "    </tr>\n",
       "  </tbody>\n",
       "</table>\n",
       "</div>"
      ],
      "text/plain": [
       "       author                          basename  \\\n",
       "0       Doyle           Doyle_AScandalinBohemia   \n",
       "1       Doyle             Doyle_AStudyinScarlet   \n",
       "2       Doyle   Doyle_TheHoundoftheBaskervilles   \n",
       "3       Doyle            Doyle_TheSignoftheFour   \n",
       "4      Howard             Howard_GodsoftheNorth   \n",
       "5      Howard         Howard_SchadowsinZamboula   \n",
       "6      Howard      Howard_ShadowsintheMoonlight   \n",
       "7      Howard             Howard_TheDevilinIron   \n",
       "8     Kipling        Kipling_TheEndofthePassage   \n",
       "9     Kipling             Kipling_TheJungleBook   \n",
       "10    Kipling            Kipling_ThyServantaDog   \n",
       "11  Lovecraft  Lovecraft_AttheMountainofMadness   \n",
       "12  Lovecraft         Lovecraft_TheShunnedHouse   \n",
       "13        Poe              Poe_EurekaAProsePoem   \n",
       "14        Poe          Poe_TheCaskofAmontillado   \n",
       "15        Poe        Poe_TheMasqueoftheRedDeath   \n",
       "16        Poe            Poe_ThePurloinedLetter   \n",
       "\n",
       "                                           filename                      title  \n",
       "0            corpus_txt/Doyle_AScandalinBohemia.txt          AScandalinBohemia  \n",
       "1              corpus_txt/Doyle_AStudyinScarlet.txt            AStudyinScarlet  \n",
       "2    corpus_txt/Doyle_TheHoundoftheBaskervilles.txt  TheHoundoftheBaskervilles  \n",
       "3             corpus_txt/Doyle_TheSignoftheFour.txt           TheSignoftheFour  \n",
       "4              corpus_txt/Howard_GodsoftheNorth.txt             GodsoftheNorth  \n",
       "5          corpus_txt/Howard_SchadowsinZamboula.txt         SchadowsinZamboula  \n",
       "6       corpus_txt/Howard_ShadowsintheMoonlight.txt      ShadowsintheMoonlight  \n",
       "7              corpus_txt/Howard_TheDevilinIron.txt             TheDevilinIron  \n",
       "8         corpus_txt/Kipling_TheEndofthePassage.txt         TheEndofthePassage  \n",
       "9              corpus_txt/Kipling_TheJungleBook.txt              TheJungleBook  \n",
       "10            corpus_txt/Kipling_ThyServantaDog.txt             ThyServantaDog  \n",
       "11  corpus_txt/Lovecraft_AttheMountainofMadness.txt     AttheMountainofMadness  \n",
       "12         corpus_txt/Lovecraft_TheShunnedHouse.txt            TheShunnedHouse  \n",
       "13              corpus_txt/Poe_EurekaAProsePoem.txt           EurekaAProsePoem  \n",
       "14          corpus_txt/Poe_TheCaskofAmontillado.txt       TheCaskofAmontillado  \n",
       "15        corpus_txt/Poe_TheMasqueoftheRedDeath.txt     TheMasqueoftheRedDeath  \n",
       "16            corpus_txt/Poe_ThePurloinedLetter.txt         ThePurloinedLetter  "
      ]
     },
     "execution_count": 4,
     "metadata": {},
     "output_type": "execute_result"
    }
   ],
   "source": [
    "md = meta.fn2metadata('corpus_txt/*.txt')\n",
    "md"
   ]
  },
  {
   "cell_type": "markdown",
   "metadata": {},
   "source": [
    "#### Corpus laden"
   ]
  },
  {
   "cell_type": "code",
   "execution_count": 5,
   "metadata": {
    "collapsed": true
   },
   "outputs": [],
   "source": [
    "corpus_txt = pre.read_from_txt(doclist_txt)"
   ]
  },
  {
   "cell_type": "markdown",
   "metadata": {},
   "source": [
    "#### Tokenisieren"
   ]
  },
  {
   "cell_type": "code",
   "execution_count": 6,
   "metadata": {},
   "outputs": [
    {
     "name": "stderr",
     "output_type": "stream",
     "text": [
      "INFO preprocessing: Accessing TXT documents ...\n"
     ]
    }
   ],
   "source": [
    "doc_tokens = [list(pre.tokenize(txt)) for txt in list(corpus_txt)]"
   ]
  },
  {
   "cell_type": "markdown",
   "metadata": {},
   "source": [
    "#### Create Dictionaries"
   ]
  },
  {
   "cell_type": "code",
   "execution_count": 7,
   "metadata": {
    "collapsed": true
   },
   "outputs": [],
   "source": [
    "id_types = pre.create_dictionary(doc_tokens)\n",
    "doc_ids = pre.create_dictionary(doc_labels)"
   ]
  },
  {
   "cell_type": "markdown",
   "metadata": {},
   "source": [
    "#### Sparse BOW Model"
   ]
  },
  {
   "cell_type": "code",
   "execution_count": 8,
   "metadata": {
    "collapsed": true
   },
   "outputs": [],
   "source": [
    "sparse_bow = pre.create_sparse_bow(doc_labels, doc_tokens, id_types, doc_ids)"
   ]
  },
  {
   "cell_type": "code",
   "execution_count": 9,
   "metadata": {},
   "outputs": [
    {
     "data": {
      "text/html": [
       "<div>\n",
       "<table border=\"1\" class=\"dataframe\">\n",
       "  <thead>\n",
       "    <tr style=\"text-align: right;\">\n",
       "      <th></th>\n",
       "      <th></th>\n",
       "      <th>0</th>\n",
       "    </tr>\n",
       "    <tr>\n",
       "      <th>doc_id</th>\n",
       "      <th>token_id</th>\n",
       "      <th></th>\n",
       "    </tr>\n",
       "  </thead>\n",
       "  <tbody>\n",
       "    <tr>\n",
       "      <th rowspan=\"5\" valign=\"top\">1</th>\n",
       "      <th>1202</th>\n",
       "      <td>270</td>\n",
       "    </tr>\n",
       "    <tr>\n",
       "      <th>6804</th>\n",
       "      <td>2750</td>\n",
       "    </tr>\n",
       "    <tr>\n",
       "      <th>4305</th>\n",
       "      <td>49</td>\n",
       "    </tr>\n",
       "    <tr>\n",
       "      <th>822</th>\n",
       "      <td>1753</td>\n",
       "    </tr>\n",
       "    <tr>\n",
       "      <th>19419</th>\n",
       "      <td>21</td>\n",
       "    </tr>\n",
       "  </tbody>\n",
       "</table>\n",
       "</div>"
      ],
      "text/plain": [
       "                    0\n",
       "doc_id token_id      \n",
       "1      1202       270\n",
       "       6804      2750\n",
       "       4305        49\n",
       "       822       1753\n",
       "       19419       21"
      ]
     },
     "execution_count": 9,
     "metadata": {},
     "output_type": "execute_result"
    }
   ],
   "source": [
    "sparse_bow[:5]"
   ]
  },
  {
   "cell_type": "markdown",
   "metadata": {},
   "source": [
    "## Topic Modeling with Gensim"
   ]
  },
  {
   "cell_type": "markdown",
   "metadata": {},
   "source": [
    "##### Saving Sparse BOW"
   ]
  },
  {
   "cell_type": "code",
   "execution_count": 10,
   "metadata": {
    "collapsed": true
   },
   "outputs": [],
   "source": [
    "pre.save_sparse_bow(sparse_bow, \"gensim_txt\")"
   ]
  },
  {
   "cell_type": "markdown",
   "metadata": {},
   "source": [
    "#### Import Market Matrix"
   ]
  },
  {
   "cell_type": "code",
   "execution_count": 11,
   "metadata": {},
   "outputs": [
    {
     "name": "stderr",
     "output_type": "stream",
     "text": [
      "INFO summa.preprocessing.cleaner: 'pattern' package not found; tag filters are not available for English\n"
     ]
    }
   ],
   "source": [
    "from gensim.models import LdaModel\n",
    "from gensim.corpora import MmCorpus"
   ]
  },
  {
   "cell_type": "code",
   "execution_count": 12,
   "metadata": {},
   "outputs": [
    {
     "name": "stderr",
     "output_type": "stream",
     "text": [
      "INFO gensim.matutils: initializing corpus reader from gensim_txt.mm\n",
      "INFO gensim.matutils: accepted corpus with 17 documents, 22232 features, 369906 non-zero entries\n"
     ]
    }
   ],
   "source": [
    "mm = MmCorpus(\"gensim_txt.mm\")"
   ]
  },
  {
   "cell_type": "code",
   "execution_count": 13,
   "metadata": {},
   "outputs": [
    {
     "name": "stderr",
     "output_type": "stream",
     "text": [
      "INFO gensim.matutils: initializing corpus reader from gensim_txt.mm\n",
      "INFO gensim.matutils: accepted corpus with 17 documents, 22232 features, 369906 non-zero entries\n"
     ]
    }
   ],
   "source": [
    "corpus = MmCorpus('gensim_txt.mm')"
   ]
  },
  {
   "cell_type": "code",
   "execution_count": 14,
   "metadata": {
    "collapsed": true
   },
   "outputs": [],
   "source": [
    "doc2id = {value : key for key, value in doc_ids.items()}\n",
    "type2id = {value : key for key, value in id_types.items()}"
   ]
  },
  {
   "cell_type": "markdown",
   "metadata": {},
   "source": [
    "##### Remove Features"
   ]
  },
  {
   "cell_type": "markdown",
   "metadata": {},
   "source": [
    "type2id = {value : key for key, value in id_types.items()}\n",
    "sparse_bow_collapsed = sparse_bow.groupby(sparse_bow.index.get_level_values('token_id')).sum()"
   ]
  },
  {
   "cell_type": "markdown",
   "metadata": {},
   "source": [
    "sparse_bow_hapax = sparse_bow_collapsed.loc[sparse_bow_collapsed[0] == 1]\n",
    "hapax = [type2id[key] for key in sparse_bow_hapax.index.get_level_values('token_id')]"
   ]
  },
  {
   "cell_type": "markdown",
   "metadata": {},
   "source": [
    "len(hapax)"
   ]
  },
  {
   "cell_type": "code",
   "execution_count": 15,
   "metadata": {
    "collapsed": true
   },
   "outputs": [],
   "source": [
    "import os.path\n",
    "basepath = os.path.abspath('.')\n",
    "\n",
    "with open(os.path.join(basepath, \"tutorial_supplementals\", \"stopwords\", \"en.txt\"), 'r', encoding = 'utf-8') as f: \n",
    "    stopword_list = f.read().split('\\n')\n",
    "    \n",
    "stopword_list = set(stopword_list)"
   ]
  },
  {
   "cell_type": "code",
   "execution_count": 16,
   "metadata": {},
   "outputs": [
    {
     "name": "stderr",
     "output_type": "stream",
     "text": [
      "INFO preprocessing: Finding hapax legomena ...\n",
      "INFO preprocessing: Finding stopwords ...\n",
      "INFO preprocessing: Removing features ...\n"
     ]
    }
   ],
   "source": [
    "hapax_from_remove = pre.find_hapax(sparse_bow, id_types)\n",
    "stopwords_from_remove = pre.find_stopwords(sparse_bow, id_types, mfw=75)\n",
    "\n",
    "#features_to_be_removed = set(hapax_from_remove + stopwords_from_remove)\n",
    "features_to_be_removed = stopwords_from_remove\n",
    "\n",
    "sparse_bow_short = pre.remove_features(sparse_bow, id_types, features_to_be_removed)"
   ]
  },
  {
   "cell_type": "code",
   "execution_count": 17,
   "metadata": {},
   "outputs": [
    {
     "data": {
      "text/plain": [
       "75"
      ]
     },
     "execution_count": 17,
     "metadata": {},
     "output_type": "execute_result"
    }
   ],
   "source": [
    "len(features_to_be_removed)"
   ]
  },
  {
   "cell_type": "code",
   "execution_count": 18,
   "metadata": {
    "collapsed": true
   },
   "outputs": [],
   "source": [
    "pre.save_sparse_bow(sparse_bow_short, \"gensim_txt\")"
   ]
  },
  {
   "cell_type": "code",
   "execution_count": 19,
   "metadata": {},
   "outputs": [
    {
     "name": "stderr",
     "output_type": "stream",
     "text": [
      "INFO gensim.matutils: initializing corpus reader from gensim_txt.mm\n",
      "INFO gensim.matutils: accepted corpus with 17 documents, 22232 features, 192053 non-zero entries\n"
     ]
    }
   ],
   "source": [
    "mm = MmCorpus(\"gensim_txt.mm\")"
   ]
  },
  {
   "cell_type": "markdown",
   "metadata": {},
   "source": [
    "#### Convert sparse_bow to list of (doc, tokens) tuples (like doc2bow)"
   ]
  },
  {
   "cell_type": "code",
   "execution_count": 20,
   "metadata": {
    "collapsed": true
   },
   "outputs": [],
   "source": [
    "doc2bow_list = []\n",
    "\n",
    "for doc in sparse_bow_short.index.groupby(sparse_bow_short.index.get_level_values('doc_id')):\n",
    "    temp = [(token, count) for token, count in zip(sparse_bow_short.loc[doc].index, sparse_bow_short.loc[doc][0])]\n",
    "    doc2bow_list.append(temp)"
   ]
  },
  {
   "cell_type": "code",
   "execution_count": 21,
   "metadata": {},
   "outputs": [
    {
     "data": {
      "text/plain": [
       "17"
      ]
     },
     "execution_count": 21,
     "metadata": {},
     "output_type": "execute_result"
    }
   ],
   "source": [
    "len(doc2bow_list)"
   ]
  },
  {
   "cell_type": "code",
   "execution_count": 22,
   "metadata": {},
   "outputs": [
    {
     "name": "stderr",
     "output_type": "stream",
     "text": [
      "INFO gensim.models.ldamodel: using symmetric alpha at 0.05\n",
      "INFO gensim.models.ldamodel: using symmetric eta at 4.49781855799937e-05\n",
      "INFO gensim.models.ldamodel: using serial LDA version on this node\n",
      "INFO gensim.models.ldamodel: running online LDA training, 20 topics, 10 passes over the supplied corpus of 17 documents, updating model once every 17 documents, evaluating perplexity every 17 documents, iterating 20x with a convergence threshold of 0.001000\n",
      "INFO gensim.models.ldamodel: -14.379 per-word bound, 21304.5 perplexity estimate based on a held-out corpus of 17 documents with 192053 words\n",
      "INFO gensim.models.ldamodel: PROGRESS: pass 0, at document #17/17\n",
      "INFO gensim.models.ldamodel: topic #15 (0.050): 0.003*\"ex-prize\" + 0.003*\"cameras\" + 0.003*\"arduous\" + 0.003*\"chaos\" + 0.003*\"nonchalance\" + 0.003*\"locally\" + 0.003*\"slow-footed\" + 0.003*\"rajah\" + 0.003*\"im-which\" + 0.003*\"earthward\"\n",
      "INFO gensim.models.ldamodel: topic #16 (0.050): 0.003*\"ex-prize\" + 0.003*\"locally\" + 0.003*\"diagnosis\" + 0.003*\"typewriting\" + 0.003*\"slow-footed\" + 0.003*\"well-ascertained\" + 0.003*\"chaos\" + 0.003*\"bags\" + 0.003*\"indulging\" + 0.003*\"earthward\"\n",
      "INFO gensim.models.ldamodel: topic #19 (0.050): 0.003*\"chaos\" + 0.003*\"indulging\" + 0.003*\"arduous\" + 0.003*\"earthward\" + 0.003*\"slow-footed\" + 0.003*\"obliterated\" + 0.003*\"well-ascertained\" + 0.003*\"length\" + 0.003*\"diagnosis\" + 0.003*\"im-which\"\n",
      "INFO gensim.models.ldamodel: topic #2 (0.050): 0.004*\"chaos\" + 0.003*\"length\" + 0.003*\"diagnosis\" + 0.003*\"ex-prize\" + 0.003*\"panelling\" + 0.003*\"arduous\" + 0.003*\"nonchalance\" + 0.003*\"cameras\" + 0.003*\"indulging\" + 0.003*\"well-ascertained\"\n",
      "INFO gensim.models.ldamodel: topic #1 (0.050): 0.003*\"member\" + 0.003*\"chaos\" + 0.003*\"indulging\" + 0.003*\"sub-lieutenant\" + 0.003*\"locally\" + 0.003*\"footmarks\" + 0.002*\"bags\" + 0.002*\"punkah-towel\" + 0.002*\"rajah\" + 0.002*\"cameras\"\n",
      "INFO gensim.models.ldamodel: topic diff=5.870159, rho=1.000000\n",
      "INFO gensim.models.ldamodel: -10.952 per-word bound, 1980.5 perplexity estimate based on a held-out corpus of 17 documents with 192053 words\n",
      "INFO gensim.models.ldamodel: PROGRESS: pass 1, at document #17/17\n",
      "INFO gensim.models.ldamodel: topic #0 (0.050): 0.005*\"length\" + 0.004*\"chaos\" + 0.004*\"obliterated\" + 0.003*\"ex-prize\" + 0.003*\"slow-footed\" + 0.003*\"footmarks\" + 0.003*\"member\" + 0.003*\"well-ascertained\" + 0.003*\"punkah-towel\" + 0.003*\"cameras\"\n",
      "INFO gensim.models.ldamodel: topic #1 (0.050): 0.003*\"member\" + 0.002*\"chaos\" + 0.002*\"indulging\" + 0.002*\"sub-lieutenant\" + 0.002*\"footmarks\" + 0.002*\"locally\" + 0.002*\"bags\" + 0.002*\"punkah-towel\" + 0.002*\"earthward\" + 0.002*\"rajah\"\n",
      "INFO gensim.models.ldamodel: topic #8 (0.050): 0.003*\"typewriting\" + 0.003*\"nonchalance\" + 0.003*\"cameras\" + 0.003*\"ex-prize\" + 0.003*\"footmarks\" + 0.002*\"obliterated\" + 0.002*\"injunction\" + 0.002*\"writhed\" + 0.002*\"diagnosis\" + 0.002*\"chaos\"\n",
      "INFO gensim.models.ldamodel: topic #15 (0.050): 0.005*\"nonchalance\" + 0.004*\"cameras\" + 0.004*\"ex-prize\" + 0.003*\"faintly\" + 0.003*\"locally\" + 0.003*\"gallop\" + 0.003*\"uncomfy\" + 0.003*\"bags\" + 0.003*\"rajah\" + 0.003*\"arduous\"\n",
      "INFO gensim.models.ldamodel: topic #2 (0.050): 0.004*\"mastodon\" + 0.004*\"chaos\" + 0.004*\"panelling\" + 0.003*\"locally\" + 0.003*\"diagnosis\" + 0.003*\"ex-prize\" + 0.003*\"typewriting\" + 0.003*\"nonchalance\" + 0.002*\"sentinels\" + 0.002*\"arduous\"\n",
      "INFO gensim.models.ldamodel: topic diff=2.633298, rho=0.577350\n",
      "INFO gensim.models.ldamodel: -9.815 per-word bound, 900.9 perplexity estimate based on a held-out corpus of 17 documents with 192053 words\n",
      "INFO gensim.models.ldamodel: PROGRESS: pass 2, at document #17/17\n",
      "INFO gensim.models.ldamodel: topic #3 (0.050): 0.006*\"mastodon\" + 0.004*\"locally\" + 0.003*\"slow-footed\" + 0.003*\"bags\" + 0.003*\"earthward\" + 0.003*\"panelling\" + 0.003*\"nonchalance\" + 0.003*\"typewriting\" + 0.003*\"blue-black\" + 0.003*\"blindness\"\n",
      "INFO gensim.models.ldamodel: topic #10 (0.050): 0.002*\"well-ascertained\" + 0.002*\"ex-prize\" + 0.002*\"chaos\" + 0.002*\"locally\" + 0.002*\"earthward\" + 0.002*\"typewriting\" + 0.002*\"diagnosis\" + 0.002*\"sub-lieutenant\" + 0.002*\"im-which\" + 0.002*\"member\"\n",
      "INFO gensim.models.ldamodel: topic #5 (0.050): 0.002*\"indulging\" + 0.002*\"bags\" + 0.002*\"ex-prize\" + 0.002*\"locally\" + 0.002*\"member\" + 0.002*\"diagnosis\" + 0.002*\"slow-footed\" + 0.002*\"arduous\" + 0.002*\"lie-at\" + 0.002*\"up-and\"\n",
      "INFO gensim.models.ldamodel: topic #9 (0.050): 0.003*\"locally\" + 0.002*\"offence-at\" + 0.002*\"cameras\" + 0.002*\"member\" + 0.002*\"grain-land\" + 0.002*\"typewriting\" + 0.002*\"apply\" + 0.002*\"earthward\" + 0.002*\"indulging\" + 0.002*\"writhed\"\n",
      "INFO gensim.models.ldamodel: topic #13 (0.050): 0.005*\"nonchalance\" + 0.004*\"faintly\" + 0.003*\"bags\" + 0.003*\"uncomfy\" + 0.003*\"locally\" + 0.003*\"gallop\" + 0.003*\"sub-lieutenant\" + 0.003*\"apply\" + 0.003*\"grain-land\" + 0.002*\"cameras\"\n",
      "INFO gensim.models.ldamodel: topic diff=2.147151, rho=0.500000\n",
      "INFO gensim.models.ldamodel: -9.298 per-word bound, 629.3 perplexity estimate based on a held-out corpus of 17 documents with 192053 words\n",
      "INFO gensim.models.ldamodel: PROGRESS: pass 3, at document #17/17\n",
      "INFO gensim.models.ldamodel: topic #13 (0.050): 0.004*\"nonchalance\" + 0.003*\"faintly\" + 0.003*\"bags\" + 0.003*\"uncomfy\" + 0.003*\"locally\" + 0.003*\"grain-land\" + 0.002*\"gallop\" + 0.002*\"apply\" + 0.002*\"sub-lieutenant\" + 0.002*\"typewriting\"\n",
      "INFO gensim.models.ldamodel: topic #10 (0.050): 0.002*\"well-ascertained\" + 0.002*\"ex-prize\" + 0.002*\"chaos\" + 0.002*\"locally\" + 0.002*\"earthward\" + 0.002*\"typewriting\" + 0.002*\"diagnosis\" + 0.002*\"sub-lieutenant\" + 0.002*\"im-which\" + 0.002*\"member\"\n",
      "INFO gensim.models.ldamodel: topic #5 (0.050): 0.002*\"indulging\" + 0.002*\"bags\" + 0.002*\"ex-prize\" + 0.002*\"locally\" + 0.002*\"member\" + 0.001*\"diagnosis\" + 0.001*\"slow-footed\" + 0.001*\"arduous\" + 0.001*\"lie-at\" + 0.001*\"up-and\"\n",
      "INFO gensim.models.ldamodel: topic #9 (0.050): 0.002*\"locally\" + 0.002*\"offence-at\" + 0.002*\"cameras\" + 0.002*\"member\" + 0.002*\"grain-land\" + 0.002*\"typewriting\" + 0.002*\"apply\" + 0.002*\"earthward\" + 0.002*\"indulging\" + 0.002*\"writhed\"\n",
      "INFO gensim.models.ldamodel: topic #17 (0.050): 0.002*\"ex-prize\" + 0.002*\"well-ascertained\" + 0.002*\"footmarks\" + 0.002*\"diagnosis\" + 0.002*\"nonchalance\" + 0.002*\"chaos\" + 0.002*\"arduous\" + 0.002*\"slow-footed\" + 0.002*\"obliterated\" + 0.002*\"in_ductions\"\n",
      "INFO gensim.models.ldamodel: topic diff=1.600805, rho=0.447214\n",
      "INFO gensim.models.ldamodel: -9.039 per-word bound, 525.9 perplexity estimate based on a held-out corpus of 17 documents with 192053 words\n",
      "INFO gensim.models.ldamodel: PROGRESS: pass 4, at document #17/17\n",
      "INFO gensim.models.ldamodel: topic #5 (0.050): 0.001*\"indulging\" + 0.001*\"bags\" + 0.001*\"ex-prize\" + 0.001*\"locally\" + 0.001*\"member\" + 0.001*\"diagnosis\" + 0.001*\"slow-footed\" + 0.001*\"arduous\" + 0.001*\"lie-at\" + 0.001*\"up-and\"\n",
      "INFO gensim.models.ldamodel: topic #11 (0.050): 0.002*\"chaos\" + 0.001*\"earthward\" + 0.001*\"well-ascertained\" + 0.001*\"cameras\" + 0.001*\"length\" + 0.001*\"ex-prize\" + 0.001*\"slow-footed\" + 0.001*\"locally\" + 0.001*\"arduous\" + 0.001*\"lie-at\"\n",
      "INFO gensim.models.ldamodel: topic #8 (0.050): 0.001*\"typewriting\" + 0.001*\"obliterated\" + 0.001*\"cameras\" + 0.001*\"nonchalance\" + 0.001*\"footmarks\" + 0.001*\"ex-prize\" + 0.001*\"injunction\" + 0.001*\"writhed\" + 0.001*\"rajah\" + 0.001*\"diagnosis\"\n",
      "INFO gensim.models.ldamodel: topic #4 (0.050): 0.004*\"obliterated\" + 0.004*\"typewriting\" + 0.004*\"offence-at\" + 0.003*\"indulging\" + 0.003*\"cameras\" + 0.003*\"earthward\" + 0.003*\"locally\" + 0.003*\"collapsible\" + 0.003*\"bracelets\" + 0.003*\"slow-footed\"\n",
      "INFO gensim.models.ldamodel: topic #14 (0.050): 0.010*\"killing\" + 0.007*\"harry\" + 0.005*\"burglary\" + 0.005*\"sobbing\" + 0.005*\"nonchalant\" + 0.004*\"anomalous\" + 0.004*\"punkah-towel\" + 0.003*\"adjustments\" + 0.003*\"two-bang\" + 0.003*\"accredited\"\n",
      "INFO gensim.models.ldamodel: topic diff=1.195333, rho=0.408248\n",
      "INFO gensim.models.ldamodel: -8.889 per-word bound, 474.2 perplexity estimate based on a held-out corpus of 17 documents with 192053 words\n",
      "INFO gensim.models.ldamodel: PROGRESS: pass 5, at document #17/17\n",
      "INFO gensim.models.ldamodel: topic #3 (0.050): 0.009*\"mastodon\" + 0.005*\"locally\" + 0.004*\"blindness\" + 0.004*\"panelling\" + 0.004*\"nonchalance\" + 0.004*\"bags\" + 0.003*\"old-maid\" + 0.003*\"necks\" + 0.003*\"inclining\" + 0.003*\"penguins\"\n"
     ]
    },
    {
     "name": "stderr",
     "output_type": "stream",
     "text": [
      "INFO gensim.models.ldamodel: topic #15 (0.050): 0.007*\"nonchalance\" + 0.005*\"cameras\" + 0.004*\"faintly\" + 0.004*\"gallop\" + 0.004*\"ex-prize\" + 0.003*\"up-and\" + 0.003*\"uncomfy\" + 0.003*\"locally\" + 0.003*\"sub-lieutenant\" + 0.003*\"bags\"\n",
      "INFO gensim.models.ldamodel: topic #19 (0.050): 0.006*\"obliterated\" + 0.005*\"well-ascertained\" + 0.004*\"arduous\" + 0.004*\"im-which\" + 0.004*\"defined\" + 0.004*\"crest-fallen\" + 0.004*\"footmarks\" + 0.004*\"individualized\" + 0.004*\"negative\" + 0.003*\"revision\"\n",
      "INFO gensim.models.ldamodel: topic #4 (0.050): 0.004*\"obliterated\" + 0.004*\"typewriting\" + 0.004*\"offence-at\" + 0.003*\"indulging\" + 0.003*\"cameras\" + 0.003*\"earthward\" + 0.003*\"collapsible\" + 0.003*\"locally\" + 0.003*\"bracelets\" + 0.003*\"slow-footed\"\n",
      "INFO gensim.models.ldamodel: topic #12 (0.050): 0.001*\"diagnosis\" + 0.001*\"cameras\" + 0.001*\"locally\" + 0.001*\"chaos\" + 0.001*\"earthward\" + 0.001*\"well-ascertained\" + 0.001*\"typewriting\" + 0.001*\"nonchalance\" + 0.001*\"slow-footed\" + 0.001*\"footmarks\"\n",
      "INFO gensim.models.ldamodel: topic diff=0.899293, rho=0.377964\n",
      "INFO gensim.models.ldamodel: -8.797 per-word bound, 444.9 perplexity estimate based on a held-out corpus of 17 documents with 192053 words\n",
      "INFO gensim.models.ldamodel: PROGRESS: pass 6, at document #17/17\n",
      "INFO gensim.models.ldamodel: topic #2 (0.050): 0.008*\"mastodon\" + 0.005*\"duplicate\" + 0.005*\"sentinels\" + 0.004*\"locally\" + 0.004*\"chaos\" + 0.004*\"panelling\" + 0.004*\"typewriting\" + 0.003*\"nightingale\" + 0.003*\"ex-prize\" + 0.003*\"throwing-stick\"\n",
      "INFO gensim.models.ldamodel: topic #12 (0.050): 0.001*\"diagnosis\" + 0.001*\"cameras\" + 0.001*\"locally\" + 0.001*\"chaos\" + 0.001*\"earthward\" + 0.001*\"associates\" + 0.001*\"well-ascertained\" + 0.001*\"typewriting\" + 0.001*\"nonchalance\" + 0.001*\"slow-footed\"\n",
      "INFO gensim.models.ldamodel: topic #1 (0.050): 0.001*\"member\" + 0.001*\"chaos\" + 0.001*\"indulging\" + 0.001*\"sub-lieutenant\" + 0.001*\"footmarks\" + 0.001*\"locally\" + 0.001*\"bags\" + 0.001*\"punkah-towel\" + 0.001*\"earthward\" + 0.001*\"rajah\"\n",
      "INFO gensim.models.ldamodel: topic #0 (0.050): 0.008*\"length\" + 0.005*\"chaos\" + 0.004*\"slow-footed\" + 0.004*\"hawklike\" + 0.004*\"obliterated\" + 0.004*\"in_ductions\" + 0.004*\"punkah-towel\" + 0.004*\"earthward\" + 0.004*\"well-ascertained\" + 0.004*\"injunction\"\n",
      "INFO gensim.models.ldamodel: topic #19 (0.050): 0.006*\"obliterated\" + 0.005*\"well-ascertained\" + 0.004*\"arduous\" + 0.004*\"im-which\" + 0.004*\"defined\" + 0.004*\"footmarks\" + 0.004*\"crest-fallen\" + 0.004*\"individualized\" + 0.004*\"negative\" + 0.003*\"revision\"\n",
      "INFO gensim.models.ldamodel: topic diff=0.681894, rho=0.353553\n",
      "INFO gensim.models.ldamodel: -8.739 per-word bound, 427.1 perplexity estimate based on a held-out corpus of 17 documents with 192053 words\n",
      "INFO gensim.models.ldamodel: PROGRESS: pass 7, at document #17/17\n",
      "INFO gensim.models.ldamodel: topic #13 (0.050): 0.002*\"nonchalance\" + 0.002*\"bags\" + 0.002*\"faintly\" + 0.002*\"grain-land\" + 0.002*\"uncomfy\" + 0.002*\"apply\" + 0.001*\"locally\" + 0.001*\"accepted\" + 0.001*\"typewriting\" + 0.001*\"discharges\"\n",
      "INFO gensim.models.ldamodel: topic #14 (0.050): 0.011*\"killing\" + 0.008*\"harry\" + 0.006*\"burglary\" + 0.006*\"sobbing\" + 0.006*\"nonchalant\" + 0.004*\"anomalous\" + 0.004*\"punkah-towel\" + 0.004*\"adjustments\" + 0.004*\"two-bang\" + 0.004*\"accredited\"\n",
      "INFO gensim.models.ldamodel: topic #4 (0.050): 0.004*\"obliterated\" + 0.004*\"typewriting\" + 0.004*\"offence-at\" + 0.003*\"indulging\" + 0.003*\"cameras\" + 0.003*\"earthward\" + 0.003*\"bracelets\" + 0.003*\"collapsible\" + 0.003*\"locally\" + 0.003*\"slow-footed\"\n",
      "INFO gensim.models.ldamodel: topic #3 (0.050): 0.010*\"mastodon\" + 0.005*\"locally\" + 0.005*\"blindness\" + 0.004*\"panelling\" + 0.004*\"nonchalance\" + 0.004*\"bags\" + 0.004*\"old-maid\" + 0.004*\"inclining\" + 0.003*\"necks\" + 0.003*\"penguins\"\n",
      "INFO gensim.models.ldamodel: topic #10 (0.050): 0.001*\"well-ascertained\" + 0.001*\"ex-prize\" + 0.001*\"chaos\" + 0.001*\"locally\" + 0.001*\"earthward\" + 0.001*\"typewriting\" + 0.001*\"diagnosis\" + 0.001*\"sub-lieutenant\" + 0.001*\"im-which\" + 0.001*\"member\"\n",
      "INFO gensim.models.ldamodel: topic diff=0.520918, rho=0.333333\n",
      "INFO gensim.models.ldamodel: -8.700 per-word bound, 415.9 perplexity estimate based on a held-out corpus of 17 documents with 192053 words\n",
      "INFO gensim.models.ldamodel: PROGRESS: pass 8, at document #17/17\n",
      "INFO gensim.models.ldamodel: topic #16 (0.050): 0.007*\"corrupted\" + 0.005*\"do-well\" + 0.005*\"wills\" + 0.005*\"diagnosis\" + 0.004*\"nonchalant\" + 0.004*\"millionaires\" + 0.004*\"interlocked\" + 0.004*\"member\" + 0.004*\"genial\" + 0.004*\"earthward\"\n",
      "INFO gensim.models.ldamodel: topic #3 (0.050): 0.010*\"mastodon\" + 0.005*\"locally\" + 0.005*\"blindness\" + 0.004*\"panelling\" + 0.004*\"nonchalance\" + 0.004*\"bags\" + 0.004*\"old-maid\" + 0.004*\"inclining\" + 0.004*\"necks\" + 0.003*\"penguins\"\n",
      "INFO gensim.models.ldamodel: topic #11 (0.050): 0.001*\"chaos\" + 0.000*\"earthward\" + 0.000*\"well-ascertained\" + 0.000*\"cameras\" + 0.000*\"length\" + 0.000*\"ex-prize\" + 0.000*\"slow-footed\" + 0.000*\"locally\" + 0.000*\"arduous\" + 0.000*\"lie-at\"\n",
      "INFO gensim.models.ldamodel: topic #8 (0.050): 0.002*\"sulfur\" + 0.001*\"shiney-feet\" + 0.001*\"newcomer\" + 0.001*\"ghost\" + 0.001*\"indicated\" + 0.001*\"teachings\" + 0.001*\"refreshing\" + 0.001*\"legal\" + 0.001*\"well-balanced\" + 0.001*\"messenger\"\n",
      "INFO gensim.models.ldamodel: topic #5 (0.050): 0.000*\"indulging\" + 0.000*\"bags\" + 0.000*\"ex-prize\" + 0.000*\"locally\" + 0.000*\"member\" + 0.000*\"diagnosis\" + 0.000*\"slow-footed\" + 0.000*\"arduous\" + 0.000*\"lie-at\" + 0.000*\"up-and\"\n",
      "INFO gensim.models.ldamodel: topic diff=0.400626, rho=0.316228\n",
      "INFO gensim.models.ldamodel: -8.674 per-word bound, 408.5 perplexity estimate based on a held-out corpus of 17 documents with 192053 words\n",
      "INFO gensim.models.ldamodel: PROGRESS: pass 9, at document #17/17\n",
      "INFO gensim.models.ldamodel: topic #5 (0.050): 0.000*\"indulging\" + 0.000*\"bags\" + 0.000*\"ex-prize\" + 0.000*\"locally\" + 0.000*\"member\" + 0.000*\"diagnosis\" + 0.000*\"slow-footed\" + 0.000*\"arduous\" + 0.000*\"lie-at\" + 0.000*\"up-and\"\n",
      "INFO gensim.models.ldamodel: topic #2 (0.050): 0.008*\"mastodon\" + 0.005*\"sentinels\" + 0.005*\"duplicate\" + 0.004*\"locally\" + 0.004*\"chaos\" + 0.004*\"panelling\" + 0.004*\"typewriting\" + 0.003*\"nightingale\" + 0.003*\"creep\" + 0.003*\"ex-prize\"\n",
      "INFO gensim.models.ldamodel: topic #19 (0.050): 0.006*\"obliterated\" + 0.005*\"well-ascertained\" + 0.005*\"arduous\" + 0.004*\"im-which\" + 0.004*\"defined\" + 0.004*\"footmarks\" + 0.004*\"crest-fallen\" + 0.004*\"individualized\" + 0.004*\"negative\" + 0.003*\"lie-at\"\n",
      "INFO gensim.models.ldamodel: topic #11 (0.050): 0.000*\"chaos\" + 0.000*\"earthward\" + 0.000*\"well-ascertained\" + 0.000*\"cameras\" + 0.000*\"length\" + 0.000*\"ex-prize\" + 0.000*\"slow-footed\" + 0.000*\"locally\" + 0.000*\"arduous\" + 0.000*\"lie-at\"\n",
      "INFO gensim.models.ldamodel: topic #1 (0.050): 0.000*\"member\" + 0.000*\"chaos\" + 0.000*\"indulging\" + 0.000*\"sub-lieutenant\" + 0.000*\"footmarks\" + 0.000*\"locally\" + 0.000*\"bags\" + 0.000*\"punkah-towel\" + 0.000*\"earthward\" + 0.000*\"rajah\"\n",
      "INFO gensim.models.ldamodel: topic diff=0.309687, rho=0.301511\n"
     ]
    }
   ],
   "source": [
    "model = LdaModel(corpus=mm, id2word=type2id, num_topics=20, passes = 10, iterations = 20)"
   ]
  },
  {
   "cell_type": "code",
   "execution_count": 23,
   "metadata": {},
   "outputs": [
    {
     "data": {
      "text/plain": [
       "[(0, 0.21092145449352817),\n",
       " (2, 0.088421008090027883),\n",
       " (3, 0.04709042797737098),\n",
       " (4, 0.12311292619277209),\n",
       " (6, 0.059615117896932551),\n",
       " (13, 0.012075812920660041),\n",
       " (14, 0.012981899766136805),\n",
       " (15, 0.23323998434938839),\n",
       " (16, 0.10844284050321322),\n",
       " (19, 0.092282127260728292)]"
      ]
     },
     "execution_count": 23,
     "metadata": {},
     "output_type": "execute_result"
    }
   ],
   "source": [
    "model.get_document_topics(doc2bow_list[1])"
   ]
  },
  {
   "cell_type": "code",
   "execution_count": 24,
   "metadata": {},
   "outputs": [
    {
     "data": {
      "text/plain": [
       "['member',\n",
       " 'chaos',\n",
       " 'indulging',\n",
       " 'sub-lieutenant',\n",
       " 'footmarks',\n",
       " 'locally',\n",
       " 'bags',\n",
       " 'punkah-towel',\n",
       " 'earthward',\n",
       " 'rajah']"
      ]
     },
     "execution_count": 24,
     "metadata": {},
     "output_type": "execute_result"
    }
   ],
   "source": [
    "#Anzeige der keywords für topic n\n",
    "n = 1\n",
    "topic_nr_x = model.get_topic_terms(n)\n",
    "\n",
    "topicTerms = [type2id[i[0]] for i in topic_nr_x]\n",
    "topicTerms"
   ]
  },
  {
   "cell_type": "code",
   "execution_count": 25,
   "metadata": {},
   "outputs": [
    {
     "data": {
      "text/html": [
       "<div>\n",
       "<table border=\"1\" class=\"dataframe\">\n",
       "  <thead>\n",
       "    <tr style=\"text-align: right;\">\n",
       "      <th></th>\n",
       "      <th>0</th>\n",
       "      <th>1</th>\n",
       "      <th>2</th>\n",
       "      <th>3</th>\n",
       "      <th>4</th>\n",
       "      <th>5</th>\n",
       "      <th>6</th>\n",
       "      <th>7</th>\n",
       "      <th>8</th>\n",
       "      <th>9</th>\n",
       "    </tr>\n",
       "  </thead>\n",
       "  <tbody>\n",
       "    <tr>\n",
       "      <th>0</th>\n",
       "      <td>length</td>\n",
       "      <td>chaos</td>\n",
       "      <td>hawklike</td>\n",
       "      <td>slow-footed</td>\n",
       "      <td>obliterated</td>\n",
       "      <td>in_ductions</td>\n",
       "      <td>punkah-towel</td>\n",
       "      <td>earthward</td>\n",
       "      <td>well-ascertained</td>\n",
       "      <td>injunction</td>\n",
       "    </tr>\n",
       "    <tr>\n",
       "      <th>1</th>\n",
       "      <td>member</td>\n",
       "      <td>chaos</td>\n",
       "      <td>indulging</td>\n",
       "      <td>sub-lieutenant</td>\n",
       "      <td>footmarks</td>\n",
       "      <td>locally</td>\n",
       "      <td>bags</td>\n",
       "      <td>punkah-towel</td>\n",
       "      <td>earthward</td>\n",
       "      <td>rajah</td>\n",
       "    </tr>\n",
       "    <tr>\n",
       "      <th>2</th>\n",
       "      <td>mastodon</td>\n",
       "      <td>sentinels</td>\n",
       "      <td>duplicate</td>\n",
       "      <td>locally</td>\n",
       "      <td>chaos</td>\n",
       "      <td>panelling</td>\n",
       "      <td>typewriting</td>\n",
       "      <td>nightingale</td>\n",
       "      <td>creep</td>\n",
       "      <td>ex-prize</td>\n",
       "    </tr>\n",
       "    <tr>\n",
       "      <th>3</th>\n",
       "      <td>mastodon</td>\n",
       "      <td>locally</td>\n",
       "      <td>blindness</td>\n",
       "      <td>panelling</td>\n",
       "      <td>nonchalance</td>\n",
       "      <td>bags</td>\n",
       "      <td>old-maid</td>\n",
       "      <td>inclining</td>\n",
       "      <td>necks</td>\n",
       "      <td>penguins</td>\n",
       "    </tr>\n",
       "    <tr>\n",
       "      <th>4</th>\n",
       "      <td>obliterated</td>\n",
       "      <td>typewriting</td>\n",
       "      <td>offence-at</td>\n",
       "      <td>indulging</td>\n",
       "      <td>cameras</td>\n",
       "      <td>earthward</td>\n",
       "      <td>bracelets</td>\n",
       "      <td>collapsible</td>\n",
       "      <td>locally</td>\n",
       "      <td>slow-footed</td>\n",
       "    </tr>\n",
       "    <tr>\n",
       "      <th>5</th>\n",
       "      <td>indulging</td>\n",
       "      <td>bags</td>\n",
       "      <td>ex-prize</td>\n",
       "      <td>locally</td>\n",
       "      <td>member</td>\n",
       "      <td>diagnosis</td>\n",
       "      <td>slow-footed</td>\n",
       "      <td>arduous</td>\n",
       "      <td>lie-at</td>\n",
       "      <td>up-and</td>\n",
       "    </tr>\n",
       "    <tr>\n",
       "      <th>6</th>\n",
       "      <td>obliterated</td>\n",
       "      <td>writhed</td>\n",
       "      <td>nightmares</td>\n",
       "      <td>nonchalance</td>\n",
       "      <td>footmarks</td>\n",
       "      <td>trapdoor</td>\n",
       "      <td>rajah</td>\n",
       "      <td>sub-lieutenant</td>\n",
       "      <td>injunction</td>\n",
       "      <td>in_ductions</td>\n",
       "    </tr>\n",
       "    <tr>\n",
       "      <th>7</th>\n",
       "      <td>punkah-towel</td>\n",
       "      <td>offence-at</td>\n",
       "      <td>locally</td>\n",
       "      <td>well-ascertained</td>\n",
       "      <td>cameras</td>\n",
       "      <td>arduous</td>\n",
       "      <td>slow-footed</td>\n",
       "      <td>accepted</td>\n",
       "      <td>nonchalance</td>\n",
       "      <td>faintly</td>\n",
       "    </tr>\n",
       "    <tr>\n",
       "      <th>8</th>\n",
       "      <td>sulfur</td>\n",
       "      <td>shiney-feet</td>\n",
       "      <td>newcomer</td>\n",
       "      <td>ghost</td>\n",
       "      <td>indicated</td>\n",
       "      <td>teachings</td>\n",
       "      <td>refreshing</td>\n",
       "      <td>legal</td>\n",
       "      <td>well-balanced</td>\n",
       "      <td>messenger</td>\n",
       "    </tr>\n",
       "    <tr>\n",
       "      <th>9</th>\n",
       "      <td>locally</td>\n",
       "      <td>offence-at</td>\n",
       "      <td>cameras</td>\n",
       "      <td>member</td>\n",
       "      <td>grain-land</td>\n",
       "      <td>typewriting</td>\n",
       "      <td>apply</td>\n",
       "      <td>earthward</td>\n",
       "      <td>indulging</td>\n",
       "      <td>writhed</td>\n",
       "    </tr>\n",
       "    <tr>\n",
       "      <th>10</th>\n",
       "      <td>well-ascertained</td>\n",
       "      <td>ex-prize</td>\n",
       "      <td>chaos</td>\n",
       "      <td>locally</td>\n",
       "      <td>earthward</td>\n",
       "      <td>typewriting</td>\n",
       "      <td>diagnosis</td>\n",
       "      <td>sub-lieutenant</td>\n",
       "      <td>im-which</td>\n",
       "      <td>member</td>\n",
       "    </tr>\n",
       "    <tr>\n",
       "      <th>11</th>\n",
       "      <td>chaos</td>\n",
       "      <td>earthward</td>\n",
       "      <td>well-ascertained</td>\n",
       "      <td>cameras</td>\n",
       "      <td>length</td>\n",
       "      <td>ex-prize</td>\n",
       "      <td>slow-footed</td>\n",
       "      <td>locally</td>\n",
       "      <td>arduous</td>\n",
       "      <td>lie-at</td>\n",
       "    </tr>\n",
       "    <tr>\n",
       "      <th>12</th>\n",
       "      <td>associates</td>\n",
       "      <td>diagnosis</td>\n",
       "      <td>cameras</td>\n",
       "      <td>locally</td>\n",
       "      <td>chaos</td>\n",
       "      <td>earthward</td>\n",
       "      <td>well-ascertained</td>\n",
       "      <td>typewriting</td>\n",
       "      <td>nonchalance</td>\n",
       "      <td>slow-footed</td>\n",
       "    </tr>\n",
       "    <tr>\n",
       "      <th>13</th>\n",
       "      <td>nonchalance</td>\n",
       "      <td>bags</td>\n",
       "      <td>grain-land</td>\n",
       "      <td>faintly</td>\n",
       "      <td>uncomfy</td>\n",
       "      <td>discharges</td>\n",
       "      <td>accepted</td>\n",
       "      <td>apply</td>\n",
       "      <td>typewriting</td>\n",
       "      <td>molecular</td>\n",
       "    </tr>\n",
       "    <tr>\n",
       "      <th>14</th>\n",
       "      <td>killing</td>\n",
       "      <td>harry</td>\n",
       "      <td>burglary</td>\n",
       "      <td>sobbing</td>\n",
       "      <td>nonchalant</td>\n",
       "      <td>anomalous</td>\n",
       "      <td>punkah-towel</td>\n",
       "      <td>adjustments</td>\n",
       "      <td>two-bang</td>\n",
       "      <td>accredited</td>\n",
       "    </tr>\n",
       "    <tr>\n",
       "      <th>15</th>\n",
       "      <td>nonchalance</td>\n",
       "      <td>cameras</td>\n",
       "      <td>faintly</td>\n",
       "      <td>gallop</td>\n",
       "      <td>up-and</td>\n",
       "      <td>ex-prize</td>\n",
       "      <td>uncomfy</td>\n",
       "      <td>sub-lieutenant</td>\n",
       "      <td>locally</td>\n",
       "      <td>bags</td>\n",
       "    </tr>\n",
       "    <tr>\n",
       "      <th>16</th>\n",
       "      <td>corrupted</td>\n",
       "      <td>do-well</td>\n",
       "      <td>wills</td>\n",
       "      <td>diagnosis</td>\n",
       "      <td>nonchalant</td>\n",
       "      <td>millionaires</td>\n",
       "      <td>interlocked</td>\n",
       "      <td>member</td>\n",
       "      <td>genial</td>\n",
       "      <td>earthward</td>\n",
       "    </tr>\n",
       "    <tr>\n",
       "      <th>17</th>\n",
       "      <td>ex-prize</td>\n",
       "      <td>well-ascertained</td>\n",
       "      <td>footmarks</td>\n",
       "      <td>diagnosis</td>\n",
       "      <td>nonchalance</td>\n",
       "      <td>chaos</td>\n",
       "      <td>arduous</td>\n",
       "      <td>slow-footed</td>\n",
       "      <td>obliterated</td>\n",
       "      <td>in_ductions</td>\n",
       "    </tr>\n",
       "    <tr>\n",
       "      <th>18</th>\n",
       "      <td>nonchalance</td>\n",
       "      <td>ex-prize</td>\n",
       "      <td>strong-minded</td>\n",
       "      <td>sentinels</td>\n",
       "      <td>safe</td>\n",
       "      <td>squat</td>\n",
       "      <td>gaily</td>\n",
       "      <td>cameras</td>\n",
       "      <td>ringlets</td>\n",
       "      <td>vampire</td>\n",
       "    </tr>\n",
       "    <tr>\n",
       "      <th>19</th>\n",
       "      <td>obliterated</td>\n",
       "      <td>well-ascertained</td>\n",
       "      <td>arduous</td>\n",
       "      <td>im-which</td>\n",
       "      <td>defined</td>\n",
       "      <td>footmarks</td>\n",
       "      <td>crest-fallen</td>\n",
       "      <td>individualized</td>\n",
       "      <td>negative</td>\n",
       "      <td>lie-at</td>\n",
       "    </tr>\n",
       "  </tbody>\n",
       "</table>\n",
       "</div>"
      ],
      "text/plain": [
       "                   0                 1                 2                 3  \\\n",
       "0             length             chaos          hawklike       slow-footed   \n",
       "1             member             chaos         indulging    sub-lieutenant   \n",
       "2           mastodon         sentinels         duplicate           locally   \n",
       "3           mastodon           locally         blindness         panelling   \n",
       "4        obliterated       typewriting        offence-at         indulging   \n",
       "5          indulging              bags          ex-prize           locally   \n",
       "6        obliterated           writhed        nightmares       nonchalance   \n",
       "7       punkah-towel        offence-at           locally  well-ascertained   \n",
       "8             sulfur       shiney-feet          newcomer             ghost   \n",
       "9            locally        offence-at           cameras            member   \n",
       "10  well-ascertained          ex-prize             chaos           locally   \n",
       "11             chaos         earthward  well-ascertained           cameras   \n",
       "12        associates         diagnosis           cameras           locally   \n",
       "13       nonchalance              bags        grain-land           faintly   \n",
       "14           killing             harry          burglary           sobbing   \n",
       "15       nonchalance           cameras           faintly            gallop   \n",
       "16         corrupted           do-well             wills         diagnosis   \n",
       "17          ex-prize  well-ascertained         footmarks         diagnosis   \n",
       "18       nonchalance          ex-prize     strong-minded         sentinels   \n",
       "19       obliterated  well-ascertained           arduous          im-which   \n",
       "\n",
       "              4             5                 6               7  \\\n",
       "0   obliterated   in_ductions      punkah-towel       earthward   \n",
       "1     footmarks       locally              bags    punkah-towel   \n",
       "2         chaos     panelling       typewriting     nightingale   \n",
       "3   nonchalance          bags          old-maid       inclining   \n",
       "4       cameras     earthward         bracelets     collapsible   \n",
       "5        member     diagnosis       slow-footed         arduous   \n",
       "6     footmarks      trapdoor             rajah  sub-lieutenant   \n",
       "7       cameras       arduous       slow-footed        accepted   \n",
       "8     indicated     teachings        refreshing           legal   \n",
       "9    grain-land   typewriting             apply       earthward   \n",
       "10    earthward   typewriting         diagnosis  sub-lieutenant   \n",
       "11       length      ex-prize       slow-footed         locally   \n",
       "12        chaos     earthward  well-ascertained     typewriting   \n",
       "13      uncomfy    discharges          accepted           apply   \n",
       "14   nonchalant     anomalous      punkah-towel     adjustments   \n",
       "15       up-and      ex-prize           uncomfy  sub-lieutenant   \n",
       "16   nonchalant  millionaires       interlocked          member   \n",
       "17  nonchalance         chaos           arduous     slow-footed   \n",
       "18         safe         squat             gaily         cameras   \n",
       "19      defined     footmarks      crest-fallen  individualized   \n",
       "\n",
       "                   8            9  \n",
       "0   well-ascertained   injunction  \n",
       "1          earthward        rajah  \n",
       "2              creep     ex-prize  \n",
       "3              necks     penguins  \n",
       "4            locally  slow-footed  \n",
       "5             lie-at       up-and  \n",
       "6         injunction  in_ductions  \n",
       "7        nonchalance      faintly  \n",
       "8      well-balanced    messenger  \n",
       "9          indulging      writhed  \n",
       "10          im-which       member  \n",
       "11           arduous       lie-at  \n",
       "12       nonchalance  slow-footed  \n",
       "13       typewriting    molecular  \n",
       "14          two-bang   accredited  \n",
       "15           locally         bags  \n",
       "16            genial    earthward  \n",
       "17       obliterated  in_ductions  \n",
       "18          ringlets      vampire  \n",
       "19          negative       lie-at  "
      ]
     },
     "execution_count": 25,
     "metadata": {},
     "output_type": "execute_result"
    }
   ],
   "source": [
    "#Topic probabilities - zum Testen der Funktion\n",
    "topics = model.show_topics(num_topics = model.num_topics, formatted=False)\n",
    "keywords = []\n",
    "\n",
    "num_topics = model.num_topics\n",
    "topics_df = pre.pd.DataFrame(index = range(num_topics), columns= range(10))\n",
    "\n",
    "for topic, values in topics:\n",
    "    keyword = [value[0] for value in values]\n",
    "    topics_df.loc[topic] = keyword\n",
    "\n",
    "topics_df"
   ]
  },
  {
   "cell_type": "code",
   "execution_count": 26,
   "metadata": {},
   "outputs": [
    {
     "data": {
      "text/html": [
       "<div>\n",
       "<table border=\"1\" class=\"dataframe\">\n",
       "  <thead>\n",
       "    <tr style=\"text-align: right;\">\n",
       "      <th></th>\n",
       "      <th>0</th>\n",
       "      <th>1</th>\n",
       "      <th>2</th>\n",
       "      <th>3</th>\n",
       "      <th>4</th>\n",
       "      <th>5</th>\n",
       "      <th>6</th>\n",
       "      <th>7</th>\n",
       "      <th>8</th>\n",
       "      <th>9</th>\n",
       "    </tr>\n",
       "  </thead>\n",
       "  <tbody>\n",
       "    <tr>\n",
       "      <th>0</th>\n",
       "      <td>length</td>\n",
       "      <td>chaos</td>\n",
       "      <td>hawklike</td>\n",
       "      <td>slow-footed</td>\n",
       "      <td>obliterated</td>\n",
       "      <td>in_ductions</td>\n",
       "      <td>punkah-towel</td>\n",
       "      <td>earthward</td>\n",
       "      <td>well-ascertained</td>\n",
       "      <td>injunction</td>\n",
       "    </tr>\n",
       "    <tr>\n",
       "      <th>1</th>\n",
       "      <td>member</td>\n",
       "      <td>chaos</td>\n",
       "      <td>indulging</td>\n",
       "      <td>sub-lieutenant</td>\n",
       "      <td>footmarks</td>\n",
       "      <td>locally</td>\n",
       "      <td>bags</td>\n",
       "      <td>punkah-towel</td>\n",
       "      <td>earthward</td>\n",
       "      <td>rajah</td>\n",
       "    </tr>\n",
       "    <tr>\n",
       "      <th>2</th>\n",
       "      <td>mastodon</td>\n",
       "      <td>sentinels</td>\n",
       "      <td>duplicate</td>\n",
       "      <td>locally</td>\n",
       "      <td>chaos</td>\n",
       "      <td>panelling</td>\n",
       "      <td>typewriting</td>\n",
       "      <td>nightingale</td>\n",
       "      <td>creep</td>\n",
       "      <td>ex-prize</td>\n",
       "    </tr>\n",
       "    <tr>\n",
       "      <th>3</th>\n",
       "      <td>mastodon</td>\n",
       "      <td>locally</td>\n",
       "      <td>blindness</td>\n",
       "      <td>panelling</td>\n",
       "      <td>nonchalance</td>\n",
       "      <td>bags</td>\n",
       "      <td>old-maid</td>\n",
       "      <td>inclining</td>\n",
       "      <td>necks</td>\n",
       "      <td>penguins</td>\n",
       "    </tr>\n",
       "    <tr>\n",
       "      <th>4</th>\n",
       "      <td>obliterated</td>\n",
       "      <td>typewriting</td>\n",
       "      <td>offence-at</td>\n",
       "      <td>indulging</td>\n",
       "      <td>cameras</td>\n",
       "      <td>earthward</td>\n",
       "      <td>bracelets</td>\n",
       "      <td>collapsible</td>\n",
       "      <td>locally</td>\n",
       "      <td>slow-footed</td>\n",
       "    </tr>\n",
       "    <tr>\n",
       "      <th>5</th>\n",
       "      <td>indulging</td>\n",
       "      <td>bags</td>\n",
       "      <td>ex-prize</td>\n",
       "      <td>locally</td>\n",
       "      <td>member</td>\n",
       "      <td>diagnosis</td>\n",
       "      <td>slow-footed</td>\n",
       "      <td>arduous</td>\n",
       "      <td>lie-at</td>\n",
       "      <td>up-and</td>\n",
       "    </tr>\n",
       "    <tr>\n",
       "      <th>6</th>\n",
       "      <td>obliterated</td>\n",
       "      <td>writhed</td>\n",
       "      <td>nightmares</td>\n",
       "      <td>nonchalance</td>\n",
       "      <td>footmarks</td>\n",
       "      <td>trapdoor</td>\n",
       "      <td>rajah</td>\n",
       "      <td>sub-lieutenant</td>\n",
       "      <td>injunction</td>\n",
       "      <td>in_ductions</td>\n",
       "    </tr>\n",
       "    <tr>\n",
       "      <th>7</th>\n",
       "      <td>punkah-towel</td>\n",
       "      <td>offence-at</td>\n",
       "      <td>locally</td>\n",
       "      <td>well-ascertained</td>\n",
       "      <td>cameras</td>\n",
       "      <td>arduous</td>\n",
       "      <td>slow-footed</td>\n",
       "      <td>accepted</td>\n",
       "      <td>nonchalance</td>\n",
       "      <td>faintly</td>\n",
       "    </tr>\n",
       "    <tr>\n",
       "      <th>8</th>\n",
       "      <td>sulfur</td>\n",
       "      <td>shiney-feet</td>\n",
       "      <td>newcomer</td>\n",
       "      <td>ghost</td>\n",
       "      <td>indicated</td>\n",
       "      <td>teachings</td>\n",
       "      <td>refreshing</td>\n",
       "      <td>legal</td>\n",
       "      <td>well-balanced</td>\n",
       "      <td>messenger</td>\n",
       "    </tr>\n",
       "    <tr>\n",
       "      <th>9</th>\n",
       "      <td>locally</td>\n",
       "      <td>offence-at</td>\n",
       "      <td>cameras</td>\n",
       "      <td>member</td>\n",
       "      <td>grain-land</td>\n",
       "      <td>typewriting</td>\n",
       "      <td>apply</td>\n",
       "      <td>earthward</td>\n",
       "      <td>indulging</td>\n",
       "      <td>writhed</td>\n",
       "    </tr>\n",
       "    <tr>\n",
       "      <th>10</th>\n",
       "      <td>well-ascertained</td>\n",
       "      <td>ex-prize</td>\n",
       "      <td>chaos</td>\n",
       "      <td>locally</td>\n",
       "      <td>earthward</td>\n",
       "      <td>typewriting</td>\n",
       "      <td>diagnosis</td>\n",
       "      <td>sub-lieutenant</td>\n",
       "      <td>im-which</td>\n",
       "      <td>member</td>\n",
       "    </tr>\n",
       "    <tr>\n",
       "      <th>11</th>\n",
       "      <td>chaos</td>\n",
       "      <td>earthward</td>\n",
       "      <td>well-ascertained</td>\n",
       "      <td>cameras</td>\n",
       "      <td>length</td>\n",
       "      <td>ex-prize</td>\n",
       "      <td>slow-footed</td>\n",
       "      <td>locally</td>\n",
       "      <td>arduous</td>\n",
       "      <td>lie-at</td>\n",
       "    </tr>\n",
       "    <tr>\n",
       "      <th>12</th>\n",
       "      <td>associates</td>\n",
       "      <td>diagnosis</td>\n",
       "      <td>cameras</td>\n",
       "      <td>locally</td>\n",
       "      <td>chaos</td>\n",
       "      <td>earthward</td>\n",
       "      <td>well-ascertained</td>\n",
       "      <td>typewriting</td>\n",
       "      <td>nonchalance</td>\n",
       "      <td>slow-footed</td>\n",
       "    </tr>\n",
       "    <tr>\n",
       "      <th>13</th>\n",
       "      <td>nonchalance</td>\n",
       "      <td>bags</td>\n",
       "      <td>grain-land</td>\n",
       "      <td>faintly</td>\n",
       "      <td>uncomfy</td>\n",
       "      <td>discharges</td>\n",
       "      <td>accepted</td>\n",
       "      <td>apply</td>\n",
       "      <td>typewriting</td>\n",
       "      <td>molecular</td>\n",
       "    </tr>\n",
       "    <tr>\n",
       "      <th>14</th>\n",
       "      <td>killing</td>\n",
       "      <td>harry</td>\n",
       "      <td>burglary</td>\n",
       "      <td>sobbing</td>\n",
       "      <td>nonchalant</td>\n",
       "      <td>anomalous</td>\n",
       "      <td>punkah-towel</td>\n",
       "      <td>adjustments</td>\n",
       "      <td>two-bang</td>\n",
       "      <td>accredited</td>\n",
       "    </tr>\n",
       "    <tr>\n",
       "      <th>15</th>\n",
       "      <td>nonchalance</td>\n",
       "      <td>cameras</td>\n",
       "      <td>faintly</td>\n",
       "      <td>gallop</td>\n",
       "      <td>up-and</td>\n",
       "      <td>ex-prize</td>\n",
       "      <td>uncomfy</td>\n",
       "      <td>sub-lieutenant</td>\n",
       "      <td>locally</td>\n",
       "      <td>bags</td>\n",
       "    </tr>\n",
       "    <tr>\n",
       "      <th>16</th>\n",
       "      <td>corrupted</td>\n",
       "      <td>do-well</td>\n",
       "      <td>wills</td>\n",
       "      <td>diagnosis</td>\n",
       "      <td>nonchalant</td>\n",
       "      <td>millionaires</td>\n",
       "      <td>interlocked</td>\n",
       "      <td>member</td>\n",
       "      <td>genial</td>\n",
       "      <td>earthward</td>\n",
       "    </tr>\n",
       "    <tr>\n",
       "      <th>17</th>\n",
       "      <td>ex-prize</td>\n",
       "      <td>well-ascertained</td>\n",
       "      <td>footmarks</td>\n",
       "      <td>diagnosis</td>\n",
       "      <td>nonchalance</td>\n",
       "      <td>chaos</td>\n",
       "      <td>arduous</td>\n",
       "      <td>slow-footed</td>\n",
       "      <td>obliterated</td>\n",
       "      <td>in_ductions</td>\n",
       "    </tr>\n",
       "    <tr>\n",
       "      <th>18</th>\n",
       "      <td>nonchalance</td>\n",
       "      <td>ex-prize</td>\n",
       "      <td>strong-minded</td>\n",
       "      <td>sentinels</td>\n",
       "      <td>safe</td>\n",
       "      <td>squat</td>\n",
       "      <td>gaily</td>\n",
       "      <td>cameras</td>\n",
       "      <td>ringlets</td>\n",
       "      <td>vampire</td>\n",
       "    </tr>\n",
       "    <tr>\n",
       "      <th>19</th>\n",
       "      <td>obliterated</td>\n",
       "      <td>well-ascertained</td>\n",
       "      <td>arduous</td>\n",
       "      <td>im-which</td>\n",
       "      <td>defined</td>\n",
       "      <td>footmarks</td>\n",
       "      <td>crest-fallen</td>\n",
       "      <td>individualized</td>\n",
       "      <td>negative</td>\n",
       "      <td>lie-at</td>\n",
       "    </tr>\n",
       "  </tbody>\n",
       "</table>\n",
       "</div>"
      ],
      "text/plain": [
       "                   0                 1                 2                 3  \\\n",
       "0             length             chaos          hawklike       slow-footed   \n",
       "1             member             chaos         indulging    sub-lieutenant   \n",
       "2           mastodon         sentinels         duplicate           locally   \n",
       "3           mastodon           locally         blindness         panelling   \n",
       "4        obliterated       typewriting        offence-at         indulging   \n",
       "5          indulging              bags          ex-prize           locally   \n",
       "6        obliterated           writhed        nightmares       nonchalance   \n",
       "7       punkah-towel        offence-at           locally  well-ascertained   \n",
       "8             sulfur       shiney-feet          newcomer             ghost   \n",
       "9            locally        offence-at           cameras            member   \n",
       "10  well-ascertained          ex-prize             chaos           locally   \n",
       "11             chaos         earthward  well-ascertained           cameras   \n",
       "12        associates         diagnosis           cameras           locally   \n",
       "13       nonchalance              bags        grain-land           faintly   \n",
       "14           killing             harry          burglary           sobbing   \n",
       "15       nonchalance           cameras           faintly            gallop   \n",
       "16         corrupted           do-well             wills         diagnosis   \n",
       "17          ex-prize  well-ascertained         footmarks         diagnosis   \n",
       "18       nonchalance          ex-prize     strong-minded         sentinels   \n",
       "19       obliterated  well-ascertained           arduous          im-which   \n",
       "\n",
       "              4             5                 6               7  \\\n",
       "0   obliterated   in_ductions      punkah-towel       earthward   \n",
       "1     footmarks       locally              bags    punkah-towel   \n",
       "2         chaos     panelling       typewriting     nightingale   \n",
       "3   nonchalance          bags          old-maid       inclining   \n",
       "4       cameras     earthward         bracelets     collapsible   \n",
       "5        member     diagnosis       slow-footed         arduous   \n",
       "6     footmarks      trapdoor             rajah  sub-lieutenant   \n",
       "7       cameras       arduous       slow-footed        accepted   \n",
       "8     indicated     teachings        refreshing           legal   \n",
       "9    grain-land   typewriting             apply       earthward   \n",
       "10    earthward   typewriting         diagnosis  sub-lieutenant   \n",
       "11       length      ex-prize       slow-footed         locally   \n",
       "12        chaos     earthward  well-ascertained     typewriting   \n",
       "13      uncomfy    discharges          accepted           apply   \n",
       "14   nonchalant     anomalous      punkah-towel     adjustments   \n",
       "15       up-and      ex-prize           uncomfy  sub-lieutenant   \n",
       "16   nonchalant  millionaires       interlocked          member   \n",
       "17  nonchalance         chaos           arduous     slow-footed   \n",
       "18         safe         squat             gaily         cameras   \n",
       "19      defined     footmarks      crest-fallen  individualized   \n",
       "\n",
       "                   8            9  \n",
       "0   well-ascertained   injunction  \n",
       "1          earthward        rajah  \n",
       "2              creep     ex-prize  \n",
       "3              necks     penguins  \n",
       "4            locally  slow-footed  \n",
       "5             lie-at       up-and  \n",
       "6         injunction  in_ductions  \n",
       "7        nonchalance      faintly  \n",
       "8      well-balanced    messenger  \n",
       "9          indulging      writhed  \n",
       "10          im-which       member  \n",
       "11           arduous       lie-at  \n",
       "12       nonchalance  slow-footed  \n",
       "13       typewriting    molecular  \n",
       "14          two-bang   accredited  \n",
       "15           locally         bags  \n",
       "16            genial    earthward  \n",
       "17       obliterated  in_ductions  \n",
       "18          ringlets      vampire  \n",
       "19          negative       lie-at  "
      ]
     },
     "execution_count": 26,
     "metadata": {},
     "output_type": "execute_result"
    }
   ],
   "source": [
    "topics_df = pre.gensim2dataframe(model)\n",
    "topics_df"
   ]
  },
  {
   "cell_type": "code",
   "execution_count": 27,
   "metadata": {},
   "outputs": [
    {
     "data": {
      "text/html": [
       "<div>\n",
       "<table border=\"1\" class=\"dataframe\">\n",
       "  <thead>\n",
       "    <tr style=\"text-align: right;\">\n",
       "      <th></th>\n",
       "      <th>0</th>\n",
       "      <th>1</th>\n",
       "      <th>2</th>\n",
       "      <th>3</th>\n",
       "      <th>4</th>\n",
       "      <th>5</th>\n",
       "      <th>6</th>\n",
       "      <th>7</th>\n",
       "      <th>8</th>\n",
       "      <th>9</th>\n",
       "      <th>10</th>\n",
       "      <th>11</th>\n",
       "      <th>12</th>\n",
       "      <th>13</th>\n",
       "      <th>14</th>\n",
       "      <th>15</th>\n",
       "      <th>16</th>\n",
       "      <th>17</th>\n",
       "      <th>18</th>\n",
       "      <th>19</th>\n",
       "    </tr>\n",
       "  </thead>\n",
       "  <tbody>\n",
       "    <tr>\n",
       "      <th>0</th>\n",
       "      <td>length</td>\n",
       "      <td>member</td>\n",
       "      <td>mastodon</td>\n",
       "      <td>mastodon</td>\n",
       "      <td>obliterated</td>\n",
       "      <td>indulging</td>\n",
       "      <td>obliterated</td>\n",
       "      <td>punkah-towel</td>\n",
       "      <td>sulfur</td>\n",
       "      <td>locally</td>\n",
       "      <td>well-ascertained</td>\n",
       "      <td>chaos</td>\n",
       "      <td>associates</td>\n",
       "      <td>nonchalance</td>\n",
       "      <td>killing</td>\n",
       "      <td>nonchalance</td>\n",
       "      <td>corrupted</td>\n",
       "      <td>ex-prize</td>\n",
       "      <td>nonchalance</td>\n",
       "      <td>obliterated</td>\n",
       "    </tr>\n",
       "    <tr>\n",
       "      <th>1</th>\n",
       "      <td>chaos</td>\n",
       "      <td>chaos</td>\n",
       "      <td>sentinels</td>\n",
       "      <td>locally</td>\n",
       "      <td>typewriting</td>\n",
       "      <td>bags</td>\n",
       "      <td>writhed</td>\n",
       "      <td>offence-at</td>\n",
       "      <td>shiney-feet</td>\n",
       "      <td>offence-at</td>\n",
       "      <td>ex-prize</td>\n",
       "      <td>earthward</td>\n",
       "      <td>diagnosis</td>\n",
       "      <td>bags</td>\n",
       "      <td>harry</td>\n",
       "      <td>cameras</td>\n",
       "      <td>do-well</td>\n",
       "      <td>well-ascertained</td>\n",
       "      <td>ex-prize</td>\n",
       "      <td>well-ascertained</td>\n",
       "    </tr>\n",
       "    <tr>\n",
       "      <th>2</th>\n",
       "      <td>hawklike</td>\n",
       "      <td>indulging</td>\n",
       "      <td>duplicate</td>\n",
       "      <td>blindness</td>\n",
       "      <td>offence-at</td>\n",
       "      <td>ex-prize</td>\n",
       "      <td>nightmares</td>\n",
       "      <td>locally</td>\n",
       "      <td>newcomer</td>\n",
       "      <td>cameras</td>\n",
       "      <td>chaos</td>\n",
       "      <td>well-ascertained</td>\n",
       "      <td>cameras</td>\n",
       "      <td>grain-land</td>\n",
       "      <td>burglary</td>\n",
       "      <td>faintly</td>\n",
       "      <td>wills</td>\n",
       "      <td>footmarks</td>\n",
       "      <td>strong-minded</td>\n",
       "      <td>arduous</td>\n",
       "    </tr>\n",
       "    <tr>\n",
       "      <th>3</th>\n",
       "      <td>slow-footed</td>\n",
       "      <td>sub-lieutenant</td>\n",
       "      <td>locally</td>\n",
       "      <td>panelling</td>\n",
       "      <td>indulging</td>\n",
       "      <td>locally</td>\n",
       "      <td>nonchalance</td>\n",
       "      <td>well-ascertained</td>\n",
       "      <td>ghost</td>\n",
       "      <td>member</td>\n",
       "      <td>locally</td>\n",
       "      <td>cameras</td>\n",
       "      <td>locally</td>\n",
       "      <td>faintly</td>\n",
       "      <td>sobbing</td>\n",
       "      <td>gallop</td>\n",
       "      <td>diagnosis</td>\n",
       "      <td>diagnosis</td>\n",
       "      <td>sentinels</td>\n",
       "      <td>im-which</td>\n",
       "    </tr>\n",
       "    <tr>\n",
       "      <th>4</th>\n",
       "      <td>obliterated</td>\n",
       "      <td>footmarks</td>\n",
       "      <td>chaos</td>\n",
       "      <td>nonchalance</td>\n",
       "      <td>cameras</td>\n",
       "      <td>member</td>\n",
       "      <td>footmarks</td>\n",
       "      <td>cameras</td>\n",
       "      <td>indicated</td>\n",
       "      <td>grain-land</td>\n",
       "      <td>earthward</td>\n",
       "      <td>length</td>\n",
       "      <td>chaos</td>\n",
       "      <td>uncomfy</td>\n",
       "      <td>nonchalant</td>\n",
       "      <td>up-and</td>\n",
       "      <td>nonchalant</td>\n",
       "      <td>nonchalance</td>\n",
       "      <td>safe</td>\n",
       "      <td>defined</td>\n",
       "    </tr>\n",
       "    <tr>\n",
       "      <th>5</th>\n",
       "      <td>in_ductions</td>\n",
       "      <td>locally</td>\n",
       "      <td>panelling</td>\n",
       "      <td>bags</td>\n",
       "      <td>earthward</td>\n",
       "      <td>diagnosis</td>\n",
       "      <td>trapdoor</td>\n",
       "      <td>arduous</td>\n",
       "      <td>teachings</td>\n",
       "      <td>typewriting</td>\n",
       "      <td>typewriting</td>\n",
       "      <td>ex-prize</td>\n",
       "      <td>earthward</td>\n",
       "      <td>discharges</td>\n",
       "      <td>anomalous</td>\n",
       "      <td>ex-prize</td>\n",
       "      <td>millionaires</td>\n",
       "      <td>chaos</td>\n",
       "      <td>squat</td>\n",
       "      <td>footmarks</td>\n",
       "    </tr>\n",
       "    <tr>\n",
       "      <th>6</th>\n",
       "      <td>punkah-towel</td>\n",
       "      <td>bags</td>\n",
       "      <td>typewriting</td>\n",
       "      <td>old-maid</td>\n",
       "      <td>bracelets</td>\n",
       "      <td>slow-footed</td>\n",
       "      <td>rajah</td>\n",
       "      <td>slow-footed</td>\n",
       "      <td>refreshing</td>\n",
       "      <td>apply</td>\n",
       "      <td>diagnosis</td>\n",
       "      <td>slow-footed</td>\n",
       "      <td>well-ascertained</td>\n",
       "      <td>accepted</td>\n",
       "      <td>punkah-towel</td>\n",
       "      <td>uncomfy</td>\n",
       "      <td>interlocked</td>\n",
       "      <td>arduous</td>\n",
       "      <td>gaily</td>\n",
       "      <td>crest-fallen</td>\n",
       "    </tr>\n",
       "    <tr>\n",
       "      <th>7</th>\n",
       "      <td>earthward</td>\n",
       "      <td>punkah-towel</td>\n",
       "      <td>nightingale</td>\n",
       "      <td>inclining</td>\n",
       "      <td>collapsible</td>\n",
       "      <td>arduous</td>\n",
       "      <td>sub-lieutenant</td>\n",
       "      <td>accepted</td>\n",
       "      <td>legal</td>\n",
       "      <td>earthward</td>\n",
       "      <td>sub-lieutenant</td>\n",
       "      <td>locally</td>\n",
       "      <td>typewriting</td>\n",
       "      <td>apply</td>\n",
       "      <td>adjustments</td>\n",
       "      <td>sub-lieutenant</td>\n",
       "      <td>member</td>\n",
       "      <td>slow-footed</td>\n",
       "      <td>cameras</td>\n",
       "      <td>individualized</td>\n",
       "    </tr>\n",
       "    <tr>\n",
       "      <th>8</th>\n",
       "      <td>well-ascertained</td>\n",
       "      <td>earthward</td>\n",
       "      <td>creep</td>\n",
       "      <td>necks</td>\n",
       "      <td>locally</td>\n",
       "      <td>lie-at</td>\n",
       "      <td>injunction</td>\n",
       "      <td>nonchalance</td>\n",
       "      <td>well-balanced</td>\n",
       "      <td>indulging</td>\n",
       "      <td>im-which</td>\n",
       "      <td>arduous</td>\n",
       "      <td>nonchalance</td>\n",
       "      <td>typewriting</td>\n",
       "      <td>two-bang</td>\n",
       "      <td>locally</td>\n",
       "      <td>genial</td>\n",
       "      <td>obliterated</td>\n",
       "      <td>ringlets</td>\n",
       "      <td>negative</td>\n",
       "    </tr>\n",
       "    <tr>\n",
       "      <th>9</th>\n",
       "      <td>injunction</td>\n",
       "      <td>rajah</td>\n",
       "      <td>ex-prize</td>\n",
       "      <td>penguins</td>\n",
       "      <td>slow-footed</td>\n",
       "      <td>up-and</td>\n",
       "      <td>in_ductions</td>\n",
       "      <td>faintly</td>\n",
       "      <td>messenger</td>\n",
       "      <td>writhed</td>\n",
       "      <td>member</td>\n",
       "      <td>lie-at</td>\n",
       "      <td>slow-footed</td>\n",
       "      <td>molecular</td>\n",
       "      <td>accredited</td>\n",
       "      <td>bags</td>\n",
       "      <td>earthward</td>\n",
       "      <td>in_ductions</td>\n",
       "      <td>vampire</td>\n",
       "      <td>lie-at</td>\n",
       "    </tr>\n",
       "  </tbody>\n",
       "</table>\n",
       "</div>"
      ],
      "text/plain": [
       "                 0               1            2            3            4   \\\n",
       "0            length          member     mastodon     mastodon  obliterated   \n",
       "1             chaos           chaos    sentinels      locally  typewriting   \n",
       "2          hawklike       indulging    duplicate    blindness   offence-at   \n",
       "3       slow-footed  sub-lieutenant      locally    panelling    indulging   \n",
       "4       obliterated       footmarks        chaos  nonchalance      cameras   \n",
       "5       in_ductions         locally    panelling         bags    earthward   \n",
       "6      punkah-towel            bags  typewriting     old-maid    bracelets   \n",
       "7         earthward    punkah-towel  nightingale    inclining  collapsible   \n",
       "8  well-ascertained       earthward        creep        necks      locally   \n",
       "9        injunction           rajah     ex-prize     penguins  slow-footed   \n",
       "\n",
       "            5               6                 7              8            9   \\\n",
       "0    indulging     obliterated      punkah-towel         sulfur      locally   \n",
       "1         bags         writhed        offence-at    shiney-feet   offence-at   \n",
       "2     ex-prize      nightmares           locally       newcomer      cameras   \n",
       "3      locally     nonchalance  well-ascertained          ghost       member   \n",
       "4       member       footmarks           cameras      indicated   grain-land   \n",
       "5    diagnosis        trapdoor           arduous      teachings  typewriting   \n",
       "6  slow-footed           rajah       slow-footed     refreshing        apply   \n",
       "7      arduous  sub-lieutenant          accepted          legal    earthward   \n",
       "8       lie-at      injunction       nonchalance  well-balanced    indulging   \n",
       "9       up-and     in_ductions           faintly      messenger      writhed   \n",
       "\n",
       "                 10                11                12           13  \\\n",
       "0  well-ascertained             chaos        associates  nonchalance   \n",
       "1          ex-prize         earthward         diagnosis         bags   \n",
       "2             chaos  well-ascertained           cameras   grain-land   \n",
       "3           locally           cameras           locally      faintly   \n",
       "4         earthward            length             chaos      uncomfy   \n",
       "5       typewriting          ex-prize         earthward   discharges   \n",
       "6         diagnosis       slow-footed  well-ascertained     accepted   \n",
       "7    sub-lieutenant           locally       typewriting        apply   \n",
       "8          im-which           arduous       nonchalance  typewriting   \n",
       "9            member            lie-at       slow-footed    molecular   \n",
       "\n",
       "             14              15            16                17  \\\n",
       "0       killing     nonchalance     corrupted          ex-prize   \n",
       "1         harry         cameras       do-well  well-ascertained   \n",
       "2      burglary         faintly         wills         footmarks   \n",
       "3       sobbing          gallop     diagnosis         diagnosis   \n",
       "4    nonchalant          up-and    nonchalant       nonchalance   \n",
       "5     anomalous        ex-prize  millionaires             chaos   \n",
       "6  punkah-towel         uncomfy   interlocked           arduous   \n",
       "7   adjustments  sub-lieutenant        member       slow-footed   \n",
       "8      two-bang         locally        genial       obliterated   \n",
       "9    accredited            bags     earthward       in_ductions   \n",
       "\n",
       "              18                19  \n",
       "0    nonchalance       obliterated  \n",
       "1       ex-prize  well-ascertained  \n",
       "2  strong-minded           arduous  \n",
       "3      sentinels          im-which  \n",
       "4           safe           defined  \n",
       "5          squat         footmarks  \n",
       "6          gaily      crest-fallen  \n",
       "7        cameras    individualized  \n",
       "8       ringlets          negative  \n",
       "9        vampire            lie-at  "
      ]
     },
     "execution_count": 27,
     "metadata": {},
     "output_type": "execute_result"
    }
   ],
   "source": [
    "doc_topic = topics_df.T\n",
    "doc_topic"
   ]
  },
  {
   "cell_type": "markdown",
   "metadata": {},
   "source": [
    "## Visualisierung "
   ]
  },
  {
   "cell_type": "code",
   "execution_count": 28,
   "metadata": {},
   "outputs": [
    {
     "data": {
      "text/plain": [
       "\"lda_model = 'out_easy/corpus.lda'\\ncorpus = 'out_easy/corpus.mm'\\ndictionary = 'out_easy/corpus.dict'\\ndoc_labels = 'out_easy/corpus_doclabels.txt'\\ninteractive  = False\\n\\nvis = visual.Visualization(lda_model, corpus, dictionary, doc_labels, interactive)\""
      ]
     },
     "execution_count": 28,
     "metadata": {},
     "output_type": "execute_result"
    }
   ],
   "source": [
    "'''lda_model = 'out_easy/corpus.lda'\n",
    "corpus = 'out_easy/corpus.mm'\n",
    "dictionary = 'out_easy/corpus.dict'\n",
    "doc_labels = 'out_easy/corpus_doclabels.txt'\n",
    "interactive  = False\n",
    "\n",
    "vis = visual.Visualization(lda_model, corpus, dictionary, doc_labels, interactive)'''"
   ]
  },
  {
   "cell_type": "markdown",
   "metadata": {},
   "source": [
    "##### Create a document-topic matrix (that is a pandas data frame actually)"
   ]
  },
  {
   "cell_type": "code",
   "execution_count": 29,
   "metadata": {
    "collapsed": true
   },
   "outputs": [],
   "source": [
    "doc_topic = visual.create_doc_topic(mm, model, doc_labels)"
   ]
  },
  {
   "cell_type": "markdown",
   "metadata": {},
   "source": [
    "##### Visualize document-topic matrix"
   ]
  },
  {
   "cell_type": "code",
   "execution_count": 30,
   "metadata": {},
   "outputs": [
    {
     "data": {
      "text/plain": [
       "<module 'matplotlib.pyplot' from '/Library/Frameworks/Python.framework/Versions/3.6/lib/python3.6/site-packages/matplotlib/pyplot.py'>"
      ]
     },
     "execution_count": 30,
     "metadata": {},
     "output_type": "execute_result"
    },
    {
     "data": {
      "image/png": "[encoded data removed]",
      "text/plain": [
       "<matplotlib.figure.Figure at 0x10f56f2b0>"
      ]
     },
     "metadata": {},
     "output_type": "display_data"
    }
   ],
   "source": [
    "%matplotlib inline\n",
    "visual.doc_topic_heatmap(doc_topic)"
   ]
  },
  {
   "cell_type": "markdown",
   "metadata": {},
   "source": [
    "##### Visualize topic distribution in a single document"
   ]
  },
  {
   "cell_type": "code",
   "execution_count": 31,
   "metadata": {},
   "outputs": [
    {
     "data": {
      "text/plain": [
       "<module 'matplotlib.pyplot' from '/Library/Frameworks/Python.framework/Versions/3.6/lib/python3.6/site-packages/matplotlib/pyplot.py'>"
      ]
     },
     "execution_count": 31,
     "metadata": {},
     "output_type": "execute_result"
    },
    {
     "data": {
      "image/png": "[encoded data removed]",
      "text/plain": [
       "<matplotlib.figure.Figure at 0x10e7e7f98>"
      ]
     },
     "metadata": {},
     "output_type": "display_data"
    }
   ],
   "source": [
    "visual.plot_doc_topics(doc_topic, 0)"
   ]
  },
  {
   "cell_type": "code",
   "execution_count": 32,
   "metadata": {},
   "outputs": [
    {
     "data": {
      "text/plain": [
       "[('member', 0.00026884036514488509),\n",
       " ('chaos', 0.00023899736846881792),\n",
       " ('indulging', 0.00023731935589771453),\n",
       " ('sub-lieutenant', 0.000229486030764898),\n",
       " ('footmarks', 0.00022674463248052186),\n",
       " ('locally', 0.00022592295873420586),\n",
       " ('bags', 0.00022131332121631022),\n",
       " ('punkah-towel', 0.00022112263415940259),\n",
       " ('earthward', 0.00021587535404803251),\n",
       " ('rajah', 0.00021485113926602268)]"
      ]
     },
     "execution_count": 32,
     "metadata": {},
     "output_type": "execute_result"
    }
   ],
   "source": [
    "items = model.show_topic(1)\n",
    "keywords = [item[0] for item in items]\n",
    "keywords\n",
    "items = model.show_topic(1)\n",
    "propabilities = [item[1] for item in items]\n",
    "propabilities\n",
    "items"
   ]
  },
  {
   "cell_type": "code",
   "execution_count": 33,
   "metadata": {
    "scrolled": true
   },
   "outputs": [
    {
     "data": {
      "text/plain": [
       "<module 'matplotlib.pyplot' from '/Library/Frameworks/Python.framework/Versions/3.6/lib/python3.6/site-packages/matplotlib/pyplot.py'>"
      ]
     },
     "execution_count": 33,
     "metadata": {},
     "output_type": "execute_result"
    },
    {
     "data": {
      "image/png": "[encoded data removed]",
      "text/plain": [
       "<matplotlib.figure.Figure at 0x10be2f240>"
      ]
     },
     "metadata": {},
     "output_type": "display_data"
    }
   ],
   "source": [
    "topic_nr = 3\n",
    "number_of_keywords = 10\n",
    "visual.show_wordle_for_topic(model, topic_nr, number_of_keywords)"
   ]
  },
  {
   "cell_type": "markdown",
   "metadata": {
    "collapsed": true
   },
   "source": [
    "![success](http://cdn2.hubspot.net/hub/128506/file-446943132-jpg/images/computer_woman_success.jpg)"
   ]
  }
 ],
 "metadata": {
  "kernelspec": {
   "display_name": "Python 3",
   "language": "python",
   "name": "python3"
  },
  "language_info": {
   "codemirror_mode": {
    "name": "ipython",
    "version": 3
   },
   "file_extension": ".py",
   "mimetype": "text/x-python",
   "name": "python",
   "nbconvert_exporter": "python",
   "pygments_lexer": "ipython3",
   "version": "3.6.1"
  }
 },
 "nbformat": 4,
 "nbformat_minor": 1
}
