{
 "cells": [
  {
   "cell_type": "code",
   "execution_count": 1,
   "metadata": {
    "collapsed": false
   },
   "outputs": [
    {
     "name": "stderr",
     "output_type": "stream",
     "text": [
      "c:\\users\\philip\\appdata\\local\\programs\\python\\python35-32\\lib\\site-packages\\gensim\\utils.py:855: UserWarning: detected Windows; aliasing chunkize to chunkize_serial\n",
      "  warnings.warn(\"detected Windows; aliasing chunkize to chunkize_serial\")\n",
      "c:\\users\\philip\\appdata\\local\\programs\\python\\python35-32\\lib\\site-packages\\funcy\\decorators.py:56: DeprecationWarning: inspect.getargspec() is deprecated, use inspect.signature() instead\n",
      "  spec = inspect.getargspec(func)\n",
      "c:\\users\\philip\\appdata\\local\\programs\\python\\python35-32\\lib\\site-packages\\funcy\\decorators.py:56: DeprecationWarning: inspect.getargspec() is deprecated, use inspect.signature() instead\n",
      "  spec = inspect.getargspec(func)\n",
      "c:\\users\\philip\\appdata\\local\\programs\\python\\python35-32\\lib\\site-packages\\funcy\\decorators.py:56: DeprecationWarning: inspect.getargspec() is deprecated, use inspect.signature() instead\n",
      "  spec = inspect.getargspec(func)\n",
      "c:\\users\\philip\\appdata\\local\\programs\\python\\python35-32\\lib\\site-packages\\funcy\\decorators.py:56: DeprecationWarning: inspect.getargspec() is deprecated, use inspect.signature() instead\n",
      "  spec = inspect.getargspec(func)\n",
      "c:\\users\\philip\\appdata\\local\\programs\\python\\python35-32\\lib\\site-packages\\funcy\\decorators.py:56: DeprecationWarning: inspect.getargspec() is deprecated, use inspect.signature() instead\n",
      "  spec = inspect.getargspec(func)\n",
      "c:\\users\\philip\\appdata\\local\\programs\\python\\python35-32\\lib\\site-packages\\funcy\\decorators.py:56: DeprecationWarning: inspect.getargspec() is deprecated, use inspect.signature() instead\n",
      "  spec = inspect.getargspec(func)\n"
     ]
    }
   ],
   "source": [
    "from dariah_topics import preprocessing as pre\n",
    "from dariah_topics import visualization as visual\n",
    "from dariah_topics import evaluation"
   ]
  },
  {
   "cell_type": "markdown",
   "metadata": {},
   "source": [
    "## Preprocessing"
   ]
  },
  {
   "cell_type": "markdown",
   "metadata": {},
   "source": [
    "#### Liste mit Dateinamen erzeugen"
   ]
  },
  {
   "cell_type": "code",
   "execution_count": 2,
   "metadata": {
    "collapsed": false
   },
   "outputs": [
    {
     "name": "stderr",
     "output_type": "stream",
     "text": [
      "c:\\users\\philip\\appdata\\local\\programs\\python\\python35-32\\lib\\site-packages\\IPython\\core\\formatters.py:92: DeprecationWarning: DisplayFormatter._ipython_display_formatter_default is deprecated: use @default decorator instead.\n",
      "  def _ipython_display_formatter_default(self):\n",
      "c:\\users\\philip\\appdata\\local\\programs\\python\\python35-32\\lib\\site-packages\\IPython\\core\\formatters.py:98: DeprecationWarning: DisplayFormatter._formatters_default is deprecated: use @default decorator instead.\n",
      "  def _formatters_default(self):\n",
      "c:\\users\\philip\\appdata\\local\\programs\\python\\python35-32\\lib\\site-packages\\IPython\\core\\formatters.py:677: DeprecationWarning: PlainTextFormatter._deferred_printers_default is deprecated: use @default decorator instead.\n",
      "  def _deferred_printers_default(self):\n",
      "c:\\users\\philip\\appdata\\local\\programs\\python\\python35-32\\lib\\site-packages\\IPython\\core\\formatters.py:669: DeprecationWarning: PlainTextFormatter._singleton_printers_default is deprecated: use @default decorator instead.\n",
      "  def _singleton_printers_default(self):\n",
      "c:\\users\\philip\\appdata\\local\\programs\\python\\python35-32\\lib\\site-packages\\IPython\\core\\formatters.py:672: DeprecationWarning: PlainTextFormatter._type_printers_default is deprecated: use @default decorator instead.\n",
      "  def _type_printers_default(self):\n",
      "c:\\users\\philip\\appdata\\local\\programs\\python\\python35-32\\lib\\site-packages\\IPython\\core\\formatters.py:669: DeprecationWarning: PlainTextFormatter._singleton_printers_default is deprecated: use @default decorator instead.\n",
      "  def _singleton_printers_default(self):\n",
      "c:\\users\\philip\\appdata\\local\\programs\\python\\python35-32\\lib\\site-packages\\IPython\\core\\formatters.py:672: DeprecationWarning: PlainTextFormatter._type_printers_default is deprecated: use @default decorator instead.\n",
      "  def _type_printers_default(self):\n",
      "c:\\users\\philip\\appdata\\local\\programs\\python\\python35-32\\lib\\site-packages\\IPython\\core\\formatters.py:677: DeprecationWarning: PlainTextFormatter._deferred_printers_default is deprecated: use @default decorator instead.\n",
      "  def _deferred_printers_default(self):\n"
     ]
    },
    {
     "data": {
      "text/plain": [
       "['corpus_txt\\\\Doyle_AScandalinBohemia.txt',\n",
       " 'corpus_txt\\\\Doyle_AStudyinScarlet.txt',\n",
       " 'corpus_txt\\\\Doyle_TheHoundoftheBaskervilles.txt',\n",
       " 'corpus_txt\\\\Doyle_TheSignoftheFour.txt',\n",
       " 'corpus_txt\\\\Howard_GodsoftheNorth.txt']"
      ]
     },
     "execution_count": 2,
     "metadata": {},
     "output_type": "execute_result"
    }
   ],
   "source": [
    "path_txt = \"corpus_txt\"\n",
    "#path_txt = \"grenzbote_plain/*/\"\n",
    "#path_txt = \"wiki/\"\n",
    "\n",
    "doclist_txt = pre.create_document_list(path_txt)\n",
    "assert doclist_txt, \"No documents found\"\n",
    "doclist_txt[:5]"
   ]
  },
  {
   "cell_type": "markdown",
   "metadata": {},
   "source": [
    "#####  Liste mit Dokumentenlabels erzeugen - (Funktion wird durch Thorsten's generischere Funktion ersetzt)"
   ]
  },
  {
   "cell_type": "code",
   "execution_count": 3,
   "metadata": {
    "collapsed": false
   },
   "outputs": [
    {
     "data": {
      "text/plain": [
       "['Doyle_AScandalinBohemia.txt',\n",
       " 'Doyle_AStudyinScarlet.txt',\n",
       " 'Doyle_TheHoundoftheBaskervilles.txt',\n",
       " 'Doyle_TheSignoftheFour.txt',\n",
       " 'Howard_GodsoftheNorth.txt']"
      ]
     },
     "execution_count": 3,
     "metadata": {},
     "output_type": "execute_result"
    }
   ],
   "source": [
    "doc_labels = list(pre.get_labels(doclist_txt))\n",
    "doc_labels[:5]"
   ]
  },
  {
   "cell_type": "markdown",
   "metadata": {},
   "source": [
    "#### Corpus laden"
   ]
  },
  {
   "cell_type": "code",
   "execution_count": 4,
   "metadata": {
    "collapsed": false
   },
   "outputs": [],
   "source": [
    "corpus_txt = pre.read_from_txt(doclist_txt)"
   ]
  },
  {
   "cell_type": "markdown",
   "metadata": {},
   "source": [
    "#### Tokenisieren"
   ]
  },
  {
   "cell_type": "code",
   "execution_count": 5,
   "metadata": {
    "collapsed": false
   },
   "outputs": [],
   "source": [
    "doc_tokens = [list(pre.tokenize(txt)) for txt in list(corpus_txt)]"
   ]
  },
  {
   "cell_type": "markdown",
   "metadata": {},
   "source": [
    "#### Create Dictionaries"
   ]
  },
  {
   "cell_type": "code",
   "execution_count": 6,
   "metadata": {
    "collapsed": false
   },
   "outputs": [],
   "source": [
    "id_types, doc_ids = pre.create_dictionaries(doc_labels, doc_tokens)"
   ]
  },
  {
   "cell_type": "markdown",
   "metadata": {},
   "source": [
    "#### Sparse BOW Model"
   ]
  },
  {
   "cell_type": "code",
   "execution_count": 7,
   "metadata": {
    "collapsed": false
   },
   "outputs": [],
   "source": [
    "sparse_bow = pre.create_mm(doc_labels, doc_tokens, id_types, doc_ids)"
   ]
  },
  {
   "cell_type": "code",
   "execution_count": 8,
   "metadata": {
    "collapsed": false
   },
   "outputs": [
    {
     "data": {
      "text/html": [
       "<div>\n",
       "<table border=\"1\" class=\"dataframe\">\n",
       "  <thead>\n",
       "    <tr style=\"text-align: right;\">\n",
       "      <th></th>\n",
       "      <th></th>\n",
       "      <th>0</th>\n",
       "    </tr>\n",
       "    <tr>\n",
       "      <th>doc_id</th>\n",
       "      <th>token_id</th>\n",
       "      <th></th>\n",
       "    </tr>\n",
       "  </thead>\n",
       "  <tbody>\n",
       "    <tr>\n",
       "      <th rowspan=\"5\" valign=\"top\">1</th>\n",
       "      <th>8194</th>\n",
       "      <td>1</td>\n",
       "    </tr>\n",
       "    <tr>\n",
       "      <th>16387</th>\n",
       "      <td>1</td>\n",
       "    </tr>\n",
       "    <tr>\n",
       "      <th>16389</th>\n",
       "      <td>4</td>\n",
       "    </tr>\n",
       "    <tr>\n",
       "      <th>20489</th>\n",
       "      <td>1</td>\n",
       "    </tr>\n",
       "    <tr>\n",
       "      <th>10</th>\n",
       "      <td>2</td>\n",
       "    </tr>\n",
       "  </tbody>\n",
       "</table>\n",
       "</div>"
      ],
      "text/plain": [
       "                 0\n",
       "doc_id token_id   \n",
       "1      8194      1\n",
       "       16387     1\n",
       "       16389     4\n",
       "       20489     1\n",
       "       10        2"
      ]
     },
     "execution_count": 8,
     "metadata": {},
     "output_type": "execute_result"
    }
   ],
   "source": [
    "sparse_bow[:5]"
   ]
  },
  {
   "cell_type": "markdown",
   "metadata": {},
   "source": [
    "## Topic Modeling with Gensim"
   ]
  },
  {
   "cell_type": "markdown",
   "metadata": {},
   "source": [
    "##### Saving Sparse BOW"
   ]
  },
  {
   "cell_type": "code",
   "execution_count": 9,
   "metadata": {
    "collapsed": false
   },
   "outputs": [],
   "source": [
    "pre.save_bow_mm(sparse_bow, \"gensim_txt\")"
   ]
  },
  {
   "cell_type": "markdown",
   "metadata": {},
   "source": [
    "#### Import Market Matrix"
   ]
  },
  {
   "cell_type": "code",
   "execution_count": 10,
   "metadata": {
    "collapsed": true
   },
   "outputs": [],
   "source": [
    "from gensim.models import LdaModel\n",
    "from gensim.corpora import MmCorpus"
   ]
  },
  {
   "cell_type": "code",
   "execution_count": 11,
   "metadata": {
    "collapsed": false
   },
   "outputs": [],
   "source": [
    "mm = MmCorpus(\"gensim_txt.mm\")"
   ]
  },
  {
   "cell_type": "code",
   "execution_count": 12,
   "metadata": {
    "collapsed": false
   },
   "outputs": [],
   "source": [
    "doc2id = {value : key for key, value in doc_ids.items()}\n",
    "type2id = {value : key for key, value in id_types.items()}"
   ]
  },
  {
   "cell_type": "markdown",
   "metadata": {},
   "source": [
    "##### Remove Features"
   ]
  },
  {
   "cell_type": "markdown",
   "metadata": {},
   "source": [
    "type2id = {value : key for key, value in id_types.items()}\n",
    "sparse_bow_collapsed = sparse_bow.groupby(sparse_bow.index.get_level_values('token_id')).sum()"
   ]
  },
  {
   "cell_type": "markdown",
   "metadata": {},
   "source": [
    "sparse_bow_hapax = sparse_bow_collapsed.loc[sparse_bow_collapsed[0] == 1]\n",
    "hapax = [type2id[key] for key in sparse_bow_hapax.index.get_level_values('token_id')]"
   ]
  },
  {
   "cell_type": "markdown",
   "metadata": {},
   "source": [
    "len(hapax)"
   ]
  },
  {
   "cell_type": "code",
   "execution_count": 13,
   "metadata": {
    "collapsed": true
   },
   "outputs": [],
   "source": [
    "import os.path\n",
    "basepath = os.path.abspath('.')\n",
    "\n",
    "with open(os.path.join(basepath, \"tutorial_supplementals\", \"stopwords\", \"de.txt\"), 'r', encoding = 'utf-8') as f: \n",
    "    stopword_list = f.read().split('\\n')\n",
    "    \n",
    "stopword_list = set(stopword_list)"
   ]
  },
  {
   "cell_type": "code",
   "execution_count": 14,
   "metadata": {
    "collapsed": false
   },
   "outputs": [],
   "source": [
    "hapax_from_remove = pre.find_hapax(sparse_bow, id_types)\n",
    "stopwords_from_remove = pre.find_stopwords(sparse_bow, id_types, mfw=75)\n",
    "\n",
    "#features_to_be_removed = set(hapax_from_remove + stopwords_from_remove)\n",
    "features_to_be_removed = stopwords_from_remove\n",
    "\n",
    "sparse_bow_short = pre.remove_features(sparse_bow, id_types, features_to_be_removed)"
   ]
  },
  {
   "cell_type": "code",
   "execution_count": 15,
   "metadata": {
    "collapsed": false
   },
   "outputs": [
    {
     "data": {
      "text/plain": [
       "75"
      ]
     },
     "execution_count": 15,
     "metadata": {},
     "output_type": "execute_result"
    }
   ],
   "source": [
    "len(features_to_be_removed)"
   ]
  },
  {
   "cell_type": "code",
   "execution_count": 16,
   "metadata": {
    "collapsed": false
   },
   "outputs": [],
   "source": [
    "pre.save_bow_mm(sparse_bow_short, \"gensim_txt\")"
   ]
  },
  {
   "cell_type": "code",
   "execution_count": 17,
   "metadata": {
    "collapsed": true
   },
   "outputs": [],
   "source": [
    "mm = MmCorpus(\"gensim_txt.mm\")"
   ]
  },
  {
   "cell_type": "markdown",
   "metadata": {},
   "source": [
    "#### Convert sparse_bow to list of (doc, tokens) tuples (like doc2bow)"
   ]
  },
  {
   "cell_type": "code",
   "execution_count": 18,
   "metadata": {
    "collapsed": false
   },
   "outputs": [],
   "source": [
    "doc2bow_list = []\n",
    "\n",
    "for doc in sparse_bow_short.index.groupby(sparse_bow_short.index.get_level_values('doc_id')):\n",
    "    temp = [(token, count) for token, count in zip(sparse_bow_short.loc[doc].index, sparse_bow_short.loc[doc][0])]\n",
    "    doc2bow_list.append(temp)"
   ]
  },
  {
   "cell_type": "code",
   "execution_count": 19,
   "metadata": {
    "collapsed": false
   },
   "outputs": [
    {
     "data": {
      "text/plain": [
       "17"
      ]
     },
     "execution_count": 19,
     "metadata": {},
     "output_type": "execute_result"
    }
   ],
   "source": [
    "len(doc2bow_list)"
   ]
  },
  {
   "cell_type": "code",
   "execution_count": 20,
   "metadata": {
    "collapsed": false
   },
   "outputs": [],
   "source": [
    "#model = LdaModel(corpus=mm, id2word=type2id, num_topics=60, alpha = \"symmetric\", passes = 10) #import momentan in visual \n",
    "# -> da ich mir noch nicht sicher bin, welche Funktionen in das tm_gensim.py sollen\n",
    "model = LdaModel(corpus=mm, id2word=type2id, num_topics=20, passes = 10, iterations = 20)"
   ]
  },
  {
   "cell_type": "code",
   "execution_count": 21,
   "metadata": {
    "collapsed": false
   },
   "outputs": [
    {
     "data": {
      "text/plain": [
       "[(0, 0.04878821807076901),\n",
       " (6, 0.15392527596662184),\n",
       " (7, 0.049871377505205775),\n",
       " (10, 0.18388715691286564),\n",
       " (12, 0.10714738993984448),\n",
       " (13, 0.038963104862722364),\n",
       " (14, 0.029562505451684446),\n",
       " (15, 0.087012235715850969),\n",
       " (17, 0.17950665747388053),\n",
       " (18, 0.11878139246471454)]"
      ]
     },
     "execution_count": 21,
     "metadata": {},
     "output_type": "execute_result"
    }
   ],
   "source": [
    "model.get_document_topics(doc2bow_list[1])"
   ]
  },
  {
   "cell_type": "code",
   "execution_count": 22,
   "metadata": {
    "collapsed": false
   },
   "outputs": [
    {
     "data": {
      "text/plain": [
       "['worked-up',\n",
       " 'vertebrates',\n",
       " 'earthward',\n",
       " 'ocular',\n",
       " 'doin',\n",
       " 'surgeons',\n",
       " 'parts',\n",
       " 'clambering',\n",
       " 'stair',\n",
       " 'gate']"
      ]
     },
     "execution_count": 22,
     "metadata": {},
     "output_type": "execute_result"
    }
   ],
   "source": [
    "#Anzeige der keywords für topic n\n",
    "n = 1\n",
    "topic_nr_x = model.get_topic_terms(n)\n",
    "\n",
    "topicTerms = [type2id[i[0]] for i in topic_nr_x]\n",
    "topicTerms"
   ]
  },
  {
   "cell_type": "code",
   "execution_count": 23,
   "metadata": {
    "collapsed": false
   },
   "outputs": [
    {
     "data": {
      "text/plain": [
       "[(0,\n",
       "  '0.006*\"borders\" + 0.005*\"labrador\" + 0.005*\"cattle-herding\" + 0.005*\"domestic\" + 0.004*\"foggy\" + 0.004*\"africa\" + 0.003*\"handled\" + 0.003*\"educational\" + 0.003*\"running\" + 0.003*\"contracted\"'),\n",
       " (1,\n",
       "  '0.001*\"worked-up\" + 0.001*\"vertebrates\" + 0.001*\"earthward\" + 0.001*\"ocular\" + 0.001*\"doin\" + 0.001*\"surgeons\" + 0.001*\"parts\" + 0.001*\"clambering\" + 0.001*\"stair\" + 0.001*\"gate\"'),\n",
       " (2,\n",
       "  '0.000*\"rikk-tck\" + 0.000*\"foggy\" + 0.000*\"mean\" + 0.000*\"entangle\" + 0.000*\"thinnish\" + 0.000*\"witchlike\" + 0.000*\"loathsome\" + 0.000*\"asperity\" + 0.000*\"nine\" + 0.000*\"overly\"'),\n",
       " (3,\n",
       "  '0.000*\"thinnish\" + 0.000*\"rikk-tck\" + 0.000*\"holes\" + 0.000*\"nine\" + 0.000*\"contracted\" + 0.000*\"carted\" + 0.000*\"tries\" + 0.000*\"exerting\" + 0.000*\"entangle\" + 0.000*\"mean\"'),\n",
       " (4,\n",
       "  '0.000*\"witchlike\" + 0.000*\"skins\" + 0.000*\"nine\" + 0.000*\"contracted\" + 0.000*\"overly\" + 0.000*\"mean\" + 0.000*\"cattle-herding\" + 0.000*\"foggy\" + 0.000*\"incommodes\" + 0.000*\"steaming\"'),\n",
       " (5,\n",
       "  '0.000*\"carted\" + 0.000*\"loathsome\" + 0.000*\"rikk-tck\" + 0.000*\"sapping\" + 0.000*\"slued\" + 0.000*\"overly\" + 0.000*\"fixing\" + 0.000*\"asperity\" + 0.000*\"witchlike\" + 0.000*\"skins\"'),\n",
       " (6,\n",
       "  '0.004*\"carted\" + 0.004*\"cynicism\" + 0.004*\"rikk-tck\" + 0.004*\"fixing\" + 0.004*\"slued\" + 0.004*\"parent\" + 0.003*\"running\" + 0.003*\"thinnish\" + 0.003*\"entangle\" + 0.003*\"asperity\"'),\n",
       " (7,\n",
       "  '0.007*\"flecked\" + 0.005*\"mean\" + 0.005*\"named\" + 0.004*\"shin\" + 0.004*\"steed\" + 0.004*\"foggy\" + 0.004*\"bullock-driver\" + 0.004*\"rikk-tck\" + 0.004*\"eloquent\" + 0.004*\"disconsolate\"'),\n",
       " (8,\n",
       "  '0.000*\"overly\" + 0.000*\"cattle-herding\" + 0.000*\"carted\" + 0.000*\"steaming\" + 0.000*\"witchlike\" + 0.000*\"skins\" + 0.000*\"nine\" + 0.000*\"ridicule\" + 0.000*\"continuous\" + 0.000*\"mean\"'),\n",
       " (9,\n",
       "  '0.002*\"absorb\" + 0.002*\"faded\" + 0.002*\"pools\" + 0.001*\"high-swinging\" + 0.001*\"canal\" + 0.001*\"twice\" + 0.001*\"yelps\" + 0.001*\"chamois-leather\" + 0.001*\"e\\'s\" + 0.001*\"discovering\"'),\n",
       " (10,\n",
       "  '0.007*\"canal\" + 0.006*\"nine\" + 0.005*\"meditation\" + 0.005*\"overly\" + 0.005*\"daren\\'t\" + 0.005*\"parry\" + 0.004*\"witchlike\" + 0.004*\"contracted\" + 0.004*\"perspectively\" + 0.004*\"unaccustomed\"'),\n",
       " (11,\n",
       "  '0.000*\"foggy\" + 0.000*\"flecked\" + 0.000*\"thinnish\" + 0.000*\"witchlike\" + 0.000*\"mean\" + 0.000*\"loathsome\" + 0.000*\"nine\" + 0.000*\"oasis\" + 0.000*\"holes\" + 0.000*\"asperity\"'),\n",
       " (12,\n",
       "  '0.007*\"singing\" + 0.005*\"boiler-clean\" + 0.005*\"witchlike\" + 0.005*\"labrador\" + 0.005*\"eloquently\" + 0.004*\"baker\" + 0.004*\"earthly\" + 0.004*\"contracted\" + 0.004*\"ridicule\" + 0.004*\"mcgregor\"'),\n",
       " (13,\n",
       "  '0.007*\"strips\" + 0.006*\"railings\" + 0.005*\"majestic\" + 0.005*\"carted\" + 0.004*\"bullock-driver\" + 0.004*\"badly-trimmed\" + 0.003*\"earth\" + 0.003*\"entangle\" + 0.003*\"cannot\" + 0.003*\"inseparable\"'),\n",
       " (14,\n",
       "  '0.015*\"nebular\" + 0.006*\"interview\" + 0.005*\"bearlings\" + 0.005*\"nags\" + 0.005*\"mailed\" + 0.005*\"thinnish\" + 0.004*\"craving\" + 0.004*\"smacked\" + 0.004*\"overly\" + 0.004*\"tries\"'),\n",
       " (15,\n",
       "  '0.009*\"carted\" + 0.006*\"entangle\" + 0.006*\"rikk-tck\" + 0.005*\"exerting\" + 0.005*\"train\" + 0.005*\"well-dressed\" + 0.004*\"swindling-stable\" + 0.004*\"foreseeing\" + 0.004*\"establishment\" + 0.004*\"spent\"'),\n",
       " (16,\n",
       "  '0.002*\"parvo\" + 0.002*\"recruit-mule\" + 0.002*\"scuffle\" + 0.002*\"sake\" + 0.002*\"rarest\" + 0.002*\"murcher\\'s\" + 0.002*\"lanky\" + 0.001*\"patent-leathers\" + 0.001*\"weight\" + 0.001*\"clanking\"'),\n",
       " (17,\n",
       "  '0.004*\"flecked\" + 0.004*\"tries\" + 0.003*\"thinnish\" + 0.003*\"skins\" + 0.003*\"rikk-tck\" + 0.003*\"contracted\" + 0.003*\"oasis\" + 0.003*\"disappointment\" + 0.003*\"nine\" + 0.003*\"bearlings\"'),\n",
       " (18,\n",
       "  '0.011*\"worked-up\" + 0.006*\"flecked\" + 0.005*\"start\" + 0.005*\"lanterns\" + 0.005*\"mitral\" + 0.004*\"screaming\" + 0.004*\"cattle-herding\" + 0.004*\"asperity\" + 0.004*\"overly\" + 0.004*\"ransacking\"'),\n",
       " (19,\n",
       "  '0.000*\"carted\" + 0.000*\"nine\" + 0.000*\"thinnish\" + 0.000*\"witchlike\" + 0.000*\"asperity\" + 0.000*\"overly\" + 0.000*\"incommodes\" + 0.000*\"perspectively\" + 0.000*\"ductile\" + 0.000*\"tries\"')]"
      ]
     },
     "execution_count": 23,
     "metadata": {},
     "output_type": "execute_result"
    }
   ],
   "source": [
    "#Topic probabilities\n",
    "topics = model.show_topics(num_topics = 40)\n",
    "topics"
   ]
  },
  {
   "cell_type": "code",
   "execution_count": 24,
   "metadata": {
    "collapsed": false
   },
   "outputs": [],
   "source": [
    "import pandas as pd\n",
    "import regex as re\n",
    "def gensim2dataframe(model):\n",
    "    num_topics = model.num_topics\n",
    "    topics_df = pd.DataFrame(index = range(num_topics), columns= range(10))\n",
    "\n",
    "    topics = model.show_topics(num_topics)\n",
    "    \n",
    "    for topic_dist in topics:    \n",
    "        idx = topic_dist[0]\n",
    "        temp = re.findall(r'\\\"(.+?)\\\"', topics[idx][1])\n",
    "        topics_df.loc[idx] = temp\n",
    "    \n",
    "    return topics_df"
   ]
  },
  {
   "cell_type": "code",
   "execution_count": 25,
   "metadata": {
    "collapsed": false
   },
   "outputs": [],
   "source": [
    "topics_df = gensim2dataframe(model)"
   ]
  },
  {
   "cell_type": "code",
   "execution_count": 32,
   "metadata": {
    "collapsed": false
   },
   "outputs": [
    {
     "data": {
      "text/html": [
       "<div>\n",
       "<table border=\"1\" class=\"dataframe\">\n",
       "  <thead>\n",
       "    <tr style=\"text-align: right;\">\n",
       "      <th></th>\n",
       "      <th>0</th>\n",
       "      <th>1</th>\n",
       "      <th>2</th>\n",
       "      <th>3</th>\n",
       "      <th>4</th>\n",
       "      <th>5</th>\n",
       "      <th>6</th>\n",
       "      <th>7</th>\n",
       "      <th>8</th>\n",
       "      <th>9</th>\n",
       "      <th>10</th>\n",
       "      <th>11</th>\n",
       "      <th>12</th>\n",
       "      <th>13</th>\n",
       "      <th>14</th>\n",
       "      <th>15</th>\n",
       "      <th>16</th>\n",
       "      <th>17</th>\n",
       "      <th>18</th>\n",
       "      <th>19</th>\n",
       "    </tr>\n",
       "  </thead>\n",
       "  <tbody>\n",
       "    <tr>\n",
       "      <th>0</th>\n",
       "      <td>borders</td>\n",
       "      <td>worked-up</td>\n",
       "      <td>rikk-tck</td>\n",
       "      <td>thinnish</td>\n",
       "      <td>witchlike</td>\n",
       "      <td>carted</td>\n",
       "      <td>carted</td>\n",
       "      <td>flecked</td>\n",
       "      <td>overly</td>\n",
       "      <td>absorb</td>\n",
       "      <td>canal</td>\n",
       "      <td>foggy</td>\n",
       "      <td>singing</td>\n",
       "      <td>strips</td>\n",
       "      <td>nebular</td>\n",
       "      <td>carted</td>\n",
       "      <td>parvo</td>\n",
       "      <td>flecked</td>\n",
       "      <td>worked-up</td>\n",
       "      <td>carted</td>\n",
       "    </tr>\n",
       "    <tr>\n",
       "      <th>1</th>\n",
       "      <td>labrador</td>\n",
       "      <td>vertebrates</td>\n",
       "      <td>foggy</td>\n",
       "      <td>rikk-tck</td>\n",
       "      <td>skins</td>\n",
       "      <td>loathsome</td>\n",
       "      <td>cynicism</td>\n",
       "      <td>mean</td>\n",
       "      <td>cattle-herding</td>\n",
       "      <td>faded</td>\n",
       "      <td>nine</td>\n",
       "      <td>flecked</td>\n",
       "      <td>boiler-clean</td>\n",
       "      <td>railings</td>\n",
       "      <td>interview</td>\n",
       "      <td>entangle</td>\n",
       "      <td>recruit-mule</td>\n",
       "      <td>tries</td>\n",
       "      <td>flecked</td>\n",
       "      <td>nine</td>\n",
       "    </tr>\n",
       "    <tr>\n",
       "      <th>2</th>\n",
       "      <td>cattle-herding</td>\n",
       "      <td>earthward</td>\n",
       "      <td>mean</td>\n",
       "      <td>holes</td>\n",
       "      <td>nine</td>\n",
       "      <td>rikk-tck</td>\n",
       "      <td>rikk-tck</td>\n",
       "      <td>named</td>\n",
       "      <td>carted</td>\n",
       "      <td>pools</td>\n",
       "      <td>meditation</td>\n",
       "      <td>thinnish</td>\n",
       "      <td>witchlike</td>\n",
       "      <td>majestic</td>\n",
       "      <td>bearlings</td>\n",
       "      <td>rikk-tck</td>\n",
       "      <td>scuffle</td>\n",
       "      <td>thinnish</td>\n",
       "      <td>start</td>\n",
       "      <td>thinnish</td>\n",
       "    </tr>\n",
       "    <tr>\n",
       "      <th>3</th>\n",
       "      <td>domestic</td>\n",
       "      <td>ocular</td>\n",
       "      <td>entangle</td>\n",
       "      <td>nine</td>\n",
       "      <td>contracted</td>\n",
       "      <td>sapping</td>\n",
       "      <td>fixing</td>\n",
       "      <td>shin</td>\n",
       "      <td>steaming</td>\n",
       "      <td>high-swinging</td>\n",
       "      <td>overly</td>\n",
       "      <td>witchlike</td>\n",
       "      <td>labrador</td>\n",
       "      <td>carted</td>\n",
       "      <td>nags</td>\n",
       "      <td>exerting</td>\n",
       "      <td>sake</td>\n",
       "      <td>skins</td>\n",
       "      <td>lanterns</td>\n",
       "      <td>witchlike</td>\n",
       "    </tr>\n",
       "    <tr>\n",
       "      <th>4</th>\n",
       "      <td>foggy</td>\n",
       "      <td>doin</td>\n",
       "      <td>thinnish</td>\n",
       "      <td>contracted</td>\n",
       "      <td>overly</td>\n",
       "      <td>slued</td>\n",
       "      <td>slued</td>\n",
       "      <td>steed</td>\n",
       "      <td>witchlike</td>\n",
       "      <td>canal</td>\n",
       "      <td>daren't</td>\n",
       "      <td>mean</td>\n",
       "      <td>eloquently</td>\n",
       "      <td>bullock-driver</td>\n",
       "      <td>mailed</td>\n",
       "      <td>train</td>\n",
       "      <td>rarest</td>\n",
       "      <td>rikk-tck</td>\n",
       "      <td>mitral</td>\n",
       "      <td>asperity</td>\n",
       "    </tr>\n",
       "    <tr>\n",
       "      <th>5</th>\n",
       "      <td>africa</td>\n",
       "      <td>surgeons</td>\n",
       "      <td>witchlike</td>\n",
       "      <td>carted</td>\n",
       "      <td>mean</td>\n",
       "      <td>overly</td>\n",
       "      <td>parent</td>\n",
       "      <td>foggy</td>\n",
       "      <td>skins</td>\n",
       "      <td>twice</td>\n",
       "      <td>parry</td>\n",
       "      <td>loathsome</td>\n",
       "      <td>baker</td>\n",
       "      <td>badly-trimmed</td>\n",
       "      <td>thinnish</td>\n",
       "      <td>well-dressed</td>\n",
       "      <td>murcher's</td>\n",
       "      <td>contracted</td>\n",
       "      <td>screaming</td>\n",
       "      <td>overly</td>\n",
       "    </tr>\n",
       "    <tr>\n",
       "      <th>6</th>\n",
       "      <td>handled</td>\n",
       "      <td>parts</td>\n",
       "      <td>loathsome</td>\n",
       "      <td>tries</td>\n",
       "      <td>cattle-herding</td>\n",
       "      <td>fixing</td>\n",
       "      <td>running</td>\n",
       "      <td>bullock-driver</td>\n",
       "      <td>nine</td>\n",
       "      <td>yelps</td>\n",
       "      <td>witchlike</td>\n",
       "      <td>nine</td>\n",
       "      <td>earthly</td>\n",
       "      <td>earth</td>\n",
       "      <td>craving</td>\n",
       "      <td>swindling-stable</td>\n",
       "      <td>lanky</td>\n",
       "      <td>oasis</td>\n",
       "      <td>cattle-herding</td>\n",
       "      <td>incommodes</td>\n",
       "    </tr>\n",
       "    <tr>\n",
       "      <th>7</th>\n",
       "      <td>educational</td>\n",
       "      <td>clambering</td>\n",
       "      <td>asperity</td>\n",
       "      <td>exerting</td>\n",
       "      <td>foggy</td>\n",
       "      <td>asperity</td>\n",
       "      <td>thinnish</td>\n",
       "      <td>rikk-tck</td>\n",
       "      <td>ridicule</td>\n",
       "      <td>chamois-leather</td>\n",
       "      <td>contracted</td>\n",
       "      <td>oasis</td>\n",
       "      <td>contracted</td>\n",
       "      <td>entangle</td>\n",
       "      <td>smacked</td>\n",
       "      <td>foreseeing</td>\n",
       "      <td>patent-leathers</td>\n",
       "      <td>disappointment</td>\n",
       "      <td>asperity</td>\n",
       "      <td>perspectively</td>\n",
       "    </tr>\n",
       "    <tr>\n",
       "      <th>8</th>\n",
       "      <td>running</td>\n",
       "      <td>stair</td>\n",
       "      <td>nine</td>\n",
       "      <td>entangle</td>\n",
       "      <td>incommodes</td>\n",
       "      <td>witchlike</td>\n",
       "      <td>entangle</td>\n",
       "      <td>eloquent</td>\n",
       "      <td>continuous</td>\n",
       "      <td>e's</td>\n",
       "      <td>perspectively</td>\n",
       "      <td>holes</td>\n",
       "      <td>ridicule</td>\n",
       "      <td>cannot</td>\n",
       "      <td>overly</td>\n",
       "      <td>establishment</td>\n",
       "      <td>weight</td>\n",
       "      <td>nine</td>\n",
       "      <td>overly</td>\n",
       "      <td>ductile</td>\n",
       "    </tr>\n",
       "    <tr>\n",
       "      <th>9</th>\n",
       "      <td>contracted</td>\n",
       "      <td>gate</td>\n",
       "      <td>overly</td>\n",
       "      <td>mean</td>\n",
       "      <td>steaming</td>\n",
       "      <td>skins</td>\n",
       "      <td>asperity</td>\n",
       "      <td>disconsolate</td>\n",
       "      <td>mean</td>\n",
       "      <td>discovering</td>\n",
       "      <td>unaccustomed</td>\n",
       "      <td>asperity</td>\n",
       "      <td>mcgregor</td>\n",
       "      <td>inseparable</td>\n",
       "      <td>tries</td>\n",
       "      <td>spent</td>\n",
       "      <td>clanking</td>\n",
       "      <td>bearlings</td>\n",
       "      <td>ransacking</td>\n",
       "      <td>tries</td>\n",
       "    </tr>\n",
       "  </tbody>\n",
       "</table>\n",
       "</div>"
      ],
      "text/plain": [
       "               0            1          2           3               4   \\\n",
       "0         borders    worked-up   rikk-tck    thinnish       witchlike   \n",
       "1        labrador  vertebrates      foggy    rikk-tck           skins   \n",
       "2  cattle-herding    earthward       mean       holes            nine   \n",
       "3        domestic       ocular   entangle        nine      contracted   \n",
       "4           foggy         doin   thinnish  contracted          overly   \n",
       "5          africa     surgeons  witchlike      carted            mean   \n",
       "6         handled        parts  loathsome       tries  cattle-herding   \n",
       "7     educational   clambering   asperity    exerting           foggy   \n",
       "8         running        stair       nine    entangle      incommodes   \n",
       "9      contracted         gate     overly        mean        steaming   \n",
       "\n",
       "          5         6               7               8                9   \\\n",
       "0     carted    carted         flecked          overly           absorb   \n",
       "1  loathsome  cynicism            mean  cattle-herding            faded   \n",
       "2   rikk-tck  rikk-tck           named          carted            pools   \n",
       "3    sapping    fixing            shin        steaming    high-swinging   \n",
       "4      slued     slued           steed       witchlike            canal   \n",
       "5     overly    parent           foggy           skins            twice   \n",
       "6     fixing   running  bullock-driver            nine            yelps   \n",
       "7   asperity  thinnish        rikk-tck        ridicule  chamois-leather   \n",
       "8  witchlike  entangle        eloquent      continuous              e's   \n",
       "9      skins  asperity    disconsolate            mean      discovering   \n",
       "\n",
       "              10         11            12              13         14  \\\n",
       "0          canal      foggy       singing          strips    nebular   \n",
       "1           nine    flecked  boiler-clean        railings  interview   \n",
       "2     meditation   thinnish     witchlike        majestic  bearlings   \n",
       "3         overly  witchlike      labrador          carted       nags   \n",
       "4        daren't       mean    eloquently  bullock-driver     mailed   \n",
       "5          parry  loathsome         baker   badly-trimmed   thinnish   \n",
       "6      witchlike       nine       earthly           earth    craving   \n",
       "7     contracted      oasis    contracted        entangle    smacked   \n",
       "8  perspectively      holes      ridicule          cannot     overly   \n",
       "9   unaccustomed   asperity      mcgregor     inseparable      tries   \n",
       "\n",
       "                 15               16              17              18  \\\n",
       "0            carted            parvo         flecked       worked-up   \n",
       "1          entangle     recruit-mule           tries         flecked   \n",
       "2          rikk-tck          scuffle        thinnish           start   \n",
       "3          exerting             sake           skins        lanterns   \n",
       "4             train           rarest        rikk-tck          mitral   \n",
       "5      well-dressed        murcher's      contracted       screaming   \n",
       "6  swindling-stable            lanky           oasis  cattle-herding   \n",
       "7        foreseeing  patent-leathers  disappointment        asperity   \n",
       "8     establishment           weight            nine          overly   \n",
       "9             spent         clanking       bearlings      ransacking   \n",
       "\n",
       "              19  \n",
       "0         carted  \n",
       "1           nine  \n",
       "2       thinnish  \n",
       "3      witchlike  \n",
       "4       asperity  \n",
       "5         overly  \n",
       "6     incommodes  \n",
       "7  perspectively  \n",
       "8        ductile  \n",
       "9          tries  "
      ]
     },
     "execution_count": 32,
     "metadata": {},
     "output_type": "execute_result"
    }
   ],
   "source": [
    "doc_topic = topics_df.T\n",
    "doc_topic"
   ]
  },
  {
   "cell_type": "markdown",
   "metadata": {},
   "source": [
    "## Visualisierung "
   ]
  },
  {
   "cell_type": "code",
   "execution_count": 27,
   "metadata": {
    "collapsed": false
   },
   "outputs": [
    {
     "data": {
      "text/plain": [
       "\"lda_model = 'out_easy/corpus.lda'\\ncorpus = 'out_easy/corpus.mm'\\ndictionary = 'out_easy/corpus.dict'\\ndoc_labels = 'out_easy/corpus_doclabels.txt'\\ninteractive  = False\\n\\nvis = visual.Visualization(lda_model, corpus, dictionary, doc_labels, interactive)\""
      ]
     },
     "execution_count": 27,
     "metadata": {},
     "output_type": "execute_result"
    }
   ],
   "source": [
    "'''lda_model = 'out_easy/corpus.lda'\n",
    "corpus = 'out_easy/corpus.mm'\n",
    "dictionary = 'out_easy/corpus.dict'\n",
    "doc_labels = 'out_easy/corpus_doclabels.txt'\n",
    "interactive  = False\n",
    "\n",
    "vis = visual.Visualization(lda_model, corpus, dictionary, doc_labels, interactive)'''"
   ]
  },
  {
   "cell_type": "markdown",
   "metadata": {},
   "source": [
    "##### Create a document-topic matrix (that is a pandas data frame actually)"
   ]
  },
  {
   "cell_type": "code",
   "execution_count": 28,
   "metadata": {
    "collapsed": false
   },
   "outputs": [],
   "source": [
    "doc_topic = visual.create_doc_topic(mm, model, doc_labels)"
   ]
  },
  {
   "cell_type": "markdown",
   "metadata": {},
   "source": [
    "##### Visualize document-topic matrix"
   ]
  },
  {
   "cell_type": "code",
   "execution_count": 29,
   "metadata": {
    "collapsed": false
   },
   "outputs": [
    {
     "name": "stderr",
     "output_type": "stream",
     "text": [
      "c:\\users\\philip\\appdata\\local\\programs\\python\\python35-32\\lib\\site-packages\\ipykernel\\pylab\\config.py:66: DeprecationWarning: metadata {'config': True} was set from the constructor.  Metadata should be set using the .tag() method, e.g., Int().tag(key1='value1', key2='value2')\n",
      "  inline backend.\"\"\"\n",
      "c:\\users\\philip\\appdata\\local\\programs\\python\\python35-32\\lib\\site-packages\\ipykernel\\pylab\\config.py:71: DeprecationWarning: metadata {'config': True} was set from the constructor.  Metadata should be set using the .tag() method, e.g., Int().tag(key1='value1', key2='value2')\n",
      "  'retina', 'jpeg', 'svg', 'pdf'.\"\"\")\n",
      "c:\\users\\philip\\appdata\\local\\programs\\python\\python35-32\\lib\\site-packages\\ipykernel\\pylab\\config.py:85: DeprecationWarning: metadata {'config': True} was set from the constructor.  Metadata should be set using the .tag() method, e.g., Int().tag(key1='value1', key2='value2')\n",
      "  use `figure_formats` instead)\"\"\")\n",
      "c:\\users\\philip\\appdata\\local\\programs\\python\\python35-32\\lib\\site-packages\\ipykernel\\pylab\\config.py:95: DeprecationWarning: metadata {'config': True} was set from the constructor.  Metadata should be set using the .tag() method, e.g., Int().tag(key1='value1', key2='value2')\n",
      "  \"\"\"\n",
      "c:\\users\\philip\\appdata\\local\\programs\\python\\python35-32\\lib\\site-packages\\ipykernel\\pylab\\config.py:114: DeprecationWarning: metadata {'config': True} was set from the constructor.  Metadata should be set using the .tag() method, e.g., Int().tag(key1='value1', key2='value2')\n",
      "  \"\"\")\n",
      "c:\\users\\philip\\appdata\\local\\programs\\python\\python35-32\\lib\\site-packages\\ipykernel\\pylab\\config.py:44: DeprecationWarning: InlineBackend._config_changed is deprecated: use @observe and @unobserve instead.\n",
      "  def _config_changed(self, name, old, new):\n",
      "c:\\users\\philip\\appdata\\local\\programs\\python\\python35-32\\lib\\site-packages\\traitlets\\traitlets.py:770: DeprecationWarning: A parent of InlineBackend._config_changed has adopted the new @observe(change) API\n",
      "  clsname, change_or_name), DeprecationWarning)\n"
     ]
    },
    {
     "data": {
      "text/plain": [
       "<module 'matplotlib.pyplot' from 'c:\\\\users\\\\philip\\\\appdata\\\\local\\\\programs\\\\python\\\\python35-32\\\\lib\\\\site-packages\\\\matplotlib\\\\pyplot.py'>"
      ]
     },
     "execution_count": 29,
     "metadata": {},
     "output_type": "execute_result"
    },
    {
     "data": {
      "image/png": "[encoded data removed]",
      "text/plain": [
       "<matplotlib.figure.Figure at 0xba68990>"
      ]
     },
     "metadata": {},
     "output_type": "display_data"
    }
   ],
   "source": [
    "%matplotlib inline\n",
    "visual.doc_topic_heatmap(doc_topic)"
   ]
  },
  {
   "cell_type": "markdown",
   "metadata": {},
   "source": [
    "##### Visualize topic distribution in a single document"
   ]
  },
  {
   "cell_type": "code",
   "execution_count": 30,
   "metadata": {
    "collapsed": false
   },
   "outputs": [
    {
     "data": {
      "image/png": "[encoded data removed]",
      "text/plain": [
       "<matplotlib.figure.Figure at 0xc8d1d90>"
      ]
     },
     "metadata": {},
     "output_type": "display_data"
    }
   ],
   "source": [
    "visual.plot_doc_topics(doc_topic, 0)"
   ]
  },
  {
   "cell_type": "markdown",
   "metadata": {
    "collapsed": true
   },
   "source": [
    "![success](http://cdn2.hubspot.net/hub/128506/file-446943132-jpg/images/computer_woman_success.jpg)"
   ]
  }
 ],
 "metadata": {
  "kernelspec": {
   "display_name": "Python 3",
   "language": "python",
   "name": "python3"
  },
  "language_info": {
   "codemirror_mode": {
    "name": "ipython",
    "version": 3
   },
   "file_extension": ".py",
   "mimetype": "text/x-python",
   "name": "python",
   "nbconvert_exporter": "python",
   "pygments_lexer": "ipython3",
   "version": "3.5.1"
  }
 },
 "nbformat": 4,
 "nbformat_minor": 0
}
