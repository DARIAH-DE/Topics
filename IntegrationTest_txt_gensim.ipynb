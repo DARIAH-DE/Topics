{
 "cells": [
  {
   "cell_type": "code",
   "execution_count": 1,
   "metadata": {
    "collapsed": false,
    "deletable": true,
    "editable": true
   },
   "outputs": [
    {
     "name": "stderr",
     "output_type": "stream",
     "text": [
      "INFO summa.preprocessing.cleaner: 'pattern' package not found; tag filters are not available for English\n"
     ]
    }
   ],
   "source": [
    "from dariah_topics import preprocessing as pre\n",
    "from dariah_topics import visualization as visual\n",
    "from dariah_topics import evaluation"
   ]
  },
  {
   "cell_type": "markdown",
   "metadata": {
    "deletable": true,
    "editable": true
   },
   "source": [
    "## Preprocessing"
   ]
  },
  {
   "cell_type": "markdown",
   "metadata": {
    "deletable": true,
    "editable": true
   },
   "source": [
    "#### Liste mit Dateinamen erzeugen"
   ]
  },
  {
   "cell_type": "code",
   "execution_count": 2,
   "metadata": {
    "collapsed": false,
    "deletable": true,
    "editable": true
   },
   "outputs": [
    {
     "name": "stderr",
     "output_type": "stream",
     "text": [
      "INFO preprocessing: Creating document list from TXT files ...\n"
     ]
    },
    {
     "data": {
      "text/plain": [
       "['corpus_txt/Lovecraft_AttheMountainofMadness.txt',\n",
       " 'corpus_txt/Howard_TheDevilinIron.txt',\n",
       " 'corpus_txt/Poe_ThePurloinedLetter.txt',\n",
       " 'corpus_txt/Lovecraft_TheShunnedHouse.txt',\n",
       " 'corpus_txt/Poe_TheMasqueoftheRedDeath.txt']"
      ]
     },
     "execution_count": 2,
     "metadata": {},
     "output_type": "execute_result"
    }
   ],
   "source": [
    "path_txt = \"corpus_txt\"\n",
    "#path_txt = \"grenzbote_plain/*/\"\n",
    "#path_txt = \"wiki/\"\n",
    "\n",
    "doclist_txt = pre.create_document_list(path_txt)\n",
    "assert doclist_txt, \"No documents found\"\n",
    "doclist_txt[:5]"
   ]
  },
  {
   "cell_type": "markdown",
   "metadata": {
    "deletable": true,
    "editable": true
   },
   "source": [
    "#####  Liste mit Dokumentenlabels erzeugen - (Funktion wird durch Thorsten's generischere Funktion ersetzt)"
   ]
  },
  {
   "cell_type": "code",
   "execution_count": 3,
   "metadata": {
    "collapsed": false,
    "deletable": true,
    "editable": true
   },
   "outputs": [
    {
     "name": "stderr",
     "output_type": "stream",
     "text": [
      "INFO preprocessing: Creating document labels ...\n"
     ]
    },
    {
     "data": {
      "text/plain": [
       "['Lovecraft_AttheMountainofMadness',\n",
       " 'Howard_TheDevilinIron',\n",
       " 'Poe_ThePurloinedLetter',\n",
       " 'Lovecraft_TheShunnedHouse',\n",
       " 'Poe_TheMasqueoftheRedDeath']"
      ]
     },
     "execution_count": 3,
     "metadata": {},
     "output_type": "execute_result"
    }
   ],
   "source": [
    "doc_labels = list(pre.get_labels(doclist_txt))\n",
    "doc_labels[:5]"
   ]
  },
  {
   "cell_type": "markdown",
   "metadata": {
    "deletable": true,
    "editable": true
   },
   "source": [
    "#### Corpus laden"
   ]
  },
  {
   "cell_type": "code",
   "execution_count": 4,
   "metadata": {
    "collapsed": false,
    "deletable": true,
    "editable": true
   },
   "outputs": [],
   "source": [
    "corpus_txt = pre.read_from_txt(doclist_txt)"
   ]
  },
  {
   "cell_type": "markdown",
   "metadata": {
    "deletable": true,
    "editable": true
   },
   "source": [
    "#### Tokenisieren"
   ]
  },
  {
   "cell_type": "code",
   "execution_count": 5,
   "metadata": {
    "collapsed": false,
    "deletable": true,
    "editable": true
   },
   "outputs": [
    {
     "name": "stderr",
     "output_type": "stream",
     "text": [
      "INFO preprocessing: Accessing TXT documents ...\n"
     ]
    }
   ],
   "source": [
    "doc_tokens = [list(pre.tokenize(txt)) for txt in list(corpus_txt)]"
   ]
  },
  {
   "cell_type": "markdown",
   "metadata": {
    "deletable": true,
    "editable": true
   },
   "source": [
    "#### Create Dictionaries"
   ]
  },
  {
   "cell_type": "code",
   "execution_count": 6,
   "metadata": {
    "collapsed": false,
    "deletable": true,
    "editable": true
   },
   "outputs": [],
   "source": [
    "id_types = pre.create_dictionary(doc_tokens)\n",
    "doc_ids = pre.create_dictionary(doc_labels)"
   ]
  },
  {
   "cell_type": "markdown",
   "metadata": {
    "deletable": true,
    "editable": true
   },
   "source": [
    "#### Sparse BOW Model"
   ]
  },
  {
   "cell_type": "code",
   "execution_count": 7,
   "metadata": {
    "collapsed": false,
    "deletable": true,
    "editable": true
   },
   "outputs": [],
   "source": [
    "sparse_bow = pre.create_sparse_bow(doc_labels, doc_tokens, id_types, doc_ids)"
   ]
  },
  {
   "cell_type": "code",
   "execution_count": 8,
   "metadata": {
    "collapsed": false,
    "deletable": true,
    "editable": true
   },
   "outputs": [
    {
     "data": {
      "text/html": [
       "<div>\n",
       "<table border=\"1\" class=\"dataframe\">\n",
       "  <thead>\n",
       "    <tr style=\"text-align: right;\">\n",
       "      <th></th>\n",
       "      <th></th>\n",
       "      <th>0</th>\n",
       "    </tr>\n",
       "    <tr>\n",
       "      <th>doc_id</th>\n",
       "      <th>token_id</th>\n",
       "      <th></th>\n",
       "    </tr>\n",
       "  </thead>\n",
       "  <tbody>\n",
       "    <tr>\n",
       "      <th rowspan=\"5\" valign=\"top\">1</th>\n",
       "      <th>8198</th>\n",
       "      <td>1</td>\n",
       "    </tr>\n",
       "    <tr>\n",
       "      <th>7</th>\n",
       "      <td>2</td>\n",
       "    </tr>\n",
       "    <tr>\n",
       "      <th>8</th>\n",
       "      <td>1</td>\n",
       "    </tr>\n",
       "    <tr>\n",
       "      <th>8202</th>\n",
       "      <td>1</td>\n",
       "    </tr>\n",
       "    <tr>\n",
       "      <th>16395</th>\n",
       "      <td>1</td>\n",
       "    </tr>\n",
       "  </tbody>\n",
       "</table>\n",
       "</div>"
      ],
      "text/plain": [
       "                 0\n",
       "doc_id token_id   \n",
       "1      8198      1\n",
       "       7         2\n",
       "       8         1\n",
       "       8202      1\n",
       "       16395     1"
      ]
     },
     "execution_count": 8,
     "metadata": {},
     "output_type": "execute_result"
    }
   ],
   "source": [
    "sparse_bow[:5]"
   ]
  },
  {
   "cell_type": "markdown",
   "metadata": {
    "deletable": true,
    "editable": true
   },
   "source": [
    "## Topic Modeling with Gensim"
   ]
  },
  {
   "cell_type": "markdown",
   "metadata": {
    "deletable": true,
    "editable": true
   },
   "source": [
    "##### Saving Sparse BOW"
   ]
  },
  {
   "cell_type": "code",
   "execution_count": 9,
   "metadata": {
    "collapsed": false,
    "deletable": true,
    "editable": true
   },
   "outputs": [],
   "source": [
    "pre.save_sparse_bow(sparse_bow, \"gensim_txt\")"
   ]
  },
  {
   "cell_type": "markdown",
   "metadata": {
    "deletable": true,
    "editable": true
   },
   "source": [
    "#### Import Market Matrix"
   ]
  },
  {
   "cell_type": "code",
   "execution_count": 10,
   "metadata": {
    "collapsed": false,
    "deletable": true,
    "editable": true
   },
   "outputs": [],
   "source": [
    "from gensim.models import LdaModel\n",
    "from gensim.corpora import MmCorpus\n",
    "from gensim.corpora import SvmLightCorpus"
   ]
  },
  {
   "cell_type": "code",
   "execution_count": 11,
   "metadata": {
    "collapsed": false,
    "deletable": true,
    "editable": true
   },
   "outputs": [
    {
     "name": "stderr",
     "output_type": "stream",
     "text": [
      "INFO gensim.matutils: initializing corpus reader from gensim_txt.mm\n",
      "INFO gensim.matutils: accepted corpus with 17 documents, 22232 features, 369906 non-zero entries\n"
     ]
    }
   ],
   "source": [
    "mm = MmCorpus(\"gensim_txt.mm\")"
   ]
  },
  {
   "cell_type": "code",
   "execution_count": 12,
   "metadata": {
    "collapsed": false,
    "deletable": true,
    "editable": true
   },
   "outputs": [
    {
     "name": "stderr",
     "output_type": "stream",
     "text": [
      "INFO gensim.matutils: initializing corpus reader from gensim_txt.mm\n",
      "INFO gensim.matutils: accepted corpus with 17 documents, 22232 features, 369906 non-zero entries\n",
      "INFO gensim.corpora.svmlightcorpus: converting corpus to SVMlight format: corpus.svmlight\n",
      "INFO gensim.corpora.indexedcorpus: saving SvmLightCorpus index to corpus.svmlight.index\n"
     ]
    }
   ],
   "source": [
    "corpus = MmCorpus('gensim_txt.mm')\n",
    "SvmLightCorpus.serialize('corpus.svmlight', corpus)"
   ]
  },
  {
   "cell_type": "code",
   "execution_count": 13,
   "metadata": {
    "collapsed": false,
    "deletable": true,
    "editable": true
   },
   "outputs": [],
   "source": [
    "doc2id = {value : key for key, value in doc_ids.items()}\n",
    "type2id = {value : key for key, value in id_types.items()}"
   ]
  },
  {
   "cell_type": "markdown",
   "metadata": {
    "deletable": true,
    "editable": true
   },
   "source": [
    "##### Remove Features"
   ]
  },
  {
   "cell_type": "markdown",
   "metadata": {
    "deletable": true,
    "editable": true
   },
   "source": [
    "type2id = {value : key for key, value in id_types.items()}\n",
    "sparse_bow_collapsed = sparse_bow.groupby(sparse_bow.index.get_level_values('token_id')).sum()"
   ]
  },
  {
   "cell_type": "markdown",
   "metadata": {
    "deletable": true,
    "editable": true
   },
   "source": [
    "sparse_bow_hapax = sparse_bow_collapsed.loc[sparse_bow_collapsed[0] == 1]\n",
    "hapax = [type2id[key] for key in sparse_bow_hapax.index.get_level_values('token_id')]"
   ]
  },
  {
   "cell_type": "markdown",
   "metadata": {
    "deletable": true,
    "editable": true
   },
   "source": [
    "len(hapax)"
   ]
  },
  {
   "cell_type": "code",
   "execution_count": 14,
   "metadata": {
    "collapsed": false,
    "deletable": true,
    "editable": true
   },
   "outputs": [],
   "source": [
    "import os.path\n",
    "basepath = os.path.abspath('.')\n",
    "\n",
    "with open(os.path.join(basepath, \"tutorial_supplementals\", \"stopwords\", \"de.txt\"), 'r', encoding = 'utf-8') as f: \n",
    "    stopword_list = f.read().split('\\n')\n",
    "    \n",
    "stopword_list = set(stopword_list)"
   ]
  },
  {
   "cell_type": "code",
   "execution_count": 15,
   "metadata": {
    "collapsed": false,
    "deletable": true,
    "editable": true
   },
   "outputs": [
    {
     "name": "stderr",
     "output_type": "stream",
     "text": [
      "INFO preprocessing: Finding hapax legomena ...\n",
      "INFO preprocessing: Finding stopwords ...\n",
      "INFO preprocessing: Removing features ...\n"
     ]
    }
   ],
   "source": [
    "hapax_from_remove = pre.find_hapax(sparse_bow, id_types)\n",
    "stopwords_from_remove = pre.find_stopwords(sparse_bow, id_types, mfw=75)\n",
    "\n",
    "#features_to_be_removed = set(hapax_from_remove + stopwords_from_remove)\n",
    "features_to_be_removed = stopwords_from_remove\n",
    "\n",
    "sparse_bow_short = pre.remove_features(sparse_bow, id_types, features_to_be_removed)"
   ]
  },
  {
   "cell_type": "code",
   "execution_count": 16,
   "metadata": {
    "collapsed": false,
    "deletable": true,
    "editable": true
   },
   "outputs": [
    {
     "data": {
      "text/plain": [
       "75"
      ]
     },
     "execution_count": 16,
     "metadata": {},
     "output_type": "execute_result"
    }
   ],
   "source": [
    "len(features_to_be_removed)"
   ]
  },
  {
   "cell_type": "code",
   "execution_count": 17,
   "metadata": {
    "collapsed": false,
    "deletable": true,
    "editable": true
   },
   "outputs": [],
   "source": [
    "pre.save_sparse_bow(sparse_bow_short, \"gensim_txt\")"
   ]
  },
  {
   "cell_type": "code",
   "execution_count": 18,
   "metadata": {
    "collapsed": false,
    "deletable": true,
    "editable": true
   },
   "outputs": [
    {
     "name": "stderr",
     "output_type": "stream",
     "text": [
      "INFO gensim.matutils: initializing corpus reader from gensim_txt.mm\n",
      "INFO gensim.matutils: accepted corpus with 17 documents, 22232 features, 369906 non-zero entries\n"
     ]
    }
   ],
   "source": [
    "mm = MmCorpus(\"gensim_txt.mm\")"
   ]
  },
  {
   "cell_type": "markdown",
   "metadata": {
    "deletable": true,
    "editable": true
   },
   "source": [
    "#### Convert sparse_bow to list of (doc, tokens) tuples (like doc2bow)"
   ]
  },
  {
   "cell_type": "code",
   "execution_count": 19,
   "metadata": {
    "collapsed": false,
    "deletable": true,
    "editable": true
   },
   "outputs": [],
   "source": [
    "doc2bow_list = []\n",
    "\n",
    "for doc in sparse_bow_short.index.groupby(sparse_bow_short.index.get_level_values('doc_id')):\n",
    "    temp = [(token, count) for token, count in zip(sparse_bow_short.loc[doc].index, sparse_bow_short.loc[doc][0])]\n",
    "    doc2bow_list.append(temp)"
   ]
  },
  {
   "cell_type": "code",
   "execution_count": 20,
   "metadata": {
    "collapsed": false,
    "deletable": true,
    "editable": true
   },
   "outputs": [
    {
     "data": {
      "text/plain": [
       "17"
      ]
     },
     "execution_count": 20,
     "metadata": {},
     "output_type": "execute_result"
    }
   ],
   "source": [
    "len(doc2bow_list)"
   ]
  },
  {
   "cell_type": "code",
   "execution_count": 21,
   "metadata": {
    "collapsed": false,
    "deletable": true,
    "editable": true
   },
   "outputs": [
    {
     "name": "stderr",
     "output_type": "stream",
     "text": [
      "INFO gensim.models.ldamodel: using symmetric alpha at 0.05\n",
      "INFO gensim.models.ldamodel: using symmetric eta at 4.49781855799937e-05\n",
      "INFO gensim.models.ldamodel: using serial LDA version on this node\n",
      "INFO gensim.models.ldamodel: running online LDA training, 20 topics, 10 passes over the supplied corpus of 17 documents, updating model once every 17 documents, evaluating perplexity every 17 documents, iterating 20x with a convergence threshold of 0.001000\n",
      "INFO gensim.models.ldamodel: -12.542 per-word bound, 5961.7 perplexity estimate based on a held-out corpus of 17 documents with 369906 words\n",
      "INFO gensim.models.ldamodel: PROGRESS: pass 0, at document #17/17\n",
      "INFO gensim.models.ldamodel: topic #18 (0.050): 0.058*\"decidedly\" + 0.031*\"appertain\" + 0.031*\"invaluable\" + 0.025*\"cease\" + 0.015*\"grovelling\" + 0.011*\"namelessly\" + 0.011*\"vowed\" + 0.010*\"flickered\" + 0.010*\"village-alive\" + 0.010*\"outwitted\"\n",
      "INFO gensim.models.ldamodel: topic #0 (0.050): 0.066*\"decidedly\" + 0.032*\"appertain\" + 0.027*\"cease\" + 0.023*\"invaluable\" + 0.017*\"namelessly\" + 0.015*\"vine-shaded\" + 0.012*\"vowed\" + 0.012*\"grovelling\" + 0.011*\"ascended\" + 0.010*\"village-alive\"\n",
      "INFO gensim.models.ldamodel: topic #12 (0.050): 0.052*\"decidedly\" + 0.037*\"appertain\" + 0.024*\"invaluable\" + 0.019*\"cease\" + 0.015*\"vowed\" + 0.014*\"namelessly\" + 0.014*\"vine-shaded\" + 0.014*\"grovelling\" + 0.010*\"ascended\" + 0.009*\"flickered\"\n",
      "INFO gensim.models.ldamodel: topic #9 (0.050): 0.071*\"decidedly\" + 0.032*\"invaluable\" + 0.031*\"appertain\" + 0.027*\"cease\" + 0.016*\"grovelling\" + 0.015*\"vowed\" + 0.014*\"village-alive\" + 0.012*\"namelessly\" + 0.011*\"vine-shaded\" + 0.010*\"flickered\"\n",
      "INFO gensim.models.ldamodel: topic #4 (0.050): 0.054*\"decidedly\" + 0.033*\"invaluable\" + 0.030*\"appertain\" + 0.019*\"grovelling\" + 0.018*\"cease\" + 0.015*\"vowed\" + 0.015*\"namelessly\" + 0.011*\"village-alive\" + 0.010*\"exhibitions\" + 0.010*\"vine-shaded\"\n",
      "INFO gensim.models.ldamodel: topic diff=6.502449, rho=1.000000\n",
      "INFO gensim.models.ldamodel: -8.145 per-word bound, 283.0 perplexity estimate based on a held-out corpus of 17 documents with 369906 words\n",
      "INFO gensim.models.ldamodel: PROGRESS: pass 1, at document #17/17\n",
      "INFO gensim.models.ldamodel: topic #13 (0.050): 0.067*\"decidedly\" + 0.028*\"appertain\" + 0.027*\"invaluable\" + 0.023*\"cease\" + 0.014*\"grovelling\" + 0.012*\"village-alive\" + 0.011*\"namelessly\" + 0.009*\"friendship\" + 0.009*\"vowed\" + 0.009*\"vine-shaded\"\n",
      "INFO gensim.models.ldamodel: topic #6 (0.050): 0.043*\"decidedly\" + 0.025*\"invaluable\" + 0.022*\"appertain\" + 0.015*\"cease\" + 0.014*\"grovelling\" + 0.011*\"namelessly\" + 0.011*\"vine-shaded\" + 0.010*\"vowed\" + 0.008*\"flickered\" + 0.008*\"ascended\"\n",
      "INFO gensim.models.ldamodel: topic #0 (0.050): 0.062*\"decidedly\" + 0.030*\"appertain\" + 0.027*\"cease\" + 0.021*\"invaluable\" + 0.016*\"namelessly\" + 0.016*\"vine-shaded\" + 0.012*\"vowed\" + 0.012*\"grovelling\" + 0.010*\"ascended\" + 0.010*\"robert\"\n",
      "INFO gensim.models.ldamodel: topic #17 (0.050): 0.048*\"decidedly\" + 0.029*\"appertain\" + 0.019*\"invaluable\" + 0.018*\"cease\" + 0.014*\"grovelling\" + 0.013*\"namelessly\" + 0.010*\"vine-shaded\" + 0.009*\"vowed\" + 0.008*\"ascended\" + 0.008*\"flickered\"\n",
      "INFO gensim.models.ldamodel: topic #15 (0.050): 0.050*\"decidedly\" + 0.026*\"invaluable\" + 0.022*\"appertain\" + 0.018*\"cease\" + 0.012*\"grovelling\" + 0.012*\"vowed\" + 0.011*\"village-alive\" + 0.010*\"vine-shaded\" + 0.008*\"namelessly\" + 0.008*\"friendship\"\n",
      "INFO gensim.models.ldamodel: topic diff=2.457180, rho=0.577350\n",
      "INFO gensim.models.ldamodel: -7.665 per-word bound, 203.0 perplexity estimate based on a held-out corpus of 17 documents with 369906 words\n",
      "INFO gensim.models.ldamodel: PROGRESS: pass 2, at document #17/17\n",
      "INFO gensim.models.ldamodel: topic #5 (0.050): 0.059*\"decidedly\" + 0.040*\"invaluable\" + 0.030*\"appertain\" + 0.024*\"cease\" + 0.019*\"grovelling\" + 0.014*\"namelessly\" + 0.013*\"village-alive\" + 0.012*\"vowed\" + 0.010*\"ascended\" + 0.009*\"vine-shaded\"\n",
      "INFO gensim.models.ldamodel: topic #13 (0.050): 0.059*\"decidedly\" + 0.025*\"appertain\" + 0.024*\"invaluable\" + 0.020*\"cease\" + 0.012*\"grovelling\" + 0.010*\"village-alive\" + 0.009*\"namelessly\" + 0.008*\"friendship\" + 0.008*\"vowed\" + 0.008*\"vine-shaded\"\n",
      "INFO gensim.models.ldamodel: topic #2 (0.050): 0.047*\"decidedly\" + 0.033*\"cease\" + 0.030*\"appertain\" + 0.029*\"invaluable\" + 0.018*\"grovelling\" + 0.014*\"namelessly\" + 0.011*\"vine-shaded\" + 0.011*\"friendship\" + 0.010*\"flickered\" + 0.010*\"vowed\"\n",
      "INFO gensim.models.ldamodel: topic #18 (0.050): 0.050*\"decidedly\" + 0.027*\"invaluable\" + 0.027*\"appertain\" + 0.021*\"cease\" + 0.013*\"grovelling\" + 0.009*\"namelessly\" + 0.008*\"outwitted\" + 0.008*\"vowed\" + 0.008*\"village-alive\" + 0.008*\"vine-shaded\"\n",
      "INFO gensim.models.ldamodel: topic #14 (0.050): 0.054*\"decidedly\" + 0.032*\"appertain\" + 0.029*\"invaluable\" + 0.016*\"cease\" + 0.015*\"namelessly\" + 0.014*\"vowed\" + 0.013*\"grovelling\" + 0.013*\"flickered\" + 0.013*\"vine-shaded\" + 0.011*\"friendship\"\n",
      "INFO gensim.models.ldamodel: topic diff=1.962158, rho=0.500000\n",
      "INFO gensim.models.ldamodel: -7.417 per-word bound, 170.8 perplexity estimate based on a held-out corpus of 17 documents with 369906 words\n",
      "INFO gensim.models.ldamodel: PROGRESS: pass 3, at document #17/17\n",
      "INFO gensim.models.ldamodel: topic #17 (0.050): 0.030*\"decidedly\" + 0.018*\"appertain\" + 0.012*\"invaluable\" + 0.011*\"cease\" + 0.009*\"grovelling\" + 0.008*\"namelessly\" + 0.006*\"vine-shaded\" + 0.006*\"vowed\" + 0.005*\"ascended\" + 0.005*\"flickered\"\n",
      "INFO gensim.models.ldamodel: topic #8 (0.050): 0.028*\"decidedly\" + 0.018*\"invaluable\" + 0.013*\"appertain\" + 0.010*\"cease\" + 0.008*\"grovelling\" + 0.007*\"vowed\" + 0.007*\"village-alive\" + 0.006*\"namelessly\" + 0.006*\"vine-shaded\" + 0.005*\"flickered\"\n",
      "INFO gensim.models.ldamodel: topic #12 (0.050): 0.043*\"appertain\" + 0.040*\"decidedly\" + 0.026*\"vowed\" + 0.019*\"refracted\" + 0.018*\"cease\" + 0.016*\"invaluable\" + 0.015*\"vine-shaded\" + 0.010*\"namelessly\" + 0.010*\"flickered\" + 0.009*\"grovelling\"\n",
      "INFO gensim.models.ldamodel: topic #11 (0.050): 0.069*\"decidedly\" + 0.039*\"appertain\" + 0.027*\"cease\" + 0.022*\"invaluable\" + 0.016*\"vowed\" + 0.016*\"grovelling\" + 0.015*\"namelessly\" + 0.014*\"vine-shaded\" + 0.012*\"flickered\" + 0.011*\"village-alive\"\n",
      "INFO gensim.models.ldamodel: topic #10 (0.050): 0.064*\"decidedly\" + 0.029*\"appertain\" + 0.028*\"invaluable\" + 0.021*\"cease\" + 0.019*\"vowed\" + 0.016*\"namelessly\" + 0.015*\"grovelling\" + 0.015*\"flickered\" + 0.014*\"village-alive\" + 0.014*\"vine-shaded\"\n",
      "INFO gensim.models.ldamodel: topic diff=1.455649, rho=0.447214\n",
      "INFO gensim.models.ldamodel: -7.280 per-word bound, 155.4 perplexity estimate based on a held-out corpus of 17 documents with 369906 words\n",
      "INFO gensim.models.ldamodel: PROGRESS: pass 4, at document #17/17\n",
      "INFO gensim.models.ldamodel: topic #12 (0.050): 0.043*\"appertain\" + 0.035*\"decidedly\" + 0.028*\"vowed\" + 0.022*\"refracted\" + 0.018*\"cease\" + 0.015*\"vine-shaded\" + 0.014*\"invaluable\" + 0.010*\"flickered\" + 0.010*\"namelessly\" + 0.009*\"princess\"\n",
      "INFO gensim.models.ldamodel: topic #9 (0.050): 0.072*\"decidedly\" + 0.037*\"invaluable\" + 0.035*\"appertain\" + 0.022*\"cease\" + 0.016*\"grovelling\" + 0.013*\"friendship\" + 0.012*\"vine-shaded\" + 0.011*\"robert\" + 0.011*\"namelessly\" + 0.009*\"village-alive\"\n",
      "INFO gensim.models.ldamodel: topic #14 (0.050): 0.041*\"decidedly\" + 0.025*\"appertain\" + 0.022*\"invaluable\" + 0.012*\"cease\" + 0.012*\"namelessly\" + 0.011*\"vowed\" + 0.010*\"grovelling\" + 0.010*\"flickered\" + 0.010*\"vine-shaded\" + 0.008*\"friendship\"\n",
      "INFO gensim.models.ldamodel: topic #3 (0.050): 0.047*\"decidedly\" + 0.019*\"invaluable\" + 0.017*\"appertain\" + 0.015*\"cease\" + 0.011*\"grovelling\" + 0.010*\"vowed\" + 0.008*\"mantel-piece\" + 0.008*\"namelessly\" + 0.007*\"village-alive\" + 0.006*\"vine-shaded\"\n",
      "INFO gensim.models.ldamodel: topic #19 (0.050): 0.028*\"decidedly\" + 0.017*\"appertain\" + 0.015*\"invaluable\" + 0.014*\"cease\" + 0.011*\"vowed\" + 0.009*\"grovelling\" + 0.008*\"namelessly\" + 0.008*\"village-alive\" + 0.006*\"vine-shaded\" + 0.005*\"refracted\"\n",
      "INFO gensim.models.ldamodel: topic diff=1.079668, rho=0.408248\n",
      "INFO gensim.models.ldamodel: -7.195 per-word bound, 146.5 perplexity estimate based on a held-out corpus of 17 documents with 369906 words\n",
      "INFO gensim.models.ldamodel: PROGRESS: pass 5, at document #17/17\n",
      "INFO gensim.models.ldamodel: topic #19 (0.050): 0.022*\"decidedly\" + 0.013*\"appertain\" + 0.012*\"invaluable\" + 0.011*\"cease\" + 0.008*\"vowed\" + 0.007*\"grovelling\" + 0.006*\"namelessly\" + 0.006*\"village-alive\" + 0.005*\"vine-shaded\" + 0.004*\"refracted\"\n",
      "INFO gensim.models.ldamodel: topic #13 (0.050): 0.032*\"decidedly\" + 0.013*\"appertain\" + 0.013*\"invaluable\" + 0.011*\"cease\" + 0.006*\"grovelling\" + 0.006*\"village-alive\" + 0.005*\"namelessly\" + 0.005*\"friendship\" + 0.004*\"vowed\" + 0.004*\"vine-shaded\"\n",
      "INFO gensim.models.ldamodel: topic #2 (0.050): 0.031*\"decidedly\" + 0.021*\"cease\" + 0.020*\"appertain\" + 0.019*\"invaluable\" + 0.012*\"grovelling\" + 0.009*\"namelessly\" + 0.007*\"vine-shaded\" + 0.007*\"friendship\" + 0.006*\"flickered\" + 0.006*\"vowed\"\n",
      "INFO gensim.models.ldamodel: topic #11 (0.050): 0.070*\"decidedly\" + 0.041*\"appertain\" + 0.026*\"cease\" + 0.023*\"invaluable\" + 0.019*\"vowed\" + 0.015*\"grovelling\" + 0.015*\"namelessly\" + 0.014*\"flickered\" + 0.013*\"vine-shaded\" + 0.010*\"village-alive\"\n",
      "INFO gensim.models.ldamodel: topic #10 (0.050): 0.063*\"decidedly\" + 0.029*\"appertain\" + 0.027*\"invaluable\" + 0.022*\"cease\" + 0.019*\"vowed\" + 0.016*\"namelessly\" + 0.016*\"flickered\" + 0.016*\"grovelling\" + 0.015*\"village-alive\" + 0.015*\"vine-shaded\"\n",
      "INFO gensim.models.ldamodel: topic diff=0.808197, rho=0.377964\n",
      "INFO gensim.models.ldamodel: -7.139 per-word bound, 141.0 perplexity estimate based on a held-out corpus of 17 documents with 369906 words\n",
      "INFO gensim.models.ldamodel: PROGRESS: pass 6, at document #17/17\n",
      "INFO gensim.models.ldamodel: topic #13 (0.050): 0.024*\"decidedly\" + 0.010*\"appertain\" + 0.010*\"invaluable\" + 0.008*\"cease\" + 0.005*\"grovelling\" + 0.004*\"village-alive\" + 0.004*\"namelessly\" + 0.003*\"friendship\" + 0.003*\"vowed\" + 0.003*\"vine-shaded\"\n",
      "INFO gensim.models.ldamodel: topic #14 (0.050): 0.027*\"decidedly\" + 0.016*\"appertain\" + 0.015*\"invaluable\" + 0.008*\"cease\" + 0.008*\"namelessly\" + 0.007*\"vowed\" + 0.007*\"grovelling\" + 0.006*\"flickered\" + 0.006*\"vine-shaded\" + 0.005*\"friendship\"\n",
      "INFO gensim.models.ldamodel: topic #12 (0.050): 0.041*\"appertain\" + 0.028*\"vowed\" + 0.027*\"decidedly\" + 0.026*\"refracted\" + 0.017*\"cease\" + 0.016*\"vine-shaded\" + 0.012*\"invaluable\" + 0.011*\"meshes\" + 0.010*\"sit-up\" + 0.009*\"flickered\"\n",
      "INFO gensim.models.ldamodel: topic #11 (0.050): 0.069*\"decidedly\" + 0.042*\"appertain\" + 0.025*\"cease\" + 0.023*\"invaluable\" + 0.020*\"vowed\" + 0.015*\"grovelling\" + 0.014*\"namelessly\" + 0.014*\"flickered\" + 0.013*\"vine-shaded\" + 0.009*\"village-alive\"\n",
      "INFO gensim.models.ldamodel: topic #16 (0.050): 0.018*\"decidedly\" + 0.009*\"invaluable\" + 0.008*\"appertain\" + 0.006*\"cease\" + 0.006*\"vowed\" + 0.006*\"grovelling\" + 0.005*\"vine-shaded\" + 0.005*\"namelessly\" + 0.004*\"village-alive\" + 0.004*\"flickered\"\n",
      "INFO gensim.models.ldamodel: topic diff=0.612289, rho=0.353553\n",
      "INFO gensim.models.ldamodel: -7.102 per-word bound, 137.4 perplexity estimate based on a held-out corpus of 17 documents with 369906 words\n",
      "INFO gensim.models.ldamodel: PROGRESS: pass 7, at document #17/17\n",
      "INFO gensim.models.ldamodel: topic #8 (0.050): 0.007*\"decidedly\" + 0.005*\"invaluable\" + 0.003*\"appertain\" + 0.003*\"cease\" + 0.002*\"grovelling\" + 0.002*\"vowed\" + 0.002*\"village-alive\" + 0.002*\"namelessly\" + 0.002*\"vine-shaded\" + 0.001*\"flickered\"\n",
      "INFO gensim.models.ldamodel: topic #16 (0.050): 0.014*\"decidedly\" + 0.007*\"invaluable\" + 0.006*\"appertain\" + 0.005*\"cease\" + 0.005*\"vowed\" + 0.004*\"grovelling\" + 0.004*\"vine-shaded\" + 0.003*\"namelessly\" + 0.003*\"village-alive\" + 0.003*\"flickered\"\n",
      "INFO gensim.models.ldamodel: topic #4 (0.050): 0.016*\"decidedly\" + 0.010*\"invaluable\" + 0.009*\"appertain\" + 0.006*\"grovelling\" + 0.005*\"cease\" + 0.005*\"vowed\" + 0.005*\"namelessly\" + 0.003*\"village-alive\" + 0.003*\"mantel-piece\" + 0.003*\"vine-shaded\"\n",
      "INFO gensim.models.ldamodel: topic #14 (0.050): 0.021*\"decidedly\" + 0.013*\"appertain\" + 0.012*\"invaluable\" + 0.006*\"cease\" + 0.006*\"namelessly\" + 0.006*\"vowed\" + 0.005*\"grovelling\" + 0.005*\"flickered\" + 0.005*\"vine-shaded\" + 0.004*\"friendship\"\n",
      "INFO gensim.models.ldamodel: topic #17 (0.050): 0.008*\"decidedly\" + 0.005*\"appertain\" + 0.003*\"invaluable\" + 0.003*\"cease\" + 0.002*\"grovelling\" + 0.002*\"namelessly\" + 0.002*\"vine-shaded\" + 0.002*\"vowed\" + 0.001*\"ascended\" + 0.001*\"flickered\"\n",
      "INFO gensim.models.ldamodel: topic diff=0.469262, rho=0.333333\n",
      "INFO gensim.models.ldamodel: -7.076 per-word bound, 134.9 perplexity estimate based on a held-out corpus of 17 documents with 369906 words\n",
      "INFO gensim.models.ldamodel: PROGRESS: pass 8, at document #17/17\n",
      "INFO gensim.models.ldamodel: topic #17 (0.050): 0.006*\"decidedly\" + 0.004*\"appertain\" + 0.002*\"invaluable\" + 0.002*\"cease\" + 0.002*\"grovelling\" + 0.002*\"namelessly\" + 0.001*\"vine-shaded\" + 0.001*\"vowed\" + 0.001*\"ascended\" + 0.001*\"flickered\"\n",
      "INFO gensim.models.ldamodel: topic #4 (0.050): 0.012*\"decidedly\" + 0.007*\"invaluable\" + 0.007*\"appertain\" + 0.004*\"grovelling\" + 0.004*\"cease\" + 0.004*\"vowed\" + 0.004*\"namelessly\" + 0.002*\"village-alive\" + 0.002*\"mantel-piece\" + 0.002*\"vine-shaded\"\n",
      "INFO gensim.models.ldamodel: topic #1 (0.050): 0.011*\"decidedly\" + 0.006*\"appertain\" + 0.004*\"invaluable\" + 0.004*\"cease\" + 0.003*\"vowed\" + 0.003*\"grovelling\" + 0.003*\"vine-shaded\" + 0.002*\"flickered\" + 0.002*\"village-alive\" + 0.002*\"namelessly\"\n",
      "INFO gensim.models.ldamodel: topic #2 (0.050): 0.015*\"decidedly\" + 0.011*\"cease\" + 0.010*\"appertain\" + 0.009*\"invaluable\" + 0.006*\"grovelling\" + 0.004*\"namelessly\" + 0.004*\"vine-shaded\" + 0.003*\"friendship\" + 0.003*\"flickered\" + 0.003*\"vowed\"\n",
      "INFO gensim.models.ldamodel: topic #3 (0.050): 0.017*\"decidedly\" + 0.007*\"invaluable\" + 0.006*\"appertain\" + 0.005*\"cease\" + 0.004*\"grovelling\" + 0.004*\"vowed\" + 0.003*\"mantel-piece\" + 0.003*\"namelessly\" + 0.002*\"village-alive\" + 0.002*\"vine-shaded\"\n",
      "INFO gensim.models.ldamodel: topic diff=0.363085, rho=0.316228\n",
      "INFO gensim.models.ldamodel: -7.058 per-word bound, 133.2 perplexity estimate based on a held-out corpus of 17 documents with 369906 words\n",
      "INFO gensim.models.ldamodel: PROGRESS: pass 9, at document #17/17\n",
      "INFO gensim.models.ldamodel: topic #3 (0.050): 0.013*\"decidedly\" + 0.005*\"invaluable\" + 0.005*\"appertain\" + 0.004*\"cease\" + 0.003*\"grovelling\" + 0.003*\"vowed\" + 0.002*\"mantel-piece\" + 0.002*\"namelessly\" + 0.002*\"village-alive\" + 0.002*\"vine-shaded\"\n",
      "INFO gensim.models.ldamodel: topic #10 (0.050): 0.062*\"decidedly\" + 0.029*\"appertain\" + 0.027*\"invaluable\" + 0.022*\"cease\" + 0.019*\"vowed\" + 0.017*\"flickered\" + 0.016*\"namelessly\" + 0.016*\"grovelling\" + 0.016*\"vine-shaded\" + 0.015*\"village-alive\"\n",
      "INFO gensim.models.ldamodel: topic #1 (0.050): 0.008*\"decidedly\" + 0.004*\"appertain\" + 0.003*\"invaluable\" + 0.003*\"cease\" + 0.002*\"vowed\" + 0.002*\"grovelling\" + 0.002*\"vine-shaded\" + 0.002*\"flickered\" + 0.002*\"village-alive\" + 0.001*\"namelessly\"\n",
      "INFO gensim.models.ldamodel: topic #13 (0.050): 0.010*\"decidedly\" + 0.004*\"appertain\" + 0.004*\"invaluable\" + 0.003*\"cease\" + 0.002*\"grovelling\" + 0.002*\"village-alive\" + 0.002*\"namelessly\" + 0.001*\"friendship\" + 0.001*\"vowed\" + 0.001*\"vine-shaded\"\n",
      "INFO gensim.models.ldamodel: topic #17 (0.050): 0.004*\"decidedly\" + 0.003*\"appertain\" + 0.002*\"invaluable\" + 0.002*\"cease\" + 0.001*\"grovelling\" + 0.001*\"namelessly\" + 0.001*\"vine-shaded\" + 0.001*\"vowed\" + 0.001*\"ascended\" + 0.001*\"flickered\"\n",
      "INFO gensim.models.ldamodel: topic diff=0.283172, rho=0.301511\n"
     ]
    }
   ],
   "source": [
    "model = LdaModel(corpus=mm, id2word=type2id, num_topics=20, passes = 10, iterations = 20)"
   ]
  },
  {
   "cell_type": "code",
   "execution_count": 22,
   "metadata": {
    "collapsed": false,
    "deletable": true,
    "editable": true
   },
   "outputs": [
    {
     "data": {
      "text/plain": [
       "[(5, 0.48155632419791006),\n",
       " (7, 0.015074485821617953),\n",
       " (9, 0.14674192638340758),\n",
       " (10, 0.19320042554799227),\n",
       " (11, 0.15558887034794608)]"
      ]
     },
     "execution_count": 22,
     "metadata": {},
     "output_type": "execute_result"
    }
   ],
   "source": [
    "model.get_document_topics(doc2bow_list[1])"
   ]
  },
  {
   "cell_type": "code",
   "execution_count": 23,
   "metadata": {
    "collapsed": false,
    "deletable": true,
    "editable": true
   },
   "outputs": [
    {
     "data": {
      "text/plain": [
       "['decidedly',\n",
       " 'appertain',\n",
       " 'invaluable',\n",
       " 'cease',\n",
       " 'vowed',\n",
       " 'grovelling',\n",
       " 'vine-shaded',\n",
       " 'flickered',\n",
       " 'village-alive',\n",
       " 'namelessly']"
      ]
     },
     "execution_count": 23,
     "metadata": {},
     "output_type": "execute_result"
    }
   ],
   "source": [
    "#Anzeige der keywords für topic n\n",
    "n = 1\n",
    "topic_nr_x = model.get_topic_terms(n)\n",
    "\n",
    "topicTerms = [type2id[i[0]] for i in topic_nr_x]\n",
    "topicTerms"
   ]
  },
  {
   "cell_type": "code",
   "execution_count": 24,
   "metadata": {
    "collapsed": false,
    "deletable": true,
    "editable": true
   },
   "outputs": [
    {
     "data": {
      "text/html": [
       "<div>\n",
       "<table border=\"1\" class=\"dataframe\">\n",
       "  <thead>\n",
       "    <tr style=\"text-align: right;\">\n",
       "      <th></th>\n",
       "      <th>0</th>\n",
       "      <th>1</th>\n",
       "      <th>2</th>\n",
       "      <th>3</th>\n",
       "      <th>4</th>\n",
       "      <th>5</th>\n",
       "      <th>6</th>\n",
       "      <th>7</th>\n",
       "      <th>8</th>\n",
       "      <th>9</th>\n",
       "    </tr>\n",
       "  </thead>\n",
       "  <tbody>\n",
       "    <tr>\n",
       "      <th>0</th>\n",
       "      <td>decidedly</td>\n",
       "      <td>appertain</td>\n",
       "      <td>cease</td>\n",
       "      <td>invaluable</td>\n",
       "      <td>namelessly</td>\n",
       "      <td>vine-shaded</td>\n",
       "      <td>vowed</td>\n",
       "      <td>grovelling</td>\n",
       "      <td>ascended</td>\n",
       "      <td>robert</td>\n",
       "    </tr>\n",
       "    <tr>\n",
       "      <th>1</th>\n",
       "      <td>decidedly</td>\n",
       "      <td>appertain</td>\n",
       "      <td>invaluable</td>\n",
       "      <td>cease</td>\n",
       "      <td>vowed</td>\n",
       "      <td>grovelling</td>\n",
       "      <td>vine-shaded</td>\n",
       "      <td>flickered</td>\n",
       "      <td>village-alive</td>\n",
       "      <td>namelessly</td>\n",
       "    </tr>\n",
       "    <tr>\n",
       "      <th>2</th>\n",
       "      <td>decidedly</td>\n",
       "      <td>cease</td>\n",
       "      <td>appertain</td>\n",
       "      <td>invaluable</td>\n",
       "      <td>grovelling</td>\n",
       "      <td>namelessly</td>\n",
       "      <td>vine-shaded</td>\n",
       "      <td>friendship</td>\n",
       "      <td>flickered</td>\n",
       "      <td>vowed</td>\n",
       "    </tr>\n",
       "    <tr>\n",
       "      <th>3</th>\n",
       "      <td>decidedly</td>\n",
       "      <td>invaluable</td>\n",
       "      <td>appertain</td>\n",
       "      <td>cease</td>\n",
       "      <td>grovelling</td>\n",
       "      <td>vowed</td>\n",
       "      <td>mantel-piece</td>\n",
       "      <td>namelessly</td>\n",
       "      <td>village-alive</td>\n",
       "      <td>vine-shaded</td>\n",
       "    </tr>\n",
       "    <tr>\n",
       "      <th>4</th>\n",
       "      <td>decidedly</td>\n",
       "      <td>invaluable</td>\n",
       "      <td>appertain</td>\n",
       "      <td>grovelling</td>\n",
       "      <td>cease</td>\n",
       "      <td>vowed</td>\n",
       "      <td>namelessly</td>\n",
       "      <td>village-alive</td>\n",
       "      <td>mantel-piece</td>\n",
       "      <td>vine-shaded</td>\n",
       "    </tr>\n",
       "    <tr>\n",
       "      <th>5</th>\n",
       "      <td>decidedly</td>\n",
       "      <td>invaluable</td>\n",
       "      <td>cease</td>\n",
       "      <td>appertain</td>\n",
       "      <td>grovelling</td>\n",
       "      <td>namelessly</td>\n",
       "      <td>village-alive</td>\n",
       "      <td>ascended</td>\n",
       "      <td>outwitted</td>\n",
       "      <td>smoothed</td>\n",
       "    </tr>\n",
       "    <tr>\n",
       "      <th>6</th>\n",
       "      <td>decidedly</td>\n",
       "      <td>invaluable</td>\n",
       "      <td>appertain</td>\n",
       "      <td>cease</td>\n",
       "      <td>grovelling</td>\n",
       "      <td>namelessly</td>\n",
       "      <td>vine-shaded</td>\n",
       "      <td>vowed</td>\n",
       "      <td>flickered</td>\n",
       "      <td>ascended</td>\n",
       "    </tr>\n",
       "    <tr>\n",
       "      <th>7</th>\n",
       "      <td>decidedly</td>\n",
       "      <td>appertain</td>\n",
       "      <td>invaluable</td>\n",
       "      <td>cease</td>\n",
       "      <td>your-eye</td>\n",
       "      <td>tar-like</td>\n",
       "      <td>grovelling</td>\n",
       "      <td>vine-shaded</td>\n",
       "      <td>person</td>\n",
       "      <td>exhibitions</td>\n",
       "    </tr>\n",
       "    <tr>\n",
       "      <th>8</th>\n",
       "      <td>decidedly</td>\n",
       "      <td>invaluable</td>\n",
       "      <td>appertain</td>\n",
       "      <td>cease</td>\n",
       "      <td>grovelling</td>\n",
       "      <td>vowed</td>\n",
       "      <td>village-alive</td>\n",
       "      <td>namelessly</td>\n",
       "      <td>vine-shaded</td>\n",
       "      <td>flickered</td>\n",
       "    </tr>\n",
       "    <tr>\n",
       "      <th>9</th>\n",
       "      <td>decidedly</td>\n",
       "      <td>invaluable</td>\n",
       "      <td>appertain</td>\n",
       "      <td>cease</td>\n",
       "      <td>grovelling</td>\n",
       "      <td>friendship</td>\n",
       "      <td>robert</td>\n",
       "      <td>vine-shaded</td>\n",
       "      <td>namelessly</td>\n",
       "      <td>outwitted</td>\n",
       "    </tr>\n",
       "    <tr>\n",
       "      <th>10</th>\n",
       "      <td>decidedly</td>\n",
       "      <td>appertain</td>\n",
       "      <td>invaluable</td>\n",
       "      <td>cease</td>\n",
       "      <td>vowed</td>\n",
       "      <td>flickered</td>\n",
       "      <td>namelessly</td>\n",
       "      <td>grovelling</td>\n",
       "      <td>vine-shaded</td>\n",
       "      <td>village-alive</td>\n",
       "    </tr>\n",
       "    <tr>\n",
       "      <th>11</th>\n",
       "      <td>decidedly</td>\n",
       "      <td>appertain</td>\n",
       "      <td>cease</td>\n",
       "      <td>invaluable</td>\n",
       "      <td>vowed</td>\n",
       "      <td>flickered</td>\n",
       "      <td>grovelling</td>\n",
       "      <td>namelessly</td>\n",
       "      <td>vine-shaded</td>\n",
       "      <td>ben-sheep</td>\n",
       "    </tr>\n",
       "    <tr>\n",
       "      <th>12</th>\n",
       "      <td>appertain</td>\n",
       "      <td>vowed</td>\n",
       "      <td>refracted</td>\n",
       "      <td>decidedly</td>\n",
       "      <td>vine-shaded</td>\n",
       "      <td>cease</td>\n",
       "      <td>meshes</td>\n",
       "      <td>sit-up</td>\n",
       "      <td>penguin</td>\n",
       "      <td>invaluable</td>\n",
       "    </tr>\n",
       "    <tr>\n",
       "      <th>13</th>\n",
       "      <td>decidedly</td>\n",
       "      <td>appertain</td>\n",
       "      <td>invaluable</td>\n",
       "      <td>cease</td>\n",
       "      <td>grovelling</td>\n",
       "      <td>village-alive</td>\n",
       "      <td>namelessly</td>\n",
       "      <td>friendship</td>\n",
       "      <td>vowed</td>\n",
       "      <td>vine-shaded</td>\n",
       "    </tr>\n",
       "    <tr>\n",
       "      <th>14</th>\n",
       "      <td>decidedly</td>\n",
       "      <td>appertain</td>\n",
       "      <td>invaluable</td>\n",
       "      <td>cease</td>\n",
       "      <td>namelessly</td>\n",
       "      <td>vowed</td>\n",
       "      <td>grovelling</td>\n",
       "      <td>flickered</td>\n",
       "      <td>vine-shaded</td>\n",
       "      <td>friendship</td>\n",
       "    </tr>\n",
       "    <tr>\n",
       "      <th>15</th>\n",
       "      <td>decidedly</td>\n",
       "      <td>invaluable</td>\n",
       "      <td>appertain</td>\n",
       "      <td>cease</td>\n",
       "      <td>grovelling</td>\n",
       "      <td>vowed</td>\n",
       "      <td>village-alive</td>\n",
       "      <td>vine-shaded</td>\n",
       "      <td>namelessly</td>\n",
       "      <td>friendship</td>\n",
       "    </tr>\n",
       "    <tr>\n",
       "      <th>16</th>\n",
       "      <td>decidedly</td>\n",
       "      <td>invaluable</td>\n",
       "      <td>appertain</td>\n",
       "      <td>cease</td>\n",
       "      <td>vowed</td>\n",
       "      <td>grovelling</td>\n",
       "      <td>vine-shaded</td>\n",
       "      <td>namelessly</td>\n",
       "      <td>village-alive</td>\n",
       "      <td>flickered</td>\n",
       "    </tr>\n",
       "    <tr>\n",
       "      <th>17</th>\n",
       "      <td>decidedly</td>\n",
       "      <td>appertain</td>\n",
       "      <td>invaluable</td>\n",
       "      <td>cease</td>\n",
       "      <td>grovelling</td>\n",
       "      <td>namelessly</td>\n",
       "      <td>vine-shaded</td>\n",
       "      <td>vowed</td>\n",
       "      <td>ascended</td>\n",
       "      <td>flickered</td>\n",
       "    </tr>\n",
       "    <tr>\n",
       "      <th>18</th>\n",
       "      <td>decidedly</td>\n",
       "      <td>invaluable</td>\n",
       "      <td>appertain</td>\n",
       "      <td>cease</td>\n",
       "      <td>grovelling</td>\n",
       "      <td>namelessly</td>\n",
       "      <td>outwitted</td>\n",
       "      <td>vowed</td>\n",
       "      <td>village-alive</td>\n",
       "      <td>vine-shaded</td>\n",
       "    </tr>\n",
       "    <tr>\n",
       "      <th>19</th>\n",
       "      <td>decidedly</td>\n",
       "      <td>appertain</td>\n",
       "      <td>invaluable</td>\n",
       "      <td>cease</td>\n",
       "      <td>vowed</td>\n",
       "      <td>grovelling</td>\n",
       "      <td>namelessly</td>\n",
       "      <td>village-alive</td>\n",
       "      <td>vine-shaded</td>\n",
       "      <td>refracted</td>\n",
       "    </tr>\n",
       "  </tbody>\n",
       "</table>\n",
       "</div>"
      ],
      "text/plain": [
       "            0           1           2           3            4              5  \\\n",
       "0   decidedly   appertain       cease  invaluable   namelessly    vine-shaded   \n",
       "1   decidedly   appertain  invaluable       cease        vowed     grovelling   \n",
       "2   decidedly       cease   appertain  invaluable   grovelling     namelessly   \n",
       "3   decidedly  invaluable   appertain       cease   grovelling          vowed   \n",
       "4   decidedly  invaluable   appertain  grovelling        cease          vowed   \n",
       "5   decidedly  invaluable       cease   appertain   grovelling     namelessly   \n",
       "6   decidedly  invaluable   appertain       cease   grovelling     namelessly   \n",
       "7   decidedly   appertain  invaluable       cease     your-eye       tar-like   \n",
       "8   decidedly  invaluable   appertain       cease   grovelling          vowed   \n",
       "9   decidedly  invaluable   appertain       cease   grovelling     friendship   \n",
       "10  decidedly   appertain  invaluable       cease        vowed      flickered   \n",
       "11  decidedly   appertain       cease  invaluable        vowed      flickered   \n",
       "12  appertain       vowed   refracted   decidedly  vine-shaded          cease   \n",
       "13  decidedly   appertain  invaluable       cease   grovelling  village-alive   \n",
       "14  decidedly   appertain  invaluable       cease   namelessly          vowed   \n",
       "15  decidedly  invaluable   appertain       cease   grovelling          vowed   \n",
       "16  decidedly  invaluable   appertain       cease        vowed     grovelling   \n",
       "17  decidedly   appertain  invaluable       cease   grovelling     namelessly   \n",
       "18  decidedly  invaluable   appertain       cease   grovelling     namelessly   \n",
       "19  decidedly   appertain  invaluable       cease        vowed     grovelling   \n",
       "\n",
       "                6              7              8              9  \n",
       "0           vowed     grovelling       ascended         robert  \n",
       "1     vine-shaded      flickered  village-alive     namelessly  \n",
       "2     vine-shaded     friendship      flickered          vowed  \n",
       "3    mantel-piece     namelessly  village-alive    vine-shaded  \n",
       "4      namelessly  village-alive   mantel-piece    vine-shaded  \n",
       "5   village-alive       ascended      outwitted       smoothed  \n",
       "6     vine-shaded          vowed      flickered       ascended  \n",
       "7      grovelling    vine-shaded         person    exhibitions  \n",
       "8   village-alive     namelessly    vine-shaded      flickered  \n",
       "9          robert    vine-shaded     namelessly      outwitted  \n",
       "10     namelessly     grovelling    vine-shaded  village-alive  \n",
       "11     grovelling     namelessly    vine-shaded      ben-sheep  \n",
       "12         meshes         sit-up        penguin     invaluable  \n",
       "13     namelessly     friendship          vowed    vine-shaded  \n",
       "14     grovelling      flickered    vine-shaded     friendship  \n",
       "15  village-alive    vine-shaded     namelessly     friendship  \n",
       "16    vine-shaded     namelessly  village-alive      flickered  \n",
       "17    vine-shaded          vowed       ascended      flickered  \n",
       "18      outwitted          vowed  village-alive    vine-shaded  \n",
       "19     namelessly  village-alive    vine-shaded      refracted  "
      ]
     },
     "execution_count": 24,
     "metadata": {},
     "output_type": "execute_result"
    }
   ],
   "source": [
    "#Topic probabilities - zum Testen der Funktion\n",
    "topics = model.show_topics(num_topics = model.num_topics, formatted=False)\n",
    "keywords = []\n",
    "\n",
    "num_topics = model.num_topics\n",
    "topics_df = pre.pd.DataFrame(index = range(num_topics), columns= range(10))\n",
    "\n",
    "for topic, values in topics:\n",
    "    keyword = [value[0] for value in values]\n",
    "    topics_df.loc[topic] = keyword\n",
    "\n",
    "topics_df"
   ]
  },
  {
   "cell_type": "code",
   "execution_count": 25,
   "metadata": {
    "collapsed": false,
    "deletable": true,
    "editable": true
   },
   "outputs": [
    {
     "data": {
      "text/html": [
       "<div>\n",
       "<table border=\"1\" class=\"dataframe\">\n",
       "  <thead>\n",
       "    <tr style=\"text-align: right;\">\n",
       "      <th></th>\n",
       "      <th>0</th>\n",
       "      <th>1</th>\n",
       "      <th>2</th>\n",
       "      <th>3</th>\n",
       "      <th>4</th>\n",
       "      <th>5</th>\n",
       "      <th>6</th>\n",
       "      <th>7</th>\n",
       "      <th>8</th>\n",
       "      <th>9</th>\n",
       "    </tr>\n",
       "  </thead>\n",
       "  <tbody>\n",
       "    <tr>\n",
       "      <th>0</th>\n",
       "      <td>decidedly</td>\n",
       "      <td>appertain</td>\n",
       "      <td>cease</td>\n",
       "      <td>invaluable</td>\n",
       "      <td>namelessly</td>\n",
       "      <td>vine-shaded</td>\n",
       "      <td>vowed</td>\n",
       "      <td>grovelling</td>\n",
       "      <td>ascended</td>\n",
       "      <td>robert</td>\n",
       "    </tr>\n",
       "    <tr>\n",
       "      <th>1</th>\n",
       "      <td>decidedly</td>\n",
       "      <td>appertain</td>\n",
       "      <td>invaluable</td>\n",
       "      <td>cease</td>\n",
       "      <td>vowed</td>\n",
       "      <td>grovelling</td>\n",
       "      <td>vine-shaded</td>\n",
       "      <td>flickered</td>\n",
       "      <td>village-alive</td>\n",
       "      <td>namelessly</td>\n",
       "    </tr>\n",
       "    <tr>\n",
       "      <th>2</th>\n",
       "      <td>decidedly</td>\n",
       "      <td>cease</td>\n",
       "      <td>appertain</td>\n",
       "      <td>invaluable</td>\n",
       "      <td>grovelling</td>\n",
       "      <td>namelessly</td>\n",
       "      <td>vine-shaded</td>\n",
       "      <td>friendship</td>\n",
       "      <td>flickered</td>\n",
       "      <td>vowed</td>\n",
       "    </tr>\n",
       "    <tr>\n",
       "      <th>3</th>\n",
       "      <td>decidedly</td>\n",
       "      <td>invaluable</td>\n",
       "      <td>appertain</td>\n",
       "      <td>cease</td>\n",
       "      <td>grovelling</td>\n",
       "      <td>vowed</td>\n",
       "      <td>mantel-piece</td>\n",
       "      <td>namelessly</td>\n",
       "      <td>village-alive</td>\n",
       "      <td>vine-shaded</td>\n",
       "    </tr>\n",
       "    <tr>\n",
       "      <th>4</th>\n",
       "      <td>decidedly</td>\n",
       "      <td>invaluable</td>\n",
       "      <td>appertain</td>\n",
       "      <td>grovelling</td>\n",
       "      <td>cease</td>\n",
       "      <td>vowed</td>\n",
       "      <td>namelessly</td>\n",
       "      <td>village-alive</td>\n",
       "      <td>mantel-piece</td>\n",
       "      <td>vine-shaded</td>\n",
       "    </tr>\n",
       "    <tr>\n",
       "      <th>5</th>\n",
       "      <td>decidedly</td>\n",
       "      <td>invaluable</td>\n",
       "      <td>cease</td>\n",
       "      <td>appertain</td>\n",
       "      <td>grovelling</td>\n",
       "      <td>namelessly</td>\n",
       "      <td>village-alive</td>\n",
       "      <td>ascended</td>\n",
       "      <td>outwitted</td>\n",
       "      <td>smoothed</td>\n",
       "    </tr>\n",
       "    <tr>\n",
       "      <th>6</th>\n",
       "      <td>decidedly</td>\n",
       "      <td>invaluable</td>\n",
       "      <td>appertain</td>\n",
       "      <td>cease</td>\n",
       "      <td>grovelling</td>\n",
       "      <td>namelessly</td>\n",
       "      <td>vine-shaded</td>\n",
       "      <td>vowed</td>\n",
       "      <td>flickered</td>\n",
       "      <td>ascended</td>\n",
       "    </tr>\n",
       "    <tr>\n",
       "      <th>7</th>\n",
       "      <td>decidedly</td>\n",
       "      <td>appertain</td>\n",
       "      <td>invaluable</td>\n",
       "      <td>cease</td>\n",
       "      <td>your-eye</td>\n",
       "      <td>tar-like</td>\n",
       "      <td>grovelling</td>\n",
       "      <td>vine-shaded</td>\n",
       "      <td>person</td>\n",
       "      <td>exhibitions</td>\n",
       "    </tr>\n",
       "    <tr>\n",
       "      <th>8</th>\n",
       "      <td>decidedly</td>\n",
       "      <td>invaluable</td>\n",
       "      <td>appertain</td>\n",
       "      <td>cease</td>\n",
       "      <td>grovelling</td>\n",
       "      <td>vowed</td>\n",
       "      <td>village-alive</td>\n",
       "      <td>namelessly</td>\n",
       "      <td>vine-shaded</td>\n",
       "      <td>flickered</td>\n",
       "    </tr>\n",
       "    <tr>\n",
       "      <th>9</th>\n",
       "      <td>decidedly</td>\n",
       "      <td>invaluable</td>\n",
       "      <td>appertain</td>\n",
       "      <td>cease</td>\n",
       "      <td>grovelling</td>\n",
       "      <td>friendship</td>\n",
       "      <td>robert</td>\n",
       "      <td>vine-shaded</td>\n",
       "      <td>namelessly</td>\n",
       "      <td>outwitted</td>\n",
       "    </tr>\n",
       "    <tr>\n",
       "      <th>10</th>\n",
       "      <td>decidedly</td>\n",
       "      <td>appertain</td>\n",
       "      <td>invaluable</td>\n",
       "      <td>cease</td>\n",
       "      <td>vowed</td>\n",
       "      <td>flickered</td>\n",
       "      <td>namelessly</td>\n",
       "      <td>grovelling</td>\n",
       "      <td>vine-shaded</td>\n",
       "      <td>village-alive</td>\n",
       "    </tr>\n",
       "    <tr>\n",
       "      <th>11</th>\n",
       "      <td>decidedly</td>\n",
       "      <td>appertain</td>\n",
       "      <td>cease</td>\n",
       "      <td>invaluable</td>\n",
       "      <td>vowed</td>\n",
       "      <td>flickered</td>\n",
       "      <td>grovelling</td>\n",
       "      <td>namelessly</td>\n",
       "      <td>vine-shaded</td>\n",
       "      <td>ben-sheep</td>\n",
       "    </tr>\n",
       "    <tr>\n",
       "      <th>12</th>\n",
       "      <td>appertain</td>\n",
       "      <td>vowed</td>\n",
       "      <td>refracted</td>\n",
       "      <td>decidedly</td>\n",
       "      <td>vine-shaded</td>\n",
       "      <td>cease</td>\n",
       "      <td>meshes</td>\n",
       "      <td>sit-up</td>\n",
       "      <td>penguin</td>\n",
       "      <td>invaluable</td>\n",
       "    </tr>\n",
       "    <tr>\n",
       "      <th>13</th>\n",
       "      <td>decidedly</td>\n",
       "      <td>appertain</td>\n",
       "      <td>invaluable</td>\n",
       "      <td>cease</td>\n",
       "      <td>grovelling</td>\n",
       "      <td>village-alive</td>\n",
       "      <td>namelessly</td>\n",
       "      <td>friendship</td>\n",
       "      <td>vowed</td>\n",
       "      <td>vine-shaded</td>\n",
       "    </tr>\n",
       "    <tr>\n",
       "      <th>14</th>\n",
       "      <td>decidedly</td>\n",
       "      <td>appertain</td>\n",
       "      <td>invaluable</td>\n",
       "      <td>cease</td>\n",
       "      <td>namelessly</td>\n",
       "      <td>vowed</td>\n",
       "      <td>grovelling</td>\n",
       "      <td>flickered</td>\n",
       "      <td>vine-shaded</td>\n",
       "      <td>friendship</td>\n",
       "    </tr>\n",
       "    <tr>\n",
       "      <th>15</th>\n",
       "      <td>decidedly</td>\n",
       "      <td>invaluable</td>\n",
       "      <td>appertain</td>\n",
       "      <td>cease</td>\n",
       "      <td>grovelling</td>\n",
       "      <td>vowed</td>\n",
       "      <td>village-alive</td>\n",
       "      <td>vine-shaded</td>\n",
       "      <td>namelessly</td>\n",
       "      <td>friendship</td>\n",
       "    </tr>\n",
       "    <tr>\n",
       "      <th>16</th>\n",
       "      <td>decidedly</td>\n",
       "      <td>invaluable</td>\n",
       "      <td>appertain</td>\n",
       "      <td>cease</td>\n",
       "      <td>vowed</td>\n",
       "      <td>grovelling</td>\n",
       "      <td>vine-shaded</td>\n",
       "      <td>namelessly</td>\n",
       "      <td>village-alive</td>\n",
       "      <td>flickered</td>\n",
       "    </tr>\n",
       "    <tr>\n",
       "      <th>17</th>\n",
       "      <td>decidedly</td>\n",
       "      <td>appertain</td>\n",
       "      <td>invaluable</td>\n",
       "      <td>cease</td>\n",
       "      <td>grovelling</td>\n",
       "      <td>namelessly</td>\n",
       "      <td>vine-shaded</td>\n",
       "      <td>vowed</td>\n",
       "      <td>ascended</td>\n",
       "      <td>flickered</td>\n",
       "    </tr>\n",
       "    <tr>\n",
       "      <th>18</th>\n",
       "      <td>decidedly</td>\n",
       "      <td>invaluable</td>\n",
       "      <td>appertain</td>\n",
       "      <td>cease</td>\n",
       "      <td>grovelling</td>\n",
       "      <td>namelessly</td>\n",
       "      <td>outwitted</td>\n",
       "      <td>vowed</td>\n",
       "      <td>village-alive</td>\n",
       "      <td>vine-shaded</td>\n",
       "    </tr>\n",
       "    <tr>\n",
       "      <th>19</th>\n",
       "      <td>decidedly</td>\n",
       "      <td>appertain</td>\n",
       "      <td>invaluable</td>\n",
       "      <td>cease</td>\n",
       "      <td>vowed</td>\n",
       "      <td>grovelling</td>\n",
       "      <td>namelessly</td>\n",
       "      <td>village-alive</td>\n",
       "      <td>vine-shaded</td>\n",
       "      <td>refracted</td>\n",
       "    </tr>\n",
       "  </tbody>\n",
       "</table>\n",
       "</div>"
      ],
      "text/plain": [
       "            0           1           2           3            4              5  \\\n",
       "0   decidedly   appertain       cease  invaluable   namelessly    vine-shaded   \n",
       "1   decidedly   appertain  invaluable       cease        vowed     grovelling   \n",
       "2   decidedly       cease   appertain  invaluable   grovelling     namelessly   \n",
       "3   decidedly  invaluable   appertain       cease   grovelling          vowed   \n",
       "4   decidedly  invaluable   appertain  grovelling        cease          vowed   \n",
       "5   decidedly  invaluable       cease   appertain   grovelling     namelessly   \n",
       "6   decidedly  invaluable   appertain       cease   grovelling     namelessly   \n",
       "7   decidedly   appertain  invaluable       cease     your-eye       tar-like   \n",
       "8   decidedly  invaluable   appertain       cease   grovelling          vowed   \n",
       "9   decidedly  invaluable   appertain       cease   grovelling     friendship   \n",
       "10  decidedly   appertain  invaluable       cease        vowed      flickered   \n",
       "11  decidedly   appertain       cease  invaluable        vowed      flickered   \n",
       "12  appertain       vowed   refracted   decidedly  vine-shaded          cease   \n",
       "13  decidedly   appertain  invaluable       cease   grovelling  village-alive   \n",
       "14  decidedly   appertain  invaluable       cease   namelessly          vowed   \n",
       "15  decidedly  invaluable   appertain       cease   grovelling          vowed   \n",
       "16  decidedly  invaluable   appertain       cease        vowed     grovelling   \n",
       "17  decidedly   appertain  invaluable       cease   grovelling     namelessly   \n",
       "18  decidedly  invaluable   appertain       cease   grovelling     namelessly   \n",
       "19  decidedly   appertain  invaluable       cease        vowed     grovelling   \n",
       "\n",
       "                6              7              8              9  \n",
       "0           vowed     grovelling       ascended         robert  \n",
       "1     vine-shaded      flickered  village-alive     namelessly  \n",
       "2     vine-shaded     friendship      flickered          vowed  \n",
       "3    mantel-piece     namelessly  village-alive    vine-shaded  \n",
       "4      namelessly  village-alive   mantel-piece    vine-shaded  \n",
       "5   village-alive       ascended      outwitted       smoothed  \n",
       "6     vine-shaded          vowed      flickered       ascended  \n",
       "7      grovelling    vine-shaded         person    exhibitions  \n",
       "8   village-alive     namelessly    vine-shaded      flickered  \n",
       "9          robert    vine-shaded     namelessly      outwitted  \n",
       "10     namelessly     grovelling    vine-shaded  village-alive  \n",
       "11     grovelling     namelessly    vine-shaded      ben-sheep  \n",
       "12         meshes         sit-up        penguin     invaluable  \n",
       "13     namelessly     friendship          vowed    vine-shaded  \n",
       "14     grovelling      flickered    vine-shaded     friendship  \n",
       "15  village-alive    vine-shaded     namelessly     friendship  \n",
       "16    vine-shaded     namelessly  village-alive      flickered  \n",
       "17    vine-shaded          vowed       ascended      flickered  \n",
       "18      outwitted          vowed  village-alive    vine-shaded  \n",
       "19     namelessly  village-alive    vine-shaded      refracted  "
      ]
     },
     "execution_count": 25,
     "metadata": {},
     "output_type": "execute_result"
    }
   ],
   "source": [
    "topics_df = pre.gensim2dataframe(model)\n",
    "topics_df"
   ]
  },
  {
   "cell_type": "code",
   "execution_count": 26,
   "metadata": {
    "collapsed": false,
    "deletable": true,
    "editable": true
   },
   "outputs": [
    {
     "data": {
      "text/html": [
       "<div>\n",
       "<table border=\"1\" class=\"dataframe\">\n",
       "  <thead>\n",
       "    <tr style=\"text-align: right;\">\n",
       "      <th></th>\n",
       "      <th>0</th>\n",
       "      <th>1</th>\n",
       "      <th>2</th>\n",
       "      <th>3</th>\n",
       "      <th>4</th>\n",
       "      <th>5</th>\n",
       "      <th>6</th>\n",
       "      <th>7</th>\n",
       "      <th>8</th>\n",
       "      <th>9</th>\n",
       "      <th>10</th>\n",
       "      <th>11</th>\n",
       "      <th>12</th>\n",
       "      <th>13</th>\n",
       "      <th>14</th>\n",
       "      <th>15</th>\n",
       "      <th>16</th>\n",
       "      <th>17</th>\n",
       "      <th>18</th>\n",
       "      <th>19</th>\n",
       "    </tr>\n",
       "  </thead>\n",
       "  <tbody>\n",
       "    <tr>\n",
       "      <th>0</th>\n",
       "      <td>decidedly</td>\n",
       "      <td>decidedly</td>\n",
       "      <td>decidedly</td>\n",
       "      <td>decidedly</td>\n",
       "      <td>decidedly</td>\n",
       "      <td>decidedly</td>\n",
       "      <td>decidedly</td>\n",
       "      <td>decidedly</td>\n",
       "      <td>decidedly</td>\n",
       "      <td>decidedly</td>\n",
       "      <td>decidedly</td>\n",
       "      <td>decidedly</td>\n",
       "      <td>appertain</td>\n",
       "      <td>decidedly</td>\n",
       "      <td>decidedly</td>\n",
       "      <td>decidedly</td>\n",
       "      <td>decidedly</td>\n",
       "      <td>decidedly</td>\n",
       "      <td>decidedly</td>\n",
       "      <td>decidedly</td>\n",
       "    </tr>\n",
       "    <tr>\n",
       "      <th>1</th>\n",
       "      <td>appertain</td>\n",
       "      <td>appertain</td>\n",
       "      <td>cease</td>\n",
       "      <td>invaluable</td>\n",
       "      <td>invaluable</td>\n",
       "      <td>invaluable</td>\n",
       "      <td>invaluable</td>\n",
       "      <td>appertain</td>\n",
       "      <td>invaluable</td>\n",
       "      <td>invaluable</td>\n",
       "      <td>appertain</td>\n",
       "      <td>appertain</td>\n",
       "      <td>vowed</td>\n",
       "      <td>appertain</td>\n",
       "      <td>appertain</td>\n",
       "      <td>invaluable</td>\n",
       "      <td>invaluable</td>\n",
       "      <td>appertain</td>\n",
       "      <td>invaluable</td>\n",
       "      <td>appertain</td>\n",
       "    </tr>\n",
       "    <tr>\n",
       "      <th>2</th>\n",
       "      <td>cease</td>\n",
       "      <td>invaluable</td>\n",
       "      <td>appertain</td>\n",
       "      <td>appertain</td>\n",
       "      <td>appertain</td>\n",
       "      <td>cease</td>\n",
       "      <td>appertain</td>\n",
       "      <td>invaluable</td>\n",
       "      <td>appertain</td>\n",
       "      <td>appertain</td>\n",
       "      <td>invaluable</td>\n",
       "      <td>cease</td>\n",
       "      <td>refracted</td>\n",
       "      <td>invaluable</td>\n",
       "      <td>invaluable</td>\n",
       "      <td>appertain</td>\n",
       "      <td>appertain</td>\n",
       "      <td>invaluable</td>\n",
       "      <td>appertain</td>\n",
       "      <td>invaluable</td>\n",
       "    </tr>\n",
       "    <tr>\n",
       "      <th>3</th>\n",
       "      <td>invaluable</td>\n",
       "      <td>cease</td>\n",
       "      <td>invaluable</td>\n",
       "      <td>cease</td>\n",
       "      <td>grovelling</td>\n",
       "      <td>appertain</td>\n",
       "      <td>cease</td>\n",
       "      <td>cease</td>\n",
       "      <td>cease</td>\n",
       "      <td>cease</td>\n",
       "      <td>cease</td>\n",
       "      <td>invaluable</td>\n",
       "      <td>decidedly</td>\n",
       "      <td>cease</td>\n",
       "      <td>cease</td>\n",
       "      <td>cease</td>\n",
       "      <td>cease</td>\n",
       "      <td>cease</td>\n",
       "      <td>cease</td>\n",
       "      <td>cease</td>\n",
       "    </tr>\n",
       "    <tr>\n",
       "      <th>4</th>\n",
       "      <td>namelessly</td>\n",
       "      <td>vowed</td>\n",
       "      <td>grovelling</td>\n",
       "      <td>grovelling</td>\n",
       "      <td>cease</td>\n",
       "      <td>grovelling</td>\n",
       "      <td>grovelling</td>\n",
       "      <td>your-eye</td>\n",
       "      <td>grovelling</td>\n",
       "      <td>grovelling</td>\n",
       "      <td>vowed</td>\n",
       "      <td>vowed</td>\n",
       "      <td>vine-shaded</td>\n",
       "      <td>grovelling</td>\n",
       "      <td>namelessly</td>\n",
       "      <td>grovelling</td>\n",
       "      <td>vowed</td>\n",
       "      <td>grovelling</td>\n",
       "      <td>grovelling</td>\n",
       "      <td>vowed</td>\n",
       "    </tr>\n",
       "    <tr>\n",
       "      <th>5</th>\n",
       "      <td>vine-shaded</td>\n",
       "      <td>grovelling</td>\n",
       "      <td>namelessly</td>\n",
       "      <td>vowed</td>\n",
       "      <td>vowed</td>\n",
       "      <td>namelessly</td>\n",
       "      <td>namelessly</td>\n",
       "      <td>tar-like</td>\n",
       "      <td>vowed</td>\n",
       "      <td>friendship</td>\n",
       "      <td>flickered</td>\n",
       "      <td>flickered</td>\n",
       "      <td>cease</td>\n",
       "      <td>village-alive</td>\n",
       "      <td>vowed</td>\n",
       "      <td>vowed</td>\n",
       "      <td>grovelling</td>\n",
       "      <td>namelessly</td>\n",
       "      <td>namelessly</td>\n",
       "      <td>grovelling</td>\n",
       "    </tr>\n",
       "    <tr>\n",
       "      <th>6</th>\n",
       "      <td>vowed</td>\n",
       "      <td>vine-shaded</td>\n",
       "      <td>vine-shaded</td>\n",
       "      <td>mantel-piece</td>\n",
       "      <td>namelessly</td>\n",
       "      <td>village-alive</td>\n",
       "      <td>vine-shaded</td>\n",
       "      <td>grovelling</td>\n",
       "      <td>village-alive</td>\n",
       "      <td>robert</td>\n",
       "      <td>namelessly</td>\n",
       "      <td>grovelling</td>\n",
       "      <td>meshes</td>\n",
       "      <td>namelessly</td>\n",
       "      <td>grovelling</td>\n",
       "      <td>village-alive</td>\n",
       "      <td>vine-shaded</td>\n",
       "      <td>vine-shaded</td>\n",
       "      <td>outwitted</td>\n",
       "      <td>namelessly</td>\n",
       "    </tr>\n",
       "    <tr>\n",
       "      <th>7</th>\n",
       "      <td>grovelling</td>\n",
       "      <td>flickered</td>\n",
       "      <td>friendship</td>\n",
       "      <td>namelessly</td>\n",
       "      <td>village-alive</td>\n",
       "      <td>ascended</td>\n",
       "      <td>vowed</td>\n",
       "      <td>vine-shaded</td>\n",
       "      <td>namelessly</td>\n",
       "      <td>vine-shaded</td>\n",
       "      <td>grovelling</td>\n",
       "      <td>namelessly</td>\n",
       "      <td>sit-up</td>\n",
       "      <td>friendship</td>\n",
       "      <td>flickered</td>\n",
       "      <td>vine-shaded</td>\n",
       "      <td>namelessly</td>\n",
       "      <td>vowed</td>\n",
       "      <td>vowed</td>\n",
       "      <td>village-alive</td>\n",
       "    </tr>\n",
       "    <tr>\n",
       "      <th>8</th>\n",
       "      <td>ascended</td>\n",
       "      <td>village-alive</td>\n",
       "      <td>flickered</td>\n",
       "      <td>village-alive</td>\n",
       "      <td>mantel-piece</td>\n",
       "      <td>outwitted</td>\n",
       "      <td>flickered</td>\n",
       "      <td>person</td>\n",
       "      <td>vine-shaded</td>\n",
       "      <td>namelessly</td>\n",
       "      <td>vine-shaded</td>\n",
       "      <td>vine-shaded</td>\n",
       "      <td>penguin</td>\n",
       "      <td>vowed</td>\n",
       "      <td>vine-shaded</td>\n",
       "      <td>namelessly</td>\n",
       "      <td>village-alive</td>\n",
       "      <td>ascended</td>\n",
       "      <td>village-alive</td>\n",
       "      <td>vine-shaded</td>\n",
       "    </tr>\n",
       "    <tr>\n",
       "      <th>9</th>\n",
       "      <td>robert</td>\n",
       "      <td>namelessly</td>\n",
       "      <td>vowed</td>\n",
       "      <td>vine-shaded</td>\n",
       "      <td>vine-shaded</td>\n",
       "      <td>smoothed</td>\n",
       "      <td>ascended</td>\n",
       "      <td>exhibitions</td>\n",
       "      <td>flickered</td>\n",
       "      <td>outwitted</td>\n",
       "      <td>village-alive</td>\n",
       "      <td>ben-sheep</td>\n",
       "      <td>invaluable</td>\n",
       "      <td>vine-shaded</td>\n",
       "      <td>friendship</td>\n",
       "      <td>friendship</td>\n",
       "      <td>flickered</td>\n",
       "      <td>flickered</td>\n",
       "      <td>vine-shaded</td>\n",
       "      <td>refracted</td>\n",
       "    </tr>\n",
       "  </tbody>\n",
       "</table>\n",
       "</div>"
      ],
      "text/plain": [
       "            0              1            2              3              4   \\\n",
       "0    decidedly      decidedly    decidedly      decidedly      decidedly   \n",
       "1    appertain      appertain        cease     invaluable     invaluable   \n",
       "2        cease     invaluable    appertain      appertain      appertain   \n",
       "3   invaluable          cease   invaluable          cease     grovelling   \n",
       "4   namelessly          vowed   grovelling     grovelling          cease   \n",
       "5  vine-shaded     grovelling   namelessly          vowed          vowed   \n",
       "6        vowed    vine-shaded  vine-shaded   mantel-piece     namelessly   \n",
       "7   grovelling      flickered   friendship     namelessly  village-alive   \n",
       "8     ascended  village-alive    flickered  village-alive   mantel-piece   \n",
       "9       robert     namelessly        vowed    vine-shaded    vine-shaded   \n",
       "\n",
       "              5            6            7              8            9   \\\n",
       "0      decidedly    decidedly    decidedly      decidedly    decidedly   \n",
       "1     invaluable   invaluable    appertain     invaluable   invaluable   \n",
       "2          cease    appertain   invaluable      appertain    appertain   \n",
       "3      appertain        cease        cease          cease        cease   \n",
       "4     grovelling   grovelling     your-eye     grovelling   grovelling   \n",
       "5     namelessly   namelessly     tar-like          vowed   friendship   \n",
       "6  village-alive  vine-shaded   grovelling  village-alive       robert   \n",
       "7       ascended        vowed  vine-shaded     namelessly  vine-shaded   \n",
       "8      outwitted    flickered       person    vine-shaded   namelessly   \n",
       "9       smoothed     ascended  exhibitions      flickered    outwitted   \n",
       "\n",
       "              10           11           12             13           14  \\\n",
       "0      decidedly    decidedly    appertain      decidedly    decidedly   \n",
       "1      appertain    appertain        vowed      appertain    appertain   \n",
       "2     invaluable        cease    refracted     invaluable   invaluable   \n",
       "3          cease   invaluable    decidedly          cease        cease   \n",
       "4          vowed        vowed  vine-shaded     grovelling   namelessly   \n",
       "5      flickered    flickered        cease  village-alive        vowed   \n",
       "6     namelessly   grovelling       meshes     namelessly   grovelling   \n",
       "7     grovelling   namelessly       sit-up     friendship    flickered   \n",
       "8    vine-shaded  vine-shaded      penguin          vowed  vine-shaded   \n",
       "9  village-alive    ben-sheep   invaluable    vine-shaded   friendship   \n",
       "\n",
       "              15             16           17             18             19  \n",
       "0      decidedly      decidedly    decidedly      decidedly      decidedly  \n",
       "1     invaluable     invaluable    appertain     invaluable      appertain  \n",
       "2      appertain      appertain   invaluable      appertain     invaluable  \n",
       "3          cease          cease        cease          cease          cease  \n",
       "4     grovelling          vowed   grovelling     grovelling          vowed  \n",
       "5          vowed     grovelling   namelessly     namelessly     grovelling  \n",
       "6  village-alive    vine-shaded  vine-shaded      outwitted     namelessly  \n",
       "7    vine-shaded     namelessly        vowed          vowed  village-alive  \n",
       "8     namelessly  village-alive     ascended  village-alive    vine-shaded  \n",
       "9     friendship      flickered    flickered    vine-shaded      refracted  "
      ]
     },
     "execution_count": 26,
     "metadata": {},
     "output_type": "execute_result"
    }
   ],
   "source": [
    "doc_topic = topics_df.T\n",
    "doc_topic"
   ]
  },
  {
   "cell_type": "markdown",
   "metadata": {
    "deletable": true,
    "editable": true
   },
   "source": [
    "## Visualisierung "
   ]
  },
  {
   "cell_type": "code",
   "execution_count": 27,
   "metadata": {
    "collapsed": false,
    "deletable": true,
    "editable": true
   },
   "outputs": [
    {
     "data": {
      "text/plain": [
       "\"lda_model = 'out_easy/corpus.lda'\\ncorpus = 'out_easy/corpus.mm'\\ndictionary = 'out_easy/corpus.dict'\\ndoc_labels = 'out_easy/corpus_doclabels.txt'\\ninteractive  = False\\n\\nvis = visual.Visualization(lda_model, corpus, dictionary, doc_labels, interactive)\""
      ]
     },
     "execution_count": 27,
     "metadata": {},
     "output_type": "execute_result"
    }
   ],
   "source": [
    "'''lda_model = 'out_easy/corpus.lda'\n",
    "corpus = 'out_easy/corpus.mm'\n",
    "dictionary = 'out_easy/corpus.dict'\n",
    "doc_labels = 'out_easy/corpus_doclabels.txt'\n",
    "interactive  = False\n",
    "\n",
    "vis = visual.Visualization(lda_model, corpus, dictionary, doc_labels, interactive)'''"
   ]
  },
  {
   "cell_type": "markdown",
   "metadata": {
    "deletable": true,
    "editable": true
   },
   "source": [
    "##### Create a document-topic matrix (that is a pandas data frame actually)"
   ]
  },
  {
   "cell_type": "code",
   "execution_count": 28,
   "metadata": {
    "collapsed": false,
    "deletable": true,
    "editable": true
   },
   "outputs": [],
   "source": [
    "doc_topic = visual.create_doc_topic(mm, model, doc_labels)"
   ]
  },
  {
   "cell_type": "markdown",
   "metadata": {
    "deletable": true,
    "editable": true
   },
   "source": [
    "##### Visualize document-topic matrix"
   ]
  },
  {
   "cell_type": "code",
   "execution_count": 29,
   "metadata": {
    "collapsed": false,
    "deletable": true,
    "editable": true
   },
   "outputs": [
    {
     "data": {
      "text/plain": [
       "<module 'matplotlib.pyplot' from '/home/sina/.local/lib/python3.5/site-packages/matplotlib/pyplot.py'>"
      ]
     },
     "execution_count": 29,
     "metadata": {},
     "output_type": "execute_result"
    },
    {
     "data": {
      "image/png": "[encoded data removed]",
      "text/plain": [
       "<matplotlib.figure.Figure at 0x7fc966b85e80>"
      ]
     },
     "metadata": {},
     "output_type": "display_data"
    }
   ],
   "source": [
    "%matplotlib inline\n",
    "visual.doc_topic_heatmap(doc_topic)"
   ]
  },
  {
   "cell_type": "markdown",
   "metadata": {
    "deletable": true,
    "editable": true
   },
   "source": [
    "##### Visualize topic distribution in a single document"
   ]
  },
  {
   "cell_type": "code",
   "execution_count": 30,
   "metadata": {
    "collapsed": false,
    "deletable": true,
    "editable": true
   },
   "outputs": [
    {
     "data": {
      "text/plain": [
       "<module 'matplotlib.pyplot' from '/home/sina/.local/lib/python3.5/site-packages/matplotlib/pyplot.py'>"
      ]
     },
     "execution_count": 30,
     "metadata": {},
     "output_type": "execute_result"
    },
    {
     "data": {
      "image/png": "[encoded data removed]",
      "text/plain": [
       "<matplotlib.figure.Figure at 0x7fc965eeb0b8>"
      ]
     },
     "metadata": {},
     "output_type": "display_data"
    }
   ],
   "source": [
    "visual.plot_doc_topics(doc_topic, 0)"
   ]
  },
  {
   "cell_type": "code",
   "execution_count": 31,
   "metadata": {
    "collapsed": false,
    "deletable": true,
    "editable": true
   },
   "outputs": [
    {
     "data": {
      "text/plain": [
       "[('decidedly', 0.0082714017814873881),\n",
       " ('appertain', 0.0042683514741966334),\n",
       " ('invaluable', 0.0031566492745889042),\n",
       " ('cease', 0.0030601959371338106),\n",
       " ('vowed', 0.0020525735788667933),\n",
       " ('grovelling', 0.001966584166650413),\n",
       " ('vine-shaded', 0.0018564894853656821),\n",
       " ('flickered', 0.0016438404492069684),\n",
       " ('village-alive', 0.0016250602644918911),\n",
       " ('namelessly', 0.001421754146588437)]"
      ]
     },
     "execution_count": 31,
     "metadata": {},
     "output_type": "execute_result"
    }
   ],
   "source": [
    "items = model.show_topic(1)\n",
    "keywords = [item[0] for item in items]\n",
    "keywords\n",
    "items = model.show_topic(1)\n",
    "propabilities = [item[1] for item in items]\n",
    "propabilities\n",
    "items"
   ]
  },
  {
   "cell_type": "code",
   "execution_count": 37,
   "metadata": {
    "collapsed": false,
    "deletable": true,
    "editable": true,
    "scrolled": true
   },
   "outputs": [
    {
     "data": {
      "text/plain": [
       "<module 'matplotlib.pyplot' from '/home/sina/.local/lib/python3.5/site-packages/matplotlib/pyplot.py'>"
      ]
     },
     "execution_count": 37,
     "metadata": {},
     "output_type": "execute_result"
    },
    {
     "data": {
      "image/png": "[encoded data removed]",
      "text/plain": [
       "<matplotlib.figure.Figure at 0x7fc9661daf28>"
      ]
     },
     "metadata": {},
     "output_type": "display_data"
    }
   ],
   "source": [
    "topic_nr = 3\n",
    "number_of_keywords = 10\n",
    "visual.show_wordle_for_topic(model, topic_nr, number_of_keywords)"
   ]
  },
  {
   "cell_type": "markdown",
   "metadata": {
    "collapsed": true,
    "deletable": true,
    "editable": true
   },
   "source": [
    "![success](http://cdn2.hubspot.net/hub/128506/file-446943132-jpg/images/computer_woman_success.jpg)"
   ]
  }
 ],
 "metadata": {
  "kernelspec": {
   "display_name": "Python 3",
   "language": "python",
   "name": "python3"
  },
  "language_info": {
   "codemirror_mode": {
    "name": "ipython",
    "version": 3
   },
   "file_extension": ".py",
   "mimetype": "text/x-python",
   "name": "python",
   "nbconvert_exporter": "python",
   "pygments_lexer": "ipython3",
   "version": "3.5.2"
  }
 },
 "nbformat": 4,
 "nbformat_minor": 0
}
