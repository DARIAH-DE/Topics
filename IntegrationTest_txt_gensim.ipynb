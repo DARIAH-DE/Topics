{
 "cells": [
  {
   "cell_type": "code",
   "execution_count": 1,
   "metadata": {
    "collapsed": false,
    "deletable": true,
    "editable": true
   },
   "outputs": [
    {
     "name": "stderr",
     "output_type": "stream",
     "text": [
      "/usr/lib/python3.5/json/encoder.py:198: DeprecationWarning: Interpreting naive datetime as local 2017-04-03 12:33:34.241283. Please add timezone info to timestamps.\n",
      "  chunks = self.iterencode(o, _one_shot=True)\n"
     ]
    }
   ],
   "source": [
    "from dariah_topics import preprocessing as pre\n",
    "from dariah_topics import visualization as visual\n",
    "from dariah_topics import evaluation"
   ]
  },
  {
   "cell_type": "markdown",
   "metadata": {
    "deletable": true,
    "editable": true
   },
   "source": [
    "## Preprocessing"
   ]
  },
  {
   "cell_type": "markdown",
   "metadata": {
    "deletable": true,
    "editable": true
   },
   "source": [
    "#### Liste mit Dateinamen erzeugen"
   ]
  },
  {
   "cell_type": "code",
   "execution_count": 2,
   "metadata": {
    "collapsed": false,
    "deletable": true,
    "editable": true
   },
   "outputs": [
    {
     "data": {
      "text/plain": [
       "['corpus_txt/Lovecraft_AttheMountainofMadness.txt',\n",
       " 'corpus_txt/Howard_TheDevilinIron.txt',\n",
       " 'corpus_txt/Poe_ThePurloinedLetter.txt',\n",
       " 'corpus_txt/Lovecraft_TheShunnedHouse.txt',\n",
       " 'corpus_txt/Poe_TheMasqueoftheRedDeath.txt']"
      ]
     },
     "execution_count": 2,
     "metadata": {},
     "output_type": "execute_result"
    },
    {
     "name": "stderr",
     "output_type": "stream",
     "text": [
      "/usr/lib/python3.5/json/encoder.py:198: DeprecationWarning: Interpreting naive datetime as local 2017-04-03 12:33:35.621622. Please add timezone info to timestamps.\n",
      "  chunks = self.iterencode(o, _one_shot=True)\n"
     ]
    }
   ],
   "source": [
    "path_txt = \"corpus_txt\"\n",
    "#path_txt = \"grenzbote_plain/*/\"\n",
    "#path_txt = \"wiki/\"\n",
    "\n",
    "doclist_txt = pre.create_document_list(path_txt)\n",
    "assert doclist_txt, \"No documents found\"\n",
    "doclist_txt[:5]"
   ]
  },
  {
   "cell_type": "markdown",
   "metadata": {
    "deletable": true,
    "editable": true
   },
   "source": [
    "#####  Liste mit Dokumentenlabels erzeugen - (Funktion wird durch Thorsten's generischere Funktion ersetzt)"
   ]
  },
  {
   "cell_type": "code",
   "execution_count": 3,
   "metadata": {
    "collapsed": false,
    "deletable": true,
    "editable": true
   },
   "outputs": [
    {
     "data": {
      "text/plain": [
       "['Lovecraft_AttheMountainofMadness',\n",
       " 'Howard_TheDevilinIron',\n",
       " 'Poe_ThePurloinedLetter',\n",
       " 'Lovecraft_TheShunnedHouse',\n",
       " 'Poe_TheMasqueoftheRedDeath']"
      ]
     },
     "execution_count": 3,
     "metadata": {},
     "output_type": "execute_result"
    },
    {
     "name": "stderr",
     "output_type": "stream",
     "text": [
      "/usr/lib/python3.5/json/encoder.py:198: DeprecationWarning: Interpreting naive datetime as local 2017-04-03 12:33:35.631036. Please add timezone info to timestamps.\n",
      "  chunks = self.iterencode(o, _one_shot=True)\n"
     ]
    }
   ],
   "source": [
    "doc_labels = list(pre.get_labels(doclist_txt))\n",
    "doc_labels[:5]"
   ]
  },
  {
   "cell_type": "markdown",
   "metadata": {
    "deletable": true,
    "editable": true
   },
   "source": [
    "#### Corpus laden"
   ]
  },
  {
   "cell_type": "code",
   "execution_count": 4,
   "metadata": {
    "collapsed": false,
    "deletable": true,
    "editable": true
   },
   "outputs": [
    {
     "name": "stderr",
     "output_type": "stream",
     "text": [
      "/usr/lib/python3.5/json/encoder.py:198: DeprecationWarning: Interpreting naive datetime as local 2017-04-03 12:33:35.646129. Please add timezone info to timestamps.\n",
      "  chunks = self.iterencode(o, _one_shot=True)\n"
     ]
    }
   ],
   "source": [
    "corpus_txt = pre.read_from_txt(doclist_txt)"
   ]
  },
  {
   "cell_type": "markdown",
   "metadata": {
    "deletable": true,
    "editable": true
   },
   "source": [
    "#### Tokenisieren"
   ]
  },
  {
   "cell_type": "code",
   "execution_count": 5,
   "metadata": {
    "collapsed": false,
    "deletable": true,
    "editable": true
   },
   "outputs": [
    {
     "name": "stderr",
     "output_type": "stream",
     "text": [
      "/usr/lib/python3.5/json/encoder.py:198: DeprecationWarning: Interpreting naive datetime as local 2017-04-03 12:33:35.656636. Please add timezone info to timestamps.\n",
      "  chunks = self.iterencode(o, _one_shot=True)\n"
     ]
    }
   ],
   "source": [
    "doc_tokens = [list(pre.tokenize(txt)) for txt in list(corpus_txt)]"
   ]
  },
  {
   "cell_type": "markdown",
   "metadata": {
    "deletable": true,
    "editable": true
   },
   "source": [
    "#### Create Dictionaries"
   ]
  },
  {
   "cell_type": "code",
   "execution_count": 6,
   "metadata": {
    "collapsed": false,
    "deletable": true,
    "editable": true
   },
   "outputs": [
    {
     "name": "stderr",
     "output_type": "stream",
     "text": [
      "/usr/lib/python3.5/json/encoder.py:198: DeprecationWarning: Interpreting naive datetime as local 2017-04-03 12:33:35.958266. Please add timezone info to timestamps.\n",
      "  chunks = self.iterencode(o, _one_shot=True)\n"
     ]
    }
   ],
   "source": [
    "id_types, doc_ids = pre.create_dictionaries(doc_labels, doc_tokens)"
   ]
  },
  {
   "cell_type": "markdown",
   "metadata": {
    "deletable": true,
    "editable": true
   },
   "source": [
    "#### Sparse BOW Model"
   ]
  },
  {
   "cell_type": "code",
   "execution_count": 7,
   "metadata": {
    "collapsed": false,
    "deletable": true,
    "editable": true
   },
   "outputs": [
    {
     "name": "stderr",
     "output_type": "stream",
     "text": [
      "/usr/lib/python3.5/json/encoder.py:198: DeprecationWarning: Interpreting naive datetime as local 2017-04-03 12:33:36.027892. Please add timezone info to timestamps.\n",
      "  chunks = self.iterencode(o, _one_shot=True)\n"
     ]
    }
   ],
   "source": [
    "sparse_bow = pre.create_mm(doc_labels, doc_tokens, id_types, doc_ids)"
   ]
  },
  {
   "cell_type": "code",
   "execution_count": 8,
   "metadata": {
    "collapsed": false,
    "deletable": true,
    "editable": true
   },
   "outputs": [
    {
     "data": {
      "text/html": [
       "<div>\n",
       "<table border=\"1\" class=\"dataframe\">\n",
       "  <thead>\n",
       "    <tr style=\"text-align: right;\">\n",
       "      <th></th>\n",
       "      <th></th>\n",
       "      <th>0</th>\n",
       "    </tr>\n",
       "    <tr>\n",
       "      <th>doc_id</th>\n",
       "      <th>token_id</th>\n",
       "      <th></th>\n",
       "    </tr>\n",
       "  </thead>\n",
       "  <tbody>\n",
       "    <tr>\n",
       "      <th rowspan=\"5\" valign=\"top\">1</th>\n",
       "      <th>1</th>\n",
       "      <td>3</td>\n",
       "    </tr>\n",
       "    <tr>\n",
       "      <th>4</th>\n",
       "      <td>1</td>\n",
       "    </tr>\n",
       "    <tr>\n",
       "      <th>16389</th>\n",
       "      <td>1</td>\n",
       "    </tr>\n",
       "    <tr>\n",
       "      <th>9</th>\n",
       "      <td>1</td>\n",
       "    </tr>\n",
       "    <tr>\n",
       "      <th>16396</th>\n",
       "      <td>1</td>\n",
       "    </tr>\n",
       "  </tbody>\n",
       "</table>\n",
       "</div>"
      ],
      "text/plain": [
       "                 0\n",
       "doc_id token_id   \n",
       "1      1         3\n",
       "       4         1\n",
       "       16389     1\n",
       "       9         1\n",
       "       16396     1"
      ]
     },
     "execution_count": 8,
     "metadata": {},
     "output_type": "execute_result"
    },
    {
     "name": "stderr",
     "output_type": "stream",
     "text": [
      "/usr/lib/python3.5/json/encoder.py:198: DeprecationWarning: Interpreting naive datetime as local 2017-04-03 12:33:36.414443. Please add timezone info to timestamps.\n",
      "  chunks = self.iterencode(o, _one_shot=True)\n"
     ]
    }
   ],
   "source": [
    "sparse_bow[:5]"
   ]
  },
  {
   "cell_type": "markdown",
   "metadata": {
    "deletable": true,
    "editable": true
   },
   "source": [
    "## Topic Modeling with Gensim"
   ]
  },
  {
   "cell_type": "markdown",
   "metadata": {
    "deletable": true,
    "editable": true
   },
   "source": [
    "##### Saving Sparse BOW"
   ]
  },
  {
   "cell_type": "code",
   "execution_count": 9,
   "metadata": {
    "collapsed": false,
    "deletable": true,
    "editable": true
   },
   "outputs": [
    {
     "name": "stderr",
     "output_type": "stream",
     "text": [
      "/usr/lib/python3.5/json/encoder.py:198: DeprecationWarning: Interpreting naive datetime as local 2017-04-03 12:33:36.426606. Please add timezone info to timestamps.\n",
      "  chunks = self.iterencode(o, _one_shot=True)\n"
     ]
    }
   ],
   "source": [
    "pre.save_bow_mm(sparse_bow, \"gensim_txt\")"
   ]
  },
  {
   "cell_type": "markdown",
   "metadata": {
    "deletable": true,
    "editable": true
   },
   "source": [
    "#### Import Market Matrix"
   ]
  },
  {
   "cell_type": "code",
   "execution_count": 10,
   "metadata": {
    "collapsed": false,
    "deletable": true,
    "editable": true
   },
   "outputs": [
    {
     "name": "stderr",
     "output_type": "stream",
     "text": [
      "/usr/lib/python3.5/json/encoder.py:198: DeprecationWarning: Interpreting naive datetime as local 2017-04-03 12:33:36.554136. Please add timezone info to timestamps.\n",
      "  chunks = self.iterencode(o, _one_shot=True)\n"
     ]
    }
   ],
   "source": [
    "from gensim.models import LdaModel\n",
    "from gensim.corpora import MmCorpus"
   ]
  },
  {
   "cell_type": "code",
   "execution_count": 11,
   "metadata": {
    "collapsed": false,
    "deletable": true,
    "editable": true
   },
   "outputs": [
    {
     "name": "stderr",
     "output_type": "stream",
     "text": [
      "/usr/lib/python3.5/json/encoder.py:198: DeprecationWarning: Interpreting naive datetime as local 2017-04-03 12:33:36.558600. Please add timezone info to timestamps.\n",
      "  chunks = self.iterencode(o, _one_shot=True)\n"
     ]
    }
   ],
   "source": [
    "mm = MmCorpus(\"gensim_txt.mm\")"
   ]
  },
  {
   "cell_type": "code",
   "execution_count": 12,
   "metadata": {
    "collapsed": false,
    "deletable": true,
    "editable": true
   },
   "outputs": [
    {
     "name": "stderr",
     "output_type": "stream",
     "text": [
      "/usr/lib/python3.5/json/encoder.py:198: DeprecationWarning: Interpreting naive datetime as local 2017-04-03 12:33:36.569851. Please add timezone info to timestamps.\n",
      "  chunks = self.iterencode(o, _one_shot=True)\n"
     ]
    }
   ],
   "source": [
    "doc2id = {value : key for key, value in doc_ids.items()}\n",
    "type2id = {value : key for key, value in id_types.items()}"
   ]
  },
  {
   "cell_type": "markdown",
   "metadata": {
    "deletable": true,
    "editable": true
   },
   "source": [
    "##### Remove Features"
   ]
  },
  {
   "cell_type": "markdown",
   "metadata": {
    "deletable": true,
    "editable": true
   },
   "source": [
    "type2id = {value : key for key, value in id_types.items()}\n",
    "sparse_bow_collapsed = sparse_bow.groupby(sparse_bow.index.get_level_values('token_id')).sum()"
   ]
  },
  {
   "cell_type": "markdown",
   "metadata": {
    "deletable": true,
    "editable": true
   },
   "source": [
    "sparse_bow_hapax = sparse_bow_collapsed.loc[sparse_bow_collapsed[0] == 1]\n",
    "hapax = [type2id[key] for key in sparse_bow_hapax.index.get_level_values('token_id')]"
   ]
  },
  {
   "cell_type": "markdown",
   "metadata": {
    "deletable": true,
    "editable": true
   },
   "source": [
    "len(hapax)"
   ]
  },
  {
   "cell_type": "code",
   "execution_count": 13,
   "metadata": {
    "collapsed": false,
    "deletable": true,
    "editable": true
   },
   "outputs": [
    {
     "name": "stderr",
     "output_type": "stream",
     "text": [
      "/usr/lib/python3.5/json/encoder.py:198: DeprecationWarning: Interpreting naive datetime as local 2017-04-03 12:33:36.580209. Please add timezone info to timestamps.\n",
      "  chunks = self.iterencode(o, _one_shot=True)\n"
     ]
    }
   ],
   "source": [
    "import os.path\n",
    "basepath = os.path.abspath('.')\n",
    "\n",
    "with open(os.path.join(basepath, \"tutorial_supplementals\", \"stopwords\", \"de.txt\"), 'r', encoding = 'utf-8') as f: \n",
    "    stopword_list = f.read().split('\\n')\n",
    "    \n",
    "stopword_list = set(stopword_list)"
   ]
  },
  {
   "cell_type": "code",
   "execution_count": 14,
   "metadata": {
    "collapsed": false,
    "deletable": true,
    "editable": true
   },
   "outputs": [
    {
     "name": "stderr",
     "output_type": "stream",
     "text": [
      "/usr/lib/python3.5/json/encoder.py:198: DeprecationWarning: Interpreting naive datetime as local 2017-04-03 12:33:36.590420. Please add timezone info to timestamps.\n",
      "  chunks = self.iterencode(o, _one_shot=True)\n"
     ]
    }
   ],
   "source": [
    "hapax_from_remove = pre.find_hapax(sparse_bow, id_types)\n",
    "stopwords_from_remove = pre.find_stopwords(sparse_bow, id_types, mfw=75)\n",
    "\n",
    "#features_to_be_removed = set(hapax_from_remove + stopwords_from_remove)\n",
    "features_to_be_removed = stopwords_from_remove\n",
    "\n",
    "sparse_bow_short = pre.remove_features(sparse_bow, id_types, features_to_be_removed)"
   ]
  },
  {
   "cell_type": "code",
   "execution_count": 15,
   "metadata": {
    "collapsed": false,
    "deletable": true,
    "editable": true
   },
   "outputs": [
    {
     "data": {
      "text/plain": [
       "75"
      ]
     },
     "execution_count": 15,
     "metadata": {},
     "output_type": "execute_result"
    },
    {
     "name": "stderr",
     "output_type": "stream",
     "text": [
      "/usr/lib/python3.5/json/encoder.py:198: DeprecationWarning: Interpreting naive datetime as local 2017-04-03 12:33:36.739894. Please add timezone info to timestamps.\n",
      "  chunks = self.iterencode(o, _one_shot=True)\n"
     ]
    }
   ],
   "source": [
    "len(features_to_be_removed)"
   ]
  },
  {
   "cell_type": "code",
   "execution_count": 16,
   "metadata": {
    "collapsed": false,
    "deletable": true,
    "editable": true
   },
   "outputs": [
    {
     "name": "stderr",
     "output_type": "stream",
     "text": [
      "/usr/lib/python3.5/json/encoder.py:198: DeprecationWarning: Interpreting naive datetime as local 2017-04-03 12:33:36.748477. Please add timezone info to timestamps.\n",
      "  chunks = self.iterencode(o, _one_shot=True)\n"
     ]
    }
   ],
   "source": [
    "pre.save_bow_mm(sparse_bow_short, \"gensim_txt\")"
   ]
  },
  {
   "cell_type": "code",
   "execution_count": 17,
   "metadata": {
    "collapsed": false,
    "deletable": true,
    "editable": true
   },
   "outputs": [
    {
     "name": "stderr",
     "output_type": "stream",
     "text": [
      "/usr/lib/python3.5/json/encoder.py:198: DeprecationWarning: Interpreting naive datetime as local 2017-04-03 12:33:36.842716. Please add timezone info to timestamps.\n",
      "  chunks = self.iterencode(o, _one_shot=True)\n"
     ]
    }
   ],
   "source": [
    "mm = MmCorpus(\"gensim_txt.mm\")"
   ]
  },
  {
   "cell_type": "markdown",
   "metadata": {
    "deletable": true,
    "editable": true
   },
   "source": [
    "#### Convert sparse_bow to list of (doc, tokens) tuples (like doc2bow)"
   ]
  },
  {
   "cell_type": "code",
   "execution_count": 18,
   "metadata": {
    "collapsed": false,
    "deletable": true,
    "editable": true
   },
   "outputs": [
    {
     "name": "stderr",
     "output_type": "stream",
     "text": [
      "/usr/lib/python3.5/json/encoder.py:198: DeprecationWarning: Interpreting naive datetime as local 2017-04-03 12:33:36.851945. Please add timezone info to timestamps.\n",
      "  chunks = self.iterencode(o, _one_shot=True)\n"
     ]
    }
   ],
   "source": [
    "doc2bow_list = []\n",
    "\n",
    "for doc in sparse_bow_short.index.groupby(sparse_bow_short.index.get_level_values('doc_id')):\n",
    "    temp = [(token, count) for token, count in zip(sparse_bow_short.loc[doc].index, sparse_bow_short.loc[doc][0])]\n",
    "    doc2bow_list.append(temp)"
   ]
  },
  {
   "cell_type": "code",
   "execution_count": 19,
   "metadata": {
    "collapsed": false,
    "deletable": true,
    "editable": true
   },
   "outputs": [
    {
     "data": {
      "text/plain": [
       "17"
      ]
     },
     "execution_count": 19,
     "metadata": {},
     "output_type": "execute_result"
    },
    {
     "name": "stderr",
     "output_type": "stream",
     "text": [
      "/usr/lib/python3.5/json/encoder.py:198: DeprecationWarning: Interpreting naive datetime as local 2017-04-03 12:33:36.933884. Please add timezone info to timestamps.\n",
      "  chunks = self.iterencode(o, _one_shot=True)\n"
     ]
    }
   ],
   "source": [
    "len(doc2bow_list)"
   ]
  },
  {
   "cell_type": "code",
   "execution_count": 20,
   "metadata": {
    "collapsed": false,
    "deletable": true,
    "editable": true
   },
   "outputs": [
    {
     "name": "stderr",
     "output_type": "stream",
     "text": [
      "/usr/lib/python3.5/json/encoder.py:198: DeprecationWarning: Interpreting naive datetime as local 2017-04-03 12:33:36.942253. Please add timezone info to timestamps.\n",
      "  chunks = self.iterencode(o, _one_shot=True)\n"
     ]
    }
   ],
   "source": [
    "#model = LdaModel(corpus=mm, id2word=type2id, num_topics=60, alpha = \"symmetric\", passes = 10) #import momentan in visual \n",
    "# -> da ich mir noch nicht sicher bin, welche Funktionen in das tm_gensim.py sollen\n",
    "model = LdaModel(corpus=mm, id2word=type2id, num_topics=20, passes = 10, iterations = 20)"
   ]
  },
  {
   "cell_type": "code",
   "execution_count": 21,
   "metadata": {
    "collapsed": false,
    "deletable": true,
    "editable": true
   },
   "outputs": [
    {
     "data": {
      "text/plain": [
       "[(2, 0.023249171299572019),\n",
       " (3, 0.096308438054866927),\n",
       " (5, 0.019741356839378027),\n",
       " (6, 0.015510920670718482),\n",
       " (7, 0.06000241307307648),\n",
       " (9, 0.037316104395400895),\n",
       " (10, 0.090216881387716871),\n",
       " (11, 0.30787999396887145),\n",
       " (13, 0.014811784963532056),\n",
       " (14, 0.14848099258547087),\n",
       " (16, 0.019342627691126789),\n",
       " (17, 0.1495883486134271),\n",
       " (19, 0.010054894689448816)]"
      ]
     },
     "execution_count": 21,
     "metadata": {},
     "output_type": "execute_result"
    },
    {
     "name": "stderr",
     "output_type": "stream",
     "text": [
      "/usr/lib/python3.5/json/encoder.py:198: DeprecationWarning: Interpreting naive datetime as local 2017-04-03 12:34:18.395184. Please add timezone info to timestamps.\n",
      "  chunks = self.iterencode(o, _one_shot=True)\n"
     ]
    }
   ],
   "source": [
    "model.get_document_topics(doc2bow_list[1])"
   ]
  },
  {
   "cell_type": "code",
   "execution_count": 22,
   "metadata": {
    "collapsed": false,
    "deletable": true,
    "editable": true
   },
   "outputs": [
    {
     "data": {
      "text/plain": [
       "['arrogant',\n",
       " 'monstrous',\n",
       " 'ride',\n",
       " 'rash',\n",
       " 'costs',\n",
       " 'divan',\n",
       " 'indignant',\n",
       " 'busying',\n",
       " 'cares',\n",
       " 'pseudo-neck']"
      ]
     },
     "execution_count": 22,
     "metadata": {},
     "output_type": "execute_result"
    },
    {
     "name": "stderr",
     "output_type": "stream",
     "text": [
      "/usr/lib/python3.5/json/encoder.py:198: DeprecationWarning: Interpreting naive datetime as local 2017-04-03 12:34:18.404462. Please add timezone info to timestamps.\n",
      "  chunks = self.iterencode(o, _one_shot=True)\n"
     ]
    }
   ],
   "source": [
    "#Anzeige der keywords für topic n\n",
    "n = 1\n",
    "topic_nr_x = model.get_topic_terms(n)\n",
    "\n",
    "topicTerms = [type2id[i[0]] for i in topic_nr_x]\n",
    "topicTerms"
   ]
  },
  {
   "cell_type": "code",
   "execution_count": 127,
   "metadata": {
    "collapsed": false,
    "deletable": true,
    "editable": true
   },
   "outputs": [
    {
     "data": {
      "text/html": [
       "<div>\n",
       "<table border=\"1\" class=\"dataframe\">\n",
       "  <thead>\n",
       "    <tr style=\"text-align: right;\">\n",
       "      <th></th>\n",
       "      <th>0</th>\n",
       "      <th>1</th>\n",
       "      <th>2</th>\n",
       "      <th>3</th>\n",
       "      <th>4</th>\n",
       "      <th>5</th>\n",
       "      <th>6</th>\n",
       "      <th>7</th>\n",
       "      <th>8</th>\n",
       "      <th>9</th>\n",
       "    </tr>\n",
       "  </thead>\n",
       "  <tbody>\n",
       "    <tr>\n",
       "      <th>0</th>\n",
       "      <td>(misunderstanding, 0.000836857295414)</td>\n",
       "      <td>(despised, 0.000380151914649)</td>\n",
       "      <td>(rash, 0.000371716792211)</td>\n",
       "      <td>(monstrous, 0.000323945814796)</td>\n",
       "      <td>(plows, 0.000309736667133)</td>\n",
       "      <td>(pseudo-neck, 0.000288165206479)</td>\n",
       "      <td>(proposing, 0.000287332998659)</td>\n",
       "      <td>(reprint, 0.000283154060835)</td>\n",
       "      <td>(rode, 0.000281321720589)</td>\n",
       "      <td>(ramp's, 0.000278829269337)</td>\n",
       "    </tr>\n",
       "    <tr>\n",
       "      <th>1</th>\n",
       "      <td>(arrogant, 0.000628108717352)</td>\n",
       "      <td>(monstrous, 0.000620133033802)</td>\n",
       "      <td>(ride, 0.000561271667865)</td>\n",
       "      <td>(rash, 0.000522334662302)</td>\n",
       "      <td>(costs, 0.000509276224587)</td>\n",
       "      <td>(divan, 0.000497601981759)</td>\n",
       "      <td>(indignant, 0.000491034435519)</td>\n",
       "      <td>(busying, 0.000480484452156)</td>\n",
       "      <td>(cares, 0.000455146674747)</td>\n",
       "      <td>(pseudo-neck, 0.000454730021777)</td>\n",
       "    </tr>\n",
       "    <tr>\n",
       "      <th>2</th>\n",
       "      <td>(tubular, 0.00432851612024)</td>\n",
       "      <td>(system’s, 0.00402864898196)</td>\n",
       "      <td>(rode, 0.00299619007811)</td>\n",
       "      <td>(physico-metaphysical, 0.00249697206121)</td>\n",
       "      <td>(arrogant, 0.00205065895995)</td>\n",
       "      <td>(italian, 0.00204921619122)</td>\n",
       "      <td>(disappear, 0.00203039464957)</td>\n",
       "      <td>(revelled, 0.00188675474041)</td>\n",
       "      <td>(viii, 0.00185502694111)</td>\n",
       "      <td>(sensitized, 0.00175541990704)</td>\n",
       "    </tr>\n",
       "    <tr>\n",
       "      <th>3</th>\n",
       "      <td>(tubular, 0.0117763680959)</td>\n",
       "      <td>(system’s, 0.00825525748098)</td>\n",
       "      <td>(physico-metaphysical, 0.00773296369325)</td>\n",
       "      <td>(rode, 0.00699916831432)</td>\n",
       "      <td>(revelled, 0.00637006305978)</td>\n",
       "      <td>(disappear, 0.00619269056295)</td>\n",
       "      <td>(viii, 0.00618196802299)</td>\n",
       "      <td>(arrogant, 0.00613990847949)</td>\n",
       "      <td>(sensitized, 0.00573835798871)</td>\n",
       "      <td>(italian, 0.0052371958456)</td>\n",
       "    </tr>\n",
       "    <tr>\n",
       "      <th>4</th>\n",
       "      <td>(proposing, 0.000272373169922)</td>\n",
       "      <td>(slide, 0.000253588237462)</td>\n",
       "      <td>(unimaginable, 0.000245123189362)</td>\n",
       "      <td>(arrogant, 0.000241585828651)</td>\n",
       "      <td>(plows, 0.000230887177958)</td>\n",
       "      <td>(bob, 0.000225963441424)</td>\n",
       "      <td>(despised, 0.000224293955812)</td>\n",
       "      <td>(furrows, 0.000220484575414)</td>\n",
       "      <td>(cobs, 0.000214450435563)</td>\n",
       "      <td>(rode, 0.000211049018347)</td>\n",
       "    </tr>\n",
       "    <tr>\n",
       "      <th>5</th>\n",
       "      <td>(dignified, 0.0112995870408)</td>\n",
       "      <td>(lusted, 0.00774316586188)</td>\n",
       "      <td>(conventionalities, 0.00595562132647)</td>\n",
       "      <td>(reenter, 0.0059535070953)</td>\n",
       "      <td>(flamingo, 0.00579466453157)</td>\n",
       "      <td>(sculled, 0.00459856684736)</td>\n",
       "      <td>(furrows, 0.00423010916449)</td>\n",
       "      <td>(urgent, 0.00398304023476)</td>\n",
       "      <td>(teddy's, 0.00377829020657)</td>\n",
       "      <td>(temporarily, 0.00377406260008)</td>\n",
       "    </tr>\n",
       "    <tr>\n",
       "      <th>6</th>\n",
       "      <td>(termination, 0.00317180046802)</td>\n",
       "      <td>(sealed, 0.00243017492494)</td>\n",
       "      <td>(pattern, 0.00242279031679)</td>\n",
       "      <td>(barbarism, 0.00241971110791)</td>\n",
       "      <td>(frosty, 0.00182106201857)</td>\n",
       "      <td>(lump, 0.00181412462853)</td>\n",
       "      <td>(holland, 0.00180333059341)</td>\n",
       "      <td>(assaults, 0.0018024523156)</td>\n",
       "      <td>(hips, 0.00180057601558)</td>\n",
       "      <td>(runaways, 0.00178712232247)</td>\n",
       "    </tr>\n",
       "    <tr>\n",
       "      <th>7</th>\n",
       "      <td>(dim-lit, 0.0136646333736)</td>\n",
       "      <td>(unimaginable, 0.00605644030455)</td>\n",
       "      <td>(proposing, 0.00460040399113)</td>\n",
       "      <td>(termination, 0.00456519128252)</td>\n",
       "      <td>(divan, 0.00432987582537)</td>\n",
       "      <td>(cthulhu, 0.00414873876716)</td>\n",
       "      <td>(revolutionizing, 0.00412410397227)</td>\n",
       "      <td>(andirons, 0.0038352325978)</td>\n",
       "      <td>(tips, 0.00378252842927)</td>\n",
       "      <td>(colourless, 0.00364077716261)</td>\n",
       "    </tr>\n",
       "    <tr>\n",
       "      <th>8</th>\n",
       "      <td>(notions, 0.0072122353146)</td>\n",
       "      <td>(growths, 0.00635634121955)</td>\n",
       "      <td>(income, 0.00594282446104)</td>\n",
       "      <td>(proposing, 0.00353754888959)</td>\n",
       "      <td>(rolls, 0.00346411236431)</td>\n",
       "      <td>(licked, 0.00340095150891)</td>\n",
       "      <td>(didst, 0.00309389882803)</td>\n",
       "      <td>(desk, 0.00306612697242)</td>\n",
       "      <td>(pyramid, 0.00304260714124)</td>\n",
       "      <td>(bantam's, 0.0029791529171)</td>\n",
       "    </tr>\n",
       "    <tr>\n",
       "      <th>9</th>\n",
       "      <td>(busying, 0.00856519792035)</td>\n",
       "      <td>(outrageous, 0.00583457330144)</td>\n",
       "      <td>(despised, 0.00444480654173)</td>\n",
       "      <td>(preceding, 0.00442294510805)</td>\n",
       "      <td>(houndsditch, 0.00386442895927)</td>\n",
       "      <td>(dangers, 0.00370611256099)</td>\n",
       "      <td>(bob, 0.00358951632773)</td>\n",
       "      <td>(proposing, 0.00301429627047)</td>\n",
       "      <td>(bunsen, 0.00301309888647)</td>\n",
       "      <td>(unimaginable, 0.00289151885813)</td>\n",
       "    </tr>\n",
       "    <tr>\n",
       "      <th>10</th>\n",
       "      <td>(monstrous, 0.0117319903283)</td>\n",
       "      <td>(rash, 0.00763394869037)</td>\n",
       "      <td>(ramp's, 0.00497906403168)</td>\n",
       "      <td>(broken, 0.00477632581481)</td>\n",
       "      <td>(commander, 0.0044767490139)</td>\n",
       "      <td>(furrows, 0.00439633513208)</td>\n",
       "      <td>(plows, 0.00410018525225)</td>\n",
       "      <td>(marionettes, 0.0040802094001)</td>\n",
       "      <td>(arrogant, 0.00403631612666)</td>\n",
       "      <td>(ambiguity, 0.00371879315184)</td>\n",
       "    </tr>\n",
       "    <tr>\n",
       "      <th>11</th>\n",
       "      <td>(slide, 0.00438859502192)</td>\n",
       "      <td>(proposing, 0.00435155007625)</td>\n",
       "      <td>(didst, 0.00356063432863)</td>\n",
       "      <td>(ride, 0.0034989972974)</td>\n",
       "      <td>(rash, 0.00347348409835)</td>\n",
       "      <td>(reprint, 0.00342731605242)</td>\n",
       "      <td>(night-black, 0.00339326784318)</td>\n",
       "      <td>(combine, 0.00334438195991)</td>\n",
       "      <td>(drowsiness, 0.00331362790491)</td>\n",
       "      <td>(plows, 0.00329090946292)</td>\n",
       "    </tr>\n",
       "    <tr>\n",
       "      <th>12</th>\n",
       "      <td>(didst, 0.000347544688848)</td>\n",
       "      <td>(reprint, 0.000325194716756)</td>\n",
       "      <td>(coffee-cup, 0.000311821590979)</td>\n",
       "      <td>(unimaginable, 0.000306399947856)</td>\n",
       "      <td>(despised, 0.000293520166832)</td>\n",
       "      <td>(proposing, 0.000291379198006)</td>\n",
       "      <td>(furrows, 0.000287067146551)</td>\n",
       "      <td>(pistol, 0.000283888190599)</td>\n",
       "      <td>(ride, 0.000277994556567)</td>\n",
       "      <td>(work, 0.000276372502125)</td>\n",
       "    </tr>\n",
       "    <tr>\n",
       "      <th>13</th>\n",
       "      <td>(square, 0.0070964018651)</td>\n",
       "      <td>(topsides, 0.00637492071063)</td>\n",
       "      <td>(unimaginable, 0.00459155853649)</td>\n",
       "      <td>(juice, 0.00418134136889)</td>\n",
       "      <td>(divan, 0.00412371575187)</td>\n",
       "      <td>(half-past, 0.00397516256537)</td>\n",
       "      <td>(fishheads, 0.00391584626321)</td>\n",
       "      <td>(costs, 0.00380959112861)</td>\n",
       "      <td>(remoteness, 0.00339656150291)</td>\n",
       "      <td>(leered, 0.00331489407735)</td>\n",
       "    </tr>\n",
       "    <tr>\n",
       "      <th>14</th>\n",
       "      <td>(rikk-tikk, 0.00519490773207)</td>\n",
       "      <td>(pseudo-neck, 0.00471167409278)</td>\n",
       "      <td>(oblige, 0.00467155409778)</td>\n",
       "      <td>(flamingo, 0.00396014999244)</td>\n",
       "      <td>(reunited, 0.00384021217731)</td>\n",
       "      <td>(crank, 0.00370687488925)</td>\n",
       "      <td>(paralyze, 0.00364576012931)</td>\n",
       "      <td>(starker, 0.00359031779355)</td>\n",
       "      <td>(rode, 0.00350347119217)</td>\n",
       "      <td>(desmonds, 0.00333241606514)</td>\n",
       "    </tr>\n",
       "    <tr>\n",
       "      <th>15</th>\n",
       "      <td>(slide, 0.000562281478282)</td>\n",
       "      <td>(revolutionizing, 0.000371135610375)</td>\n",
       "      <td>(arrogant, 0.000360926048498)</td>\n",
       "      <td>(despised, 0.000354564930568)</td>\n",
       "      <td>(indignant, 0.000349762728258)</td>\n",
       "      <td>(unimaginable, 0.000347950735618)</td>\n",
       "      <td>(rode, 0.000341525402466)</td>\n",
       "      <td>(didst, 0.000335208063666)</td>\n",
       "      <td>(plows, 0.000333298954773)</td>\n",
       "      <td>(reunited, 0.000322347051336)</td>\n",
       "    </tr>\n",
       "    <tr>\n",
       "      <th>16</th>\n",
       "      <td>(wherry, 0.00966195787093)</td>\n",
       "      <td>(traces, 0.00953243451941)</td>\n",
       "      <td>(good-humored, 0.00837420900845)</td>\n",
       "      <td>(specialist, 0.00566364789371)</td>\n",
       "      <td>(slammed, 0.00386528459312)</td>\n",
       "      <td>(ambiguity, 0.00345047005849)</td>\n",
       "      <td>(proposing, 0.00328774898956)</td>\n",
       "      <td>(batter, 0.00300400918027)</td>\n",
       "      <td>(foothold, 0.0029736558152)</td>\n",
       "      <td>(licked, 0.00297053034268)</td>\n",
       "    </tr>\n",
       "    <tr>\n",
       "      <th>17</th>\n",
       "      <td>(igneous, 0.00409963162997)</td>\n",
       "      <td>(proposing, 0.00403348791377)</td>\n",
       "      <td>(slide, 0.00382300728116)</td>\n",
       "      <td>(revolutionizing, 0.00380327076557)</td>\n",
       "      <td>(nicekind-hen, 0.00366308465171)</td>\n",
       "      <td>(coffee-cup, 0.00353880814836)</td>\n",
       "      <td>(counter-irritant, 0.0032536114195)</td>\n",
       "      <td>(unimaginable, 0.00299554332039)</td>\n",
       "      <td>(phases, 0.0029057479008)</td>\n",
       "      <td>(didst, 0.00287076513677)</td>\n",
       "    </tr>\n",
       "    <tr>\n",
       "      <th>18</th>\n",
       "      <td>(monstrous, 0.00196020025545)</td>\n",
       "      <td>(jowels, 0.00134462068077)</td>\n",
       "      <td>(rash, 0.000830831225734)</td>\n",
       "      <td>(furrows, 0.000823939292737)</td>\n",
       "      <td>(ride, 0.00078239518911)</td>\n",
       "      <td>(reunited, 0.000781225188236)</td>\n",
       "      <td>(bunsen, 0.000756529442779)</td>\n",
       "      <td>(plows, 0.000734423107337)</td>\n",
       "      <td>(costs, 0.000716052134794)</td>\n",
       "      <td>(broken, 0.000709387432865)</td>\n",
       "    </tr>\n",
       "    <tr>\n",
       "      <th>19</th>\n",
       "      <td>(questioned, 0.00504410347223)</td>\n",
       "      <td>(unimaginable, 0.00386690379106)</td>\n",
       "      <td>(chop-one, 0.00378165793437)</td>\n",
       "      <td>(proposing, 0.00344116378091)</td>\n",
       "      <td>(didst, 0.00342479815368)</td>\n",
       "      <td>(constructs, 0.00338070023908)</td>\n",
       "      <td>(yellowstone, 0.00300086880859)</td>\n",
       "      <td>(nummos, 0.00298832147214)</td>\n",
       "      <td>(diagrams, 0.00297109819625)</td>\n",
       "      <td>(imperatively, 0.00294899961507)</td>\n",
       "    </tr>\n",
       "  </tbody>\n",
       "</table>\n",
       "</div>"
      ],
      "text/plain": [
       "                                        0  \\\n",
       "0   (misunderstanding, 0.000836857295414)   \n",
       "1           (arrogant, 0.000628108717352)   \n",
       "2             (tubular, 0.00432851612024)   \n",
       "3              (tubular, 0.0117763680959)   \n",
       "4          (proposing, 0.000272373169922)   \n",
       "5            (dignified, 0.0112995870408)   \n",
       "6         (termination, 0.00317180046802)   \n",
       "7              (dim-lit, 0.0136646333736)   \n",
       "8              (notions, 0.0072122353146)   \n",
       "9             (busying, 0.00856519792035)   \n",
       "10           (monstrous, 0.0117319903283)   \n",
       "11              (slide, 0.00438859502192)   \n",
       "12             (didst, 0.000347544688848)   \n",
       "13              (square, 0.0070964018651)   \n",
       "14          (rikk-tikk, 0.00519490773207)   \n",
       "15             (slide, 0.000562281478282)   \n",
       "16             (wherry, 0.00966195787093)   \n",
       "17            (igneous, 0.00409963162997)   \n",
       "18          (monstrous, 0.00196020025545)   \n",
       "19         (questioned, 0.00504410347223)   \n",
       "\n",
       "                                       1  \\\n",
       "0          (despised, 0.000380151914649)   \n",
       "1         (monstrous, 0.000620133033802)   \n",
       "2           (system’s, 0.00402864898196)   \n",
       "3           (system’s, 0.00825525748098)   \n",
       "4             (slide, 0.000253588237462)   \n",
       "5             (lusted, 0.00774316586188)   \n",
       "6             (sealed, 0.00243017492494)   \n",
       "7       (unimaginable, 0.00605644030455)   \n",
       "8            (growths, 0.00635634121955)   \n",
       "9         (outrageous, 0.00583457330144)   \n",
       "10              (rash, 0.00763394869037)   \n",
       "11         (proposing, 0.00435155007625)   \n",
       "12          (reprint, 0.000325194716756)   \n",
       "13          (topsides, 0.00637492071063)   \n",
       "14       (pseudo-neck, 0.00471167409278)   \n",
       "15  (revolutionizing, 0.000371135610375)   \n",
       "16            (traces, 0.00953243451941)   \n",
       "17         (proposing, 0.00403348791377)   \n",
       "18            (jowels, 0.00134462068077)   \n",
       "19      (unimaginable, 0.00386690379106)   \n",
       "\n",
       "                                           2  \\\n",
       "0                  (rash, 0.000371716792211)   \n",
       "1                  (ride, 0.000561271667865)   \n",
       "2                   (rode, 0.00299619007811)   \n",
       "3   (physico-metaphysical, 0.00773296369325)   \n",
       "4          (unimaginable, 0.000245123189362)   \n",
       "5      (conventionalities, 0.00595562132647)   \n",
       "6                (pattern, 0.00242279031679)   \n",
       "7              (proposing, 0.00460040399113)   \n",
       "8                 (income, 0.00594282446104)   \n",
       "9               (despised, 0.00444480654173)   \n",
       "10                (ramp's, 0.00497906403168)   \n",
       "11                 (didst, 0.00356063432863)   \n",
       "12           (coffee-cup, 0.000311821590979)   \n",
       "13          (unimaginable, 0.00459155853649)   \n",
       "14                (oblige, 0.00467155409778)   \n",
       "15             (arrogant, 0.000360926048498)   \n",
       "16          (good-humored, 0.00837420900845)   \n",
       "17                 (slide, 0.00382300728116)   \n",
       "18                 (rash, 0.000830831225734)   \n",
       "19              (chop-one, 0.00378165793437)   \n",
       "\n",
       "                                           3  \\\n",
       "0             (monstrous, 0.000323945814796)   \n",
       "1                  (rash, 0.000522334662302)   \n",
       "2   (physico-metaphysical, 0.00249697206121)   \n",
       "3                   (rode, 0.00699916831432)   \n",
       "4              (arrogant, 0.000241585828651)   \n",
       "5                 (reenter, 0.0059535070953)   \n",
       "6              (barbarism, 0.00241971110791)   \n",
       "7            (termination, 0.00456519128252)   \n",
       "8              (proposing, 0.00353754888959)   \n",
       "9              (preceding, 0.00442294510805)   \n",
       "10                (broken, 0.00477632581481)   \n",
       "11                   (ride, 0.0034989972974)   \n",
       "12         (unimaginable, 0.000306399947856)   \n",
       "13                 (juice, 0.00418134136889)   \n",
       "14              (flamingo, 0.00396014999244)   \n",
       "15             (despised, 0.000354564930568)   \n",
       "16            (specialist, 0.00566364789371)   \n",
       "17       (revolutionizing, 0.00380327076557)   \n",
       "18              (furrows, 0.000823939292737)   \n",
       "19             (proposing, 0.00344116378091)   \n",
       "\n",
       "                                   4                                  5  \\\n",
       "0         (plows, 0.000309736667133)   (pseudo-neck, 0.000288165206479)   \n",
       "1         (costs, 0.000509276224587)         (divan, 0.000497601981759)   \n",
       "2       (arrogant, 0.00205065895995)        (italian, 0.00204921619122)   \n",
       "3       (revelled, 0.00637006305978)      (disappear, 0.00619269056295)   \n",
       "4         (plows, 0.000230887177958)           (bob, 0.000225963441424)   \n",
       "5       (flamingo, 0.00579466453157)        (sculled, 0.00459856684736)   \n",
       "6         (frosty, 0.00182106201857)           (lump, 0.00181412462853)   \n",
       "7          (divan, 0.00432987582537)        (cthulhu, 0.00414873876716)   \n",
       "8          (rolls, 0.00346411236431)         (licked, 0.00340095150891)   \n",
       "9    (houndsditch, 0.00386442895927)        (dangers, 0.00370611256099)   \n",
       "10      (commander, 0.0044767490139)        (furrows, 0.00439633513208)   \n",
       "11          (rash, 0.00347348409835)        (reprint, 0.00342731605242)   \n",
       "12     (despised, 0.000293520166832)     (proposing, 0.000291379198006)   \n",
       "13         (divan, 0.00412371575187)      (half-past, 0.00397516256537)   \n",
       "14      (reunited, 0.00384021217731)          (crank, 0.00370687488925)   \n",
       "15    (indignant, 0.000349762728258)  (unimaginable, 0.000347950735618)   \n",
       "16       (slammed, 0.00386528459312)      (ambiguity, 0.00345047005849)   \n",
       "17  (nicekind-hen, 0.00366308465171)     (coffee-cup, 0.00353880814836)   \n",
       "18          (ride, 0.00078239518911)      (reunited, 0.000781225188236)   \n",
       "19         (didst, 0.00342479815368)     (constructs, 0.00338070023908)   \n",
       "\n",
       "                                      6                                 7  \\\n",
       "0        (proposing, 0.000287332998659)      (reprint, 0.000283154060835)   \n",
       "1        (indignant, 0.000491034435519)      (busying, 0.000480484452156)   \n",
       "2         (disappear, 0.00203039464957)      (revelled, 0.00188675474041)   \n",
       "3              (viii, 0.00618196802299)      (arrogant, 0.00613990847949)   \n",
       "4         (despised, 0.000224293955812)      (furrows, 0.000220484575414)   \n",
       "5           (furrows, 0.00423010916449)        (urgent, 0.00398304023476)   \n",
       "6           (holland, 0.00180333059341)       (assaults, 0.0018024523156)   \n",
       "7   (revolutionizing, 0.00412410397227)       (andirons, 0.0038352325978)   \n",
       "8             (didst, 0.00309389882803)          (desk, 0.00306612697242)   \n",
       "9               (bob, 0.00358951632773)     (proposing, 0.00301429627047)   \n",
       "10            (plows, 0.00410018525225)    (marionettes, 0.0040802094001)   \n",
       "11      (night-black, 0.00339326784318)       (combine, 0.00334438195991)   \n",
       "12         (furrows, 0.000287067146551)       (pistol, 0.000283888190599)   \n",
       "13        (fishheads, 0.00391584626321)         (costs, 0.00380959112861)   \n",
       "14         (paralyze, 0.00364576012931)       (starker, 0.00359031779355)   \n",
       "15            (rode, 0.000341525402466)        (didst, 0.000335208063666)   \n",
       "16        (proposing, 0.00328774898956)        (batter, 0.00300400918027)   \n",
       "17  (counter-irritant, 0.0032536114195)  (unimaginable, 0.00299554332039)   \n",
       "18          (bunsen, 0.000756529442779)        (plows, 0.000734423107337)   \n",
       "19      (yellowstone, 0.00300086880859)        (nummos, 0.00298832147214)   \n",
       "\n",
       "                                 8                                 9  \n",
       "0        (rode, 0.000281321720589)       (ramp's, 0.000278829269337)  \n",
       "1       (cares, 0.000455146674747)  (pseudo-neck, 0.000454730021777)  \n",
       "2         (viii, 0.00185502694111)    (sensitized, 0.00175541990704)  \n",
       "3   (sensitized, 0.00573835798871)        (italian, 0.0052371958456)  \n",
       "4        (cobs, 0.000214450435563)         (rode, 0.000211049018347)  \n",
       "5      (teddy's, 0.00377829020657)   (temporarily, 0.00377406260008)  \n",
       "6         (hips, 0.00180057601558)      (runaways, 0.00178712232247)  \n",
       "7         (tips, 0.00378252842927)    (colourless, 0.00364077716261)  \n",
       "8      (pyramid, 0.00304260714124)       (bantam's, 0.0029791529171)  \n",
       "9       (bunsen, 0.00301309888647)  (unimaginable, 0.00289151885813)  \n",
       "10    (arrogant, 0.00403631612666)     (ambiguity, 0.00371879315184)  \n",
       "11  (drowsiness, 0.00331362790491)         (plows, 0.00329090946292)  \n",
       "12       (ride, 0.000277994556567)         (work, 0.000276372502125)  \n",
       "13  (remoteness, 0.00339656150291)        (leered, 0.00331489407735)  \n",
       "14        (rode, 0.00350347119217)      (desmonds, 0.00333241606514)  \n",
       "15      (plows, 0.000333298954773)     (reunited, 0.000322347051336)  \n",
       "16     (foothold, 0.0029736558152)        (licked, 0.00297053034268)  \n",
       "17       (phases, 0.0029057479008)         (didst, 0.00287076513677)  \n",
       "18      (costs, 0.000716052134794)       (broken, 0.000709387432865)  \n",
       "19    (diagrams, 0.00297109819625)  (imperatively, 0.00294899961507)  "
      ]
     },
     "execution_count": 127,
     "metadata": {},
     "output_type": "execute_result"
    },
    {
     "name": "stderr",
     "output_type": "stream",
     "text": [
      "/usr/lib/python3.5/json/encoder.py:198: DeprecationWarning: Interpreting naive datetime as local 2017-04-03 13:14:26.775638. Please add timezone info to timestamps.\n",
      "  chunks = self.iterencode(o, _one_shot=True)\n"
     ]
    }
   ],
   "source": [
    "#Topic probabilities\n",
    "topics = model.show_topics(num_topics = model.num_topics, formatted=False)\n",
    "\n",
    "num_topics = model.num_topics\n",
    "topics_df = pre.pd.DataFrame(index = range(num_topics), columns= range(10))\n",
    "\n",
    "for topic in topics:\n",
    "    idx = topic[0]\n",
    "    temp = topic[1]\n",
    "    topics_df.loc[idx] = temp\n",
    "        \n",
    "topics_df"
   ]
  },
  {
   "cell_type": "code",
   "execution_count": 129,
   "metadata": {
    "collapsed": false,
    "deletable": true,
    "editable": true
   },
   "outputs": [
    {
     "name": "stderr",
     "output_type": "stream",
     "text": [
      "/usr/lib/python3.5/json/encoder.py:198: DeprecationWarning: Interpreting naive datetime as local 2017-04-03 13:15:09.866447. Please add timezone info to timestamps.\n",
      "  chunks = self.iterencode(o, _one_shot=True)\n"
     ]
    }
   ],
   "source": [
    "import pandas as pd\n",
    "import regex as re\n",
    "def gensim2dataframe(model):\n",
    "    num_topics = model.num_topics\n",
    "    topics_df = pd.DataFrame(index = range(num_topics), columns= range(10))\n",
    "    topics = model.show_topics(num_topics = num_topics, log=False, formatted=False)\n",
    "    \n",
    "    for topic in topics:\n",
    "        idx = topic[0]\n",
    "        temp = topic[1]\n",
    "        topics_df.loc[idx] = temp\n",
    "\n",
    "    return topics_df"
   ]
  },
  {
   "cell_type": "code",
   "execution_count": 130,
   "metadata": {
    "collapsed": false,
    "deletable": true,
    "editable": true
   },
   "outputs": [
    {
     "data": {
      "text/html": [
       "<div>\n",
       "<table border=\"1\" class=\"dataframe\">\n",
       "  <thead>\n",
       "    <tr style=\"text-align: right;\">\n",
       "      <th></th>\n",
       "      <th>0</th>\n",
       "      <th>1</th>\n",
       "      <th>2</th>\n",
       "      <th>3</th>\n",
       "      <th>4</th>\n",
       "      <th>5</th>\n",
       "      <th>6</th>\n",
       "      <th>7</th>\n",
       "      <th>8</th>\n",
       "      <th>9</th>\n",
       "    </tr>\n",
       "  </thead>\n",
       "  <tbody>\n",
       "    <tr>\n",
       "      <th>0</th>\n",
       "      <td>(misunderstanding, 0.000836857295414)</td>\n",
       "      <td>(despised, 0.000380151914649)</td>\n",
       "      <td>(rash, 0.000371716792211)</td>\n",
       "      <td>(monstrous, 0.000323945814796)</td>\n",
       "      <td>(plows, 0.000309736667133)</td>\n",
       "      <td>(pseudo-neck, 0.000288165206479)</td>\n",
       "      <td>(proposing, 0.000287332998659)</td>\n",
       "      <td>(reprint, 0.000283154060835)</td>\n",
       "      <td>(rode, 0.000281321720589)</td>\n",
       "      <td>(ramp's, 0.000278829269337)</td>\n",
       "    </tr>\n",
       "    <tr>\n",
       "      <th>1</th>\n",
       "      <td>(arrogant, 0.000628108717352)</td>\n",
       "      <td>(monstrous, 0.000620133033802)</td>\n",
       "      <td>(ride, 0.000561271667865)</td>\n",
       "      <td>(rash, 0.000522334662302)</td>\n",
       "      <td>(costs, 0.000509276224587)</td>\n",
       "      <td>(divan, 0.000497601981759)</td>\n",
       "      <td>(indignant, 0.000491034435519)</td>\n",
       "      <td>(busying, 0.000480484452156)</td>\n",
       "      <td>(cares, 0.000455146674747)</td>\n",
       "      <td>(pseudo-neck, 0.000454730021777)</td>\n",
       "    </tr>\n",
       "    <tr>\n",
       "      <th>2</th>\n",
       "      <td>(tubular, 0.00432851612024)</td>\n",
       "      <td>(system’s, 0.00402864898196)</td>\n",
       "      <td>(rode, 0.00299619007811)</td>\n",
       "      <td>(physico-metaphysical, 0.00249697206121)</td>\n",
       "      <td>(arrogant, 0.00205065895995)</td>\n",
       "      <td>(italian, 0.00204921619122)</td>\n",
       "      <td>(disappear, 0.00203039464957)</td>\n",
       "      <td>(revelled, 0.00188675474041)</td>\n",
       "      <td>(viii, 0.00185502694111)</td>\n",
       "      <td>(sensitized, 0.00175541990704)</td>\n",
       "    </tr>\n",
       "    <tr>\n",
       "      <th>3</th>\n",
       "      <td>(tubular, 0.0117763680959)</td>\n",
       "      <td>(system’s, 0.00825525748098)</td>\n",
       "      <td>(physico-metaphysical, 0.00773296369325)</td>\n",
       "      <td>(rode, 0.00699916831432)</td>\n",
       "      <td>(revelled, 0.00637006305978)</td>\n",
       "      <td>(disappear, 0.00619269056295)</td>\n",
       "      <td>(viii, 0.00618196802299)</td>\n",
       "      <td>(arrogant, 0.00613990847949)</td>\n",
       "      <td>(sensitized, 0.00573835798871)</td>\n",
       "      <td>(italian, 0.0052371958456)</td>\n",
       "    </tr>\n",
       "    <tr>\n",
       "      <th>4</th>\n",
       "      <td>(proposing, 0.000272373169922)</td>\n",
       "      <td>(slide, 0.000253588237462)</td>\n",
       "      <td>(unimaginable, 0.000245123189362)</td>\n",
       "      <td>(arrogant, 0.000241585828651)</td>\n",
       "      <td>(plows, 0.000230887177958)</td>\n",
       "      <td>(bob, 0.000225963441424)</td>\n",
       "      <td>(despised, 0.000224293955812)</td>\n",
       "      <td>(furrows, 0.000220484575414)</td>\n",
       "      <td>(cobs, 0.000214450435563)</td>\n",
       "      <td>(rode, 0.000211049018347)</td>\n",
       "    </tr>\n",
       "    <tr>\n",
       "      <th>5</th>\n",
       "      <td>(dignified, 0.0112995870408)</td>\n",
       "      <td>(lusted, 0.00774316586188)</td>\n",
       "      <td>(conventionalities, 0.00595562132647)</td>\n",
       "      <td>(reenter, 0.0059535070953)</td>\n",
       "      <td>(flamingo, 0.00579466453157)</td>\n",
       "      <td>(sculled, 0.00459856684736)</td>\n",
       "      <td>(furrows, 0.00423010916449)</td>\n",
       "      <td>(urgent, 0.00398304023476)</td>\n",
       "      <td>(teddy's, 0.00377829020657)</td>\n",
       "      <td>(temporarily, 0.00377406260008)</td>\n",
       "    </tr>\n",
       "    <tr>\n",
       "      <th>6</th>\n",
       "      <td>(termination, 0.00317180046802)</td>\n",
       "      <td>(sealed, 0.00243017492494)</td>\n",
       "      <td>(pattern, 0.00242279031679)</td>\n",
       "      <td>(barbarism, 0.00241971110791)</td>\n",
       "      <td>(frosty, 0.00182106201857)</td>\n",
       "      <td>(lump, 0.00181412462853)</td>\n",
       "      <td>(holland, 0.00180333059341)</td>\n",
       "      <td>(assaults, 0.0018024523156)</td>\n",
       "      <td>(hips, 0.00180057601558)</td>\n",
       "      <td>(runaways, 0.00178712232247)</td>\n",
       "    </tr>\n",
       "    <tr>\n",
       "      <th>7</th>\n",
       "      <td>(dim-lit, 0.0136646333736)</td>\n",
       "      <td>(unimaginable, 0.00605644030455)</td>\n",
       "      <td>(proposing, 0.00460040399113)</td>\n",
       "      <td>(termination, 0.00456519128252)</td>\n",
       "      <td>(divan, 0.00432987582537)</td>\n",
       "      <td>(cthulhu, 0.00414873876716)</td>\n",
       "      <td>(revolutionizing, 0.00412410397227)</td>\n",
       "      <td>(andirons, 0.0038352325978)</td>\n",
       "      <td>(tips, 0.00378252842927)</td>\n",
       "      <td>(colourless, 0.00364077716261)</td>\n",
       "    </tr>\n",
       "    <tr>\n",
       "      <th>8</th>\n",
       "      <td>(notions, 0.0072122353146)</td>\n",
       "      <td>(growths, 0.00635634121955)</td>\n",
       "      <td>(income, 0.00594282446104)</td>\n",
       "      <td>(proposing, 0.00353754888959)</td>\n",
       "      <td>(rolls, 0.00346411236431)</td>\n",
       "      <td>(licked, 0.00340095150891)</td>\n",
       "      <td>(didst, 0.00309389882803)</td>\n",
       "      <td>(desk, 0.00306612697242)</td>\n",
       "      <td>(pyramid, 0.00304260714124)</td>\n",
       "      <td>(bantam's, 0.0029791529171)</td>\n",
       "    </tr>\n",
       "    <tr>\n",
       "      <th>9</th>\n",
       "      <td>(busying, 0.00856519792035)</td>\n",
       "      <td>(outrageous, 0.00583457330144)</td>\n",
       "      <td>(despised, 0.00444480654173)</td>\n",
       "      <td>(preceding, 0.00442294510805)</td>\n",
       "      <td>(houndsditch, 0.00386442895927)</td>\n",
       "      <td>(dangers, 0.00370611256099)</td>\n",
       "      <td>(bob, 0.00358951632773)</td>\n",
       "      <td>(proposing, 0.00301429627047)</td>\n",
       "      <td>(bunsen, 0.00301309888647)</td>\n",
       "      <td>(unimaginable, 0.00289151885813)</td>\n",
       "    </tr>\n",
       "    <tr>\n",
       "      <th>10</th>\n",
       "      <td>(monstrous, 0.0117319903283)</td>\n",
       "      <td>(rash, 0.00763394869037)</td>\n",
       "      <td>(ramp's, 0.00497906403168)</td>\n",
       "      <td>(broken, 0.00477632581481)</td>\n",
       "      <td>(commander, 0.0044767490139)</td>\n",
       "      <td>(furrows, 0.00439633513208)</td>\n",
       "      <td>(plows, 0.00410018525225)</td>\n",
       "      <td>(marionettes, 0.0040802094001)</td>\n",
       "      <td>(arrogant, 0.00403631612666)</td>\n",
       "      <td>(ambiguity, 0.00371879315184)</td>\n",
       "    </tr>\n",
       "    <tr>\n",
       "      <th>11</th>\n",
       "      <td>(slide, 0.00438859502192)</td>\n",
       "      <td>(proposing, 0.00435155007625)</td>\n",
       "      <td>(didst, 0.00356063432863)</td>\n",
       "      <td>(ride, 0.0034989972974)</td>\n",
       "      <td>(rash, 0.00347348409835)</td>\n",
       "      <td>(reprint, 0.00342731605242)</td>\n",
       "      <td>(night-black, 0.00339326784318)</td>\n",
       "      <td>(combine, 0.00334438195991)</td>\n",
       "      <td>(drowsiness, 0.00331362790491)</td>\n",
       "      <td>(plows, 0.00329090946292)</td>\n",
       "    </tr>\n",
       "    <tr>\n",
       "      <th>12</th>\n",
       "      <td>(didst, 0.000347544688848)</td>\n",
       "      <td>(reprint, 0.000325194716756)</td>\n",
       "      <td>(coffee-cup, 0.000311821590979)</td>\n",
       "      <td>(unimaginable, 0.000306399947856)</td>\n",
       "      <td>(despised, 0.000293520166832)</td>\n",
       "      <td>(proposing, 0.000291379198006)</td>\n",
       "      <td>(furrows, 0.000287067146551)</td>\n",
       "      <td>(pistol, 0.000283888190599)</td>\n",
       "      <td>(ride, 0.000277994556567)</td>\n",
       "      <td>(work, 0.000276372502125)</td>\n",
       "    </tr>\n",
       "    <tr>\n",
       "      <th>13</th>\n",
       "      <td>(square, 0.0070964018651)</td>\n",
       "      <td>(topsides, 0.00637492071063)</td>\n",
       "      <td>(unimaginable, 0.00459155853649)</td>\n",
       "      <td>(juice, 0.00418134136889)</td>\n",
       "      <td>(divan, 0.00412371575187)</td>\n",
       "      <td>(half-past, 0.00397516256537)</td>\n",
       "      <td>(fishheads, 0.00391584626321)</td>\n",
       "      <td>(costs, 0.00380959112861)</td>\n",
       "      <td>(remoteness, 0.00339656150291)</td>\n",
       "      <td>(leered, 0.00331489407735)</td>\n",
       "    </tr>\n",
       "    <tr>\n",
       "      <th>14</th>\n",
       "      <td>(rikk-tikk, 0.00519490773207)</td>\n",
       "      <td>(pseudo-neck, 0.00471167409278)</td>\n",
       "      <td>(oblige, 0.00467155409778)</td>\n",
       "      <td>(flamingo, 0.00396014999244)</td>\n",
       "      <td>(reunited, 0.00384021217731)</td>\n",
       "      <td>(crank, 0.00370687488925)</td>\n",
       "      <td>(paralyze, 0.00364576012931)</td>\n",
       "      <td>(starker, 0.00359031779355)</td>\n",
       "      <td>(rode, 0.00350347119217)</td>\n",
       "      <td>(desmonds, 0.00333241606514)</td>\n",
       "    </tr>\n",
       "    <tr>\n",
       "      <th>15</th>\n",
       "      <td>(slide, 0.000562281478282)</td>\n",
       "      <td>(revolutionizing, 0.000371135610375)</td>\n",
       "      <td>(arrogant, 0.000360926048498)</td>\n",
       "      <td>(despised, 0.000354564930568)</td>\n",
       "      <td>(indignant, 0.000349762728258)</td>\n",
       "      <td>(unimaginable, 0.000347950735618)</td>\n",
       "      <td>(rode, 0.000341525402466)</td>\n",
       "      <td>(didst, 0.000335208063666)</td>\n",
       "      <td>(plows, 0.000333298954773)</td>\n",
       "      <td>(reunited, 0.000322347051336)</td>\n",
       "    </tr>\n",
       "    <tr>\n",
       "      <th>16</th>\n",
       "      <td>(wherry, 0.00966195787093)</td>\n",
       "      <td>(traces, 0.00953243451941)</td>\n",
       "      <td>(good-humored, 0.00837420900845)</td>\n",
       "      <td>(specialist, 0.00566364789371)</td>\n",
       "      <td>(slammed, 0.00386528459312)</td>\n",
       "      <td>(ambiguity, 0.00345047005849)</td>\n",
       "      <td>(proposing, 0.00328774898956)</td>\n",
       "      <td>(batter, 0.00300400918027)</td>\n",
       "      <td>(foothold, 0.0029736558152)</td>\n",
       "      <td>(licked, 0.00297053034268)</td>\n",
       "    </tr>\n",
       "    <tr>\n",
       "      <th>17</th>\n",
       "      <td>(igneous, 0.00409963162997)</td>\n",
       "      <td>(proposing, 0.00403348791377)</td>\n",
       "      <td>(slide, 0.00382300728116)</td>\n",
       "      <td>(revolutionizing, 0.00380327076557)</td>\n",
       "      <td>(nicekind-hen, 0.00366308465171)</td>\n",
       "      <td>(coffee-cup, 0.00353880814836)</td>\n",
       "      <td>(counter-irritant, 0.0032536114195)</td>\n",
       "      <td>(unimaginable, 0.00299554332039)</td>\n",
       "      <td>(phases, 0.0029057479008)</td>\n",
       "      <td>(didst, 0.00287076513677)</td>\n",
       "    </tr>\n",
       "    <tr>\n",
       "      <th>18</th>\n",
       "      <td>(monstrous, 0.00196020025545)</td>\n",
       "      <td>(jowels, 0.00134462068077)</td>\n",
       "      <td>(rash, 0.000830831225734)</td>\n",
       "      <td>(furrows, 0.000823939292737)</td>\n",
       "      <td>(ride, 0.00078239518911)</td>\n",
       "      <td>(reunited, 0.000781225188236)</td>\n",
       "      <td>(bunsen, 0.000756529442779)</td>\n",
       "      <td>(plows, 0.000734423107337)</td>\n",
       "      <td>(costs, 0.000716052134794)</td>\n",
       "      <td>(broken, 0.000709387432865)</td>\n",
       "    </tr>\n",
       "    <tr>\n",
       "      <th>19</th>\n",
       "      <td>(questioned, 0.00504410347223)</td>\n",
       "      <td>(unimaginable, 0.00386690379106)</td>\n",
       "      <td>(chop-one, 0.00378165793437)</td>\n",
       "      <td>(proposing, 0.00344116378091)</td>\n",
       "      <td>(didst, 0.00342479815368)</td>\n",
       "      <td>(constructs, 0.00338070023908)</td>\n",
       "      <td>(yellowstone, 0.00300086880859)</td>\n",
       "      <td>(nummos, 0.00298832147214)</td>\n",
       "      <td>(diagrams, 0.00297109819625)</td>\n",
       "      <td>(imperatively, 0.00294899961507)</td>\n",
       "    </tr>\n",
       "  </tbody>\n",
       "</table>\n",
       "</div>"
      ],
      "text/plain": [
       "                                        0  \\\n",
       "0   (misunderstanding, 0.000836857295414)   \n",
       "1           (arrogant, 0.000628108717352)   \n",
       "2             (tubular, 0.00432851612024)   \n",
       "3              (tubular, 0.0117763680959)   \n",
       "4          (proposing, 0.000272373169922)   \n",
       "5            (dignified, 0.0112995870408)   \n",
       "6         (termination, 0.00317180046802)   \n",
       "7              (dim-lit, 0.0136646333736)   \n",
       "8              (notions, 0.0072122353146)   \n",
       "9             (busying, 0.00856519792035)   \n",
       "10           (monstrous, 0.0117319903283)   \n",
       "11              (slide, 0.00438859502192)   \n",
       "12             (didst, 0.000347544688848)   \n",
       "13              (square, 0.0070964018651)   \n",
       "14          (rikk-tikk, 0.00519490773207)   \n",
       "15             (slide, 0.000562281478282)   \n",
       "16             (wherry, 0.00966195787093)   \n",
       "17            (igneous, 0.00409963162997)   \n",
       "18          (monstrous, 0.00196020025545)   \n",
       "19         (questioned, 0.00504410347223)   \n",
       "\n",
       "                                       1  \\\n",
       "0          (despised, 0.000380151914649)   \n",
       "1         (monstrous, 0.000620133033802)   \n",
       "2           (system’s, 0.00402864898196)   \n",
       "3           (system’s, 0.00825525748098)   \n",
       "4             (slide, 0.000253588237462)   \n",
       "5             (lusted, 0.00774316586188)   \n",
       "6             (sealed, 0.00243017492494)   \n",
       "7       (unimaginable, 0.00605644030455)   \n",
       "8            (growths, 0.00635634121955)   \n",
       "9         (outrageous, 0.00583457330144)   \n",
       "10              (rash, 0.00763394869037)   \n",
       "11         (proposing, 0.00435155007625)   \n",
       "12          (reprint, 0.000325194716756)   \n",
       "13          (topsides, 0.00637492071063)   \n",
       "14       (pseudo-neck, 0.00471167409278)   \n",
       "15  (revolutionizing, 0.000371135610375)   \n",
       "16            (traces, 0.00953243451941)   \n",
       "17         (proposing, 0.00403348791377)   \n",
       "18            (jowels, 0.00134462068077)   \n",
       "19      (unimaginable, 0.00386690379106)   \n",
       "\n",
       "                                           2  \\\n",
       "0                  (rash, 0.000371716792211)   \n",
       "1                  (ride, 0.000561271667865)   \n",
       "2                   (rode, 0.00299619007811)   \n",
       "3   (physico-metaphysical, 0.00773296369325)   \n",
       "4          (unimaginable, 0.000245123189362)   \n",
       "5      (conventionalities, 0.00595562132647)   \n",
       "6                (pattern, 0.00242279031679)   \n",
       "7              (proposing, 0.00460040399113)   \n",
       "8                 (income, 0.00594282446104)   \n",
       "9               (despised, 0.00444480654173)   \n",
       "10                (ramp's, 0.00497906403168)   \n",
       "11                 (didst, 0.00356063432863)   \n",
       "12           (coffee-cup, 0.000311821590979)   \n",
       "13          (unimaginable, 0.00459155853649)   \n",
       "14                (oblige, 0.00467155409778)   \n",
       "15             (arrogant, 0.000360926048498)   \n",
       "16          (good-humored, 0.00837420900845)   \n",
       "17                 (slide, 0.00382300728116)   \n",
       "18                 (rash, 0.000830831225734)   \n",
       "19              (chop-one, 0.00378165793437)   \n",
       "\n",
       "                                           3  \\\n",
       "0             (monstrous, 0.000323945814796)   \n",
       "1                  (rash, 0.000522334662302)   \n",
       "2   (physico-metaphysical, 0.00249697206121)   \n",
       "3                   (rode, 0.00699916831432)   \n",
       "4              (arrogant, 0.000241585828651)   \n",
       "5                 (reenter, 0.0059535070953)   \n",
       "6              (barbarism, 0.00241971110791)   \n",
       "7            (termination, 0.00456519128252)   \n",
       "8              (proposing, 0.00353754888959)   \n",
       "9              (preceding, 0.00442294510805)   \n",
       "10                (broken, 0.00477632581481)   \n",
       "11                   (ride, 0.0034989972974)   \n",
       "12         (unimaginable, 0.000306399947856)   \n",
       "13                 (juice, 0.00418134136889)   \n",
       "14              (flamingo, 0.00396014999244)   \n",
       "15             (despised, 0.000354564930568)   \n",
       "16            (specialist, 0.00566364789371)   \n",
       "17       (revolutionizing, 0.00380327076557)   \n",
       "18              (furrows, 0.000823939292737)   \n",
       "19             (proposing, 0.00344116378091)   \n",
       "\n",
       "                                   4                                  5  \\\n",
       "0         (plows, 0.000309736667133)   (pseudo-neck, 0.000288165206479)   \n",
       "1         (costs, 0.000509276224587)         (divan, 0.000497601981759)   \n",
       "2       (arrogant, 0.00205065895995)        (italian, 0.00204921619122)   \n",
       "3       (revelled, 0.00637006305978)      (disappear, 0.00619269056295)   \n",
       "4         (plows, 0.000230887177958)           (bob, 0.000225963441424)   \n",
       "5       (flamingo, 0.00579466453157)        (sculled, 0.00459856684736)   \n",
       "6         (frosty, 0.00182106201857)           (lump, 0.00181412462853)   \n",
       "7          (divan, 0.00432987582537)        (cthulhu, 0.00414873876716)   \n",
       "8          (rolls, 0.00346411236431)         (licked, 0.00340095150891)   \n",
       "9    (houndsditch, 0.00386442895927)        (dangers, 0.00370611256099)   \n",
       "10      (commander, 0.0044767490139)        (furrows, 0.00439633513208)   \n",
       "11          (rash, 0.00347348409835)        (reprint, 0.00342731605242)   \n",
       "12     (despised, 0.000293520166832)     (proposing, 0.000291379198006)   \n",
       "13         (divan, 0.00412371575187)      (half-past, 0.00397516256537)   \n",
       "14      (reunited, 0.00384021217731)          (crank, 0.00370687488925)   \n",
       "15    (indignant, 0.000349762728258)  (unimaginable, 0.000347950735618)   \n",
       "16       (slammed, 0.00386528459312)      (ambiguity, 0.00345047005849)   \n",
       "17  (nicekind-hen, 0.00366308465171)     (coffee-cup, 0.00353880814836)   \n",
       "18          (ride, 0.00078239518911)      (reunited, 0.000781225188236)   \n",
       "19         (didst, 0.00342479815368)     (constructs, 0.00338070023908)   \n",
       "\n",
       "                                      6                                 7  \\\n",
       "0        (proposing, 0.000287332998659)      (reprint, 0.000283154060835)   \n",
       "1        (indignant, 0.000491034435519)      (busying, 0.000480484452156)   \n",
       "2         (disappear, 0.00203039464957)      (revelled, 0.00188675474041)   \n",
       "3              (viii, 0.00618196802299)      (arrogant, 0.00613990847949)   \n",
       "4         (despised, 0.000224293955812)      (furrows, 0.000220484575414)   \n",
       "5           (furrows, 0.00423010916449)        (urgent, 0.00398304023476)   \n",
       "6           (holland, 0.00180333059341)       (assaults, 0.0018024523156)   \n",
       "7   (revolutionizing, 0.00412410397227)       (andirons, 0.0038352325978)   \n",
       "8             (didst, 0.00309389882803)          (desk, 0.00306612697242)   \n",
       "9               (bob, 0.00358951632773)     (proposing, 0.00301429627047)   \n",
       "10            (plows, 0.00410018525225)    (marionettes, 0.0040802094001)   \n",
       "11      (night-black, 0.00339326784318)       (combine, 0.00334438195991)   \n",
       "12         (furrows, 0.000287067146551)       (pistol, 0.000283888190599)   \n",
       "13        (fishheads, 0.00391584626321)         (costs, 0.00380959112861)   \n",
       "14         (paralyze, 0.00364576012931)       (starker, 0.00359031779355)   \n",
       "15            (rode, 0.000341525402466)        (didst, 0.000335208063666)   \n",
       "16        (proposing, 0.00328774898956)        (batter, 0.00300400918027)   \n",
       "17  (counter-irritant, 0.0032536114195)  (unimaginable, 0.00299554332039)   \n",
       "18          (bunsen, 0.000756529442779)        (plows, 0.000734423107337)   \n",
       "19      (yellowstone, 0.00300086880859)        (nummos, 0.00298832147214)   \n",
       "\n",
       "                                 8                                 9  \n",
       "0        (rode, 0.000281321720589)       (ramp's, 0.000278829269337)  \n",
       "1       (cares, 0.000455146674747)  (pseudo-neck, 0.000454730021777)  \n",
       "2         (viii, 0.00185502694111)    (sensitized, 0.00175541990704)  \n",
       "3   (sensitized, 0.00573835798871)        (italian, 0.0052371958456)  \n",
       "4        (cobs, 0.000214450435563)         (rode, 0.000211049018347)  \n",
       "5      (teddy's, 0.00377829020657)   (temporarily, 0.00377406260008)  \n",
       "6         (hips, 0.00180057601558)      (runaways, 0.00178712232247)  \n",
       "7         (tips, 0.00378252842927)    (colourless, 0.00364077716261)  \n",
       "8      (pyramid, 0.00304260714124)       (bantam's, 0.0029791529171)  \n",
       "9       (bunsen, 0.00301309888647)  (unimaginable, 0.00289151885813)  \n",
       "10    (arrogant, 0.00403631612666)     (ambiguity, 0.00371879315184)  \n",
       "11  (drowsiness, 0.00331362790491)         (plows, 0.00329090946292)  \n",
       "12       (ride, 0.000277994556567)         (work, 0.000276372502125)  \n",
       "13  (remoteness, 0.00339656150291)        (leered, 0.00331489407735)  \n",
       "14        (rode, 0.00350347119217)      (desmonds, 0.00333241606514)  \n",
       "15      (plows, 0.000333298954773)     (reunited, 0.000322347051336)  \n",
       "16     (foothold, 0.0029736558152)        (licked, 0.00297053034268)  \n",
       "17       (phases, 0.0029057479008)         (didst, 0.00287076513677)  \n",
       "18      (costs, 0.000716052134794)       (broken, 0.000709387432865)  \n",
       "19    (diagrams, 0.00297109819625)  (imperatively, 0.00294899961507)  "
      ]
     },
     "execution_count": 130,
     "metadata": {},
     "output_type": "execute_result"
    },
    {
     "name": "stderr",
     "output_type": "stream",
     "text": [
      "/usr/lib/python3.5/json/encoder.py:198: DeprecationWarning: Interpreting naive datetime as local 2017-04-03 13:15:11.767803. Please add timezone info to timestamps.\n",
      "  chunks = self.iterencode(o, _one_shot=True)\n"
     ]
    }
   ],
   "source": [
    "topics_df = gensim2dataframe(model)\n",
    "topics_df"
   ]
  },
  {
   "cell_type": "code",
   "execution_count": 131,
   "metadata": {
    "collapsed": false,
    "deletable": true,
    "editable": true
   },
   "outputs": [
    {
     "data": {
      "text/html": [
       "<div>\n",
       "<table border=\"1\" class=\"dataframe\">\n",
       "  <thead>\n",
       "    <tr style=\"text-align: right;\">\n",
       "      <th></th>\n",
       "      <th>0</th>\n",
       "      <th>1</th>\n",
       "      <th>2</th>\n",
       "      <th>3</th>\n",
       "      <th>4</th>\n",
       "      <th>5</th>\n",
       "      <th>6</th>\n",
       "      <th>7</th>\n",
       "      <th>8</th>\n",
       "      <th>9</th>\n",
       "      <th>10</th>\n",
       "      <th>11</th>\n",
       "      <th>12</th>\n",
       "      <th>13</th>\n",
       "      <th>14</th>\n",
       "      <th>15</th>\n",
       "      <th>16</th>\n",
       "      <th>17</th>\n",
       "      <th>18</th>\n",
       "      <th>19</th>\n",
       "    </tr>\n",
       "  </thead>\n",
       "  <tbody>\n",
       "    <tr>\n",
       "      <th>0</th>\n",
       "      <td>(misunderstanding, 0.000836857295414)</td>\n",
       "      <td>(arrogant, 0.000628108717352)</td>\n",
       "      <td>(tubular, 0.00432851612024)</td>\n",
       "      <td>(tubular, 0.0117763680959)</td>\n",
       "      <td>(proposing, 0.000272373169922)</td>\n",
       "      <td>(dignified, 0.0112995870408)</td>\n",
       "      <td>(termination, 0.00317180046802)</td>\n",
       "      <td>(dim-lit, 0.0136646333736)</td>\n",
       "      <td>(notions, 0.0072122353146)</td>\n",
       "      <td>(busying, 0.00856519792035)</td>\n",
       "      <td>(monstrous, 0.0117319903283)</td>\n",
       "      <td>(slide, 0.00438859502192)</td>\n",
       "      <td>(didst, 0.000347544688848)</td>\n",
       "      <td>(square, 0.0070964018651)</td>\n",
       "      <td>(rikk-tikk, 0.00519490773207)</td>\n",
       "      <td>(slide, 0.000562281478282)</td>\n",
       "      <td>(wherry, 0.00966195787093)</td>\n",
       "      <td>(igneous, 0.00409963162997)</td>\n",
       "      <td>(monstrous, 0.00196020025545)</td>\n",
       "      <td>(questioned, 0.00504410347223)</td>\n",
       "    </tr>\n",
       "    <tr>\n",
       "      <th>1</th>\n",
       "      <td>(despised, 0.000380151914649)</td>\n",
       "      <td>(monstrous, 0.000620133033802)</td>\n",
       "      <td>(system’s, 0.00402864898196)</td>\n",
       "      <td>(system’s, 0.00825525748098)</td>\n",
       "      <td>(slide, 0.000253588237462)</td>\n",
       "      <td>(lusted, 0.00774316586188)</td>\n",
       "      <td>(sealed, 0.00243017492494)</td>\n",
       "      <td>(unimaginable, 0.00605644030455)</td>\n",
       "      <td>(growths, 0.00635634121955)</td>\n",
       "      <td>(outrageous, 0.00583457330144)</td>\n",
       "      <td>(rash, 0.00763394869037)</td>\n",
       "      <td>(proposing, 0.00435155007625)</td>\n",
       "      <td>(reprint, 0.000325194716756)</td>\n",
       "      <td>(topsides, 0.00637492071063)</td>\n",
       "      <td>(pseudo-neck, 0.00471167409278)</td>\n",
       "      <td>(revolutionizing, 0.000371135610375)</td>\n",
       "      <td>(traces, 0.00953243451941)</td>\n",
       "      <td>(proposing, 0.00403348791377)</td>\n",
       "      <td>(jowels, 0.00134462068077)</td>\n",
       "      <td>(unimaginable, 0.00386690379106)</td>\n",
       "    </tr>\n",
       "    <tr>\n",
       "      <th>2</th>\n",
       "      <td>(rash, 0.000371716792211)</td>\n",
       "      <td>(ride, 0.000561271667865)</td>\n",
       "      <td>(rode, 0.00299619007811)</td>\n",
       "      <td>(physico-metaphysical, 0.00773296369325)</td>\n",
       "      <td>(unimaginable, 0.000245123189362)</td>\n",
       "      <td>(conventionalities, 0.00595562132647)</td>\n",
       "      <td>(pattern, 0.00242279031679)</td>\n",
       "      <td>(proposing, 0.00460040399113)</td>\n",
       "      <td>(income, 0.00594282446104)</td>\n",
       "      <td>(despised, 0.00444480654173)</td>\n",
       "      <td>(ramp's, 0.00497906403168)</td>\n",
       "      <td>(didst, 0.00356063432863)</td>\n",
       "      <td>(coffee-cup, 0.000311821590979)</td>\n",
       "      <td>(unimaginable, 0.00459155853649)</td>\n",
       "      <td>(oblige, 0.00467155409778)</td>\n",
       "      <td>(arrogant, 0.000360926048498)</td>\n",
       "      <td>(good-humored, 0.00837420900845)</td>\n",
       "      <td>(slide, 0.00382300728116)</td>\n",
       "      <td>(rash, 0.000830831225734)</td>\n",
       "      <td>(chop-one, 0.00378165793437)</td>\n",
       "    </tr>\n",
       "    <tr>\n",
       "      <th>3</th>\n",
       "      <td>(monstrous, 0.000323945814796)</td>\n",
       "      <td>(rash, 0.000522334662302)</td>\n",
       "      <td>(physico-metaphysical, 0.00249697206121)</td>\n",
       "      <td>(rode, 0.00699916831432)</td>\n",
       "      <td>(arrogant, 0.000241585828651)</td>\n",
       "      <td>(reenter, 0.0059535070953)</td>\n",
       "      <td>(barbarism, 0.00241971110791)</td>\n",
       "      <td>(termination, 0.00456519128252)</td>\n",
       "      <td>(proposing, 0.00353754888959)</td>\n",
       "      <td>(preceding, 0.00442294510805)</td>\n",
       "      <td>(broken, 0.00477632581481)</td>\n",
       "      <td>(ride, 0.0034989972974)</td>\n",
       "      <td>(unimaginable, 0.000306399947856)</td>\n",
       "      <td>(juice, 0.00418134136889)</td>\n",
       "      <td>(flamingo, 0.00396014999244)</td>\n",
       "      <td>(despised, 0.000354564930568)</td>\n",
       "      <td>(specialist, 0.00566364789371)</td>\n",
       "      <td>(revolutionizing, 0.00380327076557)</td>\n",
       "      <td>(furrows, 0.000823939292737)</td>\n",
       "      <td>(proposing, 0.00344116378091)</td>\n",
       "    </tr>\n",
       "    <tr>\n",
       "      <th>4</th>\n",
       "      <td>(plows, 0.000309736667133)</td>\n",
       "      <td>(costs, 0.000509276224587)</td>\n",
       "      <td>(arrogant, 0.00205065895995)</td>\n",
       "      <td>(revelled, 0.00637006305978)</td>\n",
       "      <td>(plows, 0.000230887177958)</td>\n",
       "      <td>(flamingo, 0.00579466453157)</td>\n",
       "      <td>(frosty, 0.00182106201857)</td>\n",
       "      <td>(divan, 0.00432987582537)</td>\n",
       "      <td>(rolls, 0.00346411236431)</td>\n",
       "      <td>(houndsditch, 0.00386442895927)</td>\n",
       "      <td>(commander, 0.0044767490139)</td>\n",
       "      <td>(rash, 0.00347348409835)</td>\n",
       "      <td>(despised, 0.000293520166832)</td>\n",
       "      <td>(divan, 0.00412371575187)</td>\n",
       "      <td>(reunited, 0.00384021217731)</td>\n",
       "      <td>(indignant, 0.000349762728258)</td>\n",
       "      <td>(slammed, 0.00386528459312)</td>\n",
       "      <td>(nicekind-hen, 0.00366308465171)</td>\n",
       "      <td>(ride, 0.00078239518911)</td>\n",
       "      <td>(didst, 0.00342479815368)</td>\n",
       "    </tr>\n",
       "    <tr>\n",
       "      <th>5</th>\n",
       "      <td>(pseudo-neck, 0.000288165206479)</td>\n",
       "      <td>(divan, 0.000497601981759)</td>\n",
       "      <td>(italian, 0.00204921619122)</td>\n",
       "      <td>(disappear, 0.00619269056295)</td>\n",
       "      <td>(bob, 0.000225963441424)</td>\n",
       "      <td>(sculled, 0.00459856684736)</td>\n",
       "      <td>(lump, 0.00181412462853)</td>\n",
       "      <td>(cthulhu, 0.00414873876716)</td>\n",
       "      <td>(licked, 0.00340095150891)</td>\n",
       "      <td>(dangers, 0.00370611256099)</td>\n",
       "      <td>(furrows, 0.00439633513208)</td>\n",
       "      <td>(reprint, 0.00342731605242)</td>\n",
       "      <td>(proposing, 0.000291379198006)</td>\n",
       "      <td>(half-past, 0.00397516256537)</td>\n",
       "      <td>(crank, 0.00370687488925)</td>\n",
       "      <td>(unimaginable, 0.000347950735618)</td>\n",
       "      <td>(ambiguity, 0.00345047005849)</td>\n",
       "      <td>(coffee-cup, 0.00353880814836)</td>\n",
       "      <td>(reunited, 0.000781225188236)</td>\n",
       "      <td>(constructs, 0.00338070023908)</td>\n",
       "    </tr>\n",
       "    <tr>\n",
       "      <th>6</th>\n",
       "      <td>(proposing, 0.000287332998659)</td>\n",
       "      <td>(indignant, 0.000491034435519)</td>\n",
       "      <td>(disappear, 0.00203039464957)</td>\n",
       "      <td>(viii, 0.00618196802299)</td>\n",
       "      <td>(despised, 0.000224293955812)</td>\n",
       "      <td>(furrows, 0.00423010916449)</td>\n",
       "      <td>(holland, 0.00180333059341)</td>\n",
       "      <td>(revolutionizing, 0.00412410397227)</td>\n",
       "      <td>(didst, 0.00309389882803)</td>\n",
       "      <td>(bob, 0.00358951632773)</td>\n",
       "      <td>(plows, 0.00410018525225)</td>\n",
       "      <td>(night-black, 0.00339326784318)</td>\n",
       "      <td>(furrows, 0.000287067146551)</td>\n",
       "      <td>(fishheads, 0.00391584626321)</td>\n",
       "      <td>(paralyze, 0.00364576012931)</td>\n",
       "      <td>(rode, 0.000341525402466)</td>\n",
       "      <td>(proposing, 0.00328774898956)</td>\n",
       "      <td>(counter-irritant, 0.0032536114195)</td>\n",
       "      <td>(bunsen, 0.000756529442779)</td>\n",
       "      <td>(yellowstone, 0.00300086880859)</td>\n",
       "    </tr>\n",
       "    <tr>\n",
       "      <th>7</th>\n",
       "      <td>(reprint, 0.000283154060835)</td>\n",
       "      <td>(busying, 0.000480484452156)</td>\n",
       "      <td>(revelled, 0.00188675474041)</td>\n",
       "      <td>(arrogant, 0.00613990847949)</td>\n",
       "      <td>(furrows, 0.000220484575414)</td>\n",
       "      <td>(urgent, 0.00398304023476)</td>\n",
       "      <td>(assaults, 0.0018024523156)</td>\n",
       "      <td>(andirons, 0.0038352325978)</td>\n",
       "      <td>(desk, 0.00306612697242)</td>\n",
       "      <td>(proposing, 0.00301429627047)</td>\n",
       "      <td>(marionettes, 0.0040802094001)</td>\n",
       "      <td>(combine, 0.00334438195991)</td>\n",
       "      <td>(pistol, 0.000283888190599)</td>\n",
       "      <td>(costs, 0.00380959112861)</td>\n",
       "      <td>(starker, 0.00359031779355)</td>\n",
       "      <td>(didst, 0.000335208063666)</td>\n",
       "      <td>(batter, 0.00300400918027)</td>\n",
       "      <td>(unimaginable, 0.00299554332039)</td>\n",
       "      <td>(plows, 0.000734423107337)</td>\n",
       "      <td>(nummos, 0.00298832147214)</td>\n",
       "    </tr>\n",
       "    <tr>\n",
       "      <th>8</th>\n",
       "      <td>(rode, 0.000281321720589)</td>\n",
       "      <td>(cares, 0.000455146674747)</td>\n",
       "      <td>(viii, 0.00185502694111)</td>\n",
       "      <td>(sensitized, 0.00573835798871)</td>\n",
       "      <td>(cobs, 0.000214450435563)</td>\n",
       "      <td>(teddy's, 0.00377829020657)</td>\n",
       "      <td>(hips, 0.00180057601558)</td>\n",
       "      <td>(tips, 0.00378252842927)</td>\n",
       "      <td>(pyramid, 0.00304260714124)</td>\n",
       "      <td>(bunsen, 0.00301309888647)</td>\n",
       "      <td>(arrogant, 0.00403631612666)</td>\n",
       "      <td>(drowsiness, 0.00331362790491)</td>\n",
       "      <td>(ride, 0.000277994556567)</td>\n",
       "      <td>(remoteness, 0.00339656150291)</td>\n",
       "      <td>(rode, 0.00350347119217)</td>\n",
       "      <td>(plows, 0.000333298954773)</td>\n",
       "      <td>(foothold, 0.0029736558152)</td>\n",
       "      <td>(phases, 0.0029057479008)</td>\n",
       "      <td>(costs, 0.000716052134794)</td>\n",
       "      <td>(diagrams, 0.00297109819625)</td>\n",
       "    </tr>\n",
       "    <tr>\n",
       "      <th>9</th>\n",
       "      <td>(ramp's, 0.000278829269337)</td>\n",
       "      <td>(pseudo-neck, 0.000454730021777)</td>\n",
       "      <td>(sensitized, 0.00175541990704)</td>\n",
       "      <td>(italian, 0.0052371958456)</td>\n",
       "      <td>(rode, 0.000211049018347)</td>\n",
       "      <td>(temporarily, 0.00377406260008)</td>\n",
       "      <td>(runaways, 0.00178712232247)</td>\n",
       "      <td>(colourless, 0.00364077716261)</td>\n",
       "      <td>(bantam's, 0.0029791529171)</td>\n",
       "      <td>(unimaginable, 0.00289151885813)</td>\n",
       "      <td>(ambiguity, 0.00371879315184)</td>\n",
       "      <td>(plows, 0.00329090946292)</td>\n",
       "      <td>(work, 0.000276372502125)</td>\n",
       "      <td>(leered, 0.00331489407735)</td>\n",
       "      <td>(desmonds, 0.00333241606514)</td>\n",
       "      <td>(reunited, 0.000322347051336)</td>\n",
       "      <td>(licked, 0.00297053034268)</td>\n",
       "      <td>(didst, 0.00287076513677)</td>\n",
       "      <td>(broken, 0.000709387432865)</td>\n",
       "      <td>(imperatively, 0.00294899961507)</td>\n",
       "    </tr>\n",
       "  </tbody>\n",
       "</table>\n",
       "</div>"
      ],
      "text/plain": [
       "                                      0                                 1   \\\n",
       "0  (misunderstanding, 0.000836857295414)     (arrogant, 0.000628108717352)   \n",
       "1          (despised, 0.000380151914649)    (monstrous, 0.000620133033802)   \n",
       "2              (rash, 0.000371716792211)         (ride, 0.000561271667865)   \n",
       "3         (monstrous, 0.000323945814796)         (rash, 0.000522334662302)   \n",
       "4             (plows, 0.000309736667133)        (costs, 0.000509276224587)   \n",
       "5       (pseudo-neck, 0.000288165206479)        (divan, 0.000497601981759)   \n",
       "6         (proposing, 0.000287332998659)    (indignant, 0.000491034435519)   \n",
       "7           (reprint, 0.000283154060835)      (busying, 0.000480484452156)   \n",
       "8              (rode, 0.000281321720589)        (cares, 0.000455146674747)   \n",
       "9            (ramp's, 0.000278829269337)  (pseudo-neck, 0.000454730021777)   \n",
       "\n",
       "                                         2   \\\n",
       "0               (tubular, 0.00432851612024)   \n",
       "1              (system’s, 0.00402864898196)   \n",
       "2                  (rode, 0.00299619007811)   \n",
       "3  (physico-metaphysical, 0.00249697206121)   \n",
       "4              (arrogant, 0.00205065895995)   \n",
       "5               (italian, 0.00204921619122)   \n",
       "6             (disappear, 0.00203039464957)   \n",
       "7              (revelled, 0.00188675474041)   \n",
       "8                  (viii, 0.00185502694111)   \n",
       "9            (sensitized, 0.00175541990704)   \n",
       "\n",
       "                                         3   \\\n",
       "0                (tubular, 0.0117763680959)   \n",
       "1              (system’s, 0.00825525748098)   \n",
       "2  (physico-metaphysical, 0.00773296369325)   \n",
       "3                  (rode, 0.00699916831432)   \n",
       "4              (revelled, 0.00637006305978)   \n",
       "5             (disappear, 0.00619269056295)   \n",
       "6                  (viii, 0.00618196802299)   \n",
       "7              (arrogant, 0.00613990847949)   \n",
       "8            (sensitized, 0.00573835798871)   \n",
       "9                (italian, 0.0052371958456)   \n",
       "\n",
       "                                  4                                      5   \\\n",
       "0     (proposing, 0.000272373169922)           (dignified, 0.0112995870408)   \n",
       "1         (slide, 0.000253588237462)             (lusted, 0.00774316586188)   \n",
       "2  (unimaginable, 0.000245123189362)  (conventionalities, 0.00595562132647)   \n",
       "3      (arrogant, 0.000241585828651)             (reenter, 0.0059535070953)   \n",
       "4         (plows, 0.000230887177958)           (flamingo, 0.00579466453157)   \n",
       "5           (bob, 0.000225963441424)            (sculled, 0.00459856684736)   \n",
       "6      (despised, 0.000224293955812)            (furrows, 0.00423010916449)   \n",
       "7       (furrows, 0.000220484575414)             (urgent, 0.00398304023476)   \n",
       "8          (cobs, 0.000214450435563)            (teddy's, 0.00377829020657)   \n",
       "9          (rode, 0.000211049018347)        (temporarily, 0.00377406260008)   \n",
       "\n",
       "                                6                                    7   \\\n",
       "0  (termination, 0.00317180046802)           (dim-lit, 0.0136646333736)   \n",
       "1       (sealed, 0.00243017492494)     (unimaginable, 0.00605644030455)   \n",
       "2      (pattern, 0.00242279031679)        (proposing, 0.00460040399113)   \n",
       "3    (barbarism, 0.00241971110791)      (termination, 0.00456519128252)   \n",
       "4       (frosty, 0.00182106201857)            (divan, 0.00432987582537)   \n",
       "5         (lump, 0.00181412462853)          (cthulhu, 0.00414873876716)   \n",
       "6      (holland, 0.00180333059341)  (revolutionizing, 0.00412410397227)   \n",
       "7      (assaults, 0.0018024523156)          (andirons, 0.0038352325978)   \n",
       "8         (hips, 0.00180057601558)             (tips, 0.00378252842927)   \n",
       "9     (runaways, 0.00178712232247)       (colourless, 0.00364077716261)   \n",
       "\n",
       "                              8                                 9   \\\n",
       "0     (notions, 0.0072122353146)       (busying, 0.00856519792035)   \n",
       "1    (growths, 0.00635634121955)    (outrageous, 0.00583457330144)   \n",
       "2     (income, 0.00594282446104)      (despised, 0.00444480654173)   \n",
       "3  (proposing, 0.00353754888959)     (preceding, 0.00442294510805)   \n",
       "4      (rolls, 0.00346411236431)   (houndsditch, 0.00386442895927)   \n",
       "5     (licked, 0.00340095150891)       (dangers, 0.00370611256099)   \n",
       "6      (didst, 0.00309389882803)           (bob, 0.00358951632773)   \n",
       "7       (desk, 0.00306612697242)     (proposing, 0.00301429627047)   \n",
       "8    (pyramid, 0.00304260714124)        (bunsen, 0.00301309888647)   \n",
       "9    (bantam's, 0.0029791529171)  (unimaginable, 0.00289151885813)   \n",
       "\n",
       "                               10                               11  \\\n",
       "0    (monstrous, 0.0117319903283)        (slide, 0.00438859502192)   \n",
       "1        (rash, 0.00763394869037)    (proposing, 0.00435155007625)   \n",
       "2      (ramp's, 0.00497906403168)        (didst, 0.00356063432863)   \n",
       "3      (broken, 0.00477632581481)          (ride, 0.0034989972974)   \n",
       "4    (commander, 0.0044767490139)         (rash, 0.00347348409835)   \n",
       "5     (furrows, 0.00439633513208)      (reprint, 0.00342731605242)   \n",
       "6       (plows, 0.00410018525225)  (night-black, 0.00339326784318)   \n",
       "7  (marionettes, 0.0040802094001)      (combine, 0.00334438195991)   \n",
       "8    (arrogant, 0.00403631612666)   (drowsiness, 0.00331362790491)   \n",
       "9   (ambiguity, 0.00371879315184)        (plows, 0.00329090946292)   \n",
       "\n",
       "                                  12                                13  \\\n",
       "0         (didst, 0.000347544688848)         (square, 0.0070964018651)   \n",
       "1       (reprint, 0.000325194716756)      (topsides, 0.00637492071063)   \n",
       "2    (coffee-cup, 0.000311821590979)  (unimaginable, 0.00459155853649)   \n",
       "3  (unimaginable, 0.000306399947856)         (juice, 0.00418134136889)   \n",
       "4      (despised, 0.000293520166832)         (divan, 0.00412371575187)   \n",
       "5     (proposing, 0.000291379198006)     (half-past, 0.00397516256537)   \n",
       "6       (furrows, 0.000287067146551)     (fishheads, 0.00391584626321)   \n",
       "7        (pistol, 0.000283888190599)         (costs, 0.00380959112861)   \n",
       "8          (ride, 0.000277994556567)    (remoteness, 0.00339656150291)   \n",
       "9          (work, 0.000276372502125)        (leered, 0.00331489407735)   \n",
       "\n",
       "                                14                                    15  \\\n",
       "0    (rikk-tikk, 0.00519490773207)            (slide, 0.000562281478282)   \n",
       "1  (pseudo-neck, 0.00471167409278)  (revolutionizing, 0.000371135610375)   \n",
       "2       (oblige, 0.00467155409778)         (arrogant, 0.000360926048498)   \n",
       "3     (flamingo, 0.00396014999244)         (despised, 0.000354564930568)   \n",
       "4     (reunited, 0.00384021217731)        (indignant, 0.000349762728258)   \n",
       "5        (crank, 0.00370687488925)     (unimaginable, 0.000347950735618)   \n",
       "6     (paralyze, 0.00364576012931)             (rode, 0.000341525402466)   \n",
       "7      (starker, 0.00359031779355)            (didst, 0.000335208063666)   \n",
       "8         (rode, 0.00350347119217)            (plows, 0.000333298954773)   \n",
       "9     (desmonds, 0.00333241606514)         (reunited, 0.000322347051336)   \n",
       "\n",
       "                                 16                                   17  \\\n",
       "0        (wherry, 0.00966195787093)          (igneous, 0.00409963162997)   \n",
       "1        (traces, 0.00953243451941)        (proposing, 0.00403348791377)   \n",
       "2  (good-humored, 0.00837420900845)            (slide, 0.00382300728116)   \n",
       "3    (specialist, 0.00566364789371)  (revolutionizing, 0.00380327076557)   \n",
       "4       (slammed, 0.00386528459312)     (nicekind-hen, 0.00366308465171)   \n",
       "5     (ambiguity, 0.00345047005849)       (coffee-cup, 0.00353880814836)   \n",
       "6     (proposing, 0.00328774898956)  (counter-irritant, 0.0032536114195)   \n",
       "7        (batter, 0.00300400918027)     (unimaginable, 0.00299554332039)   \n",
       "8       (foothold, 0.0029736558152)            (phases, 0.0029057479008)   \n",
       "9        (licked, 0.00297053034268)            (didst, 0.00287076513677)   \n",
       "\n",
       "                              18                                19  \n",
       "0  (monstrous, 0.00196020025545)    (questioned, 0.00504410347223)  \n",
       "1     (jowels, 0.00134462068077)  (unimaginable, 0.00386690379106)  \n",
       "2      (rash, 0.000830831225734)      (chop-one, 0.00378165793437)  \n",
       "3   (furrows, 0.000823939292737)     (proposing, 0.00344116378091)  \n",
       "4       (ride, 0.00078239518911)         (didst, 0.00342479815368)  \n",
       "5  (reunited, 0.000781225188236)    (constructs, 0.00338070023908)  \n",
       "6    (bunsen, 0.000756529442779)   (yellowstone, 0.00300086880859)  \n",
       "7     (plows, 0.000734423107337)        (nummos, 0.00298832147214)  \n",
       "8     (costs, 0.000716052134794)      (diagrams, 0.00297109819625)  \n",
       "9    (broken, 0.000709387432865)  (imperatively, 0.00294899961507)  "
      ]
     },
     "execution_count": 131,
     "metadata": {},
     "output_type": "execute_result"
    },
    {
     "name": "stderr",
     "output_type": "stream",
     "text": [
      "/usr/lib/python3.5/json/encoder.py:198: DeprecationWarning: Interpreting naive datetime as local 2017-04-03 13:15:17.982455. Please add timezone info to timestamps.\n",
      "  chunks = self.iterencode(o, _one_shot=True)\n"
     ]
    }
   ],
   "source": [
    "doc_topic = topics_df.T\n",
    "doc_topic"
   ]
  },
  {
   "cell_type": "markdown",
   "metadata": {
    "deletable": true,
    "editable": true
   },
   "source": [
    "## Visualisierung "
   ]
  },
  {
   "cell_type": "code",
   "execution_count": 132,
   "metadata": {
    "collapsed": false,
    "deletable": true,
    "editable": true
   },
   "outputs": [
    {
     "data": {
      "text/plain": [
       "\"lda_model = 'out_easy/corpus.lda'\\ncorpus = 'out_easy/corpus.mm'\\ndictionary = 'out_easy/corpus.dict'\\ndoc_labels = 'out_easy/corpus_doclabels.txt'\\ninteractive  = False\\n\\nvis = visual.Visualization(lda_model, corpus, dictionary, doc_labels, interactive)\""
      ]
     },
     "execution_count": 132,
     "metadata": {},
     "output_type": "execute_result"
    },
    {
     "name": "stderr",
     "output_type": "stream",
     "text": [
      "/usr/lib/python3.5/json/encoder.py:198: DeprecationWarning: Interpreting naive datetime as local 2017-04-03 13:15:25.395551. Please add timezone info to timestamps.\n",
      "  chunks = self.iterencode(o, _one_shot=True)\n"
     ]
    }
   ],
   "source": [
    "'''lda_model = 'out_easy/corpus.lda'\n",
    "corpus = 'out_easy/corpus.mm'\n",
    "dictionary = 'out_easy/corpus.dict'\n",
    "doc_labels = 'out_easy/corpus_doclabels.txt'\n",
    "interactive  = False\n",
    "\n",
    "vis = visual.Visualization(lda_model, corpus, dictionary, doc_labels, interactive)'''"
   ]
  },
  {
   "cell_type": "markdown",
   "metadata": {
    "deletable": true,
    "editable": true
   },
   "source": [
    "##### Create a document-topic matrix (that is a pandas data frame actually)"
   ]
  },
  {
   "cell_type": "code",
   "execution_count": 133,
   "metadata": {
    "collapsed": false,
    "deletable": true,
    "editable": true
   },
   "outputs": [
    {
     "name": "stderr",
     "output_type": "stream",
     "text": [
      "/usr/lib/python3.5/json/encoder.py:198: DeprecationWarning: Interpreting naive datetime as local 2017-04-03 13:15:26.206171. Please add timezone info to timestamps.\n",
      "  chunks = self.iterencode(o, _one_shot=True)\n"
     ]
    }
   ],
   "source": [
    "doc_topic = visual.create_doc_topic(mm, model, doc_labels)"
   ]
  },
  {
   "cell_type": "markdown",
   "metadata": {
    "deletable": true,
    "editable": true
   },
   "source": [
    "##### Visualize document-topic matrix"
   ]
  },
  {
   "cell_type": "code",
   "execution_count": 134,
   "metadata": {
    "collapsed": false,
    "deletable": true,
    "editable": true
   },
   "outputs": [
    {
     "data": {
      "text/plain": [
       "<module 'matplotlib.pyplot' from '/home/sina/.local/lib/python3.5/site-packages/matplotlib/pyplot.py'>"
      ]
     },
     "execution_count": 134,
     "metadata": {},
     "output_type": "execute_result"
    },
    {
     "data": {
      "image/png": "[encoded data removed]",
      "text/plain": [
       "<matplotlib.figure.Figure at 0x7f2ef6d02278>"
      ]
     },
     "metadata": {},
     "output_type": "display_data"
    },
    {
     "name": "stderr",
     "output_type": "stream",
     "text": [
      "/usr/lib/python3.5/json/encoder.py:198: DeprecationWarning: Interpreting naive datetime as local 2017-04-03 13:15:27.580634. Please add timezone info to timestamps.\n",
      "  chunks = self.iterencode(o, _one_shot=True)\n"
     ]
    }
   ],
   "source": [
    "%matplotlib inline\n",
    "visual.doc_topic_heatmap(doc_topic)"
   ]
  },
  {
   "cell_type": "markdown",
   "metadata": {
    "deletable": true,
    "editable": true
   },
   "source": [
    "##### Visualize topic distribution in a single document"
   ]
  },
  {
   "cell_type": "code",
   "execution_count": 135,
   "metadata": {
    "collapsed": false,
    "deletable": true,
    "editable": true
   },
   "outputs": [
    {
     "data": {
      "text/plain": [
       "<module 'matplotlib.pyplot' from '/home/sina/.local/lib/python3.5/site-packages/matplotlib/pyplot.py'>"
      ]
     },
     "execution_count": 135,
     "metadata": {},
     "output_type": "execute_result"
    },
    {
     "data": {
      "image/png": "[encoded data removed]",
      "text/plain": [
       "<matplotlib.figure.Figure at 0x7f2ef6a76898>"
      ]
     },
     "metadata": {},
     "output_type": "display_data"
    },
    {
     "name": "stderr",
     "output_type": "stream",
     "text": [
      "/usr/lib/python3.5/json/encoder.py:198: DeprecationWarning: Interpreting naive datetime as local 2017-04-03 13:15:32.134199. Please add timezone info to timestamps.\n",
      "  chunks = self.iterencode(o, _one_shot=True)\n"
     ]
    }
   ],
   "source": [
    "visual.plot_doc_topics(doc_topic, 0)"
   ]
  },
  {
   "cell_type": "markdown",
   "metadata": {
    "collapsed": true,
    "deletable": true,
    "editable": true
   },
   "source": [
    "![success](http://cdn2.hubspot.net/hub/128506/file-446943132-jpg/images/computer_woman_success.jpg)"
   ]
  }
 ],
 "metadata": {
  "kernelspec": {
   "display_name": "Python 3",
   "language": "python",
   "name": "python3"
  },
  "language_info": {
   "codemirror_mode": {
    "name": "ipython",
    "version": 3
   },
   "file_extension": ".py",
   "mimetype": "text/x-python",
   "name": "python",
   "nbconvert_exporter": "python",
   "pygments_lexer": "ipython3",
   "version": "3.5.2"
  }
 },
 "nbformat": 4,
 "nbformat_minor": 0
}
