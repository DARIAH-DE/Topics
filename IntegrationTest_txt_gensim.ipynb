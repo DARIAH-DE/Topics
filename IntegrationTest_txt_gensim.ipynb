{
 "cells": [
  {
   "cell_type": "code",
   "execution_count": 1,
   "metadata": {
    "collapsed": false,
    "deletable": true,
    "editable": true
   },
   "outputs": [
    {
     "name": "stderr",
     "output_type": "stream",
     "text": [
      "/usr/lib/python3.5/json/encoder.py:198: DeprecationWarning: Interpreting naive datetime as local 2017-04-03 13:20:09.415122. Please add timezone info to timestamps.\n",
      "  chunks = self.iterencode(o, _one_shot=True)\n"
     ]
    }
   ],
   "source": [
    "from dariah_topics import preprocessing as pre\n",
    "from dariah_topics import visualization as visual\n",
    "from dariah_topics import evaluation"
   ]
  },
  {
   "cell_type": "markdown",
   "metadata": {
    "deletable": true,
    "editable": true
   },
   "source": [
    "## Preprocessing"
   ]
  },
  {
   "cell_type": "markdown",
   "metadata": {
    "deletable": true,
    "editable": true
   },
   "source": [
    "#### Liste mit Dateinamen erzeugen"
   ]
  },
  {
   "cell_type": "code",
   "execution_count": 2,
   "metadata": {
    "collapsed": false,
    "deletable": true,
    "editable": true
   },
   "outputs": [
    {
     "data": {
      "text/plain": [
       "['corpus_txt/Lovecraft_AttheMountainofMadness.txt',\n",
       " 'corpus_txt/Howard_TheDevilinIron.txt',\n",
       " 'corpus_txt/Poe_ThePurloinedLetter.txt',\n",
       " 'corpus_txt/Lovecraft_TheShunnedHouse.txt',\n",
       " 'corpus_txt/Poe_TheMasqueoftheRedDeath.txt']"
      ]
     },
     "execution_count": 2,
     "metadata": {},
     "output_type": "execute_result"
    },
    {
     "name": "stderr",
     "output_type": "stream",
     "text": [
      "/usr/lib/python3.5/json/encoder.py:198: DeprecationWarning: Interpreting naive datetime as local 2017-04-03 13:20:10.213345. Please add timezone info to timestamps.\n",
      "  chunks = self.iterencode(o, _one_shot=True)\n"
     ]
    }
   ],
   "source": [
    "path_txt = \"corpus_txt\"\n",
    "#path_txt = \"grenzbote_plain/*/\"\n",
    "#path_txt = \"wiki/\"\n",
    "\n",
    "doclist_txt = pre.create_document_list(path_txt)\n",
    "assert doclist_txt, \"No documents found\"\n",
    "doclist_txt[:5]"
   ]
  },
  {
   "cell_type": "markdown",
   "metadata": {
    "deletable": true,
    "editable": true
   },
   "source": [
    "#####  Liste mit Dokumentenlabels erzeugen - (Funktion wird durch Thorsten's generischere Funktion ersetzt)"
   ]
  },
  {
   "cell_type": "code",
   "execution_count": 3,
   "metadata": {
    "collapsed": false,
    "deletable": true,
    "editable": true
   },
   "outputs": [
    {
     "data": {
      "text/plain": [
       "['Lovecraft_AttheMountainofMadness',\n",
       " 'Howard_TheDevilinIron',\n",
       " 'Poe_ThePurloinedLetter',\n",
       " 'Lovecraft_TheShunnedHouse',\n",
       " 'Poe_TheMasqueoftheRedDeath']"
      ]
     },
     "execution_count": 3,
     "metadata": {},
     "output_type": "execute_result"
    },
    {
     "name": "stderr",
     "output_type": "stream",
     "text": [
      "/usr/lib/python3.5/json/encoder.py:198: DeprecationWarning: Interpreting naive datetime as local 2017-04-03 13:20:10.221216. Please add timezone info to timestamps.\n",
      "  chunks = self.iterencode(o, _one_shot=True)\n"
     ]
    }
   ],
   "source": [
    "doc_labels = list(pre.get_labels(doclist_txt))\n",
    "doc_labels[:5]"
   ]
  },
  {
   "cell_type": "markdown",
   "metadata": {
    "deletable": true,
    "editable": true
   },
   "source": [
    "#### Corpus laden"
   ]
  },
  {
   "cell_type": "code",
   "execution_count": 4,
   "metadata": {
    "collapsed": false,
    "deletable": true,
    "editable": true
   },
   "outputs": [
    {
     "name": "stderr",
     "output_type": "stream",
     "text": [
      "/usr/lib/python3.5/json/encoder.py:198: DeprecationWarning: Interpreting naive datetime as local 2017-04-03 13:20:10.233228. Please add timezone info to timestamps.\n",
      "  chunks = self.iterencode(o, _one_shot=True)\n"
     ]
    }
   ],
   "source": [
    "corpus_txt = pre.read_from_txt(doclist_txt)"
   ]
  },
  {
   "cell_type": "markdown",
   "metadata": {
    "deletable": true,
    "editable": true
   },
   "source": [
    "#### Tokenisieren"
   ]
  },
  {
   "cell_type": "code",
   "execution_count": 5,
   "metadata": {
    "collapsed": false,
    "deletable": true,
    "editable": true
   },
   "outputs": [
    {
     "name": "stderr",
     "output_type": "stream",
     "text": [
      "/usr/lib/python3.5/json/encoder.py:198: DeprecationWarning: Interpreting naive datetime as local 2017-04-03 13:20:10.245458. Please add timezone info to timestamps.\n",
      "  chunks = self.iterencode(o, _one_shot=True)\n"
     ]
    }
   ],
   "source": [
    "doc_tokens = [list(pre.tokenize(txt)) for txt in list(corpus_txt)]"
   ]
  },
  {
   "cell_type": "markdown",
   "metadata": {
    "deletable": true,
    "editable": true
   },
   "source": [
    "#### Create Dictionaries"
   ]
  },
  {
   "cell_type": "code",
   "execution_count": 6,
   "metadata": {
    "collapsed": false,
    "deletable": true,
    "editable": true
   },
   "outputs": [
    {
     "name": "stderr",
     "output_type": "stream",
     "text": [
      "/usr/lib/python3.5/json/encoder.py:198: DeprecationWarning: Interpreting naive datetime as local 2017-04-03 13:20:10.526362. Please add timezone info to timestamps.\n",
      "  chunks = self.iterencode(o, _one_shot=True)\n"
     ]
    }
   ],
   "source": [
    "id_types, doc_ids = pre.create_dictionaries(doc_labels, doc_tokens)"
   ]
  },
  {
   "cell_type": "markdown",
   "metadata": {
    "deletable": true,
    "editable": true
   },
   "source": [
    "#### Sparse BOW Model"
   ]
  },
  {
   "cell_type": "code",
   "execution_count": 7,
   "metadata": {
    "collapsed": false,
    "deletable": true,
    "editable": true
   },
   "outputs": [
    {
     "name": "stderr",
     "output_type": "stream",
     "text": [
      "/usr/lib/python3.5/json/encoder.py:198: DeprecationWarning: Interpreting naive datetime as local 2017-04-03 13:20:10.588222. Please add timezone info to timestamps.\n",
      "  chunks = self.iterencode(o, _one_shot=True)\n"
     ]
    }
   ],
   "source": [
    "sparse_bow = pre.create_mm(doc_labels, doc_tokens, id_types, doc_ids)"
   ]
  },
  {
   "cell_type": "code",
   "execution_count": 8,
   "metadata": {
    "collapsed": false,
    "deletable": true,
    "editable": true
   },
   "outputs": [
    {
     "data": {
      "text/html": [
       "<div>\n",
       "<table border=\"1\" class=\"dataframe\">\n",
       "  <thead>\n",
       "    <tr style=\"text-align: right;\">\n",
       "      <th></th>\n",
       "      <th></th>\n",
       "      <th>0</th>\n",
       "    </tr>\n",
       "    <tr>\n",
       "      <th>doc_id</th>\n",
       "      <th>token_id</th>\n",
       "      <th></th>\n",
       "    </tr>\n",
       "  </thead>\n",
       "  <tbody>\n",
       "    <tr>\n",
       "      <th rowspan=\"5\" valign=\"top\">1</th>\n",
       "      <th>16384</th>\n",
       "      <td>1</td>\n",
       "    </tr>\n",
       "    <tr>\n",
       "      <th>1</th>\n",
       "      <td>2</td>\n",
       "    </tr>\n",
       "    <tr>\n",
       "      <th>16388</th>\n",
       "      <td>5</td>\n",
       "    </tr>\n",
       "    <tr>\n",
       "      <th>16389</th>\n",
       "      <td>12</td>\n",
       "    </tr>\n",
       "    <tr>\n",
       "      <th>16390</th>\n",
       "      <td>1</td>\n",
       "    </tr>\n",
       "  </tbody>\n",
       "</table>\n",
       "</div>"
      ],
      "text/plain": [
       "                  0\n",
       "doc_id token_id    \n",
       "1      16384      1\n",
       "       1          2\n",
       "       16388      5\n",
       "       16389     12\n",
       "       16390      1"
      ]
     },
     "execution_count": 8,
     "metadata": {},
     "output_type": "execute_result"
    },
    {
     "name": "stderr",
     "output_type": "stream",
     "text": [
      "/usr/lib/python3.5/json/encoder.py:198: DeprecationWarning: Interpreting naive datetime as local 2017-04-03 13:20:10.960837. Please add timezone info to timestamps.\n",
      "  chunks = self.iterencode(o, _one_shot=True)\n"
     ]
    }
   ],
   "source": [
    "sparse_bow[:5]"
   ]
  },
  {
   "cell_type": "markdown",
   "metadata": {
    "deletable": true,
    "editable": true
   },
   "source": [
    "## Topic Modeling with Gensim"
   ]
  },
  {
   "cell_type": "markdown",
   "metadata": {
    "deletable": true,
    "editable": true
   },
   "source": [
    "##### Saving Sparse BOW"
   ]
  },
  {
   "cell_type": "code",
   "execution_count": 9,
   "metadata": {
    "collapsed": false,
    "deletable": true,
    "editable": true
   },
   "outputs": [
    {
     "name": "stderr",
     "output_type": "stream",
     "text": [
      "/usr/lib/python3.5/json/encoder.py:198: DeprecationWarning: Interpreting naive datetime as local 2017-04-03 13:20:10.971550. Please add timezone info to timestamps.\n",
      "  chunks = self.iterencode(o, _one_shot=True)\n"
     ]
    }
   ],
   "source": [
    "pre.save_bow_mm(sparse_bow, \"gensim_txt\")"
   ]
  },
  {
   "cell_type": "markdown",
   "metadata": {
    "deletable": true,
    "editable": true
   },
   "source": [
    "#### Import Market Matrix"
   ]
  },
  {
   "cell_type": "code",
   "execution_count": 10,
   "metadata": {
    "collapsed": false,
    "deletable": true,
    "editable": true
   },
   "outputs": [
    {
     "name": "stderr",
     "output_type": "stream",
     "text": [
      "/usr/lib/python3.5/json/encoder.py:198: DeprecationWarning: Interpreting naive datetime as local 2017-04-03 13:20:11.105772. Please add timezone info to timestamps.\n",
      "  chunks = self.iterencode(o, _one_shot=True)\n"
     ]
    }
   ],
   "source": [
    "from gensim.models import LdaModel\n",
    "from gensim.corpora import MmCorpus"
   ]
  },
  {
   "cell_type": "code",
   "execution_count": 11,
   "metadata": {
    "collapsed": false,
    "deletable": true,
    "editable": true
   },
   "outputs": [
    {
     "name": "stderr",
     "output_type": "stream",
     "text": [
      "/usr/lib/python3.5/json/encoder.py:198: DeprecationWarning: Interpreting naive datetime as local 2017-04-03 13:20:11.111998. Please add timezone info to timestamps.\n",
      "  chunks = self.iterencode(o, _one_shot=True)\n"
     ]
    }
   ],
   "source": [
    "mm = MmCorpus(\"gensim_txt.mm\")"
   ]
  },
  {
   "cell_type": "code",
   "execution_count": 12,
   "metadata": {
    "collapsed": false,
    "deletable": true,
    "editable": true
   },
   "outputs": [
    {
     "name": "stderr",
     "output_type": "stream",
     "text": [
      "/usr/lib/python3.5/json/encoder.py:198: DeprecationWarning: Interpreting naive datetime as local 2017-04-03 13:20:11.122762. Please add timezone info to timestamps.\n",
      "  chunks = self.iterencode(o, _one_shot=True)\n"
     ]
    }
   ],
   "source": [
    "doc2id = {value : key for key, value in doc_ids.items()}\n",
    "type2id = {value : key for key, value in id_types.items()}"
   ]
  },
  {
   "cell_type": "markdown",
   "metadata": {
    "deletable": true,
    "editable": true
   },
   "source": [
    "##### Remove Features"
   ]
  },
  {
   "cell_type": "markdown",
   "metadata": {
    "deletable": true,
    "editable": true
   },
   "source": [
    "type2id = {value : key for key, value in id_types.items()}\n",
    "sparse_bow_collapsed = sparse_bow.groupby(sparse_bow.index.get_level_values('token_id')).sum()"
   ]
  },
  {
   "cell_type": "markdown",
   "metadata": {
    "deletable": true,
    "editable": true
   },
   "source": [
    "sparse_bow_hapax = sparse_bow_collapsed.loc[sparse_bow_collapsed[0] == 1]\n",
    "hapax = [type2id[key] for key in sparse_bow_hapax.index.get_level_values('token_id')]"
   ]
  },
  {
   "cell_type": "markdown",
   "metadata": {
    "deletable": true,
    "editable": true
   },
   "source": [
    "len(hapax)"
   ]
  },
  {
   "cell_type": "code",
   "execution_count": 13,
   "metadata": {
    "collapsed": false,
    "deletable": true,
    "editable": true
   },
   "outputs": [
    {
     "name": "stderr",
     "output_type": "stream",
     "text": [
      "/usr/lib/python3.5/json/encoder.py:198: DeprecationWarning: Interpreting naive datetime as local 2017-04-03 13:20:11.136765. Please add timezone info to timestamps.\n",
      "  chunks = self.iterencode(o, _one_shot=True)\n"
     ]
    }
   ],
   "source": [
    "import os.path\n",
    "basepath = os.path.abspath('.')\n",
    "\n",
    "with open(os.path.join(basepath, \"tutorial_supplementals\", \"stopwords\", \"de.txt\"), 'r', encoding = 'utf-8') as f: \n",
    "    stopword_list = f.read().split('\\n')\n",
    "    \n",
    "stopword_list = set(stopword_list)"
   ]
  },
  {
   "cell_type": "code",
   "execution_count": 14,
   "metadata": {
    "collapsed": false,
    "deletable": true,
    "editable": true
   },
   "outputs": [
    {
     "name": "stderr",
     "output_type": "stream",
     "text": [
      "/usr/lib/python3.5/json/encoder.py:198: DeprecationWarning: Interpreting naive datetime as local 2017-04-03 13:20:11.150581. Please add timezone info to timestamps.\n",
      "  chunks = self.iterencode(o, _one_shot=True)\n"
     ]
    }
   ],
   "source": [
    "hapax_from_remove = pre.find_hapax(sparse_bow, id_types)\n",
    "stopwords_from_remove = pre.find_stopwords(sparse_bow, id_types, mfw=75)\n",
    "\n",
    "#features_to_be_removed = set(hapax_from_remove + stopwords_from_remove)\n",
    "features_to_be_removed = stopwords_from_remove\n",
    "\n",
    "sparse_bow_short = pre.remove_features(sparse_bow, id_types, features_to_be_removed)"
   ]
  },
  {
   "cell_type": "code",
   "execution_count": 15,
   "metadata": {
    "collapsed": false,
    "deletable": true,
    "editable": true
   },
   "outputs": [
    {
     "data": {
      "text/plain": [
       "75"
      ]
     },
     "execution_count": 15,
     "metadata": {},
     "output_type": "execute_result"
    },
    {
     "name": "stderr",
     "output_type": "stream",
     "text": [
      "/usr/lib/python3.5/json/encoder.py:198: DeprecationWarning: Interpreting naive datetime as local 2017-04-03 13:20:11.284929. Please add timezone info to timestamps.\n",
      "  chunks = self.iterencode(o, _one_shot=True)\n"
     ]
    }
   ],
   "source": [
    "len(features_to_be_removed)"
   ]
  },
  {
   "cell_type": "code",
   "execution_count": 16,
   "metadata": {
    "collapsed": false,
    "deletable": true,
    "editable": true
   },
   "outputs": [
    {
     "name": "stderr",
     "output_type": "stream",
     "text": [
      "/usr/lib/python3.5/json/encoder.py:198: DeprecationWarning: Interpreting naive datetime as local 2017-04-03 13:20:11.290438. Please add timezone info to timestamps.\n",
      "  chunks = self.iterencode(o, _one_shot=True)\n"
     ]
    }
   ],
   "source": [
    "pre.save_bow_mm(sparse_bow_short, \"gensim_txt\")"
   ]
  },
  {
   "cell_type": "code",
   "execution_count": 17,
   "metadata": {
    "collapsed": false,
    "deletable": true,
    "editable": true
   },
   "outputs": [
    {
     "name": "stderr",
     "output_type": "stream",
     "text": [
      "/usr/lib/python3.5/json/encoder.py:198: DeprecationWarning: Interpreting naive datetime as local 2017-04-03 13:20:11.382937. Please add timezone info to timestamps.\n",
      "  chunks = self.iterencode(o, _one_shot=True)\n"
     ]
    }
   ],
   "source": [
    "mm = MmCorpus(\"gensim_txt.mm\")"
   ]
  },
  {
   "cell_type": "markdown",
   "metadata": {
    "deletable": true,
    "editable": true
   },
   "source": [
    "#### Convert sparse_bow to list of (doc, tokens) tuples (like doc2bow)"
   ]
  },
  {
   "cell_type": "code",
   "execution_count": 18,
   "metadata": {
    "collapsed": false,
    "deletable": true,
    "editable": true
   },
   "outputs": [
    {
     "name": "stderr",
     "output_type": "stream",
     "text": [
      "/usr/lib/python3.5/json/encoder.py:198: DeprecationWarning: Interpreting naive datetime as local 2017-04-03 13:20:11.389303. Please add timezone info to timestamps.\n",
      "  chunks = self.iterencode(o, _one_shot=True)\n"
     ]
    }
   ],
   "source": [
    "doc2bow_list = []\n",
    "\n",
    "for doc in sparse_bow_short.index.groupby(sparse_bow_short.index.get_level_values('doc_id')):\n",
    "    temp = [(token, count) for token, count in zip(sparse_bow_short.loc[doc].index, sparse_bow_short.loc[doc][0])]\n",
    "    doc2bow_list.append(temp)"
   ]
  },
  {
   "cell_type": "code",
   "execution_count": 19,
   "metadata": {
    "collapsed": false,
    "deletable": true,
    "editable": true
   },
   "outputs": [
    {
     "data": {
      "text/plain": [
       "17"
      ]
     },
     "execution_count": 19,
     "metadata": {},
     "output_type": "execute_result"
    },
    {
     "name": "stderr",
     "output_type": "stream",
     "text": [
      "/usr/lib/python3.5/json/encoder.py:198: DeprecationWarning: Interpreting naive datetime as local 2017-04-03 13:20:11.487777. Please add timezone info to timestamps.\n",
      "  chunks = self.iterencode(o, _one_shot=True)\n"
     ]
    }
   ],
   "source": [
    "len(doc2bow_list)"
   ]
  },
  {
   "cell_type": "code",
   "execution_count": 20,
   "metadata": {
    "collapsed": false,
    "deletable": true,
    "editable": true
   },
   "outputs": [
    {
     "name": "stderr",
     "output_type": "stream",
     "text": [
      "/usr/lib/python3.5/json/encoder.py:198: DeprecationWarning: Interpreting naive datetime as local 2017-04-03 13:20:11.494176. Please add timezone info to timestamps.\n",
      "  chunks = self.iterencode(o, _one_shot=True)\n"
     ]
    }
   ],
   "source": [
    "#model = LdaModel(corpus=mm, id2word=type2id, num_topics=60, alpha = \"symmetric\", passes = 10) #import momentan in visual \n",
    "# -> da ich mir noch nicht sicher bin, welche Funktionen in das tm_gensim.py sollen\n",
    "model = LdaModel(corpus=mm, id2word=type2id, num_topics=20, passes = 10, iterations = 20)"
   ]
  },
  {
   "cell_type": "code",
   "execution_count": 21,
   "metadata": {
    "collapsed": false,
    "deletable": true,
    "editable": true
   },
   "outputs": [
    {
     "data": {
      "text/plain": [
       "[(0, 0.051011088264455141),\n",
       " (1, 0.08336164411505495),\n",
       " (4, 0.067701172837515367),\n",
       " (5, 0.14275792637147905),\n",
       " (7, 0.029693782022128874),\n",
       " (8, 0.01305306787978136),\n",
       " (9, 0.096321451314110546),\n",
       " (15, 0.088160417735347954),\n",
       " (16, 0.17865361271494951),\n",
       " (18, 0.24671245429484071)]"
      ]
     },
     "execution_count": 21,
     "metadata": {},
     "output_type": "execute_result"
    },
    {
     "name": "stderr",
     "output_type": "stream",
     "text": [
      "/usr/lib/python3.5/json/encoder.py:198: DeprecationWarning: Interpreting naive datetime as local 2017-04-03 13:20:53.382983. Please add timezone info to timestamps.\n",
      "  chunks = self.iterencode(o, _one_shot=True)\n"
     ]
    }
   ],
   "source": [
    "model.get_document_topics(doc2bow_list[1])"
   ]
  },
  {
   "cell_type": "code",
   "execution_count": 22,
   "metadata": {
    "collapsed": false,
    "deletable": true,
    "editable": true
   },
   "outputs": [
    {
     "data": {
      "text/plain": [
       "['lawyer',\n",
       " 'phraseology',\n",
       " 'five-pound',\n",
       " 'napping',\n",
       " 'idler',\n",
       " 'mews',\n",
       " 'zabibi',\n",
       " 'croaking',\n",
       " 'sturdy',\n",
       " 'stuck']"
      ]
     },
     "execution_count": 22,
     "metadata": {},
     "output_type": "execute_result"
    },
    {
     "name": "stderr",
     "output_type": "stream",
     "text": [
      "/usr/lib/python3.5/json/encoder.py:198: DeprecationWarning: Interpreting naive datetime as local 2017-04-03 13:20:53.392890. Please add timezone info to timestamps.\n",
      "  chunks = self.iterencode(o, _one_shot=True)\n"
     ]
    }
   ],
   "source": [
    "#Anzeige der keywords für topic n\n",
    "n = 1\n",
    "topic_nr_x = model.get_topic_terms(n)\n",
    "\n",
    "topicTerms = [type2id[i[0]] for i in topic_nr_x]\n",
    "topicTerms"
   ]
  },
  {
   "cell_type": "code",
   "execution_count": 23,
   "metadata": {
    "collapsed": false,
    "deletable": true,
    "editable": true
   },
   "outputs": [
    {
     "data": {
      "text/html": [
       "<div>\n",
       "<table border=\"1\" class=\"dataframe\">\n",
       "  <thead>\n",
       "    <tr style=\"text-align: right;\">\n",
       "      <th></th>\n",
       "      <th>0</th>\n",
       "      <th>1</th>\n",
       "      <th>2</th>\n",
       "      <th>3</th>\n",
       "      <th>4</th>\n",
       "      <th>5</th>\n",
       "      <th>6</th>\n",
       "      <th>7</th>\n",
       "      <th>8</th>\n",
       "      <th>9</th>\n",
       "    </tr>\n",
       "  </thead>\n",
       "  <tbody>\n",
       "    <tr>\n",
       "      <th>0</th>\n",
       "      <td>(kitchen-curtains, 0.0049936439921)</td>\n",
       "      <td>(deity, 0.00411213549263)</td>\n",
       "      <td>(indebted, 0.00404191901075)</td>\n",
       "      <td>(count, 0.00391842960968)</td>\n",
       "      <td>(touching, 0.00378844415648)</td>\n",
       "      <td>(belong, 0.00343092106456)</td>\n",
       "      <td>(constellated, 0.00324669486471)</td>\n",
       "      <td>(red-lipped, 0.00296536507308)</td>\n",
       "      <td>(rose, 0.00295693331599)</td>\n",
       "      <td>(cook, 0.00294542508361)</td>\n",
       "    </tr>\n",
       "    <tr>\n",
       "      <th>1</th>\n",
       "      <td>(lawyer, 0.0055564538832)</td>\n",
       "      <td>(phraseology, 0.00521388562923)</td>\n",
       "      <td>(five-pound, 0.00517961051951)</td>\n",
       "      <td>(napping, 0.00469047224745)</td>\n",
       "      <td>(idler, 0.00466221399393)</td>\n",
       "      <td>(mews, 0.00459587199319)</td>\n",
       "      <td>(zabibi, 0.0043960507045)</td>\n",
       "      <td>(croaking, 0.00432460938695)</td>\n",
       "      <td>(sturdy, 0.00425673970809)</td>\n",
       "      <td>(stuck, 0.00424386063559)</td>\n",
       "    </tr>\n",
       "    <tr>\n",
       "      <th>2</th>\n",
       "      <td>(pounder, 0.000297634406028)</td>\n",
       "      <td>(cats, 0.00024482934652)</td>\n",
       "      <td>(products, 0.000241613371413)</td>\n",
       "      <td>(mews, 0.00023171808678)</td>\n",
       "      <td>(phraseology, 0.000225796407223)</td>\n",
       "      <td>(touching, 0.000218175847066)</td>\n",
       "      <td>(stinky, 0.000217207512112)</td>\n",
       "      <td>(tourist, 0.000216677271454)</td>\n",
       "      <td>(truism, 0.000214776102229)</td>\n",
       "      <td>(succeed, 0.000213613208371)</td>\n",
       "    </tr>\n",
       "    <tr>\n",
       "      <th>3</th>\n",
       "      <td>(phraseology, 0.000429642927338)</td>\n",
       "      <td>(stinky, 0.000362981605226)</td>\n",
       "      <td>(succeed, 0.000353099583037)</td>\n",
       "      <td>(cook, 0.000339632626996)</td>\n",
       "      <td>(ivy, 0.000321618561559)</td>\n",
       "      <td>(fluffed, 0.000313658782822)</td>\n",
       "      <td>(lawyer, 0.0003126416168)</td>\n",
       "      <td>(kitchen-curtains, 0.000308972948121)</td>\n",
       "      <td>(tourist, 0.000304633147122)</td>\n",
       "      <td>(touching, 0.000299959716139)</td>\n",
       "    </tr>\n",
       "    <tr>\n",
       "      <th>4</th>\n",
       "      <td>(every, 0.0121544205339)</td>\n",
       "      <td>(rehoboth, 0.00571816477124)</td>\n",
       "      <td>(touching, 0.00545445719676)</td>\n",
       "      <td>(camping, 0.00431340187164)</td>\n",
       "      <td>(unbarred, 0.00416956163628)</td>\n",
       "      <td>(pasture, 0.0041337680843)</td>\n",
       "      <td>(futurists, 0.00357654269518)</td>\n",
       "      <td>(kitchen-curtains, 0.00350132075915)</td>\n",
       "      <td>(schemes, 0.00331993108674)</td>\n",
       "      <td>(plunging, 0.00326596332533)</td>\n",
       "    </tr>\n",
       "    <tr>\n",
       "      <th>5</th>\n",
       "      <td>(gorge, 0.00855421654657)</td>\n",
       "      <td>(whimperings, 0.00609551439984)</td>\n",
       "      <td>(truism, 0.00582861948731)</td>\n",
       "      <td>(rumbling, 0.00580383641353)</td>\n",
       "      <td>(pounder, 0.00578716246908)</td>\n",
       "      <td>(weather-beaten, 0.00489372491007)</td>\n",
       "      <td>(jarred, 0.00458104964957)</td>\n",
       "      <td>(repair, 0.0044978438462)</td>\n",
       "      <td>(endeavor, 0.00449145660746)</td>\n",
       "      <td>(vanguard, 0.0042708458771)</td>\n",
       "    </tr>\n",
       "    <tr>\n",
       "      <th>6</th>\n",
       "      <td>(succeed, 0.00027222692034)</td>\n",
       "      <td>(stinky, 0.000253980290628)</td>\n",
       "      <td>(cook, 0.000239617498542)</td>\n",
       "      <td>(violently, 0.000237434636972)</td>\n",
       "      <td>(phraseology, 0.000237107750238)</td>\n",
       "      <td>(ivy, 0.000230968262153)</td>\n",
       "      <td>(products, 0.000230867684822)</td>\n",
       "      <td>(touching, 0.000223813209123)</td>\n",
       "      <td>(paddington, 0.000222721107659)</td>\n",
       "      <td>(rose, 0.000218934474634)</td>\n",
       "    </tr>\n",
       "    <tr>\n",
       "      <th>7</th>\n",
       "      <td>(shadows, 0.0109974665476)</td>\n",
       "      <td>(cold-bloodedness, 0.00752701028103)</td>\n",
       "      <td>(nummos, 0.00580265450926)</td>\n",
       "      <td>(counteract, 0.00579194730141)</td>\n",
       "      <td>(huntsman, 0.0057189053516)</td>\n",
       "      <td>(wick, 0.00449945576039)</td>\n",
       "      <td>(contemptuously, 0.00423118767925)</td>\n",
       "      <td>(bed-house, 0.00388875845861)</td>\n",
       "      <td>(fan-wise, 0.00369836608266)</td>\n",
       "      <td>(cyril, 0.00369081932092)</td>\n",
       "    </tr>\n",
       "    <tr>\n",
       "      <th>8</th>\n",
       "      <td>(mythical, 0.0055002109379)</td>\n",
       "      <td>(eventuality, 0.00485009718078)</td>\n",
       "      <td>(indispensable, 0.00452289481478)</td>\n",
       "      <td>(kitchen-curtains, 0.00407632584015)</td>\n",
       "      <td>(lounging, 0.00320591442547)</td>\n",
       "      <td>(cook, 0.00312835468807)</td>\n",
       "      <td>(leverage, 0.00290042735709)</td>\n",
       "      <td>(rides, 0.00282421073884)</td>\n",
       "      <td>(truism, 0.00250411538408)</td>\n",
       "      <td>(ensued, 0.00249472709769)</td>\n",
       "    </tr>\n",
       "    <tr>\n",
       "      <th>9</th>\n",
       "      <td>(kitchen-curtains, 0.00971618566685)</td>\n",
       "      <td>(cook, 0.00606655295639)</td>\n",
       "      <td>(stinky, 0.00563864212014)</td>\n",
       "      <td>(polygamy, 0.00480893845467)</td>\n",
       "      <td>(confined, 0.00479574220282)</td>\n",
       "      <td>(volumes, 0.00477240917141)</td>\n",
       "      <td>(leverage, 0.00432801827963)</td>\n",
       "      <td>(paddington, 0.00422521035414)</td>\n",
       "      <td>(wagon, 0.004115242613)</td>\n",
       "      <td>(protect, 0.00403064992463)</td>\n",
       "    </tr>\n",
       "    <tr>\n",
       "      <th>10</th>\n",
       "      <td>(jotted, 0.00193640038552)</td>\n",
       "      <td>(near-squeak, 0.00154367290871)</td>\n",
       "      <td>(three-fourths, 0.00151996870172)</td>\n",
       "      <td>(uncouth, 0.00150537878679)</td>\n",
       "      <td>(pebble, 0.00145184476272)</td>\n",
       "      <td>(ajar, 0.00126108266026)</td>\n",
       "      <td>(embrace, 0.00115481669165)</td>\n",
       "      <td>(vis, 0.000796903295258)</td>\n",
       "      <td>(cöalitions, 0.000796749130882)</td>\n",
       "      <td>(esq, 0.000795464317234)</td>\n",
       "    </tr>\n",
       "    <tr>\n",
       "      <th>11</th>\n",
       "      <td>(truism, 0.000350299545523)</td>\n",
       "      <td>(products, 0.000337659909267)</td>\n",
       "      <td>(succeed, 0.000315489978579)</td>\n",
       "      <td>(rehoboth, 0.000306482507624)</td>\n",
       "      <td>(lawyer, 0.000297773648823)</td>\n",
       "      <td>(croaking, 0.000289140424726)</td>\n",
       "      <td>(ivy, 0.000284235957884)</td>\n",
       "      <td>(mews, 0.000282486924715)</td>\n",
       "      <td>(stinky, 0.000281731243868)</td>\n",
       "      <td>(unbarred, 0.000281314121126)</td>\n",
       "    </tr>\n",
       "    <tr>\n",
       "      <th>12</th>\n",
       "      <td>(ensued, 0.000311417827796)</td>\n",
       "      <td>(contemptuously, 0.000272642550321)</td>\n",
       "      <td>(tourist, 0.000267267073362)</td>\n",
       "      <td>(stinky, 0.000264799230498)</td>\n",
       "      <td>(stump, 0.000257133671853)</td>\n",
       "      <td>(truism, 0.000248845440394)</td>\n",
       "      <td>(pounder, 0.000242702268863)</td>\n",
       "      <td>(succeed, 0.000241433001524)</td>\n",
       "      <td>(ivy, 0.000238671807648)</td>\n",
       "      <td>(idler, 0.000236536024613)</td>\n",
       "    </tr>\n",
       "    <tr>\n",
       "      <th>13</th>\n",
       "      <td>(associated, 0.000552156194552)</td>\n",
       "      <td>(phraseology, 0.00042607101)</td>\n",
       "      <td>(fluffed, 0.000400441149876)</td>\n",
       "      <td>(succeed, 0.000399462076906)</td>\n",
       "      <td>(idler, 0.000384132355256)</td>\n",
       "      <td>(lawyer, 0.0003838500743)</td>\n",
       "      <td>(truism, 0.00037309720856)</td>\n",
       "      <td>(paddington, 0.000367783051941)</td>\n",
       "      <td>(dully, 0.00036768371913)</td>\n",
       "      <td>(stinky, 0.000365065005137)</td>\n",
       "    </tr>\n",
       "    <tr>\n",
       "      <th>14</th>\n",
       "      <td>(touching, 0.000308916000195)</td>\n",
       "      <td>(succeed, 0.000299935481515)</td>\n",
       "      <td>(cook, 0.000292707721146)</td>\n",
       "      <td>(ivy, 0.00029013621845)</td>\n",
       "      <td>(tourist, 0.000284900203373)</td>\n",
       "      <td>(products, 0.000279923190904)</td>\n",
       "      <td>(truism, 0.000268142486162)</td>\n",
       "      <td>(contemptuously, 0.00026525765426)</td>\n",
       "      <td>(phraseology, 0.000258550007527)</td>\n",
       "      <td>(fluffed, 0.00025685099085)</td>\n",
       "    </tr>\n",
       "    <tr>\n",
       "      <th>15</th>\n",
       "      <td>(graveyards, 0.00675038000769)</td>\n",
       "      <td>(poisonous, 0.00480906211364)</td>\n",
       "      <td>(ensued, 0.00453136924118)</td>\n",
       "      <td>(huntsman, 0.00441519091237)</td>\n",
       "      <td>(significance, 0.00424689363865)</td>\n",
       "      <td>(fluffed, 0.00412564105136)</td>\n",
       "      <td>(atmosphere, 0.00403107131299)</td>\n",
       "      <td>(products, 0.00389917925993)</td>\n",
       "      <td>(retorts, 0.00388910175152)</td>\n",
       "      <td>(fleeing, 0.00369430247732)</td>\n",
       "    </tr>\n",
       "    <tr>\n",
       "      <th>16</th>\n",
       "      <td>(associated, 0.00902764474616)</td>\n",
       "      <td>(lawyer, 0.00659636555774)</td>\n",
       "      <td>(stump, 0.00453008430793)</td>\n",
       "      <td>(heavily-laden, 0.00399771781346)</td>\n",
       "      <td>(contemptuously, 0.00384189739825)</td>\n",
       "      <td>(phraseology, 0.00374229755741)</td>\n",
       "      <td>(truism, 0.00365675060295)</td>\n",
       "      <td>(succeed, 0.00363298892724)</td>\n",
       "      <td>(trackers, 0.00348647417996)</td>\n",
       "      <td>(paddington, 0.00347842446189)</td>\n",
       "    </tr>\n",
       "    <tr>\n",
       "      <th>17</th>\n",
       "      <td>(tighter, 0.00759670423896)</td>\n",
       "      <td>(lawyer, 0.00751326061163)</td>\n",
       "      <td>(communications, 0.00577718201413)</td>\n",
       "      <td>(eloquent, 0.00552806290306)</td>\n",
       "      <td>(sorrow, 0.00469551664142)</td>\n",
       "      <td>(sunol, 0.00469141924687)</td>\n",
       "      <td>(florid, 0.00406051778784)</td>\n",
       "      <td>(exaggerate, 0.00383526842887)</td>\n",
       "      <td>(misfortunes, 0.00366616634652)</td>\n",
       "      <td>(stranger's, 0.00318874581315)</td>\n",
       "    </tr>\n",
       "    <tr>\n",
       "      <th>18</th>\n",
       "      <td>(stinky, 0.00379904041655)</td>\n",
       "      <td>(scales, 0.00315340471484)</td>\n",
       "      <td>(introductions, 0.0030805298553)</td>\n",
       "      <td>(decoration, 0.00307899995996)</td>\n",
       "      <td>(touching, 0.00304877570179)</td>\n",
       "      <td>(kitchen-curtains, 0.00295908829441)</td>\n",
       "      <td>(ivy, 0.00279966843555)</td>\n",
       "      <td>(cook, 0.00277814194365)</td>\n",
       "      <td>(inserted, 0.00275014586638)</td>\n",
       "      <td>(whisperingly, 0.00264460564544)</td>\n",
       "    </tr>\n",
       "    <tr>\n",
       "      <th>19</th>\n",
       "      <td>(stinky, 0.000296578406571)</td>\n",
       "      <td>(truism, 0.000296191074111)</td>\n",
       "      <td>(violently, 0.000290649670488)</td>\n",
       "      <td>(contemptuously, 0.000260989306835)</td>\n",
       "      <td>(kitchen-curtains, 0.000257162612833)</td>\n",
       "      <td>(phraseology, 0.000251937005576)</td>\n",
       "      <td>(succeed, 0.000241240654708)</td>\n",
       "      <td>(ensued, 0.000238030719979)</td>\n",
       "      <td>(associated, 0.000227402647026)</td>\n",
       "      <td>(idler, 0.000224146454812)</td>\n",
       "    </tr>\n",
       "  </tbody>\n",
       "</table>\n",
       "</div>"
      ],
      "text/plain": [
       "                                       0  \\\n",
       "0    (kitchen-curtains, 0.0049936439921)   \n",
       "1              (lawyer, 0.0055564538832)   \n",
       "2           (pounder, 0.000297634406028)   \n",
       "3       (phraseology, 0.000429642927338)   \n",
       "4               (every, 0.0121544205339)   \n",
       "5              (gorge, 0.00855421654657)   \n",
       "6            (succeed, 0.00027222692034)   \n",
       "7             (shadows, 0.0109974665476)   \n",
       "8            (mythical, 0.0055002109379)   \n",
       "9   (kitchen-curtains, 0.00971618566685)   \n",
       "10            (jotted, 0.00193640038552)   \n",
       "11           (truism, 0.000350299545523)   \n",
       "12           (ensued, 0.000311417827796)   \n",
       "13       (associated, 0.000552156194552)   \n",
       "14         (touching, 0.000308916000195)   \n",
       "15        (graveyards, 0.00675038000769)   \n",
       "16        (associated, 0.00902764474616)   \n",
       "17           (tighter, 0.00759670423896)   \n",
       "18            (stinky, 0.00379904041655)   \n",
       "19           (stinky, 0.000296578406571)   \n",
       "\n",
       "                                       1                                   2  \\\n",
       "0              (deity, 0.00411213549263)        (indebted, 0.00404191901075)   \n",
       "1        (phraseology, 0.00521388562923)      (five-pound, 0.00517961051951)   \n",
       "2               (cats, 0.00024482934652)       (products, 0.000241613371413)   \n",
       "3            (stinky, 0.000362981605226)        (succeed, 0.000353099583037)   \n",
       "4           (rehoboth, 0.00571816477124)        (touching, 0.00545445719676)   \n",
       "5        (whimperings, 0.00609551439984)          (truism, 0.00582861948731)   \n",
       "6            (stinky, 0.000253980290628)           (cook, 0.000239617498542)   \n",
       "7   (cold-bloodedness, 0.00752701028103)          (nummos, 0.00580265450926)   \n",
       "8        (eventuality, 0.00485009718078)   (indispensable, 0.00452289481478)   \n",
       "9               (cook, 0.00606655295639)          (stinky, 0.00563864212014)   \n",
       "10       (near-squeak, 0.00154367290871)   (three-fourths, 0.00151996870172)   \n",
       "11         (products, 0.000337659909267)        (succeed, 0.000315489978579)   \n",
       "12   (contemptuously, 0.000272642550321)        (tourist, 0.000267267073362)   \n",
       "13          (phraseology, 0.00042607101)        (fluffed, 0.000400441149876)   \n",
       "14          (succeed, 0.000299935481515)           (cook, 0.000292707721146)   \n",
       "15         (poisonous, 0.00480906211364)          (ensued, 0.00453136924118)   \n",
       "16            (lawyer, 0.00659636555774)           (stump, 0.00453008430793)   \n",
       "17            (lawyer, 0.00751326061163)  (communications, 0.00577718201413)   \n",
       "18            (scales, 0.00315340471484)    (introductions, 0.0030805298553)   \n",
       "19           (truism, 0.000296191074111)      (violently, 0.000290649670488)   \n",
       "\n",
       "                                       3  \\\n",
       "0              (count, 0.00391842960968)   \n",
       "1            (napping, 0.00469047224745)   \n",
       "2               (mews, 0.00023171808678)   \n",
       "3              (cook, 0.000339632626996)   \n",
       "4            (camping, 0.00431340187164)   \n",
       "5           (rumbling, 0.00580383641353)   \n",
       "6         (violently, 0.000237434636972)   \n",
       "7         (counteract, 0.00579194730141)   \n",
       "8   (kitchen-curtains, 0.00407632584015)   \n",
       "9           (polygamy, 0.00480893845467)   \n",
       "10           (uncouth, 0.00150537878679)   \n",
       "11         (rehoboth, 0.000306482507624)   \n",
       "12           (stinky, 0.000264799230498)   \n",
       "13          (succeed, 0.000399462076906)   \n",
       "14               (ivy, 0.00029013621845)   \n",
       "15          (huntsman, 0.00441519091237)   \n",
       "16     (heavily-laden, 0.00399771781346)   \n",
       "17          (eloquent, 0.00552806290306)   \n",
       "18        (decoration, 0.00307899995996)   \n",
       "19   (contemptuously, 0.000260989306835)   \n",
       "\n",
       "                                        4  \\\n",
       "0            (touching, 0.00378844415648)   \n",
       "1               (idler, 0.00466221399393)   \n",
       "2        (phraseology, 0.000225796407223)   \n",
       "3                (ivy, 0.000321618561559)   \n",
       "4            (unbarred, 0.00416956163628)   \n",
       "5             (pounder, 0.00578716246908)   \n",
       "6        (phraseology, 0.000237107750238)   \n",
       "7             (huntsman, 0.0057189053516)   \n",
       "8            (lounging, 0.00320591442547)   \n",
       "9            (confined, 0.00479574220282)   \n",
       "10             (pebble, 0.00145184476272)   \n",
       "11            (lawyer, 0.000297773648823)   \n",
       "12             (stump, 0.000257133671853)   \n",
       "13             (idler, 0.000384132355256)   \n",
       "14           (tourist, 0.000284900203373)   \n",
       "15       (significance, 0.00424689363865)   \n",
       "16     (contemptuously, 0.00384189739825)   \n",
       "17             (sorrow, 0.00469551664142)   \n",
       "18           (touching, 0.00304877570179)   \n",
       "19  (kitchen-curtains, 0.000257162612833)   \n",
       "\n",
       "                                       5                                   6  \\\n",
       "0             (belong, 0.00343092106456)    (constellated, 0.00324669486471)   \n",
       "1               (mews, 0.00459587199319)           (zabibi, 0.0043960507045)   \n",
       "2          (touching, 0.000218175847066)         (stinky, 0.000217207512112)   \n",
       "3           (fluffed, 0.000313658782822)           (lawyer, 0.0003126416168)   \n",
       "4             (pasture, 0.0041337680843)       (futurists, 0.00357654269518)   \n",
       "5     (weather-beaten, 0.00489372491007)          (jarred, 0.00458104964957)   \n",
       "6               (ivy, 0.000230968262153)       (products, 0.000230867684822)   \n",
       "7               (wick, 0.00449945576039)  (contemptuously, 0.00423118767925)   \n",
       "8               (cook, 0.00312835468807)        (leverage, 0.00290042735709)   \n",
       "9            (volumes, 0.00477240917141)        (leverage, 0.00432801827963)   \n",
       "10              (ajar, 0.00126108266026)         (embrace, 0.00115481669165)   \n",
       "11         (croaking, 0.000289140424726)            (ivy, 0.000284235957884)   \n",
       "12           (truism, 0.000248845440394)        (pounder, 0.000242702268863)   \n",
       "13             (lawyer, 0.0003838500743)          (truism, 0.00037309720856)   \n",
       "14         (products, 0.000279923190904)         (truism, 0.000268142486162)   \n",
       "15           (fluffed, 0.00412564105136)      (atmosphere, 0.00403107131299)   \n",
       "16       (phraseology, 0.00374229755741)          (truism, 0.00365675060295)   \n",
       "17             (sunol, 0.00469141924687)          (florid, 0.00406051778784)   \n",
       "18  (kitchen-curtains, 0.00295908829441)             (ivy, 0.00279966843555)   \n",
       "19      (phraseology, 0.000251937005576)        (succeed, 0.000241240654708)   \n",
       "\n",
       "                                        7                                 8  \\\n",
       "0          (red-lipped, 0.00296536507308)          (rose, 0.00295693331599)   \n",
       "1            (croaking, 0.00432460938695)        (sturdy, 0.00425673970809)   \n",
       "2            (tourist, 0.000216677271454)       (truism, 0.000214776102229)   \n",
       "3   (kitchen-curtains, 0.000308972948121)      (tourist, 0.000304633147122)   \n",
       "4    (kitchen-curtains, 0.00350132075915)       (schemes, 0.00331993108674)   \n",
       "5               (repair, 0.0044978438462)      (endeavor, 0.00449145660746)   \n",
       "6           (touching, 0.000223813209123)   (paddington, 0.000222721107659)   \n",
       "7           (bed-house, 0.00388875845861)      (fan-wise, 0.00369836608266)   \n",
       "8               (rides, 0.00282421073884)        (truism, 0.00250411538408)   \n",
       "9          (paddington, 0.00422521035414)           (wagon, 0.004115242613)   \n",
       "10               (vis, 0.000796903295258)   (cöalitions, 0.000796749130882)   \n",
       "11              (mews, 0.000282486924715)       (stinky, 0.000281731243868)   \n",
       "12           (succeed, 0.000241433001524)          (ivy, 0.000238671807648)   \n",
       "13        (paddington, 0.000367783051941)         (dully, 0.00036768371913)   \n",
       "14     (contemptuously, 0.00026525765426)  (phraseology, 0.000258550007527)   \n",
       "15           (products, 0.00389917925993)       (retorts, 0.00388910175152)   \n",
       "16            (succeed, 0.00363298892724)      (trackers, 0.00348647417996)   \n",
       "17         (exaggerate, 0.00383526842887)   (misfortunes, 0.00366616634652)   \n",
       "18               (cook, 0.00277814194365)      (inserted, 0.00275014586638)   \n",
       "19            (ensued, 0.000238030719979)   (associated, 0.000227402647026)   \n",
       "\n",
       "                                   9  \n",
       "0           (cook, 0.00294542508361)  \n",
       "1          (stuck, 0.00424386063559)  \n",
       "2       (succeed, 0.000213613208371)  \n",
       "3      (touching, 0.000299959716139)  \n",
       "4       (plunging, 0.00326596332533)  \n",
       "5        (vanguard, 0.0042708458771)  \n",
       "6          (rose, 0.000218934474634)  \n",
       "7          (cyril, 0.00369081932092)  \n",
       "8         (ensued, 0.00249472709769)  \n",
       "9        (protect, 0.00403064992463)  \n",
       "10          (esq, 0.000795464317234)  \n",
       "11     (unbarred, 0.000281314121126)  \n",
       "12        (idler, 0.000236536024613)  \n",
       "13       (stinky, 0.000365065005137)  \n",
       "14       (fluffed, 0.00025685099085)  \n",
       "15       (fleeing, 0.00369430247732)  \n",
       "16    (paddington, 0.00347842446189)  \n",
       "17    (stranger's, 0.00318874581315)  \n",
       "18  (whisperingly, 0.00264460564544)  \n",
       "19        (idler, 0.000224146454812)  "
      ]
     },
     "execution_count": 23,
     "metadata": {},
     "output_type": "execute_result"
    },
    {
     "name": "stderr",
     "output_type": "stream",
     "text": [
      "/usr/lib/python3.5/json/encoder.py:198: DeprecationWarning: Interpreting naive datetime as local 2017-04-03 13:20:53.402191. Please add timezone info to timestamps.\n",
      "  chunks = self.iterencode(o, _one_shot=True)\n"
     ]
    }
   ],
   "source": [
    "#Topic probabilities - zum Testen der Funktion\n",
    "topics = model.show_topics(num_topics = model.num_topics, formatted=False)\n",
    "\n",
    "num_topics = model.num_topics\n",
    "topics_df = pre.pd.DataFrame(index = range(num_topics), columns= range(10))\n",
    "\n",
    "for topic in topics:\n",
    "    idx = topic[0]\n",
    "    temp = topic[1]\n",
    "    topics_df.loc[idx] = temp\n",
    "        \n",
    "topics_df"
   ]
  },
  {
   "cell_type": "code",
   "execution_count": 24,
   "metadata": {
    "collapsed": false,
    "deletable": true,
    "editable": true
   },
   "outputs": [
    {
     "data": {
      "text/html": [
       "<div>\n",
       "<table border=\"1\" class=\"dataframe\">\n",
       "  <thead>\n",
       "    <tr style=\"text-align: right;\">\n",
       "      <th></th>\n",
       "      <th>0</th>\n",
       "      <th>1</th>\n",
       "      <th>2</th>\n",
       "      <th>3</th>\n",
       "      <th>4</th>\n",
       "      <th>5</th>\n",
       "      <th>6</th>\n",
       "      <th>7</th>\n",
       "      <th>8</th>\n",
       "      <th>9</th>\n",
       "    </tr>\n",
       "  </thead>\n",
       "  <tbody>\n",
       "    <tr>\n",
       "      <th>0</th>\n",
       "      <td>(kitchen-curtains, 0.0049936439921)</td>\n",
       "      <td>(deity, 0.00411213549263)</td>\n",
       "      <td>(indebted, 0.00404191901075)</td>\n",
       "      <td>(count, 0.00391842960968)</td>\n",
       "      <td>(touching, 0.00378844415648)</td>\n",
       "      <td>(belong, 0.00343092106456)</td>\n",
       "      <td>(constellated, 0.00324669486471)</td>\n",
       "      <td>(red-lipped, 0.00296536507308)</td>\n",
       "      <td>(rose, 0.00295693331599)</td>\n",
       "      <td>(cook, 0.00294542508361)</td>\n",
       "    </tr>\n",
       "    <tr>\n",
       "      <th>1</th>\n",
       "      <td>(lawyer, 0.0055564538832)</td>\n",
       "      <td>(phraseology, 0.00521388562923)</td>\n",
       "      <td>(five-pound, 0.00517961051951)</td>\n",
       "      <td>(napping, 0.00469047224745)</td>\n",
       "      <td>(idler, 0.00466221399393)</td>\n",
       "      <td>(mews, 0.00459587199319)</td>\n",
       "      <td>(zabibi, 0.0043960507045)</td>\n",
       "      <td>(croaking, 0.00432460938695)</td>\n",
       "      <td>(sturdy, 0.00425673970809)</td>\n",
       "      <td>(stuck, 0.00424386063559)</td>\n",
       "    </tr>\n",
       "    <tr>\n",
       "      <th>2</th>\n",
       "      <td>(pounder, 0.000297634406028)</td>\n",
       "      <td>(cats, 0.00024482934652)</td>\n",
       "      <td>(products, 0.000241613371413)</td>\n",
       "      <td>(mews, 0.00023171808678)</td>\n",
       "      <td>(phraseology, 0.000225796407223)</td>\n",
       "      <td>(touching, 0.000218175847066)</td>\n",
       "      <td>(stinky, 0.000217207512112)</td>\n",
       "      <td>(tourist, 0.000216677271454)</td>\n",
       "      <td>(truism, 0.000214776102229)</td>\n",
       "      <td>(succeed, 0.000213613208371)</td>\n",
       "    </tr>\n",
       "    <tr>\n",
       "      <th>3</th>\n",
       "      <td>(phraseology, 0.000429642927338)</td>\n",
       "      <td>(stinky, 0.000362981605226)</td>\n",
       "      <td>(succeed, 0.000353099583037)</td>\n",
       "      <td>(cook, 0.000339632626996)</td>\n",
       "      <td>(ivy, 0.000321618561559)</td>\n",
       "      <td>(fluffed, 0.000313658782822)</td>\n",
       "      <td>(lawyer, 0.0003126416168)</td>\n",
       "      <td>(kitchen-curtains, 0.000308972948121)</td>\n",
       "      <td>(tourist, 0.000304633147122)</td>\n",
       "      <td>(touching, 0.000299959716139)</td>\n",
       "    </tr>\n",
       "    <tr>\n",
       "      <th>4</th>\n",
       "      <td>(every, 0.0121544205339)</td>\n",
       "      <td>(rehoboth, 0.00571816477124)</td>\n",
       "      <td>(touching, 0.00545445719676)</td>\n",
       "      <td>(camping, 0.00431340187164)</td>\n",
       "      <td>(unbarred, 0.00416956163628)</td>\n",
       "      <td>(pasture, 0.0041337680843)</td>\n",
       "      <td>(futurists, 0.00357654269518)</td>\n",
       "      <td>(kitchen-curtains, 0.00350132075915)</td>\n",
       "      <td>(schemes, 0.00331993108674)</td>\n",
       "      <td>(plunging, 0.00326596332533)</td>\n",
       "    </tr>\n",
       "    <tr>\n",
       "      <th>5</th>\n",
       "      <td>(gorge, 0.00855421654657)</td>\n",
       "      <td>(whimperings, 0.00609551439984)</td>\n",
       "      <td>(truism, 0.00582861948731)</td>\n",
       "      <td>(rumbling, 0.00580383641353)</td>\n",
       "      <td>(pounder, 0.00578716246908)</td>\n",
       "      <td>(weather-beaten, 0.00489372491007)</td>\n",
       "      <td>(jarred, 0.00458104964957)</td>\n",
       "      <td>(repair, 0.0044978438462)</td>\n",
       "      <td>(endeavor, 0.00449145660746)</td>\n",
       "      <td>(vanguard, 0.0042708458771)</td>\n",
       "    </tr>\n",
       "    <tr>\n",
       "      <th>6</th>\n",
       "      <td>(succeed, 0.00027222692034)</td>\n",
       "      <td>(stinky, 0.000253980290628)</td>\n",
       "      <td>(cook, 0.000239617498542)</td>\n",
       "      <td>(violently, 0.000237434636972)</td>\n",
       "      <td>(phraseology, 0.000237107750238)</td>\n",
       "      <td>(ivy, 0.000230968262153)</td>\n",
       "      <td>(products, 0.000230867684822)</td>\n",
       "      <td>(touching, 0.000223813209123)</td>\n",
       "      <td>(paddington, 0.000222721107659)</td>\n",
       "      <td>(rose, 0.000218934474634)</td>\n",
       "    </tr>\n",
       "    <tr>\n",
       "      <th>7</th>\n",
       "      <td>(shadows, 0.0109974665476)</td>\n",
       "      <td>(cold-bloodedness, 0.00752701028103)</td>\n",
       "      <td>(nummos, 0.00580265450926)</td>\n",
       "      <td>(counteract, 0.00579194730141)</td>\n",
       "      <td>(huntsman, 0.0057189053516)</td>\n",
       "      <td>(wick, 0.00449945576039)</td>\n",
       "      <td>(contemptuously, 0.00423118767925)</td>\n",
       "      <td>(bed-house, 0.00388875845861)</td>\n",
       "      <td>(fan-wise, 0.00369836608266)</td>\n",
       "      <td>(cyril, 0.00369081932092)</td>\n",
       "    </tr>\n",
       "    <tr>\n",
       "      <th>8</th>\n",
       "      <td>(mythical, 0.0055002109379)</td>\n",
       "      <td>(eventuality, 0.00485009718078)</td>\n",
       "      <td>(indispensable, 0.00452289481478)</td>\n",
       "      <td>(kitchen-curtains, 0.00407632584015)</td>\n",
       "      <td>(lounging, 0.00320591442547)</td>\n",
       "      <td>(cook, 0.00312835468807)</td>\n",
       "      <td>(leverage, 0.00290042735709)</td>\n",
       "      <td>(rides, 0.00282421073884)</td>\n",
       "      <td>(truism, 0.00250411538408)</td>\n",
       "      <td>(ensued, 0.00249472709769)</td>\n",
       "    </tr>\n",
       "    <tr>\n",
       "      <th>9</th>\n",
       "      <td>(kitchen-curtains, 0.00971618566685)</td>\n",
       "      <td>(cook, 0.00606655295639)</td>\n",
       "      <td>(stinky, 0.00563864212014)</td>\n",
       "      <td>(polygamy, 0.00480893845467)</td>\n",
       "      <td>(confined, 0.00479574220282)</td>\n",
       "      <td>(volumes, 0.00477240917141)</td>\n",
       "      <td>(leverage, 0.00432801827963)</td>\n",
       "      <td>(paddington, 0.00422521035414)</td>\n",
       "      <td>(wagon, 0.004115242613)</td>\n",
       "      <td>(protect, 0.00403064992463)</td>\n",
       "    </tr>\n",
       "    <tr>\n",
       "      <th>10</th>\n",
       "      <td>(jotted, 0.00193640038552)</td>\n",
       "      <td>(near-squeak, 0.00154367290871)</td>\n",
       "      <td>(three-fourths, 0.00151996870172)</td>\n",
       "      <td>(uncouth, 0.00150537878679)</td>\n",
       "      <td>(pebble, 0.00145184476272)</td>\n",
       "      <td>(ajar, 0.00126108266026)</td>\n",
       "      <td>(embrace, 0.00115481669165)</td>\n",
       "      <td>(vis, 0.000796903295258)</td>\n",
       "      <td>(cöalitions, 0.000796749130882)</td>\n",
       "      <td>(esq, 0.000795464317234)</td>\n",
       "    </tr>\n",
       "    <tr>\n",
       "      <th>11</th>\n",
       "      <td>(truism, 0.000350299545523)</td>\n",
       "      <td>(products, 0.000337659909267)</td>\n",
       "      <td>(succeed, 0.000315489978579)</td>\n",
       "      <td>(rehoboth, 0.000306482507624)</td>\n",
       "      <td>(lawyer, 0.000297773648823)</td>\n",
       "      <td>(croaking, 0.000289140424726)</td>\n",
       "      <td>(ivy, 0.000284235957884)</td>\n",
       "      <td>(mews, 0.000282486924715)</td>\n",
       "      <td>(stinky, 0.000281731243868)</td>\n",
       "      <td>(unbarred, 0.000281314121126)</td>\n",
       "    </tr>\n",
       "    <tr>\n",
       "      <th>12</th>\n",
       "      <td>(ensued, 0.000311417827796)</td>\n",
       "      <td>(contemptuously, 0.000272642550321)</td>\n",
       "      <td>(tourist, 0.000267267073362)</td>\n",
       "      <td>(stinky, 0.000264799230498)</td>\n",
       "      <td>(stump, 0.000257133671853)</td>\n",
       "      <td>(truism, 0.000248845440394)</td>\n",
       "      <td>(pounder, 0.000242702268863)</td>\n",
       "      <td>(succeed, 0.000241433001524)</td>\n",
       "      <td>(ivy, 0.000238671807648)</td>\n",
       "      <td>(idler, 0.000236536024613)</td>\n",
       "    </tr>\n",
       "    <tr>\n",
       "      <th>13</th>\n",
       "      <td>(associated, 0.000552156194552)</td>\n",
       "      <td>(phraseology, 0.00042607101)</td>\n",
       "      <td>(fluffed, 0.000400441149876)</td>\n",
       "      <td>(succeed, 0.000399462076906)</td>\n",
       "      <td>(idler, 0.000384132355256)</td>\n",
       "      <td>(lawyer, 0.0003838500743)</td>\n",
       "      <td>(truism, 0.00037309720856)</td>\n",
       "      <td>(paddington, 0.000367783051941)</td>\n",
       "      <td>(dully, 0.00036768371913)</td>\n",
       "      <td>(stinky, 0.000365065005137)</td>\n",
       "    </tr>\n",
       "    <tr>\n",
       "      <th>14</th>\n",
       "      <td>(touching, 0.000308916000195)</td>\n",
       "      <td>(succeed, 0.000299935481515)</td>\n",
       "      <td>(cook, 0.000292707721146)</td>\n",
       "      <td>(ivy, 0.00029013621845)</td>\n",
       "      <td>(tourist, 0.000284900203373)</td>\n",
       "      <td>(products, 0.000279923190904)</td>\n",
       "      <td>(truism, 0.000268142486162)</td>\n",
       "      <td>(contemptuously, 0.00026525765426)</td>\n",
       "      <td>(phraseology, 0.000258550007527)</td>\n",
       "      <td>(fluffed, 0.00025685099085)</td>\n",
       "    </tr>\n",
       "    <tr>\n",
       "      <th>15</th>\n",
       "      <td>(graveyards, 0.00675038000769)</td>\n",
       "      <td>(poisonous, 0.00480906211364)</td>\n",
       "      <td>(ensued, 0.00453136924118)</td>\n",
       "      <td>(huntsman, 0.00441519091237)</td>\n",
       "      <td>(significance, 0.00424689363865)</td>\n",
       "      <td>(fluffed, 0.00412564105136)</td>\n",
       "      <td>(atmosphere, 0.00403107131299)</td>\n",
       "      <td>(products, 0.00389917925993)</td>\n",
       "      <td>(retorts, 0.00388910175152)</td>\n",
       "      <td>(fleeing, 0.00369430247732)</td>\n",
       "    </tr>\n",
       "    <tr>\n",
       "      <th>16</th>\n",
       "      <td>(associated, 0.00902764474616)</td>\n",
       "      <td>(lawyer, 0.00659636555774)</td>\n",
       "      <td>(stump, 0.00453008430793)</td>\n",
       "      <td>(heavily-laden, 0.00399771781346)</td>\n",
       "      <td>(contemptuously, 0.00384189739825)</td>\n",
       "      <td>(phraseology, 0.00374229755741)</td>\n",
       "      <td>(truism, 0.00365675060295)</td>\n",
       "      <td>(succeed, 0.00363298892724)</td>\n",
       "      <td>(trackers, 0.00348647417996)</td>\n",
       "      <td>(paddington, 0.00347842446189)</td>\n",
       "    </tr>\n",
       "    <tr>\n",
       "      <th>17</th>\n",
       "      <td>(tighter, 0.00759670423896)</td>\n",
       "      <td>(lawyer, 0.00751326061163)</td>\n",
       "      <td>(communications, 0.00577718201413)</td>\n",
       "      <td>(eloquent, 0.00552806290306)</td>\n",
       "      <td>(sorrow, 0.00469551664142)</td>\n",
       "      <td>(sunol, 0.00469141924687)</td>\n",
       "      <td>(florid, 0.00406051778784)</td>\n",
       "      <td>(exaggerate, 0.00383526842887)</td>\n",
       "      <td>(misfortunes, 0.00366616634652)</td>\n",
       "      <td>(stranger's, 0.00318874581315)</td>\n",
       "    </tr>\n",
       "    <tr>\n",
       "      <th>18</th>\n",
       "      <td>(stinky, 0.00379904041655)</td>\n",
       "      <td>(scales, 0.00315340471484)</td>\n",
       "      <td>(introductions, 0.0030805298553)</td>\n",
       "      <td>(decoration, 0.00307899995996)</td>\n",
       "      <td>(touching, 0.00304877570179)</td>\n",
       "      <td>(kitchen-curtains, 0.00295908829441)</td>\n",
       "      <td>(ivy, 0.00279966843555)</td>\n",
       "      <td>(cook, 0.00277814194365)</td>\n",
       "      <td>(inserted, 0.00275014586638)</td>\n",
       "      <td>(whisperingly, 0.00264460564544)</td>\n",
       "    </tr>\n",
       "    <tr>\n",
       "      <th>19</th>\n",
       "      <td>(stinky, 0.000296578406571)</td>\n",
       "      <td>(truism, 0.000296191074111)</td>\n",
       "      <td>(violently, 0.000290649670488)</td>\n",
       "      <td>(contemptuously, 0.000260989306835)</td>\n",
       "      <td>(kitchen-curtains, 0.000257162612833)</td>\n",
       "      <td>(phraseology, 0.000251937005576)</td>\n",
       "      <td>(succeed, 0.000241240654708)</td>\n",
       "      <td>(ensued, 0.000238030719979)</td>\n",
       "      <td>(associated, 0.000227402647026)</td>\n",
       "      <td>(idler, 0.000224146454812)</td>\n",
       "    </tr>\n",
       "  </tbody>\n",
       "</table>\n",
       "</div>"
      ],
      "text/plain": [
       "                                       0  \\\n",
       "0    (kitchen-curtains, 0.0049936439921)   \n",
       "1              (lawyer, 0.0055564538832)   \n",
       "2           (pounder, 0.000297634406028)   \n",
       "3       (phraseology, 0.000429642927338)   \n",
       "4               (every, 0.0121544205339)   \n",
       "5              (gorge, 0.00855421654657)   \n",
       "6            (succeed, 0.00027222692034)   \n",
       "7             (shadows, 0.0109974665476)   \n",
       "8            (mythical, 0.0055002109379)   \n",
       "9   (kitchen-curtains, 0.00971618566685)   \n",
       "10            (jotted, 0.00193640038552)   \n",
       "11           (truism, 0.000350299545523)   \n",
       "12           (ensued, 0.000311417827796)   \n",
       "13       (associated, 0.000552156194552)   \n",
       "14         (touching, 0.000308916000195)   \n",
       "15        (graveyards, 0.00675038000769)   \n",
       "16        (associated, 0.00902764474616)   \n",
       "17           (tighter, 0.00759670423896)   \n",
       "18            (stinky, 0.00379904041655)   \n",
       "19           (stinky, 0.000296578406571)   \n",
       "\n",
       "                                       1                                   2  \\\n",
       "0              (deity, 0.00411213549263)        (indebted, 0.00404191901075)   \n",
       "1        (phraseology, 0.00521388562923)      (five-pound, 0.00517961051951)   \n",
       "2               (cats, 0.00024482934652)       (products, 0.000241613371413)   \n",
       "3            (stinky, 0.000362981605226)        (succeed, 0.000353099583037)   \n",
       "4           (rehoboth, 0.00571816477124)        (touching, 0.00545445719676)   \n",
       "5        (whimperings, 0.00609551439984)          (truism, 0.00582861948731)   \n",
       "6            (stinky, 0.000253980290628)           (cook, 0.000239617498542)   \n",
       "7   (cold-bloodedness, 0.00752701028103)          (nummos, 0.00580265450926)   \n",
       "8        (eventuality, 0.00485009718078)   (indispensable, 0.00452289481478)   \n",
       "9               (cook, 0.00606655295639)          (stinky, 0.00563864212014)   \n",
       "10       (near-squeak, 0.00154367290871)   (three-fourths, 0.00151996870172)   \n",
       "11         (products, 0.000337659909267)        (succeed, 0.000315489978579)   \n",
       "12   (contemptuously, 0.000272642550321)        (tourist, 0.000267267073362)   \n",
       "13          (phraseology, 0.00042607101)        (fluffed, 0.000400441149876)   \n",
       "14          (succeed, 0.000299935481515)           (cook, 0.000292707721146)   \n",
       "15         (poisonous, 0.00480906211364)          (ensued, 0.00453136924118)   \n",
       "16            (lawyer, 0.00659636555774)           (stump, 0.00453008430793)   \n",
       "17            (lawyer, 0.00751326061163)  (communications, 0.00577718201413)   \n",
       "18            (scales, 0.00315340471484)    (introductions, 0.0030805298553)   \n",
       "19           (truism, 0.000296191074111)      (violently, 0.000290649670488)   \n",
       "\n",
       "                                       3  \\\n",
       "0              (count, 0.00391842960968)   \n",
       "1            (napping, 0.00469047224745)   \n",
       "2               (mews, 0.00023171808678)   \n",
       "3              (cook, 0.000339632626996)   \n",
       "4            (camping, 0.00431340187164)   \n",
       "5           (rumbling, 0.00580383641353)   \n",
       "6         (violently, 0.000237434636972)   \n",
       "7         (counteract, 0.00579194730141)   \n",
       "8   (kitchen-curtains, 0.00407632584015)   \n",
       "9           (polygamy, 0.00480893845467)   \n",
       "10           (uncouth, 0.00150537878679)   \n",
       "11         (rehoboth, 0.000306482507624)   \n",
       "12           (stinky, 0.000264799230498)   \n",
       "13          (succeed, 0.000399462076906)   \n",
       "14               (ivy, 0.00029013621845)   \n",
       "15          (huntsman, 0.00441519091237)   \n",
       "16     (heavily-laden, 0.00399771781346)   \n",
       "17          (eloquent, 0.00552806290306)   \n",
       "18        (decoration, 0.00307899995996)   \n",
       "19   (contemptuously, 0.000260989306835)   \n",
       "\n",
       "                                        4  \\\n",
       "0            (touching, 0.00378844415648)   \n",
       "1               (idler, 0.00466221399393)   \n",
       "2        (phraseology, 0.000225796407223)   \n",
       "3                (ivy, 0.000321618561559)   \n",
       "4            (unbarred, 0.00416956163628)   \n",
       "5             (pounder, 0.00578716246908)   \n",
       "6        (phraseology, 0.000237107750238)   \n",
       "7             (huntsman, 0.0057189053516)   \n",
       "8            (lounging, 0.00320591442547)   \n",
       "9            (confined, 0.00479574220282)   \n",
       "10             (pebble, 0.00145184476272)   \n",
       "11            (lawyer, 0.000297773648823)   \n",
       "12             (stump, 0.000257133671853)   \n",
       "13             (idler, 0.000384132355256)   \n",
       "14           (tourist, 0.000284900203373)   \n",
       "15       (significance, 0.00424689363865)   \n",
       "16     (contemptuously, 0.00384189739825)   \n",
       "17             (sorrow, 0.00469551664142)   \n",
       "18           (touching, 0.00304877570179)   \n",
       "19  (kitchen-curtains, 0.000257162612833)   \n",
       "\n",
       "                                       5                                   6  \\\n",
       "0             (belong, 0.00343092106456)    (constellated, 0.00324669486471)   \n",
       "1               (mews, 0.00459587199319)           (zabibi, 0.0043960507045)   \n",
       "2          (touching, 0.000218175847066)         (stinky, 0.000217207512112)   \n",
       "3           (fluffed, 0.000313658782822)           (lawyer, 0.0003126416168)   \n",
       "4             (pasture, 0.0041337680843)       (futurists, 0.00357654269518)   \n",
       "5     (weather-beaten, 0.00489372491007)          (jarred, 0.00458104964957)   \n",
       "6               (ivy, 0.000230968262153)       (products, 0.000230867684822)   \n",
       "7               (wick, 0.00449945576039)  (contemptuously, 0.00423118767925)   \n",
       "8               (cook, 0.00312835468807)        (leverage, 0.00290042735709)   \n",
       "9            (volumes, 0.00477240917141)        (leverage, 0.00432801827963)   \n",
       "10              (ajar, 0.00126108266026)         (embrace, 0.00115481669165)   \n",
       "11         (croaking, 0.000289140424726)            (ivy, 0.000284235957884)   \n",
       "12           (truism, 0.000248845440394)        (pounder, 0.000242702268863)   \n",
       "13             (lawyer, 0.0003838500743)          (truism, 0.00037309720856)   \n",
       "14         (products, 0.000279923190904)         (truism, 0.000268142486162)   \n",
       "15           (fluffed, 0.00412564105136)      (atmosphere, 0.00403107131299)   \n",
       "16       (phraseology, 0.00374229755741)          (truism, 0.00365675060295)   \n",
       "17             (sunol, 0.00469141924687)          (florid, 0.00406051778784)   \n",
       "18  (kitchen-curtains, 0.00295908829441)             (ivy, 0.00279966843555)   \n",
       "19      (phraseology, 0.000251937005576)        (succeed, 0.000241240654708)   \n",
       "\n",
       "                                        7                                 8  \\\n",
       "0          (red-lipped, 0.00296536507308)          (rose, 0.00295693331599)   \n",
       "1            (croaking, 0.00432460938695)        (sturdy, 0.00425673970809)   \n",
       "2            (tourist, 0.000216677271454)       (truism, 0.000214776102229)   \n",
       "3   (kitchen-curtains, 0.000308972948121)      (tourist, 0.000304633147122)   \n",
       "4    (kitchen-curtains, 0.00350132075915)       (schemes, 0.00331993108674)   \n",
       "5               (repair, 0.0044978438462)      (endeavor, 0.00449145660746)   \n",
       "6           (touching, 0.000223813209123)   (paddington, 0.000222721107659)   \n",
       "7           (bed-house, 0.00388875845861)      (fan-wise, 0.00369836608266)   \n",
       "8               (rides, 0.00282421073884)        (truism, 0.00250411538408)   \n",
       "9          (paddington, 0.00422521035414)           (wagon, 0.004115242613)   \n",
       "10               (vis, 0.000796903295258)   (cöalitions, 0.000796749130882)   \n",
       "11              (mews, 0.000282486924715)       (stinky, 0.000281731243868)   \n",
       "12           (succeed, 0.000241433001524)          (ivy, 0.000238671807648)   \n",
       "13        (paddington, 0.000367783051941)         (dully, 0.00036768371913)   \n",
       "14     (contemptuously, 0.00026525765426)  (phraseology, 0.000258550007527)   \n",
       "15           (products, 0.00389917925993)       (retorts, 0.00388910175152)   \n",
       "16            (succeed, 0.00363298892724)      (trackers, 0.00348647417996)   \n",
       "17         (exaggerate, 0.00383526842887)   (misfortunes, 0.00366616634652)   \n",
       "18               (cook, 0.00277814194365)      (inserted, 0.00275014586638)   \n",
       "19            (ensued, 0.000238030719979)   (associated, 0.000227402647026)   \n",
       "\n",
       "                                   9  \n",
       "0           (cook, 0.00294542508361)  \n",
       "1          (stuck, 0.00424386063559)  \n",
       "2       (succeed, 0.000213613208371)  \n",
       "3      (touching, 0.000299959716139)  \n",
       "4       (plunging, 0.00326596332533)  \n",
       "5        (vanguard, 0.0042708458771)  \n",
       "6          (rose, 0.000218934474634)  \n",
       "7          (cyril, 0.00369081932092)  \n",
       "8         (ensued, 0.00249472709769)  \n",
       "9        (protect, 0.00403064992463)  \n",
       "10          (esq, 0.000795464317234)  \n",
       "11     (unbarred, 0.000281314121126)  \n",
       "12        (idler, 0.000236536024613)  \n",
       "13       (stinky, 0.000365065005137)  \n",
       "14       (fluffed, 0.00025685099085)  \n",
       "15       (fleeing, 0.00369430247732)  \n",
       "16    (paddington, 0.00347842446189)  \n",
       "17    (stranger's, 0.00318874581315)  \n",
       "18  (whisperingly, 0.00264460564544)  \n",
       "19        (idler, 0.000224146454812)  "
      ]
     },
     "execution_count": 24,
     "metadata": {},
     "output_type": "execute_result"
    },
    {
     "name": "stderr",
     "output_type": "stream",
     "text": [
      "/usr/lib/python3.5/json/encoder.py:198: DeprecationWarning: Interpreting naive datetime as local 2017-04-03 13:20:53.469834. Please add timezone info to timestamps.\n",
      "  chunks = self.iterencode(o, _one_shot=True)\n"
     ]
    }
   ],
   "source": [
    "topics_df = pre.gensim2dataframe(model)\n",
    "topics_df"
   ]
  },
  {
   "cell_type": "code",
   "execution_count": 25,
   "metadata": {
    "collapsed": false,
    "deletable": true,
    "editable": true
   },
   "outputs": [
    {
     "data": {
      "text/html": [
       "<div>\n",
       "<table border=\"1\" class=\"dataframe\">\n",
       "  <thead>\n",
       "    <tr style=\"text-align: right;\">\n",
       "      <th></th>\n",
       "      <th>0</th>\n",
       "      <th>1</th>\n",
       "      <th>2</th>\n",
       "      <th>3</th>\n",
       "      <th>4</th>\n",
       "      <th>5</th>\n",
       "      <th>6</th>\n",
       "      <th>7</th>\n",
       "      <th>8</th>\n",
       "      <th>9</th>\n",
       "      <th>10</th>\n",
       "      <th>11</th>\n",
       "      <th>12</th>\n",
       "      <th>13</th>\n",
       "      <th>14</th>\n",
       "      <th>15</th>\n",
       "      <th>16</th>\n",
       "      <th>17</th>\n",
       "      <th>18</th>\n",
       "      <th>19</th>\n",
       "    </tr>\n",
       "  </thead>\n",
       "  <tbody>\n",
       "    <tr>\n",
       "      <th>0</th>\n",
       "      <td>(kitchen-curtains, 0.0049936439921)</td>\n",
       "      <td>(lawyer, 0.0055564538832)</td>\n",
       "      <td>(pounder, 0.000297634406028)</td>\n",
       "      <td>(phraseology, 0.000429642927338)</td>\n",
       "      <td>(every, 0.0121544205339)</td>\n",
       "      <td>(gorge, 0.00855421654657)</td>\n",
       "      <td>(succeed, 0.00027222692034)</td>\n",
       "      <td>(shadows, 0.0109974665476)</td>\n",
       "      <td>(mythical, 0.0055002109379)</td>\n",
       "      <td>(kitchen-curtains, 0.00971618566685)</td>\n",
       "      <td>(jotted, 0.00193640038552)</td>\n",
       "      <td>(truism, 0.000350299545523)</td>\n",
       "      <td>(ensued, 0.000311417827796)</td>\n",
       "      <td>(associated, 0.000552156194552)</td>\n",
       "      <td>(touching, 0.000308916000195)</td>\n",
       "      <td>(graveyards, 0.00675038000769)</td>\n",
       "      <td>(associated, 0.00902764474616)</td>\n",
       "      <td>(tighter, 0.00759670423896)</td>\n",
       "      <td>(stinky, 0.00379904041655)</td>\n",
       "      <td>(stinky, 0.000296578406571)</td>\n",
       "    </tr>\n",
       "    <tr>\n",
       "      <th>1</th>\n",
       "      <td>(deity, 0.00411213549263)</td>\n",
       "      <td>(phraseology, 0.00521388562923)</td>\n",
       "      <td>(cats, 0.00024482934652)</td>\n",
       "      <td>(stinky, 0.000362981605226)</td>\n",
       "      <td>(rehoboth, 0.00571816477124)</td>\n",
       "      <td>(whimperings, 0.00609551439984)</td>\n",
       "      <td>(stinky, 0.000253980290628)</td>\n",
       "      <td>(cold-bloodedness, 0.00752701028103)</td>\n",
       "      <td>(eventuality, 0.00485009718078)</td>\n",
       "      <td>(cook, 0.00606655295639)</td>\n",
       "      <td>(near-squeak, 0.00154367290871)</td>\n",
       "      <td>(products, 0.000337659909267)</td>\n",
       "      <td>(contemptuously, 0.000272642550321)</td>\n",
       "      <td>(phraseology, 0.00042607101)</td>\n",
       "      <td>(succeed, 0.000299935481515)</td>\n",
       "      <td>(poisonous, 0.00480906211364)</td>\n",
       "      <td>(lawyer, 0.00659636555774)</td>\n",
       "      <td>(lawyer, 0.00751326061163)</td>\n",
       "      <td>(scales, 0.00315340471484)</td>\n",
       "      <td>(truism, 0.000296191074111)</td>\n",
       "    </tr>\n",
       "    <tr>\n",
       "      <th>2</th>\n",
       "      <td>(indebted, 0.00404191901075)</td>\n",
       "      <td>(five-pound, 0.00517961051951)</td>\n",
       "      <td>(products, 0.000241613371413)</td>\n",
       "      <td>(succeed, 0.000353099583037)</td>\n",
       "      <td>(touching, 0.00545445719676)</td>\n",
       "      <td>(truism, 0.00582861948731)</td>\n",
       "      <td>(cook, 0.000239617498542)</td>\n",
       "      <td>(nummos, 0.00580265450926)</td>\n",
       "      <td>(indispensable, 0.00452289481478)</td>\n",
       "      <td>(stinky, 0.00563864212014)</td>\n",
       "      <td>(three-fourths, 0.00151996870172)</td>\n",
       "      <td>(succeed, 0.000315489978579)</td>\n",
       "      <td>(tourist, 0.000267267073362)</td>\n",
       "      <td>(fluffed, 0.000400441149876)</td>\n",
       "      <td>(cook, 0.000292707721146)</td>\n",
       "      <td>(ensued, 0.00453136924118)</td>\n",
       "      <td>(stump, 0.00453008430793)</td>\n",
       "      <td>(communications, 0.00577718201413)</td>\n",
       "      <td>(introductions, 0.0030805298553)</td>\n",
       "      <td>(violently, 0.000290649670488)</td>\n",
       "    </tr>\n",
       "    <tr>\n",
       "      <th>3</th>\n",
       "      <td>(count, 0.00391842960968)</td>\n",
       "      <td>(napping, 0.00469047224745)</td>\n",
       "      <td>(mews, 0.00023171808678)</td>\n",
       "      <td>(cook, 0.000339632626996)</td>\n",
       "      <td>(camping, 0.00431340187164)</td>\n",
       "      <td>(rumbling, 0.00580383641353)</td>\n",
       "      <td>(violently, 0.000237434636972)</td>\n",
       "      <td>(counteract, 0.00579194730141)</td>\n",
       "      <td>(kitchen-curtains, 0.00407632584015)</td>\n",
       "      <td>(polygamy, 0.00480893845467)</td>\n",
       "      <td>(uncouth, 0.00150537878679)</td>\n",
       "      <td>(rehoboth, 0.000306482507624)</td>\n",
       "      <td>(stinky, 0.000264799230498)</td>\n",
       "      <td>(succeed, 0.000399462076906)</td>\n",
       "      <td>(ivy, 0.00029013621845)</td>\n",
       "      <td>(huntsman, 0.00441519091237)</td>\n",
       "      <td>(heavily-laden, 0.00399771781346)</td>\n",
       "      <td>(eloquent, 0.00552806290306)</td>\n",
       "      <td>(decoration, 0.00307899995996)</td>\n",
       "      <td>(contemptuously, 0.000260989306835)</td>\n",
       "    </tr>\n",
       "    <tr>\n",
       "      <th>4</th>\n",
       "      <td>(touching, 0.00378844415648)</td>\n",
       "      <td>(idler, 0.00466221399393)</td>\n",
       "      <td>(phraseology, 0.000225796407223)</td>\n",
       "      <td>(ivy, 0.000321618561559)</td>\n",
       "      <td>(unbarred, 0.00416956163628)</td>\n",
       "      <td>(pounder, 0.00578716246908)</td>\n",
       "      <td>(phraseology, 0.000237107750238)</td>\n",
       "      <td>(huntsman, 0.0057189053516)</td>\n",
       "      <td>(lounging, 0.00320591442547)</td>\n",
       "      <td>(confined, 0.00479574220282)</td>\n",
       "      <td>(pebble, 0.00145184476272)</td>\n",
       "      <td>(lawyer, 0.000297773648823)</td>\n",
       "      <td>(stump, 0.000257133671853)</td>\n",
       "      <td>(idler, 0.000384132355256)</td>\n",
       "      <td>(tourist, 0.000284900203373)</td>\n",
       "      <td>(significance, 0.00424689363865)</td>\n",
       "      <td>(contemptuously, 0.00384189739825)</td>\n",
       "      <td>(sorrow, 0.00469551664142)</td>\n",
       "      <td>(touching, 0.00304877570179)</td>\n",
       "      <td>(kitchen-curtains, 0.000257162612833)</td>\n",
       "    </tr>\n",
       "    <tr>\n",
       "      <th>5</th>\n",
       "      <td>(belong, 0.00343092106456)</td>\n",
       "      <td>(mews, 0.00459587199319)</td>\n",
       "      <td>(touching, 0.000218175847066)</td>\n",
       "      <td>(fluffed, 0.000313658782822)</td>\n",
       "      <td>(pasture, 0.0041337680843)</td>\n",
       "      <td>(weather-beaten, 0.00489372491007)</td>\n",
       "      <td>(ivy, 0.000230968262153)</td>\n",
       "      <td>(wick, 0.00449945576039)</td>\n",
       "      <td>(cook, 0.00312835468807)</td>\n",
       "      <td>(volumes, 0.00477240917141)</td>\n",
       "      <td>(ajar, 0.00126108266026)</td>\n",
       "      <td>(croaking, 0.000289140424726)</td>\n",
       "      <td>(truism, 0.000248845440394)</td>\n",
       "      <td>(lawyer, 0.0003838500743)</td>\n",
       "      <td>(products, 0.000279923190904)</td>\n",
       "      <td>(fluffed, 0.00412564105136)</td>\n",
       "      <td>(phraseology, 0.00374229755741)</td>\n",
       "      <td>(sunol, 0.00469141924687)</td>\n",
       "      <td>(kitchen-curtains, 0.00295908829441)</td>\n",
       "      <td>(phraseology, 0.000251937005576)</td>\n",
       "    </tr>\n",
       "    <tr>\n",
       "      <th>6</th>\n",
       "      <td>(constellated, 0.00324669486471)</td>\n",
       "      <td>(zabibi, 0.0043960507045)</td>\n",
       "      <td>(stinky, 0.000217207512112)</td>\n",
       "      <td>(lawyer, 0.0003126416168)</td>\n",
       "      <td>(futurists, 0.00357654269518)</td>\n",
       "      <td>(jarred, 0.00458104964957)</td>\n",
       "      <td>(products, 0.000230867684822)</td>\n",
       "      <td>(contemptuously, 0.00423118767925)</td>\n",
       "      <td>(leverage, 0.00290042735709)</td>\n",
       "      <td>(leverage, 0.00432801827963)</td>\n",
       "      <td>(embrace, 0.00115481669165)</td>\n",
       "      <td>(ivy, 0.000284235957884)</td>\n",
       "      <td>(pounder, 0.000242702268863)</td>\n",
       "      <td>(truism, 0.00037309720856)</td>\n",
       "      <td>(truism, 0.000268142486162)</td>\n",
       "      <td>(atmosphere, 0.00403107131299)</td>\n",
       "      <td>(truism, 0.00365675060295)</td>\n",
       "      <td>(florid, 0.00406051778784)</td>\n",
       "      <td>(ivy, 0.00279966843555)</td>\n",
       "      <td>(succeed, 0.000241240654708)</td>\n",
       "    </tr>\n",
       "    <tr>\n",
       "      <th>7</th>\n",
       "      <td>(red-lipped, 0.00296536507308)</td>\n",
       "      <td>(croaking, 0.00432460938695)</td>\n",
       "      <td>(tourist, 0.000216677271454)</td>\n",
       "      <td>(kitchen-curtains, 0.000308972948121)</td>\n",
       "      <td>(kitchen-curtains, 0.00350132075915)</td>\n",
       "      <td>(repair, 0.0044978438462)</td>\n",
       "      <td>(touching, 0.000223813209123)</td>\n",
       "      <td>(bed-house, 0.00388875845861)</td>\n",
       "      <td>(rides, 0.00282421073884)</td>\n",
       "      <td>(paddington, 0.00422521035414)</td>\n",
       "      <td>(vis, 0.000796903295258)</td>\n",
       "      <td>(mews, 0.000282486924715)</td>\n",
       "      <td>(succeed, 0.000241433001524)</td>\n",
       "      <td>(paddington, 0.000367783051941)</td>\n",
       "      <td>(contemptuously, 0.00026525765426)</td>\n",
       "      <td>(products, 0.00389917925993)</td>\n",
       "      <td>(succeed, 0.00363298892724)</td>\n",
       "      <td>(exaggerate, 0.00383526842887)</td>\n",
       "      <td>(cook, 0.00277814194365)</td>\n",
       "      <td>(ensued, 0.000238030719979)</td>\n",
       "    </tr>\n",
       "    <tr>\n",
       "      <th>8</th>\n",
       "      <td>(rose, 0.00295693331599)</td>\n",
       "      <td>(sturdy, 0.00425673970809)</td>\n",
       "      <td>(truism, 0.000214776102229)</td>\n",
       "      <td>(tourist, 0.000304633147122)</td>\n",
       "      <td>(schemes, 0.00331993108674)</td>\n",
       "      <td>(endeavor, 0.00449145660746)</td>\n",
       "      <td>(paddington, 0.000222721107659)</td>\n",
       "      <td>(fan-wise, 0.00369836608266)</td>\n",
       "      <td>(truism, 0.00250411538408)</td>\n",
       "      <td>(wagon, 0.004115242613)</td>\n",
       "      <td>(cöalitions, 0.000796749130882)</td>\n",
       "      <td>(stinky, 0.000281731243868)</td>\n",
       "      <td>(ivy, 0.000238671807648)</td>\n",
       "      <td>(dully, 0.00036768371913)</td>\n",
       "      <td>(phraseology, 0.000258550007527)</td>\n",
       "      <td>(retorts, 0.00388910175152)</td>\n",
       "      <td>(trackers, 0.00348647417996)</td>\n",
       "      <td>(misfortunes, 0.00366616634652)</td>\n",
       "      <td>(inserted, 0.00275014586638)</td>\n",
       "      <td>(associated, 0.000227402647026)</td>\n",
       "    </tr>\n",
       "    <tr>\n",
       "      <th>9</th>\n",
       "      <td>(cook, 0.00294542508361)</td>\n",
       "      <td>(stuck, 0.00424386063559)</td>\n",
       "      <td>(succeed, 0.000213613208371)</td>\n",
       "      <td>(touching, 0.000299959716139)</td>\n",
       "      <td>(plunging, 0.00326596332533)</td>\n",
       "      <td>(vanguard, 0.0042708458771)</td>\n",
       "      <td>(rose, 0.000218934474634)</td>\n",
       "      <td>(cyril, 0.00369081932092)</td>\n",
       "      <td>(ensued, 0.00249472709769)</td>\n",
       "      <td>(protect, 0.00403064992463)</td>\n",
       "      <td>(esq, 0.000795464317234)</td>\n",
       "      <td>(unbarred, 0.000281314121126)</td>\n",
       "      <td>(idler, 0.000236536024613)</td>\n",
       "      <td>(stinky, 0.000365065005137)</td>\n",
       "      <td>(fluffed, 0.00025685099085)</td>\n",
       "      <td>(fleeing, 0.00369430247732)</td>\n",
       "      <td>(paddington, 0.00347842446189)</td>\n",
       "      <td>(stranger's, 0.00318874581315)</td>\n",
       "      <td>(whisperingly, 0.00264460564544)</td>\n",
       "      <td>(idler, 0.000224146454812)</td>\n",
       "    </tr>\n",
       "  </tbody>\n",
       "</table>\n",
       "</div>"
      ],
      "text/plain": [
       "                                    0                                1   \\\n",
       "0  (kitchen-curtains, 0.0049936439921)        (lawyer, 0.0055564538832)   \n",
       "1            (deity, 0.00411213549263)  (phraseology, 0.00521388562923)   \n",
       "2         (indebted, 0.00404191901075)   (five-pound, 0.00517961051951)   \n",
       "3            (count, 0.00391842960968)      (napping, 0.00469047224745)   \n",
       "4         (touching, 0.00378844415648)        (idler, 0.00466221399393)   \n",
       "5           (belong, 0.00343092106456)         (mews, 0.00459587199319)   \n",
       "6     (constellated, 0.00324669486471)        (zabibi, 0.0043960507045)   \n",
       "7       (red-lipped, 0.00296536507308)     (croaking, 0.00432460938695)   \n",
       "8             (rose, 0.00295693331599)       (sturdy, 0.00425673970809)   \n",
       "9             (cook, 0.00294542508361)        (stuck, 0.00424386063559)   \n",
       "\n",
       "                                 2                                      3   \\\n",
       "0      (pounder, 0.000297634406028)       (phraseology, 0.000429642927338)   \n",
       "1          (cats, 0.00024482934652)            (stinky, 0.000362981605226)   \n",
       "2     (products, 0.000241613371413)           (succeed, 0.000353099583037)   \n",
       "3          (mews, 0.00023171808678)              (cook, 0.000339632626996)   \n",
       "4  (phraseology, 0.000225796407223)               (ivy, 0.000321618561559)   \n",
       "5     (touching, 0.000218175847066)           (fluffed, 0.000313658782822)   \n",
       "6       (stinky, 0.000217207512112)              (lawyer, 0.0003126416168)   \n",
       "7      (tourist, 0.000216677271454)  (kitchen-curtains, 0.000308972948121)   \n",
       "8       (truism, 0.000214776102229)           (tourist, 0.000304633147122)   \n",
       "9      (succeed, 0.000213613208371)          (touching, 0.000299959716139)   \n",
       "\n",
       "                                     4                                   5   \\\n",
       "0              (every, 0.0121544205339)           (gorge, 0.00855421654657)   \n",
       "1          (rehoboth, 0.00571816477124)     (whimperings, 0.00609551439984)   \n",
       "2          (touching, 0.00545445719676)          (truism, 0.00582861948731)   \n",
       "3           (camping, 0.00431340187164)        (rumbling, 0.00580383641353)   \n",
       "4          (unbarred, 0.00416956163628)         (pounder, 0.00578716246908)   \n",
       "5            (pasture, 0.0041337680843)  (weather-beaten, 0.00489372491007)   \n",
       "6         (futurists, 0.00357654269518)          (jarred, 0.00458104964957)   \n",
       "7  (kitchen-curtains, 0.00350132075915)           (repair, 0.0044978438462)   \n",
       "8           (schemes, 0.00331993108674)        (endeavor, 0.00449145660746)   \n",
       "9          (plunging, 0.00326596332533)         (vanguard, 0.0042708458771)   \n",
       "\n",
       "                                 6                                     7   \\\n",
       "0       (succeed, 0.00027222692034)            (shadows, 0.0109974665476)   \n",
       "1       (stinky, 0.000253980290628)  (cold-bloodedness, 0.00752701028103)   \n",
       "2         (cook, 0.000239617498542)            (nummos, 0.00580265450926)   \n",
       "3    (violently, 0.000237434636972)        (counteract, 0.00579194730141)   \n",
       "4  (phraseology, 0.000237107750238)           (huntsman, 0.0057189053516)   \n",
       "5          (ivy, 0.000230968262153)              (wick, 0.00449945576039)   \n",
       "6     (products, 0.000230867684822)    (contemptuously, 0.00423118767925)   \n",
       "7     (touching, 0.000223813209123)         (bed-house, 0.00388875845861)   \n",
       "8   (paddington, 0.000222721107659)          (fan-wise, 0.00369836608266)   \n",
       "9         (rose, 0.000218934474634)             (cyril, 0.00369081932092)   \n",
       "\n",
       "                                     8                                     9   \\\n",
       "0           (mythical, 0.0055002109379)  (kitchen-curtains, 0.00971618566685)   \n",
       "1       (eventuality, 0.00485009718078)              (cook, 0.00606655295639)   \n",
       "2     (indispensable, 0.00452289481478)            (stinky, 0.00563864212014)   \n",
       "3  (kitchen-curtains, 0.00407632584015)          (polygamy, 0.00480893845467)   \n",
       "4          (lounging, 0.00320591442547)          (confined, 0.00479574220282)   \n",
       "5              (cook, 0.00312835468807)           (volumes, 0.00477240917141)   \n",
       "6          (leverage, 0.00290042735709)          (leverage, 0.00432801827963)   \n",
       "7             (rides, 0.00282421073884)        (paddington, 0.00422521035414)   \n",
       "8            (truism, 0.00250411538408)               (wagon, 0.004115242613)   \n",
       "9            (ensued, 0.00249472709769)           (protect, 0.00403064992463)   \n",
       "\n",
       "                                  10                             11  \\\n",
       "0         (jotted, 0.00193640038552)    (truism, 0.000350299545523)   \n",
       "1    (near-squeak, 0.00154367290871)  (products, 0.000337659909267)   \n",
       "2  (three-fourths, 0.00151996870172)   (succeed, 0.000315489978579)   \n",
       "3        (uncouth, 0.00150537878679)  (rehoboth, 0.000306482507624)   \n",
       "4         (pebble, 0.00145184476272)    (lawyer, 0.000297773648823)   \n",
       "5           (ajar, 0.00126108266026)  (croaking, 0.000289140424726)   \n",
       "6        (embrace, 0.00115481669165)       (ivy, 0.000284235957884)   \n",
       "7           (vis, 0.000796903295258)      (mews, 0.000282486924715)   \n",
       "8    (cöalitions, 0.000796749130882)    (stinky, 0.000281731243868)   \n",
       "9           (esq, 0.000795464317234)  (unbarred, 0.000281314121126)   \n",
       "\n",
       "                                    12                               13  \\\n",
       "0          (ensued, 0.000311417827796)  (associated, 0.000552156194552)   \n",
       "1  (contemptuously, 0.000272642550321)     (phraseology, 0.00042607101)   \n",
       "2         (tourist, 0.000267267073362)     (fluffed, 0.000400441149876)   \n",
       "3          (stinky, 0.000264799230498)     (succeed, 0.000399462076906)   \n",
       "4           (stump, 0.000257133671853)       (idler, 0.000384132355256)   \n",
       "5          (truism, 0.000248845440394)        (lawyer, 0.0003838500743)   \n",
       "6         (pounder, 0.000242702268863)       (truism, 0.00037309720856)   \n",
       "7         (succeed, 0.000241433001524)  (paddington, 0.000367783051941)   \n",
       "8             (ivy, 0.000238671807648)        (dully, 0.00036768371913)   \n",
       "9           (idler, 0.000236536024613)      (stinky, 0.000365065005137)   \n",
       "\n",
       "                                   14                                15  \\\n",
       "0       (touching, 0.000308916000195)    (graveyards, 0.00675038000769)   \n",
       "1        (succeed, 0.000299935481515)     (poisonous, 0.00480906211364)   \n",
       "2           (cook, 0.000292707721146)        (ensued, 0.00453136924118)   \n",
       "3             (ivy, 0.00029013621845)      (huntsman, 0.00441519091237)   \n",
       "4        (tourist, 0.000284900203373)  (significance, 0.00424689363865)   \n",
       "5       (products, 0.000279923190904)       (fluffed, 0.00412564105136)   \n",
       "6         (truism, 0.000268142486162)    (atmosphere, 0.00403107131299)   \n",
       "7  (contemptuously, 0.00026525765426)      (products, 0.00389917925993)   \n",
       "8    (phraseology, 0.000258550007527)       (retorts, 0.00388910175152)   \n",
       "9         (fluffed, 0.00025685099085)       (fleeing, 0.00369430247732)   \n",
       "\n",
       "                                   16                                  17  \\\n",
       "0      (associated, 0.00902764474616)         (tighter, 0.00759670423896)   \n",
       "1          (lawyer, 0.00659636555774)          (lawyer, 0.00751326061163)   \n",
       "2           (stump, 0.00453008430793)  (communications, 0.00577718201413)   \n",
       "3   (heavily-laden, 0.00399771781346)        (eloquent, 0.00552806290306)   \n",
       "4  (contemptuously, 0.00384189739825)          (sorrow, 0.00469551664142)   \n",
       "5     (phraseology, 0.00374229755741)           (sunol, 0.00469141924687)   \n",
       "6          (truism, 0.00365675060295)          (florid, 0.00406051778784)   \n",
       "7         (succeed, 0.00363298892724)      (exaggerate, 0.00383526842887)   \n",
       "8        (trackers, 0.00348647417996)     (misfortunes, 0.00366616634652)   \n",
       "9      (paddington, 0.00347842446189)      (stranger's, 0.00318874581315)   \n",
       "\n",
       "                                     18                                     19  \n",
       "0            (stinky, 0.00379904041655)            (stinky, 0.000296578406571)  \n",
       "1            (scales, 0.00315340471484)            (truism, 0.000296191074111)  \n",
       "2      (introductions, 0.0030805298553)         (violently, 0.000290649670488)  \n",
       "3        (decoration, 0.00307899995996)    (contemptuously, 0.000260989306835)  \n",
       "4          (touching, 0.00304877570179)  (kitchen-curtains, 0.000257162612833)  \n",
       "5  (kitchen-curtains, 0.00295908829441)       (phraseology, 0.000251937005576)  \n",
       "6               (ivy, 0.00279966843555)           (succeed, 0.000241240654708)  \n",
       "7              (cook, 0.00277814194365)            (ensued, 0.000238030719979)  \n",
       "8          (inserted, 0.00275014586638)        (associated, 0.000227402647026)  \n",
       "9      (whisperingly, 0.00264460564544)             (idler, 0.000224146454812)  "
      ]
     },
     "execution_count": 25,
     "metadata": {},
     "output_type": "execute_result"
    },
    {
     "name": "stderr",
     "output_type": "stream",
     "text": [
      "/usr/lib/python3.5/json/encoder.py:198: DeprecationWarning: Interpreting naive datetime as local 2017-04-03 13:20:53.537081. Please add timezone info to timestamps.\n",
      "  chunks = self.iterencode(o, _one_shot=True)\n"
     ]
    }
   ],
   "source": [
    "doc_topic = topics_df.T\n",
    "doc_topic"
   ]
  },
  {
   "cell_type": "markdown",
   "metadata": {
    "deletable": true,
    "editable": true
   },
   "source": [
    "## Visualisierung "
   ]
  },
  {
   "cell_type": "code",
   "execution_count": 26,
   "metadata": {
    "collapsed": false,
    "deletable": true,
    "editable": true
   },
   "outputs": [
    {
     "data": {
      "text/plain": [
       "\"lda_model = 'out_easy/corpus.lda'\\ncorpus = 'out_easy/corpus.mm'\\ndictionary = 'out_easy/corpus.dict'\\ndoc_labels = 'out_easy/corpus_doclabels.txt'\\ninteractive  = False\\n\\nvis = visual.Visualization(lda_model, corpus, dictionary, doc_labels, interactive)\""
      ]
     },
     "execution_count": 26,
     "metadata": {},
     "output_type": "execute_result"
    },
    {
     "name": "stderr",
     "output_type": "stream",
     "text": [
      "/usr/lib/python3.5/json/encoder.py:198: DeprecationWarning: Interpreting naive datetime as local 2017-04-03 13:20:53.600059. Please add timezone info to timestamps.\n",
      "  chunks = self.iterencode(o, _one_shot=True)\n"
     ]
    }
   ],
   "source": [
    "'''lda_model = 'out_easy/corpus.lda'\n",
    "corpus = 'out_easy/corpus.mm'\n",
    "dictionary = 'out_easy/corpus.dict'\n",
    "doc_labels = 'out_easy/corpus_doclabels.txt'\n",
    "interactive  = False\n",
    "\n",
    "vis = visual.Visualization(lda_model, corpus, dictionary, doc_labels, interactive)'''"
   ]
  },
  {
   "cell_type": "markdown",
   "metadata": {
    "deletable": true,
    "editable": true
   },
   "source": [
    "##### Create a document-topic matrix (that is a pandas data frame actually)"
   ]
  },
  {
   "cell_type": "code",
   "execution_count": 27,
   "metadata": {
    "collapsed": false,
    "deletable": true,
    "editable": true
   },
   "outputs": [
    {
     "name": "stderr",
     "output_type": "stream",
     "text": [
      "/usr/lib/python3.5/json/encoder.py:198: DeprecationWarning: Interpreting naive datetime as local 2017-04-03 13:20:53.611348. Please add timezone info to timestamps.\n",
      "  chunks = self.iterencode(o, _one_shot=True)\n"
     ]
    }
   ],
   "source": [
    "doc_topic = visual.create_doc_topic(mm, model, doc_labels)"
   ]
  },
  {
   "cell_type": "markdown",
   "metadata": {
    "deletable": true,
    "editable": true
   },
   "source": [
    "##### Visualize document-topic matrix"
   ]
  },
  {
   "cell_type": "code",
   "execution_count": 28,
   "metadata": {
    "collapsed": false,
    "deletable": true,
    "editable": true
   },
   "outputs": [
    {
     "data": {
      "text/plain": [
       "<module 'matplotlib.pyplot' from '/home/sina/.local/lib/python3.5/site-packages/matplotlib/pyplot.py'>"
      ]
     },
     "execution_count": 28,
     "metadata": {},
     "output_type": "execute_result"
    },
    {
     "data": {
      "image/png": "[encoded data removed]",
      "text/plain": [
       "<matplotlib.figure.Figure at 0x7f742cb578d0>"
      ]
     },
     "metadata": {},
     "output_type": "display_data"
    },
    {
     "name": "stderr",
     "output_type": "stream",
     "text": [
      "/usr/lib/python3.5/json/encoder.py:198: DeprecationWarning: Interpreting naive datetime as local 2017-04-03 13:20:53.856838. Please add timezone info to timestamps.\n",
      "  chunks = self.iterencode(o, _one_shot=True)\n"
     ]
    }
   ],
   "source": [
    "%matplotlib inline\n",
    "visual.doc_topic_heatmap(doc_topic)"
   ]
  },
  {
   "cell_type": "markdown",
   "metadata": {
    "deletable": true,
    "editable": true
   },
   "source": [
    "##### Visualize topic distribution in a single document"
   ]
  },
  {
   "cell_type": "code",
   "execution_count": 29,
   "metadata": {
    "collapsed": false,
    "deletable": true,
    "editable": true
   },
   "outputs": [
    {
     "data": {
      "text/plain": [
       "<module 'matplotlib.pyplot' from '/home/sina/.local/lib/python3.5/site-packages/matplotlib/pyplot.py'>"
      ]
     },
     "execution_count": 29,
     "metadata": {},
     "output_type": "execute_result"
    },
    {
     "data": {
      "image/png": "[encoded data removed]",
      "text/plain": [
       "<matplotlib.figure.Figure at 0x7f742cb577b8>"
      ]
     },
     "metadata": {},
     "output_type": "display_data"
    },
    {
     "name": "stderr",
     "output_type": "stream",
     "text": [
      "/usr/lib/python3.5/json/encoder.py:198: DeprecationWarning: Interpreting naive datetime as local 2017-04-03 13:20:54.139344. Please add timezone info to timestamps.\n",
      "  chunks = self.iterencode(o, _one_shot=True)\n"
     ]
    }
   ],
   "source": [
    "visual.plot_doc_topics(doc_topic, 0)"
   ]
  },
  {
   "cell_type": "markdown",
   "metadata": {
    "collapsed": true,
    "deletable": true,
    "editable": true
   },
   "source": [
    "![success](http://cdn2.hubspot.net/hub/128506/file-446943132-jpg/images/computer_woman_success.jpg)"
   ]
  }
 ],
 "metadata": {
  "kernelspec": {
   "display_name": "Python 3",
   "language": "python",
   "name": "python3"
  },
  "language_info": {
   "codemirror_mode": {
    "name": "ipython",
    "version": 3
   },
   "file_extension": ".py",
   "mimetype": "text/x-python",
   "name": "python",
   "nbconvert_exporter": "python",
   "pygments_lexer": "ipython3",
   "version": "3.5.2"
  }
 },
 "nbformat": 4,
 "nbformat_minor": 0
}
