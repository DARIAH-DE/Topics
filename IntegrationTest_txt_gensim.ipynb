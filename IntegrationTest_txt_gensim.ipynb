{
 "cells": [
  {
   "cell_type": "code",
   "execution_count": 1,
   "metadata": {
    "collapsed": false
   },
   "outputs": [
    {
     "name": "stderr",
     "output_type": "stream",
     "text": [
      "c:\\users\\philip\\appdata\\local\\programs\\python\\python35-32\\lib\\site-packages\\gensim\\utils.py:855: UserWarning: detected Windows; aliasing chunkize to chunkize_serial\n",
      "  warnings.warn(\"detected Windows; aliasing chunkize to chunkize_serial\")\n",
      "c:\\users\\philip\\appdata\\local\\programs\\python\\python35-32\\lib\\site-packages\\funcy\\decorators.py:56: DeprecationWarning: inspect.getargspec() is deprecated, use inspect.signature() instead\n",
      "  spec = inspect.getargspec(func)\n",
      "c:\\users\\philip\\appdata\\local\\programs\\python\\python35-32\\lib\\site-packages\\funcy\\decorators.py:56: DeprecationWarning: inspect.getargspec() is deprecated, use inspect.signature() instead\n",
      "  spec = inspect.getargspec(func)\n",
      "c:\\users\\philip\\appdata\\local\\programs\\python\\python35-32\\lib\\site-packages\\funcy\\decorators.py:56: DeprecationWarning: inspect.getargspec() is deprecated, use inspect.signature() instead\n",
      "  spec = inspect.getargspec(func)\n",
      "c:\\users\\philip\\appdata\\local\\programs\\python\\python35-32\\lib\\site-packages\\funcy\\decorators.py:56: DeprecationWarning: inspect.getargspec() is deprecated, use inspect.signature() instead\n",
      "  spec = inspect.getargspec(func)\n",
      "c:\\users\\philip\\appdata\\local\\programs\\python\\python35-32\\lib\\site-packages\\funcy\\decorators.py:56: DeprecationWarning: inspect.getargspec() is deprecated, use inspect.signature() instead\n",
      "  spec = inspect.getargspec(func)\n",
      "c:\\users\\philip\\appdata\\local\\programs\\python\\python35-32\\lib\\site-packages\\funcy\\decorators.py:56: DeprecationWarning: inspect.getargspec() is deprecated, use inspect.signature() instead\n",
      "  spec = inspect.getargspec(func)\n"
     ]
    }
   ],
   "source": [
    "from dariah_topics import preprocessing as pre\n",
    "from dariah_topics import visualization as visual\n",
    "from dariah_topics import mallet as mal\n",
    "from dariah_topics import evaluation"
   ]
  },
  {
   "cell_type": "markdown",
   "metadata": {},
   "source": [
    "## Preprocessing"
   ]
  },
  {
   "cell_type": "markdown",
   "metadata": {},
   "source": [
    "#### Liste mit Dateinamen erzeugen"
   ]
  },
  {
   "cell_type": "code",
   "execution_count": 114,
   "metadata": {
    "collapsed": false
   },
   "outputs": [
    {
     "data": {
      "text/plain": [
       "['grenzbote_plain\\\\Jg_26_1867\\\\1867_Abseit_der_Heerstraße_43.txt',\n",
       " 'grenzbote_plain\\\\Jg_26_1867\\\\1867_Alt_Mecklenburg_auf_dem_Rückzuge_60.txt',\n",
       " 'grenzbote_plain\\\\Jg_26_1867\\\\1867_Anfang_und_Ende_des_mexikanischen_Kaiserreichs_59.txt',\n",
       " 'grenzbote_plain\\\\Jg_26_1867\\\\1867_Aus_dem_Musikleben_Wiens_32.txt',\n",
       " 'grenzbote_plain\\\\Jg_26_1867\\\\1867_Aus_der_Provinz_Preußen_45.txt']"
      ]
     },
     "execution_count": 114,
     "metadata": {},
     "output_type": "execute_result"
    }
   ],
   "source": [
    "#path_txt = \"corpus_txt\"\n",
    "path_txt = \"grenzbote_plain/*/\"\n",
    "#path_txt = \"wiki/\"\n",
    "\n",
    "doclist_txt = pre.create_document_list(path_txt)\n",
    "assert doclist_txt, \"No documents found\"\n",
    "doclist_txt[:5]"
   ]
  },
  {
   "cell_type": "markdown",
   "metadata": {},
   "source": [
    "#####  Liste mit Dokumentenlabels erzeugen - (Funktion wird durch Thorsten's generischere Funktion ersetzt)"
   ]
  },
  {
   "cell_type": "code",
   "execution_count": 115,
   "metadata": {
    "collapsed": false
   },
   "outputs": [
    {
     "data": {
      "text/plain": [
       "['grenzbote_plain\\\\Jg_26_1867\\\\1867_Abseit_der_Heerstraße_43.txt',\n",
       " 'grenzbote_plain\\\\Jg_26_1867\\\\1867_Alt_Mecklenburg_auf_dem_Rückzuge_60.txt',\n",
       " 'grenzbote_plain\\\\Jg_26_1867\\\\1867_Anfang_und_Ende_des_mexikanischen_Kaiserreichs_59.txt',\n",
       " 'grenzbote_plain\\\\Jg_26_1867\\\\1867_Aus_dem_Musikleben_Wiens_32.txt',\n",
       " 'grenzbote_plain\\\\Jg_26_1867\\\\1867_Aus_der_Provinz_Preußen_45.txt']"
      ]
     },
     "execution_count": 115,
     "metadata": {},
     "output_type": "execute_result"
    }
   ],
   "source": [
    "doc_labels = list(pre.get_labels(doclist_txt))\n",
    "doc_labels[:5]"
   ]
  },
  {
   "cell_type": "markdown",
   "metadata": {},
   "source": [
    "#### Corpus laden"
   ]
  },
  {
   "cell_type": "code",
   "execution_count": 116,
   "metadata": {
    "collapsed": false
   },
   "outputs": [],
   "source": [
    "corpus_txt = pre.read_from_txt(doclist_txt)"
   ]
  },
  {
   "cell_type": "markdown",
   "metadata": {},
   "source": [
    "#### Tokenisieren"
   ]
  },
  {
   "cell_type": "code",
   "execution_count": 117,
   "metadata": {
    "collapsed": false
   },
   "outputs": [],
   "source": [
    "doc_tokens = [list(pre.tokenize(txt)) for txt in list(corpus_txt)]"
   ]
  },
  {
   "cell_type": "markdown",
   "metadata": {},
   "source": [
    "#### Create Dictionaries"
   ]
  },
  {
   "cell_type": "code",
   "execution_count": 118,
   "metadata": {
    "collapsed": false
   },
   "outputs": [],
   "source": [
    "id_types, doc_ids = pre.create_dictionaries(doc_labels, doc_tokens)"
   ]
  },
  {
   "cell_type": "markdown",
   "metadata": {},
   "source": [
    "#### Sparse BOW Model"
   ]
  },
  {
   "cell_type": "code",
   "execution_count": 119,
   "metadata": {
    "collapsed": false
   },
   "outputs": [],
   "source": [
    "sparse_bow = pre.create_mm(doc_labels, doc_tokens, id_types, doc_ids)"
   ]
  },
  {
   "cell_type": "code",
   "execution_count": 120,
   "metadata": {
    "collapsed": false
   },
   "outputs": [
    {
     "data": {
      "text/html": [
       "<div>\n",
       "<table border=\"1\" class=\"dataframe\">\n",
       "  <thead>\n",
       "    <tr style=\"text-align: right;\">\n",
       "      <th></th>\n",
       "      <th></th>\n",
       "      <th>0</th>\n",
       "    </tr>\n",
       "    <tr>\n",
       "      <th>doc_id</th>\n",
       "      <th>token_id</th>\n",
       "      <th></th>\n",
       "    </tr>\n",
       "  </thead>\n",
       "  <tbody>\n",
       "    <tr>\n",
       "      <th rowspan=\"5\" valign=\"top\">1</th>\n",
       "      <th>73728</th>\n",
       "      <td>1</td>\n",
       "    </tr>\n",
       "    <tr>\n",
       "      <th>3</th>\n",
       "      <td>2</td>\n",
       "    </tr>\n",
       "    <tr>\n",
       "      <th>13654</th>\n",
       "      <td>1</td>\n",
       "    </tr>\n",
       "    <tr>\n",
       "      <th>32774</th>\n",
       "      <td>2</td>\n",
       "    </tr>\n",
       "    <tr>\n",
       "      <th>49160</th>\n",
       "      <td>1</td>\n",
       "    </tr>\n",
       "  </tbody>\n",
       "</table>\n",
       "</div>"
      ],
      "text/plain": [
       "                 0\n",
       "doc_id token_id   \n",
       "1      73728     1\n",
       "       3         2\n",
       "       13654     1\n",
       "       32774     2\n",
       "       49160     1"
      ]
     },
     "execution_count": 120,
     "metadata": {},
     "output_type": "execute_result"
    }
   ],
   "source": [
    "sparse_bow[:5]"
   ]
  },
  {
   "cell_type": "markdown",
   "metadata": {},
   "source": [
    "## Topic Modeling with Gensim"
   ]
  },
  {
   "cell_type": "markdown",
   "metadata": {},
   "source": [
    "##### Saving Sparse BOW"
   ]
  },
  {
   "cell_type": "code",
   "execution_count": 121,
   "metadata": {
    "collapsed": false
   },
   "outputs": [],
   "source": [
    "pre.save_bow_mm(sparse_bow, \"gensim_txt\")"
   ]
  },
  {
   "cell_type": "markdown",
   "metadata": {},
   "source": [
    "#### Import Market Matrix"
   ]
  },
  {
   "cell_type": "code",
   "execution_count": 122,
   "metadata": {
    "collapsed": true
   },
   "outputs": [],
   "source": [
    "from gensim.models import LdaModel\n",
    "from gensim.corpora import MmCorpus"
   ]
  },
  {
   "cell_type": "code",
   "execution_count": 123,
   "metadata": {
    "collapsed": false
   },
   "outputs": [],
   "source": [
    "mm = MmCorpus(\"gensim_txt.mm\")"
   ]
  },
  {
   "cell_type": "code",
   "execution_count": 124,
   "metadata": {
    "collapsed": false
   },
   "outputs": [],
   "source": [
    "doc2id = {value : key for key, value in doc_ids.items()}\n",
    "type2id = {value : key for key, value in id_types.items()}"
   ]
  },
  {
   "cell_type": "markdown",
   "metadata": {},
   "source": [
    "##### Remove Features"
   ]
  },
  {
   "cell_type": "code",
   "execution_count": 125,
   "metadata": {
    "collapsed": true
   },
   "outputs": [],
   "source": [
    "import os.path\n",
    "basepath = os.path.abspath('.')\n",
    "\n",
    "with open(os.path.join(basepath, \"tutorial_supplementals\", \"stopwords\", \"de.txt\"), 'r', encoding = 'utf-8') as f: \n",
    "    stopword_list = f.read().split('\\n')\n",
    "    \n",
    "stopword_list = set(stopword_list)"
   ]
  },
  {
   "cell_type": "code",
   "execution_count": 126,
   "metadata": {
    "collapsed": false
   },
   "outputs": [],
   "source": [
    "hapax_from_remove = pre.find_hapax(sparse_bow, id_types)\n",
    "stopwords_from_remove = set(pre.find_stopwords(sparse_bow, id_types))\n",
    "\n",
    "features_to_be_removed = hapax_from_remove.union(set(stopwords_from_remove))\n",
    "\n",
    "sparse_bow_short = pre.remove_features(sparse_bow, id_types,features_to_be_removed)"
   ]
  },
  {
   "cell_type": "code",
   "execution_count": 127,
   "metadata": {
    "collapsed": false
   },
   "outputs": [],
   "source": [
    "pre.save_bow_mm(sparse_bow_short, \"gensim_txt\")"
   ]
  },
  {
   "cell_type": "code",
   "execution_count": 128,
   "metadata": {
    "collapsed": true
   },
   "outputs": [],
   "source": [
    "mm = MmCorpus(\"gensim_txt.mm\")"
   ]
  },
  {
   "cell_type": "markdown",
   "metadata": {},
   "source": [
    "#### Convert sparse_bow to list of (doc, tokens) tuples (like doc2bow)"
   ]
  },
  {
   "cell_type": "code",
   "execution_count": 129,
   "metadata": {
    "collapsed": false
   },
   "outputs": [],
   "source": [
    "doc2bow_list = []\n",
    "\n",
    "for doc in sparse_bow_short.index.groupby(sparse_bow_short.index.get_level_values('doc_id')):\n",
    "    temp = [(token, count) for token, count in zip(sparse_bow_short.loc[doc].index, sparse_bow_short.loc[doc][0])]\n",
    "    doc2bow_list.append(temp)"
   ]
  },
  {
   "cell_type": "code",
   "execution_count": 130,
   "metadata": {
    "collapsed": false
   },
   "outputs": [
    {
     "data": {
      "text/plain": [
       "363"
      ]
     },
     "execution_count": 130,
     "metadata": {},
     "output_type": "execute_result"
    }
   ],
   "source": [
    "len(doc2bow_list)"
   ]
  },
  {
   "cell_type": "code",
   "execution_count": 131,
   "metadata": {
    "collapsed": false
   },
   "outputs": [],
   "source": [
    "#model = LdaModel(corpus=mm, id2word=type2id, num_topics=60, alpha = \"symmetric\", passes = 10) #import momentan in visual \n",
    "# -> da ich mir noch nicht sicher bin, welche Funktionen in das tm_gensim.py sollen\n",
    "model = LdaModel(corpus=mm, id2word=type2id, num_topics=20, passes = 100, iterations = 20)"
   ]
  },
  {
   "cell_type": "code",
   "execution_count": 132,
   "metadata": {
    "collapsed": false
   },
   "outputs": [
    {
     "data": {
      "text/plain": [
       "[(5, 0.25933222450305737),\n",
       " (8, 0.2112252069643332),\n",
       " (9, 0.20394410102188393),\n",
       " (12, 0.018489225374997861),\n",
       " (15, 0.12839681509675954),\n",
       " (16, 0.020397626024924599),\n",
       " (17, 0.076909746118828767),\n",
       " (19, 0.068261576296772444)]"
      ]
     },
     "execution_count": 132,
     "metadata": {},
     "output_type": "execute_result"
    }
   ],
   "source": [
    "model.get_document_topics(doc2bow_list[1])"
   ]
  },
  {
   "cell_type": "code",
   "execution_count": 133,
   "metadata": {
    "collapsed": false
   },
   "outputs": [
    {
     "data": {
      "text/plain": [
       "['talentvoll',\n",
       " 'hält',\n",
       " 'hoffnungsvollsten',\n",
       " 'kaltbereitcnder',\n",
       " 'emeuten',\n",
       " 'lüntzcl',\n",
       " 'caut',\n",
       " 'fahrender',\n",
       " 'heerescrgänzungsgesetz',\n",
       " 'völkerrechtes']"
      ]
     },
     "execution_count": 133,
     "metadata": {},
     "output_type": "execute_result"
    }
   ],
   "source": [
    "#Anzeige der keywords für topic n\n",
    "n = 1\n",
    "topic_nr_x = model.get_topic_terms(n)\n",
    "\n",
    "topicTerms = [type2id[i[0]] for i in topic_nr_x]\n",
    "topicTerms"
   ]
  },
  {
   "cell_type": "code",
   "execution_count": 134,
   "metadata": {
    "collapsed": false
   },
   "outputs": [
    {
     "data": {
      "text/plain": [
       "[(0,\n",
       "  '0.006*\"fürchterlichem\" + 0.004*\"großalmosenier\" + 0.003*\"liebkosen\" + 0.002*\"unnatürlicher\" + 0.002*\"allegorischen\" + 0.002*\"wiederspiegelt\" + 0.002*\"urgiren\" + 0.002*\"russisch-nationalen\" + 0.002*\"gräßlicherer\" + 0.002*\"phantast\"'),\n",
       " (1,\n",
       "  '0.005*\"talentvoll\" + 0.003*\"hält\" + 0.002*\"hoffnungsvollsten\" + 0.002*\"kaltbereitcnder\" + 0.002*\"emeuten\" + 0.002*\"lüntzcl\" + 0.002*\"caut\" + 0.002*\"fahrender\" + 0.002*\"heerescrgänzungsgesetz\" + 0.002*\"völkerrechtes\"'),\n",
       " (2,\n",
       "  '0.006*\"sisti\" + 0.003*\"bornemannschen\" + 0.002*\"besatzungsrechts\" + 0.002*\"vorpetrinischen\" + 0.002*\"schauen\" + 0.002*\"ädreßdebatte\" + 0.002*\"feldmarschall\" + 0.001*\"mai»in\" + 0.001*\"caja\" + 0.001*\"ankündigungsschrift\"'),\n",
       " (3,\n",
       "  '0.009*\"beigetragen\" + 0.003*\"acta\" + 0.002*\"strecke\" + 0.002*\"wohlsein\" + 0.002*\"publ&gt\" + 0.002*\"brustton\" + 0.001*\"paulinen\" + 0.001*\"tonlos\" + 0.001*\"unzuträglichkeit\" + 0.001*\"ni»ige\"'),\n",
       " (4,\n",
       "  '0.006*\"theodor\" + 0.003*\"zurückblickt\" + 0.003*\"zell\" + 0.003*\"gedankensystem\" + 0.003*\"ausarte\" + 0.003*\"bmm\" + 0.002*\"grundlehren\" + 0.002*\"einstellenden\" + 0.002*\"klosterfrage\" + 0.002*\"neffe\"'),\n",
       " (5,\n",
       "  '0.004*\"schädlichem\" + 0.002*\"plant\" + 0.002*\"vff\" + 0.002*\"dankende\" + 0.002*\"ncvolntiv\" + 0.001*\"altperu\" + 0.001*\"ausschußglieder\" + 0.001*\"freireligiösen\" + 0.001*\"lutatis\" + 0.001*\"rechtschaffenen\"'),\n",
       " (6,\n",
       "  '0.005*\"heergesetzes\" + 0.004*\"kolossales\" + 0.003*\"einer\\'zeit\" + 0.002*\"riga-mttau\" + 0.002*\"unbebauter\" + 0.002*\"letzteres\" + 0.002*\"freundeskreises\" + 0.001*\"jüdisch-griechischen\" + 0.001*\"untermasten\" + 0.001*\"brandung\"'),\n",
       " (7,\n",
       "  '0.004*\"zeitraubender\" + 0.004*\"slawouisch\" + 0.004*\"völkersahm\" + 0.002*\"prämiirt\" + 0.002*\"protectormiene\" + 0.002*\"strecke\" + 0.001*\"edelsten\" + 0.001*\"ablehnende\" + 0.001*\"kopsstücke\" + 0.001*\"florirt\"'),\n",
       " (8,\n",
       "  '0.006*\"wohlthuendster\" + 0.002*\"ruhen\" + 0.002*\"schelling\" + 0.001*\"vorschrieben\" + 0.001*\"staatsgesetzgebungen\" + 0.001*\"erhören\" + 0.001*\"genden\" + 0.001*\"gtt\" + 0.001*\"jünglingen\" + 0.001*\"hatte&gt\"'),\n",
       " (9,\n",
       "  '0.006*\"aerzte\" + 0.004*\"dichtigkeit\" + 0.003*\"voiläufig\" + 0.002*\"zerstückelung\" + 0.002*\"hoffte\" + 0.002*\"zahm\" + 0.001*\"granada\" + 0.001*\"geistesabwesenden\" + 0.001*\"vorstehendes\" + 0.001*\"obertribunalrath\"'),\n",
       " (10,\n",
       "  '0.002*\"weggebracht\" + 0.002*\"verhängten\" + 0.002*\"sclavenhalterpartei\" + 0.002*\"überbürdete\" + 0.001*\"maeaire\" + 0.001*\"paru\" + 0.001*\"äeleetars\" + 0.001*\"ondenz\" + 0.001*\"simion\" + 0.001*\"collatinns\"'),\n",
       " (11,\n",
       "  '0.003*\"genden\" + 0.002*\"paru\" + 0.002*\"ekkgiö\" + 0.002*\"hauptmoment\" + 0.002*\"ncuhinzugcsclltcn\" + 0.002*\"zechend\" + 0.002*\"lebhafteste\" + 0.001*\"steuerbewilligungsrecht\" + 0.001*\"columnenweise\" + 0.001*\"institutiovs\"'),\n",
       " (12,\n",
       "  '0.004*\"verdienstvollen\" + 0.003*\"bindenden\" + 0.003*\"lasieu\" + 0.002*\"mondgöttin\" + 0.002*\"klang\" + 0.002*\"eile\" + 0.002*\"timide\" + 0.002*\"liutprands\" + 0.002*\"fries\" + 0.002*\"unvorsichtiger\"'),\n",
       " (13,\n",
       "  '0.007*\"paulinen\" + 0.003*\"centnern\" + 0.003*\"acta\" + 0.003*\"geistliche\" + 0.002*\"sirandung\" + 0.002*\"beigetragen\" + 0.002*\"coles\" + 0.002*\"applieirte\" + 0.002*\"anschwemmungen\" + 0.002*\"vorgestanden\"'),\n",
       " (14,\n",
       "  '0.002*\"fritz\" + 0.002*\"hereinkommen\" + 0.001*\"mikado\" + 0.001*\"otäeio\" + 0.001*\"verkoppelungsgesetz\" + 0.001*\"hinwieder\" + 0.001*\"pagnien\" + 0.001*\"urtheils\" + 0.001*\"unberufener\" + 0.001*\"menge\\'stifteten\"'),\n",
       " (15,\n",
       "  '0.006*\"eingange\" + 0.003*\"parthei\" + 0.002*\"einstellenden\" + 0.002*\"östlicher\" + 0.002*\"rüstete\" + 0.002*\"aom\" + 0.001*\"überbeschäftigten\" + 0.001*\"prophezeiten\" + 0.001*\"imiau\" + 0.001*\"slußahnlichc\"'),\n",
       " (16,\n",
       "  '0.002*\"maeaire\" + 0.002*\"südwestdeutschen\" + 0.001*\"aendening\" + 0.001*\"bildhauerarbeit\" + 0.001*\"zwiefachen\" + 0.001*\"rüstete\" + 0.001*\"unverständigen\" + 0.001*\"zündhütchen\" + 0.001*\"strodtmcmn\" + 0.001*\"niedrigsten\"'),\n",
       " (17,\n",
       "  '0.004*\"nügend\" + 0.003*\"unberufener\" + 0.002*\"einschüchterungen\" + 0.002*\"wohlsein\" + 0.002*\"oxciter\" + 0.002*\"clella\" + 0.001*\"corrccteste\" + 0.001*\"neichslmste\" + 0.001*\"gcsammtkopfzahl\" + 0.001*\"hinzugezogen\"'),\n",
       " (18,\n",
       "  '0.004*\"vertrauenden\" + 0.003*\"abzuändern\" + 0.003*\"weggelassen\" + 0.002*\"generalen\" + 0.002*\"starker\" + 0.002*\"buttler\" + 0.002*\"reiisäaeweiit\" + 0.002*\"cam\" + 0.002*\"laune\" + 0.002*\"oehlenschläger\"'),\n",
       " (19,\n",
       "  '0.004*\"tralblatt\" + 0.002*\"hoftheaterkapellmeister\" + 0.001*\"schrotblätter\" + 0.001*\"abgeordnenhcmses\" + 0.001*\"linksrheinische\" + 0.001*\"kopsstücke\" + 0.001*\"gräßlicherer\" + 0.001*\"nationalcharakters\" + 0.001*\"kaisern\" + 0.001*\"parthei\"')]"
      ]
     },
     "execution_count": 134,
     "metadata": {},
     "output_type": "execute_result"
    }
   ],
   "source": [
    "#Topic probabilities\n",
    "topics = model.show_topics(num_topics = 40)\n",
    "topics"
   ]
  },
  {
   "cell_type": "code",
   "execution_count": 135,
   "metadata": {
    "collapsed": true
   },
   "outputs": [],
   "source": [
    "import pandas as pd\n",
    "import regex as re\n",
    "def gensim2dataframe(model):\n",
    "    num_topics = model.num_topics\n",
    "    topics_df = pd.DataFrame(index = range(num_topics), columns= range(10))\n",
    "\n",
    "    topics = model.show_topics(num_topics)\n",
    "    \n",
    "    for topic_dist in topics:    \n",
    "        idx = topic_dist[0]\n",
    "        temp = re.findall(r\"[A-züäöß\\-\\\\]+\", topics[idx][1])\n",
    "        topics_df.loc[idx] = temp\n",
    "    \n",
    "    return topics_df"
   ]
  },
  {
   "cell_type": "code",
   "execution_count": 136,
   "metadata": {
    "collapsed": false
   },
   "outputs": [
    {
     "ename": "ValueError",
     "evalue": "cannot copy sequence with size 11 to array axis with dimension 10",
     "output_type": "error",
     "traceback": [
      "\u001b[1;31m---------------------------------------------------------------------------\u001b[0m",
      "\u001b[1;31mValueError\u001b[0m                                Traceback (most recent call last)",
      "\u001b[1;32m<ipython-input-136-994727128478>\u001b[0m in \u001b[0;36m<module>\u001b[1;34m()\u001b[0m\n\u001b[1;32m----> 1\u001b[1;33m \u001b[0mtopics_df\u001b[0m \u001b[1;33m=\u001b[0m \u001b[0mgensim2dataframe\u001b[0m\u001b[1;33m(\u001b[0m\u001b[0mmodel\u001b[0m\u001b[1;33m)\u001b[0m\u001b[1;33m\u001b[0m\u001b[0m\n\u001b[0m",
      "\u001b[1;32m<ipython-input-135-4507bcbc3ecd>\u001b[0m in \u001b[0;36mgensim2dataframe\u001b[1;34m(model)\u001b[0m\n\u001b[0;32m     10\u001b[0m         \u001b[0midx\u001b[0m \u001b[1;33m=\u001b[0m \u001b[0mtopic_dist\u001b[0m\u001b[1;33m[\u001b[0m\u001b[1;36m0\u001b[0m\u001b[1;33m]\u001b[0m\u001b[1;33m\u001b[0m\u001b[0m\n\u001b[0;32m     11\u001b[0m         \u001b[0mtemp\u001b[0m \u001b[1;33m=\u001b[0m \u001b[0mre\u001b[0m\u001b[1;33m.\u001b[0m\u001b[0mfindall\u001b[0m\u001b[1;33m(\u001b[0m\u001b[1;34mr\"[A-züäöß\\-\\\\]+\"\u001b[0m\u001b[1;33m,\u001b[0m \u001b[0mtopics\u001b[0m\u001b[1;33m[\u001b[0m\u001b[0midx\u001b[0m\u001b[1;33m]\u001b[0m\u001b[1;33m[\u001b[0m\u001b[1;36m1\u001b[0m\u001b[1;33m]\u001b[0m\u001b[1;33m)\u001b[0m\u001b[1;33m\u001b[0m\u001b[0m\n\u001b[1;32m---> 12\u001b[1;33m         \u001b[0mtopics_df\u001b[0m\u001b[1;33m.\u001b[0m\u001b[0mloc\u001b[0m\u001b[1;33m[\u001b[0m\u001b[0midx\u001b[0m\u001b[1;33m]\u001b[0m \u001b[1;33m=\u001b[0m \u001b[0mtemp\u001b[0m\u001b[1;33m\u001b[0m\u001b[0m\n\u001b[0m\u001b[0;32m     13\u001b[0m \u001b[1;33m\u001b[0m\u001b[0m\n\u001b[0;32m     14\u001b[0m     \u001b[1;32mreturn\u001b[0m \u001b[0mtopics_df\u001b[0m\u001b[1;33m\u001b[0m\u001b[0m\n",
      "\u001b[1;32mc:\\users\\philip\\appdata\\local\\programs\\python\\python35-32\\lib\\site-packages\\pandas\\core\\indexing.py\u001b[0m in \u001b[0;36m__setitem__\u001b[1;34m(self, key, value)\u001b[0m\n\u001b[0;32m    126\u001b[0m     \u001b[1;32mdef\u001b[0m \u001b[0m__setitem__\u001b[0m\u001b[1;33m(\u001b[0m\u001b[0mself\u001b[0m\u001b[1;33m,\u001b[0m \u001b[0mkey\u001b[0m\u001b[1;33m,\u001b[0m \u001b[0mvalue\u001b[0m\u001b[1;33m)\u001b[0m\u001b[1;33m:\u001b[0m\u001b[1;33m\u001b[0m\u001b[0m\n\u001b[0;32m    127\u001b[0m         \u001b[0mindexer\u001b[0m \u001b[1;33m=\u001b[0m \u001b[0mself\u001b[0m\u001b[1;33m.\u001b[0m\u001b[0m_get_setitem_indexer\u001b[0m\u001b[1;33m(\u001b[0m\u001b[0mkey\u001b[0m\u001b[1;33m)\u001b[0m\u001b[1;33m\u001b[0m\u001b[0m\n\u001b[1;32m--> 128\u001b[1;33m         \u001b[0mself\u001b[0m\u001b[1;33m.\u001b[0m\u001b[0m_setitem_with_indexer\u001b[0m\u001b[1;33m(\u001b[0m\u001b[0mindexer\u001b[0m\u001b[1;33m,\u001b[0m \u001b[0mvalue\u001b[0m\u001b[1;33m)\u001b[0m\u001b[1;33m\u001b[0m\u001b[0m\n\u001b[0m\u001b[0;32m    129\u001b[0m \u001b[1;33m\u001b[0m\u001b[0m\n\u001b[0;32m    130\u001b[0m     \u001b[1;32mdef\u001b[0m \u001b[0m_has_valid_type\u001b[0m\u001b[1;33m(\u001b[0m\u001b[0mself\u001b[0m\u001b[1;33m,\u001b[0m \u001b[0mk\u001b[0m\u001b[1;33m,\u001b[0m \u001b[0maxis\u001b[0m\u001b[1;33m)\u001b[0m\u001b[1;33m:\u001b[0m\u001b[1;33m\u001b[0m\u001b[0m\n",
      "\u001b[1;32mc:\\users\\philip\\appdata\\local\\programs\\python\\python35-32\\lib\\site-packages\\pandas\\core\\indexing.py\u001b[0m in \u001b[0;36m_setitem_with_indexer\u001b[1;34m(self, indexer, value)\u001b[0m\n\u001b[0;32m    561\u001b[0m             \u001b[0mself\u001b[0m\u001b[1;33m.\u001b[0m\u001b[0mobj\u001b[0m\u001b[1;33m.\u001b[0m\u001b[0m_consolidate_inplace\u001b[0m\u001b[1;33m(\u001b[0m\u001b[1;33m)\u001b[0m\u001b[1;33m\u001b[0m\u001b[0m\n\u001b[0;32m    562\u001b[0m             self.obj._data = self.obj._data.setitem(indexer=indexer,\n\u001b[1;32m--> 563\u001b[1;33m                                                     value=value)\n\u001b[0m\u001b[0;32m    564\u001b[0m             \u001b[0mself\u001b[0m\u001b[1;33m.\u001b[0m\u001b[0mobj\u001b[0m\u001b[1;33m.\u001b[0m\u001b[0m_maybe_update_cacher\u001b[0m\u001b[1;33m(\u001b[0m\u001b[0mclear\u001b[0m\u001b[1;33m=\u001b[0m\u001b[1;32mTrue\u001b[0m\u001b[1;33m)\u001b[0m\u001b[1;33m\u001b[0m\u001b[0m\n\u001b[0;32m    565\u001b[0m \u001b[1;33m\u001b[0m\u001b[0m\n",
      "\u001b[1;32mc:\\users\\philip\\appdata\\local\\programs\\python\\python35-32\\lib\\site-packages\\pandas\\core\\internals.py\u001b[0m in \u001b[0;36msetitem\u001b[1;34m(self, **kwargs)\u001b[0m\n\u001b[0;32m   2850\u001b[0m \u001b[1;33m\u001b[0m\u001b[0m\n\u001b[0;32m   2851\u001b[0m     \u001b[1;32mdef\u001b[0m \u001b[0msetitem\u001b[0m\u001b[1;33m(\u001b[0m\u001b[0mself\u001b[0m\u001b[1;33m,\u001b[0m \u001b[1;33m**\u001b[0m\u001b[0mkwargs\u001b[0m\u001b[1;33m)\u001b[0m\u001b[1;33m:\u001b[0m\u001b[1;33m\u001b[0m\u001b[0m\n\u001b[1;32m-> 2852\u001b[1;33m         \u001b[1;32mreturn\u001b[0m \u001b[0mself\u001b[0m\u001b[1;33m.\u001b[0m\u001b[0mapply\u001b[0m\u001b[1;33m(\u001b[0m\u001b[1;34m'setitem'\u001b[0m\u001b[1;33m,\u001b[0m \u001b[1;33m**\u001b[0m\u001b[0mkwargs\u001b[0m\u001b[1;33m)\u001b[0m\u001b[1;33m\u001b[0m\u001b[0m\n\u001b[0m\u001b[0;32m   2853\u001b[0m \u001b[1;33m\u001b[0m\u001b[0m\n\u001b[0;32m   2854\u001b[0m     \u001b[1;32mdef\u001b[0m \u001b[0mputmask\u001b[0m\u001b[1;33m(\u001b[0m\u001b[0mself\u001b[0m\u001b[1;33m,\u001b[0m \u001b[1;33m**\u001b[0m\u001b[0mkwargs\u001b[0m\u001b[1;33m)\u001b[0m\u001b[1;33m:\u001b[0m\u001b[1;33m\u001b[0m\u001b[0m\n",
      "\u001b[1;32mc:\\users\\philip\\appdata\\local\\programs\\python\\python35-32\\lib\\site-packages\\pandas\\core\\internals.py\u001b[0m in \u001b[0;36mapply\u001b[1;34m(self, f, axes, filter, do_integrity_check, consolidate, **kwargs)\u001b[0m\n\u001b[0;32m   2830\u001b[0m \u001b[1;33m\u001b[0m\u001b[0m\n\u001b[0;32m   2831\u001b[0m             \u001b[0mkwargs\u001b[0m\u001b[1;33m[\u001b[0m\u001b[1;34m'mgr'\u001b[0m\u001b[1;33m]\u001b[0m \u001b[1;33m=\u001b[0m \u001b[0mself\u001b[0m\u001b[1;33m\u001b[0m\u001b[0m\n\u001b[1;32m-> 2832\u001b[1;33m             \u001b[0mapplied\u001b[0m \u001b[1;33m=\u001b[0m \u001b[0mgetattr\u001b[0m\u001b[1;33m(\u001b[0m\u001b[0mb\u001b[0m\u001b[1;33m,\u001b[0m \u001b[0mf\u001b[0m\u001b[1;33m)\u001b[0m\u001b[1;33m(\u001b[0m\u001b[1;33m**\u001b[0m\u001b[0mkwargs\u001b[0m\u001b[1;33m)\u001b[0m\u001b[1;33m\u001b[0m\u001b[0m\n\u001b[0m\u001b[0;32m   2833\u001b[0m             \u001b[0mresult_blocks\u001b[0m \u001b[1;33m=\u001b[0m \u001b[0m_extend_blocks\u001b[0m\u001b[1;33m(\u001b[0m\u001b[0mapplied\u001b[0m\u001b[1;33m,\u001b[0m \u001b[0mresult_blocks\u001b[0m\u001b[1;33m)\u001b[0m\u001b[1;33m\u001b[0m\u001b[0m\n\u001b[0;32m   2834\u001b[0m \u001b[1;33m\u001b[0m\u001b[0m\n",
      "\u001b[1;32mc:\\users\\philip\\appdata\\local\\programs\\python\\python35-32\\lib\\site-packages\\pandas\\core\\internals.py\u001b[0m in \u001b[0;36msetitem\u001b[1;34m(self, indexer, value, mgr)\u001b[0m\n\u001b[0;32m    688\u001b[0m             \u001b[1;31m# GH 6043\u001b[0m\u001b[1;33m\u001b[0m\u001b[1;33m\u001b[0m\u001b[0m\n\u001b[0;32m    689\u001b[0m             \u001b[1;32melif\u001b[0m \u001b[0m_is_scalar_indexer\u001b[0m\u001b[1;33m(\u001b[0m\u001b[0mindexer\u001b[0m\u001b[1;33m)\u001b[0m\u001b[1;33m:\u001b[0m\u001b[1;33m\u001b[0m\u001b[0m\n\u001b[1;32m--> 690\u001b[1;33m                 \u001b[0mvalues\u001b[0m\u001b[1;33m[\u001b[0m\u001b[0mindexer\u001b[0m\u001b[1;33m]\u001b[0m \u001b[1;33m=\u001b[0m \u001b[0mvalue\u001b[0m\u001b[1;33m\u001b[0m\u001b[0m\n\u001b[0m\u001b[0;32m    691\u001b[0m \u001b[1;33m\u001b[0m\u001b[0m\n\u001b[0;32m    692\u001b[0m             \u001b[1;31m# if we are an exact match (ex-broadcasting),\u001b[0m\u001b[1;33m\u001b[0m\u001b[1;33m\u001b[0m\u001b[0m\n",
      "\u001b[1;31mValueError\u001b[0m: cannot copy sequence with size 11 to array axis with dimension 10"
     ]
    }
   ],
   "source": [
    "topics_df = gensim2dataframe(model)"
   ]
  },
  {
   "cell_type": "code",
   "execution_count": null,
   "metadata": {
    "collapsed": false
   },
   "outputs": [],
   "source": [
    "topics_df"
   ]
  },
  {
   "cell_type": "markdown",
   "metadata": {},
   "source": [
    "## Visualisierung "
   ]
  },
  {
   "cell_type": "code",
   "execution_count": null,
   "metadata": {
    "collapsed": false
   },
   "outputs": [],
   "source": [
    "'''lda_model = 'out_easy/corpus.lda'\n",
    "corpus = 'out_easy/corpus.mm'\n",
    "dictionary = 'out_easy/corpus.dict'\n",
    "doc_labels = 'out_easy/corpus_doclabels.txt'\n",
    "interactive  = False\n",
    "\n",
    "vis = visual.Visualization(lda_model, corpus, dictionary, doc_labels, interactive)'''"
   ]
  },
  {
   "cell_type": "markdown",
   "metadata": {},
   "source": [
    "##### Create a document-topic matrix (that is a pandas data frame actually)"
   ]
  },
  {
   "cell_type": "code",
   "execution_count": null,
   "metadata": {
    "collapsed": false
   },
   "outputs": [],
   "source": [
    "doc_topic = visual.create_doc_topic(mm, model, doc_labels)"
   ]
  },
  {
   "cell_type": "markdown",
   "metadata": {},
   "source": [
    "##### Visualize document-topic matrix"
   ]
  },
  {
   "cell_type": "code",
   "execution_count": null,
   "metadata": {
    "collapsed": false
   },
   "outputs": [],
   "source": [
    "%matplotlib inline\n",
    "visual.doc_topic_heatmap(doc_topic)"
   ]
  },
  {
   "cell_type": "markdown",
   "metadata": {},
   "source": [
    "##### Visualize topic distribution in a single document"
   ]
  },
  {
   "cell_type": "code",
   "execution_count": null,
   "metadata": {
    "collapsed": false
   },
   "outputs": [],
   "source": [
    "visual.plot_doc_topics(doc_topic, 0)"
   ]
  },
  {
   "cell_type": "markdown",
   "metadata": {
    "collapsed": true
   },
   "source": [
    "![success](http://cdn2.hubspot.net/hub/128506/file-446943132-jpg/images/computer_woman_success.jpg)"
   ]
  }
 ],
 "metadata": {
  "kernelspec": {
   "display_name": "Python 3",
   "language": "python",
   "name": "python3"
  },
  "language_info": {
   "codemirror_mode": {
    "name": "ipython",
    "version": 3
   },
   "file_extension": ".py",
   "mimetype": "text/x-python",
   "name": "python",
   "nbconvert_exporter": "python",
   "pygments_lexer": "ipython3",
   "version": "3.5.1"
  }
 },
 "nbformat": 4,
 "nbformat_minor": 0
}
