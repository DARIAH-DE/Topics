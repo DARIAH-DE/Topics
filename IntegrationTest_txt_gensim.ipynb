{
 "cells": [
  {
   "cell_type": "code",
   "execution_count": 1,
   "metadata": {
    "collapsed": false
   },
   "outputs": [
    {
     "name": "stderr",
     "output_type": "stream",
     "text": [
      "c:\\users\\philip\\appdata\\local\\programs\\python\\python35-32\\lib\\site-packages\\gensim\\utils.py:855: UserWarning: detected Windows; aliasing chunkize to chunkize_serial\n",
      "  warnings.warn(\"detected Windows; aliasing chunkize to chunkize_serial\")\n",
      "c:\\users\\philip\\appdata\\local\\programs\\python\\python35-32\\lib\\site-packages\\funcy\\decorators.py:56: DeprecationWarning: inspect.getargspec() is deprecated, use inspect.signature() instead\n",
      "  spec = inspect.getargspec(func)\n",
      "c:\\users\\philip\\appdata\\local\\programs\\python\\python35-32\\lib\\site-packages\\funcy\\decorators.py:56: DeprecationWarning: inspect.getargspec() is deprecated, use inspect.signature() instead\n",
      "  spec = inspect.getargspec(func)\n",
      "c:\\users\\philip\\appdata\\local\\programs\\python\\python35-32\\lib\\site-packages\\funcy\\decorators.py:56: DeprecationWarning: inspect.getargspec() is deprecated, use inspect.signature() instead\n",
      "  spec = inspect.getargspec(func)\n",
      "c:\\users\\philip\\appdata\\local\\programs\\python\\python35-32\\lib\\site-packages\\funcy\\decorators.py:56: DeprecationWarning: inspect.getargspec() is deprecated, use inspect.signature() instead\n",
      "  spec = inspect.getargspec(func)\n",
      "c:\\users\\philip\\appdata\\local\\programs\\python\\python35-32\\lib\\site-packages\\funcy\\decorators.py:56: DeprecationWarning: inspect.getargspec() is deprecated, use inspect.signature() instead\n",
      "  spec = inspect.getargspec(func)\n",
      "c:\\users\\philip\\appdata\\local\\programs\\python\\python35-32\\lib\\site-packages\\funcy\\decorators.py:56: DeprecationWarning: inspect.getargspec() is deprecated, use inspect.signature() instead\n",
      "  spec = inspect.getargspec(func)\n"
     ]
    }
   ],
   "source": [
    "from dariah_topics import preprocessing as pre\n",
    "from dariah_topics import visualization as visual\n",
    "from dariah_topics import evaluation"
   ]
  },
  {
   "cell_type": "markdown",
   "metadata": {},
   "source": [
    "## Preprocessing"
   ]
  },
  {
   "cell_type": "markdown",
   "metadata": {},
   "source": [
    "#### Liste mit Dateinamen erzeugen"
   ]
  },
  {
   "cell_type": "code",
   "execution_count": 2,
   "metadata": {
    "collapsed": false
   },
   "outputs": [
    {
     "name": "stderr",
     "output_type": "stream",
     "text": [
      "c:\\users\\philip\\appdata\\local\\programs\\python\\python35-32\\lib\\site-packages\\IPython\\core\\formatters.py:92: DeprecationWarning: DisplayFormatter._ipython_display_formatter_default is deprecated: use @default decorator instead.\n",
      "  def _ipython_display_formatter_default(self):\n",
      "c:\\users\\philip\\appdata\\local\\programs\\python\\python35-32\\lib\\site-packages\\IPython\\core\\formatters.py:98: DeprecationWarning: DisplayFormatter._formatters_default is deprecated: use @default decorator instead.\n",
      "  def _formatters_default(self):\n",
      "c:\\users\\philip\\appdata\\local\\programs\\python\\python35-32\\lib\\site-packages\\IPython\\core\\formatters.py:677: DeprecationWarning: PlainTextFormatter._deferred_printers_default is deprecated: use @default decorator instead.\n",
      "  def _deferred_printers_default(self):\n",
      "c:\\users\\philip\\appdata\\local\\programs\\python\\python35-32\\lib\\site-packages\\IPython\\core\\formatters.py:669: DeprecationWarning: PlainTextFormatter._singleton_printers_default is deprecated: use @default decorator instead.\n",
      "  def _singleton_printers_default(self):\n",
      "c:\\users\\philip\\appdata\\local\\programs\\python\\python35-32\\lib\\site-packages\\IPython\\core\\formatters.py:672: DeprecationWarning: PlainTextFormatter._type_printers_default is deprecated: use @default decorator instead.\n",
      "  def _type_printers_default(self):\n",
      "c:\\users\\philip\\appdata\\local\\programs\\python\\python35-32\\lib\\site-packages\\IPython\\core\\formatters.py:669: DeprecationWarning: PlainTextFormatter._singleton_printers_default is deprecated: use @default decorator instead.\n",
      "  def _singleton_printers_default(self):\n",
      "c:\\users\\philip\\appdata\\local\\programs\\python\\python35-32\\lib\\site-packages\\IPython\\core\\formatters.py:672: DeprecationWarning: PlainTextFormatter._type_printers_default is deprecated: use @default decorator instead.\n",
      "  def _type_printers_default(self):\n",
      "c:\\users\\philip\\appdata\\local\\programs\\python\\python35-32\\lib\\site-packages\\IPython\\core\\formatters.py:677: DeprecationWarning: PlainTextFormatter._deferred_printers_default is deprecated: use @default decorator instead.\n",
      "  def _deferred_printers_default(self):\n"
     ]
    },
    {
     "data": {
      "text/plain": [
       "['corpus_txt\\\\Doyle_AScandalinBohemia.txt',\n",
       " 'corpus_txt\\\\Doyle_AStudyinScarlet.txt',\n",
       " 'corpus_txt\\\\Doyle_TheHoundoftheBaskervilles.txt',\n",
       " 'corpus_txt\\\\Doyle_TheSignoftheFour.txt',\n",
       " 'corpus_txt\\\\Howard_GodsoftheNorth.txt']"
      ]
     },
     "execution_count": 2,
     "metadata": {},
     "output_type": "execute_result"
    }
   ],
   "source": [
    "path_txt = \"corpus_txt\"\n",
    "#path_txt = \"grenzbote_plain/*/\"\n",
    "#path_txt = \"wiki/\"\n",
    "\n",
    "doclist_txt = pre.create_document_list(path_txt)\n",
    "assert doclist_txt, \"No documents found\"\n",
    "doclist_txt[:5]"
   ]
  },
  {
   "cell_type": "markdown",
   "metadata": {},
   "source": [
    "#####  Liste mit Dokumentenlabels erzeugen - (Funktion wird durch Thorsten's generischere Funktion ersetzt)"
   ]
  },
  {
   "cell_type": "code",
   "execution_count": 3,
   "metadata": {
    "collapsed": false
   },
   "outputs": [
    {
     "data": {
      "text/plain": [
       "['Doyle_AScandalinBohemia',\n",
       " 'Doyle_AStudyinScarlet',\n",
       " 'Doyle_TheHoundoftheBaskervilles',\n",
       " 'Doyle_TheSignoftheFour',\n",
       " 'Howard_GodsoftheNorth']"
      ]
     },
     "execution_count": 3,
     "metadata": {},
     "output_type": "execute_result"
    }
   ],
   "source": [
    "doc_labels = list(pre.get_labels(doclist_txt))\n",
    "doc_labels[:5]"
   ]
  },
  {
   "cell_type": "markdown",
   "metadata": {},
   "source": [
    "#### Corpus laden"
   ]
  },
  {
   "cell_type": "code",
   "execution_count": 4,
   "metadata": {
    "collapsed": false
   },
   "outputs": [],
   "source": [
    "corpus_txt = pre.read_from_txt(doclist_txt)"
   ]
  },
  {
   "cell_type": "markdown",
   "metadata": {},
   "source": [
    "#### Tokenisieren"
   ]
  },
  {
   "cell_type": "code",
   "execution_count": 5,
   "metadata": {
    "collapsed": false
   },
   "outputs": [],
   "source": [
    "doc_tokens = [list(pre.tokenize(txt)) for txt in list(corpus_txt)]"
   ]
  },
  {
   "cell_type": "markdown",
   "metadata": {},
   "source": [
    "#### Create Dictionaries"
   ]
  },
  {
   "cell_type": "code",
   "execution_count": 6,
   "metadata": {
    "collapsed": false
   },
   "outputs": [],
   "source": [
    "id_types, doc_ids = pre.create_dictionaries(doc_labels, doc_tokens)"
   ]
  },
  {
   "cell_type": "markdown",
   "metadata": {},
   "source": [
    "#### Sparse BOW Model"
   ]
  },
  {
   "cell_type": "code",
   "execution_count": 7,
   "metadata": {
    "collapsed": false
   },
   "outputs": [],
   "source": [
    "sparse_bow = pre.create_mm(doc_labels, doc_tokens, id_types, doc_ids)"
   ]
  },
  {
   "cell_type": "code",
   "execution_count": 8,
   "metadata": {
    "collapsed": false
   },
   "outputs": [
    {
     "data": {
      "text/html": [
       "<div>\n",
       "<table border=\"1\" class=\"dataframe\">\n",
       "  <thead>\n",
       "    <tr style=\"text-align: right;\">\n",
       "      <th></th>\n",
       "      <th></th>\n",
       "      <th>0</th>\n",
       "    </tr>\n",
       "    <tr>\n",
       "      <th>doc_id</th>\n",
       "      <th>token_id</th>\n",
       "      <th></th>\n",
       "    </tr>\n",
       "  </thead>\n",
       "  <tbody>\n",
       "    <tr>\n",
       "      <th rowspan=\"5\" valign=\"top\">1</th>\n",
       "      <th>20481</th>\n",
       "      <td>1</td>\n",
       "    </tr>\n",
       "    <tr>\n",
       "      <th>16387</th>\n",
       "      <td>1</td>\n",
       "    </tr>\n",
       "    <tr>\n",
       "      <th>4101</th>\n",
       "      <td>1</td>\n",
       "    </tr>\n",
       "    <tr>\n",
       "      <th>16390</th>\n",
       "      <td>1</td>\n",
       "    </tr>\n",
       "    <tr>\n",
       "      <th>6828</th>\n",
       "      <td>1</td>\n",
       "    </tr>\n",
       "  </tbody>\n",
       "</table>\n",
       "</div>"
      ],
      "text/plain": [
       "                 0\n",
       "doc_id token_id   \n",
       "1      20481     1\n",
       "       16387     1\n",
       "       4101      1\n",
       "       16390     1\n",
       "       6828      1"
      ]
     },
     "execution_count": 8,
     "metadata": {},
     "output_type": "execute_result"
    }
   ],
   "source": [
    "sparse_bow[:5]"
   ]
  },
  {
   "cell_type": "markdown",
   "metadata": {},
   "source": [
    "## Topic Modeling with Gensim"
   ]
  },
  {
   "cell_type": "markdown",
   "metadata": {},
   "source": [
    "##### Saving Sparse BOW"
   ]
  },
  {
   "cell_type": "code",
   "execution_count": 9,
   "metadata": {
    "collapsed": false
   },
   "outputs": [],
   "source": [
    "pre.save_bow_mm(sparse_bow, \"gensim_txt\")"
   ]
  },
  {
   "cell_type": "markdown",
   "metadata": {},
   "source": [
    "#### Import Market Matrix"
   ]
  },
  {
   "cell_type": "code",
   "execution_count": 10,
   "metadata": {
    "collapsed": true
   },
   "outputs": [],
   "source": [
    "from gensim.models import LdaModel\n",
    "from gensim.corpora import MmCorpus"
   ]
  },
  {
   "cell_type": "code",
   "execution_count": 11,
   "metadata": {
    "collapsed": false
   },
   "outputs": [],
   "source": [
    "mm = MmCorpus(\"gensim_txt.mm\")"
   ]
  },
  {
   "cell_type": "code",
   "execution_count": 12,
   "metadata": {
    "collapsed": false
   },
   "outputs": [],
   "source": [
    "doc2id = {value : key for key, value in doc_ids.items()}\n",
    "type2id = {value : key for key, value in id_types.items()}"
   ]
  },
  {
   "cell_type": "markdown",
   "metadata": {},
   "source": [
    "##### Remove Features"
   ]
  },
  {
   "cell_type": "markdown",
   "metadata": {},
   "source": [
    "type2id = {value : key for key, value in id_types.items()}\n",
    "sparse_bow_collapsed = sparse_bow.groupby(sparse_bow.index.get_level_values('token_id')).sum()"
   ]
  },
  {
   "cell_type": "markdown",
   "metadata": {},
   "source": [
    "sparse_bow_hapax = sparse_bow_collapsed.loc[sparse_bow_collapsed[0] == 1]\n",
    "hapax = [type2id[key] for key in sparse_bow_hapax.index.get_level_values('token_id')]"
   ]
  },
  {
   "cell_type": "markdown",
   "metadata": {},
   "source": [
    "len(hapax)"
   ]
  },
  {
   "cell_type": "code",
   "execution_count": 13,
   "metadata": {
    "collapsed": true
   },
   "outputs": [],
   "source": [
    "import os.path\n",
    "basepath = os.path.abspath('.')\n",
    "\n",
    "with open(os.path.join(basepath, \"tutorial_supplementals\", \"stopwords\", \"de.txt\"), 'r', encoding = 'utf-8') as f: \n",
    "    stopword_list = f.read().split('\\n')\n",
    "    \n",
    "stopword_list = set(stopword_list)"
   ]
  },
  {
   "cell_type": "code",
   "execution_count": 14,
   "metadata": {
    "collapsed": false
   },
   "outputs": [],
   "source": [
    "hapax_from_remove = pre.find_hapax(sparse_bow, id_types)\n",
    "stopwords_from_remove = pre.find_stopwords(sparse_bow, id_types, mfw=75)\n",
    "\n",
    "#features_to_be_removed = set(hapax_from_remove + stopwords_from_remove)\n",
    "features_to_be_removed = stopwords_from_remove\n",
    "\n",
    "sparse_bow_short = pre.remove_features(sparse_bow, id_types, features_to_be_removed)"
   ]
  },
  {
   "cell_type": "code",
   "execution_count": 15,
   "metadata": {
    "collapsed": false
   },
   "outputs": [
    {
     "data": {
      "text/plain": [
       "75"
      ]
     },
     "execution_count": 15,
     "metadata": {},
     "output_type": "execute_result"
    }
   ],
   "source": [
    "len(features_to_be_removed)"
   ]
  },
  {
   "cell_type": "code",
   "execution_count": 16,
   "metadata": {
    "collapsed": false
   },
   "outputs": [],
   "source": [
    "pre.save_bow_mm(sparse_bow_short, \"gensim_txt\")"
   ]
  },
  {
   "cell_type": "code",
   "execution_count": 17,
   "metadata": {
    "collapsed": true
   },
   "outputs": [],
   "source": [
    "mm = MmCorpus(\"gensim_txt.mm\")"
   ]
  },
  {
   "cell_type": "markdown",
   "metadata": {},
   "source": [
    "#### Convert sparse_bow to list of (doc, tokens) tuples (like doc2bow)"
   ]
  },
  {
   "cell_type": "markdown",
   "metadata": {
    "collapsed": false
   },
   "source": [
    "doc2bow_list = []\n",
    "\n",
    "for doc in sparse_bow_short.index.groupby(sparse_bow_short.index.get_level_values('doc_id')):\n",
    "    temp = [(token, count) for token, count in zip(sparse_bow_short.loc[doc].index, sparse_bow_short.loc[doc][0])]\n",
    "    doc2bow_list.append(temp)"
   ]
  },
  {
   "cell_type": "code",
   "execution_count": 18,
   "metadata": {
    "collapsed": true
   },
   "outputs": [],
   "source": [
    "doc2bow_list = pre.make_doc2bow_list(sparse_bow_short)"
   ]
  },
  {
   "cell_type": "code",
   "execution_count": 19,
   "metadata": {
    "collapsed": false
   },
   "outputs": [
    {
     "data": {
      "text/plain": [
       "17"
      ]
     },
     "execution_count": 19,
     "metadata": {},
     "output_type": "execute_result"
    }
   ],
   "source": [
    "len(doc2bow_list)"
   ]
  },
  {
   "cell_type": "code",
   "execution_count": 20,
   "metadata": {
    "collapsed": false
   },
   "outputs": [],
   "source": [
    "#model = LdaModel(corpus=mm, id2word=type2id, num_topics=60, alpha = \"symmetric\", passes = 10) #import momentan in visual \n",
    "# -> da ich mir noch nicht sicher bin, welche Funktionen in das tm_gensim.py sollen\n",
    "model = LdaModel(corpus=mm, id2word=type2id, num_topics=20, passes = 10, iterations = 20)"
   ]
  },
  {
   "cell_type": "code",
   "execution_count": 21,
   "metadata": {
    "collapsed": false
   },
   "outputs": [
    {
     "data": {
      "text/plain": [
       "[(1, 0.099701380871973111),\n",
       " (3, 0.34160856535720802),\n",
       " (7, 0.08240834277816704),\n",
       " (9, 0.06935708236023308),\n",
       " (11, 0.10560023781828309),\n",
       " (13, 0.019423207042390294),\n",
       " (14, 0.10513033434185065),\n",
       " (15, 0.028285443097552158),\n",
       " (17, 0.1308850359869547)]"
      ]
     },
     "execution_count": 21,
     "metadata": {},
     "output_type": "execute_result"
    }
   ],
   "source": [
    "model.get_document_topics(doc2bow_list[1])"
   ]
  },
  {
   "cell_type": "code",
   "execution_count": 22,
   "metadata": {
    "collapsed": false
   },
   "outputs": [
    {
     "data": {
      "text/plain": [
       "['alexandra',\n",
       " 'prevalence',\n",
       " 'honorably',\n",
       " 'black-haired',\n",
       " 'hewed',\n",
       " 'angrily',\n",
       " 'penitence',\n",
       " 're',\n",
       " 'flora',\n",
       " 'tongues']"
      ]
     },
     "execution_count": 22,
     "metadata": {},
     "output_type": "execute_result"
    }
   ],
   "source": [
    "#Anzeige der keywords für topic n\n",
    "n = 1\n",
    "topic_nr_x = model.get_topic_terms(n)\n",
    "\n",
    "topicTerms = [type2id[i[0]] for i in topic_nr_x]\n",
    "topicTerms"
   ]
  },
  {
   "cell_type": "code",
   "execution_count": 23,
   "metadata": {
    "collapsed": false
   },
   "outputs": [
    {
     "data": {
      "text/plain": [
       "[(0,\n",
       "  '0.005*\"canting\" + 0.004*\"encrustation\" + 0.004*\"planked\" + 0.003*\"alexandra\" + 0.003*\"prevalence\" + 0.003*\"she-elephant\" + 0.003*\"subconscious\" + 0.003*\"tongues\" + 0.003*\"bared\" + 0.003*\"gloom\"'),\n",
       " (1,\n",
       "  '0.009*\"alexandra\" + 0.006*\"prevalence\" + 0.006*\"honorably\" + 0.005*\"black-haired\" + 0.005*\"hewed\" + 0.005*\"angrily\" + 0.004*\"penitence\" + 0.004*\"re\" + 0.004*\"flora\" + 0.004*\"tongues\"'),\n",
       " (2,\n",
       "  '0.000*\"tumble-down\" + 0.000*\"beholding\" + 0.000*\"rustics\" + 0.000*\"speedily\" + 0.000*\"den\" + 0.000*\"countenance\" + 0.000*\"whitmarsh\" + 0.000*\"encrustation\" + 0.000*\"survived\" + 0.000*\"impinge\"'),\n",
       " (3,\n",
       "  '0.006*\"igneous\" + 0.004*\"survived\" + 0.004*\"drums\" + 0.004*\"foes\" + 0.003*\"stared\" + 0.003*\"impinge\" + 0.003*\"rustics\" + 0.003*\"wails\" + 0.003*\"soar\" + 0.003*\"honorably\"'),\n",
       " (4,\n",
       "  '0.001*\"mountainous\" + 0.001*\"alexandra\" + 0.001*\"flora\" + 0.000*\"honorably\" + 0.000*\"beholding\" + 0.000*\"re\" + 0.000*\"prevalence\" + 0.000*\"encrustation\" + 0.000*\"starker\" + 0.000*\"queerly\"'),\n",
       " (5,\n",
       "  '0.002*\"strengthens\" + 0.001*\"scratched\" + 0.001*\"they\\'d\" + 0.001*\"surfaces\" + 0.001*\"stating\" + 0.001*\"cleaned\" + 0.001*\"kent\\'s\" + 0.001*\"foresaw\" + 0.001*\"conventions\" + 0.001*\"panther-canter\"'),\n",
       " (6,\n",
       "  '0.000*\"encrustation\" + 0.000*\"alexandra\" + 0.000*\"honorably\" + 0.000*\"prevalence\" + 0.000*\"beholding\" + 0.000*\"chasm\" + 0.000*\"subconscious\" + 0.000*\"tongues\" + 0.000*\"den\" + 0.000*\"crumpled\"'),\n",
       " (7,\n",
       "  '0.015*\"speedily\" + 0.007*\"picket-pin\" + 0.007*\"badge\" + 0.005*\"coffin\" + 0.004*\"furiously\" + 0.004*\"recognize\" + 0.004*\"stupendously\" + 0.004*\"sardonic\" + 0.004*\"pithy\" + 0.004*\"combine\"'),\n",
       " (8,\n",
       "  '0.007*\"my-cup\" + 0.007*\"spear\" + 0.006*\"function\" + 0.004*\"alexandra\" + 0.004*\"penitence\" + 0.003*\"forty\" + 0.003*\"prevalence\" + 0.003*\"shiny\" + 0.003*\"equalling\" + 0.003*\"vet-peoples\"'),\n",
       " (9,\n",
       "  '0.006*\"strangling\" + 0.004*\"friendliness\" + 0.004*\"beholding\" + 0.004*\"alexandra\" + 0.003*\"all-inclusive\" + 0.003*\"simul\" + 0.003*\"jumping\" + 0.003*\"pompously\" + 0.003*\"gastropods\" + 0.003*\"amazing\"'),\n",
       " (10,\n",
       "  '0.001*\"absentee\" + 0.001*\"encrustation\" + 0.000*\"pithy\" + 0.000*\"den\" + 0.000*\"chasm\" + 0.000*\"tumble-down\" + 0.000*\"whitmarsh\" + 0.000*\"alexandra\" + 0.000*\"inconclusive\" + 0.000*\"stay-maker\"'),\n",
       " (11,\n",
       "  '0.012*\"artistically\" + 0.008*\"bouguereau\" + 0.008*\"bad\" + 0.007*\"chasm\" + 0.006*\"populus\" + 0.006*\"pregnant\" + 0.006*\"haziest\" + 0.006*\"den\" + 0.006*\"queerly\" + 0.005*\"lord\"'),\n",
       " (12,\n",
       "  '0.000*\"beholding\" + 0.000*\"survived\" + 0.000*\"den\" + 0.000*\"allowed\" + 0.000*\"whitmarsh\" + 0.000*\"rustics\" + 0.000*\"prevalence\" + 0.000*\"chasm\" + 0.000*\"wails\" + 0.000*\"impinge\"'),\n",
       " (13,\n",
       "  '0.012*\"vulgar\" + 0.008*\"kings\" + 0.007*\"precipitous\" + 0.006*\"balustraded\" + 0.006*\"stifle\" + 0.005*\"men\\'s\" + 0.004*\"ikki\" + 0.004*\"khorusun\" + 0.004*\"scum\" + 0.004*\"stared\"'),\n",
       " (14,\n",
       "  '0.007*\"claw\" + 0.005*\"selden\\'s\" + 0.004*\"chateau\" + 0.004*\"tumble-down\" + 0.004*\"stifle\" + 0.004*\"etched\" + 0.004*\"vitally\" + 0.004*\"whitmarsh\" + 0.004*\"stay-maker\" + 0.004*\"gewohnt\"'),\n",
       " (15,\n",
       "  '0.017*\"pithy\" + 0.006*\"frequency\" + 0.005*\"wholesome\" + 0.005*\"stalk\" + 0.004*\"combine\" + 0.004*\"planting\" + 0.004*\"den\" + 0.004*\"encrustation\" + 0.004*\"coffee-cup\" + 0.004*\"street-lamps\"'),\n",
       " (16,\n",
       "  '0.000*\"survived\" + 0.000*\"stay-maker\" + 0.000*\"rustics\" + 0.000*\"inconclusive\" + 0.000*\"beholding\" + 0.000*\"honorably\" + 0.000*\"crumpled\" + 0.000*\"whitmarsh\" + 0.000*\"alexandra\" + 0.000*\"encrustation\"'),\n",
       " (17,\n",
       "  '0.004*\"fitted\" + 0.004*\"alexandra\" + 0.004*\"honorably\" + 0.004*\"countenance\" + 0.004*\"intangible\" + 0.004*\"starker\" + 0.003*\"beryls\" + 0.003*\"encrustation\" + 0.003*\"gambled\" + 0.003*\"beholding\"'),\n",
       " (18,\n",
       "  '0.000*\"stay-maker\" + 0.000*\"crumpled\" + 0.000*\"beryls\" + 0.000*\"alexandra\" + 0.000*\"beholding\" + 0.000*\"honorably\" + 0.000*\"chasm\" + 0.000*\"igneous\" + 0.000*\"re\" + 0.000*\"rustics\"'),\n",
       " (19,\n",
       "  '0.000*\"den\" + 0.000*\"beholding\" + 0.000*\"stay-maker\" + 0.000*\"chasm\" + 0.000*\"encrustation\" + 0.000*\"alexandra\" + 0.000*\"whitmarsh\" + 0.000*\"ladder\" + 0.000*\"honorably\" + 0.000*\"half-fungous\"')]"
      ]
     },
     "execution_count": 23,
     "metadata": {},
     "output_type": "execute_result"
    }
   ],
   "source": [
    "#Topic probabilities\n",
    "topics = model.show_topics(num_topics = 40)\n",
    "topics"
   ]
  },
  {
   "cell_type": "code",
   "execution_count": 24,
   "metadata": {
    "collapsed": false
   },
   "outputs": [],
   "source": [
    "import pandas as pd\n",
    "import regex as re\n",
    "def gensim2dataframe(model):\n",
    "    num_topics = model.num_topics\n",
    "    topics_df = pd.DataFrame(index = range(num_topics), columns= range(10))\n",
    "\n",
    "    topics = model.show_topics(num_topics)\n",
    "    \n",
    "    for topic_dist in topics:    \n",
    "        idx = topic_dist[0]\n",
    "        temp = re.findall(r'\\\"(.+?)\\\"', topics[idx][1])\n",
    "        topics_df.loc[idx] = temp\n",
    "    \n",
    "    return topics_df"
   ]
  },
  {
   "cell_type": "code",
   "execution_count": 25,
   "metadata": {
    "collapsed": false
   },
   "outputs": [],
   "source": [
    "topics_df = gensim2dataframe(model)"
   ]
  },
  {
   "cell_type": "code",
   "execution_count": 26,
   "metadata": {
    "collapsed": false
   },
   "outputs": [
    {
     "data": {
      "text/html": [
       "<div>\n",
       "<table border=\"1\" class=\"dataframe\">\n",
       "  <thead>\n",
       "    <tr style=\"text-align: right;\">\n",
       "      <th></th>\n",
       "      <th>0</th>\n",
       "      <th>1</th>\n",
       "      <th>2</th>\n",
       "      <th>3</th>\n",
       "      <th>4</th>\n",
       "      <th>5</th>\n",
       "      <th>6</th>\n",
       "      <th>7</th>\n",
       "      <th>8</th>\n",
       "      <th>9</th>\n",
       "      <th>10</th>\n",
       "      <th>11</th>\n",
       "      <th>12</th>\n",
       "      <th>13</th>\n",
       "      <th>14</th>\n",
       "      <th>15</th>\n",
       "      <th>16</th>\n",
       "      <th>17</th>\n",
       "      <th>18</th>\n",
       "      <th>19</th>\n",
       "    </tr>\n",
       "  </thead>\n",
       "  <tbody>\n",
       "    <tr>\n",
       "      <th>0</th>\n",
       "      <td>canting</td>\n",
       "      <td>alexandra</td>\n",
       "      <td>tumble-down</td>\n",
       "      <td>igneous</td>\n",
       "      <td>mountainous</td>\n",
       "      <td>strengthens</td>\n",
       "      <td>encrustation</td>\n",
       "      <td>speedily</td>\n",
       "      <td>my-cup</td>\n",
       "      <td>strangling</td>\n",
       "      <td>absentee</td>\n",
       "      <td>artistically</td>\n",
       "      <td>beholding</td>\n",
       "      <td>vulgar</td>\n",
       "      <td>claw</td>\n",
       "      <td>pithy</td>\n",
       "      <td>survived</td>\n",
       "      <td>fitted</td>\n",
       "      <td>stay-maker</td>\n",
       "      <td>den</td>\n",
       "    </tr>\n",
       "    <tr>\n",
       "      <th>1</th>\n",
       "      <td>encrustation</td>\n",
       "      <td>prevalence</td>\n",
       "      <td>beholding</td>\n",
       "      <td>survived</td>\n",
       "      <td>alexandra</td>\n",
       "      <td>scratched</td>\n",
       "      <td>alexandra</td>\n",
       "      <td>picket-pin</td>\n",
       "      <td>spear</td>\n",
       "      <td>friendliness</td>\n",
       "      <td>encrustation</td>\n",
       "      <td>bouguereau</td>\n",
       "      <td>survived</td>\n",
       "      <td>kings</td>\n",
       "      <td>selden's</td>\n",
       "      <td>frequency</td>\n",
       "      <td>stay-maker</td>\n",
       "      <td>alexandra</td>\n",
       "      <td>crumpled</td>\n",
       "      <td>beholding</td>\n",
       "    </tr>\n",
       "    <tr>\n",
       "      <th>2</th>\n",
       "      <td>planked</td>\n",
       "      <td>honorably</td>\n",
       "      <td>rustics</td>\n",
       "      <td>drums</td>\n",
       "      <td>flora</td>\n",
       "      <td>they'd</td>\n",
       "      <td>honorably</td>\n",
       "      <td>badge</td>\n",
       "      <td>function</td>\n",
       "      <td>beholding</td>\n",
       "      <td>pithy</td>\n",
       "      <td>bad</td>\n",
       "      <td>den</td>\n",
       "      <td>precipitous</td>\n",
       "      <td>chateau</td>\n",
       "      <td>wholesome</td>\n",
       "      <td>rustics</td>\n",
       "      <td>honorably</td>\n",
       "      <td>beryls</td>\n",
       "      <td>stay-maker</td>\n",
       "    </tr>\n",
       "    <tr>\n",
       "      <th>3</th>\n",
       "      <td>alexandra</td>\n",
       "      <td>black-haired</td>\n",
       "      <td>speedily</td>\n",
       "      <td>foes</td>\n",
       "      <td>honorably</td>\n",
       "      <td>surfaces</td>\n",
       "      <td>prevalence</td>\n",
       "      <td>coffin</td>\n",
       "      <td>alexandra</td>\n",
       "      <td>alexandra</td>\n",
       "      <td>den</td>\n",
       "      <td>chasm</td>\n",
       "      <td>allowed</td>\n",
       "      <td>balustraded</td>\n",
       "      <td>tumble-down</td>\n",
       "      <td>stalk</td>\n",
       "      <td>inconclusive</td>\n",
       "      <td>countenance</td>\n",
       "      <td>alexandra</td>\n",
       "      <td>chasm</td>\n",
       "    </tr>\n",
       "    <tr>\n",
       "      <th>4</th>\n",
       "      <td>prevalence</td>\n",
       "      <td>hewed</td>\n",
       "      <td>den</td>\n",
       "      <td>stared</td>\n",
       "      <td>beholding</td>\n",
       "      <td>stating</td>\n",
       "      <td>beholding</td>\n",
       "      <td>furiously</td>\n",
       "      <td>penitence</td>\n",
       "      <td>all-inclusive</td>\n",
       "      <td>chasm</td>\n",
       "      <td>populus</td>\n",
       "      <td>whitmarsh</td>\n",
       "      <td>stifle</td>\n",
       "      <td>stifle</td>\n",
       "      <td>combine</td>\n",
       "      <td>beholding</td>\n",
       "      <td>intangible</td>\n",
       "      <td>beholding</td>\n",
       "      <td>encrustation</td>\n",
       "    </tr>\n",
       "    <tr>\n",
       "      <th>5</th>\n",
       "      <td>she-elephant</td>\n",
       "      <td>angrily</td>\n",
       "      <td>countenance</td>\n",
       "      <td>impinge</td>\n",
       "      <td>re</td>\n",
       "      <td>cleaned</td>\n",
       "      <td>chasm</td>\n",
       "      <td>recognize</td>\n",
       "      <td>forty</td>\n",
       "      <td>simul</td>\n",
       "      <td>tumble-down</td>\n",
       "      <td>pregnant</td>\n",
       "      <td>rustics</td>\n",
       "      <td>men's</td>\n",
       "      <td>etched</td>\n",
       "      <td>planting</td>\n",
       "      <td>honorably</td>\n",
       "      <td>starker</td>\n",
       "      <td>honorably</td>\n",
       "      <td>alexandra</td>\n",
       "    </tr>\n",
       "    <tr>\n",
       "      <th>6</th>\n",
       "      <td>subconscious</td>\n",
       "      <td>penitence</td>\n",
       "      <td>whitmarsh</td>\n",
       "      <td>rustics</td>\n",
       "      <td>prevalence</td>\n",
       "      <td>kent's</td>\n",
       "      <td>subconscious</td>\n",
       "      <td>stupendously</td>\n",
       "      <td>prevalence</td>\n",
       "      <td>jumping</td>\n",
       "      <td>whitmarsh</td>\n",
       "      <td>haziest</td>\n",
       "      <td>prevalence</td>\n",
       "      <td>ikki</td>\n",
       "      <td>vitally</td>\n",
       "      <td>den</td>\n",
       "      <td>crumpled</td>\n",
       "      <td>beryls</td>\n",
       "      <td>chasm</td>\n",
       "      <td>whitmarsh</td>\n",
       "    </tr>\n",
       "    <tr>\n",
       "      <th>7</th>\n",
       "      <td>tongues</td>\n",
       "      <td>re</td>\n",
       "      <td>encrustation</td>\n",
       "      <td>wails</td>\n",
       "      <td>encrustation</td>\n",
       "      <td>foresaw</td>\n",
       "      <td>tongues</td>\n",
       "      <td>sardonic</td>\n",
       "      <td>shiny</td>\n",
       "      <td>pompously</td>\n",
       "      <td>alexandra</td>\n",
       "      <td>den</td>\n",
       "      <td>chasm</td>\n",
       "      <td>khorusun</td>\n",
       "      <td>whitmarsh</td>\n",
       "      <td>encrustation</td>\n",
       "      <td>whitmarsh</td>\n",
       "      <td>encrustation</td>\n",
       "      <td>igneous</td>\n",
       "      <td>ladder</td>\n",
       "    </tr>\n",
       "    <tr>\n",
       "      <th>8</th>\n",
       "      <td>bared</td>\n",
       "      <td>flora</td>\n",
       "      <td>survived</td>\n",
       "      <td>soar</td>\n",
       "      <td>starker</td>\n",
       "      <td>conventions</td>\n",
       "      <td>den</td>\n",
       "      <td>pithy</td>\n",
       "      <td>equalling</td>\n",
       "      <td>gastropods</td>\n",
       "      <td>inconclusive</td>\n",
       "      <td>queerly</td>\n",
       "      <td>wails</td>\n",
       "      <td>scum</td>\n",
       "      <td>stay-maker</td>\n",
       "      <td>coffee-cup</td>\n",
       "      <td>alexandra</td>\n",
       "      <td>gambled</td>\n",
       "      <td>re</td>\n",
       "      <td>honorably</td>\n",
       "    </tr>\n",
       "    <tr>\n",
       "      <th>9</th>\n",
       "      <td>gloom</td>\n",
       "      <td>tongues</td>\n",
       "      <td>impinge</td>\n",
       "      <td>honorably</td>\n",
       "      <td>queerly</td>\n",
       "      <td>panther-canter</td>\n",
       "      <td>crumpled</td>\n",
       "      <td>combine</td>\n",
       "      <td>vet-peoples</td>\n",
       "      <td>amazing</td>\n",
       "      <td>stay-maker</td>\n",
       "      <td>lord</td>\n",
       "      <td>impinge</td>\n",
       "      <td>stared</td>\n",
       "      <td>gewohnt</td>\n",
       "      <td>street-lamps</td>\n",
       "      <td>encrustation</td>\n",
       "      <td>beholding</td>\n",
       "      <td>rustics</td>\n",
       "      <td>half-fungous</td>\n",
       "    </tr>\n",
       "  </tbody>\n",
       "</table>\n",
       "</div>"
      ],
      "text/plain": [
       "             0             1             2          3             4   \\\n",
       "0       canting     alexandra   tumble-down    igneous   mountainous   \n",
       "1  encrustation    prevalence     beholding   survived     alexandra   \n",
       "2       planked     honorably       rustics      drums         flora   \n",
       "3     alexandra  black-haired      speedily       foes     honorably   \n",
       "4    prevalence         hewed           den     stared     beholding   \n",
       "5  she-elephant       angrily   countenance    impinge            re   \n",
       "6  subconscious     penitence     whitmarsh    rustics    prevalence   \n",
       "7       tongues            re  encrustation      wails  encrustation   \n",
       "8         bared         flora      survived       soar       starker   \n",
       "9         gloom       tongues       impinge  honorably       queerly   \n",
       "\n",
       "               5             6             7            8              9   \\\n",
       "0     strengthens  encrustation      speedily       my-cup     strangling   \n",
       "1       scratched     alexandra    picket-pin        spear   friendliness   \n",
       "2          they'd     honorably         badge     function      beholding   \n",
       "3        surfaces    prevalence        coffin    alexandra      alexandra   \n",
       "4         stating     beholding     furiously    penitence  all-inclusive   \n",
       "5         cleaned         chasm     recognize        forty          simul   \n",
       "6          kent's  subconscious  stupendously   prevalence        jumping   \n",
       "7         foresaw       tongues      sardonic        shiny      pompously   \n",
       "8     conventions           den         pithy    equalling     gastropods   \n",
       "9  panther-canter      crumpled       combine  vet-peoples        amazing   \n",
       "\n",
       "             10            11          12           13           14  \\\n",
       "0      absentee  artistically   beholding       vulgar         claw   \n",
       "1  encrustation    bouguereau    survived        kings     selden's   \n",
       "2         pithy           bad         den  precipitous      chateau   \n",
       "3           den         chasm     allowed  balustraded  tumble-down   \n",
       "4         chasm       populus   whitmarsh       stifle       stifle   \n",
       "5   tumble-down      pregnant     rustics        men's       etched   \n",
       "6     whitmarsh       haziest  prevalence         ikki      vitally   \n",
       "7     alexandra           den       chasm     khorusun    whitmarsh   \n",
       "8  inconclusive       queerly       wails         scum   stay-maker   \n",
       "9    stay-maker          lord     impinge       stared      gewohnt   \n",
       "\n",
       "             15            16            17          18            19  \n",
       "0         pithy      survived        fitted  stay-maker           den  \n",
       "1     frequency    stay-maker     alexandra    crumpled     beholding  \n",
       "2     wholesome       rustics     honorably      beryls    stay-maker  \n",
       "3         stalk  inconclusive   countenance   alexandra         chasm  \n",
       "4       combine     beholding    intangible   beholding  encrustation  \n",
       "5      planting     honorably       starker   honorably     alexandra  \n",
       "6           den      crumpled        beryls       chasm     whitmarsh  \n",
       "7  encrustation     whitmarsh  encrustation     igneous        ladder  \n",
       "8    coffee-cup     alexandra       gambled          re     honorably  \n",
       "9  street-lamps  encrustation     beholding     rustics  half-fungous  "
      ]
     },
     "execution_count": 26,
     "metadata": {},
     "output_type": "execute_result"
    }
   ],
   "source": [
    "doc_topic = topics_df.T\n",
    "doc_topic"
   ]
  },
  {
   "cell_type": "markdown",
   "metadata": {},
   "source": [
    "## Visualisierung "
   ]
  },
  {
   "cell_type": "code",
   "execution_count": 27,
   "metadata": {
    "collapsed": false
   },
   "outputs": [
    {
     "data": {
      "text/plain": [
       "\"lda_model = 'out_easy/corpus.lda'\\ncorpus = 'out_easy/corpus.mm'\\ndictionary = 'out_easy/corpus.dict'\\ndoc_labels = 'out_easy/corpus_doclabels.txt'\\ninteractive  = False\\n\\nvis = visual.Visualization(lda_model, corpus, dictionary, doc_labels, interactive)\""
      ]
     },
     "execution_count": 27,
     "metadata": {},
     "output_type": "execute_result"
    }
   ],
   "source": [
    "'''lda_model = 'out_easy/corpus.lda'\n",
    "corpus = 'out_easy/corpus.mm'\n",
    "dictionary = 'out_easy/corpus.dict'\n",
    "doc_labels = 'out_easy/corpus_doclabels.txt'\n",
    "interactive  = False\n",
    "\n",
    "vis = visual.Visualization(lda_model, corpus, dictionary, doc_labels, interactive)'''"
   ]
  },
  {
   "cell_type": "markdown",
   "metadata": {},
   "source": [
    "##### Create a document-topic matrix (that is a pandas data frame actually)"
   ]
  },
  {
   "cell_type": "code",
   "execution_count": 28,
   "metadata": {
    "collapsed": false
   },
   "outputs": [],
   "source": [
    "doc_topic = visual.create_doc_topic(mm, model, doc_labels)"
   ]
  },
  {
   "cell_type": "markdown",
   "metadata": {},
   "source": [
    "##### Visualize document-topic matrix"
   ]
  },
  {
   "cell_type": "code",
   "execution_count": 29,
   "metadata": {
    "collapsed": false
   },
   "outputs": [
    {
     "name": "stderr",
     "output_type": "stream",
     "text": [
      "c:\\users\\philip\\appdata\\local\\programs\\python\\python35-32\\lib\\site-packages\\ipykernel\\pylab\\config.py:66: DeprecationWarning: metadata {'config': True} was set from the constructor.  Metadata should be set using the .tag() method, e.g., Int().tag(key1='value1', key2='value2')\n",
      "  inline backend.\"\"\"\n",
      "c:\\users\\philip\\appdata\\local\\programs\\python\\python35-32\\lib\\site-packages\\ipykernel\\pylab\\config.py:71: DeprecationWarning: metadata {'config': True} was set from the constructor.  Metadata should be set using the .tag() method, e.g., Int().tag(key1='value1', key2='value2')\n",
      "  'retina', 'jpeg', 'svg', 'pdf'.\"\"\")\n",
      "c:\\users\\philip\\appdata\\local\\programs\\python\\python35-32\\lib\\site-packages\\ipykernel\\pylab\\config.py:85: DeprecationWarning: metadata {'config': True} was set from the constructor.  Metadata should be set using the .tag() method, e.g., Int().tag(key1='value1', key2='value2')\n",
      "  use `figure_formats` instead)\"\"\")\n",
      "c:\\users\\philip\\appdata\\local\\programs\\python\\python35-32\\lib\\site-packages\\ipykernel\\pylab\\config.py:95: DeprecationWarning: metadata {'config': True} was set from the constructor.  Metadata should be set using the .tag() method, e.g., Int().tag(key1='value1', key2='value2')\n",
      "  \"\"\"\n",
      "c:\\users\\philip\\appdata\\local\\programs\\python\\python35-32\\lib\\site-packages\\ipykernel\\pylab\\config.py:114: DeprecationWarning: metadata {'config': True} was set from the constructor.  Metadata should be set using the .tag() method, e.g., Int().tag(key1='value1', key2='value2')\n",
      "  \"\"\")\n",
      "c:\\users\\philip\\appdata\\local\\programs\\python\\python35-32\\lib\\site-packages\\ipykernel\\pylab\\config.py:44: DeprecationWarning: InlineBackend._config_changed is deprecated: use @observe and @unobserve instead.\n",
      "  def _config_changed(self, name, old, new):\n",
      "c:\\users\\philip\\appdata\\local\\programs\\python\\python35-32\\lib\\site-packages\\traitlets\\traitlets.py:770: DeprecationWarning: A parent of InlineBackend._config_changed has adopted the new @observe(change) API\n",
      "  clsname, change_or_name), DeprecationWarning)\n"
     ]
    },
    {
     "data": {
      "text/plain": [
       "<module 'matplotlib.pyplot' from 'c:\\\\users\\\\philip\\\\appdata\\\\local\\\\programs\\\\python\\\\python35-32\\\\lib\\\\site-packages\\\\matplotlib\\\\pyplot.py'>"
      ]
     },
     "execution_count": 29,
     "metadata": {},
     "output_type": "execute_result"
    },
    {
     "data": {
      "image/png": "[encoded data removed]",
      "text/plain": [
       "<matplotlib.figure.Figure at 0xb0efcb0>"
      ]
     },
     "metadata": {},
     "output_type": "display_data"
    }
   ],
   "source": [
    "%matplotlib inline\n",
    "visual.doc_topic_heatmap(doc_topic)"
   ]
  },
  {
   "cell_type": "markdown",
   "metadata": {},
   "source": [
    "##### Visualize topic distribution in a single document"
   ]
  },
  {
   "cell_type": "code",
   "execution_count": 30,
   "metadata": {
    "collapsed": false
   },
   "outputs": [
    {
     "data": {
      "image/png": "[encoded data removed]",
      "text/plain": [
       "<matplotlib.figure.Figure at 0x8f7450>"
      ]
     },
     "metadata": {},
     "output_type": "display_data"
    }
   ],
   "source": [
    "visual.plot_doc_topics(doc_topic, 0)"
   ]
  },
  {
   "cell_type": "markdown",
   "metadata": {
    "collapsed": true
   },
   "source": [
    "![success](http://cdn2.hubspot.net/hub/128506/file-446943132-jpg/images/computer_woman_success.jpg)"
   ]
  }
 ],
 "metadata": {
  "kernelspec": {
   "display_name": "Python 3",
   "language": "python",
   "name": "python3"
  },
  "language_info": {
   "codemirror_mode": {
    "name": "ipython",
    "version": 3
   },
   "file_extension": ".py",
   "mimetype": "text/x-python",
   "name": "python",
   "nbconvert_exporter": "python",
   "pygments_lexer": "ipython3",
   "version": "3.5.1"
  }
 },
 "nbformat": 4,
 "nbformat_minor": 0
}
