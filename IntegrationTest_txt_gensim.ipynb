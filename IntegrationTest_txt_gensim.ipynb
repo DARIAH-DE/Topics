{
 "cells": [
  {
   "cell_type": "code",
   "execution_count": 1,
   "metadata": {
    "collapsed": true
   },
   "outputs": [],
   "source": [
    "from dariah_topics import preprocessing as pre\n",
    "from dariah_topics import visualization as visual\n",
    "from dariah_topics import evaluation\n",
    "from dariah_topics import doclist"
   ]
  },
  {
   "cell_type": "markdown",
   "metadata": {},
   "source": [
    "## Preprocessing"
   ]
  },
  {
   "cell_type": "markdown",
   "metadata": {},
   "source": [
    "#### Liste mit Dateinamen erzeugen"
   ]
  },
  {
   "cell_type": "code",
   "execution_count": 2,
   "metadata": {},
   "outputs": [
    {
     "data": {
      "text/plain": [
       "['corpus_txt/Doyle_AScandalinBohemia.txt',\n",
       " 'corpus_txt/Doyle_AStudyinScarlet.txt',\n",
       " 'corpus_txt/Doyle_TheHoundoftheBaskervilles.txt',\n",
       " 'corpus_txt/Doyle_TheSignoftheFour.txt',\n",
       " 'corpus_txt/Howard_GodsoftheNorth.txt',\n",
       " 'corpus_txt/Howard_SchadowsinZamboula.txt',\n",
       " 'corpus_txt/Howard_ShadowsintheMoonlight.txt',\n",
       " 'corpus_txt/Howard_TheDevilinIron.txt',\n",
       " 'corpus_txt/Kipling_TheEndofthePassage.txt',\n",
       " 'corpus_txt/Kipling_TheJungleBook.txt',\n",
       " 'corpus_txt/Kipling_ThyServantaDog.txt',\n",
       " 'corpus_txt/Lovecraft_AttheMountainofMadness.txt',\n",
       " 'corpus_txt/Lovecraft_TheShunnedHouse.txt',\n",
       " 'corpus_txt/Poe_EurekaAProsePoem.txt',\n",
       " 'corpus_txt/Poe_TheCaskofAmontillado.txt',\n",
       " 'corpus_txt/Poe_TheMasqueoftheRedDeath.txt',\n",
       " 'corpus_txt/Poe_ThePurloinedLetter.txt']"
      ]
     },
     "execution_count": 2,
     "metadata": {},
     "output_type": "execute_result"
    }
   ],
   "source": [
    "path_txt = \"corpus_txt\"\n",
    "#path_txt = \"grenzbote_plain/*/\"\n",
    "#path_txt = \"wiki/\"\n",
    "\n",
    "doclist_ = doclist.PathDocList(path_txt)\n",
    "doclist_txt = doclist_.full_paths(as_str=True)\n",
    "doclist_txt"
   ]
  },
  {
   "cell_type": "markdown",
   "metadata": {},
   "source": [
    "#####  Liste mit Dokumentenlabels erzeugen - (Funktion wird durch Thorsten's generischere Funktion ersetzt)"
   ]
  },
  {
   "cell_type": "code",
   "execution_count": 4,
   "metadata": {},
   "outputs": [
    {
     "data": {
      "text/plain": [
       "['Doyle_AScandalinBohemia',\n",
       " 'Doyle_AStudyinScarlet',\n",
       " 'Doyle_TheHoundoftheBaskervilles',\n",
       " 'Doyle_TheSignoftheFour',\n",
       " 'Howard_GodsoftheNorth',\n",
       " 'Howard_SchadowsinZamboula',\n",
       " 'Howard_ShadowsintheMoonlight',\n",
       " 'Howard_TheDevilinIron',\n",
       " 'Kipling_TheEndofthePassage',\n",
       " 'Kipling_TheJungleBook',\n",
       " 'Kipling_ThyServantaDog',\n",
       " 'Lovecraft_AttheMountainofMadness',\n",
       " 'Lovecraft_TheShunnedHouse',\n",
       " 'Poe_EurekaAProsePoem',\n",
       " 'Poe_TheCaskofAmontillado',\n",
       " 'Poe_TheMasqueoftheRedDeath',\n",
       " 'Poe_ThePurloinedLetter']"
      ]
     },
     "execution_count": 4,
     "metadata": {},
     "output_type": "execute_result"
    }
   ],
   "source": [
    "doc_labels = doclist_.labels()\n",
    "doc_labels"
   ]
  },
  {
   "cell_type": "markdown",
   "metadata": {},
   "source": [
    "#### Corpus laden"
   ]
  },
  {
   "cell_type": "code",
   "execution_count": 4,
   "metadata": {
    "collapsed": true
   },
   "outputs": [],
   "source": [
    "corpus_txt = pre.read_from_txt(doclist_txt)"
   ]
  },
  {
   "cell_type": "markdown",
   "metadata": {},
   "source": [
    "#### Tokenisieren"
   ]
  },
  {
   "cell_type": "code",
   "execution_count": 5,
   "metadata": {
    "collapsed": true
   },
   "outputs": [],
   "source": [
    "doc_tokens = [list(pre.tokenize(txt)) for txt in list(corpus_txt)]"
   ]
  },
  {
   "cell_type": "markdown",
   "metadata": {},
   "source": [
    "#### Create Dictionaries"
   ]
  },
  {
   "cell_type": "code",
   "execution_count": 6,
   "metadata": {
    "collapsed": true
   },
   "outputs": [],
   "source": [
    "id_types = pre.create_dictionary(doc_tokens)\n",
    "doc_ids = pre.create_dictionary(doc_labels)"
   ]
  },
  {
   "cell_type": "markdown",
   "metadata": {},
   "source": [
    "#### Sparse BOW Model"
   ]
  },
  {
   "cell_type": "code",
   "execution_count": 7,
   "metadata": {
    "collapsed": true
   },
   "outputs": [],
   "source": [
    "sparse_bow = pre.create_sparse_bow(doc_labels, doc_tokens, id_types, doc_ids)"
   ]
  },
  {
   "cell_type": "code",
   "execution_count": 8,
   "metadata": {},
   "outputs": [
    {
     "data": {
      "text/html": [
       "<div>\n",
       "<table border=\"1\" class=\"dataframe\">\n",
       "  <thead>\n",
       "    <tr style=\"text-align: right;\">\n",
       "      <th></th>\n",
       "      <th></th>\n",
       "      <th>0</th>\n",
       "    </tr>\n",
       "    <tr>\n",
       "      <th>doc_id</th>\n",
       "      <th>token_id</th>\n",
       "      <th></th>\n",
       "    </tr>\n",
       "  </thead>\n",
       "  <tbody>\n",
       "    <tr>\n",
       "      <th rowspan=\"5\" valign=\"top\">1</th>\n",
       "      <th>3188</th>\n",
       "      <td>12</td>\n",
       "    </tr>\n",
       "    <tr>\n",
       "      <th>12831</th>\n",
       "      <td>731</td>\n",
       "    </tr>\n",
       "    <tr>\n",
       "      <th>12192</th>\n",
       "      <td>5</td>\n",
       "    </tr>\n",
       "    <tr>\n",
       "      <th>15534</th>\n",
       "      <td>160</td>\n",
       "    </tr>\n",
       "    <tr>\n",
       "      <th>5406</th>\n",
       "      <td>1</td>\n",
       "    </tr>\n",
       "  </tbody>\n",
       "</table>\n",
       "</div>"
      ],
      "text/plain": [
       "                   0\n",
       "doc_id token_id     \n",
       "1      3188       12\n",
       "       12831     731\n",
       "       12192       5\n",
       "       15534     160\n",
       "       5406        1"
      ]
     },
     "execution_count": 8,
     "metadata": {},
     "output_type": "execute_result"
    }
   ],
   "source": [
    "sparse_bow[:5]"
   ]
  },
  {
   "cell_type": "markdown",
   "metadata": {},
   "source": [
    "## Topic Modeling with Gensim"
   ]
  },
  {
   "cell_type": "markdown",
   "metadata": {},
   "source": [
    "##### Saving Sparse BOW"
   ]
  },
  {
   "cell_type": "code",
   "execution_count": 9,
   "metadata": {
    "collapsed": true
   },
   "outputs": [],
   "source": [
    "pre.save_sparse_bow(sparse_bow, \"gensim_txt\")"
   ]
  },
  {
   "cell_type": "markdown",
   "metadata": {},
   "source": [
    "#### Import Market Matrix"
   ]
  },
  {
   "cell_type": "code",
   "execution_count": 10,
   "metadata": {
    "collapsed": true
   },
   "outputs": [],
   "source": [
    "from gensim.models import LdaModel\n",
    "from gensim.corpora import MmCorpus"
   ]
  },
  {
   "cell_type": "code",
   "execution_count": 11,
   "metadata": {
    "collapsed": true
   },
   "outputs": [],
   "source": [
    "mm = MmCorpus(\"gensim_txt.mm\")"
   ]
  },
  {
   "cell_type": "code",
   "execution_count": 12,
   "metadata": {
    "collapsed": true
   },
   "outputs": [],
   "source": [
    "corpus = MmCorpus('gensim_txt.mm')"
   ]
  },
  {
   "cell_type": "code",
   "execution_count": 13,
   "metadata": {
    "collapsed": true
   },
   "outputs": [],
   "source": [
    "doc2id = {value : key for key, value in doc_ids.items()}\n",
    "type2id = {value : key for key, value in id_types.items()}"
   ]
  },
  {
   "cell_type": "markdown",
   "metadata": {},
   "source": [
    "##### Remove Features"
   ]
  },
  {
   "cell_type": "markdown",
   "metadata": {},
   "source": [
    "type2id = {value : key for key, value in id_types.items()}\n",
    "sparse_bow_collapsed = sparse_bow.groupby(sparse_bow.index.get_level_values('token_id')).sum()"
   ]
  },
  {
   "cell_type": "markdown",
   "metadata": {},
   "source": [
    "sparse_bow_hapax = sparse_bow_collapsed.loc[sparse_bow_collapsed[0] == 1]\n",
    "hapax = [type2id[key] for key in sparse_bow_hapax.index.get_level_values('token_id')]"
   ]
  },
  {
   "cell_type": "markdown",
   "metadata": {},
   "source": [
    "len(hapax)"
   ]
  },
  {
   "cell_type": "code",
   "execution_count": 14,
   "metadata": {
    "collapsed": true
   },
   "outputs": [],
   "source": [
    "import os.path\n",
    "basepath = os.path.abspath('.')\n",
    "\n",
    "with open(os.path.join(basepath, \"tutorial_supplementals\", \"stopwords\", \"en.txt\"), 'r', encoding = 'utf-8') as f: \n",
    "    stopword_list = f.read().split('\\n')\n",
    "    \n",
    "stopword_list = set(stopword_list)"
   ]
  },
  {
   "cell_type": "code",
   "execution_count": 15,
   "metadata": {
    "collapsed": true
   },
   "outputs": [],
   "source": [
    "hapax_from_remove = pre.find_hapax(sparse_bow, id_types)\n",
    "stopwords_from_remove = pre.find_stopwords(sparse_bow, id_types, mfw=75)\n",
    "\n",
    "#features_to_be_removed = set(hapax_from_remove + stopwords_from_remove)\n",
    "features_to_be_removed = stopwords_from_remove\n",
    "\n",
    "sparse_bow_short = pre.remove_features(sparse_bow, id_types, features_to_be_removed)"
   ]
  },
  {
   "cell_type": "code",
   "execution_count": 16,
   "metadata": {},
   "outputs": [
    {
     "data": {
      "text/plain": [
       "75"
      ]
     },
     "execution_count": 16,
     "metadata": {},
     "output_type": "execute_result"
    }
   ],
   "source": [
    "len(features_to_be_removed)"
   ]
  },
  {
   "cell_type": "code",
   "execution_count": 17,
   "metadata": {
    "collapsed": true
   },
   "outputs": [],
   "source": [
    "pre.save_sparse_bow(sparse_bow_short, \"gensim_txt\")"
   ]
  },
  {
   "cell_type": "code",
   "execution_count": 18,
   "metadata": {
    "collapsed": true
   },
   "outputs": [],
   "source": [
    "mm = MmCorpus(\"gensim_txt.mm\")"
   ]
  },
  {
   "cell_type": "markdown",
   "metadata": {},
   "source": [
    "#### Convert sparse_bow to list of (doc, tokens) tuples (like doc2bow)"
   ]
  },
  {
   "cell_type": "code",
   "execution_count": 19,
   "metadata": {
    "collapsed": true
   },
   "outputs": [],
   "source": [
    "doc2bow_list = []\n",
    "\n",
    "for doc in sparse_bow_short.index.groupby(sparse_bow_short.index.get_level_values('doc_id')):\n",
    "    temp = [(token, count) for token, count in zip(sparse_bow_short.loc[doc].index, sparse_bow_short.loc[doc][0])]\n",
    "    doc2bow_list.append(temp)"
   ]
  },
  {
   "cell_type": "code",
   "execution_count": 20,
   "metadata": {},
   "outputs": [
    {
     "data": {
      "text/plain": [
       "17"
      ]
     },
     "execution_count": 20,
     "metadata": {},
     "output_type": "execute_result"
    }
   ],
   "source": [
    "len(doc2bow_list)"
   ]
  },
  {
   "cell_type": "code",
   "execution_count": 21,
   "metadata": {
    "collapsed": true
   },
   "outputs": [],
   "source": [
    "model = LdaModel(corpus=mm, id2word=type2id, num_topics=20, passes = 10, iterations = 20)"
   ]
  },
  {
   "cell_type": "code",
   "execution_count": 22,
   "metadata": {},
   "outputs": [
    {
     "data": {
      "text/plain": [
       "[(0, 0.046786194719125609),\n",
       " (1, 0.24408169162788992),\n",
       " (3, 0.15087843753015243),\n",
       " (7, 0.086074831710968247),\n",
       " (11, 0.16972027629479935),\n",
       " (12, 0.017199495561963457),\n",
       " (13, 0.060820147277691437),\n",
       " (15, 0.19021187209861942),\n",
       " (18, 0.017397239170707832)]"
      ]
     },
     "execution_count": 22,
     "metadata": {},
     "output_type": "execute_result"
    }
   ],
   "source": [
    "model.get_document_topics(doc2bow_list[1])"
   ]
  },
  {
   "cell_type": "code",
   "execution_count": 23,
   "metadata": {},
   "outputs": [
    {
     "data": {
      "text/plain": [
       "['abject',\n",
       " 'analogous',\n",
       " 'adamantine',\n",
       " 'sinner',\n",
       " 'watkins',\n",
       " 'hare',\n",
       " 'tumultuous',\n",
       " 'larch',\n",
       " 'truck',\n",
       " 'linking']"
      ]
     },
     "execution_count": 23,
     "metadata": {},
     "output_type": "execute_result"
    }
   ],
   "source": [
    "#Anzeige der keywords für topic n\n",
    "n = 1\n",
    "topic_nr_x = model.get_topic_terms(n)\n",
    "\n",
    "topicTerms = [type2id[i[0]] for i in topic_nr_x]\n",
    "topicTerms"
   ]
  },
  {
   "cell_type": "code",
   "execution_count": 24,
   "metadata": {},
   "outputs": [
    {
     "data": {
      "text/html": [
       "<div>\n",
       "<table border=\"1\" class=\"dataframe\">\n",
       "  <thead>\n",
       "    <tr style=\"text-align: right;\">\n",
       "      <th></th>\n",
       "      <th>0</th>\n",
       "      <th>1</th>\n",
       "      <th>2</th>\n",
       "      <th>3</th>\n",
       "      <th>4</th>\n",
       "      <th>5</th>\n",
       "      <th>6</th>\n",
       "      <th>7</th>\n",
       "      <th>8</th>\n",
       "      <th>9</th>\n",
       "    </tr>\n",
       "  </thead>\n",
       "  <tbody>\n",
       "    <tr>\n",
       "      <th>0</th>\n",
       "      <td>down</td>\n",
       "      <td>fixtures</td>\n",
       "      <td>cent</td>\n",
       "      <td>romeo's</td>\n",
       "      <td>labyrinth</td>\n",
       "      <td>downstairs</td>\n",
       "      <td>in_equability</td>\n",
       "      <td>horseman</td>\n",
       "      <td>one-story</td>\n",
       "      <td>longitude</td>\n",
       "    </tr>\n",
       "    <tr>\n",
       "      <th>1</th>\n",
       "      <td>abject</td>\n",
       "      <td>analogous</td>\n",
       "      <td>adamantine</td>\n",
       "      <td>sinner</td>\n",
       "      <td>watkins</td>\n",
       "      <td>hare</td>\n",
       "      <td>tumultuous</td>\n",
       "      <td>larch</td>\n",
       "      <td>truck</td>\n",
       "      <td>linking</td>\n",
       "    </tr>\n",
       "    <tr>\n",
       "      <th>2</th>\n",
       "      <td>vistas</td>\n",
       "      <td>glorious</td>\n",
       "      <td>adorned</td>\n",
       "      <td>coolly</td>\n",
       "      <td>mortar-less</td>\n",
       "      <td>sternenschicht</td>\n",
       "      <td>consisted</td>\n",
       "      <td>saucer</td>\n",
       "      <td>washoe</td>\n",
       "      <td>eleven</td>\n",
       "    </tr>\n",
       "    <tr>\n",
       "      <th>3</th>\n",
       "      <td>coolly</td>\n",
       "      <td>biasing</td>\n",
       "      <td>disturbingly</td>\n",
       "      <td>surprises</td>\n",
       "      <td>drawer</td>\n",
       "      <td>assemblages</td>\n",
       "      <td>hear</td>\n",
       "      <td>dejected</td>\n",
       "      <td>zoology</td>\n",
       "      <td>population</td>\n",
       "    </tr>\n",
       "    <tr>\n",
       "      <th>4</th>\n",
       "      <td>hare</td>\n",
       "      <td>favorable</td>\n",
       "      <td>belgian</td>\n",
       "      <td>sinner</td>\n",
       "      <td>surprises</td>\n",
       "      <td>in_equability</td>\n",
       "      <td>establishment</td>\n",
       "      <td>mischievous</td>\n",
       "      <td>tumultuous</td>\n",
       "      <td>anecdote</td>\n",
       "    </tr>\n",
       "    <tr>\n",
       "      <th>5</th>\n",
       "      <td>mischievous</td>\n",
       "      <td>lessons</td>\n",
       "      <td>abject</td>\n",
       "      <td>anecdote</td>\n",
       "      <td>analogous</td>\n",
       "      <td>larch</td>\n",
       "      <td>population</td>\n",
       "      <td>strangler</td>\n",
       "      <td>watkins</td>\n",
       "      <td>favorable</td>\n",
       "    </tr>\n",
       "    <tr>\n",
       "      <th>6</th>\n",
       "      <td>disgracefully</td>\n",
       "      <td>hardiest</td>\n",
       "      <td>salvator</td>\n",
       "      <td>instructive</td>\n",
       "      <td>breaks</td>\n",
       "      <td>topographical</td>\n",
       "      <td>analogous</td>\n",
       "      <td>there</td>\n",
       "      <td>wir</td>\n",
       "      <td>hike</td>\n",
       "    </tr>\n",
       "    <tr>\n",
       "      <th>7</th>\n",
       "      <td>queerness</td>\n",
       "      <td>glorious</td>\n",
       "      <td>whoo</td>\n",
       "      <td>mischievous</td>\n",
       "      <td>prosaic</td>\n",
       "      <td>tunk-a</td>\n",
       "      <td>manor</td>\n",
       "      <td>anecdote</td>\n",
       "      <td>miskatonic's</td>\n",
       "      <td>in_equability</td>\n",
       "    </tr>\n",
       "    <tr>\n",
       "      <th>8</th>\n",
       "      <td>glorious</td>\n",
       "      <td>drawer</td>\n",
       "      <td>in_equability</td>\n",
       "      <td>coolly</td>\n",
       "      <td>favorable</td>\n",
       "      <td>blue-bearded</td>\n",
       "      <td>assemblages</td>\n",
       "      <td>hare</td>\n",
       "      <td>linking</td>\n",
       "      <td>powerful</td>\n",
       "    </tr>\n",
       "    <tr>\n",
       "      <th>9</th>\n",
       "      <td>analogous</td>\n",
       "      <td>lessons</td>\n",
       "      <td>truck</td>\n",
       "      <td>linking</td>\n",
       "      <td>abhorred</td>\n",
       "      <td>tumultuous</td>\n",
       "      <td>swings</td>\n",
       "      <td>two</td>\n",
       "      <td>channel</td>\n",
       "      <td>comprises</td>\n",
       "    </tr>\n",
       "    <tr>\n",
       "      <th>10</th>\n",
       "      <td>atlantis</td>\n",
       "      <td>sinner</td>\n",
       "      <td>mischievous</td>\n",
       "      <td>strangler</td>\n",
       "      <td>favorable</td>\n",
       "      <td>in_equability</td>\n",
       "      <td>smellest</td>\n",
       "      <td>establishment</td>\n",
       "      <td>anecdote</td>\n",
       "      <td>glorious</td>\n",
       "    </tr>\n",
       "    <tr>\n",
       "      <th>11</th>\n",
       "      <td>coolly</td>\n",
       "      <td>mortar-less</td>\n",
       "      <td>disturbingly</td>\n",
       "      <td>revenues</td>\n",
       "      <td>stop</td>\n",
       "      <td>snoring</td>\n",
       "      <td>linking</td>\n",
       "      <td>boot-house</td>\n",
       "      <td>corked</td>\n",
       "      <td>drawer</td>\n",
       "    </tr>\n",
       "    <tr>\n",
       "      <th>12</th>\n",
       "      <td>flotilla</td>\n",
       "      <td>waked</td>\n",
       "      <td>settle</td>\n",
       "      <td>daughter's</td>\n",
       "      <td>surprises</td>\n",
       "      <td>parents</td>\n",
       "      <td>tunk-a</td>\n",
       "      <td>illumined</td>\n",
       "      <td>unnoticed</td>\n",
       "      <td>melon-bed</td>\n",
       "    </tr>\n",
       "    <tr>\n",
       "      <th>13</th>\n",
       "      <td>atlantis</td>\n",
       "      <td>awhile</td>\n",
       "      <td>favorable</td>\n",
       "      <td>smellest</td>\n",
       "      <td>mischievous</td>\n",
       "      <td>yellowstone</td>\n",
       "      <td>sphereicity</td>\n",
       "      <td>indirect</td>\n",
       "      <td>swings</td>\n",
       "      <td>strangler</td>\n",
       "    </tr>\n",
       "    <tr>\n",
       "      <th>14</th>\n",
       "      <td>deftly</td>\n",
       "      <td>schelmen</td>\n",
       "      <td>dissuading</td>\n",
       "      <td>nemedian</td>\n",
       "      <td>illimitation</td>\n",
       "      <td>collect</td>\n",
       "      <td>scratch</td>\n",
       "      <td>beefy</td>\n",
       "      <td>shove</td>\n",
       "      <td>acceptance</td>\n",
       "    </tr>\n",
       "    <tr>\n",
       "      <th>15</th>\n",
       "      <td>strangler</td>\n",
       "      <td>belgian</td>\n",
       "      <td>anecdote</td>\n",
       "      <td>favorable</td>\n",
       "      <td>disturbingly</td>\n",
       "      <td>establishment</td>\n",
       "      <td>glorious</td>\n",
       "      <td>throned</td>\n",
       "      <td>ensued</td>\n",
       "      <td>zoology</td>\n",
       "    </tr>\n",
       "    <tr>\n",
       "      <th>16</th>\n",
       "      <td>fiendishness</td>\n",
       "      <td>careful</td>\n",
       "      <td>alarm</td>\n",
       "      <td>ssso</td>\n",
       "      <td>harangue</td>\n",
       "      <td>downstairs</td>\n",
       "      <td>hare</td>\n",
       "      <td>pleistocene</td>\n",
       "      <td>visualized</td>\n",
       "      <td>establishment</td>\n",
       "    </tr>\n",
       "    <tr>\n",
       "      <th>17</th>\n",
       "      <td>spots</td>\n",
       "      <td>companions</td>\n",
       "      <td>cloud</td>\n",
       "      <td>diving</td>\n",
       "      <td>presupposes</td>\n",
       "      <td>enchanted</td>\n",
       "      <td>jean</td>\n",
       "      <td>persistence</td>\n",
       "      <td>creeps</td>\n",
       "      <td>magistrates</td>\n",
       "    </tr>\n",
       "    <tr>\n",
       "      <th>18</th>\n",
       "      <td>rochester</td>\n",
       "      <td>trouser</td>\n",
       "      <td>excellently</td>\n",
       "      <td>the-wisps</td>\n",
       "      <td>coolly</td>\n",
       "      <td>watkins</td>\n",
       "      <td>suffer</td>\n",
       "      <td>mortar-less</td>\n",
       "      <td>leaders</td>\n",
       "      <td>mischievous</td>\n",
       "    </tr>\n",
       "    <tr>\n",
       "      <th>19</th>\n",
       "      <td>disturbingly</td>\n",
       "      <td>mischievous</td>\n",
       "      <td>tumultuous</td>\n",
       "      <td>strangler</td>\n",
       "      <td>favorable</td>\n",
       "      <td>belgian</td>\n",
       "      <td>sinner</td>\n",
       "      <td>channel</td>\n",
       "      <td>in_equability</td>\n",
       "      <td>establishment</td>\n",
       "    </tr>\n",
       "  </tbody>\n",
       "</table>\n",
       "</div>"
      ],
      "text/plain": [
       "                0            1              2            3             4  \\\n",
       "0            down     fixtures           cent      romeo's     labyrinth   \n",
       "1          abject    analogous     adamantine       sinner       watkins   \n",
       "2          vistas     glorious        adorned       coolly   mortar-less   \n",
       "3          coolly      biasing   disturbingly    surprises        drawer   \n",
       "4            hare    favorable        belgian       sinner     surprises   \n",
       "5     mischievous      lessons         abject     anecdote     analogous   \n",
       "6   disgracefully     hardiest       salvator  instructive        breaks   \n",
       "7       queerness     glorious           whoo  mischievous       prosaic   \n",
       "8        glorious       drawer  in_equability       coolly     favorable   \n",
       "9       analogous      lessons          truck      linking      abhorred   \n",
       "10       atlantis       sinner    mischievous    strangler     favorable   \n",
       "11         coolly  mortar-less   disturbingly     revenues          stop   \n",
       "12       flotilla        waked         settle   daughter's     surprises   \n",
       "13       atlantis       awhile      favorable     smellest   mischievous   \n",
       "14         deftly     schelmen     dissuading     nemedian  illimitation   \n",
       "15      strangler      belgian       anecdote    favorable  disturbingly   \n",
       "16   fiendishness      careful          alarm         ssso      harangue   \n",
       "17          spots   companions          cloud       diving   presupposes   \n",
       "18      rochester      trouser    excellently    the-wisps        coolly   \n",
       "19   disturbingly  mischievous     tumultuous    strangler     favorable   \n",
       "\n",
       "                 5              6              7              8              9  \n",
       "0       downstairs  in_equability       horseman      one-story      longitude  \n",
       "1             hare     tumultuous          larch          truck        linking  \n",
       "2   sternenschicht      consisted         saucer         washoe         eleven  \n",
       "3      assemblages           hear       dejected        zoology     population  \n",
       "4    in_equability  establishment    mischievous     tumultuous       anecdote  \n",
       "5            larch     population      strangler        watkins      favorable  \n",
       "6    topographical      analogous          there            wir           hike  \n",
       "7           tunk-a          manor       anecdote   miskatonic's  in_equability  \n",
       "8     blue-bearded    assemblages           hare        linking       powerful  \n",
       "9       tumultuous         swings            two        channel      comprises  \n",
       "10   in_equability       smellest  establishment       anecdote       glorious  \n",
       "11         snoring        linking     boot-house         corked         drawer  \n",
       "12         parents         tunk-a      illumined      unnoticed      melon-bed  \n",
       "13     yellowstone    sphereicity       indirect         swings      strangler  \n",
       "14         collect        scratch          beefy          shove     acceptance  \n",
       "15   establishment       glorious        throned         ensued        zoology  \n",
       "16      downstairs           hare    pleistocene     visualized  establishment  \n",
       "17       enchanted           jean    persistence         creeps    magistrates  \n",
       "18         watkins         suffer    mortar-less        leaders    mischievous  \n",
       "19         belgian         sinner        channel  in_equability  establishment  "
      ]
     },
     "execution_count": 24,
     "metadata": {},
     "output_type": "execute_result"
    }
   ],
   "source": [
    "#Topic probabilities - zum Testen der Funktion\n",
    "topics = model.show_topics(num_topics = model.num_topics, formatted=False)\n",
    "keywords = []\n",
    "\n",
    "num_topics = model.num_topics\n",
    "topics_df = pre.pd.DataFrame(index = range(num_topics), columns= range(10))\n",
    "\n",
    "for topic, values in topics:\n",
    "    keyword = [value[0] for value in values]\n",
    "    topics_df.loc[topic] = keyword\n",
    "\n",
    "topics_df"
   ]
  },
  {
   "cell_type": "code",
   "execution_count": 25,
   "metadata": {},
   "outputs": [
    {
     "data": {
      "text/html": [
       "<div>\n",
       "<table border=\"1\" class=\"dataframe\">\n",
       "  <thead>\n",
       "    <tr style=\"text-align: right;\">\n",
       "      <th></th>\n",
       "      <th>0</th>\n",
       "      <th>1</th>\n",
       "      <th>2</th>\n",
       "      <th>3</th>\n",
       "      <th>4</th>\n",
       "      <th>5</th>\n",
       "      <th>6</th>\n",
       "      <th>7</th>\n",
       "      <th>8</th>\n",
       "      <th>9</th>\n",
       "    </tr>\n",
       "  </thead>\n",
       "  <tbody>\n",
       "    <tr>\n",
       "      <th>0</th>\n",
       "      <td>down</td>\n",
       "      <td>fixtures</td>\n",
       "      <td>cent</td>\n",
       "      <td>romeo's</td>\n",
       "      <td>labyrinth</td>\n",
       "      <td>downstairs</td>\n",
       "      <td>in_equability</td>\n",
       "      <td>horseman</td>\n",
       "      <td>one-story</td>\n",
       "      <td>longitude</td>\n",
       "    </tr>\n",
       "    <tr>\n",
       "      <th>1</th>\n",
       "      <td>abject</td>\n",
       "      <td>analogous</td>\n",
       "      <td>adamantine</td>\n",
       "      <td>sinner</td>\n",
       "      <td>watkins</td>\n",
       "      <td>hare</td>\n",
       "      <td>tumultuous</td>\n",
       "      <td>larch</td>\n",
       "      <td>truck</td>\n",
       "      <td>linking</td>\n",
       "    </tr>\n",
       "    <tr>\n",
       "      <th>2</th>\n",
       "      <td>vistas</td>\n",
       "      <td>glorious</td>\n",
       "      <td>adorned</td>\n",
       "      <td>coolly</td>\n",
       "      <td>mortar-less</td>\n",
       "      <td>sternenschicht</td>\n",
       "      <td>consisted</td>\n",
       "      <td>saucer</td>\n",
       "      <td>washoe</td>\n",
       "      <td>eleven</td>\n",
       "    </tr>\n",
       "    <tr>\n",
       "      <th>3</th>\n",
       "      <td>coolly</td>\n",
       "      <td>biasing</td>\n",
       "      <td>disturbingly</td>\n",
       "      <td>surprises</td>\n",
       "      <td>drawer</td>\n",
       "      <td>assemblages</td>\n",
       "      <td>hear</td>\n",
       "      <td>dejected</td>\n",
       "      <td>zoology</td>\n",
       "      <td>population</td>\n",
       "    </tr>\n",
       "    <tr>\n",
       "      <th>4</th>\n",
       "      <td>hare</td>\n",
       "      <td>favorable</td>\n",
       "      <td>belgian</td>\n",
       "      <td>sinner</td>\n",
       "      <td>surprises</td>\n",
       "      <td>in_equability</td>\n",
       "      <td>establishment</td>\n",
       "      <td>mischievous</td>\n",
       "      <td>tumultuous</td>\n",
       "      <td>anecdote</td>\n",
       "    </tr>\n",
       "    <tr>\n",
       "      <th>5</th>\n",
       "      <td>mischievous</td>\n",
       "      <td>lessons</td>\n",
       "      <td>abject</td>\n",
       "      <td>anecdote</td>\n",
       "      <td>analogous</td>\n",
       "      <td>larch</td>\n",
       "      <td>population</td>\n",
       "      <td>strangler</td>\n",
       "      <td>watkins</td>\n",
       "      <td>favorable</td>\n",
       "    </tr>\n",
       "    <tr>\n",
       "      <th>6</th>\n",
       "      <td>disgracefully</td>\n",
       "      <td>hardiest</td>\n",
       "      <td>salvator</td>\n",
       "      <td>instructive</td>\n",
       "      <td>breaks</td>\n",
       "      <td>topographical</td>\n",
       "      <td>analogous</td>\n",
       "      <td>there</td>\n",
       "      <td>wir</td>\n",
       "      <td>hike</td>\n",
       "    </tr>\n",
       "    <tr>\n",
       "      <th>7</th>\n",
       "      <td>queerness</td>\n",
       "      <td>glorious</td>\n",
       "      <td>whoo</td>\n",
       "      <td>mischievous</td>\n",
       "      <td>prosaic</td>\n",
       "      <td>tunk-a</td>\n",
       "      <td>manor</td>\n",
       "      <td>anecdote</td>\n",
       "      <td>miskatonic's</td>\n",
       "      <td>in_equability</td>\n",
       "    </tr>\n",
       "    <tr>\n",
       "      <th>8</th>\n",
       "      <td>glorious</td>\n",
       "      <td>drawer</td>\n",
       "      <td>in_equability</td>\n",
       "      <td>coolly</td>\n",
       "      <td>favorable</td>\n",
       "      <td>blue-bearded</td>\n",
       "      <td>assemblages</td>\n",
       "      <td>hare</td>\n",
       "      <td>linking</td>\n",
       "      <td>powerful</td>\n",
       "    </tr>\n",
       "    <tr>\n",
       "      <th>9</th>\n",
       "      <td>analogous</td>\n",
       "      <td>lessons</td>\n",
       "      <td>truck</td>\n",
       "      <td>linking</td>\n",
       "      <td>abhorred</td>\n",
       "      <td>tumultuous</td>\n",
       "      <td>swings</td>\n",
       "      <td>two</td>\n",
       "      <td>channel</td>\n",
       "      <td>comprises</td>\n",
       "    </tr>\n",
       "    <tr>\n",
       "      <th>10</th>\n",
       "      <td>atlantis</td>\n",
       "      <td>sinner</td>\n",
       "      <td>mischievous</td>\n",
       "      <td>strangler</td>\n",
       "      <td>favorable</td>\n",
       "      <td>in_equability</td>\n",
       "      <td>smellest</td>\n",
       "      <td>establishment</td>\n",
       "      <td>anecdote</td>\n",
       "      <td>glorious</td>\n",
       "    </tr>\n",
       "    <tr>\n",
       "      <th>11</th>\n",
       "      <td>coolly</td>\n",
       "      <td>mortar-less</td>\n",
       "      <td>disturbingly</td>\n",
       "      <td>revenues</td>\n",
       "      <td>stop</td>\n",
       "      <td>snoring</td>\n",
       "      <td>linking</td>\n",
       "      <td>boot-house</td>\n",
       "      <td>corked</td>\n",
       "      <td>drawer</td>\n",
       "    </tr>\n",
       "    <tr>\n",
       "      <th>12</th>\n",
       "      <td>flotilla</td>\n",
       "      <td>waked</td>\n",
       "      <td>settle</td>\n",
       "      <td>daughter's</td>\n",
       "      <td>surprises</td>\n",
       "      <td>parents</td>\n",
       "      <td>tunk-a</td>\n",
       "      <td>illumined</td>\n",
       "      <td>unnoticed</td>\n",
       "      <td>melon-bed</td>\n",
       "    </tr>\n",
       "    <tr>\n",
       "      <th>13</th>\n",
       "      <td>atlantis</td>\n",
       "      <td>awhile</td>\n",
       "      <td>favorable</td>\n",
       "      <td>smellest</td>\n",
       "      <td>mischievous</td>\n",
       "      <td>yellowstone</td>\n",
       "      <td>sphereicity</td>\n",
       "      <td>indirect</td>\n",
       "      <td>swings</td>\n",
       "      <td>strangler</td>\n",
       "    </tr>\n",
       "    <tr>\n",
       "      <th>14</th>\n",
       "      <td>deftly</td>\n",
       "      <td>schelmen</td>\n",
       "      <td>dissuading</td>\n",
       "      <td>nemedian</td>\n",
       "      <td>illimitation</td>\n",
       "      <td>collect</td>\n",
       "      <td>scratch</td>\n",
       "      <td>beefy</td>\n",
       "      <td>shove</td>\n",
       "      <td>acceptance</td>\n",
       "    </tr>\n",
       "    <tr>\n",
       "      <th>15</th>\n",
       "      <td>strangler</td>\n",
       "      <td>belgian</td>\n",
       "      <td>anecdote</td>\n",
       "      <td>favorable</td>\n",
       "      <td>disturbingly</td>\n",
       "      <td>establishment</td>\n",
       "      <td>glorious</td>\n",
       "      <td>throned</td>\n",
       "      <td>ensued</td>\n",
       "      <td>zoology</td>\n",
       "    </tr>\n",
       "    <tr>\n",
       "      <th>16</th>\n",
       "      <td>fiendishness</td>\n",
       "      <td>careful</td>\n",
       "      <td>alarm</td>\n",
       "      <td>ssso</td>\n",
       "      <td>harangue</td>\n",
       "      <td>downstairs</td>\n",
       "      <td>hare</td>\n",
       "      <td>pleistocene</td>\n",
       "      <td>visualized</td>\n",
       "      <td>establishment</td>\n",
       "    </tr>\n",
       "    <tr>\n",
       "      <th>17</th>\n",
       "      <td>spots</td>\n",
       "      <td>companions</td>\n",
       "      <td>cloud</td>\n",
       "      <td>diving</td>\n",
       "      <td>presupposes</td>\n",
       "      <td>enchanted</td>\n",
       "      <td>jean</td>\n",
       "      <td>persistence</td>\n",
       "      <td>creeps</td>\n",
       "      <td>magistrates</td>\n",
       "    </tr>\n",
       "    <tr>\n",
       "      <th>18</th>\n",
       "      <td>rochester</td>\n",
       "      <td>trouser</td>\n",
       "      <td>excellently</td>\n",
       "      <td>the-wisps</td>\n",
       "      <td>coolly</td>\n",
       "      <td>watkins</td>\n",
       "      <td>suffer</td>\n",
       "      <td>mortar-less</td>\n",
       "      <td>leaders</td>\n",
       "      <td>mischievous</td>\n",
       "    </tr>\n",
       "    <tr>\n",
       "      <th>19</th>\n",
       "      <td>disturbingly</td>\n",
       "      <td>mischievous</td>\n",
       "      <td>tumultuous</td>\n",
       "      <td>strangler</td>\n",
       "      <td>favorable</td>\n",
       "      <td>belgian</td>\n",
       "      <td>sinner</td>\n",
       "      <td>channel</td>\n",
       "      <td>in_equability</td>\n",
       "      <td>establishment</td>\n",
       "    </tr>\n",
       "  </tbody>\n",
       "</table>\n",
       "</div>"
      ],
      "text/plain": [
       "                0            1              2            3             4  \\\n",
       "0            down     fixtures           cent      romeo's     labyrinth   \n",
       "1          abject    analogous     adamantine       sinner       watkins   \n",
       "2          vistas     glorious        adorned       coolly   mortar-less   \n",
       "3          coolly      biasing   disturbingly    surprises        drawer   \n",
       "4            hare    favorable        belgian       sinner     surprises   \n",
       "5     mischievous      lessons         abject     anecdote     analogous   \n",
       "6   disgracefully     hardiest       salvator  instructive        breaks   \n",
       "7       queerness     glorious           whoo  mischievous       prosaic   \n",
       "8        glorious       drawer  in_equability       coolly     favorable   \n",
       "9       analogous      lessons          truck      linking      abhorred   \n",
       "10       atlantis       sinner    mischievous    strangler     favorable   \n",
       "11         coolly  mortar-less   disturbingly     revenues          stop   \n",
       "12       flotilla        waked         settle   daughter's     surprises   \n",
       "13       atlantis       awhile      favorable     smellest   mischievous   \n",
       "14         deftly     schelmen     dissuading     nemedian  illimitation   \n",
       "15      strangler      belgian       anecdote    favorable  disturbingly   \n",
       "16   fiendishness      careful          alarm         ssso      harangue   \n",
       "17          spots   companions          cloud       diving   presupposes   \n",
       "18      rochester      trouser    excellently    the-wisps        coolly   \n",
       "19   disturbingly  mischievous     tumultuous    strangler     favorable   \n",
       "\n",
       "                 5              6              7              8              9  \n",
       "0       downstairs  in_equability       horseman      one-story      longitude  \n",
       "1             hare     tumultuous          larch          truck        linking  \n",
       "2   sternenschicht      consisted         saucer         washoe         eleven  \n",
       "3      assemblages           hear       dejected        zoology     population  \n",
       "4    in_equability  establishment    mischievous     tumultuous       anecdote  \n",
       "5            larch     population      strangler        watkins      favorable  \n",
       "6    topographical      analogous          there            wir           hike  \n",
       "7           tunk-a          manor       anecdote   miskatonic's  in_equability  \n",
       "8     blue-bearded    assemblages           hare        linking       powerful  \n",
       "9       tumultuous         swings            two        channel      comprises  \n",
       "10   in_equability       smellest  establishment       anecdote       glorious  \n",
       "11         snoring        linking     boot-house         corked         drawer  \n",
       "12         parents         tunk-a      illumined      unnoticed      melon-bed  \n",
       "13     yellowstone    sphereicity       indirect         swings      strangler  \n",
       "14         collect        scratch          beefy          shove     acceptance  \n",
       "15   establishment       glorious        throned         ensued        zoology  \n",
       "16      downstairs           hare    pleistocene     visualized  establishment  \n",
       "17       enchanted           jean    persistence         creeps    magistrates  \n",
       "18         watkins         suffer    mortar-less        leaders    mischievous  \n",
       "19         belgian         sinner        channel  in_equability  establishment  "
      ]
     },
     "execution_count": 25,
     "metadata": {},
     "output_type": "execute_result"
    }
   ],
   "source": [
    "topics_df = pre.gensim2dataframe(model)\n",
    "topics_df"
   ]
  },
  {
   "cell_type": "code",
   "execution_count": 26,
   "metadata": {},
   "outputs": [
    {
     "data": {
      "text/html": [
       "<div>\n",
       "<table border=\"1\" class=\"dataframe\">\n",
       "  <thead>\n",
       "    <tr style=\"text-align: right;\">\n",
       "      <th></th>\n",
       "      <th>0</th>\n",
       "      <th>1</th>\n",
       "      <th>2</th>\n",
       "      <th>3</th>\n",
       "      <th>4</th>\n",
       "      <th>5</th>\n",
       "      <th>6</th>\n",
       "      <th>7</th>\n",
       "      <th>8</th>\n",
       "      <th>9</th>\n",
       "      <th>10</th>\n",
       "      <th>11</th>\n",
       "      <th>12</th>\n",
       "      <th>13</th>\n",
       "      <th>14</th>\n",
       "      <th>15</th>\n",
       "      <th>16</th>\n",
       "      <th>17</th>\n",
       "      <th>18</th>\n",
       "      <th>19</th>\n",
       "    </tr>\n",
       "  </thead>\n",
       "  <tbody>\n",
       "    <tr>\n",
       "      <th>0</th>\n",
       "      <td>down</td>\n",
       "      <td>abject</td>\n",
       "      <td>vistas</td>\n",
       "      <td>coolly</td>\n",
       "      <td>hare</td>\n",
       "      <td>mischievous</td>\n",
       "      <td>disgracefully</td>\n",
       "      <td>queerness</td>\n",
       "      <td>glorious</td>\n",
       "      <td>analogous</td>\n",
       "      <td>atlantis</td>\n",
       "      <td>coolly</td>\n",
       "      <td>flotilla</td>\n",
       "      <td>atlantis</td>\n",
       "      <td>deftly</td>\n",
       "      <td>strangler</td>\n",
       "      <td>fiendishness</td>\n",
       "      <td>spots</td>\n",
       "      <td>rochester</td>\n",
       "      <td>disturbingly</td>\n",
       "    </tr>\n",
       "    <tr>\n",
       "      <th>1</th>\n",
       "      <td>fixtures</td>\n",
       "      <td>analogous</td>\n",
       "      <td>glorious</td>\n",
       "      <td>biasing</td>\n",
       "      <td>favorable</td>\n",
       "      <td>lessons</td>\n",
       "      <td>hardiest</td>\n",
       "      <td>glorious</td>\n",
       "      <td>drawer</td>\n",
       "      <td>lessons</td>\n",
       "      <td>sinner</td>\n",
       "      <td>mortar-less</td>\n",
       "      <td>waked</td>\n",
       "      <td>awhile</td>\n",
       "      <td>schelmen</td>\n",
       "      <td>belgian</td>\n",
       "      <td>careful</td>\n",
       "      <td>companions</td>\n",
       "      <td>trouser</td>\n",
       "      <td>mischievous</td>\n",
       "    </tr>\n",
       "    <tr>\n",
       "      <th>2</th>\n",
       "      <td>cent</td>\n",
       "      <td>adamantine</td>\n",
       "      <td>adorned</td>\n",
       "      <td>disturbingly</td>\n",
       "      <td>belgian</td>\n",
       "      <td>abject</td>\n",
       "      <td>salvator</td>\n",
       "      <td>whoo</td>\n",
       "      <td>in_equability</td>\n",
       "      <td>truck</td>\n",
       "      <td>mischievous</td>\n",
       "      <td>disturbingly</td>\n",
       "      <td>settle</td>\n",
       "      <td>favorable</td>\n",
       "      <td>dissuading</td>\n",
       "      <td>anecdote</td>\n",
       "      <td>alarm</td>\n",
       "      <td>cloud</td>\n",
       "      <td>excellently</td>\n",
       "      <td>tumultuous</td>\n",
       "    </tr>\n",
       "    <tr>\n",
       "      <th>3</th>\n",
       "      <td>romeo's</td>\n",
       "      <td>sinner</td>\n",
       "      <td>coolly</td>\n",
       "      <td>surprises</td>\n",
       "      <td>sinner</td>\n",
       "      <td>anecdote</td>\n",
       "      <td>instructive</td>\n",
       "      <td>mischievous</td>\n",
       "      <td>coolly</td>\n",
       "      <td>linking</td>\n",
       "      <td>strangler</td>\n",
       "      <td>revenues</td>\n",
       "      <td>daughter's</td>\n",
       "      <td>smellest</td>\n",
       "      <td>nemedian</td>\n",
       "      <td>favorable</td>\n",
       "      <td>ssso</td>\n",
       "      <td>diving</td>\n",
       "      <td>the-wisps</td>\n",
       "      <td>strangler</td>\n",
       "    </tr>\n",
       "    <tr>\n",
       "      <th>4</th>\n",
       "      <td>labyrinth</td>\n",
       "      <td>watkins</td>\n",
       "      <td>mortar-less</td>\n",
       "      <td>drawer</td>\n",
       "      <td>surprises</td>\n",
       "      <td>analogous</td>\n",
       "      <td>breaks</td>\n",
       "      <td>prosaic</td>\n",
       "      <td>favorable</td>\n",
       "      <td>abhorred</td>\n",
       "      <td>favorable</td>\n",
       "      <td>stop</td>\n",
       "      <td>surprises</td>\n",
       "      <td>mischievous</td>\n",
       "      <td>illimitation</td>\n",
       "      <td>disturbingly</td>\n",
       "      <td>harangue</td>\n",
       "      <td>presupposes</td>\n",
       "      <td>coolly</td>\n",
       "      <td>favorable</td>\n",
       "    </tr>\n",
       "    <tr>\n",
       "      <th>5</th>\n",
       "      <td>downstairs</td>\n",
       "      <td>hare</td>\n",
       "      <td>sternenschicht</td>\n",
       "      <td>assemblages</td>\n",
       "      <td>in_equability</td>\n",
       "      <td>larch</td>\n",
       "      <td>topographical</td>\n",
       "      <td>tunk-a</td>\n",
       "      <td>blue-bearded</td>\n",
       "      <td>tumultuous</td>\n",
       "      <td>in_equability</td>\n",
       "      <td>snoring</td>\n",
       "      <td>parents</td>\n",
       "      <td>yellowstone</td>\n",
       "      <td>collect</td>\n",
       "      <td>establishment</td>\n",
       "      <td>downstairs</td>\n",
       "      <td>enchanted</td>\n",
       "      <td>watkins</td>\n",
       "      <td>belgian</td>\n",
       "    </tr>\n",
       "    <tr>\n",
       "      <th>6</th>\n",
       "      <td>in_equability</td>\n",
       "      <td>tumultuous</td>\n",
       "      <td>consisted</td>\n",
       "      <td>hear</td>\n",
       "      <td>establishment</td>\n",
       "      <td>population</td>\n",
       "      <td>analogous</td>\n",
       "      <td>manor</td>\n",
       "      <td>assemblages</td>\n",
       "      <td>swings</td>\n",
       "      <td>smellest</td>\n",
       "      <td>linking</td>\n",
       "      <td>tunk-a</td>\n",
       "      <td>sphereicity</td>\n",
       "      <td>scratch</td>\n",
       "      <td>glorious</td>\n",
       "      <td>hare</td>\n",
       "      <td>jean</td>\n",
       "      <td>suffer</td>\n",
       "      <td>sinner</td>\n",
       "    </tr>\n",
       "    <tr>\n",
       "      <th>7</th>\n",
       "      <td>horseman</td>\n",
       "      <td>larch</td>\n",
       "      <td>saucer</td>\n",
       "      <td>dejected</td>\n",
       "      <td>mischievous</td>\n",
       "      <td>strangler</td>\n",
       "      <td>there</td>\n",
       "      <td>anecdote</td>\n",
       "      <td>hare</td>\n",
       "      <td>two</td>\n",
       "      <td>establishment</td>\n",
       "      <td>boot-house</td>\n",
       "      <td>illumined</td>\n",
       "      <td>indirect</td>\n",
       "      <td>beefy</td>\n",
       "      <td>throned</td>\n",
       "      <td>pleistocene</td>\n",
       "      <td>persistence</td>\n",
       "      <td>mortar-less</td>\n",
       "      <td>channel</td>\n",
       "    </tr>\n",
       "    <tr>\n",
       "      <th>8</th>\n",
       "      <td>one-story</td>\n",
       "      <td>truck</td>\n",
       "      <td>washoe</td>\n",
       "      <td>zoology</td>\n",
       "      <td>tumultuous</td>\n",
       "      <td>watkins</td>\n",
       "      <td>wir</td>\n",
       "      <td>miskatonic's</td>\n",
       "      <td>linking</td>\n",
       "      <td>channel</td>\n",
       "      <td>anecdote</td>\n",
       "      <td>corked</td>\n",
       "      <td>unnoticed</td>\n",
       "      <td>swings</td>\n",
       "      <td>shove</td>\n",
       "      <td>ensued</td>\n",
       "      <td>visualized</td>\n",
       "      <td>creeps</td>\n",
       "      <td>leaders</td>\n",
       "      <td>in_equability</td>\n",
       "    </tr>\n",
       "    <tr>\n",
       "      <th>9</th>\n",
       "      <td>longitude</td>\n",
       "      <td>linking</td>\n",
       "      <td>eleven</td>\n",
       "      <td>population</td>\n",
       "      <td>anecdote</td>\n",
       "      <td>favorable</td>\n",
       "      <td>hike</td>\n",
       "      <td>in_equability</td>\n",
       "      <td>powerful</td>\n",
       "      <td>comprises</td>\n",
       "      <td>glorious</td>\n",
       "      <td>drawer</td>\n",
       "      <td>melon-bed</td>\n",
       "      <td>strangler</td>\n",
       "      <td>acceptance</td>\n",
       "      <td>zoology</td>\n",
       "      <td>establishment</td>\n",
       "      <td>magistrates</td>\n",
       "      <td>mischievous</td>\n",
       "      <td>establishment</td>\n",
       "    </tr>\n",
       "  </tbody>\n",
       "</table>\n",
       "</div>"
      ],
      "text/plain": [
       "              0           1               2             3              4   \\\n",
       "0           down      abject          vistas        coolly           hare   \n",
       "1       fixtures   analogous        glorious       biasing      favorable   \n",
       "2           cent  adamantine         adorned  disturbingly        belgian   \n",
       "3        romeo's      sinner          coolly     surprises         sinner   \n",
       "4      labyrinth     watkins     mortar-less        drawer      surprises   \n",
       "5     downstairs        hare  sternenschicht   assemblages  in_equability   \n",
       "6  in_equability  tumultuous       consisted          hear  establishment   \n",
       "7       horseman       larch          saucer      dejected    mischievous   \n",
       "8      one-story       truck          washoe       zoology     tumultuous   \n",
       "9      longitude     linking          eleven    population       anecdote   \n",
       "\n",
       "            5              6              7              8           9   \\\n",
       "0  mischievous  disgracefully      queerness       glorious   analogous   \n",
       "1      lessons       hardiest       glorious         drawer     lessons   \n",
       "2       abject       salvator           whoo  in_equability       truck   \n",
       "3     anecdote    instructive    mischievous         coolly     linking   \n",
       "4    analogous         breaks        prosaic      favorable    abhorred   \n",
       "5        larch  topographical         tunk-a   blue-bearded  tumultuous   \n",
       "6   population      analogous          manor    assemblages      swings   \n",
       "7    strangler          there       anecdote           hare         two   \n",
       "8      watkins            wir   miskatonic's        linking     channel   \n",
       "9    favorable           hike  in_equability       powerful   comprises   \n",
       "\n",
       "              10            11          12           13            14  \\\n",
       "0       atlantis        coolly    flotilla     atlantis        deftly   \n",
       "1         sinner   mortar-less       waked       awhile      schelmen   \n",
       "2    mischievous  disturbingly      settle    favorable    dissuading   \n",
       "3      strangler      revenues  daughter's     smellest      nemedian   \n",
       "4      favorable          stop   surprises  mischievous  illimitation   \n",
       "5  in_equability       snoring     parents  yellowstone       collect   \n",
       "6       smellest       linking      tunk-a  sphereicity       scratch   \n",
       "7  establishment    boot-house   illumined     indirect         beefy   \n",
       "8       anecdote        corked   unnoticed       swings         shove   \n",
       "9       glorious        drawer   melon-bed    strangler    acceptance   \n",
       "\n",
       "              15             16           17           18             19  \n",
       "0      strangler   fiendishness        spots    rochester   disturbingly  \n",
       "1        belgian        careful   companions      trouser    mischievous  \n",
       "2       anecdote          alarm        cloud  excellently     tumultuous  \n",
       "3      favorable           ssso       diving    the-wisps      strangler  \n",
       "4   disturbingly       harangue  presupposes       coolly      favorable  \n",
       "5  establishment     downstairs    enchanted      watkins        belgian  \n",
       "6       glorious           hare         jean       suffer         sinner  \n",
       "7        throned    pleistocene  persistence  mortar-less        channel  \n",
       "8         ensued     visualized       creeps      leaders  in_equability  \n",
       "9        zoology  establishment  magistrates  mischievous  establishment  "
      ]
     },
     "execution_count": 26,
     "metadata": {},
     "output_type": "execute_result"
    }
   ],
   "source": [
    "doc_topic = topics_df.T\n",
    "doc_topic"
   ]
  },
  {
   "cell_type": "markdown",
   "metadata": {},
   "source": [
    "## Visualisierung "
   ]
  },
  {
   "cell_type": "code",
   "execution_count": 27,
   "metadata": {},
   "outputs": [
    {
     "data": {
      "text/plain": [
       "\"lda_model = 'out_easy/corpus.lda'\\ncorpus = 'out_easy/corpus.mm'\\ndictionary = 'out_easy/corpus.dict'\\ndoc_labels = 'out_easy/corpus_doclabels.txt'\\ninteractive  = False\\n\\nvis = visual.Visualization(lda_model, corpus, dictionary, doc_labels, interactive)\""
      ]
     },
     "execution_count": 27,
     "metadata": {},
     "output_type": "execute_result"
    }
   ],
   "source": [
    "'''lda_model = 'out_easy/corpus.lda'\n",
    "corpus = 'out_easy/corpus.mm'\n",
    "dictionary = 'out_easy/corpus.dict'\n",
    "doc_labels = 'out_easy/corpus_doclabels.txt'\n",
    "interactive  = False\n",
    "\n",
    "vis = visual.Visualization(lda_model, corpus, dictionary, doc_labels, interactive)'''"
   ]
  },
  {
   "cell_type": "markdown",
   "metadata": {},
   "source": [
    "##### Create a document-topic matrix (that is a pandas data frame actually)"
   ]
  },
  {
   "cell_type": "code",
   "execution_count": 28,
   "metadata": {
    "collapsed": true
   },
   "outputs": [],
   "source": [
    "doc_topic = visual.create_doc_topic(mm, model, doc_labels)"
   ]
  },
  {
   "cell_type": "markdown",
   "metadata": {},
   "source": [
    "##### Visualize document-topic matrix"
   ]
  },
  {
   "cell_type": "code",
   "execution_count": 29,
   "metadata": {},
   "outputs": [
    {
     "data": {
      "text/plain": [
       "<module 'matplotlib.pyplot' from '/Library/Frameworks/Python.framework/Versions/3.6/lib/python3.6/site-packages/matplotlib/pyplot.py'>"
      ]
     },
     "execution_count": 29,
     "metadata": {},
     "output_type": "execute_result"
    },
    {
     "data": {
      "image/png": "[encoded data removed]",
      "text/plain": [
       "<matplotlib.figure.Figure at 0x11063d160>"
      ]
     },
     "metadata": {},
     "output_type": "display_data"
    }
   ],
   "source": [
    "%matplotlib inline\n",
    "visual.doc_topic_heatmap(doc_topic)"
   ]
  },
  {
   "cell_type": "markdown",
   "metadata": {},
   "source": [
    "##### Visualize topic distribution in a single document"
   ]
  },
  {
   "cell_type": "code",
   "execution_count": 30,
   "metadata": {},
   "outputs": [
    {
     "data": {
      "text/plain": [
       "<module 'matplotlib.pyplot' from '/Library/Frameworks/Python.framework/Versions/3.6/lib/python3.6/site-packages/matplotlib/pyplot.py'>"
      ]
     },
     "execution_count": 30,
     "metadata": {},
     "output_type": "execute_result"
    },
    {
     "data": {
      "image/png": "[encoded data removed]",
      "text/plain": [
       "<matplotlib.figure.Figure at 0x10fb09e80>"
      ]
     },
     "metadata": {},
     "output_type": "display_data"
    }
   ],
   "source": [
    "visual.plot_doc_topics(doc_topic, 0)"
   ]
  },
  {
   "cell_type": "code",
   "execution_count": 31,
   "metadata": {},
   "outputs": [
    {
     "data": {
      "text/plain": [
       "[('abject', 0.0071719609453676668),\n",
       " ('analogous', 0.0067440057486722518),\n",
       " ('adamantine', 0.00443200785312924),\n",
       " ('sinner', 0.0044201705151885222),\n",
       " ('watkins', 0.0039679605934900752),\n",
       " ('hare', 0.0038780072408505168),\n",
       " ('tumultuous', 0.0037443202026385828),\n",
       " ('larch', 0.0037218213278236178),\n",
       " ('truck', 0.0034780051542337301),\n",
       " ('linking', 0.0034627177126217942)]"
      ]
     },
     "execution_count": 31,
     "metadata": {},
     "output_type": "execute_result"
    }
   ],
   "source": [
    "items = model.show_topic(1)\n",
    "keywords = [item[0] for item in items]\n",
    "keywords\n",
    "items = model.show_topic(1)\n",
    "propabilities = [item[1] for item in items]\n",
    "propabilities\n",
    "items"
   ]
  },
  {
   "cell_type": "code",
   "execution_count": 32,
   "metadata": {
    "scrolled": true
   },
   "outputs": [
    {
     "data": {
      "text/plain": [
       "<module 'matplotlib.pyplot' from '/Library/Frameworks/Python.framework/Versions/3.6/lib/python3.6/site-packages/matplotlib/pyplot.py'>"
      ]
     },
     "execution_count": 32,
     "metadata": {},
     "output_type": "execute_result"
    },
    {
     "data": {
      "image/png": "[encoded data removed]",
      "text/plain": [
       "<matplotlib.figure.Figure at 0x1106e3320>"
      ]
     },
     "metadata": {},
     "output_type": "display_data"
    }
   ],
   "source": [
    "topic_nr = 3\n",
    "number_of_keywords = 10\n",
    "visual.show_wordle_for_topic(model, topic_nr, number_of_keywords)"
   ]
  },
  {
   "cell_type": "markdown",
   "metadata": {
    "collapsed": true
   },
   "source": [
    "![success](http://cdn2.hubspot.net/hub/128506/file-446943132-jpg/images/computer_woman_success.jpg)"
   ]
  }
 ],
 "metadata": {
  "kernelspec": {
   "display_name": "Python 3",
   "language": "python",
   "name": "python3"
  },
  "language_info": {
   "codemirror_mode": {
    "name": "ipython",
    "version": 3
   },
   "file_extension": ".py",
   "mimetype": "text/x-python",
   "name": "python",
   "nbconvert_exporter": "python",
   "pygments_lexer": "ipython3",
   "version": "3.6.1"
  }
 },
 "nbformat": 4,
 "nbformat_minor": 1
}
