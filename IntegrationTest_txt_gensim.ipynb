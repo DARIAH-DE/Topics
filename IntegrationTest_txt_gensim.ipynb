{
 "cells": [
  {
   "cell_type": "code",
   "execution_count": 1,
   "metadata": {
    "collapsed": false
   },
   "outputs": [
    {
     "name": "stderr",
     "output_type": "stream",
     "text": [
      "c:\\users\\philip\\appdata\\local\\programs\\python\\python35-32\\lib\\site-packages\\gensim\\utils.py:855: UserWarning: detected Windows; aliasing chunkize to chunkize_serial\n",
      "  warnings.warn(\"detected Windows; aliasing chunkize to chunkize_serial\")\n",
      "c:\\users\\philip\\appdata\\local\\programs\\python\\python35-32\\lib\\site-packages\\funcy\\decorators.py:56: DeprecationWarning: inspect.getargspec() is deprecated, use inspect.signature() instead\n",
      "  spec = inspect.getargspec(func)\n",
      "c:\\users\\philip\\appdata\\local\\programs\\python\\python35-32\\lib\\site-packages\\funcy\\decorators.py:56: DeprecationWarning: inspect.getargspec() is deprecated, use inspect.signature() instead\n",
      "  spec = inspect.getargspec(func)\n",
      "c:\\users\\philip\\appdata\\local\\programs\\python\\python35-32\\lib\\site-packages\\funcy\\decorators.py:56: DeprecationWarning: inspect.getargspec() is deprecated, use inspect.signature() instead\n",
      "  spec = inspect.getargspec(func)\n",
      "c:\\users\\philip\\appdata\\local\\programs\\python\\python35-32\\lib\\site-packages\\funcy\\decorators.py:56: DeprecationWarning: inspect.getargspec() is deprecated, use inspect.signature() instead\n",
      "  spec = inspect.getargspec(func)\n",
      "c:\\users\\philip\\appdata\\local\\programs\\python\\python35-32\\lib\\site-packages\\funcy\\decorators.py:56: DeprecationWarning: inspect.getargspec() is deprecated, use inspect.signature() instead\n",
      "  spec = inspect.getargspec(func)\n",
      "c:\\users\\philip\\appdata\\local\\programs\\python\\python35-32\\lib\\site-packages\\funcy\\decorators.py:56: DeprecationWarning: inspect.getargspec() is deprecated, use inspect.signature() instead\n",
      "  spec = inspect.getargspec(func)\n"
     ]
    }
   ],
   "source": [
    "from dariah_topics import preprocessing as pre\n",
    "from dariah_topics import visualization as visual\n",
    "from dariah_topics import evaluation"
   ]
  },
  {
   "cell_type": "markdown",
   "metadata": {},
   "source": [
    "## Preprocessing"
   ]
  },
  {
   "cell_type": "markdown",
   "metadata": {},
   "source": [
    "#### Liste mit Dateinamen erzeugen"
   ]
  },
  {
   "cell_type": "code",
   "execution_count": 2,
   "metadata": {
    "collapsed": false
   },
   "outputs": [
    {
     "name": "stderr",
     "output_type": "stream",
     "text": [
      "c:\\users\\philip\\appdata\\local\\programs\\python\\python35-32\\lib\\site-packages\\IPython\\core\\formatters.py:92: DeprecationWarning: DisplayFormatter._ipython_display_formatter_default is deprecated: use @default decorator instead.\n",
      "  def _ipython_display_formatter_default(self):\n",
      "c:\\users\\philip\\appdata\\local\\programs\\python\\python35-32\\lib\\site-packages\\IPython\\core\\formatters.py:98: DeprecationWarning: DisplayFormatter._formatters_default is deprecated: use @default decorator instead.\n",
      "  def _formatters_default(self):\n",
      "c:\\users\\philip\\appdata\\local\\programs\\python\\python35-32\\lib\\site-packages\\IPython\\core\\formatters.py:677: DeprecationWarning: PlainTextFormatter._deferred_printers_default is deprecated: use @default decorator instead.\n",
      "  def _deferred_printers_default(self):\n",
      "c:\\users\\philip\\appdata\\local\\programs\\python\\python35-32\\lib\\site-packages\\IPython\\core\\formatters.py:669: DeprecationWarning: PlainTextFormatter._singleton_printers_default is deprecated: use @default decorator instead.\n",
      "  def _singleton_printers_default(self):\n",
      "c:\\users\\philip\\appdata\\local\\programs\\python\\python35-32\\lib\\site-packages\\IPython\\core\\formatters.py:672: DeprecationWarning: PlainTextFormatter._type_printers_default is deprecated: use @default decorator instead.\n",
      "  def _type_printers_default(self):\n",
      "c:\\users\\philip\\appdata\\local\\programs\\python\\python35-32\\lib\\site-packages\\IPython\\core\\formatters.py:669: DeprecationWarning: PlainTextFormatter._singleton_printers_default is deprecated: use @default decorator instead.\n",
      "  def _singleton_printers_default(self):\n",
      "c:\\users\\philip\\appdata\\local\\programs\\python\\python35-32\\lib\\site-packages\\IPython\\core\\formatters.py:672: DeprecationWarning: PlainTextFormatter._type_printers_default is deprecated: use @default decorator instead.\n",
      "  def _type_printers_default(self):\n",
      "c:\\users\\philip\\appdata\\local\\programs\\python\\python35-32\\lib\\site-packages\\IPython\\core\\formatters.py:677: DeprecationWarning: PlainTextFormatter._deferred_printers_default is deprecated: use @default decorator instead.\n",
      "  def _deferred_printers_default(self):\n"
     ]
    },
    {
     "data": {
      "text/plain": [
       "['corpus_txt\\\\Doyle_AScandalinBohemia.txt',\n",
       " 'corpus_txt\\\\Doyle_AStudyinScarlet.txt',\n",
       " 'corpus_txt\\\\Doyle_TheHoundoftheBaskervilles.txt',\n",
       " 'corpus_txt\\\\Doyle_TheSignoftheFour.txt',\n",
       " 'corpus_txt\\\\Howard_GodsoftheNorth.txt']"
      ]
     },
     "execution_count": 2,
     "metadata": {},
     "output_type": "execute_result"
    }
   ],
   "source": [
    "path_txt = \"corpus_txt\"\n",
    "#path_txt = \"grenzbote_plain/*/\"\n",
    "#path_txt = \"wiki/\"\n",
    "\n",
    "doclist_txt = pre.create_document_list(path_txt)\n",
    "assert doclist_txt, \"No documents found\"\n",
    "doclist_txt[:5]"
   ]
  },
  {
   "cell_type": "markdown",
   "metadata": {},
   "source": [
    "#####  Liste mit Dokumentenlabels erzeugen - (Funktion wird durch Thorsten's generischere Funktion ersetzt)"
   ]
  },
  {
   "cell_type": "code",
   "execution_count": 3,
   "metadata": {
    "collapsed": false
   },
   "outputs": [
    {
     "data": {
      "text/plain": [
       "['Doyle_AScandalinBohemia',\n",
       " 'Doyle_AStudyinScarlet',\n",
       " 'Doyle_TheHoundoftheBaskervilles',\n",
       " 'Doyle_TheSignoftheFour',\n",
       " 'Howard_GodsoftheNorth']"
      ]
     },
     "execution_count": 3,
     "metadata": {},
     "output_type": "execute_result"
    }
   ],
   "source": [
    "doc_labels = list(pre.get_labels(doclist_txt))\n",
    "doc_labels[:5]"
   ]
  },
  {
   "cell_type": "markdown",
   "metadata": {},
   "source": [
    "#### Corpus laden"
   ]
  },
  {
   "cell_type": "code",
   "execution_count": 4,
   "metadata": {
    "collapsed": false
   },
   "outputs": [],
   "source": [
    "corpus_txt = pre.read_from_txt(doclist_txt)"
   ]
  },
  {
   "cell_type": "markdown",
   "metadata": {},
   "source": [
    "#### Tokenisieren"
   ]
  },
  {
   "cell_type": "code",
   "execution_count": 5,
   "metadata": {
    "collapsed": false
   },
   "outputs": [],
   "source": [
    "doc_tokens = [list(pre.tokenize(txt)) for txt in list(corpus_txt)]"
   ]
  },
  {
   "cell_type": "markdown",
   "metadata": {},
   "source": [
    "#### Create Dictionaries"
   ]
  },
  {
   "cell_type": "code",
   "execution_count": 6,
   "metadata": {
    "collapsed": false
   },
   "outputs": [],
   "source": [
    "id_types, doc_ids = pre.create_dictionaries(doc_labels, doc_tokens)"
   ]
  },
  {
   "cell_type": "markdown",
   "metadata": {},
   "source": [
    "#### Sparse BOW Model"
   ]
  },
  {
   "cell_type": "code",
   "execution_count": 7,
   "metadata": {
    "collapsed": false
   },
   "outputs": [],
   "source": [
    "sparse_bow = pre.create_mm(doc_labels, doc_tokens, id_types, doc_ids)"
   ]
  },
  {
   "cell_type": "code",
   "execution_count": 8,
   "metadata": {
    "collapsed": false
   },
   "outputs": [
    {
     "data": {
      "text/html": [
       "<div>\n",
       "<table border=\"1\" class=\"dataframe\">\n",
       "  <thead>\n",
       "    <tr style=\"text-align: right;\">\n",
       "      <th></th>\n",
       "      <th></th>\n",
       "      <th>0</th>\n",
       "    </tr>\n",
       "    <tr>\n",
       "      <th>doc_id</th>\n",
       "      <th>token_id</th>\n",
       "      <th></th>\n",
       "    </tr>\n",
       "  </thead>\n",
       "  <tbody>\n",
       "    <tr>\n",
       "      <th rowspan=\"5\" valign=\"top\">1</th>\n",
       "      <th>16384</th>\n",
       "      <td>1</td>\n",
       "    </tr>\n",
       "    <tr>\n",
       "      <th>16388</th>\n",
       "      <td>1</td>\n",
       "    </tr>\n",
       "    <tr>\n",
       "      <th>8197</th>\n",
       "      <td>244</td>\n",
       "    </tr>\n",
       "    <tr>\n",
       "      <th>4103</th>\n",
       "      <td>1</td>\n",
       "    </tr>\n",
       "    <tr>\n",
       "      <th>8203</th>\n",
       "      <td>1</td>\n",
       "    </tr>\n",
       "  </tbody>\n",
       "</table>\n",
       "</div>"
      ],
      "text/plain": [
       "                   0\n",
       "doc_id token_id     \n",
       "1      16384       1\n",
       "       16388       1\n",
       "       8197      244\n",
       "       4103        1\n",
       "       8203        1"
      ]
     },
     "execution_count": 8,
     "metadata": {},
     "output_type": "execute_result"
    }
   ],
   "source": [
    "sparse_bow[:5]"
   ]
  },
  {
   "cell_type": "markdown",
   "metadata": {},
   "source": [
    "## Topic Modeling with Gensim"
   ]
  },
  {
   "cell_type": "markdown",
   "metadata": {},
   "source": [
    "##### Saving Sparse BOW"
   ]
  },
  {
   "cell_type": "code",
   "execution_count": 9,
   "metadata": {
    "collapsed": false
   },
   "outputs": [],
   "source": [
    "pre.save_bow_mm(sparse_bow, \"gensim_txt\")"
   ]
  },
  {
   "cell_type": "markdown",
   "metadata": {},
   "source": [
    "#### Import Market Matrix"
   ]
  },
  {
   "cell_type": "code",
   "execution_count": 10,
   "metadata": {
    "collapsed": true
   },
   "outputs": [],
   "source": [
    "from gensim.models import LdaModel\n",
    "from gensim.corpora import MmCorpus"
   ]
  },
  {
   "cell_type": "code",
   "execution_count": 11,
   "metadata": {
    "collapsed": false
   },
   "outputs": [],
   "source": [
    "mm = MmCorpus(\"gensim_txt.mm\")"
   ]
  },
  {
   "cell_type": "code",
   "execution_count": 12,
   "metadata": {
    "collapsed": false
   },
   "outputs": [],
   "source": [
    "doc2id = {value : key for key, value in doc_ids.items()}\n",
    "type2id = {value : key for key, value in id_types.items()}"
   ]
  },
  {
   "cell_type": "markdown",
   "metadata": {},
   "source": [
    "##### Remove Features"
   ]
  },
  {
   "cell_type": "markdown",
   "metadata": {},
   "source": [
    "type2id = {value : key for key, value in id_types.items()}\n",
    "sparse_bow_collapsed = sparse_bow.groupby(sparse_bow.index.get_level_values('token_id')).sum()"
   ]
  },
  {
   "cell_type": "markdown",
   "metadata": {},
   "source": [
    "sparse_bow_hapax = sparse_bow_collapsed.loc[sparse_bow_collapsed[0] == 1]\n",
    "hapax = [type2id[key] for key in sparse_bow_hapax.index.get_level_values('token_id')]"
   ]
  },
  {
   "cell_type": "markdown",
   "metadata": {},
   "source": [
    "len(hapax)"
   ]
  },
  {
   "cell_type": "code",
   "execution_count": 13,
   "metadata": {
    "collapsed": true
   },
   "outputs": [],
   "source": [
    "import os.path\n",
    "basepath = os.path.abspath('.')\n",
    "\n",
    "with open(os.path.join(basepath, \"tutorial_supplementals\", \"stopwords\", \"de.txt\"), 'r', encoding = 'utf-8') as f: \n",
    "    stopword_list = f.read().split('\\n')\n",
    "    \n",
    "stopword_list = set(stopword_list)"
   ]
  },
  {
   "cell_type": "code",
   "execution_count": 14,
   "metadata": {
    "collapsed": false
   },
   "outputs": [],
   "source": [
    "hapax_from_remove = pre.find_hapax(sparse_bow, id_types)\n",
    "stopwords_from_remove = pre.find_stopwords(sparse_bow, id_types, mfw=75)\n",
    "\n",
    "#features_to_be_removed = set(hapax_from_remove + stopwords_from_remove)\n",
    "features_to_be_removed = stopwords_from_remove\n",
    "\n",
    "sparse_bow_short = pre.remove_features(sparse_bow, id_types, features_to_be_removed)"
   ]
  },
  {
   "cell_type": "code",
   "execution_count": 15,
   "metadata": {
    "collapsed": false
   },
   "outputs": [
    {
     "data": {
      "text/plain": [
       "75"
      ]
     },
     "execution_count": 15,
     "metadata": {},
     "output_type": "execute_result"
    }
   ],
   "source": [
    "len(features_to_be_removed)"
   ]
  },
  {
   "cell_type": "code",
   "execution_count": 16,
   "metadata": {
    "collapsed": false
   },
   "outputs": [],
   "source": [
    "pre.save_bow_mm(sparse_bow_short, \"gensim_txt\")"
   ]
  },
  {
   "cell_type": "code",
   "execution_count": 17,
   "metadata": {
    "collapsed": true
   },
   "outputs": [],
   "source": [
    "mm = MmCorpus(\"gensim_txt.mm\")"
   ]
  },
  {
   "cell_type": "markdown",
   "metadata": {},
   "source": [
    "#### Convert sparse_bow to list of (doc, tokens) tuples (like doc2bow)"
   ]
  },
  {
   "cell_type": "markdown",
   "metadata": {
    "collapsed": false
   },
   "source": [
    "doc2bow_list = []\n",
    "\n",
    "for doc in sparse_bow_short.index.groupby(sparse_bow_short.index.get_level_values('doc_id')):\n",
    "    temp = [(token, count) for token, count in zip(sparse_bow_short.loc[doc].index, sparse_bow_short.loc[doc][0])]\n",
    "    doc2bow_list.append(temp)"
   ]
  },
  {
   "cell_type": "code",
   "execution_count": 18,
   "metadata": {
    "collapsed": true
   },
   "outputs": [],
   "source": [
    "doc2bow_list = pre.make_doc2bow_list(sparse_bow_short)"
   ]
  },
  {
   "cell_type": "code",
   "execution_count": 19,
   "metadata": {
    "collapsed": false
   },
   "outputs": [
    {
     "data": {
      "text/plain": [
       "17"
      ]
     },
     "execution_count": 19,
     "metadata": {},
     "output_type": "execute_result"
    }
   ],
   "source": [
    "len(doc2bow_list)"
   ]
  },
  {
   "cell_type": "code",
   "execution_count": 20,
   "metadata": {
    "collapsed": false
   },
   "outputs": [],
   "source": [
    "#model = LdaModel(corpus=mm, id2word=type2id, num_topics=60, alpha = \"symmetric\", passes = 10) #import momentan in visual \n",
    "# -> da ich mir noch nicht sicher bin, welche Funktionen in das tm_gensim.py sollen\n",
    "model = LdaModel(corpus=mm, id2word=type2id, num_topics=20, passes = 10, iterations = 20)"
   ]
  },
  {
   "cell_type": "code",
   "execution_count": 21,
   "metadata": {
    "collapsed": false
   },
   "outputs": [
    {
     "data": {
      "text/plain": [
       "[(1, 0.13228416239327814),\n",
       " (5, 0.18926606754891051),\n",
       " (6, 0.32090231624688376),\n",
       " (15, 0.13312014179482362),\n",
       " (17, 0.18113449370015158),\n",
       " (18, 0.016185686387508974),\n",
       " (19, 0.013475572672369885)]"
      ]
     },
     "execution_count": 21,
     "metadata": {},
     "output_type": "execute_result"
    }
   ],
   "source": [
    "model.get_document_topics(doc2bow_list[1])"
   ]
  },
  {
   "cell_type": "code",
   "execution_count": 22,
   "metadata": {
    "collapsed": false
   },
   "outputs": [
    {
     "data": {
      "text/plain": [
       "['smudge',\n",
       " 'seasoned',\n",
       " 'boulder-sprinkled',\n",
       " 'refreshing',\n",
       " 'vindictiveness',\n",
       " 'compounded',\n",
       " 'lil',\n",
       " 'mauvais',\n",
       " 'destroyer',\n",
       " 'unimaginable']"
      ]
     },
     "execution_count": 22,
     "metadata": {},
     "output_type": "execute_result"
    }
   ],
   "source": [
    "#Anzeige der keywords für topic n\n",
    "n = 1\n",
    "topic_nr_x = model.get_topic_terms(n)\n",
    "\n",
    "topicTerms = [type2id[i[0]] for i in topic_nr_x]\n",
    "topicTerms"
   ]
  },
  {
   "cell_type": "code",
   "execution_count": 23,
   "metadata": {
    "collapsed": false
   },
   "outputs": [
    {
     "data": {
      "text/plain": [
       "[(0,\n",
       "  '0.000*\"vegetablelike\" + 0.000*\"logic\" + 0.000*\"strikes\" + 0.000*\"two-dimensional\" + 0.000*\"ransom\" + 0.000*\"pigmentation\" + 0.000*\"squelching\" + 0.000*\"stockwell\" + 0.000*\"dispirited\" + 0.000*\"oldest\"'),\n",
       " (1,\n",
       "  '0.007*\"smudge\" + 0.005*\"seasoned\" + 0.005*\"boulder-sprinkled\" + 0.004*\"refreshing\" + 0.004*\"vindictiveness\" + 0.004*\"compounded\" + 0.004*\"lil\" + 0.004*\"mauvais\" + 0.004*\"destroyer\" + 0.004*\"unimaginable\"'),\n",
       " (2,\n",
       "  '0.000*\"vegetablelike\" + 0.000*\"self-possession\" + 0.000*\"wednesday\" + 0.000*\"two-dimensional\" + 0.000*\"stockwell\" + 0.000*\"unimaginable\" + 0.000*\"cool\" + 0.000*\"refreshing\" + 0.000*\"pigmentation\" + 0.000*\"domes\"'),\n",
       " (3,\n",
       "  '0.000*\"depravity\" + 0.000*\"shiny-strong\" + 0.000*\"logic\" + 0.000*\"outlined\" + 0.000*\"ransom\" + 0.000*\"squelching\" + 0.000*\"police-sergeant\" + 0.000*\"pigmentation\" + 0.000*\"haunch\" + 0.000*\"oldest\"'),\n",
       " (4,\n",
       "  '0.000*\"strikes\" + 0.000*\"haunch\" + 0.000*\"sculptureless\" + 0.000*\"ransom\" + 0.000*\"lil\" + 0.000*\"vegetablelike\" + 0.000*\"honeycombings\" + 0.000*\"oldest\" + 0.000*\"refreshing\" + 0.000*\"police-sergeant\"'),\n",
       " (5,\n",
       "  '0.004*\"stockwell\" + 0.004*\"police-sergeant\" + 0.003*\"vegetablelike\" + 0.003*\"understand!i\" + 0.003*\"oldest\" + 0.003*\"haunch\" + 0.003*\"domes\" + 0.003*\"plumstead\" + 0.003*\"swears\" + 0.003*\"cyclopean\"'),\n",
       " (6,\n",
       "  '0.006*\"depravity\" + 0.004*\"haunch\" + 0.004*\"two-dimensional\" + 0.004*\"poltoos\" + 0.004*\"squelching\" + 0.004*\"shred\" + 0.004*\"ransom\" + 0.004*\"vegetablelike\" + 0.004*\"self-possession\" + 0.004*\"outlined\"'),\n",
       " (7,\n",
       "  '0.001*\"heel-rope\" + 0.001*\"pigmentation\" + 0.001*\"refreshing\" + 0.001*\"candelabrum\" + 0.001*\"logic\" + 0.001*\"lil\" + 0.001*\"sculptureless\" + 0.001*\"metal-colored\" + 0.001*\"unimaginable\" + 0.001*\"noisy\"'),\n",
       " (8,\n",
       "  '0.000*\"pigmentation\" + 0.000*\"domes\" + 0.000*\"logic\" + 0.000*\"haunch\" + 0.000*\"lil\" + 0.000*\"squelching\" + 0.000*\"self-possession\" + 0.000*\"police-sergeant\" + 0.000*\"ransom\" + 0.000*\"oldest\"'),\n",
       " (9,\n",
       "  '0.000*\"honeycombings\" + 0.000*\"self-possession\" + 0.000*\"lil\" + 0.000*\"oldest\" + 0.000*\"police-sergeant\" + 0.000*\"squelching\" + 0.000*\"stockwell\" + 0.000*\"strikes\" + 0.000*\"vegetablelike\" + 0.000*\"sculptureless\"'),\n",
       " (10,\n",
       "  '0.008*\"moth\" + 0.007*\"gravitating\" + 0.005*\"domes\" + 0.005*\"unastronomical\" + 0.004*\"attempts\" + 0.004*\"drawling\" + 0.004*\"powerfully\" + 0.004*\"police-sergeant\" + 0.004*\"bows\" + 0.003*\"salted\"'),\n",
       " (11,\n",
       "  '0.000*\"self-possession\" + 0.000*\"two-dimensional\" + 0.000*\"outlined\" + 0.000*\"shred\" + 0.000*\"haunch\" + 0.000*\"vegetablelike\" + 0.000*\"stockwell\" + 0.000*\"squelching\" + 0.000*\"mine-sweepers\" + 0.000*\"poltoos\"'),\n",
       " (12,\n",
       "  '0.000*\"pigmentation\" + 0.000*\"depravity\" + 0.000*\"self-possession\" + 0.000*\"shred\" + 0.000*\"vegetablelike\" + 0.000*\"strikes\" + 0.000*\"outlined\" + 0.000*\"candelabrum\" + 0.000*\"two-dimensional\" + 0.000*\"stockwell\"'),\n",
       " (13,\n",
       "  '0.007*\"juncture\" + 0.006*\"disarranged\" + 0.006*\"stretch\" + 0.004*\"two-dimensional\" + 0.004*\"outfits\" + 0.003*\"hideously\" + 0.003*\"mine-sweepers\" + 0.003*\"nothwendig\" + 0.003*\"blasphemously\" + 0.003*\"deaths\"'),\n",
       " (14,\n",
       "  '0.000*\"self-possession\" + 0.000*\"sculptureless\" + 0.000*\"two-dimensional\" + 0.000*\"stockwell\" + 0.000*\"oldest\" + 0.000*\"logic\" + 0.000*\"outlined\" + 0.000*\"vegetablelike\" + 0.000*\"dispirited\" + 0.000*\"haunch\"'),\n",
       " (15,\n",
       "  '0.012*\"pendulous\" + 0.008*\"snarled\" + 0.008*\"films\" + 0.007*\"logic\" + 0.006*\"decade\" + 0.006*\"remarkable-looking\" + 0.006*\"mars\" + 0.006*\"pigmentation\" + 0.006*\"ancestors\" + 0.005*\"deposit\"'),\n",
       " (16,\n",
       "  '0.001*\"lush\" + 0.001*\"flyers\" + 0.001*\"brook\" + 0.001*\"consequences\" + 0.001*\"official-looking\" + 0.001*\"corroborative\" + 0.001*\"russian\" + 0.001*\"panted\" + 0.001*\"wails\" + 0.001*\"broadcloth\"'),\n",
       " (17,\n",
       "  '0.006*\"indulged\" + 0.004*\"domes\" + 0.004*\"two-dimensional\" + 0.004*\"honeycombings\" + 0.003*\"pigmentation\" + 0.003*\"weighty\" + 0.003*\"guardedly\" + 0.003*\"self-possession\" + 0.003*\"powerfully\" + 0.003*\"refreshing\"'),\n",
       " (18,\n",
       "  '0.009*\"haunch\" + 0.008*\"exclamation\" + 0.007*\"billow\" + 0.006*\"dried\" + 0.005*\"glimpse\" + 0.005*\"jumpy\" + 0.004*\"dispirited\" + 0.004*\"gladness\" + 0.004*\"petra\" + 0.004*\"flounce\"'),\n",
       " (19,\n",
       "  '0.007*\"half-carrying\" + 0.007*\"cloudily\" + 0.006*\"doomed\" + 0.004*\"screws\" + 0.004*\"two-dimensional\" + 0.004*\"strikes\" + 0.003*\"nasal\" + 0.003*\"pigmentation\" + 0.003*\"day\\'s\" + 0.003*\"feverish\"')]"
      ]
     },
     "execution_count": 23,
     "metadata": {},
     "output_type": "execute_result"
    }
   ],
   "source": [
    "#Topic probabilities\n",
    "topics = model.show_topics(num_topics = 40)\n",
    "topics"
   ]
  },
  {
   "cell_type": "code",
   "execution_count": 24,
   "metadata": {
    "collapsed": false
   },
   "outputs": [],
   "source": [
    "topics_df = pre.gensim2dataframe(model)"
   ]
  },
  {
   "cell_type": "code",
   "execution_count": 25,
   "metadata": {
    "collapsed": false
   },
   "outputs": [
    {
     "data": {
      "text/html": [
       "<div>\n",
       "<table border=\"1\" class=\"dataframe\">\n",
       "  <thead>\n",
       "    <tr style=\"text-align: right;\">\n",
       "      <th></th>\n",
       "      <th>0</th>\n",
       "      <th>1</th>\n",
       "      <th>2</th>\n",
       "      <th>3</th>\n",
       "      <th>4</th>\n",
       "      <th>5</th>\n",
       "      <th>6</th>\n",
       "      <th>7</th>\n",
       "      <th>8</th>\n",
       "      <th>9</th>\n",
       "      <th>10</th>\n",
       "      <th>11</th>\n",
       "      <th>12</th>\n",
       "      <th>13</th>\n",
       "      <th>14</th>\n",
       "      <th>15</th>\n",
       "      <th>16</th>\n",
       "      <th>17</th>\n",
       "      <th>18</th>\n",
       "      <th>19</th>\n",
       "    </tr>\n",
       "  </thead>\n",
       "  <tbody>\n",
       "    <tr>\n",
       "      <th>0</th>\n",
       "      <td>vegetablelike</td>\n",
       "      <td>smudge</td>\n",
       "      <td>vegetablelike</td>\n",
       "      <td>depravity</td>\n",
       "      <td>strikes</td>\n",
       "      <td>stockwell</td>\n",
       "      <td>depravity</td>\n",
       "      <td>heel-rope</td>\n",
       "      <td>pigmentation</td>\n",
       "      <td>honeycombings</td>\n",
       "      <td>moth</td>\n",
       "      <td>self-possession</td>\n",
       "      <td>pigmentation</td>\n",
       "      <td>juncture</td>\n",
       "      <td>self-possession</td>\n",
       "      <td>pendulous</td>\n",
       "      <td>lush</td>\n",
       "      <td>indulged</td>\n",
       "      <td>haunch</td>\n",
       "      <td>half-carrying</td>\n",
       "    </tr>\n",
       "    <tr>\n",
       "      <th>1</th>\n",
       "      <td>logic</td>\n",
       "      <td>seasoned</td>\n",
       "      <td>self-possession</td>\n",
       "      <td>shiny-strong</td>\n",
       "      <td>haunch</td>\n",
       "      <td>police-sergeant</td>\n",
       "      <td>haunch</td>\n",
       "      <td>pigmentation</td>\n",
       "      <td>domes</td>\n",
       "      <td>self-possession</td>\n",
       "      <td>gravitating</td>\n",
       "      <td>two-dimensional</td>\n",
       "      <td>depravity</td>\n",
       "      <td>disarranged</td>\n",
       "      <td>sculptureless</td>\n",
       "      <td>snarled</td>\n",
       "      <td>flyers</td>\n",
       "      <td>domes</td>\n",
       "      <td>exclamation</td>\n",
       "      <td>cloudily</td>\n",
       "    </tr>\n",
       "    <tr>\n",
       "      <th>2</th>\n",
       "      <td>strikes</td>\n",
       "      <td>boulder-sprinkled</td>\n",
       "      <td>wednesday</td>\n",
       "      <td>logic</td>\n",
       "      <td>sculptureless</td>\n",
       "      <td>vegetablelike</td>\n",
       "      <td>two-dimensional</td>\n",
       "      <td>refreshing</td>\n",
       "      <td>logic</td>\n",
       "      <td>lil</td>\n",
       "      <td>domes</td>\n",
       "      <td>outlined</td>\n",
       "      <td>self-possession</td>\n",
       "      <td>stretch</td>\n",
       "      <td>two-dimensional</td>\n",
       "      <td>films</td>\n",
       "      <td>brook</td>\n",
       "      <td>two-dimensional</td>\n",
       "      <td>billow</td>\n",
       "      <td>doomed</td>\n",
       "    </tr>\n",
       "    <tr>\n",
       "      <th>3</th>\n",
       "      <td>two-dimensional</td>\n",
       "      <td>refreshing</td>\n",
       "      <td>two-dimensional</td>\n",
       "      <td>outlined</td>\n",
       "      <td>ransom</td>\n",
       "      <td>understand!i</td>\n",
       "      <td>poltoos</td>\n",
       "      <td>candelabrum</td>\n",
       "      <td>haunch</td>\n",
       "      <td>oldest</td>\n",
       "      <td>unastronomical</td>\n",
       "      <td>shred</td>\n",
       "      <td>shred</td>\n",
       "      <td>two-dimensional</td>\n",
       "      <td>stockwell</td>\n",
       "      <td>logic</td>\n",
       "      <td>consequences</td>\n",
       "      <td>honeycombings</td>\n",
       "      <td>dried</td>\n",
       "      <td>screws</td>\n",
       "    </tr>\n",
       "    <tr>\n",
       "      <th>4</th>\n",
       "      <td>ransom</td>\n",
       "      <td>vindictiveness</td>\n",
       "      <td>stockwell</td>\n",
       "      <td>ransom</td>\n",
       "      <td>lil</td>\n",
       "      <td>oldest</td>\n",
       "      <td>squelching</td>\n",
       "      <td>logic</td>\n",
       "      <td>lil</td>\n",
       "      <td>police-sergeant</td>\n",
       "      <td>attempts</td>\n",
       "      <td>haunch</td>\n",
       "      <td>vegetablelike</td>\n",
       "      <td>outfits</td>\n",
       "      <td>oldest</td>\n",
       "      <td>decade</td>\n",
       "      <td>official-looking</td>\n",
       "      <td>pigmentation</td>\n",
       "      <td>glimpse</td>\n",
       "      <td>two-dimensional</td>\n",
       "    </tr>\n",
       "    <tr>\n",
       "      <th>5</th>\n",
       "      <td>pigmentation</td>\n",
       "      <td>compounded</td>\n",
       "      <td>unimaginable</td>\n",
       "      <td>squelching</td>\n",
       "      <td>vegetablelike</td>\n",
       "      <td>haunch</td>\n",
       "      <td>shred</td>\n",
       "      <td>lil</td>\n",
       "      <td>squelching</td>\n",
       "      <td>squelching</td>\n",
       "      <td>drawling</td>\n",
       "      <td>vegetablelike</td>\n",
       "      <td>strikes</td>\n",
       "      <td>hideously</td>\n",
       "      <td>logic</td>\n",
       "      <td>remarkable-looking</td>\n",
       "      <td>corroborative</td>\n",
       "      <td>weighty</td>\n",
       "      <td>jumpy</td>\n",
       "      <td>strikes</td>\n",
       "    </tr>\n",
       "    <tr>\n",
       "      <th>6</th>\n",
       "      <td>squelching</td>\n",
       "      <td>lil</td>\n",
       "      <td>cool</td>\n",
       "      <td>police-sergeant</td>\n",
       "      <td>honeycombings</td>\n",
       "      <td>domes</td>\n",
       "      <td>ransom</td>\n",
       "      <td>sculptureless</td>\n",
       "      <td>self-possession</td>\n",
       "      <td>stockwell</td>\n",
       "      <td>powerfully</td>\n",
       "      <td>stockwell</td>\n",
       "      <td>outlined</td>\n",
       "      <td>mine-sweepers</td>\n",
       "      <td>outlined</td>\n",
       "      <td>mars</td>\n",
       "      <td>russian</td>\n",
       "      <td>guardedly</td>\n",
       "      <td>dispirited</td>\n",
       "      <td>nasal</td>\n",
       "    </tr>\n",
       "    <tr>\n",
       "      <th>7</th>\n",
       "      <td>stockwell</td>\n",
       "      <td>mauvais</td>\n",
       "      <td>refreshing</td>\n",
       "      <td>pigmentation</td>\n",
       "      <td>oldest</td>\n",
       "      <td>plumstead</td>\n",
       "      <td>vegetablelike</td>\n",
       "      <td>metal-colored</td>\n",
       "      <td>police-sergeant</td>\n",
       "      <td>strikes</td>\n",
       "      <td>police-sergeant</td>\n",
       "      <td>squelching</td>\n",
       "      <td>candelabrum</td>\n",
       "      <td>nothwendig</td>\n",
       "      <td>vegetablelike</td>\n",
       "      <td>pigmentation</td>\n",
       "      <td>panted</td>\n",
       "      <td>self-possession</td>\n",
       "      <td>gladness</td>\n",
       "      <td>pigmentation</td>\n",
       "    </tr>\n",
       "    <tr>\n",
       "      <th>8</th>\n",
       "      <td>dispirited</td>\n",
       "      <td>destroyer</td>\n",
       "      <td>pigmentation</td>\n",
       "      <td>haunch</td>\n",
       "      <td>refreshing</td>\n",
       "      <td>swears</td>\n",
       "      <td>self-possession</td>\n",
       "      <td>unimaginable</td>\n",
       "      <td>ransom</td>\n",
       "      <td>vegetablelike</td>\n",
       "      <td>bows</td>\n",
       "      <td>mine-sweepers</td>\n",
       "      <td>two-dimensional</td>\n",
       "      <td>blasphemously</td>\n",
       "      <td>dispirited</td>\n",
       "      <td>ancestors</td>\n",
       "      <td>wails</td>\n",
       "      <td>powerfully</td>\n",
       "      <td>petra</td>\n",
       "      <td>day's</td>\n",
       "    </tr>\n",
       "    <tr>\n",
       "      <th>9</th>\n",
       "      <td>oldest</td>\n",
       "      <td>unimaginable</td>\n",
       "      <td>domes</td>\n",
       "      <td>oldest</td>\n",
       "      <td>police-sergeant</td>\n",
       "      <td>cyclopean</td>\n",
       "      <td>outlined</td>\n",
       "      <td>noisy</td>\n",
       "      <td>oldest</td>\n",
       "      <td>sculptureless</td>\n",
       "      <td>salted</td>\n",
       "      <td>poltoos</td>\n",
       "      <td>stockwell</td>\n",
       "      <td>deaths</td>\n",
       "      <td>haunch</td>\n",
       "      <td>deposit</td>\n",
       "      <td>broadcloth</td>\n",
       "      <td>refreshing</td>\n",
       "      <td>flounce</td>\n",
       "      <td>feverish</td>\n",
       "    </tr>\n",
       "  </tbody>\n",
       "</table>\n",
       "</div>"
      ],
      "text/plain": [
       "                0                  1                2                3   \\\n",
       "0    vegetablelike             smudge    vegetablelike        depravity   \n",
       "1            logic           seasoned  self-possession     shiny-strong   \n",
       "2          strikes  boulder-sprinkled        wednesday            logic   \n",
       "3  two-dimensional         refreshing  two-dimensional         outlined   \n",
       "4           ransom     vindictiveness        stockwell           ransom   \n",
       "5     pigmentation         compounded     unimaginable       squelching   \n",
       "6       squelching                lil             cool  police-sergeant   \n",
       "7        stockwell            mauvais       refreshing     pigmentation   \n",
       "8       dispirited          destroyer     pigmentation           haunch   \n",
       "9           oldest       unimaginable            domes           oldest   \n",
       "\n",
       "                4                5                6              7   \\\n",
       "0          strikes        stockwell        depravity      heel-rope   \n",
       "1           haunch  police-sergeant           haunch   pigmentation   \n",
       "2    sculptureless    vegetablelike  two-dimensional     refreshing   \n",
       "3           ransom     understand!i          poltoos    candelabrum   \n",
       "4              lil           oldest       squelching          logic   \n",
       "5    vegetablelike           haunch            shred            lil   \n",
       "6    honeycombings            domes           ransom  sculptureless   \n",
       "7           oldest        plumstead    vegetablelike  metal-colored   \n",
       "8       refreshing           swears  self-possession   unimaginable   \n",
       "9  police-sergeant        cyclopean         outlined          noisy   \n",
       "\n",
       "                8                9                10               11  \\\n",
       "0     pigmentation    honeycombings             moth  self-possession   \n",
       "1            domes  self-possession      gravitating  two-dimensional   \n",
       "2            logic              lil            domes         outlined   \n",
       "3           haunch           oldest   unastronomical            shred   \n",
       "4              lil  police-sergeant         attempts           haunch   \n",
       "5       squelching       squelching         drawling    vegetablelike   \n",
       "6  self-possession        stockwell       powerfully        stockwell   \n",
       "7  police-sergeant          strikes  police-sergeant       squelching   \n",
       "8           ransom    vegetablelike             bows    mine-sweepers   \n",
       "9           oldest    sculptureless           salted          poltoos   \n",
       "\n",
       "                12               13               14                  15  \\\n",
       "0     pigmentation         juncture  self-possession           pendulous   \n",
       "1        depravity      disarranged    sculptureless             snarled   \n",
       "2  self-possession          stretch  two-dimensional               films   \n",
       "3            shred  two-dimensional        stockwell               logic   \n",
       "4    vegetablelike          outfits           oldest              decade   \n",
       "5          strikes        hideously            logic  remarkable-looking   \n",
       "6         outlined    mine-sweepers         outlined                mars   \n",
       "7      candelabrum       nothwendig    vegetablelike        pigmentation   \n",
       "8  two-dimensional    blasphemously       dispirited           ancestors   \n",
       "9        stockwell           deaths           haunch             deposit   \n",
       "\n",
       "                 16               17           18               19  \n",
       "0              lush         indulged       haunch    half-carrying  \n",
       "1            flyers            domes  exclamation         cloudily  \n",
       "2             brook  two-dimensional       billow           doomed  \n",
       "3      consequences    honeycombings        dried           screws  \n",
       "4  official-looking     pigmentation      glimpse  two-dimensional  \n",
       "5     corroborative          weighty        jumpy          strikes  \n",
       "6           russian        guardedly   dispirited            nasal  \n",
       "7            panted  self-possession     gladness     pigmentation  \n",
       "8             wails       powerfully        petra            day's  \n",
       "9        broadcloth       refreshing      flounce         feverish  "
      ]
     },
     "execution_count": 25,
     "metadata": {},
     "output_type": "execute_result"
    }
   ],
   "source": [
    "doc_topic = topics_df.T\n",
    "doc_topic"
   ]
  },
  {
   "cell_type": "code",
   "execution_count": 26,
   "metadata": {
    "collapsed": true
   },
   "outputs": [],
   "source": [
    "doc_topic_matrix_gensim = pre.make_doc_topic_matrix(model, doc2bow_list, doc2id)"
   ]
  },
  {
   "cell_type": "code",
   "execution_count": 27,
   "metadata": {
    "collapsed": false
   },
   "outputs": [
    {
     "data": {
      "text/html": [
       "<div>\n",
       "<table border=\"1\" class=\"dataframe\">\n",
       "  <thead>\n",
       "    <tr style=\"text-align: right;\">\n",
       "      <th></th>\n",
       "      <th>Doyle_AScandalinBohemia</th>\n",
       "      <th>Doyle_AStudyinScarlet</th>\n",
       "      <th>Doyle_TheHoundoftheBaskervilles</th>\n",
       "      <th>Doyle_TheSignoftheFour</th>\n",
       "      <th>Howard_GodsoftheNorth</th>\n",
       "      <th>Howard_SchadowsinZamboula</th>\n",
       "      <th>Howard_ShadowsintheMoonlight</th>\n",
       "      <th>Howard_TheDevilinIron</th>\n",
       "      <th>Kipling_TheEndofthePassage</th>\n",
       "      <th>Kipling_TheJungleBook</th>\n",
       "      <th>Kipling_ThyServantaDog</th>\n",
       "      <th>Lovecraft_AttheMountainofMadness</th>\n",
       "      <th>Lovecraft_TheShunnedHouse</th>\n",
       "      <th>Poe_EurekaAProsePoem</th>\n",
       "      <th>Poe_TheCaskofAmontillado</th>\n",
       "      <th>Poe_TheMasqueoftheRedDeath</th>\n",
       "      <th>Poe_ThePurloinedLetter</th>\n",
       "    </tr>\n",
       "  </thead>\n",
       "  <tbody>\n",
       "    <tr>\n",
       "      <th>0</th>\n",
       "      <td>0.110925</td>\n",
       "      <td>0.132284</td>\n",
       "      <td>0.117435</td>\n",
       "      <td>0.124426</td>\n",
       "      <td>0.119542</td>\n",
       "      <td>0.128699</td>\n",
       "      <td>0.126806</td>\n",
       "      <td>0.138573</td>\n",
       "      <td>0.131304</td>\n",
       "      <td>0.124935</td>\n",
       "      <td>0.146089</td>\n",
       "      <td>0.117728</td>\n",
       "      <td>0.117584</td>\n",
       "      <td>0.114796</td>\n",
       "      <td>0.095734</td>\n",
       "      <td>0.121242</td>\n",
       "      <td>0.119887</td>\n",
       "    </tr>\n",
       "    <tr>\n",
       "      <th>1</th>\n",
       "      <td>0.197019</td>\n",
       "      <td>0.189266</td>\n",
       "      <td>0.191150</td>\n",
       "      <td>0.204241</td>\n",
       "      <td>0.183462</td>\n",
       "      <td>0.195170</td>\n",
       "      <td>0.201164</td>\n",
       "      <td>0.194774</td>\n",
       "      <td>0.182235</td>\n",
       "      <td>0.189734</td>\n",
       "      <td>0.179095</td>\n",
       "      <td>0.182794</td>\n",
       "      <td>0.163722</td>\n",
       "      <td>0.191503</td>\n",
       "      <td>0.187748</td>\n",
       "      <td>0.179353</td>\n",
       "      <td>0.179101</td>\n",
       "    </tr>\n",
       "    <tr>\n",
       "      <th>2</th>\n",
       "      <td>0.354294</td>\n",
       "      <td>0.320902</td>\n",
       "      <td>0.339018</td>\n",
       "      <td>0.314830</td>\n",
       "      <td>0.307924</td>\n",
       "      <td>0.318302</td>\n",
       "      <td>0.292476</td>\n",
       "      <td>0.291261</td>\n",
       "      <td>0.290434</td>\n",
       "      <td>0.299794</td>\n",
       "      <td>0.293766</td>\n",
       "      <td>0.323006</td>\n",
       "      <td>0.313198</td>\n",
       "      <td>0.352680</td>\n",
       "      <td>0.361564</td>\n",
       "      <td>0.321201</td>\n",
       "      <td>0.347107</td>\n",
       "    </tr>\n",
       "    <tr>\n",
       "      <th>3</th>\n",
       "      <td>0.121539</td>\n",
       "      <td>0.133120</td>\n",
       "      <td>0.127482</td>\n",
       "      <td>0.010170</td>\n",
       "      <td>0.010574</td>\n",
       "      <td>0.109703</td>\n",
       "      <td>0.124790</td>\n",
       "      <td>0.115877</td>\n",
       "      <td>0.150718</td>\n",
       "      <td>0.140823</td>\n",
       "      <td>0.146237</td>\n",
       "      <td>0.121906</td>\n",
       "      <td>0.126267</td>\n",
       "      <td>0.115992</td>\n",
       "      <td>0.014631</td>\n",
       "      <td>0.106262</td>\n",
       "      <td>0.011939</td>\n",
       "    </tr>\n",
       "    <tr>\n",
       "      <th>4</th>\n",
       "      <td>0.166780</td>\n",
       "      <td>0.181134</td>\n",
       "      <td>0.181988</td>\n",
       "      <td>0.132031</td>\n",
       "      <td>0.108497</td>\n",
       "      <td>0.198632</td>\n",
       "      <td>0.206703</td>\n",
       "      <td>0.218590</td>\n",
       "      <td>0.215900</td>\n",
       "      <td>0.208162</td>\n",
       "      <td>0.201091</td>\n",
       "      <td>0.214315</td>\n",
       "      <td>0.224919</td>\n",
       "      <td>0.189088</td>\n",
       "      <td>0.132407</td>\n",
       "      <td>0.228986</td>\n",
       "      <td>0.123847</td>\n",
       "    </tr>\n",
       "    <tr>\n",
       "      <th>5</th>\n",
       "      <td>0.020077</td>\n",
       "      <td>0.016186</td>\n",
       "      <td>0.016316</td>\n",
       "      <td>0.181297</td>\n",
       "      <td>0.220820</td>\n",
       "      <td>0.021233</td>\n",
       "      <td>0.018763</td>\n",
       "      <td>0.015898</td>\n",
       "      <td>0.012121</td>\n",
       "      <td>0.014641</td>\n",
       "      <td>0.010999</td>\n",
       "      <td>0.013632</td>\n",
       "      <td>0.023572</td>\n",
       "      <td>0.013701</td>\n",
       "      <td>0.178526</td>\n",
       "      <td>0.013849</td>\n",
       "      <td>0.183857</td>\n",
       "    </tr>\n",
       "    <tr>\n",
       "      <th>6</th>\n",
       "      <td>0.019614</td>\n",
       "      <td>0.013476</td>\n",
       "      <td>0.015307</td>\n",
       "      <td>0.014394</td>\n",
       "      <td>0.020318</td>\n",
       "      <td>0.014274</td>\n",
       "      <td>0.019114</td>\n",
       "      <td>0.014483</td>\n",
       "      <td>0.000000</td>\n",
       "      <td>0.012983</td>\n",
       "      <td>0.014796</td>\n",
       "      <td>0.014861</td>\n",
       "      <td>0.023000</td>\n",
       "      <td>0.000000</td>\n",
       "      <td>0.010766</td>\n",
       "      <td>0.012430</td>\n",
       "      <td>0.011781</td>\n",
       "    </tr>\n",
       "  </tbody>\n",
       "</table>\n",
       "</div>"
      ],
      "text/plain": [
       "   Doyle_AScandalinBohemia  Doyle_AStudyinScarlet  \\\n",
       "0                 0.110925               0.132284   \n",
       "1                 0.197019               0.189266   \n",
       "2                 0.354294               0.320902   \n",
       "3                 0.121539               0.133120   \n",
       "4                 0.166780               0.181134   \n",
       "5                 0.020077               0.016186   \n",
       "6                 0.019614               0.013476   \n",
       "\n",
       "   Doyle_TheHoundoftheBaskervilles  Doyle_TheSignoftheFour  \\\n",
       "0                         0.117435                0.124426   \n",
       "1                         0.191150                0.204241   \n",
       "2                         0.339018                0.314830   \n",
       "3                         0.127482                0.010170   \n",
       "4                         0.181988                0.132031   \n",
       "5                         0.016316                0.181297   \n",
       "6                         0.015307                0.014394   \n",
       "\n",
       "   Howard_GodsoftheNorth  Howard_SchadowsinZamboula  \\\n",
       "0               0.119542                   0.128699   \n",
       "1               0.183462                   0.195170   \n",
       "2               0.307924                   0.318302   \n",
       "3               0.010574                   0.109703   \n",
       "4               0.108497                   0.198632   \n",
       "5               0.220820                   0.021233   \n",
       "6               0.020318                   0.014274   \n",
       "\n",
       "   Howard_ShadowsintheMoonlight  Howard_TheDevilinIron  \\\n",
       "0                      0.126806               0.138573   \n",
       "1                      0.201164               0.194774   \n",
       "2                      0.292476               0.291261   \n",
       "3                      0.124790               0.115877   \n",
       "4                      0.206703               0.218590   \n",
       "5                      0.018763               0.015898   \n",
       "6                      0.019114               0.014483   \n",
       "\n",
       "   Kipling_TheEndofthePassage  Kipling_TheJungleBook  Kipling_ThyServantaDog  \\\n",
       "0                    0.131304               0.124935                0.146089   \n",
       "1                    0.182235               0.189734                0.179095   \n",
       "2                    0.290434               0.299794                0.293766   \n",
       "3                    0.150718               0.140823                0.146237   \n",
       "4                    0.215900               0.208162                0.201091   \n",
       "5                    0.012121               0.014641                0.010999   \n",
       "6                    0.000000               0.012983                0.014796   \n",
       "\n",
       "   Lovecraft_AttheMountainofMadness  Lovecraft_TheShunnedHouse  \\\n",
       "0                          0.117728                   0.117584   \n",
       "1                          0.182794                   0.163722   \n",
       "2                          0.323006                   0.313198   \n",
       "3                          0.121906                   0.126267   \n",
       "4                          0.214315                   0.224919   \n",
       "5                          0.013632                   0.023572   \n",
       "6                          0.014861                   0.023000   \n",
       "\n",
       "   Poe_EurekaAProsePoem  Poe_TheCaskofAmontillado  Poe_TheMasqueoftheRedDeath  \\\n",
       "0              0.114796                  0.095734                    0.121242   \n",
       "1              0.191503                  0.187748                    0.179353   \n",
       "2              0.352680                  0.361564                    0.321201   \n",
       "3              0.115992                  0.014631                    0.106262   \n",
       "4              0.189088                  0.132407                    0.228986   \n",
       "5              0.013701                  0.178526                    0.013849   \n",
       "6              0.000000                  0.010766                    0.012430   \n",
       "\n",
       "   Poe_ThePurloinedLetter  \n",
       "0                0.119887  \n",
       "1                0.179101  \n",
       "2                0.347107  \n",
       "3                0.011939  \n",
       "4                0.123847  \n",
       "5                0.183857  \n",
       "6                0.011781  "
      ]
     },
     "execution_count": 27,
     "metadata": {},
     "output_type": "execute_result"
    }
   ],
   "source": [
    "doc_topic_matrix_gensim"
   ]
  },
  {
   "cell_type": "markdown",
   "metadata": {},
   "source": [
    "## Visualisierung "
   ]
  },
  {
   "cell_type": "code",
   "execution_count": 28,
   "metadata": {
    "collapsed": false
   },
   "outputs": [
    {
     "data": {
      "text/plain": [
       "\"lda_model = 'out_easy/corpus.lda'\\ncorpus = 'out_easy/corpus.mm'\\ndictionary = 'out_easy/corpus.dict'\\ndoc_labels = 'out_easy/corpus_doclabels.txt'\\ninteractive  = False\\n\\nvis = visual.Visualization(lda_model, corpus, dictionary, doc_labels, interactive)\""
      ]
     },
     "execution_count": 28,
     "metadata": {},
     "output_type": "execute_result"
    }
   ],
   "source": [
    "'''lda_model = 'out_easy/corpus.lda'\n",
    "corpus = 'out_easy/corpus.mm'\n",
    "dictionary = 'out_easy/corpus.dict'\n",
    "doc_labels = 'out_easy/corpus_doclabels.txt'\n",
    "interactive  = False\n",
    "\n",
    "vis = visual.Visualization(lda_model, corpus, dictionary, doc_labels, interactive)'''"
   ]
  },
  {
   "cell_type": "markdown",
   "metadata": {},
   "source": [
    "##### Create a document-topic matrix (that is a pandas data frame actually)"
   ]
  },
  {
   "cell_type": "code",
   "execution_count": 29,
   "metadata": {
    "collapsed": false
   },
   "outputs": [],
   "source": [
    "doc_topic = visual.create_doc_topic(mm, model, doc_labels)"
   ]
  },
  {
   "cell_type": "markdown",
   "metadata": {},
   "source": [
    "##### Visualize document-topic matrix"
   ]
  },
  {
   "cell_type": "code",
   "execution_count": 32,
   "metadata": {
    "collapsed": false
   },
   "outputs": [
    {
     "data": {
      "text/plain": [
       "<module 'matplotlib.pyplot' from 'c:\\\\users\\\\philip\\\\appdata\\\\local\\\\programs\\\\python\\\\python35-32\\\\lib\\\\site-packages\\\\matplotlib\\\\pyplot.py'>"
      ]
     },
     "execution_count": 32,
     "metadata": {},
     "output_type": "execute_result"
    },
    {
     "data": {
      "image/png": "[encoded data removed]",
      "text/plain": [
       "<matplotlib.figure.Figure at 0xa89fb90>"
      ]
     },
     "metadata": {},
     "output_type": "display_data"
    }
   ],
   "source": [
    "%matplotlib inline\n",
    "visual.doc_topic_heatmap(doc_topic)"
   ]
  },
  {
   "cell_type": "markdown",
   "metadata": {},
   "source": [
    "##### Visualize topic distribution in a single document"
   ]
  },
  {
   "cell_type": "code",
   "execution_count": 31,
   "metadata": {
    "collapsed": false
   },
   "outputs": [
    {
     "data": {
      "image/png": "[encoded data removed]",
      "text/plain": [
       "<matplotlib.figure.Figure at 0xc0d94b0>"
      ]
     },
     "metadata": {},
     "output_type": "display_data"
    }
   ],
   "source": [
    "visual.plot_doc_topics(doc_topic, 0)"
   ]
  },
  {
   "cell_type": "markdown",
   "metadata": {
    "collapsed": true
   },
   "source": [
    "![success](http://cdn2.hubspot.net/hub/128506/file-446943132-jpg/images/computer_woman_success.jpg)"
   ]
  }
 ],
 "metadata": {
  "kernelspec": {
   "display_name": "Python 3",
   "language": "python",
   "name": "python3"
  },
  "language_info": {
   "codemirror_mode": {
    "name": "ipython",
    "version": 3
   },
   "file_extension": ".py",
   "mimetype": "text/x-python",
   "name": "python",
   "nbconvert_exporter": "python",
   "pygments_lexer": "ipython3",
   "version": "3.5.1"
  }
 },
 "nbformat": 4,
 "nbformat_minor": 0
}
