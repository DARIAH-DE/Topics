{
 "cells": [
  {
   "cell_type": "code",
   "execution_count": 2,
   "metadata": {
    "collapsed": false,
    "deletable": true,
    "editable": true
   },
   "outputs": [],
   "source": [
    "from dariah_topics import preprocessing as pre\n",
    "from dariah_topics import visualization as visual\n",
    "from dariah_topics import evaluation"
   ]
  },
  {
   "cell_type": "markdown",
   "metadata": {
    "deletable": true,
    "editable": true
   },
   "source": [
    "## Preprocessing"
   ]
  },
  {
   "cell_type": "markdown",
   "metadata": {
    "deletable": true,
    "editable": true
   },
   "source": [
    "#### Liste mit Dateinamen erzeugen"
   ]
  },
  {
   "cell_type": "code",
   "execution_count": 3,
   "metadata": {
    "collapsed": false,
    "deletable": true,
    "editable": true
   },
   "outputs": [
    {
     "name": "stderr",
     "output_type": "stream",
     "text": [
      "INFO preprocessing: Creating document list from TXT files ...\n"
     ]
    },
    {
     "data": {
      "text/plain": [
       "['corpus_txt/Doyle_AScandalinBohemia.txt',\n",
       " 'corpus_txt/Doyle_AStudyinScarlet.txt',\n",
       " 'corpus_txt/Doyle_TheHoundoftheBaskervilles.txt',\n",
       " 'corpus_txt/Doyle_TheSignoftheFour.txt',\n",
       " 'corpus_txt/Howard_GodsoftheNorth.txt']"
      ]
     },
     "execution_count": 3,
     "metadata": {},
     "output_type": "execute_result"
    }
   ],
   "source": [
    "path_txt = \"corpus_txt\"\n",
    "#path_txt = \"grenzbote_plain/*/\"\n",
    "#path_txt = \"wiki/\"\n",
    "\n",
    "doclist_txt = pre.create_document_list(path_txt)\n",
    "assert doclist_txt, \"No documents found\"\n",
    "doclist_txt[:5]"
   ]
  },
  {
   "cell_type": "markdown",
   "metadata": {
    "deletable": true,
    "editable": true
   },
   "source": [
    "#####  Liste mit Dokumentenlabels erzeugen - (Funktion wird durch Thorsten's generischere Funktion ersetzt)"
   ]
  },
  {
   "cell_type": "code",
   "execution_count": 4,
   "metadata": {
    "collapsed": false,
    "deletable": true,
    "editable": true
   },
   "outputs": [
    {
     "name": "stderr",
     "output_type": "stream",
     "text": [
      "INFO preprocessing: Creating document labels ...\n"
     ]
    },
    {
     "data": {
      "text/plain": [
       "['Doyle_AScandalinBohemia',\n",
       " 'Doyle_AStudyinScarlet',\n",
       " 'Doyle_TheHoundoftheBaskervilles',\n",
       " 'Doyle_TheSignoftheFour',\n",
       " 'Howard_GodsoftheNorth']"
      ]
     },
     "execution_count": 4,
     "metadata": {},
     "output_type": "execute_result"
    }
   ],
   "source": [
    "doc_labels = list(pre.get_labels(doclist_txt))\n",
    "doc_labels[:5]"
   ]
  },
  {
   "cell_type": "markdown",
   "metadata": {
    "deletable": true,
    "editable": true
   },
   "source": [
    "#### Corpus laden"
   ]
  },
  {
   "cell_type": "code",
   "execution_count": 5,
   "metadata": {
    "collapsed": false,
    "deletable": true,
    "editable": true
   },
   "outputs": [],
   "source": [
    "corpus_txt = pre.read_from_txt(doclist_txt)"
   ]
  },
  {
   "cell_type": "markdown",
   "metadata": {
    "deletable": true,
    "editable": true
   },
   "source": [
    "#### Tokenisieren"
   ]
  },
  {
   "cell_type": "code",
   "execution_count": 6,
   "metadata": {
    "collapsed": false,
    "deletable": true,
    "editable": true
   },
   "outputs": [
    {
     "name": "stderr",
     "output_type": "stream",
     "text": [
      "INFO preprocessing: Accessing TXT documents ...\n"
     ]
    }
   ],
   "source": [
    "doc_tokens = [list(pre.tokenize(txt)) for txt in list(corpus_txt)]"
   ]
  },
  {
   "cell_type": "markdown",
   "metadata": {
    "deletable": true,
    "editable": true
   },
   "source": [
    "#### Create Dictionaries"
   ]
  },
  {
   "cell_type": "code",
   "execution_count": 7,
   "metadata": {
    "collapsed": false,
    "deletable": true,
    "editable": true
   },
   "outputs": [],
   "source": [
    "id_types = pre.create_dictionary(doc_tokens)\n",
    "doc_ids = pre.create_dictionary(doc_labels)"
   ]
  },
  {
   "cell_type": "markdown",
   "metadata": {
    "deletable": true,
    "editable": true
   },
   "source": [
    "#### Sparse BOW Model"
   ]
  },
  {
   "cell_type": "code",
   "execution_count": 8,
   "metadata": {
    "collapsed": false,
    "deletable": true,
    "editable": true
   },
   "outputs": [],
   "source": [
    "sparse_bow = pre.create_mm(doc_labels, doc_tokens, id_types, doc_ids)"
   ]
  },
  {
   "cell_type": "code",
   "execution_count": 9,
   "metadata": {
    "collapsed": false,
    "deletable": true,
    "editable": true
   },
   "outputs": [
    {
     "data": {
      "text/html": [
       "<div>\n",
       "<table border=\"1\" class=\"dataframe\">\n",
       "  <thead>\n",
       "    <tr style=\"text-align: right;\">\n",
       "      <th></th>\n",
       "      <th></th>\n",
       "      <th>0</th>\n",
       "    </tr>\n",
       "    <tr>\n",
       "      <th>doc_id</th>\n",
       "      <th>token_id</th>\n",
       "      <th></th>\n",
       "    </tr>\n",
       "  </thead>\n",
       "  <tbody>\n",
       "    <tr>\n",
       "      <th rowspan=\"5\" valign=\"top\">1</th>\n",
       "      <th>16384</th>\n",
       "      <td>1</td>\n",
       "    </tr>\n",
       "    <tr>\n",
       "      <th>16387</th>\n",
       "      <td>2</td>\n",
       "    </tr>\n",
       "    <tr>\n",
       "      <th>5</th>\n",
       "      <td>8</td>\n",
       "    </tr>\n",
       "    <tr>\n",
       "      <th>16391</th>\n",
       "      <td>5</td>\n",
       "    </tr>\n",
       "    <tr>\n",
       "      <th>8</th>\n",
       "      <td>1</td>\n",
       "    </tr>\n",
       "  </tbody>\n",
       "</table>\n",
       "</div>"
      ],
      "text/plain": [
       "                 0\n",
       "doc_id token_id   \n",
       "1      16384     1\n",
       "       16387     2\n",
       "       5         8\n",
       "       16391     5\n",
       "       8         1"
      ]
     },
     "execution_count": 9,
     "metadata": {},
     "output_type": "execute_result"
    }
   ],
   "source": [
    "sparse_bow[:5]"
   ]
  },
  {
   "cell_type": "markdown",
   "metadata": {
    "deletable": true,
    "editable": true
   },
   "source": [
    "## Topic Modeling with Gensim"
   ]
  },
  {
   "cell_type": "markdown",
   "metadata": {
    "deletable": true,
    "editable": true
   },
   "source": [
    "##### Saving Sparse BOW"
   ]
  },
  {
   "cell_type": "code",
   "execution_count": 10,
   "metadata": {
    "collapsed": false,
    "deletable": true,
    "editable": true
   },
   "outputs": [],
   "source": [
    "pre.save_bow_mm(sparse_bow, \"gensim_txt\")"
   ]
  },
  {
   "cell_type": "markdown",
   "metadata": {
    "deletable": true,
    "editable": true
   },
   "source": [
    "#### Import Market Matrix"
   ]
  },
  {
   "cell_type": "code",
   "execution_count": 11,
   "metadata": {
    "collapsed": false,
    "deletable": true,
    "editable": true
   },
   "outputs": [],
   "source": [
    "from gensim.models import LdaModel\n",
    "from gensim.corpora import MmCorpus"
   ]
  },
  {
   "cell_type": "code",
   "execution_count": 12,
   "metadata": {
    "collapsed": false,
    "deletable": true,
    "editable": true
   },
   "outputs": [
    {
     "name": "stderr",
     "output_type": "stream",
     "text": [
      "INFO gensim.matutils: initializing corpus reader from gensim_txt.mm\n",
      "INFO gensim.matutils: accepted corpus with 17 documents, 22232 features, 369906 non-zero entries\n"
     ]
    }
   ],
   "source": [
    "mm = MmCorpus(\"gensim_txt.mm\")"
   ]
  },
  {
   "cell_type": "code",
   "execution_count": 13,
   "metadata": {
    "collapsed": false,
    "deletable": true,
    "editable": true
   },
   "outputs": [],
   "source": [
    "doc2id = {value : key for key, value in doc_ids.items()}\n",
    "type2id = {value : key for key, value in id_types.items()}"
   ]
  },
  {
   "cell_type": "markdown",
   "metadata": {
    "deletable": true,
    "editable": true
   },
   "source": [
    "##### Remove Features"
   ]
  },
  {
   "cell_type": "markdown",
   "metadata": {
    "deletable": true,
    "editable": true
   },
   "source": [
    "type2id = {value : key for key, value in id_types.items()}\n",
    "sparse_bow_collapsed = sparse_bow.groupby(sparse_bow.index.get_level_values('token_id')).sum()"
   ]
  },
  {
   "cell_type": "markdown",
   "metadata": {
    "deletable": true,
    "editable": true
   },
   "source": [
    "sparse_bow_hapax = sparse_bow_collapsed.loc[sparse_bow_collapsed[0] == 1]\n",
    "hapax = [type2id[key] for key in sparse_bow_hapax.index.get_level_values('token_id')]"
   ]
  },
  {
   "cell_type": "markdown",
   "metadata": {
    "deletable": true,
    "editable": true
   },
   "source": [
    "len(hapax)"
   ]
  },
  {
   "cell_type": "code",
   "execution_count": 14,
   "metadata": {
    "collapsed": false,
    "deletable": true,
    "editable": true
   },
   "outputs": [],
   "source": [
    "import os.path\n",
    "basepath = os.path.abspath('.')\n",
    "\n",
    "with open(os.path.join(basepath, \"tutorial_supplementals\", \"stopwords\", \"de.txt\"), 'r', encoding = 'utf-8') as f: \n",
    "    stopword_list = f.read().split('\\n')\n",
    "    \n",
    "stopword_list = set(stopword_list)"
   ]
  },
  {
   "cell_type": "code",
   "execution_count": 15,
   "metadata": {
    "collapsed": false,
    "deletable": true,
    "editable": true
   },
   "outputs": [
    {
     "name": "stderr",
     "output_type": "stream",
     "text": [
      "INFO preprocessing: Find hapax legomena ...\n",
      "INFO preprocessing: Finding stopwords ...\n",
      "INFO preprocessing: Removing features ...\n"
     ]
    }
   ],
   "source": [
    "hapax_from_remove = pre.find_hapax(sparse_bow, id_types)\n",
    "stopwords_from_remove = pre.find_stopwords(sparse_bow, id_types, mfw=75)\n",
    "\n",
    "#features_to_be_removed = set(hapax_from_remove + stopwords_from_remove)\n",
    "features_to_be_removed = stopwords_from_remove\n",
    "\n",
    "sparse_bow_short = pre.remove_features(sparse_bow, id_types, features_to_be_removed)"
   ]
  },
  {
   "cell_type": "code",
   "execution_count": 16,
   "metadata": {
    "collapsed": false,
    "deletable": true,
    "editable": true
   },
   "outputs": [
    {
     "data": {
      "text/plain": [
       "75"
      ]
     },
     "execution_count": 16,
     "metadata": {},
     "output_type": "execute_result"
    }
   ],
   "source": [
    "len(features_to_be_removed)"
   ]
  },
  {
   "cell_type": "code",
   "execution_count": 17,
   "metadata": {
    "collapsed": false,
    "deletable": true,
    "editable": true
   },
   "outputs": [],
   "source": [
    "pre.save_bow_mm(sparse_bow_short, \"gensim_txt\")"
   ]
  },
  {
   "cell_type": "code",
   "execution_count": 18,
   "metadata": {
    "collapsed": false,
    "deletable": true,
    "editable": true
   },
   "outputs": [
    {
     "name": "stderr",
     "output_type": "stream",
     "text": [
      "INFO gensim.matutils: initializing corpus reader from gensim_txt.mm\n",
      "INFO gensim.matutils: accepted corpus with 17 documents, 22232 features, 192053 non-zero entries\n"
     ]
    }
   ],
   "source": [
    "mm = MmCorpus(\"gensim_txt.mm\")"
   ]
  },
  {
   "cell_type": "markdown",
   "metadata": {
    "deletable": true,
    "editable": true
   },
   "source": [
    "#### Convert sparse_bow to list of (doc, tokens) tuples (like doc2bow)"
   ]
  },
  {
   "cell_type": "code",
   "execution_count": 19,
   "metadata": {
    "collapsed": false,
    "deletable": true,
    "editable": true
   },
   "outputs": [],
   "source": [
    "doc2bow_list = []\n",
    "\n",
    "for doc in sparse_bow_short.index.groupby(sparse_bow_short.index.get_level_values('doc_id')):\n",
    "    temp = [(token, count) for token, count in zip(sparse_bow_short.loc[doc].index, sparse_bow_short.loc[doc][0])]\n",
    "    doc2bow_list.append(temp)"
   ]
  },
  {
   "cell_type": "code",
   "execution_count": 20,
   "metadata": {
    "collapsed": false,
    "deletable": true,
    "editable": true
   },
   "outputs": [
    {
     "data": {
      "text/plain": [
       "17"
      ]
     },
     "execution_count": 20,
     "metadata": {},
     "output_type": "execute_result"
    }
   ],
   "source": [
    "len(doc2bow_list)"
   ]
  },
  {
   "cell_type": "code",
   "execution_count": 21,
   "metadata": {
    "collapsed": false,
    "deletable": true,
    "editable": true
   },
   "outputs": [
    {
     "name": "stderr",
     "output_type": "stream",
     "text": [
      "INFO gensim.models.ldamodel: using symmetric alpha at 0.05\n",
      "INFO gensim.models.ldamodel: using symmetric eta at 4.49781855799937e-05\n",
      "INFO gensim.models.ldamodel: using serial LDA version on this node\n",
      "INFO gensim.models.ldamodel: running online LDA training, 20 topics, 10 passes over the supplied corpus of 17 documents, updating model once every 17 documents, evaluating perplexity every 17 documents, iterating 20x with a convergence threshold of 0.001000\n",
      "INFO gensim.models.ldamodel: -14.378 per-word bound, 21293.5 perplexity estimate based on a held-out corpus of 17 documents with 192053 words\n",
      "INFO gensim.models.ldamodel: PROGRESS: pass 0, at document #17/17\n",
      "INFO gensim.models.ldamodel: topic #7 (0.050): 0.003*\"argument\" + 0.003*\"lightish\" + 0.003*\"stolid\" + 0.003*\"bristled\" + 0.003*\"halloa\" + 0.003*\"gradings\" + 0.003*\"lightly\" + 0.002*\"commander\" + 0.002*\"vast-enough\" + 0.002*\"antiquity\"\n",
      "INFO gensim.models.ldamodel: topic #9 (0.050): 0.004*\"vast-enough\" + 0.003*\"bristled\" + 0.003*\"lightly\" + 0.003*\"slender\" + 0.003*\"commander\" + 0.003*\"unmanned\" + 0.003*\"keswick\" + 0.002*\"donations\" + 0.002*\"anthropoid\" + 0.002*\"lonesome\"\n",
      "INFO gensim.models.ldamodel: topic #16 (0.050): 0.003*\"stolid\" + 0.003*\"nasty\" + 0.003*\"rafters\" + 0.003*\"keswick\" + 0.003*\"long-wished\" + 0.003*\"lightly\" + 0.003*\"lightish\" + 0.003*\"micefield\" + 0.003*\"unmanned\" + 0.003*\"anthropoid\"\n",
      "INFO gensim.models.ldamodel: topic #10 (0.050): 0.003*\"waged\" + 0.003*\"handcuffs\" + 0.003*\"bristled\" + 0.003*\"nasty\" + 0.003*\"commander\" + 0.003*\"antiquity\" + 0.003*\"lonesome\" + 0.002*\"turned\" + 0.002*\"nodded\" + 0.002*\"gradings\"\n",
      "INFO gensim.models.ldamodel: topic #19 (0.050): 0.004*\"lightish\" + 0.003*\"commander\" + 0.003*\"waged\" + 0.003*\"nasty\" + 0.003*\"gray-beards\" + 0.003*\"keswick\" + 0.003*\"micefield\" + 0.003*\"argument\" + 0.003*\"halloa\" + 0.003*\"lonesome\"\n",
      "INFO gensim.models.ldamodel: topic diff=5.870894, rho=1.000000\n",
      "INFO gensim.models.ldamodel: -10.951 per-word bound, 1979.5 perplexity estimate based on a held-out corpus of 17 documents with 192053 words\n",
      "INFO gensim.models.ldamodel: PROGRESS: pass 1, at document #17/17\n",
      "INFO gensim.models.ldamodel: topic #10 (0.050): 0.003*\"waged\" + 0.003*\"handcuffs\" + 0.002*\"bristled\" + 0.002*\"nasty\" + 0.002*\"commander\" + 0.002*\"antiquity\" + 0.002*\"lonesome\" + 0.002*\"gradings\" + 0.002*\"turned\" + 0.002*\"nodded\"\n",
      "INFO gensim.models.ldamodel: topic #12 (0.050): 0.003*\"lightish\" + 0.002*\"gradings\" + 0.002*\"cynical\" + 0.002*\"waged\" + 0.002*\"lightly\" + 0.002*\"vast-enough\" + 0.002*\"rafters\" + 0.002*\"bristled\" + 0.002*\"handcuffs\" + 0.002*\"nasty\"\n",
      "INFO gensim.models.ldamodel: topic #4 (0.050): 0.004*\"six-mile\" + 0.003*\"bristled\" + 0.003*\"commander\" + 0.003*\"vast-enough\" + 0.003*\"keswick\" + 0.003*\"lightish\" + 0.003*\"tense\" + 0.003*\"gray-beards\" + 0.002*\"stolid\" + 0.002*\"slender\"\n",
      "INFO gensim.models.ldamodel: topic #0 (0.050): 0.003*\"waged\" + 0.003*\"keswick\" + 0.003*\"nasty\" + 0.003*\"bristled\" + 0.003*\"turned\" + 0.003*\"commander\" + 0.003*\"unmanned\" + 0.003*\"handcuffs\" + 0.003*\"lightish\" + 0.003*\"vast-enough\"\n",
      "INFO gensim.models.ldamodel: topic #1 (0.050): 0.004*\"platforms\" + 0.004*\"stolid\" + 0.003*\"keswick\" + 0.003*\"gradings\" + 0.003*\"lonesome\" + 0.003*\"waged\" + 0.003*\"bristled\" + 0.003*\"chum\" + 0.003*\"wrote\" + 0.003*\"anthropoid\"\n",
      "INFO gensim.models.ldamodel: topic diff=2.588726, rho=0.577350\n",
      "INFO gensim.models.ldamodel: -9.799 per-word bound, 891.0 perplexity estimate based on a held-out corpus of 17 documents with 192053 words\n",
      "INFO gensim.models.ldamodel: PROGRESS: pass 2, at document #17/17\n",
      "INFO gensim.models.ldamodel: topic #18 (0.050): 0.009*\"gray-beards\" + 0.005*\"well-beloved\" + 0.005*\"nasty\" + 0.004*\"downright\" + 0.004*\"sledging\" + 0.004*\"transcendent\" + 0.004*\"nodded\" + 0.004*\"palate\" + 0.004*\"commander\" + 0.004*\"embrace\"\n",
      "INFO gensim.models.ldamodel: topic #6 (0.050): 0.004*\"slender\" + 0.003*\"commander\" + 0.003*\"nasty\" + 0.003*\"gray-beards\" + 0.003*\"cynical\" + 0.003*\"halloa\" + 0.003*\"lightish\" + 0.003*\"wrote\" + 0.003*\"refers\" + 0.003*\"gradings\"\n",
      "INFO gensim.models.ldamodel: topic #5 (0.050): 0.004*\"vast-enough\" + 0.003*\"cynical\" + 0.003*\"lightish\" + 0.003*\"chum\" + 0.003*\"unmanned\" + 0.003*\"stolid\" + 0.003*\"tense\" + 0.003*\"rafters\" + 0.003*\"keswick\" + 0.003*\"waged\"\n",
      "INFO gensim.models.ldamodel: topic #11 (0.050): 0.003*\"rafters\" + 0.002*\"gray-beards\" + 0.002*\"tense\" + 0.002*\"stolid\" + 0.002*\"keswick\" + 0.002*\"waged\" + 0.002*\"vast-enough\" + 0.002*\"time-stained\" + 0.002*\"six-mile\" + 0.002*\"gradings\"\n",
      "INFO gensim.models.ldamodel: topic #0 (0.050): 0.004*\"bristled\" + 0.004*\"halloa\" + 0.004*\"turned\" + 0.004*\"keswick\" + 0.003*\"lonesome\" + 0.003*\"waged\" + 0.003*\"antiquity\" + 0.003*\"nasty\" + 0.003*\"unmanned\" + 0.003*\"draggly\"\n",
      "INFO gensim.models.ldamodel: topic diff=2.155728, rho=0.500000\n",
      "INFO gensim.models.ldamodel: -9.313 per-word bound, 636.0 perplexity estimate based on a held-out corpus of 17 documents with 192053 words\n",
      "INFO gensim.models.ldamodel: PROGRESS: pass 3, at document #17/17\n",
      "INFO gensim.models.ldamodel: topic #7 (0.050): 0.002*\"argument\" + 0.002*\"lightish\" + 0.002*\"stolid\" + 0.002*\"halloa\" + 0.001*\"bristled\" + 0.001*\"gradings\" + 0.001*\"lightly\" + 0.001*\"antiquity\" + 0.001*\"commander\" + 0.001*\"vast-enough\"\n",
      "INFO gensim.models.ldamodel: topic #16 (0.050): 0.002*\"stolid\" + 0.002*\"nasty\" + 0.002*\"long-wished\" + 0.002*\"rafters\" + 0.002*\"keswick\" + 0.002*\"lightish\" + 0.002*\"anthropoid\" + 0.002*\"lightly\" + 0.002*\"micefield\" + 0.002*\"unmanned\"\n",
      "INFO gensim.models.ldamodel: topic #14 (0.050): 0.005*\"platforms\" + 0.005*\"mahouts\" + 0.004*\"lightly\" + 0.004*\"fumble\" + 0.004*\"chum\" + 0.003*\"stolid\" + 0.003*\"keswick\" + 0.003*\"micefield\" + 0.003*\"leaves-on\" + 0.003*\"waged\"\n",
      "INFO gensim.models.ldamodel: topic #4 (0.050): 0.008*\"six-mile\" + 0.005*\"afar\" + 0.004*\"tense\" + 0.004*\"vast-enough\" + 0.003*\"loading\" + 0.003*\"gray-beards\" + 0.003*\"stolid\" + 0.003*\"letzten\" + 0.003*\"resistance\" + 0.003*\"keswick\"\n",
      "INFO gensim.models.ldamodel: topic #9 (0.050): 0.007*\"slender\" + 0.006*\"six-mile\" + 0.004*\"tense\" + 0.004*\"vast-enough\" + 0.004*\"screaming\" + 0.004*\"halloa\" + 0.003*\"rafters\" + 0.003*\"congruity\" + 0.003*\"keswick\" + 0.003*\"sacrifice\"\n",
      "INFO gensim.models.ldamodel: topic diff=1.613708, rho=0.447214\n",
      "INFO gensim.models.ldamodel: -9.068 per-word bound, 536.6 perplexity estimate based on a held-out corpus of 17 documents with 192053 words\n",
      "INFO gensim.models.ldamodel: PROGRESS: pass 4, at document #17/17\n",
      "INFO gensim.models.ldamodel: topic #3 (0.050): 0.003*\"slender\" + 0.002*\"lightish\" + 0.002*\"halloa\" + 0.002*\"commander\" + 0.002*\"sacrifice\" + 0.002*\"rejection\" + 0.002*\"unmanned\" + 0.002*\"congruity\" + 0.002*\"lonesome\" + 0.002*\"bristled\"\n",
      "INFO gensim.models.ldamodel: topic #18 (0.050): 0.009*\"gray-beards\" + 0.006*\"well-beloved\" + 0.005*\"nasty\" + 0.005*\"downright\" + 0.004*\"sledging\" + 0.004*\"transcendent\" + 0.004*\"palate\" + 0.004*\"nodded\" + 0.004*\"embrace\" + 0.004*\"commander\"\n",
      "INFO gensim.models.ldamodel: topic #17 (0.050): 0.002*\"halloa\" + 0.002*\"lightly\" + 0.002*\"bristled\" + 0.002*\"lightish\" + 0.002*\"micefield\" + 0.002*\"donations\" + 0.002*\"long-wished\" + 0.002*\"waged\" + 0.002*\"gradings\" + 0.002*\"rejection\"\n",
      "INFO gensim.models.ldamodel: topic #7 (0.050): 0.001*\"argument\" + 0.001*\"lightish\" + 0.001*\"stolid\" + 0.001*\"halloa\" + 0.001*\"bristled\" + 0.001*\"gradings\" + 0.001*\"lightly\" + 0.001*\"antiquity\" + 0.001*\"commander\" + 0.001*\"vast-enough\"\n",
      "INFO gensim.models.ldamodel: topic #13 (0.050): 0.002*\"waged\" + 0.002*\"bristled\" + 0.002*\"gradings\" + 0.002*\"keswick\" + 0.001*\"rôle\" + 0.001*\"stolid\" + 0.001*\"tense\" + 0.001*\"lightly\" + 0.001*\"cynical\" + 0.001*\"lonesome\"\n",
      "INFO gensim.models.ldamodel: topic diff=1.209007, rho=0.408248\n",
      "INFO gensim.models.ldamodel: -8.925 per-word bound, 485.9 perplexity estimate based on a held-out corpus of 17 documents with 192053 words\n",
      "INFO gensim.models.ldamodel: PROGRESS: pass 5, at document #17/17\n",
      "INFO gensim.models.ldamodel: topic #8 (0.050): 0.001*\"argument\" + 0.001*\"commander\" + 0.001*\"lightly\" + 0.001*\"stolid\" + 0.001*\"lonesome\" + 0.001*\"waged\" + 0.001*\"lightish\" + 0.001*\"nasty\" + 0.001*\"bristled\" + 0.001*\"vast-enough\"\n",
      "INFO gensim.models.ldamodel: topic #1 (0.050): 0.008*\"platforms\" + 0.006*\"query\" + 0.005*\"chum\" + 0.005*\"anthropoid\" + 0.005*\"stolid\" + 0.005*\"really\" + 0.005*\"gradings\" + 0.005*\"tradesmen\" + 0.005*\"fumble\" + 0.004*\"smother\"\n",
      "INFO gensim.models.ldamodel: topic #2 (0.050): 0.007*\"hard\" + 0.006*\"beg\" + 0.006*\"gathered\" + 0.004*\"gray-beards\" + 0.004*\"sandstone\" + 0.004*\"turned\" + 0.003*\"lightish\" + 0.003*\"contagious\" + 0.003*\"well-beloved\" + 0.003*\"barks\"\n",
      "INFO gensim.models.ldamodel: topic #14 (0.050): 0.006*\"platforms\" + 0.005*\"mahouts\" + 0.004*\"lightly\" + 0.004*\"chum\" + 0.004*\"fumble\" + 0.004*\"stolid\" + 0.003*\"keswick\" + 0.003*\"micefield\" + 0.003*\"waged\" + 0.003*\"leaves-on\"\n",
      "INFO gensim.models.ldamodel: topic #17 (0.050): 0.002*\"halloa\" + 0.002*\"lightly\" + 0.001*\"bristled\" + 0.001*\"lightish\" + 0.001*\"micefield\" + 0.001*\"donations\" + 0.001*\"long-wished\" + 0.001*\"waged\" + 0.001*\"gradings\" + 0.001*\"rejection\"\n",
      "INFO gensim.models.ldamodel: topic diff=0.910177, rho=0.377964\n",
      "INFO gensim.models.ldamodel: -8.836 per-word bound, 456.8 perplexity estimate based on a held-out corpus of 17 documents with 192053 words\n",
      "INFO gensim.models.ldamodel: PROGRESS: pass 6, at document #17/17\n",
      "INFO gensim.models.ldamodel: topic #12 (0.050): 0.001*\"lightish\" + 0.001*\"gradings\" + 0.001*\"cynical\" + 0.001*\"waged\" + 0.001*\"lightly\" + 0.001*\"vast-enough\" + 0.001*\"rafters\" + 0.001*\"bristled\" + 0.001*\"handcuffs\" + 0.001*\"nasty\"\n",
      "INFO gensim.models.ldamodel: topic #10 (0.050): 0.001*\"waged\" + 0.001*\"handcuffs\" + 0.001*\"bristled\" + 0.001*\"nasty\" + 0.001*\"commander\" + 0.001*\"antiquity\" + 0.001*\"lonesome\" + 0.000*\"gradings\" + 0.000*\"turned\" + 0.000*\"nodded\"\n",
      "INFO gensim.models.ldamodel: topic #15 (0.050): 0.005*\"lightly\" + 0.005*\"knowest\" + 0.004*\"incipiency\" + 0.004*\"lightish\" + 0.004*\"keswick\" + 0.004*\"waged\" + 0.003*\"halloa\" + 0.003*\"fête\" + 0.003*\"divans\" + 0.003*\"donations\"\n",
      "INFO gensim.models.ldamodel: topic #0 (0.050): 0.007*\"halloa\" + 0.006*\"bristled\" + 0.005*\"lonesome\" + 0.005*\"antiquity\" + 0.005*\"khosatral\" + 0.005*\"turned\" + 0.004*\"limited\" + 0.004*\"draggly\" + 0.004*\"sicken\" + 0.004*\"spared\"\n",
      "INFO gensim.models.ldamodel: topic #6 (0.050): 0.004*\"slender\" + 0.004*\"nasty\" + 0.004*\"commander\" + 0.003*\"gray-beards\" + 0.003*\"cynical\" + 0.003*\"wrote\" + 0.003*\"lightish\" + 0.003*\"beast's\" + 0.003*\"unmanned\" + 0.003*\"refers\"\n",
      "INFO gensim.models.ldamodel: topic diff=0.689884, rho=0.353553\n",
      "INFO gensim.models.ldamodel: -8.778 per-word bound, 438.9 perplexity estimate based on a held-out corpus of 17 documents with 192053 words\n",
      "INFO gensim.models.ldamodel: PROGRESS: pass 7, at document #17/17\n",
      "INFO gensim.models.ldamodel: topic #1 (0.050): 0.009*\"platforms\" + 0.006*\"query\" + 0.005*\"anthropoid\" + 0.005*\"chum\" + 0.005*\"stolid\" + 0.005*\"really\" + 0.005*\"gradings\" + 0.005*\"tradesmen\" + 0.005*\"fumble\" + 0.005*\"smother\"\n",
      "INFO gensim.models.ldamodel: topic #19 (0.050): 0.006*\"tokay\" + 0.006*\"perplexing\" + 0.004*\"six-mile\" + 0.004*\"seek\" + 0.004*\"screaming\" + 0.004*\"toppled\" + 0.003*\"rafters\" + 0.003*\"misled\" + 0.003*\"loins\" + 0.003*\"ebon\"\n",
      "INFO gensim.models.ldamodel: topic #7 (0.050): 0.001*\"argument\" + 0.000*\"lightish\" + 0.000*\"stolid\" + 0.000*\"halloa\" + 0.000*\"bristled\" + 0.000*\"gradings\" + 0.000*\"lightly\" + 0.000*\"antiquity\" + 0.000*\"commander\" + 0.000*\"vast-enough\"\n",
      "INFO gensim.models.ldamodel: topic #14 (0.050): 0.006*\"mahouts\" + 0.005*\"platforms\" + 0.004*\"lightly\" + 0.004*\"chum\" + 0.004*\"fumble\" + 0.004*\"stolid\" + 0.004*\"keswick\" + 0.003*\"waged\" + 0.003*\"micefield\" + 0.003*\"leaves-on\"\n",
      "INFO gensim.models.ldamodel: topic #13 (0.050): 0.001*\"waged\" + 0.001*\"bristled\" + 0.001*\"gradings\" + 0.001*\"keswick\" + 0.001*\"rôle\" + 0.001*\"stolid\" + 0.001*\"tense\" + 0.001*\"lightly\" + 0.001*\"cynical\" + 0.001*\"lonesome\"\n",
      "INFO gensim.models.ldamodel: topic diff=0.526365, rho=0.333333\n",
      "INFO gensim.models.ldamodel: -8.739 per-word bound, 427.2 perplexity estimate based on a held-out corpus of 17 documents with 192053 words\n",
      "INFO gensim.models.ldamodel: PROGRESS: pass 8, at document #17/17\n",
      "INFO gensim.models.ldamodel: topic #0 (0.050): 0.007*\"halloa\" + 0.006*\"bristled\" + 0.005*\"lonesome\" + 0.005*\"antiquity\" + 0.005*\"khosatral\" + 0.005*\"turned\" + 0.005*\"limited\" + 0.004*\"draggly\" + 0.004*\"sicken\" + 0.004*\"spared\"\n",
      "INFO gensim.models.ldamodel: topic #17 (0.050): 0.001*\"halloa\" + 0.001*\"lightly\" + 0.001*\"bristled\" + 0.001*\"lightish\" + 0.001*\"micefield\" + 0.001*\"donations\" + 0.001*\"long-wished\" + 0.001*\"waged\" + 0.001*\"gradings\" + 0.001*\"rejection\"\n",
      "INFO gensim.models.ldamodel: topic #3 (0.050): 0.001*\"slender\" + 0.001*\"lightish\" + 0.001*\"halloa\" + 0.001*\"commander\" + 0.001*\"sacrifice\" + 0.001*\"rejection\" + 0.001*\"unmanned\" + 0.001*\"congruity\" + 0.001*\"lonesome\" + 0.001*\"bristled\"\n",
      "INFO gensim.models.ldamodel: topic #10 (0.050): 0.000*\"waged\" + 0.000*\"handcuffs\" + 0.000*\"bristled\" + 0.000*\"nasty\" + 0.000*\"commander\" + 0.000*\"antiquity\" + 0.000*\"lonesome\" + 0.000*\"gradings\" + 0.000*\"turned\" + 0.000*\"nodded\"\n",
      "INFO gensim.models.ldamodel: topic #11 (0.050): 0.001*\"guddee\" + 0.001*\"t-happen\" + 0.001*\"advanced\" + 0.001*\"either\" + 0.001*\"fortunes\" + 0.001*\"credibilities\" + 0.001*\"lusted\" + 0.001*\"owner\" + 0.001*\"upthrust\" + 0.001*\"victims\"\n",
      "INFO gensim.models.ldamodel: topic diff=0.404001, rho=0.316228\n",
      "INFO gensim.models.ldamodel: -8.712 per-word bound, 419.4 perplexity estimate based on a held-out corpus of 17 documents with 192053 words\n",
      "INFO gensim.models.ldamodel: PROGRESS: pass 9, at document #17/17\n",
      "INFO gensim.models.ldamodel: topic #13 (0.050): 0.000*\"waged\" + 0.000*\"bristled\" + 0.000*\"gradings\" + 0.000*\"keswick\" + 0.000*\"rôle\" + 0.000*\"stolid\" + 0.000*\"tense\" + 0.000*\"lightly\" + 0.000*\"cynical\" + 0.000*\"lonesome\"\n",
      "INFO gensim.models.ldamodel: topic #17 (0.050): 0.001*\"halloa\" + 0.001*\"lightly\" + 0.000*\"bristled\" + 0.000*\"lightish\" + 0.000*\"micefield\" + 0.000*\"donations\" + 0.000*\"long-wished\" + 0.000*\"waged\" + 0.000*\"gradings\" + 0.000*\"rejection\"\n",
      "INFO gensim.models.ldamodel: topic #5 (0.050): 0.006*\"vast-enough\" + 0.003*\"tense\" + 0.003*\"cynical\" + 0.003*\"rodger\" + 0.003*\"lightish\" + 0.003*\"gray-beards\" + 0.003*\"rafters\" + 0.003*\"opposition\" + 0.003*\"valueless\" + 0.003*\"whirl\"\n",
      "INFO gensim.models.ldamodel: topic #4 (0.050): 0.009*\"six-mile\" + 0.007*\"afar\" + 0.004*\"tense\" + 0.004*\"vast-enough\" + 0.004*\"loading\" + 0.004*\"gray-beards\" + 0.004*\"resistance\" + 0.003*\"letzten\" + 0.003*\"stolid\" + 0.003*\"night-times\"\n",
      "INFO gensim.models.ldamodel: topic #6 (0.050): 0.004*\"nasty\" + 0.004*\"gray-beards\" + 0.004*\"commander\" + 0.003*\"wrote\" + 0.003*\"cynical\" + 0.003*\"beast's\" + 0.003*\"lightish\" + 0.003*\"unmanned\" + 0.003*\"half-ruined\" + 0.003*\"well-beloved\"\n",
      "INFO gensim.models.ldamodel: topic diff=0.311909, rho=0.301511\n"
     ]
    }
   ],
   "source": [
    "#model = LdaModel(corpus=mm, id2word=type2id, num_topics=60, alpha = \"symmetric\", passes = 10) #import momentan in visual \n",
    "# -> da ich mir noch nicht sicher bin, welche Funktionen in das tm_gensim.py sollen\n",
    "model = LdaModel(corpus=mm, id2word=type2id, num_topics=20, passes = 10, iterations = 20)"
   ]
  },
  {
   "cell_type": "code",
   "execution_count": 22,
   "metadata": {
    "collapsed": false,
    "deletable": true,
    "editable": true
   },
   "outputs": [
    {
     "data": {
      "text/plain": [
       "[(0, 0.055873395992774702),\n",
       " (1, 0.044800377975782915),\n",
       " (2, 0.021977716143184885),\n",
       " (4, 0.032973434512450606),\n",
       " (5, 0.032222967454788032),\n",
       " (6, 0.29064478027061624),\n",
       " (9, 0.066286775823352878),\n",
       " (14, 0.073883870840484478),\n",
       " (15, 0.21548431802799242),\n",
       " (18, 0.11099619950188283),\n",
       " (19, 0.053536600533612172)]"
      ]
     },
     "execution_count": 22,
     "metadata": {},
     "output_type": "execute_result"
    }
   ],
   "source": [
    "model.get_document_topics(doc2bow_list[1])"
   ]
  },
  {
   "cell_type": "code",
   "execution_count": 23,
   "metadata": {
    "collapsed": false,
    "deletable": true,
    "editable": true
   },
   "outputs": [
    {
     "data": {
      "text/plain": [
       "['platforms',\n",
       " 'query',\n",
       " 'anthropoid',\n",
       " 'chum',\n",
       " 'stolid',\n",
       " 'really',\n",
       " 'tradesmen',\n",
       " 'fumble',\n",
       " 'gradings',\n",
       " 'smother']"
      ]
     },
     "execution_count": 23,
     "metadata": {},
     "output_type": "execute_result"
    }
   ],
   "source": [
    "#Anzeige der keywords für topic n\n",
    "n = 1\n",
    "topic_nr_x = model.get_topic_terms(n)\n",
    "\n",
    "topicTerms = [type2id[i[0]] for i in topic_nr_x]\n",
    "topicTerms"
   ]
  },
  {
   "cell_type": "code",
   "execution_count": 24,
   "metadata": {
    "collapsed": false,
    "deletable": true,
    "editable": true
   },
   "outputs": [
    {
     "data": {
      "text/html": [
       "<div>\n",
       "<table border=\"1\" class=\"dataframe\">\n",
       "  <thead>\n",
       "    <tr style=\"text-align: right;\">\n",
       "      <th></th>\n",
       "      <th>0</th>\n",
       "      <th>1</th>\n",
       "      <th>2</th>\n",
       "      <th>3</th>\n",
       "      <th>4</th>\n",
       "      <th>5</th>\n",
       "      <th>6</th>\n",
       "      <th>7</th>\n",
       "      <th>8</th>\n",
       "      <th>9</th>\n",
       "    </tr>\n",
       "  </thead>\n",
       "  <tbody>\n",
       "    <tr>\n",
       "      <th>0</th>\n",
       "      <td>(halloa, 0.00716161971281)</td>\n",
       "      <td>(bristled, 0.00571245443054)</td>\n",
       "      <td>(lonesome, 0.00512472893873)</td>\n",
       "      <td>(antiquity, 0.00502035159775)</td>\n",
       "      <td>(khosatral, 0.00498597154715)</td>\n",
       "      <td>(turned, 0.0047661846979)</td>\n",
       "      <td>(limited, 0.0046067487038)</td>\n",
       "      <td>(draggly, 0.0043915386025)</td>\n",
       "      <td>(sicken, 0.00414012982306)</td>\n",
       "      <td>(spared, 0.00401165130928)</td>\n",
       "    </tr>\n",
       "    <tr>\n",
       "      <th>1</th>\n",
       "      <td>(platforms, 0.00888665965021)</td>\n",
       "      <td>(query, 0.00634314775966)</td>\n",
       "      <td>(anthropoid, 0.00546447960219)</td>\n",
       "      <td>(chum, 0.00532520021467)</td>\n",
       "      <td>(stolid, 0.00526269035145)</td>\n",
       "      <td>(really, 0.00513682664394)</td>\n",
       "      <td>(tradesmen, 0.00508045472031)</td>\n",
       "      <td>(fumble, 0.00507725305647)</td>\n",
       "      <td>(gradings, 0.00503717588128)</td>\n",
       "      <td>(smother, 0.0047712199428)</td>\n",
       "    </tr>\n",
       "    <tr>\n",
       "      <th>2</th>\n",
       "      <td>(hard, 0.00726266261035)</td>\n",
       "      <td>(beg, 0.00701270013027)</td>\n",
       "      <td>(gathered, 0.00613989873627)</td>\n",
       "      <td>(gray-beards, 0.00421085325873)</td>\n",
       "      <td>(sandstone, 0.00416858365147)</td>\n",
       "      <td>(turned, 0.00377871860299)</td>\n",
       "      <td>(contagious, 0.00309790507719)</td>\n",
       "      <td>(lightish, 0.00293157883845)</td>\n",
       "      <td>(well-beloved, 0.00290141146518)</td>\n",
       "      <td>(barks, 0.00289361247745)</td>\n",
       "    </tr>\n",
       "    <tr>\n",
       "      <th>3</th>\n",
       "      <td>(slender, 0.000717739333607)</td>\n",
       "      <td>(lightish, 0.000434043523391)</td>\n",
       "      <td>(halloa, 0.000426811357913)</td>\n",
       "      <td>(commander, 0.000422201650515)</td>\n",
       "      <td>(sacrifice, 0.00040892052468)</td>\n",
       "      <td>(rejection, 0.000402912458865)</td>\n",
       "      <td>(unmanned, 0.00040169221079)</td>\n",
       "      <td>(congruity, 0.00039721789447)</td>\n",
       "      <td>(lonesome, 0.000395057389958)</td>\n",
       "      <td>(bristled, 0.000388204113456)</td>\n",
       "    </tr>\n",
       "    <tr>\n",
       "      <th>4</th>\n",
       "      <td>(six-mile, 0.00897247485674)</td>\n",
       "      <td>(afar, 0.00666987189238)</td>\n",
       "      <td>(tense, 0.00443027842894)</td>\n",
       "      <td>(vast-enough, 0.00394278222092)</td>\n",
       "      <td>(loading, 0.00378515784848)</td>\n",
       "      <td>(gray-beards, 0.0036703868636)</td>\n",
       "      <td>(resistance, 0.00352989281229)</td>\n",
       "      <td>(letzten, 0.00339312300033)</td>\n",
       "      <td>(stolid, 0.00327242095376)</td>\n",
       "      <td>(night-times, 0.00316448109284)</td>\n",
       "    </tr>\n",
       "    <tr>\n",
       "      <th>5</th>\n",
       "      <td>(vast-enough, 0.00590339090413)</td>\n",
       "      <td>(tense, 0.00347532030258)</td>\n",
       "      <td>(cynical, 0.00344660172915)</td>\n",
       "      <td>(rodger, 0.00335198098478)</td>\n",
       "      <td>(lightish, 0.00331909589206)</td>\n",
       "      <td>(gray-beards, 0.00326528293132)</td>\n",
       "      <td>(rafters, 0.00300671705797)</td>\n",
       "      <td>(opposition, 0.00295219064446)</td>\n",
       "      <td>(valueless, 0.00293599935716)</td>\n",
       "      <td>(whirl, 0.00264578779817)</td>\n",
       "    </tr>\n",
       "    <tr>\n",
       "      <th>6</th>\n",
       "      <td>(nasty, 0.00371939191261)</td>\n",
       "      <td>(gray-beards, 0.00357150858524)</td>\n",
       "      <td>(commander, 0.00350569085354)</td>\n",
       "      <td>(wrote, 0.00345119158167)</td>\n",
       "      <td>(cynical, 0.00335816150495)</td>\n",
       "      <td>(beast's, 0.00324210836771)</td>\n",
       "      <td>(lightish, 0.00307610281796)</td>\n",
       "      <td>(unmanned, 0.00299791954519)</td>\n",
       "      <td>(half-ruined, 0.002895289367)</td>\n",
       "      <td>(well-beloved, 0.00288392485085)</td>\n",
       "    </tr>\n",
       "    <tr>\n",
       "      <th>7</th>\n",
       "      <td>(argument, 0.000281760074929)</td>\n",
       "      <td>(lightish, 0.000256572827199)</td>\n",
       "      <td>(stolid, 0.000248820316373)</td>\n",
       "      <td>(halloa, 0.00024763857207)</td>\n",
       "      <td>(bristled, 0.000241841556234)</td>\n",
       "      <td>(gradings, 0.000237156549197)</td>\n",
       "      <td>(lightly, 0.00022803270767)</td>\n",
       "      <td>(antiquity, 0.000224158793871)</td>\n",
       "      <td>(commander, 0.000223133920567)</td>\n",
       "      <td>(vast-enough, 0.000220549006771)</td>\n",
       "    </tr>\n",
       "    <tr>\n",
       "      <th>8</th>\n",
       "      <td>(argument, 0.000457392352969)</td>\n",
       "      <td>(commander, 0.000433691565041)</td>\n",
       "      <td>(lightly, 0.0004121470393)</td>\n",
       "      <td>(stolid, 0.000403158393883)</td>\n",
       "      <td>(lonesome, 0.000398503075896)</td>\n",
       "      <td>(waged, 0.000394180544447)</td>\n",
       "      <td>(lightish, 0.00039245315965)</td>\n",
       "      <td>(nasty, 0.000384117554422)</td>\n",
       "      <td>(bristled, 0.000383096463505)</td>\n",
       "      <td>(vast-enough, 0.000380146027051)</td>\n",
       "    </tr>\n",
       "    <tr>\n",
       "      <th>9</th>\n",
       "      <td>(slender, 0.0117254359618)</td>\n",
       "      <td>(six-mile, 0.00546099574407)</td>\n",
       "      <td>(sacrifice, 0.00528032125244)</td>\n",
       "      <td>(halloa, 0.0051860960478)</td>\n",
       "      <td>(congruity, 0.00515752585155)</td>\n",
       "      <td>(tense, 0.00455163389008)</td>\n",
       "      <td>(screaming, 0.00431575094465)</td>\n",
       "      <td>(rejection, 0.00428752799547)</td>\n",
       "      <td>(lightish, 0.0041835658056)</td>\n",
       "      <td>(rafters, 0.00374217782815)</td>\n",
       "    </tr>\n",
       "    <tr>\n",
       "      <th>10</th>\n",
       "      <td>(waged, 0.000269709439137)</td>\n",
       "      <td>(handcuffs, 0.000262925570865)</td>\n",
       "      <td>(bristled, 0.000230745283874)</td>\n",
       "      <td>(nasty, 0.000226727981679)</td>\n",
       "      <td>(commander, 0.000226270970134)</td>\n",
       "      <td>(antiquity, 0.000225106339166)</td>\n",
       "      <td>(lonesome, 0.000223979393145)</td>\n",
       "      <td>(gradings, 0.000208891524414)</td>\n",
       "      <td>(turned, 0.000207754403075)</td>\n",
       "      <td>(nodded, 0.00020337642191)</td>\n",
       "    </tr>\n",
       "    <tr>\n",
       "      <th>11</th>\n",
       "      <td>(guddee, 0.00081968830949)</td>\n",
       "      <td>(t-happen, 0.000798815607312)</td>\n",
       "      <td>(advanced, 0.000789071926099)</td>\n",
       "      <td>(fortunes, 0.000782417690546)</td>\n",
       "      <td>(either, 0.000780434795412)</td>\n",
       "      <td>(credibilities, 0.000777719966008)</td>\n",
       "      <td>(lusted, 0.000776200308929)</td>\n",
       "      <td>(owner, 0.000776078147422)</td>\n",
       "      <td>(upthrust, 0.000775567333413)</td>\n",
       "      <td>(victims, 0.000775554208243)</td>\n",
       "    </tr>\n",
       "    <tr>\n",
       "      <th>12</th>\n",
       "      <td>(lightish, 0.000286058422173)</td>\n",
       "      <td>(gradings, 0.000248808196581)</td>\n",
       "      <td>(cynical, 0.000240483135874)</td>\n",
       "      <td>(waged, 0.000238937573135)</td>\n",
       "      <td>(lightly, 0.000238463691128)</td>\n",
       "      <td>(vast-enough, 0.000237140132774)</td>\n",
       "      <td>(rafters, 0.000235237784318)</td>\n",
       "      <td>(bristled, 0.000230378746133)</td>\n",
       "      <td>(handcuffs, 0.000226297353242)</td>\n",
       "      <td>(nasty, 0.000219007050341)</td>\n",
       "    </tr>\n",
       "    <tr>\n",
       "      <th>13</th>\n",
       "      <td>(waged, 0.000426590280446)</td>\n",
       "      <td>(bristled, 0.000421549077689)</td>\n",
       "      <td>(gradings, 0.00039901061162)</td>\n",
       "      <td>(keswick, 0.000390429428468)</td>\n",
       "      <td>(rôle, 0.000368047207922)</td>\n",
       "      <td>(stolid, 0.000365039551895)</td>\n",
       "      <td>(tense, 0.00035953855505)</td>\n",
       "      <td>(lightly, 0.000358847726992)</td>\n",
       "      <td>(cynical, 0.000358368397584)</td>\n",
       "      <td>(lonesome, 0.000351384941464)</td>\n",
       "    </tr>\n",
       "    <tr>\n",
       "      <th>14</th>\n",
       "      <td>(mahouts, 0.00573826391415)</td>\n",
       "      <td>(platforms, 0.00526402824759)</td>\n",
       "      <td>(lightly, 0.00390231960353)</td>\n",
       "      <td>(chum, 0.0038577167677)</td>\n",
       "      <td>(keswick, 0.00353684260354)</td>\n",
       "      <td>(fumble, 0.00350376247349)</td>\n",
       "      <td>(stolid, 0.00348237377313)</td>\n",
       "      <td>(waged, 0.00337761182992)</td>\n",
       "      <td>(lonesome, 0.00329195179786)</td>\n",
       "      <td>(scientifically, 0.00324146416778)</td>\n",
       "    </tr>\n",
       "    <tr>\n",
       "      <th>15</th>\n",
       "      <td>(lightly, 0.00475631972476)</td>\n",
       "      <td>(knowest, 0.00473766488703)</td>\n",
       "      <td>(incipiency, 0.00415723165296)</td>\n",
       "      <td>(lightish, 0.00393878900611)</td>\n",
       "      <td>(keswick, 0.00390619533079)</td>\n",
       "      <td>(waged, 0.0035776312554)</td>\n",
       "      <td>(fête, 0.00350945090612)</td>\n",
       "      <td>(divans, 0.00346151430599)</td>\n",
       "      <td>(halloa, 0.00345415238518)</td>\n",
       "      <td>(donations, 0.00340497471016)</td>\n",
       "    </tr>\n",
       "    <tr>\n",
       "      <th>16</th>\n",
       "      <td>(stolid, 0.00043650165615)</td>\n",
       "      <td>(nasty, 0.00041478490118)</td>\n",
       "      <td>(long-wished, 0.00038869194818)</td>\n",
       "      <td>(rafters, 0.000386758131272)</td>\n",
       "      <td>(keswick, 0.000380392049134)</td>\n",
       "      <td>(lightish, 0.000376829948168)</td>\n",
       "      <td>(anthropoid, 0.000364173791528)</td>\n",
       "      <td>(lightly, 0.000363737912868)</td>\n",
       "      <td>(micefield, 0.000359243889879)</td>\n",
       "      <td>(unmanned, 0.000356458388899)</td>\n",
       "    </tr>\n",
       "    <tr>\n",
       "      <th>17</th>\n",
       "      <td>(halloa, 0.000551991342755)</td>\n",
       "      <td>(lightly, 0.000503392992729)</td>\n",
       "      <td>(bristled, 0.000464641567629)</td>\n",
       "      <td>(lightish, 0.000441664278535)</td>\n",
       "      <td>(micefield, 0.000434848573995)</td>\n",
       "      <td>(donations, 0.000427709462134)</td>\n",
       "      <td>(long-wished, 0.000420417276266)</td>\n",
       "      <td>(waged, 0.000415752155258)</td>\n",
       "      <td>(gradings, 0.000414096888481)</td>\n",
       "      <td>(rejection, 0.000395272676154)</td>\n",
       "    </tr>\n",
       "    <tr>\n",
       "      <th>18</th>\n",
       "      <td>(gray-beards, 0.00959791288658)</td>\n",
       "      <td>(well-beloved, 0.00595402873829)</td>\n",
       "      <td>(nasty, 0.00552633648687)</td>\n",
       "      <td>(downright, 0.00470237363276)</td>\n",
       "      <td>(sledging, 0.00462009844772)</td>\n",
       "      <td>(transcendent, 0.00457680412483)</td>\n",
       "      <td>(palate, 0.0042262500325)</td>\n",
       "      <td>(nodded, 0.0041332154398)</td>\n",
       "      <td>(embrace, 0.00406491916066)</td>\n",
       "      <td>(shielded, 0.00395921444356)</td>\n",
       "    </tr>\n",
       "    <tr>\n",
       "      <th>19</th>\n",
       "      <td>(tokay, 0.0062084700607)</td>\n",
       "      <td>(perplexing, 0.00616954843535)</td>\n",
       "      <td>(six-mile, 0.00432088892298)</td>\n",
       "      <td>(seek, 0.00419248739075)</td>\n",
       "      <td>(toppled, 0.00416019941713)</td>\n",
       "      <td>(screaming, 0.00408442841323)</td>\n",
       "      <td>(ebon, 0.00340752830395)</td>\n",
       "      <td>(misled, 0.00324858515797)</td>\n",
       "      <td>(loins, 0.00323158571226)</td>\n",
       "      <td>(rafters, 0.00317386119657)</td>\n",
       "    </tr>\n",
       "  </tbody>\n",
       "</table>\n",
       "</div>"
      ],
      "text/plain": [
       "                                  0                                 1  \\\n",
       "0        (halloa, 0.00716161971281)      (bristled, 0.00571245443054)   \n",
       "1     (platforms, 0.00888665965021)         (query, 0.00634314775966)   \n",
       "2          (hard, 0.00726266261035)           (beg, 0.00701270013027)   \n",
       "3      (slender, 0.000717739333607)     (lightish, 0.000434043523391)   \n",
       "4      (six-mile, 0.00897247485674)          (afar, 0.00666987189238)   \n",
       "5   (vast-enough, 0.00590339090413)         (tense, 0.00347532030258)   \n",
       "6         (nasty, 0.00371939191261)   (gray-beards, 0.00357150858524)   \n",
       "7     (argument, 0.000281760074929)     (lightish, 0.000256572827199)   \n",
       "8     (argument, 0.000457392352969)    (commander, 0.000433691565041)   \n",
       "9        (slender, 0.0117254359618)      (six-mile, 0.00546099574407)   \n",
       "10       (waged, 0.000269709439137)    (handcuffs, 0.000262925570865)   \n",
       "11       (guddee, 0.00081968830949)     (t-happen, 0.000798815607312)   \n",
       "12    (lightish, 0.000286058422173)     (gradings, 0.000248808196581)   \n",
       "13       (waged, 0.000426590280446)     (bristled, 0.000421549077689)   \n",
       "14      (mahouts, 0.00573826391415)     (platforms, 0.00526402824759)   \n",
       "15      (lightly, 0.00475631972476)       (knowest, 0.00473766488703)   \n",
       "16       (stolid, 0.00043650165615)         (nasty, 0.00041478490118)   \n",
       "17      (halloa, 0.000551991342755)      (lightly, 0.000503392992729)   \n",
       "18  (gray-beards, 0.00959791288658)  (well-beloved, 0.00595402873829)   \n",
       "19         (tokay, 0.0062084700607)    (perplexing, 0.00616954843535)   \n",
       "\n",
       "                                  2                                3  \\\n",
       "0      (lonesome, 0.00512472893873)    (antiquity, 0.00502035159775)   \n",
       "1    (anthropoid, 0.00546447960219)         (chum, 0.00532520021467)   \n",
       "2      (gathered, 0.00613989873627)  (gray-beards, 0.00421085325873)   \n",
       "3       (halloa, 0.000426811357913)   (commander, 0.000422201650515)   \n",
       "4         (tense, 0.00443027842894)  (vast-enough, 0.00394278222092)   \n",
       "5       (cynical, 0.00344660172915)       (rodger, 0.00335198098478)   \n",
       "6     (commander, 0.00350569085354)        (wrote, 0.00345119158167)   \n",
       "7       (stolid, 0.000248820316373)       (halloa, 0.00024763857207)   \n",
       "8        (lightly, 0.0004121470393)      (stolid, 0.000403158393883)   \n",
       "9     (sacrifice, 0.00528032125244)        (halloa, 0.0051860960478)   \n",
       "10    (bristled, 0.000230745283874)       (nasty, 0.000226727981679)   \n",
       "11    (advanced, 0.000789071926099)    (fortunes, 0.000782417690546)   \n",
       "12     (cynical, 0.000240483135874)       (waged, 0.000238937573135)   \n",
       "13     (gradings, 0.00039901061162)     (keswick, 0.000390429428468)   \n",
       "14      (lightly, 0.00390231960353)          (chum, 0.0038577167677)   \n",
       "15   (incipiency, 0.00415723165296)     (lightish, 0.00393878900611)   \n",
       "16  (long-wished, 0.00038869194818)     (rafters, 0.000386758131272)   \n",
       "17    (bristled, 0.000464641567629)    (lightish, 0.000441664278535)   \n",
       "18        (nasty, 0.00552633648687)    (downright, 0.00470237363276)   \n",
       "19     (six-mile, 0.00432088892298)         (seek, 0.00419248739075)   \n",
       "\n",
       "                                 4                                   5  \\\n",
       "0    (khosatral, 0.00498597154715)           (turned, 0.0047661846979)   \n",
       "1       (stolid, 0.00526269035145)          (really, 0.00513682664394)   \n",
       "2    (sandstone, 0.00416858365147)          (turned, 0.00377871860299)   \n",
       "3    (sacrifice, 0.00040892052468)      (rejection, 0.000402912458865)   \n",
       "4      (loading, 0.00378515784848)      (gray-beards, 0.0036703868636)   \n",
       "5     (lightish, 0.00331909589206)     (gray-beards, 0.00326528293132)   \n",
       "6      (cynical, 0.00335816150495)         (beast's, 0.00324210836771)   \n",
       "7    (bristled, 0.000241841556234)       (gradings, 0.000237156549197)   \n",
       "8    (lonesome, 0.000398503075896)          (waged, 0.000394180544447)   \n",
       "9    (congruity, 0.00515752585155)           (tense, 0.00455163389008)   \n",
       "10  (commander, 0.000226270970134)      (antiquity, 0.000225106339166)   \n",
       "11     (either, 0.000780434795412)  (credibilities, 0.000777719966008)   \n",
       "12    (lightly, 0.000238463691128)    (vast-enough, 0.000237140132774)   \n",
       "13       (rôle, 0.000368047207922)         (stolid, 0.000365039551895)   \n",
       "14     (keswick, 0.00353684260354)          (fumble, 0.00350376247349)   \n",
       "15     (keswick, 0.00390619533079)            (waged, 0.0035776312554)   \n",
       "16    (keswick, 0.000380392049134)       (lightish, 0.000376829948168)   \n",
       "17  (micefield, 0.000434848573995)      (donations, 0.000427709462134)   \n",
       "18    (sledging, 0.00462009844772)    (transcendent, 0.00457680412483)   \n",
       "19     (toppled, 0.00416019941713)       (screaming, 0.00408442841323)   \n",
       "\n",
       "                                   6                               7  \\\n",
       "0         (limited, 0.0046067487038)      (draggly, 0.0043915386025)   \n",
       "1      (tradesmen, 0.00508045472031)      (fumble, 0.00507725305647)   \n",
       "2     (contagious, 0.00309790507719)    (lightish, 0.00293157883845)   \n",
       "3       (unmanned, 0.00040169221079)   (congruity, 0.00039721789447)   \n",
       "4     (resistance, 0.00352989281229)     (letzten, 0.00339312300033)   \n",
       "5        (rafters, 0.00300671705797)  (opposition, 0.00295219064446)   \n",
       "6       (lightish, 0.00307610281796)    (unmanned, 0.00299791954519)   \n",
       "7        (lightly, 0.00022803270767)  (antiquity, 0.000224158793871)   \n",
       "8       (lightish, 0.00039245315965)      (nasty, 0.000384117554422)   \n",
       "9      (screaming, 0.00431575094465)   (rejection, 0.00428752799547)   \n",
       "10     (lonesome, 0.000223979393145)   (gradings, 0.000208891524414)   \n",
       "11       (lusted, 0.000776200308929)      (owner, 0.000776078147422)   \n",
       "12      (rafters, 0.000235237784318)   (bristled, 0.000230378746133)   \n",
       "13         (tense, 0.00035953855505)    (lightly, 0.000358847726992)   \n",
       "14        (stolid, 0.00348237377313)       (waged, 0.00337761182992)   \n",
       "15          (fête, 0.00350945090612)      (divans, 0.00346151430599)   \n",
       "16   (anthropoid, 0.000364173791528)    (lightly, 0.000363737912868)   \n",
       "17  (long-wished, 0.000420417276266)      (waged, 0.000415752155258)   \n",
       "18         (palate, 0.0042262500325)       (nodded, 0.0041332154398)   \n",
       "19          (ebon, 0.00340752830395)      (misled, 0.00324858515797)   \n",
       "\n",
       "                                   8                                   9  \n",
       "0         (sicken, 0.00414012982306)          (spared, 0.00401165130928)  \n",
       "1       (gradings, 0.00503717588128)          (smother, 0.0047712199428)  \n",
       "2   (well-beloved, 0.00290141146518)           (barks, 0.00289361247745)  \n",
       "3      (lonesome, 0.000395057389958)       (bristled, 0.000388204113456)  \n",
       "4         (stolid, 0.00327242095376)     (night-times, 0.00316448109284)  \n",
       "5      (valueless, 0.00293599935716)           (whirl, 0.00264578779817)  \n",
       "6      (half-ruined, 0.002895289367)    (well-beloved, 0.00288392485085)  \n",
       "7     (commander, 0.000223133920567)    (vast-enough, 0.000220549006771)  \n",
       "8      (bristled, 0.000383096463505)    (vast-enough, 0.000380146027051)  \n",
       "9        (lightish, 0.0041835658056)         (rafters, 0.00374217782815)  \n",
       "10       (turned, 0.000207754403075)          (nodded, 0.00020337642191)  \n",
       "11     (upthrust, 0.000775567333413)        (victims, 0.000775554208243)  \n",
       "12    (handcuffs, 0.000226297353242)          (nasty, 0.000219007050341)  \n",
       "13      (cynical, 0.000358368397584)       (lonesome, 0.000351384941464)  \n",
       "14      (lonesome, 0.00329195179786)  (scientifically, 0.00324146416778)  \n",
       "15        (halloa, 0.00345415238518)       (donations, 0.00340497471016)  \n",
       "16    (micefield, 0.000359243889879)       (unmanned, 0.000356458388899)  \n",
       "17     (gradings, 0.000414096888481)      (rejection, 0.000395272676154)  \n",
       "18       (embrace, 0.00406491916066)        (shielded, 0.00395921444356)  \n",
       "19         (loins, 0.00323158571226)         (rafters, 0.00317386119657)  "
      ]
     },
     "execution_count": 24,
     "metadata": {},
     "output_type": "execute_result"
    }
   ],
   "source": [
    "#Topic probabilities - zum Testen der Funktion\n",
    "topics = model.show_topics(num_topics = model.num_topics, formatted=False)\n",
    "\n",
    "num_topics = model.num_topics\n",
    "topics_df = pre.pd.DataFrame(index = range(num_topics), columns= range(10))\n",
    "\n",
    "for topic in topics:\n",
    "    idx = topic[0]\n",
    "    temp = topic[1]\n",
    "    topics_df.loc[idx] = temp\n",
    "        \n",
    "topics_df"
   ]
  },
  {
   "cell_type": "code",
   "execution_count": 25,
   "metadata": {
    "collapsed": false,
    "deletable": true,
    "editable": true
   },
   "outputs": [
    {
     "data": {
      "text/html": [
       "<div>\n",
       "<table border=\"1\" class=\"dataframe\">\n",
       "  <thead>\n",
       "    <tr style=\"text-align: right;\">\n",
       "      <th></th>\n",
       "      <th>0</th>\n",
       "      <th>1</th>\n",
       "      <th>2</th>\n",
       "      <th>3</th>\n",
       "      <th>4</th>\n",
       "      <th>5</th>\n",
       "      <th>6</th>\n",
       "      <th>7</th>\n",
       "      <th>8</th>\n",
       "      <th>9</th>\n",
       "    </tr>\n",
       "  </thead>\n",
       "  <tbody>\n",
       "    <tr>\n",
       "      <th>0</th>\n",
       "      <td>(halloa, 0.00716161971281)</td>\n",
       "      <td>(bristled, 0.00571245443054)</td>\n",
       "      <td>(lonesome, 0.00512472893873)</td>\n",
       "      <td>(antiquity, 0.00502035159775)</td>\n",
       "      <td>(khosatral, 0.00498597154715)</td>\n",
       "      <td>(turned, 0.0047661846979)</td>\n",
       "      <td>(limited, 0.0046067487038)</td>\n",
       "      <td>(draggly, 0.0043915386025)</td>\n",
       "      <td>(sicken, 0.00414012982306)</td>\n",
       "      <td>(spared, 0.00401165130928)</td>\n",
       "    </tr>\n",
       "    <tr>\n",
       "      <th>1</th>\n",
       "      <td>(platforms, 0.00888665965021)</td>\n",
       "      <td>(query, 0.00634314775966)</td>\n",
       "      <td>(anthropoid, 0.00546447960219)</td>\n",
       "      <td>(chum, 0.00532520021467)</td>\n",
       "      <td>(stolid, 0.00526269035145)</td>\n",
       "      <td>(really, 0.00513682664394)</td>\n",
       "      <td>(tradesmen, 0.00508045472031)</td>\n",
       "      <td>(fumble, 0.00507725305647)</td>\n",
       "      <td>(gradings, 0.00503717588128)</td>\n",
       "      <td>(smother, 0.0047712199428)</td>\n",
       "    </tr>\n",
       "    <tr>\n",
       "      <th>2</th>\n",
       "      <td>(hard, 0.00726266261035)</td>\n",
       "      <td>(beg, 0.00701270013027)</td>\n",
       "      <td>(gathered, 0.00613989873627)</td>\n",
       "      <td>(gray-beards, 0.00421085325873)</td>\n",
       "      <td>(sandstone, 0.00416858365147)</td>\n",
       "      <td>(turned, 0.00377871860299)</td>\n",
       "      <td>(contagious, 0.00309790507719)</td>\n",
       "      <td>(lightish, 0.00293157883845)</td>\n",
       "      <td>(well-beloved, 0.00290141146518)</td>\n",
       "      <td>(barks, 0.00289361247745)</td>\n",
       "    </tr>\n",
       "    <tr>\n",
       "      <th>3</th>\n",
       "      <td>(slender, 0.000717739333607)</td>\n",
       "      <td>(lightish, 0.000434043523391)</td>\n",
       "      <td>(halloa, 0.000426811357913)</td>\n",
       "      <td>(commander, 0.000422201650515)</td>\n",
       "      <td>(sacrifice, 0.00040892052468)</td>\n",
       "      <td>(rejection, 0.000402912458865)</td>\n",
       "      <td>(unmanned, 0.00040169221079)</td>\n",
       "      <td>(congruity, 0.00039721789447)</td>\n",
       "      <td>(lonesome, 0.000395057389958)</td>\n",
       "      <td>(bristled, 0.000388204113456)</td>\n",
       "    </tr>\n",
       "    <tr>\n",
       "      <th>4</th>\n",
       "      <td>(six-mile, 0.00897247485674)</td>\n",
       "      <td>(afar, 0.00666987189238)</td>\n",
       "      <td>(tense, 0.00443027842894)</td>\n",
       "      <td>(vast-enough, 0.00394278222092)</td>\n",
       "      <td>(loading, 0.00378515784848)</td>\n",
       "      <td>(gray-beards, 0.0036703868636)</td>\n",
       "      <td>(resistance, 0.00352989281229)</td>\n",
       "      <td>(letzten, 0.00339312300033)</td>\n",
       "      <td>(stolid, 0.00327242095376)</td>\n",
       "      <td>(night-times, 0.00316448109284)</td>\n",
       "    </tr>\n",
       "    <tr>\n",
       "      <th>5</th>\n",
       "      <td>(vast-enough, 0.00590339090413)</td>\n",
       "      <td>(tense, 0.00347532030258)</td>\n",
       "      <td>(cynical, 0.00344660172915)</td>\n",
       "      <td>(rodger, 0.00335198098478)</td>\n",
       "      <td>(lightish, 0.00331909589206)</td>\n",
       "      <td>(gray-beards, 0.00326528293132)</td>\n",
       "      <td>(rafters, 0.00300671705797)</td>\n",
       "      <td>(opposition, 0.00295219064446)</td>\n",
       "      <td>(valueless, 0.00293599935716)</td>\n",
       "      <td>(whirl, 0.00264578779817)</td>\n",
       "    </tr>\n",
       "    <tr>\n",
       "      <th>6</th>\n",
       "      <td>(nasty, 0.00371939191261)</td>\n",
       "      <td>(gray-beards, 0.00357150858524)</td>\n",
       "      <td>(commander, 0.00350569085354)</td>\n",
       "      <td>(wrote, 0.00345119158167)</td>\n",
       "      <td>(cynical, 0.00335816150495)</td>\n",
       "      <td>(beast's, 0.00324210836771)</td>\n",
       "      <td>(lightish, 0.00307610281796)</td>\n",
       "      <td>(unmanned, 0.00299791954519)</td>\n",
       "      <td>(half-ruined, 0.002895289367)</td>\n",
       "      <td>(well-beloved, 0.00288392485085)</td>\n",
       "    </tr>\n",
       "    <tr>\n",
       "      <th>7</th>\n",
       "      <td>(argument, 0.000281760074929)</td>\n",
       "      <td>(lightish, 0.000256572827199)</td>\n",
       "      <td>(stolid, 0.000248820316373)</td>\n",
       "      <td>(halloa, 0.00024763857207)</td>\n",
       "      <td>(bristled, 0.000241841556234)</td>\n",
       "      <td>(gradings, 0.000237156549197)</td>\n",
       "      <td>(lightly, 0.00022803270767)</td>\n",
       "      <td>(antiquity, 0.000224158793871)</td>\n",
       "      <td>(commander, 0.000223133920567)</td>\n",
       "      <td>(vast-enough, 0.000220549006771)</td>\n",
       "    </tr>\n",
       "    <tr>\n",
       "      <th>8</th>\n",
       "      <td>(argument, 0.000457392352969)</td>\n",
       "      <td>(commander, 0.000433691565041)</td>\n",
       "      <td>(lightly, 0.0004121470393)</td>\n",
       "      <td>(stolid, 0.000403158393883)</td>\n",
       "      <td>(lonesome, 0.000398503075896)</td>\n",
       "      <td>(waged, 0.000394180544447)</td>\n",
       "      <td>(lightish, 0.00039245315965)</td>\n",
       "      <td>(nasty, 0.000384117554422)</td>\n",
       "      <td>(bristled, 0.000383096463505)</td>\n",
       "      <td>(vast-enough, 0.000380146027051)</td>\n",
       "    </tr>\n",
       "    <tr>\n",
       "      <th>9</th>\n",
       "      <td>(slender, 0.0117254359618)</td>\n",
       "      <td>(six-mile, 0.00546099574407)</td>\n",
       "      <td>(sacrifice, 0.00528032125244)</td>\n",
       "      <td>(halloa, 0.0051860960478)</td>\n",
       "      <td>(congruity, 0.00515752585155)</td>\n",
       "      <td>(tense, 0.00455163389008)</td>\n",
       "      <td>(screaming, 0.00431575094465)</td>\n",
       "      <td>(rejection, 0.00428752799547)</td>\n",
       "      <td>(lightish, 0.0041835658056)</td>\n",
       "      <td>(rafters, 0.00374217782815)</td>\n",
       "    </tr>\n",
       "    <tr>\n",
       "      <th>10</th>\n",
       "      <td>(waged, 0.000269709439137)</td>\n",
       "      <td>(handcuffs, 0.000262925570865)</td>\n",
       "      <td>(bristled, 0.000230745283874)</td>\n",
       "      <td>(nasty, 0.000226727981679)</td>\n",
       "      <td>(commander, 0.000226270970134)</td>\n",
       "      <td>(antiquity, 0.000225106339166)</td>\n",
       "      <td>(lonesome, 0.000223979393145)</td>\n",
       "      <td>(gradings, 0.000208891524414)</td>\n",
       "      <td>(turned, 0.000207754403075)</td>\n",
       "      <td>(nodded, 0.00020337642191)</td>\n",
       "    </tr>\n",
       "    <tr>\n",
       "      <th>11</th>\n",
       "      <td>(guddee, 0.00081968830949)</td>\n",
       "      <td>(t-happen, 0.000798815607312)</td>\n",
       "      <td>(advanced, 0.000789071926099)</td>\n",
       "      <td>(fortunes, 0.000782417690546)</td>\n",
       "      <td>(either, 0.000780434795412)</td>\n",
       "      <td>(credibilities, 0.000777719966008)</td>\n",
       "      <td>(lusted, 0.000776200308929)</td>\n",
       "      <td>(owner, 0.000776078147422)</td>\n",
       "      <td>(upthrust, 0.000775567333413)</td>\n",
       "      <td>(victims, 0.000775554208243)</td>\n",
       "    </tr>\n",
       "    <tr>\n",
       "      <th>12</th>\n",
       "      <td>(lightish, 0.000286058422173)</td>\n",
       "      <td>(gradings, 0.000248808196581)</td>\n",
       "      <td>(cynical, 0.000240483135874)</td>\n",
       "      <td>(waged, 0.000238937573135)</td>\n",
       "      <td>(lightly, 0.000238463691128)</td>\n",
       "      <td>(vast-enough, 0.000237140132774)</td>\n",
       "      <td>(rafters, 0.000235237784318)</td>\n",
       "      <td>(bristled, 0.000230378746133)</td>\n",
       "      <td>(handcuffs, 0.000226297353242)</td>\n",
       "      <td>(nasty, 0.000219007050341)</td>\n",
       "    </tr>\n",
       "    <tr>\n",
       "      <th>13</th>\n",
       "      <td>(waged, 0.000426590280446)</td>\n",
       "      <td>(bristled, 0.000421549077689)</td>\n",
       "      <td>(gradings, 0.00039901061162)</td>\n",
       "      <td>(keswick, 0.000390429428468)</td>\n",
       "      <td>(rôle, 0.000368047207922)</td>\n",
       "      <td>(stolid, 0.000365039551895)</td>\n",
       "      <td>(tense, 0.00035953855505)</td>\n",
       "      <td>(lightly, 0.000358847726992)</td>\n",
       "      <td>(cynical, 0.000358368397584)</td>\n",
       "      <td>(lonesome, 0.000351384941464)</td>\n",
       "    </tr>\n",
       "    <tr>\n",
       "      <th>14</th>\n",
       "      <td>(mahouts, 0.00573826391415)</td>\n",
       "      <td>(platforms, 0.00526402824759)</td>\n",
       "      <td>(lightly, 0.00390231960353)</td>\n",
       "      <td>(chum, 0.0038577167677)</td>\n",
       "      <td>(keswick, 0.00353684260354)</td>\n",
       "      <td>(fumble, 0.00350376247349)</td>\n",
       "      <td>(stolid, 0.00348237377313)</td>\n",
       "      <td>(waged, 0.00337761182992)</td>\n",
       "      <td>(lonesome, 0.00329195179786)</td>\n",
       "      <td>(scientifically, 0.00324146416778)</td>\n",
       "    </tr>\n",
       "    <tr>\n",
       "      <th>15</th>\n",
       "      <td>(lightly, 0.00475631972476)</td>\n",
       "      <td>(knowest, 0.00473766488703)</td>\n",
       "      <td>(incipiency, 0.00415723165296)</td>\n",
       "      <td>(lightish, 0.00393878900611)</td>\n",
       "      <td>(keswick, 0.00390619533079)</td>\n",
       "      <td>(waged, 0.0035776312554)</td>\n",
       "      <td>(fête, 0.00350945090612)</td>\n",
       "      <td>(divans, 0.00346151430599)</td>\n",
       "      <td>(halloa, 0.00345415238518)</td>\n",
       "      <td>(donations, 0.00340497471016)</td>\n",
       "    </tr>\n",
       "    <tr>\n",
       "      <th>16</th>\n",
       "      <td>(stolid, 0.00043650165615)</td>\n",
       "      <td>(nasty, 0.00041478490118)</td>\n",
       "      <td>(long-wished, 0.00038869194818)</td>\n",
       "      <td>(rafters, 0.000386758131272)</td>\n",
       "      <td>(keswick, 0.000380392049134)</td>\n",
       "      <td>(lightish, 0.000376829948168)</td>\n",
       "      <td>(anthropoid, 0.000364173791528)</td>\n",
       "      <td>(lightly, 0.000363737912868)</td>\n",
       "      <td>(micefield, 0.000359243889879)</td>\n",
       "      <td>(unmanned, 0.000356458388899)</td>\n",
       "    </tr>\n",
       "    <tr>\n",
       "      <th>17</th>\n",
       "      <td>(halloa, 0.000551991342755)</td>\n",
       "      <td>(lightly, 0.000503392992729)</td>\n",
       "      <td>(bristled, 0.000464641567629)</td>\n",
       "      <td>(lightish, 0.000441664278535)</td>\n",
       "      <td>(micefield, 0.000434848573995)</td>\n",
       "      <td>(donations, 0.000427709462134)</td>\n",
       "      <td>(long-wished, 0.000420417276266)</td>\n",
       "      <td>(waged, 0.000415752155258)</td>\n",
       "      <td>(gradings, 0.000414096888481)</td>\n",
       "      <td>(rejection, 0.000395272676154)</td>\n",
       "    </tr>\n",
       "    <tr>\n",
       "      <th>18</th>\n",
       "      <td>(gray-beards, 0.00959791288658)</td>\n",
       "      <td>(well-beloved, 0.00595402873829)</td>\n",
       "      <td>(nasty, 0.00552633648687)</td>\n",
       "      <td>(downright, 0.00470237363276)</td>\n",
       "      <td>(sledging, 0.00462009844772)</td>\n",
       "      <td>(transcendent, 0.00457680412483)</td>\n",
       "      <td>(palate, 0.0042262500325)</td>\n",
       "      <td>(nodded, 0.0041332154398)</td>\n",
       "      <td>(embrace, 0.00406491916066)</td>\n",
       "      <td>(shielded, 0.00395921444356)</td>\n",
       "    </tr>\n",
       "    <tr>\n",
       "      <th>19</th>\n",
       "      <td>(tokay, 0.0062084700607)</td>\n",
       "      <td>(perplexing, 0.00616954843535)</td>\n",
       "      <td>(six-mile, 0.00432088892298)</td>\n",
       "      <td>(seek, 0.00419248739075)</td>\n",
       "      <td>(toppled, 0.00416019941713)</td>\n",
       "      <td>(screaming, 0.00408442841323)</td>\n",
       "      <td>(ebon, 0.00340752830395)</td>\n",
       "      <td>(misled, 0.00324858515797)</td>\n",
       "      <td>(loins, 0.00323158571226)</td>\n",
       "      <td>(rafters, 0.00317386119657)</td>\n",
       "    </tr>\n",
       "  </tbody>\n",
       "</table>\n",
       "</div>"
      ],
      "text/plain": [
       "                                  0                                 1  \\\n",
       "0        (halloa, 0.00716161971281)      (bristled, 0.00571245443054)   \n",
       "1     (platforms, 0.00888665965021)         (query, 0.00634314775966)   \n",
       "2          (hard, 0.00726266261035)           (beg, 0.00701270013027)   \n",
       "3      (slender, 0.000717739333607)     (lightish, 0.000434043523391)   \n",
       "4      (six-mile, 0.00897247485674)          (afar, 0.00666987189238)   \n",
       "5   (vast-enough, 0.00590339090413)         (tense, 0.00347532030258)   \n",
       "6         (nasty, 0.00371939191261)   (gray-beards, 0.00357150858524)   \n",
       "7     (argument, 0.000281760074929)     (lightish, 0.000256572827199)   \n",
       "8     (argument, 0.000457392352969)    (commander, 0.000433691565041)   \n",
       "9        (slender, 0.0117254359618)      (six-mile, 0.00546099574407)   \n",
       "10       (waged, 0.000269709439137)    (handcuffs, 0.000262925570865)   \n",
       "11       (guddee, 0.00081968830949)     (t-happen, 0.000798815607312)   \n",
       "12    (lightish, 0.000286058422173)     (gradings, 0.000248808196581)   \n",
       "13       (waged, 0.000426590280446)     (bristled, 0.000421549077689)   \n",
       "14      (mahouts, 0.00573826391415)     (platforms, 0.00526402824759)   \n",
       "15      (lightly, 0.00475631972476)       (knowest, 0.00473766488703)   \n",
       "16       (stolid, 0.00043650165615)         (nasty, 0.00041478490118)   \n",
       "17      (halloa, 0.000551991342755)      (lightly, 0.000503392992729)   \n",
       "18  (gray-beards, 0.00959791288658)  (well-beloved, 0.00595402873829)   \n",
       "19         (tokay, 0.0062084700607)    (perplexing, 0.00616954843535)   \n",
       "\n",
       "                                  2                                3  \\\n",
       "0      (lonesome, 0.00512472893873)    (antiquity, 0.00502035159775)   \n",
       "1    (anthropoid, 0.00546447960219)         (chum, 0.00532520021467)   \n",
       "2      (gathered, 0.00613989873627)  (gray-beards, 0.00421085325873)   \n",
       "3       (halloa, 0.000426811357913)   (commander, 0.000422201650515)   \n",
       "4         (tense, 0.00443027842894)  (vast-enough, 0.00394278222092)   \n",
       "5       (cynical, 0.00344660172915)       (rodger, 0.00335198098478)   \n",
       "6     (commander, 0.00350569085354)        (wrote, 0.00345119158167)   \n",
       "7       (stolid, 0.000248820316373)       (halloa, 0.00024763857207)   \n",
       "8        (lightly, 0.0004121470393)      (stolid, 0.000403158393883)   \n",
       "9     (sacrifice, 0.00528032125244)        (halloa, 0.0051860960478)   \n",
       "10    (bristled, 0.000230745283874)       (nasty, 0.000226727981679)   \n",
       "11    (advanced, 0.000789071926099)    (fortunes, 0.000782417690546)   \n",
       "12     (cynical, 0.000240483135874)       (waged, 0.000238937573135)   \n",
       "13     (gradings, 0.00039901061162)     (keswick, 0.000390429428468)   \n",
       "14      (lightly, 0.00390231960353)          (chum, 0.0038577167677)   \n",
       "15   (incipiency, 0.00415723165296)     (lightish, 0.00393878900611)   \n",
       "16  (long-wished, 0.00038869194818)     (rafters, 0.000386758131272)   \n",
       "17    (bristled, 0.000464641567629)    (lightish, 0.000441664278535)   \n",
       "18        (nasty, 0.00552633648687)    (downright, 0.00470237363276)   \n",
       "19     (six-mile, 0.00432088892298)         (seek, 0.00419248739075)   \n",
       "\n",
       "                                 4                                   5  \\\n",
       "0    (khosatral, 0.00498597154715)           (turned, 0.0047661846979)   \n",
       "1       (stolid, 0.00526269035145)          (really, 0.00513682664394)   \n",
       "2    (sandstone, 0.00416858365147)          (turned, 0.00377871860299)   \n",
       "3    (sacrifice, 0.00040892052468)      (rejection, 0.000402912458865)   \n",
       "4      (loading, 0.00378515784848)      (gray-beards, 0.0036703868636)   \n",
       "5     (lightish, 0.00331909589206)     (gray-beards, 0.00326528293132)   \n",
       "6      (cynical, 0.00335816150495)         (beast's, 0.00324210836771)   \n",
       "7    (bristled, 0.000241841556234)       (gradings, 0.000237156549197)   \n",
       "8    (lonesome, 0.000398503075896)          (waged, 0.000394180544447)   \n",
       "9    (congruity, 0.00515752585155)           (tense, 0.00455163389008)   \n",
       "10  (commander, 0.000226270970134)      (antiquity, 0.000225106339166)   \n",
       "11     (either, 0.000780434795412)  (credibilities, 0.000777719966008)   \n",
       "12    (lightly, 0.000238463691128)    (vast-enough, 0.000237140132774)   \n",
       "13       (rôle, 0.000368047207922)         (stolid, 0.000365039551895)   \n",
       "14     (keswick, 0.00353684260354)          (fumble, 0.00350376247349)   \n",
       "15     (keswick, 0.00390619533079)            (waged, 0.0035776312554)   \n",
       "16    (keswick, 0.000380392049134)       (lightish, 0.000376829948168)   \n",
       "17  (micefield, 0.000434848573995)      (donations, 0.000427709462134)   \n",
       "18    (sledging, 0.00462009844772)    (transcendent, 0.00457680412483)   \n",
       "19     (toppled, 0.00416019941713)       (screaming, 0.00408442841323)   \n",
       "\n",
       "                                   6                               7  \\\n",
       "0         (limited, 0.0046067487038)      (draggly, 0.0043915386025)   \n",
       "1      (tradesmen, 0.00508045472031)      (fumble, 0.00507725305647)   \n",
       "2     (contagious, 0.00309790507719)    (lightish, 0.00293157883845)   \n",
       "3       (unmanned, 0.00040169221079)   (congruity, 0.00039721789447)   \n",
       "4     (resistance, 0.00352989281229)     (letzten, 0.00339312300033)   \n",
       "5        (rafters, 0.00300671705797)  (opposition, 0.00295219064446)   \n",
       "6       (lightish, 0.00307610281796)    (unmanned, 0.00299791954519)   \n",
       "7        (lightly, 0.00022803270767)  (antiquity, 0.000224158793871)   \n",
       "8       (lightish, 0.00039245315965)      (nasty, 0.000384117554422)   \n",
       "9      (screaming, 0.00431575094465)   (rejection, 0.00428752799547)   \n",
       "10     (lonesome, 0.000223979393145)   (gradings, 0.000208891524414)   \n",
       "11       (lusted, 0.000776200308929)      (owner, 0.000776078147422)   \n",
       "12      (rafters, 0.000235237784318)   (bristled, 0.000230378746133)   \n",
       "13         (tense, 0.00035953855505)    (lightly, 0.000358847726992)   \n",
       "14        (stolid, 0.00348237377313)       (waged, 0.00337761182992)   \n",
       "15          (fête, 0.00350945090612)      (divans, 0.00346151430599)   \n",
       "16   (anthropoid, 0.000364173791528)    (lightly, 0.000363737912868)   \n",
       "17  (long-wished, 0.000420417276266)      (waged, 0.000415752155258)   \n",
       "18         (palate, 0.0042262500325)       (nodded, 0.0041332154398)   \n",
       "19          (ebon, 0.00340752830395)      (misled, 0.00324858515797)   \n",
       "\n",
       "                                   8                                   9  \n",
       "0         (sicken, 0.00414012982306)          (spared, 0.00401165130928)  \n",
       "1       (gradings, 0.00503717588128)          (smother, 0.0047712199428)  \n",
       "2   (well-beloved, 0.00290141146518)           (barks, 0.00289361247745)  \n",
       "3      (lonesome, 0.000395057389958)       (bristled, 0.000388204113456)  \n",
       "4         (stolid, 0.00327242095376)     (night-times, 0.00316448109284)  \n",
       "5      (valueless, 0.00293599935716)           (whirl, 0.00264578779817)  \n",
       "6      (half-ruined, 0.002895289367)    (well-beloved, 0.00288392485085)  \n",
       "7     (commander, 0.000223133920567)    (vast-enough, 0.000220549006771)  \n",
       "8      (bristled, 0.000383096463505)    (vast-enough, 0.000380146027051)  \n",
       "9        (lightish, 0.0041835658056)         (rafters, 0.00374217782815)  \n",
       "10       (turned, 0.000207754403075)          (nodded, 0.00020337642191)  \n",
       "11     (upthrust, 0.000775567333413)        (victims, 0.000775554208243)  \n",
       "12    (handcuffs, 0.000226297353242)          (nasty, 0.000219007050341)  \n",
       "13      (cynical, 0.000358368397584)       (lonesome, 0.000351384941464)  \n",
       "14      (lonesome, 0.00329195179786)  (scientifically, 0.00324146416778)  \n",
       "15        (halloa, 0.00345415238518)       (donations, 0.00340497471016)  \n",
       "16    (micefield, 0.000359243889879)       (unmanned, 0.000356458388899)  \n",
       "17     (gradings, 0.000414096888481)      (rejection, 0.000395272676154)  \n",
       "18       (embrace, 0.00406491916066)        (shielded, 0.00395921444356)  \n",
       "19         (loins, 0.00323158571226)         (rafters, 0.00317386119657)  "
      ]
     },
     "execution_count": 25,
     "metadata": {},
     "output_type": "execute_result"
    }
   ],
   "source": [
    "topics_df = pre.gensim2dataframe(model)\n",
    "topics_df"
   ]
  },
  {
   "cell_type": "code",
   "execution_count": 26,
   "metadata": {
    "collapsed": false,
    "deletable": true,
    "editable": true
   },
   "outputs": [
    {
     "data": {
      "text/html": [
       "<div>\n",
       "<table border=\"1\" class=\"dataframe\">\n",
       "  <thead>\n",
       "    <tr style=\"text-align: right;\">\n",
       "      <th></th>\n",
       "      <th>0</th>\n",
       "      <th>1</th>\n",
       "      <th>2</th>\n",
       "      <th>3</th>\n",
       "      <th>4</th>\n",
       "      <th>5</th>\n",
       "      <th>6</th>\n",
       "      <th>7</th>\n",
       "      <th>8</th>\n",
       "      <th>9</th>\n",
       "      <th>10</th>\n",
       "      <th>11</th>\n",
       "      <th>12</th>\n",
       "      <th>13</th>\n",
       "      <th>14</th>\n",
       "      <th>15</th>\n",
       "      <th>16</th>\n",
       "      <th>17</th>\n",
       "      <th>18</th>\n",
       "      <th>19</th>\n",
       "    </tr>\n",
       "  </thead>\n",
       "  <tbody>\n",
       "    <tr>\n",
       "      <th>0</th>\n",
       "      <td>(halloa, 0.00716161971281)</td>\n",
       "      <td>(platforms, 0.00888665965021)</td>\n",
       "      <td>(hard, 0.00726266261035)</td>\n",
       "      <td>(slender, 0.000717739333607)</td>\n",
       "      <td>(six-mile, 0.00897247485674)</td>\n",
       "      <td>(vast-enough, 0.00590339090413)</td>\n",
       "      <td>(nasty, 0.00371939191261)</td>\n",
       "      <td>(argument, 0.000281760074929)</td>\n",
       "      <td>(argument, 0.000457392352969)</td>\n",
       "      <td>(slender, 0.0117254359618)</td>\n",
       "      <td>(waged, 0.000269709439137)</td>\n",
       "      <td>(guddee, 0.00081968830949)</td>\n",
       "      <td>(lightish, 0.000286058422173)</td>\n",
       "      <td>(waged, 0.000426590280446)</td>\n",
       "      <td>(mahouts, 0.00573826391415)</td>\n",
       "      <td>(lightly, 0.00475631972476)</td>\n",
       "      <td>(stolid, 0.00043650165615)</td>\n",
       "      <td>(halloa, 0.000551991342755)</td>\n",
       "      <td>(gray-beards, 0.00959791288658)</td>\n",
       "      <td>(tokay, 0.0062084700607)</td>\n",
       "    </tr>\n",
       "    <tr>\n",
       "      <th>1</th>\n",
       "      <td>(bristled, 0.00571245443054)</td>\n",
       "      <td>(query, 0.00634314775966)</td>\n",
       "      <td>(beg, 0.00701270013027)</td>\n",
       "      <td>(lightish, 0.000434043523391)</td>\n",
       "      <td>(afar, 0.00666987189238)</td>\n",
       "      <td>(tense, 0.00347532030258)</td>\n",
       "      <td>(gray-beards, 0.00357150858524)</td>\n",
       "      <td>(lightish, 0.000256572827199)</td>\n",
       "      <td>(commander, 0.000433691565041)</td>\n",
       "      <td>(six-mile, 0.00546099574407)</td>\n",
       "      <td>(handcuffs, 0.000262925570865)</td>\n",
       "      <td>(t-happen, 0.000798815607312)</td>\n",
       "      <td>(gradings, 0.000248808196581)</td>\n",
       "      <td>(bristled, 0.000421549077689)</td>\n",
       "      <td>(platforms, 0.00526402824759)</td>\n",
       "      <td>(knowest, 0.00473766488703)</td>\n",
       "      <td>(nasty, 0.00041478490118)</td>\n",
       "      <td>(lightly, 0.000503392992729)</td>\n",
       "      <td>(well-beloved, 0.00595402873829)</td>\n",
       "      <td>(perplexing, 0.00616954843535)</td>\n",
       "    </tr>\n",
       "    <tr>\n",
       "      <th>2</th>\n",
       "      <td>(lonesome, 0.00512472893873)</td>\n",
       "      <td>(anthropoid, 0.00546447960219)</td>\n",
       "      <td>(gathered, 0.00613989873627)</td>\n",
       "      <td>(halloa, 0.000426811357913)</td>\n",
       "      <td>(tense, 0.00443027842894)</td>\n",
       "      <td>(cynical, 0.00344660172915)</td>\n",
       "      <td>(commander, 0.00350569085354)</td>\n",
       "      <td>(stolid, 0.000248820316373)</td>\n",
       "      <td>(lightly, 0.0004121470393)</td>\n",
       "      <td>(sacrifice, 0.00528032125244)</td>\n",
       "      <td>(bristled, 0.000230745283874)</td>\n",
       "      <td>(advanced, 0.000789071926099)</td>\n",
       "      <td>(cynical, 0.000240483135874)</td>\n",
       "      <td>(gradings, 0.00039901061162)</td>\n",
       "      <td>(lightly, 0.00390231960353)</td>\n",
       "      <td>(incipiency, 0.00415723165296)</td>\n",
       "      <td>(long-wished, 0.00038869194818)</td>\n",
       "      <td>(bristled, 0.000464641567629)</td>\n",
       "      <td>(nasty, 0.00552633648687)</td>\n",
       "      <td>(six-mile, 0.00432088892298)</td>\n",
       "    </tr>\n",
       "    <tr>\n",
       "      <th>3</th>\n",
       "      <td>(antiquity, 0.00502035159775)</td>\n",
       "      <td>(chum, 0.00532520021467)</td>\n",
       "      <td>(gray-beards, 0.00421085325873)</td>\n",
       "      <td>(commander, 0.000422201650515)</td>\n",
       "      <td>(vast-enough, 0.00394278222092)</td>\n",
       "      <td>(rodger, 0.00335198098478)</td>\n",
       "      <td>(wrote, 0.00345119158167)</td>\n",
       "      <td>(halloa, 0.00024763857207)</td>\n",
       "      <td>(stolid, 0.000403158393883)</td>\n",
       "      <td>(halloa, 0.0051860960478)</td>\n",
       "      <td>(nasty, 0.000226727981679)</td>\n",
       "      <td>(fortunes, 0.000782417690546)</td>\n",
       "      <td>(waged, 0.000238937573135)</td>\n",
       "      <td>(keswick, 0.000390429428468)</td>\n",
       "      <td>(chum, 0.0038577167677)</td>\n",
       "      <td>(lightish, 0.00393878900611)</td>\n",
       "      <td>(rafters, 0.000386758131272)</td>\n",
       "      <td>(lightish, 0.000441664278535)</td>\n",
       "      <td>(downright, 0.00470237363276)</td>\n",
       "      <td>(seek, 0.00419248739075)</td>\n",
       "    </tr>\n",
       "    <tr>\n",
       "      <th>4</th>\n",
       "      <td>(khosatral, 0.00498597154715)</td>\n",
       "      <td>(stolid, 0.00526269035145)</td>\n",
       "      <td>(sandstone, 0.00416858365147)</td>\n",
       "      <td>(sacrifice, 0.00040892052468)</td>\n",
       "      <td>(loading, 0.00378515784848)</td>\n",
       "      <td>(lightish, 0.00331909589206)</td>\n",
       "      <td>(cynical, 0.00335816150495)</td>\n",
       "      <td>(bristled, 0.000241841556234)</td>\n",
       "      <td>(lonesome, 0.000398503075896)</td>\n",
       "      <td>(congruity, 0.00515752585155)</td>\n",
       "      <td>(commander, 0.000226270970134)</td>\n",
       "      <td>(either, 0.000780434795412)</td>\n",
       "      <td>(lightly, 0.000238463691128)</td>\n",
       "      <td>(rôle, 0.000368047207922)</td>\n",
       "      <td>(keswick, 0.00353684260354)</td>\n",
       "      <td>(keswick, 0.00390619533079)</td>\n",
       "      <td>(keswick, 0.000380392049134)</td>\n",
       "      <td>(micefield, 0.000434848573995)</td>\n",
       "      <td>(sledging, 0.00462009844772)</td>\n",
       "      <td>(toppled, 0.00416019941713)</td>\n",
       "    </tr>\n",
       "    <tr>\n",
       "      <th>5</th>\n",
       "      <td>(turned, 0.0047661846979)</td>\n",
       "      <td>(really, 0.00513682664394)</td>\n",
       "      <td>(turned, 0.00377871860299)</td>\n",
       "      <td>(rejection, 0.000402912458865)</td>\n",
       "      <td>(gray-beards, 0.0036703868636)</td>\n",
       "      <td>(gray-beards, 0.00326528293132)</td>\n",
       "      <td>(beast's, 0.00324210836771)</td>\n",
       "      <td>(gradings, 0.000237156549197)</td>\n",
       "      <td>(waged, 0.000394180544447)</td>\n",
       "      <td>(tense, 0.00455163389008)</td>\n",
       "      <td>(antiquity, 0.000225106339166)</td>\n",
       "      <td>(credibilities, 0.000777719966008)</td>\n",
       "      <td>(vast-enough, 0.000237140132774)</td>\n",
       "      <td>(stolid, 0.000365039551895)</td>\n",
       "      <td>(fumble, 0.00350376247349)</td>\n",
       "      <td>(waged, 0.0035776312554)</td>\n",
       "      <td>(lightish, 0.000376829948168)</td>\n",
       "      <td>(donations, 0.000427709462134)</td>\n",
       "      <td>(transcendent, 0.00457680412483)</td>\n",
       "      <td>(screaming, 0.00408442841323)</td>\n",
       "    </tr>\n",
       "    <tr>\n",
       "      <th>6</th>\n",
       "      <td>(limited, 0.0046067487038)</td>\n",
       "      <td>(tradesmen, 0.00508045472031)</td>\n",
       "      <td>(contagious, 0.00309790507719)</td>\n",
       "      <td>(unmanned, 0.00040169221079)</td>\n",
       "      <td>(resistance, 0.00352989281229)</td>\n",
       "      <td>(rafters, 0.00300671705797)</td>\n",
       "      <td>(lightish, 0.00307610281796)</td>\n",
       "      <td>(lightly, 0.00022803270767)</td>\n",
       "      <td>(lightish, 0.00039245315965)</td>\n",
       "      <td>(screaming, 0.00431575094465)</td>\n",
       "      <td>(lonesome, 0.000223979393145)</td>\n",
       "      <td>(lusted, 0.000776200308929)</td>\n",
       "      <td>(rafters, 0.000235237784318)</td>\n",
       "      <td>(tense, 0.00035953855505)</td>\n",
       "      <td>(stolid, 0.00348237377313)</td>\n",
       "      <td>(fête, 0.00350945090612)</td>\n",
       "      <td>(anthropoid, 0.000364173791528)</td>\n",
       "      <td>(long-wished, 0.000420417276266)</td>\n",
       "      <td>(palate, 0.0042262500325)</td>\n",
       "      <td>(ebon, 0.00340752830395)</td>\n",
       "    </tr>\n",
       "    <tr>\n",
       "      <th>7</th>\n",
       "      <td>(draggly, 0.0043915386025)</td>\n",
       "      <td>(fumble, 0.00507725305647)</td>\n",
       "      <td>(lightish, 0.00293157883845)</td>\n",
       "      <td>(congruity, 0.00039721789447)</td>\n",
       "      <td>(letzten, 0.00339312300033)</td>\n",
       "      <td>(opposition, 0.00295219064446)</td>\n",
       "      <td>(unmanned, 0.00299791954519)</td>\n",
       "      <td>(antiquity, 0.000224158793871)</td>\n",
       "      <td>(nasty, 0.000384117554422)</td>\n",
       "      <td>(rejection, 0.00428752799547)</td>\n",
       "      <td>(gradings, 0.000208891524414)</td>\n",
       "      <td>(owner, 0.000776078147422)</td>\n",
       "      <td>(bristled, 0.000230378746133)</td>\n",
       "      <td>(lightly, 0.000358847726992)</td>\n",
       "      <td>(waged, 0.00337761182992)</td>\n",
       "      <td>(divans, 0.00346151430599)</td>\n",
       "      <td>(lightly, 0.000363737912868)</td>\n",
       "      <td>(waged, 0.000415752155258)</td>\n",
       "      <td>(nodded, 0.0041332154398)</td>\n",
       "      <td>(misled, 0.00324858515797)</td>\n",
       "    </tr>\n",
       "    <tr>\n",
       "      <th>8</th>\n",
       "      <td>(sicken, 0.00414012982306)</td>\n",
       "      <td>(gradings, 0.00503717588128)</td>\n",
       "      <td>(well-beloved, 0.00290141146518)</td>\n",
       "      <td>(lonesome, 0.000395057389958)</td>\n",
       "      <td>(stolid, 0.00327242095376)</td>\n",
       "      <td>(valueless, 0.00293599935716)</td>\n",
       "      <td>(half-ruined, 0.002895289367)</td>\n",
       "      <td>(commander, 0.000223133920567)</td>\n",
       "      <td>(bristled, 0.000383096463505)</td>\n",
       "      <td>(lightish, 0.0041835658056)</td>\n",
       "      <td>(turned, 0.000207754403075)</td>\n",
       "      <td>(upthrust, 0.000775567333413)</td>\n",
       "      <td>(handcuffs, 0.000226297353242)</td>\n",
       "      <td>(cynical, 0.000358368397584)</td>\n",
       "      <td>(lonesome, 0.00329195179786)</td>\n",
       "      <td>(halloa, 0.00345415238518)</td>\n",
       "      <td>(micefield, 0.000359243889879)</td>\n",
       "      <td>(gradings, 0.000414096888481)</td>\n",
       "      <td>(embrace, 0.00406491916066)</td>\n",
       "      <td>(loins, 0.00323158571226)</td>\n",
       "    </tr>\n",
       "    <tr>\n",
       "      <th>9</th>\n",
       "      <td>(spared, 0.00401165130928)</td>\n",
       "      <td>(smother, 0.0047712199428)</td>\n",
       "      <td>(barks, 0.00289361247745)</td>\n",
       "      <td>(bristled, 0.000388204113456)</td>\n",
       "      <td>(night-times, 0.00316448109284)</td>\n",
       "      <td>(whirl, 0.00264578779817)</td>\n",
       "      <td>(well-beloved, 0.00288392485085)</td>\n",
       "      <td>(vast-enough, 0.000220549006771)</td>\n",
       "      <td>(vast-enough, 0.000380146027051)</td>\n",
       "      <td>(rafters, 0.00374217782815)</td>\n",
       "      <td>(nodded, 0.00020337642191)</td>\n",
       "      <td>(victims, 0.000775554208243)</td>\n",
       "      <td>(nasty, 0.000219007050341)</td>\n",
       "      <td>(lonesome, 0.000351384941464)</td>\n",
       "      <td>(scientifically, 0.00324146416778)</td>\n",
       "      <td>(donations, 0.00340497471016)</td>\n",
       "      <td>(unmanned, 0.000356458388899)</td>\n",
       "      <td>(rejection, 0.000395272676154)</td>\n",
       "      <td>(shielded, 0.00395921444356)</td>\n",
       "      <td>(rafters, 0.00317386119657)</td>\n",
       "    </tr>\n",
       "  </tbody>\n",
       "</table>\n",
       "</div>"
      ],
      "text/plain": [
       "                              0                               1   \\\n",
       "0     (halloa, 0.00716161971281)   (platforms, 0.00888665965021)   \n",
       "1   (bristled, 0.00571245443054)       (query, 0.00634314775966)   \n",
       "2   (lonesome, 0.00512472893873)  (anthropoid, 0.00546447960219)   \n",
       "3  (antiquity, 0.00502035159775)        (chum, 0.00532520021467)   \n",
       "4  (khosatral, 0.00498597154715)      (stolid, 0.00526269035145)   \n",
       "5      (turned, 0.0047661846979)      (really, 0.00513682664394)   \n",
       "6     (limited, 0.0046067487038)   (tradesmen, 0.00508045472031)   \n",
       "7     (draggly, 0.0043915386025)      (fumble, 0.00507725305647)   \n",
       "8     (sicken, 0.00414012982306)    (gradings, 0.00503717588128)   \n",
       "9     (spared, 0.00401165130928)      (smother, 0.0047712199428)   \n",
       "\n",
       "                                 2                               3   \\\n",
       "0          (hard, 0.00726266261035)    (slender, 0.000717739333607)   \n",
       "1           (beg, 0.00701270013027)   (lightish, 0.000434043523391)   \n",
       "2      (gathered, 0.00613989873627)     (halloa, 0.000426811357913)   \n",
       "3   (gray-beards, 0.00421085325873)  (commander, 0.000422201650515)   \n",
       "4     (sandstone, 0.00416858365147)   (sacrifice, 0.00040892052468)   \n",
       "5        (turned, 0.00377871860299)  (rejection, 0.000402912458865)   \n",
       "6    (contagious, 0.00309790507719)    (unmanned, 0.00040169221079)   \n",
       "7      (lightish, 0.00293157883845)   (congruity, 0.00039721789447)   \n",
       "8  (well-beloved, 0.00290141146518)   (lonesome, 0.000395057389958)   \n",
       "9         (barks, 0.00289361247745)   (bristled, 0.000388204113456)   \n",
       "\n",
       "                                4                                5   \\\n",
       "0     (six-mile, 0.00897247485674)  (vast-enough, 0.00590339090413)   \n",
       "1         (afar, 0.00666987189238)        (tense, 0.00347532030258)   \n",
       "2        (tense, 0.00443027842894)      (cynical, 0.00344660172915)   \n",
       "3  (vast-enough, 0.00394278222092)       (rodger, 0.00335198098478)   \n",
       "4      (loading, 0.00378515784848)     (lightish, 0.00331909589206)   \n",
       "5   (gray-beards, 0.0036703868636)  (gray-beards, 0.00326528293132)   \n",
       "6   (resistance, 0.00352989281229)      (rafters, 0.00300671705797)   \n",
       "7      (letzten, 0.00339312300033)   (opposition, 0.00295219064446)   \n",
       "8       (stolid, 0.00327242095376)    (valueless, 0.00293599935716)   \n",
       "9  (night-times, 0.00316448109284)        (whirl, 0.00264578779817)   \n",
       "\n",
       "                                 6                                 7   \\\n",
       "0         (nasty, 0.00371939191261)     (argument, 0.000281760074929)   \n",
       "1   (gray-beards, 0.00357150858524)     (lightish, 0.000256572827199)   \n",
       "2     (commander, 0.00350569085354)       (stolid, 0.000248820316373)   \n",
       "3         (wrote, 0.00345119158167)        (halloa, 0.00024763857207)   \n",
       "4       (cynical, 0.00335816150495)     (bristled, 0.000241841556234)   \n",
       "5       (beast's, 0.00324210836771)     (gradings, 0.000237156549197)   \n",
       "6      (lightish, 0.00307610281796)       (lightly, 0.00022803270767)   \n",
       "7      (unmanned, 0.00299791954519)    (antiquity, 0.000224158793871)   \n",
       "8     (half-ruined, 0.002895289367)    (commander, 0.000223133920567)   \n",
       "9  (well-beloved, 0.00288392485085)  (vast-enough, 0.000220549006771)   \n",
       "\n",
       "                                 8                              9   \\\n",
       "0     (argument, 0.000457392352969)     (slender, 0.0117254359618)   \n",
       "1    (commander, 0.000433691565041)   (six-mile, 0.00546099574407)   \n",
       "2        (lightly, 0.0004121470393)  (sacrifice, 0.00528032125244)   \n",
       "3       (stolid, 0.000403158393883)      (halloa, 0.0051860960478)   \n",
       "4     (lonesome, 0.000398503075896)  (congruity, 0.00515752585155)   \n",
       "5        (waged, 0.000394180544447)      (tense, 0.00455163389008)   \n",
       "6      (lightish, 0.00039245315965)  (screaming, 0.00431575094465)   \n",
       "7        (nasty, 0.000384117554422)  (rejection, 0.00428752799547)   \n",
       "8     (bristled, 0.000383096463505)    (lightish, 0.0041835658056)   \n",
       "9  (vast-enough, 0.000380146027051)    (rafters, 0.00374217782815)   \n",
       "\n",
       "                               10                                  11  \\\n",
       "0      (waged, 0.000269709439137)          (guddee, 0.00081968830949)   \n",
       "1  (handcuffs, 0.000262925570865)       (t-happen, 0.000798815607312)   \n",
       "2   (bristled, 0.000230745283874)       (advanced, 0.000789071926099)   \n",
       "3      (nasty, 0.000226727981679)       (fortunes, 0.000782417690546)   \n",
       "4  (commander, 0.000226270970134)         (either, 0.000780434795412)   \n",
       "5  (antiquity, 0.000225106339166)  (credibilities, 0.000777719966008)   \n",
       "6   (lonesome, 0.000223979393145)         (lusted, 0.000776200308929)   \n",
       "7   (gradings, 0.000208891524414)          (owner, 0.000776078147422)   \n",
       "8     (turned, 0.000207754403075)       (upthrust, 0.000775567333413)   \n",
       "9      (nodded, 0.00020337642191)        (victims, 0.000775554208243)   \n",
       "\n",
       "                                 12                             13  \\\n",
       "0     (lightish, 0.000286058422173)     (waged, 0.000426590280446)   \n",
       "1     (gradings, 0.000248808196581)  (bristled, 0.000421549077689)   \n",
       "2      (cynical, 0.000240483135874)   (gradings, 0.00039901061162)   \n",
       "3        (waged, 0.000238937573135)   (keswick, 0.000390429428468)   \n",
       "4      (lightly, 0.000238463691128)      (rôle, 0.000368047207922)   \n",
       "5  (vast-enough, 0.000237140132774)    (stolid, 0.000365039551895)   \n",
       "6      (rafters, 0.000235237784318)      (tense, 0.00035953855505)   \n",
       "7     (bristled, 0.000230378746133)   (lightly, 0.000358847726992)   \n",
       "8    (handcuffs, 0.000226297353242)   (cynical, 0.000358368397584)   \n",
       "9        (nasty, 0.000219007050341)  (lonesome, 0.000351384941464)   \n",
       "\n",
       "                                   14                              15  \\\n",
       "0         (mahouts, 0.00573826391415)     (lightly, 0.00475631972476)   \n",
       "1       (platforms, 0.00526402824759)     (knowest, 0.00473766488703)   \n",
       "2         (lightly, 0.00390231960353)  (incipiency, 0.00415723165296)   \n",
       "3             (chum, 0.0038577167677)    (lightish, 0.00393878900611)   \n",
       "4         (keswick, 0.00353684260354)     (keswick, 0.00390619533079)   \n",
       "5          (fumble, 0.00350376247349)        (waged, 0.0035776312554)   \n",
       "6          (stolid, 0.00348237377313)        (fête, 0.00350945090612)   \n",
       "7           (waged, 0.00337761182992)      (divans, 0.00346151430599)   \n",
       "8        (lonesome, 0.00329195179786)      (halloa, 0.00345415238518)   \n",
       "9  (scientifically, 0.00324146416778)   (donations, 0.00340497471016)   \n",
       "\n",
       "                                16                                17  \\\n",
       "0       (stolid, 0.00043650165615)       (halloa, 0.000551991342755)   \n",
       "1        (nasty, 0.00041478490118)      (lightly, 0.000503392992729)   \n",
       "2  (long-wished, 0.00038869194818)     (bristled, 0.000464641567629)   \n",
       "3     (rafters, 0.000386758131272)     (lightish, 0.000441664278535)   \n",
       "4     (keswick, 0.000380392049134)    (micefield, 0.000434848573995)   \n",
       "5    (lightish, 0.000376829948168)    (donations, 0.000427709462134)   \n",
       "6  (anthropoid, 0.000364173791528)  (long-wished, 0.000420417276266)   \n",
       "7     (lightly, 0.000363737912868)        (waged, 0.000415752155258)   \n",
       "8   (micefield, 0.000359243889879)     (gradings, 0.000414096888481)   \n",
       "9    (unmanned, 0.000356458388899)    (rejection, 0.000395272676154)   \n",
       "\n",
       "                                 18                              19  \n",
       "0   (gray-beards, 0.00959791288658)        (tokay, 0.0062084700607)  \n",
       "1  (well-beloved, 0.00595402873829)  (perplexing, 0.00616954843535)  \n",
       "2         (nasty, 0.00552633648687)    (six-mile, 0.00432088892298)  \n",
       "3     (downright, 0.00470237363276)        (seek, 0.00419248739075)  \n",
       "4      (sledging, 0.00462009844772)     (toppled, 0.00416019941713)  \n",
       "5  (transcendent, 0.00457680412483)   (screaming, 0.00408442841323)  \n",
       "6         (palate, 0.0042262500325)        (ebon, 0.00340752830395)  \n",
       "7         (nodded, 0.0041332154398)      (misled, 0.00324858515797)  \n",
       "8       (embrace, 0.00406491916066)       (loins, 0.00323158571226)  \n",
       "9      (shielded, 0.00395921444356)     (rafters, 0.00317386119657)  "
      ]
     },
     "execution_count": 26,
     "metadata": {},
     "output_type": "execute_result"
    }
   ],
   "source": [
    "doc_topic = topics_df.T\n",
    "doc_topic"
   ]
  },
  {
   "cell_type": "markdown",
   "metadata": {
    "deletable": true,
    "editable": true
   },
   "source": [
    "## Visualisierung "
   ]
  },
  {
   "cell_type": "code",
   "execution_count": 27,
   "metadata": {
    "collapsed": false,
    "deletable": true,
    "editable": true
   },
   "outputs": [
    {
     "data": {
      "text/plain": [
       "\"lda_model = 'out_easy/corpus.lda'\\ncorpus = 'out_easy/corpus.mm'\\ndictionary = 'out_easy/corpus.dict'\\ndoc_labels = 'out_easy/corpus_doclabels.txt'\\ninteractive  = False\\n\\nvis = visual.Visualization(lda_model, corpus, dictionary, doc_labels, interactive)\""
      ]
     },
     "execution_count": 27,
     "metadata": {},
     "output_type": "execute_result"
    }
   ],
   "source": [
    "'''lda_model = 'out_easy/corpus.lda'\n",
    "corpus = 'out_easy/corpus.mm'\n",
    "dictionary = 'out_easy/corpus.dict'\n",
    "doc_labels = 'out_easy/corpus_doclabels.txt'\n",
    "interactive  = False\n",
    "\n",
    "vis = visual.Visualization(lda_model, corpus, dictionary, doc_labels, interactive)'''"
   ]
  },
  {
   "cell_type": "markdown",
   "metadata": {
    "deletable": true,
    "editable": true
   },
   "source": [
    "##### Create a document-topic matrix (that is a pandas data frame actually)"
   ]
  },
  {
   "cell_type": "code",
   "execution_count": 28,
   "metadata": {
    "collapsed": false,
    "deletable": true,
    "editable": true
   },
   "outputs": [],
   "source": [
    "doc_topic = visual.create_doc_topic(mm, model, doc_labels)"
   ]
  },
  {
   "cell_type": "markdown",
   "metadata": {
    "deletable": true,
    "editable": true
   },
   "source": [
    "##### Visualize document-topic matrix"
   ]
  },
  {
   "cell_type": "code",
   "execution_count": 29,
   "metadata": {
    "collapsed": false,
    "deletable": true,
    "editable": true
   },
   "outputs": [
    {
     "data": {
      "text/plain": [
       "<module 'matplotlib.pyplot' from '/Library/Frameworks/Python.framework/Versions/3.5/lib/python3.5/site-packages/matplotlib/pyplot.py'>"
      ]
     },
     "execution_count": 29,
     "metadata": {},
     "output_type": "execute_result"
    },
    {
     "data": {
      "image/png": "[encoded data removed]",
      "text/plain": [
       "<matplotlib.figure.Figure at 0x10eab7da0>"
      ]
     },
     "metadata": {},
     "output_type": "display_data"
    }
   ],
   "source": [
    "%matplotlib inline\n",
    "visual.doc_topic_heatmap(doc_topic)"
   ]
  },
  {
   "cell_type": "markdown",
   "metadata": {
    "deletable": true,
    "editable": true
   },
   "source": [
    "##### Visualize topic distribution in a single document"
   ]
  },
  {
   "cell_type": "code",
   "execution_count": 30,
   "metadata": {
    "collapsed": false,
    "deletable": true,
    "editable": true
   },
   "outputs": [
    {
     "data": {
      "text/plain": [
       "<module 'matplotlib.pyplot' from '/Library/Frameworks/Python.framework/Versions/3.5/lib/python3.5/site-packages/matplotlib/pyplot.py'>"
      ]
     },
     "execution_count": 30,
     "metadata": {},
     "output_type": "execute_result"
    },
    {
     "data": {
      "image/png": "[encoded data removed]",
      "text/plain": [
       "<matplotlib.figure.Figure at 0x110c72978>"
      ]
     },
     "metadata": {},
     "output_type": "display_data"
    }
   ],
   "source": [
    "visual.plot_doc_topics(doc_topic, 0)"
   ]
  },
  {
   "cell_type": "markdown",
   "metadata": {
    "collapsed": true,
    "deletable": true,
    "editable": true
   },
   "source": [
    "![success](http://cdn2.hubspot.net/hub/128506/file-446943132-jpg/images/computer_woman_success.jpg)"
   ]
  }
 ],
 "metadata": {
  "kernelspec": {
   "display_name": "Python 3",
   "language": "python",
   "name": "python3"
  },
  "language_info": {
   "codemirror_mode": {
    "name": "ipython",
    "version": 3
   },
   "file_extension": ".py",
   "mimetype": "text/x-python",
   "name": "python",
   "nbconvert_exporter": "python",
   "pygments_lexer": "ipython3",
   "version": "3.5.2"
  }
 },
 "nbformat": 4,
 "nbformat_minor": 0
}
