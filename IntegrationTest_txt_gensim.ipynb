{
 "cells": [
  {
   "cell_type": "code",
   "execution_count": 1,
   "metadata": {
    "collapsed": false,
    "deletable": true,
    "editable": true
   },
   "outputs": [],
   "source": [
    "from dariah_topics import preprocessing as pre\n",
    "from dariah_topics import visualization as visual\n",
    "from dariah_topics import evaluation"
   ]
  },
  {
   "cell_type": "markdown",
   "metadata": {
    "deletable": true,
    "editable": true
   },
   "source": [
    "## Preprocessing"
   ]
  },
  {
   "cell_type": "markdown",
   "metadata": {
    "deletable": true,
    "editable": true
   },
   "source": [
    "#### Liste mit Dateinamen erzeugen"
   ]
  },
  {
   "cell_type": "code",
   "execution_count": 2,
   "metadata": {
    "collapsed": false,
    "deletable": true,
    "editable": true
   },
   "outputs": [
    {
     "name": "stderr",
     "output_type": "stream",
     "text": [
      "INFO preprocessing: Creating document list from TXT files ...\n"
     ]
    },
    {
     "data": {
      "text/plain": [
       "['corpus_txt/Lovecraft_AttheMountainofMadness.txt',\n",
       " 'corpus_txt/Howard_TheDevilinIron.txt',\n",
       " 'corpus_txt/Poe_ThePurloinedLetter.txt',\n",
       " 'corpus_txt/Lovecraft_TheShunnedHouse.txt',\n",
       " 'corpus_txt/Poe_TheMasqueoftheRedDeath.txt']"
      ]
     },
     "execution_count": 2,
     "metadata": {},
     "output_type": "execute_result"
    }
   ],
   "source": [
    "path_txt = \"corpus_txt\"\n",
    "#path_txt = \"grenzbote_plain/*/\"\n",
    "#path_txt = \"wiki/\"\n",
    "\n",
    "doclist_txt = pre.create_document_list(path_txt)\n",
    "assert doclist_txt, \"No documents found\"\n",
    "doclist_txt[:5]"
   ]
  },
  {
   "cell_type": "markdown",
   "metadata": {
    "deletable": true,
    "editable": true
   },
   "source": [
    "#####  Liste mit Dokumentenlabels erzeugen - (Funktion wird durch Thorsten's generischere Funktion ersetzt)"
   ]
  },
  {
   "cell_type": "code",
   "execution_count": 3,
   "metadata": {
    "collapsed": false,
    "deletable": true,
    "editable": true
   },
   "outputs": [
    {
     "name": "stderr",
     "output_type": "stream",
     "text": [
      "INFO preprocessing: Creating document labels ...\n"
     ]
    },
    {
     "data": {
      "text/plain": [
       "['Lovecraft_AttheMountainofMadness',\n",
       " 'Howard_TheDevilinIron',\n",
       " 'Poe_ThePurloinedLetter',\n",
       " 'Lovecraft_TheShunnedHouse',\n",
       " 'Poe_TheMasqueoftheRedDeath']"
      ]
     },
     "execution_count": 3,
     "metadata": {},
     "output_type": "execute_result"
    }
   ],
   "source": [
    "doc_labels = list(pre.get_labels(doclist_txt))\n",
    "doc_labels[:5]"
   ]
  },
  {
   "cell_type": "markdown",
   "metadata": {
    "deletable": true,
    "editable": true
   },
   "source": [
    "#### Corpus laden"
   ]
  },
  {
   "cell_type": "code",
   "execution_count": 4,
   "metadata": {
    "collapsed": false,
    "deletable": true,
    "editable": true
   },
   "outputs": [],
   "source": [
    "corpus_txt = pre.read_from_txt(doclist_txt)"
   ]
  },
  {
   "cell_type": "markdown",
   "metadata": {
    "deletable": true,
    "editable": true
   },
   "source": [
    "#### Tokenisieren"
   ]
  },
  {
   "cell_type": "code",
   "execution_count": 5,
   "metadata": {
    "collapsed": false,
    "deletable": true,
    "editable": true
   },
   "outputs": [
    {
     "name": "stderr",
     "output_type": "stream",
     "text": [
      "INFO preprocessing: Accessing TXT documents ...\n"
     ]
    }
   ],
   "source": [
    "doc_tokens = [list(pre.tokenize(txt)) for txt in list(corpus_txt)]"
   ]
  },
  {
   "cell_type": "markdown",
   "metadata": {
    "deletable": true,
    "editable": true
   },
   "source": [
    "#### Create Dictionaries"
   ]
  },
  {
   "cell_type": "code",
   "execution_count": 6,
   "metadata": {
    "collapsed": false,
    "deletable": true,
    "editable": true
   },
   "outputs": [],
   "source": [
    "id_types = pre.create_dictionary(doc_tokens)\n",
    "doc_ids = pre.create_dictionary(doc_labels)"
   ]
  },
  {
   "cell_type": "markdown",
   "metadata": {
    "deletable": true,
    "editable": true
   },
   "source": [
    "#### Sparse BOW Model"
   ]
  },
  {
   "cell_type": "code",
   "execution_count": 7,
   "metadata": {
    "collapsed": false,
    "deletable": true,
    "editable": true
   },
   "outputs": [],
   "source": [
    "sparse_bow = pre.create_sparse_bow(doc_labels, doc_tokens, id_types, doc_ids)"
   ]
  },
  {
   "cell_type": "code",
   "execution_count": 8,
   "metadata": {
    "collapsed": false,
    "deletable": true,
    "editable": true
   },
   "outputs": [
    {
     "data": {
      "text/html": [
       "<div>\n",
       "<table border=\"1\" class=\"dataframe\">\n",
       "  <thead>\n",
       "    <tr style=\"text-align: right;\">\n",
       "      <th></th>\n",
       "      <th></th>\n",
       "      <th>0</th>\n",
       "    </tr>\n",
       "    <tr>\n",
       "      <th>doc_id</th>\n",
       "      <th>token_id</th>\n",
       "      <th></th>\n",
       "    </tr>\n",
       "  </thead>\n",
       "  <tbody>\n",
       "    <tr>\n",
       "      <th rowspan=\"5\" valign=\"top\">1</th>\n",
       "      <th>16384</th>\n",
       "      <td>1</td>\n",
       "    </tr>\n",
       "    <tr>\n",
       "      <th>5</th>\n",
       "      <td>1</td>\n",
       "    </tr>\n",
       "    <tr>\n",
       "      <th>6</th>\n",
       "      <td>1</td>\n",
       "    </tr>\n",
       "    <tr>\n",
       "      <th>16394</th>\n",
       "      <td>1</td>\n",
       "    </tr>\n",
       "    <tr>\n",
       "      <th>16396</th>\n",
       "      <td>1</td>\n",
       "    </tr>\n",
       "  </tbody>\n",
       "</table>\n",
       "</div>"
      ],
      "text/plain": [
       "                 0\n",
       "doc_id token_id   \n",
       "1      16384     1\n",
       "       5         1\n",
       "       6         1\n",
       "       16394     1\n",
       "       16396     1"
      ]
     },
     "execution_count": 8,
     "metadata": {},
     "output_type": "execute_result"
    }
   ],
   "source": [
    "sparse_bow[:5]"
   ]
  },
  {
   "cell_type": "markdown",
   "metadata": {
    "deletable": true,
    "editable": true
   },
   "source": [
    "## Topic Modeling with Gensim"
   ]
  },
  {
   "cell_type": "markdown",
   "metadata": {
    "deletable": true,
    "editable": true
   },
   "source": [
    "##### Saving Sparse BOW"
   ]
  },
  {
   "cell_type": "code",
   "execution_count": 9,
   "metadata": {
    "collapsed": false,
    "deletable": true,
    "editable": true
   },
   "outputs": [],
   "source": [
    "pre.save_sparse_bow(sparse_bow, \"gensim_txt\")"
   ]
  },
  {
   "cell_type": "markdown",
   "metadata": {
    "deletable": true,
    "editable": true
   },
   "source": [
    "#### Import Market Matrix"
   ]
  },
  {
   "cell_type": "code",
   "execution_count": 10,
   "metadata": {
    "collapsed": false,
    "deletable": true,
    "editable": true
   },
   "outputs": [
    {
     "name": "stderr",
     "output_type": "stream",
     "text": [
      "INFO summa.preprocessing.cleaner: 'pattern' package not found; tag filters are not available for English\n"
     ]
    }
   ],
   "source": [
    "from gensim.models import LdaModel\n",
    "from gensim.corpora import MmCorpus"
   ]
  },
  {
   "cell_type": "code",
   "execution_count": 11,
   "metadata": {
    "collapsed": false,
    "deletable": true,
    "editable": true
   },
   "outputs": [
    {
     "name": "stderr",
     "output_type": "stream",
     "text": [
      "INFO gensim.matutils: initializing corpus reader from gensim_txt.mm\n",
      "INFO gensim.matutils: accepted corpus with 17 documents, 22232 features, 369906 non-zero entries\n"
     ]
    }
   ],
   "source": [
    "mm = MmCorpus(\"gensim_txt.mm\")"
   ]
  },
  {
   "cell_type": "code",
   "execution_count": 12,
   "metadata": {
    "collapsed": false,
    "deletable": true,
    "editable": true
   },
   "outputs": [
    {
     "name": "stderr",
     "output_type": "stream",
     "text": [
      "INFO gensim.matutils: initializing corpus reader from gensim_txt.mm\n",
      "INFO gensim.matutils: accepted corpus with 17 documents, 22232 features, 369906 non-zero entries\n"
     ]
    }
   ],
   "source": [
    "corpus = MmCorpus('gensim_txt.mm')"
   ]
  },
  {
   "cell_type": "code",
   "execution_count": 13,
   "metadata": {
    "collapsed": false,
    "deletable": true,
    "editable": true
   },
   "outputs": [],
   "source": [
    "doc2id = {value : key for key, value in doc_ids.items()}\n",
    "type2id = {value : key for key, value in id_types.items()}"
   ]
  },
  {
   "cell_type": "markdown",
   "metadata": {
    "deletable": true,
    "editable": true
   },
   "source": [
    "##### Remove Features"
   ]
  },
  {
   "cell_type": "markdown",
   "metadata": {
    "deletable": true,
    "editable": true
   },
   "source": [
    "type2id = {value : key for key, value in id_types.items()}\n",
    "sparse_bow_collapsed = sparse_bow.groupby(sparse_bow.index.get_level_values('token_id')).sum()"
   ]
  },
  {
   "cell_type": "markdown",
   "metadata": {
    "deletable": true,
    "editable": true
   },
   "source": [
    "sparse_bow_hapax = sparse_bow_collapsed.loc[sparse_bow_collapsed[0] == 1]\n",
    "hapax = [type2id[key] for key in sparse_bow_hapax.index.get_level_values('token_id')]"
   ]
  },
  {
   "cell_type": "markdown",
   "metadata": {
    "deletable": true,
    "editable": true
   },
   "source": [
    "len(hapax)"
   ]
  },
  {
   "cell_type": "code",
   "execution_count": 14,
   "metadata": {
    "collapsed": false,
    "deletable": true,
    "editable": true
   },
   "outputs": [],
   "source": [
    "import os.path\n",
    "basepath = os.path.abspath('.')\n",
    "\n",
    "with open(os.path.join(basepath, \"tutorial_supplementals\", \"stopwords\", \"en.txt\"), 'r', encoding = 'utf-8') as f: \n",
    "    stopword_list = f.read().split('\\n')\n",
    "    \n",
    "stopword_list = set(stopword_list)"
   ]
  },
  {
   "cell_type": "code",
   "execution_count": 15,
   "metadata": {
    "collapsed": false,
    "deletable": true,
    "editable": true
   },
   "outputs": [
    {
     "name": "stderr",
     "output_type": "stream",
     "text": [
      "INFO preprocessing: Finding hapax legomena ...\n",
      "INFO preprocessing: Finding stopwords ...\n",
      "INFO preprocessing: Removing features ...\n"
     ]
    }
   ],
   "source": [
    "hapax_from_remove = pre.find_hapax(sparse_bow, id_types)\n",
    "stopwords_from_remove = pre.find_stopwords(sparse_bow, id_types, mfw=75)\n",
    "\n",
    "#features_to_be_removed = set(hapax_from_remove + stopwords_from_remove)\n",
    "features_to_be_removed = stopwords_from_remove\n",
    "\n",
    "sparse_bow_short = pre.remove_features(sparse_bow, id_types, features_to_be_removed)"
   ]
  },
  {
   "cell_type": "code",
   "execution_count": 16,
   "metadata": {
    "collapsed": false,
    "deletable": true,
    "editable": true
   },
   "outputs": [
    {
     "data": {
      "text/plain": [
       "75"
      ]
     },
     "execution_count": 16,
     "metadata": {},
     "output_type": "execute_result"
    }
   ],
   "source": [
    "len(features_to_be_removed)"
   ]
  },
  {
   "cell_type": "code",
   "execution_count": 17,
   "metadata": {
    "collapsed": false,
    "deletable": true,
    "editable": true
   },
   "outputs": [],
   "source": [
    "pre.save_sparse_bow(sparse_bow_short, \"gensim_txt\")"
   ]
  },
  {
   "cell_type": "code",
   "execution_count": 18,
   "metadata": {
    "collapsed": false,
    "deletable": true,
    "editable": true
   },
   "outputs": [
    {
     "name": "stderr",
     "output_type": "stream",
     "text": [
      "INFO gensim.matutils: initializing corpus reader from gensim_txt.mm\n",
      "INFO gensim.matutils: accepted corpus with 17 documents, 22232 features, 192053 non-zero entries\n"
     ]
    }
   ],
   "source": [
    "mm = MmCorpus(\"gensim_txt.mm\")"
   ]
  },
  {
   "cell_type": "markdown",
   "metadata": {
    "deletable": true,
    "editable": true
   },
   "source": [
    "#### Convert sparse_bow to list of (doc, tokens) tuples (like doc2bow)"
   ]
  },
  {
   "cell_type": "code",
   "execution_count": 19,
   "metadata": {
    "collapsed": false,
    "deletable": true,
    "editable": true
   },
   "outputs": [],
   "source": [
    "doc2bow_list = []\n",
    "\n",
    "for doc in sparse_bow_short.index.groupby(sparse_bow_short.index.get_level_values('doc_id')):\n",
    "    temp = [(token, count) for token, count in zip(sparse_bow_short.loc[doc].index, sparse_bow_short.loc[doc][0])]\n",
    "    doc2bow_list.append(temp)"
   ]
  },
  {
   "cell_type": "code",
   "execution_count": 20,
   "metadata": {
    "collapsed": false,
    "deletable": true,
    "editable": true
   },
   "outputs": [
    {
     "data": {
      "text/plain": [
       "17"
      ]
     },
     "execution_count": 20,
     "metadata": {},
     "output_type": "execute_result"
    }
   ],
   "source": [
    "len(doc2bow_list)"
   ]
  },
  {
   "cell_type": "code",
   "execution_count": 21,
   "metadata": {
    "collapsed": false,
    "deletable": true,
    "editable": true
   },
   "outputs": [
    {
     "name": "stderr",
     "output_type": "stream",
     "text": [
      "INFO gensim.models.ldamodel: using symmetric alpha at 0.05\n",
      "INFO gensim.models.ldamodel: using symmetric eta at 4.49781855799937e-05\n",
      "INFO gensim.models.ldamodel: using serial LDA version on this node\n",
      "INFO gensim.models.ldamodel: running online LDA training, 20 topics, 10 passes over the supplied corpus of 17 documents, updating model once every 17 documents, evaluating perplexity every 17 documents, iterating 20x with a convergence threshold of 0.001000\n",
      "INFO gensim.models.ldamodel: -14.377 per-word bound, 21272.3 perplexity estimate based on a held-out corpus of 17 documents with 192053 words\n",
      "INFO gensim.models.ldamodel: PROGRESS: pass 0, at document #17/17\n",
      "INFO gensim.models.ldamodel: topic #6 (0.050): 0.004*\"leaves-on\" + 0.004*\"descend\" + 0.003*\"panelling\" + 0.003*\"chills\" + 0.003*\"displace\" + 0.003*\"thoroughfare\" + 0.003*\"impotent\" + 0.003*\"david\" + 0.003*\"compact\" + 0.003*\"heya\"\n",
      "INFO gensim.models.ldamodel: topic #9 (0.050): 0.003*\"displace\" + 0.003*\"compact\" + 0.003*\"distract\" + 0.003*\"heya\" + 0.003*\"descend\" + 0.003*\"faithfully\" + 0.003*\"lee\" + 0.002*\"chills\" + 0.002*\"monotony\" + 0.002*\"playground\"\n",
      "INFO gensim.models.ldamodel: topic #12 (0.050): 0.003*\"anticipating\" + 0.003*\"trick\" + 0.003*\"descend\" + 0.003*\"lee\" + 0.003*\"distract\" + 0.003*\"leaves-on\" + 0.003*\"pays\" + 0.003*\"excess\" + 0.003*\"panelling\" + 0.003*\"heya\"\n",
      "INFO gensim.models.ldamodel: topic #8 (0.050): 0.003*\"compact\" + 0.003*\"displace\" + 0.003*\"impotent\" + 0.003*\"distract\" + 0.003*\"chills\" + 0.003*\"leaves-on\" + 0.003*\"descend\" + 0.003*\"lee\" + 0.003*\"go-see\" + 0.003*\"whirl\"\n",
      "INFO gensim.models.ldamodel: topic #4 (0.050): 0.003*\"compact\" + 0.003*\"david\" + 0.003*\"gaudy\" + 0.003*\"impotent\" + 0.003*\"whirl\" + 0.003*\"drat\" + 0.002*\"displace\" + 0.002*\"anticipating\" + 0.002*\"poorly-educated\" + 0.002*\"distract\"\n",
      "INFO gensim.models.ldamodel: topic diff=5.896652, rho=1.000000\n",
      "INFO gensim.models.ldamodel: -10.886 per-word bound, 1891.7 perplexity estimate based on a held-out corpus of 17 documents with 192053 words\n",
      "INFO gensim.models.ldamodel: PROGRESS: pass 1, at document #17/17\n",
      "INFO gensim.models.ldamodel: topic #13 (0.050): 0.003*\"david\" + 0.003*\"descend\" + 0.003*\"heya\" + 0.003*\"faithfully\" + 0.003*\"go-see\" + 0.003*\"trick\" + 0.003*\"displace\" + 0.003*\"compact\" + 0.003*\"lee\" + 0.003*\"drat\"\n",
      "INFO gensim.models.ldamodel: topic #14 (0.050): 0.005*\"whirl\" + 0.004*\"leaves-on\" + 0.003*\"displace\" + 0.003*\"poorly-educated\" + 0.003*\"ground-moles\" + 0.003*\"drat\" + 0.003*\"monotony\" + 0.003*\"cleaning\" + 0.003*\"descend\" + 0.003*\"impotent\"\n",
      "INFO gensim.models.ldamodel: topic #8 (0.050): 0.005*\"brythunian\" + 0.004*\"leaves-on\" + 0.004*\"observation\" + 0.003*\"impotent\" + 0.003*\"compact\" + 0.003*\"go-see\" + 0.003*\"kitchen-curtains\" + 0.003*\"whirl\" + 0.003*\"displace\" + 0.003*\"cleaning\"\n",
      "INFO gensim.models.ldamodel: topic #12 (0.050): 0.003*\"trick\" + 0.003*\"lee\" + 0.003*\"descend\" + 0.003*\"anticipating\" + 0.003*\"distract\" + 0.003*\"pays\" + 0.002*\"gaudy\" + 0.002*\"panelling\" + 0.002*\"playground\" + 0.002*\"leaves-on\"\n",
      "INFO gensim.models.ldamodel: topic #19 (0.050): 0.007*\"anticipating\" + 0.004*\"excess\" + 0.004*\"david\" + 0.004*\"wherever\" + 0.004*\"lend\" + 0.003*\"roped\" + 0.003*\"descend\" + 0.003*\"rejoice\" + 0.003*\"smaller\" + 0.003*\"compact\"\n",
      "INFO gensim.models.ldamodel: topic diff=2.756633, rho=0.577350\n",
      "INFO gensim.models.ldamodel: -9.598 per-word bound, 774.9 perplexity estimate based on a held-out corpus of 17 documents with 192053 words\n",
      "INFO gensim.models.ldamodel: PROGRESS: pass 2, at document #17/17\n",
      "INFO gensim.models.ldamodel: topic #0 (0.050): 0.002*\"displace\" + 0.002*\"lend\" + 0.002*\"chills\" + 0.002*\"poorly-educated\" + 0.002*\"stolen\" + 0.002*\"pantherish\" + 0.002*\"excess\" + 0.002*\"descend\" + 0.002*\"david\" + 0.002*\"leaves-on\"\n",
      "INFO gensim.models.ldamodel: topic #7 (0.050): 0.003*\"displace\" + 0.002*\"impotent\" + 0.002*\"perspectivischen\" + 0.002*\"other\" + 0.002*\"poorly-educated\" + 0.002*\"lend\" + 0.002*\"descend\" + 0.002*\"donna\" + 0.002*\"monotony\" + 0.002*\"compact\"\n",
      "INFO gensim.models.ldamodel: topic #5 (0.050): 0.002*\"david\" + 0.002*\"heya\" + 0.002*\"lee\" + 0.002*\"poorly-educated\" + 0.002*\"playground\" + 0.002*\"descend\" + 0.002*\"gaudy\" + 0.002*\"trick\" + 0.002*\"drat\" + 0.002*\"impotent\"\n",
      "INFO gensim.models.ldamodel: topic #16 (0.050): 0.004*\"displace\" + 0.004*\"saul\" + 0.004*\"whirl\" + 0.004*\"gardens\" + 0.004*\"poorly-educated\" + 0.003*\"leaves-on\" + 0.003*\"heya\" + 0.003*\"distract\" + 0.003*\"satrap's\" + 0.003*\"ground-moles\"\n",
      "INFO gensim.models.ldamodel: topic #14 (0.050): 0.004*\"whirl\" + 0.004*\"leaves-on\" + 0.003*\"displace\" + 0.003*\"poorly-educated\" + 0.003*\"ground-moles\" + 0.003*\"drat\" + 0.003*\"monotony\" + 0.002*\"cleaning\" + 0.002*\"descend\" + 0.002*\"impotent\"\n",
      "INFO gensim.models.ldamodel: topic diff=2.143044, rho=0.500000\n",
      "INFO gensim.models.ldamodel: -9.140 per-word bound, 564.0 perplexity estimate based on a held-out corpus of 17 documents with 192053 words\n",
      "INFO gensim.models.ldamodel: PROGRESS: pass 3, at document #17/17\n",
      "INFO gensim.models.ldamodel: topic #18 (0.050): 0.002*\"descend\" + 0.002*\"lee\" + 0.002*\"david\" + 0.002*\"whirl\" + 0.002*\"gaudy\" + 0.002*\"heya\" + 0.002*\"smaller\" + 0.002*\"faithfully\" + 0.001*\"distract\" + 0.001*\"go-see\"\n",
      "INFO gensim.models.ldamodel: topic #15 (0.050): 0.007*\"sextant\" + 0.004*\"prided\" + 0.004*\"descend\" + 0.003*\"lighters\" + 0.003*\"sifted\" + 0.003*\"david\" + 0.003*\"donna\" + 0.003*\"go-see\" + 0.003*\"anticipating\" + 0.003*\"heya\"\n",
      "INFO gensim.models.ldamodel: topic #10 (0.050): 0.002*\"excess\" + 0.002*\"drat\" + 0.002*\"distract\" + 0.002*\"trick\" + 0.002*\"playground\" + 0.002*\"whirl\" + 0.002*\"overthrew\" + 0.002*\"poorly-educated\" + 0.002*\"pays\" + 0.002*\"anticipating\"\n",
      "INFO gensim.models.ldamodel: topic #17 (0.050): 0.002*\"anticipating\" + 0.002*\"heya\" + 0.002*\"uninterruptedly\" + 0.001*\"descend\" + 0.001*\"trick\" + 0.001*\"stolen\" + 0.001*\"poorly-educated\" + 0.001*\"thoroughfare\" + 0.001*\"playground\" + 0.001*\"testifying\"\n",
      "INFO gensim.models.ldamodel: topic #9 (0.050): 0.002*\"displace\" + 0.002*\"compact\" + 0.002*\"distract\" + 0.002*\"descend\" + 0.002*\"heya\" + 0.001*\"lee\" + 0.001*\"monotony\" + 0.001*\"faithfully\" + 0.001*\"chills\" + 0.001*\"playground\"\n",
      "INFO gensim.models.ldamodel: topic diff=1.569635, rho=0.447214\n",
      "INFO gensim.models.ldamodel: -8.919 per-word bound, 484.1 perplexity estimate based on a held-out corpus of 17 documents with 192053 words\n",
      "INFO gensim.models.ldamodel: PROGRESS: pass 4, at document #17/17\n",
      "INFO gensim.models.ldamodel: topic #11 (0.050): 0.004*\"panelling\" + 0.003*\"trick\" + 0.003*\"faithfully\" + 0.002*\"distract\" + 0.002*\"playground\" + 0.002*\"poorly-educated\" + 0.002*\"descend\" + 0.002*\"gaudy\" + 0.002*\"shooed\" + 0.002*\"ingathering\"\n",
      "INFO gensim.models.ldamodel: topic #18 (0.050): 0.002*\"descend\" + 0.001*\"lee\" + 0.001*\"david\" + 0.001*\"whirl\" + 0.001*\"gaudy\" + 0.001*\"heya\" + 0.001*\"smaller\" + 0.001*\"faithfully\" + 0.001*\"distract\" + 0.001*\"go-see\"\n",
      "INFO gensim.models.ldamodel: topic #12 (0.050): 0.002*\"trick\" + 0.001*\"lee\" + 0.001*\"descend\" + 0.001*\"anticipating\" + 0.001*\"distract\" + 0.001*\"pays\" + 0.001*\"gaudy\" + 0.001*\"panelling\" + 0.001*\"playground\" + 0.001*\"leaves-on\"\n",
      "INFO gensim.models.ldamodel: topic #16 (0.050): 0.005*\"saul\" + 0.004*\"whirl\" + 0.004*\"displace\" + 0.004*\"gardens\" + 0.004*\"leaves-on\" + 0.004*\"poorly-educated\" + 0.004*\"heya\" + 0.003*\"satrap's\" + 0.003*\"ground-moles\" + 0.003*\"fashionable\"\n",
      "INFO gensim.models.ldamodel: topic #4 (0.050): 0.001*\"cleaning\" + 0.001*\"gaudy\" + 0.001*\"pays\" + 0.001*\"compact\" + 0.001*\"drat\" + 0.001*\"impotent\" + 0.001*\"whirl\" + 0.001*\"poorly-educated\" + 0.001*\"david\" + 0.001*\"brythunian\"\n",
      "INFO gensim.models.ldamodel: topic diff=1.160780, rho=0.408248\n",
      "INFO gensim.models.ldamodel: -8.792 per-word bound, 443.2 perplexity estimate based on a held-out corpus of 17 documents with 192053 words\n",
      "INFO gensim.models.ldamodel: PROGRESS: pass 5, at document #17/17\n",
      "INFO gensim.models.ldamodel: topic #13 (0.050): 0.005*\"ridiculous\" + 0.005*\"playground\" + 0.004*\"fewer\" + 0.004*\"uncooked\" + 0.004*\"trick\" + 0.004*\"blots\" + 0.004*\"distributio\" + 0.003*\"faithfully\" + 0.003*\"lend\" + 0.003*\"david\"\n",
      "INFO gensim.models.ldamodel: topic #12 (0.050): 0.001*\"trick\" + 0.001*\"lee\" + 0.001*\"descend\" + 0.001*\"anticipating\" + 0.001*\"distract\" + 0.001*\"pays\" + 0.001*\"gaudy\" + 0.001*\"panelling\" + 0.001*\"playground\" + 0.001*\"leaves-on\"\n",
      "INFO gensim.models.ldamodel: topic #17 (0.050): 0.001*\"anticipating\" + 0.001*\"heya\" + 0.001*\"uninterruptedly\" + 0.001*\"descend\" + 0.001*\"trick\" + 0.001*\"stolen\" + 0.001*\"poorly-educated\" + 0.001*\"thoroughfare\" + 0.001*\"playground\" + 0.001*\"testifying\"\n",
      "INFO gensim.models.ldamodel: topic #5 (0.050): 0.001*\"david\" + 0.001*\"heya\" + 0.001*\"lee\" + 0.001*\"poorly-educated\" + 0.001*\"playground\" + 0.001*\"descend\" + 0.001*\"gaudy\" + 0.001*\"trick\" + 0.001*\"drat\" + 0.001*\"impotent\"\n",
      "INFO gensim.models.ldamodel: topic #18 (0.050): 0.001*\"descend\" + 0.001*\"lee\" + 0.001*\"david\" + 0.001*\"whirl\" + 0.001*\"gaudy\" + 0.001*\"heya\" + 0.001*\"smaller\" + 0.001*\"faithfully\" + 0.001*\"distract\" + 0.001*\"go-see\"\n",
      "INFO gensim.models.ldamodel: topic diff=0.864914, rho=0.377964\n",
      "INFO gensim.models.ldamodel: -8.713 per-word bound, 419.7 perplexity estimate based on a held-out corpus of 17 documents with 192053 words\n",
      "INFO gensim.models.ldamodel: PROGRESS: pass 6, at document #17/17\n",
      "INFO gensim.models.ldamodel: topic #18 (0.050): 0.001*\"descend\" + 0.001*\"lee\" + 0.001*\"david\" + 0.001*\"whirl\" + 0.001*\"gaudy\" + 0.001*\"heya\" + 0.001*\"smaller\" + 0.001*\"faithfully\" + 0.001*\"distract\" + 0.001*\"go-see\"\n",
      "INFO gensim.models.ldamodel: topic #13 (0.050): 0.006*\"ridiculous\" + 0.005*\"playground\" + 0.005*\"uncooked\" + 0.004*\"blots\" + 0.004*\"fewer\" + 0.004*\"distributio\" + 0.004*\"trick\" + 0.004*\"faithfully\" + 0.003*\"lend\" + 0.003*\"david\"\n",
      "INFO gensim.models.ldamodel: topic #3 (0.050): 0.004*\"trick\" + 0.004*\"chills\" + 0.004*\"impotent\" + 0.003*\"drat\" + 0.003*\"clayey\" + 0.003*\"poorly-educated\" + 0.003*\"david\" + 0.003*\"overthrew\" + 0.003*\"whirl\" + 0.003*\"distract\"\n",
      "INFO gensim.models.ldamodel: topic #7 (0.050): 0.001*\"displace\" + 0.001*\"impotent\" + 0.001*\"perspectivischen\" + 0.001*\"other\" + 0.001*\"poorly-educated\" + 0.001*\"lend\" + 0.001*\"descend\" + 0.001*\"donna\" + 0.001*\"monotony\" + 0.001*\"compact\"\n",
      "INFO gensim.models.ldamodel: topic #19 (0.050): 0.010*\"anticipating\" + 0.006*\"excess\" + 0.005*\"david\" + 0.005*\"wherever\" + 0.005*\"roped\" + 0.005*\"rejoice\" + 0.004*\"feet\" + 0.004*\"lend\" + 0.004*\"captor\" + 0.004*\"pondicherry\"\n",
      "INFO gensim.models.ldamodel: topic diff=0.649036, rho=0.353553\n",
      "INFO gensim.models.ldamodel: -8.663 per-word bound, 405.4 perplexity estimate based on a held-out corpus of 17 documents with 192053 words\n",
      "INFO gensim.models.ldamodel: PROGRESS: pass 7, at document #17/17\n",
      "INFO gensim.models.ldamodel: topic #19 (0.050): 0.010*\"anticipating\" + 0.006*\"excess\" + 0.005*\"david\" + 0.005*\"wherever\" + 0.005*\"roped\" + 0.005*\"rejoice\" + 0.004*\"feet\" + 0.004*\"lend\" + 0.004*\"captor\" + 0.004*\"pondicherry\"\n",
      "INFO gensim.models.ldamodel: topic #15 (0.050): 0.008*\"sextant\" + 0.006*\"prided\" + 0.004*\"descend\" + 0.004*\"sifted\" + 0.004*\"lighters\" + 0.004*\"cameos\" + 0.003*\"donna\" + 0.003*\"anticipating\" + 0.003*\"holmes\" + 0.003*\"heya\"\n",
      "INFO gensim.models.ldamodel: topic #14 (0.050): 0.001*\"whirl\" + 0.001*\"leaves-on\" + 0.001*\"displace\" + 0.001*\"poorly-educated\" + 0.001*\"ground-moles\" + 0.001*\"drat\" + 0.001*\"monotony\" + 0.001*\"cleaning\" + 0.001*\"descend\" + 0.001*\"impotent\"\n",
      "INFO gensim.models.ldamodel: topic #9 (0.050): 0.001*\"displace\" + 0.001*\"compact\" + 0.001*\"distract\" + 0.000*\"descend\" + 0.000*\"heya\" + 0.000*\"lee\" + 0.000*\"monotony\" + 0.000*\"faithfully\" + 0.000*\"chills\" + 0.000*\"playground\"\n",
      "INFO gensim.models.ldamodel: topic #5 (0.050): 0.000*\"david\" + 0.000*\"heya\" + 0.000*\"lee\" + 0.000*\"poorly-educated\" + 0.000*\"playground\" + 0.000*\"descend\" + 0.000*\"gaudy\" + 0.000*\"trick\" + 0.000*\"drat\" + 0.000*\"impotent\"\n",
      "INFO gensim.models.ldamodel: topic diff=0.490114, rho=0.333333\n",
      "INFO gensim.models.ldamodel: -8.631 per-word bound, 396.4 perplexity estimate based on a held-out corpus of 17 documents with 192053 words\n",
      "INFO gensim.models.ldamodel: PROGRESS: pass 8, at document #17/17\n",
      "INFO gensim.models.ldamodel: topic #17 (0.050): 0.000*\"anticipating\" + 0.000*\"heya\" + 0.000*\"uninterruptedly\" + 0.000*\"descend\" + 0.000*\"trick\" + 0.000*\"stolen\" + 0.000*\"poorly-educated\" + 0.000*\"thoroughfare\" + 0.000*\"playground\" + 0.000*\"testifying\"\n",
      "INFO gensim.models.ldamodel: topic #11 (0.050): 0.002*\"panelling\" + 0.001*\"trick\" + 0.001*\"faithfully\" + 0.001*\"distract\" + 0.001*\"playground\" + 0.001*\"poorly-educated\" + 0.001*\"descend\" + 0.001*\"gaudy\" + 0.001*\"shooed\" + 0.001*\"ingathering\"\n",
      "INFO gensim.models.ldamodel: topic #3 (0.050): 0.004*\"trick\" + 0.004*\"chills\" + 0.004*\"impotent\" + 0.003*\"drat\" + 0.003*\"clayey\" + 0.003*\"poorly-educated\" + 0.003*\"david\" + 0.003*\"overthrew\" + 0.003*\"whirl\" + 0.003*\"distract\"\n",
      "INFO gensim.models.ldamodel: topic #5 (0.050): 0.000*\"david\" + 0.000*\"heya\" + 0.000*\"lee\" + 0.000*\"poorly-educated\" + 0.000*\"playground\" + 0.000*\"descend\" + 0.000*\"gaudy\" + 0.000*\"trick\" + 0.000*\"drat\" + 0.000*\"impotent\"\n",
      "INFO gensim.models.ldamodel: topic #15 (0.050): 0.008*\"sextant\" + 0.006*\"prided\" + 0.004*\"descend\" + 0.004*\"sifted\" + 0.004*\"lighters\" + 0.004*\"cameos\" + 0.004*\"donna\" + 0.003*\"anticipating\" + 0.003*\"holmes\" + 0.003*\"heya\"\n",
      "INFO gensim.models.ldamodel: topic diff=0.372192, rho=0.316228\n",
      "INFO gensim.models.ldamodel: -8.609 per-word bound, 390.5 perplexity estimate based on a held-out corpus of 17 documents with 192053 words\n",
      "INFO gensim.models.ldamodel: PROGRESS: pass 9, at document #17/17\n",
      "INFO gensim.models.ldamodel: topic #6 (0.050): 0.010*\"panelling\" + 0.008*\"trick\" + 0.005*\"shooed\" + 0.004*\"gaudy\" + 0.004*\"distract\" + 0.004*\"tempest\" + 0.004*\"lend\" + 0.004*\"gentes\" + 0.004*\"ability\" + 0.004*\"thoroughfare\"\n",
      "INFO gensim.models.ldamodel: topic #5 (0.050): 0.000*\"david\" + 0.000*\"heya\" + 0.000*\"lee\" + 0.000*\"poorly-educated\" + 0.000*\"playground\" + 0.000*\"descend\" + 0.000*\"gaudy\" + 0.000*\"trick\" + 0.000*\"drat\" + 0.000*\"impotent\"\n",
      "INFO gensim.models.ldamodel: topic #2 (0.050): 0.000*\"faithfully\" + 0.000*\"distract\" + 0.000*\"descend\" + 0.000*\"david\" + 0.000*\"chills\" + 0.000*\"displace\" + 0.000*\"lee\" + 0.000*\"anticipating\" + 0.000*\"drat\" + 0.000*\"gaudy\"\n",
      "INFO gensim.models.ldamodel: topic #16 (0.050): 0.005*\"saul\" + 0.005*\"whirl\" + 0.005*\"gardens\" + 0.005*\"displace\" + 0.004*\"leaves-on\" + 0.004*\"heya\" + 0.004*\"satrap's\" + 0.004*\"poorly-educated\" + 0.003*\"ground-moles\" + 0.003*\"fashionable\"\n",
      "INFO gensim.models.ldamodel: topic #8 (0.050): 0.007*\"brythunian\" + 0.005*\"observation\" + 0.005*\"leaves-on\" + 0.005*\"cleaning\" + 0.004*\"dimmed\" + 0.004*\"pays\" + 0.004*\"mantelpiece\" + 0.004*\"poorly-educated\" + 0.004*\"life-force\" + 0.004*\"go-see\"\n",
      "INFO gensim.models.ldamodel: topic diff=0.284100, rho=0.301511\n"
     ]
    }
   ],
   "source": [
    "model = LdaModel(corpus=mm, id2word=type2id, num_topics=20, passes = 10, iterations = 20)"
   ]
  },
  {
   "cell_type": "code",
   "execution_count": 22,
   "metadata": {
    "collapsed": false,
    "deletable": true,
    "editable": true
   },
   "outputs": [
    {
     "data": {
      "text/plain": [
       "[(1, 0.1749414196646584),\n",
       " (3, 0.14095760179830774),\n",
       " (6, 0.11539206269649878),\n",
       " (8, 0.10514351634510403),\n",
       " (13, 0.050179649687802842),\n",
       " (15, 0.052784741838118245),\n",
       " (16, 0.26134939196941909),\n",
       " (19, 0.098658323435042342)]"
      ]
     },
     "execution_count": 22,
     "metadata": {},
     "output_type": "execute_result"
    }
   ],
   "source": [
    "model.get_document_topics(doc2bow_list[1])"
   ]
  },
  {
   "cell_type": "code",
   "execution_count": 23,
   "metadata": {
    "collapsed": false,
    "deletable": true,
    "editable": true
   },
   "outputs": [
    {
     "data": {
      "text/plain": [
       "['anticipating',\n",
       " 'pantherish',\n",
       " 'chap',\n",
       " 'david',\n",
       " 'smaller',\n",
       " 'gipsies',\n",
       " 'heya',\n",
       " 'monotony',\n",
       " 'descend',\n",
       " 'displace']"
      ]
     },
     "execution_count": 23,
     "metadata": {},
     "output_type": "execute_result"
    }
   ],
   "source": [
    "#Anzeige der keywords für topic n\n",
    "n = 1\n",
    "topic_nr_x = model.get_topic_terms(n)\n",
    "\n",
    "topicTerms = [type2id[i[0]] for i in topic_nr_x]\n",
    "topicTerms"
   ]
  },
  {
   "cell_type": "code",
   "execution_count": 24,
   "metadata": {
    "collapsed": false,
    "deletable": true,
    "editable": true
   },
   "outputs": [
    {
     "data": {
      "text/html": [
       "<div>\n",
       "<table border=\"1\" class=\"dataframe\">\n",
       "  <thead>\n",
       "    <tr style=\"text-align: right;\">\n",
       "      <th></th>\n",
       "      <th>0</th>\n",
       "      <th>1</th>\n",
       "      <th>2</th>\n",
       "      <th>3</th>\n",
       "      <th>4</th>\n",
       "      <th>5</th>\n",
       "      <th>6</th>\n",
       "      <th>7</th>\n",
       "      <th>8</th>\n",
       "      <th>9</th>\n",
       "    </tr>\n",
       "  </thead>\n",
       "  <tbody>\n",
       "    <tr>\n",
       "      <th>0</th>\n",
       "      <td>displace</td>\n",
       "      <td>lend</td>\n",
       "      <td>chills</td>\n",
       "      <td>poorly-educated</td>\n",
       "      <td>stolen</td>\n",
       "      <td>pantherish</td>\n",
       "      <td>excess</td>\n",
       "      <td>descend</td>\n",
       "      <td>david</td>\n",
       "      <td>leaves-on</td>\n",
       "    </tr>\n",
       "    <tr>\n",
       "      <th>1</th>\n",
       "      <td>anticipating</td>\n",
       "      <td>pantherish</td>\n",
       "      <td>chap</td>\n",
       "      <td>david</td>\n",
       "      <td>smaller</td>\n",
       "      <td>gipsies</td>\n",
       "      <td>heya</td>\n",
       "      <td>monotony</td>\n",
       "      <td>descend</td>\n",
       "      <td>displace</td>\n",
       "    </tr>\n",
       "    <tr>\n",
       "      <th>2</th>\n",
       "      <td>faithfully</td>\n",
       "      <td>distract</td>\n",
       "      <td>descend</td>\n",
       "      <td>david</td>\n",
       "      <td>chills</td>\n",
       "      <td>displace</td>\n",
       "      <td>lee</td>\n",
       "      <td>anticipating</td>\n",
       "      <td>drat</td>\n",
       "      <td>gaudy</td>\n",
       "    </tr>\n",
       "    <tr>\n",
       "      <th>3</th>\n",
       "      <td>trick</td>\n",
       "      <td>chills</td>\n",
       "      <td>impotent</td>\n",
       "      <td>drat</td>\n",
       "      <td>clayey</td>\n",
       "      <td>poorly-educated</td>\n",
       "      <td>david</td>\n",
       "      <td>overthrew</td>\n",
       "      <td>whirl</td>\n",
       "      <td>distract</td>\n",
       "    </tr>\n",
       "    <tr>\n",
       "      <th>4</th>\n",
       "      <td>cleaning</td>\n",
       "      <td>gaudy</td>\n",
       "      <td>pays</td>\n",
       "      <td>compact</td>\n",
       "      <td>drat</td>\n",
       "      <td>impotent</td>\n",
       "      <td>whirl</td>\n",
       "      <td>poorly-educated</td>\n",
       "      <td>david</td>\n",
       "      <td>brythunian</td>\n",
       "    </tr>\n",
       "    <tr>\n",
       "      <th>5</th>\n",
       "      <td>david</td>\n",
       "      <td>heya</td>\n",
       "      <td>lee</td>\n",
       "      <td>poorly-educated</td>\n",
       "      <td>playground</td>\n",
       "      <td>descend</td>\n",
       "      <td>gaudy</td>\n",
       "      <td>trick</td>\n",
       "      <td>drat</td>\n",
       "      <td>impotent</td>\n",
       "    </tr>\n",
       "    <tr>\n",
       "      <th>6</th>\n",
       "      <td>panelling</td>\n",
       "      <td>trick</td>\n",
       "      <td>shooed</td>\n",
       "      <td>gaudy</td>\n",
       "      <td>distract</td>\n",
       "      <td>tempest</td>\n",
       "      <td>lend</td>\n",
       "      <td>gentes</td>\n",
       "      <td>ability</td>\n",
       "      <td>thoroughfare</td>\n",
       "    </tr>\n",
       "    <tr>\n",
       "      <th>7</th>\n",
       "      <td>displace</td>\n",
       "      <td>impotent</td>\n",
       "      <td>perspectivischen</td>\n",
       "      <td>other</td>\n",
       "      <td>poorly-educated</td>\n",
       "      <td>lend</td>\n",
       "      <td>descend</td>\n",
       "      <td>donna</td>\n",
       "      <td>monotony</td>\n",
       "      <td>compact</td>\n",
       "    </tr>\n",
       "    <tr>\n",
       "      <th>8</th>\n",
       "      <td>brythunian</td>\n",
       "      <td>observation</td>\n",
       "      <td>leaves-on</td>\n",
       "      <td>cleaning</td>\n",
       "      <td>dimmed</td>\n",
       "      <td>pays</td>\n",
       "      <td>mantelpiece</td>\n",
       "      <td>poorly-educated</td>\n",
       "      <td>life-force</td>\n",
       "      <td>go-see</td>\n",
       "    </tr>\n",
       "    <tr>\n",
       "      <th>9</th>\n",
       "      <td>displace</td>\n",
       "      <td>compact</td>\n",
       "      <td>distract</td>\n",
       "      <td>descend</td>\n",
       "      <td>heya</td>\n",
       "      <td>lee</td>\n",
       "      <td>monotony</td>\n",
       "      <td>faithfully</td>\n",
       "      <td>chills</td>\n",
       "      <td>playground</td>\n",
       "    </tr>\n",
       "    <tr>\n",
       "      <th>10</th>\n",
       "      <td>futility</td>\n",
       "      <td>afternoons</td>\n",
       "      <td>rosse</td>\n",
       "      <td>quickness</td>\n",
       "      <td>orpheus</td>\n",
       "      <td>fisherman</td>\n",
       "      <td>providence-built</td>\n",
       "      <td>rubbed</td>\n",
       "      <td>stones</td>\n",
       "      <td>shoutings</td>\n",
       "    </tr>\n",
       "    <tr>\n",
       "      <th>11</th>\n",
       "      <td>panelling</td>\n",
       "      <td>trick</td>\n",
       "      <td>faithfully</td>\n",
       "      <td>skinning</td>\n",
       "      <td>distract</td>\n",
       "      <td>playground</td>\n",
       "      <td>poorly-educated</td>\n",
       "      <td>descend</td>\n",
       "      <td>gaudy</td>\n",
       "      <td>shooed</td>\n",
       "    </tr>\n",
       "    <tr>\n",
       "      <th>12</th>\n",
       "      <td>trick</td>\n",
       "      <td>lee</td>\n",
       "      <td>descend</td>\n",
       "      <td>anticipating</td>\n",
       "      <td>distract</td>\n",
       "      <td>pays</td>\n",
       "      <td>gaudy</td>\n",
       "      <td>panelling</td>\n",
       "      <td>playground</td>\n",
       "      <td>leaves-on</td>\n",
       "    </tr>\n",
       "    <tr>\n",
       "      <th>13</th>\n",
       "      <td>ridiculous</td>\n",
       "      <td>blots</td>\n",
       "      <td>distributio</td>\n",
       "      <td>uncooked</td>\n",
       "      <td>playground</td>\n",
       "      <td>fewer</td>\n",
       "      <td>faithfully</td>\n",
       "      <td>trick</td>\n",
       "      <td>lend</td>\n",
       "      <td>hummil's</td>\n",
       "    </tr>\n",
       "    <tr>\n",
       "      <th>14</th>\n",
       "      <td>whirl</td>\n",
       "      <td>leaves-on</td>\n",
       "      <td>displace</td>\n",
       "      <td>poorly-educated</td>\n",
       "      <td>ground-moles</td>\n",
       "      <td>drat</td>\n",
       "      <td>monotony</td>\n",
       "      <td>cleaning</td>\n",
       "      <td>descend</td>\n",
       "      <td>impotent</td>\n",
       "    </tr>\n",
       "    <tr>\n",
       "      <th>15</th>\n",
       "      <td>sextant</td>\n",
       "      <td>prided</td>\n",
       "      <td>descend</td>\n",
       "      <td>sifted</td>\n",
       "      <td>lighters</td>\n",
       "      <td>cameos</td>\n",
       "      <td>donna</td>\n",
       "      <td>anticipating</td>\n",
       "      <td>holmes</td>\n",
       "      <td>heya</td>\n",
       "    </tr>\n",
       "    <tr>\n",
       "      <th>16</th>\n",
       "      <td>saul</td>\n",
       "      <td>whirl</td>\n",
       "      <td>gardens</td>\n",
       "      <td>displace</td>\n",
       "      <td>leaves-on</td>\n",
       "      <td>heya</td>\n",
       "      <td>satrap's</td>\n",
       "      <td>poorly-educated</td>\n",
       "      <td>ground-moles</td>\n",
       "      <td>fashionable</td>\n",
       "    </tr>\n",
       "    <tr>\n",
       "      <th>17</th>\n",
       "      <td>anticipating</td>\n",
       "      <td>heya</td>\n",
       "      <td>uninterruptedly</td>\n",
       "      <td>descend</td>\n",
       "      <td>trick</td>\n",
       "      <td>stolen</td>\n",
       "      <td>poorly-educated</td>\n",
       "      <td>thoroughfare</td>\n",
       "      <td>playground</td>\n",
       "      <td>testifying</td>\n",
       "    </tr>\n",
       "    <tr>\n",
       "      <th>18</th>\n",
       "      <td>descend</td>\n",
       "      <td>lee</td>\n",
       "      <td>david</td>\n",
       "      <td>whirl</td>\n",
       "      <td>gaudy</td>\n",
       "      <td>heya</td>\n",
       "      <td>smaller</td>\n",
       "      <td>faithfully</td>\n",
       "      <td>distract</td>\n",
       "      <td>go-see</td>\n",
       "    </tr>\n",
       "    <tr>\n",
       "      <th>19</th>\n",
       "      <td>anticipating</td>\n",
       "      <td>excess</td>\n",
       "      <td>david</td>\n",
       "      <td>wherever</td>\n",
       "      <td>roped</td>\n",
       "      <td>rejoice</td>\n",
       "      <td>feet</td>\n",
       "      <td>lend</td>\n",
       "      <td>captor</td>\n",
       "      <td>pondicherry</td>\n",
       "    </tr>\n",
       "  </tbody>\n",
       "</table>\n",
       "</div>"
      ],
      "text/plain": [
       "               0            1                 2                3  \\\n",
       "0       displace         lend            chills  poorly-educated   \n",
       "1   anticipating   pantherish              chap            david   \n",
       "2     faithfully     distract           descend            david   \n",
       "3          trick       chills          impotent             drat   \n",
       "4       cleaning        gaudy              pays          compact   \n",
       "5          david         heya               lee  poorly-educated   \n",
       "6      panelling        trick            shooed            gaudy   \n",
       "7       displace     impotent  perspectivischen            other   \n",
       "8     brythunian  observation         leaves-on         cleaning   \n",
       "9       displace      compact          distract          descend   \n",
       "10      futility   afternoons             rosse        quickness   \n",
       "11     panelling        trick        faithfully         skinning   \n",
       "12         trick          lee           descend     anticipating   \n",
       "13    ridiculous        blots       distributio         uncooked   \n",
       "14         whirl    leaves-on          displace  poorly-educated   \n",
       "15       sextant       prided           descend           sifted   \n",
       "16          saul        whirl           gardens         displace   \n",
       "17  anticipating         heya   uninterruptedly          descend   \n",
       "18       descend          lee             david            whirl   \n",
       "19  anticipating       excess             david         wherever   \n",
       "\n",
       "                  4                5                 6                7  \\\n",
       "0            stolen       pantherish            excess          descend   \n",
       "1           smaller          gipsies              heya         monotony   \n",
       "2            chills         displace               lee     anticipating   \n",
       "3            clayey  poorly-educated             david        overthrew   \n",
       "4              drat         impotent             whirl  poorly-educated   \n",
       "5        playground          descend             gaudy            trick   \n",
       "6          distract          tempest              lend           gentes   \n",
       "7   poorly-educated             lend           descend            donna   \n",
       "8            dimmed             pays       mantelpiece  poorly-educated   \n",
       "9              heya              lee          monotony       faithfully   \n",
       "10          orpheus        fisherman  providence-built           rubbed   \n",
       "11         distract       playground   poorly-educated          descend   \n",
       "12         distract             pays             gaudy        panelling   \n",
       "13       playground            fewer        faithfully            trick   \n",
       "14     ground-moles             drat          monotony         cleaning   \n",
       "15         lighters           cameos             donna     anticipating   \n",
       "16        leaves-on             heya          satrap's  poorly-educated   \n",
       "17            trick           stolen   poorly-educated     thoroughfare   \n",
       "18            gaudy             heya           smaller       faithfully   \n",
       "19            roped          rejoice              feet             lend   \n",
       "\n",
       "               8             9  \n",
       "0          david     leaves-on  \n",
       "1        descend      displace  \n",
       "2           drat         gaudy  \n",
       "3          whirl      distract  \n",
       "4          david    brythunian  \n",
       "5           drat      impotent  \n",
       "6        ability  thoroughfare  \n",
       "7       monotony       compact  \n",
       "8     life-force        go-see  \n",
       "9         chills    playground  \n",
       "10        stones     shoutings  \n",
       "11         gaudy        shooed  \n",
       "12    playground     leaves-on  \n",
       "13          lend      hummil's  \n",
       "14       descend      impotent  \n",
       "15        holmes          heya  \n",
       "16  ground-moles   fashionable  \n",
       "17    playground    testifying  \n",
       "18      distract        go-see  \n",
       "19        captor   pondicherry  "
      ]
     },
     "execution_count": 24,
     "metadata": {},
     "output_type": "execute_result"
    }
   ],
   "source": [
    "#Topic probabilities - zum Testen der Funktion\n",
    "topics = model.show_topics(num_topics = model.num_topics, formatted=False)\n",
    "keywords = []\n",
    "\n",
    "num_topics = model.num_topics\n",
    "topics_df = pre.pd.DataFrame(index = range(num_topics), columns= range(10))\n",
    "\n",
    "for topic, values in topics:\n",
    "    keyword = [value[0] for value in values]\n",
    "    topics_df.loc[topic] = keyword\n",
    "\n",
    "topics_df"
   ]
  },
  {
   "cell_type": "code",
   "execution_count": 25,
   "metadata": {
    "collapsed": false,
    "deletable": true,
    "editable": true
   },
   "outputs": [
    {
     "data": {
      "text/html": [
       "<div>\n",
       "<table border=\"1\" class=\"dataframe\">\n",
       "  <thead>\n",
       "    <tr style=\"text-align: right;\">\n",
       "      <th></th>\n",
       "      <th>0</th>\n",
       "      <th>1</th>\n",
       "      <th>2</th>\n",
       "      <th>3</th>\n",
       "      <th>4</th>\n",
       "      <th>5</th>\n",
       "      <th>6</th>\n",
       "      <th>7</th>\n",
       "      <th>8</th>\n",
       "      <th>9</th>\n",
       "    </tr>\n",
       "  </thead>\n",
       "  <tbody>\n",
       "    <tr>\n",
       "      <th>0</th>\n",
       "      <td>displace</td>\n",
       "      <td>lend</td>\n",
       "      <td>chills</td>\n",
       "      <td>poorly-educated</td>\n",
       "      <td>stolen</td>\n",
       "      <td>pantherish</td>\n",
       "      <td>excess</td>\n",
       "      <td>descend</td>\n",
       "      <td>david</td>\n",
       "      <td>leaves-on</td>\n",
       "    </tr>\n",
       "    <tr>\n",
       "      <th>1</th>\n",
       "      <td>anticipating</td>\n",
       "      <td>pantherish</td>\n",
       "      <td>chap</td>\n",
       "      <td>david</td>\n",
       "      <td>smaller</td>\n",
       "      <td>gipsies</td>\n",
       "      <td>heya</td>\n",
       "      <td>monotony</td>\n",
       "      <td>descend</td>\n",
       "      <td>displace</td>\n",
       "    </tr>\n",
       "    <tr>\n",
       "      <th>2</th>\n",
       "      <td>faithfully</td>\n",
       "      <td>distract</td>\n",
       "      <td>descend</td>\n",
       "      <td>david</td>\n",
       "      <td>chills</td>\n",
       "      <td>displace</td>\n",
       "      <td>lee</td>\n",
       "      <td>anticipating</td>\n",
       "      <td>drat</td>\n",
       "      <td>gaudy</td>\n",
       "    </tr>\n",
       "    <tr>\n",
       "      <th>3</th>\n",
       "      <td>trick</td>\n",
       "      <td>chills</td>\n",
       "      <td>impotent</td>\n",
       "      <td>drat</td>\n",
       "      <td>clayey</td>\n",
       "      <td>poorly-educated</td>\n",
       "      <td>david</td>\n",
       "      <td>overthrew</td>\n",
       "      <td>whirl</td>\n",
       "      <td>distract</td>\n",
       "    </tr>\n",
       "    <tr>\n",
       "      <th>4</th>\n",
       "      <td>cleaning</td>\n",
       "      <td>gaudy</td>\n",
       "      <td>pays</td>\n",
       "      <td>compact</td>\n",
       "      <td>drat</td>\n",
       "      <td>impotent</td>\n",
       "      <td>whirl</td>\n",
       "      <td>poorly-educated</td>\n",
       "      <td>david</td>\n",
       "      <td>brythunian</td>\n",
       "    </tr>\n",
       "    <tr>\n",
       "      <th>5</th>\n",
       "      <td>david</td>\n",
       "      <td>heya</td>\n",
       "      <td>lee</td>\n",
       "      <td>poorly-educated</td>\n",
       "      <td>playground</td>\n",
       "      <td>descend</td>\n",
       "      <td>gaudy</td>\n",
       "      <td>trick</td>\n",
       "      <td>drat</td>\n",
       "      <td>impotent</td>\n",
       "    </tr>\n",
       "    <tr>\n",
       "      <th>6</th>\n",
       "      <td>panelling</td>\n",
       "      <td>trick</td>\n",
       "      <td>shooed</td>\n",
       "      <td>gaudy</td>\n",
       "      <td>distract</td>\n",
       "      <td>tempest</td>\n",
       "      <td>lend</td>\n",
       "      <td>gentes</td>\n",
       "      <td>ability</td>\n",
       "      <td>thoroughfare</td>\n",
       "    </tr>\n",
       "    <tr>\n",
       "      <th>7</th>\n",
       "      <td>displace</td>\n",
       "      <td>impotent</td>\n",
       "      <td>perspectivischen</td>\n",
       "      <td>other</td>\n",
       "      <td>poorly-educated</td>\n",
       "      <td>lend</td>\n",
       "      <td>descend</td>\n",
       "      <td>donna</td>\n",
       "      <td>monotony</td>\n",
       "      <td>compact</td>\n",
       "    </tr>\n",
       "    <tr>\n",
       "      <th>8</th>\n",
       "      <td>brythunian</td>\n",
       "      <td>observation</td>\n",
       "      <td>leaves-on</td>\n",
       "      <td>cleaning</td>\n",
       "      <td>dimmed</td>\n",
       "      <td>pays</td>\n",
       "      <td>mantelpiece</td>\n",
       "      <td>poorly-educated</td>\n",
       "      <td>life-force</td>\n",
       "      <td>go-see</td>\n",
       "    </tr>\n",
       "    <tr>\n",
       "      <th>9</th>\n",
       "      <td>displace</td>\n",
       "      <td>compact</td>\n",
       "      <td>distract</td>\n",
       "      <td>descend</td>\n",
       "      <td>heya</td>\n",
       "      <td>lee</td>\n",
       "      <td>monotony</td>\n",
       "      <td>faithfully</td>\n",
       "      <td>chills</td>\n",
       "      <td>playground</td>\n",
       "    </tr>\n",
       "    <tr>\n",
       "      <th>10</th>\n",
       "      <td>futility</td>\n",
       "      <td>afternoons</td>\n",
       "      <td>rosse</td>\n",
       "      <td>quickness</td>\n",
       "      <td>orpheus</td>\n",
       "      <td>fisherman</td>\n",
       "      <td>providence-built</td>\n",
       "      <td>rubbed</td>\n",
       "      <td>stones</td>\n",
       "      <td>shoutings</td>\n",
       "    </tr>\n",
       "    <tr>\n",
       "      <th>11</th>\n",
       "      <td>panelling</td>\n",
       "      <td>trick</td>\n",
       "      <td>faithfully</td>\n",
       "      <td>skinning</td>\n",
       "      <td>distract</td>\n",
       "      <td>playground</td>\n",
       "      <td>poorly-educated</td>\n",
       "      <td>descend</td>\n",
       "      <td>gaudy</td>\n",
       "      <td>shooed</td>\n",
       "    </tr>\n",
       "    <tr>\n",
       "      <th>12</th>\n",
       "      <td>trick</td>\n",
       "      <td>lee</td>\n",
       "      <td>descend</td>\n",
       "      <td>anticipating</td>\n",
       "      <td>distract</td>\n",
       "      <td>pays</td>\n",
       "      <td>gaudy</td>\n",
       "      <td>panelling</td>\n",
       "      <td>playground</td>\n",
       "      <td>leaves-on</td>\n",
       "    </tr>\n",
       "    <tr>\n",
       "      <th>13</th>\n",
       "      <td>ridiculous</td>\n",
       "      <td>blots</td>\n",
       "      <td>distributio</td>\n",
       "      <td>uncooked</td>\n",
       "      <td>playground</td>\n",
       "      <td>fewer</td>\n",
       "      <td>faithfully</td>\n",
       "      <td>trick</td>\n",
       "      <td>lend</td>\n",
       "      <td>hummil's</td>\n",
       "    </tr>\n",
       "    <tr>\n",
       "      <th>14</th>\n",
       "      <td>whirl</td>\n",
       "      <td>leaves-on</td>\n",
       "      <td>displace</td>\n",
       "      <td>poorly-educated</td>\n",
       "      <td>ground-moles</td>\n",
       "      <td>drat</td>\n",
       "      <td>monotony</td>\n",
       "      <td>cleaning</td>\n",
       "      <td>descend</td>\n",
       "      <td>impotent</td>\n",
       "    </tr>\n",
       "    <tr>\n",
       "      <th>15</th>\n",
       "      <td>sextant</td>\n",
       "      <td>prided</td>\n",
       "      <td>descend</td>\n",
       "      <td>sifted</td>\n",
       "      <td>lighters</td>\n",
       "      <td>cameos</td>\n",
       "      <td>donna</td>\n",
       "      <td>anticipating</td>\n",
       "      <td>holmes</td>\n",
       "      <td>heya</td>\n",
       "    </tr>\n",
       "    <tr>\n",
       "      <th>16</th>\n",
       "      <td>saul</td>\n",
       "      <td>whirl</td>\n",
       "      <td>gardens</td>\n",
       "      <td>displace</td>\n",
       "      <td>leaves-on</td>\n",
       "      <td>heya</td>\n",
       "      <td>satrap's</td>\n",
       "      <td>poorly-educated</td>\n",
       "      <td>ground-moles</td>\n",
       "      <td>fashionable</td>\n",
       "    </tr>\n",
       "    <tr>\n",
       "      <th>17</th>\n",
       "      <td>anticipating</td>\n",
       "      <td>heya</td>\n",
       "      <td>uninterruptedly</td>\n",
       "      <td>descend</td>\n",
       "      <td>trick</td>\n",
       "      <td>stolen</td>\n",
       "      <td>poorly-educated</td>\n",
       "      <td>thoroughfare</td>\n",
       "      <td>playground</td>\n",
       "      <td>testifying</td>\n",
       "    </tr>\n",
       "    <tr>\n",
       "      <th>18</th>\n",
       "      <td>descend</td>\n",
       "      <td>lee</td>\n",
       "      <td>david</td>\n",
       "      <td>whirl</td>\n",
       "      <td>gaudy</td>\n",
       "      <td>heya</td>\n",
       "      <td>smaller</td>\n",
       "      <td>faithfully</td>\n",
       "      <td>distract</td>\n",
       "      <td>go-see</td>\n",
       "    </tr>\n",
       "    <tr>\n",
       "      <th>19</th>\n",
       "      <td>anticipating</td>\n",
       "      <td>excess</td>\n",
       "      <td>david</td>\n",
       "      <td>wherever</td>\n",
       "      <td>roped</td>\n",
       "      <td>rejoice</td>\n",
       "      <td>feet</td>\n",
       "      <td>lend</td>\n",
       "      <td>captor</td>\n",
       "      <td>pondicherry</td>\n",
       "    </tr>\n",
       "  </tbody>\n",
       "</table>\n",
       "</div>"
      ],
      "text/plain": [
       "               0            1                 2                3  \\\n",
       "0       displace         lend            chills  poorly-educated   \n",
       "1   anticipating   pantherish              chap            david   \n",
       "2     faithfully     distract           descend            david   \n",
       "3          trick       chills          impotent             drat   \n",
       "4       cleaning        gaudy              pays          compact   \n",
       "5          david         heya               lee  poorly-educated   \n",
       "6      panelling        trick            shooed            gaudy   \n",
       "7       displace     impotent  perspectivischen            other   \n",
       "8     brythunian  observation         leaves-on         cleaning   \n",
       "9       displace      compact          distract          descend   \n",
       "10      futility   afternoons             rosse        quickness   \n",
       "11     panelling        trick        faithfully         skinning   \n",
       "12         trick          lee           descend     anticipating   \n",
       "13    ridiculous        blots       distributio         uncooked   \n",
       "14         whirl    leaves-on          displace  poorly-educated   \n",
       "15       sextant       prided           descend           sifted   \n",
       "16          saul        whirl           gardens         displace   \n",
       "17  anticipating         heya   uninterruptedly          descend   \n",
       "18       descend          lee             david            whirl   \n",
       "19  anticipating       excess             david         wherever   \n",
       "\n",
       "                  4                5                 6                7  \\\n",
       "0            stolen       pantherish            excess          descend   \n",
       "1           smaller          gipsies              heya         monotony   \n",
       "2            chills         displace               lee     anticipating   \n",
       "3            clayey  poorly-educated             david        overthrew   \n",
       "4              drat         impotent             whirl  poorly-educated   \n",
       "5        playground          descend             gaudy            trick   \n",
       "6          distract          tempest              lend           gentes   \n",
       "7   poorly-educated             lend           descend            donna   \n",
       "8            dimmed             pays       mantelpiece  poorly-educated   \n",
       "9              heya              lee          monotony       faithfully   \n",
       "10          orpheus        fisherman  providence-built           rubbed   \n",
       "11         distract       playground   poorly-educated          descend   \n",
       "12         distract             pays             gaudy        panelling   \n",
       "13       playground            fewer        faithfully            trick   \n",
       "14     ground-moles             drat          monotony         cleaning   \n",
       "15         lighters           cameos             donna     anticipating   \n",
       "16        leaves-on             heya          satrap's  poorly-educated   \n",
       "17            trick           stolen   poorly-educated     thoroughfare   \n",
       "18            gaudy             heya           smaller       faithfully   \n",
       "19            roped          rejoice              feet             lend   \n",
       "\n",
       "               8             9  \n",
       "0          david     leaves-on  \n",
       "1        descend      displace  \n",
       "2           drat         gaudy  \n",
       "3          whirl      distract  \n",
       "4          david    brythunian  \n",
       "5           drat      impotent  \n",
       "6        ability  thoroughfare  \n",
       "7       monotony       compact  \n",
       "8     life-force        go-see  \n",
       "9         chills    playground  \n",
       "10        stones     shoutings  \n",
       "11         gaudy        shooed  \n",
       "12    playground     leaves-on  \n",
       "13          lend      hummil's  \n",
       "14       descend      impotent  \n",
       "15        holmes          heya  \n",
       "16  ground-moles   fashionable  \n",
       "17    playground    testifying  \n",
       "18      distract        go-see  \n",
       "19        captor   pondicherry  "
      ]
     },
     "execution_count": 25,
     "metadata": {},
     "output_type": "execute_result"
    }
   ],
   "source": [
    "topics_df = pre.gensim2dataframe(model)\n",
    "topics_df"
   ]
  },
  {
   "cell_type": "code",
   "execution_count": 26,
   "metadata": {
    "collapsed": false,
    "deletable": true,
    "editable": true
   },
   "outputs": [
    {
     "data": {
      "text/html": [
       "<div>\n",
       "<table border=\"1\" class=\"dataframe\">\n",
       "  <thead>\n",
       "    <tr style=\"text-align: right;\">\n",
       "      <th></th>\n",
       "      <th>0</th>\n",
       "      <th>1</th>\n",
       "      <th>2</th>\n",
       "      <th>3</th>\n",
       "      <th>4</th>\n",
       "      <th>5</th>\n",
       "      <th>6</th>\n",
       "      <th>7</th>\n",
       "      <th>8</th>\n",
       "      <th>9</th>\n",
       "      <th>10</th>\n",
       "      <th>11</th>\n",
       "      <th>12</th>\n",
       "      <th>13</th>\n",
       "      <th>14</th>\n",
       "      <th>15</th>\n",
       "      <th>16</th>\n",
       "      <th>17</th>\n",
       "      <th>18</th>\n",
       "      <th>19</th>\n",
       "    </tr>\n",
       "  </thead>\n",
       "  <tbody>\n",
       "    <tr>\n",
       "      <th>0</th>\n",
       "      <td>displace</td>\n",
       "      <td>anticipating</td>\n",
       "      <td>faithfully</td>\n",
       "      <td>trick</td>\n",
       "      <td>cleaning</td>\n",
       "      <td>david</td>\n",
       "      <td>panelling</td>\n",
       "      <td>displace</td>\n",
       "      <td>brythunian</td>\n",
       "      <td>displace</td>\n",
       "      <td>futility</td>\n",
       "      <td>panelling</td>\n",
       "      <td>trick</td>\n",
       "      <td>ridiculous</td>\n",
       "      <td>whirl</td>\n",
       "      <td>sextant</td>\n",
       "      <td>saul</td>\n",
       "      <td>anticipating</td>\n",
       "      <td>descend</td>\n",
       "      <td>anticipating</td>\n",
       "    </tr>\n",
       "    <tr>\n",
       "      <th>1</th>\n",
       "      <td>lend</td>\n",
       "      <td>pantherish</td>\n",
       "      <td>distract</td>\n",
       "      <td>chills</td>\n",
       "      <td>gaudy</td>\n",
       "      <td>heya</td>\n",
       "      <td>trick</td>\n",
       "      <td>impotent</td>\n",
       "      <td>observation</td>\n",
       "      <td>compact</td>\n",
       "      <td>afternoons</td>\n",
       "      <td>trick</td>\n",
       "      <td>lee</td>\n",
       "      <td>blots</td>\n",
       "      <td>leaves-on</td>\n",
       "      <td>prided</td>\n",
       "      <td>whirl</td>\n",
       "      <td>heya</td>\n",
       "      <td>lee</td>\n",
       "      <td>excess</td>\n",
       "    </tr>\n",
       "    <tr>\n",
       "      <th>2</th>\n",
       "      <td>chills</td>\n",
       "      <td>chap</td>\n",
       "      <td>descend</td>\n",
       "      <td>impotent</td>\n",
       "      <td>pays</td>\n",
       "      <td>lee</td>\n",
       "      <td>shooed</td>\n",
       "      <td>perspectivischen</td>\n",
       "      <td>leaves-on</td>\n",
       "      <td>distract</td>\n",
       "      <td>rosse</td>\n",
       "      <td>faithfully</td>\n",
       "      <td>descend</td>\n",
       "      <td>distributio</td>\n",
       "      <td>displace</td>\n",
       "      <td>descend</td>\n",
       "      <td>gardens</td>\n",
       "      <td>uninterruptedly</td>\n",
       "      <td>david</td>\n",
       "      <td>david</td>\n",
       "    </tr>\n",
       "    <tr>\n",
       "      <th>3</th>\n",
       "      <td>poorly-educated</td>\n",
       "      <td>david</td>\n",
       "      <td>david</td>\n",
       "      <td>drat</td>\n",
       "      <td>compact</td>\n",
       "      <td>poorly-educated</td>\n",
       "      <td>gaudy</td>\n",
       "      <td>other</td>\n",
       "      <td>cleaning</td>\n",
       "      <td>descend</td>\n",
       "      <td>quickness</td>\n",
       "      <td>skinning</td>\n",
       "      <td>anticipating</td>\n",
       "      <td>uncooked</td>\n",
       "      <td>poorly-educated</td>\n",
       "      <td>sifted</td>\n",
       "      <td>displace</td>\n",
       "      <td>descend</td>\n",
       "      <td>whirl</td>\n",
       "      <td>wherever</td>\n",
       "    </tr>\n",
       "    <tr>\n",
       "      <th>4</th>\n",
       "      <td>stolen</td>\n",
       "      <td>smaller</td>\n",
       "      <td>chills</td>\n",
       "      <td>clayey</td>\n",
       "      <td>drat</td>\n",
       "      <td>playground</td>\n",
       "      <td>distract</td>\n",
       "      <td>poorly-educated</td>\n",
       "      <td>dimmed</td>\n",
       "      <td>heya</td>\n",
       "      <td>orpheus</td>\n",
       "      <td>distract</td>\n",
       "      <td>distract</td>\n",
       "      <td>playground</td>\n",
       "      <td>ground-moles</td>\n",
       "      <td>lighters</td>\n",
       "      <td>leaves-on</td>\n",
       "      <td>trick</td>\n",
       "      <td>gaudy</td>\n",
       "      <td>roped</td>\n",
       "    </tr>\n",
       "    <tr>\n",
       "      <th>5</th>\n",
       "      <td>pantherish</td>\n",
       "      <td>gipsies</td>\n",
       "      <td>displace</td>\n",
       "      <td>poorly-educated</td>\n",
       "      <td>impotent</td>\n",
       "      <td>descend</td>\n",
       "      <td>tempest</td>\n",
       "      <td>lend</td>\n",
       "      <td>pays</td>\n",
       "      <td>lee</td>\n",
       "      <td>fisherman</td>\n",
       "      <td>playground</td>\n",
       "      <td>pays</td>\n",
       "      <td>fewer</td>\n",
       "      <td>drat</td>\n",
       "      <td>cameos</td>\n",
       "      <td>heya</td>\n",
       "      <td>stolen</td>\n",
       "      <td>heya</td>\n",
       "      <td>rejoice</td>\n",
       "    </tr>\n",
       "    <tr>\n",
       "      <th>6</th>\n",
       "      <td>excess</td>\n",
       "      <td>heya</td>\n",
       "      <td>lee</td>\n",
       "      <td>david</td>\n",
       "      <td>whirl</td>\n",
       "      <td>gaudy</td>\n",
       "      <td>lend</td>\n",
       "      <td>descend</td>\n",
       "      <td>mantelpiece</td>\n",
       "      <td>monotony</td>\n",
       "      <td>providence-built</td>\n",
       "      <td>poorly-educated</td>\n",
       "      <td>gaudy</td>\n",
       "      <td>faithfully</td>\n",
       "      <td>monotony</td>\n",
       "      <td>donna</td>\n",
       "      <td>satrap's</td>\n",
       "      <td>poorly-educated</td>\n",
       "      <td>smaller</td>\n",
       "      <td>feet</td>\n",
       "    </tr>\n",
       "    <tr>\n",
       "      <th>7</th>\n",
       "      <td>descend</td>\n",
       "      <td>monotony</td>\n",
       "      <td>anticipating</td>\n",
       "      <td>overthrew</td>\n",
       "      <td>poorly-educated</td>\n",
       "      <td>trick</td>\n",
       "      <td>gentes</td>\n",
       "      <td>donna</td>\n",
       "      <td>poorly-educated</td>\n",
       "      <td>faithfully</td>\n",
       "      <td>rubbed</td>\n",
       "      <td>descend</td>\n",
       "      <td>panelling</td>\n",
       "      <td>trick</td>\n",
       "      <td>cleaning</td>\n",
       "      <td>anticipating</td>\n",
       "      <td>poorly-educated</td>\n",
       "      <td>thoroughfare</td>\n",
       "      <td>faithfully</td>\n",
       "      <td>lend</td>\n",
       "    </tr>\n",
       "    <tr>\n",
       "      <th>8</th>\n",
       "      <td>david</td>\n",
       "      <td>descend</td>\n",
       "      <td>drat</td>\n",
       "      <td>whirl</td>\n",
       "      <td>david</td>\n",
       "      <td>drat</td>\n",
       "      <td>ability</td>\n",
       "      <td>monotony</td>\n",
       "      <td>life-force</td>\n",
       "      <td>chills</td>\n",
       "      <td>stones</td>\n",
       "      <td>gaudy</td>\n",
       "      <td>playground</td>\n",
       "      <td>lend</td>\n",
       "      <td>descend</td>\n",
       "      <td>holmes</td>\n",
       "      <td>ground-moles</td>\n",
       "      <td>playground</td>\n",
       "      <td>distract</td>\n",
       "      <td>captor</td>\n",
       "    </tr>\n",
       "    <tr>\n",
       "      <th>9</th>\n",
       "      <td>leaves-on</td>\n",
       "      <td>displace</td>\n",
       "      <td>gaudy</td>\n",
       "      <td>distract</td>\n",
       "      <td>brythunian</td>\n",
       "      <td>impotent</td>\n",
       "      <td>thoroughfare</td>\n",
       "      <td>compact</td>\n",
       "      <td>go-see</td>\n",
       "      <td>playground</td>\n",
       "      <td>shoutings</td>\n",
       "      <td>shooed</td>\n",
       "      <td>leaves-on</td>\n",
       "      <td>hummil's</td>\n",
       "      <td>impotent</td>\n",
       "      <td>heya</td>\n",
       "      <td>fashionable</td>\n",
       "      <td>testifying</td>\n",
       "      <td>go-see</td>\n",
       "      <td>pondicherry</td>\n",
       "    </tr>\n",
       "  </tbody>\n",
       "</table>\n",
       "</div>"
      ],
      "text/plain": [
       "                0             1             2                3   \\\n",
       "0         displace  anticipating    faithfully            trick   \n",
       "1             lend    pantherish      distract           chills   \n",
       "2           chills          chap       descend         impotent   \n",
       "3  poorly-educated         david         david             drat   \n",
       "4           stolen       smaller        chills           clayey   \n",
       "5       pantherish       gipsies      displace  poorly-educated   \n",
       "6           excess          heya           lee            david   \n",
       "7          descend      monotony  anticipating        overthrew   \n",
       "8            david       descend          drat            whirl   \n",
       "9        leaves-on      displace         gaudy         distract   \n",
       "\n",
       "                4                5             6                 7   \\\n",
       "0         cleaning            david     panelling          displace   \n",
       "1            gaudy             heya         trick          impotent   \n",
       "2             pays              lee        shooed  perspectivischen   \n",
       "3          compact  poorly-educated         gaudy             other   \n",
       "4             drat       playground      distract   poorly-educated   \n",
       "5         impotent          descend       tempest              lend   \n",
       "6            whirl            gaudy          lend           descend   \n",
       "7  poorly-educated            trick        gentes             donna   \n",
       "8            david             drat       ability          monotony   \n",
       "9       brythunian         impotent  thoroughfare           compact   \n",
       "\n",
       "                8           9                 10               11  \\\n",
       "0       brythunian    displace          futility        panelling   \n",
       "1      observation     compact        afternoons            trick   \n",
       "2        leaves-on    distract             rosse       faithfully   \n",
       "3         cleaning     descend         quickness         skinning   \n",
       "4           dimmed        heya           orpheus         distract   \n",
       "5             pays         lee         fisherman       playground   \n",
       "6      mantelpiece    monotony  providence-built  poorly-educated   \n",
       "7  poorly-educated  faithfully            rubbed          descend   \n",
       "8       life-force      chills            stones            gaudy   \n",
       "9           go-see  playground         shoutings           shooed   \n",
       "\n",
       "             12           13               14            15               16  \\\n",
       "0         trick   ridiculous            whirl       sextant             saul   \n",
       "1           lee        blots        leaves-on        prided            whirl   \n",
       "2       descend  distributio         displace       descend          gardens   \n",
       "3  anticipating     uncooked  poorly-educated        sifted         displace   \n",
       "4      distract   playground     ground-moles      lighters        leaves-on   \n",
       "5          pays        fewer             drat        cameos             heya   \n",
       "6         gaudy   faithfully         monotony         donna         satrap's   \n",
       "7     panelling        trick         cleaning  anticipating  poorly-educated   \n",
       "8    playground         lend          descend        holmes     ground-moles   \n",
       "9     leaves-on     hummil's         impotent          heya      fashionable   \n",
       "\n",
       "                17          18            19  \n",
       "0     anticipating     descend  anticipating  \n",
       "1             heya         lee        excess  \n",
       "2  uninterruptedly       david         david  \n",
       "3          descend       whirl      wherever  \n",
       "4            trick       gaudy         roped  \n",
       "5           stolen        heya       rejoice  \n",
       "6  poorly-educated     smaller          feet  \n",
       "7     thoroughfare  faithfully          lend  \n",
       "8       playground    distract        captor  \n",
       "9       testifying      go-see   pondicherry  "
      ]
     },
     "execution_count": 26,
     "metadata": {},
     "output_type": "execute_result"
    }
   ],
   "source": [
    "doc_topic = topics_df.T\n",
    "doc_topic"
   ]
  },
  {
   "cell_type": "markdown",
   "metadata": {
    "deletable": true,
    "editable": true
   },
   "source": [
    "## Visualisierung "
   ]
  },
  {
   "cell_type": "code",
   "execution_count": 27,
   "metadata": {
    "collapsed": false,
    "deletable": true,
    "editable": true
   },
   "outputs": [
    {
     "data": {
      "text/plain": [
       "\"lda_model = 'out_easy/corpus.lda'\\ncorpus = 'out_easy/corpus.mm'\\ndictionary = 'out_easy/corpus.dict'\\ndoc_labels = 'out_easy/corpus_doclabels.txt'\\ninteractive  = False\\n\\nvis = visual.Visualization(lda_model, corpus, dictionary, doc_labels, interactive)\""
      ]
     },
     "execution_count": 27,
     "metadata": {},
     "output_type": "execute_result"
    }
   ],
   "source": [
    "'''lda_model = 'out_easy/corpus.lda'\n",
    "corpus = 'out_easy/corpus.mm'\n",
    "dictionary = 'out_easy/corpus.dict'\n",
    "doc_labels = 'out_easy/corpus_doclabels.txt'\n",
    "interactive  = False\n",
    "\n",
    "vis = visual.Visualization(lda_model, corpus, dictionary, doc_labels, interactive)'''"
   ]
  },
  {
   "cell_type": "markdown",
   "metadata": {
    "deletable": true,
    "editable": true
   },
   "source": [
    "##### Create a document-topic matrix (that is a pandas data frame actually)"
   ]
  },
  {
   "cell_type": "code",
   "execution_count": 28,
   "metadata": {
    "collapsed": false,
    "deletable": true,
    "editable": true
   },
   "outputs": [],
   "source": [
    "doc_topic = visual.create_doc_topic(mm, model, doc_labels)"
   ]
  },
  {
   "cell_type": "markdown",
   "metadata": {
    "deletable": true,
    "editable": true
   },
   "source": [
    "##### Visualize document-topic matrix"
   ]
  },
  {
   "cell_type": "code",
   "execution_count": 29,
   "metadata": {
    "collapsed": false,
    "deletable": true,
    "editable": true
   },
   "outputs": [
    {
     "data": {
      "text/plain": [
       "<module 'matplotlib.pyplot' from '/home/sina/.local/lib/python3.5/site-packages/matplotlib/pyplot.py'>"
      ]
     },
     "execution_count": 29,
     "metadata": {},
     "output_type": "execute_result"
    },
    {
     "data": {
      "image/png": "[encoded data removed]",
      "text/plain": [
       "<matplotlib.figure.Figure at 0x7f4c79d243c8>"
      ]
     },
     "metadata": {},
     "output_type": "display_data"
    }
   ],
   "source": [
    "%matplotlib inline\n",
    "visual.doc_topic_heatmap(doc_topic)"
   ]
  },
  {
   "cell_type": "markdown",
   "metadata": {
    "deletable": true,
    "editable": true
   },
   "source": [
    "##### Visualize topic distribution in a single document"
   ]
  },
  {
   "cell_type": "code",
   "execution_count": 30,
   "metadata": {
    "collapsed": false,
    "deletable": true,
    "editable": true
   },
   "outputs": [
    {
     "data": {
      "text/plain": [
       "<module 'matplotlib.pyplot' from '/home/sina/.local/lib/python3.5/site-packages/matplotlib/pyplot.py'>"
      ]
     },
     "execution_count": 30,
     "metadata": {},
     "output_type": "execute_result"
    },
    {
     "data": {
      "image/png": "[encoded data removed]",
      "text/plain": [
       "<matplotlib.figure.Figure at 0x7f4c78da5c18>"
      ]
     },
     "metadata": {},
     "output_type": "display_data"
    }
   ],
   "source": [
    "visual.plot_doc_topics(doc_topic, 0)"
   ]
  },
  {
   "cell_type": "code",
   "execution_count": 31,
   "metadata": {
    "collapsed": false,
    "deletable": true,
    "editable": true
   },
   "outputs": [
    {
     "data": {
      "text/plain": [
       "[('anticipating', 0.0041253618178538594),\n",
       " ('pantherish', 0.0040946187241391301),\n",
       " ('chap', 0.0038379408079611248),\n",
       " ('david', 0.0036847424904771844),\n",
       " ('smaller', 0.0035701128464406449),\n",
       " ('gipsies', 0.0035674404367478361),\n",
       " ('heya', 0.00334244764412604),\n",
       " ('monotony', 0.0029577853527693351),\n",
       " ('descend', 0.0029556237473556458),\n",
       " ('displace', 0.0027345811903157153)]"
      ]
     },
     "execution_count": 31,
     "metadata": {},
     "output_type": "execute_result"
    }
   ],
   "source": [
    "items = model.show_topic(1)\n",
    "keywords = [item[0] for item in items]\n",
    "keywords\n",
    "items = model.show_topic(1)\n",
    "propabilities = [item[1] for item in items]\n",
    "propabilities\n",
    "items"
   ]
  },
  {
   "cell_type": "code",
   "execution_count": 32,
   "metadata": {
    "collapsed": false,
    "deletable": true,
    "editable": true,
    "scrolled": true
   },
   "outputs": [
    {
     "data": {
      "text/plain": [
       "<module 'matplotlib.pyplot' from '/home/sina/.local/lib/python3.5/site-packages/matplotlib/pyplot.py'>"
      ]
     },
     "execution_count": 32,
     "metadata": {},
     "output_type": "execute_result"
    },
    {
     "data": {
      "image/png": "[encoded data removed]",
      "text/plain": [
       "<matplotlib.figure.Figure at 0x7f4c78d2a320>"
      ]
     },
     "metadata": {},
     "output_type": "display_data"
    }
   ],
   "source": [
    "topic_nr = 3\n",
    "number_of_keywords = 10\n",
    "visual.show_wordle_for_topic(model, topic_nr, number_of_keywords)"
   ]
  },
  {
   "cell_type": "markdown",
   "metadata": {
    "collapsed": true,
    "deletable": true,
    "editable": true
   },
   "source": [
    "![success](http://cdn2.hubspot.net/hub/128506/file-446943132-jpg/images/computer_woman_success.jpg)"
   ]
  }
 ],
 "metadata": {
  "kernelspec": {
   "display_name": "Python 3",
   "language": "python",
   "name": "python3"
  },
  "language_info": {
   "codemirror_mode": {
    "name": "ipython",
    "version": 3
   },
   "file_extension": ".py",
   "mimetype": "text/x-python",
   "name": "python",
   "nbconvert_exporter": "python",
   "pygments_lexer": "ipython3",
   "version": "3.5.2"
  }
 },
 "nbformat": 4,
 "nbformat_minor": 0
}
