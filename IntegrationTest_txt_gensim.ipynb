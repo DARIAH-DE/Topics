{
 "cells": [
  {
   "cell_type": "code",
   "execution_count": 1,
   "metadata": {
    "collapsed": false,
    "deletable": true,
    "editable": true
   },
   "outputs": [
    {
     "name": "stderr",
     "output_type": "stream",
     "text": [
      "/usr/lib/python3.5/json/encoder.py:198: DeprecationWarning: Interpreting naive datetime as local 2017-04-02 13:46:35.412321. Please add timezone info to timestamps.\n",
      "  chunks = self.iterencode(o, _one_shot=True)\n"
     ]
    }
   ],
   "source": [
    "from dariah_topics import preprocessing as pre\n",
    "from dariah_topics import visualization as visual\n",
    "from dariah_topics import evaluation"
   ]
  },
  {
   "cell_type": "markdown",
   "metadata": {
    "deletable": true,
    "editable": true
   },
   "source": [
    "## Preprocessing"
   ]
  },
  {
   "cell_type": "markdown",
   "metadata": {
    "deletable": true,
    "editable": true
   },
   "source": [
    "#### Liste mit Dateinamen erzeugen"
   ]
  },
  {
   "cell_type": "code",
   "execution_count": 2,
   "metadata": {
    "collapsed": false,
    "deletable": true,
    "editable": true
   },
   "outputs": [
    {
     "data": {
      "text/plain": [
       "['corpus_txt/Lovecraft_AttheMountainofMadness.txt',\n",
       " 'corpus_txt/Howard_TheDevilinIron.txt',\n",
       " 'corpus_txt/Poe_ThePurloinedLetter.txt',\n",
       " 'corpus_txt/Lovecraft_TheShunnedHouse.txt',\n",
       " 'corpus_txt/Poe_TheMasqueoftheRedDeath.txt']"
      ]
     },
     "execution_count": 2,
     "metadata": {},
     "output_type": "execute_result"
    },
    {
     "name": "stderr",
     "output_type": "stream",
     "text": [
      "/usr/lib/python3.5/json/encoder.py:198: DeprecationWarning: Interpreting naive datetime as local 2017-04-02 13:46:36.243248. Please add timezone info to timestamps.\n",
      "  chunks = self.iterencode(o, _one_shot=True)\n"
     ]
    }
   ],
   "source": [
    "path_txt = \"corpus_txt\"\n",
    "#path_txt = \"grenzbote_plain/*/\"\n",
    "#path_txt = \"wiki/\"\n",
    "\n",
    "doclist_txt = pre.create_document_list(path_txt)\n",
    "assert doclist_txt, \"No documents found\"\n",
    "doclist_txt[:5]"
   ]
  },
  {
   "cell_type": "markdown",
   "metadata": {
    "deletable": true,
    "editable": true
   },
   "source": [
    "#####  Liste mit Dokumentenlabels erzeugen - (Funktion wird durch Thorsten's generischere Funktion ersetzt)"
   ]
  },
  {
   "cell_type": "code",
   "execution_count": 3,
   "metadata": {
    "collapsed": false,
    "deletable": true,
    "editable": true
   },
   "outputs": [
    {
     "data": {
      "text/plain": [
       "['Lovecraft_AttheMountainofMadness',\n",
       " 'Howard_TheDevilinIron',\n",
       " 'Poe_ThePurloinedLetter',\n",
       " 'Lovecraft_TheShunnedHouse',\n",
       " 'Poe_TheMasqueoftheRedDeath']"
      ]
     },
     "execution_count": 3,
     "metadata": {},
     "output_type": "execute_result"
    },
    {
     "name": "stderr",
     "output_type": "stream",
     "text": [
      "/usr/lib/python3.5/json/encoder.py:198: DeprecationWarning: Interpreting naive datetime as local 2017-04-02 13:46:36.252114. Please add timezone info to timestamps.\n",
      "  chunks = self.iterencode(o, _one_shot=True)\n"
     ]
    }
   ],
   "source": [
    "doc_labels = list(pre.get_labels(doclist_txt))\n",
    "doc_labels[:5]"
   ]
  },
  {
   "cell_type": "markdown",
   "metadata": {
    "deletable": true,
    "editable": true
   },
   "source": [
    "#### Corpus laden"
   ]
  },
  {
   "cell_type": "code",
   "execution_count": 4,
   "metadata": {
    "collapsed": false,
    "deletable": true,
    "editable": true
   },
   "outputs": [
    {
     "name": "stderr",
     "output_type": "stream",
     "text": [
      "/usr/lib/python3.5/json/encoder.py:198: DeprecationWarning: Interpreting naive datetime as local 2017-04-02 13:46:36.267213. Please add timezone info to timestamps.\n",
      "  chunks = self.iterencode(o, _one_shot=True)\n"
     ]
    }
   ],
   "source": [
    "corpus_txt = pre.read_from_txt(doclist_txt)"
   ]
  },
  {
   "cell_type": "markdown",
   "metadata": {
    "deletable": true,
    "editable": true
   },
   "source": [
    "#### Tokenisieren"
   ]
  },
  {
   "cell_type": "code",
   "execution_count": 5,
   "metadata": {
    "collapsed": false,
    "deletable": true,
    "editable": true
   },
   "outputs": [
    {
     "name": "stderr",
     "output_type": "stream",
     "text": [
      "/usr/lib/python3.5/json/encoder.py:198: DeprecationWarning: Interpreting naive datetime as local 2017-04-02 13:46:36.275856. Please add timezone info to timestamps.\n",
      "  chunks = self.iterencode(o, _one_shot=True)\n"
     ]
    }
   ],
   "source": [
    "doc_tokens = [list(pre.tokenize(txt)) for txt in list(corpus_txt)]"
   ]
  },
  {
   "cell_type": "markdown",
   "metadata": {
    "deletable": true,
    "editable": true
   },
   "source": [
    "#### Create Dictionaries"
   ]
  },
  {
   "cell_type": "code",
   "execution_count": 6,
   "metadata": {
    "collapsed": false,
    "deletable": true,
    "editable": true
   },
   "outputs": [
    {
     "name": "stderr",
     "output_type": "stream",
     "text": [
      "/usr/lib/python3.5/json/encoder.py:198: DeprecationWarning: Interpreting naive datetime as local 2017-04-02 13:46:36.560498. Please add timezone info to timestamps.\n",
      "  chunks = self.iterencode(o, _one_shot=True)\n"
     ]
    }
   ],
   "source": [
    "id_types, doc_ids = pre.create_dictionaries(doc_labels, doc_tokens)"
   ]
  },
  {
   "cell_type": "markdown",
   "metadata": {
    "deletable": true,
    "editable": true
   },
   "source": [
    "#### Sparse BOW Model"
   ]
  },
  {
   "cell_type": "code",
   "execution_count": 7,
   "metadata": {
    "collapsed": false,
    "deletable": true,
    "editable": true
   },
   "outputs": [
    {
     "name": "stderr",
     "output_type": "stream",
     "text": [
      "/usr/lib/python3.5/json/encoder.py:198: DeprecationWarning: Interpreting naive datetime as local 2017-04-02 13:46:36.622170. Please add timezone info to timestamps.\n",
      "  chunks = self.iterencode(o, _one_shot=True)\n"
     ]
    }
   ],
   "source": [
    "sparse_bow = pre.create_mm(doc_labels, doc_tokens, id_types, doc_ids)"
   ]
  },
  {
   "cell_type": "code",
   "execution_count": 8,
   "metadata": {
    "collapsed": false,
    "deletable": true,
    "editable": true
   },
   "outputs": [
    {
     "data": {
      "text/html": [
       "<div>\n",
       "<table border=\"1\" class=\"dataframe\">\n",
       "  <thead>\n",
       "    <tr style=\"text-align: right;\">\n",
       "      <th></th>\n",
       "      <th></th>\n",
       "      <th>0</th>\n",
       "    </tr>\n",
       "    <tr>\n",
       "      <th>doc_id</th>\n",
       "      <th>token_id</th>\n",
       "      <th></th>\n",
       "    </tr>\n",
       "  </thead>\n",
       "  <tbody>\n",
       "    <tr>\n",
       "      <th rowspan=\"5\" valign=\"top\">1</th>\n",
       "      <th>16384</th>\n",
       "      <td>1</td>\n",
       "    </tr>\n",
       "    <tr>\n",
       "      <th>16385</th>\n",
       "      <td>8</td>\n",
       "    </tr>\n",
       "    <tr>\n",
       "      <th>16387</th>\n",
       "      <td>3</td>\n",
       "    </tr>\n",
       "    <tr>\n",
       "      <th>16388</th>\n",
       "      <td>1</td>\n",
       "    </tr>\n",
       "    <tr>\n",
       "      <th>16389</th>\n",
       "      <td>1</td>\n",
       "    </tr>\n",
       "  </tbody>\n",
       "</table>\n",
       "</div>"
      ],
      "text/plain": [
       "                 0\n",
       "doc_id token_id   \n",
       "1      16384     1\n",
       "       16385     8\n",
       "       16387     3\n",
       "       16388     1\n",
       "       16389     1"
      ]
     },
     "execution_count": 8,
     "metadata": {},
     "output_type": "execute_result"
    },
    {
     "name": "stderr",
     "output_type": "stream",
     "text": [
      "/usr/lib/python3.5/json/encoder.py:198: DeprecationWarning: Interpreting naive datetime as local 2017-04-02 13:46:36.990760. Please add timezone info to timestamps.\n",
      "  chunks = self.iterencode(o, _one_shot=True)\n"
     ]
    }
   ],
   "source": [
    "sparse_bow[:5]"
   ]
  },
  {
   "cell_type": "markdown",
   "metadata": {
    "deletable": true,
    "editable": true
   },
   "source": [
    "## Topic Modeling with Gensim"
   ]
  },
  {
   "cell_type": "markdown",
   "metadata": {
    "deletable": true,
    "editable": true
   },
   "source": [
    "##### Saving Sparse BOW"
   ]
  },
  {
   "cell_type": "code",
   "execution_count": 9,
   "metadata": {
    "collapsed": false,
    "deletable": true,
    "editable": true
   },
   "outputs": [
    {
     "name": "stderr",
     "output_type": "stream",
     "text": [
      "/usr/lib/python3.5/json/encoder.py:198: DeprecationWarning: Interpreting naive datetime as local 2017-04-02 13:46:37.007429. Please add timezone info to timestamps.\n",
      "  chunks = self.iterencode(o, _one_shot=True)\n"
     ]
    }
   ],
   "source": [
    "pre.save_bow_mm(sparse_bow, \"gensim_txt\")"
   ]
  },
  {
   "cell_type": "markdown",
   "metadata": {
    "deletable": true,
    "editable": true
   },
   "source": [
    "#### Import Market Matrix"
   ]
  },
  {
   "cell_type": "code",
   "execution_count": 10,
   "metadata": {
    "collapsed": false,
    "deletable": true,
    "editable": true
   },
   "outputs": [
    {
     "name": "stderr",
     "output_type": "stream",
     "text": [
      "/usr/lib/python3.5/json/encoder.py:198: DeprecationWarning: Interpreting naive datetime as local 2017-04-02 13:46:37.136271. Please add timezone info to timestamps.\n",
      "  chunks = self.iterencode(o, _one_shot=True)\n"
     ]
    }
   ],
   "source": [
    "from gensim.models import LdaModel\n",
    "from gensim.corpora import MmCorpus"
   ]
  },
  {
   "cell_type": "code",
   "execution_count": 11,
   "metadata": {
    "collapsed": false,
    "deletable": true,
    "editable": true
   },
   "outputs": [
    {
     "name": "stderr",
     "output_type": "stream",
     "text": [
      "/usr/lib/python3.5/json/encoder.py:198: DeprecationWarning: Interpreting naive datetime as local 2017-04-02 13:46:37.141019. Please add timezone info to timestamps.\n",
      "  chunks = self.iterencode(o, _one_shot=True)\n"
     ]
    }
   ],
   "source": [
    "mm = MmCorpus(\"gensim_txt.mm\")"
   ]
  },
  {
   "cell_type": "code",
   "execution_count": 12,
   "metadata": {
    "collapsed": false,
    "deletable": true,
    "editable": true
   },
   "outputs": [
    {
     "name": "stderr",
     "output_type": "stream",
     "text": [
      "/usr/lib/python3.5/json/encoder.py:198: DeprecationWarning: Interpreting naive datetime as local 2017-04-02 13:46:37.158584. Please add timezone info to timestamps.\n",
      "  chunks = self.iterencode(o, _one_shot=True)\n"
     ]
    }
   ],
   "source": [
    "doc2id = {value : key for key, value in doc_ids.items()}\n",
    "type2id = {value : key for key, value in id_types.items()}"
   ]
  },
  {
   "cell_type": "markdown",
   "metadata": {
    "deletable": true,
    "editable": true
   },
   "source": [
    "##### Remove Features"
   ]
  },
  {
   "cell_type": "markdown",
   "metadata": {
    "deletable": true,
    "editable": true
   },
   "source": [
    "type2id = {value : key for key, value in id_types.items()}\n",
    "sparse_bow_collapsed = sparse_bow.groupby(sparse_bow.index.get_level_values('token_id')).sum()"
   ]
  },
  {
   "cell_type": "markdown",
   "metadata": {
    "deletable": true,
    "editable": true
   },
   "source": [
    "sparse_bow_hapax = sparse_bow_collapsed.loc[sparse_bow_collapsed[0] == 1]\n",
    "hapax = [type2id[key] for key in sparse_bow_hapax.index.get_level_values('token_id')]"
   ]
  },
  {
   "cell_type": "markdown",
   "metadata": {
    "deletable": true,
    "editable": true
   },
   "source": [
    "len(hapax)"
   ]
  },
  {
   "cell_type": "code",
   "execution_count": 13,
   "metadata": {
    "collapsed": false,
    "deletable": true,
    "editable": true
   },
   "outputs": [
    {
     "name": "stderr",
     "output_type": "stream",
     "text": [
      "/usr/lib/python3.5/json/encoder.py:198: DeprecationWarning: Interpreting naive datetime as local 2017-04-02 13:46:37.172883. Please add timezone info to timestamps.\n",
      "  chunks = self.iterencode(o, _one_shot=True)\n"
     ]
    }
   ],
   "source": [
    "import os.path\n",
    "basepath = os.path.abspath('.')\n",
    "\n",
    "with open(os.path.join(basepath, \"tutorial_supplementals\", \"stopwords\", \"de.txt\"), 'r', encoding = 'utf-8') as f: \n",
    "    stopword_list = f.read().split('\\n')\n",
    "    \n",
    "stopword_list = set(stopword_list)"
   ]
  },
  {
   "cell_type": "code",
   "execution_count": 14,
   "metadata": {
    "collapsed": false,
    "deletable": true,
    "editable": true
   },
   "outputs": [
    {
     "name": "stderr",
     "output_type": "stream",
     "text": [
      "/usr/lib/python3.5/json/encoder.py:198: DeprecationWarning: Interpreting naive datetime as local 2017-04-02 13:46:37.184775. Please add timezone info to timestamps.\n",
      "  chunks = self.iterencode(o, _one_shot=True)\n"
     ]
    }
   ],
   "source": [
    "hapax_from_remove = pre.find_hapax(sparse_bow, id_types)\n",
    "stopwords_from_remove = pre.find_stopwords(sparse_bow, id_types, mfw=75)\n",
    "\n",
    "#features_to_be_removed = set(hapax_from_remove + stopwords_from_remove)\n",
    "features_to_be_removed = stopwords_from_remove\n",
    "\n",
    "sparse_bow_short = pre.remove_features(sparse_bow, id_types, features_to_be_removed)"
   ]
  },
  {
   "cell_type": "code",
   "execution_count": 15,
   "metadata": {
    "collapsed": false,
    "deletable": true,
    "editable": true
   },
   "outputs": [
    {
     "data": {
      "text/plain": [
       "75"
      ]
     },
     "execution_count": 15,
     "metadata": {},
     "output_type": "execute_result"
    },
    {
     "name": "stderr",
     "output_type": "stream",
     "text": [
      "/usr/lib/python3.5/json/encoder.py:198: DeprecationWarning: Interpreting naive datetime as local 2017-04-02 13:46:37.328330. Please add timezone info to timestamps.\n",
      "  chunks = self.iterencode(o, _one_shot=True)\n"
     ]
    }
   ],
   "source": [
    "len(features_to_be_removed)"
   ]
  },
  {
   "cell_type": "code",
   "execution_count": 16,
   "metadata": {
    "collapsed": false,
    "deletable": true,
    "editable": true
   },
   "outputs": [
    {
     "name": "stderr",
     "output_type": "stream",
     "text": [
      "/usr/lib/python3.5/json/encoder.py:198: DeprecationWarning: Interpreting naive datetime as local 2017-04-02 13:46:37.334179. Please add timezone info to timestamps.\n",
      "  chunks = self.iterencode(o, _one_shot=True)\n"
     ]
    }
   ],
   "source": [
    "pre.save_bow_mm(sparse_bow_short, \"gensim_txt\")"
   ]
  },
  {
   "cell_type": "code",
   "execution_count": 17,
   "metadata": {
    "collapsed": false,
    "deletable": true,
    "editable": true
   },
   "outputs": [
    {
     "name": "stderr",
     "output_type": "stream",
     "text": [
      "/usr/lib/python3.5/json/encoder.py:198: DeprecationWarning: Interpreting naive datetime as local 2017-04-02 13:46:37.421797. Please add timezone info to timestamps.\n",
      "  chunks = self.iterencode(o, _one_shot=True)\n"
     ]
    }
   ],
   "source": [
    "mm = MmCorpus(\"gensim_txt.mm\")"
   ]
  },
  {
   "cell_type": "markdown",
   "metadata": {
    "deletable": true,
    "editable": true
   },
   "source": [
    "#### Convert sparse_bow to list of (doc, tokens) tuples (like doc2bow)"
   ]
  },
  {
   "cell_type": "code",
   "execution_count": 18,
   "metadata": {
    "collapsed": false,
    "deletable": true,
    "editable": true
   },
   "outputs": [
    {
     "name": "stderr",
     "output_type": "stream",
     "text": [
      "/usr/lib/python3.5/json/encoder.py:198: DeprecationWarning: Interpreting naive datetime as local 2017-04-02 13:46:37.425956. Please add timezone info to timestamps.\n",
      "  chunks = self.iterencode(o, _one_shot=True)\n"
     ]
    }
   ],
   "source": [
    "doc2bow_list = []\n",
    "\n",
    "for doc in sparse_bow_short.index.groupby(sparse_bow_short.index.get_level_values('doc_id')):\n",
    "    temp = [(token, count) for token, count in zip(sparse_bow_short.loc[doc].index, sparse_bow_short.loc[doc][0])]\n",
    "    doc2bow_list.append(temp)"
   ]
  },
  {
   "cell_type": "code",
   "execution_count": 19,
   "metadata": {
    "collapsed": false,
    "deletable": true,
    "editable": true
   },
   "outputs": [
    {
     "data": {
      "text/plain": [
       "17"
      ]
     },
     "execution_count": 19,
     "metadata": {},
     "output_type": "execute_result"
    },
    {
     "name": "stderr",
     "output_type": "stream",
     "text": [
      "/usr/lib/python3.5/json/encoder.py:198: DeprecationWarning: Interpreting naive datetime as local 2017-04-02 13:46:37.510798. Please add timezone info to timestamps.\n",
      "  chunks = self.iterencode(o, _one_shot=True)\n"
     ]
    }
   ],
   "source": [
    "len(doc2bow_list)"
   ]
  },
  {
   "cell_type": "code",
   "execution_count": 20,
   "metadata": {
    "collapsed": false,
    "deletable": true,
    "editable": true
   },
   "outputs": [
    {
     "name": "stderr",
     "output_type": "stream",
     "text": [
      "/usr/lib/python3.5/json/encoder.py:198: DeprecationWarning: Interpreting naive datetime as local 2017-04-02 13:46:37.517427. Please add timezone info to timestamps.\n",
      "  chunks = self.iterencode(o, _one_shot=True)\n"
     ]
    }
   ],
   "source": [
    "#model = LdaModel(corpus=mm, id2word=type2id, num_topics=60, alpha = \"symmetric\", passes = 10) #import momentan in visual \n",
    "# -> da ich mir noch nicht sicher bin, welche Funktionen in das tm_gensim.py sollen\n",
    "model = LdaModel(corpus=mm, id2word=type2id, num_topics=20, passes = 10, iterations = 20)"
   ]
  },
  {
   "cell_type": "code",
   "execution_count": 21,
   "metadata": {
    "collapsed": false,
    "deletable": true,
    "editable": true
   },
   "outputs": [
    {
     "data": {
      "text/plain": [
       "[(1, 0.034670551185678529),\n",
       " (2, 0.033904241123165951),\n",
       " (3, 0.11535209760158363),\n",
       " (4, 0.063366544282656062),\n",
       " (5, 0.035226801353724177),\n",
       " (6, 0.01702470134459878),\n",
       " (7, 0.040311905089352403),\n",
       " (8, 0.24180638719670738),\n",
       " (10, 0.23580797164637937),\n",
       " (15, 0.094649854885207579),\n",
       " (18, 0.087808289556959185)]"
      ]
     },
     "execution_count": 21,
     "metadata": {},
     "output_type": "execute_result"
    },
    {
     "name": "stderr",
     "output_type": "stream",
     "text": [
      "/usr/lib/python3.5/json/encoder.py:198: DeprecationWarning: Interpreting naive datetime as local 2017-04-02 13:47:21.590690. Please add timezone info to timestamps.\n",
      "  chunks = self.iterencode(o, _one_shot=True)\n"
     ]
    }
   ],
   "source": [
    "model.get_document_topics(doc2bow_list[1])"
   ]
  },
  {
   "cell_type": "code",
   "execution_count": 22,
   "metadata": {
    "collapsed": false,
    "deletable": true,
    "editable": true
   },
   "outputs": [
    {
     "data": {
      "text/plain": [
       "['converged',\n",
       " 'cellar',\n",
       " 'letzten',\n",
       " 'one-dash',\n",
       " 'inconceivable',\n",
       " 'guts-of',\n",
       " 'immemorial',\n",
       " 'seventy',\n",
       " 'rescuers',\n",
       " 'refolded']"
      ]
     },
     "execution_count": 22,
     "metadata": {},
     "output_type": "execute_result"
    },
    {
     "name": "stderr",
     "output_type": "stream",
     "text": [
      "/usr/lib/python3.5/json/encoder.py:198: DeprecationWarning: Interpreting naive datetime as local 2017-04-02 13:47:21.603001. Please add timezone info to timestamps.\n",
      "  chunks = self.iterencode(o, _one_shot=True)\n"
     ]
    }
   ],
   "source": [
    "#Anzeige der keywords für topic n\n",
    "n = 1\n",
    "topic_nr_x = model.get_topic_terms(n)\n",
    "\n",
    "topicTerms = [type2id[i[0]] for i in topic_nr_x]\n",
    "topicTerms"
   ]
  },
  {
   "cell_type": "code",
   "execution_count": 23,
   "metadata": {
    "collapsed": false,
    "deletable": true,
    "editable": true
   },
   "outputs": [
    {
     "data": {
      "text/plain": [
       "[(0,\n",
       "  '0.000*\"supererogatory\" + 0.000*\"cannon-ball\" + 0.000*\"truce\" + 0.000*\"blaze\" + 0.000*\"resemblance\" + 0.000*\"lull\" + 0.000*\"craftily\" + 0.000*\"motley\" + 0.000*\"near\" + 0.000*\"chimney-piece\"'),\n",
       " (1,\n",
       "  '0.005*\"converged\" + 0.005*\"cellar\" + 0.005*\"letzten\" + 0.004*\"one-dash\" + 0.004*\"inconceivable\" + 0.003*\"guts-of\" + 0.003*\"immemorial\" + 0.003*\"seventy\" + 0.003*\"rescuers\" + 0.003*\"refolded\"'),\n",
       " (2,\n",
       "  '0.010*\"flattened\" + 0.005*\"near\" + 0.005*\"guessed\" + 0.005*\"clubbed\" + 0.004*\"acquainted\" + 0.004*\"converged\" + 0.004*\"hurrying\" + 0.004*\"bachelor\" + 0.004*\"mitra\" + 0.003*\"throat-muscles\"'),\n",
       " (3,\n",
       "  '0.007*\"flattened\" + 0.006*\"celebrated\" + 0.004*\"debris\" + 0.004*\"near\" + 0.004*\"blaze\" + 0.004*\"badly-trimmed\" + 0.003*\"clubbed\" + 0.003*\"presumed\" + 0.003*\"vaulted\" + 0.003*\"monthly\"'),\n",
       " (4,\n",
       "  '0.008*\"generated\" + 0.005*\"bristling\" + 0.005*\"inky\" + 0.005*\"badly-trimmed\" + 0.005*\"fernandez\" + 0.005*\"incrustation\" + 0.005*\"alice\" + 0.004*\"angell\" + 0.004*\"varnished\" + 0.004*\"humiliation\"'),\n",
       " (5,\n",
       "  '0.006*\"hoards\" + 0.005*\"monkey\" + 0.004*\"near\" + 0.004*\"chosen\" + 0.004*\"aaarh\" + 0.004*\"clubbed\" + 0.004*\"raj\" + 0.004*\"ts\" + 0.003*\"cæsar’s\" + 0.003*\"blaze\"'),\n",
       " (6,\n",
       "  '0.009*\"motley\" + 0.005*\"waiter\" + 0.004*\"chimney-piece\" + 0.004*\"visage\" + 0.004*\"frankland\" + 0.004*\"mitral\" + 0.004*\"lull\" + 0.004*\"resemblance\" + 0.003*\"grouped\" + 0.003*\"forty-pounder\"'),\n",
       " (7,\n",
       "  '0.015*\"instructive\" + 0.011*\"pips\" + 0.010*\"amuses\" + 0.008*\"supererogatory\" + 0.008*\"tortuously\" + 0.008*\"bandanna\" + 0.008*\"sssso\" + 0.007*\"lull\" + 0.007*\"blaze\" + 0.006*\"puncheons\"'),\n",
       " (8,\n",
       "  '0.004*\"elkanah\" + 0.004*\"cannon-ball\" + 0.004*\"converged\" + 0.004*\"throat-muscles\" + 0.004*\"crete\" + 0.003*\"egg\" + 0.003*\"yorkshire\" + 0.003*\"labyrinths\" + 0.003*\"near\" + 0.003*\"blaze\"'),\n",
       " (9,\n",
       "  '0.000*\"badly-trimmed\" + 0.000*\"near\" + 0.000*\"supererogatory\" + 0.000*\"converged\" + 0.000*\"throat-muscles\" + 0.000*\"humiliation\" + 0.000*\"blaze\" + 0.000*\"varnished\" + 0.000*\"millet\" + 0.000*\"craftily\"'),\n",
       " (10,\n",
       "  '0.004*\"motley\" + 0.004*\"craftily\" + 0.004*\"truce\" + 0.004*\"millet\" + 0.003*\"raj\" + 0.003*\"cannon-ball\" + 0.003*\"guts-of\" + 0.003*\"bridges\" + 0.003*\"waved\" + 0.003*\"mustache\"'),\n",
       " (11,\n",
       "  '0.001*\"sake\" + 0.001*\"opposable\" + 0.001*\"wiser\" + 0.001*\"motley\" + 0.000*\"supererogatory\" + 0.000*\"blaze\" + 0.000*\"grouped\" + 0.000*\"humiliation\" + 0.000*\"raj\" + 0.000*\"varnished\"'),\n",
       " (12,\n",
       "  '0.000*\"badly-trimmed\" + 0.000*\"near\" + 0.000*\"fernandez\" + 0.000*\"truce\" + 0.000*\"neglected\" + 0.000*\"resemblance\" + 0.000*\"varnished\" + 0.000*\"blaze\" + 0.000*\"supererogatory\" + 0.000*\"bridges\"'),\n",
       " (13,\n",
       "  '0.000*\"neglected\" + 0.000*\"chewing\" + 0.000*\"supererogatory\" + 0.000*\"blaze\" + 0.000*\"near\" + 0.000*\"cannon-ball\" + 0.000*\"humiliation\" + 0.000*\"waiter\" + 0.000*\"millet\" + 0.000*\"raj\"'),\n",
       " (14,\n",
       "  '0.000*\"cannon-ball\" + 0.000*\"neglected\" + 0.000*\"blaze\" + 0.000*\"inconceivable\" + 0.000*\"converged\" + 0.000*\"craftily\" + 0.000*\"bridges\" + 0.000*\"truce\" + 0.000*\"motley\" + 0.000*\"undertook\"'),\n",
       " (15,\n",
       "  '0.009*\"converged\" + 0.006*\"inconceivable\" + 0.005*\"cannon-ball\" + 0.005*\"undertook\" + 0.005*\"clinical\" + 0.005*\"eastern\" + 0.004*\"watchful\" + 0.004*\"visage\" + 0.004*\"wented\" + 0.004*\"recognizing\"'),\n",
       " (16,\n",
       "  '0.000*\"blaze\" + 0.000*\"raj\" + 0.000*\"bridges\" + 0.000*\"millet\" + 0.000*\"grouped\" + 0.000*\"converged\" + 0.000*\"labyrinths\" + 0.000*\"motley\" + 0.000*\"craftily\" + 0.000*\"badly-trimmed\"'),\n",
       " (17,\n",
       "  '0.000*\"truce\" + 0.000*\"blaze\" + 0.000*\"craftily\" + 0.000*\"grouped\" + 0.000*\"alice\" + 0.000*\"varnished\" + 0.000*\"badly-trimmed\" + 0.000*\"near\" + 0.000*\"supererogatory\" + 0.000*\"raj\"'),\n",
       " (18,\n",
       "  '0.013*\"wiser\" + 0.007*\"motley\" + 0.005*\"sea-fog\" + 0.005*\"asserting\" + 0.005*\"indicated\" + 0.004*\"resemblance\" + 0.004*\"fodder\" + 0.004*\"millet\" + 0.004*\"blaze\" + 0.004*\"approach\"'),\n",
       " (19,\n",
       "  '0.000*\"cannon-ball\" + 0.000*\"converged\" + 0.000*\"egg\" + 0.000*\"grouped\" + 0.000*\"inconceivable\" + 0.000*\"truce\" + 0.000*\"elkanah\" + 0.000*\"motley\" + 0.000*\"neglected\" + 0.000*\"humiliation\"')]"
      ]
     },
     "execution_count": 23,
     "metadata": {},
     "output_type": "execute_result"
    },
    {
     "name": "stderr",
     "output_type": "stream",
     "text": [
      "/usr/lib/python3.5/json/encoder.py:198: DeprecationWarning: Interpreting naive datetime as local 2017-04-02 13:47:21.622398. Please add timezone info to timestamps.\n",
      "  chunks = self.iterencode(o, _one_shot=True)\n"
     ]
    }
   ],
   "source": [
    "#Topic probabilities\n",
    "topics = model.show_topics(num_topics = 40)\n",
    "topics"
   ]
  },
  {
   "cell_type": "code",
   "execution_count": 24,
   "metadata": {
    "collapsed": false,
    "deletable": true,
    "editable": true
   },
   "outputs": [
    {
     "name": "stderr",
     "output_type": "stream",
     "text": [
      "/usr/lib/python3.5/json/encoder.py:198: DeprecationWarning: Interpreting naive datetime as local 2017-04-02 13:47:21.642119. Please add timezone info to timestamps.\n",
      "  chunks = self.iterencode(o, _one_shot=True)\n"
     ]
    }
   ],
   "source": [
    "import pandas as pd\n",
    "import regex as re\n",
    "def gensim2dataframe(model):\n",
    "    num_topics = model.num_topics\n",
    "    topics_df = pd.DataFrame(index = range(num_topics), columns= range(10))\n",
    "\n",
    "    topics = model.show_topics(num_topics)\n",
    "    \n",
    "    for topic_dist in topics:    \n",
    "        idx = topic_dist[0]\n",
    "        temp = re.findall(r'\\\"(.+?)\\\"', topics[idx][1])\n",
    "        topics_df.loc[idx] = temp\n",
    "    \n",
    "    return topics_df"
   ]
  },
  {
   "cell_type": "code",
   "execution_count": 25,
   "metadata": {
    "collapsed": false,
    "deletable": true,
    "editable": true
   },
   "outputs": [
    {
     "name": "stderr",
     "output_type": "stream",
     "text": [
      "/usr/lib/python3.5/json/encoder.py:198: DeprecationWarning: Interpreting naive datetime as local 2017-04-02 13:47:21.656176. Please add timezone info to timestamps.\n",
      "  chunks = self.iterencode(o, _one_shot=True)\n"
     ]
    }
   ],
   "source": [
    "topics_df = gensim2dataframe(model)"
   ]
  },
  {
   "cell_type": "code",
   "execution_count": 26,
   "metadata": {
    "collapsed": false,
    "deletable": true,
    "editable": true
   },
   "outputs": [
    {
     "data": {
      "text/html": [
       "<div>\n",
       "<table border=\"1\" class=\"dataframe\">\n",
       "  <thead>\n",
       "    <tr style=\"text-align: right;\">\n",
       "      <th></th>\n",
       "      <th>0</th>\n",
       "      <th>1</th>\n",
       "      <th>2</th>\n",
       "      <th>3</th>\n",
       "      <th>4</th>\n",
       "      <th>5</th>\n",
       "      <th>6</th>\n",
       "      <th>7</th>\n",
       "      <th>8</th>\n",
       "      <th>9</th>\n",
       "      <th>10</th>\n",
       "      <th>11</th>\n",
       "      <th>12</th>\n",
       "      <th>13</th>\n",
       "      <th>14</th>\n",
       "      <th>15</th>\n",
       "      <th>16</th>\n",
       "      <th>17</th>\n",
       "      <th>18</th>\n",
       "      <th>19</th>\n",
       "    </tr>\n",
       "  </thead>\n",
       "  <tbody>\n",
       "    <tr>\n",
       "      <th>0</th>\n",
       "      <td>supererogatory</td>\n",
       "      <td>converged</td>\n",
       "      <td>flattened</td>\n",
       "      <td>flattened</td>\n",
       "      <td>generated</td>\n",
       "      <td>hoards</td>\n",
       "      <td>motley</td>\n",
       "      <td>instructive</td>\n",
       "      <td>elkanah</td>\n",
       "      <td>badly-trimmed</td>\n",
       "      <td>motley</td>\n",
       "      <td>sake</td>\n",
       "      <td>badly-trimmed</td>\n",
       "      <td>neglected</td>\n",
       "      <td>cannon-ball</td>\n",
       "      <td>converged</td>\n",
       "      <td>blaze</td>\n",
       "      <td>truce</td>\n",
       "      <td>wiser</td>\n",
       "      <td>cannon-ball</td>\n",
       "    </tr>\n",
       "    <tr>\n",
       "      <th>1</th>\n",
       "      <td>cannon-ball</td>\n",
       "      <td>cellar</td>\n",
       "      <td>near</td>\n",
       "      <td>celebrated</td>\n",
       "      <td>bristling</td>\n",
       "      <td>monkey</td>\n",
       "      <td>waiter</td>\n",
       "      <td>pips</td>\n",
       "      <td>cannon-ball</td>\n",
       "      <td>near</td>\n",
       "      <td>craftily</td>\n",
       "      <td>opposable</td>\n",
       "      <td>near</td>\n",
       "      <td>chewing</td>\n",
       "      <td>neglected</td>\n",
       "      <td>inconceivable</td>\n",
       "      <td>raj</td>\n",
       "      <td>blaze</td>\n",
       "      <td>motley</td>\n",
       "      <td>converged</td>\n",
       "    </tr>\n",
       "    <tr>\n",
       "      <th>2</th>\n",
       "      <td>truce</td>\n",
       "      <td>letzten</td>\n",
       "      <td>guessed</td>\n",
       "      <td>debris</td>\n",
       "      <td>inky</td>\n",
       "      <td>near</td>\n",
       "      <td>chimney-piece</td>\n",
       "      <td>amuses</td>\n",
       "      <td>converged</td>\n",
       "      <td>supererogatory</td>\n",
       "      <td>truce</td>\n",
       "      <td>wiser</td>\n",
       "      <td>fernandez</td>\n",
       "      <td>supererogatory</td>\n",
       "      <td>blaze</td>\n",
       "      <td>cannon-ball</td>\n",
       "      <td>bridges</td>\n",
       "      <td>craftily</td>\n",
       "      <td>sea-fog</td>\n",
       "      <td>egg</td>\n",
       "    </tr>\n",
       "    <tr>\n",
       "      <th>3</th>\n",
       "      <td>blaze</td>\n",
       "      <td>one-dash</td>\n",
       "      <td>clubbed</td>\n",
       "      <td>near</td>\n",
       "      <td>badly-trimmed</td>\n",
       "      <td>chosen</td>\n",
       "      <td>visage</td>\n",
       "      <td>supererogatory</td>\n",
       "      <td>throat-muscles</td>\n",
       "      <td>converged</td>\n",
       "      <td>millet</td>\n",
       "      <td>motley</td>\n",
       "      <td>truce</td>\n",
       "      <td>blaze</td>\n",
       "      <td>inconceivable</td>\n",
       "      <td>undertook</td>\n",
       "      <td>millet</td>\n",
       "      <td>grouped</td>\n",
       "      <td>asserting</td>\n",
       "      <td>grouped</td>\n",
       "    </tr>\n",
       "    <tr>\n",
       "      <th>4</th>\n",
       "      <td>resemblance</td>\n",
       "      <td>inconceivable</td>\n",
       "      <td>acquainted</td>\n",
       "      <td>blaze</td>\n",
       "      <td>fernandez</td>\n",
       "      <td>aaarh</td>\n",
       "      <td>frankland</td>\n",
       "      <td>tortuously</td>\n",
       "      <td>crete</td>\n",
       "      <td>throat-muscles</td>\n",
       "      <td>raj</td>\n",
       "      <td>supererogatory</td>\n",
       "      <td>neglected</td>\n",
       "      <td>near</td>\n",
       "      <td>converged</td>\n",
       "      <td>clinical</td>\n",
       "      <td>grouped</td>\n",
       "      <td>alice</td>\n",
       "      <td>indicated</td>\n",
       "      <td>inconceivable</td>\n",
       "    </tr>\n",
       "    <tr>\n",
       "      <th>5</th>\n",
       "      <td>lull</td>\n",
       "      <td>guts-of</td>\n",
       "      <td>converged</td>\n",
       "      <td>badly-trimmed</td>\n",
       "      <td>incrustation</td>\n",
       "      <td>clubbed</td>\n",
       "      <td>mitral</td>\n",
       "      <td>bandanna</td>\n",
       "      <td>egg</td>\n",
       "      <td>humiliation</td>\n",
       "      <td>cannon-ball</td>\n",
       "      <td>blaze</td>\n",
       "      <td>resemblance</td>\n",
       "      <td>cannon-ball</td>\n",
       "      <td>craftily</td>\n",
       "      <td>eastern</td>\n",
       "      <td>converged</td>\n",
       "      <td>varnished</td>\n",
       "      <td>resemblance</td>\n",
       "      <td>truce</td>\n",
       "    </tr>\n",
       "    <tr>\n",
       "      <th>6</th>\n",
       "      <td>craftily</td>\n",
       "      <td>immemorial</td>\n",
       "      <td>hurrying</td>\n",
       "      <td>clubbed</td>\n",
       "      <td>alice</td>\n",
       "      <td>raj</td>\n",
       "      <td>lull</td>\n",
       "      <td>sssso</td>\n",
       "      <td>yorkshire</td>\n",
       "      <td>blaze</td>\n",
       "      <td>guts-of</td>\n",
       "      <td>grouped</td>\n",
       "      <td>varnished</td>\n",
       "      <td>humiliation</td>\n",
       "      <td>bridges</td>\n",
       "      <td>watchful</td>\n",
       "      <td>labyrinths</td>\n",
       "      <td>badly-trimmed</td>\n",
       "      <td>fodder</td>\n",
       "      <td>elkanah</td>\n",
       "    </tr>\n",
       "    <tr>\n",
       "      <th>7</th>\n",
       "      <td>motley</td>\n",
       "      <td>seventy</td>\n",
       "      <td>bachelor</td>\n",
       "      <td>presumed</td>\n",
       "      <td>angell</td>\n",
       "      <td>ts</td>\n",
       "      <td>resemblance</td>\n",
       "      <td>lull</td>\n",
       "      <td>labyrinths</td>\n",
       "      <td>varnished</td>\n",
       "      <td>bridges</td>\n",
       "      <td>humiliation</td>\n",
       "      <td>blaze</td>\n",
       "      <td>waiter</td>\n",
       "      <td>truce</td>\n",
       "      <td>visage</td>\n",
       "      <td>motley</td>\n",
       "      <td>near</td>\n",
       "      <td>millet</td>\n",
       "      <td>motley</td>\n",
       "    </tr>\n",
       "    <tr>\n",
       "      <th>8</th>\n",
       "      <td>near</td>\n",
       "      <td>rescuers</td>\n",
       "      <td>mitra</td>\n",
       "      <td>vaulted</td>\n",
       "      <td>varnished</td>\n",
       "      <td>cæsar’s</td>\n",
       "      <td>grouped</td>\n",
       "      <td>blaze</td>\n",
       "      <td>near</td>\n",
       "      <td>millet</td>\n",
       "      <td>waved</td>\n",
       "      <td>raj</td>\n",
       "      <td>supererogatory</td>\n",
       "      <td>millet</td>\n",
       "      <td>motley</td>\n",
       "      <td>wented</td>\n",
       "      <td>craftily</td>\n",
       "      <td>supererogatory</td>\n",
       "      <td>blaze</td>\n",
       "      <td>neglected</td>\n",
       "    </tr>\n",
       "    <tr>\n",
       "      <th>9</th>\n",
       "      <td>chimney-piece</td>\n",
       "      <td>refolded</td>\n",
       "      <td>throat-muscles</td>\n",
       "      <td>monthly</td>\n",
       "      <td>humiliation</td>\n",
       "      <td>blaze</td>\n",
       "      <td>forty-pounder</td>\n",
       "      <td>puncheons</td>\n",
       "      <td>blaze</td>\n",
       "      <td>craftily</td>\n",
       "      <td>mustache</td>\n",
       "      <td>varnished</td>\n",
       "      <td>bridges</td>\n",
       "      <td>raj</td>\n",
       "      <td>undertook</td>\n",
       "      <td>recognizing</td>\n",
       "      <td>badly-trimmed</td>\n",
       "      <td>raj</td>\n",
       "      <td>approach</td>\n",
       "      <td>humiliation</td>\n",
       "    </tr>\n",
       "  </tbody>\n",
       "</table>\n",
       "</div>"
      ],
      "text/plain": [
       "               0              1               2              3   \\\n",
       "0  supererogatory      converged       flattened      flattened   \n",
       "1     cannon-ball         cellar            near     celebrated   \n",
       "2           truce        letzten         guessed         debris   \n",
       "3           blaze       one-dash         clubbed           near   \n",
       "4     resemblance  inconceivable      acquainted          blaze   \n",
       "5            lull        guts-of       converged  badly-trimmed   \n",
       "6        craftily     immemorial        hurrying        clubbed   \n",
       "7          motley        seventy        bachelor       presumed   \n",
       "8            near       rescuers           mitra        vaulted   \n",
       "9   chimney-piece       refolded  throat-muscles        monthly   \n",
       "\n",
       "              4        5              6               7               8   \\\n",
       "0      generated   hoards         motley     instructive         elkanah   \n",
       "1      bristling   monkey         waiter            pips     cannon-ball   \n",
       "2           inky     near  chimney-piece          amuses       converged   \n",
       "3  badly-trimmed   chosen         visage  supererogatory  throat-muscles   \n",
       "4      fernandez    aaarh      frankland      tortuously           crete   \n",
       "5   incrustation  clubbed         mitral        bandanna             egg   \n",
       "6          alice      raj           lull           sssso       yorkshire   \n",
       "7         angell       ts    resemblance            lull      labyrinths   \n",
       "8      varnished  cæsar’s        grouped           blaze            near   \n",
       "9    humiliation    blaze  forty-pounder       puncheons           blaze   \n",
       "\n",
       "               9            10              11              12  \\\n",
       "0   badly-trimmed       motley            sake   badly-trimmed   \n",
       "1            near     craftily       opposable            near   \n",
       "2  supererogatory        truce           wiser       fernandez   \n",
       "3       converged       millet          motley           truce   \n",
       "4  throat-muscles          raj  supererogatory       neglected   \n",
       "5     humiliation  cannon-ball           blaze     resemblance   \n",
       "6           blaze      guts-of         grouped       varnished   \n",
       "7       varnished      bridges     humiliation           blaze   \n",
       "8          millet        waved             raj  supererogatory   \n",
       "9        craftily     mustache       varnished         bridges   \n",
       "\n",
       "               13             14             15             16  \\\n",
       "0       neglected    cannon-ball      converged          blaze   \n",
       "1         chewing      neglected  inconceivable            raj   \n",
       "2  supererogatory          blaze    cannon-ball        bridges   \n",
       "3           blaze  inconceivable      undertook         millet   \n",
       "4            near      converged       clinical        grouped   \n",
       "5     cannon-ball       craftily        eastern      converged   \n",
       "6     humiliation        bridges       watchful     labyrinths   \n",
       "7          waiter          truce         visage         motley   \n",
       "8          millet         motley         wented       craftily   \n",
       "9             raj      undertook    recognizing  badly-trimmed   \n",
       "\n",
       "               17           18             19  \n",
       "0           truce        wiser    cannon-ball  \n",
       "1           blaze       motley      converged  \n",
       "2        craftily      sea-fog            egg  \n",
       "3         grouped    asserting        grouped  \n",
       "4           alice    indicated  inconceivable  \n",
       "5       varnished  resemblance          truce  \n",
       "6   badly-trimmed       fodder        elkanah  \n",
       "7            near       millet         motley  \n",
       "8  supererogatory        blaze      neglected  \n",
       "9             raj     approach    humiliation  "
      ]
     },
     "execution_count": 26,
     "metadata": {},
     "output_type": "execute_result"
    },
    {
     "name": "stderr",
     "output_type": "stream",
     "text": [
      "/usr/lib/python3.5/json/encoder.py:198: DeprecationWarning: Interpreting naive datetime as local 2017-04-02 13:47:21.681619. Please add timezone info to timestamps.\n",
      "  chunks = self.iterencode(o, _one_shot=True)\n"
     ]
    }
   ],
   "source": [
    "doc_topic = topics_df.T\n",
    "doc_topic"
   ]
  },
  {
   "cell_type": "markdown",
   "metadata": {
    "deletable": true,
    "editable": true
   },
   "source": [
    "## Visualisierung "
   ]
  },
  {
   "cell_type": "code",
   "execution_count": 27,
   "metadata": {
    "collapsed": false,
    "deletable": true,
    "editable": true
   },
   "outputs": [
    {
     "data": {
      "text/plain": [
       "\"lda_model = 'out_easy/corpus.lda'\\ncorpus = 'out_easy/corpus.mm'\\ndictionary = 'out_easy/corpus.dict'\\ndoc_labels = 'out_easy/corpus_doclabels.txt'\\ninteractive  = False\\n\\nvis = visual.Visualization(lda_model, corpus, dictionary, doc_labels, interactive)\""
      ]
     },
     "execution_count": 27,
     "metadata": {},
     "output_type": "execute_result"
    },
    {
     "name": "stderr",
     "output_type": "stream",
     "text": [
      "/usr/lib/python3.5/json/encoder.py:198: DeprecationWarning: Interpreting naive datetime as local 2017-04-02 13:47:21.715104. Please add timezone info to timestamps.\n",
      "  chunks = self.iterencode(o, _one_shot=True)\n"
     ]
    }
   ],
   "source": [
    "'''lda_model = 'out_easy/corpus.lda'\n",
    "corpus = 'out_easy/corpus.mm'\n",
    "dictionary = 'out_easy/corpus.dict'\n",
    "doc_labels = 'out_easy/corpus_doclabels.txt'\n",
    "interactive  = False\n",
    "\n",
    "vis = visual.Visualization(lda_model, corpus, dictionary, doc_labels, interactive)'''"
   ]
  },
  {
   "cell_type": "markdown",
   "metadata": {
    "deletable": true,
    "editable": true
   },
   "source": [
    "##### Create a document-topic matrix (that is a pandas data frame actually)"
   ]
  },
  {
   "cell_type": "code",
   "execution_count": 28,
   "metadata": {
    "collapsed": false,
    "deletable": true,
    "editable": true
   },
   "outputs": [
    {
     "name": "stderr",
     "output_type": "stream",
     "text": [
      "/usr/lib/python3.5/json/encoder.py:198: DeprecationWarning: Interpreting naive datetime as local 2017-04-02 13:47:21.725233. Please add timezone info to timestamps.\n",
      "  chunks = self.iterencode(o, _one_shot=True)\n"
     ]
    }
   ],
   "source": [
    "doc_topic = visual.create_doc_topic(mm, model, doc_labels)"
   ]
  },
  {
   "cell_type": "markdown",
   "metadata": {
    "deletable": true,
    "editable": true
   },
   "source": [
    "##### Visualize document-topic matrix"
   ]
  },
  {
   "cell_type": "code",
   "execution_count": 29,
   "metadata": {
    "collapsed": false,
    "deletable": true,
    "editable": true
   },
   "outputs": [
    {
     "data": {
      "text/plain": [
       "<module 'matplotlib.pyplot' from '/home/sina/.local/lib/python3.5/site-packages/matplotlib/pyplot.py'>"
      ]
     },
     "execution_count": 29,
     "metadata": {},
     "output_type": "execute_result"
    },
    {
     "data": {
      "image/png": "[encoded data removed]",
      "text/plain": [
       "<matplotlib.figure.Figure at 0x7f69b2358c50>"
      ]
     },
     "metadata": {},
     "output_type": "display_data"
    },
    {
     "name": "stderr",
     "output_type": "stream",
     "text": [
      "/usr/lib/python3.5/json/encoder.py:198: DeprecationWarning: Interpreting naive datetime as local 2017-04-02 13:47:21.967807. Please add timezone info to timestamps.\n",
      "  chunks = self.iterencode(o, _one_shot=True)\n"
     ]
    }
   ],
   "source": [
    "%matplotlib inline\n",
    "visual.doc_topic_heatmap(doc_topic)"
   ]
  },
  {
   "cell_type": "markdown",
   "metadata": {
    "deletable": true,
    "editable": true
   },
   "source": [
    "##### Visualize topic distribution in a single document"
   ]
  },
  {
   "cell_type": "code",
   "execution_count": 30,
   "metadata": {
    "collapsed": false,
    "deletable": true,
    "editable": true
   },
   "outputs": [
    {
     "data": {
      "text/plain": [
       "<module 'matplotlib.pyplot' from '/home/sina/.local/lib/python3.5/site-packages/matplotlib/pyplot.py'>"
      ]
     },
     "execution_count": 30,
     "metadata": {},
     "output_type": "execute_result"
    },
    {
     "data": {
      "image/png": "[encoded data removed]",
      "text/plain": [
       "<matplotlib.figure.Figure at 0x7f69b2e1ca20>"
      ]
     },
     "metadata": {},
     "output_type": "display_data"
    },
    {
     "name": "stderr",
     "output_type": "stream",
     "text": [
      "/usr/lib/python3.5/json/encoder.py:198: DeprecationWarning: Interpreting naive datetime as local 2017-04-02 13:47:22.305142. Please add timezone info to timestamps.\n",
      "  chunks = self.iterencode(o, _one_shot=True)\n"
     ]
    }
   ],
   "source": [
    "visual.plot_doc_topics(doc_topic, 0)"
   ]
  },
  {
   "cell_type": "markdown",
   "metadata": {
    "collapsed": true,
    "deletable": true,
    "editable": true
   },
   "source": [
    "![success](http://cdn2.hubspot.net/hub/128506/file-446943132-jpg/images/computer_woman_success.jpg)"
   ]
  }
 ],
 "metadata": {
  "kernelspec": {
   "display_name": "Python 3",
   "language": "python",
   "name": "python3"
  },
  "language_info": {
   "codemirror_mode": {
    "name": "ipython",
    "version": 3
   },
   "file_extension": ".py",
   "mimetype": "text/x-python",
   "name": "python",
   "nbconvert_exporter": "python",
   "pygments_lexer": "ipython3",
   "version": "3.5.2"
  }
 },
 "nbformat": 4,
 "nbformat_minor": 0
}
