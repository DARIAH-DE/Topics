{
 "cells": [
  {
   "cell_type": "code",
   "execution_count": 1,
   "metadata": {
    "collapsed": false
   },
   "outputs": [
    {
     "name": "stderr",
     "output_type": "stream",
     "text": [
      "c:\\users\\philip\\appdata\\local\\programs\\python\\python35-32\\lib\\site-packages\\gensim\\utils.py:855: UserWarning: detected Windows; aliasing chunkize to chunkize_serial\n",
      "  warnings.warn(\"detected Windows; aliasing chunkize to chunkize_serial\")\n",
      "c:\\users\\philip\\appdata\\local\\programs\\python\\python35-32\\lib\\site-packages\\funcy\\decorators.py:56: DeprecationWarning: inspect.getargspec() is deprecated, use inspect.signature() instead\n",
      "  spec = inspect.getargspec(func)\n",
      "c:\\users\\philip\\appdata\\local\\programs\\python\\python35-32\\lib\\site-packages\\funcy\\decorators.py:56: DeprecationWarning: inspect.getargspec() is deprecated, use inspect.signature() instead\n",
      "  spec = inspect.getargspec(func)\n",
      "c:\\users\\philip\\appdata\\local\\programs\\python\\python35-32\\lib\\site-packages\\funcy\\decorators.py:56: DeprecationWarning: inspect.getargspec() is deprecated, use inspect.signature() instead\n",
      "  spec = inspect.getargspec(func)\n",
      "c:\\users\\philip\\appdata\\local\\programs\\python\\python35-32\\lib\\site-packages\\funcy\\decorators.py:56: DeprecationWarning: inspect.getargspec() is deprecated, use inspect.signature() instead\n",
      "  spec = inspect.getargspec(func)\n",
      "c:\\users\\philip\\appdata\\local\\programs\\python\\python35-32\\lib\\site-packages\\funcy\\decorators.py:56: DeprecationWarning: inspect.getargspec() is deprecated, use inspect.signature() instead\n",
      "  spec = inspect.getargspec(func)\n",
      "c:\\users\\philip\\appdata\\local\\programs\\python\\python35-32\\lib\\site-packages\\funcy\\decorators.py:56: DeprecationWarning: inspect.getargspec() is deprecated, use inspect.signature() instead\n",
      "  spec = inspect.getargspec(func)\n"
     ]
    }
   ],
   "source": [
    "from dariah_topics import preprocessing as pre\n",
    "from dariah_topics import visualization as visual\n",
    "from dariah_topics import evaluation"
   ]
  },
  {
   "cell_type": "markdown",
   "metadata": {},
   "source": [
    "## Preprocessing"
   ]
  },
  {
   "cell_type": "markdown",
   "metadata": {},
   "source": [
    "#### Liste mit Dateinamen erzeugen"
   ]
  },
  {
   "cell_type": "code",
   "execution_count": 2,
   "metadata": {
    "collapsed": false
   },
   "outputs": [
    {
     "name": "stderr",
     "output_type": "stream",
     "text": [
      "c:\\users\\philip\\appdata\\local\\programs\\python\\python35-32\\lib\\site-packages\\IPython\\core\\formatters.py:92: DeprecationWarning: DisplayFormatter._ipython_display_formatter_default is deprecated: use @default decorator instead.\n",
      "  def _ipython_display_formatter_default(self):\n",
      "c:\\users\\philip\\appdata\\local\\programs\\python\\python35-32\\lib\\site-packages\\IPython\\core\\formatters.py:98: DeprecationWarning: DisplayFormatter._formatters_default is deprecated: use @default decorator instead.\n",
      "  def _formatters_default(self):\n",
      "c:\\users\\philip\\appdata\\local\\programs\\python\\python35-32\\lib\\site-packages\\IPython\\core\\formatters.py:677: DeprecationWarning: PlainTextFormatter._deferred_printers_default is deprecated: use @default decorator instead.\n",
      "  def _deferred_printers_default(self):\n",
      "c:\\users\\philip\\appdata\\local\\programs\\python\\python35-32\\lib\\site-packages\\IPython\\core\\formatters.py:669: DeprecationWarning: PlainTextFormatter._singleton_printers_default is deprecated: use @default decorator instead.\n",
      "  def _singleton_printers_default(self):\n",
      "c:\\users\\philip\\appdata\\local\\programs\\python\\python35-32\\lib\\site-packages\\IPython\\core\\formatters.py:672: DeprecationWarning: PlainTextFormatter._type_printers_default is deprecated: use @default decorator instead.\n",
      "  def _type_printers_default(self):\n",
      "c:\\users\\philip\\appdata\\local\\programs\\python\\python35-32\\lib\\site-packages\\IPython\\core\\formatters.py:669: DeprecationWarning: PlainTextFormatter._singleton_printers_default is deprecated: use @default decorator instead.\n",
      "  def _singleton_printers_default(self):\n",
      "c:\\users\\philip\\appdata\\local\\programs\\python\\python35-32\\lib\\site-packages\\IPython\\core\\formatters.py:672: DeprecationWarning: PlainTextFormatter._type_printers_default is deprecated: use @default decorator instead.\n",
      "  def _type_printers_default(self):\n",
      "c:\\users\\philip\\appdata\\local\\programs\\python\\python35-32\\lib\\site-packages\\IPython\\core\\formatters.py:677: DeprecationWarning: PlainTextFormatter._deferred_printers_default is deprecated: use @default decorator instead.\n",
      "  def _deferred_printers_default(self):\n"
     ]
    },
    {
     "data": {
      "text/plain": [
       "['corpus_txt\\\\Doyle_AScandalinBohemia.txt',\n",
       " 'corpus_txt\\\\Doyle_AStudyinScarlet.txt',\n",
       " 'corpus_txt\\\\Doyle_TheHoundoftheBaskervilles.txt',\n",
       " 'corpus_txt\\\\Doyle_TheSignoftheFour.txt',\n",
       " 'corpus_txt\\\\Howard_GodsoftheNorth.txt']"
      ]
     },
     "execution_count": 2,
     "metadata": {},
     "output_type": "execute_result"
    }
   ],
   "source": [
    "path_txt = \"corpus_txt\"\n",
    "#path_txt = \"grenzbote_plain/*/\"\n",
    "#path_txt = \"wiki/\"\n",
    "\n",
    "doclist_txt = pre.create_document_list(path_txt)\n",
    "assert doclist_txt, \"No documents found\"\n",
    "doclist_txt[:5]"
   ]
  },
  {
   "cell_type": "markdown",
   "metadata": {},
   "source": [
    "#####  Liste mit Dokumentenlabels erzeugen - (Funktion wird durch Thorsten's generischere Funktion ersetzt)"
   ]
  },
  {
   "cell_type": "code",
   "execution_count": 3,
   "metadata": {
    "collapsed": false
   },
   "outputs": [
    {
     "data": {
      "text/plain": [
       "['Doyle_AScandalinBohemia',\n",
       " 'Doyle_AStudyinScarlet',\n",
       " 'Doyle_TheHoundoftheBaskervilles',\n",
       " 'Doyle_TheSignoftheFour',\n",
       " 'Howard_GodsoftheNorth']"
      ]
     },
     "execution_count": 3,
     "metadata": {},
     "output_type": "execute_result"
    }
   ],
   "source": [
    "doc_labels = list(pre.get_labels(doclist_txt))\n",
    "doc_labels[:5]"
   ]
  },
  {
   "cell_type": "markdown",
   "metadata": {},
   "source": [
    "#### Corpus laden"
   ]
  },
  {
   "cell_type": "code",
   "execution_count": 4,
   "metadata": {
    "collapsed": false
   },
   "outputs": [],
   "source": [
    "corpus_txt = pre.read_from_txt(doclist_txt)"
   ]
  },
  {
   "cell_type": "markdown",
   "metadata": {},
   "source": [
    "#### Tokenisieren"
   ]
  },
  {
   "cell_type": "code",
   "execution_count": 5,
   "metadata": {
    "collapsed": false
   },
   "outputs": [],
   "source": [
    "doc_tokens = [list(pre.tokenize(txt)) for txt in list(corpus_txt)]"
   ]
  },
  {
   "cell_type": "markdown",
   "metadata": {},
   "source": [
    "#### Create Dictionaries"
   ]
  },
  {
   "cell_type": "code",
   "execution_count": 6,
   "metadata": {
    "collapsed": false
   },
   "outputs": [],
   "source": [
    "id_types, doc_ids = pre.create_dictionaries(doc_labels, doc_tokens)"
   ]
  },
  {
   "cell_type": "markdown",
   "metadata": {},
   "source": [
    "#### Sparse BOW Model"
   ]
  },
  {
   "cell_type": "code",
   "execution_count": 7,
   "metadata": {
    "collapsed": false
   },
   "outputs": [],
   "source": [
    "sparse_bow = pre.create_mm(doc_labels, doc_tokens, id_types, doc_ids)"
   ]
  },
  {
   "cell_type": "code",
   "execution_count": 8,
   "metadata": {
    "collapsed": false
   },
   "outputs": [
    {
     "data": {
      "text/html": [
       "<div>\n",
       "<table border=\"1\" class=\"dataframe\">\n",
       "  <thead>\n",
       "    <tr style=\"text-align: right;\">\n",
       "      <th></th>\n",
       "      <th></th>\n",
       "      <th>0</th>\n",
       "    </tr>\n",
       "    <tr>\n",
       "      <th>doc_id</th>\n",
       "      <th>token_id</th>\n",
       "      <th></th>\n",
       "    </tr>\n",
       "  </thead>\n",
       "  <tbody>\n",
       "    <tr>\n",
       "      <th rowspan=\"5\" valign=\"top\">1</th>\n",
       "      <th>8193</th>\n",
       "      <td>2</td>\n",
       "    </tr>\n",
       "    <tr>\n",
       "      <th>16912</th>\n",
       "      <td>1</td>\n",
       "    </tr>\n",
       "    <tr>\n",
       "      <th>4102</th>\n",
       "      <td>1</td>\n",
       "    </tr>\n",
       "    <tr>\n",
       "      <th>8199</th>\n",
       "      <td>27</td>\n",
       "    </tr>\n",
       "    <tr>\n",
       "      <th>9</th>\n",
       "      <td>4</td>\n",
       "    </tr>\n",
       "  </tbody>\n",
       "</table>\n",
       "</div>"
      ],
      "text/plain": [
       "                  0\n",
       "doc_id token_id    \n",
       "1      8193       2\n",
       "       16912      1\n",
       "       4102       1\n",
       "       8199      27\n",
       "       9          4"
      ]
     },
     "execution_count": 8,
     "metadata": {},
     "output_type": "execute_result"
    }
   ],
   "source": [
    "sparse_bow[:5]"
   ]
  },
  {
   "cell_type": "markdown",
   "metadata": {},
   "source": [
    "## Topic Modeling with Gensim"
   ]
  },
  {
   "cell_type": "markdown",
   "metadata": {},
   "source": [
    "##### Saving Sparse BOW"
   ]
  },
  {
   "cell_type": "code",
   "execution_count": 9,
   "metadata": {
    "collapsed": false
   },
   "outputs": [],
   "source": [
    "pre.save_bow_mm(sparse_bow, \"gensim_txt\")"
   ]
  },
  {
   "cell_type": "markdown",
   "metadata": {},
   "source": [
    "#### Import Market Matrix"
   ]
  },
  {
   "cell_type": "code",
   "execution_count": 10,
   "metadata": {
    "collapsed": true
   },
   "outputs": [],
   "source": [
    "from gensim.models import LdaModel\n",
    "from gensim.corpora import MmCorpus"
   ]
  },
  {
   "cell_type": "code",
   "execution_count": 11,
   "metadata": {
    "collapsed": false
   },
   "outputs": [],
   "source": [
    "mm = MmCorpus(\"gensim_txt.mm\")"
   ]
  },
  {
   "cell_type": "code",
   "execution_count": 12,
   "metadata": {
    "collapsed": false
   },
   "outputs": [],
   "source": [
    "doc2id = {value : key for key, value in doc_ids.items()}\n",
    "type2id = {value : key for key, value in id_types.items()}"
   ]
  },
  {
   "cell_type": "markdown",
   "metadata": {},
   "source": [
    "##### Remove Features"
   ]
  },
  {
   "cell_type": "markdown",
   "metadata": {},
   "source": [
    "type2id = {value : key for key, value in id_types.items()}\n",
    "sparse_bow_collapsed = sparse_bow.groupby(sparse_bow.index.get_level_values('token_id')).sum()"
   ]
  },
  {
   "cell_type": "markdown",
   "metadata": {},
   "source": [
    "sparse_bow_hapax = sparse_bow_collapsed.loc[sparse_bow_collapsed[0] == 1]\n",
    "hapax = [type2id[key] for key in sparse_bow_hapax.index.get_level_values('token_id')]"
   ]
  },
  {
   "cell_type": "markdown",
   "metadata": {},
   "source": [
    "len(hapax)"
   ]
  },
  {
   "cell_type": "code",
   "execution_count": 13,
   "metadata": {
    "collapsed": true
   },
   "outputs": [],
   "source": [
    "import os.path\n",
    "basepath = os.path.abspath('.')\n",
    "\n",
    "with open(os.path.join(basepath, \"tutorial_supplementals\", \"stopwords\", \"de.txt\"), 'r', encoding = 'utf-8') as f: \n",
    "    stopword_list = f.read().split('\\n')\n",
    "    \n",
    "stopword_list = set(stopword_list)"
   ]
  },
  {
   "cell_type": "code",
   "execution_count": 14,
   "metadata": {
    "collapsed": false
   },
   "outputs": [],
   "source": [
    "hapax_from_remove = pre.find_hapax(sparse_bow, id_types)\n",
    "stopwords_from_remove = pre.find_stopwords(sparse_bow, id_types, mfw=75)\n",
    "\n",
    "#features_to_be_removed = set(hapax_from_remove + stopwords_from_remove)\n",
    "features_to_be_removed = stopwords_from_remove\n",
    "\n",
    "sparse_bow_short = pre.remove_features(sparse_bow, id_types, features_to_be_removed)"
   ]
  },
  {
   "cell_type": "code",
   "execution_count": 15,
   "metadata": {
    "collapsed": false
   },
   "outputs": [
    {
     "data": {
      "text/plain": [
       "75"
      ]
     },
     "execution_count": 15,
     "metadata": {},
     "output_type": "execute_result"
    }
   ],
   "source": [
    "len(features_to_be_removed)"
   ]
  },
  {
   "cell_type": "code",
   "execution_count": 16,
   "metadata": {
    "collapsed": false
   },
   "outputs": [],
   "source": [
    "pre.save_bow_mm(sparse_bow_short, \"gensim_txt\")"
   ]
  },
  {
   "cell_type": "code",
   "execution_count": 17,
   "metadata": {
    "collapsed": true
   },
   "outputs": [],
   "source": [
    "mm = MmCorpus(\"gensim_txt.mm\")"
   ]
  },
  {
   "cell_type": "markdown",
   "metadata": {},
   "source": [
    "#### Convert sparse_bow to list of (doc, tokens) tuples (like doc2bow)"
   ]
  },
  {
   "cell_type": "code",
   "execution_count": 18,
   "metadata": {
    "collapsed": false
   },
   "outputs": [],
   "source": [
    "doc2bow_list = []\n",
    "\n",
    "for doc in sparse_bow_short.index.groupby(sparse_bow_short.index.get_level_values('doc_id')):\n",
    "    temp = [(token, count) for token, count in zip(sparse_bow_short.loc[doc].index, sparse_bow_short.loc[doc][0])]\n",
    "    doc2bow_list.append(temp)"
   ]
  },
  {
   "cell_type": "code",
   "execution_count": 19,
   "metadata": {
    "collapsed": false
   },
   "outputs": [
    {
     "data": {
      "text/plain": [
       "17"
      ]
     },
     "execution_count": 19,
     "metadata": {},
     "output_type": "execute_result"
    }
   ],
   "source": [
    "len(doc2bow_list)"
   ]
  },
  {
   "cell_type": "code",
   "execution_count": 20,
   "metadata": {
    "collapsed": false
   },
   "outputs": [],
   "source": [
    "#model = LdaModel(corpus=mm, id2word=type2id, num_topics=60, alpha = \"symmetric\", passes = 10) #import momentan in visual \n",
    "# -> da ich mir noch nicht sicher bin, welche Funktionen in das tm_gensim.py sollen\n",
    "model = LdaModel(corpus=mm, id2word=type2id, num_topics=20, passes = 10, iterations = 20)"
   ]
  },
  {
   "cell_type": "code",
   "execution_count": 21,
   "metadata": {
    "collapsed": false
   },
   "outputs": [
    {
     "data": {
      "text/plain": [
       "[(4, 0.011852930500708986),\n",
       " (6, 0.198984677199222),\n",
       " (11, 0.020764385935290782),\n",
       " (12, 0.24928185282788989),\n",
       " (14, 0.051512640653829607),\n",
       " (15, 0.11414091818038122),\n",
       " (16, 0.031774117193653917),\n",
       " (17, 0.24232513040124418),\n",
       " (19, 0.071289836981532476)]"
      ]
     },
     "execution_count": 21,
     "metadata": {},
     "output_type": "execute_result"
    }
   ],
   "source": [
    "model.get_document_topics(doc2bow_list[1])"
   ]
  },
  {
   "cell_type": "code",
   "execution_count": 22,
   "metadata": {
    "collapsed": false
   },
   "outputs": [
    {
     "data": {
      "text/plain": [
       "['corroboration',\n",
       " 'bicknell',\n",
       " 'whipple',\n",
       " 'horrendum',\n",
       " 'applauded',\n",
       " 'michaelmas',\n",
       " 'yeoman',\n",
       " 'nightly',\n",
       " 'advantages',\n",
       " 'half-naked']"
      ]
     },
     "execution_count": 22,
     "metadata": {},
     "output_type": "execute_result"
    }
   ],
   "source": [
    "#Anzeige der keywords für topic n\n",
    "n = 1\n",
    "topic_nr_x = model.get_topic_terms(n)\n",
    "\n",
    "topicTerms = [type2id[i[0]] for i in topic_nr_x]\n",
    "topicTerms"
   ]
  },
  {
   "cell_type": "code",
   "execution_count": 23,
   "metadata": {
    "collapsed": false
   },
   "outputs": [
    {
     "data": {
      "text/plain": [
       "[(0,\n",
       "  '0.000*\"persecuting\" + 0.000*\"poignant\" + 0.000*\"intensity\" + 0.000*\"nightly\" + 0.000*\"whipple\" + 0.000*\"terriers\" + 0.000*\"waste\" + 0.000*\"corroboration\" + 0.000*\"mädler’s\" + 0.000*\"counterparts\"'),\n",
       " (1,\n",
       "  '0.000*\"corroboration\" + 0.000*\"bicknell\" + 0.000*\"whipple\" + 0.000*\"horrendum\" + 0.000*\"applauded\" + 0.000*\"michaelmas\" + 0.000*\"yeoman\" + 0.000*\"nightly\" + 0.000*\"advantages\" + 0.000*\"half-naked\"'),\n",
       " (2,\n",
       "  '0.000*\"horrendum\" + 0.000*\"bicknell\" + 0.000*\"advantages\" + 0.000*\"repression\" + 0.000*\"bearer\" + 0.000*\"latticed\" + 0.000*\"mädler’s\" + 0.000*\"nightly\" + 0.000*\"restrained\" + 0.000*\"poignant\"'),\n",
       " (3,\n",
       "  '0.000*\"repression\" + 0.000*\"bicknell\" + 0.000*\"faultless\" + 0.000*\"nightly\" + 0.000*\"whipple\" + 0.000*\"corroboration\" + 0.000*\"stretch\" + 0.000*\"bristle\" + 0.000*\"latticed\" + 0.000*\"advantages\"'),\n",
       " (4,\n",
       "  '0.011*\"imagines\" + 0.008*\"querulous\" + 0.006*\"yapped\" + 0.006*\"currency\" + 0.006*\"miscalculation\" + 0.005*\"seeing\" + 0.004*\"tree-roads\" + 0.004*\"sour\" + 0.004*\"unparticled\" + 0.004*\"defiant\"'),\n",
       " (5,\n",
       "  '0.001*\"aeons\" + 0.001*\"ice-choked\" + 0.001*\"dwindled\" + 0.001*\"degrees\" + 0.001*\"nine-foot\" + 0.001*\"tush\" + 0.001*\"fruitless\" + 0.001*\"admiralty\" + 0.001*\"butcher-knife\" + 0.001*\"stoopids\"'),\n",
       " (6,\n",
       "  '0.004*\"bicknell\" + 0.004*\"repression\" + 0.004*\"whole\" + 0.004*\"faultless\" + 0.003*\"three-four\" + 0.003*\"beside\" + 0.003*\"corroboration\" + 0.003*\"latticed\" + 0.003*\"magicians\" + 0.003*\"nightly\"'),\n",
       " (7,\n",
       "  '0.014*\"quote\" + 0.011*\"straightest\" + 0.006*\"kicking\" + 0.004*\"burdens\" + 0.004*\"sapped\" + 0.004*\"stealthiness\" + 0.004*\"dance-place\" + 0.003*\"rôle\" + 0.003*\"rapier\" + 0.003*\"absconded\"'),\n",
       " (8,\n",
       "  '0.000*\"nightly\" + 0.000*\"poignant\" + 0.000*\"bicknell\" + 0.000*\"persecuting\" + 0.000*\"applauded\" + 0.000*\"waste\" + 0.000*\"tree-roads\" + 0.000*\"corroboration\" + 0.000*\"intensity\" + 0.000*\"terriers\"'),\n",
       " (9,\n",
       "  '0.000*\"applauded\" + 0.000*\"progenitors\" + 0.000*\"advantages\" + 0.000*\"nightly\" + 0.000*\"listens\" + 0.000*\"reserve\" + 0.000*\"corroboration\" + 0.000*\"faultless\" + 0.000*\"waste\" + 0.000*\"terriers\"'),\n",
       " (10,\n",
       "  '0.000*\"beautifully\" + 0.000*\"corroboration\" + 0.000*\"persecuting\" + 0.000*\"grievously\" + 0.000*\"whipple\" + 0.000*\"feline\" + 0.000*\"nightly\" + 0.000*\"mesmeristic\" + 0.000*\"stretch\" + 0.000*\"terriers\"'),\n",
       " (11,\n",
       "  '0.005*\"fiber\" + 0.005*\"workmanship\" + 0.005*\"feline\" + 0.004*\"drenching\" + 0.004*\"wasn\\'t\" + 0.003*\"homogeneity\" + 0.003*\"yeoman\" + 0.003*\"maid-servants\" + 0.003*\"applauded\" + 0.003*\"whipple\"'),\n",
       " (12,\n",
       "  '0.005*\"beautifully\" + 0.004*\"whipple\" + 0.004*\"poignant\" + 0.004*\"grievously\" + 0.004*\"applauded\" + 0.003*\"repression\" + 0.003*\"terriers\" + 0.003*\"intensity\" + 0.003*\"jackals\" + 0.003*\"tortured\"'),\n",
       " (13,\n",
       "  '0.000*\"horrendum\" + 0.000*\"whipple\" + 0.000*\"mädler’s\" + 0.000*\"corroboration\" + 0.000*\"beautifully\" + 0.000*\"cookey\\'s\" + 0.000*\"waste\" + 0.000*\"persecuting\" + 0.000*\"reserve\" + 0.000*\"yeoman\"'),\n",
       " (14,\n",
       "  '0.010*\"bicknell\" + 0.006*\"yeoman\" + 0.006*\"repression\" + 0.005*\"drug-created\" + 0.005*\"yielding\" + 0.005*\"michaelmas\" + 0.005*\"embraces\" + 0.004*\"half-naked\" + 0.004*\"foamy\" + 0.004*\"micefield\"'),\n",
       " (15,\n",
       "  '0.010*\"forgets\" + 0.005*\"nightly\" + 0.005*\"mesmeristic\" + 0.004*\"horrendum\" + 0.004*\"fared\" + 0.003*\"bristle\" + 0.003*\"so-called\" + 0.003*\"bicknell\" + 0.003*\"advantages\" + 0.003*\"singing-out\"'),\n",
       " (16,\n",
       "  '0.007*\"brutish\" + 0.006*\"hum\" + 0.005*\"shoggoths\" + 0.004*\"bicknell\" + 0.004*\"grievously\" + 0.004*\"position\" + 0.003*\"metropolis\" + 0.003*\"commit\" + 0.003*\"horrendum\" + 0.003*\"yeoman\"'),\n",
       " (17,\n",
       "  '0.005*\"stretch\" + 0.005*\"rotten\" + 0.005*\"site\" + 0.004*\"carefully\" + 0.004*\"bristle\" + 0.004*\"persecuting\" + 0.004*\"horrendum\" + 0.004*\"miscalculation\" + 0.004*\"mädler’s\" + 0.004*\"poignant\"'),\n",
       " (18,\n",
       "  '0.001*\"stolidly\" + 0.001*\"flint\" + 0.001*\"might\" + 0.001*\"menaced\" + 0.001*\"chained\" + 0.001*\"warriors\" + 0.001*\"spade\" + 0.001*\"spur\" + 0.001*\"carefully\" + 0.000*\"stretch\"'),\n",
       " (19,\n",
       "  '0.011*\"feline\" + 0.007*\"beautifully\" + 0.005*\"disjointed\" + 0.005*\"maid-servants\" + 0.004*\"infatuate\" + 0.004*\"tree-roads\" + 0.004*\"reserve\" + 0.004*\"whipple\" + 0.004*\"lamed\" + 0.004*\"horrendum\"')]"
      ]
     },
     "execution_count": 23,
     "metadata": {},
     "output_type": "execute_result"
    }
   ],
   "source": [
    "#Topic probabilities\n",
    "topics = model.show_topics(num_topics = 40)\n",
    "topics"
   ]
  },
  {
   "cell_type": "code",
   "execution_count": 24,
   "metadata": {
    "collapsed": false
   },
   "outputs": [],
   "source": [
    "import pandas as pd\n",
    "import regex as re\n",
    "def gensim2dataframe(model):\n",
    "    num_topics = model.num_topics\n",
    "    topics_df = pd.DataFrame(index = range(num_topics), columns= range(10))\n",
    "\n",
    "    topics = model.show_topics(num_topics)\n",
    "    \n",
    "    for topic_dist in topics:    \n",
    "        idx = topic_dist[0]\n",
    "        temp = re.findall(r'\\\"(.+?)\\\"', topics[idx][1])\n",
    "        topics_df.loc[idx] = temp\n",
    "    \n",
    "    return topics_df"
   ]
  },
  {
   "cell_type": "code",
   "execution_count": 25,
   "metadata": {
    "collapsed": false
   },
   "outputs": [],
   "source": [
    "topics_df = gensim2dataframe(model)"
   ]
  },
  {
   "cell_type": "code",
   "execution_count": 26,
   "metadata": {
    "collapsed": false
   },
   "outputs": [
    {
     "data": {
      "text/html": [
       "<div>\n",
       "<table border=\"1\" class=\"dataframe\">\n",
       "  <thead>\n",
       "    <tr style=\"text-align: right;\">\n",
       "      <th></th>\n",
       "      <th>0</th>\n",
       "      <th>1</th>\n",
       "      <th>2</th>\n",
       "      <th>3</th>\n",
       "      <th>4</th>\n",
       "      <th>5</th>\n",
       "      <th>6</th>\n",
       "      <th>7</th>\n",
       "      <th>8</th>\n",
       "      <th>9</th>\n",
       "      <th>10</th>\n",
       "      <th>11</th>\n",
       "      <th>12</th>\n",
       "      <th>13</th>\n",
       "      <th>14</th>\n",
       "      <th>15</th>\n",
       "      <th>16</th>\n",
       "      <th>17</th>\n",
       "      <th>18</th>\n",
       "      <th>19</th>\n",
       "    </tr>\n",
       "  </thead>\n",
       "  <tbody>\n",
       "    <tr>\n",
       "      <th>0</th>\n",
       "      <td>persecuting</td>\n",
       "      <td>corroboration</td>\n",
       "      <td>horrendum</td>\n",
       "      <td>repression</td>\n",
       "      <td>imagines</td>\n",
       "      <td>aeons</td>\n",
       "      <td>bicknell</td>\n",
       "      <td>quote</td>\n",
       "      <td>nightly</td>\n",
       "      <td>applauded</td>\n",
       "      <td>beautifully</td>\n",
       "      <td>fiber</td>\n",
       "      <td>beautifully</td>\n",
       "      <td>horrendum</td>\n",
       "      <td>bicknell</td>\n",
       "      <td>forgets</td>\n",
       "      <td>brutish</td>\n",
       "      <td>stretch</td>\n",
       "      <td>stolidly</td>\n",
       "      <td>feline</td>\n",
       "    </tr>\n",
       "    <tr>\n",
       "      <th>1</th>\n",
       "      <td>poignant</td>\n",
       "      <td>bicknell</td>\n",
       "      <td>bicknell</td>\n",
       "      <td>bicknell</td>\n",
       "      <td>querulous</td>\n",
       "      <td>ice-choked</td>\n",
       "      <td>repression</td>\n",
       "      <td>straightest</td>\n",
       "      <td>poignant</td>\n",
       "      <td>progenitors</td>\n",
       "      <td>corroboration</td>\n",
       "      <td>workmanship</td>\n",
       "      <td>whipple</td>\n",
       "      <td>whipple</td>\n",
       "      <td>yeoman</td>\n",
       "      <td>nightly</td>\n",
       "      <td>hum</td>\n",
       "      <td>rotten</td>\n",
       "      <td>flint</td>\n",
       "      <td>beautifully</td>\n",
       "    </tr>\n",
       "    <tr>\n",
       "      <th>2</th>\n",
       "      <td>intensity</td>\n",
       "      <td>whipple</td>\n",
       "      <td>advantages</td>\n",
       "      <td>faultless</td>\n",
       "      <td>yapped</td>\n",
       "      <td>dwindled</td>\n",
       "      <td>whole</td>\n",
       "      <td>kicking</td>\n",
       "      <td>bicknell</td>\n",
       "      <td>advantages</td>\n",
       "      <td>persecuting</td>\n",
       "      <td>feline</td>\n",
       "      <td>poignant</td>\n",
       "      <td>mädler’s</td>\n",
       "      <td>repression</td>\n",
       "      <td>mesmeristic</td>\n",
       "      <td>shoggoths</td>\n",
       "      <td>site</td>\n",
       "      <td>might</td>\n",
       "      <td>disjointed</td>\n",
       "    </tr>\n",
       "    <tr>\n",
       "      <th>3</th>\n",
       "      <td>nightly</td>\n",
       "      <td>horrendum</td>\n",
       "      <td>repression</td>\n",
       "      <td>nightly</td>\n",
       "      <td>currency</td>\n",
       "      <td>degrees</td>\n",
       "      <td>faultless</td>\n",
       "      <td>burdens</td>\n",
       "      <td>persecuting</td>\n",
       "      <td>nightly</td>\n",
       "      <td>grievously</td>\n",
       "      <td>drenching</td>\n",
       "      <td>grievously</td>\n",
       "      <td>corroboration</td>\n",
       "      <td>drug-created</td>\n",
       "      <td>horrendum</td>\n",
       "      <td>bicknell</td>\n",
       "      <td>carefully</td>\n",
       "      <td>menaced</td>\n",
       "      <td>maid-servants</td>\n",
       "    </tr>\n",
       "    <tr>\n",
       "      <th>4</th>\n",
       "      <td>whipple</td>\n",
       "      <td>applauded</td>\n",
       "      <td>bearer</td>\n",
       "      <td>whipple</td>\n",
       "      <td>miscalculation</td>\n",
       "      <td>nine-foot</td>\n",
       "      <td>three-four</td>\n",
       "      <td>sapped</td>\n",
       "      <td>applauded</td>\n",
       "      <td>listens</td>\n",
       "      <td>whipple</td>\n",
       "      <td>wasn't</td>\n",
       "      <td>applauded</td>\n",
       "      <td>beautifully</td>\n",
       "      <td>yielding</td>\n",
       "      <td>fared</td>\n",
       "      <td>grievously</td>\n",
       "      <td>bristle</td>\n",
       "      <td>chained</td>\n",
       "      <td>infatuate</td>\n",
       "    </tr>\n",
       "    <tr>\n",
       "      <th>5</th>\n",
       "      <td>terriers</td>\n",
       "      <td>michaelmas</td>\n",
       "      <td>latticed</td>\n",
       "      <td>corroboration</td>\n",
       "      <td>seeing</td>\n",
       "      <td>tush</td>\n",
       "      <td>beside</td>\n",
       "      <td>stealthiness</td>\n",
       "      <td>waste</td>\n",
       "      <td>reserve</td>\n",
       "      <td>feline</td>\n",
       "      <td>homogeneity</td>\n",
       "      <td>repression</td>\n",
       "      <td>cookey's</td>\n",
       "      <td>michaelmas</td>\n",
       "      <td>bristle</td>\n",
       "      <td>position</td>\n",
       "      <td>persecuting</td>\n",
       "      <td>warriors</td>\n",
       "      <td>tree-roads</td>\n",
       "    </tr>\n",
       "    <tr>\n",
       "      <th>6</th>\n",
       "      <td>waste</td>\n",
       "      <td>yeoman</td>\n",
       "      <td>mädler’s</td>\n",
       "      <td>stretch</td>\n",
       "      <td>tree-roads</td>\n",
       "      <td>fruitless</td>\n",
       "      <td>corroboration</td>\n",
       "      <td>dance-place</td>\n",
       "      <td>tree-roads</td>\n",
       "      <td>corroboration</td>\n",
       "      <td>nightly</td>\n",
       "      <td>yeoman</td>\n",
       "      <td>terriers</td>\n",
       "      <td>waste</td>\n",
       "      <td>embraces</td>\n",
       "      <td>so-called</td>\n",
       "      <td>metropolis</td>\n",
       "      <td>horrendum</td>\n",
       "      <td>spade</td>\n",
       "      <td>reserve</td>\n",
       "    </tr>\n",
       "    <tr>\n",
       "      <th>7</th>\n",
       "      <td>corroboration</td>\n",
       "      <td>nightly</td>\n",
       "      <td>nightly</td>\n",
       "      <td>bristle</td>\n",
       "      <td>sour</td>\n",
       "      <td>admiralty</td>\n",
       "      <td>latticed</td>\n",
       "      <td>rôle</td>\n",
       "      <td>corroboration</td>\n",
       "      <td>faultless</td>\n",
       "      <td>mesmeristic</td>\n",
       "      <td>maid-servants</td>\n",
       "      <td>intensity</td>\n",
       "      <td>persecuting</td>\n",
       "      <td>half-naked</td>\n",
       "      <td>bicknell</td>\n",
       "      <td>commit</td>\n",
       "      <td>miscalculation</td>\n",
       "      <td>spur</td>\n",
       "      <td>whipple</td>\n",
       "    </tr>\n",
       "    <tr>\n",
       "      <th>8</th>\n",
       "      <td>mädler’s</td>\n",
       "      <td>advantages</td>\n",
       "      <td>restrained</td>\n",
       "      <td>latticed</td>\n",
       "      <td>unparticled</td>\n",
       "      <td>butcher-knife</td>\n",
       "      <td>magicians</td>\n",
       "      <td>rapier</td>\n",
       "      <td>intensity</td>\n",
       "      <td>waste</td>\n",
       "      <td>stretch</td>\n",
       "      <td>applauded</td>\n",
       "      <td>jackals</td>\n",
       "      <td>reserve</td>\n",
       "      <td>foamy</td>\n",
       "      <td>advantages</td>\n",
       "      <td>horrendum</td>\n",
       "      <td>mädler’s</td>\n",
       "      <td>carefully</td>\n",
       "      <td>lamed</td>\n",
       "    </tr>\n",
       "    <tr>\n",
       "      <th>9</th>\n",
       "      <td>counterparts</td>\n",
       "      <td>half-naked</td>\n",
       "      <td>poignant</td>\n",
       "      <td>advantages</td>\n",
       "      <td>defiant</td>\n",
       "      <td>stoopids</td>\n",
       "      <td>nightly</td>\n",
       "      <td>absconded</td>\n",
       "      <td>terriers</td>\n",
       "      <td>terriers</td>\n",
       "      <td>terriers</td>\n",
       "      <td>whipple</td>\n",
       "      <td>tortured</td>\n",
       "      <td>yeoman</td>\n",
       "      <td>micefield</td>\n",
       "      <td>singing-out</td>\n",
       "      <td>yeoman</td>\n",
       "      <td>poignant</td>\n",
       "      <td>stretch</td>\n",
       "      <td>horrendum</td>\n",
       "    </tr>\n",
       "  </tbody>\n",
       "</table>\n",
       "</div>"
      ],
      "text/plain": [
       "              0              1           2              3               4   \\\n",
       "0    persecuting  corroboration   horrendum     repression        imagines   \n",
       "1       poignant       bicknell    bicknell       bicknell       querulous   \n",
       "2      intensity        whipple  advantages      faultless          yapped   \n",
       "3        nightly      horrendum  repression        nightly        currency   \n",
       "4        whipple      applauded      bearer        whipple  miscalculation   \n",
       "5       terriers     michaelmas    latticed  corroboration          seeing   \n",
       "6          waste         yeoman    mädler’s        stretch      tree-roads   \n",
       "7  corroboration        nightly     nightly        bristle            sour   \n",
       "8       mädler’s     advantages  restrained       latticed     unparticled   \n",
       "9   counterparts     half-naked    poignant     advantages         defiant   \n",
       "\n",
       "              5              6             7              8              9   \\\n",
       "0          aeons       bicknell         quote        nightly      applauded   \n",
       "1     ice-choked     repression   straightest       poignant    progenitors   \n",
       "2       dwindled          whole       kicking       bicknell     advantages   \n",
       "3        degrees      faultless       burdens    persecuting        nightly   \n",
       "4      nine-foot     three-four        sapped      applauded        listens   \n",
       "5           tush         beside  stealthiness          waste        reserve   \n",
       "6      fruitless  corroboration   dance-place     tree-roads  corroboration   \n",
       "7      admiralty       latticed          rôle  corroboration      faultless   \n",
       "8  butcher-knife      magicians        rapier      intensity          waste   \n",
       "9       stoopids        nightly     absconded       terriers       terriers   \n",
       "\n",
       "              10             11           12             13            14  \\\n",
       "0    beautifully          fiber  beautifully      horrendum      bicknell   \n",
       "1  corroboration    workmanship      whipple        whipple        yeoman   \n",
       "2    persecuting         feline     poignant       mädler’s    repression   \n",
       "3     grievously      drenching   grievously  corroboration  drug-created   \n",
       "4        whipple         wasn't    applauded    beautifully      yielding   \n",
       "5         feline    homogeneity   repression       cookey's    michaelmas   \n",
       "6        nightly         yeoman     terriers          waste      embraces   \n",
       "7    mesmeristic  maid-servants    intensity    persecuting    half-naked   \n",
       "8        stretch      applauded      jackals        reserve         foamy   \n",
       "9       terriers        whipple     tortured         yeoman     micefield   \n",
       "\n",
       "            15          16              17         18             19  \n",
       "0      forgets     brutish         stretch   stolidly         feline  \n",
       "1      nightly         hum          rotten      flint    beautifully  \n",
       "2  mesmeristic   shoggoths            site      might     disjointed  \n",
       "3    horrendum    bicknell       carefully    menaced  maid-servants  \n",
       "4        fared  grievously         bristle    chained      infatuate  \n",
       "5      bristle    position     persecuting   warriors     tree-roads  \n",
       "6    so-called  metropolis       horrendum      spade        reserve  \n",
       "7     bicknell      commit  miscalculation       spur        whipple  \n",
       "8   advantages   horrendum        mädler’s  carefully          lamed  \n",
       "9  singing-out      yeoman        poignant    stretch      horrendum  "
      ]
     },
     "execution_count": 26,
     "metadata": {},
     "output_type": "execute_result"
    }
   ],
   "source": [
    "doc_topic = topics_df.T\n",
    "doc_topic"
   ]
  },
  {
   "cell_type": "markdown",
   "metadata": {},
   "source": [
    "## Visualisierung "
   ]
  },
  {
   "cell_type": "code",
   "execution_count": 27,
   "metadata": {
    "collapsed": false
   },
   "outputs": [
    {
     "data": {
      "text/plain": [
       "\"lda_model = 'out_easy/corpus.lda'\\ncorpus = 'out_easy/corpus.mm'\\ndictionary = 'out_easy/corpus.dict'\\ndoc_labels = 'out_easy/corpus_doclabels.txt'\\ninteractive  = False\\n\\nvis = visual.Visualization(lda_model, corpus, dictionary, doc_labels, interactive)\""
      ]
     },
     "execution_count": 27,
     "metadata": {},
     "output_type": "execute_result"
    }
   ],
   "source": [
    "'''lda_model = 'out_easy/corpus.lda'\n",
    "corpus = 'out_easy/corpus.mm'\n",
    "dictionary = 'out_easy/corpus.dict'\n",
    "doc_labels = 'out_easy/corpus_doclabels.txt'\n",
    "interactive  = False\n",
    "\n",
    "vis = visual.Visualization(lda_model, corpus, dictionary, doc_labels, interactive)'''"
   ]
  },
  {
   "cell_type": "markdown",
   "metadata": {},
   "source": [
    "##### Create a document-topic matrix (that is a pandas data frame actually)"
   ]
  },
  {
   "cell_type": "code",
   "execution_count": 28,
   "metadata": {
    "collapsed": false
   },
   "outputs": [],
   "source": [
    "doc_topic = visual.create_doc_topic(mm, model, doc_labels)"
   ]
  },
  {
   "cell_type": "markdown",
   "metadata": {},
   "source": [
    "##### Visualize document-topic matrix"
   ]
  },
  {
   "cell_type": "code",
   "execution_count": 29,
   "metadata": {
    "collapsed": false
   },
   "outputs": [
    {
     "name": "stderr",
     "output_type": "stream",
     "text": [
      "c:\\users\\philip\\appdata\\local\\programs\\python\\python35-32\\lib\\site-packages\\ipykernel\\pylab\\config.py:66: DeprecationWarning: metadata {'config': True} was set from the constructor.  Metadata should be set using the .tag() method, e.g., Int().tag(key1='value1', key2='value2')\n",
      "  inline backend.\"\"\"\n",
      "c:\\users\\philip\\appdata\\local\\programs\\python\\python35-32\\lib\\site-packages\\ipykernel\\pylab\\config.py:71: DeprecationWarning: metadata {'config': True} was set from the constructor.  Metadata should be set using the .tag() method, e.g., Int().tag(key1='value1', key2='value2')\n",
      "  'retina', 'jpeg', 'svg', 'pdf'.\"\"\")\n",
      "c:\\users\\philip\\appdata\\local\\programs\\python\\python35-32\\lib\\site-packages\\ipykernel\\pylab\\config.py:85: DeprecationWarning: metadata {'config': True} was set from the constructor.  Metadata should be set using the .tag() method, e.g., Int().tag(key1='value1', key2='value2')\n",
      "  use `figure_formats` instead)\"\"\")\n",
      "c:\\users\\philip\\appdata\\local\\programs\\python\\python35-32\\lib\\site-packages\\ipykernel\\pylab\\config.py:95: DeprecationWarning: metadata {'config': True} was set from the constructor.  Metadata should be set using the .tag() method, e.g., Int().tag(key1='value1', key2='value2')\n",
      "  \"\"\"\n",
      "c:\\users\\philip\\appdata\\local\\programs\\python\\python35-32\\lib\\site-packages\\ipykernel\\pylab\\config.py:114: DeprecationWarning: metadata {'config': True} was set from the constructor.  Metadata should be set using the .tag() method, e.g., Int().tag(key1='value1', key2='value2')\n",
      "  \"\"\")\n",
      "c:\\users\\philip\\appdata\\local\\programs\\python\\python35-32\\lib\\site-packages\\ipykernel\\pylab\\config.py:44: DeprecationWarning: InlineBackend._config_changed is deprecated: use @observe and @unobserve instead.\n",
      "  def _config_changed(self, name, old, new):\n",
      "c:\\users\\philip\\appdata\\local\\programs\\python\\python35-32\\lib\\site-packages\\traitlets\\traitlets.py:770: DeprecationWarning: A parent of InlineBackend._config_changed has adopted the new @observe(change) API\n",
      "  clsname, change_or_name), DeprecationWarning)\n"
     ]
    },
    {
     "data": {
      "text/plain": [
       "<module 'matplotlib.pyplot' from 'c:\\\\users\\\\philip\\\\appdata\\\\local\\\\programs\\\\python\\\\python35-32\\\\lib\\\\site-packages\\\\matplotlib\\\\pyplot.py'>"
      ]
     },
     "execution_count": 29,
     "metadata": {},
     "output_type": "execute_result"
    },
    {
     "data": {
      "image/png": "[encoded data removed]",
      "text/plain": [
       "<matplotlib.figure.Figure at 0x194f4f0>"
      ]
     },
     "metadata": {},
     "output_type": "display_data"
    }
   ],
   "source": [
    "%matplotlib inline\n",
    "visual.doc_topic_heatmap(doc_topic)"
   ]
  },
  {
   "cell_type": "markdown",
   "metadata": {},
   "source": [
    "##### Visualize topic distribution in a single document"
   ]
  },
  {
   "cell_type": "code",
   "execution_count": 30,
   "metadata": {
    "collapsed": false
   },
   "outputs": [
    {
     "data": {
      "image/png": "[encoded data removed]",
      "text/plain": [
       "<matplotlib.figure.Figure at 0xad85790>"
      ]
     },
     "metadata": {},
     "output_type": "display_data"
    }
   ],
   "source": [
    "visual.plot_doc_topics(doc_topic, 0)"
   ]
  },
  {
   "cell_type": "markdown",
   "metadata": {
    "collapsed": true
   },
   "source": [
    "![success](http://cdn2.hubspot.net/hub/128506/file-446943132-jpg/images/computer_woman_success.jpg)"
   ]
  }
 ],
 "metadata": {
  "kernelspec": {
   "display_name": "Python 3",
   "language": "python",
   "name": "python3"
  },
  "language_info": {
   "codemirror_mode": {
    "name": "ipython",
    "version": 3
   },
   "file_extension": ".py",
   "mimetype": "text/x-python",
   "name": "python",
   "nbconvert_exporter": "python",
   "pygments_lexer": "ipython3",
   "version": "3.5.1"
  }
 },
 "nbformat": 4,
 "nbformat_minor": 0
}
