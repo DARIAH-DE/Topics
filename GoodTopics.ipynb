{
 "cells": [
  {
   "cell_type": "code",
   "execution_count": 1,
   "metadata": {
    "collapsed": true
   },
   "outputs": [],
   "source": [
    "from gensim.corpora import Dictionary\n",
    "from gensim.models.ldamodel import LdaModel"
   ]
  },
  {
   "cell_type": "code",
   "execution_count": 2,
   "metadata": {
    "collapsed": true
   },
   "outputs": [],
   "source": [
    "corpus = [['found', 'left', 'time', 'find', 'turned', 'thought', 'gave', 'death', 'brought', 'felt', 'held', 'close', \n",
    "           'air', 'coming', 'heavy', 'looked', 'sound', 'sight', 'showed', 'deep'],\n",
    "         ['men', 'long', 'white', 'feet', 'time', 'things', 'half', 'began', 'people', 'life', 'teeth', 'sleep', \n",
    "          'cried', 'afraid', 'trees', 'art', 'law', 'dead', 'ears', 'skin'],\n",
    "         ['atoms', 'centre', 'idea', 'universe', 'force', 'tendency', 'law', 'stars', 'distance', 'hypothesis', \n",
    "          'find', 'principle', 'irradiation', 'unity', 'atom', 'divine', 'conception', 'cluster', 'gravity', 'god'],\n",
    "         ['face', 'eyes', 'case', 'hand', 'time', 'round', 'window', 'asked', 'room', 'house', 'friend', \n",
    "          'matter', 'door', 'mind', 'doubt', 'front', 'passed', 'fellow', 'evening', 'thought'],\n",
    "         ['great', 'made', 'long', 'thing', 'light', 'life', 'end', 'moment', 'set', 'part', 'men', 'nature', \n",
    "          'line', 'hundred', 'make', 'direction', 'told', 'dark', 'secret', 'work'],\n",
    "         ['point', 'general', 'space', 'sun', 'earth', 'condition', 'absolute', 'system', 'time', 'material', \n",
    "          'greater', 'case', 'miles', 'thought', 'bodies', 'impossible', 'conceive', 'human', 'planet', 'laws'],\n",
    "         ['house', 'street', 'uncle', 'dupin', 'letter', 'harris', 'prefect', 'shunned', 'replied', 'form', \n",
    "          'family', 'cellar', 'minister', 'odd', 'windows', 'amontillado', 'mercy', 'building', 'document', 'furniture'],\n",
    "         ['man', 'back', 'night', 'good', 'heard', 'day', 'put', 'side', 'give', 'knew', 'make', 'head', \n",
    "          'place', 'black', 'heart', 'young', 'looked', 'lay', 'sat'],\n",
    "         ['holmes', 'small', 'treasure', 'sholto', 'morstan', 'miss', 'jones', 'answered', 'brother', 'mrs', \n",
    "          'thaddeus', 'launch', 'box', 'sherlock', 'river', 'major', 'smith', 'toby', 'sir', 'sign'],\n",
    "         ['lake', 'city', 'land', 'camp', 'danforth', 'mountains', 'antarctic', 'sculptures', 'vast', 'range', \n",
    "          'specimens', 'abyss', 'snow', 'carvings', 'peaks', 'million', 'ahead', 'base', 'plane']]"
   ]
  },
  {
   "cell_type": "code",
   "execution_count": 3,
   "metadata": {
    "collapsed": true
   },
   "outputs": [],
   "source": [
    "dictionary = Dictionary(corpus)\n",
    "documents = [dictionary.doc2bow(document) for document in corpus]\n",
    "model = LdaModel(corpus=documents, id2word=dictionary, iterations=50, num_topics=10)"
   ]
  },
  {
   "cell_type": "code",
   "execution_count": 4,
   "metadata": {
    "collapsed": false
   },
   "outputs": [
    {
     "data": {
      "text/plain": [
       "[(0,\n",
       "  '0.036*\"time\" + 0.036*\"thought\" + 0.020*\"case\" + 0.019*\"absolute\" + 0.019*\"conceive\" + 0.019*\"general\" + 0.019*\"bodies\" + 0.019*\"greater\" + 0.019*\"material\" + 0.019*\"system\"'),\n",
       " (1,\n",
       "  '0.029*\"range\" + 0.029*\"danforth\" + 0.029*\"vast\" + 0.029*\"sculptures\" + 0.029*\"lake\" + 0.029*\"mountains\" + 0.029*\"antarctic\" + 0.029*\"land\" + 0.029*\"specimens\" + 0.029*\"peaks\"'),\n",
       " (2,\n",
       "  '0.005*\"thought\" + 0.005*\"house\" + 0.005*\"time\" + 0.005*\"looked\" + 0.005*\"make\" + 0.005*\"divine\" + 0.005*\"life\" + 0.005*\"box\" + 0.005*\"long\" + 0.005*\"law\"'),\n",
       " (3,\n",
       "  '0.029*\"tendency\" + 0.029*\"atoms\" + 0.029*\"god\" + 0.029*\"principle\" + 0.029*\"hypothesis\" + 0.029*\"idea\" + 0.029*\"conception\" + 0.029*\"irradiation\" + 0.029*\"universe\" + 0.029*\"cluster\"'),\n",
       " (4,\n",
       "  '0.019*\"windows\" + 0.019*\"amontillado\" + 0.019*\"minister\" + 0.019*\"launch\" + 0.019*\"treasure\" + 0.019*\"answered\" + 0.019*\"replied\" + 0.019*\"mrs\" + 0.019*\"sholto\" + 0.019*\"shunned\"'),\n",
       " (5,\n",
       "  '0.005*\"time\" + 0.005*\"house\" + 0.005*\"law\" + 0.005*\"thought\" + 0.005*\"find\" + 0.005*\"make\" + 0.005*\"life\" + 0.005*\"men\" + 0.005*\"long\" + 0.005*\"looked\"'),\n",
       " (6,\n",
       "  '0.011*\"looked\" + 0.010*\"sight\" + 0.010*\"brought\" + 0.009*\"death\" + 0.009*\"thought\" + 0.009*\"held\" + 0.009*\"gave\" + 0.009*\"make\" + 0.009*\"coming\" + 0.008*\"heavy\"'),\n",
       " (7,\n",
       "  '0.028*\"mind\" + 0.028*\"front\" + 0.028*\"passed\" + 0.028*\"hand\" + 0.028*\"fellow\" + 0.028*\"evening\" + 0.028*\"room\" + 0.028*\"round\" + 0.028*\"thought\" + 0.028*\"face\"'),\n",
       " (8,\n",
       "  '0.029*\"life\" + 0.029*\"long\" + 0.029*\"direction\" + 0.029*\"secret\" + 0.029*\"make\" + 0.029*\"light\" + 0.029*\"hundred\" + 0.029*\"men\" + 0.029*\"great\" + 0.029*\"made\"'),\n",
       " (9,\n",
       "  '0.020*\"time\" + 0.020*\"law\" + 0.020*\"art\" + 0.020*\"trees\" + 0.020*\"skin\" + 0.020*\"white\" + 0.020*\"half\" + 0.020*\"teeth\" + 0.020*\"life\" + 0.020*\"people\"')]"
      ]
     },
     "execution_count": 4,
     "metadata": {},
     "output_type": "execute_result"
    }
   ],
   "source": [
    "model.show_topics()"
   ]
  },
  {
   "cell_type": "code",
   "execution_count": null,
   "metadata": {
    "collapsed": true
   },
   "outputs": [],
   "source": []
  }
 ],
 "metadata": {
  "kernelspec": {
   "display_name": "Python 3",
   "language": "python",
   "name": "python3"
  },
  "language_info": {
   "codemirror_mode": {
    "name": "ipython",
    "version": 3
   },
   "file_extension": ".py",
   "mimetype": "text/x-python",
   "name": "python",
   "nbconvert_exporter": "python",
   "pygments_lexer": "ipython3",
   "version": "3.5.2+"
  }
 },
 "nbformat": 4,
 "nbformat_minor": 2
}
