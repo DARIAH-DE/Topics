{
 "cells": [
  {
   "cell_type": "markdown",
   "metadata": {
    "deletable": true,
    "editable": true
   },
   "source": [
    "<div style=\"text-align: center\"><h1>Topics – Easy Topic Modeling in Python</h1></div>"
   ]
  },
  {
   "cell_type": "markdown",
   "metadata": {
    "deletable": true,
    "editable": true
   },
   "source": [
    "The text mining technique **Topic Modeling** has become a popular statistical method for clustering documents. This notebook introduces an user-friendly workflow, basically containing data preprocessing, an implementation of the prototypic topic model **Latent Dirichlet Allocation** (LDA) which learns the relationships between words, topics, and documents, as well as multiple visualizations to explore the trained LDA model.\n",
    "\n",
    "In this notebook, we're relying on the LDA implementation by [Radim Řehůřek](https://radimrehurek.com) called [**gensim**](https://radimrehurek.com/gensim/). "
   ]
  },
  {
   "cell_type": "markdown",
   "metadata": {
    "deletable": true,
    "editable": true
   },
   "source": [
    "## First step: Installing dependencies\n",
    "\n",
    "The following tutorial will explain how to perform LDA topic modeling with a programming library in Python. If you have not done so yet, please install all necessary libraries by executing one of the following cells."
   ]
  },
  {
   "cell_type": "markdown",
   "metadata": {
    "deletable": true,
    "editable": true
   },
   "source": [
    "### Windows"
   ]
  },
  {
   "cell_type": "code",
   "execution_count": null,
   "metadata": {
    "collapsed": true,
    "deletable": true,
    "editable": true
   },
   "outputs": [],
   "source": [
    "#!pip install -r requirements.txt"
   ]
  },
  {
   "cell_type": "markdown",
   "metadata": {
    "deletable": true,
    "editable": true
   },
   "source": [
    "### macOS"
   ]
  },
  {
   "cell_type": "code",
   "execution_count": null,
   "metadata": {
    "collapsed": true,
    "deletable": true,
    "editable": true
   },
   "outputs": [],
   "source": [
    "#!pip3 install -r requirements.txt"
   ]
  },
  {
   "cell_type": "markdown",
   "metadata": {
    "deletable": true,
    "editable": true
   },
   "source": [
    "### Linux"
   ]
  },
  {
   "cell_type": "code",
   "execution_count": null,
   "metadata": {
    "collapsed": true,
    "deletable": true,
    "editable": true
   },
   "outputs": [],
   "source": [
    "#!sudo pip3 install -r requirements.txt"
   ]
  },
  {
   "cell_type": "markdown",
   "metadata": {
    "deletable": true,
    "editable": true
   },
   "source": [
    "## 1. Preprocessing"
   ]
  },
  {
   "cell_type": "markdown",
   "metadata": {
    "deletable": true,
    "editable": true
   },
   "source": [
    "Let's not pay heed to any warnings right now and execute the following cell."
   ]
  },
  {
   "cell_type": "code",
   "execution_count": 1,
   "metadata": {
    "collapsed": true,
    "deletable": true,
    "editable": true
   },
   "outputs": [],
   "source": [
    "import warnings\n",
    "warnings.filterwarnings('ignore')"
   ]
  },
  {
   "cell_type": "markdown",
   "metadata": {
    "deletable": true,
    "editable": true
   },
   "source": [
    "#### Loading modules from DARIAH-Topics library\n",
    "First, we have to get access to the functionalities of the library by importing them."
   ]
  },
  {
   "cell_type": "code",
   "execution_count": 2,
   "metadata": {
    "collapsed": true,
    "deletable": true,
    "editable": true
   },
   "outputs": [],
   "source": [
    "from dariah_topics import preprocessing\n",
    "from dariah_topics import doclist\n",
    "from dariah_topics import meta\n",
    "from dariah_topics import mallet\n",
    "from dariah_topics import visualization"
   ]
  },
  {
   "cell_type": "markdown",
   "metadata": {
    "deletable": true,
    "editable": true
   },
   "source": [
    "#### Load required functions from Gensim\n",
    "Furthermore, we will need some additional functions from external libraries."
   ]
  },
  {
   "cell_type": "code",
   "execution_count": 3,
   "metadata": {
    "collapsed": true,
    "deletable": true,
    "editable": true
   },
   "outputs": [],
   "source": [
    "import os\n",
    "from gensim.models import LdaModel\n",
    "from gensim.corpora import MmCorpus"
   ]
  },
  {
   "cell_type": "markdown",
   "metadata": {
    "deletable": true,
    "editable": true
   },
   "source": [
    "#### Activating inline output in Jupyter notebook\n",
    "The following line will just tell the notebook to show graphics in the output frames."
   ]
  },
  {
   "cell_type": "code",
   "execution_count": 4,
   "metadata": {
    "collapsed": true,
    "deletable": true,
    "editable": true
   },
   "outputs": [],
   "source": [
    "%matplotlib inline"
   ]
  },
  {
   "cell_type": "markdown",
   "metadata": {
    "deletable": true,
    "editable": true
   },
   "source": [
    "### 1.1. Reading a corpus of documents"
   ]
  },
  {
   "cell_type": "markdown",
   "metadata": {
    "deletable": true,
    "editable": true
   },
   "source": [
    "#### Defining the path to the corpus folder\n",
    "\n",
    "In the present example code, we are using a folder of 'txt' documents provided with the package. For using your own corpus, change the path accordingly."
   ]
  },
  {
   "cell_type": "code",
   "execution_count": 5,
   "metadata": {
    "collapsed": true,
    "deletable": true,
    "editable": true
   },
   "outputs": [],
   "source": [
    "path = \"corpus_txt\""
   ]
  },
  {
   "cell_type": "markdown",
   "metadata": {
    "deletable": true,
    "editable": true
   },
   "source": [
    "#### List all documents in the folder\n",
    "We begin by creating a list of all the documents in the folder specified above. That list will tell function `pre.read_from_txt()` (see below) which text documents to read."
   ]
  },
  {
   "cell_type": "code",
   "execution_count": 6,
   "metadata": {
    "collapsed": true,
    "deletable": true,
    "editable": true
   },
   "outputs": [],
   "source": [
    "pathdoclist = doclist.PathDocList(path)\n",
    "document_list = pathdoclist.full_paths(as_str=True)"
   ]
  },
  {
   "cell_type": "markdown",
   "metadata": {
    "deletable": true,
    "editable": true
   },
   "source": [
    "The current list of documents looks like this:"
   ]
  },
  {
   "cell_type": "code",
   "execution_count": 7,
   "metadata": {
    "collapsed": false,
    "deletable": true,
    "editable": true
   },
   "outputs": [
    {
     "data": {
      "text/plain": [
       "['corpus_txt/Lovecraft_AttheMountainofMadness.txt',\n",
       " 'corpus_txt/Howard_TheDevilinIron.txt',\n",
       " 'corpus_txt/Poe_ThePurloinedLetter.txt',\n",
       " 'corpus_txt/Lovecraft_TheShunnedHouse.txt',\n",
       " 'corpus_txt/Poe_TheMasqueoftheRedDeath.txt',\n",
       " 'corpus_txt/Doyle_TheSignoftheFour.txt',\n",
       " 'corpus_txt/Doyle_AStudyinScarlet.txt',\n",
       " 'corpus_txt/Howard_ShadowsintheMoonlight.txt',\n",
       " 'corpus_txt/Kipling_TheEndofthePassage.txt',\n",
       " 'corpus_txt/Poe_EurekaAProsePoem.txt',\n",
       " 'corpus_txt/Howard_GodsoftheNorth.txt',\n",
       " 'corpus_txt/Doyle_TheHoundoftheBaskervilles.txt',\n",
       " 'corpus_txt/Kipling_ThyServantaDog.txt',\n",
       " 'corpus_txt/Poe_TheCaskofAmontillado.txt',\n",
       " 'corpus_txt/Doyle_AScandalinBohemia.txt',\n",
       " 'corpus_txt/Howard_SchadowsinZamboula.txt',\n",
       " 'corpus_txt/Kipling_TheJungleBook.txt']"
      ]
     },
     "execution_count": 7,
     "metadata": {},
     "output_type": "execute_result"
    }
   ],
   "source": [
    "document_list"
   ]
  },
  {
   "cell_type": "markdown",
   "metadata": {
    "deletable": true,
    "editable": true
   },
   "source": [
    "**Alternatively**, if we want to use other documents, or just a selction of those in the specified folder, we can define our own `doclist` by creating a list of strings containing paths to text files. For example, to use only the texts by Edgar A. Poe from the current folder, we would define the list as\n",
    "\n",
    "`\n",
    "    doclist = [ 'corpus_txt/Poe_TheMasqueoftheRedDeath.txt', \n",
    "            'corpus_txt/Poe_TheCaskofAmontillado.txt', \n",
    "            'corpus_txt/Poe_ThePurloinedLetter.txt',\n",
    "            'corpus_txt/Poe_ThePurloinedLetter.txt',\n",
    "            'corpus_txt/Poe_EurekaAProsePoem.txt']\n",
    "`"
   ]
  },
  {
   "cell_type": "markdown",
   "metadata": {
    "deletable": true,
    "editable": true
   },
   "source": [
    "#### Generate document labels"
   ]
  },
  {
   "cell_type": "code",
   "execution_count": 8,
   "metadata": {
    "collapsed": false,
    "deletable": true,
    "editable": true
   },
   "outputs": [
    {
     "data": {
      "text/plain": [
       "['Lovecraft_AttheMountainofMadness',\n",
       " 'Howard_TheDevilinIron',\n",
       " 'Poe_ThePurloinedLetter',\n",
       " 'Lovecraft_TheShunnedHouse',\n",
       " 'Poe_TheMasqueoftheRedDeath',\n",
       " 'Doyle_TheSignoftheFour',\n",
       " 'Doyle_AStudyinScarlet',\n",
       " 'Howard_ShadowsintheMoonlight',\n",
       " 'Kipling_TheEndofthePassage',\n",
       " 'Poe_EurekaAProsePoem',\n",
       " 'Howard_GodsoftheNorth',\n",
       " 'Doyle_TheHoundoftheBaskervilles',\n",
       " 'Kipling_ThyServantaDog',\n",
       " 'Poe_TheCaskofAmontillado',\n",
       " 'Doyle_AScandalinBohemia',\n",
       " 'Howard_SchadowsinZamboula',\n",
       " 'Kipling_TheJungleBook']"
      ]
     },
     "execution_count": 8,
     "metadata": {},
     "output_type": "execute_result"
    }
   ],
   "source": [
    "document_labels = pathdoclist.labels()\n",
    "document_labels"
   ]
  },
  {
   "cell_type": "markdown",
   "metadata": {
    "deletable": true,
    "editable": true
   },
   "source": [
    "#### Optional: Accessing metadata"
   ]
  },
  {
   "cell_type": "markdown",
   "metadata": {
    "deletable": true,
    "editable": true
   },
   "source": [
    "In case you want a more structured overview of your corpus, execute the following cell:"
   ]
  },
  {
   "cell_type": "code",
   "execution_count": 9,
   "metadata": {
    "collapsed": false,
    "deletable": true,
    "editable": true
   },
   "outputs": [
    {
     "data": {
      "text/html": [
       "<div>\n",
       "<table border=\"1\" class=\"dataframe\">\n",
       "  <thead>\n",
       "    <tr style=\"text-align: right;\">\n",
       "      <th></th>\n",
       "      <th>author</th>\n",
       "      <th>basename</th>\n",
       "      <th>filename</th>\n",
       "      <th>title</th>\n",
       "    </tr>\n",
       "  </thead>\n",
       "  <tbody>\n",
       "    <tr>\n",
       "      <th>0</th>\n",
       "      <td>Lovecraft</td>\n",
       "      <td>Lovecraft_AttheMountainofMadness</td>\n",
       "      <td>corpus_txt/Lovecraft_AttheMountainofMadness.txt</td>\n",
       "      <td>AttheMountainofMadness</td>\n",
       "    </tr>\n",
       "    <tr>\n",
       "      <th>1</th>\n",
       "      <td>Howard</td>\n",
       "      <td>Howard_TheDevilinIron</td>\n",
       "      <td>corpus_txt/Howard_TheDevilinIron.txt</td>\n",
       "      <td>TheDevilinIron</td>\n",
       "    </tr>\n",
       "    <tr>\n",
       "      <th>2</th>\n",
       "      <td>Poe</td>\n",
       "      <td>Poe_ThePurloinedLetter</td>\n",
       "      <td>corpus_txt/Poe_ThePurloinedLetter.txt</td>\n",
       "      <td>ThePurloinedLetter</td>\n",
       "    </tr>\n",
       "    <tr>\n",
       "      <th>3</th>\n",
       "      <td>Lovecraft</td>\n",
       "      <td>Lovecraft_TheShunnedHouse</td>\n",
       "      <td>corpus_txt/Lovecraft_TheShunnedHouse.txt</td>\n",
       "      <td>TheShunnedHouse</td>\n",
       "    </tr>\n",
       "    <tr>\n",
       "      <th>4</th>\n",
       "      <td>Poe</td>\n",
       "      <td>Poe_TheMasqueoftheRedDeath</td>\n",
       "      <td>corpus_txt/Poe_TheMasqueoftheRedDeath.txt</td>\n",
       "      <td>TheMasqueoftheRedDeath</td>\n",
       "    </tr>\n",
       "    <tr>\n",
       "      <th>5</th>\n",
       "      <td>Doyle</td>\n",
       "      <td>Doyle_TheSignoftheFour</td>\n",
       "      <td>corpus_txt/Doyle_TheSignoftheFour.txt</td>\n",
       "      <td>TheSignoftheFour</td>\n",
       "    </tr>\n",
       "    <tr>\n",
       "      <th>6</th>\n",
       "      <td>Doyle</td>\n",
       "      <td>Doyle_AStudyinScarlet</td>\n",
       "      <td>corpus_txt/Doyle_AStudyinScarlet.txt</td>\n",
       "      <td>AStudyinScarlet</td>\n",
       "    </tr>\n",
       "    <tr>\n",
       "      <th>7</th>\n",
       "      <td>Howard</td>\n",
       "      <td>Howard_ShadowsintheMoonlight</td>\n",
       "      <td>corpus_txt/Howard_ShadowsintheMoonlight.txt</td>\n",
       "      <td>ShadowsintheMoonlight</td>\n",
       "    </tr>\n",
       "    <tr>\n",
       "      <th>8</th>\n",
       "      <td>Kipling</td>\n",
       "      <td>Kipling_TheEndofthePassage</td>\n",
       "      <td>corpus_txt/Kipling_TheEndofthePassage.txt</td>\n",
       "      <td>TheEndofthePassage</td>\n",
       "    </tr>\n",
       "    <tr>\n",
       "      <th>9</th>\n",
       "      <td>Poe</td>\n",
       "      <td>Poe_EurekaAProsePoem</td>\n",
       "      <td>corpus_txt/Poe_EurekaAProsePoem.txt</td>\n",
       "      <td>EurekaAProsePoem</td>\n",
       "    </tr>\n",
       "    <tr>\n",
       "      <th>10</th>\n",
       "      <td>Howard</td>\n",
       "      <td>Howard_GodsoftheNorth</td>\n",
       "      <td>corpus_txt/Howard_GodsoftheNorth.txt</td>\n",
       "      <td>GodsoftheNorth</td>\n",
       "    </tr>\n",
       "    <tr>\n",
       "      <th>11</th>\n",
       "      <td>Doyle</td>\n",
       "      <td>Doyle_TheHoundoftheBaskervilles</td>\n",
       "      <td>corpus_txt/Doyle_TheHoundoftheBaskervilles.txt</td>\n",
       "      <td>TheHoundoftheBaskervilles</td>\n",
       "    </tr>\n",
       "    <tr>\n",
       "      <th>12</th>\n",
       "      <td>Kipling</td>\n",
       "      <td>Kipling_ThyServantaDog</td>\n",
       "      <td>corpus_txt/Kipling_ThyServantaDog.txt</td>\n",
       "      <td>ThyServantaDog</td>\n",
       "    </tr>\n",
       "    <tr>\n",
       "      <th>13</th>\n",
       "      <td>Poe</td>\n",
       "      <td>Poe_TheCaskofAmontillado</td>\n",
       "      <td>corpus_txt/Poe_TheCaskofAmontillado.txt</td>\n",
       "      <td>TheCaskofAmontillado</td>\n",
       "    </tr>\n",
       "    <tr>\n",
       "      <th>14</th>\n",
       "      <td>Doyle</td>\n",
       "      <td>Doyle_AScandalinBohemia</td>\n",
       "      <td>corpus_txt/Doyle_AScandalinBohemia.txt</td>\n",
       "      <td>AScandalinBohemia</td>\n",
       "    </tr>\n",
       "    <tr>\n",
       "      <th>15</th>\n",
       "      <td>Howard</td>\n",
       "      <td>Howard_SchadowsinZamboula</td>\n",
       "      <td>corpus_txt/Howard_SchadowsinZamboula.txt</td>\n",
       "      <td>SchadowsinZamboula</td>\n",
       "    </tr>\n",
       "    <tr>\n",
       "      <th>16</th>\n",
       "      <td>Kipling</td>\n",
       "      <td>Kipling_TheJungleBook</td>\n",
       "      <td>corpus_txt/Kipling_TheJungleBook.txt</td>\n",
       "      <td>TheJungleBook</td>\n",
       "    </tr>\n",
       "  </tbody>\n",
       "</table>\n",
       "</div>"
      ],
      "text/plain": [
       "       author                          basename  \\\n",
       "0   Lovecraft  Lovecraft_AttheMountainofMadness   \n",
       "1      Howard             Howard_TheDevilinIron   \n",
       "2         Poe            Poe_ThePurloinedLetter   \n",
       "3   Lovecraft         Lovecraft_TheShunnedHouse   \n",
       "4         Poe        Poe_TheMasqueoftheRedDeath   \n",
       "5       Doyle            Doyle_TheSignoftheFour   \n",
       "6       Doyle             Doyle_AStudyinScarlet   \n",
       "7      Howard      Howard_ShadowsintheMoonlight   \n",
       "8     Kipling        Kipling_TheEndofthePassage   \n",
       "9         Poe              Poe_EurekaAProsePoem   \n",
       "10     Howard             Howard_GodsoftheNorth   \n",
       "11      Doyle   Doyle_TheHoundoftheBaskervilles   \n",
       "12    Kipling            Kipling_ThyServantaDog   \n",
       "13        Poe          Poe_TheCaskofAmontillado   \n",
       "14      Doyle           Doyle_AScandalinBohemia   \n",
       "15     Howard         Howard_SchadowsinZamboula   \n",
       "16    Kipling             Kipling_TheJungleBook   \n",
       "\n",
       "                                           filename                      title  \n",
       "0   corpus_txt/Lovecraft_AttheMountainofMadness.txt     AttheMountainofMadness  \n",
       "1              corpus_txt/Howard_TheDevilinIron.txt             TheDevilinIron  \n",
       "2             corpus_txt/Poe_ThePurloinedLetter.txt         ThePurloinedLetter  \n",
       "3          corpus_txt/Lovecraft_TheShunnedHouse.txt            TheShunnedHouse  \n",
       "4         corpus_txt/Poe_TheMasqueoftheRedDeath.txt     TheMasqueoftheRedDeath  \n",
       "5             corpus_txt/Doyle_TheSignoftheFour.txt           TheSignoftheFour  \n",
       "6              corpus_txt/Doyle_AStudyinScarlet.txt            AStudyinScarlet  \n",
       "7       corpus_txt/Howard_ShadowsintheMoonlight.txt      ShadowsintheMoonlight  \n",
       "8         corpus_txt/Kipling_TheEndofthePassage.txt         TheEndofthePassage  \n",
       "9               corpus_txt/Poe_EurekaAProsePoem.txt           EurekaAProsePoem  \n",
       "10             corpus_txt/Howard_GodsoftheNorth.txt             GodsoftheNorth  \n",
       "11   corpus_txt/Doyle_TheHoundoftheBaskervilles.txt  TheHoundoftheBaskervilles  \n",
       "12            corpus_txt/Kipling_ThyServantaDog.txt             ThyServantaDog  \n",
       "13          corpus_txt/Poe_TheCaskofAmontillado.txt       TheCaskofAmontillado  \n",
       "14           corpus_txt/Doyle_AScandalinBohemia.txt          AScandalinBohemia  \n",
       "15         corpus_txt/Howard_SchadowsinZamboula.txt         SchadowsinZamboula  \n",
       "16             corpus_txt/Kipling_TheJungleBook.txt              TheJungleBook  "
      ]
     },
     "execution_count": 9,
     "metadata": {},
     "output_type": "execute_result"
    }
   ],
   "source": [
    "metadata = meta.fn2metadata(os.path.join(path, '*.txt'))\n",
    "metadata"
   ]
  },
  {
   "cell_type": "markdown",
   "metadata": {
    "deletable": true,
    "editable": true
   },
   "source": [
    "#### Read listed documents from folder"
   ]
  },
  {
   "cell_type": "code",
   "execution_count": 10,
   "metadata": {
    "collapsed": true,
    "deletable": true,
    "editable": true
   },
   "outputs": [],
   "source": [
    "corpus = preprocessing.read_from_txt(document_list)"
   ]
  },
  {
   "cell_type": "markdown",
   "metadata": {
    "deletable": true,
    "editable": true
   },
   "source": [
    "At this point, the corpus is generator object."
   ]
  },
  {
   "cell_type": "markdown",
   "metadata": {
    "deletable": true,
    "editable": true
   },
   "source": [
    "### 1.3. Tokenize corpus\n",
    "Your text files will be tokenized. Tokenization is the task of cutting a stream of characters into linguistic units, simply words or, more precisely, tokens. The tokenize function the library provides is a simple unicode tokenizer. Depending on the corpus it might be useful to use an external tokenizer function, or even develop your own, since its efficiency varies with language, epoch and text type."
   ]
  },
  {
   "cell_type": "code",
   "execution_count": 11,
   "metadata": {
    "collapsed": true,
    "deletable": true,
    "editable": true
   },
   "outputs": [],
   "source": [
    "tokens = [list(preprocessing.tokenize(document)) for document in list(corpus)]"
   ]
  },
  {
   "cell_type": "markdown",
   "metadata": {
    "deletable": true,
    "editable": true
   },
   "source": [
    "At this point, each text is represented by a list of separate token strings. If we want to look e.g. into the first text (which has the index `0` as Python starts counting at 0) and show its first 10 words/tokens (that have the indeces `0:9` accordingly) by typing:"
   ]
  },
  {
   "cell_type": "code",
   "execution_count": 12,
   "metadata": {
    "collapsed": false,
    "deletable": true,
    "editable": true
   },
   "outputs": [
    {
     "data": {
      "text/plain": [
       "['at', 'the', 'mountains', 'of', 'madness', 'by', 'hp', 'lovecraft', 'chapter']"
      ]
     },
     "execution_count": 12,
     "metadata": {},
     "output_type": "execute_result"
    }
   ],
   "source": [
    "tokens[0][0:9]"
   ]
  },
  {
   "cell_type": "markdown",
   "metadata": {},
   "source": [
    "### 1.4.1 Create a document-term matrix\n",
    "\n",
    "The LDA topic model is based on a [document-term matrix](https://en.wikipedia.org/wiki/Document-term_matrix) of the corpus. To improve performance in large corpora, the matrix describes the frequency of terms that occur in the collection. In a document-term matrix, rows correspond to documents in the collection and columns correspond to terms."
   ]
  },
  {
   "cell_type": "code",
   "execution_count": 13,
   "metadata": {
    "collapsed": false
   },
   "outputs": [
    {
     "data": {
      "text/html": [
       "<div>\n",
       "<table border=\"1\" class=\"dataframe\">\n",
       "  <thead>\n",
       "    <tr style=\"text-align: right;\">\n",
       "      <th></th>\n",
       "      <th>the</th>\n",
       "      <th>and</th>\n",
       "      <th>of</th>\n",
       "      <th>to</th>\n",
       "      <th>in</th>\n",
       "      <th>he</th>\n",
       "      <th>that</th>\n",
       "      <th>was</th>\n",
       "      <th>it</th>\n",
       "      <th>his</th>\n",
       "      <th>...</th>\n",
       "      <th>medii</th>\n",
       "      <th>medieval</th>\n",
       "      <th>medico-legal</th>\n",
       "      <th>median</th>\n",
       "      <th>meddling</th>\n",
       "      <th>medal</th>\n",
       "      <th>mechanized</th>\n",
       "      <th>mechanics</th>\n",
       "      <th>meat-gorging</th>\n",
       "      <th>a'most</th>\n",
       "    </tr>\n",
       "  </thead>\n",
       "  <tbody>\n",
       "    <tr>\n",
       "      <th>Lovecraft_AttheMountainofMadness</th>\n",
       "      <td>2750.0</td>\n",
       "      <td>1480.0</td>\n",
       "      <td>1753.0</td>\n",
       "      <td>879.0</td>\n",
       "      <td>648.0</td>\n",
       "      <td>75.0</td>\n",
       "      <td>471.0</td>\n",
       "      <td>398.0</td>\n",
       "      <td>306.0</td>\n",
       "      <td>56.0</td>\n",
       "      <td>...</td>\n",
       "      <td>0.0</td>\n",
       "      <td>0.0</td>\n",
       "      <td>0.0</td>\n",
       "      <td>0.0</td>\n",
       "      <td>1.0</td>\n",
       "      <td>0.0</td>\n",
       "      <td>1.0</td>\n",
       "      <td>1.0</td>\n",
       "      <td>0.0</td>\n",
       "      <td>0.0</td>\n",
       "    </tr>\n",
       "    <tr>\n",
       "      <th>Howard_TheDevilinIron</th>\n",
       "      <td>893.0</td>\n",
       "      <td>386.0</td>\n",
       "      <td>354.0</td>\n",
       "      <td>201.0</td>\n",
       "      <td>200.0</td>\n",
       "      <td>314.0</td>\n",
       "      <td>140.0</td>\n",
       "      <td>208.0</td>\n",
       "      <td>106.0</td>\n",
       "      <td>225.0</td>\n",
       "      <td>...</td>\n",
       "      <td>0.0</td>\n",
       "      <td>0.0</td>\n",
       "      <td>0.0</td>\n",
       "      <td>0.0</td>\n",
       "      <td>0.0</td>\n",
       "      <td>0.0</td>\n",
       "      <td>0.0</td>\n",
       "      <td>0.0</td>\n",
       "      <td>1.0</td>\n",
       "      <td>0.0</td>\n",
       "    </tr>\n",
       "    <tr>\n",
       "      <th>Poe_ThePurloinedLetter</th>\n",
       "      <td>515.0</td>\n",
       "      <td>184.0</td>\n",
       "      <td>274.0</td>\n",
       "      <td>171.0</td>\n",
       "      <td>148.0</td>\n",
       "      <td>68.0</td>\n",
       "      <td>83.0</td>\n",
       "      <td>42.0</td>\n",
       "      <td>98.0</td>\n",
       "      <td>60.0</td>\n",
       "      <td>...</td>\n",
       "      <td>1.0</td>\n",
       "      <td>0.0</td>\n",
       "      <td>0.0</td>\n",
       "      <td>0.0</td>\n",
       "      <td>0.0</td>\n",
       "      <td>0.0</td>\n",
       "      <td>0.0</td>\n",
       "      <td>0.0</td>\n",
       "      <td>0.0</td>\n",
       "      <td>0.0</td>\n",
       "    </tr>\n",
       "    <tr>\n",
       "      <th>Lovecraft_TheShunnedHouse</th>\n",
       "      <td>781.0</td>\n",
       "      <td>449.0</td>\n",
       "      <td>450.0</td>\n",
       "      <td>223.0</td>\n",
       "      <td>234.0</td>\n",
       "      <td>59.0</td>\n",
       "      <td>135.0</td>\n",
       "      <td>156.0</td>\n",
       "      <td>123.0</td>\n",
       "      <td>53.0</td>\n",
       "      <td>...</td>\n",
       "      <td>0.0</td>\n",
       "      <td>0.0</td>\n",
       "      <td>0.0</td>\n",
       "      <td>0.0</td>\n",
       "      <td>0.0</td>\n",
       "      <td>0.0</td>\n",
       "      <td>0.0</td>\n",
       "      <td>0.0</td>\n",
       "      <td>0.0</td>\n",
       "      <td>0.0</td>\n",
       "    </tr>\n",
       "    <tr>\n",
       "      <th>Poe_TheMasqueoftheRedDeath</th>\n",
       "      <td>264.0</td>\n",
       "      <td>125.0</td>\n",
       "      <td>123.0</td>\n",
       "      <td>48.0</td>\n",
       "      <td>49.0</td>\n",
       "      <td>14.0</td>\n",
       "      <td>29.0</td>\n",
       "      <td>46.0</td>\n",
       "      <td>17.0</td>\n",
       "      <td>20.0</td>\n",
       "      <td>...</td>\n",
       "      <td>0.0</td>\n",
       "      <td>0.0</td>\n",
       "      <td>0.0</td>\n",
       "      <td>0.0</td>\n",
       "      <td>0.0</td>\n",
       "      <td>0.0</td>\n",
       "      <td>0.0</td>\n",
       "      <td>0.0</td>\n",
       "      <td>0.0</td>\n",
       "      <td>0.0</td>\n",
       "    </tr>\n",
       "    <tr>\n",
       "      <th>Doyle_TheSignoftheFour</th>\n",
       "      <td>2340.0</td>\n",
       "      <td>1179.0</td>\n",
       "      <td>1122.0</td>\n",
       "      <td>1081.0</td>\n",
       "      <td>680.0</td>\n",
       "      <td>638.0</td>\n",
       "      <td>626.0</td>\n",
       "      <td>574.0</td>\n",
       "      <td>683.0</td>\n",
       "      <td>480.0</td>\n",
       "      <td>...</td>\n",
       "      <td>0.0</td>\n",
       "      <td>1.0</td>\n",
       "      <td>0.0</td>\n",
       "      <td>0.0</td>\n",
       "      <td>0.0</td>\n",
       "      <td>0.0</td>\n",
       "      <td>0.0</td>\n",
       "      <td>0.0</td>\n",
       "      <td>0.0</td>\n",
       "      <td>1.0</td>\n",
       "    </tr>\n",
       "    <tr>\n",
       "      <th>Doyle_AStudyinScarlet</th>\n",
       "      <td>2539.0</td>\n",
       "      <td>1363.0</td>\n",
       "      <td>1210.0</td>\n",
       "      <td>1092.0</td>\n",
       "      <td>731.0</td>\n",
       "      <td>794.0</td>\n",
       "      <td>655.0</td>\n",
       "      <td>651.0</td>\n",
       "      <td>577.0</td>\n",
       "      <td>651.0</td>\n",
       "      <td>...</td>\n",
       "      <td>0.0</td>\n",
       "      <td>0.0</td>\n",
       "      <td>1.0</td>\n",
       "      <td>0.0</td>\n",
       "      <td>0.0</td>\n",
       "      <td>0.0</td>\n",
       "      <td>0.0</td>\n",
       "      <td>0.0</td>\n",
       "      <td>0.0</td>\n",
       "      <td>0.0</td>\n",
       "    </tr>\n",
       "    <tr>\n",
       "      <th>Howard_ShadowsintheMoonlight</th>\n",
       "      <td>885.0</td>\n",
       "      <td>370.0</td>\n",
       "      <td>382.0</td>\n",
       "      <td>208.0</td>\n",
       "      <td>219.0</td>\n",
       "      <td>137.0</td>\n",
       "      <td>101.0</td>\n",
       "      <td>146.0</td>\n",
       "      <td>76.0</td>\n",
       "      <td>168.0</td>\n",
       "      <td>...</td>\n",
       "      <td>0.0</td>\n",
       "      <td>0.0</td>\n",
       "      <td>0.0</td>\n",
       "      <td>0.0</td>\n",
       "      <td>0.0</td>\n",
       "      <td>0.0</td>\n",
       "      <td>0.0</td>\n",
       "      <td>0.0</td>\n",
       "      <td>0.0</td>\n",
       "      <td>0.0</td>\n",
       "    </tr>\n",
       "    <tr>\n",
       "      <th>Kipling_TheEndofthePassage</th>\n",
       "      <td>425.0</td>\n",
       "      <td>209.0</td>\n",
       "      <td>198.0</td>\n",
       "      <td>201.0</td>\n",
       "      <td>96.0</td>\n",
       "      <td>101.0</td>\n",
       "      <td>82.0</td>\n",
       "      <td>78.0</td>\n",
       "      <td>86.0</td>\n",
       "      <td>67.0</td>\n",
       "      <td>...</td>\n",
       "      <td>0.0</td>\n",
       "      <td>0.0</td>\n",
       "      <td>0.0</td>\n",
       "      <td>0.0</td>\n",
       "      <td>0.0</td>\n",
       "      <td>0.0</td>\n",
       "      <td>0.0</td>\n",
       "      <td>0.0</td>\n",
       "      <td>0.0</td>\n",
       "      <td>0.0</td>\n",
       "    </tr>\n",
       "    <tr>\n",
       "      <th>Poe_EurekaAProsePoem</th>\n",
       "      <td>2975.0</td>\n",
       "      <td>664.0</td>\n",
       "      <td>2072.0</td>\n",
       "      <td>1131.0</td>\n",
       "      <td>902.0</td>\n",
       "      <td>78.0</td>\n",
       "      <td>671.0</td>\n",
       "      <td>105.0</td>\n",
       "      <td>484.0</td>\n",
       "      <td>83.0</td>\n",
       "      <td>...</td>\n",
       "      <td>0.0</td>\n",
       "      <td>0.0</td>\n",
       "      <td>0.0</td>\n",
       "      <td>1.0</td>\n",
       "      <td>0.0</td>\n",
       "      <td>0.0</td>\n",
       "      <td>0.0</td>\n",
       "      <td>0.0</td>\n",
       "      <td>0.0</td>\n",
       "      <td>0.0</td>\n",
       "    </tr>\n",
       "    <tr>\n",
       "      <th>Howard_GodsoftheNorth</th>\n",
       "      <td>236.0</td>\n",
       "      <td>106.0</td>\n",
       "      <td>95.0</td>\n",
       "      <td>44.0</td>\n",
       "      <td>71.0</td>\n",
       "      <td>53.0</td>\n",
       "      <td>21.0</td>\n",
       "      <td>43.0</td>\n",
       "      <td>9.0</td>\n",
       "      <td>70.0</td>\n",
       "      <td>...</td>\n",
       "      <td>0.0</td>\n",
       "      <td>0.0</td>\n",
       "      <td>0.0</td>\n",
       "      <td>0.0</td>\n",
       "      <td>0.0</td>\n",
       "      <td>0.0</td>\n",
       "      <td>0.0</td>\n",
       "      <td>0.0</td>\n",
       "      <td>0.0</td>\n",
       "      <td>0.0</td>\n",
       "    </tr>\n",
       "    <tr>\n",
       "      <th>Doyle_TheHoundoftheBaskervilles</th>\n",
       "      <td>3344.0</td>\n",
       "      <td>1628.0</td>\n",
       "      <td>1596.0</td>\n",
       "      <td>1407.0</td>\n",
       "      <td>911.0</td>\n",
       "      <td>914.0</td>\n",
       "      <td>1133.0</td>\n",
       "      <td>803.0</td>\n",
       "      <td>981.0</td>\n",
       "      <td>692.0</td>\n",
       "      <td>...</td>\n",
       "      <td>0.0</td>\n",
       "      <td>0.0</td>\n",
       "      <td>0.0</td>\n",
       "      <td>0.0</td>\n",
       "      <td>0.0</td>\n",
       "      <td>0.0</td>\n",
       "      <td>0.0</td>\n",
       "      <td>0.0</td>\n",
       "      <td>0.0</td>\n",
       "      <td>0.0</td>\n",
       "    </tr>\n",
       "    <tr>\n",
       "      <th>Kipling_ThyServantaDog</th>\n",
       "      <td>790.0</td>\n",
       "      <td>1015.0</td>\n",
       "      <td>510.0</td>\n",
       "      <td>640.0</td>\n",
       "      <td>324.0</td>\n",
       "      <td>636.0</td>\n",
       "      <td>293.0</td>\n",
       "      <td>456.0</td>\n",
       "      <td>295.0</td>\n",
       "      <td>242.0</td>\n",
       "      <td>...</td>\n",
       "      <td>0.0</td>\n",
       "      <td>0.0</td>\n",
       "      <td>0.0</td>\n",
       "      <td>0.0</td>\n",
       "      <td>0.0</td>\n",
       "      <td>0.0</td>\n",
       "      <td>0.0</td>\n",
       "      <td>0.0</td>\n",
       "      <td>0.0</td>\n",
       "      <td>0.0</td>\n",
       "    </tr>\n",
       "    <tr>\n",
       "      <th>Poe_TheCaskofAmontillado</th>\n",
       "      <td>168.0</td>\n",
       "      <td>61.0</td>\n",
       "      <td>76.0</td>\n",
       "      <td>49.0</td>\n",
       "      <td>34.0</td>\n",
       "      <td>53.0</td>\n",
       "      <td>17.0</td>\n",
       "      <td>27.0</td>\n",
       "      <td>36.0</td>\n",
       "      <td>17.0</td>\n",
       "      <td>...</td>\n",
       "      <td>0.0</td>\n",
       "      <td>0.0</td>\n",
       "      <td>0.0</td>\n",
       "      <td>0.0</td>\n",
       "      <td>0.0</td>\n",
       "      <td>0.0</td>\n",
       "      <td>0.0</td>\n",
       "      <td>0.0</td>\n",
       "      <td>0.0</td>\n",
       "      <td>0.0</td>\n",
       "    </tr>\n",
       "    <tr>\n",
       "      <th>Doyle_AScandalinBohemia</th>\n",
       "      <td>448.0</td>\n",
       "      <td>255.0</td>\n",
       "      <td>235.0</td>\n",
       "      <td>244.0</td>\n",
       "      <td>157.0</td>\n",
       "      <td>109.0</td>\n",
       "      <td>104.0</td>\n",
       "      <td>124.0</td>\n",
       "      <td>154.0</td>\n",
       "      <td>105.0</td>\n",
       "      <td>...</td>\n",
       "      <td>0.0</td>\n",
       "      <td>0.0</td>\n",
       "      <td>0.0</td>\n",
       "      <td>0.0</td>\n",
       "      <td>0.0</td>\n",
       "      <td>0.0</td>\n",
       "      <td>0.0</td>\n",
       "      <td>0.0</td>\n",
       "      <td>0.0</td>\n",
       "      <td>0.0</td>\n",
       "    </tr>\n",
       "    <tr>\n",
       "      <th>Howard_SchadowsinZamboula</th>\n",
       "      <td>962.0</td>\n",
       "      <td>373.0</td>\n",
       "      <td>382.0</td>\n",
       "      <td>215.0</td>\n",
       "      <td>189.0</td>\n",
       "      <td>223.0</td>\n",
       "      <td>95.0</td>\n",
       "      <td>155.0</td>\n",
       "      <td>98.0</td>\n",
       "      <td>238.0</td>\n",
       "      <td>...</td>\n",
       "      <td>0.0</td>\n",
       "      <td>0.0</td>\n",
       "      <td>0.0</td>\n",
       "      <td>0.0</td>\n",
       "      <td>0.0</td>\n",
       "      <td>0.0</td>\n",
       "      <td>0.0</td>\n",
       "      <td>0.0</td>\n",
       "      <td>0.0</td>\n",
       "      <td>0.0</td>\n",
       "    </tr>\n",
       "    <tr>\n",
       "      <th>Kipling_TheJungleBook</th>\n",
       "      <td>3457.0</td>\n",
       "      <td>2245.0</td>\n",
       "      <td>1198.0</td>\n",
       "      <td>1171.0</td>\n",
       "      <td>677.0</td>\n",
       "      <td>1056.0</td>\n",
       "      <td>644.0</td>\n",
       "      <td>519.0</td>\n",
       "      <td>374.0</td>\n",
       "      <td>648.0</td>\n",
       "      <td>...</td>\n",
       "      <td>0.0</td>\n",
       "      <td>0.0</td>\n",
       "      <td>0.0</td>\n",
       "      <td>0.0</td>\n",
       "      <td>0.0</td>\n",
       "      <td>1.0</td>\n",
       "      <td>0.0</td>\n",
       "      <td>0.0</td>\n",
       "      <td>0.0</td>\n",
       "      <td>0.0</td>\n",
       "    </tr>\n",
       "  </tbody>\n",
       "</table>\n",
       "<p>17 rows × 22232 columns</p>\n",
       "</div>"
      ],
      "text/plain": [
       "                                     the     and      of      to     in  \\\n",
       "Lovecraft_AttheMountainofMadness  2750.0  1480.0  1753.0   879.0  648.0   \n",
       "Howard_TheDevilinIron              893.0   386.0   354.0   201.0  200.0   \n",
       "Poe_ThePurloinedLetter             515.0   184.0   274.0   171.0  148.0   \n",
       "Lovecraft_TheShunnedHouse          781.0   449.0   450.0   223.0  234.0   \n",
       "Poe_TheMasqueoftheRedDeath         264.0   125.0   123.0    48.0   49.0   \n",
       "Doyle_TheSignoftheFour            2340.0  1179.0  1122.0  1081.0  680.0   \n",
       "Doyle_AStudyinScarlet             2539.0  1363.0  1210.0  1092.0  731.0   \n",
       "Howard_ShadowsintheMoonlight       885.0   370.0   382.0   208.0  219.0   \n",
       "Kipling_TheEndofthePassage         425.0   209.0   198.0   201.0   96.0   \n",
       "Poe_EurekaAProsePoem              2975.0   664.0  2072.0  1131.0  902.0   \n",
       "Howard_GodsoftheNorth              236.0   106.0    95.0    44.0   71.0   \n",
       "Doyle_TheHoundoftheBaskervilles   3344.0  1628.0  1596.0  1407.0  911.0   \n",
       "Kipling_ThyServantaDog             790.0  1015.0   510.0   640.0  324.0   \n",
       "Poe_TheCaskofAmontillado           168.0    61.0    76.0    49.0   34.0   \n",
       "Doyle_AScandalinBohemia            448.0   255.0   235.0   244.0  157.0   \n",
       "Howard_SchadowsinZamboula          962.0   373.0   382.0   215.0  189.0   \n",
       "Kipling_TheJungleBook             3457.0  2245.0  1198.0  1171.0  677.0   \n",
       "\n",
       "                                      he    that    was     it    his   ...    \\\n",
       "Lovecraft_AttheMountainofMadness    75.0   471.0  398.0  306.0   56.0   ...     \n",
       "Howard_TheDevilinIron              314.0   140.0  208.0  106.0  225.0   ...     \n",
       "Poe_ThePurloinedLetter              68.0    83.0   42.0   98.0   60.0   ...     \n",
       "Lovecraft_TheShunnedHouse           59.0   135.0  156.0  123.0   53.0   ...     \n",
       "Poe_TheMasqueoftheRedDeath          14.0    29.0   46.0   17.0   20.0   ...     \n",
       "Doyle_TheSignoftheFour             638.0   626.0  574.0  683.0  480.0   ...     \n",
       "Doyle_AStudyinScarlet              794.0   655.0  651.0  577.0  651.0   ...     \n",
       "Howard_ShadowsintheMoonlight       137.0   101.0  146.0   76.0  168.0   ...     \n",
       "Kipling_TheEndofthePassage         101.0    82.0   78.0   86.0   67.0   ...     \n",
       "Poe_EurekaAProsePoem                78.0   671.0  105.0  484.0   83.0   ...     \n",
       "Howard_GodsoftheNorth               53.0    21.0   43.0    9.0   70.0   ...     \n",
       "Doyle_TheHoundoftheBaskervilles    914.0  1133.0  803.0  981.0  692.0   ...     \n",
       "Kipling_ThyServantaDog             636.0   293.0  456.0  295.0  242.0   ...     \n",
       "Poe_TheCaskofAmontillado            53.0    17.0   27.0   36.0   17.0   ...     \n",
       "Doyle_AScandalinBohemia            109.0   104.0  124.0  154.0  105.0   ...     \n",
       "Howard_SchadowsinZamboula          223.0    95.0  155.0   98.0  238.0   ...     \n",
       "Kipling_TheJungleBook             1056.0   644.0  519.0  374.0  648.0   ...     \n",
       "\n",
       "                                  medii  medieval  medico-legal  median  \\\n",
       "Lovecraft_AttheMountainofMadness    0.0       0.0           0.0     0.0   \n",
       "Howard_TheDevilinIron               0.0       0.0           0.0     0.0   \n",
       "Poe_ThePurloinedLetter              1.0       0.0           0.0     0.0   \n",
       "Lovecraft_TheShunnedHouse           0.0       0.0           0.0     0.0   \n",
       "Poe_TheMasqueoftheRedDeath          0.0       0.0           0.0     0.0   \n",
       "Doyle_TheSignoftheFour              0.0       1.0           0.0     0.0   \n",
       "Doyle_AStudyinScarlet               0.0       0.0           1.0     0.0   \n",
       "Howard_ShadowsintheMoonlight        0.0       0.0           0.0     0.0   \n",
       "Kipling_TheEndofthePassage          0.0       0.0           0.0     0.0   \n",
       "Poe_EurekaAProsePoem                0.0       0.0           0.0     1.0   \n",
       "Howard_GodsoftheNorth               0.0       0.0           0.0     0.0   \n",
       "Doyle_TheHoundoftheBaskervilles     0.0       0.0           0.0     0.0   \n",
       "Kipling_ThyServantaDog              0.0       0.0           0.0     0.0   \n",
       "Poe_TheCaskofAmontillado            0.0       0.0           0.0     0.0   \n",
       "Doyle_AScandalinBohemia             0.0       0.0           0.0     0.0   \n",
       "Howard_SchadowsinZamboula           0.0       0.0           0.0     0.0   \n",
       "Kipling_TheJungleBook               0.0       0.0           0.0     0.0   \n",
       "\n",
       "                                  meddling  medal  mechanized  mechanics  \\\n",
       "Lovecraft_AttheMountainofMadness       1.0    0.0         1.0        1.0   \n",
       "Howard_TheDevilinIron                  0.0    0.0         0.0        0.0   \n",
       "Poe_ThePurloinedLetter                 0.0    0.0         0.0        0.0   \n",
       "Lovecraft_TheShunnedHouse              0.0    0.0         0.0        0.0   \n",
       "Poe_TheMasqueoftheRedDeath             0.0    0.0         0.0        0.0   \n",
       "Doyle_TheSignoftheFour                 0.0    0.0         0.0        0.0   \n",
       "Doyle_AStudyinScarlet                  0.0    0.0         0.0        0.0   \n",
       "Howard_ShadowsintheMoonlight           0.0    0.0         0.0        0.0   \n",
       "Kipling_TheEndofthePassage             0.0    0.0         0.0        0.0   \n",
       "Poe_EurekaAProsePoem                   0.0    0.0         0.0        0.0   \n",
       "Howard_GodsoftheNorth                  0.0    0.0         0.0        0.0   \n",
       "Doyle_TheHoundoftheBaskervilles        0.0    0.0         0.0        0.0   \n",
       "Kipling_ThyServantaDog                 0.0    0.0         0.0        0.0   \n",
       "Poe_TheCaskofAmontillado               0.0    0.0         0.0        0.0   \n",
       "Doyle_AScandalinBohemia                0.0    0.0         0.0        0.0   \n",
       "Howard_SchadowsinZamboula              0.0    0.0         0.0        0.0   \n",
       "Kipling_TheJungleBook                  0.0    1.0         0.0        0.0   \n",
       "\n",
       "                                  meat-gorging  a'most  \n",
       "Lovecraft_AttheMountainofMadness           0.0     0.0  \n",
       "Howard_TheDevilinIron                      1.0     0.0  \n",
       "Poe_ThePurloinedLetter                     0.0     0.0  \n",
       "Lovecraft_TheShunnedHouse                  0.0     0.0  \n",
       "Poe_TheMasqueoftheRedDeath                 0.0     0.0  \n",
       "Doyle_TheSignoftheFour                     0.0     1.0  \n",
       "Doyle_AStudyinScarlet                      0.0     0.0  \n",
       "Howard_ShadowsintheMoonlight               0.0     0.0  \n",
       "Kipling_TheEndofthePassage                 0.0     0.0  \n",
       "Poe_EurekaAProsePoem                       0.0     0.0  \n",
       "Howard_GodsoftheNorth                      0.0     0.0  \n",
       "Doyle_TheHoundoftheBaskervilles            0.0     0.0  \n",
       "Kipling_ThyServantaDog                     0.0     0.0  \n",
       "Poe_TheCaskofAmontillado                   0.0     0.0  \n",
       "Doyle_AScandalinBohemia                    0.0     0.0  \n",
       "Howard_SchadowsinZamboula                  0.0     0.0  \n",
       "Kipling_TheJungleBook                      0.0     0.0  \n",
       "\n",
       "[17 rows x 22232 columns]"
      ]
     },
     "execution_count": 13,
     "metadata": {},
     "output_type": "execute_result"
    }
   ],
   "source": [
    "doc_terms = preprocessing.create_doc_term_matrix(tokens, document_labels)\n",
    "doc_terms"
   ]
  },
  {
   "cell_type": "markdown",
   "metadata": {
    "deletable": true,
    "editable": true
   },
   "source": [
    "### 1.4.2 Create a sparse bag-of-words model\n",
    "\n",
    "The LDA topic model is based on a bag-of-words model of the corpus. To improve performance in large corpora, actual words and document titels are replaced by indices in the actual bag-of-words model. It is therefore necessary to create dictionaries for mapping these indices in advance."
   ]
  },
  {
   "cell_type": "markdown",
   "metadata": {
    "deletable": true,
    "editable": true
   },
   "source": [
    "#### Create dictionaries"
   ]
  },
  {
   "cell_type": "markdown",
   "metadata": {
    "collapsed": true,
    "deletable": true,
    "editable": true
   },
   "source": [
    "id_types = preprocessing.create_dictionary(tokens)\n",
    "doc_ids = preprocessing.create_dictionary(document_labels)"
   ]
  },
  {
   "cell_type": "markdown",
   "metadata": {
    "deletable": true,
    "editable": true
   },
   "source": [
    "#### Create matrix market"
   ]
  },
  {
   "cell_type": "code",
   "execution_count": 14,
   "metadata": {
    "collapsed": true,
    "deletable": true,
    "editable": true
   },
   "outputs": [],
   "source": [
    "sparse_bow = preprocessing.create_sparse_bow(document_labels, tokens, id_types, doc_ids)"
   ]
  },
  {
   "cell_type": "markdown",
   "metadata": {
    "deletable": true,
    "editable": true
   },
   "source": [
    "### 1.5. Feature selection and/or removal\n",
    "\n",
    "In topic modeling, it is often usefull (if not vital) to remove some types before modeling. In this example, the 100 most frequent words and the *hapax legomena* in the corpus are listed and removed. Alternatively, the 'feature_list' containing all features to be removed from the corpus can be replaced by, or combined with an external stop word list or any other list of strings containing features we want to remove.\n",
    "\n",
    "Note! For small/normal corpora using a doc_term_matrix (1.5.1) will be easier to handle. Using sparse_bow (1.5.2) is recommended for large corpora only."
   ]
  },
  {
   "cell_type": "markdown",
   "metadata": {},
   "source": [
    "### 1.5.1 Remove features from doc_term_matrix"
   ]
  },
  {
   "cell_type": "markdown",
   "metadata": {},
   "source": [
    "#### Removing 100 most frequent words\n",
    "\n",
    "The columns of the document-term matrix is ordered by total most frequent words. To remove the first 100 columns (and also the 100 total most frequent words), execute the following cell."
   ]
  },
  {
   "cell_type": "code",
   "execution_count": 14,
   "metadata": {
    "collapsed": true
   },
   "outputs": [],
   "source": [
    "doc_terms = doc_terms.ix[:,100:]"
   ]
  },
  {
   "cell_type": "markdown",
   "metadata": {},
   "source": [
    "#### Using external stopwordlist for removing features\n",
    "\n",
    "To remove features specify the path to the stopwordlist"
   ]
  },
  {
   "cell_type": "code",
   "execution_count": 15,
   "metadata": {
    "collapsed": true
   },
   "outputs": [],
   "source": [
    "path_to_stopwordlist = \"tutorial_supplementals/stopwords/en.txt\"\n",
    "\n",
    "extern_stopwords = [line.strip() for line in open(path_to_stopwordlist, 'r')]\n",
    "\n",
    "for word in extern_stopwords:\n",
    "    if word in doc_terms.columns:\n",
    "        doc_terms.drop([word],inplace=True,axis=1)"
   ]
  },
  {
   "cell_type": "markdown",
   "metadata": {},
   "source": [
    "#### Removing *hapax legomena*\n",
    "\n",
    "To remove all tokens occuring only once in a document, replace all values with zero in the matrix."
   ]
  },
  {
   "cell_type": "code",
   "execution_count": 16,
   "metadata": {
    "collapsed": true
   },
   "outputs": [],
   "source": [
    "doc_terms = doc_terms.replace(1, 0)"
   ]
  },
  {
   "cell_type": "markdown",
   "metadata": {},
   "source": [
    "Finally, this is how your clean corpus looks like now."
   ]
  },
  {
   "cell_type": "code",
   "execution_count": 17,
   "metadata": {
    "collapsed": false
   },
   "outputs": [
    {
     "data": {
      "text/html": [
       "<div>\n",
       "<table border=\"1\" class=\"dataframe\">\n",
       "  <thead>\n",
       "    <tr style=\"text-align: right;\">\n",
       "      <th></th>\n",
       "      <th>long</th>\n",
       "      <th>eyes</th>\n",
       "      <th>head</th>\n",
       "      <th>night</th>\n",
       "      <th>hand</th>\n",
       "      <th>men</th>\n",
       "      <th>face</th>\n",
       "      <th>good</th>\n",
       "      <th>house</th>\n",
       "      <th>thought</th>\n",
       "      <th>...</th>\n",
       "      <th>medii</th>\n",
       "      <th>medieval</th>\n",
       "      <th>medico-legal</th>\n",
       "      <th>median</th>\n",
       "      <th>meddling</th>\n",
       "      <th>medal</th>\n",
       "      <th>mechanized</th>\n",
       "      <th>mechanics</th>\n",
       "      <th>meat-gorging</th>\n",
       "      <th>a'most</th>\n",
       "    </tr>\n",
       "  </thead>\n",
       "  <tbody>\n",
       "    <tr>\n",
       "      <th>Lovecraft_AttheMountainofMadness</th>\n",
       "      <td>41.0</td>\n",
       "      <td>10.0</td>\n",
       "      <td>16.0</td>\n",
       "      <td>5.0</td>\n",
       "      <td>9.0</td>\n",
       "      <td>32.0</td>\n",
       "      <td>5.0</td>\n",
       "      <td>13.0</td>\n",
       "      <td>2.0</td>\n",
       "      <td>34.0</td>\n",
       "      <td>...</td>\n",
       "      <td>0.0</td>\n",
       "      <td>0.0</td>\n",
       "      <td>0.0</td>\n",
       "      <td>0.0</td>\n",
       "      <td>0.0</td>\n",
       "      <td>0.0</td>\n",
       "      <td>0.0</td>\n",
       "      <td>0.0</td>\n",
       "      <td>0.0</td>\n",
       "      <td>0.0</td>\n",
       "    </tr>\n",
       "    <tr>\n",
       "      <th>Howard_TheDevilinIron</th>\n",
       "      <td>7.0</td>\n",
       "      <td>24.0</td>\n",
       "      <td>21.0</td>\n",
       "      <td>9.0</td>\n",
       "      <td>13.0</td>\n",
       "      <td>16.0</td>\n",
       "      <td>5.0</td>\n",
       "      <td>2.0</td>\n",
       "      <td>5.0</td>\n",
       "      <td>9.0</td>\n",
       "      <td>...</td>\n",
       "      <td>0.0</td>\n",
       "      <td>0.0</td>\n",
       "      <td>0.0</td>\n",
       "      <td>0.0</td>\n",
       "      <td>0.0</td>\n",
       "      <td>0.0</td>\n",
       "      <td>0.0</td>\n",
       "      <td>0.0</td>\n",
       "      <td>0.0</td>\n",
       "      <td>0.0</td>\n",
       "    </tr>\n",
       "    <tr>\n",
       "      <th>Poe_ThePurloinedLetter</th>\n",
       "      <td>8.0</td>\n",
       "      <td>5.0</td>\n",
       "      <td>0.0</td>\n",
       "      <td>3.0</td>\n",
       "      <td>9.0</td>\n",
       "      <td>2.0</td>\n",
       "      <td>0.0</td>\n",
       "      <td>7.0</td>\n",
       "      <td>2.0</td>\n",
       "      <td>9.0</td>\n",
       "      <td>...</td>\n",
       "      <td>0.0</td>\n",
       "      <td>0.0</td>\n",
       "      <td>0.0</td>\n",
       "      <td>0.0</td>\n",
       "      <td>0.0</td>\n",
       "      <td>0.0</td>\n",
       "      <td>0.0</td>\n",
       "      <td>0.0</td>\n",
       "      <td>0.0</td>\n",
       "      <td>0.0</td>\n",
       "    </tr>\n",
       "    <tr>\n",
       "      <th>Lovecraft_TheShunnedHouse</th>\n",
       "      <td>7.0</td>\n",
       "      <td>6.0</td>\n",
       "      <td>2.0</td>\n",
       "      <td>8.0</td>\n",
       "      <td>2.0</td>\n",
       "      <td>2.0</td>\n",
       "      <td>6.0</td>\n",
       "      <td>4.0</td>\n",
       "      <td>60.0</td>\n",
       "      <td>11.0</td>\n",
       "      <td>...</td>\n",
       "      <td>0.0</td>\n",
       "      <td>0.0</td>\n",
       "      <td>0.0</td>\n",
       "      <td>0.0</td>\n",
       "      <td>0.0</td>\n",
       "      <td>0.0</td>\n",
       "      <td>0.0</td>\n",
       "      <td>0.0</td>\n",
       "      <td>0.0</td>\n",
       "      <td>0.0</td>\n",
       "    </tr>\n",
       "    <tr>\n",
       "      <th>Poe_TheMasqueoftheRedDeath</th>\n",
       "      <td>2.0</td>\n",
       "      <td>0.0</td>\n",
       "      <td>0.0</td>\n",
       "      <td>3.0</td>\n",
       "      <td>4.0</td>\n",
       "      <td>0.0</td>\n",
       "      <td>3.0</td>\n",
       "      <td>0.0</td>\n",
       "      <td>0.0</td>\n",
       "      <td>2.0</td>\n",
       "      <td>...</td>\n",
       "      <td>0.0</td>\n",
       "      <td>0.0</td>\n",
       "      <td>0.0</td>\n",
       "      <td>0.0</td>\n",
       "      <td>0.0</td>\n",
       "      <td>0.0</td>\n",
       "      <td>0.0</td>\n",
       "      <td>0.0</td>\n",
       "      <td>0.0</td>\n",
       "      <td>0.0</td>\n",
       "    </tr>\n",
       "    <tr>\n",
       "      <th>Doyle_TheSignoftheFour</th>\n",
       "      <td>45.0</td>\n",
       "      <td>37.0</td>\n",
       "      <td>33.0</td>\n",
       "      <td>63.0</td>\n",
       "      <td>54.0</td>\n",
       "      <td>32.0</td>\n",
       "      <td>50.0</td>\n",
       "      <td>41.0</td>\n",
       "      <td>29.0</td>\n",
       "      <td>47.0</td>\n",
       "      <td>...</td>\n",
       "      <td>0.0</td>\n",
       "      <td>0.0</td>\n",
       "      <td>0.0</td>\n",
       "      <td>0.0</td>\n",
       "      <td>0.0</td>\n",
       "      <td>0.0</td>\n",
       "      <td>0.0</td>\n",
       "      <td>0.0</td>\n",
       "      <td>0.0</td>\n",
       "      <td>0.0</td>\n",
       "    </tr>\n",
       "    <tr>\n",
       "      <th>Doyle_AStudyinScarlet</th>\n",
       "      <td>52.0</td>\n",
       "      <td>59.0</td>\n",
       "      <td>28.0</td>\n",
       "      <td>35.0</td>\n",
       "      <td>57.0</td>\n",
       "      <td>31.0</td>\n",
       "      <td>67.0</td>\n",
       "      <td>31.0</td>\n",
       "      <td>42.0</td>\n",
       "      <td>37.0</td>\n",
       "      <td>...</td>\n",
       "      <td>0.0</td>\n",
       "      <td>0.0</td>\n",
       "      <td>0.0</td>\n",
       "      <td>0.0</td>\n",
       "      <td>0.0</td>\n",
       "      <td>0.0</td>\n",
       "      <td>0.0</td>\n",
       "      <td>0.0</td>\n",
       "      <td>0.0</td>\n",
       "      <td>0.0</td>\n",
       "    </tr>\n",
       "    <tr>\n",
       "      <th>Howard_ShadowsintheMoonlight</th>\n",
       "      <td>19.0</td>\n",
       "      <td>34.0</td>\n",
       "      <td>18.0</td>\n",
       "      <td>11.0</td>\n",
       "      <td>21.0</td>\n",
       "      <td>14.0</td>\n",
       "      <td>12.0</td>\n",
       "      <td>3.0</td>\n",
       "      <td>0.0</td>\n",
       "      <td>8.0</td>\n",
       "      <td>...</td>\n",
       "      <td>0.0</td>\n",
       "      <td>0.0</td>\n",
       "      <td>0.0</td>\n",
       "      <td>0.0</td>\n",
       "      <td>0.0</td>\n",
       "      <td>0.0</td>\n",
       "      <td>0.0</td>\n",
       "      <td>0.0</td>\n",
       "      <td>0.0</td>\n",
       "      <td>0.0</td>\n",
       "    </tr>\n",
       "    <tr>\n",
       "      <th>Kipling_TheEndofthePassage</th>\n",
       "      <td>9.0</td>\n",
       "      <td>14.0</td>\n",
       "      <td>12.0</td>\n",
       "      <td>6.0</td>\n",
       "      <td>9.0</td>\n",
       "      <td>10.0</td>\n",
       "      <td>16.0</td>\n",
       "      <td>16.0</td>\n",
       "      <td>4.0</td>\n",
       "      <td>6.0</td>\n",
       "      <td>...</td>\n",
       "      <td>0.0</td>\n",
       "      <td>0.0</td>\n",
       "      <td>0.0</td>\n",
       "      <td>0.0</td>\n",
       "      <td>0.0</td>\n",
       "      <td>0.0</td>\n",
       "      <td>0.0</td>\n",
       "      <td>0.0</td>\n",
       "      <td>0.0</td>\n",
       "      <td>0.0</td>\n",
       "    </tr>\n",
       "    <tr>\n",
       "      <th>Poe_EurekaAProsePoem</th>\n",
       "      <td>26.0</td>\n",
       "      <td>9.0</td>\n",
       "      <td>0.0</td>\n",
       "      <td>3.0</td>\n",
       "      <td>12.0</td>\n",
       "      <td>9.0</td>\n",
       "      <td>4.0</td>\n",
       "      <td>5.0</td>\n",
       "      <td>0.0</td>\n",
       "      <td>26.0</td>\n",
       "      <td>...</td>\n",
       "      <td>0.0</td>\n",
       "      <td>0.0</td>\n",
       "      <td>0.0</td>\n",
       "      <td>0.0</td>\n",
       "      <td>0.0</td>\n",
       "      <td>0.0</td>\n",
       "      <td>0.0</td>\n",
       "      <td>0.0</td>\n",
       "      <td>0.0</td>\n",
       "      <td>0.0</td>\n",
       "    </tr>\n",
       "    <tr>\n",
       "      <th>Howard_GodsoftheNorth</th>\n",
       "      <td>3.0</td>\n",
       "      <td>12.0</td>\n",
       "      <td>5.0</td>\n",
       "      <td>0.0</td>\n",
       "      <td>3.0</td>\n",
       "      <td>6.0</td>\n",
       "      <td>3.0</td>\n",
       "      <td>0.0</td>\n",
       "      <td>0.0</td>\n",
       "      <td>3.0</td>\n",
       "      <td>...</td>\n",
       "      <td>0.0</td>\n",
       "      <td>0.0</td>\n",
       "      <td>0.0</td>\n",
       "      <td>0.0</td>\n",
       "      <td>0.0</td>\n",
       "      <td>0.0</td>\n",
       "      <td>0.0</td>\n",
       "      <td>0.0</td>\n",
       "      <td>0.0</td>\n",
       "      <td>0.0</td>\n",
       "    </tr>\n",
       "    <tr>\n",
       "      <th>Doyle_TheHoundoftheBaskervilles</th>\n",
       "      <td>69.0</td>\n",
       "      <td>71.0</td>\n",
       "      <td>32.0</td>\n",
       "      <td>70.0</td>\n",
       "      <td>39.0</td>\n",
       "      <td>14.0</td>\n",
       "      <td>77.0</td>\n",
       "      <td>61.0</td>\n",
       "      <td>67.0</td>\n",
       "      <td>42.0</td>\n",
       "      <td>...</td>\n",
       "      <td>0.0</td>\n",
       "      <td>0.0</td>\n",
       "      <td>0.0</td>\n",
       "      <td>0.0</td>\n",
       "      <td>0.0</td>\n",
       "      <td>0.0</td>\n",
       "      <td>0.0</td>\n",
       "      <td>0.0</td>\n",
       "      <td>0.0</td>\n",
       "      <td>0.0</td>\n",
       "    </tr>\n",
       "    <tr>\n",
       "      <th>Kipling_ThyServantaDog</th>\n",
       "      <td>38.0</td>\n",
       "      <td>13.0</td>\n",
       "      <td>36.0</td>\n",
       "      <td>19.0</td>\n",
       "      <td>21.0</td>\n",
       "      <td>8.0</td>\n",
       "      <td>13.0</td>\n",
       "      <td>28.0</td>\n",
       "      <td>27.0</td>\n",
       "      <td>20.0</td>\n",
       "      <td>...</td>\n",
       "      <td>0.0</td>\n",
       "      <td>0.0</td>\n",
       "      <td>0.0</td>\n",
       "      <td>0.0</td>\n",
       "      <td>0.0</td>\n",
       "      <td>0.0</td>\n",
       "      <td>0.0</td>\n",
       "      <td>0.0</td>\n",
       "      <td>0.0</td>\n",
       "      <td>0.0</td>\n",
       "    </tr>\n",
       "    <tr>\n",
       "      <th>Poe_TheCaskofAmontillado</th>\n",
       "      <td>5.0</td>\n",
       "      <td>3.0</td>\n",
       "      <td>2.0</td>\n",
       "      <td>0.0</td>\n",
       "      <td>3.0</td>\n",
       "      <td>0.0</td>\n",
       "      <td>0.0</td>\n",
       "      <td>4.0</td>\n",
       "      <td>0.0</td>\n",
       "      <td>3.0</td>\n",
       "      <td>...</td>\n",
       "      <td>0.0</td>\n",
       "      <td>0.0</td>\n",
       "      <td>0.0</td>\n",
       "      <td>0.0</td>\n",
       "      <td>0.0</td>\n",
       "      <td>0.0</td>\n",
       "      <td>0.0</td>\n",
       "      <td>0.0</td>\n",
       "      <td>0.0</td>\n",
       "      <td>0.0</td>\n",
       "    </tr>\n",
       "    <tr>\n",
       "      <th>Doyle_AScandalinBohemia</th>\n",
       "      <td>5.0</td>\n",
       "      <td>9.0</td>\n",
       "      <td>2.0</td>\n",
       "      <td>4.0</td>\n",
       "      <td>13.0</td>\n",
       "      <td>7.0</td>\n",
       "      <td>10.0</td>\n",
       "      <td>9.0</td>\n",
       "      <td>14.0</td>\n",
       "      <td>4.0</td>\n",
       "      <td>...</td>\n",
       "      <td>0.0</td>\n",
       "      <td>0.0</td>\n",
       "      <td>0.0</td>\n",
       "      <td>0.0</td>\n",
       "      <td>0.0</td>\n",
       "      <td>0.0</td>\n",
       "      <td>0.0</td>\n",
       "      <td>0.0</td>\n",
       "      <td>0.0</td>\n",
       "      <td>0.0</td>\n",
       "    </tr>\n",
       "    <tr>\n",
       "      <th>Howard_SchadowsinZamboula</th>\n",
       "      <td>7.0</td>\n",
       "      <td>31.0</td>\n",
       "      <td>21.0</td>\n",
       "      <td>15.0</td>\n",
       "      <td>24.0</td>\n",
       "      <td>24.0</td>\n",
       "      <td>12.0</td>\n",
       "      <td>4.0</td>\n",
       "      <td>15.0</td>\n",
       "      <td>4.0</td>\n",
       "      <td>...</td>\n",
       "      <td>0.0</td>\n",
       "      <td>0.0</td>\n",
       "      <td>0.0</td>\n",
       "      <td>0.0</td>\n",
       "      <td>0.0</td>\n",
       "      <td>0.0</td>\n",
       "      <td>0.0</td>\n",
       "      <td>0.0</td>\n",
       "      <td>0.0</td>\n",
       "      <td>0.0</td>\n",
       "    </tr>\n",
       "    <tr>\n",
       "      <th>Kipling_TheJungleBook</th>\n",
       "      <td>73.0</td>\n",
       "      <td>68.0</td>\n",
       "      <td>129.0</td>\n",
       "      <td>74.0</td>\n",
       "      <td>16.0</td>\n",
       "      <td>95.0</td>\n",
       "      <td>16.0</td>\n",
       "      <td>72.0</td>\n",
       "      <td>23.0</td>\n",
       "      <td>24.0</td>\n",
       "      <td>...</td>\n",
       "      <td>0.0</td>\n",
       "      <td>0.0</td>\n",
       "      <td>0.0</td>\n",
       "      <td>0.0</td>\n",
       "      <td>0.0</td>\n",
       "      <td>0.0</td>\n",
       "      <td>0.0</td>\n",
       "      <td>0.0</td>\n",
       "      <td>0.0</td>\n",
       "      <td>0.0</td>\n",
       "    </tr>\n",
       "  </tbody>\n",
       "</table>\n",
       "<p>17 rows × 21676 columns</p>\n",
       "</div>"
      ],
      "text/plain": [
       "                                  long  eyes   head  night  hand   men  face  \\\n",
       "Lovecraft_AttheMountainofMadness  41.0  10.0   16.0    5.0   9.0  32.0   5.0   \n",
       "Howard_TheDevilinIron              7.0  24.0   21.0    9.0  13.0  16.0   5.0   \n",
       "Poe_ThePurloinedLetter             8.0   5.0    0.0    3.0   9.0   2.0   0.0   \n",
       "Lovecraft_TheShunnedHouse          7.0   6.0    2.0    8.0   2.0   2.0   6.0   \n",
       "Poe_TheMasqueoftheRedDeath         2.0   0.0    0.0    3.0   4.0   0.0   3.0   \n",
       "Doyle_TheSignoftheFour            45.0  37.0   33.0   63.0  54.0  32.0  50.0   \n",
       "Doyle_AStudyinScarlet             52.0  59.0   28.0   35.0  57.0  31.0  67.0   \n",
       "Howard_ShadowsintheMoonlight      19.0  34.0   18.0   11.0  21.0  14.0  12.0   \n",
       "Kipling_TheEndofthePassage         9.0  14.0   12.0    6.0   9.0  10.0  16.0   \n",
       "Poe_EurekaAProsePoem              26.0   9.0    0.0    3.0  12.0   9.0   4.0   \n",
       "Howard_GodsoftheNorth              3.0  12.0    5.0    0.0   3.0   6.0   3.0   \n",
       "Doyle_TheHoundoftheBaskervilles   69.0  71.0   32.0   70.0  39.0  14.0  77.0   \n",
       "Kipling_ThyServantaDog            38.0  13.0   36.0   19.0  21.0   8.0  13.0   \n",
       "Poe_TheCaskofAmontillado           5.0   3.0    2.0    0.0   3.0   0.0   0.0   \n",
       "Doyle_AScandalinBohemia            5.0   9.0    2.0    4.0  13.0   7.0  10.0   \n",
       "Howard_SchadowsinZamboula          7.0  31.0   21.0   15.0  24.0  24.0  12.0   \n",
       "Kipling_TheJungleBook             73.0  68.0  129.0   74.0  16.0  95.0  16.0   \n",
       "\n",
       "                                  good  house  thought   ...    medii  \\\n",
       "Lovecraft_AttheMountainofMadness  13.0    2.0     34.0   ...      0.0   \n",
       "Howard_TheDevilinIron              2.0    5.0      9.0   ...      0.0   \n",
       "Poe_ThePurloinedLetter             7.0    2.0      9.0   ...      0.0   \n",
       "Lovecraft_TheShunnedHouse          4.0   60.0     11.0   ...      0.0   \n",
       "Poe_TheMasqueoftheRedDeath         0.0    0.0      2.0   ...      0.0   \n",
       "Doyle_TheSignoftheFour            41.0   29.0     47.0   ...      0.0   \n",
       "Doyle_AStudyinScarlet             31.0   42.0     37.0   ...      0.0   \n",
       "Howard_ShadowsintheMoonlight       3.0    0.0      8.0   ...      0.0   \n",
       "Kipling_TheEndofthePassage        16.0    4.0      6.0   ...      0.0   \n",
       "Poe_EurekaAProsePoem               5.0    0.0     26.0   ...      0.0   \n",
       "Howard_GodsoftheNorth              0.0    0.0      3.0   ...      0.0   \n",
       "Doyle_TheHoundoftheBaskervilles   61.0   67.0     42.0   ...      0.0   \n",
       "Kipling_ThyServantaDog            28.0   27.0     20.0   ...      0.0   \n",
       "Poe_TheCaskofAmontillado           4.0    0.0      3.0   ...      0.0   \n",
       "Doyle_AScandalinBohemia            9.0   14.0      4.0   ...      0.0   \n",
       "Howard_SchadowsinZamboula          4.0   15.0      4.0   ...      0.0   \n",
       "Kipling_TheJungleBook             72.0   23.0     24.0   ...      0.0   \n",
       "\n",
       "                                  medieval  medico-legal  median  meddling  \\\n",
       "Lovecraft_AttheMountainofMadness       0.0           0.0     0.0       0.0   \n",
       "Howard_TheDevilinIron                  0.0           0.0     0.0       0.0   \n",
       "Poe_ThePurloinedLetter                 0.0           0.0     0.0       0.0   \n",
       "Lovecraft_TheShunnedHouse              0.0           0.0     0.0       0.0   \n",
       "Poe_TheMasqueoftheRedDeath             0.0           0.0     0.0       0.0   \n",
       "Doyle_TheSignoftheFour                 0.0           0.0     0.0       0.0   \n",
       "Doyle_AStudyinScarlet                  0.0           0.0     0.0       0.0   \n",
       "Howard_ShadowsintheMoonlight           0.0           0.0     0.0       0.0   \n",
       "Kipling_TheEndofthePassage             0.0           0.0     0.0       0.0   \n",
       "Poe_EurekaAProsePoem                   0.0           0.0     0.0       0.0   \n",
       "Howard_GodsoftheNorth                  0.0           0.0     0.0       0.0   \n",
       "Doyle_TheHoundoftheBaskervilles        0.0           0.0     0.0       0.0   \n",
       "Kipling_ThyServantaDog                 0.0           0.0     0.0       0.0   \n",
       "Poe_TheCaskofAmontillado               0.0           0.0     0.0       0.0   \n",
       "Doyle_AScandalinBohemia                0.0           0.0     0.0       0.0   \n",
       "Howard_SchadowsinZamboula              0.0           0.0     0.0       0.0   \n",
       "Kipling_TheJungleBook                  0.0           0.0     0.0       0.0   \n",
       "\n",
       "                                  medal  mechanized  mechanics  meat-gorging  \\\n",
       "Lovecraft_AttheMountainofMadness    0.0         0.0        0.0           0.0   \n",
       "Howard_TheDevilinIron               0.0         0.0        0.0           0.0   \n",
       "Poe_ThePurloinedLetter              0.0         0.0        0.0           0.0   \n",
       "Lovecraft_TheShunnedHouse           0.0         0.0        0.0           0.0   \n",
       "Poe_TheMasqueoftheRedDeath          0.0         0.0        0.0           0.0   \n",
       "Doyle_TheSignoftheFour              0.0         0.0        0.0           0.0   \n",
       "Doyle_AStudyinScarlet               0.0         0.0        0.0           0.0   \n",
       "Howard_ShadowsintheMoonlight        0.0         0.0        0.0           0.0   \n",
       "Kipling_TheEndofthePassage          0.0         0.0        0.0           0.0   \n",
       "Poe_EurekaAProsePoem                0.0         0.0        0.0           0.0   \n",
       "Howard_GodsoftheNorth               0.0         0.0        0.0           0.0   \n",
       "Doyle_TheHoundoftheBaskervilles     0.0         0.0        0.0           0.0   \n",
       "Kipling_ThyServantaDog              0.0         0.0        0.0           0.0   \n",
       "Poe_TheCaskofAmontillado            0.0         0.0        0.0           0.0   \n",
       "Doyle_AScandalinBohemia             0.0         0.0        0.0           0.0   \n",
       "Howard_SchadowsinZamboula           0.0         0.0        0.0           0.0   \n",
       "Kipling_TheJungleBook               0.0         0.0        0.0           0.0   \n",
       "\n",
       "                                  a'most  \n",
       "Lovecraft_AttheMountainofMadness     0.0  \n",
       "Howard_TheDevilinIron                0.0  \n",
       "Poe_ThePurloinedLetter               0.0  \n",
       "Lovecraft_TheShunnedHouse            0.0  \n",
       "Poe_TheMasqueoftheRedDeath           0.0  \n",
       "Doyle_TheSignoftheFour               0.0  \n",
       "Doyle_AStudyinScarlet                0.0  \n",
       "Howard_ShadowsintheMoonlight         0.0  \n",
       "Kipling_TheEndofthePassage           0.0  \n",
       "Poe_EurekaAProsePoem                 0.0  \n",
       "Howard_GodsoftheNorth                0.0  \n",
       "Doyle_TheHoundoftheBaskervilles      0.0  \n",
       "Kipling_ThyServantaDog               0.0  \n",
       "Poe_TheCaskofAmontillado             0.0  \n",
       "Doyle_AScandalinBohemia              0.0  \n",
       "Howard_SchadowsinZamboula            0.0  \n",
       "Kipling_TheJungleBook                0.0  \n",
       "\n",
       "[17 rows x 21676 columns]"
      ]
     },
     "execution_count": 17,
     "metadata": {},
     "output_type": "execute_result"
    }
   ],
   "source": [
    "doc_terms"
   ]
  },
  {
   "cell_type": "markdown",
   "metadata": {},
   "source": [
    "### 1.5.2 Remove features from sparse_bow"
   ]
  },
  {
   "cell_type": "markdown",
   "metadata": {
    "deletable": true,
    "editable": true
   },
   "source": [
    "#### List the 100 most frequent words"
   ]
  },
  {
   "cell_type": "code",
   "execution_count": 15,
   "metadata": {
    "collapsed": true,
    "deletable": true,
    "editable": true
   },
   "outputs": [],
   "source": [
    "mfw100 = preprocessing.find_stopwords(sparse_bow, id_types, 100)"
   ]
  },
  {
   "cell_type": "markdown",
   "metadata": {
    "deletable": true,
    "editable": true
   },
   "source": [
    "These are the five most frequent words:"
   ]
  },
  {
   "cell_type": "code",
   "execution_count": 16,
   "metadata": {
    "collapsed": false,
    "deletable": true,
    "editable": true
   },
   "outputs": [
    {
     "data": {
      "text/plain": [
       "['the', 'and', 'of', 'to', 'in']"
      ]
     },
     "execution_count": 16,
     "metadata": {},
     "output_type": "execute_result"
    }
   ],
   "source": [
    "mfw100[:5]"
   ]
  },
  {
   "cell_type": "markdown",
   "metadata": {
    "deletable": true,
    "editable": true
   },
   "source": [
    "#### List hapax legomena"
   ]
  },
  {
   "cell_type": "code",
   "execution_count": 17,
   "metadata": {
    "collapsed": true,
    "deletable": true,
    "editable": true
   },
   "outputs": [],
   "source": [
    "hapax_list = preprocessing.find_hapax(sparse_bow, id_types)"
   ]
  },
  {
   "cell_type": "markdown",
   "metadata": {
    "deletable": true,
    "editable": true
   },
   "source": [
    "#### Combine lists and remove content from bag-of-words model"
   ]
  },
  {
   "cell_type": "code",
   "execution_count": 18,
   "metadata": {
    "collapsed": true,
    "deletable": true,
    "editable": true
   },
   "outputs": [],
   "source": [
    "feature_list = set(mfw100).union(hapax_list)\n",
    "clean_term_frequency = preprocessing.remove_features(sparse_bow, id_types, feature_list)"
   ]
  },
  {
   "cell_type": "markdown",
   "metadata": {
    "deletable": true,
    "editable": true
   },
   "source": [
    "### 1.6. Save bag-of-words model"
   ]
  },
  {
   "cell_type": "code",
   "execution_count": 19,
   "metadata": {
    "collapsed": true,
    "deletable": true,
    "editable": true
   },
   "outputs": [],
   "source": [
    "preprocessing.save_sparse_bow(sparse_bow, \"corpus\")"
   ]
  },
  {
   "cell_type": "markdown",
   "metadata": {
    "deletable": true,
    "editable": true
   },
   "source": [
    "## 2. Model creation\n",
    "\n",
    "The actual topic modeling is done with external state-of-the-art LDA implementations. In this example, we are relying on the open-source toolkit **Gensim** which was used and cited in over 400 commercial and academic applications since 2008."
   ]
  },
  {
   "cell_type": "markdown",
   "metadata": {
    "deletable": true,
    "editable": true
   },
   "source": [
    "### 2.1. Load corpus object"
   ]
  },
  {
   "cell_type": "code",
   "execution_count": 20,
   "metadata": {
    "collapsed": true,
    "deletable": true,
    "editable": true
   },
   "outputs": [],
   "source": [
    "mm = MmCorpus(\"corpus.mm\")"
   ]
  },
  {
   "cell_type": "markdown",
   "metadata": {
    "deletable": true,
    "editable": true
   },
   "source": [
    "### 2.2. Rearrange dictionaries "
   ]
  },
  {
   "cell_type": "code",
   "execution_count": 21,
   "metadata": {
    "collapsed": true,
    "deletable": true,
    "editable": true
   },
   "outputs": [],
   "source": [
    "doc2id = {value : key for key, value in doc_ids.items()}\n",
    "type2id = {value : key for key, value in id_types.items()}"
   ]
  },
  {
   "cell_type": "markdown",
   "metadata": {
    "deletable": true,
    "editable": true
   },
   "source": [
    "### 2.3. Generate LDA model\n",
    "\n",
    "We can define the number of topics we want to calculate as an argument (`num_topics`) in the function. Furthermore, the number of passes (`passes`) can be defined. A higher number of passes and interations will probably yield a better model, but also increases processing time.\n",
    "\n",
    "**Warning: this step can take quite a while!** Meaning something between some seconds and some hours depending on corpus size and the number of passes. Our example short stories corpus should be done within a minute or two at `passes=10`."
   ]
  },
  {
   "cell_type": "code",
   "execution_count": 22,
   "metadata": {
    "collapsed": false,
    "deletable": true,
    "editable": true
   },
   "outputs": [
    {
     "name": "stdout",
     "output_type": "stream",
     "text": [
      "CPU times: user 1min 18s, sys: 3.07 s, total: 1min 21s\n",
      "Wall time: 1min 22s\n"
     ]
    }
   ],
   "source": [
    "%%time\n",
    "\n",
    "model = LdaModel(corpus=mm, id2word=type2id, num_topics=10, passes=10, iterations=5000)"
   ]
  },
  {
   "cell_type": "markdown",
   "metadata": {
    "deletable": true,
    "editable": true
   },
   "source": [
    "### 2.4. Create document-topic matrix\n",
    "\n",
    "The generated model object can now be translated into a human-readable document-topic matrix (that is a actually a pandas data frame) that constitutes our principle exchange format for topic modeling results. For generating the matrix from a Gensim model, we can use the following function:"
   ]
  },
  {
   "cell_type": "code",
   "execution_count": 23,
   "metadata": {
    "collapsed": false,
    "deletable": true,
    "editable": true
   },
   "outputs": [
    {
     "data": {
      "text/html": [
       "<div>\n",
       "<table border=\"1\" class=\"dataframe\">\n",
       "  <thead>\n",
       "    <tr style=\"text-align: right;\">\n",
       "      <th></th>\n",
       "      <th>0</th>\n",
       "      <th>1</th>\n",
       "      <th>2</th>\n",
       "      <th>3</th>\n",
       "      <th>4</th>\n",
       "      <th>5</th>\n",
       "      <th>6</th>\n",
       "      <th>7</th>\n",
       "      <th>8</th>\n",
       "      <th>9</th>\n",
       "    </tr>\n",
       "  </thead>\n",
       "  <tbody>\n",
       "    <tr>\n",
       "      <th>0</th>\n",
       "      <td>occupant</td>\n",
       "      <td>government</td>\n",
       "      <td>mocking</td>\n",
       "      <td>water-plants</td>\n",
       "      <td>dwelling-house</td>\n",
       "      <td>brow</td>\n",
       "      <td>chiseled</td>\n",
       "      <td>sleep-it</td>\n",
       "      <td>clears</td>\n",
       "      <td>outwardly</td>\n",
       "    </tr>\n",
       "    <tr>\n",
       "      <th>1</th>\n",
       "      <td>cast-forward</td>\n",
       "      <td>newtonian</td>\n",
       "      <td>occupant</td>\n",
       "      <td>mopping</td>\n",
       "      <td>needs</td>\n",
       "      <td>ellipse</td>\n",
       "      <td>dwelling-house</td>\n",
       "      <td>exaggerated</td>\n",
       "      <td>outwardly</td>\n",
       "      <td>mocking</td>\n",
       "    </tr>\n",
       "    <tr>\n",
       "      <th>2</th>\n",
       "      <td>occupant</td>\n",
       "      <td>government</td>\n",
       "      <td>mocking</td>\n",
       "      <td>water-plants</td>\n",
       "      <td>dwelling-house</td>\n",
       "      <td>chiseled</td>\n",
       "      <td>clears</td>\n",
       "      <td>sleep-it</td>\n",
       "      <td>longitude</td>\n",
       "      <td>blocks</td>\n",
       "    </tr>\n",
       "    <tr>\n",
       "      <th>3</th>\n",
       "      <td>occupant</td>\n",
       "      <td>dwelling-house</td>\n",
       "      <td>government</td>\n",
       "      <td>mocking</td>\n",
       "      <td>water-plants</td>\n",
       "      <td>brow</td>\n",
       "      <td>chiseled</td>\n",
       "      <td>longitude</td>\n",
       "      <td>sleep-it</td>\n",
       "      <td>clears</td>\n",
       "    </tr>\n",
       "    <tr>\n",
       "      <th>4</th>\n",
       "      <td>occupant</td>\n",
       "      <td>mocking</td>\n",
       "      <td>government</td>\n",
       "      <td>dwelling-house</td>\n",
       "      <td>water-plants</td>\n",
       "      <td>sleep-it</td>\n",
       "      <td>chiseled</td>\n",
       "      <td>assured</td>\n",
       "      <td>brow</td>\n",
       "      <td>clears</td>\n",
       "    </tr>\n",
       "    <tr>\n",
       "      <th>5</th>\n",
       "      <td>occupant</td>\n",
       "      <td>government</td>\n",
       "      <td>mocking</td>\n",
       "      <td>dwelling-house</td>\n",
       "      <td>water-plants</td>\n",
       "      <td>brow</td>\n",
       "      <td>chiseled</td>\n",
       "      <td>sleep-it</td>\n",
       "      <td>cobwebs</td>\n",
       "      <td>clears</td>\n",
       "    </tr>\n",
       "    <tr>\n",
       "      <th>6</th>\n",
       "      <td>occupant</td>\n",
       "      <td>mocking</td>\n",
       "      <td>water-plants</td>\n",
       "      <td>government</td>\n",
       "      <td>dwelling-house</td>\n",
       "      <td>chiseled</td>\n",
       "      <td>clears</td>\n",
       "      <td>sleep-it</td>\n",
       "      <td>longitude</td>\n",
       "      <td>brow</td>\n",
       "    </tr>\n",
       "    <tr>\n",
       "      <th>7</th>\n",
       "      <td>occupant</td>\n",
       "      <td>mocking</td>\n",
       "      <td>government</td>\n",
       "      <td>dwelling-house</td>\n",
       "      <td>water-plants</td>\n",
       "      <td>sleep-it</td>\n",
       "      <td>brow</td>\n",
       "      <td>chiseled</td>\n",
       "      <td>outwardly</td>\n",
       "      <td>assured</td>\n",
       "    </tr>\n",
       "    <tr>\n",
       "      <th>8</th>\n",
       "      <td>government</td>\n",
       "      <td>occupant</td>\n",
       "      <td>mocking</td>\n",
       "      <td>dwelling-house</td>\n",
       "      <td>water-plants</td>\n",
       "      <td>sleep-it</td>\n",
       "      <td>longitude</td>\n",
       "      <td>brow</td>\n",
       "      <td>chiseled</td>\n",
       "      <td>halfway</td>\n",
       "    </tr>\n",
       "    <tr>\n",
       "      <th>9</th>\n",
       "      <td>occupant</td>\n",
       "      <td>mocking</td>\n",
       "      <td>government</td>\n",
       "      <td>dwelling-house</td>\n",
       "      <td>water-plants</td>\n",
       "      <td>brow</td>\n",
       "      <td>clears</td>\n",
       "      <td>chiseled</td>\n",
       "      <td>sleep-it</td>\n",
       "      <td>longitude</td>\n",
       "    </tr>\n",
       "  </tbody>\n",
       "</table>\n",
       "</div>"
      ],
      "text/plain": [
       "              0               1             2               3               4  \\\n",
       "0      occupant      government       mocking    water-plants  dwelling-house   \n",
       "1  cast-forward       newtonian      occupant         mopping           needs   \n",
       "2      occupant      government       mocking    water-plants  dwelling-house   \n",
       "3      occupant  dwelling-house    government         mocking    water-plants   \n",
       "4      occupant         mocking    government  dwelling-house    water-plants   \n",
       "5      occupant      government       mocking  dwelling-house    water-plants   \n",
       "6      occupant         mocking  water-plants      government  dwelling-house   \n",
       "7      occupant         mocking    government  dwelling-house    water-plants   \n",
       "8    government        occupant       mocking  dwelling-house    water-plants   \n",
       "9      occupant         mocking    government  dwelling-house    water-plants   \n",
       "\n",
       "          5               6            7          8          9  \n",
       "0      brow        chiseled     sleep-it     clears  outwardly  \n",
       "1   ellipse  dwelling-house  exaggerated  outwardly    mocking  \n",
       "2  chiseled          clears     sleep-it  longitude     blocks  \n",
       "3      brow        chiseled    longitude   sleep-it     clears  \n",
       "4  sleep-it        chiseled      assured       brow     clears  \n",
       "5      brow        chiseled     sleep-it    cobwebs     clears  \n",
       "6  chiseled          clears     sleep-it  longitude       brow  \n",
       "7  sleep-it            brow     chiseled  outwardly    assured  \n",
       "8  sleep-it       longitude         brow   chiseled    halfway  \n",
       "9      brow          clears     chiseled   sleep-it  longitude  "
      ]
     },
     "execution_count": 23,
     "metadata": {},
     "output_type": "execute_result"
    }
   ],
   "source": [
    "preprocessing.gensim2dataframe(model)"
   ]
  },
  {
   "cell_type": "markdown",
   "metadata": {
    "deletable": true,
    "editable": true
   },
   "source": [
    "## 3. Model visualization and evaluation"
   ]
  },
  {
   "cell_type": "markdown",
   "metadata": {
    "deletable": true,
    "editable": true
   },
   "source": [
    "The following matrix contains the probability per topic for each document, which we need for the visualization."
   ]
  },
  {
   "cell_type": "code",
   "execution_count": 24,
   "metadata": {
    "collapsed": false,
    "deletable": true,
    "editable": true
   },
   "outputs": [
    {
     "data": {
      "text/html": [
       "<div>\n",
       "<table border=\"1\" class=\"dataframe\">\n",
       "  <thead>\n",
       "    <tr style=\"text-align: right;\">\n",
       "      <th></th>\n",
       "      <th>Doyle_AScandalinBohemia</th>\n",
       "      <th>Doyle_AStudyinScarlet</th>\n",
       "      <th>Doyle_TheHoundoftheBaskervilles</th>\n",
       "      <th>Doyle_TheSignoftheFour</th>\n",
       "      <th>Howard_GodsoftheNorth</th>\n",
       "      <th>Howard_SchadowsinZamboula</th>\n",
       "      <th>Howard_ShadowsintheMoonlight</th>\n",
       "      <th>Howard_TheDevilinIron</th>\n",
       "      <th>Kipling_TheEndofthePassage</th>\n",
       "      <th>Kipling_TheJungleBook</th>\n",
       "      <th>Kipling_ThyServantaDog</th>\n",
       "      <th>Lovecraft_AttheMountainofMadness</th>\n",
       "      <th>Lovecraft_TheShunnedHouse</th>\n",
       "      <th>Poe_EurekaAProsePoem</th>\n",
       "      <th>Poe_TheCaskofAmontillado</th>\n",
       "      <th>Poe_TheMasqueoftheRedDeath</th>\n",
       "      <th>Poe_ThePurloinedLetter</th>\n",
       "    </tr>\n",
       "  </thead>\n",
       "  <tbody>\n",
       "    <tr>\n",
       "      <th>occupant government mocking</th>\n",
       "      <td>0.000000</td>\n",
       "      <td>0.000000</td>\n",
       "      <td>0.000000</td>\n",
       "      <td>0.000000</td>\n",
       "      <td>0.000000</td>\n",
       "      <td>0.000000</td>\n",
       "      <td>0.000000</td>\n",
       "      <td>0.000000</td>\n",
       "      <td>0.000000</td>\n",
       "      <td>0.000000</td>\n",
       "      <td>0.000000</td>\n",
       "      <td>0.000000</td>\n",
       "      <td>0.000000</td>\n",
       "      <td>0.000000</td>\n",
       "      <td>0.000000</td>\n",
       "      <td>0.000000</td>\n",
       "      <td>0.000000</td>\n",
       "    </tr>\n",
       "    <tr>\n",
       "      <th>cast-forward newtonian occupant</th>\n",
       "      <td>0.000000</td>\n",
       "      <td>0.000000</td>\n",
       "      <td>0.000000</td>\n",
       "      <td>0.000000</td>\n",
       "      <td>0.000000</td>\n",
       "      <td>0.000000</td>\n",
       "      <td>0.000000</td>\n",
       "      <td>0.000000</td>\n",
       "      <td>0.000000</td>\n",
       "      <td>0.234827</td>\n",
       "      <td>0.000000</td>\n",
       "      <td>0.000000</td>\n",
       "      <td>0.000000</td>\n",
       "      <td>0.000000</td>\n",
       "      <td>0.000000</td>\n",
       "      <td>0.000000</td>\n",
       "      <td>0.000000</td>\n",
       "    </tr>\n",
       "    <tr>\n",
       "      <th>occupant government mocking</th>\n",
       "      <td>0.000000</td>\n",
       "      <td>0.000000</td>\n",
       "      <td>0.000000</td>\n",
       "      <td>0.000000</td>\n",
       "      <td>0.000000</td>\n",
       "      <td>0.000000</td>\n",
       "      <td>0.000000</td>\n",
       "      <td>0.000000</td>\n",
       "      <td>0.000000</td>\n",
       "      <td>0.000000</td>\n",
       "      <td>0.000000</td>\n",
       "      <td>0.000000</td>\n",
       "      <td>0.000000</td>\n",
       "      <td>0.000000</td>\n",
       "      <td>0.000000</td>\n",
       "      <td>0.000000</td>\n",
       "      <td>0.000000</td>\n",
       "    </tr>\n",
       "    <tr>\n",
       "      <th>occupant dwelling-house government</th>\n",
       "      <td>0.000000</td>\n",
       "      <td>0.000000</td>\n",
       "      <td>0.000000</td>\n",
       "      <td>0.000000</td>\n",
       "      <td>0.000000</td>\n",
       "      <td>0.000000</td>\n",
       "      <td>0.000000</td>\n",
       "      <td>0.000000</td>\n",
       "      <td>0.000000</td>\n",
       "      <td>0.000000</td>\n",
       "      <td>0.000000</td>\n",
       "      <td>0.000000</td>\n",
       "      <td>0.000000</td>\n",
       "      <td>0.000000</td>\n",
       "      <td>0.000000</td>\n",
       "      <td>0.000000</td>\n",
       "      <td>0.000000</td>\n",
       "    </tr>\n",
       "    <tr>\n",
       "      <th>occupant mocking government</th>\n",
       "      <td>0.999984</td>\n",
       "      <td>0.999865</td>\n",
       "      <td>0.999976</td>\n",
       "      <td>0.999585</td>\n",
       "      <td>0.999978</td>\n",
       "      <td>0.999978</td>\n",
       "      <td>0.000000</td>\n",
       "      <td>0.000000</td>\n",
       "      <td>0.000000</td>\n",
       "      <td>0.765059</td>\n",
       "      <td>0.781148</td>\n",
       "      <td>0.000000</td>\n",
       "      <td>0.999888</td>\n",
       "      <td>0.000000</td>\n",
       "      <td>0.000000</td>\n",
       "      <td>0.999982</td>\n",
       "      <td>0.064199</td>\n",
       "    </tr>\n",
       "    <tr>\n",
       "      <th>occupant government mocking</th>\n",
       "      <td>0.000000</td>\n",
       "      <td>0.000000</td>\n",
       "      <td>0.000000</td>\n",
       "      <td>0.000000</td>\n",
       "      <td>0.000000</td>\n",
       "      <td>0.000000</td>\n",
       "      <td>0.999924</td>\n",
       "      <td>0.999977</td>\n",
       "      <td>0.999923</td>\n",
       "      <td>0.000000</td>\n",
       "      <td>0.218775</td>\n",
       "      <td>0.999721</td>\n",
       "      <td>0.000000</td>\n",
       "      <td>0.999923</td>\n",
       "      <td>0.999969</td>\n",
       "      <td>0.000000</td>\n",
       "      <td>0.935465</td>\n",
       "    </tr>\n",
       "    <tr>\n",
       "      <th>occupant mocking water-plants</th>\n",
       "      <td>0.000000</td>\n",
       "      <td>0.000000</td>\n",
       "      <td>0.000000</td>\n",
       "      <td>0.000000</td>\n",
       "      <td>0.000000</td>\n",
       "      <td>0.000000</td>\n",
       "      <td>0.000000</td>\n",
       "      <td>0.000000</td>\n",
       "      <td>0.000000</td>\n",
       "      <td>0.000000</td>\n",
       "      <td>0.000000</td>\n",
       "      <td>0.000000</td>\n",
       "      <td>0.000000</td>\n",
       "      <td>0.000000</td>\n",
       "      <td>0.000000</td>\n",
       "      <td>0.000000</td>\n",
       "      <td>0.000000</td>\n",
       "    </tr>\n",
       "    <tr>\n",
       "      <th>occupant mocking government</th>\n",
       "      <td>0.000000</td>\n",
       "      <td>0.000000</td>\n",
       "      <td>0.000000</td>\n",
       "      <td>0.000000</td>\n",
       "      <td>0.000000</td>\n",
       "      <td>0.000000</td>\n",
       "      <td>0.000000</td>\n",
       "      <td>0.000000</td>\n",
       "      <td>0.000000</td>\n",
       "      <td>0.000000</td>\n",
       "      <td>0.000000</td>\n",
       "      <td>0.000000</td>\n",
       "      <td>0.000000</td>\n",
       "      <td>0.000000</td>\n",
       "      <td>0.000000</td>\n",
       "      <td>0.000000</td>\n",
       "      <td>0.000000</td>\n",
       "    </tr>\n",
       "    <tr>\n",
       "      <th>government occupant mocking</th>\n",
       "      <td>0.000000</td>\n",
       "      <td>0.000000</td>\n",
       "      <td>0.000000</td>\n",
       "      <td>0.000000</td>\n",
       "      <td>0.000000</td>\n",
       "      <td>0.000000</td>\n",
       "      <td>0.000000</td>\n",
       "      <td>0.000000</td>\n",
       "      <td>0.000000</td>\n",
       "      <td>0.000000</td>\n",
       "      <td>0.000000</td>\n",
       "      <td>0.000000</td>\n",
       "      <td>0.000000</td>\n",
       "      <td>0.000000</td>\n",
       "      <td>0.000000</td>\n",
       "      <td>0.000000</td>\n",
       "      <td>0.000000</td>\n",
       "    </tr>\n",
       "    <tr>\n",
       "      <th>occupant mocking government</th>\n",
       "      <td>0.000000</td>\n",
       "      <td>0.000000</td>\n",
       "      <td>0.000000</td>\n",
       "      <td>0.000000</td>\n",
       "      <td>0.000000</td>\n",
       "      <td>0.000000</td>\n",
       "      <td>0.000000</td>\n",
       "      <td>0.000000</td>\n",
       "      <td>0.000000</td>\n",
       "      <td>0.000000</td>\n",
       "      <td>0.000000</td>\n",
       "      <td>0.000000</td>\n",
       "      <td>0.000000</td>\n",
       "      <td>0.000000</td>\n",
       "      <td>0.000000</td>\n",
       "      <td>0.000000</td>\n",
       "      <td>0.000000</td>\n",
       "    </tr>\n",
       "  </tbody>\n",
       "</table>\n",
       "</div>"
      ],
      "text/plain": [
       "                                    Doyle_AScandalinBohemia  \\\n",
       "occupant government mocking                        0.000000   \n",
       "cast-forward newtonian occupant                    0.000000   \n",
       "occupant government mocking                        0.000000   \n",
       "occupant dwelling-house government                 0.000000   \n",
       "occupant mocking government                        0.999984   \n",
       "occupant government mocking                        0.000000   \n",
       "occupant mocking water-plants                      0.000000   \n",
       "occupant mocking government                        0.000000   \n",
       "government occupant mocking                        0.000000   \n",
       "occupant mocking government                        0.000000   \n",
       "\n",
       "                                    Doyle_AStudyinScarlet  \\\n",
       "occupant government mocking                      0.000000   \n",
       "cast-forward newtonian occupant                  0.000000   \n",
       "occupant government mocking                      0.000000   \n",
       "occupant dwelling-house government               0.000000   \n",
       "occupant mocking government                      0.999865   \n",
       "occupant government mocking                      0.000000   \n",
       "occupant mocking water-plants                    0.000000   \n",
       "occupant mocking government                      0.000000   \n",
       "government occupant mocking                      0.000000   \n",
       "occupant mocking government                      0.000000   \n",
       "\n",
       "                                    Doyle_TheHoundoftheBaskervilles  \\\n",
       "occupant government mocking                                0.000000   \n",
       "cast-forward newtonian occupant                            0.000000   \n",
       "occupant government mocking                                0.000000   \n",
       "occupant dwelling-house government                         0.000000   \n",
       "occupant mocking government                                0.999976   \n",
       "occupant government mocking                                0.000000   \n",
       "occupant mocking water-plants                              0.000000   \n",
       "occupant mocking government                                0.000000   \n",
       "government occupant mocking                                0.000000   \n",
       "occupant mocking government                                0.000000   \n",
       "\n",
       "                                    Doyle_TheSignoftheFour  \\\n",
       "occupant government mocking                       0.000000   \n",
       "cast-forward newtonian occupant                   0.000000   \n",
       "occupant government mocking                       0.000000   \n",
       "occupant dwelling-house government                0.000000   \n",
       "occupant mocking government                       0.999585   \n",
       "occupant government mocking                       0.000000   \n",
       "occupant mocking water-plants                     0.000000   \n",
       "occupant mocking government                       0.000000   \n",
       "government occupant mocking                       0.000000   \n",
       "occupant mocking government                       0.000000   \n",
       "\n",
       "                                    Howard_GodsoftheNorth  \\\n",
       "occupant government mocking                      0.000000   \n",
       "cast-forward newtonian occupant                  0.000000   \n",
       "occupant government mocking                      0.000000   \n",
       "occupant dwelling-house government               0.000000   \n",
       "occupant mocking government                      0.999978   \n",
       "occupant government mocking                      0.000000   \n",
       "occupant mocking water-plants                    0.000000   \n",
       "occupant mocking government                      0.000000   \n",
       "government occupant mocking                      0.000000   \n",
       "occupant mocking government                      0.000000   \n",
       "\n",
       "                                    Howard_SchadowsinZamboula  \\\n",
       "occupant government mocking                          0.000000   \n",
       "cast-forward newtonian occupant                      0.000000   \n",
       "occupant government mocking                          0.000000   \n",
       "occupant dwelling-house government                   0.000000   \n",
       "occupant mocking government                          0.999978   \n",
       "occupant government mocking                          0.000000   \n",
       "occupant mocking water-plants                        0.000000   \n",
       "occupant mocking government                          0.000000   \n",
       "government occupant mocking                          0.000000   \n",
       "occupant mocking government                          0.000000   \n",
       "\n",
       "                                    Howard_ShadowsintheMoonlight  \\\n",
       "occupant government mocking                             0.000000   \n",
       "cast-forward newtonian occupant                         0.000000   \n",
       "occupant government mocking                             0.000000   \n",
       "occupant dwelling-house government                      0.000000   \n",
       "occupant mocking government                             0.000000   \n",
       "occupant government mocking                             0.999924   \n",
       "occupant mocking water-plants                           0.000000   \n",
       "occupant mocking government                             0.000000   \n",
       "government occupant mocking                             0.000000   \n",
       "occupant mocking government                             0.000000   \n",
       "\n",
       "                                    Howard_TheDevilinIron  \\\n",
       "occupant government mocking                      0.000000   \n",
       "cast-forward newtonian occupant                  0.000000   \n",
       "occupant government mocking                      0.000000   \n",
       "occupant dwelling-house government               0.000000   \n",
       "occupant mocking government                      0.000000   \n",
       "occupant government mocking                      0.999977   \n",
       "occupant mocking water-plants                    0.000000   \n",
       "occupant mocking government                      0.000000   \n",
       "government occupant mocking                      0.000000   \n",
       "occupant mocking government                      0.000000   \n",
       "\n",
       "                                    Kipling_TheEndofthePassage  \\\n",
       "occupant government mocking                           0.000000   \n",
       "cast-forward newtonian occupant                       0.000000   \n",
       "occupant government mocking                           0.000000   \n",
       "occupant dwelling-house government                    0.000000   \n",
       "occupant mocking government                           0.000000   \n",
       "occupant government mocking                           0.999923   \n",
       "occupant mocking water-plants                         0.000000   \n",
       "occupant mocking government                           0.000000   \n",
       "government occupant mocking                           0.000000   \n",
       "occupant mocking government                           0.000000   \n",
       "\n",
       "                                    Kipling_TheJungleBook  \\\n",
       "occupant government mocking                      0.000000   \n",
       "cast-forward newtonian occupant                  0.234827   \n",
       "occupant government mocking                      0.000000   \n",
       "occupant dwelling-house government               0.000000   \n",
       "occupant mocking government                      0.765059   \n",
       "occupant government mocking                      0.000000   \n",
       "occupant mocking water-plants                    0.000000   \n",
       "occupant mocking government                      0.000000   \n",
       "government occupant mocking                      0.000000   \n",
       "occupant mocking government                      0.000000   \n",
       "\n",
       "                                    Kipling_ThyServantaDog  \\\n",
       "occupant government mocking                       0.000000   \n",
       "cast-forward newtonian occupant                   0.000000   \n",
       "occupant government mocking                       0.000000   \n",
       "occupant dwelling-house government                0.000000   \n",
       "occupant mocking government                       0.781148   \n",
       "occupant government mocking                       0.218775   \n",
       "occupant mocking water-plants                     0.000000   \n",
       "occupant mocking government                       0.000000   \n",
       "government occupant mocking                       0.000000   \n",
       "occupant mocking government                       0.000000   \n",
       "\n",
       "                                    Lovecraft_AttheMountainofMadness  \\\n",
       "occupant government mocking                                 0.000000   \n",
       "cast-forward newtonian occupant                             0.000000   \n",
       "occupant government mocking                                 0.000000   \n",
       "occupant dwelling-house government                          0.000000   \n",
       "occupant mocking government                                 0.000000   \n",
       "occupant government mocking                                 0.999721   \n",
       "occupant mocking water-plants                               0.000000   \n",
       "occupant mocking government                                 0.000000   \n",
       "government occupant mocking                                 0.000000   \n",
       "occupant mocking government                                 0.000000   \n",
       "\n",
       "                                    Lovecraft_TheShunnedHouse  \\\n",
       "occupant government mocking                          0.000000   \n",
       "cast-forward newtonian occupant                      0.000000   \n",
       "occupant government mocking                          0.000000   \n",
       "occupant dwelling-house government                   0.000000   \n",
       "occupant mocking government                          0.999888   \n",
       "occupant government mocking                          0.000000   \n",
       "occupant mocking water-plants                        0.000000   \n",
       "occupant mocking government                          0.000000   \n",
       "government occupant mocking                          0.000000   \n",
       "occupant mocking government                          0.000000   \n",
       "\n",
       "                                    Poe_EurekaAProsePoem  \\\n",
       "occupant government mocking                     0.000000   \n",
       "cast-forward newtonian occupant                 0.000000   \n",
       "occupant government mocking                     0.000000   \n",
       "occupant dwelling-house government              0.000000   \n",
       "occupant mocking government                     0.000000   \n",
       "occupant government mocking                     0.999923   \n",
       "occupant mocking water-plants                   0.000000   \n",
       "occupant mocking government                     0.000000   \n",
       "government occupant mocking                     0.000000   \n",
       "occupant mocking government                     0.000000   \n",
       "\n",
       "                                    Poe_TheCaskofAmontillado  \\\n",
       "occupant government mocking                         0.000000   \n",
       "cast-forward newtonian occupant                     0.000000   \n",
       "occupant government mocking                         0.000000   \n",
       "occupant dwelling-house government                  0.000000   \n",
       "occupant mocking government                         0.000000   \n",
       "occupant government mocking                         0.999969   \n",
       "occupant mocking water-plants                       0.000000   \n",
       "occupant mocking government                         0.000000   \n",
       "government occupant mocking                         0.000000   \n",
       "occupant mocking government                         0.000000   \n",
       "\n",
       "                                    Poe_TheMasqueoftheRedDeath  \\\n",
       "occupant government mocking                           0.000000   \n",
       "cast-forward newtonian occupant                       0.000000   \n",
       "occupant government mocking                           0.000000   \n",
       "occupant dwelling-house government                    0.000000   \n",
       "occupant mocking government                           0.999982   \n",
       "occupant government mocking                           0.000000   \n",
       "occupant mocking water-plants                         0.000000   \n",
       "occupant mocking government                           0.000000   \n",
       "government occupant mocking                           0.000000   \n",
       "occupant mocking government                           0.000000   \n",
       "\n",
       "                                    Poe_ThePurloinedLetter  \n",
       "occupant government mocking                       0.000000  \n",
       "cast-forward newtonian occupant                   0.000000  \n",
       "occupant government mocking                       0.000000  \n",
       "occupant dwelling-house government                0.000000  \n",
       "occupant mocking government                       0.064199  \n",
       "occupant government mocking                       0.935465  \n",
       "occupant mocking water-plants                     0.000000  \n",
       "occupant mocking government                       0.000000  \n",
       "government occupant mocking                       0.000000  \n",
       "occupant mocking government                       0.000000  "
      ]
     },
     "execution_count": 24,
     "metadata": {},
     "output_type": "execute_result"
    }
   ],
   "source": [
    "doc_topic = visualization.create_doc_topic(mm, model, document_labels)\n",
    "doc_topic"
   ]
  },
  {
   "cell_type": "markdown",
   "metadata": {
    "deletable": true,
    "editable": true
   },
   "source": [
    "### 3.1. Distribution of topics"
   ]
  },
  {
   "cell_type": "markdown",
   "metadata": {
    "deletable": true,
    "editable": true
   },
   "source": [
    "#### Distribution of topics over all documents\n",
    "\n",
    "The distribution of topics over all documents can now be visualized in a heat map:"
   ]
  },
  {
   "cell_type": "code",
   "execution_count": 25,
   "metadata": {
    "collapsed": false,
    "deletable": true,
    "editable": true
   },
   "outputs": [
    {
     "data": {
      "image/png": "[encoded data removed]",
      "text/plain": [
       "<matplotlib.figure.Figure at 0x10f46f668>"
      ]
     },
     "metadata": {},
     "output_type": "display_data"
    }
   ],
   "source": [
    "heatmap = visualization.doc_topic_heatmap(doc_topic)\n",
    "heatmap.show()"
   ]
  },
  {
   "cell_type": "markdown",
   "metadata": {
    "deletable": true,
    "editable": true
   },
   "source": [
    "#### Distribution of topics in a single documents\n",
    "\n",
    "To take closer look on the topics in a single text, we can use the follwing function that shows all the topics in a text and their respective proportions. To select the document, we have to give its index to the function."
   ]
  },
  {
   "cell_type": "code",
   "execution_count": 26,
   "metadata": {
    "collapsed": false,
    "deletable": true,
    "editable": true,
    "scrolled": false
   },
   "outputs": [
    {
     "data": {
      "text/plain": [
       "<module 'matplotlib.pyplot' from '/Library/Frameworks/Python.framework/Versions/3.6/lib/python3.6/site-packages/matplotlib/pyplot.py'>"
      ]
     },
     "execution_count": 26,
     "metadata": {},
     "output_type": "execute_result"
    },
    {
     "data": {
      "image/png": "[encoded data removed]",
      "text/plain": [
       "<matplotlib.figure.Figure at 0x10fc4f710>"
      ]
     },
     "metadata": {},
     "output_type": "display_data"
    }
   ],
   "source": [
    "visualization.plot_doc_topics(doc_topic, 0)"
   ]
  }
 ],
 "metadata": {
  "kernelspec": {
   "display_name": "Python 3",
   "language": "python",
   "name": "python3"
  },
  "language_info": {
   "codemirror_mode": {
    "name": "ipython",
    "version": 3
   },
   "file_extension": ".py",
   "mimetype": "text/x-python",
   "name": "python",
   "nbconvert_exporter": "python",
   "pygments_lexer": "ipython3",
   "version": "3.5.2"
  }
 },
 "nbformat": 4,
 "nbformat_minor": 1
}
