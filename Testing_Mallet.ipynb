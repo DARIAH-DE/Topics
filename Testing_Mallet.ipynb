{
 "cells": [
  {
   "cell_type": "markdown",
   "metadata": {
    "deletable": true,
    "editable": true
   },
   "source": [
    "# Mallet"
   ]
  },
  {
   "cell_type": "markdown",
   "metadata": {
    "deletable": true,
    "editable": true
   },
   "source": [
    "Another algorithm for topic modeling is implemented in the java-based software Mallet. For this to work **you need to download and install Mallet** from http://mallet.cs.umass.edu/download.php.\n",
    "Mallet uses plain text as input, so none of the preprocessing steps of this package are available for Mallet topic modeling as of yet."
   ]
  },
  {
   "cell_type": "markdown",
   "metadata": {
    "deletable": true,
    "editable": true
   },
   "source": [
    "#### Loading modules from DARIAH-Topics library\n",
    "First, we have to get access to the functionalities of the library by importing them. For using its functions we use the prefix of the toolbox's submodules (pre, visual and mallet)."
   ]
  },
  {
   "cell_type": "code",
   "execution_count": 1,
   "metadata": {
    "collapsed": false,
    "deletable": true,
    "editable": true
   },
   "outputs": [],
   "source": [
    "from dariah_topics import preprocessing as pre\n",
    "from dariah_topics import visualization as visual\n",
    "from dariah_topics import mallet as mal"
   ]
  },
  {
   "cell_type": "markdown",
   "metadata": {
    "deletable": true,
    "editable": true
   },
   "source": [
    "#### Activating inline output in Jupyter notebook\n",
    "The following line will just tell the notebook to show graphics in the output frames."
   ]
  },
  {
   "cell_type": "code",
   "execution_count": 2,
   "metadata": {
    "collapsed": true,
    "deletable": true,
    "editable": true
   },
   "outputs": [],
   "source": [
    "%matplotlib inline"
   ]
  },
  {
   "cell_type": "markdown",
   "metadata": {
    "deletable": true,
    "editable": true
   },
   "source": [
    "## 1. Setting the parameters"
   ]
  },
  {
   "cell_type": "markdown",
   "metadata": {
    "deletable": true,
    "editable": true
   },
   "source": [
    "#### Define path to corpus folder"
   ]
  },
  {
   "cell_type": "code",
   "execution_count": 3,
   "metadata": {
    "collapsed": true,
    "deletable": true,
    "editable": true
   },
   "outputs": [],
   "source": [
    "#path_to_corpus = \"corpus_txt\"\n",
    "path_to_corpus = \"/home/sina/DARIAH/Topics/corpus_txt/\""
   ]
  },
  {
   "cell_type": "markdown",
   "metadata": {
    "deletable": true,
    "editable": true
   },
   "source": [
    "#### Path to mallet folder \n",
    "\n",
    "Now we must tell the library where to find the local instance of mallet. If you managed to install Mallet, it is sufficient set `path_to_mallet = \"mallet\"`, if you just store Mallet in a local folder, you have to specify the path to the binary explictly."
   ]
  },
  {
   "cell_type": "code",
   "execution_count": 4,
   "metadata": {
    "collapsed": true,
    "deletable": true,
    "editable": true
   },
   "outputs": [],
   "source": [
    "path_to_mallet = \"/home/sina/mallet-2.0.8/bin/mallet\""
   ]
  },
  {
   "cell_type": "markdown",
   "metadata": {
    "deletable": true,
    "editable": true
   },
   "source": [
    "#### Output folder"
   ]
  },
  {
   "cell_type": "code",
   "execution_count": 5,
   "metadata": {
    "collapsed": true,
    "deletable": true,
    "editable": true
   },
   "outputs": [],
   "source": [
    "outfolder = \"tutorial_supplementals/mallet_output\""
   ]
  },
  {
   "cell_type": "markdown",
   "metadata": {
    "deletable": true,
    "editable": true
   },
   "source": [
    "#### The Mallet corpus model\n",
    "\n",
    "Finally, we can give all these folder paths to a Mallet function that handles all the preprocessing steps and creates a Mallet-specific corpus model object."
   ]
  },
  {
   "cell_type": "code",
   "execution_count": 6,
   "metadata": {
    "collapsed": false,
    "deletable": true,
    "editable": true
   },
   "outputs": [
    {
     "name": "stderr",
     "output_type": "stream",
     "text": [
      "INFO mallet: Accessing MALLET with ['/home/sina/mallet-2.0.8/bin/mallet', 'import-dir', '--input', '/home/sina/DARIAH/Topics/corpus_txt/', '--remove-stopwords', '--output', 'tutorial_supplementals/mallet_output/binary.mallet', '--keep-sequence'] ...\n"
     ]
    }
   ],
   "source": [
    "mallet_model = mal.create_mallet_binary(path_to_mallet = path_to_mallet, \n",
    "                                       outfolder = outfolder,\n",
    "                                       path_to_corpus = path_to_corpus\n",
    "                                      )"
   ]
  },
  {
   "cell_type": "markdown",
   "metadata": {
    "deletable": true,
    "editable": true
   },
   "source": [
    "## 2. Model creation"
   ]
  },
  {
   "cell_type": "markdown",
   "metadata": {
    "deletable": true,
    "editable": true
   },
   "source": [
    "**Warning: this step can take quite a while!** Meaning something between some seconds and some hours depending on corpus size and the number of passes."
   ]
  },
  {
   "cell_type": "code",
   "execution_count": 7,
   "metadata": {
    "collapsed": false,
    "deletable": true,
    "editable": true,
    "scrolled": true
   },
   "outputs": [
    {
     "name": "stderr",
     "output_type": "stream",
     "text": [
      "INFO mallet: Accessing Mallet with ['/home/sina/mallet-2.0.8/bin/mallet', 'train-topics', '--input', 'tutorial_supplementals/mallet_output/binary.mallet', '--num-topics', '3', '--num-iterations', '500', '--num-top-words', '10', '--output-topic-keys', '/home/sina/DARIAH/Topics/tutorial_supplementals/mallet_output/topic_keys.txt', '--topic-word-weights-file', '/home/sina/DARIAH/Topics/tutorial_supplementals/mallet_output/topic_word_weights.txt', '--word-topic-counts-file', '/home/sina/DARIAH/Topics/tutorial_supplementals/mallet_output/word_topic_counts.txt', '--diagnostics-file', '/home/sina/DARIAH/Topics/tutorial_supplementals/mallet_output/diagnostics.txt', '--xml-topic-report', '/home/sina/DARIAH/Topics/tutorial_supplementals/mallet_output/topic_report.xml', '--output-topic-docs', '/home/sina/DARIAH/Topics/tutorial_supplementals/mallet_output/topic_docs.txt', '--output-doc-topics', '/home/sina/DARIAH/Topics/tutorial_supplementals/mallet_output/doc_topics.txt', '--output-state', '/home/sina/DARIAH/Topics/tutorial_supplementals/mallet_output/state.gz'] ...\n"
     ]
    }
   ],
   "source": [
    "num_topics = 3\n",
    "output_folder = mal.create_mallet_model(path_to_mallet = path_to_mallet, \n",
    "                                        path_to_binary = mallet_model, \n",
    "                                        outfolder = outfolder,\n",
    "                                        num_top_words = 10,\n",
    "                                        num_iterations = 500,\n",
    "                                        num_topics = num_topics\n",
    "                                        )"
   ]
  },
  {
   "cell_type": "markdown",
   "metadata": {
    "deletable": true,
    "editable": true
   },
   "source": [
    "### 2.4. Create document-topic matrix\n",
    "\n",
    "The generated model object can now be translated into a human-readable document-topic matrix (that is a actually a pandas data frame) that constitutes our principle exchange format for topic modeling results. For generating the matrix from a Gensim model, we can use the following function:"
   ]
  },
  {
   "cell_type": "code",
   "execution_count": 8,
   "metadata": {
    "collapsed": false,
    "deletable": true,
    "editable": true
   },
   "outputs": [
    {
     "ename": "ValueError",
     "evalue": "max() arg is an empty sequence",
     "output_type": "error",
     "traceback": [
      "\u001b[0;31m---------------------------------------------------------------------------\u001b[0m",
      "\u001b[0;31mValueError\u001b[0m                                Traceback (most recent call last)",
      "\u001b[0;32m<ipython-input-8-b884f266c1e4>\u001b[0m in \u001b[0;36m<module>\u001b[0;34m()\u001b[0m\n\u001b[0;32m----> 1\u001b[0;31m \u001b[0mdoc_topic\u001b[0m \u001b[0;34m=\u001b[0m \u001b[0mmal\u001b[0m\u001b[0;34m.\u001b[0m\u001b[0mshow_doc_topic_matrix\u001b[0m\u001b[0;34m(\u001b[0m\u001b[0;34m\"tutorial_supplementals/mallet_output\"\u001b[0m\u001b[0;34m)\u001b[0m\u001b[0;34m\u001b[0m\u001b[0m\n\u001b[0m",
      "\u001b[0;32m/home/sina/DARIAH/Topics/dariah_topics/mallet.py\u001b[0m in \u001b[0;36mshow_doc_topic_matrix\u001b[0;34m(output_folder, doc_topics, topic_keys, easy_file_format)\u001b[0m\n\u001b[1;32m    355\u001b[0m         \u001b[0mnum_docs\u001b[0m\u001b[0;34m=\u001b[0m\u001b[0mlen\u001b[0m\u001b[0;34m(\u001b[0m\u001b[0mmallet_docnames\u001b[0m\u001b[0;34m)\u001b[0m\u001b[0;34m\u001b[0m\u001b[0m\n\u001b[1;32m    356\u001b[0m \u001b[0;34m\u001b[0m\u001b[0m\n\u001b[0;32m--> 357\u001b[0;31m         \u001b[0mnum_topics\u001b[0m\u001b[0;34m=\u001b[0m\u001b[0mmax\u001b[0m\u001b[0;34m(\u001b[0m\u001b[0mtopics\u001b[0m\u001b[0;34m)\u001b[0m \u001b[0;34m+\u001b[0m \u001b[0;36m1\u001b[0m\u001b[0;34m\u001b[0m\u001b[0m\n\u001b[0m\u001b[1;32m    358\u001b[0m \u001b[0;34m\u001b[0m\u001b[0m\n\u001b[1;32m    359\u001b[0m         \u001b[0;31m# the following works because we know that the triples are in\u001b[0m\u001b[0;34m\u001b[0m\u001b[0;34m\u001b[0m\u001b[0m\n",
      "\u001b[0;31mValueError\u001b[0m: max() arg is an empty sequence"
     ]
    }
   ],
   "source": [
    "doc_topic = mal.show_doc_topic_matrix(\"tutorial_supplementals/mallet_output\")"
   ]
  },
  {
   "cell_type": "markdown",
   "metadata": {
    "deletable": true,
    "editable": true
   },
   "source": [
    "## 3. Visualization"
   ]
  },
  {
   "cell_type": "markdown",
   "metadata": {
    "deletable": true,
    "editable": true
   },
   "source": [
    "Now we can see the topics in the model with the following function:\n",
    "\n",
    "**Hint:** Depending on the number of topics chosen in step 2, you might have to adjust *num_topics* in this step accordingly."
   ]
  },
  {
   "cell_type": "code",
   "execution_count": null,
   "metadata": {
    "collapsed": false,
    "deletable": true,
    "editable": true
   },
   "outputs": [],
   "source": [
    "num_topics = 3\n",
    "mal.show_topics_keys(\"tutorial_supplementals/mallet_output\", num_topics = num_topics)"
   ]
  },
  {
   "cell_type": "markdown",
   "metadata": {
    "deletable": true,
    "editable": true
   },
   "source": [
    "### 3.1. Distribution of topics"
   ]
  },
  {
   "cell_type": "markdown",
   "metadata": {
    "deletable": true,
    "editable": true
   },
   "source": [
    "#### Distribution of topics over all documents\n",
    "\n",
    "The distribution of topics over all documents can now be visualized in a heat map:"
   ]
  },
  {
   "cell_type": "code",
   "execution_count": null,
   "metadata": {
    "collapsed": false,
    "deletable": true,
    "editable": true
   },
   "outputs": [],
   "source": [
    "heatmap = visual.doc_topic_heatmap(doc_topic)\n",
    "heatmap.show()"
   ]
  },
  {
   "cell_type": "markdown",
   "metadata": {
    "deletable": true,
    "editable": true
   },
   "source": [
    "#### Distribution of topics in a single documents\n",
    "\n",
    "To take closer look on the topics in a single text, we can use the follwing function that shows all the topics in a text and their respective proportions. To select the document, we have to give its index to the function."
   ]
  },
  {
   "cell_type": "code",
   "execution_count": null,
   "metadata": {
    "collapsed": false,
    "deletable": true,
    "editable": true
   },
   "outputs": [],
   "source": [
    "#document_nr = 7\n",
    "visual.plot_doc_topics(doc_topic, 7)"
   ]
  },
  {
   "cell_type": "markdown",
   "metadata": {
    "deletable": true,
    "editable": true
   },
   "source": [
    "def make_wordle_from_mallet(word_weights_file,topics,words,outfolder, \n",
    "                            font_path, dpi):"
   ]
  },
  {
   "cell_type": "code",
   "execution_count": null,
   "metadata": {
    "collapsed": true,
    "deletable": true,
    "editable": true
   },
   "outputs": [],
   "source": [
    "import pandas as pd\n",
    "def read_mallet_output(word_weights_file):\n",
    "        \"\"\"Reads Mallet output (topics with words and word weights) into dataframe.\"\"\" \n",
    "        word_scores = pd.read_table(word_weights_file, header=None, sep=\"\\t\")\n",
    "        word_scores = word_scores.sort(columns=[0,2], axis=0, ascending=[True, False])\n",
    "        word_scores_grouped = word_scores.groupby(0)\n",
    "        return word_scores_grouped"
   ]
  },
  {
   "cell_type": "code",
   "execution_count": null,
   "metadata": {
    "collapsed": false,
    "deletable": true,
    "editable": true
   },
   "outputs": [],
   "source": [
    "word_weights_file = \"/home/sina/DARIAH/Topics/tutorial_supplementals/mallet_output/topic_word_weights.txt\"\n",
    "word_scores_grouped = read_mallet_output(word_weights_file)\n",
    "topic_nr  = 0\n",
    "word_scores_grouped.get_group(topic_nr)"
   ]
  },
  {
   "cell_type": "code",
   "execution_count": null,
   "metadata": {
    "collapsed": false,
    "deletable": true,
    "editable": true
   },
   "outputs": [],
   "source": [
    "def get_wordlewords(word_scores_grouped, number_of_top_words, topic_nr):\n",
    "    \"\"\"Transform Mallet output for wordle generation.\"\"\"\n",
    "    topic_word_scores = word_scores_grouped.get_group(topic_nr)\n",
    "    top_topic_word_scores = topic_word_scores.iloc[0:number_of_top_words]\n",
    "    topic_words = top_topic_word_scores.loc[:,1].tolist()\n",
    "    print(topic_words)\n",
    "    word_scores = top_topic_word_scores.loc[:,2].tolist()\n",
    "    print(word_scores)\n",
    "    wordlewords = \"\"\n",
    "    j = 0\n",
    "    for word in topic_words:\n",
    "        word = word\n",
    "        score = word_scores[j]\n",
    "        j += 1\n",
    "        wordlewords = wordlewords + ((word + \" \") + str(score))\n",
    "    return wordlewords"
   ]
  },
  {
   "cell_type": "code",
   "execution_count": null,
   "metadata": {
    "collapsed": false,
    "deletable": true,
    "editable": true
   },
   "outputs": [],
   "source": [
    "number_of_top_words = 7\n",
    "topic_nr = 2\n",
    "wordlewords = get_wordlewords(word_scores_grouped, number_of_top_words, topic_nr)"
   ]
  },
  {
   "cell_type": "code",
   "execution_count": null,
   "metadata": {
    "collapsed": false,
    "deletable": true,
    "editable": true
   },
   "outputs": [],
   "source": [
    "wordlewords"
   ]
  },
  {
   "cell_type": "code",
   "execution_count": null,
   "metadata": {
    "collapsed": true,
    "deletable": true,
    "editable": true
   },
   "outputs": [],
   "source": [
    "def save_topicRanks(topicWordFile, outfolder, filename):\n",
    "    \"\"\"Save a list of topics with their rank by topic score.\"\"\"\n",
    "    print(\"Launched save_topicRanks.\")\n",
    "    with open(topicWordFile, \"r\") as infile:\n",
    "        topicRanks = pd.read_csv(infile, sep=\"\\t\", header=None)\n",
    "        topicRanks = topicRanks.drop(2, axis=1)\n",
    "        topicRanks.rename(columns={0:\"Number\"}, inplace=True)\n",
    "        topicRanks.rename(columns={1:\"Score\"}, inplace=True)\n",
    "        #topicRanks.sort(columns=[\"Score\"], ascending=False, inplace=True)\n",
    "        topicRanks[\"Rank\"] = topicRanks[\"Score\"].rank(ascending=False)\n",
    "        #print(topicRanks.head())\n",
    "        ## Saving the file.\n",
    "        if not os.path.exists(outfolder):\n",
    "            os.makedirs(outfolder)\n",
    "        outfile = outfolder + filename\n",
    "        with open(outfile, \"w\") as outfile: \n",
    "            topicRanks.to_csv(outfile)"
   ]
  },
  {
   "cell_type": "code",
   "execution_count": null,
   "metadata": {
    "collapsed": false,
    "deletable": true,
    "editable": true
   },
   "outputs": [],
   "source": [
    "import os\n",
    "outfolder = \"/home/sina/DARIAH/Topics/tutorial_supplementals/mallet_output/\"\n",
    "topicWordFile = \"/home/sina/DARIAH/Topics/tutorial_supplementals/mallet_output/topic_word_weights.txt\"\n",
    "filename = \"test.csv\"\n",
    "save_topicRanks(topicWordFile, outfolder, filename)"
   ]
  },
  {
   "cell_type": "code",
   "execution_count": null,
   "metadata": {
    "collapsed": false,
    "deletable": true,
    "editable": true
   },
   "outputs": [],
   "source": [
    "def get_topicRank(topic, topicRanksFile):\n",
    "    #print(\"getting topic rank.\")\n",
    "    with open(topicRanksFile, \"r\") as infile:\n",
    "        topicRanks = pd.read_csv(infile, sep=\",\", index_col=0)\n",
    "        rank = int(topicRanks.iloc[topic][\"Rank\"])\n",
    "    return rank"
   ]
  },
  {
   "cell_type": "code",
   "execution_count": null,
   "metadata": {
    "collapsed": false,
    "deletable": true,
    "editable": true
   },
   "outputs": [],
   "source": [
    "topicRanksFile = \"/home/sina/DARIAH/Topics/tutorial_supplementals/mallet_output/test.csv\"\n",
    "topic = 2\n",
    "get_topicRank(topic, topicRanksFile)"
   ]
  },
  {
   "cell_type": "code",
   "execution_count": null,
   "metadata": {
    "collapsed": true,
    "deletable": true,
    "editable": true
   },
   "outputs": [],
   "source": [
    "def plot_wordle_from_mallet(word_weights_file, \n",
    "                            numOfTopics,\n",
    "                            number_of_top_words,\n",
    "                            outfolder,\n",
    "                            topicRanksFile,\n",
    "                            dpi):\n",
    "    \"\"\"Generate wordles from Mallet output, using the wordcloud module.\"\"\"\n",
    "    print(\"\\nLaunched make_wordle_from_mallet.\")\n",
    "    import os\n",
    "    for topic in range(0,numOfTopics):\n",
    "    ## Gets the text for one topic.\n",
    "        number_of_top_words = 7\n",
    "        word_scores_grouped = read_mallet_output(word_weights_file)\n",
    "        text = get_wordlewords(word_scores_grouped, number_of_top_words, topic)\n",
    "        wordcloud = WordCloud(width=600, height=400, background_color=\"white\", margin=4).generate(text)\n",
    "        default_colors = wordcloud.to_array()\n",
    "        rank = get_topicRank(topic, topicRanksFile)\n",
    "        figure_title = \"topic \"+ str(topic) + \" (\"+str(rank)+\"/\"+str(numOfTopics)+\")\"       \n",
    "        #plt.imshow(wordcloud.recolor(color_func=get_color_scale, random_state=3))\n",
    "        plt.imshow(default_colors)\n",
    "        plt.imshow(wordcloud)\n",
    "        plt.title(figure_title, fontsize=30)\n",
    "        plt.axis(\"off\")\n",
    "                \n",
    "        ## Saving the image file.\n",
    "        if not os.path.exists(outfolder):\n",
    "            os.makedirs(outfolder)\n",
    "            figure_filename = \"wordle_tp\"+\"{:03d}\".format(topic) + \".png\"\n",
    "            plt.savefig(outfolder + figure_filename, dpi=dpi)\n",
    "            return plt"
   ]
  },
  {
   "cell_type": "code",
   "execution_count": null,
   "metadata": {
    "collapsed": false,
    "deletable": true,
    "editable": true
   },
   "outputs": [],
   "source": [
    "from wordcloud import WordCloud\n",
    "import matplotlib.pyplot as plt\n",
    "import random\n",
    "\n",
    "word_weights_file = \"/home/sina/DARIAH/Topics/tutorial_supplementals/mallet_output/topic_word_weights.txt\"\n",
    "numOfTopics = 1\n",
    "outfolder = \"/home/sina/DARIAH/Topics/tutorial_supplementals/mallet_output\"\n",
    "dpi = 200\n",
    "topicRanksFile = \"/home/sina/DARIAH/Topics/tutorial_supplementals/mallet_output/test.csv\"\n",
    "font_path = \"/home/sina/DARIAH/Topics/tutorial_supplementals/font\"\n",
    "number_of_top_words = 10\n",
    "\n",
    "wordle = plot_wordle_from_mallet(word_weights_file, \n",
    "                                 numOfTopics,\n",
    "                                 number_of_top_words,\n",
    "                                 outfolder,\n",
    "                                 topicRanksFile,\n",
    "                                 dpi)"
   ]
  },
  {
   "cell_type": "code",
   "execution_count": null,
   "metadata": {
    "collapsed": false,
    "deletable": true,
    "editable": true
   },
   "outputs": [],
   "source": []
  },
  {
   "cell_type": "code",
   "execution_count": null,
   "metadata": {
    "collapsed": true,
    "deletable": true,
    "editable": true
   },
   "outputs": [],
   "source": []
  },
  {
   "cell_type": "code",
   "execution_count": null,
   "metadata": {
    "collapsed": true,
    "deletable": true,
    "editable": true
   },
   "outputs": [],
   "source": []
  }
 ],
 "metadata": {
  "kernelspec": {
   "display_name": "Python 3",
   "language": "python",
   "name": "python3"
  },
  "language_info": {
   "codemirror_mode": {
    "name": "ipython",
    "version": 3
   },
   "file_extension": ".py",
   "mimetype": "text/x-python",
   "name": "python",
   "nbconvert_exporter": "python",
   "pygments_lexer": "ipython3",
   "version": "3.5.2"
  }
 },
 "nbformat": 4,
 "nbformat_minor": 1
}
