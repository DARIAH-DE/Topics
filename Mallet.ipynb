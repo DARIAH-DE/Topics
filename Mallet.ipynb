{
 "cells": [
  {
   "cell_type": "markdown",
   "metadata": {},
   "source": [
    "# Mallet"
   ]
  },
  {
   "cell_type": "markdown",
   "metadata": {},
   "source": [
    "Another algorithm for topic modeling is implemented in the java-based software Mallet. For this to work **you need to download and install Mallet** from http://mallet.cs.umass.edu/download.php.\n",
    "Mallet uses plain text as input, so none of the preprocessing steps of this package are available for Mallet topic modeling as of yet."
   ]
  },
  {
   "cell_type": "markdown",
   "metadata": {},
   "source": [
    "#### Loading modules from DARIAH-Topics library\n",
    "First, we have to get access to the functionalities of the library by importing them. For using its functions we use the prefix of the toolbox's submodules (pre, visual and mallet)."
   ]
  },
  {
   "cell_type": "code",
   "execution_count": 1,
   "metadata": {
    "collapsed": true
   },
   "outputs": [],
   "source": [
    "from dariah_topics import preprocessing as pre\n",
    "from dariah_topics import visualization as visual\n",
    "from dariah_topics import mallet as mal"
   ]
  },
  {
   "cell_type": "markdown",
   "metadata": {},
   "source": [
    "#### Activating inline output in Jupyter notebook\n",
    "The following line will just tell the notebook to show graphics in the output frames."
   ]
  },
  {
   "cell_type": "code",
   "execution_count": 2,
   "metadata": {
    "collapsed": false
   },
   "outputs": [
    {
     "name": "stderr",
     "output_type": "stream",
     "text": [
      "/usr/local/lib/python3.4/dist-packages/traitlets/traitlets.py:809: DeprecationWarning: A parent of InlineBackend._config_changed has adopted the new (traitlets 4.1) @observe(change) API\n",
      "  clsname, change_or_name), DeprecationWarning)\n",
      "/usr/lib/python3.4/importlib/_bootstrap.py:321: DeprecationWarning: `IPython.lib.inputhook` is deprecated since IPython 5.0 and will be removed in future versions.\n",
      "  return f(*args, **kwds)\n",
      "/usr/local/lib/python3.4/dist-packages/IPython/lib/inputhook.py:327: DeprecationWarning: `register` is deprecated since IPython 5.0 and will be removed in future versions.\n",
      "  @inputhook_manager.register('osx')\n",
      "/usr/local/lib/python3.4/dist-packages/IPython/lib/inputhook.py:336: DeprecationWarning: `register` is deprecated since IPython 5.0 and will be removed in future versions.\n",
      "  @inputhook_manager.register('wx')\n",
      "/usr/local/lib/python3.4/dist-packages/IPython/lib/inputhook.py:398: DeprecationWarning: `register` is deprecated since IPython 5.0 and will be removed in future versions.\n",
      "  @inputhook_manager.register('qt', 'qt4')\n",
      "/usr/local/lib/python3.4/dist-packages/IPython/lib/inputhook.py:449: DeprecationWarning: `register` is deprecated since IPython 5.0 and will be removed in future versions.\n",
      "  @inputhook_manager.register('qt5')\n",
      "/usr/local/lib/python3.4/dist-packages/IPython/lib/inputhook.py:458: DeprecationWarning: `register` is deprecated since IPython 5.0 and will be removed in future versions.\n",
      "  @inputhook_manager.register('gtk')\n",
      "/usr/local/lib/python3.4/dist-packages/IPython/lib/inputhook.py:489: DeprecationWarning: `register` is deprecated since IPython 5.0 and will be removed in future versions.\n",
      "  @inputhook_manager.register('tk')\n",
      "/usr/local/lib/python3.4/dist-packages/IPython/lib/inputhook.py:522: DeprecationWarning: `register` is deprecated since IPython 5.0 and will be removed in future versions.\n",
      "  @inputhook_manager.register('glut')\n",
      "/usr/local/lib/python3.4/dist-packages/IPython/lib/inputhook.py:596: DeprecationWarning: `register` is deprecated since IPython 5.0 and will be removed in future versions.\n",
      "  @inputhook_manager.register('pyglet')\n",
      "/usr/local/lib/python3.4/dist-packages/IPython/lib/inputhook.py:624: DeprecationWarning: `register` is deprecated since IPython 5.0 and will be removed in future versions.\n",
      "  @inputhook_manager.register('gtk3')\n"
     ]
    }
   ],
   "source": [
    "%matplotlib inline"
   ]
  },
  {
   "cell_type": "markdown",
   "metadata": {},
   "source": [
    "## 1. Setting the parameters"
   ]
  },
  {
   "cell_type": "markdown",
   "metadata": {},
   "source": [
    "#### Define path to corpus folder"
   ]
  },
  {
   "cell_type": "code",
   "execution_count": 3,
   "metadata": {
    "collapsed": true
   },
   "outputs": [],
   "source": [
    "path_to_corpus = \"corpus_txt\""
   ]
  },
  {
   "cell_type": "markdown",
   "metadata": {},
   "source": [
    "#### Path to mallet folder \n",
    "\n",
    "Now we must tell the library where to find the local instance of mallet. If you managed to install Mallet, it is sufficient set `path_to_mallet = \"mallet\"`, if you just store Mallet in a local folder, you have to specify the path to the binary explictly."
   ]
  },
  {
   "cell_type": "code",
   "execution_count": 4,
   "metadata": {
    "collapsed": true
   },
   "outputs": [],
   "source": [
    "path_to_mallet = \"/home/steffen/Software/mallet/bin/mallet\""
   ]
  },
  {
   "cell_type": "markdown",
   "metadata": {},
   "source": [
    "#### Output folder"
   ]
  },
  {
   "cell_type": "code",
   "execution_count": 5,
   "metadata": {
    "collapsed": true
   },
   "outputs": [],
   "source": [
    "outfolder = \"tutorial_supplementals/mallet_output\""
   ]
  },
  {
   "cell_type": "markdown",
   "metadata": {},
   "source": [
    "#### Stopword list\n",
    "\n",
    "In the current workflow, Mallet can filter out a given stop word list during its internal preprocessing."
   ]
  },
  {
   "cell_type": "code",
   "execution_count": 6,
   "metadata": {
    "collapsed": true
   },
   "outputs": [],
   "source": [
    "stoplist = \"tutorial_supplementals/stoplist/en.txt\""
   ]
  },
  {
   "cell_type": "markdown",
   "metadata": {},
   "source": [
    "## 2. Model creation"
   ]
  },
  {
   "cell_type": "code",
   "execution_count": 12,
   "metadata": {
    "collapsed": false
   },
   "outputs": [
    {
     "name": "stdout",
     "output_type": "stream",
     "text": [
      "['/home/steffen/Software/mallet/bin/mallet', 'import-dir', '--input', 'corpus_txt', '--output', 'tutorial_supplementals/mallet_output/malletModel.mallet', '--keep-sequence']\n"
     ]
    }
   ],
   "source": [
    "mallet_model = mal.create_mallet_model(path_to_mallet = path_to_mallet, \n",
    "                                       outfolder = outfolder,\n",
    "                                       path_to_corpus = path_to_corpus\n",
    "                                      )"
   ]
  },
  {
   "cell_type": "code",
   "execution_count": 7,
   "metadata": {
    "collapsed": false
   },
   "outputs": [
    {
     "name": "stdout",
     "output_type": "stream",
     "text": [
      "['/home/steffen/Software/mallet/bin/mallet', 'import-dir', '--input', 'corpus_txt', '--output', 'tutorial_supplementals/mallet_output/malletModel.mallet', '--keep-sequence', '--stoplist-file', 'tutorial_supplementals/stoplist/en.txt']\n"
     ]
    }
   ],
   "source": [
    "mallet_model = mal.create_mallet_model(path_to_mallet = path_to_mallet, \n",
    "                                       outfolder = outfolder,\n",
    "                                       path_to_corpus = path_to_corpus,\n",
    "                                       remove_stopwords = \"True\", \n",
    "                                       stoplist = stoplist\n",
    "                                      )"
   ]
  },
  {
   "cell_type": "code",
   "execution_count": 13,
   "metadata": {
    "collapsed": false
   },
   "outputs": [],
   "source": [
    "output_folder = mal.create_mallet_output(path_to_mallet = path_to_mallet, \n",
    "                                         path_to_malletModel = mallet_model, \n",
    "                                         outfolder = outfolder\n",
    "                                        )"
   ]
  },
  {
   "cell_type": "code",
   "execution_count": 14,
   "metadata": {
    "collapsed": true
   },
   "outputs": [],
   "source": [
    "doc_topic = mal.show_docTopicMatrix(output_folder, \"doc_topics.txt\")"
   ]
  },
  {
   "cell_type": "markdown",
   "metadata": {},
   "source": [
    "## 3. Visualization"
   ]
  },
  {
   "cell_type": "markdown",
   "metadata": {},
   "source": [
    "Now we can see the topics in the model with the following function:"
   ]
  },
  {
   "cell_type": "code",
   "execution_count": 15,
   "metadata": {
    "collapsed": false
   },
   "outputs": [
    {
     "data": {
      "text/html": [
       "<div>\n",
       "<table border=\"1\" class=\"dataframe\">\n",
       "  <thead>\n",
       "    <tr style=\"text-align: right;\">\n",
       "      <th></th>\n",
       "      <th>0</th>\n",
       "      <th>1</th>\n",
       "      <th>2</th>\n",
       "      <th>3</th>\n",
       "      <th>4</th>\n",
       "      <th>5</th>\n",
       "      <th>6</th>\n",
       "      <th>7</th>\n",
       "      <th>8</th>\n",
       "      <th>9</th>\n",
       "      <th>10</th>\n",
       "      <th>11</th>\n",
       "      <th>12</th>\n",
       "      <th>13</th>\n",
       "      <th>14</th>\n",
       "      <th>15</th>\n",
       "      <th>16</th>\n",
       "      <th>17</th>\n",
       "      <th>18</th>\n",
       "      <th>19</th>\n",
       "    </tr>\n",
       "  </thead>\n",
       "  <tbody>\n",
       "    <tr>\n",
       "      <th>0</th>\n",
       "      <td>and</td>\n",
       "      <td>had</td>\n",
       "      <td>was</td>\n",
       "      <td>were</td>\n",
       "      <td>our</td>\n",
       "      <td>from</td>\n",
       "      <td>but</td>\n",
       "      <td>though</td>\n",
       "      <td>seemed</td>\n",
       "      <td>lake</td>\n",
       "      <td>great</td>\n",
       "      <td>over</td>\n",
       "      <td>ones</td>\n",
       "      <td>camp</td>\n",
       "      <td>old</td>\n",
       "      <td>land</td>\n",
       "      <td>feet</td>\n",
       "      <td>city</td>\n",
       "      <td>into</td>\n",
       "      <td>only</td>\n",
       "    </tr>\n",
       "    <tr>\n",
       "      <th>1</th>\n",
       "      <td>the</td>\n",
       "      <td>said</td>\n",
       "      <td>and</td>\n",
       "      <td>you</td>\n",
       "      <td>little</td>\n",
       "      <td>all</td>\n",
       "      <td>mowgli</td>\n",
       "      <td>will</td>\n",
       "      <td>jungle</td>\n",
       "      <td>they</td>\n",
       "      <td>big</td>\n",
       "      <td>bagheera</td>\n",
       "      <td>sea</td>\n",
       "      <td>wolf</td>\n",
       "      <td>thou</td>\n",
       "      <td>has</td>\n",
       "      <td>nag</td>\n",
       "      <td>baloo</td>\n",
       "      <td>till</td>\n",
       "      <td>rikki-tikki</td>\n",
       "    </tr>\n",
       "    <tr>\n",
       "      <th>2</th>\n",
       "      <td>the</td>\n",
       "      <td>that</td>\n",
       "      <td>have</td>\n",
       "      <td>not</td>\n",
       "      <td>for</td>\n",
       "      <td>one</td>\n",
       "      <td>all</td>\n",
       "      <td>what</td>\n",
       "      <td>would</td>\n",
       "      <td>this</td>\n",
       "      <td>could</td>\n",
       "      <td>from</td>\n",
       "      <td>our</td>\n",
       "      <td>there</td>\n",
       "      <td>very</td>\n",
       "      <td>now</td>\n",
       "      <td>more</td>\n",
       "      <td>some</td>\n",
       "      <td>been</td>\n",
       "      <td>see</td>\n",
       "    </tr>\n",
       "    <tr>\n",
       "      <th>3</th>\n",
       "      <td>the</td>\n",
       "      <td>and</td>\n",
       "      <td>with</td>\n",
       "      <td>their</td>\n",
       "      <td>other</td>\n",
       "      <td>even</td>\n",
       "      <td>been</td>\n",
       "      <td>they</td>\n",
       "      <td>this</td>\n",
       "      <td>its</td>\n",
       "      <td>about</td>\n",
       "      <td>all</td>\n",
       "      <td>them</td>\n",
       "      <td>through</td>\n",
       "      <td>first</td>\n",
       "      <td>those</td>\n",
       "      <td>when</td>\n",
       "      <td>certain</td>\n",
       "      <td>course</td>\n",
       "      <td>such</td>\n",
       "    </tr>\n",
       "    <tr>\n",
       "      <th>4</th>\n",
       "      <td>said</td>\n",
       "      <td>you</td>\n",
       "      <td>was</td>\n",
       "      <td>ravager</td>\n",
       "      <td>not</td>\n",
       "      <td>she</td>\n",
       "      <td>smallest</td>\n",
       "      <td>all</td>\n",
       "      <td>which</td>\n",
       "      <td>were</td>\n",
       "      <td>dog</td>\n",
       "      <td>moore</td>\n",
       "      <td>slippers</td>\n",
       "      <td>her</td>\n",
       "      <td>there</td>\n",
       "      <td>because</td>\n",
       "      <td>will</td>\n",
       "      <td>but</td>\n",
       "      <td>proper</td>\n",
       "      <td>about</td>\n",
       "    </tr>\n",
       "    <tr>\n",
       "      <th>5</th>\n",
       "      <td>the</td>\n",
       "      <td>her</td>\n",
       "      <td>his</td>\n",
       "      <td>she</td>\n",
       "      <td>you</td>\n",
       "      <td>was</td>\n",
       "      <td>from</td>\n",
       "      <td>conan</td>\n",
       "      <td>not</td>\n",
       "      <td>into</td>\n",
       "      <td>that</td>\n",
       "      <td>door</td>\n",
       "      <td>with</td>\n",
       "      <td>eyes</td>\n",
       "      <td>through</td>\n",
       "      <td>him</td>\n",
       "      <td>their</td>\n",
       "      <td>girl</td>\n",
       "      <td>will</td>\n",
       "      <td>about</td>\n",
       "    </tr>\n",
       "    <tr>\n",
       "      <th>6</th>\n",
       "      <td>the</td>\n",
       "      <td>and</td>\n",
       "      <td>which</td>\n",
       "      <td>had</td>\n",
       "      <td>was</td>\n",
       "      <td>with</td>\n",
       "      <td>were</td>\n",
       "      <td>from</td>\n",
       "      <td>much</td>\n",
       "      <td>there</td>\n",
       "      <td>before</td>\n",
       "      <td>house</td>\n",
       "      <td>too</td>\n",
       "      <td>might</td>\n",
       "      <td>upon</td>\n",
       "      <td>street</td>\n",
       "      <td>only</td>\n",
       "      <td>but</td>\n",
       "      <td>then</td>\n",
       "      <td>thing</td>\n",
       "    </tr>\n",
       "    <tr>\n",
       "      <th>7</th>\n",
       "      <td>and</td>\n",
       "      <td>his</td>\n",
       "      <td>was</td>\n",
       "      <td>with</td>\n",
       "      <td>him</td>\n",
       "      <td>but</td>\n",
       "      <td>had</td>\n",
       "      <td>they</td>\n",
       "      <td>for</td>\n",
       "      <td>when</td>\n",
       "      <td>were</td>\n",
       "      <td>then</td>\n",
       "      <td>are</td>\n",
       "      <td>down</td>\n",
       "      <td>out</td>\n",
       "      <td>them</td>\n",
       "      <td>back</td>\n",
       "      <td>who</td>\n",
       "      <td>into</td>\n",
       "      <td>came</td>\n",
       "    </tr>\n",
       "    <tr>\n",
       "      <th>8</th>\n",
       "      <td>the</td>\n",
       "      <td>that</td>\n",
       "      <td>which</td>\n",
       "      <td>have</td>\n",
       "      <td>are</td>\n",
       "      <td>this</td>\n",
       "      <td>not</td>\n",
       "      <td>but</td>\n",
       "      <td>from</td>\n",
       "      <td>for</td>\n",
       "      <td>all</td>\n",
       "      <td>its</td>\n",
       "      <td>now</td>\n",
       "      <td>one</td>\n",
       "      <td>our</td>\n",
       "      <td>has</td>\n",
       "      <td>upon</td>\n",
       "      <td>will</td>\n",
       "      <td>than</td>\n",
       "      <td>thus</td>\n",
       "    </tr>\n",
       "    <tr>\n",
       "      <th>9</th>\n",
       "      <td>you</td>\n",
       "      <td>his</td>\n",
       "      <td>was</td>\n",
       "      <td>upon</td>\n",
       "      <td>said</td>\n",
       "      <td>holmes</td>\n",
       "      <td>sir</td>\n",
       "      <td>will</td>\n",
       "      <td>her</td>\n",
       "      <td>has</td>\n",
       "      <td>but</td>\n",
       "      <td>man</td>\n",
       "      <td>have</td>\n",
       "      <td>your</td>\n",
       "      <td>had</td>\n",
       "      <td>him</td>\n",
       "      <td>she</td>\n",
       "      <td>should</td>\n",
       "      <td>been</td>\n",
       "      <td>little</td>\n",
       "    </tr>\n",
       "  </tbody>\n",
       "</table>\n",
       "</div>"
      ],
      "text/plain": [
       "     0     1      2        3       4       5         6       7       8   \\\n",
       "0   and   had    was     were     our    from       but  though  seemed   \n",
       "1   the  said    and      you  little     all    mowgli    will  jungle   \n",
       "2   the  that   have      not     for     one       all    what   would   \n",
       "3   the   and   with    their   other    even      been    they    this   \n",
       "4  said   you    was  ravager     not     she  smallest     all   which   \n",
       "5   the   her    his      she     you     was      from   conan     not   \n",
       "6   the   and  which      had     was    with      were    from    much   \n",
       "7   and   his    was     with     him     but       had    they     for   \n",
       "8   the  that  which     have     are    this       not     but    from   \n",
       "9   you   his    was     upon    said  holmes       sir    will     her   \n",
       "\n",
       "      9       10        11        12       13       14       15     16  \\\n",
       "0   lake   great      over      ones     camp      old     land   feet   \n",
       "1   they     big  bagheera       sea     wolf     thou      has    nag   \n",
       "2   this   could      from       our    there     very      now   more   \n",
       "3    its   about       all      them  through    first    those   when   \n",
       "4   were     dog     moore  slippers      her    there  because   will   \n",
       "5   into    that      door      with     eyes  through      him  their   \n",
       "6  there  before     house       too    might     upon   street   only   \n",
       "7   when    were      then       are     down      out     them   back   \n",
       "8    for     all       its       now      one      our      has   upon   \n",
       "9    has     but       man      have     your      had      him    she   \n",
       "\n",
       "        17      18           19  \n",
       "0     city    into         only  \n",
       "1    baloo    till  rikki-tikki  \n",
       "2     some    been          see  \n",
       "3  certain  course         such  \n",
       "4      but  proper        about  \n",
       "5     girl    will        about  \n",
       "6      but    then        thing  \n",
       "7      who    into         came  \n",
       "8     will    than         thus  \n",
       "9   should    been       little  "
      ]
     },
     "execution_count": 15,
     "metadata": {},
     "output_type": "execute_result"
    }
   ],
   "source": [
    "mal.show_topics_keys(output_folder, topicsKeyFile = \"topic_keys.txt\")"
   ]
  },
  {
   "cell_type": "markdown",
   "metadata": {},
   "source": [
    "### 3.1. Distribution of topics"
   ]
  },
  {
   "cell_type": "markdown",
   "metadata": {},
   "source": [
    "#### Distribution of topics over all documents\n",
    "\n",
    "The distribution of topics over all documents can now be visualized in a heat map:"
   ]
  },
  {
   "cell_type": "code",
   "execution_count": 18,
   "metadata": {
    "collapsed": false
   },
   "outputs": [
    {
     "data": {
      "image/png": "[encoded data removed]",
      "text/plain": [
       "<matplotlib.figure.Figure at 0x7f90cefb20f0>"
      ]
     },
     "metadata": {},
     "output_type": "display_data"
    }
   ],
   "source": [
    "heatmap = visual.doc_topic_heatmap(doc_topic.transpose())\n",
    "heatmap.show()"
   ]
  },
  {
   "cell_type": "markdown",
   "metadata": {},
   "source": [
    "#### Distribution of topics in a single documents\n",
    "\n",
    "To take closer look on the topics in a single text, we can use the follwing function that shows all the topics in a text and their respective proportions. To select the document, we have to give its index to the function."
   ]
  },
  {
   "cell_type": "code",
   "execution_count": 19,
   "metadata": {
    "collapsed": false
   },
   "outputs": [
    {
     "data": {
      "image/png": "[encoded data removed]",
      "text/plain": [
       "<matplotlib.figure.Figure at 0x7f90cef125c0>"
      ]
     },
     "metadata": {},
     "output_type": "display_data"
    }
   ],
   "source": [
    "visual.plot_doc_topics(doc_topic.transpose(), 6)"
   ]
  }
 ],
 "metadata": {
  "kernelspec": {
   "display_name": "Python 3",
   "language": "python",
   "name": "python3"
  },
  "language_info": {
   "codemirror_mode": {
    "name": "ipython",
    "version": 3
   },
   "file_extension": ".py",
   "mimetype": "text/x-python",
   "name": "python",
   "nbconvert_exporter": "python",
   "pygments_lexer": "ipython3",
   "version": "3.4.3"
  }
 },
 "nbformat": 4,
 "nbformat_minor": 0
}
