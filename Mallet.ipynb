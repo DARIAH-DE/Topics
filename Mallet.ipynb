{
 "cells": [
  {
   "cell_type": "markdown",
   "metadata": {
    "deletable": true,
    "editable": true
   },
   "source": [
    "# Mallet"
   ]
  },
  {
   "cell_type": "markdown",
   "metadata": {
    "deletable": true,
    "editable": true
   },
   "source": [
    "Another algorithm for topic modeling is implemented in the java-based software Mallet. For this to work **you need to download and install Mallet** from http://mallet.cs.umass.edu/download.php.\n",
    "Mallet uses plain text as input, so none of the preprocessing steps of this package are available for Mallet topic modeling as of yet."
   ]
  },
  {
   "cell_type": "markdown",
   "metadata": {
    "deletable": true,
    "editable": true
   },
   "source": [
    "#### Loading modules from DARIAH-Topics library\n",
    "First, we have to get access to the functionalities of the library by importing them. For using its functions we use the prefix of the toolbox's submodules (pre, visual and mallet)."
   ]
  },
  {
   "cell_type": "code",
   "execution_count": 1,
   "metadata": {
    "collapsed": false,
    "deletable": true,
    "editable": true
   },
   "outputs": [],
   "source": [
    "from dariah_topics import preprocessing as pre\n",
    "from dariah_topics import visualization as visual\n",
    "from dariah_topics import mallet as mal"
   ]
  },
  {
   "cell_type": "markdown",
   "metadata": {
    "deletable": true,
    "editable": true
   },
   "source": [
    "#### Activating inline output in Jupyter notebook\n",
    "The following line will just tell the notebook to show graphics in the output frames."
   ]
  },
  {
   "cell_type": "code",
   "execution_count": 2,
   "metadata": {
    "collapsed": true,
    "deletable": true,
    "editable": true
   },
   "outputs": [],
   "source": [
    "%matplotlib inline"
   ]
  },
  {
   "cell_type": "markdown",
   "metadata": {
    "deletable": true,
    "editable": true
   },
   "source": [
    "## 1. Setting the parameters"
   ]
  },
  {
   "cell_type": "markdown",
   "metadata": {
    "deletable": true,
    "editable": true
   },
   "source": [
    "#### Define path to corpus folder"
   ]
  },
  {
   "cell_type": "code",
   "execution_count": 3,
   "metadata": {
    "collapsed": true,
    "deletable": true,
    "editable": true
   },
   "outputs": [],
   "source": [
    "#path_to_corpus = \"corpus_txt\"\n",
    "path_to_corpus = \"/home/sina/DARIAH/Topics/corpus_txt/\""
   ]
  },
  {
   "cell_type": "markdown",
   "metadata": {
    "deletable": true,
    "editable": true
   },
   "source": [
    "#### Path to mallet folder \n",
    "\n",
    "Now we must tell the library where to find the local instance of mallet. If you managed to install Mallet, it is sufficient set `path_to_mallet = \"mallet\"`, if you just store Mallet in a local folder, you have to specify the path to the binary explictly."
   ]
  },
  {
   "cell_type": "code",
   "execution_count": 4,
   "metadata": {
    "collapsed": true,
    "deletable": true,
    "editable": true
   },
   "outputs": [],
   "source": [
    "path_to_mallet = \"/home/sina/mallet-2.0.8/bin/mallet\""
   ]
  },
  {
   "cell_type": "markdown",
   "metadata": {
    "deletable": true,
    "editable": true
   },
   "source": [
    "#### Output folder"
   ]
  },
  {
   "cell_type": "code",
   "execution_count": 5,
   "metadata": {
    "collapsed": true,
    "deletable": true,
    "editable": true
   },
   "outputs": [],
   "source": [
    "outfolder = \"tutorial_supplementals/mallet_output\""
   ]
  },
  {
   "cell_type": "markdown",
   "metadata": {
    "deletable": true,
    "editable": true
   },
   "source": [
    "#### The Mallet corpus model\n",
    "\n",
    "Finally, we can give all these folder paths to a Mallet function that handles all the preprocessing steps and creates a Mallet-specific corpus model object."
   ]
  },
  {
   "cell_type": "code",
   "execution_count": 6,
   "metadata": {
    "collapsed": false,
    "deletable": true,
    "editable": true
   },
   "outputs": [
    {
     "name": "stderr",
     "output_type": "stream",
     "text": [
      "INFO mallet: Accessing MALLET with ['/home/sina/mallet-2.0.8/bin/mallet', 'import-dir', '--input', '/home/sina/DARIAH/Topics/corpus_txt/', '--remove-stopwords', '--output', 'tutorial_supplementals/mallet_output/binary.mallet', '--keep-sequence'] ...\n"
     ]
    }
   ],
   "source": [
    "mallet_model = mal.create_mallet_binary(path_to_mallet = path_to_mallet, \n",
    "                                       outfolder = outfolder,\n",
    "                                       path_to_corpus = path_to_corpus\n",
    "                                      )"
   ]
  },
  {
   "cell_type": "markdown",
   "metadata": {
    "deletable": true,
    "editable": true
   },
   "source": [
    "## 2. Model creation"
   ]
  },
  {
   "cell_type": "markdown",
   "metadata": {
    "deletable": true,
    "editable": true
   },
   "source": [
    "**Warning: this step can take quite a while!** Meaning something between some seconds and some hours depending on corpus size and the number of passes."
   ]
  },
  {
   "cell_type": "code",
   "execution_count": 7,
   "metadata": {
    "collapsed": false,
    "deletable": true,
    "editable": true,
    "scrolled": true
   },
   "outputs": [
    {
     "name": "stderr",
     "output_type": "stream",
     "text": [
      "INFO mallet: Accessing Mallet with ['/home/sina/mallet-2.0.8/bin/mallet', 'train-topics', '--input', 'tutorial_supplementals/mallet_output/binary.mallet', '--num-topics', '3', '--num-iterations', '500', '--num-top-words', '10', '--output-topic-keys', '/home/sina/DARIAH/Topics/tutorial_supplementals/mallet_output/topic_keys.txt', '--topic-word-weights-file', '/home/sina/DARIAH/Topics/tutorial_supplementals/mallet_output/topic_word_weights.txt', '--word-topic-counts-file', '/home/sina/DARIAH/Topics/tutorial_supplementals/mallet_output/word_topic_counts.txt', '--diagnostics-file', '/home/sina/DARIAH/Topics/tutorial_supplementals/mallet_output/diagnostics.txt', '--output-topic-docs', '/home/sina/DARIAH/Topics/tutorial_supplementals/mallet_output/topic_docs.txt', '--output-doc-topics', '/home/sina/DARIAH/Topics/tutorial_supplementals/mallet_output/doc_topics.txt', '--output-state', '/home/sina/DARIAH/Topics/tutorial_supplementals/mallet_output/state.gz'] ...\n"
     ]
    }
   ],
   "source": [
    "num_topics = 3\n",
    "output_folder = mal.create_mallet_model(path_to_mallet = path_to_mallet, \n",
    "                                        path_to_binary = mallet_model, \n",
    "                                        outfolder = outfolder,\n",
    "                                        num_top_words = 10,\n",
    "                                        num_iterations = 500,\n",
    "                                        num_topics = num_topics\n",
    "                                        )"
   ]
  },
  {
   "cell_type": "markdown",
   "metadata": {
    "deletable": true,
    "editable": true
   },
   "source": [
    "### 2.4. Create document-topic matrix\n",
    "\n",
    "The generated model object can now be translated into a human-readable document-topic matrix (that is a actually a pandas data frame) that constitutes our principle exchange format for topic modeling results. For generating the matrix from a Gensim model, we can use the following function:"
   ]
  },
  {
   "cell_type": "code",
   "execution_count": 8,
   "metadata": {
    "collapsed": false,
    "deletable": true,
    "editable": true
   },
   "outputs": [],
   "source": [
    "doc_topic = mal.show_doc_topic_matrix(\"tutorial_supplementals/mallet_output\")"
   ]
  },
  {
   "cell_type": "markdown",
   "metadata": {
    "deletable": true,
    "editable": true
   },
   "source": [
    "## 3. Visualization"
   ]
  },
  {
   "cell_type": "markdown",
   "metadata": {
    "deletable": true,
    "editable": true
   },
   "source": [
    "Now we can see the topics in the model with the following function:\n",
    "\n",
    "**Hint:** Depending on the number of topics chosen in step 2, you might have to adjust *num_topics* in this step accordingly."
   ]
  },
  {
   "cell_type": "code",
   "execution_count": 9,
   "metadata": {
    "collapsed": false,
    "deletable": true,
    "editable": true
   },
   "outputs": [
    {
     "data": {
      "text/html": [
       "<div>\n",
       "<table border=\"1\" class=\"dataframe\">\n",
       "  <thead>\n",
       "    <tr style=\"text-align: right;\">\n",
       "      <th></th>\n",
       "      <th>Key 1</th>\n",
       "      <th>Key 2</th>\n",
       "      <th>Key 3</th>\n",
       "      <th>Key 4</th>\n",
       "      <th>Key 5</th>\n",
       "      <th>Key 6</th>\n",
       "      <th>Key 7</th>\n",
       "      <th>Key 8</th>\n",
       "      <th>Key 9</th>\n",
       "      <th>Key 10</th>\n",
       "    </tr>\n",
       "  </thead>\n",
       "  <tbody>\n",
       "    <tr>\n",
       "      <th>Topic 1</th>\n",
       "      <td>back</td>\n",
       "      <td>head</td>\n",
       "      <td>mowgli</td>\n",
       "      <td>ravager</td>\n",
       "      <td>dog</td>\n",
       "      <td>men</td>\n",
       "      <td>time</td>\n",
       "      <td>big</td>\n",
       "      <td>feet</td>\n",
       "      <td>smallest</td>\n",
       "    </tr>\n",
       "    <tr>\n",
       "      <th>Topic 2</th>\n",
       "      <td>great</td>\n",
       "      <td>point</td>\n",
       "      <td>matter</td>\n",
       "      <td>things</td>\n",
       "      <td>fact</td>\n",
       "      <td>sun</td>\n",
       "      <td>earth</td>\n",
       "      <td>made</td>\n",
       "      <td>general</td>\n",
       "      <td>centre</td>\n",
       "    </tr>\n",
       "    <tr>\n",
       "      <th>Topic 3</th>\n",
       "      <td>man</td>\n",
       "      <td>holmes</td>\n",
       "      <td>sir</td>\n",
       "      <td>hand</td>\n",
       "      <td>face</td>\n",
       "      <td>time</td>\n",
       "      <td>eyes</td>\n",
       "      <td>door</td>\n",
       "      <td>house</td>\n",
       "      <td>back</td>\n",
       "    </tr>\n",
       "  </tbody>\n",
       "</table>\n",
       "</div>"
      ],
      "text/plain": [
       "         Key 1   Key 2   Key 3    Key 4 Key 5 Key 6  Key 7 Key 8    Key 9  \\\n",
       "Topic 1   back    head  mowgli  ravager   dog   men   time   big     feet   \n",
       "Topic 2  great   point  matter   things  fact   sun  earth  made  general   \n",
       "Topic 3    man  holmes     sir     hand  face  time   eyes  door    house   \n",
       "\n",
       "           Key 10  \n",
       "Topic 1  smallest  \n",
       "Topic 2    centre  \n",
       "Topic 3      back  "
      ]
     },
     "execution_count": 9,
     "metadata": {},
     "output_type": "execute_result"
    }
   ],
   "source": [
    "num_topics = 3\n",
    "mal.show_topics_keys(\"tutorial_supplementals/mallet_output\", num_topics = num_topics)"
   ]
  },
  {
   "cell_type": "markdown",
   "metadata": {
    "deletable": true,
    "editable": true
   },
   "source": [
    "### 3.1. Distribution of topics"
   ]
  },
  {
   "cell_type": "markdown",
   "metadata": {
    "deletable": true,
    "editable": true
   },
   "source": [
    "#### Distribution of topics over all documents\n",
    "\n",
    "The distribution of topics over all documents can now be visualized in a heat map:"
   ]
  },
  {
   "cell_type": "code",
   "execution_count": 10,
   "metadata": {
    "collapsed": false,
    "deletable": true,
    "editable": true
   },
   "outputs": [
    {
     "data": {
      "image/png": "[encoded data removed]",
      "text/plain": [
       "<matplotlib.figure.Figure at 0x7ff2abd695c0>"
      ]
     },
     "metadata": {},
     "output_type": "display_data"
    }
   ],
   "source": [
    "heatmap = visual.doc_topic_heatmap(doc_topic)\n",
    "heatmap.show()"
   ]
  },
  {
   "cell_type": "markdown",
   "metadata": {
    "deletable": true,
    "editable": true
   },
   "source": [
    "#### Distribution of topics in a single documents\n",
    "\n",
    "To take closer look on the topics in a single text, we can use the follwing function that shows all the topics in a text and their respective proportions. To select the document, we have to give its index to the function."
   ]
  },
  {
   "cell_type": "code",
   "execution_count": 11,
   "metadata": {
    "collapsed": false,
    "deletable": true,
    "editable": true
   },
   "outputs": [
    {
     "data": {
      "text/plain": [
       "<module 'matplotlib.pyplot' from '/home/sina/.local/lib/python3.5/site-packages/matplotlib/pyplot.py'>"
      ]
     },
     "execution_count": 11,
     "metadata": {},
     "output_type": "execute_result"
    },
    {
     "data": {
      "image/png": "[encoded data removed]",
      "text/plain": [
       "<matplotlib.figure.Figure at 0x7ff2abca9f28>"
      ]
     },
     "metadata": {},
     "output_type": "display_data"
    }
   ],
   "source": [
    "#document_nr = 7\n",
    "visual.plot_doc_topics(doc_topic, 7)"
   ]
  },
  {
   "cell_type": "markdown",
   "metadata": {
    "deletable": true,
    "editable": true
   },
   "source": [
    "def make_wordle_from_mallet(word_weights_file,topics,words,outfolder, \n",
    "                            font_path, dpi):"
   ]
  },
  {
   "cell_type": "code",
   "execution_count": 12,
   "metadata": {
    "collapsed": true,
    "deletable": true,
    "editable": true
   },
   "outputs": [],
   "source": [
    "import pandas as pd\n",
    "def read_mallet_output(word_weights_file):\n",
    "        \"\"\"Reads Mallet output (topics with words and word weights) into dataframe.\"\"\" \n",
    "        word_scores = pd.read_table(word_weights_file, header=None, sep=\"\\t\")\n",
    "        word_scores = word_scores.sort(columns=[0,2], axis=0, ascending=[True, False])\n",
    "        word_scores_grouped = word_scores.groupby(0)\n",
    "        return word_scores_grouped"
   ]
  },
  {
   "cell_type": "code",
   "execution_count": 13,
   "metadata": {
    "collapsed": false,
    "deletable": true,
    "editable": true
   },
   "outputs": [
    {
     "name": "stderr",
     "output_type": "stream",
     "text": [
      "/home/sina/.local/lib/python3.5/site-packages/ipykernel/__main__.py:5: FutureWarning: sort(columns=....) is deprecated, use sort_values(by=.....)\n"
     ]
    },
    {
     "data": {
      "text/html": [
       "<div>\n",
       "<table border=\"1\" class=\"dataframe\">\n",
       "  <thead>\n",
       "    <tr style=\"text-align: right;\">\n",
       "      <th></th>\n",
       "      <th>0</th>\n",
       "      <th>1</th>\n",
       "      <th>2</th>\n",
       "    </tr>\n",
       "  </thead>\n",
       "  <tbody>\n",
       "    <tr>\n",
       "      <th>2617</th>\n",
       "      <td>0</td>\n",
       "      <td>man</td>\n",
       "      <td>611.01</td>\n",
       "    </tr>\n",
       "    <tr>\n",
       "      <th>9765</th>\n",
       "      <td>0</td>\n",
       "      <td>holmes</td>\n",
       "      <td>451.01</td>\n",
       "    </tr>\n",
       "    <tr>\n",
       "      <th>6078</th>\n",
       "      <td>0</td>\n",
       "      <td>sir</td>\n",
       "      <td>422.01</td>\n",
       "    </tr>\n",
       "    <tr>\n",
       "      <th>1161</th>\n",
       "      <td>0</td>\n",
       "      <td>time</td>\n",
       "      <td>308.01</td>\n",
       "    </tr>\n",
       "    <tr>\n",
       "      <th>4797</th>\n",
       "      <td>0</td>\n",
       "      <td>house</td>\n",
       "      <td>262.01</td>\n",
       "    </tr>\n",
       "    <tr>\n",
       "      <th>1614</th>\n",
       "      <td>0</td>\n",
       "      <td>back</td>\n",
       "      <td>248.01</td>\n",
       "    </tr>\n",
       "    <tr>\n",
       "      <th>2470</th>\n",
       "      <td>0</td>\n",
       "      <td>face</td>\n",
       "      <td>240.01</td>\n",
       "    </tr>\n",
       "    <tr>\n",
       "      <th>103</th>\n",
       "      <td>0</td>\n",
       "      <td>small</td>\n",
       "      <td>234.01</td>\n",
       "    </tr>\n",
       "    <tr>\n",
       "      <th>206</th>\n",
       "      <td>0</td>\n",
       "      <td>made</td>\n",
       "      <td>215.01</td>\n",
       "    </tr>\n",
       "    <tr>\n",
       "      <th>499</th>\n",
       "      <td>0</td>\n",
       "      <td>long</td>\n",
       "      <td>212.01</td>\n",
       "    </tr>\n",
       "    <tr>\n",
       "      <th>74</th>\n",
       "      <td>0</td>\n",
       "      <td>hand</td>\n",
       "      <td>209.01</td>\n",
       "    </tr>\n",
       "    <tr>\n",
       "      <th>1054</th>\n",
       "      <td>0</td>\n",
       "      <td>night</td>\n",
       "      <td>203.01</td>\n",
       "    </tr>\n",
       "    <tr>\n",
       "      <th>19671</th>\n",
       "      <td>0</td>\n",
       "      <td>ravager</td>\n",
       "      <td>198.01</td>\n",
       "    </tr>\n",
       "    <tr>\n",
       "      <th>1385</th>\n",
       "      <td>0</td>\n",
       "      <td>dog</td>\n",
       "      <td>195.01</td>\n",
       "    </tr>\n",
       "    <tr>\n",
       "      <th>1384</th>\n",
       "      <td>0</td>\n",
       "      <td>asked</td>\n",
       "      <td>189.01</td>\n",
       "    </tr>\n",
       "    <tr>\n",
       "      <th>929</th>\n",
       "      <td>0</td>\n",
       "      <td>found</td>\n",
       "      <td>186.01</td>\n",
       "    </tr>\n",
       "    <tr>\n",
       "      <th>712</th>\n",
       "      <td>0</td>\n",
       "      <td>good</td>\n",
       "      <td>185.01</td>\n",
       "    </tr>\n",
       "    <tr>\n",
       "      <th>829</th>\n",
       "      <td>0</td>\n",
       "      <td>case</td>\n",
       "      <td>184.01</td>\n",
       "    </tr>\n",
       "    <tr>\n",
       "      <th>3427</th>\n",
       "      <td>0</td>\n",
       "      <td>eyes</td>\n",
       "      <td>181.01</td>\n",
       "    </tr>\n",
       "    <tr>\n",
       "      <th>1496</th>\n",
       "      <td>0</td>\n",
       "      <td>make</td>\n",
       "      <td>168.01</td>\n",
       "    </tr>\n",
       "    <tr>\n",
       "      <th>5953</th>\n",
       "      <td>0</td>\n",
       "      <td>street</td>\n",
       "      <td>168.01</td>\n",
       "    </tr>\n",
       "    <tr>\n",
       "      <th>83</th>\n",
       "      <td>0</td>\n",
       "      <td>light</td>\n",
       "      <td>167.01</td>\n",
       "    </tr>\n",
       "    <tr>\n",
       "      <th>3909</th>\n",
       "      <td>0</td>\n",
       "      <td>room</td>\n",
       "      <td>167.01</td>\n",
       "    </tr>\n",
       "    <tr>\n",
       "      <th>77</th>\n",
       "      <td>0</td>\n",
       "      <td>thought</td>\n",
       "      <td>166.01</td>\n",
       "    </tr>\n",
       "    <tr>\n",
       "      <th>556</th>\n",
       "      <td>0</td>\n",
       "      <td>round</td>\n",
       "      <td>166.01</td>\n",
       "    </tr>\n",
       "    <tr>\n",
       "      <th>7583</th>\n",
       "      <td>0</td>\n",
       "      <td>friend</td>\n",
       "      <td>164.01</td>\n",
       "    </tr>\n",
       "    <tr>\n",
       "      <th>2462</th>\n",
       "      <td>0</td>\n",
       "      <td>mind</td>\n",
       "      <td>159.01</td>\n",
       "    </tr>\n",
       "    <tr>\n",
       "      <th>18198</th>\n",
       "      <td>0</td>\n",
       "      <td>moor</td>\n",
       "      <td>157.01</td>\n",
       "    </tr>\n",
       "    <tr>\n",
       "      <th>351</th>\n",
       "      <td>0</td>\n",
       "      <td>put</td>\n",
       "      <td>152.01</td>\n",
       "    </tr>\n",
       "    <tr>\n",
       "      <th>481</th>\n",
       "      <td>0</td>\n",
       "      <td>day</td>\n",
       "      <td>152.01</td>\n",
       "    </tr>\n",
       "    <tr>\n",
       "      <th>...</th>\n",
       "      <td>...</td>\n",
       "      <td>...</td>\n",
       "      <td>...</td>\n",
       "    </tr>\n",
       "    <tr>\n",
       "      <th>23989</th>\n",
       "      <td>0</td>\n",
       "      <td>wing--one</td>\n",
       "      <td>0.01</td>\n",
       "    </tr>\n",
       "    <tr>\n",
       "      <th>23990</th>\n",
       "      <td>0</td>\n",
       "      <td>come-down</td>\n",
       "      <td>0.01</td>\n",
       "    </tr>\n",
       "    <tr>\n",
       "      <th>23992</th>\n",
       "      <td>0</td>\n",
       "      <td>carriages</td>\n",
       "      <td>0.01</td>\n",
       "    </tr>\n",
       "    <tr>\n",
       "      <th>23993</th>\n",
       "      <td>0</td>\n",
       "      <td>hurrah</td>\n",
       "      <td>0.01</td>\n",
       "    </tr>\n",
       "    <tr>\n",
       "      <th>23994</th>\n",
       "      <td>0</td>\n",
       "      <td>mul</td>\n",
       "      <td>0.01</td>\n",
       "    </tr>\n",
       "    <tr>\n",
       "      <th>23995</th>\n",
       "      <td>0</td>\n",
       "      <td>ark</td>\n",
       "      <td>0.01</td>\n",
       "    </tr>\n",
       "    <tr>\n",
       "      <th>23996</th>\n",
       "      <td>0</td>\n",
       "      <td>obeys</td>\n",
       "      <td>0.01</td>\n",
       "    </tr>\n",
       "    <tr>\n",
       "      <th>23997</th>\n",
       "      <td>0</td>\n",
       "      <td>brigadier</td>\n",
       "      <td>0.01</td>\n",
       "    </tr>\n",
       "    <tr>\n",
       "      <th>23998</th>\n",
       "      <td>0</td>\n",
       "      <td>empress</td>\n",
       "      <td>0.01</td>\n",
       "    </tr>\n",
       "    <tr>\n",
       "      <th>23999</th>\n",
       "      <td>0</td>\n",
       "      <td>twirling</td>\n",
       "      <td>0.01</td>\n",
       "    </tr>\n",
       "    <tr>\n",
       "      <th>24000</th>\n",
       "      <td>0</td>\n",
       "      <td>teams</td>\n",
       "      <td>0.01</td>\n",
       "    </tr>\n",
       "    <tr>\n",
       "      <th>24001</th>\n",
       "      <td>0</td>\n",
       "      <td>ne'er</td>\n",
       "      <td>0.01</td>\n",
       "    </tr>\n",
       "    <tr>\n",
       "      <th>24002</th>\n",
       "      <td>0</td>\n",
       "      <td>there--way</td>\n",
       "      <td>0.01</td>\n",
       "    </tr>\n",
       "    <tr>\n",
       "      <th>24003</th>\n",
       "      <td>0</td>\n",
       "      <td>heroes</td>\n",
       "      <td>0.01</td>\n",
       "    </tr>\n",
       "    <tr>\n",
       "      <th>24004</th>\n",
       "      <td>0</td>\n",
       "      <td>harnesses</td>\n",
       "      <td>0.01</td>\n",
       "    </tr>\n",
       "    <tr>\n",
       "      <th>24005</th>\n",
       "      <td>0</td>\n",
       "      <td>upsets</td>\n",
       "      <td>0.01</td>\n",
       "    </tr>\n",
       "    <tr>\n",
       "      <th>24006</th>\n",
       "      <td>0</td>\n",
       "      <td>hussars</td>\n",
       "      <td>0.01</td>\n",
       "    </tr>\n",
       "    <tr>\n",
       "      <th>24007</th>\n",
       "      <td>0</td>\n",
       "      <td>dragoons</td>\n",
       "      <td>0.01</td>\n",
       "    </tr>\n",
       "    <tr>\n",
       "      <th>24009</th>\n",
       "      <td>0</td>\n",
       "      <td>driver-men</td>\n",
       "      <td>0.01</td>\n",
       "    </tr>\n",
       "    <tr>\n",
       "      <th>24010</th>\n",
       "      <td>0</td>\n",
       "      <td>commissariat</td>\n",
       "      <td>0.01</td>\n",
       "    </tr>\n",
       "    <tr>\n",
       "      <th>24011</th>\n",
       "      <td>0</td>\n",
       "      <td>camelty</td>\n",
       "      <td>0.01</td>\n",
       "    </tr>\n",
       "    <tr>\n",
       "      <th>24012</th>\n",
       "      <td>0</td>\n",
       "      <td>trombone</td>\n",
       "      <td>0.01</td>\n",
       "    </tr>\n",
       "    <tr>\n",
       "      <th>24013</th>\n",
       "      <td>0</td>\n",
       "      <td>rtt-ta-ta-ta</td>\n",
       "      <td>0.01</td>\n",
       "    </tr>\n",
       "    <tr>\n",
       "      <th>24014</th>\n",
       "      <td>0</td>\n",
       "      <td>marching-song</td>\n",
       "      <td>0.01</td>\n",
       "    </tr>\n",
       "    <tr>\n",
       "      <th>24015</th>\n",
       "      <td>0</td>\n",
       "      <td>urrr</td>\n",
       "      <td>0.01</td>\n",
       "    </tr>\n",
       "    <tr>\n",
       "      <th>24016</th>\n",
       "      <td>0</td>\n",
       "      <td>yarrh</td>\n",
       "      <td>0.01</td>\n",
       "    </tr>\n",
       "    <tr>\n",
       "      <th>24017</th>\n",
       "      <td>0</td>\n",
       "      <td>grr</td>\n",
       "      <td>0.01</td>\n",
       "    </tr>\n",
       "    <tr>\n",
       "      <th>24018</th>\n",
       "      <td>0</td>\n",
       "      <td>arrh</td>\n",
       "      <td>0.01</td>\n",
       "    </tr>\n",
       "    <tr>\n",
       "      <th>24019</th>\n",
       "      <td>0</td>\n",
       "      <td>heel-rope</td>\n",
       "      <td>0.01</td>\n",
       "    </tr>\n",
       "    <tr>\n",
       "      <th>24020</th>\n",
       "      <td>0</td>\n",
       "      <td>heavy-eyed</td>\n",
       "      <td>0.01</td>\n",
       "    </tr>\n",
       "  </tbody>\n",
       "</table>\n",
       "<p>24021 rows × 3 columns</p>\n",
       "</div>"
      ],
      "text/plain": [
       "       0              1       2\n",
       "2617   0            man  611.01\n",
       "9765   0         holmes  451.01\n",
       "6078   0            sir  422.01\n",
       "1161   0           time  308.01\n",
       "4797   0          house  262.01\n",
       "1614   0           back  248.01\n",
       "2470   0           face  240.01\n",
       "103    0          small  234.01\n",
       "206    0           made  215.01\n",
       "499    0           long  212.01\n",
       "74     0           hand  209.01\n",
       "1054   0          night  203.01\n",
       "19671  0        ravager  198.01\n",
       "1385   0            dog  195.01\n",
       "1384   0          asked  189.01\n",
       "929    0          found  186.01\n",
       "712    0           good  185.01\n",
       "829    0           case  184.01\n",
       "3427   0           eyes  181.01\n",
       "1496   0           make  168.01\n",
       "5953   0         street  168.01\n",
       "83     0          light  167.01\n",
       "3909   0           room  167.01\n",
       "77     0        thought  166.01\n",
       "556    0          round  166.01\n",
       "7583   0         friend  164.01\n",
       "2462   0           mind  159.01\n",
       "18198  0           moor  157.01\n",
       "351    0            put  152.01\n",
       "481    0            day  152.01\n",
       "...   ..            ...     ...\n",
       "23989  0      wing--one    0.01\n",
       "23990  0      come-down    0.01\n",
       "23992  0      carriages    0.01\n",
       "23993  0         hurrah    0.01\n",
       "23994  0            mul    0.01\n",
       "23995  0            ark    0.01\n",
       "23996  0          obeys    0.01\n",
       "23997  0      brigadier    0.01\n",
       "23998  0        empress    0.01\n",
       "23999  0       twirling    0.01\n",
       "24000  0          teams    0.01\n",
       "24001  0          ne'er    0.01\n",
       "24002  0     there--way    0.01\n",
       "24003  0         heroes    0.01\n",
       "24004  0      harnesses    0.01\n",
       "24005  0         upsets    0.01\n",
       "24006  0        hussars    0.01\n",
       "24007  0       dragoons    0.01\n",
       "24009  0     driver-men    0.01\n",
       "24010  0   commissariat    0.01\n",
       "24011  0        camelty    0.01\n",
       "24012  0       trombone    0.01\n",
       "24013  0   rtt-ta-ta-ta    0.01\n",
       "24014  0  marching-song    0.01\n",
       "24015  0           urrr    0.01\n",
       "24016  0          yarrh    0.01\n",
       "24017  0            grr    0.01\n",
       "24018  0           arrh    0.01\n",
       "24019  0      heel-rope    0.01\n",
       "24020  0     heavy-eyed    0.01\n",
       "\n",
       "[24021 rows x 3 columns]"
      ]
     },
     "execution_count": 13,
     "metadata": {},
     "output_type": "execute_result"
    }
   ],
   "source": [
    "word_weights_file = \"/home/sina/DARIAH/Topics/tutorial_supplementals/mallet_output/topic_word_weights.txt\"\n",
    "word_scores_grouped = read_mallet_output(word_weights_file)\n",
    "topic_nr  = 0\n",
    "word_scores_grouped.get_group(topic_nr)"
   ]
  },
  {
   "cell_type": "code",
   "execution_count": 14,
   "metadata": {
    "collapsed": false,
    "deletable": true,
    "editable": true
   },
   "outputs": [],
   "source": [
    "def get_wordlewords(word_scores_grouped, number_of_top_words, topic_nr):\n",
    "    \"\"\"Transform Mallet output for wordle generation.\"\"\"\n",
    "    topic_word_scores = word_scores_grouped.get_group(topic_nr)\n",
    "    top_topic_word_scores = topic_word_scores.iloc[0:number_of_top_words]\n",
    "    topic_words = top_topic_word_scores.loc[:,1].tolist()\n",
    "    print(topic_words)\n",
    "    word_scores = top_topic_word_scores.loc[:,2].tolist()\n",
    "    print(word_scores)\n",
    "    wordlewords = \"\"\n",
    "    j = 0\n",
    "    for word in topic_words:\n",
    "        word = word\n",
    "        score = word_scores[j]\n",
    "        j += 1\n",
    "        wordlewords = wordlewords + ((word + \" \") + str(score))\n",
    "    return wordlewords"
   ]
  },
  {
   "cell_type": "code",
   "execution_count": 15,
   "metadata": {
    "collapsed": false,
    "deletable": true,
    "editable": true
   },
   "outputs": [
    {
     "name": "stdout",
     "output_type": "stream",
     "text": [
      "['head', 'back', 'men', 'conan', 'man', 'feet', 'eyes']\n",
      "[356.01, 269.01, 255.01, 237.01, 223.01, 218.01, 218.01]\n"
     ]
    }
   ],
   "source": [
    "number_of_top_words = 7\n",
    "topic_nr = 2\n",
    "wordlewords = get_wordlewords(word_scores_grouped, number_of_top_words, topic_nr)"
   ]
  },
  {
   "cell_type": "code",
   "execution_count": 16,
   "metadata": {
    "collapsed": false,
    "deletable": true,
    "editable": true
   },
   "outputs": [
    {
     "data": {
      "text/plain": [
       "'head 356.01back 269.01men 255.01conan 237.01man 223.01feet 218.01eyes 218.01'"
      ]
     },
     "execution_count": 16,
     "metadata": {},
     "output_type": "execute_result"
    }
   ],
   "source": [
    "wordlewords"
   ]
  },
  {
   "cell_type": "code",
   "execution_count": 17,
   "metadata": {
    "collapsed": true
   },
   "outputs": [],
   "source": [
    "def save_topicRanks(topicWordFile, outfolder, filename):\n",
    "    \"\"\"Save a list of topics with their rank by topic score.\"\"\"\n",
    "    print(\"Launched save_topicRanks.\")\n",
    "    with open(topicWordFile, \"r\") as infile:\n",
    "        topicRanks = pd.read_csv(infile, sep=\"\\t\", header=None)\n",
    "        topicRanks = topicRanks.drop(2, axis=1)\n",
    "        topicRanks.rename(columns={0:\"Number\"}, inplace=True)\n",
    "        topicRanks.rename(columns={1:\"Score\"}, inplace=True)\n",
    "        #topicRanks.sort(columns=[\"Score\"], ascending=False, inplace=True)\n",
    "        topicRanks[\"Rank\"] = topicRanks[\"Score\"].rank(ascending=False)\n",
    "        #print(topicRanks.head())\n",
    "        ## Saving the file.\n",
    "        if not os.path.exists(outfolder):\n",
    "            os.makedirs(outfolder)\n",
    "        outfile = outfolder + filename\n",
    "        with open(outfile, \"w\") as outfile: \n",
    "            topicRanks.to_csv(outfile)"
   ]
  },
  {
   "cell_type": "code",
   "execution_count": 18,
   "metadata": {
    "collapsed": false
   },
   "outputs": [
    {
     "name": "stdout",
     "output_type": "stream",
     "text": [
      "Launched save_topicRanks.\n"
     ]
    }
   ],
   "source": [
    "import os\n",
    "outfolder = \"/home/sina/DARIAH/Topics/tutorial_supplementals/mallet_output/\"\n",
    "topicWordFile = \"/home/sina/DARIAH/Topics/tutorial_supplementals/mallet_output/topic_word_weights.txt\"\n",
    "filename = \"test.csv\"\n",
    "save_topicRanks(topicWordFile, outfolder, filename)"
   ]
  },
  {
   "cell_type": "code",
   "execution_count": 25,
   "metadata": {
    "collapsed": false
   },
   "outputs": [],
   "source": [
    "def get_topicRank(topic, topicRanksFile):\n",
    "    #print(\"getting topic rank.\")\n",
    "    with open(topicRanksFile, \"r\") as infile:\n",
    "        topicRanks = pd.read_csv(infile, sep=\",\", index_col=0)\n",
    "        rank = int(topicRanks.iloc[topic][\"Rank\"])\n",
    "    return rank"
   ]
  },
  {
   "cell_type": "code",
   "execution_count": 26,
   "metadata": {
    "collapsed": false
   },
   "outputs": [
    {
     "data": {
      "text/plain": [
       "44123"
      ]
     },
     "execution_count": 26,
     "metadata": {},
     "output_type": "execute_result"
    }
   ],
   "source": [
    "topicRanksFile = \"/home/sina/DARIAH/Topics/tutorial_supplementals/mallet_output/test.csv\"\n",
    "topic = 2\n",
    "get_topicRank(topic, topicRanksFile)"
   ]
  },
  {
   "cell_type": "code",
   "execution_count": 31,
   "metadata": {
    "collapsed": true
   },
   "outputs": [],
   "source": [
    "def plot_wordle_from_mallet(word_weights_file, \n",
    "                            numOfTopics,\n",
    "                            number_of_top_words,\n",
    "                            outfolder,\n",
    "                            topicRanksFile,\n",
    "                            dpi):\n",
    "    \"\"\"Generate wordles from Mallet output, using the wordcloud module.\"\"\"\n",
    "    print(\"\\nLaunched make_wordle_from_mallet.\")\n",
    "    import os\n",
    "    for topic in range(0,numOfTopics):\n",
    "    ## Gets the text for one topic.\n",
    "        number_of_top_words = 7\n",
    "        word_scores_grouped = read_mallet_output(word_weights_file)\n",
    "        text = get_wordlewords(word_scores_grouped, number_of_top_words, topic)\n",
    "        wordcloud = WordCloud(width=600, height=400, background_color=\"white\", margin=4).generate(text)\n",
    "        default_colors = wordcloud.to_array()\n",
    "        rank = get_topicRank(topic, topicRanksFile)\n",
    "        figure_title = \"topic \"+ str(topic) + \" (\"+str(rank)+\"/\"+str(numOfTopics)+\")\"       \n",
    "        #plt.imshow(wordcloud.recolor(color_func=get_color_scale, random_state=3))\n",
    "        plt.imshow(default_colors)\n",
    "        plt.imshow(wordcloud)\n",
    "        plt.title(figure_title, fontsize=30)\n",
    "        plt.axis(\"off\")\n",
    "                \n",
    "        ## Saving the image file.\n",
    "        if not os.path.exists(outfolder):\n",
    "            os.makedirs(outfolder)\n",
    "            figure_filename = \"wordle_tp\"+\"{:03d}\".format(topic) + \".png\"\n",
    "            plt.savefig(outfolder + figure_filename, dpi=dpi)\n",
    "            return plt"
   ]
  },
  {
   "cell_type": "code",
   "execution_count": 36,
   "metadata": {
    "collapsed": false,
    "deletable": true,
    "editable": true
   },
   "outputs": [
    {
     "name": "stdout",
     "output_type": "stream",
     "text": [
      "\n",
      "Launched make_wordle_from_mallet.\n",
      "['man', 'holmes', 'sir', 'time', 'house', 'back', 'face']\n",
      "[611.01, 451.01, 422.01, 308.01, 262.01, 248.01, 240.01]\n"
     ]
    },
    {
     "name": "stderr",
     "output_type": "stream",
     "text": [
      "/home/sina/.local/lib/python3.5/site-packages/ipykernel/__main__.py:5: FutureWarning: sort(columns=....) is deprecated, use sort_values(by=.....)\n"
     ]
    },
    {
     "data": {
      "image/png": "[encoded data removed]",
      "text/plain": [
       "<matplotlib.figure.Figure at 0x7ff2ab0fbfd0>"
      ]
     },
     "metadata": {},
     "output_type": "display_data"
    }
   ],
   "source": [
    "from wordcloud import WordCloud\n",
    "import matplotlib.pyplot as plt\n",
    "import random\n",
    "\n",
    "word_weights_file = \"/home/sina/DARIAH/Topics/tutorial_supplementals/mallet_output/topic_word_weights.txt\"\n",
    "numOfTopics = 1\n",
    "outfolder = \"/home/sina/DARIAH/Topics/tutorial_supplementals/mallet_output\"\n",
    "dpi = 200\n",
    "topicRanksFile = \"/home/sina/DARIAH/Topics/tutorial_supplementals/mallet_output/test.csv\"\n",
    "font_path = \"/home/sina/DARIAH/Topics/tutorial_supplementals/font\"\n",
    "number_of_top_words = 10\n",
    "\n",
    "wordle = plot_wordle_from_mallet(word_weights_file, \n",
    "                                 numOfTopics,\n",
    "                                 number_of_top_words,\n",
    "                                 outfolder,\n",
    "                                 topicRanksFile,\n",
    "                                 dpi)"
   ]
  },
  {
   "cell_type": "code",
   "execution_count": null,
   "metadata": {
    "collapsed": true
   },
   "outputs": [],
   "source": []
  },
  {
   "cell_type": "code",
   "execution_count": null,
   "metadata": {
    "collapsed": true
   },
   "outputs": [],
   "source": []
  },
  {
   "cell_type": "code",
   "execution_count": null,
   "metadata": {
    "collapsed": true
   },
   "outputs": [],
   "source": []
  }
 ],
 "metadata": {
  "kernelspec": {
   "display_name": "Python 3",
   "language": "python",
   "name": "python3"
  },
  "language_info": {
   "codemirror_mode": {
    "name": "ipython",
    "version": 3
   },
   "file_extension": ".py",
   "mimetype": "text/x-python",
   "name": "python",
   "nbconvert_exporter": "python",
   "pygments_lexer": "ipython3",
   "version": "3.5.1"
  }
 },
 "nbformat": 4,
 "nbformat_minor": 1
}
