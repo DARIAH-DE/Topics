{
 "cells": [
  {
   "cell_type": "markdown",
   "metadata": {
    "deletable": true,
    "editable": true
   },
   "source": [
    "# Mallet"
   ]
  },
  {
   "cell_type": "markdown",
   "metadata": {
    "deletable": true,
    "editable": true
   },
   "source": [
    "Another algorithm for topic modeling is implemented in the java-based software Mallet. For this to work **you need to download and install Mallet** from http://mallet.cs.umass.edu/download.php.\n",
    "Mallet uses plain text as input, so none of the preprocessing steps of this package are available for Mallet topic modeling as of yet."
   ]
  },
  {
   "cell_type": "markdown",
   "metadata": {
    "deletable": true,
    "editable": true
   },
   "source": [
    "#### Loading modules from DARIAH-Topics library\n",
    "First, we have to get access to the functionalities of the library by importing them. For using its functions we use the prefix of the toolbox's submodules (pre, visual and mallet)."
   ]
  },
  {
   "cell_type": "code",
   "execution_count": 1,
   "metadata": {
    "collapsed": true,
    "deletable": true,
    "editable": true
   },
   "outputs": [],
   "source": [
    "from dariah_topics import preprocessing as pre\n",
    "from dariah_topics import visualization as visual\n",
    "from dariah_topics import mallet as mal"
   ]
  },
  {
   "cell_type": "markdown",
   "metadata": {
    "deletable": true,
    "editable": true
   },
   "source": [
    "#### Activating inline output in Jupyter notebook\n",
    "The following line will just tell the notebook to show graphics in the output frames."
   ]
  },
  {
   "cell_type": "code",
   "execution_count": 2,
   "metadata": {
    "collapsed": true,
    "deletable": true,
    "editable": true
   },
   "outputs": [],
   "source": [
    "%matplotlib inline"
   ]
  },
  {
   "cell_type": "markdown",
   "metadata": {
    "deletable": true,
    "editable": true
   },
   "source": [
    "## 1. Setting the parameters"
   ]
  },
  {
   "cell_type": "markdown",
   "metadata": {
    "deletable": true,
    "editable": true
   },
   "source": [
    "#### Define path to corpus folder"
   ]
  },
  {
   "cell_type": "code",
   "execution_count": 3,
   "metadata": {
    "collapsed": true,
    "deletable": true,
    "editable": true
   },
   "outputs": [],
   "source": [
    "path_to_corpus = \"corpus_txt\"\n",
    "#path_to_corpus = \"/home/sina/DARIAH/Topics/corpus_txt/\""
   ]
  },
  {
   "cell_type": "markdown",
   "metadata": {
    "deletable": true,
    "editable": true
   },
   "source": [
    "#### Path to mallet folder \n",
    "\n",
    "Now we must tell the library where to find the local instance of mallet. If you managed to install Mallet, it is sufficient set `path_to_mallet = \"mallet\"`, if you just store Mallet in a local folder, you have to specify the path to the binary explictly."
   ]
  },
  {
   "cell_type": "code",
   "execution_count": 4,
   "metadata": {
    "collapsed": true,
    "deletable": true,
    "editable": true
   },
   "outputs": [],
   "source": [
    "path_to_mallet = \"/home/sina/mallet-2.0.8/bin/mallet\"\n",
    "#path_to_mallet = \"/home/severin/Documents/dariah/app/mallet/bin/mallet\""
   ]
  },
  {
   "cell_type": "markdown",
   "metadata": {
    "deletable": true,
    "editable": true
   },
   "source": [
    "#### Output folder"
   ]
  },
  {
   "cell_type": "code",
   "execution_count": 5,
   "metadata": {
    "collapsed": true,
    "deletable": true,
    "editable": true
   },
   "outputs": [],
   "source": [
    "outfolder = \"tutorial_supplementals/mallet_output\"\n",
    "binary = \"tutorial_supplementals/mallet_output/binary.mallet\""
   ]
  },
  {
   "cell_type": "markdown",
   "metadata": {
    "deletable": true,
    "editable": true
   },
   "source": [
    "#### The Mallet corpus model\n",
    "\n",
    "Finally, we can give all these folder paths to a Mallet function that handles all the preprocessing steps and creates a Mallet-specific corpus model object."
   ]
  },
  {
   "cell_type": "code",
   "execution_count": 6,
   "metadata": {
    "collapsed": false,
    "deletable": true,
    "editable": true
   },
   "outputs": [
    {
     "name": "stderr",
     "output_type": "stream",
     "text": [
      "INFO mallet: Running MALLET with ['/home/sina/mallet-2.0.8/bin/mallet', 'import-dir', '--input', 'corpus_txt', '--remove-stopwords', '--keep-sequence', '--output', 'tutorial_supplementals/mallet_output/binary.mallet'] ...\n",
      "INFO mallet: Saving MALLET binary to tutorial_supplementals/mallet_output/binary.mallet ...\n"
     ]
    }
   ],
   "source": [
    "mallet_model = mal.create_mallet_binary(path_to_mallet=path_to_mallet, path_to_file=False,\n",
    "                                        path_to_corpus=path_to_corpus, output_file=binary,\n",
    "                                        encoding=None, token_regex=None, preserve_case=False,\n",
    "                                        remove_stopwords=True, stoplist=None, extra_stopwords=None,\n",
    "                                        stop_pattern_file=None, skip_header=False, skip_html=False,\n",
    "                                        replacement_files=None, deletion_files=None, gram_sizes=None,\n",
    "                                        keep_sequence=True, keep_sequence_bigrams=False,\n",
    "                                        binary_features=False, save_text_in_source=False,\n",
    "                                        print_output=False)"
   ]
  },
  {
   "cell_type": "markdown",
   "metadata": {
    "deletable": true,
    "editable": true
   },
   "source": [
    "## 2. Model creation"
   ]
  },
  {
   "cell_type": "markdown",
   "metadata": {
    "deletable": true,
    "editable": true
   },
   "source": [
    "**Warning: this step can take quite a while!** Meaning something between some seconds and some hours depending on corpus size and the number of passes."
   ]
  },
  {
   "cell_type": "code",
   "execution_count": 7,
   "metadata": {
    "collapsed": false,
    "deletable": true,
    "editable": true,
    "scrolled": false
   },
   "outputs": [
    {
     "name": "stderr",
     "output_type": "stream",
     "text": [
      "INFO mallet: Accessing Mallet with ['/home/sina/mallet-2.0.8/bin/mallet', 'train-topics', '--input', 'tutorial_supplementals/mallet_output/binary.mallet', '--num-topics', '10', '--num-iterations', '500', '--num-threads', '1', '--num-top-words', '10', '--num-icm-iterations', '0', '--random-seed', '0', '--optimize-interval', '0', '--optimize-burn-in', '200', '--use-symmetric-alpha', '--alpha', '5.0', '--beta', '0.01', '--output-topic-keys', 'tutorial_supplementals/mallet_output/topic_keys.txt', '--output-doc-topics', 'tutorial_supplementals/mallet_output/doc_topics.txt', '--doc-topics-threshold', '0.0', '--topic-word-weights-file', 'tutorial_supplementals/mallet_output/topic_word_weights.txt', '--word-topic-counts-file', 'tutorial_supplementals/mallet_output/word_topic_counts.txt', '--diagnostics-file', 'tutorial_supplementals/mallet_output/diagnostics.xml', '--xml-topic-report', 'tutorial_supplementals/mallet_output/topic_report.xml', '--xml-topic-phrase-report', 'tutorial_supplementals/mallet_output/topic_phrase_report.xml', '--output-model', 'tutorial_supplementals/mallet_output/mallet.model', '--output-model-interval', '0', '--output-state', 'tutorial_supplementals/mallet_output/state.gz', '--output-state-interval', '0', '--inferencer-filename', 'tutorial_supplementals/mallet_output/inferencer', '--evaluator-filename', 'tutorial_supplementals/mallet_output/evaluator'] ...\n"
     ]
    }
   ],
   "source": [
    "num_topics = 10\n",
    "output_folder = mal.create_mallet_model(path_to_mallet = path_to_mallet, \n",
    "                                        path_to_binary = mallet_model, \n",
    "                                        folder_for_output = outfolder,\n",
    "                                        num_top_words = 10,\n",
    "                                        num_iterations = 500,\n",
    "                                        num_topics = num_topics\n",
    "                                        )"
   ]
  },
  {
   "cell_type": "markdown",
   "metadata": {
    "deletable": true,
    "editable": true
   },
   "source": [
    "### 2.4. Create document-topic matrix\n",
    "\n",
    "The generated model object can now be translated into a human-readable document-topic matrix (that is a actually a pandas data frame) that constitutes our principle exchange format for topic modeling results. For generating the matrix from a Gensim model, we can use the following function:"
   ]
  },
  {
   "cell_type": "code",
   "execution_count": 8,
   "metadata": {
    "collapsed": true,
    "deletable": true,
    "editable": true
   },
   "outputs": [],
   "source": [
    "doc_topic = mal.show_doc_topic_matrix(\"tutorial_supplementals/mallet_output\")"
   ]
  },
  {
   "cell_type": "markdown",
   "metadata": {
    "deletable": true,
    "editable": true
   },
   "source": [
    "## 3. Visualization"
   ]
  },
  {
   "cell_type": "markdown",
   "metadata": {
    "deletable": true,
    "editable": true
   },
   "source": [
    "Now we can see the topics in the model with the following function:\n",
    "\n",
    "**Hint:** Depending on the number of topics chosen in step 2, you might have to adjust *num_topics* in this step accordingly."
   ]
  },
  {
   "cell_type": "code",
   "execution_count": 9,
   "metadata": {
    "collapsed": false,
    "deletable": true,
    "editable": true
   },
   "outputs": [
    {
     "data": {
      "text/html": [
       "<div>\n",
       "<table border=\"1\" class=\"dataframe\">\n",
       "  <thead>\n",
       "    <tr style=\"text-align: right;\">\n",
       "      <th></th>\n",
       "      <th>Key 1</th>\n",
       "      <th>Key 2</th>\n",
       "      <th>Key 3</th>\n",
       "      <th>Key 4</th>\n",
       "      <th>Key 5</th>\n",
       "      <th>Key 6</th>\n",
       "      <th>Key 7</th>\n",
       "      <th>Key 8</th>\n",
       "      <th>Key 9</th>\n",
       "      <th>Key 10</th>\n",
       "    </tr>\n",
       "  </thead>\n",
       "  <tbody>\n",
       "    <tr>\n",
       "      <th>Topic 1</th>\n",
       "      <td>face</td>\n",
       "      <td>made</td>\n",
       "      <td>found</td>\n",
       "      <td>small</td>\n",
       "      <td>hand</td>\n",
       "      <td>long</td>\n",
       "      <td>night</td>\n",
       "      <td>asked</td>\n",
       "      <td>room</td>\n",
       "      <td>mind</td>\n",
       "    </tr>\n",
       "    <tr>\n",
       "      <th>Topic 2</th>\n",
       "      <td>man</td>\n",
       "      <td>time</td>\n",
       "      <td>hope</td>\n",
       "      <td>case</td>\n",
       "      <td>don't</td>\n",
       "      <td>work</td>\n",
       "      <td>appeared</td>\n",
       "      <td>round</td>\n",
       "      <td>sherlock</td>\n",
       "      <td>life</td>\n",
       "    </tr>\n",
       "    <tr>\n",
       "      <th>Topic 3</th>\n",
       "      <td>made</td>\n",
       "      <td>lake</td>\n",
       "      <td>land</td>\n",
       "      <td>camp</td>\n",
       "      <td>city</td>\n",
       "      <td>mountains</td>\n",
       "      <td>danforth</td>\n",
       "      <td>vast</td>\n",
       "      <td>things</td>\n",
       "      <td>world</td>\n",
       "    </tr>\n",
       "    <tr>\n",
       "      <th>Topic 4</th>\n",
       "      <td>mowgli</td>\n",
       "      <td>ravager</td>\n",
       "      <td>smallest</td>\n",
       "      <td>jungle</td>\n",
       "      <td>dog</td>\n",
       "      <td>big</td>\n",
       "      <td>bagheera</td>\n",
       "      <td>thou</td>\n",
       "      <td>told</td>\n",
       "      <td>moore</td>\n",
       "    </tr>\n",
       "    <tr>\n",
       "      <th>Topic 5</th>\n",
       "      <td>conan</td>\n",
       "      <td>eyes</td>\n",
       "      <td>man</td>\n",
       "      <td>door</td>\n",
       "      <td>black</td>\n",
       "      <td>girl</td>\n",
       "      <td>sword</td>\n",
       "      <td>trees</td>\n",
       "      <td>wall</td>\n",
       "      <td>olivia</td>\n",
       "    </tr>\n",
       "    <tr>\n",
       "      <th>Topic 6</th>\n",
       "      <td>fact</td>\n",
       "      <td>matter</td>\n",
       "      <td>atoms</td>\n",
       "      <td>centre</td>\n",
       "      <td>point</td>\n",
       "      <td>general</td>\n",
       "      <td>idea</td>\n",
       "      <td>force</td>\n",
       "      <td>sun</td>\n",
       "      <td>universe</td>\n",
       "    </tr>\n",
       "    <tr>\n",
       "      <th>Topic 7</th>\n",
       "      <td>great</td>\n",
       "      <td>feet</td>\n",
       "      <td>back</td>\n",
       "      <td>left</td>\n",
       "      <td>life</td>\n",
       "      <td>dead</td>\n",
       "      <td>dark</td>\n",
       "      <td>lay</td>\n",
       "      <td>felt</td>\n",
       "      <td>light</td>\n",
       "    </tr>\n",
       "    <tr>\n",
       "      <th>Topic 8</th>\n",
       "      <td>holmes</td>\n",
       "      <td>sir</td>\n",
       "      <td>man</td>\n",
       "      <td>moor</td>\n",
       "      <td>watson</td>\n",
       "      <td>henry</td>\n",
       "      <td>matter</td>\n",
       "      <td>baskerville</td>\n",
       "      <td>friend</td>\n",
       "      <td>case</td>\n",
       "    </tr>\n",
       "    <tr>\n",
       "      <th>Topic 9</th>\n",
       "      <td>thing</td>\n",
       "      <td>time</td>\n",
       "      <td>years</td>\n",
       "      <td>moment</td>\n",
       "      <td>thought</td>\n",
       "      <td>place</td>\n",
       "      <td>things</td>\n",
       "      <td>form</td>\n",
       "      <td>nature</td>\n",
       "      <td>doubt</td>\n",
       "    </tr>\n",
       "    <tr>\n",
       "      <th>Topic 10</th>\n",
       "      <td>head</td>\n",
       "      <td>time</td>\n",
       "      <td>men</td>\n",
       "      <td>good</td>\n",
       "      <td>people</td>\n",
       "      <td>eyes</td>\n",
       "      <td>knew</td>\n",
       "      <td>long</td>\n",
       "      <td>man</td>\n",
       "      <td>father</td>\n",
       "    </tr>\n",
       "  </tbody>\n",
       "</table>\n",
       "</div>"
      ],
      "text/plain": [
       "           Key 1    Key 2     Key 3   Key 4    Key 5      Key 6     Key 7  \\\n",
       "Topic 1     face     made     found   small     hand       long     night   \n",
       "Topic 2      man     time      hope    case    don't       work  appeared   \n",
       "Topic 3     made     lake      land    camp     city  mountains  danforth   \n",
       "Topic 4   mowgli  ravager  smallest  jungle      dog        big  bagheera   \n",
       "Topic 5    conan     eyes       man    door    black       girl     sword   \n",
       "Topic 6     fact   matter     atoms  centre    point    general      idea   \n",
       "Topic 7    great     feet      back    left     life       dead      dark   \n",
       "Topic 8   holmes      sir       man    moor   watson      henry    matter   \n",
       "Topic 9    thing     time     years  moment  thought      place    things   \n",
       "Topic 10    head     time       men    good   people       eyes      knew   \n",
       "\n",
       "                Key 8     Key 9    Key 10  \n",
       "Topic 1         asked      room      mind  \n",
       "Topic 2         round  sherlock      life  \n",
       "Topic 3          vast    things     world  \n",
       "Topic 4          thou      told     moore  \n",
       "Topic 5         trees      wall    olivia  \n",
       "Topic 6         force       sun  universe  \n",
       "Topic 7           lay      felt     light  \n",
       "Topic 8   baskerville    friend      case  \n",
       "Topic 9          form    nature     doubt  \n",
       "Topic 10         long       man    father  "
      ]
     },
     "execution_count": 9,
     "metadata": {},
     "output_type": "execute_result"
    }
   ],
   "source": [
    "num_topics = 10\n",
    "mal.show_topics_keys(\"tutorial_supplementals/mallet_output\", num_topics = num_topics)"
   ]
  },
  {
   "cell_type": "markdown",
   "metadata": {
    "deletable": true,
    "editable": true
   },
   "source": [
    "### 3.1. Distribution of topics"
   ]
  },
  {
   "cell_type": "markdown",
   "metadata": {
    "deletable": true,
    "editable": true
   },
   "source": [
    "#### Distribution of topics over all documents\n",
    "\n",
    "The distribution of topics over all documents can now be visualized in a heat map:"
   ]
  },
  {
   "cell_type": "code",
   "execution_count": 10,
   "metadata": {
    "collapsed": false,
    "deletable": true,
    "editable": true
   },
   "outputs": [
    {
     "data": {
      "image/png": "[encoded data removed]",
      "text/plain": [
       "<matplotlib.figure.Figure at 0x7f8c86a46438>"
      ]
     },
     "metadata": {},
     "output_type": "display_data"
    }
   ],
   "source": [
    "heatmap = visual.doc_topic_heatmap(doc_topic)\n",
    "heatmap.show()"
   ]
  },
  {
   "cell_type": "markdown",
   "metadata": {
    "deletable": true,
    "editable": true
   },
   "source": [
    "#### Distribution of topics in a single documents\n",
    "\n",
    "To take closer look on the topics in a single text, we can use the follwing function that shows all the topics in a text and their respective proportions. To select the document, we have to give its index to the function."
   ]
  },
  {
   "cell_type": "code",
   "execution_count": 11,
   "metadata": {
    "collapsed": false,
    "deletable": true,
    "editable": true
   },
   "outputs": [
    {
     "data": {
      "text/plain": [
       "<module 'matplotlib.pyplot' from '/home/sina/.local/lib/python3.5/site-packages/matplotlib/pyplot.py'>"
      ]
     },
     "execution_count": 11,
     "metadata": {},
     "output_type": "execute_result"
    },
    {
     "data": {
      "image/png": "[encoded data removed]",
      "text/plain": [
       "<matplotlib.figure.Figure at 0x7f8c869c8ac8>"
      ]
     },
     "metadata": {},
     "output_type": "display_data"
    }
   ],
   "source": [
    "#document_nr = 7\n",
    "visual.plot_doc_topics(doc_topic, 7)"
   ]
  },
  {
   "cell_type": "code",
   "execution_count": 12,
   "metadata": {
    "collapsed": false,
    "deletable": true,
    "editable": true
   },
   "outputs": [
    {
     "name": "stderr",
     "output_type": "stream",
     "text": [
      "/home/sina/DARIAH/Topics/dariah_topics/visualization.py:352: FutureWarning: sort(columns=....) is deprecated, use sort_values(by=.....)\n",
      "  word_scores = word_scores.sort(columns=[0,2], axis=0, ascending=[True, False])\n"
     ]
    },
    {
     "data": {
      "text/html": [
       "<div>\n",
       "<table border=\"1\" class=\"dataframe\">\n",
       "  <thead>\n",
       "    <tr style=\"text-align: right;\">\n",
       "      <th></th>\n",
       "      <th>0</th>\n",
       "      <th>1</th>\n",
       "      <th>2</th>\n",
       "    </tr>\n",
       "  </thead>\n",
       "  <tbody>\n",
       "    <tr>\n",
       "      <th>2470</th>\n",
       "      <td>0</td>\n",
       "      <td>face</td>\n",
       "      <td>297.01</td>\n",
       "    </tr>\n",
       "    <tr>\n",
       "      <th>206</th>\n",
       "      <td>0</td>\n",
       "      <td>made</td>\n",
       "      <td>249.01</td>\n",
       "    </tr>\n",
       "    <tr>\n",
       "      <th>929</th>\n",
       "      <td>0</td>\n",
       "      <td>found</td>\n",
       "      <td>229.01</td>\n",
       "    </tr>\n",
       "    <tr>\n",
       "      <th>103</th>\n",
       "      <td>0</td>\n",
       "      <td>small</td>\n",
       "      <td>207.01</td>\n",
       "    </tr>\n",
       "    <tr>\n",
       "      <th>74</th>\n",
       "      <td>0</td>\n",
       "      <td>hand</td>\n",
       "      <td>201.01</td>\n",
       "    </tr>\n",
       "    <tr>\n",
       "      <th>499</th>\n",
       "      <td>0</td>\n",
       "      <td>long</td>\n",
       "      <td>192.01</td>\n",
       "    </tr>\n",
       "    <tr>\n",
       "      <th>1054</th>\n",
       "      <td>0</td>\n",
       "      <td>night</td>\n",
       "      <td>190.01</td>\n",
       "    </tr>\n",
       "    <tr>\n",
       "      <th>1384</th>\n",
       "      <td>0</td>\n",
       "      <td>asked</td>\n",
       "      <td>189.01</td>\n",
       "    </tr>\n",
       "    <tr>\n",
       "      <th>3909</th>\n",
       "      <td>0</td>\n",
       "      <td>room</td>\n",
       "      <td>185.01</td>\n",
       "    </tr>\n",
       "    <tr>\n",
       "      <th>2462</th>\n",
       "      <td>0</td>\n",
       "      <td>mind</td>\n",
       "      <td>165.01</td>\n",
       "    </tr>\n",
       "    <tr>\n",
       "      <th>7018</th>\n",
       "      <td>0</td>\n",
       "      <td>door</td>\n",
       "      <td>161.01</td>\n",
       "    </tr>\n",
       "    <tr>\n",
       "      <th>6462</th>\n",
       "      <td>0</td>\n",
       "      <td>answered</td>\n",
       "      <td>157.01</td>\n",
       "    </tr>\n",
       "    <tr>\n",
       "      <th>4797</th>\n",
       "      <td>0</td>\n",
       "      <td>house</td>\n",
       "      <td>155.01</td>\n",
       "    </tr>\n",
       "    <tr>\n",
       "      <th>1496</th>\n",
       "      <td>0</td>\n",
       "      <td>make</td>\n",
       "      <td>153.01</td>\n",
       "    </tr>\n",
       "    <tr>\n",
       "      <th>351</th>\n",
       "      <td>0</td>\n",
       "      <td>put</td>\n",
       "      <td>148.01</td>\n",
       "    </tr>\n",
       "    <tr>\n",
       "      <th>3411</th>\n",
       "      <td>0</td>\n",
       "      <td>cried</td>\n",
       "      <td>137.01</td>\n",
       "    </tr>\n",
       "    <tr>\n",
       "      <th>631</th>\n",
       "      <td>0</td>\n",
       "      <td>looked</td>\n",
       "      <td>135.01</td>\n",
       "    </tr>\n",
       "    <tr>\n",
       "      <th>950</th>\n",
       "      <td>0</td>\n",
       "      <td>brought</td>\n",
       "      <td>130.01</td>\n",
       "    </tr>\n",
       "    <tr>\n",
       "      <th>662</th>\n",
       "      <td>0</td>\n",
       "      <td>stood</td>\n",
       "      <td>127.01</td>\n",
       "    </tr>\n",
       "    <tr>\n",
       "      <th>5953</th>\n",
       "      <td>0</td>\n",
       "      <td>street</td>\n",
       "      <td>126.01</td>\n",
       "    </tr>\n",
       "    <tr>\n",
       "      <th>2160</th>\n",
       "      <td>0</td>\n",
       "      <td>side</td>\n",
       "      <td>123.01</td>\n",
       "    </tr>\n",
       "    <tr>\n",
       "      <th>4173</th>\n",
       "      <td>0</td>\n",
       "      <td>window</td>\n",
       "      <td>122.01</td>\n",
       "    </tr>\n",
       "    <tr>\n",
       "      <th>3917</th>\n",
       "      <td>0</td>\n",
       "      <td>heart</td>\n",
       "      <td>120.01</td>\n",
       "    </tr>\n",
       "    <tr>\n",
       "      <th>5426</th>\n",
       "      <td>0</td>\n",
       "      <td>voice</td>\n",
       "      <td>116.01</td>\n",
       "    </tr>\n",
       "    <tr>\n",
       "      <th>455</th>\n",
       "      <td>0</td>\n",
       "      <td>place</td>\n",
       "      <td>111.01</td>\n",
       "    </tr>\n",
       "    <tr>\n",
       "      <th>1873</th>\n",
       "      <td>0</td>\n",
       "      <td>hands</td>\n",
       "      <td>107.01</td>\n",
       "    </tr>\n",
       "    <tr>\n",
       "      <th>872</th>\n",
       "      <td>0</td>\n",
       "      <td>knew</td>\n",
       "      <td>106.01</td>\n",
       "    </tr>\n",
       "    <tr>\n",
       "      <th>641</th>\n",
       "      <td>0</td>\n",
       "      <td>passed</td>\n",
       "      <td>102.01</td>\n",
       "    </tr>\n",
       "    <tr>\n",
       "      <th>682</th>\n",
       "      <td>0</td>\n",
       "      <td>young</td>\n",
       "      <td>96.01</td>\n",
       "    </tr>\n",
       "    <tr>\n",
       "      <th>77</th>\n",
       "      <td>0</td>\n",
       "      <td>thought</td>\n",
       "      <td>95.01</td>\n",
       "    </tr>\n",
       "    <tr>\n",
       "      <th>...</th>\n",
       "      <td>...</td>\n",
       "      <td>...</td>\n",
       "      <td>...</td>\n",
       "    </tr>\n",
       "    <tr>\n",
       "      <th>23988</th>\n",
       "      <td>0</td>\n",
       "      <td>oiled</td>\n",
       "      <td>0.01</td>\n",
       "    </tr>\n",
       "    <tr>\n",
       "      <th>23989</th>\n",
       "      <td>0</td>\n",
       "      <td>wing--one</td>\n",
       "      <td>0.01</td>\n",
       "    </tr>\n",
       "    <tr>\n",
       "      <th>23990</th>\n",
       "      <td>0</td>\n",
       "      <td>come-down</td>\n",
       "      <td>0.01</td>\n",
       "    </tr>\n",
       "    <tr>\n",
       "      <th>23991</th>\n",
       "      <td>0</td>\n",
       "      <td>reins</td>\n",
       "      <td>0.01</td>\n",
       "    </tr>\n",
       "    <tr>\n",
       "      <th>23992</th>\n",
       "      <td>0</td>\n",
       "      <td>carriages</td>\n",
       "      <td>0.01</td>\n",
       "    </tr>\n",
       "    <tr>\n",
       "      <th>23993</th>\n",
       "      <td>0</td>\n",
       "      <td>hurrah</td>\n",
       "      <td>0.01</td>\n",
       "    </tr>\n",
       "    <tr>\n",
       "      <th>23994</th>\n",
       "      <td>0</td>\n",
       "      <td>mul</td>\n",
       "      <td>0.01</td>\n",
       "    </tr>\n",
       "    <tr>\n",
       "      <th>23995</th>\n",
       "      <td>0</td>\n",
       "      <td>ark</td>\n",
       "      <td>0.01</td>\n",
       "    </tr>\n",
       "    <tr>\n",
       "      <th>23996</th>\n",
       "      <td>0</td>\n",
       "      <td>obeys</td>\n",
       "      <td>0.01</td>\n",
       "    </tr>\n",
       "    <tr>\n",
       "      <th>23997</th>\n",
       "      <td>0</td>\n",
       "      <td>brigadier</td>\n",
       "      <td>0.01</td>\n",
       "    </tr>\n",
       "    <tr>\n",
       "      <th>23998</th>\n",
       "      <td>0</td>\n",
       "      <td>empress</td>\n",
       "      <td>0.01</td>\n",
       "    </tr>\n",
       "    <tr>\n",
       "      <th>23999</th>\n",
       "      <td>0</td>\n",
       "      <td>twirling</td>\n",
       "      <td>0.01</td>\n",
       "    </tr>\n",
       "    <tr>\n",
       "      <th>24000</th>\n",
       "      <td>0</td>\n",
       "      <td>teams</td>\n",
       "      <td>0.01</td>\n",
       "    </tr>\n",
       "    <tr>\n",
       "      <th>24001</th>\n",
       "      <td>0</td>\n",
       "      <td>ne'er</td>\n",
       "      <td>0.01</td>\n",
       "    </tr>\n",
       "    <tr>\n",
       "      <th>24002</th>\n",
       "      <td>0</td>\n",
       "      <td>there--way</td>\n",
       "      <td>0.01</td>\n",
       "    </tr>\n",
       "    <tr>\n",
       "      <th>24004</th>\n",
       "      <td>0</td>\n",
       "      <td>harnesses</td>\n",
       "      <td>0.01</td>\n",
       "    </tr>\n",
       "    <tr>\n",
       "      <th>24006</th>\n",
       "      <td>0</td>\n",
       "      <td>hussars</td>\n",
       "      <td>0.01</td>\n",
       "    </tr>\n",
       "    <tr>\n",
       "      <th>24007</th>\n",
       "      <td>0</td>\n",
       "      <td>dragoons</td>\n",
       "      <td>0.01</td>\n",
       "    </tr>\n",
       "    <tr>\n",
       "      <th>24008</th>\n",
       "      <td>0</td>\n",
       "      <td>war-horse</td>\n",
       "      <td>0.01</td>\n",
       "    </tr>\n",
       "    <tr>\n",
       "      <th>24009</th>\n",
       "      <td>0</td>\n",
       "      <td>driver-men</td>\n",
       "      <td>0.01</td>\n",
       "    </tr>\n",
       "    <tr>\n",
       "      <th>24011</th>\n",
       "      <td>0</td>\n",
       "      <td>camelty</td>\n",
       "      <td>0.01</td>\n",
       "    </tr>\n",
       "    <tr>\n",
       "      <th>24012</th>\n",
       "      <td>0</td>\n",
       "      <td>trombone</td>\n",
       "      <td>0.01</td>\n",
       "    </tr>\n",
       "    <tr>\n",
       "      <th>24013</th>\n",
       "      <td>0</td>\n",
       "      <td>rtt-ta-ta-ta</td>\n",
       "      <td>0.01</td>\n",
       "    </tr>\n",
       "    <tr>\n",
       "      <th>24014</th>\n",
       "      <td>0</td>\n",
       "      <td>marching-song</td>\n",
       "      <td>0.01</td>\n",
       "    </tr>\n",
       "    <tr>\n",
       "      <th>24015</th>\n",
       "      <td>0</td>\n",
       "      <td>urrr</td>\n",
       "      <td>0.01</td>\n",
       "    </tr>\n",
       "    <tr>\n",
       "      <th>24016</th>\n",
       "      <td>0</td>\n",
       "      <td>yarrh</td>\n",
       "      <td>0.01</td>\n",
       "    </tr>\n",
       "    <tr>\n",
       "      <th>24017</th>\n",
       "      <td>0</td>\n",
       "      <td>grr</td>\n",
       "      <td>0.01</td>\n",
       "    </tr>\n",
       "    <tr>\n",
       "      <th>24018</th>\n",
       "      <td>0</td>\n",
       "      <td>arrh</td>\n",
       "      <td>0.01</td>\n",
       "    </tr>\n",
       "    <tr>\n",
       "      <th>24019</th>\n",
       "      <td>0</td>\n",
       "      <td>heel-rope</td>\n",
       "      <td>0.01</td>\n",
       "    </tr>\n",
       "    <tr>\n",
       "      <th>24020</th>\n",
       "      <td>0</td>\n",
       "      <td>heavy-eyed</td>\n",
       "      <td>0.01</td>\n",
       "    </tr>\n",
       "  </tbody>\n",
       "</table>\n",
       "<p>24021 rows × 3 columns</p>\n",
       "</div>"
      ],
      "text/plain": [
       "       0              1       2\n",
       "2470   0           face  297.01\n",
       "206    0           made  249.01\n",
       "929    0          found  229.01\n",
       "103    0          small  207.01\n",
       "74     0           hand  201.01\n",
       "499    0           long  192.01\n",
       "1054   0          night  190.01\n",
       "1384   0          asked  189.01\n",
       "3909   0           room  185.01\n",
       "2462   0           mind  165.01\n",
       "7018   0           door  161.01\n",
       "6462   0       answered  157.01\n",
       "4797   0          house  155.01\n",
       "1496   0           make  153.01\n",
       "351    0            put  148.01\n",
       "3411   0          cried  137.01\n",
       "631    0         looked  135.01\n",
       "950    0        brought  130.01\n",
       "662    0          stood  127.01\n",
       "5953   0         street  126.01\n",
       "2160   0           side  123.01\n",
       "4173   0         window  122.01\n",
       "3917   0          heart  120.01\n",
       "5426   0          voice  116.01\n",
       "455    0          place  111.01\n",
       "1873   0          hands  107.01\n",
       "872    0           knew  106.01\n",
       "641    0         passed  102.01\n",
       "682    0          young   96.01\n",
       "77     0        thought   95.01\n",
       "...   ..            ...     ...\n",
       "23988  0          oiled    0.01\n",
       "23989  0      wing--one    0.01\n",
       "23990  0      come-down    0.01\n",
       "23991  0          reins    0.01\n",
       "23992  0      carriages    0.01\n",
       "23993  0         hurrah    0.01\n",
       "23994  0            mul    0.01\n",
       "23995  0            ark    0.01\n",
       "23996  0          obeys    0.01\n",
       "23997  0      brigadier    0.01\n",
       "23998  0        empress    0.01\n",
       "23999  0       twirling    0.01\n",
       "24000  0          teams    0.01\n",
       "24001  0          ne'er    0.01\n",
       "24002  0     there--way    0.01\n",
       "24004  0      harnesses    0.01\n",
       "24006  0        hussars    0.01\n",
       "24007  0       dragoons    0.01\n",
       "24008  0      war-horse    0.01\n",
       "24009  0     driver-men    0.01\n",
       "24011  0        camelty    0.01\n",
       "24012  0       trombone    0.01\n",
       "24013  0   rtt-ta-ta-ta    0.01\n",
       "24014  0  marching-song    0.01\n",
       "24015  0           urrr    0.01\n",
       "24016  0          yarrh    0.01\n",
       "24017  0            grr    0.01\n",
       "24018  0           arrh    0.01\n",
       "24019  0      heel-rope    0.01\n",
       "24020  0     heavy-eyed    0.01\n",
       "\n",
       "[24021 rows x 3 columns]"
      ]
     },
     "execution_count": 12,
     "metadata": {},
     "output_type": "execute_result"
    }
   ],
   "source": [
    "word_weights_file = \"tutorial_supplementals/mallet_output/topic_word_weights.txt\"\n",
    "\n",
    "word_scores_grouped = visual.read_mallet_word_weights(word_weights_file)\n",
    "\n",
    "topic_nr  = 0\n",
    "word_scores_grouped.get_group(topic_nr)"
   ]
  },
  {
   "cell_type": "code",
   "execution_count": 13,
   "metadata": {
    "collapsed": false,
    "deletable": true,
    "editable": true
   },
   "outputs": [
    {
     "name": "stdout",
     "output_type": "stream",
     "text": [
      "['made', 'lake', 'camp', 'land', 'city', 'mountains', 'danforth', 'vast', 'world', 'things']\n",
      "[76.01, 75.01, 71.01, 71.01, 68.01, 55.01, 54.01, 49.01, 48.01, 48.01]\n"
     ]
    }
   ],
   "source": [
    "number_of_top_words = 10\n",
    "topic_nr = 2\n",
    "\n",
    "wordlewords = visual.get_wordlewords(word_scores_grouped, number_of_top_words, topic_nr)"
   ]
  },
  {
   "cell_type": "code",
   "execution_count": 14,
   "metadata": {
    "collapsed": false,
    "deletable": true,
    "editable": true
   },
   "outputs": [
    {
     "data": {
      "text/plain": [
       "'made 76.01lake 75.01camp 71.01land 71.01city 68.01mountains 55.01danforth 54.01vast 49.01world 48.01things 48.01'"
      ]
     },
     "execution_count": 14,
     "metadata": {},
     "output_type": "execute_result"
    }
   ],
   "source": [
    "wordlewords"
   ]
  },
  {
   "cell_type": "code",
   "execution_count": 15,
   "metadata": {
    "collapsed": false,
    "deletable": true,
    "editable": true
   },
   "outputs": [
    {
     "name": "stderr",
     "output_type": "stream",
     "text": [
      "/home/sina/DARIAH/Topics/dariah_topics/visualization.py:352: FutureWarning: sort(columns=....) is deprecated, use sort_values(by=.....)\n",
      "  word_scores = word_scores.sort(columns=[0,2], axis=0, ascending=[True, False])\n"
     ]
    },
    {
     "name": "stdout",
     "output_type": "stream",
     "text": [
      "['conan', 'eyes', 'man', 'door', 'black', 'girl', 'sword', 'trees', 'wall', 'olivia']\n",
      "[237.01, 129.01, 106.01, 84.01, 76.01, 70.01, 68.01, 60.01, 53.01, 52.01]\n"
     ]
    },
    {
     "data": {
      "image/png": "[encoded data removed]",
      "text/plain": [
       "<matplotlib.figure.Figure at 0x7f8c85fa0ef0>"
      ]
     },
     "metadata": {},
     "output_type": "display_data"
    }
   ],
   "source": [
    "word_weights_file = \"/home/sina/DARIAH/Topics/tutorial_supplementals/mallet_output/topic_word_weights.txt\"\n",
    "numOfTopics = 4\n",
    "outfolder = \"/home/sina/DARIAH/Topics/tutorial_supplementals/mallet_output/wordles\"\n",
    "dpi = 200\n",
    "font_path = \"/home/sina/DARIAH/Topics/tutorial_supplementals/font\"\n",
    "number_of_top_words = 10\n",
    "\n",
    "wordle = visual.plot_wordle_from_mallet(word_weights_file, \n",
    "                                 numOfTopics,\n",
    "                                 number_of_top_words,\n",
    "                                 outfolder,\n",
    "                                 dpi)"
   ]
  },
  {
   "cell_type": "code",
   "execution_count": null,
   "metadata": {
    "collapsed": true,
    "deletable": true,
    "editable": true
   },
   "outputs": [],
   "source": []
  },
  {
   "cell_type": "code",
   "execution_count": null,
   "metadata": {
    "collapsed": true,
    "deletable": true,
    "editable": true
   },
   "outputs": [],
   "source": []
  },
  {
   "cell_type": "code",
   "execution_count": null,
   "metadata": {
    "collapsed": true,
    "deletable": true,
    "editable": true
   },
   "outputs": [],
   "source": []
  }
 ],
 "metadata": {
  "kernelspec": {
   "display_name": "Python 3",
   "language": "python",
   "name": "python3"
  },
  "language_info": {
   "codemirror_mode": {
    "name": "ipython",
    "version": 3
   },
   "file_extension": ".py",
   "mimetype": "text/x-python",
   "name": "python",
   "nbconvert_exporter": "python",
   "pygments_lexer": "ipython3",
   "version": "3.5.2"
  }
 },
 "nbformat": 4,
 "nbformat_minor": 1
}
