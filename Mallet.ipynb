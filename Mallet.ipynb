{
 "cells": [
  {
   "cell_type": "markdown",
   "metadata": {},
   "source": [
    "# Mallet"
   ]
  },
  {
   "cell_type": "markdown",
   "metadata": {},
   "source": [
    "Another algorithm for topic modeling is implemented in the java-based software Mallet. For this to work **you need to download and install Mallet** from http://mallet.cs.umass.edu/download.php.\n",
    "Mallet uses plain text as input, so none of the preprocessing steps of this package are available for Mallet topic modeling as of yet."
   ]
  },
  {
   "cell_type": "markdown",
   "metadata": {},
   "source": [
    "#### Loading modules from DARIAH-Topics library\n",
    "First, we have to get access to the functionalities of the library by importing them. For using its functions we use the prefix of the toolbox's submodules (pre, visual and mallet)."
   ]
  },
  {
   "cell_type": "code",
   "execution_count": 1,
   "metadata": {
    "collapsed": true
   },
   "outputs": [],
   "source": [
    "from dariah_topics import preprocessing as pre\n",
    "from dariah_topics import visualization as visual\n",
    "from dariah_topics import mallet as mal"
   ]
  },
  {
   "cell_type": "markdown",
   "metadata": {},
   "source": [
    "#### Activating inline output in Jupyter notebook\n",
    "The following line will just tell the notebook to show graphics in the output frames."
   ]
  },
  {
   "cell_type": "code",
   "execution_count": 2,
   "metadata": {
    "collapsed": false
   },
   "outputs": [
    {
     "name": "stderr",
     "output_type": "stream",
     "text": [
      "/usr/local/lib/python3.4/dist-packages/traitlets/traitlets.py:809: DeprecationWarning: A parent of InlineBackend._config_changed has adopted the new (traitlets 4.1) @observe(change) API\n",
      "  clsname, change_or_name), DeprecationWarning)\n",
      "/usr/lib/python3.4/importlib/_bootstrap.py:321: DeprecationWarning: `IPython.lib.inputhook` is deprecated since IPython 5.0 and will be removed in future versions.\n",
      "  return f(*args, **kwds)\n",
      "/usr/local/lib/python3.4/dist-packages/IPython/lib/inputhook.py:327: DeprecationWarning: `register` is deprecated since IPython 5.0 and will be removed in future versions.\n",
      "  @inputhook_manager.register('osx')\n",
      "/usr/local/lib/python3.4/dist-packages/IPython/lib/inputhook.py:336: DeprecationWarning: `register` is deprecated since IPython 5.0 and will be removed in future versions.\n",
      "  @inputhook_manager.register('wx')\n",
      "/usr/local/lib/python3.4/dist-packages/IPython/lib/inputhook.py:398: DeprecationWarning: `register` is deprecated since IPython 5.0 and will be removed in future versions.\n",
      "  @inputhook_manager.register('qt', 'qt4')\n",
      "/usr/local/lib/python3.4/dist-packages/IPython/lib/inputhook.py:449: DeprecationWarning: `register` is deprecated since IPython 5.0 and will be removed in future versions.\n",
      "  @inputhook_manager.register('qt5')\n",
      "/usr/local/lib/python3.4/dist-packages/IPython/lib/inputhook.py:458: DeprecationWarning: `register` is deprecated since IPython 5.0 and will be removed in future versions.\n",
      "  @inputhook_manager.register('gtk')\n",
      "/usr/local/lib/python3.4/dist-packages/IPython/lib/inputhook.py:489: DeprecationWarning: `register` is deprecated since IPython 5.0 and will be removed in future versions.\n",
      "  @inputhook_manager.register('tk')\n",
      "/usr/local/lib/python3.4/dist-packages/IPython/lib/inputhook.py:522: DeprecationWarning: `register` is deprecated since IPython 5.0 and will be removed in future versions.\n",
      "  @inputhook_manager.register('glut')\n",
      "/usr/local/lib/python3.4/dist-packages/IPython/lib/inputhook.py:596: DeprecationWarning: `register` is deprecated since IPython 5.0 and will be removed in future versions.\n",
      "  @inputhook_manager.register('pyglet')\n",
      "/usr/local/lib/python3.4/dist-packages/IPython/lib/inputhook.py:624: DeprecationWarning: `register` is deprecated since IPython 5.0 and will be removed in future versions.\n",
      "  @inputhook_manager.register('gtk3')\n"
     ]
    }
   ],
   "source": [
    "%matplotlib inline"
   ]
  },
  {
   "cell_type": "markdown",
   "metadata": {},
   "source": [
    "## 1. Setting the parameters"
   ]
  },
  {
   "cell_type": "markdown",
   "metadata": {},
   "source": [
    "#### Define path to corpus folder"
   ]
  },
  {
   "cell_type": "code",
   "execution_count": 3,
   "metadata": {
    "collapsed": true
   },
   "outputs": [],
   "source": [
    "path_to_corpus = \"corpus_txt\""
   ]
  },
  {
   "cell_type": "markdown",
   "metadata": {},
   "source": [
    "#### Path to mallet folder \n",
    "\n",
    "Now we must tell the library where to find the local instance of mallet. If you managed to install Mallet, it is sufficient set `path_to_mallet = \"mallet\"`, if you just store Mallet in a local folder, you have to specify the path to the binary explictly."
   ]
  },
  {
   "cell_type": "code",
   "execution_count": 4,
   "metadata": {
    "collapsed": true
   },
   "outputs": [],
   "source": [
    "path_to_mallet = \"/home/steffen/Software/mallet/bin/mallet\""
   ]
  },
  {
   "cell_type": "markdown",
   "metadata": {},
   "source": [
    "#### Output folder"
   ]
  },
  {
   "cell_type": "code",
   "execution_count": 5,
   "metadata": {
    "collapsed": true
   },
   "outputs": [],
   "source": [
    "outfolder = \"tutorial_supplementals/mallet_output\""
   ]
  },
  {
   "cell_type": "markdown",
   "metadata": {},
   "source": [
    "#### Stopword list\n",
    "\n",
    "In the current workflow, Mallet can filter out a given stop word list during its internal preprocessing."
   ]
  },
  {
   "cell_type": "code",
   "execution_count": 6,
   "metadata": {
    "collapsed": true
   },
   "outputs": [],
   "source": [
    "stoplist = \"tutorial_supplementals/stoplist/en.txt\""
   ]
  },
  {
   "cell_type": "markdown",
   "metadata": {},
   "source": [
    "#### The Mallet corpus model\n",
    "\n",
    "Finally, we can give all these folder paths to a Mallet function that handles all the preprocessing steps and creates a Mallet-specific corpus model object."
   ]
  },
  {
   "cell_type": "code",
   "execution_count": 14,
   "metadata": {
    "collapsed": false
   },
   "outputs": [
    {
     "name": "stdout",
     "output_type": "stream",
     "text": [
      "['/home/steffen/Software/mallet/bin/mallet', 'import-dir', '--input', 'corpus_txt', '--output', 'tutorial_supplementals/mallet_output/malletModel.mallet', '--keep-sequence', '--stoplist-file', 'tutorial_supplementals/stoplist/en.txt']\n"
     ]
    }
   ],
   "source": [
    "mallet_model = mal.create_mallet_model(path_to_mallet = path_to_mallet, \n",
    "                                       outfolder = outfolder,\n",
    "                                       path_to_corpus = path_to_corpus,\n",
    "                                       remove_stopwords = \"True\", \n",
    "                                       stoplist = stoplist\n",
    "                                      )"
   ]
  },
  {
   "cell_type": "markdown",
   "metadata": {},
   "source": [
    "## 2. Model creation"
   ]
  },
  {
   "cell_type": "markdown",
   "metadata": {},
   "source": [
    "**Warning: this step can take quite a while!** Meaning something between some seconds and some hours depending on corpus size and the number of passes."
   ]
  },
  {
   "cell_type": "code",
   "execution_count": 8,
   "metadata": {
    "collapsed": false
   },
   "outputs": [],
   "source": [
    "output_folder = mal.create_mallet_output(path_to_mallet = path_to_mallet, \n",
    "                                         path_to_malletModel = mallet_model, \n",
    "                                         outfolder = outfolder\n",
    "                                        )"
   ]
  },
  {
   "cell_type": "markdown",
   "metadata": {},
   "source": [
    "### 2.4. Create document-topic matrix\n",
    "\n",
    "The generated model object can now be translated into a human-readable document-topic matrix (that is a actually a pandas data frame) that constitutes our principle exchange format for topic modeling results. For generating the matrix from a Gensim model, we can use the following function:"
   ]
  },
  {
   "cell_type": "code",
   "execution_count": 9,
   "metadata": {
    "collapsed": true
   },
   "outputs": [],
   "source": [
    "doc_topic = mal.show_docTopicMatrix(output_folder, \"doc_topics.txt\")"
   ]
  },
  {
   "cell_type": "markdown",
   "metadata": {},
   "source": [
    "## 3. Visualization"
   ]
  },
  {
   "cell_type": "markdown",
   "metadata": {},
   "source": [
    "Now we can see the topics in the model with the following function:"
   ]
  },
  {
   "cell_type": "code",
   "execution_count": 10,
   "metadata": {
    "collapsed": false
   },
   "outputs": [
    {
     "data": {
      "text/html": [
       "<div>\n",
       "<table border=\"1\" class=\"dataframe\">\n",
       "  <thead>\n",
       "    <tr style=\"text-align: right;\">\n",
       "      <th></th>\n",
       "      <th>0</th>\n",
       "      <th>1</th>\n",
       "      <th>2</th>\n",
       "      <th>3</th>\n",
       "      <th>4</th>\n",
       "      <th>5</th>\n",
       "      <th>6</th>\n",
       "      <th>7</th>\n",
       "      <th>8</th>\n",
       "      <th>9</th>\n",
       "      <th>10</th>\n",
       "      <th>11</th>\n",
       "      <th>12</th>\n",
       "      <th>13</th>\n",
       "      <th>14</th>\n",
       "      <th>15</th>\n",
       "      <th>16</th>\n",
       "      <th>17</th>\n",
       "      <th>18</th>\n",
       "      <th>19</th>\n",
       "    </tr>\n",
       "  </thead>\n",
       "  <tbody>\n",
       "    <tr>\n",
       "      <th>0</th>\n",
       "      <td>the</td>\n",
       "      <td>not</td>\n",
       "      <td>for</td>\n",
       "      <td>all</td>\n",
       "      <td>are</td>\n",
       "      <td>one</td>\n",
       "      <td>our</td>\n",
       "      <td>any</td>\n",
       "      <td>but</td>\n",
       "      <td>will</td>\n",
       "      <td>now</td>\n",
       "      <td>has</td>\n",
       "      <td>this</td>\n",
       "      <td>which</td>\n",
       "      <td>thus</td>\n",
       "      <td>its</td>\n",
       "      <td>each</td>\n",
       "      <td>upon</td>\n",
       "      <td>say</td>\n",
       "      <td>atoms</td>\n",
       "    </tr>\n",
       "    <tr>\n",
       "      <th>1</th>\n",
       "      <td>the</td>\n",
       "      <td>and</td>\n",
       "      <td>his</td>\n",
       "      <td>was</td>\n",
       "      <td>said</td>\n",
       "      <td>him</td>\n",
       "      <td>with</td>\n",
       "      <td>not</td>\n",
       "      <td>they</td>\n",
       "      <td>you</td>\n",
       "      <td>have</td>\n",
       "      <td>mowgli</td>\n",
       "      <td>down</td>\n",
       "      <td>there</td>\n",
       "      <td>then</td>\n",
       "      <td>were</td>\n",
       "      <td>little</td>\n",
       "      <td>very</td>\n",
       "      <td>who</td>\n",
       "      <td>head</td>\n",
       "    </tr>\n",
       "    <tr>\n",
       "      <th>2</th>\n",
       "      <td>you</td>\n",
       "      <td>the</td>\n",
       "      <td>his</td>\n",
       "      <td>have</td>\n",
       "      <td>was</td>\n",
       "      <td>that</td>\n",
       "      <td>not</td>\n",
       "      <td>upon</td>\n",
       "      <td>sir</td>\n",
       "      <td>which</td>\n",
       "      <td>him</td>\n",
       "      <td>said</td>\n",
       "      <td>very</td>\n",
       "      <td>then</td>\n",
       "      <td>there</td>\n",
       "      <td>your</td>\n",
       "      <td>our</td>\n",
       "      <td>has</td>\n",
       "      <td>are</td>\n",
       "      <td>holmes</td>\n",
       "    </tr>\n",
       "    <tr>\n",
       "      <th>3</th>\n",
       "      <td>and</td>\n",
       "      <td>the</td>\n",
       "      <td>was</td>\n",
       "      <td>had</td>\n",
       "      <td>not</td>\n",
       "      <td>seemed</td>\n",
       "      <td>with</td>\n",
       "      <td>only</td>\n",
       "      <td>might</td>\n",
       "      <td>after</td>\n",
       "      <td>house</td>\n",
       "      <td>down</td>\n",
       "      <td>before</td>\n",
       "      <td>there</td>\n",
       "      <td>above</td>\n",
       "      <td>few</td>\n",
       "      <td>street</td>\n",
       "      <td>felt</td>\n",
       "      <td>floor</td>\n",
       "      <td>new</td>\n",
       "    </tr>\n",
       "    <tr>\n",
       "      <th>4</th>\n",
       "      <td>our</td>\n",
       "      <td>were</td>\n",
       "      <td>had</td>\n",
       "      <td>not</td>\n",
       "      <td>could</td>\n",
       "      <td>those</td>\n",
       "      <td>though</td>\n",
       "      <td>all</td>\n",
       "      <td>things</td>\n",
       "      <td>ones</td>\n",
       "      <td>city</td>\n",
       "      <td>camp</td>\n",
       "      <td>lake</td>\n",
       "      <td>land</td>\n",
       "      <td>great</td>\n",
       "      <td>one</td>\n",
       "      <td>feet</td>\n",
       "      <td>any</td>\n",
       "      <td>mountains</td>\n",
       "      <td>old</td>\n",
       "    </tr>\n",
       "    <tr>\n",
       "      <th>5</th>\n",
       "      <td>the</td>\n",
       "      <td>and</td>\n",
       "      <td>that</td>\n",
       "      <td>which</td>\n",
       "      <td>with</td>\n",
       "      <td>from</td>\n",
       "      <td>have</td>\n",
       "      <td>this</td>\n",
       "      <td>more</td>\n",
       "      <td>been</td>\n",
       "      <td>their</td>\n",
       "      <td>other</td>\n",
       "      <td>these</td>\n",
       "      <td>its</td>\n",
       "      <td>was</td>\n",
       "      <td>about</td>\n",
       "      <td>such</td>\n",
       "      <td>into</td>\n",
       "      <td>than</td>\n",
       "      <td>they</td>\n",
       "    </tr>\n",
       "    <tr>\n",
       "      <th>6</th>\n",
       "      <td>the</td>\n",
       "      <td>his</td>\n",
       "      <td>her</td>\n",
       "      <td>she</td>\n",
       "      <td>was</td>\n",
       "      <td>and</td>\n",
       "      <td>with</td>\n",
       "      <td>him</td>\n",
       "      <td>you</td>\n",
       "      <td>conan</td>\n",
       "      <td>not</td>\n",
       "      <td>from</td>\n",
       "      <td>were</td>\n",
       "      <td>into</td>\n",
       "      <td>they</td>\n",
       "      <td>but</td>\n",
       "      <td>like</td>\n",
       "      <td>through</td>\n",
       "      <td>man</td>\n",
       "      <td>have</td>\n",
       "    </tr>\n",
       "    <tr>\n",
       "      <th>7</th>\n",
       "      <td>and</td>\n",
       "      <td>the</td>\n",
       "      <td>that</td>\n",
       "      <td>for</td>\n",
       "      <td>but</td>\n",
       "      <td>had</td>\n",
       "      <td>all</td>\n",
       "      <td>out</td>\n",
       "      <td>when</td>\n",
       "      <td>one</td>\n",
       "      <td>what</td>\n",
       "      <td>from</td>\n",
       "      <td>would</td>\n",
       "      <td>this</td>\n",
       "      <td>them</td>\n",
       "      <td>could</td>\n",
       "      <td>they</td>\n",
       "      <td>will</td>\n",
       "      <td>now</td>\n",
       "      <td>over</td>\n",
       "    </tr>\n",
       "    <tr>\n",
       "      <th>8</th>\n",
       "      <td>said</td>\n",
       "      <td>was</td>\n",
       "      <td>and</td>\n",
       "      <td>not</td>\n",
       "      <td>with</td>\n",
       "      <td>you</td>\n",
       "      <td>ravager</td>\n",
       "      <td>were</td>\n",
       "      <td>his</td>\n",
       "      <td>she</td>\n",
       "      <td>there</td>\n",
       "      <td>smallest</td>\n",
       "      <td>which</td>\n",
       "      <td>like</td>\n",
       "      <td>him</td>\n",
       "      <td>dog</td>\n",
       "      <td>her</td>\n",
       "      <td>moore</td>\n",
       "      <td>then</td>\n",
       "      <td>slippers</td>\n",
       "    </tr>\n",
       "    <tr>\n",
       "      <th>9</th>\n",
       "      <td>the</td>\n",
       "      <td>his</td>\n",
       "      <td>was</td>\n",
       "      <td>you</td>\n",
       "      <td>with</td>\n",
       "      <td>had</td>\n",
       "      <td>him</td>\n",
       "      <td>there</td>\n",
       "      <td>said</td>\n",
       "      <td>upon</td>\n",
       "      <td>man</td>\n",
       "      <td>have</td>\n",
       "      <td>her</td>\n",
       "      <td>were</td>\n",
       "      <td>which</td>\n",
       "      <td>not</td>\n",
       "      <td>into</td>\n",
       "      <td>holmes</td>\n",
       "      <td>down</td>\n",
       "      <td>she</td>\n",
       "    </tr>\n",
       "  </tbody>\n",
       "</table>\n",
       "</div>"
      ],
      "text/plain": [
       "     0     1     2      3      4       5        6      7       8      9   \\\n",
       "0   the   not   for    all    are     one      our    any     but   will   \n",
       "1   the   and   his    was   said     him     with    not    they    you   \n",
       "2   you   the   his   have    was    that      not   upon     sir  which   \n",
       "3   and   the   was    had    not  seemed     with   only   might  after   \n",
       "4   our  were   had    not  could   those   though    all  things   ones   \n",
       "5   the   and  that  which   with    from     have   this    more   been   \n",
       "6   the   his   her    she    was     and     with    him     you  conan   \n",
       "7   and   the  that    for    but     had      all    out    when    one   \n",
       "8  said   was   and    not   with     you  ravager   were     his    she   \n",
       "9   the   his   was    you   with     had      him  there    said   upon   \n",
       "\n",
       "      10        11      12     13     14     15      16       17         18  \\\n",
       "0    now       has    this  which   thus    its    each     upon        say   \n",
       "1   have    mowgli    down  there   then   were  little     very        who   \n",
       "2    him      said    very   then  there   your     our      has        are   \n",
       "3  house      down  before  there  above    few  street     felt      floor   \n",
       "4   city      camp    lake   land  great    one    feet      any  mountains   \n",
       "5  their     other   these    its    was  about    such     into       than   \n",
       "6    not      from    were   into   they    but    like  through        man   \n",
       "7   what      from   would   this   them  could    they     will        now   \n",
       "8  there  smallest   which   like    him    dog     her    moore       then   \n",
       "9    man      have     her   were  which    not    into   holmes       down   \n",
       "\n",
       "         19  \n",
       "0     atoms  \n",
       "1      head  \n",
       "2    holmes  \n",
       "3       new  \n",
       "4       old  \n",
       "5      they  \n",
       "6      have  \n",
       "7      over  \n",
       "8  slippers  \n",
       "9       she  "
      ]
     },
     "execution_count": 10,
     "metadata": {},
     "output_type": "execute_result"
    }
   ],
   "source": [
    "mal.show_topics_keys(output_folder, topicsKeyFile = \"topic_keys.txt\")"
   ]
  },
  {
   "cell_type": "markdown",
   "metadata": {},
   "source": [
    "### 3.1. Distribution of topics"
   ]
  },
  {
   "cell_type": "markdown",
   "metadata": {},
   "source": [
    "#### Distribution of topics over all documents\n",
    "\n",
    "The distribution of topics over all documents can now be visualized in a heat map:"
   ]
  },
  {
   "cell_type": "code",
   "execution_count": 11,
   "metadata": {
    "collapsed": false
   },
   "outputs": [
    {
     "data": {
      "image/png": "[encoded data removed]",
      "text/plain": [
       "<matplotlib.figure.Figure at 0x7f752cf12a20>"
      ]
     },
     "metadata": {},
     "output_type": "display_data"
    }
   ],
   "source": [
    "heatmap = visual.doc_topic_heatmap(doc_topic.transpose())\n",
    "heatmap.show()"
   ]
  },
  {
   "cell_type": "markdown",
   "metadata": {},
   "source": [
    "#### Distribution of topics in a single documents\n",
    "\n",
    "To take closer look on the topics in a single text, we can use the follwing function that shows all the topics in a text and their respective proportions. To select the document, we have to give its index to the function."
   ]
  },
  {
   "cell_type": "code",
   "execution_count": 12,
   "metadata": {
    "collapsed": false
   },
   "outputs": [
    {
     "data": {
      "image/png": "[encoded data removed]",
      "text/plain": [
       "<matplotlib.figure.Figure at 0x7f752cf226d8>"
      ]
     },
     "metadata": {},
     "output_type": "display_data"
    }
   ],
   "source": [
    "visual.plot_doc_topics(doc_topic.transpose(), 6)"
   ]
  }
 ],
 "metadata": {
  "kernelspec": {
   "display_name": "Python 3",
   "language": "python",
   "name": "python3"
  },
  "language_info": {
   "codemirror_mode": {
    "name": "ipython",
    "version": 3
   },
   "file_extension": ".py",
   "mimetype": "text/x-python",
   "name": "python",
   "nbconvert_exporter": "python",
   "pygments_lexer": "ipython3",
   "version": "3.4.3"
  }
 },
 "nbformat": 4,
 "nbformat_minor": 0
}
