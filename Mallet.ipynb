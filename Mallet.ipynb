{
 "cells": [
  {
   "cell_type": "markdown",
   "metadata": {},
   "source": [
    "# Mallet"
   ]
  },
  {
   "cell_type": "markdown",
   "metadata": {},
   "source": [
    "Another algorithm for topic modeling is implemented in the java-based software Mallet. For this to work **you need to download and install Mallet** from http://mallet.cs.umass.edu/download.php.\n",
    "Mallet uses plain text as input, so none of the preprocessing steps of this package are available for Mallet topic modeling as of yet."
   ]
  },
  {
   "cell_type": "markdown",
   "metadata": {},
   "source": [
    "#### Loading modules from DARIAH-Topics library\n",
    "First, we have to get access to the functionalities of the library by importing them. For using its functions we use the prefix of the toolbox's submodules (pre, visual and mallet)."
   ]
  },
  {
   "cell_type": "code",
   "execution_count": 1,
   "metadata": {},
   "outputs": [
    {
     "name": "stderr",
     "output_type": "stream",
     "text": [
      "INFO summa.preprocessing.cleaner: 'pattern' package not found; tag filters are not available for English\n"
     ]
    }
   ],
   "source": [
    "from dariah_topics import preprocessing as pre\n",
    "from dariah_topics import visualization as visual\n",
    "from dariah_topics import mallet as mal"
   ]
  },
  {
   "cell_type": "markdown",
   "metadata": {},
   "source": [
    "#### Activating inline output in Jupyter notebook\n",
    "The following line will just tell the notebook to show graphics in the output frames."
   ]
  },
  {
   "cell_type": "code",
   "execution_count": 2,
   "metadata": {},
   "outputs": [],
   "source": [
    "%matplotlib inline"
   ]
  },
  {
   "cell_type": "markdown",
   "metadata": {},
   "source": [
    "## 1. Setting the parameters"
   ]
  },
  {
   "cell_type": "markdown",
   "metadata": {},
   "source": [
    "#### Define path to corpus folder"
   ]
  },
  {
   "cell_type": "code",
   "execution_count": 3,
   "metadata": {
    "collapsed": true
   },
   "outputs": [],
   "source": [
    "path_to_corpus = \"corpus_txt\""
   ]
  },
  {
   "cell_type": "markdown",
   "metadata": {},
   "source": [
    "#### Path to mallet folder \n",
    "\n",
    "Now we must tell the library where to find the local instance of mallet. If you managed to install Mallet, it is sufficient set `path_to_mallet = \"mallet\"`, if you just store Mallet in a local folder, you have to specify the path to the binary explictly."
   ]
  },
  {
   "cell_type": "code",
   "execution_count": 4,
   "metadata": {
    "collapsed": true
   },
   "outputs": [],
   "source": [
    "path_to_mallet = \"mallet/bin/mallet\""
   ]
  },
  {
   "cell_type": "markdown",
   "metadata": {},
   "source": [
    "#### Output folder"
   ]
  },
  {
   "cell_type": "code",
   "execution_count": 5,
   "metadata": {
    "collapsed": true
   },
   "outputs": [],
   "source": [
    "outfolder = \"tutorial_supplementals/mallet_output\""
   ]
  },
  {
   "cell_type": "markdown",
   "metadata": {},
   "source": [
    "#### The Mallet corpus model\n",
    "\n",
    "Finally, we can give all these folder paths to a Mallet function that handles all the preprocessing steps and creates a Mallet-specific corpus model object."
   ]
  },
  {
   "cell_type": "code",
   "execution_count": 6,
   "metadata": {},
   "outputs": [
    {
     "name": "stderr",
     "output_type": "stream",
     "text": [
      "INFO mallet: Accessing MALLET with ['mallet/bin/mallet', 'import-dir', '--input', 'corpus_txt', '--remove-stopwords', '--output', 'tutorial_supplementals/mallet_output/binary.mallet', '--keep-sequence'] ...\n"
     ]
    }
   ],
   "source": [
    "mallet_model = mal.create_mallet_binary(path_to_mallet = path_to_mallet, \n",
    "                                       outfolder = outfolder,\n",
    "                                       path_to_corpus = path_to_corpus\n",
    "                                      )"
   ]
  },
  {
   "cell_type": "markdown",
   "metadata": {},
   "source": [
    "## 2. Model creation"
   ]
  },
  {
   "cell_type": "markdown",
   "metadata": {},
   "source": [
    "**Warning: this step can take quite a while!** Meaning something between some seconds and some hours depending on corpus size and the number of passes."
   ]
  },
  {
   "cell_type": "code",
   "execution_count": 7,
   "metadata": {},
   "outputs": [
    {
     "name": "stderr",
     "output_type": "stream",
     "text": [
      "INFO mallet: Accessing Mallet with ['mallet/bin/mallet', 'train-topics', '--input', 'tutorial_supplementals/mallet_output/binary.mallet', '--num-iterations', '500', '--num-top-words', '10', '--output-topic-keys', '/home/severin/git/Topics/tutorial_supplementals/mallet_output/topic_keys.txt', '--output-doc-topics', '/home/severin/git/Topics/tutorial_supplementals/mallet_output/doc_topics.txt', '--output-state', '/home/severin/git/Topics/tutorial_supplementals/mallet_output/state.gz'] ...\n"
     ]
    }
   ],
   "source": [
    "output_folder = mal.create_mallet_model(path_to_mallet = path_to_mallet, \n",
    "                                        path_to_binary = mallet_model, \n",
    "                                        outfolder = outfolder,\n",
    "                                        num_top_words = 10,\n",
    "                                        num_iterations = 500\n",
    "                                        )"
   ]
  },
  {
   "cell_type": "markdown",
   "metadata": {},
   "source": [
    "### 2.4. Create document-topic matrix\n",
    "\n",
    "The generated model object can now be translated into a human-readable document-topic matrix (that is a actually a pandas data frame) that constitutes our principle exchange format for topic modeling results. For generating the matrix from a Gensim model, we can use the following function:"
   ]
  },
  {
   "cell_type": "code",
   "execution_count": 8,
   "metadata": {},
   "outputs": [],
   "source": [
    "doc_topic = mal.show_doc_topic_matrix(\"tutorial_supplementals/mallet_output\")"
   ]
  },
  {
   "cell_type": "markdown",
   "metadata": {},
   "source": [
    "## 3. Visualization"
   ]
  },
  {
   "cell_type": "markdown",
   "metadata": {},
   "source": [
    "Now we can see the topics in the model with the following function:"
   ]
  },
  {
   "cell_type": "code",
   "execution_count": 9,
   "metadata": {},
   "outputs": [
    {
     "data": {
      "text/html": [
       "<div>\n",
       "<table border=\"1\" class=\"dataframe\">\n",
       "  <thead>\n",
       "    <tr style=\"text-align: right;\">\n",
       "      <th></th>\n",
       "      <th>Key 1</th>\n",
       "      <th>Key 2</th>\n",
       "      <th>Key 3</th>\n",
       "      <th>Key 4</th>\n",
       "      <th>Key 5</th>\n",
       "      <th>Key 6</th>\n",
       "      <th>Key 7</th>\n",
       "      <th>Key 8</th>\n",
       "      <th>Key 9</th>\n",
       "      <th>Key 10</th>\n",
       "    </tr>\n",
       "  </thead>\n",
       "  <tbody>\n",
       "    <tr>\n",
       "      <th>Topic 1</th>\n",
       "      <td>matter</td>\n",
       "      <td>centre</td>\n",
       "      <td>atoms</td>\n",
       "      <td>point</td>\n",
       "      <td>general</td>\n",
       "      <td>fact</td>\n",
       "      <td>space</td>\n",
       "      <td>sun</td>\n",
       "      <td>idea</td>\n",
       "      <td>force</td>\n",
       "    </tr>\n",
       "    <tr>\n",
       "      <th>Topic 2</th>\n",
       "      <td>mowgli</td>\n",
       "      <td>jungle</td>\n",
       "      <td>big</td>\n",
       "      <td>bagheera</td>\n",
       "      <td>wolf</td>\n",
       "      <td>thou</td>\n",
       "      <td>head</td>\n",
       "      <td>nag</td>\n",
       "      <td>baloo</td>\n",
       "      <td>sea</td>\n",
       "    </tr>\n",
       "    <tr>\n",
       "      <th>Topic 3</th>\n",
       "      <td>lake</td>\n",
       "      <td>things</td>\n",
       "      <td>camp</td>\n",
       "      <td>land</td>\n",
       "      <td>city</td>\n",
       "      <td>danforth</td>\n",
       "      <td>mountains</td>\n",
       "      <td>place</td>\n",
       "      <td>years</td>\n",
       "      <td>antarctic</td>\n",
       "    </tr>\n",
       "    <tr>\n",
       "      <th>Topic 4</th>\n",
       "      <td>conan</td>\n",
       "      <td>door</td>\n",
       "      <td>wall</td>\n",
       "      <td>house</td>\n",
       "      <td>human</td>\n",
       "      <td>chamber</td>\n",
       "      <td>aram</td>\n",
       "      <td>conan's</td>\n",
       "      <td>ruins</td>\n",
       "      <td>street</td>\n",
       "    </tr>\n",
       "    <tr>\n",
       "      <th>Topic 5</th>\n",
       "      <td>man</td>\n",
       "      <td>time</td>\n",
       "      <td>good</td>\n",
       "      <td>night</td>\n",
       "      <td>back</td>\n",
       "      <td>make</td>\n",
       "      <td>day</td>\n",
       "      <td>long</td>\n",
       "      <td>don't</td>\n",
       "      <td>give</td>\n",
       "    </tr>\n",
       "    <tr>\n",
       "      <th>Topic 6</th>\n",
       "      <td>ravager</td>\n",
       "      <td>smallest</td>\n",
       "      <td>dog</td>\n",
       "      <td>moore</td>\n",
       "      <td>slippers</td>\n",
       "      <td>proper</td>\n",
       "      <td>master</td>\n",
       "      <td>told</td>\n",
       "      <td>wented</td>\n",
       "      <td>tags</td>\n",
       "    </tr>\n",
       "    <tr>\n",
       "      <th>Topic 7</th>\n",
       "      <td>holmes</td>\n",
       "      <td>face</td>\n",
       "      <td>small</td>\n",
       "      <td>answered</td>\n",
       "      <td>door</td>\n",
       "      <td>asked</td>\n",
       "      <td>sherlock</td>\n",
       "      <td>hand</td>\n",
       "      <td>room</td>\n",
       "      <td>hope</td>\n",
       "    </tr>\n",
       "    <tr>\n",
       "      <th>Topic 8</th>\n",
       "      <td>sir</td>\n",
       "      <td>holmes</td>\n",
       "      <td>man</td>\n",
       "      <td>moor</td>\n",
       "      <td>watson</td>\n",
       "      <td>henry</td>\n",
       "      <td>heard</td>\n",
       "      <td>friend</td>\n",
       "      <td>baskerville</td>\n",
       "      <td>house</td>\n",
       "    </tr>\n",
       "    <tr>\n",
       "      <th>Topic 9</th>\n",
       "      <td>great</td>\n",
       "      <td>made</td>\n",
       "      <td>left</td>\n",
       "      <td>feet</td>\n",
       "      <td>long</td>\n",
       "      <td>brought</td>\n",
       "      <td>light</td>\n",
       "      <td>life</td>\n",
       "      <td>strange</td>\n",
       "      <td>sound</td>\n",
       "    </tr>\n",
       "    <tr>\n",
       "      <th>Topic 10</th>\n",
       "      <td>eyes</td>\n",
       "      <td>black</td>\n",
       "      <td>hand</td>\n",
       "      <td>men</td>\n",
       "      <td>man</td>\n",
       "      <td>head</td>\n",
       "      <td>trees</td>\n",
       "      <td>hands</td>\n",
       "      <td>girl</td>\n",
       "      <td>body</td>\n",
       "    </tr>\n",
       "  </tbody>\n",
       "</table>\n",
       "</div>"
      ],
      "text/plain": [
       "            Key 1     Key 2  Key 3     Key 4     Key 5     Key 6      Key 7  \\\n",
       "Topic 1    matter    centre  atoms     point   general      fact      space   \n",
       "Topic 2    mowgli    jungle    big  bagheera      wolf      thou       head   \n",
       "Topic 3      lake    things   camp      land      city  danforth  mountains   \n",
       "Topic 4     conan      door   wall     house     human   chamber       aram   \n",
       "Topic 5       man      time   good     night      back      make        day   \n",
       "Topic 6   ravager  smallest    dog     moore  slippers    proper     master   \n",
       "Topic 7    holmes      face  small  answered      door     asked   sherlock   \n",
       "Topic 8       sir    holmes    man      moor    watson     henry      heard   \n",
       "Topic 9     great      made   left      feet      long   brought      light   \n",
       "Topic 10     eyes     black   hand       men       man      head      trees   \n",
       "\n",
       "            Key 8        Key 9     Key 10  \n",
       "Topic 1       sun         idea      force  \n",
       "Topic 2       nag        baloo        sea  \n",
       "Topic 3     place        years  antarctic  \n",
       "Topic 4   conan's        ruins     street  \n",
       "Topic 5      long        don't       give  \n",
       "Topic 6      told       wented       tags  \n",
       "Topic 7      hand         room       hope  \n",
       "Topic 8    friend  baskerville      house  \n",
       "Topic 9      life      strange      sound  \n",
       "Topic 10    hands         girl       body  "
      ]
     },
     "execution_count": 9,
     "metadata": {},
     "output_type": "execute_result"
    }
   ],
   "source": [
    "mal.show_topics_keys(\"tutorial_supplementals/mallet_output\")"
   ]
  },
  {
   "cell_type": "markdown",
   "metadata": {},
   "source": [
    "### 3.1. Distribution of topics"
   ]
  },
  {
   "cell_type": "markdown",
   "metadata": {},
   "source": [
    "#### Distribution of topics over all documents\n",
    "\n",
    "The distribution of topics over all documents can now be visualized in a heat map:"
   ]
  },
  {
   "cell_type": "code",
   "execution_count": 10,
   "metadata": {},
   "outputs": [
    {
     "data": {
      "image/png": "[encoded data removed]",
      "text/plain": [
       "<matplotlib.figure.Figure at 0xa57b70ac>"
      ]
     },
     "metadata": {},
     "output_type": "display_data"
    }
   ],
   "source": [
    "heatmap = visual.doc_topic_heatmap(doc_topic)\n",
    "heatmap.show()"
   ]
  },
  {
   "cell_type": "markdown",
   "metadata": {},
   "source": [
    "#### Distribution of topics in a single documents\n",
    "\n",
    "To take closer look on the topics in a single text, we can use the follwing function that shows all the topics in a text and their respective proportions. To select the document, we have to give its index to the function."
   ]
  },
  {
   "cell_type": "code",
   "execution_count": 11,
   "metadata": {},
   "outputs": [
    {
     "data": {
      "text/plain": [
       "<module 'matplotlib.pyplot' from '/home/severin/.local/lib/python3.5/site-packages/matplotlib/pyplot.py'>"
      ]
     },
     "execution_count": 11,
     "metadata": {},
     "output_type": "execute_result"
    },
    {
     "data": {
      "image/png": "[encoded data removed]",
      "text/plain": [
       "<matplotlib.figure.Figure at 0xa5800f8c>"
      ]
     },
     "metadata": {},
     "output_type": "display_data"
    }
   ],
   "source": [
    "visual.plot_doc_topics(doc_topic, 6)"
   ]
  }
 ],
 "metadata": {
  "kernelspec": {
   "display_name": "Python 3",
   "language": "python",
   "name": "python3"
  },
  "language_info": {
   "codemirror_mode": {
    "name": "ipython",
    "version": 3
   },
   "file_extension": ".py",
   "mimetype": "text/x-python",
   "name": "python",
   "nbconvert_exporter": "python",
   "pygments_lexer": "ipython3",
   "version": "3.5.3"
  }
 },
 "nbformat": 4,
 "nbformat_minor": 1
}
