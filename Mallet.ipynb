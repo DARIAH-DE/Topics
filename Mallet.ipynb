{
 "cells": [
  {
   "cell_type": "code",
   "execution_count": null,
   "metadata": {
    "collapsed": true
   },
   "outputs": [],
   "source": [
    "from dariah_topics import mallet as mal\n",
    "from dariah_topics import visualization as visual"
   ]
  },
  {
   "cell_type": "code",
   "execution_count": null,
   "metadata": {
    "collapsed": true
   },
   "outputs": [],
   "source": [
    "path_to_mallet = \"/home/sina/Uni/Dariah/mallet/bin/mallet\"\n",
    "#path_to_mallet = \"mallet\"\n",
    "\n",
    "outfolder = \"tutorial_supplementals/mallet_output\"\n",
    "path_to_corpus = \"corpus_txt\"\n",
    "\n",
    "mallet_model = mal.create_mallet_model(path_to_mallet=path_to_mallet, outfolder = outfolder, path_to_corpus=path_to_corpus)\n",
    "mallet_model"
   ]
  },
  {
   "cell_type": "code",
   "execution_count": null,
   "metadata": {
    "collapsed": true
   },
   "outputs": [],
   "source": [
    "output_folder = mal.create_mallet_output(path_to_mallet=path_to_mallet, path_to_malletModel=mallet_model, outfolder=outfolder)\n",
    "output_folder"
   ]
  },
  {
   "cell_type": "code",
   "execution_count": null,
   "metadata": {
    "collapsed": true
   },
   "outputs": [],
   "source": [
    "docTopicMatrix = mal.show_docTopicMatrix(output_folder, \"doc_topics.txt\")\n",
    "docTopicMatrix"
   ]
  }
 ],
 "metadata": {
  "kernelspec": {
   "display_name": "Python 3",
   "language": "python",
   "name": "python3"
  },
  "language_info": {
   "codemirror_mode": {
    "name": "ipython",
    "version": 3
   },
   "file_extension": ".py",
   "mimetype": "text/x-python",
   "name": "python",
   "nbconvert_exporter": "python",
   "pygments_lexer": "ipython3",
   "version": "3.4.3"
  }
 },
 "nbformat": 4,
 "nbformat_minor": 0
}
