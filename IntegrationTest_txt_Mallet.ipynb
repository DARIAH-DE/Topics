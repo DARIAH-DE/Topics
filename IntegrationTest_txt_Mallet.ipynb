{
 "cells": [
  {
   "cell_type": "code",
   "execution_count": 1,
   "metadata": {
    "collapsed": false
   },
   "outputs": [
    {
     "name": "stderr",
     "output_type": "stream",
     "text": [
      "/usr/local/lib/python3.5/dist-packages/funcy/decorators.py:56: DeprecationWarning: inspect.getargspec() is deprecated, use inspect.signature() instead\n",
      "  spec = inspect.getargspec(func)\n",
      "/usr/local/lib/python3.5/dist-packages/funcy/decorators.py:56: DeprecationWarning: inspect.getargspec() is deprecated, use inspect.signature() instead\n",
      "  spec = inspect.getargspec(func)\n",
      "/usr/local/lib/python3.5/dist-packages/funcy/decorators.py:56: DeprecationWarning: inspect.getargspec() is deprecated, use inspect.signature() instead\n",
      "  spec = inspect.getargspec(func)\n",
      "/usr/local/lib/python3.5/dist-packages/funcy/decorators.py:56: DeprecationWarning: inspect.getargspec() is deprecated, use inspect.signature() instead\n",
      "  spec = inspect.getargspec(func)\n",
      "/usr/local/lib/python3.5/dist-packages/funcy/decorators.py:56: DeprecationWarning: inspect.getargspec() is deprecated, use inspect.signature() instead\n",
      "  spec = inspect.getargspec(func)\n",
      "/usr/local/lib/python3.5/dist-packages/funcy/decorators.py:56: DeprecationWarning: inspect.getargspec() is deprecated, use inspect.signature() instead\n",
      "  spec = inspect.getargspec(func)\n"
     ]
    }
   ],
   "source": [
    "from dariah_topics import mallet as mal\n",
    "from dariah_topics import visualization as visual"
   ]
  },
  {
   "cell_type": "markdown",
   "metadata": {},
   "source": [
    "## Preprocessing"
   ]
  },
  {
   "cell_type": "markdown",
   "metadata": {},
   "source": [
    "## Topic Modeling mit Mallet"
   ]
  },
  {
   "cell_type": "markdown",
   "metadata": {},
   "source": [
    "##### Mallet model erzeugen"
   ]
  },
  {
   "cell_type": "code",
   "execution_count": 3,
   "metadata": {
    "collapsed": false
   },
   "outputs": [],
   "source": [
    "#Variablen zum Testen\n",
    "path_to_mallet = \"/home/sina/Uni/Dariah/mallet/bin/mallet\"\n",
    "#path_to_mallet = \"mallet\"\n",
    "\n",
    "outfolder = \"tutorial_supplementals/mallet_output\"\n",
    "path_to_corpus = \"corpus_txt\"\n",
    "\n",
    "mallet_model = mal.create_mallet_model(path_to_mallet=path_to_mallet, outfolder = outfolder, path_to_corpus=path_to_corpus)\n",
    "mallet_model"
   ]
  },
  {
   "cell_type": "markdown",
   "metadata": {},
   "source": [
    "##### Mallet output erzeugen"
   ]
  },
  {
   "cell_type": "code",
   "execution_count": 3,
   "metadata": {
    "collapsed": false,
    "scrolled": false
   },
   "outputs": [
    {
     "data": {
      "text/plain": [
       "'/home/sina/Uni/Dariah/DARIAH-Topics/Topics/tutorial_supplementals/mallet_output'"
      ]
     },
     "execution_count": 3,
     "metadata": {},
     "output_type": "execute_result"
    }
   ],
   "source": [
    "#default parameter - can be overwritten\n",
    "#num_topics = 10\n",
    "\n",
    "output_folder = mal.create_mallet_output(path_to_mallet=path_to_mallet, path_to_malletModel=mallet_model, outfolder=outfolder)\n",
    "output_folder"
   ]
  },
  {
   "cell_type": "markdown",
   "metadata": {},
   "source": [
    "##### Show Tokens for each Topic"
   ]
  },
  {
   "cell_type": "code",
   "execution_count": 4,
   "metadata": {
    "collapsed": false,
    "scrolled": true
   },
   "outputs": [
    {
     "data": {
      "text/html": [
       "<div>\n",
       "<table border=\"1\" class=\"dataframe\">\n",
       "  <thead>\n",
       "    <tr style=\"text-align: right;\">\n",
       "      <th></th>\n",
       "      <th>0</th>\n",
       "      <th>1</th>\n",
       "      <th>2</th>\n",
       "      <th>3</th>\n",
       "      <th>4</th>\n",
       "      <th>5</th>\n",
       "      <th>6</th>\n",
       "      <th>7</th>\n",
       "      <th>8</th>\n",
       "      <th>9</th>\n",
       "      <th>10</th>\n",
       "      <th>11</th>\n",
       "      <th>12</th>\n",
       "      <th>13</th>\n",
       "      <th>14</th>\n",
       "      <th>15</th>\n",
       "      <th>16</th>\n",
       "      <th>17</th>\n",
       "      <th>18</th>\n",
       "      <th>19</th>\n",
       "    </tr>\n",
       "  </thead>\n",
       "  <tbody>\n",
       "    <tr>\n",
       "      <th>0</th>\n",
       "      <td>he</td>\n",
       "      <td>his</td>\n",
       "      <td>a</td>\n",
       "      <td>her</td>\n",
       "      <td>in</td>\n",
       "      <td>was</td>\n",
       "      <td>she</td>\n",
       "      <td>but</td>\n",
       "      <td>him</td>\n",
       "      <td>conan</td>\n",
       "      <td>from</td>\n",
       "      <td>not</td>\n",
       "      <td>you</td>\n",
       "      <td>it</td>\n",
       "      <td>as</td>\n",
       "      <td>into</td>\n",
       "      <td>to</td>\n",
       "      <td>there</td>\n",
       "      <td>s</td>\n",
       "      <td>door</td>\n",
       "    </tr>\n",
       "    <tr>\n",
       "      <th>1</th>\n",
       "      <td>and</td>\n",
       "      <td>of</td>\n",
       "      <td>the</td>\n",
       "      <td>in</td>\n",
       "      <td>a</td>\n",
       "      <td>to</td>\n",
       "      <td>that</td>\n",
       "      <td>which</td>\n",
       "      <td>was</td>\n",
       "      <td>as</td>\n",
       "      <td>it</td>\n",
       "      <td>by</td>\n",
       "      <td>at</td>\n",
       "      <td>or</td>\n",
       "      <td>i</td>\n",
       "      <td>all</td>\n",
       "      <td>from</td>\n",
       "      <td>some</td>\n",
       "      <td>could</td>\n",
       "      <td>with</td>\n",
       "    </tr>\n",
       "    <tr>\n",
       "      <th>2</th>\n",
       "      <td>the</td>\n",
       "      <td>of</td>\n",
       "      <td>and</td>\n",
       "      <td>with</td>\n",
       "      <td>on</td>\n",
       "      <td>that</td>\n",
       "      <td>i</td>\n",
       "      <td>had</td>\n",
       "      <td>they</td>\n",
       "      <td>like</td>\n",
       "      <td>were</td>\n",
       "      <td>through</td>\n",
       "      <td>have</td>\n",
       "      <td>then</td>\n",
       "      <td>their</td>\n",
       "      <td>them</td>\n",
       "      <td>saw</td>\n",
       "      <td>black</td>\n",
       "      <td>among</td>\n",
       "      <td>about</td>\n",
       "    </tr>\n",
       "    <tr>\n",
       "      <th>3</th>\n",
       "      <td>we</td>\n",
       "      <td>had</td>\n",
       "      <td>our</td>\n",
       "      <td>was</td>\n",
       "      <td>were</td>\n",
       "      <td>not</td>\n",
       "      <td>but</td>\n",
       "      <td>on</td>\n",
       "      <td>lake</td>\n",
       "      <td>this</td>\n",
       "      <td>those</td>\n",
       "      <td>have</td>\n",
       "      <td>their</td>\n",
       "      <td>old</td>\n",
       "      <td>there</td>\n",
       "      <td>though</td>\n",
       "      <td>to</td>\n",
       "      <td>one</td>\n",
       "      <td>than</td>\n",
       "      <td>over</td>\n",
       "    </tr>\n",
       "    <tr>\n",
       "      <th>4</th>\n",
       "      <td>the</td>\n",
       "      <td>of</td>\n",
       "      <td>to</td>\n",
       "      <td>in</td>\n",
       "      <td>is</td>\n",
       "      <td>that</td>\n",
       "      <td>a</td>\n",
       "      <td>we</td>\n",
       "      <td>be</td>\n",
       "      <td>it</td>\n",
       "      <td>this</td>\n",
       "      <td>as</td>\n",
       "      <td>which</td>\n",
       "      <td>have</td>\n",
       "      <td>at</td>\n",
       "      <td>for</td>\n",
       "      <td>but</td>\n",
       "      <td>all</td>\n",
       "      <td>and</td>\n",
       "      <td>not</td>\n",
       "    </tr>\n",
       "    <tr>\n",
       "      <th>5</th>\n",
       "      <td>and</td>\n",
       "      <td>he</td>\n",
       "      <td>in</td>\n",
       "      <td>his</td>\n",
       "      <td>i</td>\n",
       "      <td>that</td>\n",
       "      <td>was</td>\n",
       "      <td>of</td>\n",
       "      <td>said</td>\n",
       "      <td>is</td>\n",
       "      <td>him</td>\n",
       "      <td>it</td>\n",
       "      <td>all</td>\n",
       "      <td>but</td>\n",
       "      <td>you</td>\n",
       "      <td>as</td>\n",
       "      <td>up</td>\n",
       "      <td>not</td>\n",
       "      <td>little</td>\n",
       "      <td>on</td>\n",
       "    </tr>\n",
       "    <tr>\n",
       "      <th>6</th>\n",
       "      <td>i</td>\n",
       "      <td>he</td>\n",
       "      <td>you</td>\n",
       "      <td>it</td>\n",
       "      <td>his</td>\n",
       "      <td>that</td>\n",
       "      <td>is</td>\n",
       "      <td>was</td>\n",
       "      <td>have</td>\n",
       "      <td>my</td>\n",
       "      <td>we</td>\n",
       "      <td>but</td>\n",
       "      <td>him</td>\n",
       "      <td>in</td>\n",
       "      <td>there</td>\n",
       "      <td>me</td>\n",
       "      <td>upon</td>\n",
       "      <td>not</td>\n",
       "      <td>said</td>\n",
       "      <td>had</td>\n",
       "    </tr>\n",
       "    <tr>\n",
       "      <th>7</th>\n",
       "      <td>the</td>\n",
       "      <td>to</td>\n",
       "      <td>a</td>\n",
       "      <td>for</td>\n",
       "      <td>at</td>\n",
       "      <td>and</td>\n",
       "      <td>s</td>\n",
       "      <td>be</td>\n",
       "      <td>had</td>\n",
       "      <td>out</td>\n",
       "      <td>one</td>\n",
       "      <td>would</td>\n",
       "      <td>of</td>\n",
       "      <td>when</td>\n",
       "      <td>were</td>\n",
       "      <td>now</td>\n",
       "      <td>from</td>\n",
       "      <td>so</td>\n",
       "      <td>with</td>\n",
       "      <td>this</td>\n",
       "    </tr>\n",
       "    <tr>\n",
       "      <th>8</th>\n",
       "      <td>the</td>\n",
       "      <td>an</td>\n",
       "      <td>as</td>\n",
       "      <td>a</td>\n",
       "      <td>there</td>\n",
       "      <td>his</td>\n",
       "      <td>he</td>\n",
       "      <td>when</td>\n",
       "      <td>them</td>\n",
       "      <td>through</td>\n",
       "      <td>are</td>\n",
       "      <td>not</td>\n",
       "      <td>it</td>\n",
       "      <td>every</td>\n",
       "      <td>case</td>\n",
       "      <td>well</td>\n",
       "      <td>shall</td>\n",
       "      <td>man</td>\n",
       "      <td>said</td>\n",
       "      <td>him</td>\n",
       "    </tr>\n",
       "    <tr>\n",
       "      <th>9</th>\n",
       "      <td>i</td>\n",
       "      <td>said</td>\n",
       "      <td>and</td>\n",
       "      <td>he</td>\n",
       "      <td>was</td>\n",
       "      <td>we</td>\n",
       "      <td>my</td>\n",
       "      <td>me</td>\n",
       "      <td>not</td>\n",
       "      <td>on</td>\n",
       "      <td>ravager</td>\n",
       "      <td>all</td>\n",
       "      <td>to</td>\n",
       "      <td>is</td>\n",
       "      <td>but</td>\n",
       "      <td>with</td>\n",
       "      <td>it</td>\n",
       "      <td>you</td>\n",
       "      <td>she</td>\n",
       "      <td>were</td>\n",
       "    </tr>\n",
       "  </tbody>\n",
       "</table>\n",
       "</div>"
      ],
      "text/plain": [
       "    0     1    2     3      4     5     6      7     8        9        10  \\\n",
       "0   he   his    a   her     in   was   she    but   him    conan     from   \n",
       "1  and    of  the    in      a    to  that  which   was       as       it   \n",
       "2  the    of  and  with     on  that     i    had  they     like     were   \n",
       "3   we   had  our   was   were   not   but     on  lake     this    those   \n",
       "4  the    of   to    in     is  that     a     we    be       it     this   \n",
       "5  and    he   in   his      i  that   was     of  said       is      him   \n",
       "6    i    he  you    it    his  that    is    was  have       my       we   \n",
       "7  the    to    a   for     at   and     s     be   had      out      one   \n",
       "8  the    an   as     a  there   his    he   when  them  through      are   \n",
       "9    i  said  and    he    was    we    my     me   not       on  ravager   \n",
       "\n",
       "        11     12     13     14      15     16     17      18     19  \n",
       "0      not    you     it     as    into     to  there       s   door  \n",
       "1       by     at     or      i     all   from   some   could   with  \n",
       "2  through   have   then  their    them    saw  black   among  about  \n",
       "3     have  their    old  there  though     to    one    than   over  \n",
       "4       as  which   have     at     for    but    all     and    not  \n",
       "5       it    all    but    you      as     up    not  little     on  \n",
       "6      but    him     in  there      me   upon    not    said    had  \n",
       "7    would     of   when   were     now   from     so    with   this  \n",
       "8      not     it  every   case    well  shall    man    said    him  \n",
       "9      all     to     is    but    with     it    you     she   were  "
      ]
     },
     "execution_count": 4,
     "metadata": {},
     "output_type": "execute_result"
    }
   ],
   "source": [
    "topics_keys = mal.show_topics_keys(output_folder, \"topic_keys.txt\")\n",
    "topics_keys"
   ]
  },
  {
   "cell_type": "markdown",
   "metadata": {},
   "source": [
    "##### Dokument-Topic Mapping von Mallet output erzeugen"
   ]
  },
  {
   "cell_type": "code",
   "execution_count": 2,
   "metadata": {
    "collapsed": false,
    "scrolled": true
   },
   "outputs": [
    {
     "ename": "ValueError",
     "evalue": "not enough values to unpack (expected at least 2, got 1)",
     "output_type": "error",
     "traceback": [
      "\u001b[0;31m---------------------------------------------------------------------------\u001b[0m",
      "\u001b[0;31mValueError\u001b[0m                                Traceback (most recent call last)",
      "\u001b[0;32m<ipython-input-2-828fc63a1175>\u001b[0m in \u001b[0;36m<module>\u001b[0;34m()\u001b[0m\n\u001b[1;32m      1\u001b[0m \u001b[0moutput_folder\u001b[0m \u001b[0;34m=\u001b[0m \u001b[0;34m'/home/sina/Uni/Dariah/DARIAH-Topics/Topics/tutorial_supplementals/mallet_output'\u001b[0m\u001b[0;34m\u001b[0m\u001b[0m\n\u001b[0;32m----> 2\u001b[0;31m \u001b[0mdocTopicMatrix\u001b[0m \u001b[0;34m=\u001b[0m \u001b[0mmal\u001b[0m\u001b[0;34m.\u001b[0m\u001b[0mshow_docTopicMatrix\u001b[0m\u001b[0;34m(\u001b[0m\u001b[0moutput_folder\u001b[0m\u001b[0;34m,\u001b[0m \u001b[0;34m\"doc_topics.txt\"\u001b[0m\u001b[0;34m)\u001b[0m\u001b[0;34m\u001b[0m\u001b[0m\n\u001b[0m\u001b[1;32m      3\u001b[0m \u001b[0mdocTopicMatrix\u001b[0m\u001b[0;34m\u001b[0m\u001b[0m\n",
      "\u001b[0;32m/home/sina/Uni/Dariah/DARIAH-Topics/Topics/dariah_topics/mallet.py\u001b[0m in \u001b[0;36mshow_docTopicMatrix\u001b[0;34m(output_folder, docTopicsFile)\u001b[0m\n\u001b[1;32m    219\u001b[0m             \u001b[0mli\u001b[0m\u001b[0;34m=\u001b[0m\u001b[0mline\u001b[0m\u001b[0;34m.\u001b[0m\u001b[0mlstrip\u001b[0m\u001b[0;34m(\u001b[0m\u001b[0;34m)\u001b[0m\u001b[0;34m\u001b[0m\u001b[0m\n\u001b[1;32m    220\u001b[0m             \u001b[0;32mif\u001b[0m \u001b[0mli\u001b[0m\u001b[0;34m.\u001b[0m\u001b[0mstartswith\u001b[0m\u001b[0;34m(\u001b[0m\u001b[0;34m\"#\"\u001b[0m\u001b[0;34m)\u001b[0m\u001b[0;34m:\u001b[0m\u001b[0;34m\u001b[0m\u001b[0m\n\u001b[0;32m--> 221\u001b[0;31m                 \u001b[0mdocnum\u001b[0m\u001b[0;34m,\u001b[0m \u001b[0mdocname\u001b[0m\u001b[0;34m,\u001b[0m \u001b[0;34m*\u001b[0m\u001b[0mvalues\u001b[0m \u001b[0;34m=\u001b[0m \u001b[0mline\u001b[0m\u001b[0;34m.\u001b[0m\u001b[0mrstrip\u001b[0m\u001b[0;34m(\u001b[0m\u001b[0;34m)\u001b[0m\u001b[0;34m.\u001b[0m\u001b[0msplit\u001b[0m\u001b[0;34m(\u001b[0m\u001b[0;34m'\\t'\u001b[0m\u001b[0;34m)\u001b[0m\u001b[0;34m\u001b[0m\u001b[0m\n\u001b[0m\u001b[1;32m    222\u001b[0m                 \u001b[0mmallet_docnames\u001b[0m\u001b[0;34m.\u001b[0m\u001b[0mappend\u001b[0m\u001b[0;34m(\u001b[0m\u001b[0mdocname\u001b[0m\u001b[0;34m)\u001b[0m\u001b[0;34m\u001b[0m\u001b[0m\n\u001b[1;32m    223\u001b[0m                 \u001b[0;32mfor\u001b[0m \u001b[0mtopic\u001b[0m\u001b[0;34m,\u001b[0m \u001b[0mshare\u001b[0m \u001b[0;32min\u001b[0m \u001b[0mgrouper\u001b[0m\u001b[0;34m(\u001b[0m\u001b[0;36m2\u001b[0m\u001b[0;34m,\u001b[0m \u001b[0mvalues\u001b[0m\u001b[0;34m)\u001b[0m\u001b[0;34m:\u001b[0m\u001b[0;34m\u001b[0m\u001b[0m\n",
      "\u001b[0;31mValueError\u001b[0m: not enough values to unpack (expected at least 2, got 1)"
     ]
    }
   ],
   "source": [
    "output_folder = '/home/sina/Uni/Dariah/DARIAH-Topics/Topics/tutorial_supplementals/mallet_output'\n",
    "docTopicMatrix = mal.show_docTopicMatrix(output_folder, \"doc_topics.txt\")\n",
    "docTopicMatrix"
   ]
  },
  {
   "cell_type": "code",
   "execution_count": 6,
   "metadata": {
    "collapsed": false
   },
   "outputs": [],
   "source": [
    "def makeLabelsForMalletOutput(pathtotopic_keys):\n",
    "    \n",
    "    import pandas as pd\n",
    "    df = pd.read_csv('tutorial_supplementals/mallet_output/topic_keys.txt', sep='\\t', header=None)\n",
    "    labels=[]\n",
    "    for index, item in df.iterrows():\n",
    "\n",
    "        label= ' '.join(item[2].split()[:3])\n",
    "        print(label)\n",
    "        return label"
   ]
  },
  {
   "cell_type": "markdown",
   "metadata": {
    "collapsed": true
   },
   "source": [
    "![success](http://cdn2.hubspot.net/hub/128506/file-446943132-jpg/images/computer_woman_success.jpg)"
   ]
  }
 ],
 "metadata": {
  "kernelspec": {
   "display_name": "Python 3",
   "language": "python",
   "name": "python3"
  },
  "language_info": {
   "codemirror_mode": {
    "name": "ipython",
    "version": 3
   },
   "file_extension": ".py",
   "mimetype": "text/x-python",
   "name": "python",
   "nbconvert_exporter": "python",
   "pygments_lexer": "ipython3",
   "version": "3.5.2"
  }
 },
 "nbformat": 4,
 "nbformat_minor": 0
}
