{
 "cells": [
  {
   "cell_type": "code",
   "execution_count": 1,
   "metadata": {
    "collapsed": false
   },
   "outputs": [
    {
     "name": "stderr",
     "output_type": "stream",
     "text": [
      "/usr/local/lib/python3.5/dist-packages/funcy/decorators.py:56: DeprecationWarning: inspect.getargspec() is deprecated, use inspect.signature() instead\n",
      "  spec = inspect.getargspec(func)\n",
      "/usr/local/lib/python3.5/dist-packages/funcy/decorators.py:56: DeprecationWarning: inspect.getargspec() is deprecated, use inspect.signature() instead\n",
      "  spec = inspect.getargspec(func)\n",
      "/usr/local/lib/python3.5/dist-packages/funcy/decorators.py:56: DeprecationWarning: inspect.getargspec() is deprecated, use inspect.signature() instead\n",
      "  spec = inspect.getargspec(func)\n",
      "/usr/local/lib/python3.5/dist-packages/funcy/decorators.py:56: DeprecationWarning: inspect.getargspec() is deprecated, use inspect.signature() instead\n",
      "  spec = inspect.getargspec(func)\n",
      "/usr/local/lib/python3.5/dist-packages/funcy/decorators.py:56: DeprecationWarning: inspect.getargspec() is deprecated, use inspect.signature() instead\n",
      "  spec = inspect.getargspec(func)\n",
      "/usr/local/lib/python3.5/dist-packages/funcy/decorators.py:56: DeprecationWarning: inspect.getargspec() is deprecated, use inspect.signature() instead\n",
      "  spec = inspect.getargspec(func)\n"
     ]
    }
   ],
   "source": [
    "from dariah_topics import preprocessing as pre\n",
    "from dariah_topics import visualization as visual\n",
    "from dariah_topics import mallet as mal\n",
    "from dariah_topics import evaluation"
   ]
  },
  {
   "cell_type": "markdown",
   "metadata": {},
   "source": [
    "## Preprocessing"
   ]
  },
  {
   "cell_type": "markdown",
   "metadata": {},
   "source": [
    "#### Liste mit Dateinamen erzeugen"
   ]
  },
  {
   "cell_type": "code",
   "execution_count": 2,
   "metadata": {
    "collapsed": false
   },
   "outputs": [
    {
     "data": {
      "text/plain": [
<<<<<<< HEAD
       "['corpus_txt/Poe_EurekaAProsePoem.txt',\n",
       " 'corpus_txt/Howard_TheDevilinIron.txt',\n",
       " 'corpus_txt/Lovecraft_TheShunnedHouse.txt',\n",
       " 'corpus_txt/Howard_SchadowsinZamboula.txt',\n",
       " 'corpus_txt/Doyle_AStudyinScarlet.txt']"
=======
       "['corpus_txt/Poe_ThePurloinedLetter.txt',\n",
       " 'corpus_txt/Lovecraft_TheShunnedHouse.txt',\n",
       " 'corpus_txt/Kipling_ThyServantaDog.txt',\n",
       " 'corpus_txt/Howard_ShadowsintheMoonlight.txt',\n",
       " 'corpus_txt/Howard_SchadowsinZamboula.txt']"
>>>>>>> 171e6c85af9b25d26aaebbea0a9ad07c7df84e89
      ]
     },
     "execution_count": 2,
     "metadata": {},
     "output_type": "execute_result"
    }
   ],
   "source": [
    "path_txt = \"corpus_txt\"\n",
    "#path_txt = \"grenzbote_plain/*/\"\n",
    "\n",
    "doclist_txt = pre.create_document_list(path_txt)\n",
    "assert doclist_txt, \"No documents found\"\n",
    "doclist_txt[:5]"
   ]
  },
  {
   "cell_type": "code",
   "execution_count": 3,
   "metadata": {
    "collapsed": false
   },
   "outputs": [
    {
     "data": {
      "text/plain": [
<<<<<<< HEAD
       "['corpus_csv/Howard_GodsoftheNorth.txt.csv',\n",
       " 'corpus_csv/Poe_EurekaAProsePoem.txt.csv',\n",
       " 'corpus_csv/Poe_TheMasqueoftheRedDeath.txt.csv',\n",
       " 'corpus_csv/Poe_ThePurloinedLetter.txt.csv',\n",
       " 'corpus_csv/Howard_ShadowsintheMoonlight.txt.csv']"
=======
       "['corpus_csv/Howard_ShadowsintheMoonlight.txt.csv',\n",
       " 'corpus_csv/Lovecraft_AttheMountainofMadness.txt.csv',\n",
       " 'corpus_csv/Poe_TheMasqueoftheRedDeath.txt.csv',\n",
       " 'corpus_csv/Doyle_AStudyinScarlet.txt.csv',\n",
       " 'corpus_csv/Poe_TheCaskofAmontillado.txt.csv']"
>>>>>>> 171e6c85af9b25d26aaebbea0a9ad07c7df84e89
      ]
     },
     "execution_count": 3,
     "metadata": {},
     "output_type": "execute_result"
    }
   ],
   "source": [
    "path_csv = \"corpus_csv\"\n",
    "\n",
    "doclist_csv = pre.create_document_list(path_csv, 'csv')\n",
    "doclist_csv[:5]"
   ]
  },
  {
   "cell_type": "code",
   "execution_count": 4,
   "metadata": {
    "collapsed": false
   },
   "outputs": [
    {
     "data": {
      "text/plain": [
       "['corpus_tei/Schnitzler_DerAndere.xml',\n",
<<<<<<< HEAD
       " 'corpus_tei/Schnitzler_DieFremde.xml',\n",
       " 'corpus_tei/Schnitzler_Amerika.xml',\n",
       " 'corpus_tei/Schnitzler_GeschichteeinesGenies.xml',\n",
=======
       " 'corpus_tei/Schnitzler_GeschichteeinesGenies.xml',\n",
       " 'corpus_tei/Schnitzler_DieFremde.xml',\n",
       " 'corpus_tei/Schnitzler_Amerika.xml',\n",
>>>>>>> 171e6c85af9b25d26aaebbea0a9ad07c7df84e89
       " 'corpus_tei/Schnitzler_DerWitwer.xml']"
      ]
     },
     "execution_count": 4,
     "metadata": {},
     "output_type": "execute_result"
    }
   ],
   "source": [
    "path_tei = \"corpus_tei\"\n",
    "\n",
    "doclist_tei = pre.create_document_list(path_tei, 'xml')\n",
    "doclist_tei[:5]"
   ]
  },
  {
   "cell_type": "markdown",
   "metadata": {},
   "source": [
    "#####  Liste mit Dokumentenlabels erzeugen - (Funktion wird durch Thorsten's generischere Funktion ersetzt)"
   ]
  },
  {
   "cell_type": "code",
   "execution_count": 5,
   "metadata": {
    "collapsed": false
   },
   "outputs": [
    {
     "data": {
      "text/plain": [
<<<<<<< HEAD
       "['corpus_txt/Poe_EurekaAProsePoem.txt',\n",
       " 'corpus_txt/Howard_TheDevilinIron.txt',\n",
       " 'corpus_txt/Lovecraft_TheShunnedHouse.txt',\n",
       " 'corpus_txt/Howard_SchadowsinZamboula.txt',\n",
       " 'corpus_txt/Doyle_AStudyinScarlet.txt']"
=======
       "['corpus_txt/Poe_ThePurloinedLetter.txt',\n",
       " 'corpus_txt/Lovecraft_TheShunnedHouse.txt',\n",
       " 'corpus_txt/Kipling_ThyServantaDog.txt',\n",
       " 'corpus_txt/Howard_ShadowsintheMoonlight.txt',\n",
       " 'corpus_txt/Howard_SchadowsinZamboula.txt']"
>>>>>>> 171e6c85af9b25d26aaebbea0a9ad07c7df84e89
      ]
     },
     "execution_count": 5,
     "metadata": {},
     "output_type": "execute_result"
    }
   ],
   "source": [
    "doc_labels = list(pre.get_labels(doclist_txt))\n",
    "doc_labels[:5]"
   ]
  },
  {
   "cell_type": "markdown",
   "metadata": {},
   "source": [
    "#### Corpus laden"
   ]
  },
  {
   "cell_type": "code",
   "execution_count": 6,
   "metadata": {
    "collapsed": false
   },
   "outputs": [],
   "source": [
    "corpus_txt = pre.read_from_txt(doclist_txt)"
   ]
  },
  {
   "cell_type": "code",
   "execution_count": 7,
   "metadata": {
    "collapsed": true
   },
   "outputs": [],
   "source": [
    "corpus_csv = pre.read_from_csv(doclist_csv)"
   ]
  },
  {
   "cell_type": "code",
   "execution_count": 8,
   "metadata": {
    "collapsed": true
   },
   "outputs": [],
   "source": [
    "corpus_tei = pre.read_from_tei(doclist_tei)"
   ]
  },
  {
   "cell_type": "markdown",
   "metadata": {},
   "source": [
    "#### Tokenisieren"
   ]
  },
  {
   "cell_type": "code",
   "execution_count": 9,
   "metadata": {
    "collapsed": false
   },
   "outputs": [
    {
     "data": {
      "text/plain": [
<<<<<<< HEAD
       "38     extensive\n",
       "60          _the\n",
       "64       strange\n",
       "108         best\n",
       "126         such\n",
=======
       "24    extensive\n",
       "44        swift\n",
       "50         tall\n",
       "54        heavy\n",
       "81         dark\n",
>>>>>>> 171e6c85af9b25d26aaebbea0a9ad07c7df84e89
       "Name: Lemma, dtype: object"
      ]
     },
     "execution_count": 9,
     "metadata": {},
     "output_type": "execute_result"
    }
   ],
   "source": [
    "doc_tokens = pre.filter_POS_tags(corpus_csv)\n",
    "list(doc_tokens)[0][:5]"
   ]
  },
  {
   "cell_type": "code",
   "execution_count": 10,
   "metadata": {
    "collapsed": false
   },
   "outputs": [
    {
     "data": {
      "text/plain": [
<<<<<<< HEAD
       "['eureka', 'prose', 'poem', 'by', 'edgar']"
=======
       "['the', 'purloined', 'letter', 'edgar', 'allan']"
>>>>>>> 171e6c85af9b25d26aaebbea0a9ad07c7df84e89
      ]
     },
     "execution_count": 10,
     "metadata": {},
     "output_type": "execute_result"
    }
   ],
   "source": [
    "doc_tokens = [list(pre.tokenize(txt)) for txt in list(corpus_txt)]\n",
    "doc_tokens[0][:5]"
   ]
  },
  {
   "cell_type": "code",
   "execution_count": 11,
   "metadata": {
    "collapsed": false
   },
   "outputs": [
    {
     "data": {
      "text/plain": [
       "['arthur', 'schnitzler', 'der', 'andere', 'aus']"
      ]
     },
     "execution_count": 11,
     "metadata": {},
     "output_type": "execute_result"
    }
   ],
   "source": [
    "doc_tokens = [list(pre.tokenize(tei)) for tei in list(corpus_tei)]\n",
    "doc_tokens[0][:5]"
   ]
  },
  {
   "cell_type": "markdown",
   "metadata": {},
   "source": [
    "#### Create Dictionaries"
   ]
  },
  {
   "cell_type": "code",
   "execution_count": 12,
   "metadata": {
    "collapsed": false
   },
   "outputs": [],
   "source": [
    "id_types, doc_ids = pre.create_dictionaries(doc_labels, doc_tokens)"
   ]
  },
  {
   "cell_type": "markdown",
   "metadata": {},
   "source": [
    "#### Sparse BOW Model"
   ]
  },
  {
   "cell_type": "code",
   "execution_count": 13,
   "metadata": {
    "collapsed": false
   },
   "outputs": [],
   "source": [
    "sparse_bow = pre.create_mm(doc_labels, doc_tokens, id_types, doc_ids)"
   ]
  },
  {
   "cell_type": "code",
   "execution_count": 14,
   "metadata": {
    "collapsed": false
   },
   "outputs": [
    {
     "data": {
      "text/html": [
       "<div>\n",
       "<table border=\"1\" class=\"dataframe\">\n",
       "  <thead>\n",
       "    <tr style=\"text-align: right;\">\n",
       "      <th></th>\n",
       "      <th></th>\n",
       "      <th>0</th>\n",
       "    </tr>\n",
       "    <tr>\n",
       "      <th>doc_id</th>\n",
       "      <th>token_id</th>\n",
       "      <th></th>\n",
       "    </tr>\n",
       "  </thead>\n",
       "  <tbody>\n",
       "    <tr>\n",
       "      <th rowspan=\"5\" valign=\"top\">1</th>\n",
<<<<<<< HEAD
       "      <th>2</th>\n",
       "      <td>1</td>\n",
       "    </tr>\n",
       "    <tr>\n",
       "      <th>2731</th>\n",
       "      <td>1</td>\n",
       "    </tr>\n",
       "    <tr>\n",
       "      <th>5</th>\n",
       "      <td>1</td>\n",
       "    </tr>\n",
       "    <tr>\n",
       "      <th>9</th>\n",
       "      <td>1</td>\n",
       "    </tr>\n",
       "    <tr>\n",
       "      <th>2058</th>\n",
=======
       "      <th>409</th>\n",
       "      <td>1</td>\n",
       "    </tr>\n",
       "    <tr>\n",
       "      <th>2</th>\n",
       "      <td>1</td>\n",
       "    </tr>\n",
       "    <tr>\n",
       "      <th>3</th>\n",
       "      <td>1</td>\n",
       "    </tr>\n",
       "    <tr>\n",
       "      <th>4</th>\n",
       "      <td>1</td>\n",
       "    </tr>\n",
       "    <tr>\n",
       "      <th>2053</th>\n",
>>>>>>> 171e6c85af9b25d26aaebbea0a9ad07c7df84e89
       "      <td>1</td>\n",
       "    </tr>\n",
       "  </tbody>\n",
       "</table>\n",
       "</div>"
      ],
      "text/plain": [
       "                 0\n",
       "doc_id token_id   \n",
<<<<<<< HEAD
       "1      2         1\n",
       "       2731      1\n",
       "       5         1\n",
       "       9         1\n",
       "       2058      1"
=======
       "1      409       1\n",
       "       2         1\n",
       "       3         1\n",
       "       4         1\n",
       "       2053      1"
>>>>>>> 171e6c85af9b25d26aaebbea0a9ad07c7df84e89
      ]
     },
     "execution_count": 14,
     "metadata": {},
     "output_type": "execute_result"
    }
   ],
   "source": [
    "sparse_bow[:5]"
   ]
  },
  {
   "cell_type": "markdown",
   "metadata": {},
   "source": [
    "#### Convert to Doc-Topic Matrix"
   ]
  },
  {
   "cell_type": "code",
   "execution_count": 15,
   "metadata": {
    "collapsed": false
   },
   "outputs": [
    {
     "data": {
      "text/plain": [
       "'import pandas as pd\\n\\ndoc2id = {value : key for key, value in doc_ids.items()}\\ntype2id = {value : key for key, value in id_types.items()}\\n\\ncols = [doc2id[key] for key in set(sparse_bow.index.get_level_values(\"doc_id\"))]\\n#idx = [type2id[key] for key in set(sparse_bow.index.get_level_values(\"token_id\"))]\\n\\nset(sparse_bow.index.get_level_values(\"token_id\"))\\n\\n#doctopic_matrix = pd.DataFrame(columns=cols, index=idx)'"
      ]
     },
     "execution_count": 15,
     "metadata": {},
     "output_type": "execute_result"
    }
   ],
   "source": [
    "'''import pandas as pd\n",
    "\n",
    "doc2id = {value : key for key, value in doc_ids.items()}\n",
    "type2id = {value : key for key, value in id_types.items()}\n",
    "\n",
    "cols = [doc2id[key] for key in set(sparse_bow.index.get_level_values(\"doc_id\"))]\n",
    "#idx = [type2id[key] for key in set(sparse_bow.index.get_level_values(\"token_id\"))]\n",
    "\n",
    "set(sparse_bow.index.get_level_values(\"token_id\"))\n",
    "\n",
    "#doctopic_matrix = pd.DataFrame(columns=cols, index=idx)'''"
   ]
  },
  {
   "cell_type": "markdown",
   "metadata": {},
   "source": [
    "#### Remove Features"
   ]
  },
  {
   "cell_type": "code",
   "execution_count": 16,
   "metadata": {
    "collapsed": true
   },
   "outputs": [],
   "source": [
    "import os.path\n",
    "basepath = os.path.abspath('.')\n",
    "\n",
    "with open(os.path.join(basepath, \"tutorial_supplementals\", \"stopwords\", \"en.txt\"), 'r', encoding = 'utf-8') as f: \n",
    "    stopword_list = f.read().split('\\n')\n",
    "    \n",
    "stopword_list = set(stopword_list)"
   ]
  },
  {
   "cell_type": "code",
   "execution_count": 17,
   "metadata": {
    "collapsed": false
   },
   "outputs": [],
   "source": [
    "sparse_df_stopwords_removed = pre.remove_features(sparse_bow, id_types, stopword_list)"
   ]
  },
  {
   "cell_type": "code",
   "execution_count": 18,
   "metadata": {
    "collapsed": false
   },
   "outputs": [
    {
     "name": "stdout",
     "output_type": "stream",
     "text": [
      "2989\n",
      "2948\n"
     ]
    }
   ],
   "source": [
    "print(len(sparse_bow))\n",
    "print(len(sparse_df_stopwords_removed))"
   ]
  },
  {
   "cell_type": "markdown",
   "metadata": {},
   "source": [
    "##### Create Feature Remove Lists"
   ]
  },
  {
   "cell_type": "code",
   "execution_count": 19,
   "metadata": {
    "collapsed": false
   },
   "outputs": [
    {
     "data": {
      "text/plain": [
       "100"
      ]
     },
     "execution_count": 19,
     "metadata": {},
     "output_type": "execute_result"
    }
   ],
   "source": [
    "stopword_list = pre.find_stopwords(sparse_bow, id_types, 100)\n",
    "len(stopword_list)"
   ]
  },
  {
   "cell_type": "code",
   "execution_count": 20,
   "metadata": {
    "collapsed": false
   },
   "outputs": [
    {
     "data": {
      "text/plain": [
       "1877"
      ]
     },
     "execution_count": 20,
     "metadata": {},
     "output_type": "execute_result"
    }
   ],
   "source": [
    "hapax_list = pre.find_hapax(sparse_bow, id_types)\n",
    "len(hapax_list)"
   ]
  },
  {
   "cell_type": "markdown",
   "metadata": {},
   "source": [
    "##### Remove Features"
   ]
  },
  {
   "cell_type": "code",
   "execution_count": 21,
   "metadata": {
    "collapsed": false
   },
   "outputs": [],
   "source": [
    "feature_list = set(stopword_list).union(hapax_list)\n",
    "clean_term_frequency = pre.remove_features(sparse_bow, id_types, feature_list)"
   ]
  },
  {
   "cell_type": "code",
   "execution_count": 22,
   "metadata": {
    "collapsed": false
   },
   "outputs": [
    {
     "data": {
      "text/plain": [
<<<<<<< HEAD
       "348"
=======
       "344"
>>>>>>> 171e6c85af9b25d26aaebbea0a9ad07c7df84e89
      ]
     },
     "execution_count": 22,
     "metadata": {},
     "output_type": "execute_result"
    }
   ],
   "source": [
    "len(clean_term_frequency)"
   ]
  },
  {
   "cell_type": "markdown",
   "metadata": {},
   "source": [
    "## Topic Modeling with Gensim"
   ]
  },
  {
   "cell_type": "markdown",
   "metadata": {},
   "source": [
    "##### Saving Sparse BOW"
   ]
  },
  {
   "cell_type": "code",
   "execution_count": 23,
   "metadata": {
    "collapsed": false
   },
   "outputs": [],
   "source": [
    "#num_docs = max(sparse_bow.index.get_level_values(\"doc_id\"))\n",
    "#num_types = max(sparse_bow.index.get_level_values(\"token_id\"))\n",
    "#sum_counts = sum(sparse_bow[0])\n",
    "\n",
    "#header_string = str(num_docs) + \" \" + str(num_types) + \" \" + str(sum_counts) + \"\\n\"\n",
    "\n",
    "#with open(\"gb_plain.mm\", 'w', encoding = \"utf-8\") as f:\n",
    "#    pass\n",
    "\n",
    "#with open(\"gb_plain.mm\", 'a', encoding = \"utf-8\") as f:\n",
    "#    f.write(\"%%MatrixMarket matrix coordinate real general\\n\")\n",
    "#    f.write(header_string)\n",
    "#    sparse_bow.to_csv( f, sep = ' ', header = None)\n",
    "\n",
    "pre.save_bow_mm(sparse_bow)"
   ]
  },
  {
   "cell_type": "markdown",
   "metadata": {},
   "source": [
    "#### Import Market Matrix"
   ]
  },
  {
   "cell_type": "code",
   "execution_count": 24,
   "metadata": {
    "collapsed": true
   },
   "outputs": [],
   "source": [
    "from gensim.models import LdaModel\n",
    "from gensim.corpora import MmCorpus"
   ]
  },
  {
   "cell_type": "code",
   "execution_count": 25,
   "metadata": {
    "collapsed": false
   },
   "outputs": [],
   "source": [
    "mm = MmCorpus(\"gb_plain.mm\")"
   ]
  },
  {
   "cell_type": "code",
   "execution_count": 26,
   "metadata": {
    "collapsed": true
   },
   "outputs": [],
   "source": [
    "#in case you're only loading the corpus - build dict first\n",
    "\n",
    "#import pickle\n",
    "\n",
    "#pickle.dump( id_types, open( \"gb_plain.dictionary\", \"wb\" ) )"
   ]
  },
  {
   "cell_type": "code",
   "execution_count": 27,
   "metadata": {
    "collapsed": false
   },
   "outputs": [],
   "source": [
    "#id_types = pickle.load(open(\"gb_plain.dictionary\", 'rb'))"
   ]
  },
  {
   "cell_type": "code",
   "execution_count": 28,
   "metadata": {
    "collapsed": true
   },
   "outputs": [],
   "source": [
    "#mm = gensim.corpora.MmCorpus(\"gb_all.mm\")"
   ]
  },
  {
   "cell_type": "code",
   "execution_count": 29,
   "metadata": {
    "collapsed": true
   },
   "outputs": [],
   "source": [
    "#id_types = pickle.load(open(\"gb_all.dictionary\", 'rb'))"
   ]
  },
  {
   "cell_type": "code",
   "execution_count": 30,
   "metadata": {
    "collapsed": false
   },
   "outputs": [],
   "source": [
    "doc2id = {value : key for key, value in doc_ids.items()}\n",
    "type2id = {value : key for key, value in id_types.items()}"
   ]
  },
  {
   "cell_type": "code",
   "execution_count": 31,
   "metadata": {
    "collapsed": false
   },
   "outputs": [
    {
     "name": "stderr",
     "output_type": "stream",
     "text": [
      "WARNING gensim.models.ldamodel: too few updates, training might not converge; consider increasing the number of passes or iterations to improve accuracy\n"
     ]
    }
   ],
   "source": [
    "#model = LdaModel(corpus=mm, id2word=type2id, num_topics=60, alpha = \"symmetric\", passes = 10) #import momentan in visual \n",
    "# -> da ich mir noch nicht sicher bin, welche Funktionen in das tm_gensim.py sollen\n",
    "model = LdaModel(corpus=mm, id2word=type2id, num_topics=10)"
   ]
  },
  {
   "cell_type": "code",
   "execution_count": 32,
   "metadata": {
    "collapsed": false
   },
   "outputs": [
    {
     "data": {
      "text/plain": [
<<<<<<< HEAD
       "['verbindet',\n",
       " 'reich',\n",
       " 'glaubt',\n",
       " 'wüßten',\n",
       " 'anfangs',\n",
       " 'herauszwingen',\n",
       " 'handschuhen',\n",
       " 'hohen',\n",
       " 'schuldig',\n",
       " 'wenigen']"
=======
       "['jemanden',\n",
       " 'völlig',\n",
       " 'entgegen',\n",
       " 'fällt',\n",
       " 'new',\n",
       " 'traurige',\n",
       " 'italienische',\n",
       " 'groß',\n",
       " 'gefestigte',\n",
       " 'begleitete']"
>>>>>>> 171e6c85af9b25d26aaebbea0a9ad07c7df84e89
      ]
     },
     "execution_count": 32,
     "metadata": {},
     "output_type": "execute_result"
    }
   ],
   "source": [
    "#Anzeige der keywords für topic n\n",
    "n = 1\n",
    "topic_nr_x = model.get_topic_terms(n)\n",
    "\n",
    "topicTerms = [type2id[i[0]] for i in topic_nr_x]\n",
    "topicTerms"
   ]
  },
  {
   "cell_type": "code",
   "execution_count": 33,
   "metadata": {
    "collapsed": false
   },
   "outputs": [
    {
     "data": {
      "text/plain": [
       "'n = 0\\nfor key, value in type2id.items():\\n    if value == topicTerms[n]:\\n        print(key)'"
      ]
     },
     "execution_count": 33,
     "metadata": {},
     "output_type": "execute_result"
    }
   ],
   "source": [
    "#Anzeige der id des ersten keywords aus dem topic\n",
    "'''n = 0\n",
    "for key, value in type2id.items():\n",
    "    if value == topicTerms[n]:\n",
    "        print(key)'''"
   ]
  },
  {
   "cell_type": "code",
   "execution_count": 34,
   "metadata": {
    "collapsed": false
   },
   "outputs": [
    {
     "data": {
      "text/plain": [
       "'n = 0\\ntopicN = model.get_topic_terms(n)\\ntopicN'"
      ]
     },
     "execution_count": 34,
     "metadata": {},
     "output_type": "execute_result"
    }
   ],
   "source": [
    "#Gensim-Funktion -> Anzeige des word_id-probability-mappings eines topics n\n",
    "'''n = 0\n",
    "topicN = model.get_topic_terms(n)\n",
    "topicN'''"
   ]
  },
  {
   "cell_type": "code",
   "execution_count": 35,
   "metadata": {
    "collapsed": false
   },
   "outputs": [
    {
     "data": {
      "text/plain": [
       "[(0,\n",
<<<<<<< HEAD
       "  '0.027*\"verbindet\" + 0.020*\"anfangs\" + 0.019*\"herauszwingen\" + 0.017*\"glaubt\" + 0.017*\"reich\" + 0.014*\"wüßten\" + 0.013*\"handschuhen\" + 0.012*\"schuldig\" + 0.011*\"öffnet\" + 0.010*\"ob\"'),\n",
       " (1,\n",
       "  '0.022*\"verbindet\" + 0.016*\"reich\" + 0.016*\"glaubt\" + 0.016*\"wüßten\" + 0.016*\"anfangs\" + 0.013*\"herauszwingen\" + 0.011*\"handschuhen\" + 0.011*\"hohen\" + 0.010*\"schuldig\" + 0.010*\"wenigen\"')]"
=======
       "  '0.020*\"traurige\" + 0.020*\"völlig\" + 0.020*\"entgegen\" + 0.019*\"new\" + 0.017*\"begleitete\" + 0.013*\"fällt\" + 0.013*\"jemanden\" + 0.011*\"gefestigte\" + 0.010*\"groß\" + 0.010*\"später\"'),\n",
       " (1,\n",
       "  '0.012*\"jemanden\" + 0.012*\"völlig\" + 0.011*\"entgegen\" + 0.010*\"fällt\" + 0.010*\"new\" + 0.009*\"traurige\" + 0.008*\"italienische\" + 0.008*\"groß\" + 0.008*\"gefestigte\" + 0.008*\"begleitete\"')]"
>>>>>>> 171e6c85af9b25d26aaebbea0a9ad07c7df84e89
      ]
     },
     "execution_count": 35,
     "metadata": {},
     "output_type": "execute_result"
    }
   ],
   "source": [
    "#Topic probabilities\n",
    "topics = model.show_topics(num_topics = 10)\n",
    "topics[:2]"
   ]
  },
  {
   "cell_type": "code",
   "execution_count": 36,
   "metadata": {
    "collapsed": false
   },
   "outputs": [
    {
     "data": {
      "text/html": [
       "<div>\n",
       "<table border=\"1\" class=\"dataframe\">\n",
       "  <thead>\n",
       "    <tr style=\"text-align: right;\">\n",
       "      <th></th>\n",
       "      <th>0</th>\n",
       "    </tr>\n",
       "  </thead>\n",
       "  <tbody>\n",
       "    <tr>\n",
       "      <th>0</th>\n",
<<<<<<< HEAD
       "      <td>1.0</td>\n",
       "    </tr>\n",
       "    <tr>\n",
       "      <th>1</th>\n",
       "      <td>1.0</td>\n",
       "    </tr>\n",
       "    <tr>\n",
       "      <th>2</th>\n",
       "      <td>1.0</td>\n",
       "    </tr>\n",
       "    <tr>\n",
       "      <th>3</th>\n",
       "      <td>1.0</td>\n",
       "    </tr>\n",
       "    <tr>\n",
       "      <th>4</th>\n",
       "      <td>1.0</td>\n",
       "    </tr>\n",
       "    <tr>\n",
       "      <th>5</th>\n",
       "      <td>3.0</td>\n",
       "    </tr>\n",
       "    <tr>\n",
       "      <th>6</th>\n",
       "      <td>1.0</td>\n",
       "    </tr>\n",
       "    <tr>\n",
       "      <th>7</th>\n",
       "      <td>1.0</td>\n",
       "    </tr>\n",
       "    <tr>\n",
       "      <th>8</th>\n",
       "      <td>1.0</td>\n",
       "    </tr>\n",
       "    <tr>\n",
       "      <th>9</th>\n",
       "      <td>1.0</td>\n",
       "    </tr>\n",
       "    <tr>\n",
       "      <th>10</th>\n",
       "      <td>2.0</td>\n",
       "    </tr>\n",
       "    <tr>\n",
       "      <th>11</th>\n",
       "      <td>1.0</td>\n",
       "    </tr>\n",
       "    <tr>\n",
       "      <th>12</th>\n",
       "      <td>1.0</td>\n",
       "    </tr>\n",
       "    <tr>\n",
       "      <th>13</th>\n",
       "      <td>50.0</td>\n",
       "    </tr>\n",
       "    <tr>\n",
       "      <th>14</th>\n",
       "      <td>2.0</td>\n",
       "    </tr>\n",
       "    <tr>\n",
       "      <th>15</th>\n",
       "      <td>1.0</td>\n",
       "    </tr>\n",
       "    <tr>\n",
       "      <th>16</th>\n",
       "      <td>1.0</td>\n",
       "    </tr>\n",
       "    <tr>\n",
       "      <th>17</th>\n",
       "      <td>1.0</td>\n",
       "    </tr>\n",
       "    <tr>\n",
       "      <th>18</th>\n",
       "      <td>1.0</td>\n",
       "    </tr>\n",
       "    <tr>\n",
       "      <th>19</th>\n",
       "      <td>1.0</td>\n",
       "    </tr>\n",
       "    <tr>\n",
       "      <th>20</th>\n",
       "      <td>1.0</td>\n",
       "    </tr>\n",
       "    <tr>\n",
       "      <th>21</th>\n",
       "      <td>1.0</td>\n",
       "    </tr>\n",
       "    <tr>\n",
       "      <th>22</th>\n",
       "      <td>1.0</td>\n",
       "    </tr>\n",
       "    <tr>\n",
       "      <th>23</th>\n",
       "      <td>1.0</td>\n",
       "    </tr>\n",
       "    <tr>\n",
       "      <th>24</th>\n",
       "      <td>1.0</td>\n",
       "    </tr>\n",
       "    <tr>\n",
       "      <th>25</th>\n",
       "      <td>1.0</td>\n",
       "    </tr>\n",
       "    <tr>\n",
       "      <th>26</th>\n",
       "      <td>3.0</td>\n",
       "    </tr>\n",
       "    <tr>\n",
       "      <th>27</th>\n",
       "      <td>1.0</td>\n",
       "    </tr>\n",
       "    <tr>\n",
       "      <th>28</th>\n",
       "      <td>4.0</td>\n",
       "    </tr>\n",
       "    <tr>\n",
       "      <th>29</th>\n",
       "      <td>1.0</td>\n",
=======
       "      <td>1</td>\n",
       "    </tr>\n",
       "    <tr>\n",
       "      <th>1</th>\n",
       "      <td>1</td>\n",
       "    </tr>\n",
       "    <tr>\n",
       "      <th>2</th>\n",
       "      <td>1</td>\n",
       "    </tr>\n",
       "    <tr>\n",
       "      <th>3</th>\n",
       "      <td>1</td>\n",
       "    </tr>\n",
       "    <tr>\n",
       "      <th>4</th>\n",
       "      <td>1</td>\n",
       "    </tr>\n",
       "    <tr>\n",
       "      <th>5</th>\n",
       "      <td>1</td>\n",
       "    </tr>\n",
       "    <tr>\n",
       "      <th>6</th>\n",
       "      <td>1</td>\n",
       "    </tr>\n",
       "    <tr>\n",
       "      <th>7</th>\n",
       "      <td>1</td>\n",
       "    </tr>\n",
       "    <tr>\n",
       "      <th>8</th>\n",
       "      <td>1</td>\n",
       "    </tr>\n",
       "    <tr>\n",
       "      <th>9</th>\n",
       "      <td>5</td>\n",
       "    </tr>\n",
       "    <tr>\n",
       "      <th>10</th>\n",
       "      <td>1</td>\n",
       "    </tr>\n",
       "    <tr>\n",
       "      <th>11</th>\n",
       "      <td>1</td>\n",
       "    </tr>\n",
       "    <tr>\n",
       "      <th>12</th>\n",
       "      <td>1</td>\n",
       "    </tr>\n",
       "    <tr>\n",
       "      <th>13</th>\n",
       "      <td>3</td>\n",
       "    </tr>\n",
       "    <tr>\n",
       "      <th>14</th>\n",
       "      <td>28</td>\n",
       "    </tr>\n",
       "    <tr>\n",
       "      <th>15</th>\n",
       "      <td>1</td>\n",
       "    </tr>\n",
       "    <tr>\n",
       "      <th>16</th>\n",
       "      <td>2</td>\n",
       "    </tr>\n",
       "    <tr>\n",
       "      <th>17</th>\n",
       "      <td>1</td>\n",
       "    </tr>\n",
       "    <tr>\n",
       "      <th>18</th>\n",
       "      <td>1</td>\n",
       "    </tr>\n",
       "    <tr>\n",
       "      <th>19</th>\n",
       "      <td>6</td>\n",
       "    </tr>\n",
       "    <tr>\n",
       "      <th>20</th>\n",
       "      <td>1</td>\n",
       "    </tr>\n",
       "    <tr>\n",
       "      <th>21</th>\n",
       "      <td>3</td>\n",
       "    </tr>\n",
       "    <tr>\n",
       "      <th>22</th>\n",
       "      <td>1</td>\n",
       "    </tr>\n",
       "    <tr>\n",
       "      <th>23</th>\n",
       "      <td>5</td>\n",
       "    </tr>\n",
       "    <tr>\n",
       "      <th>24</th>\n",
       "      <td>23</td>\n",
       "    </tr>\n",
       "    <tr>\n",
       "      <th>25</th>\n",
       "      <td>6</td>\n",
       "    </tr>\n",
       "    <tr>\n",
       "      <th>26</th>\n",
       "      <td>1</td>\n",
       "    </tr>\n",
       "    <tr>\n",
       "      <th>27</th>\n",
       "      <td>1</td>\n",
       "    </tr>\n",
       "    <tr>\n",
       "      <th>28</th>\n",
       "      <td>1</td>\n",
       "    </tr>\n",
       "    <tr>\n",
       "      <th>29</th>\n",
       "      <td>2</td>\n",
>>>>>>> 171e6c85af9b25d26aaebbea0a9ad07c7df84e89
       "    </tr>\n",
       "    <tr>\n",
       "      <th>...</th>\n",
       "      <td>...</td>\n",
       "    </tr>\n",
       "    <tr>\n",
       "      <th>2959</th>\n",
<<<<<<< HEAD
       "      <td>1.0</td>\n",
       "    </tr>\n",
       "    <tr>\n",
       "      <th>2960</th>\n",
       "      <td>1.0</td>\n",
       "    </tr>\n",
       "    <tr>\n",
       "      <th>2961</th>\n",
       "      <td>1.0</td>\n",
       "    </tr>\n",
       "    <tr>\n",
       "      <th>2962</th>\n",
       "      <td>3.0</td>\n",
       "    </tr>\n",
       "    <tr>\n",
       "      <th>2963</th>\n",
       "      <td>1.0</td>\n",
       "    </tr>\n",
       "    <tr>\n",
       "      <th>2964</th>\n",
       "      <td>1.0</td>\n",
       "    </tr>\n",
       "    <tr>\n",
       "      <th>2965</th>\n",
       "      <td>8.0</td>\n",
       "    </tr>\n",
       "    <tr>\n",
       "      <th>2966</th>\n",
       "      <td>1.0</td>\n",
       "    </tr>\n",
       "    <tr>\n",
       "      <th>2967</th>\n",
       "      <td>1.0</td>\n",
       "    </tr>\n",
       "    <tr>\n",
       "      <th>2968</th>\n",
       "      <td>1.0</td>\n",
       "    </tr>\n",
       "    <tr>\n",
       "      <th>2969</th>\n",
       "      <td>1.0</td>\n",
       "    </tr>\n",
       "    <tr>\n",
       "      <th>2970</th>\n",
       "      <td>1.0</td>\n",
       "    </tr>\n",
       "    <tr>\n",
       "      <th>2971</th>\n",
       "      <td>2.0</td>\n",
       "    </tr>\n",
       "    <tr>\n",
       "      <th>2972</th>\n",
       "      <td>1.0</td>\n",
       "    </tr>\n",
       "    <tr>\n",
       "      <th>2973</th>\n",
       "      <td>1.0</td>\n",
       "    </tr>\n",
       "    <tr>\n",
       "      <th>2974</th>\n",
       "      <td>1.0</td>\n",
       "    </tr>\n",
       "    <tr>\n",
       "      <th>2975</th>\n",
       "      <td>5.0</td>\n",
       "    </tr>\n",
       "    <tr>\n",
       "      <th>2976</th>\n",
       "      <td>1.0</td>\n",
       "    </tr>\n",
       "    <tr>\n",
       "      <th>2977</th>\n",
       "      <td>1.0</td>\n",
       "    </tr>\n",
       "    <tr>\n",
       "      <th>2978</th>\n",
       "      <td>1.0</td>\n",
       "    </tr>\n",
       "    <tr>\n",
       "      <th>2979</th>\n",
       "      <td>1.0</td>\n",
       "    </tr>\n",
       "    <tr>\n",
       "      <th>2980</th>\n",
       "      <td>4.0</td>\n",
       "    </tr>\n",
       "    <tr>\n",
       "      <th>2981</th>\n",
       "      <td>1.0</td>\n",
       "    </tr>\n",
       "    <tr>\n",
       "      <th>2982</th>\n",
       "      <td>12.0</td>\n",
       "    </tr>\n",
       "    <tr>\n",
       "      <th>2983</th>\n",
       "      <td>1.0</td>\n",
       "    </tr>\n",
       "    <tr>\n",
       "      <th>2984</th>\n",
       "      <td>2.0</td>\n",
       "    </tr>\n",
       "    <tr>\n",
       "      <th>2985</th>\n",
       "      <td>1.0</td>\n",
       "    </tr>\n",
       "    <tr>\n",
       "      <th>2986</th>\n",
       "      <td>1.0</td>\n",
       "    </tr>\n",
       "    <tr>\n",
       "      <th>2987</th>\n",
       "      <td>1.0</td>\n",
       "    </tr>\n",
       "    <tr>\n",
       "      <th>2988</th>\n",
       "      <td>1.0</td>\n",
=======
       "      <td>1</td>\n",
       "    </tr>\n",
       "    <tr>\n",
       "      <th>2960</th>\n",
       "      <td>1</td>\n",
       "    </tr>\n",
       "    <tr>\n",
       "      <th>2961</th>\n",
       "      <td>1</td>\n",
       "    </tr>\n",
       "    <tr>\n",
       "      <th>2962</th>\n",
       "      <td>1</td>\n",
       "    </tr>\n",
       "    <tr>\n",
       "      <th>2963</th>\n",
       "      <td>1</td>\n",
       "    </tr>\n",
       "    <tr>\n",
       "      <th>2964</th>\n",
       "      <td>1</td>\n",
       "    </tr>\n",
       "    <tr>\n",
       "      <th>2965</th>\n",
       "      <td>1</td>\n",
       "    </tr>\n",
       "    <tr>\n",
       "      <th>2966</th>\n",
       "      <td>1</td>\n",
       "    </tr>\n",
       "    <tr>\n",
       "      <th>2967</th>\n",
       "      <td>1</td>\n",
       "    </tr>\n",
       "    <tr>\n",
       "      <th>2968</th>\n",
       "      <td>1</td>\n",
       "    </tr>\n",
       "    <tr>\n",
       "      <th>2969</th>\n",
       "      <td>2</td>\n",
       "    </tr>\n",
       "    <tr>\n",
       "      <th>2970</th>\n",
       "      <td>1</td>\n",
       "    </tr>\n",
       "    <tr>\n",
       "      <th>2971</th>\n",
       "      <td>1</td>\n",
       "    </tr>\n",
       "    <tr>\n",
       "      <th>2972</th>\n",
       "      <td>2</td>\n",
       "    </tr>\n",
       "    <tr>\n",
       "      <th>2973</th>\n",
       "      <td>1</td>\n",
       "    </tr>\n",
       "    <tr>\n",
       "      <th>2974</th>\n",
       "      <td>1</td>\n",
       "    </tr>\n",
       "    <tr>\n",
       "      <th>2975</th>\n",
       "      <td>1</td>\n",
       "    </tr>\n",
       "    <tr>\n",
       "      <th>2976</th>\n",
       "      <td>1</td>\n",
       "    </tr>\n",
       "    <tr>\n",
       "      <th>2977</th>\n",
       "      <td>1</td>\n",
       "    </tr>\n",
       "    <tr>\n",
       "      <th>2978</th>\n",
       "      <td>1</td>\n",
       "    </tr>\n",
       "    <tr>\n",
       "      <th>2979</th>\n",
       "      <td>1</td>\n",
       "    </tr>\n",
       "    <tr>\n",
       "      <th>2980</th>\n",
       "      <td>3</td>\n",
       "    </tr>\n",
       "    <tr>\n",
       "      <th>2981</th>\n",
       "      <td>1</td>\n",
       "    </tr>\n",
       "    <tr>\n",
       "      <th>2982</th>\n",
       "      <td>1</td>\n",
       "    </tr>\n",
       "    <tr>\n",
       "      <th>2983</th>\n",
       "      <td>1</td>\n",
       "    </tr>\n",
       "    <tr>\n",
       "      <th>2984</th>\n",
       "      <td>4</td>\n",
       "    </tr>\n",
       "    <tr>\n",
       "      <th>2985</th>\n",
       "      <td>1</td>\n",
       "    </tr>\n",
       "    <tr>\n",
       "      <th>2986</th>\n",
       "      <td>1</td>\n",
       "    </tr>\n",
       "    <tr>\n",
       "      <th>2987</th>\n",
       "      <td>5</td>\n",
       "    </tr>\n",
       "    <tr>\n",
       "      <th>2988</th>\n",
       "      <td>8</td>\n",
>>>>>>> 171e6c85af9b25d26aaebbea0a9ad07c7df84e89
       "    </tr>\n",
       "  </tbody>\n",
       "</table>\n",
       "<p>2989 rows × 1 columns</p>\n",
       "</div>"
      ],
      "text/plain": [
<<<<<<< HEAD
       "         0\n",
       "0      1.0\n",
       "1      1.0\n",
       "2      1.0\n",
       "3      1.0\n",
       "4      1.0\n",
       "5      3.0\n",
       "6      1.0\n",
       "7      1.0\n",
       "8      1.0\n",
       "9      1.0\n",
       "10     2.0\n",
       "11     1.0\n",
       "12     1.0\n",
       "13    50.0\n",
       "14     2.0\n",
       "15     1.0\n",
       "16     1.0\n",
       "17     1.0\n",
       "18     1.0\n",
       "19     1.0\n",
       "20     1.0\n",
       "21     1.0\n",
       "22     1.0\n",
       "23     1.0\n",
       "24     1.0\n",
       "25     1.0\n",
       "26     3.0\n",
       "27     1.0\n",
       "28     4.0\n",
       "29     1.0\n",
       "...    ...\n",
       "2959   1.0\n",
       "2960   1.0\n",
       "2961   1.0\n",
       "2962   3.0\n",
       "2963   1.0\n",
       "2964   1.0\n",
       "2965   8.0\n",
       "2966   1.0\n",
       "2967   1.0\n",
       "2968   1.0\n",
       "2969   1.0\n",
       "2970   1.0\n",
       "2971   2.0\n",
       "2972   1.0\n",
       "2973   1.0\n",
       "2974   1.0\n",
       "2975   5.0\n",
       "2976   1.0\n",
       "2977   1.0\n",
       "2978   1.0\n",
       "2979   1.0\n",
       "2980   4.0\n",
       "2981   1.0\n",
       "2982  12.0\n",
       "2983   1.0\n",
       "2984   2.0\n",
       "2985   1.0\n",
       "2986   1.0\n",
       "2987   1.0\n",
       "2988   1.0\n",
=======
       "       0\n",
       "0      1\n",
       "1      1\n",
       "2      1\n",
       "3      1\n",
       "4      1\n",
       "5      1\n",
       "6      1\n",
       "7      1\n",
       "8      1\n",
       "9      5\n",
       "10     1\n",
       "11     1\n",
       "12     1\n",
       "13     3\n",
       "14    28\n",
       "15     1\n",
       "16     2\n",
       "17     1\n",
       "18     1\n",
       "19     6\n",
       "20     1\n",
       "21     3\n",
       "22     1\n",
       "23     5\n",
       "24    23\n",
       "25     6\n",
       "26     1\n",
       "27     1\n",
       "28     1\n",
       "29     2\n",
       "...   ..\n",
       "2959   1\n",
       "2960   1\n",
       "2961   1\n",
       "2962   1\n",
       "2963   1\n",
       "2964   1\n",
       "2965   1\n",
       "2966   1\n",
       "2967   1\n",
       "2968   1\n",
       "2969   2\n",
       "2970   1\n",
       "2971   1\n",
       "2972   2\n",
       "2973   1\n",
       "2974   1\n",
       "2975   1\n",
       "2976   1\n",
       "2977   1\n",
       "2978   1\n",
       "2979   1\n",
       "2980   3\n",
       "2981   1\n",
       "2982   1\n",
       "2983   1\n",
       "2984   4\n",
       "2985   1\n",
       "2986   1\n",
       "2987   5\n",
       "2988   8\n",
>>>>>>> 171e6c85af9b25d26aaebbea0a9ad07c7df84e89
       "\n",
       "[2989 rows x 1 columns]"
      ]
     },
     "execution_count": 36,
     "metadata": {},
     "output_type": "execute_result"
    }
   ],
   "source": [
    "from scipy.io import mmread\n",
    "test = mmread(\"gb_plain.mm\")\n",
    "import pandas as pd\n",
    "pd.DataFrame(test.data)"
   ]
  },
  {
   "cell_type": "markdown",
   "metadata": {},
   "source": [
    "## Topic Modeling mit Mallet"
   ]
  },
  {
   "cell_type": "markdown",
   "metadata": {},
   "source": [
    "##### Mallet Binary erzeugen"
   ]
  },
  {
   "cell_type": "code",
   "execution_count": 37,
   "metadata": {
    "collapsed": false
   },
   "outputs": [
    {
     "data": {
      "text/plain": [
<<<<<<< HEAD
       "'tutorial_supplementals/mallet_output/malletBinary.mallet'"
=======
       "'import os\\n\\n#Variablen zum Testen\\npath_to_mallet = \"/home/sina/Uni/Dariah/mallet/bin/mallet\"\\n\\npath_to_corpus = os.path.join(os.path.abspath(\\'.\\'), \\'corpus_txt\\')\\nassert os.path.exists(path_to_corpus)\\n\\nmalletBinary = mal.create_mallet_binary(path_to_corpus, path_to_mallet)\\nmalletBinary'"
>>>>>>> 171e6c85af9b25d26aaebbea0a9ad07c7df84e89
      ]
     },
     "execution_count": 37,
     "metadata": {},
     "output_type": "execute_result"
    }
   ],
   "source": [
    "import os\n",
    "\n",
    "#Variablen zum Testen\n",
    "path_to_mallet = \"/home/sina/Uni/Dariah/mallet/bin/mallet\"\n",
    "\n",
    "path_to_mallet_model = mal.create_mallet_model(path_to_mallet)\n",
    "path_to_mallet_model"
   ]
  },
  {
   "cell_type": "markdown",
   "metadata": {},
   "source": [
    "##### Mallet output erzeugen"
   ]
  },
  {
   "cell_type": "code",
   "execution_count": 38,
   "metadata": {
    "collapsed": false,
    "scrolled": true
   },
   "outputs": [
    {
     "data": {
      "text/plain": [
<<<<<<< HEAD
       "'/home/sina/Uni/Dariah/DARIAH-Topics/Topics/tutorial_supplementals/mallet_output'"
=======
       "'outfolder = os.path.join(os.path.abspath(\\'.\\'), \"tutorial_supplementals/mallet_output\")\\nmal.create_mallet_model(malletBinary,outfolder)'"
>>>>>>> 171e6c85af9b25d26aaebbea0a9ad07c7df84e89
      ]
     },
     "execution_count": 38,
     "metadata": {},
     "output_type": "execute_result"
    }
   ],
   "source": [
    "output_folder = mal.create_mallet_output(path_to_mallet_model)\n",
    "output_folder"
   ]
  },
  {
   "cell_type": "markdown",
   "metadata": {},
   "source": [
    "##### Matrix von Mallet output erzeugen"
   ]
  },
  {
   "cell_type": "code",
   "execution_count": 39,
   "metadata": {
    "collapsed": false
   },
   "outputs": [
    {
     "data": {
      "text/plain": [
       "'basepath = os.path.join(os.path.abspath(\\'.\\'), \"tutorial_supplementals/mallet_output\")\\ndoc_topics = os.path.join(basepath, \"doc_topics.txt\")'"
      ]
     },
     "execution_count": 39,
     "metadata": {},
     "output_type": "execute_result"
    }
   ],
   "source": [
    "doctopicsMatrix = mal.create_docTopicMatrix(output_folder)"
   ]
  },
  {
   "cell_type": "code",
   "execution_count": 40,
   "metadata": {
    "collapsed": false
   },
   "outputs": [
    {
     "data": {
<<<<<<< HEAD
      "text/html": [
       "<div>\n",
       "<table border=\"1\" class=\"dataframe\">\n",
       "  <thead>\n",
       "    <tr style=\"text-align: right;\">\n",
       "      <th></th>\n",
       "      <th>0</th>\n",
       "      <th>1</th>\n",
       "      <th>2</th>\n",
       "      <th>3</th>\n",
       "      <th>4</th>\n",
       "      <th>5</th>\n",
       "      <th>6</th>\n",
       "      <th>7</th>\n",
       "      <th>8</th>\n",
       "      <th>9</th>\n",
       "      <th>10</th>\n",
       "      <th>11</th>\n",
       "      <th>12</th>\n",
       "      <th>13</th>\n",
       "      <th>14</th>\n",
       "      <th>15</th>\n",
       "      <th>16</th>\n",
       "      <th>17</th>\n",
       "      <th>18</th>\n",
       "      <th>19</th>\n",
       "    </tr>\n",
       "  </thead>\n",
       "  <tbody>\n",
       "    <tr>\n",
       "      <th>0</th>\n",
       "      <td>0.018470</td>\n",
       "      <td>0.012259</td>\n",
       "      <td>0.069794</td>\n",
       "      <td>0.008336</td>\n",
       "      <td>0.023374</td>\n",
       "      <td>0.380353</td>\n",
       "      <td>0.007028</td>\n",
       "      <td>0.088754</td>\n",
       "      <td>0.003759</td>\n",
       "      <td>0.058352</td>\n",
       "      <td>0.008336</td>\n",
       "      <td>0.037757</td>\n",
       "      <td>0.009971</td>\n",
       "      <td>0.000817</td>\n",
       "      <td>0.004740</td>\n",
       "      <td>0.017816</td>\n",
       "      <td>0.145636</td>\n",
       "      <td>0.092677</td>\n",
       "      <td>0.003432</td>\n",
       "      <td>0.008336</td>\n",
       "    </tr>\n",
       "    <tr>\n",
       "      <th>1</th>\n",
       "      <td>0.022766</td>\n",
       "      <td>0.020562</td>\n",
       "      <td>0.091914</td>\n",
       "      <td>0.011052</td>\n",
       "      <td>0.015209</td>\n",
       "      <td>0.158291</td>\n",
       "      <td>0.004125</td>\n",
       "      <td>0.098274</td>\n",
       "      <td>0.019932</td>\n",
       "      <td>0.078248</td>\n",
       "      <td>0.006140</td>\n",
       "      <td>0.026922</td>\n",
       "      <td>0.006266</td>\n",
       "      <td>0.001984</td>\n",
       "      <td>0.001669</td>\n",
       "      <td>0.209302</td>\n",
       "      <td>0.142925</td>\n",
       "      <td>0.075225</td>\n",
       "      <td>0.004755</td>\n",
       "      <td>0.004440</td>\n",
       "    </tr>\n",
       "    <tr>\n",
       "      <th>2</th>\n",
       "      <td>0.007416</td>\n",
       "      <td>0.019088</td>\n",
       "      <td>0.106867</td>\n",
       "      <td>0.002845</td>\n",
       "      <td>0.279410</td>\n",
       "      <td>0.115718</td>\n",
       "      <td>0.003331</td>\n",
       "      <td>0.086636</td>\n",
       "      <td>0.016705</td>\n",
       "      <td>0.053227</td>\n",
       "      <td>0.007513</td>\n",
       "      <td>0.023902</td>\n",
       "      <td>0.005763</td>\n",
       "      <td>0.000559</td>\n",
       "      <td>0.001094</td>\n",
       "      <td>0.013398</td>\n",
       "      <td>0.170622</td>\n",
       "      <td>0.079974</td>\n",
       "      <td>0.003039</td>\n",
       "      <td>0.002894</td>\n",
       "    </tr>\n",
       "    <tr>\n",
       "      <th>3</th>\n",
       "      <td>0.015372</td>\n",
       "      <td>0.026422</td>\n",
       "      <td>0.080110</td>\n",
       "      <td>0.217192</td>\n",
       "      <td>0.031297</td>\n",
       "      <td>0.138739</td>\n",
       "      <td>0.003087</td>\n",
       "      <td>0.082710</td>\n",
       "      <td>0.014202</td>\n",
       "      <td>0.079981</td>\n",
       "      <td>0.006207</td>\n",
       "      <td>0.022197</td>\n",
       "      <td>0.005882</td>\n",
       "      <td>0.001722</td>\n",
       "      <td>0.001852</td>\n",
       "      <td>0.016737</td>\n",
       "      <td>0.179948</td>\n",
       "      <td>0.068151</td>\n",
       "      <td>0.004062</td>\n",
       "      <td>0.004127</td>\n",
       "    </tr>\n",
       "    <tr>\n",
       "      <th>4</th>\n",
       "      <td>0.002207</td>\n",
       "      <td>0.536885</td>\n",
       "      <td>0.131463</td>\n",
       "      <td>0.004098</td>\n",
       "      <td>0.005990</td>\n",
       "      <td>0.002207</td>\n",
       "      <td>0.072194</td>\n",
       "      <td>0.012926</td>\n",
       "      <td>0.030580</td>\n",
       "      <td>0.053909</td>\n",
       "      <td>0.005990</td>\n",
       "      <td>0.065259</td>\n",
       "      <td>0.002207</td>\n",
       "      <td>0.005359</td>\n",
       "      <td>0.006620</td>\n",
       "      <td>0.007251</td>\n",
       "      <td>0.041299</td>\n",
       "      <td>0.006620</td>\n",
       "      <td>0.001576</td>\n",
       "      <td>0.005359</td>\n",
       "    </tr>\n",
       "    <tr>\n",
       "      <th>5</th>\n",
       "      <td>0.009872</td>\n",
       "      <td>0.107346</td>\n",
       "      <td>0.168356</td>\n",
       "      <td>0.005603</td>\n",
       "      <td>0.001512</td>\n",
       "      <td>0.011473</td>\n",
       "      <td>0.377535</td>\n",
       "      <td>0.016987</td>\n",
       "      <td>0.018410</td>\n",
       "      <td>0.079420</td>\n",
       "      <td>0.005425</td>\n",
       "      <td>0.112327</td>\n",
       "      <td>0.007560</td>\n",
       "      <td>0.002935</td>\n",
       "      <td>0.004358</td>\n",
       "      <td>0.005069</td>\n",
       "      <td>0.053273</td>\n",
       "      <td>0.011117</td>\n",
       "      <td>0.000445</td>\n",
       "      <td>0.000978</td>\n",
       "    </tr>\n",
       "    <tr>\n",
       "      <th>6</th>\n",
       "      <td>0.005495</td>\n",
       "      <td>0.237705</td>\n",
       "      <td>0.169789</td>\n",
       "      <td>0.003513</td>\n",
       "      <td>0.003873</td>\n",
       "      <td>0.008377</td>\n",
       "      <td>0.249955</td>\n",
       "      <td>0.018465</td>\n",
       "      <td>0.021348</td>\n",
       "      <td>0.070528</td>\n",
       "      <td>0.007836</td>\n",
       "      <td>0.108719</td>\n",
       "      <td>0.002252</td>\n",
       "      <td>0.009638</td>\n",
       "      <td>0.008557</td>\n",
       "      <td>0.003333</td>\n",
       "      <td>0.056837</td>\n",
       "      <td>0.010178</td>\n",
       "      <td>0.002072</td>\n",
       "      <td>0.001531</td>\n",
       "    </tr>\n",
       "    <tr>\n",
       "      <th>7</th>\n",
       "      <td>0.003606</td>\n",
       "      <td>0.135263</td>\n",
       "      <td>0.164109</td>\n",
       "      <td>0.002311</td>\n",
       "      <td>0.000462</td>\n",
       "      <td>0.015440</td>\n",
       "      <td>0.328310</td>\n",
       "      <td>0.029863</td>\n",
       "      <td>0.047245</td>\n",
       "      <td>0.055936</td>\n",
       "      <td>0.012666</td>\n",
       "      <td>0.100314</td>\n",
       "      <td>0.001942</td>\n",
       "      <td>0.006749</td>\n",
       "      <td>0.019323</td>\n",
       "      <td>0.001387</td>\n",
       "      <td>0.057045</td>\n",
       "      <td>0.014885</td>\n",
       "      <td>0.001757</td>\n",
       "      <td>0.001387</td>\n",
       "    </tr>\n",
       "    <tr>\n",
       "      <th>8</th>\n",
       "      <td>0.404977</td>\n",
       "      <td>0.023547</td>\n",
       "      <td>0.086005</td>\n",
       "      <td>0.007515</td>\n",
       "      <td>0.007849</td>\n",
       "      <td>0.042585</td>\n",
       "      <td>0.008183</td>\n",
       "      <td>0.049933</td>\n",
       "      <td>0.013527</td>\n",
       "      <td>0.122077</td>\n",
       "      <td>0.006847</td>\n",
       "      <td>0.022879</td>\n",
       "      <td>0.007849</td>\n",
       "      <td>0.016199</td>\n",
       "      <td>0.006847</td>\n",
       "      <td>0.003841</td>\n",
       "      <td>0.136774</td>\n",
       "      <td>0.026887</td>\n",
       "      <td>0.003173</td>\n",
       "      <td>0.002505</td>\n",
       "    </tr>\n",
       "    <tr>\n",
       "      <th>9</th>\n",
       "      <td>0.011169</td>\n",
       "      <td>0.058814</td>\n",
       "      <td>0.063583</td>\n",
       "      <td>0.002117</td>\n",
       "      <td>0.000365</td>\n",
       "      <td>0.010877</td>\n",
       "      <td>0.003236</td>\n",
       "      <td>0.009904</td>\n",
       "      <td>0.003042</td>\n",
       "      <td>0.232115</td>\n",
       "      <td>0.002166</td>\n",
       "      <td>0.005816</td>\n",
       "      <td>0.000511</td>\n",
       "      <td>0.419773</td>\n",
       "      <td>0.001192</td>\n",
       "      <td>0.001679</td>\n",
       "      <td>0.164858</td>\n",
       "      <td>0.005086</td>\n",
       "      <td>0.002798</td>\n",
       "      <td>0.000900</td>\n",
       "    </tr>\n",
       "    <tr>\n",
       "      <th>10</th>\n",
       "      <td>0.011158</td>\n",
       "      <td>0.020926</td>\n",
       "      <td>0.038397</td>\n",
       "      <td>0.003057</td>\n",
       "      <td>0.000993</td>\n",
       "      <td>0.027200</td>\n",
       "      <td>0.001946</td>\n",
       "      <td>0.025770</td>\n",
       "      <td>0.006631</td>\n",
       "      <td>0.162524</td>\n",
       "      <td>0.002660</td>\n",
       "      <td>0.008140</td>\n",
       "      <td>0.007346</td>\n",
       "      <td>0.006234</td>\n",
       "      <td>0.000437</td>\n",
       "      <td>0.001946</td>\n",
       "      <td>0.139414</td>\n",
       "      <td>0.016320</td>\n",
       "      <td>0.515208</td>\n",
       "      <td>0.003693</td>\n",
       "    </tr>\n",
       "    <tr>\n",
       "      <th>11</th>\n",
       "      <td>0.001598</td>\n",
       "      <td>0.009564</td>\n",
       "      <td>0.038716</td>\n",
       "      <td>0.000948</td>\n",
       "      <td>0.001598</td>\n",
       "      <td>0.004525</td>\n",
       "      <td>0.001761</td>\n",
       "      <td>0.114684</td>\n",
       "      <td>0.217583</td>\n",
       "      <td>0.017421</td>\n",
       "      <td>0.061095</td>\n",
       "      <td>0.062016</td>\n",
       "      <td>0.005337</td>\n",
       "      <td>0.001111</td>\n",
       "      <td>0.338797</td>\n",
       "      <td>0.000732</td>\n",
       "      <td>0.068139</td>\n",
       "      <td>0.046193</td>\n",
       "      <td>0.001002</td>\n",
       "      <td>0.007180</td>\n",
       "    </tr>\n",
       "    <tr>\n",
       "      <th>12</th>\n",
       "      <td>0.012863</td>\n",
       "      <td>0.024182</td>\n",
       "      <td>0.047232</td>\n",
       "      <td>0.008541</td>\n",
       "      <td>0.008541</td>\n",
       "      <td>0.044556</td>\n",
       "      <td>0.001749</td>\n",
       "      <td>0.071311</td>\n",
       "      <td>0.182239</td>\n",
       "      <td>0.027063</td>\n",
       "      <td>0.054847</td>\n",
       "      <td>0.103416</td>\n",
       "      <td>0.268471</td>\n",
       "      <td>0.001955</td>\n",
       "      <td>0.007306</td>\n",
       "      <td>0.009981</td>\n",
       "      <td>0.070694</td>\n",
       "      <td>0.044762</td>\n",
       "      <td>0.003396</td>\n",
       "      <td>0.006894</td>\n",
       "    </tr>\n",
       "    <tr>\n",
       "      <th>13</th>\n",
       "      <td>0.001204</td>\n",
       "      <td>0.001686</td>\n",
       "      <td>0.008913</td>\n",
       "      <td>0.001067</td>\n",
       "      <td>0.000585</td>\n",
       "      <td>0.001549</td>\n",
       "      <td>0.000654</td>\n",
       "      <td>0.039539</td>\n",
       "      <td>0.023641</td>\n",
       "      <td>0.003200</td>\n",
       "      <td>0.269270</td>\n",
       "      <td>0.006228</td>\n",
       "      <td>0.002168</td>\n",
       "      <td>0.000516</td>\n",
       "      <td>0.000516</td>\n",
       "      <td>0.001204</td>\n",
       "      <td>0.022953</td>\n",
       "      <td>0.203889</td>\n",
       "      <td>0.000241</td>\n",
       "      <td>0.410977</td>\n",
       "    </tr>\n",
       "    <tr>\n",
       "      <th>14</th>\n",
       "      <td>0.010281</td>\n",
       "      <td>0.026515</td>\n",
       "      <td>0.065476</td>\n",
       "      <td>0.013528</td>\n",
       "      <td>0.011364</td>\n",
       "      <td>0.039502</td>\n",
       "      <td>0.007035</td>\n",
       "      <td>0.053571</td>\n",
       "      <td>0.028680</td>\n",
       "      <td>0.062229</td>\n",
       "      <td>0.007035</td>\n",
       "      <td>0.076299</td>\n",
       "      <td>0.292749</td>\n",
       "      <td>0.008117</td>\n",
       "      <td>0.017857</td>\n",
       "      <td>0.023268</td>\n",
       "      <td>0.126082</td>\n",
       "      <td>0.110931</td>\n",
       "      <td>0.005952</td>\n",
       "      <td>0.013528</td>\n",
       "    </tr>\n",
       "    <tr>\n",
       "      <th>15</th>\n",
       "      <td>0.010365</td>\n",
       "      <td>0.071570</td>\n",
       "      <td>0.089339</td>\n",
       "      <td>0.002468</td>\n",
       "      <td>0.005429</td>\n",
       "      <td>0.063672</td>\n",
       "      <td>0.012340</td>\n",
       "      <td>0.022211</td>\n",
       "      <td>0.029121</td>\n",
       "      <td>0.019250</td>\n",
       "      <td>0.011352</td>\n",
       "      <td>0.434847</td>\n",
       "      <td>0.018263</td>\n",
       "      <td>0.005429</td>\n",
       "      <td>0.004442</td>\n",
       "      <td>0.007404</td>\n",
       "      <td>0.082428</td>\n",
       "      <td>0.066634</td>\n",
       "      <td>0.009378</td>\n",
       "      <td>0.034057</td>\n",
       "    </tr>\n",
       "    <tr>\n",
       "      <th>16</th>\n",
       "      <td>0.007480</td>\n",
       "      <td>0.003644</td>\n",
       "      <td>0.029344</td>\n",
       "      <td>0.005562</td>\n",
       "      <td>0.003260</td>\n",
       "      <td>0.094937</td>\n",
       "      <td>0.005178</td>\n",
       "      <td>0.121404</td>\n",
       "      <td>0.012083</td>\n",
       "      <td>0.028193</td>\n",
       "      <td>0.017069</td>\n",
       "      <td>0.017453</td>\n",
       "      <td>0.292482</td>\n",
       "      <td>0.002877</td>\n",
       "      <td>0.004795</td>\n",
       "      <td>0.005562</td>\n",
       "      <td>0.075758</td>\n",
       "      <td>0.191983</td>\n",
       "      <td>0.004028</td>\n",
       "      <td>0.076908</td>\n",
       "    </tr>\n",
       "  </tbody>\n",
       "</table>\n",
       "</div>"
      ],
      "text/plain": [
       "          0         1         2         3         4         5         6   \\\n",
       "0   0.018470  0.012259  0.069794  0.008336  0.023374  0.380353  0.007028   \n",
       "1   0.022766  0.020562  0.091914  0.011052  0.015209  0.158291  0.004125   \n",
       "2   0.007416  0.019088  0.106867  0.002845  0.279410  0.115718  0.003331   \n",
       "3   0.015372  0.026422  0.080110  0.217192  0.031297  0.138739  0.003087   \n",
       "4   0.002207  0.536885  0.131463  0.004098  0.005990  0.002207  0.072194   \n",
       "5   0.009872  0.107346  0.168356  0.005603  0.001512  0.011473  0.377535   \n",
       "6   0.005495  0.237705  0.169789  0.003513  0.003873  0.008377  0.249955   \n",
       "7   0.003606  0.135263  0.164109  0.002311  0.000462  0.015440  0.328310   \n",
       "8   0.404977  0.023547  0.086005  0.007515  0.007849  0.042585  0.008183   \n",
       "9   0.011169  0.058814  0.063583  0.002117  0.000365  0.010877  0.003236   \n",
       "10  0.011158  0.020926  0.038397  0.003057  0.000993  0.027200  0.001946   \n",
       "11  0.001598  0.009564  0.038716  0.000948  0.001598  0.004525  0.001761   \n",
       "12  0.012863  0.024182  0.047232  0.008541  0.008541  0.044556  0.001749   \n",
       "13  0.001204  0.001686  0.008913  0.001067  0.000585  0.001549  0.000654   \n",
       "14  0.010281  0.026515  0.065476  0.013528  0.011364  0.039502  0.007035   \n",
       "15  0.010365  0.071570  0.089339  0.002468  0.005429  0.063672  0.012340   \n",
       "16  0.007480  0.003644  0.029344  0.005562  0.003260  0.094937  0.005178   \n",
       "\n",
       "          7         8         9         10        11        12        13  \\\n",
       "0   0.088754  0.003759  0.058352  0.008336  0.037757  0.009971  0.000817   \n",
       "1   0.098274  0.019932  0.078248  0.006140  0.026922  0.006266  0.001984   \n",
       "2   0.086636  0.016705  0.053227  0.007513  0.023902  0.005763  0.000559   \n",
       "3   0.082710  0.014202  0.079981  0.006207  0.022197  0.005882  0.001722   \n",
       "4   0.012926  0.030580  0.053909  0.005990  0.065259  0.002207  0.005359   \n",
       "5   0.016987  0.018410  0.079420  0.005425  0.112327  0.007560  0.002935   \n",
       "6   0.018465  0.021348  0.070528  0.007836  0.108719  0.002252  0.009638   \n",
       "7   0.029863  0.047245  0.055936  0.012666  0.100314  0.001942  0.006749   \n",
       "8   0.049933  0.013527  0.122077  0.006847  0.022879  0.007849  0.016199   \n",
       "9   0.009904  0.003042  0.232115  0.002166  0.005816  0.000511  0.419773   \n",
       "10  0.025770  0.006631  0.162524  0.002660  0.008140  0.007346  0.006234   \n",
       "11  0.114684  0.217583  0.017421  0.061095  0.062016  0.005337  0.001111   \n",
       "12  0.071311  0.182239  0.027063  0.054847  0.103416  0.268471  0.001955   \n",
       "13  0.039539  0.023641  0.003200  0.269270  0.006228  0.002168  0.000516   \n",
       "14  0.053571  0.028680  0.062229  0.007035  0.076299  0.292749  0.008117   \n",
       "15  0.022211  0.029121  0.019250  0.011352  0.434847  0.018263  0.005429   \n",
       "16  0.121404  0.012083  0.028193  0.017069  0.017453  0.292482  0.002877   \n",
       "\n",
       "          14        15        16        17        18        19  \n",
       "0   0.004740  0.017816  0.145636  0.092677  0.003432  0.008336  \n",
       "1   0.001669  0.209302  0.142925  0.075225  0.004755  0.004440  \n",
       "2   0.001094  0.013398  0.170622  0.079974  0.003039  0.002894  \n",
       "3   0.001852  0.016737  0.179948  0.068151  0.004062  0.004127  \n",
       "4   0.006620  0.007251  0.041299  0.006620  0.001576  0.005359  \n",
       "5   0.004358  0.005069  0.053273  0.011117  0.000445  0.000978  \n",
       "6   0.008557  0.003333  0.056837  0.010178  0.002072  0.001531  \n",
       "7   0.019323  0.001387  0.057045  0.014885  0.001757  0.001387  \n",
       "8   0.006847  0.003841  0.136774  0.026887  0.003173  0.002505  \n",
       "9   0.001192  0.001679  0.164858  0.005086  0.002798  0.000900  \n",
       "10  0.000437  0.001946  0.139414  0.016320  0.515208  0.003693  \n",
       "11  0.338797  0.000732  0.068139  0.046193  0.001002  0.007180  \n",
       "12  0.007306  0.009981  0.070694  0.044762  0.003396  0.006894  \n",
       "13  0.000516  0.001204  0.022953  0.203889  0.000241  0.410977  \n",
       "14  0.017857  0.023268  0.126082  0.110931  0.005952  0.013528  \n",
       "15  0.004442  0.007404  0.082428  0.066634  0.009378  0.034057  \n",
       "16  0.004795  0.005562  0.075758  0.191983  0.004028  0.076908  "
=======
      "text/plain": [
       "'doctopicsMatrix = mal.create_MalletMatrix(doc_topics)'"
>>>>>>> 171e6c85af9b25d26aaebbea0a9ad07c7df84e89
      ]
     },
     "execution_count": 40,
     "metadata": {},
     "output_type": "execute_result"
    }
   ],
   "source": [
    "import pandas as pd\n",
    "pd.DataFrame(doctopicsMatrix)"
   ]
  },
  {
   "cell_type": "code",
   "execution_count": 41,
   "metadata": {
    "collapsed": true
   },
<<<<<<< HEAD
   "outputs": [],
   "source": []
=======
   "outputs": [
    {
     "data": {
      "text/plain": [
       "'import pandas as pd\\npd.DataFrame(doctopicsMatrix)'"
      ]
     },
     "execution_count": 41,
     "metadata": {},
     "output_type": "execute_result"
    }
   ],
   "source": [
    "'''import pandas as pd\n",
    "pd.DataFrame(doctopicsMatrix)'''"
   ]
>>>>>>> 171e6c85af9b25d26aaebbea0a9ad07c7df84e89
  },
  {
   "cell_type": "markdown",
   "metadata": {},
   "source": [
    "## Visualisierung "
   ]
  },
  {
   "cell_type": "code",
<<<<<<< HEAD
   "execution_count": 41,
=======
   "execution_count": 42,
>>>>>>> 171e6c85af9b25d26aaebbea0a9ad07c7df84e89
   "metadata": {
    "collapsed": false
   },
   "outputs": [
    {
     "data": {
      "text/plain": [
       "\"lda_model = 'out_easy/corpus.lda'\\ncorpus = 'out_easy/corpus.mm'\\ndictionary = 'out_easy/corpus.dict'\\ndoc_labels = 'out_easy/corpus_doclabels.txt'\\ninteractive  = False\\n\\nvis = visual.Visualization(lda_model, corpus, dictionary, doc_labels, interactive)\""
      ]
     },
<<<<<<< HEAD
     "execution_count": 41,
=======
     "execution_count": 42,
>>>>>>> 171e6c85af9b25d26aaebbea0a9ad07c7df84e89
     "metadata": {},
     "output_type": "execute_result"
    }
   ],
   "source": [
    "'''lda_model = 'out_easy/corpus.lda'\n",
    "corpus = 'out_easy/corpus.mm'\n",
    "dictionary = 'out_easy/corpus.dict'\n",
    "doc_labels = 'out_easy/corpus_doclabels.txt'\n",
    "interactive  = False\n",
    "\n",
    "vis = visual.Visualization(lda_model, corpus, dictionary, doc_labels, interactive)'''"
   ]
  },
  {
   "cell_type": "markdown",
   "metadata": {},
   "source": [
    "##### Create a document-topic matrix (that is a pandas data frame actually)"
   ]
  },
  {
   "cell_type": "code",
<<<<<<< HEAD
   "execution_count": 42,
=======
   "execution_count": 43,
>>>>>>> 171e6c85af9b25d26aaebbea0a9ad07c7df84e89
   "metadata": {
    "collapsed": false
   },
   "outputs": [],
   "source": [
    "doc_topic = visual.create_doc_topic(mm, model, doc_labels)"
   ]
  },
  {
   "cell_type": "markdown",
   "metadata": {},
   "source": [
    "##### Visualize document-topic matrix"
   ]
  },
  {
   "cell_type": "code",
<<<<<<< HEAD
   "execution_count": 43,
=======
   "execution_count": 44,
>>>>>>> 171e6c85af9b25d26aaebbea0a9ad07c7df84e89
   "metadata": {
    "collapsed": false
   },
   "outputs": [
    {
     "data": {
<<<<<<< HEAD
      "image/png": "iVBORw0KGgoAAAANSUhEUgAAAk8AAAGFCAYAAADkXBchAAAABHNCSVQICAgIfAhkiAAAAAlwSFlz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\nRK5CYII=\n",
      "text/plain": [
       "<matplotlib.figure.Figure at 0x7fcc2237ffd0>"
=======
      "image/png": "iVBORw0KGgoAAAANSUhEUgAAAk8AAAGFCAYAAADkXBchAAAABHNCSVQICAgIfAhkiAAAAAlwSFlz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\nRU5ErkJggg==\n",
      "text/plain": [
       "<matplotlib.figure.Figure at 0xa5780b2c>"
>>>>>>> 171e6c85af9b25d26aaebbea0a9ad07c7df84e89
      ]
     },
     "metadata": {},
     "output_type": "display_data"
    }
   ],
   "source": [
    "%matplotlib inline\n",
    "visual.doc_topic_heatmap(doc_topic)"
   ]
  },
  {
   "cell_type": "markdown",
   "metadata": {},
   "source": [
    "##### Visualize topic distribution in a single document"
   ]
  },
  {
   "cell_type": "code",
<<<<<<< HEAD
   "execution_count": 44,
=======
   "execution_count": 45,
>>>>>>> 171e6c85af9b25d26aaebbea0a9ad07c7df84e89
   "metadata": {
    "collapsed": false
   },
   "outputs": [
    {
     "data": {
<<<<<<< HEAD
      "image/png": "iVBORw0KGgoAAAANSUhEUgAAAk4AAAGGCAYAAACNCg6xAAAABHNCSVQICAgIfAhkiAAAAAlwSFlz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\nAABJRU5ErkJggg==\n",
      "text/plain": [
       "<matplotlib.figure.Figure at 0x7fcc22096dd8>"
=======
      "image/png": "iVBORw0KGgoAAAANSUhEUgAAAk4AAAGGCAYAAACNCg6xAAAABHNCSVQICAgIfAhkiAAAAAlwSFlz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\nipw4mZmZmVX0/5aGv3gXNQSeAAAAAElFTkSuQmCC\n",
      "text/plain": [
       "<matplotlib.figure.Figure at 0xa5c1fb0c>"
>>>>>>> 171e6c85af9b25d26aaebbea0a9ad07c7df84e89
      ]
     },
     "metadata": {},
     "output_type": "display_data"
    }
   ],
   "source": [
    "visual.plot_doc_topics(doc_topic, 0)"
   ]
  },
  {
   "cell_type": "markdown",
   "metadata": {},
   "source": [
    "#### Heatmap"
   ]
  },
  {
   "cell_type": "code",
<<<<<<< HEAD
   "execution_count": 45,
=======
   "execution_count": 46,
>>>>>>> 171e6c85af9b25d26aaebbea0a9ad07c7df84e89
   "metadata": {
    "collapsed": true
   },
   "outputs": [],
   "source": [
    "#heatmap = visual.make_heatmap()"
   ]
  },
  {
   "cell_type": "code",
<<<<<<< HEAD
   "execution_count": 46,
=======
   "execution_count": 47,
>>>>>>> 171e6c85af9b25d26aaebbea0a9ad07c7df84e89
   "metadata": {
    "collapsed": false
   },
   "outputs": [],
   "source": [
    "#visual.save_heatmap(\"./visualizations/heatmap\")"
   ]
  },
  {
   "cell_type": "markdown",
   "metadata": {},
   "source": [
    "#### Interactive"
   ]
  },
  {
   "cell_type": "code",
<<<<<<< HEAD
   "execution_count": 47,
=======
   "execution_count": 48,
>>>>>>> 171e6c85af9b25d26aaebbea0a9ad07c7df84e89
   "metadata": {
    "collapsed": true
   },
   "outputs": [],
   "source": [
    "#vis = collection.Visualization(lda_model, corpus, dictionary, doc_labels, interactive=True)"
   ]
  },
  {
   "cell_type": "code",
<<<<<<< HEAD
   "execution_count": 48,
=======
   "execution_count": 49,
>>>>>>> 171e6c85af9b25d26aaebbea0a9ad07c7df84e89
   "metadata": {
    "collapsed": true
   },
   "outputs": [],
   "source": [
    "#vis.make_interactive()"
   ]
  },
  {
   "cell_type": "code",
<<<<<<< HEAD
   "execution_count": 49,
=======
   "execution_count": 50,
>>>>>>> 171e6c85af9b25d26aaebbea0a9ad07c7df84e89
   "metadata": {
    "collapsed": true
   },
   "outputs": [],
   "source": [
    "#vis.save_interactive(\"./visualizations/interactive\")"
   ]
  },
  {
   "cell_type": "markdown",
   "metadata": {},
   "source": [
    "## Evaluation"
   ]
  },
  {
   "cell_type": "code",
<<<<<<< HEAD
   "execution_count": 50,
=======
   "execution_count": 51,
>>>>>>> 171e6c85af9b25d26aaebbea0a9ad07c7df84e89
   "metadata": {
    "collapsed": false
   },
   "outputs": [
    {
     "data": {
      "text/plain": [
<<<<<<< HEAD
       "[('verbindet', 'anfangs'),\n",
       " ('verbindet', 'herauszwingen'),\n",
       " ('verbindet', 'glaubt'),\n",
       " ('verbindet', 'reich'),\n",
       " ('verbindet', 'wüßten')]"
      ]
     },
     "execution_count": 50,
=======
       "[('traurige', 'völlig'),\n",
       " ('traurige', 'entgegen'),\n",
       " ('traurige', 'new'),\n",
       " ('traurige', 'begleitete'),\n",
       " ('traurige', 'fällt')]"
      ]
     },
     "execution_count": 51,
>>>>>>> 171e6c85af9b25d26aaebbea0a9ad07c7df84e89
     "metadata": {},
     "output_type": "execute_result"
    }
   ],
   "source": [
    "segmented_topics = evaluation.topic_segmenter(model, type2id, 10)\n",
    "segmented_topics[0][:5]"
   ]
  },
  {
   "cell_type": "code",
<<<<<<< HEAD
   "execution_count": 51,
=======
   "execution_count": 52,
>>>>>>> 171e6c85af9b25d26aaebbea0a9ad07c7df84e89
   "metadata": {
    "collapsed": false
   },
   "outputs": [
    {
     "data": {
      "text/plain": [
<<<<<<< HEAD
       "wenigen                {4}\n",
       "ob                  {1, 4}\n",
       "dinge               {1, 4}\n",
       "glaubt                 {4}\n",
       "hohen                  {1}\n",
       "öffnet                 {4}\n",
       "samt                   {3}\n",
       "schuldig               {2}\n",
       "herauszwingen          {0}\n",
       "reich                  {3}\n",
       "wüßten                 {4}\n",
       "träumereien            {1}\n",
       "verbindet              {4}\n",
       "anfangs          {1, 3, 4}\n",
       "handschuhen            {0}\n",
       "dtype: object"
      ]
     },
     "execution_count": 51,
=======
       "traurige                     {4}\n",
       "später                 {1, 2, 4}\n",
       "linien                       {4}\n",
       "derselbe                     {3}\n",
       "jemanden                     {2}\n",
       "fällt                        {4}\n",
       "italienische                 {2}\n",
       "new                          {3}\n",
       "gefestigte                   {0}\n",
       "daß              {0, 1, 2, 3, 4}\n",
       "fingerspitzen                {0}\n",
       "schwankt                     {3}\n",
       "völlig                    {2, 4}\n",
       "begleitete                   {2}\n",
       "entgegen               {1, 2, 4}\n",
       "groß                      {1, 4}\n",
       "dtype: object"
      ]
     },
     "execution_count": 52,
>>>>>>> 171e6c85af9b25d26aaebbea0a9ad07c7df84e89
     "metadata": {},
     "output_type": "execute_result"
    }
   ],
   "source": [
    "umass_probability = evaluation.token_probability(doc_tokens, segmented_topics)\n",
    "umass_probability"
   ]
  },
  {
   "cell_type": "code",
<<<<<<< HEAD
   "execution_count": 52,
=======
   "execution_count": 53,
>>>>>>> 171e6c85af9b25d26aaebbea0a9ad07c7df84e89
   "metadata": {
    "collapsed": false
   },
   "outputs": [
    {
     "data": {
      "text/plain": [
<<<<<<< HEAD
       "-0.04640616962124066"
      ]
     },
     "execution_count": 52,
=======
       "-0.038163048300435064"
      ]
     },
     "execution_count": 53,
>>>>>>> 171e6c85af9b25d26aaebbea0a9ad07c7df84e89
     "metadata": {},
     "output_type": "execute_result"
    }
   ],
   "source": [
    "umass = evaluation.calculate_umass(segmented_topics, umass_probability, doc_tokens, 10)\n",
    "umass"
   ]
  },
  {
   "cell_type": "code",
<<<<<<< HEAD
   "execution_count": 53,
=======
   "execution_count": 54,
>>>>>>> 171e6c85af9b25d26aaebbea0a9ad07c7df84e89
   "metadata": {
    "collapsed": false,
    "scrolled": true
   },
   "outputs": [
    {
     "name": "stderr",
     "output_type": "stream",
     "text": [
<<<<<<< HEAD
      "/usr/local/lib/python3.5/dist-packages/bs4/builder/_lxml.py:250: DeprecationWarning: inspect.getargspec() is deprecated, use inspect.signature() instead\n",
=======
      "/usr/lib/python3/dist-packages/bs4/builder/_lxml.py:250: DeprecationWarning: inspect.getargspec() is deprecated, use inspect.signature() instead\n",
>>>>>>> 171e6c85af9b25d26aaebbea0a9ad07c7df84e89
      "  self.parser.feed(markup)\n"
     ]
    }
   ],
   "source": [
    "wiki_list = evaluation.wikipedia_table_crawler()"
   ]
  },
  {
   "cell_type": "code",
<<<<<<< HEAD
   "execution_count": 54,
=======
   "execution_count": 55,
>>>>>>> 171e6c85af9b25d26aaebbea0a9ad07c7df84e89
   "metadata": {
    "collapsed": false
   },
   "outputs": [],
   "source": [
    "wiki_corpus = evaluation.wikipedia_crawler(wiki_list, size=5)"
   ]
  },
  {
   "cell_type": "code",
<<<<<<< HEAD
   "execution_count": 55,
=======
   "execution_count": 56,
>>>>>>> 171e6c85af9b25d26aaebbea0a9ad07c7df84e89
   "metadata": {
    "collapsed": false
   },
   "outputs": [],
   "source": [
    "uci_probability = evaluation.token_probability(wiki_corpus, segmented_topics)"
   ]
  },
  {
   "cell_type": "code",
<<<<<<< HEAD
   "execution_count": 56,
=======
   "execution_count": 57,
>>>>>>> 171e6c85af9b25d26aaebbea0a9ad07c7df84e89
   "metadata": {
    "collapsed": false
   },
   "outputs": [],
   "source": [
    "pmi = evaluation.calculate_pointwise_mutual_information(segmented_topics, wiki_corpus, uci_probability)"
   ]
  },
  {
   "cell_type": "code",
<<<<<<< HEAD
   "execution_count": 57,
=======
   "execution_count": 58,
>>>>>>> 171e6c85af9b25d26aaebbea0a9ad07c7df84e89
   "metadata": {
    "collapsed": false
   },
   "outputs": [
    {
     "data": {
      "text/plain": [
       "0.0"
      ]
     },
<<<<<<< HEAD
     "execution_count": 57,
=======
     "execution_count": 58,
>>>>>>> 171e6c85af9b25d26aaebbea0a9ad07c7df84e89
     "metadata": {},
     "output_type": "execute_result"
    }
   ],
   "source": [
    "uci = evaluation.calculate_uci(pmi, wiki_corpus, 10)\n",
    "uci"
   ]
  },
  {
   "cell_type": "markdown",
   "metadata": {
    "collapsed": true
   },
   "source": [
    "![success](http://cdn2.hubspot.net/hub/128506/file-446943132-jpg/images/computer_woman_success.jpg)"
   ]
  }
 ],
 "metadata": {
  "kernelspec": {
   "display_name": "Python 3",
   "language": "python",
   "name": "python3"
  },
  "language_info": {
   "codemirror_mode": {
    "name": "ipython",
    "version": 3
   },
   "file_extension": ".py",
   "mimetype": "text/x-python",
   "name": "python",
   "nbconvert_exporter": "python",
   "pygments_lexer": "ipython3",
<<<<<<< HEAD
   "version": "3.5.2"
=======
   "version": "3.5.2+"
>>>>>>> 171e6c85af9b25d26aaebbea0a9ad07c7df84e89
  }
 },
 "nbformat": 4,
 "nbformat_minor": 0
}
