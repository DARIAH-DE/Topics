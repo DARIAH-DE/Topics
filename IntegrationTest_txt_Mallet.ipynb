{
 "cells": [
  {
   "cell_type": "code",
   "execution_count": 1,
   "metadata": {
    "collapsed": false
   },
   "outputs": [
    {
     "name": "stderr",
     "output_type": "stream",
     "text": [
      "/usr/local/lib/python3.5/dist-packages/funcy/decorators.py:56: DeprecationWarning: inspect.getargspec() is deprecated, use inspect.signature() instead\n",
      "  spec = inspect.getargspec(func)\n",
      "/usr/local/lib/python3.5/dist-packages/funcy/decorators.py:56: DeprecationWarning: inspect.getargspec() is deprecated, use inspect.signature() instead\n",
      "  spec = inspect.getargspec(func)\n",
      "/usr/local/lib/python3.5/dist-packages/funcy/decorators.py:56: DeprecationWarning: inspect.getargspec() is deprecated, use inspect.signature() instead\n",
      "  spec = inspect.getargspec(func)\n",
      "/usr/local/lib/python3.5/dist-packages/funcy/decorators.py:56: DeprecationWarning: inspect.getargspec() is deprecated, use inspect.signature() instead\n",
      "  spec = inspect.getargspec(func)\n",
      "/usr/local/lib/python3.5/dist-packages/funcy/decorators.py:56: DeprecationWarning: inspect.getargspec() is deprecated, use inspect.signature() instead\n",
      "  spec = inspect.getargspec(func)\n",
      "/usr/local/lib/python3.5/dist-packages/funcy/decorators.py:56: DeprecationWarning: inspect.getargspec() is deprecated, use inspect.signature() instead\n",
      "  spec = inspect.getargspec(func)\n"
     ]
    }
   ],
   "source": [
    "from dariah_topics import mallet as mal\n",
    "from dariah_topics import visualization as visual"
   ]
  },
  {
   "cell_type": "markdown",
   "metadata": {},
   "source": [
    "## Preprocessing"
   ]
  },
  {
   "cell_type": "markdown",
   "metadata": {},
   "source": [
    "## Topic Modeling mit Mallet"
   ]
  },
  {
   "cell_type": "markdown",
   "metadata": {},
   "source": [
    "##### Mallet model erzeugen"
   ]
  },
  {
   "cell_type": "code",
   "execution_count": 2,
   "metadata": {
    "collapsed": false
   },
   "outputs": [
    {
     "name": "stdout",
     "output_type": "stream",
     "text": [
      "['/home/sina/Uni/Dariah/mallet/bin/mallet', 'import-dir', '--input', 'corpus_txt', '--output', 'tutorial_supplementals/mallet_output/malletModel.mallet', '--keep-sequence']\n"
     ]
    },
    {
     "data": {
      "text/plain": [
       "'tutorial_supplementals/mallet_output/malletModel.mallet'"
      ]
     },
     "execution_count": 2,
     "metadata": {},
     "output_type": "execute_result"
    }
   ],
   "source": [
    "#Variablen zum Testen\n",
    "path_to_mallet = \"/home/sina/Uni/Dariah/mallet/bin/mallet\"\n",
    "#path_to_mallet = \"mallet\"\n",
    "\n",
    "outfolder = \"tutorial_supplementals/mallet_output\"\n",
    "path_to_corpus = \"corpus_txt\"\n",
    "\n",
    "mallet_model = mal.create_mallet_model(path_to_mallet=path_to_mallet, outfolder = outfolder, path_to_corpus=path_to_corpus)\n",
    "mallet_model"
   ]
  },
  {
   "cell_type": "markdown",
   "metadata": {},
   "source": [
    "##### Mallet output erzeugen"
   ]
  },
  {
   "cell_type": "code",
   "execution_count": 3,
   "metadata": {
    "collapsed": false,
    "scrolled": false
   },
   "outputs": [
    {
     "data": {
      "text/plain": [
       "'/home/sina/Uni/Dariah/DARIAH-Topics/Topics/tutorial_supplementals/mallet_output'"
      ]
     },
     "execution_count": 3,
     "metadata": {},
     "output_type": "execute_result"
    }
   ],
   "source": [
    "#default parameter - can be overwritten\n",
    "#num_topics = 10\n",
    "\n",
    "output_folder = mal.create_mallet_output(path_to_mallet=path_to_mallet, path_to_malletModel=mallet_model, outfolder=outfolder)\n",
    "output_folder"
   ]
  },
  {
   "cell_type": "markdown",
   "metadata": {},
   "source": [
    "##### Show Tokens for each Topic"
   ]
  },
  {
   "cell_type": "code",
   "execution_count": 4,
   "metadata": {
    "collapsed": false,
    "scrolled": true
   },
   "outputs": [
    {
     "data": {
      "text/html": [
       "<div>\n",
       "<table border=\"1\" class=\"dataframe\">\n",
       "  <thead>\n",
       "    <tr style=\"text-align: right;\">\n",
       "      <th></th>\n",
       "      <th>0</th>\n",
       "      <th>1</th>\n",
       "      <th>2</th>\n",
       "      <th>3</th>\n",
       "      <th>4</th>\n",
       "      <th>5</th>\n",
       "      <th>6</th>\n",
       "      <th>7</th>\n",
       "      <th>8</th>\n",
       "      <th>9</th>\n",
       "      <th>10</th>\n",
       "      <th>11</th>\n",
       "      <th>12</th>\n",
       "      <th>13</th>\n",
       "      <th>14</th>\n",
       "      <th>15</th>\n",
       "      <th>16</th>\n",
       "      <th>17</th>\n",
       "      <th>18</th>\n",
       "      <th>19</th>\n",
       "    </tr>\n",
       "  </thead>\n",
       "  <tbody>\n",
       "    <tr>\n",
       "      <th>0</th>\n",
       "      <td>i</td>\n",
       "      <td>said</td>\n",
       "      <td>and</td>\n",
       "      <td>my</td>\n",
       "      <td>we</td>\n",
       "      <td>to</td>\n",
       "      <td>not</td>\n",
       "      <td>me</td>\n",
       "      <td>he</td>\n",
       "      <td>with</td>\n",
       "      <td>was</td>\n",
       "      <td>all</td>\n",
       "      <td>is</td>\n",
       "      <td>ravager</td>\n",
       "      <td>she</td>\n",
       "      <td>which</td>\n",
       "      <td>smallest</td>\n",
       "      <td>dog</td>\n",
       "      <td>had</td>\n",
       "      <td>like</td>\n",
       "    </tr>\n",
       "    <tr>\n",
       "      <th>1</th>\n",
       "      <td>he</td>\n",
       "      <td>his</td>\n",
       "      <td>to</td>\n",
       "      <td>that</td>\n",
       "      <td>him</td>\n",
       "      <td>s</td>\n",
       "      <td>you</td>\n",
       "      <td>on</td>\n",
       "      <td>was</td>\n",
       "      <td>were</td>\n",
       "      <td>i</td>\n",
       "      <td>they</td>\n",
       "      <td>down</td>\n",
       "      <td>up</td>\n",
       "      <td>into</td>\n",
       "      <td>man</td>\n",
       "      <td>them</td>\n",
       "      <td>me</td>\n",
       "      <td>what</td>\n",
       "      <td>t</td>\n",
       "    </tr>\n",
       "    <tr>\n",
       "      <th>2</th>\n",
       "      <td>i</td>\n",
       "      <td>the</td>\n",
       "      <td>had</td>\n",
       "      <td>my</td>\n",
       "      <td>to</td>\n",
       "      <td>and</td>\n",
       "      <td>a</td>\n",
       "      <td>which</td>\n",
       "      <td>was</td>\n",
       "      <td>with</td>\n",
       "      <td>that</td>\n",
       "      <td>his</td>\n",
       "      <td>said</td>\n",
       "      <td>upon</td>\n",
       "      <td>it</td>\n",
       "      <td>me</td>\n",
       "      <td>he</td>\n",
       "      <td>her</td>\n",
       "      <td>she</td>\n",
       "      <td>all</td>\n",
       "    </tr>\n",
       "    <tr>\n",
       "      <th>3</th>\n",
       "      <td>had</td>\n",
       "      <td>that</td>\n",
       "      <td>were</td>\n",
       "      <td>which</td>\n",
       "      <td>was</td>\n",
       "      <td>us</td>\n",
       "      <td>lake</td>\n",
       "      <td>from</td>\n",
       "      <td>great</td>\n",
       "      <td>old</td>\n",
       "      <td>what</td>\n",
       "      <td>its</td>\n",
       "      <td>seemed</td>\n",
       "      <td>those</td>\n",
       "      <td>or</td>\n",
       "      <td>over</td>\n",
       "      <td>five</td>\n",
       "      <td>though</td>\n",
       "      <td>ones</td>\n",
       "      <td>feet</td>\n",
       "    </tr>\n",
       "    <tr>\n",
       "      <th>4</th>\n",
       "      <td>i</td>\n",
       "      <td>you</td>\n",
       "      <td>the</td>\n",
       "      <td>to</td>\n",
       "      <td>that</td>\n",
       "      <td>is</td>\n",
       "      <td>it</td>\n",
       "      <td>had</td>\n",
       "      <td>my</td>\n",
       "      <td>have</td>\n",
       "      <td>not</td>\n",
       "      <td>he</td>\n",
       "      <td>which</td>\n",
       "      <td>with</td>\n",
       "      <td>was</td>\n",
       "      <td>upon</td>\n",
       "      <td>we</td>\n",
       "      <td>holmes</td>\n",
       "      <td>said</td>\n",
       "      <td>a</td>\n",
       "    </tr>\n",
       "    <tr>\n",
       "      <th>5</th>\n",
       "      <td>the</td>\n",
       "      <td>and</td>\n",
       "      <td>said</td>\n",
       "      <td>to</td>\n",
       "      <td>with</td>\n",
       "      <td>is</td>\n",
       "      <td>all</td>\n",
       "      <td>a</td>\n",
       "      <td>i</td>\n",
       "      <td>of</td>\n",
       "      <td>not</td>\n",
       "      <td>had</td>\n",
       "      <td>little</td>\n",
       "      <td>mowgli</td>\n",
       "      <td>they</td>\n",
       "      <td>for</td>\n",
       "      <td>one</td>\n",
       "      <td>that</td>\n",
       "      <td>but</td>\n",
       "      <td>we</td>\n",
       "    </tr>\n",
       "    <tr>\n",
       "      <th>6</th>\n",
       "      <td>the</td>\n",
       "      <td>and</td>\n",
       "      <td>of</td>\n",
       "      <td>a</td>\n",
       "      <td>in</td>\n",
       "      <td>it</td>\n",
       "      <td>at</td>\n",
       "      <td>for</td>\n",
       "      <td>as</td>\n",
       "      <td>was</td>\n",
       "      <td>from</td>\n",
       "      <td>i</td>\n",
       "      <td>have</td>\n",
       "      <td>there</td>\n",
       "      <td>but</td>\n",
       "      <td>by</td>\n",
       "      <td>this</td>\n",
       "      <td>be</td>\n",
       "      <td>would</td>\n",
       "      <td>to</td>\n",
       "    </tr>\n",
       "    <tr>\n",
       "      <th>7</th>\n",
       "      <td>the</td>\n",
       "      <td>of</td>\n",
       "      <td>to</td>\n",
       "      <td>we</td>\n",
       "      <td>and</td>\n",
       "      <td>with</td>\n",
       "      <td>our</td>\n",
       "      <td>on</td>\n",
       "      <td>all</td>\n",
       "      <td>not</td>\n",
       "      <td>one</td>\n",
       "      <td>could</td>\n",
       "      <td>their</td>\n",
       "      <td>s</td>\n",
       "      <td>some</td>\n",
       "      <td>they</td>\n",
       "      <td>must</td>\n",
       "      <td>even</td>\n",
       "      <td>first</td>\n",
       "      <td>up</td>\n",
       "    </tr>\n",
       "    <tr>\n",
       "      <th>8</th>\n",
       "      <td>the</td>\n",
       "      <td>of</td>\n",
       "      <td>to</td>\n",
       "      <td>that</td>\n",
       "      <td>is</td>\n",
       "      <td>in</td>\n",
       "      <td>a</td>\n",
       "      <td>which</td>\n",
       "      <td>as</td>\n",
       "      <td>be</td>\n",
       "      <td>it</td>\n",
       "      <td>this</td>\n",
       "      <td>are</td>\n",
       "      <td>its</td>\n",
       "      <td>have</td>\n",
       "      <td>at</td>\n",
       "      <td>by</td>\n",
       "      <td>or</td>\n",
       "      <td>not</td>\n",
       "      <td>no</td>\n",
       "    </tr>\n",
       "    <tr>\n",
       "      <th>9</th>\n",
       "      <td>the</td>\n",
       "      <td>a</td>\n",
       "      <td>and</td>\n",
       "      <td>her</td>\n",
       "      <td>of</td>\n",
       "      <td>she</td>\n",
       "      <td>with</td>\n",
       "      <td>was</td>\n",
       "      <td>had</td>\n",
       "      <td>conan</td>\n",
       "      <td>in</td>\n",
       "      <td>not</td>\n",
       "      <td>but</td>\n",
       "      <td>from</td>\n",
       "      <td>which</td>\n",
       "      <td>through</td>\n",
       "      <td>door</td>\n",
       "      <td>an</td>\n",
       "      <td>if</td>\n",
       "      <td>back</td>\n",
       "    </tr>\n",
       "  </tbody>\n",
       "</table>\n",
       "</div>"
      ],
      "text/plain": [
       "    0     1     2      3     4     5     6      7      8      9     10     11  \\\n",
       "0    i  said   and     my    we    to   not     me     he   with   was    all   \n",
       "1   he   his    to   that   him     s   you     on    was   were     i   they   \n",
       "2    i   the   had     my    to   and     a  which    was   with  that    his   \n",
       "3  had  that  were  which   was    us  lake   from  great    old  what    its   \n",
       "4    i   you   the     to  that    is    it    had     my   have   not     he   \n",
       "5  the   and  said     to  with    is   all      a      i     of   not    had   \n",
       "6  the   and    of      a    in    it    at    for     as    was  from      i   \n",
       "7  the    of    to     we   and  with   our     on    all    not   one  could   \n",
       "8  the    of    to   that    is    in     a  which     as     be    it   this   \n",
       "9  the     a   and    her    of   she  with    was    had  conan    in    not   \n",
       "\n",
       "       12       13     14       15        16      17     18    19  \n",
       "0      is  ravager    she    which  smallest     dog    had  like  \n",
       "1    down       up   into      man      them      me   what     t  \n",
       "2    said     upon     it       me        he     her    she   all  \n",
       "3  seemed    those     or     over      five  though   ones  feet  \n",
       "4   which     with    was     upon        we  holmes   said     a  \n",
       "5  little   mowgli   they      for       one    that    but    we  \n",
       "6    have    there    but       by      this      be  would    to  \n",
       "7   their        s   some     they      must    even  first    up  \n",
       "8     are      its   have       at        by      or    not    no  \n",
       "9     but     from  which  through      door      an     if  back  "
      ]
     },
     "execution_count": 4,
     "metadata": {},
     "output_type": "execute_result"
    }
   ],
   "source": [
    "topics_keys = mal.show_topics_keys(output_folder, \"topic_keys.txt\")\n",
    "topics_keys"
   ]
  },
  {
   "cell_type": "markdown",
   "metadata": {},
   "source": [
    "##### Dokument-Topic Mapping von Mallet output erzeugen"
   ]
  },
  {
   "cell_type": "code",
   "execution_count": 5,
   "metadata": {
    "collapsed": false,
    "scrolled": true
   },
   "outputs": [
    {
     "name": "stdout",
     "output_type": "stream",
     "text": [
      "i said and\n"
     ]
    },
    {
     "data": {
      "text/plain": [
       "'i said and'"
      ]
     },
     "execution_count": 5,
     "metadata": {},
     "output_type": "execute_result"
    }
   ],
   "source": [
    "docTopicMatrix = mal.show_docTopicMatrix(output_folder, \"doc_topics.txt\")\n",
    "docTopicMatrix"
   ]
  },
  {
   "cell_type": "code",
   "execution_count": 6,
   "metadata": {
    "collapsed": false
   },
   "outputs": [],
   "source": [
    "def makeLabelsForMalletOutput(pathtotopic_keys):\n",
    "    \n",
    "    import pandas as pd\n",
    "    df = pd.read_csv('tutorial_supplementals/mallet_output/topic_keys.txt', sep='\\t', header=None)\n",
    "    labels=[]\n",
    "    for index, item in df.iterrows():\n",
    "\n",
    "        label= ' '.join(item[2].split()[:3])\n",
    "        print(label)\n",
    "        return label"
   ]
  },
  {
   "cell_type": "markdown",
   "metadata": {
    "collapsed": true
   },
   "source": [
    "![success](http://cdn2.hubspot.net/hub/128506/file-446943132-jpg/images/computer_woman_success.jpg)"
   ]
  }
 ],
 "metadata": {
  "kernelspec": {
   "display_name": "Python 3",
   "language": "python",
   "name": "python3"
  },
  "language_info": {
   "codemirror_mode": {
    "name": "ipython",
    "version": 3
   },
   "file_extension": ".py",
   "mimetype": "text/x-python",
   "name": "python",
   "nbconvert_exporter": "python",
   "pygments_lexer": "ipython3",
   "version": "3.5.2"
  }
 },
 "nbformat": 4,
 "nbformat_minor": 0
}
