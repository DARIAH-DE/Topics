{
 "cells": [
  {
   "cell_type": "code",
   "execution_count": 1,
   "metadata": {
    "collapsed": false
   },
   "outputs": [
    {
     "name": "stderr",
     "output_type": "stream",
     "text": [
      "/usr/local/lib/python3.5/dist-packages/funcy/decorators.py:56: DeprecationWarning: inspect.getargspec() is deprecated, use inspect.signature() instead\n",
      "  spec = inspect.getargspec(func)\n",
      "/usr/local/lib/python3.5/dist-packages/funcy/decorators.py:56: DeprecationWarning: inspect.getargspec() is deprecated, use inspect.signature() instead\n",
      "  spec = inspect.getargspec(func)\n",
      "/usr/local/lib/python3.5/dist-packages/funcy/decorators.py:56: DeprecationWarning: inspect.getargspec() is deprecated, use inspect.signature() instead\n",
      "  spec = inspect.getargspec(func)\n",
      "/usr/local/lib/python3.5/dist-packages/funcy/decorators.py:56: DeprecationWarning: inspect.getargspec() is deprecated, use inspect.signature() instead\n",
      "  spec = inspect.getargspec(func)\n",
      "/usr/local/lib/python3.5/dist-packages/funcy/decorators.py:56: DeprecationWarning: inspect.getargspec() is deprecated, use inspect.signature() instead\n",
      "  spec = inspect.getargspec(func)\n",
      "/usr/local/lib/python3.5/dist-packages/funcy/decorators.py:56: DeprecationWarning: inspect.getargspec() is deprecated, use inspect.signature() instead\n",
      "  spec = inspect.getargspec(func)\n"
     ]
    }
   ],
   "source": [
    "from dariah_topics import mallet as mal\n",
    "from dariah_topics import visualization as visual"
   ]
  },
  {
   "cell_type": "markdown",
   "metadata": {},
   "source": [
    "## Preprocessing"
   ]
  },
  {
   "cell_type": "markdown",
   "metadata": {},
   "source": [
    "## Topic Modeling mit Mallet"
   ]
  },
  {
   "cell_type": "markdown",
   "metadata": {},
   "source": [
    "##### Mallet model erzeugen"
   ]
  },
  {
   "cell_type": "code",
   "execution_count": 2,
   "metadata": {
    "collapsed": false
   },
   "outputs": [
    {
     "data": {
      "text/plain": [
       "'tutorial_supplementals/mallet_output/malletModel.mallet'"
      ]
     },
     "execution_count": 2,
     "metadata": {},
     "output_type": "execute_result"
    }
   ],
   "source": [
    "#Variablen zum Testen\n",
    "path_to_mallet = \"/home/sina/Uni/Dariah/mallet/bin/mallet\"\n",
    "#path_to_mallet = \"mallet\"\n",
    "\n",
    "outfolder = \"tutorial_supplementals/mallet_output\"\n",
    "path_to_corpus = \"corpus_txt\"\n",
    "\n",
    "mallet_model = mal.create_mallet_model(path_to_mallet=path_to_mallet, outfolder = outfolder, path_to_corpus=path_to_corpus)\n",
    "mallet_model"
   ]
  },
  {
   "cell_type": "markdown",
   "metadata": {},
   "source": [
    "##### Mallet output erzeugen"
   ]
  },
  {
   "cell_type": "code",
   "execution_count": 3,
   "metadata": {
    "collapsed": false,
    "scrolled": false
   },
   "outputs": [
    {
     "data": {
      "text/plain": [
       "'/home/sina/Uni/Dariah/DARIAH-Topics/Topics/tutorial_supplementals/mallet_output'"
      ]
     },
     "execution_count": 3,
     "metadata": {},
     "output_type": "execute_result"
    }
   ],
   "source": [
    "#default parameter - can be overwritten\n",
    "#num_topics = 10\n",
    "#num_iterations = 10\n",
    "#num_top_words = 10\n",
    "\n",
    "\n",
    "output_folder = mal.create_mallet_output(path_to_mallet=path_to_mallet, path_to_malletModel=mallet_model, outfolder=outfolder)\n",
    "output_folder"
   ]
  },
  {
   "cell_type": "markdown",
   "metadata": {},
   "source": [
    "##### Show Tokens for each Topic"
   ]
  },
  {
   "cell_type": "code",
   "execution_count": 4,
   "metadata": {
    "collapsed": false,
    "scrolled": true
   },
   "outputs": [
    {
     "data": {
      "text/html": [
       "<div>\n",
       "<table border=\"1\" class=\"dataframe\">\n",
       "  <thead>\n",
       "    <tr style=\"text-align: right;\">\n",
       "      <th></th>\n",
       "      <th>0</th>\n",
       "      <th>1</th>\n",
       "      <th>2</th>\n",
       "      <th>3</th>\n",
       "      <th>4</th>\n",
       "      <th>5</th>\n",
       "      <th>6</th>\n",
       "      <th>7</th>\n",
       "      <th>8</th>\n",
       "      <th>9</th>\n",
       "    </tr>\n",
       "  </thead>\n",
       "  <tbody>\n",
       "    <tr>\n",
       "      <th>0</th>\n",
       "      <td>h</td>\n",
       "      <td>arbeitseinstellungen</td>\n",
       "      <td>koran</td>\n",
       "      <td>m</td>\n",
       "      <td>wakuf</td>\n",
       "      <td>strauber</td>\n",
       "      <td>ter</td>\n",
       "      <td>pal</td>\n",
       "      <td>simson</td>\n",
       "      <td>varlin</td>\n",
       "    </tr>\n",
       "    <tr>\n",
       "      <th>1</th>\n",
       "      <td>w</td>\n",
       "      <td>m</td>\n",
       "      <td>gerhards</td>\n",
       "      <td>bavaria</td>\n",
       "      <td>volkskunde</td>\n",
       "      <td>nde</td>\n",
       "      <td>geisteskrankheit</td>\n",
       "      <td>hohenlohe</td>\n",
       "      <td>comthur</td>\n",
       "      <td>siebenb</td>\n",
       "    </tr>\n",
       "    <tr>\n",
       "      <th>2</th>\n",
       "      <td>winckelmann</td>\n",
       "      <td>s</td>\n",
       "      <td>orbilius</td>\n",
       "      <td>euryanthe</td>\n",
       "      <td>winckelmanns</td>\n",
       "      <td>kuklux</td>\n",
       "      <td>galiziens</td>\n",
       "      <td>fisk</td>\n",
       "      <td>thorbecke</td>\n",
       "      <td>mahmud</td>\n",
       "    </tr>\n",
       "    <tr>\n",
       "      <th>3</th>\n",
       "      <td>s</td>\n",
       "      <td>napoleon</td>\n",
       "      <td>b</td>\n",
       "      <td>bunsen</td>\n",
       "      <td>epigramme</td>\n",
       "      <td>carnot</td>\n",
       "      <td>gestrandeten</td>\n",
       "      <td>schiffbr</td>\n",
       "      <td>schw</td>\n",
       "      <td>lazarethe</td>\n",
       "    </tr>\n",
       "    <tr>\n",
       "      <th>4</th>\n",
       "      <td>seyn</td>\n",
       "      <td>staupenschlag</td>\n",
       "      <td>cyriacus</td>\n",
       "      <td>the</td>\n",
       "      <td>targum</td>\n",
       "      <td>landoberschulthei</td>\n",
       "      <td>nder</td>\n",
       "      <td>dura</td>\n",
       "      <td>schen</td>\n",
       "      <td>seraing</td>\n",
       "    </tr>\n",
       "    <tr>\n",
       "      <th>5</th>\n",
       "      <td>azeglio</td>\n",
       "      <td>s</td>\n",
       "      <td>tours</td>\n",
       "      <td>newton</td>\n",
       "      <td>ricasoli</td>\n",
       "      <td>pr</td>\n",
       "      <td>l</td>\n",
       "      <td>mausoleums</td>\n",
       "      <td>maussollos</td>\n",
       "      <td>castells</td>\n",
       "    </tr>\n",
       "    <tr>\n",
       "      <th>6</th>\n",
       "      <td>r</td>\n",
       "      <td>d</td>\n",
       "      <td>cusanus</td>\n",
       "      <td>panzerung</td>\n",
       "      <td>apoll</td>\n",
       "      <td>waldecksche</td>\n",
       "      <td>en</td>\n",
       "      <td>mecklenburgs</td>\n",
       "      <td>monitors</td>\n",
       "      <td>coles</td>\n",
       "    </tr>\n",
       "    <tr>\n",
       "      <th>7</th>\n",
       "      <td>t</td>\n",
       "      <td>livingstone</td>\n",
       "      <td>spielbanken</td>\n",
       "      <td>zigeunern</td>\n",
       "      <td>estland</td>\n",
       "      <td>rke</td>\n",
       "      <td>anthony</td>\n",
       "      <td>ge</td>\n",
       "      <td>jakobus</td>\n",
       "      <td>livlands</td>\n",
       "    </tr>\n",
       "    <tr>\n",
       "      <th>8</th>\n",
       "      <td>gesundheitspflege</td>\n",
       "      <td>einzelhaft</td>\n",
       "      <td>pct</td>\n",
       "      <td>skopzen</td>\n",
       "      <td>bergung</td>\n",
       "      <td>bergelohn</td>\n",
       "      <td>perregaux</td>\n",
       "      <td>th</td>\n",
       "      <td>greeley</td>\n",
       "      <td>mobilgarden</td>\n",
       "    </tr>\n",
       "    <tr>\n",
       "      <th>9</th>\n",
       "      <td>ehlen</td>\n",
       "      <td>urw</td>\n",
       "      <td>hler</td>\n",
       "      <td>apostelgeschichte</td>\n",
       "      <td>gazelle</td>\n",
       "      <td>cke</td>\n",
       "      <td>zwischendeck</td>\n",
       "      <td>mausoleum</td>\n",
       "      <td>kriegsschiff</td>\n",
       "      <td>s</td>\n",
       "    </tr>\n",
       "  </tbody>\n",
       "</table>\n",
       "</div>"
      ],
      "text/plain": [
       "                   0                     1            2                  3  \\\n",
       "0                  h  arbeitseinstellungen        koran                  m   \n",
       "1                  w                     m     gerhards            bavaria   \n",
       "2        winckelmann                     s     orbilius          euryanthe   \n",
       "3                  s              napoleon            b             bunsen   \n",
       "4               seyn         staupenschlag     cyriacus                the   \n",
       "5            azeglio                     s        tours             newton   \n",
       "6                  r                     d      cusanus          panzerung   \n",
       "7                  t           livingstone  spielbanken          zigeunern   \n",
       "8  gesundheitspflege            einzelhaft          pct            skopzen   \n",
       "9              ehlen                   urw         hler  apostelgeschichte   \n",
       "\n",
       "              4                  5                 6             7  \\\n",
       "0         wakuf           strauber               ter           pal   \n",
       "1    volkskunde                nde  geisteskrankheit     hohenlohe   \n",
       "2  winckelmanns             kuklux         galiziens          fisk   \n",
       "3     epigramme             carnot      gestrandeten      schiffbr   \n",
       "4        targum  landoberschulthei              nder          dura   \n",
       "5      ricasoli                 pr                 l    mausoleums   \n",
       "6         apoll        waldecksche                en  mecklenburgs   \n",
       "7       estland                rke           anthony            ge   \n",
       "8       bergung          bergelohn         perregaux            th   \n",
       "9       gazelle                cke      zwischendeck     mausoleum   \n",
       "\n",
       "              8            9  \n",
       "0        simson       varlin  \n",
       "1       comthur      siebenb  \n",
       "2     thorbecke       mahmud  \n",
       "3          schw    lazarethe  \n",
       "4         schen      seraing  \n",
       "5    maussollos     castells  \n",
       "6      monitors        coles  \n",
       "7       jakobus     livlands  \n",
       "8       greeley  mobilgarden  \n",
       "9  kriegsschiff            s  "
      ]
     },
     "execution_count": 4,
     "metadata": {},
     "output_type": "execute_result"
    }
   ],
   "source": [
    "topics_keys = mal.show_topics_keys(output_folder, \"topic_keys.txt\")\n",
    "topics_keys"
   ]
  },
  {
   "cell_type": "markdown",
   "metadata": {},
   "source": [
    "##### Dokument-Topic Mapping von Mallet output erzeugen"
   ]
  },
  {
   "cell_type": "code",
   "execution_count": 5,
   "metadata": {
    "collapsed": false,
    "scrolled": true
   },
   "outputs": [
    {
     "name": "stdout",
     "output_type": "stream",
     "text": [
      "h arbeitseinstellungen koran\n"
     ]
    },
    {
     "data": {
      "text/plain": [
       "'h arbeitseinstellungen koran'"
      ]
     },
     "execution_count": 5,
     "metadata": {},
     "output_type": "execute_result"
    }
   ],
   "source": [
    "docTopicMatrix = mal.show_docTopicMatrix(output_folder, \"doc_topics.txt\")\n",
    "docTopicMatrix"
   ]
  },
  {
   "cell_type": "code",
   "execution_count": 6,
   "metadata": {
    "collapsed": false
   },
   "outputs": [],
   "source": [
    "def makeLabelsForMalletOutput(pathtotopic_keys):\n",
    "    \n",
    "    import pandas as pd\n",
    "    df = pd.read_csv('tutorial_supplementals/mallet_output/topic_keys.txt', sep='\\t', header=None)\n",
    "    labels=[]\n",
    "    for index, item in df.iterrows():\n",
    "\n",
    "        label= ' '.join(item[2].split()[:3])\n",
    "        print(label)\n",
    "        return label"
   ]
  },
  {
   "cell_type": "markdown",
   "metadata": {
    "collapsed": false,
    "scrolled": true
   },
   "source": [
    "##### Read (unzipped) state file"
   ]
  },
  {
   "cell_type": "code",
   "execution_count": 7,
   "metadata": {
    "collapsed": false,
    "scrolled": true
   },
   "outputs": [
    {
     "data": {
      "text/plain": [
       "'import pandas as pd\\nimport gzip\\nimport os\\n\\n\\noutfilename = outfolder + \"/state\"\\n\\n   \\ndata = pd.read_csv(outfilename, sep=\" \", header = 3)\\ndata[:5]'"
      ]
     },
     "execution_count": 7,
     "metadata": {},
     "output_type": "execute_result"
    }
   ],
   "source": [
    "'''import pandas as pd\n",
    "import gzip\n",
    "import os\n",
    "\n",
    "\n",
    "outfilename = outfolder + \"/state\"\n",
    "\n",
    "   \n",
    "data = pd.read_csv(outfilename, sep=\" \", header = 3)\n",
    "data[:5]'''"
   ]
  },
  {
   "cell_type": "markdown",
   "metadata": {
    "collapsed": true
   },
   "source": [
    "![success](http://cdn2.hubspot.net/hub/128506/file-446943132-jpg/images/computer_woman_success.jpg)"
   ]
  }
 ],
 "metadata": {
  "kernelspec": {
   "display_name": "Python 3",
   "language": "python",
   "name": "python3"
  },
  "language_info": {
   "codemirror_mode": {
    "name": "ipython",
    "version": 3
   },
   "file_extension": ".py",
   "mimetype": "text/x-python",
   "name": "python",
   "nbconvert_exporter": "python",
   "pygments_lexer": "ipython3",
   "version": "3.5.2"
  }
 },
 "nbformat": 4,
 "nbformat_minor": 0
}
