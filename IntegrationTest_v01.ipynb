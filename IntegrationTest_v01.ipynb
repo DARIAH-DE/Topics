{
 "cells": [
  {
   "cell_type": "code",
   "execution_count": 1,
   "metadata": {
    "collapsed": false
   },
   "outputs": [
    {
     "name": "stderr",
     "output_type": "stream",
     "text": [
      "26-Jan-2017 18:30:36 DEBUG gensim.models.doc2vec: Fast version of gensim.models.doc2vec is being used\n",
      "26-Jan-2017 18:30:36 INFO summa.preprocessing.cleaner: 'pattern' package not found; tag filters are not available for English\n",
      "26-Jan-2017 18:30:36 INFO root: Generating grammar tables from /usr/lib/python3.5/lib2to3/Grammar.txt\n",
      "26-Jan-2017 18:30:36 INFO root: Generating grammar tables from /usr/lib/python3.5/lib2to3/PatternGrammar.txt\n",
      "/home/tv/.virtualenvs/Topics/lib/python3.5/site-packages/funcy/decorators.py:56: DeprecationWarning: inspect.getargspec() is deprecated, use inspect.signature() instead\n",
      "  spec = inspect.getargspec(func)\n",
      "/home/tv/.virtualenvs/Topics/lib/python3.5/site-packages/funcy/decorators.py:56: DeprecationWarning: inspect.getargspec() is deprecated, use inspect.signature() instead\n",
      "  spec = inspect.getargspec(func)\n",
      "/home/tv/.virtualenvs/Topics/lib/python3.5/site-packages/funcy/decorators.py:56: DeprecationWarning: inspect.getargspec() is deprecated, use inspect.signature() instead\n",
      "  spec = inspect.getargspec(func)\n",
      "/home/tv/.virtualenvs/Topics/lib/python3.5/site-packages/funcy/decorators.py:56: DeprecationWarning: inspect.getargspec() is deprecated, use inspect.signature() instead\n",
      "  spec = inspect.getargspec(func)\n",
      "/home/tv/.virtualenvs/Topics/lib/python3.5/site-packages/funcy/decorators.py:56: DeprecationWarning: inspect.getargspec() is deprecated, use inspect.signature() instead\n",
      "  spec = inspect.getargspec(func)\n",
      "/home/tv/.virtualenvs/Topics/lib/python3.5/site-packages/funcy/decorators.py:56: DeprecationWarning: inspect.getargspec() is deprecated, use inspect.signature() instead\n",
      "  spec = inspect.getargspec(func)\n"
     ]
    }
   ],
   "source": [
    "from dariah_topics import preprocessing as pre\n",
    "from dariah_topics import visualization as visual\n",
    "from dariah_topics import mallet as mal\n",
    "# Warning is Gensim related"
   ]
  },
  {
   "cell_type": "markdown",
   "metadata": {},
   "source": [
    "## Preprocessing"
   ]
  },
  {
   "cell_type": "markdown",
   "metadata": {},
   "source": [
    "#### Liste mit Dateinamen erzeugen"
   ]
  },
  {
   "cell_type": "code",
   "execution_count": 2,
   "metadata": {
    "collapsed": false
   },
   "outputs": [
    {
     "name": "stderr",
     "output_type": "stream",
     "text": [
      "26-Jan-2017 18:30:36 INFO preprocessing: Creating document list from TXT files ...\n",
      "26-Jan-2017 18:30:36 DEBUG preprocessing: 17 entries in document list.\n"
     ]
    },
    {
     "data": {
      "text/plain": [
       "['corpus_txt/Doyle_AScandalinBohemia.txt',\n",
       " 'corpus_txt/Doyle_AStudyinScarlet.txt',\n",
       " 'corpus_txt/Doyle_TheHoundoftheBaskervilles.txt',\n",
       " 'corpus_txt/Doyle_TheSignoftheFour.txt',\n",
       " 'corpus_txt/Howard_GodsoftheNorth.txt']"
      ]
     },
     "execution_count": 2,
     "metadata": {},
     "output_type": "execute_result"
    }
   ],
   "source": [
    "path_txt = \"corpus_txt\"\n",
    "#path_txt = \"grenzbote_plain/*/\"\n",
    "\n",
    "doclist_txt = pre.create_document_list(path_txt)\n",
    "assert doclist_txt, \"No documents found\"\n",
    "doclist_txt[:5]"
   ]
  },
  {
   "cell_type": "code",
   "execution_count": 3,
   "metadata": {
    "collapsed": false
   },
   "outputs": [
    {
     "name": "stderr",
     "output_type": "stream",
     "text": [
      "26-Jan-2017 18:30:36 INFO preprocessing: Creating document list from CSV files ...\n",
      "26-Jan-2017 18:30:36 DEBUG preprocessing: 16 entries in document list.\n"
     ]
    },
    {
     "data": {
      "text/plain": [
       "['corpus_csv/Doyle_AStudyinScarlet.txt.csv',\n",
       " 'corpus_csv/Doyle_TheHoundoftheBaskervilles.txt.csv',\n",
       " 'corpus_csv/Doyle_TheSignoftheFour.txt.csv',\n",
       " 'corpus_csv/Howard_GodsoftheNorth.txt.csv',\n",
       " 'corpus_csv/Howard_SchadowsinZamboula.txt.csv']"
      ]
     },
     "execution_count": 3,
     "metadata": {},
     "output_type": "execute_result"
    }
   ],
   "source": [
    "path_csv = \"corpus_csv\"\n",
    "\n",
    "doclist_csv = pre.create_document_list(path_csv, 'csv')\n",
    "doclist_csv[:5]"
   ]
  },
  {
   "cell_type": "markdown",
   "metadata": {},
   "source": [
    "#####  Liste mit Dokumentenlabels erzeugen - (Funktion wird durch Thorsten's generischere Funktion ersetzt)"
   ]
  },
  {
   "cell_type": "code",
   "execution_count": 4,
   "metadata": {
    "collapsed": false
   },
   "outputs": [
    {
     "name": "stderr",
     "output_type": "stream",
     "text": [
      "26-Jan-2017 18:30:36 INFO preprocessing: Creating document labels ...\n",
      "26-Jan-2017 18:30:36 DEBUG preprocessing: Document labels available\n"
     ]
    },
    {
     "data": {
      "text/plain": [
       "['corpus_txt/Doyle_AScandalinBohemia.txt',\n",
       " 'corpus_txt/Doyle_AStudyinScarlet.txt',\n",
       " 'corpus_txt/Doyle_TheHoundoftheBaskervilles.txt',\n",
       " 'corpus_txt/Doyle_TheSignoftheFour.txt',\n",
       " 'corpus_txt/Howard_GodsoftheNorth.txt']"
      ]
     },
     "execution_count": 4,
     "metadata": {},
     "output_type": "execute_result"
    }
   ],
   "source": [
    "doc_labels = list(pre.get_labels(doclist_txt))\n",
    "doc_labels[:5]"
   ]
  },
  {
   "cell_type": "markdown",
   "metadata": {},
   "source": [
    "#### Corpus laden"
   ]
  },
  {
   "cell_type": "code",
   "execution_count": 5,
   "metadata": {
    "collapsed": false
   },
   "outputs": [],
   "source": [
    "corpus_txt = pre.read_from_txt(doclist_txt)"
   ]
  },
  {
   "cell_type": "code",
   "execution_count": 6,
   "metadata": {
    "collapsed": true
   },
   "outputs": [],
   "source": [
    "corpus_csv = pre.read_from_csv(doclist_csv)"
   ]
  },
  {
   "cell_type": "markdown",
   "metadata": {},
   "source": [
    "#### Tokenisieren"
   ]
  },
  {
   "cell_type": "code",
   "execution_count": 7,
   "metadata": {
    "collapsed": false
   },
   "outputs": [
    {
     "name": "stderr",
     "output_type": "stream",
     "text": [
      "26-Jan-2017 18:30:37 DEBUG preprocessing: Accessing TXT document corpus_txt/Doyle_AScandalinBohemia.txt ...\n",
      "26-Jan-2017 18:30:37 DEBUG preprocessing: Accessing TXT document corpus_txt/Doyle_AStudyinScarlet.txt ...\n",
      "26-Jan-2017 18:30:37 DEBUG preprocessing: Accessing TXT document corpus_txt/Doyle_TheHoundoftheBaskervilles.txt ...\n",
      "26-Jan-2017 18:30:37 DEBUG preprocessing: Accessing TXT document corpus_txt/Doyle_TheSignoftheFour.txt ...\n",
      "26-Jan-2017 18:30:37 DEBUG preprocessing: Accessing TXT document corpus_txt/Howard_GodsoftheNorth.txt ...\n",
      "26-Jan-2017 18:30:37 DEBUG preprocessing: Accessing TXT document corpus_txt/Howard_SchadowsinZamboula.txt ...\n",
      "26-Jan-2017 18:30:37 DEBUG preprocessing: Accessing TXT document corpus_txt/Howard_ShadowsintheMoonlight.txt ...\n",
      "26-Jan-2017 18:30:37 DEBUG preprocessing: Accessing TXT document corpus_txt/Howard_TheDevilinIron.txt ...\n",
      "26-Jan-2017 18:30:37 DEBUG preprocessing: Accessing TXT document corpus_txt/Kipling_TheEndofthePassage.txt ...\n",
      "26-Jan-2017 18:30:37 DEBUG preprocessing: Accessing TXT document corpus_txt/Kipling_TheJungleBook.txt ...\n",
      "26-Jan-2017 18:30:37 DEBUG preprocessing: Accessing TXT document corpus_txt/Kipling_ThyServantaDog.txt ...\n",
      "26-Jan-2017 18:30:37 DEBUG preprocessing: Accessing TXT document corpus_txt/Lovecraft_AttheMountainofMadness.txt ...\n",
      "26-Jan-2017 18:30:37 DEBUG preprocessing: Accessing TXT document corpus_txt/Lovecraft_TheShunnedHouse.txt ...\n",
      "26-Jan-2017 18:30:37 DEBUG preprocessing: Accessing TXT document corpus_txt/Poe_EurekaAProsePoem.txt ...\n",
      "26-Jan-2017 18:30:37 DEBUG preprocessing: Accessing TXT document corpus_txt/Poe_TheCaskofAmontillado.txt ...\n",
      "26-Jan-2017 18:30:37 DEBUG preprocessing: Accessing TXT document corpus_txt/Poe_TheMasqueoftheRedDeath.txt ...\n",
      "26-Jan-2017 18:30:37 DEBUG preprocessing: Accessing TXT document corpus_txt/Poe_ThePurloinedLetter.txt ...\n"
     ]
    },
    {
     "data": {
      "text/plain": [
       "[['a',\n",
       "  'scandal',\n",
       "  'in',\n",
       "  'bohemia',\n",
       "  'a',\n",
       "  'conan',\n",
       "  'doyle',\n",
       "  'i',\n",
       "  'to',\n",
       "  'sherlock',\n",
       "  'holmes',\n",
       "  'she',\n",
       "  'is',\n",
       "  'always',\n",
       "  'the',\n",
       "  'woman',\n",
       "  'i',\n",
       "  'have',\n",
       "  'seldom',\n",
       "  'heard',\n",
       "  'him',\n",
       "  'mention',\n",
       "  'her',\n",
       "  'under',\n",
       "  'any',\n",
       "  'other',\n",
       "  'name',\n",
       "  'in',\n",
       "  'his',\n",
       "  'eyes',\n",
       "  'she',\n",
       "  'eclipses',\n",
       "  'and',\n",
       "  'predominates',\n",
       "  'the',\n",
       "  'whole',\n",
       "  'of',\n",
       "  'her',\n",
       "  'sex',\n",
       "  'it',\n",
       "  'was',\n",
       "  'not',\n",
       "  'that',\n",
       "  'he',\n",
       "  'felt',\n",
       "  'any',\n",
       "  'emotion',\n",
       "  'akin',\n",
       "  'to',\n",
       "  'love',\n",
       "  'for',\n",
       "  'irene',\n",
       "  'adler',\n",
       "  'all',\n",
       "  'emotions',\n",
       "  'and',\n",
       "  'that',\n",
       "  'one',\n",
       "  'particularly',\n",
       "  'were',\n",
       "  'abhorrent',\n",
       "  'to',\n",
       "  'his',\n",
       "  'cold',\n",
       "  'precise',\n",
       "  'but',\n",
       "  'admirably',\n",
       "  'balanced',\n",
       "  'mind',\n",
       "  'he',\n",
       "  'was',\n",
       "  'i',\n",
       "  'take',\n",
       "  'it',\n",
       "  'the',\n",
       "  'most',\n",
       "  'perfect',\n",
       "  'reasoning',\n",
       "  'and',\n",
       "  'observing',\n",
       "  'machine',\n",
       "  'that',\n",
       "  'the',\n",
       "  'world',\n",
       "  'has',\n",
       "  'seen',\n",
       "  'but',\n",
       "  'as',\n",
       "  'a',\n",
       "  'lover',\n",
       "  'he',\n",
       "  'would',\n",
       "  'have',\n",
       "  'placed',\n",
       "  'himself',\n",
       "  'in',\n",
       "  'a',\n",
       "  'false',\n",
       "  'position',\n",
       "  'he',\n",
       "  'never',\n",
       "  'spoke',\n",
       "  'of',\n",
       "  'the',\n",
       "  'softer',\n",
       "  'passions',\n",
       "  'save',\n",
       "  'with',\n",
       "  'a',\n",
       "  'gibe',\n",
       "  'and',\n",
       "  'a',\n",
       "  'sneer',\n",
       "  'they',\n",
       "  'were',\n",
       "  'admirable',\n",
       "  'things',\n",
       "  'for',\n",
       "  'the',\n",
       "  'observer--excellent',\n",
       "  'for',\n",
       "  'drawing',\n",
       "  'the',\n",
       "  'veil',\n",
       "  'from',\n",
       "  \"men's\",\n",
       "  'motives',\n",
       "  'and',\n",
       "  'actions',\n",
       "  'but',\n",
       "  'for',\n",
       "  'the',\n",
       "  'trained',\n",
       "  'reasoner',\n",
       "  'to',\n",
       "  'admit',\n",
       "  'such',\n",
       "  'intrusions',\n",
       "  'into',\n",
       "  'his',\n",
       "  'own',\n",
       "  'delicate',\n",
       "  'and',\n",
       "  'finely',\n",
       "  'adjusted',\n",
       "  'temperament',\n",
       "  'was',\n",
       "  'to',\n",
       "  'introduce',\n",
       "  'a',\n",
       "  'distracting',\n",
       "  'factor',\n",
       "  'which',\n",
       "  'might',\n",
       "  'throw',\n",
       "  'a',\n",
       "  'doubt',\n",
       "  'upon',\n",
       "  'all',\n",
       "  'his',\n",
       "  'mental',\n",
       "  'results',\n",
       "  'grit',\n",
       "  'in',\n",
       "  'a',\n",
       "  'sensitive',\n",
       "  'instrument',\n",
       "  'or',\n",
       "  'a',\n",
       "  'crack',\n",
       "  'in',\n",
       "  'one',\n",
       "  'of',\n",
       "  'his',\n",
       "  'own',\n",
       "  'high-power',\n",
       "  'lenses',\n",
       "  'would',\n",
       "  'not',\n",
       "  'be',\n",
       "  'more',\n",
       "  'disturbing',\n",
       "  'than',\n",
       "  'a',\n",
       "  'strong',\n",
       "  'emotion',\n",
       "  'in',\n",
       "  'a',\n",
       "  'nature',\n",
       "  'such',\n",
       "  'as',\n",
       "  'his',\n",
       "  'and',\n",
       "  'yet',\n",
       "  'there',\n",
       "  'was',\n",
       "  'but',\n",
       "  'one',\n",
       "  'woman',\n",
       "  'to',\n",
       "  'him',\n",
       "  'and',\n",
       "  'that',\n",
       "  'woman',\n",
       "  'was',\n",
       "  'the',\n",
       "  'late',\n",
       "  'irene',\n",
       "  'adler',\n",
       "  'of',\n",
       "  'dubious',\n",
       "  'and',\n",
       "  'questionable',\n",
       "  'memory',\n",
       "  'i',\n",
       "  'had',\n",
       "  'seen',\n",
       "  'little',\n",
       "  'of',\n",
       "  'holmes',\n",
       "  'lately',\n",
       "  'my',\n",
       "  'marriage',\n",
       "  'had',\n",
       "  'drifted',\n",
       "  'us',\n",
       "  'away',\n",
       "  'from',\n",
       "  'each',\n",
       "  'other',\n",
       "  'my',\n",
       "  'own',\n",
       "  'complete',\n",
       "  'happiness',\n",
       "  'and',\n",
       "  'the',\n",
       "  'home-centred',\n",
       "  'interests',\n",
       "  'which',\n",
       "  'rise',\n",
       "  'up',\n",
       "  'around',\n",
       "  'the',\n",
       "  'man',\n",
       "  'who',\n",
       "  'first',\n",
       "  'finds',\n",
       "  'himself',\n",
       "  'master',\n",
       "  'of',\n",
       "  'his',\n",
       "  'own',\n",
       "  'establishment',\n",
       "  'were',\n",
       "  'sufficient',\n",
       "  'to',\n",
       "  'absorb',\n",
       "  'all',\n",
       "  'my',\n",
       "  'attention',\n",
       "  'while',\n",
       "  'holmes',\n",
       "  'who',\n",
       "  'loathed',\n",
       "  'every',\n",
       "  'form',\n",
       "  'of',\n",
       "  'society',\n",
       "  'with',\n",
       "  'his',\n",
       "  'whole',\n",
       "  'bohemian',\n",
       "  'soul',\n",
       "  'remained',\n",
       "  'in',\n",
       "  'our',\n",
       "  'lodgings',\n",
       "  'in',\n",
       "  'baker',\n",
       "  'street',\n",
       "  'buried',\n",
       "  'among',\n",
       "  'his',\n",
       "  'old',\n",
       "  'books',\n",
       "  'and',\n",
       "  'alternating',\n",
       "  'from',\n",
       "  'week',\n",
       "  'to',\n",
       "  'week',\n",
       "  'between',\n",
       "  'cocaine',\n",
       "  'and',\n",
       "  'ambition',\n",
       "  'the',\n",
       "  'drowsiness',\n",
       "  'of',\n",
       "  'the',\n",
       "  'drug',\n",
       "  'and',\n",
       "  'the',\n",
       "  'fierce',\n",
       "  'energy',\n",
       "  'of',\n",
       "  'his',\n",
       "  'own',\n",
       "  'keen',\n",
       "  'nature',\n",
       "  'he',\n",
       "  'was',\n",
       "  'still',\n",
       "  'as',\n",
       "  'ever',\n",
       "  'deeply',\n",
       "  'attracted',\n",
       "  'by',\n",
       "  'the',\n",
       "  'study',\n",
       "  'of',\n",
       "  'crime',\n",
       "  'and',\n",
       "  'occupied',\n",
       "  'his',\n",
       "  'immense',\n",
       "  'faculties',\n",
       "  'and',\n",
       "  'extraordinary',\n",
       "  'powers',\n",
       "  'of',\n",
       "  'observation',\n",
       "  'in',\n",
       "  'following',\n",
       "  'out',\n",
       "  'those',\n",
       "  'clews',\n",
       "  'and',\n",
       "  'clearing',\n",
       "  'up',\n",
       "  'those',\n",
       "  'mysteries',\n",
       "  'which',\n",
       "  'had',\n",
       "  'been',\n",
       "  'abandoned',\n",
       "  'as',\n",
       "  'hopeless',\n",
       "  'by',\n",
       "  'the',\n",
       "  'official',\n",
       "  'police',\n",
       "  'from',\n",
       "  'time',\n",
       "  'to',\n",
       "  'time',\n",
       "  'i',\n",
       "  'heard',\n",
       "  'some',\n",
       "  'vague',\n",
       "  'account',\n",
       "  'of',\n",
       "  'his',\n",
       "  'doings',\n",
       "  'of',\n",
       "  'his',\n",
       "  'summons',\n",
       "  'to',\n",
       "  'odessa',\n",
       "  'in',\n",
       "  'the',\n",
       "  'case',\n",
       "  'of',\n",
       "  'the',\n",
       "  'trepoff',\n",
       "  'murder',\n",
       "  'of',\n",
       "  'his',\n",
       "  'clearing',\n",
       "  'up',\n",
       "  'of',\n",
       "  'the',\n",
       "  'singular',\n",
       "  'tragedy',\n",
       "  'of',\n",
       "  'the',\n",
       "  'atkinson',\n",
       "  'brothers',\n",
       "  'at',\n",
       "  'trincomalee',\n",
       "  'and',\n",
       "  'finally',\n",
       "  'of',\n",
       "  'the',\n",
       "  'mission',\n",
       "  'which',\n",
       "  'he',\n",
       "  'had',\n",
       "  'accomplished',\n",
       "  'so',\n",
       "  'delicately',\n",
       "  'and',\n",
       "  'successfully',\n",
       "  'for',\n",
       "  'the',\n",
       "  'reigning',\n",
       "  'family',\n",
       "  'of',\n",
       "  'holland',\n",
       "  'beyond',\n",
       "  'these',\n",
       "  'signs',\n",
       "  'of',\n",
       "  'his',\n",
       "  'activity',\n",
       "  'however',\n",
       "  'which',\n",
       "  'i',\n",
       "  'merely',\n",
       "  'shared',\n",
       "  'with',\n",
       "  'all',\n",
       "  'the',\n",
       "  'readers',\n",
       "  'of',\n",
       "  'the',\n",
       "  'daily',\n",
       "  'press',\n",
       "  'i',\n",
       "  'knew',\n",
       "  'little',\n",
       "  'of',\n",
       "  'my',\n",
       "  'former',\n",
       "  'friend',\n",
       "  'and',\n",
       "  'companion',\n",
       "  'one',\n",
       "  'night--it',\n",
       "  'was',\n",
       "  'on',\n",
       "  'the',\n",
       "  'th',\n",
       "  'of',\n",
       "  'march',\n",
       "  'i',\n",
       "  'was',\n",
       "  'returning',\n",
       "  'from',\n",
       "  'a',\n",
       "  'journey',\n",
       "  'to',\n",
       "  'a',\n",
       "  'patient',\n",
       "  'for',\n",
       "  'i',\n",
       "  'had',\n",
       "  'now',\n",
       "  'returned',\n",
       "  'to',\n",
       "  'civil',\n",
       "  'practice',\n",
       "  'when',\n",
       "  'my',\n",
       "  'way',\n",
       "  'led',\n",
       "  'me',\n",
       "  'through',\n",
       "  'baker',\n",
       "  'street',\n",
       "  'as',\n",
       "  'i',\n",
       "  'passed',\n",
       "  'the',\n",
       "  'well-remembered',\n",
       "  'door',\n",
       "  'which',\n",
       "  'must',\n",
       "  'always',\n",
       "  'be',\n",
       "  'associated',\n",
       "  'in',\n",
       "  'my',\n",
       "  'mind',\n",
       "  'with',\n",
       "  'my',\n",
       "  'wooing',\n",
       "  'and',\n",
       "  'with',\n",
       "  'the',\n",
       "  'dark',\n",
       "  'incidents',\n",
       "  'of',\n",
       "  'the',\n",
       "  'study',\n",
       "  'in',\n",
       "  'scarlet',\n",
       "  'i',\n",
       "  'was',\n",
       "  'seized',\n",
       "  'with',\n",
       "  'a',\n",
       "  'keen',\n",
       "  'desire',\n",
       "  'to',\n",
       "  'see',\n",
       "  'holmes',\n",
       "  'again',\n",
       "  'and',\n",
       "  'to',\n",
       "  'know',\n",
       "  'how',\n",
       "  'he',\n",
       "  'was',\n",
       "  'employing',\n",
       "  'his',\n",
       "  'extraordinary',\n",
       "  'powers',\n",
       "  'his',\n",
       "  'rooms',\n",
       "  'were',\n",
       "  'brilliantly',\n",
       "  'lighted',\n",
       "  'and',\n",
       "  'even',\n",
       "  'as',\n",
       "  'i',\n",
       "  'looked',\n",
       "  'up',\n",
       "  'i',\n",
       "  'saw',\n",
       "  'his',\n",
       "  'tall',\n",
       "  'spare',\n",
       "  'figure',\n",
       "  'pass',\n",
       "  'twice',\n",
       "  'in',\n",
       "  'a',\n",
       "  'dark',\n",
       "  'silhouette',\n",
       "  'against',\n",
       "  'the',\n",
       "  'blind',\n",
       "  'he',\n",
       "  'was',\n",
       "  'pacing',\n",
       "  'the',\n",
       "  'room',\n",
       "  'swiftly',\n",
       "  'eagerly',\n",
       "  'with',\n",
       "  'his',\n",
       "  'head',\n",
       "  'sunk',\n",
       "  'upon',\n",
       "  'his',\n",
       "  'chest',\n",
       "  'and',\n",
       "  'his',\n",
       "  'hands',\n",
       "  'clasped',\n",
       "  'behind',\n",
       "  'him',\n",
       "  'to',\n",
       "  'me',\n",
       "  'who',\n",
       "  'knew',\n",
       "  'his',\n",
       "  'every',\n",
       "  'mood',\n",
       "  'and',\n",
       "  'habit',\n",
       "  'his',\n",
       "  'attitude',\n",
       "  'and',\n",
       "  'manner',\n",
       "  'told',\n",
       "  'their',\n",
       "  'own',\n",
       "  'story',\n",
       "  'he',\n",
       "  'was',\n",
       "  'at',\n",
       "  'work',\n",
       "  'again',\n",
       "  'he',\n",
       "  'had',\n",
       "  'risen',\n",
       "  'out',\n",
       "  'of',\n",
       "  'his',\n",
       "  'drug-created',\n",
       "  'dreams',\n",
       "  'and',\n",
       "  'was',\n",
       "  'hot',\n",
       "  'upon',\n",
       "  'the',\n",
       "  'scent',\n",
       "  'of',\n",
       "  'some',\n",
       "  'new',\n",
       "  'problem',\n",
       "  'i',\n",
       "  'rang',\n",
       "  'the',\n",
       "  'bell',\n",
       "  'and',\n",
       "  'was',\n",
       "  'shown',\n",
       "  'up',\n",
       "  'to',\n",
       "  'the',\n",
       "  'chamber',\n",
       "  'which',\n",
       "  'had',\n",
       "  'formerly',\n",
       "  'been',\n",
       "  'in',\n",
       "  'part',\n",
       "  'my',\n",
       "  'own',\n",
       "  'his',\n",
       "  'manner',\n",
       "  'was',\n",
       "  'not',\n",
       "  'effusive',\n",
       "  'it',\n",
       "  'seldom',\n",
       "  'was',\n",
       "  'but',\n",
       "  'he',\n",
       "  'was',\n",
       "  'glad',\n",
       "  'i',\n",
       "  'think',\n",
       "  'to',\n",
       "  'see',\n",
       "  'me',\n",
       "  'with',\n",
       "  'hardly',\n",
       "  'a',\n",
       "  'word',\n",
       "  'spoken',\n",
       "  'but',\n",
       "  'with',\n",
       "  'a',\n",
       "  'kindly',\n",
       "  'eye',\n",
       "  'he',\n",
       "  'waved',\n",
       "  'me',\n",
       "  'to',\n",
       "  'an',\n",
       "  'armchair',\n",
       "  'threw',\n",
       "  'across',\n",
       "  'his',\n",
       "  'case',\n",
       "  'of',\n",
       "  'cigars',\n",
       "  'and',\n",
       "  'indicated',\n",
       "  'a',\n",
       "  'spirit',\n",
       "  'case',\n",
       "  'and',\n",
       "  'a',\n",
       "  'gasogene',\n",
       "  'in',\n",
       "  'the',\n",
       "  'corner',\n",
       "  'then',\n",
       "  'he',\n",
       "  'stood',\n",
       "  'before',\n",
       "  'the',\n",
       "  'fire',\n",
       "  'and',\n",
       "  'looked',\n",
       "  'me',\n",
       "  'over',\n",
       "  'in',\n",
       "  'his',\n",
       "  'singular',\n",
       "  'introspective',\n",
       "  'fashion',\n",
       "  'wedlock',\n",
       "  'suits',\n",
       "  'you',\n",
       "  'he',\n",
       "  'remarked',\n",
       "  'i',\n",
       "  'think',\n",
       "  'watson',\n",
       "  'that',\n",
       "  'you',\n",
       "  'have',\n",
       "  'put',\n",
       "  'on',\n",
       "  'seven',\n",
       "  'and',\n",
       "  'a',\n",
       "  'half',\n",
       "  'pounds',\n",
       "  'since',\n",
       "  'i',\n",
       "  'saw',\n",
       "  'you',\n",
       "  'seven',\n",
       "  'i',\n",
       "  'answered',\n",
       "  'indeed',\n",
       "  'i',\n",
       "  'should',\n",
       "  'have',\n",
       "  'thought',\n",
       "  'a',\n",
       "  'little',\n",
       "  'more',\n",
       "  'just',\n",
       "  'a',\n",
       "  'trifle',\n",
       "  'more',\n",
       "  'i',\n",
       "  'fancy',\n",
       "  'watson',\n",
       "  'and',\n",
       "  'in',\n",
       "  'practice',\n",
       "  'again',\n",
       "  'i',\n",
       "  'observe',\n",
       "  'you',\n",
       "  'did',\n",
       "  'not',\n",
       "  'tell',\n",
       "  'me',\n",
       "  'that',\n",
       "  'you',\n",
       "  'intended',\n",
       "  'to',\n",
       "  'go',\n",
       "  'into',\n",
       "  'harness',\n",
       "  'then',\n",
       "  'how',\n",
       "  'do',\n",
       "  'you',\n",
       "  'know',\n",
       "  'i',\n",
       "  'see',\n",
       "  'it',\n",
       "  'i',\n",
       "  'deduce',\n",
       "  'it',\n",
       "  'how',\n",
       "  'do',\n",
       "  'i',\n",
       "  'know',\n",
       "  'that',\n",
       "  'you',\n",
       "  'have',\n",
       "  'been',\n",
       "  'getting',\n",
       "  'yourself',\n",
       "  'very',\n",
       "  'wet',\n",
       "  'lately',\n",
       "  'and',\n",
       "  'that',\n",
       "  'you',\n",
       "  'have',\n",
       "  'a',\n",
       "  'most',\n",
       "  'clumsy',\n",
       "  'and',\n",
       "  'careless',\n",
       "  'servant',\n",
       "  'girl',\n",
       "  'my',\n",
       "  'dear',\n",
       "  'holmes',\n",
       "  'said',\n",
       "  'i',\n",
       "  'this',\n",
       "  'is',\n",
       "  'too',\n",
       "  'much',\n",
       "  'you',\n",
       "  'would',\n",
       "  'certainly',\n",
       "  'have',\n",
       "  'been',\n",
       "  'burned',\n",
       "  'had',\n",
       "  'you',\n",
       "  'lived',\n",
       "  'a',\n",
       "  'few',\n",
       "  'centuries',\n",
       "  'ago',\n",
       "  'it',\n",
       "  'is',\n",
       "  'true',\n",
       "  'that',\n",
       "  'i',\n",
       "  'had',\n",
       "  'a',\n",
       "  'country',\n",
       "  'walk',\n",
       "  'on',\n",
       "  'thursday',\n",
       "  'and',\n",
       "  'came',\n",
       "  'home',\n",
       "  'in',\n",
       "  'a',\n",
       "  'dreadful',\n",
       "  'mess',\n",
       "  'but',\n",
       "  'as',\n",
       "  'i',\n",
       "  'have',\n",
       "  'changed',\n",
       "  'my',\n",
       "  'clothes',\n",
       "  'i',\n",
       "  \"can't\",\n",
       "  'imagine',\n",
       "  'how',\n",
       "  'you',\n",
       "  'deduce',\n",
       "  'it',\n",
       "  'as',\n",
       "  'to',\n",
       "  'mary',\n",
       "  'jane',\n",
       "  'she',\n",
       "  'is',\n",
       "  'incorrigible',\n",
       "  'and',\n",
       "  'my',\n",
       "  'wife',\n",
       "  'has',\n",
       "  'given',\n",
       "  'her',\n",
       "  'notice',\n",
       "  'but',\n",
       "  'there',\n",
       "  'again',\n",
       "  'i',\n",
       "  'fail',\n",
       "  'to',\n",
       "  'see',\n",
       "  'how',\n",
       "  'you',\n",
       "  'work',\n",
       "  'it',\n",
       "  'out',\n",
       "  'he',\n",
       "  'chuckled',\n",
       "  'to',\n",
       "  'himself',\n",
       "  'and',\n",
       "  'rubbed',\n",
       "  'his',\n",
       "  'long',\n",
       "  'nervous',\n",
       "  'hands',\n",
       "  'together',\n",
       "  'it',\n",
       "  'is',\n",
       "  'simplicity',\n",
       "  'itself',\n",
       "  'said',\n",
       "  'he',\n",
       "  'my',\n",
       "  'eyes',\n",
       "  'tell',\n",
       "  'me',\n",
       "  'that',\n",
       "  'on',\n",
       "  'the',\n",
       "  'inside',\n",
       "  'of',\n",
       "  'your',\n",
       "  'left',\n",
       "  'shoe',\n",
       "  'just',\n",
       "  'where',\n",
       "  'the',\n",
       "  'firelight',\n",
       "  'strikes',\n",
       "  'it',\n",
       "  'the',\n",
       "  'leather',\n",
       "  'is',\n",
       "  'scored',\n",
       "  'by',\n",
       "  'six',\n",
       "  'almost',\n",
       "  'parallel',\n",
       "  'cuts',\n",
       "  'obviously',\n",
       "  'they',\n",
       "  'have',\n",
       "  'been',\n",
       "  'caused',\n",
       "  'by',\n",
       "  'someone',\n",
       "  'who',\n",
       "  'has',\n",
       "  'very',\n",
       "  'carelessly',\n",
       "  'scraped',\n",
       "  'round',\n",
       "  'the',\n",
       "  'edges',\n",
       "  'of',\n",
       "  'the',\n",
       "  'sole',\n",
       "  'in',\n",
       "  'order',\n",
       "  'to',\n",
       "  'remove',\n",
       "  'crusted',\n",
       "  'mud',\n",
       "  'from',\n",
       "  'it',\n",
       "  'hence',\n",
       "  'you',\n",
       "  'see',\n",
       "  'my',\n",
       "  'double',\n",
       "  'deduction',\n",
       "  'that',\n",
       "  'you',\n",
       "  'had',\n",
       "  'been',\n",
       "  'out',\n",
       "  'in',\n",
       "  'vile',\n",
       "  'weather',\n",
       "  'and',\n",
       "  'that',\n",
       "  'you',\n",
       "  'had',\n",
       "  'a',\n",
       "  'particularly',\n",
       "  'malignant',\n",
       "  'boot-slicking',\n",
       "  'specimen',\n",
       "  'of',\n",
       "  'the',\n",
       "  'london',\n",
       "  'slavey',\n",
       "  'as',\n",
       "  'to',\n",
       "  'your',\n",
       "  'practice',\n",
       "  'if',\n",
       "  'a',\n",
       "  'gentleman',\n",
       "  'walks',\n",
       "  'into',\n",
       "  'my',\n",
       "  'rooms',\n",
       "  'smelling',\n",
       "  'of',\n",
       "  'iodoform',\n",
       "  'with',\n",
       "  'a',\n",
       "  'black',\n",
       "  'mark',\n",
       "  'of',\n",
       "  'nitrate',\n",
       "  'of',\n",
       "  'silver',\n",
       "  'upon',\n",
       "  'his',\n",
       "  'right',\n",
       "  'forefinger',\n",
       "  'and',\n",
       "  'a',\n",
       "  'bulge',\n",
       "  'on',\n",
       "  'the',\n",
       "  'side',\n",
       "  'of',\n",
       "  'his',\n",
       "  'top',\n",
       "  'hat',\n",
       "  'to',\n",
       "  'show',\n",
       "  'where',\n",
       "  'he',\n",
       "  'has',\n",
       "  'secreted',\n",
       "  'his',\n",
       "  ...]]"
      ]
     },
     "execution_count": 7,
     "metadata": {},
     "output_type": "execute_result"
    }
   ],
   "source": [
    "doc_tokens = [list(pre.tokenize(txt)) for txt in list(corpus_txt)]\n",
    "doc_tokens[:1]"
   ]
  },
  {
   "cell_type": "markdown",
   "metadata": {},
   "source": [
    "#### Create Dictionaries"
   ]
  },
  {
   "cell_type": "code",
   "execution_count": 8,
   "metadata": {
    "collapsed": false
   },
   "outputs": [],
   "source": [
    "id_types, doc_ids = pre.create_dictionaries(doc_labels, doc_tokens)"
   ]
  },
  {
   "cell_type": "markdown",
   "metadata": {},
   "source": [
    "#### Sparse BOW Model"
   ]
  },
  {
   "cell_type": "code",
   "execution_count": 9,
   "metadata": {
    "collapsed": false
   },
   "outputs": [],
   "source": [
    "sparse_bow = pre.create_mm(doc_labels, doc_tokens, id_types, doc_ids)"
   ]
  },
  {
   "cell_type": "code",
   "execution_count": 10,
   "metadata": {
    "collapsed": false
   },
   "outputs": [
    {
     "data": {
      "text/html": [
       "<div>\n",
       "<table border=\"1\" class=\"dataframe\">\n",
       "  <thead>\n",
       "    <tr style=\"text-align: right;\">\n",
       "      <th></th>\n",
       "      <th></th>\n",
       "      <th>0</th>\n",
       "    </tr>\n",
       "    <tr>\n",
       "      <th>doc_id</th>\n",
       "      <th>token_id</th>\n",
       "      <th></th>\n",
       "    </tr>\n",
       "  </thead>\n",
       "  <tbody>\n",
       "    <tr>\n",
       "      <th rowspan=\"30\" valign=\"top\">1</th>\n",
       "      <th>3</th>\n",
       "      <td>1</td>\n",
       "    </tr>\n",
       "    <tr>\n",
       "      <th>8196</th>\n",
       "      <td>1</td>\n",
       "    </tr>\n",
       "    <tr>\n",
       "      <th>5</th>\n",
       "      <td>1</td>\n",
       "    </tr>\n",
       "    <tr>\n",
       "      <th>12295</th>\n",
       "      <td>1</td>\n",
       "    </tr>\n",
       "    <tr>\n",
       "      <th>23212</th>\n",
       "      <td>1</td>\n",
       "    </tr>\n",
       "    <tr>\n",
       "      <th>9684</th>\n",
       "      <td>3</td>\n",
       "    </tr>\n",
       "    <tr>\n",
       "      <th>10242</th>\n",
       "      <td>1</td>\n",
       "    </tr>\n",
       "    <tr>\n",
       "      <th>4110</th>\n",
       "      <td>1</td>\n",
       "    </tr>\n",
       "    <tr>\n",
       "      <th>12305</th>\n",
       "      <td>5</td>\n",
       "    </tr>\n",
       "    <tr>\n",
       "      <th>12306</th>\n",
       "      <td>2</td>\n",
       "    </tr>\n",
       "    <tr>\n",
       "      <th>20500</th>\n",
       "      <td>6</td>\n",
       "    </tr>\n",
       "    <tr>\n",
       "      <th>12310</th>\n",
       "      <td>4</td>\n",
       "    </tr>\n",
       "    <tr>\n",
       "      <th>8222</th>\n",
       "      <td>1</td>\n",
       "    </tr>\n",
       "    <tr>\n",
       "      <th>20511</th>\n",
       "      <td>1</td>\n",
       "    </tr>\n",
       "    <tr>\n",
       "      <th>4130</th>\n",
       "      <td>9</td>\n",
       "    </tr>\n",
       "    <tr>\n",
       "      <th>20516</th>\n",
       "      <td>5</td>\n",
       "    </tr>\n",
       "    <tr>\n",
       "      <th>38</th>\n",
       "      <td>1</td>\n",
       "    </tr>\n",
       "    <tr>\n",
       "      <th>8234</th>\n",
       "      <td>2</td>\n",
       "    </tr>\n",
       "    <tr>\n",
       "      <th>20523</th>\n",
       "      <td>1</td>\n",
       "    </tr>\n",
       "    <tr>\n",
       "      <th>8236</th>\n",
       "      <td>1</td>\n",
       "    </tr>\n",
       "    <tr>\n",
       "      <th>8238</th>\n",
       "      <td>1</td>\n",
       "    </tr>\n",
       "    <tr>\n",
       "      <th>16431</th>\n",
       "      <td>1</td>\n",
       "    </tr>\n",
       "    <tr>\n",
       "      <th>20530</th>\n",
       "      <td>1</td>\n",
       "    </tr>\n",
       "    <tr>\n",
       "      <th>16436</th>\n",
       "      <td>3</td>\n",
       "    </tr>\n",
       "    <tr>\n",
       "      <th>20534</th>\n",
       "      <td>1</td>\n",
       "    </tr>\n",
       "    <tr>\n",
       "      <th>14345</th>\n",
       "      <td>2</td>\n",
       "    </tr>\n",
       "    <tr>\n",
       "      <th>4152</th>\n",
       "      <td>2</td>\n",
       "    </tr>\n",
       "    <tr>\n",
       "      <th>4155</th>\n",
       "      <td>1</td>\n",
       "    </tr>\n",
       "    <tr>\n",
       "      <th>16444</th>\n",
       "      <td>1</td>\n",
       "    </tr>\n",
       "    <tr>\n",
       "      <th>16778</th>\n",
       "      <td>1</td>\n",
       "    </tr>\n",
       "    <tr>\n",
       "      <th>...</th>\n",
       "      <th>...</th>\n",
       "      <td>...</td>\n",
       "    </tr>\n",
       "    <tr>\n",
       "      <th rowspan=\"30\" valign=\"top\">16</th>\n",
       "      <th>4024</th>\n",
       "      <td>0</td>\n",
       "    </tr>\n",
       "    <tr>\n",
       "      <th>16910</th>\n",
       "      <td>0</td>\n",
       "    </tr>\n",
       "    <tr>\n",
       "      <th>22459</th>\n",
       "      <td>0</td>\n",
       "    </tr>\n",
       "    <tr>\n",
       "      <th>1982</th>\n",
       "      <td>0</td>\n",
       "    </tr>\n",
       "    <tr>\n",
       "      <th>18367</th>\n",
       "      <td>0</td>\n",
       "    </tr>\n",
       "    <tr>\n",
       "      <th>14274</th>\n",
       "      <td>0</td>\n",
       "    </tr>\n",
       "    <tr>\n",
       "      <th>9547</th>\n",
       "      <td>0</td>\n",
       "    </tr>\n",
       "    <tr>\n",
       "      <th>15009</th>\n",
       "      <td>0</td>\n",
       "    </tr>\n",
       "    <tr>\n",
       "      <th>18376</th>\n",
       "      <td>0</td>\n",
       "    </tr>\n",
       "    <tr>\n",
       "      <th>21495</th>\n",
       "      <td>0</td>\n",
       "    </tr>\n",
       "    <tr>\n",
       "      <th>4045</th>\n",
       "      <td>0</td>\n",
       "    </tr>\n",
       "    <tr>\n",
       "      <th>338</th>\n",
       "      <td>0</td>\n",
       "    </tr>\n",
       "    <tr>\n",
       "      <th>22485</th>\n",
       "      <td>0</td>\n",
       "    </tr>\n",
       "    <tr>\n",
       "      <th>15353</th>\n",
       "      <td>0</td>\n",
       "    </tr>\n",
       "    <tr>\n",
       "      <th>4056</th>\n",
       "      <td>0</td>\n",
       "    </tr>\n",
       "    <tr>\n",
       "      <th>4431</th>\n",
       "      <td>0</td>\n",
       "    </tr>\n",
       "    <tr>\n",
       "      <th>20444</th>\n",
       "      <td>0</td>\n",
       "    </tr>\n",
       "    <tr>\n",
       "      <th>24541</th>\n",
       "      <td>0</td>\n",
       "    </tr>\n",
       "    <tr>\n",
       "      <th>16352</th>\n",
       "      <td>0</td>\n",
       "    </tr>\n",
       "    <tr>\n",
       "      <th>21685</th>\n",
       "      <td>0</td>\n",
       "    </tr>\n",
       "    <tr>\n",
       "      <th>6115</th>\n",
       "      <td>0</td>\n",
       "    </tr>\n",
       "    <tr>\n",
       "      <th>10213</th>\n",
       "      <td>0</td>\n",
       "    </tr>\n",
       "    <tr>\n",
       "      <th>16361</th>\n",
       "      <td>0</td>\n",
       "    </tr>\n",
       "    <tr>\n",
       "      <th>18413</th>\n",
       "      <td>0</td>\n",
       "    </tr>\n",
       "    <tr>\n",
       "      <th>7507</th>\n",
       "      <td>0</td>\n",
       "    </tr>\n",
       "    <tr>\n",
       "      <th>6142</th>\n",
       "      <td>0</td>\n",
       "    </tr>\n",
       "    <tr>\n",
       "      <th>16912</th>\n",
       "      <td>0</td>\n",
       "    </tr>\n",
       "    <tr>\n",
       "      <th>6139</th>\n",
       "      <td>0</td>\n",
       "    </tr>\n",
       "    <tr>\n",
       "      <th>4094</th>\n",
       "      <td>0</td>\n",
       "    </tr>\n",
       "    <tr>\n",
       "      <th>10239</th>\n",
       "      <td>0</td>\n",
       "    </tr>\n",
       "  </tbody>\n",
       "</table>\n",
       "<p>56956 rows × 1 columns</p>\n",
       "</div>"
      ],
      "text/plain": [
       "                 0\n",
       "doc_id token_id   \n",
       "1      3         1\n",
       "       8196      1\n",
       "       5         1\n",
       "       12295     1\n",
       "       23212     1\n",
       "       9684      3\n",
       "       10242     1\n",
       "       4110      1\n",
       "       12305     5\n",
       "       12306     2\n",
       "       20500     6\n",
       "       12310     4\n",
       "       8222      1\n",
       "       20511     1\n",
       "       4130      9\n",
       "       20516     5\n",
       "       38        1\n",
       "       8234      2\n",
       "       20523     1\n",
       "       8236      1\n",
       "       8238      1\n",
       "       16431     1\n",
       "       20530     1\n",
       "       16436     3\n",
       "       20534     1\n",
       "       14345     2\n",
       "       4152      2\n",
       "       4155      1\n",
       "       16444     1\n",
       "       16778     1\n",
       "...             ..\n",
       "16     4024      0\n",
       "       16910     0\n",
       "       22459     0\n",
       "       1982      0\n",
       "       18367     0\n",
       "       14274     0\n",
       "       9547      0\n",
       "       15009     0\n",
       "       18376     0\n",
       "       21495     0\n",
       "       4045      0\n",
       "       338       0\n",
       "       22485     0\n",
       "       15353     0\n",
       "       4056      0\n",
       "       4431      0\n",
       "       20444     0\n",
       "       24541     0\n",
       "       16352     0\n",
       "       21685     0\n",
       "       6115      0\n",
       "       10213     0\n",
       "       16361     0\n",
       "       18413     0\n",
       "       7507      0\n",
       "       6142      0\n",
       "       16912     0\n",
       "       6139      0\n",
       "       4094      0\n",
       "       10239     0\n",
       "\n",
       "[56956 rows x 1 columns]"
      ]
     },
     "execution_count": 10,
     "metadata": {},
     "output_type": "execute_result"
    }
   ],
   "source": [
    "sparse_bow"
   ]
  },
  {
   "cell_type": "markdown",
   "metadata": {},
   "source": [
    "#### Convert to Doc-Topic Matrix"
   ]
  },
  {
   "cell_type": "code",
   "execution_count": 11,
   "metadata": {
    "collapsed": false
   },
   "outputs": [
    {
     "data": {
      "text/plain": [
       "'import pandas as pd\\n\\ndoc2id = {value : key for key, value in doc_ids.items()}\\ntype2id = {value : key for key, value in id_types.items()}\\n\\ncols = [doc2id[key] for key in set(sparse_bow.index.get_level_values(\"doc_id\"))]\\n#idx = [type2id[key] for key in set(sparse_bow.index.get_level_values(\"token_id\"))]\\n\\nset(sparse_bow.index.get_level_values(\"token_id\"))\\n\\n#doctopic_matrix = pd.DataFrame(columns=cols, index=idx)'"
      ]
     },
     "execution_count": 11,
     "metadata": {},
     "output_type": "execute_result"
    }
   ],
   "source": [
    "'''import pandas as pd\n",
    "\n",
    "doc2id = {value : key for key, value in doc_ids.items()}\n",
    "type2id = {value : key for key, value in id_types.items()}\n",
    "\n",
    "cols = [doc2id[key] for key in set(sparse_bow.index.get_level_values(\"doc_id\"))]\n",
    "#idx = [type2id[key] for key in set(sparse_bow.index.get_level_values(\"token_id\"))]\n",
    "\n",
    "set(sparse_bow.index.get_level_values(\"token_id\"))\n",
    "\n",
    "#doctopic_matrix = pd.DataFrame(columns=cols, index=idx)'''"
   ]
  },
  {
   "cell_type": "markdown",
   "metadata": {},
   "source": [
    "#### Remove Features"
   ]
  },
  {
   "cell_type": "code",
   "execution_count": 12,
   "metadata": {
    "collapsed": true
   },
   "outputs": [],
   "source": [
    "import os.path\n",
    "basepath = os.path.abspath('.')\n",
    "\n",
    "with open(os.path.join(basepath, \"tutorial_supplementals\", \"stopwords\", \"en\"), 'r', encoding = 'utf-8') as f: \n",
    "    stopword_list = f.read().split('\\n')\n",
    "    \n",
    "stopword_list = set(stopword_list)"
   ]
  },
  {
   "cell_type": "code",
   "execution_count": 13,
   "metadata": {
    "collapsed": false
   },
   "outputs": [
    {
     "name": "stderr",
     "output_type": "stream",
     "text": [
      "26-Jan-2017 18:30:38 INFO preprocessing: Removing features ...\n",
      "26-Jan-2017 18:30:38 DEBUG preprocessing: 672 features removed.\n"
     ]
    }
   ],
   "source": [
    "sparse_df_stopwords_removed = pre.remove_features(sparse_bow, id_types, stopword_list)"
   ]
  },
  {
   "cell_type": "code",
   "execution_count": 14,
   "metadata": {
    "collapsed": false
   },
   "outputs": [
    {
     "name": "stdout",
     "output_type": "stream",
     "text": [
      "56956\n",
      "51572\n"
     ]
    }
   ],
   "source": [
    "print(len(sparse_bow))\n",
    "print(len(sparse_df_stopwords_removed))"
   ]
  },
  {
   "cell_type": "markdown",
   "metadata": {},
   "source": [
    "##### Create Feature Remove Lists"
   ]
  },
  {
   "cell_type": "code",
   "execution_count": 15,
   "metadata": {
    "collapsed": false
   },
   "outputs": [
    {
     "name": "stderr",
     "output_type": "stream",
     "text": [
      "26-Jan-2017 18:30:38 INFO preprocessing: Finding stopwords ...\n",
      "26-Jan-2017 18:30:38 DEBUG preprocessing: 100 stopwords found.\n"
     ]
    },
    {
     "data": {
      "text/plain": [
       "100"
      ]
     },
     "execution_count": 15,
     "metadata": {},
     "output_type": "execute_result"
    }
   ],
   "source": [
    "stopword_list = pre.find_stopwords(sparse_bow, id_types, 100)\n",
    "len(stopword_list)"
   ]
  },
  {
   "cell_type": "code",
   "execution_count": 16,
   "metadata": {
    "collapsed": false
   },
   "outputs": [
    {
     "name": "stderr",
     "output_type": "stream",
     "text": [
      "26-Jan-2017 18:30:38 INFO preprocessing: Find hapax legomena ...\n",
      "26-Jan-2017 18:30:38 DEBUG preprocessing: 20647 hapax legomena found.\n"
     ]
    },
    {
     "data": {
      "text/plain": [
       "20647"
      ]
     },
     "execution_count": 16,
     "metadata": {},
     "output_type": "execute_result"
    }
   ],
   "source": [
    "hapax_list = pre.find_hapax(sparse_bow, id_types)\n",
    "len(hapax_list)"
   ]
  },
  {
   "cell_type": "markdown",
   "metadata": {},
   "source": [
    "##### Remove Features"
   ]
  },
  {
   "cell_type": "code",
   "execution_count": 17,
   "metadata": {
    "collapsed": false
   },
   "outputs": [
    {
     "name": "stderr",
     "output_type": "stream",
     "text": [
      "26-Jan-2017 18:30:38 INFO preprocessing: Removing features ...\n",
      "26-Jan-2017 18:30:38 DEBUG preprocessing: 20727 features removed.\n"
     ]
    }
   ],
   "source": [
    "feature_list = set(stopword_list).union(hapax_list)\n",
    "clean_term_frequency = pre.remove_features(sparse_bow, id_types, feature_list)"
   ]
  },
  {
   "cell_type": "code",
   "execution_count": 18,
   "metadata": {
    "collapsed": false
   },
   "outputs": [
    {
     "data": {
      "text/plain": [
       "5595"
      ]
     },
     "execution_count": 18,
     "metadata": {},
     "output_type": "execute_result"
    }
   ],
   "source": [
    "len(clean_term_frequency)"
   ]
  },
  {
   "cell_type": "markdown",
   "metadata": {},
   "source": [
    "## Topic Modeling with Gensim"
   ]
  },
  {
   "cell_type": "markdown",
   "metadata": {},
   "source": [
    "##### Saving Sparse BOW"
   ]
  },
  {
   "cell_type": "code",
   "execution_count": 19,
   "metadata": {
    "collapsed": false
   },
   "outputs": [],
   "source": [
    "num_docs = max(sparse_bow.index.get_level_values(\"doc_id\"))\n",
    "num_types = max(sparse_bow.index.get_level_values(\"token_id\"))\n",
    "sum_counts = sum(sparse_bow[0])\n",
    "\n",
    "header_string = str(num_docs) + \" \" + str(num_types) + \" \" + str(sum_counts) + \"\\n\"\n",
    "\n",
    "with open(\"gb_plain.mm\", 'w', encoding = \"utf-8\") as f:\n",
    "    pass\n",
    "\n",
    "with open(\"gb_plain.mm\", 'a', encoding = \"utf-8\") as f:\n",
    "    f.write(\"%%MatrixMarket matrix coordinate real general\\n\")\n",
    "    f.write(header_string)\n",
    "    sparse_bow.to_csv( f, sep = ' ', header = None)"
   ]
  },
  {
   "cell_type": "code",
   "execution_count": 20,
   "metadata": {
    "collapsed": true
   },
   "outputs": [],
   "source": [
    "from gensim.models import LdaModel\n",
    "from gensim.corpora import MmCorpus"
   ]
  },
  {
   "cell_type": "code",
   "execution_count": 21,
   "metadata": {
    "collapsed": false
   },
   "outputs": [
    {
     "name": "stderr",
     "output_type": "stream",
     "text": [
      "26-Jan-2017 18:30:38 INFO gensim.matutils: initializing corpus reader from gb_plain.mm\n",
      "26-Jan-2017 18:30:38 INFO gensim.matutils: accepted corpus with 16 documents, 24552 features, 372528 non-zero entries\n"
     ]
    }
   ],
   "source": [
    "mm = MmCorpus(\"gb_plain.mm\")"
   ]
  },
  {
   "cell_type": "code",
   "execution_count": 22,
   "metadata": {
    "collapsed": true
   },
   "outputs": [],
   "source": [
    "#in case you're only loading the corpus - build dict first\n",
    "\n",
    "#import pickle\n",
    "\n",
    "#pickle.dump( id_types, open( \"gb_plain.dictionary\", \"wb\" ) )"
   ]
  },
  {
   "cell_type": "code",
   "execution_count": 23,
   "metadata": {
    "collapsed": false
   },
   "outputs": [],
   "source": [
    "#id_types = pickle.load(open(\"gb_plain.dictionary\", 'rb'))"
   ]
  },
  {
   "cell_type": "code",
   "execution_count": 24,
   "metadata": {
    "collapsed": true
   },
   "outputs": [],
   "source": [
    "#mm = gensim.corpora.MmCorpus(\"gb_all.mm\")"
   ]
  },
  {
   "cell_type": "code",
   "execution_count": 25,
   "metadata": {
    "collapsed": true
   },
   "outputs": [],
   "source": [
    "#id_types = pickle.load(open(\"gb_all.dictionary\", 'rb'))"
   ]
  },
  {
   "cell_type": "code",
   "execution_count": 26,
   "metadata": {
    "collapsed": true
   },
   "outputs": [],
   "source": [
    "doc2id = {value : key for key, value in doc_ids.items()}\n",
    "type2id = {value : key for key, value in id_types.items()}"
   ]
  },
  {
   "cell_type": "code",
   "execution_count": 27,
   "metadata": {
    "collapsed": false
   },
   "outputs": [
    {
     "name": "stderr",
     "output_type": "stream",
     "text": [
      "26-Jan-2017 18:30:38 INFO gensim.models.ldamodel: using symmetric alpha at 0.01\n",
      "26-Jan-2017 18:30:38 INFO gensim.models.ldamodel: using symmetric eta at 4.0728220584042684e-05\n",
      "26-Jan-2017 18:30:38 INFO gensim.models.ldamodel: using serial LDA version on this node\n",
      "26-Jan-2017 18:31:04 INFO gensim.models.ldamodel: running online LDA training, 100 topics, 1 passes over the supplied corpus of 16 documents, updating model once every 16 documents, evaluating perplexity every 16 documents, iterating 50x with a convergence threshold of 0.001000\n",
      "26-Jan-2017 18:31:04 WARNING gensim.models.ldamodel: too few updates, training might not converge; consider increasing the number of passes or iterations to improve accuracy\n",
      "26-Jan-2017 18:31:30 DEBUG gensim.models.ldamodel: bound: at document #0\n",
      "26-Jan-2017 18:31:33 INFO gensim.models.ldamodel: -31.030 per-word bound, 2192109240.8 perplexity estimate based on a held-out corpus of 16 documents with 372528 words\n",
      "26-Jan-2017 18:31:33 INFO gensim.models.ldamodel: PROGRESS: pass 0, at document #16/16\n",
      "26-Jan-2017 18:31:33 DEBUG gensim.models.ldamodel: performing inference on a chunk of 16 documents\n",
      "26-Jan-2017 18:31:34 DEBUG gensim.models.ldamodel: 1/16 documents converged within 50 iterations\n",
      "26-Jan-2017 18:31:34 DEBUG gensim.models.ldamodel: updating topics\n",
      "26-Jan-2017 18:31:35 INFO gensim.models.ldamodel: topic #49 (0.010): 0.065*\"blacking\" + 0.034*\"undisturbed\" + 0.024*\"earning\" + 0.021*\"room--had\" + 0.021*\"criminal\" + 0.016*\"stares\" + 0.015*\"ununiformity\" + 0.012*\"indeed:—we\" + 0.012*\"snuffed\" + 0.011*\"primitive\"\n",
      "26-Jan-2017 18:31:35 INFO gensim.models.ldamodel: topic #79 (0.010): 0.061*\"blacking\" + 0.037*\"undisturbed\" + 0.035*\"earning\" + 0.022*\"room--had\" + 0.020*\"criminal\" + 0.015*\"stares\" + 0.014*\"bisher\" + 0.013*\"primitive\" + 0.013*\"indeed:—we\" + 0.013*\"snuffed\"\n",
      "26-Jan-2017 18:31:35 INFO gensim.models.ldamodel: topic #53 (0.010): 0.049*\"blacking\" + 0.028*\"undisturbed\" + 0.028*\"earning\" + 0.017*\"indeed:—we\" + 0.017*\"room--had\" + 0.014*\"ununiformity\" + 0.014*\"criminal\" + 0.012*\"stares\" + 0.011*\"primitive\" + 0.009*\"snuffed\"\n",
      "26-Jan-2017 18:31:35 INFO gensim.models.ldamodel: topic #63 (0.010): 0.050*\"blacking\" + 0.026*\"earning\" + 0.022*\"undisturbed\" + 0.017*\"room--had\" + 0.016*\"criminal\" + 0.016*\"primitive\" + 0.011*\"bisher\" + 0.011*\"indeed:—we\" + 0.010*\"stares\" + 0.009*\"snuffed\"\n",
      "26-Jan-2017 18:31:35 INFO gensim.models.ldamodel: topic #23 (0.010): 0.059*\"blacking\" + 0.032*\"earning\" + 0.030*\"undisturbed\" + 0.021*\"criminal\" + 0.018*\"room--had\" + 0.018*\"ununiformity\" + 0.015*\"indeed:—we\" + 0.013*\"snuffed\" + 0.012*\"stares\" + 0.012*\"menial\"\n",
      "26-Jan-2017 18:31:35 INFO gensim.models.ldamodel: topic diff=41.952311, rho=1.000000\n"
     ]
    }
   ],
   "source": [
    "#model = LdaModel(corpus=mm, id2word=type2id, num_topics=60, alpha = \"symmetric\", passes = 10) #import momentan in visual \n",
    "# -> da ich mir noch nicht sicher bin, welche Funktionen in das tm_gensim.py sollen\n",
    "model = LdaModel(corpus=mm, id2word=type2id)"
   ]
  },
  {
   "cell_type": "code",
   "execution_count": 28,
   "metadata": {
    "collapsed": false
   },
   "outputs": [
    {
     "data": {
      "text/plain": [
       "['blacking',\n",
       " 'earning',\n",
       " 'room--had',\n",
       " 'undisturbed',\n",
       " 'indeed:—we',\n",
       " 'criminal',\n",
       " 'ununiformity',\n",
       " 'menial',\n",
       " 'primitive',\n",
       " 'stares']"
      ]
     },
     "execution_count": 28,
     "metadata": {},
     "output_type": "execute_result"
    }
   ],
   "source": [
    "topic_nr_x = model.get_topic_terms(10)\n",
    "\n",
    "[type2id[i[0]] for i in topic_nr_x]"
   ]
  },
  {
   "cell_type": "code",
   "execution_count": 29,
   "metadata": {
    "collapsed": false
   },
   "outputs": [],
   "source": [
    "topics = model.show_topics(num_topics = 60)"
   ]
  },
  {
   "cell_type": "code",
   "execution_count": 30,
   "metadata": {
    "collapsed": false
   },
   "outputs": [
    {
     "data": {
      "text/plain": [
       "[(95,\n",
       "  '0.033*\"blacking\" + 0.023*\"earning\" + 0.023*\"room--had\" + 0.021*\"undisturbed\" + 0.021*\"criminal\" + 0.017*\"ununiformity\" + 0.016*\"indeed:—we\" + 0.014*\"bisher\" + 0.011*\"primitive\" + 0.011*\"snuffed\"'),\n",
       " (69,\n",
       "  '0.041*\"blacking\" + 0.027*\"earning\" + 0.025*\"undisturbed\" + 0.019*\"room--had\" + 0.018*\"criminal\" + 0.017*\"stares\" + 0.013*\"indeed:—we\" + 0.011*\"primitive\" + 0.011*\"bisher\" + 0.011*\"snuffed\"'),\n",
       " (97,\n",
       "  '0.044*\"blacking\" + 0.036*\"earning\" + 0.022*\"room--had\" + 0.021*\"undisturbed\" + 0.021*\"indeed:—we\" + 0.016*\"criminal\" + 0.016*\"ununiformity\" + 0.015*\"snuffed\" + 0.013*\"stares\" + 0.013*\"primitive\"'),\n",
       " (18,\n",
       "  '0.057*\"blacking\" + 0.029*\"earning\" + 0.024*\"undisturbed\" + 0.022*\"criminal\" + 0.022*\"room--had\" + 0.019*\"stares\" + 0.014*\"ununiformity\" + 0.013*\"indeed:—we\" + 0.012*\"snuffed\" + 0.011*\"primitive\"'),\n",
       " (3,\n",
       "  '0.047*\"blacking\" + 0.029*\"earning\" + 0.025*\"undisturbed\" + 0.023*\"criminal\" + 0.022*\"indeed:—we\" + 0.017*\"room--had\" + 0.015*\"snuffed\" + 0.014*\"ununiformity\" + 0.013*\"stares\" + 0.012*\"bisher\"'),\n",
       " (4,\n",
       "  '0.048*\"blacking\" + 0.034*\"earning\" + 0.029*\"undisturbed\" + 0.025*\"criminal\" + 0.020*\"room--had\" + 0.015*\"indeed:—we\" + 0.013*\"ununiformity\" + 0.012*\"primitive\" + 0.012*\"bisher\" + 0.011*\"stares\"'),\n",
       " (64,\n",
       "  '0.061*\"blacking\" + 0.029*\"earning\" + 0.023*\"criminal\" + 0.022*\"undisturbed\" + 0.017*\"room--had\" + 0.014*\"stares\" + 0.014*\"indeed:—we\" + 0.013*\"snuffed\" + 0.011*\"primitive\" + 0.011*\"menial\"'),\n",
       " (41,\n",
       "  '0.037*\"blacking\" + 0.028*\"earning\" + 0.021*\"undisturbed\" + 0.020*\"criminal\" + 0.015*\"primitive\" + 0.015*\"indeed:—we\" + 0.013*\"room--had\" + 0.013*\"ununiformity\" + 0.013*\"stares\" + 0.013*\"bisher\"'),\n",
       " (30,\n",
       "  '0.038*\"blacking\" + 0.032*\"undisturbed\" + 0.020*\"room--had\" + 0.018*\"earning\" + 0.017*\"stares\" + 0.012*\"criminal\" + 0.012*\"ununiformity\" + 0.010*\"indeed:—we\" + 0.009*\"primitive\" + 0.009*\"bisher\"'),\n",
       " (21,\n",
       "  '0.051*\"blacking\" + 0.030*\"earning\" + 0.024*\"criminal\" + 0.021*\"room--had\" + 0.020*\"undisturbed\" + 0.020*\"ununiformity\" + 0.014*\"indeed:—we\" + 0.014*\"bisher\" + 0.013*\"primitive\" + 0.013*\"menial\"'),\n",
       " (35,\n",
       "  '0.082*\"blacking\" + 0.028*\"earning\" + 0.027*\"room--had\" + 0.024*\"undisturbed\" + 0.022*\"criminal\" + 0.018*\"indeed:—we\" + 0.014*\"stares\" + 0.014*\"primitive\" + 0.012*\"bisher\" + 0.011*\"snuffed\"'),\n",
       " (90,\n",
       "  '0.069*\"blacking\" + 0.032*\"earning\" + 0.024*\"room--had\" + 0.023*\"undisturbed\" + 0.023*\"criminal\" + 0.015*\"stares\" + 0.014*\"indeed:—we\" + 0.013*\"snuffed\" + 0.012*\"primitive\" + 0.012*\"ununiformity\"'),\n",
       " (54,\n",
       "  '0.072*\"blacking\" + 0.036*\"earning\" + 0.034*\"undisturbed\" + 0.027*\"room--had\" + 0.021*\"criminal\" + 0.016*\"indeed:—we\" + 0.016*\"stares\" + 0.012*\"ununiformity\" + 0.011*\"snuffed\" + 0.010*\"menial\"'),\n",
       " (39,\n",
       "  '0.041*\"blacking\" + 0.030*\"earning\" + 0.024*\"undisturbed\" + 0.015*\"room--had\" + 0.015*\"indeed:—we\" + 0.014*\"criminal\" + 0.013*\"stares\" + 0.010*\"primitive\" + 0.010*\"menial\" + 0.009*\"ununiformity\"'),\n",
       " (66,\n",
       "  '0.047*\"blacking\" + 0.032*\"undisturbed\" + 0.030*\"room--had\" + 0.026*\"earning\" + 0.023*\"criminal\" + 0.019*\"indeed:—we\" + 0.015*\"stares\" + 0.015*\"primitive\" + 0.011*\"snuffed\" + 0.011*\"ununiformity\"'),\n",
       " (73,\n",
       "  '0.069*\"blacking\" + 0.030*\"undisturbed\" + 0.026*\"earning\" + 0.026*\"room--had\" + 0.025*\"stares\" + 0.017*\"primitive\" + 0.016*\"criminal\" + 0.013*\"indeed:—we\" + 0.011*\"bisher\" + 0.010*\"menial\"'),\n",
       " (56,\n",
       "  '0.053*\"blacking\" + 0.027*\"undisturbed\" + 0.026*\"earning\" + 0.023*\"criminal\" + 0.021*\"room--had\" + 0.019*\"indeed:—we\" + 0.014*\"stares\" + 0.013*\"primitive\" + 0.011*\"bisher\" + 0.010*\"ununiformity\"'),\n",
       " (44,\n",
       "  '0.036*\"blacking\" + 0.020*\"earning\" + 0.020*\"undisturbed\" + 0.017*\"criminal\" + 0.016*\"indeed:—we\" + 0.015*\"room--had\" + 0.012*\"stares\" + 0.011*\"snuffed\" + 0.010*\"ununiformity\" + 0.010*\"bisher\"'),\n",
       " (14,\n",
       "  '0.054*\"blacking\" + 0.032*\"undisturbed\" + 0.022*\"room--had\" + 0.021*\"earning\" + 0.018*\"criminal\" + 0.016*\"indeed:—we\" + 0.013*\"ununiformity\" + 0.012*\"primitive\" + 0.011*\"snuffed\" + 0.010*\"bisher\"'),\n",
       " (74,\n",
       "  '0.055*\"blacking\" + 0.037*\"earning\" + 0.023*\"undisturbed\" + 0.020*\"room--had\" + 0.017*\"stares\" + 0.017*\"indeed:—we\" + 0.016*\"criminal\" + 0.016*\"primitive\" + 0.014*\"snuffed\" + 0.012*\"ununiformity\"'),\n",
       " (17,\n",
       "  '0.037*\"blacking\" + 0.034*\"earning\" + 0.033*\"undisturbed\" + 0.027*\"indeed:—we\" + 0.021*\"stares\" + 0.020*\"room--had\" + 0.015*\"criminal\" + 0.013*\"ununiformity\" + 0.011*\"snuffed\" + 0.011*\"primitive\"'),\n",
       " (71,\n",
       "  '0.034*\"blacking\" + 0.032*\"earning\" + 0.030*\"undisturbed\" + 0.021*\"room--had\" + 0.018*\"criminal\" + 0.017*\"indeed:—we\" + 0.014*\"stares\" + 0.012*\"primitive\" + 0.010*\"enclose\" + 0.010*\"bisher\"'),\n",
       " (84,\n",
       "  '0.035*\"blacking\" + 0.028*\"earning\" + 0.018*\"criminal\" + 0.017*\"undisturbed\" + 0.016*\"stares\" + 0.014*\"indeed:—we\" + 0.013*\"ununiformity\" + 0.012*\"menial\" + 0.011*\"room--had\" + 0.010*\"primitive\"'),\n",
       " (89,\n",
       "  '0.070*\"blacking\" + 0.043*\"undisturbed\" + 0.025*\"room--had\" + 0.022*\"earning\" + 0.020*\"stares\" + 0.019*\"criminal\" + 0.012*\"primitive\" + 0.012*\"indeed:—we\" + 0.010*\"bowed\" + 0.009*\"intruded\"'),\n",
       " (29,\n",
       "  '0.042*\"blacking\" + 0.031*\"earning\" + 0.027*\"undisturbed\" + 0.021*\"room--had\" + 0.016*\"indeed:—we\" + 0.015*\"criminal\" + 0.013*\"ununiformity\" + 0.012*\"snuffed\" + 0.012*\"primitive\" + 0.011*\"bisher\"'),\n",
       " (38,\n",
       "  '0.048*\"blacking\" + 0.037*\"earning\" + 0.028*\"indeed:—we\" + 0.024*\"room--had\" + 0.021*\"stares\" + 0.021*\"undisturbed\" + 0.017*\"criminal\" + 0.017*\"ununiformity\" + 0.014*\"snuffed\" + 0.013*\"primitive\"'),\n",
       " (48,\n",
       "  '0.074*\"blacking\" + 0.028*\"undisturbed\" + 0.028*\"earning\" + 0.023*\"room--had\" + 0.020*\"criminal\" + 0.018*\"stares\" + 0.016*\"indeed:—we\" + 0.015*\"primitive\" + 0.011*\"bisher\" + 0.011*\"ununiformity\"'),\n",
       " (36,\n",
       "  '0.027*\"blacking\" + 0.021*\"earning\" + 0.018*\"room--had\" + 0.017*\"undisturbed\" + 0.014*\"indeed:—we\" + 0.012*\"stares\" + 0.012*\"criminal\" + 0.010*\"primitive\" + 0.010*\"snuffed\" + 0.010*\"ununiformity\"'),\n",
       " (5,\n",
       "  '0.046*\"blacking\" + 0.026*\"undisturbed\" + 0.026*\"earning\" + 0.022*\"indeed:—we\" + 0.022*\"room--had\" + 0.019*\"criminal\" + 0.015*\"primitive\" + 0.014*\"bisher\" + 0.014*\"stares\" + 0.014*\"snuffed\"'),\n",
       " (67,\n",
       "  '0.048*\"blacking\" + 0.029*\"undisturbed\" + 0.022*\"criminal\" + 0.021*\"earning\" + 0.021*\"room--had\" + 0.014*\"bisher\" + 0.014*\"indeed:—we\" + 0.013*\"ununiformity\" + 0.012*\"stares\" + 0.012*\"primitive\"'),\n",
       " (61,\n",
       "  '0.039*\"blacking\" + 0.024*\"earning\" + 0.018*\"room--had\" + 0.016*\"indeed:—we\" + 0.013*\"undisturbed\" + 0.013*\"criminal\" + 0.010*\"stares\" + 0.010*\"ununiformity\" + 0.009*\"snuffed\" + 0.009*\"bisher\"'),\n",
       " (75,\n",
       "  '0.091*\"blacking\" + 0.032*\"undisturbed\" + 0.029*\"earning\" + 0.021*\"criminal\" + 0.019*\"room--had\" + 0.014*\"stares\" + 0.014*\"bisher\" + 0.012*\"ununiformity\" + 0.012*\"indeed:—we\" + 0.010*\"menial\"'),\n",
       " (20,\n",
       "  '0.042*\"blacking\" + 0.030*\"undisturbed\" + 0.022*\"earning\" + 0.018*\"criminal\" + 0.015*\"room--had\" + 0.015*\"stares\" + 0.012*\"indeed:—we\" + 0.010*\"ununiformity\" + 0.009*\"primitive\" + 0.009*\"good-morning\"'),\n",
       " (12,\n",
       "  '0.062*\"blacking\" + 0.025*\"earning\" + 0.024*\"undisturbed\" + 0.022*\"room--had\" + 0.019*\"criminal\" + 0.013*\"stares\" + 0.013*\"indeed:—we\" + 0.012*\"ununiformity\" + 0.010*\"snuffed\" + 0.009*\"menial\"'),\n",
       " (1,\n",
       "  '0.058*\"blacking\" + 0.028*\"room--had\" + 0.027*\"undisturbed\" + 0.025*\"earning\" + 0.020*\"criminal\" + 0.017*\"primitive\" + 0.015*\"ununiformity\" + 0.015*\"indeed:—we\" + 0.013*\"bisher\" + 0.012*\"stares\"'),\n",
       " (96,\n",
       "  '0.016*\"earning\" + 0.014*\"blacking\" + 0.013*\"undisturbed\" + 0.010*\"room--had\" + 0.008*\"primitive\" + 0.007*\"indeed:—we\" + 0.007*\"criminal\" + 0.007*\"ununiformity\" + 0.006*\"snuffed\" + 0.005*\"stares\"'),\n",
       " (34,\n",
       "  '0.042*\"blacking\" + 0.033*\"undisturbed\" + 0.025*\"earning\" + 0.017*\"criminal\" + 0.015*\"stares\" + 0.015*\"room--had\" + 0.012*\"ununiformity\" + 0.011*\"bisher\" + 0.010*\"primitive\" + 0.009*\"snuffed\"'),\n",
       " (46,\n",
       "  '0.029*\"blacking\" + 0.028*\"earning\" + 0.027*\"undisturbed\" + 0.019*\"criminal\" + 0.018*\"room--had\" + 0.014*\"ununiformity\" + 0.013*\"indeed:—we\" + 0.012*\"snuffed\" + 0.011*\"primitive\" + 0.010*\"stares\"'),\n",
       " (47,\n",
       "  '0.043*\"blacking\" + 0.025*\"earning\" + 0.025*\"room--had\" + 0.023*\"undisturbed\" + 0.020*\"criminal\" + 0.016*\"stares\" + 0.013*\"bisher\" + 0.012*\"indeed:—we\" + 0.011*\"ununiformity\" + 0.010*\"primitive\"'),\n",
       " (55,\n",
       "  '0.048*\"blacking\" + 0.027*\"earning\" + 0.017*\"undisturbed\" + 0.016*\"room--had\" + 0.014*\"indeed:—we\" + 0.013*\"criminal\" + 0.011*\"ununiformity\" + 0.011*\"stares\" + 0.011*\"snuffed\" + 0.009*\"bisher\"'),\n",
       " (49,\n",
       "  '0.065*\"blacking\" + 0.034*\"undisturbed\" + 0.024*\"earning\" + 0.021*\"room--had\" + 0.021*\"criminal\" + 0.016*\"stares\" + 0.015*\"ununiformity\" + 0.012*\"indeed:—we\" + 0.012*\"snuffed\" + 0.011*\"primitive\"'),\n",
       " (15,\n",
       "  '0.053*\"blacking\" + 0.031*\"undisturbed\" + 0.031*\"earning\" + 0.028*\"room--had\" + 0.019*\"indeed:—we\" + 0.018*\"primitive\" + 0.016*\"criminal\" + 0.016*\"ununiformity\" + 0.014*\"stares\" + 0.012*\"snuffed\"'),\n",
       " (85,\n",
       "  '0.041*\"blacking\" + 0.033*\"undisturbed\" + 0.021*\"criminal\" + 0.018*\"room--had\" + 0.017*\"earning\" + 0.012*\"bisher\" + 0.012*\"ununiformity\" + 0.011*\"primitive\" + 0.010*\"snuffed\" + 0.009*\"indeed:—we\"'),\n",
       " (88,\n",
       "  '0.044*\"blacking\" + 0.033*\"earning\" + 0.029*\"undisturbed\" + 0.021*\"criminal\" + 0.021*\"room--had\" + 0.016*\"primitive\" + 0.015*\"ununiformity\" + 0.015*\"stares\" + 0.014*\"indeed:—we\" + 0.014*\"bisher\"'),\n",
       " (25,\n",
       "  '0.036*\"blacking\" + 0.028*\"earning\" + 0.023*\"room--had\" + 0.023*\"undisturbed\" + 0.018*\"ununiformity\" + 0.014*\"criminal\" + 0.014*\"indeed:—we\" + 0.013*\"stares\" + 0.012*\"primitive\" + 0.011*\"bisher\"'),\n",
       " (86,\n",
       "  '0.040*\"blacking\" + 0.029*\"room--had\" + 0.025*\"undisturbed\" + 0.021*\"earning\" + 0.020*\"indeed:—we\" + 0.019*\"criminal\" + 0.014*\"stares\" + 0.012*\"ununiformity\" + 0.012*\"enclose\" + 0.012*\"bisher\"'),\n",
       " (87,\n",
       "  '0.051*\"blacking\" + 0.030*\"earning\" + 0.027*\"undisturbed\" + 0.022*\"indeed:—we\" + 0.021*\"room--had\" + 0.020*\"criminal\" + 0.017*\"ununiformity\" + 0.015*\"primitive\" + 0.014*\"stares\" + 0.014*\"bisher\"'),\n",
       " (83,\n",
       "  '0.049*\"blacking\" + 0.027*\"undisturbed\" + 0.024*\"earning\" + 0.018*\"room--had\" + 0.015*\"criminal\" + 0.013*\"stares\" + 0.012*\"ununiformity\" + 0.011*\"primitive\" + 0.011*\"indeed:—we\" + 0.010*\"enclose\"'),\n",
       " (98,\n",
       "  '0.046*\"blacking\" + 0.032*\"earning\" + 0.024*\"undisturbed\" + 0.024*\"room--had\" + 0.023*\"criminal\" + 0.015*\"stares\" + 0.015*\"bisher\" + 0.014*\"primitive\" + 0.014*\"indeed:—we\" + 0.013*\"menial\"'),\n",
       " (28,\n",
       "  '0.035*\"blacking\" + 0.023*\"undisturbed\" + 0.022*\"earning\" + 0.021*\"criminal\" + 0.014*\"indeed:—we\" + 0.013*\"stares\" + 0.013*\"primitive\" + 0.012*\"room--had\" + 0.012*\"menial\" + 0.012*\"bisher\"'),\n",
       " (13,\n",
       "  '0.060*\"blacking\" + 0.028*\"undisturbed\" + 0.028*\"earning\" + 0.025*\"room--had\" + 0.018*\"criminal\" + 0.015*\"ununiformity\" + 0.014*\"indeed:—we\" + 0.013*\"stares\" + 0.012*\"primitive\" + 0.011*\"bisher\"'),\n",
       " (16,\n",
       "  '0.064*\"blacking\" + 0.039*\"earning\" + 0.027*\"undisturbed\" + 0.022*\"room--had\" + 0.020*\"criminal\" + 0.017*\"stares\" + 0.013*\"indeed:—we\" + 0.013*\"primitive\" + 0.013*\"bisher\" + 0.010*\"good-morning\"'),\n",
       " (10,\n",
       "  '0.039*\"blacking\" + 0.026*\"earning\" + 0.025*\"room--had\" + 0.021*\"undisturbed\" + 0.018*\"indeed:—we\" + 0.017*\"criminal\" + 0.015*\"ununiformity\" + 0.014*\"menial\" + 0.013*\"primitive\" + 0.012*\"stares\"'),\n",
       " (72,\n",
       "  '0.058*\"blacking\" + 0.031*\"undisturbed\" + 0.031*\"earning\" + 0.022*\"room--had\" + 0.022*\"criminal\" + 0.017*\"stares\" + 0.015*\"indeed:—we\" + 0.012*\"ununiformity\" + 0.011*\"snuffed\" + 0.011*\"menial\"'),\n",
       " (82,\n",
       "  '0.055*\"blacking\" + 0.039*\"undisturbed\" + 0.027*\"earning\" + 0.021*\"criminal\" + 0.016*\"stares\" + 0.016*\"indeed:—we\" + 0.015*\"room--had\" + 0.014*\"ununiformity\" + 0.011*\"snuffed\" + 0.011*\"bisher\"'),\n",
       " (53,\n",
       "  '0.049*\"blacking\" + 0.028*\"undisturbed\" + 0.028*\"earning\" + 0.017*\"indeed:—we\" + 0.017*\"room--had\" + 0.014*\"ununiformity\" + 0.014*\"criminal\" + 0.012*\"stares\" + 0.011*\"primitive\" + 0.009*\"snuffed\"'),\n",
       " (94,\n",
       "  '0.048*\"blacking\" + 0.032*\"undisturbed\" + 0.030*\"earning\" + 0.021*\"room--had\" + 0.017*\"indeed:—we\" + 0.017*\"stares\" + 0.016*\"criminal\" + 0.015*\"ununiformity\" + 0.013*\"primitive\" + 0.012*\"bisher\"'),\n",
       " (93,\n",
       "  '0.037*\"blacking\" + 0.033*\"earning\" + 0.025*\"undisturbed\" + 0.022*\"room--had\" + 0.019*\"criminal\" + 0.019*\"indeed:—we\" + 0.015*\"stares\" + 0.014*\"ununiformity\" + 0.013*\"primitive\" + 0.011*\"snuffed\"'),\n",
       " (23,\n",
       "  '0.059*\"blacking\" + 0.032*\"earning\" + 0.030*\"undisturbed\" + 0.021*\"criminal\" + 0.018*\"room--had\" + 0.018*\"ununiformity\" + 0.015*\"indeed:—we\" + 0.013*\"snuffed\" + 0.012*\"stares\" + 0.012*\"menial\"'),\n",
       " (60,\n",
       "  '0.043*\"blacking\" + 0.032*\"undisturbed\" + 0.023*\"criminal\" + 0.021*\"earning\" + 0.021*\"room--had\" + 0.019*\"indeed:—we\" + 0.013*\"primitive\" + 0.012*\"ununiformity\" + 0.012*\"stares\" + 0.011*\"bisher\"')]"
      ]
     },
     "execution_count": 30,
     "metadata": {},
     "output_type": "execute_result"
    }
   ],
   "source": [
    "topics"
   ]
  },
  {
   "cell_type": "markdown",
   "metadata": {},
   "source": [
    "## Topic Modeling mit Mallet"
   ]
  },
  {
   "cell_type": "markdown",
   "metadata": {},
   "source": [
    "##### Mallet Binary erzeugen"
   ]
  },
  {
   "cell_type": "code",
   "execution_count": 31,
   "metadata": {
    "collapsed": false
   },
   "outputs": [],
   "source": [
    "import os\n",
    "basepath = os.path.abspath('.')"
   ]
  },
  {
   "cell_type": "code",
   "execution_count": 32,
   "metadata": {
    "collapsed": false,
    "scrolled": true
   },
   "outputs": [
    {
     "name": "stderr",
     "output_type": "stream",
     "text": [
      "26-Jan-2017 18:31:36 DEBUG mallet: mallet_output/malletBinary.mallet\n",
      "26-Jan-2017 18:31:36 INFO mallet: Accessing Mallet ...\n"
     ]
    },
    {
     "name": "stdout",
     "output_type": "stream",
     "text": [
      "['mallet', 'import-dir', '--input', '/home/tv/git/Topics/corpus_txt', '--output', 'mallet_output/malletBinary.mallet', '--keep-sequence', '--remove-stopwords']\n"
     ]
    },
    {
     "name": "stderr",
     "output_type": "stream",
     "text": [
      "26-Jan-2017 18:31:36 DEBUG mallet: Mallet file available.\n"
     ]
    }
   ],
   "source": [
    "#path_to_mallet = \"/home/sina/Uni/Dariah/mallet/bin/mallet\"\n",
    "#path_to_mallet = \"mallet\"\n",
    "path_to_corpus = os.path.join(basepath, 'corpus_txt')\n",
    "assert os.path.exists(path_to_corpus)\n",
    "\n",
    "# FIXME woher kommt der Ausgabepfad? Das muss doch in irgendeinen Parameter?\n",
    "mal.create_mallet_binary(path_to_corpus)\n",
    "\n",
    "#toDo absolute Pfade"
   ]
  },
  {
   "cell_type": "markdown",
   "metadata": {},
   "source": [
    "##### Mallet output erzeugen"
   ]
  },
  {
   "cell_type": "code",
   "execution_count": 33,
   "metadata": {
    "collapsed": false,
    "scrolled": true
   },
   "outputs": [
    {
     "name": "stderr",
     "output_type": "stream",
     "text": [
      "26-Jan-2017 18:31:36 DEBUG mallet: /home/tv/git/Topics/mallet_output\n",
      "26-Jan-2017 18:31:36 INFO mallet: Accessing Mallet ...\n",
      "26-Jan-2017 18:31:52 DEBUG mallet: Mallet file available.\n"
     ]
    }
   ],
   "source": [
    "outfolder = os.path.join(basepath, \"mallet_output\")\n",
    "malletBinary = os.path.join(outfolder, \"malletBinary.mallet\")\n",
    "mal.create_mallet_model(malletBinary, outfolder)"
   ]
  },
  {
   "cell_type": "markdown",
   "metadata": {},
   "source": [
    "## Visualisierung "
   ]
  },
  {
   "cell_type": "code",
   "execution_count": 34,
   "metadata": {
    "collapsed": false
   },
   "outputs": [
    {
     "data": {
      "text/plain": [
       "\"lda_model = 'out_easy/corpus.lda'\\ncorpus = 'out_easy/corpus.mm'\\ndictionary = 'out_easy/corpus.dict'\\ndoc_labels = 'out_easy/corpus_doclabels.txt'\\ninteractive  = False\\n\\nvis = visual.Visualization(lda_model, corpus, dictionary, doc_labels, interactive)\""
      ]
     },
     "execution_count": 34,
     "metadata": {},
     "output_type": "execute_result"
    }
   ],
   "source": [
    "'''lda_model = 'out_easy/corpus.lda'\n",
    "corpus = 'out_easy/corpus.mm'\n",
    "dictionary = 'out_easy/corpus.dict'\n",
    "doc_labels = 'out_easy/corpus_doclabels.txt'\n",
    "interactive  = False\n",
    "\n",
    "vis = visual.Visualization(lda_model, corpus, dictionary, doc_labels, interactive)'''"
   ]
  },
  {
   "cell_type": "markdown",
   "metadata": {},
   "source": [
    "#### Heatmap"
   ]
  },
  {
   "cell_type": "code",
   "execution_count": 35,
   "metadata": {
    "collapsed": true
   },
   "outputs": [],
   "source": [
    "#heatmap = visual.make_heatmap()"
   ]
  },
  {
   "cell_type": "code",
   "execution_count": 36,
   "metadata": {
    "collapsed": false
   },
   "outputs": [],
   "source": [
    "#visual.save_heatmap(\"./visualizations/heatmap\")"
   ]
  },
  {
   "cell_type": "markdown",
   "metadata": {},
   "source": [
    "#### Interactive"
   ]
  },
  {
   "cell_type": "code",
   "execution_count": 37,
   "metadata": {
    "collapsed": true
   },
   "outputs": [],
   "source": [
    "#vis = collection.Visualization(lda_model, corpus, dictionary, doc_labels, interactive=True)"
   ]
  },
  {
   "cell_type": "code",
   "execution_count": 38,
   "metadata": {
    "collapsed": true
   },
   "outputs": [],
   "source": [
    "#vis.make_interactive()"
   ]
  },
  {
   "cell_type": "code",
   "execution_count": 39,
   "metadata": {
    "collapsed": true
   },
   "outputs": [],
   "source": [
    "#vis.save_interactive(\"./visualizations/interactive\")"
   ]
  },
  {
   "cell_type": "markdown",
   "metadata": {},
   "source": [
    "#### Ob ihr wirklich richtig steht, seht ihr, wenn ..."
   ]
  },
  {
   "cell_type": "markdown",
   "metadata": {
    "collapsed": true
   },
   "source": [
    "![success](http://cdn2.hubspot.net/hub/128506/file-446943132-jpg/images/computer_woman_success.jpg)"
   ]
  }
 ],
 "metadata": {
  "kernelspec": {
   "display_name": "Python 3",
   "language": "python",
   "name": "python3"
  },
  "language_info": {
   "codemirror_mode": {
    "name": "ipython",
    "version": 3
   },
   "file_extension": ".py",
   "mimetype": "text/x-python",
   "name": "python",
   "nbconvert_exporter": "python",
   "pygments_lexer": "ipython3",
   "version": "3.5.3rc1"
  }
 },
 "nbformat": 4,
 "nbformat_minor": 0
}
