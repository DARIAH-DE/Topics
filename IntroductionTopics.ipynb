{
 "cells": [
  {
   "cell_type": "markdown",
   "metadata": {},
   "source": [
    "# Topics - Easy Topic Modeling in Python\n",
    "\n",
    "This notebook introduces a workflow using the text mining technique **Topic Modeling**. The Python library [**gensim**](http://radimrehurek.com/gensim/), an open-source vector space modeling and topic modeling toolkit, offers one reliable way to compute the abstract topics of a collection of documents using [LDA](https://en.wikipedia.org/wiki/Latent_Dirichlet_allocation), a generative statistical model. \n",
    "\n",
    "\"Topic models are algorithms for discovering the main themes that pervade a large and otherwise unstructured collection of documents. Topic models can organize the collection according to the discovered themes.\" ([Blei 2012: 77](https://www.cs.princeton.edu/~blei/papers/Blei2012.pdf))\n",
    "\n",
    "Some parts of the following code are heavily inspired by the [gensim tutorial](https://radimrehurek.com/gensim/tutorial.html)."
   ]
  },
  {
   "cell_type": "markdown",
   "metadata": {},
   "source": [
    "### 1. Prerequisites"
   ]
  },
  {
   "cell_type": "markdown",
   "metadata": {},
   "source": [
    "First of all you have to import several pre-processing functions from the [cophi-toolbox](https://github.com/thvitt/cophi-toolbox) and the script **model_creation.py** to create and visualize the LDA model.\n",
    "\n",
    "As a first step, simply run the following statement. The first two lines import the mentioned modules, the last line makes sure that graphs (created by matplotlib) can be displayed within your Jupyter notebook."
   ]
  },
  {
   "cell_type": "code",
   "execution_count": 1,
   "metadata": {
    "collapsed": false
   },
   "outputs": [],
   "source": [
    "from cophi_toolbox.dariah import topics as pre\n",
    "import model_creation as post\n",
    "%matplotlib inline"
   ]
  },
  {
   "cell_type": "markdown",
   "metadata": {},
   "source": [
    "### 2. Reading documents "
   ]
  },
  {
   "cell_type": "markdown",
   "metadata": {},
   "source": [
    "Let's start by reading text files from a folder. The folder **corpus** within **Topics** contains a collection of short stories saved as [plain text](https://en.wikipedi.org/wiki/Plain_text). In case you have your own collection, feel free to set the variable `folder` to the respective path. Don't forget to add \"`/*.txt`\" at the end.\n",
    "\n",
    "e. g. `folder = '/users/mycollection/*.txt'`\n",
    "\n",
    "**Note**: Every file has to be saved as plain text."
   ]
  },
  {
   "cell_type": "code",
   "execution_count": 2,
   "metadata": {
    "collapsed": false
   },
   "outputs": [],
   "source": [
    "folder = './corpus_txt/*.txt'"
   ]
  },
  {
   "cell_type": "markdown",
   "metadata": {},
   "source": [
    "To use the first function `pre.readCorpus`, which reads and saves the content of every single document in a [list](https://docs.python.org/3/tutorial/datastructures.html), run the following statement:"
   ]
  },
  {
   "cell_type": "code",
   "execution_count": 3,
   "metadata": {
    "collapsed": false
   },
   "outputs": [],
   "source": [
    "documents = pre.readCorpus(folder)"
   ]
  },
  {
   "cell_type": "markdown",
   "metadata": {},
   "source": [
    "Now let's store the file names as document labels in a separate list:"
   ]
  },
  {
   "cell_type": "code",
   "execution_count": 4,
   "metadata": {
    "collapsed": false
   },
   "outputs": [
    {
     "data": {
      "text/plain": [
       "['Doyle_AScandalinBohemia',\n",
       " 'Doyle_AStudyinScarlet',\n",
       " 'Doyle_TheHoundoftheBaskervilles',\n",
       " 'Doyle_TheSignoftheFour',\n",
       " 'Howard_GodsoftheNorth',\n",
       " 'Howard_SchadowsinZamboula',\n",
       " 'Howard_ShadowsintheMoonlight',\n",
       " 'Howard_TheDevilinIron',\n",
       " 'Kipling_TheEndofthePassage',\n",
       " 'Kipling_TheJungleBook',\n",
       " 'Kipling_ThyServantaDog',\n",
       " 'Lovecraft_AttheMountainofMadness',\n",
       " 'Lovecraft_TheShunnedHouse',\n",
       " 'Poe_EurekaAProsePoem',\n",
       " 'Poe_TheCaskofAmontillado',\n",
       " 'Poe_TheMasqueoftheRedDeath',\n",
       " 'Poe_ThePurloinedLetter']"
      ]
     },
     "execution_count": 4,
     "metadata": {},
     "output_type": "execute_result"
    }
   ],
   "source": [
    "doc_labels = pre.docLabels(folder)\n",
    "doc_labels"
   ]
  },
  {
   "cell_type": "markdown",
   "metadata": {},
   "source": [
    "**Hint**: If you are interested in a single function, try using `help()` as shown here:"
   ]
  },
  {
   "cell_type": "code",
   "execution_count": 5,
   "metadata": {
    "collapsed": false
   },
   "outputs": [
    {
     "name": "stdout",
     "output_type": "stream",
     "text": [
      "Help on function docLabels in module cophi_toolbox.dariah.topics:\n",
      "\n",
      "docLabels(path)\n",
      "    Create a list of names (of the files) using paths and return a\n",
      "    list.\n",
      "    \n",
      "    Args:\n",
      "        path (str): Path/glob pattern of the text files to process.\n",
      "    \n",
      "    Author:\n",
      "        DARIAH-DE\n",
      "\n"
     ]
    }
   ],
   "source": [
    "help(pre.docLabels)"
   ]
  },
  {
   "cell_type": "markdown",
   "metadata": {},
   "source": [
    "### 3. Preprocessing"
   ]
  },
  {
   "cell_type": "markdown",
   "metadata": {},
   "source": [
    "To achieve a reliable result, the documents have to be pre-processed before the model can be created. \n",
    "\n",
    "Tokenization, also called word segmentation, is the process of finding word boundaries - in its simplest form, by using the blanks in-between words as delimiters. This is exactly what you'll be doing now using `pre.tokenize`."
   ]
  },
  {
   "cell_type": "code",
   "execution_count": 6,
   "metadata": {
    "collapsed": true
   },
   "outputs": [],
   "source": [
    "texts = pre.tokenize(documents)"
   ]
  },
  {
   "cell_type": "markdown",
   "metadata": {},
   "source": [
    "Now the hapax legomena have to be removed. A hapax legomenon is a single word that occurs only once in a text."
   ]
  },
  {
   "cell_type": "code",
   "execution_count": 7,
   "metadata": {
    "collapsed": true
   },
   "outputs": [],
   "source": [
    "texts = pre.removeHapaxLeg(texts)"
   ]
  },
  {
   "cell_type": "markdown",
   "metadata": {},
   "source": [
    "Let's finally remove the stopwords. Stopwords might occur a thousand times in one document, but will not be considered because of their semantic unimportance. Feel free to have a look at the exemplary stopwords lists in the folder **stopwords** within **helpful_stuff**.\n",
    "\n",
    "Before removing the stopwords, make sure the parameter `stoplist` is set correctly to either 'en', 'de', 'es' or 'fr'."
   ]
  },
  {
   "cell_type": "code",
   "execution_count": 8,
   "metadata": {
    "collapsed": true
   },
   "outputs": [],
   "source": [
    "texts = pre.removeStopWords(texts, stoplist = 'en')"
   ]
  },
  {
   "cell_type": "markdown",
   "metadata": {},
   "source": [
    "### 4. Model creation"
   ]
  },
  {
   "cell_type": "markdown",
   "metadata": {},
   "source": [
    "Create the LDA model, and if you are wondering: yes, this may take a while. `no_of_topics = 10` means ten topics will be created. In case you want twenty models or whatever to be created, just update the number.\n",
    "\n",
    "The output offers a brief insight into what the function is actually doing."
   ]
  },
  {
   "cell_type": "code",
   "execution_count": 9,
   "metadata": {
    "collapsed": false,
    "scrolled": true
   },
   "outputs": [
    {
     "name": "stderr",
     "output_type": "stream",
     "text": [
      "2016-10-31 14:40:19,496 : INFO : adding document #0 to Dictionary(0 unique tokens: [])\n",
      "2016-10-31 14:40:19,525 : INFO : built Dictionary(514 unique tokens: ['majesty', 'adler', 'answered', 'call', 'street']...) from 17 documents (total 35384 corpus positions)\n",
      "2016-10-31 14:40:19,545 : INFO : using symmetric alpha at 0.1\n",
      "2016-10-31 14:40:19,546 : INFO : using symmetric eta at 0.1\n",
      "2016-10-31 14:40:19,547 : INFO : using serial LDA version on this node\n",
      "2016-10-31 14:40:19,604 : INFO : running online LDA training, 10 topics, 10 passes over the supplied corpus of 17 documents, updating model once every 17 documents, evaluating perplexity every 17 documents, iterating 50x with a convergence threshold of 0.001000\n",
      "2016-10-31 14:40:20,103 : INFO : -6.972 per-word bound, 125.5 perplexity estimate based on a held-out corpus of 17 documents with 35384 words\n",
      "2016-10-31 14:40:20,104 : INFO : PROGRESS: pass 0, at document #17/17\n",
      "2016-10-31 14:40:20,196 : INFO : topic #7 (0.100): 0.032*man + 0.026*will + 0.018*eyes + 0.018*time + 0.013*great + 0.013*well + 0.013*long + 0.012*head + 0.011*night + 0.011*holmes\n",
      "2016-10-31 14:40:20,198 : INFO : topic #1 (0.100): 0.032*will + 0.026*man + 0.018*time + 0.014*well + 0.014*great + 0.013*long + 0.012*head + 0.010*good + 0.010*eyes + 0.010*course\n",
      "2016-10-31 14:40:20,199 : INFO : topic #4 (0.100): 0.023*man + 0.021*will + 0.016*holmes + 0.014*time + 0.014*good + 0.012*well + 0.011*night + 0.010*small + 0.010*great + 0.009*day\n",
      "2016-10-31 14:40:20,201 : INFO : topic #3 (0.100): 0.030*man + 0.028*will + 0.016*time + 0.016*head + 0.016*good + 0.016*eyes + 0.016*long + 0.015*well + 0.013*night + 0.012*men\n",
      "2016-10-31 14:40:20,202 : INFO : topic #2 (0.100): 0.027*man + 0.027*will + 0.019*great + 0.018*time + 0.015*well + 0.013*long + 0.013*head + 0.012*house + 0.011*eyes + 0.011*night\n",
      "2016-10-31 14:40:20,203 : INFO : topic diff=1.315726, rho=1.000000\n",
      "2016-10-31 14:40:20,652 : INFO : -5.899 per-word bound, 59.7 perplexity estimate based on a held-out corpus of 17 documents with 35384 words\n",
      "2016-10-31 14:40:20,654 : INFO : PROGRESS: pass 1, at document #17/17\n",
      "2016-10-31 14:40:20,742 : INFO : topic #1 (0.100): 0.033*will + 0.025*man + 0.019*time + 0.014*well + 0.014*great + 0.013*long + 0.012*head + 0.012*things + 0.011*course + 0.010*good\n",
      "2016-10-31 14:40:20,743 : INFO : topic #6 (0.100): 0.029*man + 0.029*holmes + 0.019*well + 0.017*will + 0.016*face + 0.014*time + 0.013*long + 0.011*night + 0.010*good + 0.010*case\n",
      "2016-10-31 14:40:20,744 : INFO : topic #7 (0.100): 0.032*man + 0.023*will + 0.022*eyes + 0.016*time + 0.013*head + 0.013*hand + 0.013*great + 0.013*black + 0.012*long + 0.012*men\n",
      "2016-10-31 14:40:20,746 : INFO : topic #3 (0.100): 0.036*man + 0.032*will + 0.024*head + 0.021*time + 0.018*good + 0.016*long + 0.016*men + 0.016*night + 0.015*eyes + 0.014*well\n",
      "2016-10-31 14:40:20,747 : INFO : topic #8 (0.100): 0.032*will + 0.020*man + 0.016*time + 0.015*house + 0.011*long + 0.011*thought + 0.011*holmes + 0.010*great + 0.010*well + 0.010*things\n",
      "2016-10-31 14:40:20,748 : INFO : topic diff=0.516440, rho=0.577350\n",
      "2016-10-31 14:40:21,194 : INFO : -5.768 per-word bound, 54.5 perplexity estimate based on a held-out corpus of 17 documents with 35384 words\n",
      "2016-10-31 14:40:21,195 : INFO : PROGRESS: pass 2, at document #17/17\n",
      "2016-10-31 14:40:21,281 : INFO : topic #2 (0.100): 0.026*great + 0.020*will + 0.019*time + 0.016*man + 0.016*house + 0.015*long + 0.014*well + 0.013*things + 0.013*thing + 0.013*left\n",
      "2016-10-31 14:40:21,282 : INFO : topic #8 (0.100): 0.032*will + 0.019*man + 0.016*time + 0.016*house + 0.011*long + 0.011*thought + 0.010*holmes + 0.010*well + 0.010*things + 0.010*told\n",
      "2016-10-31 14:40:21,283 : INFO : topic #0 (0.100): 0.019*man + 0.013*well + 0.012*hand + 0.011*will + 0.011*great + 0.011*time + 0.011*long + 0.010*good + 0.009*thought + 0.009*black\n",
      "2016-10-31 14:40:21,285 : INFO : topic #7 (0.100): 0.031*man + 0.025*eyes + 0.021*will + 0.016*black + 0.016*girl + 0.016*door + 0.015*head + 0.015*hand + 0.015*great + 0.014*men\n",
      "2016-10-31 14:40:21,286 : INFO : topic #1 (0.100): 0.032*will + 0.025*man + 0.018*time + 0.014*well + 0.014*great + 0.013*long + 0.012*head + 0.011*things + 0.010*course + 0.010*good\n",
      "2016-10-31 14:40:21,287 : INFO : topic diff=0.490480, rho=0.500000\n",
      "2016-10-31 14:40:21,757 : INFO : -5.707 per-word bound, 52.2 perplexity estimate based on a held-out corpus of 17 documents with 35384 words\n",
      "2016-10-31 14:40:21,758 : INFO : PROGRESS: pass 3, at document #17/17\n",
      "2016-10-31 14:40:21,840 : INFO : topic #8 (0.100): 0.033*will + 0.019*man + 0.016*house + 0.016*time + 0.011*long + 0.011*thought + 0.011*friend + 0.010*told + 0.010*things + 0.010*well\n",
      "2016-10-31 14:40:21,841 : INFO : topic #0 (0.100): 0.016*man + 0.011*well + 0.010*hand + 0.010*will + 0.010*great + 0.010*time + 0.010*long + 0.009*good + 0.008*thought + 0.008*black\n",
      "2016-10-31 14:40:21,843 : INFO : topic #5 (0.100): 0.028*man + 0.024*holmes + 0.024*will + 0.015*well + 0.012*night + 0.011*time + 0.011*hand + 0.010*great + 0.010*matter + 0.009*good\n",
      "2016-10-31 14:40:21,844 : INFO : topic #9 (0.100): 0.053*will + 0.038*point + 0.036*matter + 0.028*general + 0.025*course + 0.020*system + 0.019*find + 0.018*well + 0.018*great + 0.018*time\n",
      "2016-10-31 14:40:21,846 : INFO : topic #6 (0.100): 0.032*man + 0.030*holmes + 0.019*will + 0.019*well + 0.016*face + 0.015*time + 0.012*long + 0.011*case + 0.011*night + 0.010*sherlock\n",
      "2016-10-31 14:40:21,847 : INFO : topic diff=0.471354, rho=0.447214\n",
      "2016-10-31 14:40:22,313 : INFO : -5.672 per-word bound, 51.0 perplexity estimate based on a held-out corpus of 17 documents with 35384 words\n",
      "2016-10-31 14:40:22,314 : INFO : PROGRESS: pass 4, at document #17/17\n",
      "2016-10-31 14:40:22,389 : INFO : topic #0 (0.100): 0.014*man + 0.010*well + 0.009*hand + 0.009*will + 0.009*great + 0.008*time + 0.008*long + 0.007*good + 0.007*thought + 0.007*black\n",
      "2016-10-31 14:40:22,390 : INFO : topic #7 (0.100): 0.030*man + 0.027*eyes + 0.020*will + 0.020*door + 0.019*black + 0.019*girl + 0.017*head + 0.017*hand + 0.016*great + 0.016*men\n",
      "2016-10-31 14:40:22,391 : INFO : topic #8 (0.100): 0.032*will + 0.018*man + 0.017*house + 0.016*time + 0.013*friend + 0.011*walk + 0.011*small + 0.011*long + 0.011*thought + 0.011*told\n",
      "2016-10-31 14:40:22,392 : INFO : topic #6 (0.100): 0.033*man + 0.029*holmes + 0.020*will + 0.018*well + 0.016*face + 0.015*time + 0.012*long + 0.011*case + 0.011*night + 0.011*eyes\n",
      "2016-10-31 14:40:22,393 : INFO : topic #1 (0.100): 0.028*will + 0.022*man + 0.017*time + 0.013*well + 0.012*great + 0.011*long + 0.011*head + 0.010*things + 0.010*course + 0.009*good\n",
      "2016-10-31 14:40:22,394 : INFO : topic diff=0.444928, rho=0.408248\n",
      "2016-10-31 14:40:22,861 : INFO : -5.649 per-word bound, 50.2 perplexity estimate based on a held-out corpus of 17 documents with 35384 words\n",
      "2016-10-31 14:40:22,862 : INFO : PROGRESS: pass 5, at document #17/17\n",
      "2016-10-31 14:40:22,936 : INFO : topic #0 (0.100): 0.011*man + 0.008*well + 0.007*hand + 0.007*will + 0.007*great + 0.007*time + 0.007*long + 0.006*good + 0.006*thought + 0.006*black\n",
      "2016-10-31 14:40:22,937 : INFO : topic #9 (0.100): 0.057*will + 0.040*point + 0.039*matter + 0.029*general + 0.025*course + 0.021*system + 0.019*find + 0.019*well + 0.019*account + 0.018*great\n",
      "2016-10-31 14:40:22,938 : INFO : topic #3 (0.100): 0.037*man + 0.035*will + 0.026*head + 0.025*time + 0.017*good + 0.017*night + 0.017*long + 0.016*men + 0.016*told + 0.015*things\n",
      "2016-10-31 14:40:22,939 : INFO : topic #8 (0.100): 0.031*will + 0.019*house + 0.017*time + 0.016*man + 0.016*friend + 0.015*walk + 0.014*small + 0.012*told + 0.012*things + 0.011*long\n",
      "2016-10-31 14:40:22,941 : INFO : topic #7 (0.100): 0.030*man + 0.027*eyes + 0.020*door + 0.020*will + 0.019*black + 0.019*girl + 0.018*head + 0.018*hand + 0.017*great + 0.016*men\n",
      "2016-10-31 14:40:22,942 : INFO : topic diff=0.412963, rho=0.377964\n",
      "2016-10-31 14:40:23,489 : INFO : -5.634 per-word bound, 49.7 perplexity estimate based on a held-out corpus of 17 documents with 35384 words\n",
      "2016-10-31 14:40:23,490 : INFO : PROGRESS: pass 6, at document #17/17\n",
      "2016-10-31 14:40:23,584 : INFO : topic #3 (0.100): 0.038*man + 0.035*will + 0.027*head + 0.025*time + 0.017*good + 0.017*night + 0.017*long + 0.016*men + 0.016*told + 0.015*things\n",
      "2016-10-31 14:40:23,586 : INFO : topic #9 (0.100): 0.058*will + 0.040*point + 0.039*matter + 0.029*general + 0.025*course + 0.021*system + 0.019*find + 0.019*well + 0.019*account + 0.018*time\n",
      "2016-10-31 14:40:23,588 : INFO : topic #5 (0.100): 0.024*holmes + 0.024*man + 0.023*will + 0.014*well + 0.012*night + 0.011*hand + 0.009*matter + 0.009*good + 0.009*great + 0.009*time\n",
      "2016-10-31 14:40:23,589 : INFO : topic #4 (0.100): 0.011*man + 0.010*will + 0.008*holmes + 0.007*time + 0.007*good + 0.006*well + 0.006*night + 0.006*small + 0.006*great + 0.005*day\n",
      "2016-10-31 14:40:23,591 : INFO : topic #7 (0.100): 0.029*man + 0.027*eyes + 0.021*door + 0.020*black + 0.020*will + 0.019*girl + 0.018*head + 0.018*hand + 0.017*great + 0.017*men\n",
      "2016-10-31 14:40:23,592 : INFO : topic diff=0.376463, rho=0.353553\n",
      "2016-10-31 14:40:24,139 : INFO : -5.623 per-word bound, 49.3 perplexity estimate based on a held-out corpus of 17 documents with 35384 words\n",
      "2016-10-31 14:40:24,140 : INFO : PROGRESS: pass 7, at document #17/17\n",
      "2016-10-31 14:40:24,225 : INFO : topic #6 (0.100): 0.034*man + 0.029*holmes + 0.022*will + 0.018*well + 0.015*time + 0.015*face + 0.012*night + 0.012*long + 0.011*case + 0.011*eyes\n",
      "2016-10-31 14:40:24,226 : INFO : topic #7 (0.100): 0.029*man + 0.027*eyes + 0.021*door + 0.020*black + 0.020*girl + 0.019*will + 0.018*head + 0.018*hand + 0.017*great + 0.017*men\n",
      "2016-10-31 14:40:24,227 : INFO : topic #1 (0.100): 0.020*will + 0.016*man + 0.012*time + 0.009*well + 0.009*great + 0.009*long + 0.008*head + 0.008*things + 0.007*course + 0.007*good\n",
      "2016-10-31 14:40:24,228 : INFO : topic #0 (0.100): 0.007*man + 0.005*well + 0.005*hand + 0.005*will + 0.005*great + 0.005*time + 0.005*long + 0.004*good + 0.004*thought + 0.004*black\n",
      "2016-10-31 14:40:24,230 : INFO : topic #5 (0.100): 0.024*holmes + 0.023*man + 0.022*will + 0.014*well + 0.011*night + 0.011*hand + 0.009*good + 0.009*matter + 0.009*great + 0.009*room\n",
      "2016-10-31 14:40:24,231 : INFO : topic diff=0.336528, rho=0.333333\n",
      "2016-10-31 14:40:24,688 : INFO : -5.614 per-word bound, 49.0 perplexity estimate based on a held-out corpus of 17 documents with 35384 words\n",
      "2016-10-31 14:40:24,689 : INFO : PROGRESS: pass 8, at document #17/17\n",
      "2016-10-31 14:40:24,758 : INFO : topic #4 (0.100): 0.008*man + 0.007*will + 0.006*holmes + 0.005*time + 0.005*good + 0.005*well + 0.004*night + 0.004*small + 0.004*great + 0.004*day\n",
      "2016-10-31 14:40:24,759 : INFO : topic #6 (0.100): 0.034*man + 0.029*holmes + 0.022*will + 0.018*well + 0.015*time + 0.015*face + 0.012*night + 0.011*long + 0.011*case + 0.011*eyes\n",
      "2016-10-31 14:40:24,760 : INFO : topic #7 (0.100): 0.029*man + 0.028*eyes + 0.021*door + 0.020*black + 0.020*girl + 0.019*will + 0.018*head + 0.018*hand + 0.017*great + 0.017*men\n",
      "2016-10-31 14:40:24,761 : INFO : topic #2 (0.100): 0.031*great + 0.020*time + 0.020*things + 0.018*house + 0.017*course + 0.017*long + 0.016*years + 0.016*thing + 0.015*left + 0.013*thought\n",
      "2016-10-31 14:40:24,762 : INFO : topic #5 (0.100): 0.024*holmes + 0.022*will + 0.022*man + 0.013*well + 0.011*hand + 0.011*night + 0.009*good + 0.009*matter + 0.009*room + 0.008*great\n",
      "2016-10-31 14:40:24,764 : INFO : topic diff=0.294990, rho=0.316228\n",
      "2016-10-31 14:40:25,191 : INFO : -5.608 per-word bound, 48.8 perplexity estimate based on a held-out corpus of 17 documents with 35384 words\n",
      "2016-10-31 14:40:25,192 : INFO : PROGRESS: pass 9, at document #17/17\n",
      "2016-10-31 14:40:25,255 : INFO : topic #1 (0.100): 0.014*will + 0.011*man + 0.009*time + 0.007*well + 0.007*great + 0.006*long + 0.006*head + 0.006*things + 0.006*course + 0.005*good\n",
      "2016-10-31 14:40:25,256 : INFO : topic #2 (0.100): 0.031*great + 0.020*things + 0.020*time + 0.018*house + 0.017*course + 0.017*years + 0.017*long + 0.016*thing + 0.015*left + 0.013*thought\n",
      "2016-10-31 14:40:25,257 : INFO : topic #8 (0.100): 0.033*walk + 0.028*will + 0.027*friend + 0.027*small + 0.026*girl + 0.022*house + 0.021*time + 0.021*times + 0.017*things + 0.017*told\n",
      "2016-10-31 14:40:25,258 : INFO : topic #5 (0.100): 0.024*holmes + 0.022*will + 0.021*man + 0.013*well + 0.011*hand + 0.010*night + 0.009*good + 0.009*matter + 0.009*room + 0.008*door\n",
      "2016-10-31 14:40:25,260 : INFO : topic #0 (0.100): 0.005*man + 0.004*well + 0.004*hand + 0.004*will + 0.004*great + 0.004*time + 0.004*long + 0.003*good + 0.003*thought + 0.003*black\n",
      "2016-10-31 14:40:25,261 : INFO : topic diff=0.254304, rho=0.301511\n"
     ]
    }
   ],
   "source": [
    "no_of_topics = 10\n",
    "\n",
    "gensim_output = post.gensimModel(texts, no_of_topics)\n",
    "\n",
    "model = gensim_output[0]\n",
    "dictionary = gensim_output[1]\n",
    "corpus = gensim_output[2]\n",
    "topics = gensim_output[3]"
   ]
  },
  {
   "cell_type": "markdown",
   "metadata": {},
   "source": [
    "Now, create topic labels using the LDA model."
   ]
  },
  {
   "cell_type": "code",
   "execution_count": 10,
   "metadata": {
    "collapsed": false
   },
   "outputs": [],
   "source": [
    "topic_labels = post.topicLabels(model, no_of_topics)"
   ]
  },
  {
   "cell_type": "markdown",
   "metadata": {},
   "source": [
    "Let's have a look at the created topics."
   ]
  },
  {
   "cell_type": "code",
   "execution_count": 11,
   "metadata": {
    "collapsed": false,
    "scrolled": true
   },
   "outputs": [
    {
     "data": {
      "text/plain": [
       "[(5,\n",
       "  '0.024*holmes + 0.022*will + 0.021*man + 0.013*well + 0.011*hand + 0.010*night + 0.009*good + 0.009*matter + 0.009*room + 0.008*door'),\n",
       " (3,\n",
       "  '0.038*man + 0.036*will + 0.028*head + 0.025*time + 0.018*good + 0.017*night + 0.017*men + 0.017*long + 0.016*told + 0.015*things'),\n",
       " (0,\n",
       "  '0.005*man + 0.004*well + 0.004*hand + 0.004*will + 0.004*great + 0.004*time + 0.004*long + 0.003*good + 0.003*thought + 0.003*black'),\n",
       " (4,\n",
       "  '0.006*man + 0.006*will + 0.005*holmes + 0.004*time + 0.004*good + 0.004*well + 0.004*night + 0.004*small + 0.004*great + 0.003*day'),\n",
       " (2,\n",
       "  '0.031*great + 0.020*things + 0.020*time + 0.018*house + 0.017*course + 0.017*years + 0.017*long + 0.016*thing + 0.015*left + 0.013*thought')]"
      ]
     },
     "execution_count": 11,
     "metadata": {},
     "output_type": "execute_result"
    }
   ],
   "source": [
    "model.show_topics(num_topics = 5)"
   ]
  },
  {
   "cell_type": "markdown",
   "metadata": {},
   "source": [
    "Saving the gensim output in the folder **out** within **Topics** is recommended, but not necessary to visualize the model:"
   ]
  },
  {
   "cell_type": "code",
   "execution_count": 12,
   "metadata": {
    "collapsed": false
   },
   "outputs": [
    {
     "name": "stderr",
     "output_type": "stream",
     "text": [
      "2016-10-31 14:40:26,025 : INFO : saving Dictionary object under out/corpus.dict, separately None\n",
      "2016-10-31 14:40:26,026 : INFO : storing corpus in Matrix Market format to out/corpus.mm\n",
      "2016-10-31 14:40:26,028 : INFO : saving sparse matrix to out/corpus.mm\n",
      "2016-10-31 14:40:26,029 : INFO : PROGRESS: saving document #0\n",
      "2016-10-31 14:40:26,048 : INFO : saved 17x514 matrix, density=52.472% (4585/8738)\n",
      "2016-10-31 14:40:26,049 : INFO : saving MmCorpus index to out/corpus.mm.index\n",
      "2016-10-31 14:40:26,050 : INFO : saving LdaState object under out/corpus.lda.state, separately None\n",
      "2016-10-31 14:40:26,052 : INFO : saving LdaModel object under out/corpus.lda, separately None\n",
      "2016-10-31 14:40:26,053 : INFO : not storing attribute dispatcher\n",
      "2016-10-31 14:40:26,054 : INFO : not storing attribute state\n"
     ]
    }
   ],
   "source": [
    "post.saveGensimModel(model, corpus, dictionary, no_of_topics, doc_labels)"
   ]
  },
  {
   "cell_type": "markdown",
   "metadata": {},
   "source": [
    "### 5. The document-topic matrix"
   ]
  },
  {
   "cell_type": "markdown",
   "metadata": {},
   "source": [
    "As one of the last steps you will create a doc-topic matrix from the gensim objects. The doc-topic matrix essentially describes the frequency of topics that occur in your collection of documents. "
   ]
  },
  {
   "cell_type": "code",
   "execution_count": 13,
   "metadata": {
    "collapsed": false
   },
   "outputs": [],
   "source": [
    "doc_topic = post.gensim_to_dtm(model, corpus, no_of_topics)"
   ]
  },
  {
   "cell_type": "markdown",
   "metadata": {},
   "source": [
    "### 6. Document-topic heatmap"
   ]
  },
  {
   "cell_type": "markdown",
   "metadata": {},
   "source": [
    "`post.docTopHeatmap` finally visualizes the model by displaying a [heatmap](https://en.wikipedia.org/wiki/Heat_map)."
   ]
  },
  {
   "cell_type": "code",
   "execution_count": 14,
   "metadata": {
    "collapsed": false
   },
   "outputs": [
    {
     "data": {
      "image/png": "[encoded data removed]",
      "text/plain": [
       "<matplotlib.figure.Figure at 0x107868c50>"
      ]
     },
     "metadata": {},
     "output_type": "display_data"
    }
   ],
   "source": [
    "post.docTopHeatmap(doc_topic, doc_labels, topic_labels)"
   ]
  }
 ],
 "metadata": {
  "kernelspec": {
   "display_name": "Python 3",
   "language": "python",
   "name": "python3"
  },
  "language_info": {
   "codemirror_mode": {
    "name": "ipython",
    "version": 3
   },
   "file_extension": ".py",
   "mimetype": "text/x-python",
   "name": "python",
   "nbconvert_exporter": "python",
   "pygments_lexer": "ipython3",
   "version": "3.5.2"
  }
 },
 "nbformat": 4,
 "nbformat_minor": 0
}
