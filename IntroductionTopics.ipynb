{
 "cells": [
  {
   "cell_type": "markdown",
   "metadata": {},
   "source": [
    "# Topics - Easy Topic Modeling in Python\n",
    "\n",
    "This notebook introduces a workflow using the text mining technique **Topic Modeling**. The Python library [**gensim**](http://radimrehurek.com/gensim/), an open-source vector space modeling and topic modeling toolkit, offers one reliable way to compute the abstract topics of a collection of documents using [LDA](https://en.wikipedia.org/wiki/Latent_Dirichlet_allocation), a generative statistical model. \n",
    "\n",
    "\"Topic models are algorithms for discovering the main themes that pervade a large and otherwise unstructured collection of documents. Topic models can organize the collection according to the discovered themes.\" ([Blei 2012: 77](https://www.cs.princeton.edu/~blei/papers/Blei2012.pdf))\n",
    "\n",
    "Some parts of the following code is heavily inspired by the [gensim tutorial](https://radimrehurek.com/gensim/tutorial.html)."
   ]
  },
  {
   "cell_type": "markdown",
   "metadata": {},
   "source": [
    "### 1. Prearrangement"
   ]
  },
  {
   "cell_type": "markdown",
   "metadata": {},
   "source": [
    "First of all you have to import several pre-processing functions from the [cophi-toolbox](https://github.com/thvitt/cophi-toolbox) and the script **model_creation.py** to create and visualize the LDA model.\n",
    "\n",
    "As a first step, simply run the following statement. The first two lines import the mentioned modules, the last line makes sure that graphs (created by matplotlib) will be displayed within your Jupyter notebook."
   ]
  },
  {
   "cell_type": "code",
   "execution_count": 1,
   "metadata": {
    "collapsed": false
   },
   "outputs": [],
   "source": [
    "from cophi_toolbox.dariah import topics as pre\n",
    "import model_creation as post\n",
    "%matplotlib inline"
   ]
  },
  {
   "cell_type": "markdown",
   "metadata": {},
   "source": [
    "### 2. Reading documents "
   ]
  },
  {
   "cell_type": "markdown",
   "metadata": {},
   "source": [
    "Let's start reading text files from a folder. The folder **corpus** within **Topics** contains a collection of short stories saved as [plain text](https://en.wikipedi.org/wiki/Plain_text). In case you have your own collection, feel free to set the variable `folder` to the respective path. Be aware of forgetting \"`/*.txt`\" at the end.\n",
    "\n",
    "e. g. `folder = '/users/mycollection/*.txt'`\n",
    "\n",
    "**Note**: Every file has to be saved as plain text."
   ]
  },
  {
   "cell_type": "code",
   "execution_count": 2,
   "metadata": {
    "collapsed": false
   },
   "outputs": [],
   "source": [
    "folder = './corpus/*.txt'"
   ]
  },
  {
   "cell_type": "markdown",
   "metadata": {},
   "source": [
    "To use the first function `pre.readCorpus`, which is reading and saving the content of every single document in a [list](https://docs.python.org/3/tutorial/datastructures.html), run the following statement:"
   ]
  },
  {
   "cell_type": "code",
   "execution_count": 3,
   "metadata": {
    "collapsed": false
   },
   "outputs": [],
   "source": [
    "documents = pre.readCorpus(folder)"
   ]
  },
  {
   "cell_type": "markdown",
   "metadata": {},
   "source": [
    "Now, let's store the file names as document labels in a separate list:"
   ]
  },
  {
   "cell_type": "code",
   "execution_count": 4,
   "metadata": {
    "collapsed": false
   },
   "outputs": [
    {
     "data": {
      "text/plain": [
       "['Doyle_AScandalinBohemia',\n",
       " 'Doyle_AStudyinScarlet',\n",
       " 'Doyle_TheHoundoftheBaskervilles',\n",
       " 'Doyle_TheSignoftheFour',\n",
       " 'Howard_GodsoftheNorth',\n",
       " 'Howard_SchadowsinZamboula',\n",
       " 'Howard_ShadowsintheMoonlight',\n",
       " 'Howard_TheDevilinIron',\n",
       " 'Kipling_TheEndofthePassage',\n",
       " 'Kipling_TheJungleBook',\n",
       " 'Kipling_ThyServantaDog',\n",
       " 'Lovecraft_AttheMountainofMadness',\n",
       " 'Lovecraft_TheShunnedHouse',\n",
       " 'Poe_EurekaAProsePoem',\n",
       " 'Poe_TheCaskofAmontillado',\n",
       " 'Poe_TheMasqueoftheRedDeath',\n",
       " 'Poe_ThePurloinedLetter']"
      ]
     },
     "execution_count": 4,
     "metadata": {},
     "output_type": "execute_result"
    }
   ],
   "source": [
    "doc_labels = pre.docLabels(folder)\n",
    "doc_labels"
   ]
  },
  {
   "cell_type": "markdown",
   "metadata": {},
   "source": [
    "**Hint**: If you are interested in a single function, try using `help()` as in the following block demonstrated."
   ]
  },
  {
   "cell_type": "code",
   "execution_count": 5,
   "metadata": {
    "collapsed": false
   },
   "outputs": [
    {
     "name": "stdout",
     "output_type": "stream",
     "text": [
      "Help on function docLabels in module cophi_toolbox.dariah.topics:\n",
      "\n",
      "docLabels(path)\n",
      "    Create a list of names (of the files) using paths and return a\n",
      "    list.\n",
      "    \n",
      "    Args:\n",
      "        path (str): Path/glob pattern of the text files to process.\n",
      "    \n",
      "    Author:\n",
      "        DARIAH-DE\n",
      "\n"
     ]
    }
   ],
   "source": [
    "help(pre.docLabels)"
   ]
  },
  {
   "cell_type": "markdown",
   "metadata": {},
   "source": [
    "### 3. Preprocessing"
   ]
  },
  {
   "cell_type": "markdown",
   "metadata": {},
   "source": [
    "To compute a reliable result, you have to pre-process the documents before creating a model. \n",
    "\n",
    "Tokenization, also called word segmentation, is the process of finding word boundaries - in its simplest form, by using the blanks in-between words as delimiters. This is exactly what you do now using `pre.tokenize`."
   ]
  },
  {
   "cell_type": "code",
   "execution_count": 6,
   "metadata": {
    "collapsed": true
   },
   "outputs": [],
   "source": [
    "texts = pre.tokenize(documents)"
   ]
  },
  {
   "cell_type": "markdown",
   "metadata": {},
   "source": [
    "Now remove hapax legomena. A hapax legomenon is a single word that occurs only once in a text."
   ]
  },
  {
   "cell_type": "code",
   "execution_count": 7,
   "metadata": {
    "collapsed": true
   },
   "outputs": [],
   "source": [
    "texts = pre.removeHapaxLeg(texts)"
   ]
  },
  {
   "cell_type": "markdown",
   "metadata": {},
   "source": [
    "Let's finally remove stopwords. Stopwords might occure a thousand times in one document but will not be considered because of its semantic unimportance. Feel free to have a look at the stopwords lists in the folder **stopwords** within **helpful_stuff**.\n",
    "\n",
    "Before removing stopwords, make sure the parameter `stoplist` is set correctly to either 'en', 'de', 'es' or 'fr'."
   ]
  },
  {
   "cell_type": "code",
   "execution_count": 8,
   "metadata": {
    "collapsed": true
   },
   "outputs": [],
   "source": [
    "texts = pre.removeStopWords(texts, stoplist = 'en')"
   ]
  },
  {
   "cell_type": "markdown",
   "metadata": {},
   "source": [
    "### 4. Model creation"
   ]
  },
  {
   "cell_type": "markdown",
   "metadata": {},
   "source": [
    "Create the LDA model, and if you are wondering: yes, this may take a while. `no_of_topics = 10` means ten topics will be created. In case you want twenty models or whatever to be created, just update the number.\n",
    "\n",
    "The output offers a brief insight what the function is actually doing."
   ]
  },
  {
   "cell_type": "code",
   "execution_count": 9,
   "metadata": {
    "collapsed": false,
    "scrolled": true
   },
   "outputs": [
    {
     "name": "stderr",
     "output_type": "stream",
     "text": [
      "2016-09-27 14:54:46,522 : INFO : adding document #0 to Dictionary(0 unique tokens: [])\n",
      "2016-09-27 14:54:46,552 : INFO : built Dictionary(514 unique tokens: ['evidently', 'serpentine', 'photograph', 'remarkably', 'pacing']...) from 17 documents (total 35384 corpus positions)\n",
      "2016-09-27 14:54:46,572 : INFO : using symmetric alpha at 0.1\n",
      "2016-09-27 14:54:46,573 : INFO : using symmetric eta at 0.1\n",
      "2016-09-27 14:54:46,574 : INFO : using serial LDA version on this node\n",
      "2016-09-27 14:54:46,630 : INFO : running online LDA training, 10 topics, 10 passes over the supplied corpus of 17 documents, updating model once every 17 documents, evaluating perplexity every 17 documents, iterating 50x with a convergence threshold of 0.001000\n",
      "2016-09-27 14:54:47,125 : INFO : -6.977 per-word bound, 125.9 perplexity estimate based on a held-out corpus of 17 documents with 35384 words\n",
      "2016-09-27 14:54:47,126 : INFO : PROGRESS: pass 0, at document #17/17\n",
      "2016-09-27 14:54:47,214 : INFO : topic #9 (0.100): 0.032*man + 0.018*holmes + 0.017*time + 0.016*will + 0.015*well + 0.014*house + 0.012*small + 0.012*night + 0.011*long + 0.011*great\n",
      "2016-09-27 14:54:47,215 : INFO : topic #5 (0.100): 0.024*man + 0.022*will + 0.015*time + 0.013*eyes + 0.012*night + 0.012*face + 0.011*holmes + 0.010*great + 0.010*long + 0.010*heard\n",
      "2016-09-27 14:54:47,216 : INFO : topic #4 (0.100): 0.024*will + 0.016*man + 0.016*time + 0.016*holmes + 0.015*well + 0.013*long + 0.012*great + 0.010*matter + 0.009*mind + 0.009*house\n",
      "2016-09-27 14:54:47,218 : INFO : topic #1 (0.100): 0.028*will + 0.023*time + 0.020*man + 0.016*holmes + 0.012*well + 0.012*great + 0.012*long + 0.009*things + 0.009*day + 0.009*night\n",
      "2016-09-27 14:54:47,219 : INFO : topic #6 (0.100): 0.035*will + 0.026*man + 0.016*matter + 0.015*point + 0.014*great + 0.013*time + 0.012*course + 0.011*well + 0.011*general + 0.011*long\n",
      "2016-09-27 14:54:47,220 : INFO : topic diff=1.316161, rho=1.000000\n",
      "2016-09-27 14:54:47,661 : INFO : -5.906 per-word bound, 60.0 perplexity estimate based on a held-out corpus of 17 documents with 35384 words\n",
      "2016-09-27 14:54:47,662 : INFO : PROGRESS: pass 1, at document #17/17\n",
      "2016-09-27 14:54:47,755 : INFO : topic #7 (0.100): 0.031*man + 0.026*will + 0.025*holmes + 0.016*well + 0.012*night + 0.011*house + 0.011*eyes + 0.011*time + 0.011*watson + 0.010*good\n",
      "2016-09-27 14:54:47,756 : INFO : topic #2 (0.100): 0.027*man + 0.026*will + 0.025*time + 0.015*long + 0.015*house + 0.015*head + 0.014*night + 0.013*well + 0.012*day + 0.012*things\n",
      "2016-09-27 14:54:47,757 : INFO : topic #8 (0.100): 0.030*man + 0.029*will + 0.022*great + 0.020*head + 0.019*eyes + 0.016*long + 0.016*men + 0.013*time + 0.012*well + 0.011*knew\n",
      "2016-09-27 14:54:47,758 : INFO : topic #0 (0.100): 0.033*man + 0.027*will + 0.020*well + 0.014*time + 0.014*night + 0.014*long + 0.014*good + 0.014*eyes + 0.013*great + 0.013*holmes\n",
      "2016-09-27 14:54:47,760 : INFO : topic #5 (0.100): 0.022*man + 0.020*will + 0.014*time + 0.012*eyes + 0.012*holmes + 0.011*face + 0.011*night + 0.009*long + 0.009*great + 0.009*good\n",
      "2016-09-27 14:54:47,761 : INFO : topic diff=0.478223, rho=0.577350\n",
      "2016-09-27 14:54:48,231 : INFO : -5.787 per-word bound, 55.2 perplexity estimate based on a held-out corpus of 17 documents with 35384 words\n",
      "2016-09-27 14:54:48,231 : INFO : PROGRESS: pass 2, at document #17/17\n",
      "2016-09-27 14:54:48,313 : INFO : topic #5 (0.100): 0.021*man + 0.019*will + 0.013*time + 0.012*eyes + 0.012*holmes + 0.011*face + 0.010*night + 0.009*long + 0.009*great + 0.009*good\n",
      "2016-09-27 14:54:48,315 : INFO : topic #0 (0.100): 0.033*man + 0.025*will + 0.020*well + 0.014*time + 0.013*holmes + 0.013*night + 0.013*hand + 0.013*eyes + 0.013*good + 0.013*long\n",
      "2016-09-27 14:54:48,317 : INFO : topic #6 (0.100): 0.055*will + 0.037*point + 0.036*matter + 0.027*general + 0.023*course + 0.019*system + 0.018*man + 0.018*find + 0.017*time + 0.017*account\n",
      "2016-09-27 14:54:48,318 : INFO : topic #7 (0.100): 0.031*man + 0.029*holmes + 0.026*will + 0.016*well + 0.014*watson + 0.013*night + 0.011*time + 0.011*house + 0.011*face + 0.010*eyes\n",
      "2016-09-27 14:54:48,320 : INFO : topic #2 (0.100): 0.028*man + 0.028*will + 0.027*time + 0.017*head + 0.015*long + 0.015*things + 0.014*house + 0.014*told + 0.014*night + 0.014*day\n",
      "2016-09-27 14:54:48,321 : INFO : topic diff=0.477918, rho=0.500000\n",
      "2016-09-27 14:54:48,827 : INFO : -5.723 per-word bound, 52.8 perplexity estimate based on a held-out corpus of 17 documents with 35384 words\n",
      "2016-09-27 14:54:48,828 : INFO : PROGRESS: pass 3, at document #17/17\n",
      "2016-09-27 14:54:48,907 : INFO : topic #9 (0.100): 0.027*house + 0.027*man + 0.022*holmes + 0.019*street + 0.017*time + 0.016*door + 0.015*small + 0.013*well + 0.013*face + 0.012*case\n",
      "2016-09-27 14:54:48,908 : INFO : topic #1 (0.100): 0.019*will + 0.018*great + 0.017*time + 0.013*holmes + 0.013*course + 0.012*things + 0.012*long + 0.012*left + 0.011*well + 0.010*three\n",
      "2016-09-27 14:54:48,910 : INFO : topic #4 (0.100): 0.018*will + 0.013*man + 0.013*time + 0.012*holmes + 0.012*well + 0.010*long + 0.009*great + 0.008*matter + 0.008*mind + 0.008*house\n",
      "2016-09-27 14:54:48,911 : INFO : topic #3 (0.100): 0.032*man + 0.030*door + 0.022*black + 0.019*will + 0.019*eyes + 0.015*head + 0.015*hand + 0.015*girl + 0.014*men + 0.013*chamber\n",
      "2016-09-27 14:54:48,912 : INFO : topic #5 (0.100): 0.020*man + 0.018*will + 0.012*time + 0.011*eyes + 0.011*holmes + 0.010*face + 0.010*night + 0.008*long + 0.008*great + 0.008*good\n",
      "2016-09-27 14:54:48,914 : INFO : topic diff=0.448828, rho=0.447214\n",
      "2016-09-27 14:54:49,400 : INFO : -5.688 per-word bound, 51.6 perplexity estimate based on a held-out corpus of 17 documents with 35384 words\n",
      "2016-09-27 14:54:49,401 : INFO : PROGRESS: pass 4, at document #17/17\n",
      "2016-09-27 14:54:49,475 : INFO : topic #3 (0.100): 0.034*door + 0.032*man + 0.024*black + 0.020*eyes + 0.019*will + 0.017*girl + 0.016*hand + 0.016*head + 0.016*chamber + 0.015*men\n",
      "2016-09-27 14:54:49,477 : INFO : topic #0 (0.100): 0.034*man + 0.023*will + 0.020*well + 0.015*holmes + 0.015*hand + 0.014*time + 0.013*night + 0.013*eyes + 0.012*long + 0.012*good\n",
      "2016-09-27 14:54:49,478 : INFO : topic #4 (0.100): 0.016*will + 0.011*man + 0.011*time + 0.011*holmes + 0.010*well + 0.009*long + 0.008*great + 0.007*matter + 0.007*mind + 0.007*house\n",
      "2016-09-27 14:54:49,480 : INFO : topic #9 (0.100): 0.030*house + 0.025*man + 0.021*street + 0.021*holmes + 0.018*time + 0.016*door + 0.013*small + 0.013*face + 0.012*well + 0.012*case\n",
      "2016-09-27 14:54:49,481 : INFO : topic #7 (0.100): 0.032*holmes + 0.032*man + 0.026*will + 0.016*well + 0.016*watson + 0.013*night + 0.012*time + 0.011*face + 0.011*house + 0.010*eyes\n",
      "2016-09-27 14:54:49,482 : INFO : topic diff=0.412219, rho=0.408248\n",
      "2016-09-27 14:54:49,906 : INFO : -5.666 per-word bound, 50.8 perplexity estimate based on a held-out corpus of 17 documents with 35384 words\n",
      "2016-09-27 14:54:49,906 : INFO : PROGRESS: pass 5, at document #17/17\n",
      "2016-09-27 14:54:49,981 : INFO : topic #7 (0.100): 0.033*holmes + 0.032*man + 0.026*will + 0.016*well + 0.016*watson + 0.013*night + 0.012*time + 0.011*face + 0.011*house + 0.010*good\n",
      "2016-09-27 14:54:49,982 : INFO : topic #1 (0.100): 0.021*great + 0.017*will + 0.015*time + 0.014*things + 0.014*course + 0.012*left + 0.012*long + 0.011*three + 0.011*well + 0.010*years\n",
      "2016-09-27 14:54:49,983 : INFO : topic #4 (0.100): 0.013*will + 0.009*man + 0.009*time + 0.009*holmes + 0.009*well + 0.007*long + 0.007*great + 0.006*matter + 0.006*mind + 0.006*house\n",
      "2016-09-27 14:54:49,985 : INFO : topic #9 (0.100): 0.033*house + 0.023*man + 0.023*street + 0.019*holmes + 0.018*time + 0.017*door + 0.013*face + 0.012*small + 0.012*thought + 0.012*case\n",
      "2016-09-27 14:54:49,986 : INFO : topic #6 (0.100): 0.058*will + 0.041*point + 0.039*matter + 0.030*general + 0.025*course + 0.021*system + 0.019*find + 0.019*account + 0.018*well + 0.018*time\n",
      "2016-09-27 14:54:49,987 : INFO : topic diff=0.372533, rho=0.377964\n",
      "2016-09-27 14:54:50,409 : INFO : -5.651 per-word bound, 50.3 perplexity estimate based on a held-out corpus of 17 documents with 35384 words\n",
      "2016-09-27 14:54:50,410 : INFO : PROGRESS: pass 6, at document #17/17\n",
      "2016-09-27 14:54:50,483 : INFO : topic #0 (0.100): 0.034*man + 0.022*will + 0.020*well + 0.017*holmes + 0.015*hand + 0.014*time + 0.012*night + 0.012*room + 0.012*eyes + 0.012*long\n",
      "2016-09-27 14:54:50,484 : INFO : topic #5 (0.100): 0.014*man + 0.012*will + 0.009*time + 0.008*eyes + 0.008*holmes + 0.007*face + 0.007*night + 0.006*long + 0.006*great + 0.006*good\n",
      "2016-09-27 14:54:50,485 : INFO : topic #3 (0.100): 0.037*door + 0.031*man + 0.026*black + 0.022*eyes + 0.019*girl + 0.018*chamber + 0.018*hand + 0.018*will + 0.016*head + 0.016*men\n",
      "2016-09-27 14:54:50,486 : INFO : topic #9 (0.100): 0.036*house + 0.024*street + 0.021*man + 0.018*time + 0.018*holmes + 0.017*door + 0.012*face + 0.011*thought + 0.011*case + 0.011*well\n",
      "2016-09-27 14:54:50,488 : INFO : topic #1 (0.100): 0.022*great + 0.016*will + 0.015*time + 0.015*things + 0.014*course + 0.013*left + 0.013*long + 0.012*three + 0.011*years + 0.011*well\n",
      "2016-09-27 14:54:50,489 : INFO : topic diff=0.331085, rho=0.353553\n",
      "2016-09-27 14:54:50,902 : INFO : -5.641 per-word bound, 49.9 perplexity estimate based on a held-out corpus of 17 documents with 35384 words\n",
      "2016-09-27 14:54:50,903 : INFO : PROGRESS: pass 7, at document #17/17\n",
      "2016-09-27 14:54:50,980 : INFO : topic #9 (0.100): 0.039*house + 0.026*street + 0.020*man + 0.019*time + 0.018*door + 0.016*holmes + 0.012*face + 0.011*thing + 0.011*thought + 0.011*case\n",
      "2016-09-27 14:54:50,981 : INFO : topic #7 (0.100): 0.033*holmes + 0.032*man + 0.027*will + 0.017*watson + 0.016*well + 0.013*night + 0.012*time + 0.012*face + 0.011*house + 0.010*good\n",
      "2016-09-27 14:54:50,982 : INFO : topic #0 (0.100): 0.034*man + 0.021*will + 0.019*well + 0.018*holmes + 0.015*hand + 0.014*time + 0.012*room + 0.012*night + 0.012*face + 0.012*eyes\n",
      "2016-09-27 14:54:50,984 : INFO : topic #5 (0.100): 0.011*man + 0.010*will + 0.007*time + 0.007*eyes + 0.007*holmes + 0.006*face + 0.006*night + 0.005*long + 0.005*great + 0.005*good\n",
      "2016-09-27 14:54:50,985 : INFO : topic #6 (0.100): 0.059*will + 0.041*point + 0.040*matter + 0.030*general + 0.025*course + 0.021*system + 0.020*find + 0.019*account + 0.018*well + 0.018*time\n",
      "2016-09-27 14:54:50,986 : INFO : topic diff=0.289587, rho=0.333333\n",
      "2016-09-27 14:54:51,409 : INFO : -5.634 per-word bound, 49.7 perplexity estimate based on a held-out corpus of 17 documents with 35384 words\n",
      "2016-09-27 14:54:51,410 : INFO : PROGRESS: pass 8, at document #17/17\n",
      "2016-09-27 14:54:51,482 : INFO : topic #6 (0.100): 0.059*will + 0.041*point + 0.040*matter + 0.030*general + 0.025*course + 0.021*system + 0.020*find + 0.019*account + 0.019*well + 0.018*time\n",
      "2016-09-27 14:54:51,484 : INFO : topic #9 (0.100): 0.042*house + 0.028*street + 0.019*time + 0.018*man + 0.018*door + 0.015*holmes + 0.012*thing + 0.012*face + 0.011*thought + 0.011*case\n",
      "2016-09-27 14:54:51,485 : INFO : topic #7 (0.100): 0.033*holmes + 0.032*man + 0.027*will + 0.017*watson + 0.016*well + 0.013*night + 0.012*time + 0.012*house + 0.012*face + 0.010*good\n",
      "2016-09-27 14:54:51,486 : INFO : topic #8 (0.100): 0.036*man + 0.033*will + 0.030*head + 0.025*eyes + 0.025*men + 0.022*great + 0.017*long + 0.016*night + 0.015*people + 0.015*white\n",
      "2016-09-27 14:54:51,488 : INFO : topic #3 (0.100): 0.037*door + 0.031*man + 0.027*black + 0.022*eyes + 0.021*girl + 0.019*chamber + 0.019*hand + 0.017*will + 0.016*head + 0.016*men\n",
      "2016-09-27 14:54:51,489 : INFO : topic diff=0.250221, rho=0.316228\n",
      "2016-09-27 14:54:51,904 : INFO : -5.628 per-word bound, 49.5 perplexity estimate based on a held-out corpus of 17 documents with 35384 words\n",
      "2016-09-27 14:54:51,905 : INFO : PROGRESS: pass 9, at document #17/17\n",
      "2016-09-27 14:54:51,978 : INFO : topic #9 (0.100): 0.045*house + 0.029*street + 0.019*time + 0.018*door + 0.017*man + 0.013*holmes + 0.012*thing + 0.012*john + 0.011*face + 0.011*thought\n",
      "2016-09-27 14:54:51,979 : INFO : topic #2 (0.100): 0.034*will + 0.031*time + 0.030*man + 0.022*things + 0.021*told + 0.019*head + 0.017*good + 0.017*day + 0.016*long + 0.015*round\n",
      "2016-09-27 14:54:51,980 : INFO : topic #5 (0.100): 0.008*man + 0.007*will + 0.005*time + 0.005*eyes + 0.005*holmes + 0.005*face + 0.004*night + 0.004*long + 0.004*great + 0.004*good\n",
      "2016-09-27 14:54:51,981 : INFO : topic #3 (0.100): 0.037*door + 0.031*man + 0.027*black + 0.022*eyes + 0.021*girl + 0.019*hand + 0.019*chamber + 0.017*will + 0.016*head + 0.016*men\n",
      "2016-09-27 14:54:51,982 : INFO : topic #4 (0.100): 0.006*will + 0.004*man + 0.004*time + 0.004*holmes + 0.004*well + 0.004*long + 0.004*great + 0.003*matter + 0.003*mind + 0.003*house\n",
      "2016-09-27 14:54:51,984 : INFO : topic diff=0.214333, rho=0.301511\n"
     ]
    }
   ],
   "source": [
    "no_of_topics = 10\n",
    "\n",
    "gensim_output = post.gensimModel(texts, no_of_topics)\n",
    "\n",
    "model = gensim_output[0]\n",
    "dictionary = gensim_output[1]\n",
    "corpus = gensim_output[2]\n",
    "topics = gensim_output[3]"
   ]
  },
  {
   "cell_type": "markdown",
   "metadata": {},
   "source": [
    "Now, create topic labels using the LDA model."
   ]
  },
  {
   "cell_type": "code",
   "execution_count": 10,
   "metadata": {
    "collapsed": false
   },
   "outputs": [],
   "source": [
    "topic_labels = post.topicLabels(model, no_of_topics)"
   ]
  },
  {
   "cell_type": "markdown",
   "metadata": {},
   "source": [
    "Let's have a look at the created topics."
   ]
  },
  {
   "cell_type": "code",
   "execution_count": 11,
   "metadata": {
    "collapsed": false,
    "scrolled": true
   },
   "outputs": [
    {
     "data": {
      "text/plain": [
       "[(4,\n",
       "  '0.006*will + 0.004*man + 0.004*time + 0.004*holmes + 0.004*well + 0.004*long + 0.004*great + 0.003*matter + 0.003*mind + 0.003*house'),\n",
       " (2,\n",
       "  '0.034*will + 0.031*time + 0.030*man + 0.022*things + 0.021*told + 0.019*head + 0.017*good + 0.017*day + 0.016*long + 0.015*round'),\n",
       " (8,\n",
       "  '0.036*man + 0.033*will + 0.030*head + 0.025*eyes + 0.025*men + 0.022*great + 0.017*long + 0.016*night + 0.016*people + 0.015*white'),\n",
       " (6,\n",
       "  '0.059*will + 0.041*point + 0.040*matter + 0.030*general + 0.026*course + 0.021*system + 0.020*find + 0.019*account + 0.019*well + 0.018*time'),\n",
       " (5,\n",
       "  '0.008*man + 0.007*will + 0.005*time + 0.005*eyes + 0.005*holmes + 0.005*face + 0.004*night + 0.004*long + 0.004*great + 0.004*good')]"
      ]
     },
     "execution_count": 11,
     "metadata": {},
     "output_type": "execute_result"
    }
   ],
   "source": [
    "model.show_topics(num_topics = 5)"
   ]
  },
  {
   "cell_type": "markdown",
   "metadata": {},
   "source": [
    "To save the gensim output in the folder **out** within **Topics**, but this is not necessary to visualize the model:"
   ]
  },
  {
   "cell_type": "code",
   "execution_count": 12,
   "metadata": {
    "collapsed": false
   },
   "outputs": [
    {
     "name": "stderr",
     "output_type": "stream",
     "text": [
      "2016-09-27 14:54:52,018 : INFO : saving Dictionary object under out/corpus.dict, separately None\n",
      "2016-09-27 14:54:52,020 : INFO : storing corpus in Matrix Market format to out/corpus.mm\n",
      "2016-09-27 14:54:52,022 : INFO : saving sparse matrix to out/corpus.mm\n",
      "2016-09-27 14:54:52,023 : INFO : PROGRESS: saving document #0\n",
      "2016-09-27 14:54:52,041 : INFO : saved 17x514 matrix, density=52.472% (4585/8738)\n",
      "2016-09-27 14:54:52,042 : INFO : saving MmCorpus index to out/corpus.mm.index\n",
      "2016-09-27 14:54:52,044 : INFO : saving LdaState object under out/corpus.lda.state, separately None\n",
      "2016-09-27 14:54:52,047 : INFO : saving LdaModel object under out/corpus.lda, separately None\n",
      "2016-09-27 14:54:52,048 : INFO : not storing attribute dispatcher\n",
      "2016-09-27 14:54:52,049 : INFO : not storing attribute state\n"
     ]
    }
   ],
   "source": [
    "post.saveGensimModel(model, corpus, dictionary, no_of_topics, doc_labels)"
   ]
  },
  {
   "cell_type": "markdown",
   "metadata": {},
   "source": [
    "### 5. The document-topic matrix"
   ]
  },
  {
   "cell_type": "markdown",
   "metadata": {},
   "source": [
    "As one of the last steps you will create a doc-topic matrix from the gensim objects. In its basics the doc-topic matrix describes the frequency of topics that occur in your collection of documents. "
   ]
  },
  {
   "cell_type": "code",
   "execution_count": 13,
   "metadata": {
    "collapsed": false
   },
   "outputs": [],
   "source": [
    "doc_topic = post.gensim_to_dtm(model, corpus, no_of_topics)"
   ]
  },
  {
   "cell_type": "markdown",
   "metadata": {},
   "source": [
    "### 6. Document-topic heatmap"
   ]
  },
  {
   "cell_type": "markdown",
   "metadata": {},
   "source": [
    "`post.docTopHeatmap` finally visualizes the model and displays a [heatmap](https://en.wikipedia.org/wiki/Heat_map)."
   ]
  },
  {
   "cell_type": "code",
   "execution_count": 14,
   "metadata": {
    "collapsed": false
   },
   "outputs": [
    {
     "data": {
      "image/png": "[encoded data removed]",
      "text/plain": [
       "<matplotlib.figure.Figure at 0x1082690f0>"
      ]
     },
     "metadata": {},
     "output_type": "display_data"
    }
   ],
   "source": [
    "post.docTopHeatmap(doc_topic, doc_labels, topic_labels)"
   ]
  }
 ],
 "metadata": {
  "kernelspec": {
   "display_name": "Python 3",
   "language": "python",
   "name": "python3"
  },
  "language_info": {
   "codemirror_mode": {
    "name": "ipython",
    "version": 3
   },
   "file_extension": ".py",
   "mimetype": "text/x-python",
   "name": "python",
   "nbconvert_exporter": "python",
   "pygments_lexer": "ipython3",
   "version": "3.5.2"
  }
 },
 "nbformat": 4,
 "nbformat_minor": 0
}
