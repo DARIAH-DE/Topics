{
 "cells": [
  {
   "cell_type": "markdown",
   "metadata": {},
   "source": [
    "# Testing `collection.py`"
   ]
  },
  {
   "cell_type": "code",
   "execution_count": 10,
   "metadata": {
    "collapsed": false
   },
   "outputs": [],
   "source": [
    "import collection1"
   ]
  },
  {
   "cell_type": "code",
   "execution_count": 11,
   "metadata": {
    "collapsed": true
   },
   "outputs": [],
   "source": [
    "path_txt = \"corpus\"\n",
    "path_csv = \"corpus_csv\""
   ]
  },
  {
   "cell_type": "markdown",
   "metadata": {},
   "source": [
    "##### Liste mit Dateinamen erzeugen"
   ]
  },
  {
   "cell_type": "code",
   "execution_count": 12,
   "metadata": {
    "collapsed": false,
    "scrolled": true
   },
   "outputs": [
    {
     "name": "stderr",
     "output_type": "stream",
     "text": [
      "25-Oct-2016 16:03:49 INFO collection: Creating document list from .txt files ...\n"
     ]
    },
    {
     "data": {
      "text/plain": [
       "['corpus/Poe_EurekaAProsePoem.txt',\n",
       " 'corpus/Howard_TheDevilinIron.txt',\n",
       " 'corpus/Lovecraft_TheShunnedHouse.txt',\n",
       " 'corpus/Howard_SchadowsinZamboula.txt',\n",
       " 'corpus/Doyle_AStudyinScarlet.txt']"
      ]
     },
     "execution_count": 12,
     "metadata": {},
     "output_type": "execute_result"
    }
   ],
   "source": [
    "doclist_txt = collection1.create_document_list(path_txt)\n",
    "doclist_txt[:5]"
   ]
  },
  {
   "cell_type": "code",
   "execution_count": 13,
   "metadata": {
    "collapsed": false
   },
   "outputs": [
    {
     "name": "stdout",
     "output_type": "stream",
     "text": [
      "Help on function create_document_list in module collection1:\n",
      "\n",
      "create_document_list(path, ext='.txt')\n",
      "    Creates a list of files with their full path.\n",
      "    Args:\n",
      "        path (str): Path to folder, e.g. '/tmp/corpus'.\n",
      "        ext (str): File extension, e.g. '.csv'. Defaults to '.txt'.\n",
      "    Returns:\n",
      "        list[str]: List of files with full path.\n",
      "\n"
     ]
    }
   ],
   "source": [
    "help(collection1.create_document_list)"
   ]
  },
  {
   "cell_type": "markdown",
   "metadata": {},
   "source": [
    "##### Corpus laden"
   ]
  },
  {
   "cell_type": "code",
   "execution_count": 14,
   "metadata": {
    "collapsed": false
   },
   "outputs": [
    {
     "name": "stderr",
     "output_type": "stream",
     "text": [
      "25-Oct-2016 16:03:51 INFO collection: Accessing documents ...\n"
     ]
    },
    {
     "name": "stdout",
     "output_type": "stream",
     "text": [
      "230868\n"
     ]
    }
   ],
   "source": [
    "corpus = collection1.read_from_txt(doclist_txt)\n",
    "\n",
    "testdoc = next(corpus)\n",
    "print(len(testdoc))"
   ]
  },
  {
   "cell_type": "markdown",
   "metadata": {},
   "source": [
    "##### Segmenter"
   ]
  },
  {
   "cell_type": "code",
   "execution_count": 15,
   "metadata": {
    "collapsed": false
   },
   "outputs": [
    {
     "name": "stderr",
     "output_type": "stream",
     "text": [
      "25-Oct-2016 16:04:03 INFO collection: Segmenting documents ...\n"
     ]
    },
    {
     "name": "stdout",
     "output_type": "stream",
     "text": [
      "1000\n"
     ]
    }
   ],
   "source": [
    "segments = collection1.segmenter(corpus, 1000)\n",
    "testdoc = next(segments)\n",
    "print(len(testdoc))"
   ]
  },
  {
   "cell_type": "markdown",
   "metadata": {},
   "source": [
    "##### Liste mit CSV-Dateien erzeugen"
   ]
  },
  {
   "cell_type": "code",
   "execution_count": 16,
   "metadata": {
    "collapsed": false
   },
   "outputs": [
    {
     "name": "stderr",
     "output_type": "stream",
     "text": [
      "25-Oct-2016 16:04:12 INFO collection: Creating document list from .csv files ...\n"
     ]
    },
    {
     "data": {
      "text/plain": [
       "['corpus_csv/Howard_GodsoftheNorth.txt.csv',\n",
       " 'corpus_csv/Poe_EurekaAProsePoem.txt.csv',\n",
       " 'corpus_csv/Poe_TheMasqueoftheRedDeath.txt.csv',\n",
       " 'corpus_csv/Poe_ThePurloinedLetter.txt.csv',\n",
       " 'corpus_csv/Howard_ShadowsintheMoonlight.txt.csv']"
      ]
     },
     "execution_count": 16,
     "metadata": {},
     "output_type": "execute_result"
    }
   ],
   "source": [
    "doclist_csv = collection1.create_document_list(path_csv, ext='.csv')\n",
    "doclist_csv[:5]"
   ]
  },
  {
   "cell_type": "markdown",
   "metadata": {},
   "source": [
    "##### CSV Dateien in einen Dataframe einlesen"
   ]
  },
  {
   "cell_type": "code",
   "execution_count": 17,
   "metadata": {
    "collapsed": false
   },
   "outputs": [
    {
     "name": "stderr",
     "output_type": "stream",
     "text": [
      "25-Oct-2016 16:04:14 INFO collection: Accessing documents ...\n"
     ]
    },
    {
     "name": "stdout",
     "output_type": "stream",
     "text": [
      "      ParagraphId  TokenId        Lemma  CPOS NamedEntity\n",
      "0               0        0         gods    NN           _\n",
      "1               0        1           of    PP           _\n",
      "2               0        2          the   ART           _\n",
      "3               0        3        north    NP           _\n",
      "4               1        4           by    PP           _\n",
      "5               1        5       robert    NP           _\n",
      "6               1        6           e.    NP           _\n",
      "7               1        7       howard    NP           _\n",
      "8               2        8            [  CONJ           _\n",
      "9               2        9  transcriber    NP           _\n",
      "10              2       10           's     O           _\n",
      "11              2       11         note    NP           _\n",
      "12              2       12            :  PUNC           _\n",
      "13              2       13   originally   ADV           _\n",
      "14              2       14      publish     V           _\n",
      "15              2       15           in    PP           _\n",
      "16              2       16        march    NP           _\n",
      "17              2       17         1934  CARD           _\n",
      "18              2       18           in    PP           _\n",
      "19              2       19            \"    NN           _\n",
      "20              2       20          the   ART           _\n",
      "21              2       21      fantasy    NP           _\n",
      "22              2       22          fan    NP           _\n",
      "23              2       23            \"    NP           _\n",
      "24              2       24            .  PUNC           _\n",
      "25              2       25         this   ART           _\n",
      "26              2       26        etext    NN           _\n",
      "27              2       27           be     V           _\n",
      "28              2       28      prepare     V           _\n",
      "29              2       29         from    PP           _\n",
      "...           ...      ...          ...   ...         ...\n",
      "3903           68     3903         that   ART           _\n",
      "3904           68     3904        still   ADV           _\n",
      "3905           68     3905       dangle     V           _\n",
      "3906           68     3906         from    PP           _\n",
      "3907           68     3907          his    PR           _\n",
      "3908           68     3908       clench     V           _\n",
      "3909           68     3909        leave     V           _\n",
      "3910           68     3910         fist    NN           _\n",
      "3911           68     3911            ;  PUNC           _\n",
      "3912           68     3912          the   ART           _\n",
      "3913           68     3913       others    NN           _\n",
      "3914           68     3914         gape     V           _\n",
      "3915           68     3915     silently   ADV           _\n",
      "3916           68     3916           at    PP           _\n",
      "3917           68     3917          the   ART           _\n",
      "3918           68     3918         veil    NN           _\n",
      "3919           68     3919           he    PR           _\n",
      "3920           68     3920         hold     V           _\n",
      "3921           68     3921        up--a    NP           _\n",
      "3922           68     3922         wisp    NP           _\n",
      "3923           68     3923           of    PP           _\n",
      "3924           68     3924     gossamer    NN           _\n",
      "3925           68     3925         that   ART           _\n",
      "3926           68     3926           be     V           _\n",
      "3927           68     3927        never   ADV           _\n",
      "3928           68     3928         spin     V           _\n",
      "3929           68     3929           by    PP           _\n",
      "3930           68     3930        human   ADJ           _\n",
      "3931           68     3931      distaff    NN           _\n",
      "3932           68     3932            .  PUNC           _\n",
      "\n",
      "[3933 rows x 5 columns]\n"
     ]
    }
   ],
   "source": [
    "columns = ['ParagraphId', 'TokenId', 'Lemma', 'CPOS', 'NamedEntity']\n",
    "\n",
    "csv = collection1.read_from_csv(doclist_csv, columns)\n",
    "testdoc = next(csv)\n",
    "print(testdoc)"
   ]
  },
  {
   "cell_type": "markdown",
   "metadata": {},
   "source": [
    "##### POS-Tags auswählen"
   ]
  },
  {
   "cell_type": "code",
   "execution_count": 18,
   "metadata": {
    "collapsed": false
   },
   "outputs": [
    {
     "name": "stderr",
     "output_type": "stream",
     "text": [
      "25-Oct-2016 16:04:28 INFO collection: Accessing selected POS-tags ...\n"
     ]
    },
    {
     "ename": "AttributeError",
     "evalue": "'generator' object has no attribute 'next'",
     "output_type": "error",
     "traceback": [
      "\u001b[0;31m---------------------------------------------------------------------------\u001b[0m",
      "\u001b[0;31mAttributeError\u001b[0m                            Traceback (most recent call last)",
      "\u001b[0;32m<ipython-input-18-73aeb27cf4fc>\u001b[0m in \u001b[0;36m<module>\u001b[0;34m()\u001b[0m\n\u001b[1;32m      3\u001b[0m \u001b[0mcorpusCSV\u001b[0m \u001b[0;34m=\u001b[0m \u001b[0mcollection1\u001b[0m\u001b[0;34m.\u001b[0m\u001b[0mfilter_POS_tags\u001b[0m\u001b[0;34m(\u001b[0m\u001b[0mcsv\u001b[0m\u001b[0;34m,\u001b[0m \u001b[0mpos_tags\u001b[0m\u001b[0;34m)\u001b[0m\u001b[0;34m\u001b[0m\u001b[0m\n\u001b[1;32m      4\u001b[0m \u001b[0;34m\u001b[0m\u001b[0m\n\u001b[0;32m----> 5\u001b[0;31m \u001b[0mtestdoc\u001b[0m \u001b[0;34m=\u001b[0m \u001b[0mnext\u001b[0m\u001b[0;34m(\u001b[0m\u001b[0mcorpusCSV\u001b[0m\u001b[0;34m)\u001b[0m\u001b[0;34m\u001b[0m\u001b[0m\n\u001b[0m\u001b[1;32m      6\u001b[0m \u001b[0mprint\u001b[0m\u001b[0;34m(\u001b[0m\u001b[0mlen\u001b[0m\u001b[0;34m(\u001b[0m\u001b[0mtestdoc\u001b[0m\u001b[0;34m)\u001b[0m\u001b[0;34m)\u001b[0m\u001b[0;34m\u001b[0m\u001b[0m\n",
      "\u001b[0;32m/home/sina/Dariah/DARIAH-Topics/Topics/collection1.py\u001b[0m in \u001b[0;36mfilter_POS_tags\u001b[0;34m(df, pos_tags)\u001b[0m\n\u001b[1;32m    193\u001b[0m \u001b[0;34m\u001b[0m\u001b[0m\n\u001b[1;32m    194\u001b[0m     \u001b[0;32mfor\u001b[0m \u001b[0mp\u001b[0m \u001b[0;32min\u001b[0m \u001b[0mpos_tags\u001b[0m\u001b[0;34m:\u001b[0m\u001b[0;34m\u001b[0m\u001b[0m\n\u001b[0;32m--> 195\u001b[0;31m         \u001b[0mdf\u001b[0m \u001b[0;34m=\u001b[0m \u001b[0mdf\u001b[0m\u001b[0;34m.\u001b[0m\u001b[0mnext\u001b[0m\u001b[0;34m(\u001b[0m\u001b[0;34m)\u001b[0m\u001b[0;34m\u001b[0m\u001b[0m\n\u001b[0m\u001b[1;32m    196\u001b[0m         \u001b[0mdf\u001b[0m \u001b[0;34m=\u001b[0m \u001b[0mdf\u001b[0m\u001b[0;34m.\u001b[0m\u001b[0mloc\u001b[0m\u001b[0;34m[\u001b[0m\u001b[0mdf\u001b[0m\u001b[0;34m[\u001b[0m\u001b[0;34m\"CPOS\"\u001b[0m\u001b[0;34m]\u001b[0m \u001b[0;34m==\u001b[0m \u001b[0mp\u001b[0m\u001b[0;34m]\u001b[0m\u001b[0;34m\u001b[0m\u001b[0m\n\u001b[1;32m    197\u001b[0m         \u001b[0;32myield\u001b[0m \u001b[0mdf\u001b[0m\u001b[0;34m.\u001b[0m\u001b[0mloc\u001b[0m\u001b[0;34m[\u001b[0m\u001b[0mdf\u001b[0m\u001b[0;34m[\u001b[0m\u001b[0;34m\"CPOS\"\u001b[0m\u001b[0;34m]\u001b[0m \u001b[0;34m==\u001b[0m \u001b[0mp\u001b[0m\u001b[0;34m]\u001b[0m\u001b[0;34m[\u001b[0m\u001b[0;34m\"Lemma\"\u001b[0m\u001b[0;34m]\u001b[0m\u001b[0;34m\u001b[0m\u001b[0m\n",
      "\u001b[0;31mAttributeError\u001b[0m: 'generator' object has no attribute 'next'"
     ]
    }
   ],
   "source": [
    "pos_tags = ['ADJ', 'V', 'NN']\n",
    "\n",
    "corpusCSV = collection1.filter_POS_tags(csv, pos_tags)\n",
    "\n",
    "testdoc = next(corpusCSV)\n",
    "print(len(testdoc))"
   ]
  },
  {
   "cell_type": "code",
   "execution_count": 20,
   "metadata": {
    "collapsed": false
   },
   "outputs": [
    {
     "name": "stderr",
     "output_type": "stream",
     "text": [
      "25-Oct-2016 16:04:44 INFO collection: Creating document labels ...\n"
     ]
    },
    {
     "data": {
      "text/plain": [
       "['Poe_EurekaAProsePoem.txt',\n",
       " 'Howard_TheDevilinIron.txt',\n",
       " 'Lovecraft_TheShunnedHouse.txt',\n",
       " 'Howard_SchadowsinZamboula.txt',\n",
       " 'Doyle_AStudyinScarlet.txt',\n",
       " 'Poe_TheCaskofAmontillado.txt',\n",
       " 'Poe_TheMasqueoftheRedDeath.txt',\n",
       " 'Howard_GodsoftheNorth.txt',\n",
       " 'Kipling_TheEndofthePassage.txt',\n",
       " 'Doyle_TheSignoftheFour.txt',\n",
       " 'Kipling_TheJungleBook.txt',\n",
       " 'Doyle_AScandalinBohemia.txt',\n",
       " 'Poe_ThePurloinedLetter.txt',\n",
       " 'Lovecraft_AttheMountainofMadness.txt',\n",
       " 'Kipling_ThyServantaDog.txt',\n",
       " 'Howard_ShadowsintheMoonlight.txt',\n",
       " 'Doyle_TheHoundoftheBaskervilles.txt']"
      ]
     },
     "execution_count": 20,
     "metadata": {},
     "output_type": "execute_result"
    }
   ],
   "source": [
    "labels = collection1.get_labels(doclist_txt)\n",
    "list(labels)"
   ]
  },
  {
   "cell_type": "code",
   "execution_count": null,
   "metadata": {
    "collapsed": true
   },
   "outputs": [],
   "source": [
    "mycounter = makeCounter(doclist)"
   ]
  },
  {
   "cell_type": "code",
   "execution_count": null,
   "metadata": {
    "collapsed": true
   },
   "outputs": [],
   "source": []
  },
  {
   "cell_type": "code",
   "execution_count": null,
   "metadata": {
    "collapsed": true
   },
   "outputs": [],
   "source": []
  },
  {
   "cell_type": "markdown",
   "metadata": {},
   "source": [
    "##### Visualisierung"
   ]
  },
  {
   "cell_type": "code",
   "execution_count": null,
   "metadata": {
    "collapsed": false
   },
   "outputs": [],
   "source": [
    "# Ingest Gensim stuff\n",
    "\n",
    "lda_model = 'out_off/corpus_off.lda'\n",
    "corpus = 'out_off/corpus_off.mm'\n",
    "dictionary = 'out_off/corpus_off.dict'\n",
    "doc_labels = 'out_off/corpus_off_doclabels.txt'\n",
    "interactive  = False\n",
    "\n",
    "vis = collection.Visualization(lda_model, corpus, dictionary, doc_labels, interactive)"
   ]
  },
  {
   "cell_type": "markdown",
   "metadata": {},
   "source": [
    "##### Heatmap"
   ]
  },
  {
   "cell_type": "code",
   "execution_count": null,
   "metadata": {
    "collapsed": false
   },
   "outputs": [],
   "source": [
    "vis.make_heatmap()"
   ]
  },
  {
   "cell_type": "markdown",
   "metadata": {},
   "source": [
    "##### Interactive"
   ]
  },
  {
   "cell_type": "code",
   "execution_count": null,
   "metadata": {
    "collapsed": false
   },
   "outputs": [],
   "source": [
    "# Ingest Gensim stuff\n",
    "\n",
    "lda_model = 'out_off/corpus_off.lda'\n",
    "corpus = 'out_off/corpus_off.mm'\n",
    "dictionary = 'out_off/corpus_off.dict'\n",
    "doc_labels = 'out_off/corpus_off_doclabels.txt'\n",
    "interactive  = True\n",
    "\n",
    "vis = collection.Visualization(lda_model, corpus, dictionary, doc_labels, interactive)"
   ]
  },
  {
   "cell_type": "code",
   "execution_count": null,
   "metadata": {
    "collapsed": false
   },
   "outputs": [],
   "source": [
    "interactive = vis.make_interactive()"
   ]
  },
  {
   "cell_type": "code",
   "execution_count": null,
   "metadata": {
    "collapsed": false
   },
   "outputs": [],
   "source": [
    "path = \"\"\n",
    "vis.save_interactive(path)"
   ]
  },
  {
   "cell_type": "code",
   "execution_count": null,
   "metadata": {
    "collapsed": true
   },
   "outputs": [],
   "source": []
  }
 ],
 "metadata": {
  "kernelspec": {
   "display_name": "Python 3",
   "language": "python",
   "name": "python3"
  },
  "language_info": {
   "codemirror_mode": {
    "name": "ipython",
    "version": 3
   },
   "file_extension": ".py",
   "mimetype": "text/x-python",
   "name": "python",
   "nbconvert_exporter": "python",
   "pygments_lexer": "ipython3",
   "version": "3.5.2"
  }
 },
 "nbformat": 4,
 "nbformat_minor": 1
}
