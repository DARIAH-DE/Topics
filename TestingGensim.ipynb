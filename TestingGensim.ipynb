{
 "cells": [
  {
   "cell_type": "markdown",
   "metadata": {},
   "source": [
    "# Testing `collection.py`"
   ]
  },
  {
   "cell_type": "code",
   "execution_count": 1,
   "metadata": {
    "collapsed": false
   },
   "outputs": [
    {
     "name": "stderr",
     "output_type": "stream",
     "text": [
      "/Library/Frameworks/Python.framework/Versions/3.5/lib/python3.5/site-packages/funcy/decorators.py:56: DeprecationWarning: inspect.getargspec() is deprecated, use inspect.signature() instead\n",
      "  spec = inspect.getargspec(func)\n",
      "/Library/Frameworks/Python.framework/Versions/3.5/lib/python3.5/site-packages/funcy/decorators.py:56: DeprecationWarning: inspect.getargspec() is deprecated, use inspect.signature() instead\n",
      "  spec = inspect.getargspec(func)\n",
      "/Library/Frameworks/Python.framework/Versions/3.5/lib/python3.5/site-packages/funcy/decorators.py:56: DeprecationWarning: inspect.getargspec() is deprecated, use inspect.signature() instead\n",
      "  spec = inspect.getargspec(func)\n",
      "/Library/Frameworks/Python.framework/Versions/3.5/lib/python3.5/site-packages/funcy/decorators.py:56: DeprecationWarning: inspect.getargspec() is deprecated, use inspect.signature() instead\n",
      "  spec = inspect.getargspec(func)\n",
      "/Library/Frameworks/Python.framework/Versions/3.5/lib/python3.5/site-packages/funcy/decorators.py:56: DeprecationWarning: inspect.getargspec() is deprecated, use inspect.signature() instead\n",
      "  spec = inspect.getargspec(func)\n",
      "/Library/Frameworks/Python.framework/Versions/3.5/lib/python3.5/site-packages/funcy/decorators.py:56: DeprecationWarning: inspect.getargspec() is deprecated, use inspect.signature() instead\n",
      "  spec = inspect.getargspec(func)\n",
      "/Library/Frameworks/Python.framework/Versions/3.5/lib/python3.5/site-packages/numpy/lib/utils.py:99: DeprecationWarning: `scipy.sparse.sparsetools` is deprecated!\n",
      "scipy.sparse.sparsetools is a private module for scipy.sparse, and should not be used.\n",
      "  warnings.warn(depdoc, DeprecationWarning)\n"
     ]
    }
   ],
   "source": [
    "import collection\n",
    "# Warning is Gensim related"
   ]
  },
  {
   "cell_type": "code",
   "execution_count": 2,
   "metadata": {
    "collapsed": true
   },
   "outputs": [],
   "source": [
    "path_txt = \"corpus_txt\"\n",
    "path_csv = \"corpus_csv\""
   ]
  },
  {
   "cell_type": "markdown",
   "metadata": {},
   "source": [
    "##### Liste mit Dateinamen erzeugen"
   ]
  },
  {
   "cell_type": "code",
   "execution_count": 3,
   "metadata": {
    "collapsed": false,
    "scrolled": true
   },
   "outputs": [
    {
     "name": "stderr",
     "output_type": "stream",
     "text": [
      "31-Oct-2016 14:53:28 INFO collection: Creating document list from txt files ...\n",
      "31-Oct-2016 14:53:28 DEBUG collection: 17 entries in document list available.\n"
     ]
    },
    {
     "data": {
      "text/plain": [
       "['corpus_txt/Doyle_AScandalinBohemia.txt',\n",
       " 'corpus_txt/Doyle_AStudyinScarlet.txt',\n",
       " 'corpus_txt/Doyle_TheHoundoftheBaskervilles.txt',\n",
       " 'corpus_txt/Doyle_TheSignoftheFour.txt',\n",
       " 'corpus_txt/Howard_GodsoftheNorth.txt']"
      ]
     },
     "execution_count": 3,
     "metadata": {},
     "output_type": "execute_result"
    }
   ],
   "source": [
    "doclist_txt = collection.create_document_list(path_txt)\n",
    "doclist_txt[:5]"
   ]
  },
  {
   "cell_type": "code",
   "execution_count": 4,
   "metadata": {
    "collapsed": false
   },
   "outputs": [
    {
     "name": "stderr",
     "output_type": "stream",
     "text": [
      "31-Oct-2016 14:53:29 INFO collection: Creating document list from csv files ...\n",
      "31-Oct-2016 14:53:29 DEBUG collection: 16 entries in document list available.\n"
     ]
    },
    {
     "data": {
      "text/plain": [
       "['corpus_csv/Doyle_AStudyinScarlet.txt.csv',\n",
       " 'corpus_csv/Doyle_TheHoundoftheBaskervilles.txt.csv',\n",
       " 'corpus_csv/Doyle_TheSignoftheFour.txt.csv',\n",
       " 'corpus_csv/Howard_GodsoftheNorth.txt.csv',\n",
       " 'corpus_csv/Howard_SchadowsinZamboula.txt.csv']"
      ]
     },
     "execution_count": 4,
     "metadata": {},
     "output_type": "execute_result"
    }
   ],
   "source": [
    "doclist_csv = collection.create_document_list(path_csv, 'csv')\n",
    "doclist_csv[:5]"
   ]
  },
  {
   "cell_type": "markdown",
   "metadata": {},
   "source": [
    "##### Corpus laden"
   ]
  },
  {
   "cell_type": "code",
   "execution_count": 5,
   "metadata": {
    "collapsed": false
   },
   "outputs": [],
   "source": [
    "corpus_txt = collection.read_from_txt(doclist_txt)"
   ]
  },
  {
   "cell_type": "code",
   "execution_count": 6,
   "metadata": {
    "collapsed": false
   },
   "outputs": [],
   "source": [
    "corpus_csv = collection.read_from_csv(doclist_csv)"
   ]
  },
  {
   "cell_type": "markdown",
   "metadata": {},
   "source": [
    "##### Segmenter"
   ]
  },
  {
   "cell_type": "code",
   "execution_count": 7,
   "metadata": {
    "collapsed": false
   },
   "outputs": [
    {
     "name": "stderr",
     "output_type": "stream",
     "text": [
      "31-Oct-2016 14:53:31 INFO collection: Segmenting document ...\n",
      "31-Oct-2016 14:53:31 INFO collection: Accessing documents ...\n"
     ]
    },
    {
     "data": {
      "text/plain": [
       "\"A SCANDAL IN BOHEMIA\\n\\nA. CONAN DOYLE\\n\\n\\nI\\n\\nTo Sherlock Holmes she is always _the_ woman. I have seldom heard him\\nmention her under any other name. In his eyes she eclipses and\\npredominates the whole of her sex. It was not that he felt any emotion\\nakin to love for Irene Adler. All emotions, and that one particularly,\\nwere abhorrent to his cold, precise but admirably balanced mind. He was,\\nI take it, the most perfect reasoning and observing machine that the\\nworld has seen; but as a lover, he would have placed himself in a false\\nposition. He never spoke of the softer passions, save with a gibe and a\\nsneer. They were admirable things for the observer--excellent for\\ndrawing the veil from men's motives and actions. But for the trained\\nreasoner to admit such intrusions into his own delicate and finely\\nadjusted temperament was to introduce a distracting factor which might\\nthrow a doubt upon all his mental results. Grit in a sensitive\\ninstrument, or a crack in one of his own high-power lenses, w\""
      ]
     },
     "execution_count": 7,
     "metadata": {},
     "output_type": "execute_result"
    }
   ],
   "source": [
    "segments = collection.segmenter(corpus_txt, 1000)\n",
    "next(segments)"
   ]
  },
  {
   "cell_type": "markdown",
   "metadata": {},
   "source": [
    "##### Lemmas anhand POS-Tags auswählen"
   ]
  },
  {
   "cell_type": "code",
   "execution_count": 9,
   "metadata": {
    "collapsed": false
   },
   "outputs": [
    {
     "name": "stderr",
     "output_type": "stream",
     "text": [
      "31-Oct-2016 14:54:07 INFO collection: Accessing ['ADJ', 'V', 'NN'] lemmas ...\n",
      "31-Oct-2016 14:54:07 INFO collection: Accessing documents ...\n"
     ]
    },
    {
     "data": {
      "text/plain": [
       "37       typographical\n",
       "56             textual\n",
       "59              square\n",
       "72                 old\n",
       "75                such\n",
       "80             present\n",
       "112           original\n",
       "122           original\n",
       "139              ascii\n",
       "147            latin-1\n",
       "154            present\n",
       "161             french\n",
       "163            spanish\n",
       "169             proper\n",
       "294             second\n",
       "320               deep\n",
       "334              other\n",
       "340               same\n",
       "365                new\n",
       "406              fatal\n",
       "430         subclavian\n",
       "442          murderous\n",
       "458            orderly\n",
       "475            british\n",
       "483               weak\n",
       "486          prolonged\n",
       "499              great\n",
       "525               able\n",
       "537             little\n",
       "548            enteric\n",
       "             ...      \n",
       "50767     irresistible\n",
       "50813           sudden\n",
       "50817           likely\n",
       "50833            least\n",
       "50870         original\n",
       "50878             arab\n",
       "50879        detective\n",
       "50918            fresh\n",
       "50933       unexpected\n",
       "50973            whole\n",
       "50979          logical\n",
       "50991        wonderful\n",
       "51095      sensational\n",
       "51099           sudden\n",
       "51139             good\n",
       "51149              old\n",
       "51152         romantic\n",
       "51174          younger\n",
       "51203            other\n",
       "51209            least\n",
       "51216         striking\n",
       "51222        detective\n",
       "51254          british\n",
       "51260             open\n",
       "51267            smart\n",
       "51296          certain\n",
       "51314        detective\n",
       "51355          fitting\n",
       "51453            simul\n",
       "51454               ac\n",
       "Name: Lemma, dtype: object"
      ]
     },
     "execution_count": 9,
     "metadata": {},
     "output_type": "execute_result"
    }
   ],
   "source": [
    "lemmas = collection.filter_POS_tags(corpus_csv)\n",
    "next(lemmas)"
   ]
  },
  {
   "cell_type": "code",
   "execution_count": 9,
   "metadata": {
    "collapsed": false
   },
   "outputs": [
    {
     "name": "stderr",
     "output_type": "stream",
     "text": [
      "31-Oct-2016 14:43:00 INFO collection: Creating document labels ...\n",
      "31-Oct-2016 14:43:00 DEBUG collection: Document labels available.\n"
     ]
    },
    {
     "data": {
      "text/plain": [
       "['Doyle_AScandalinBohemia.txt',\n",
       " 'Doyle_AStudyinScarlet.txt',\n",
       " 'Doyle_TheHoundoftheBaskervilles.txt',\n",
       " 'Doyle_TheSignoftheFour.txt',\n",
       " 'Howard_GodsoftheNorth.txt',\n",
       " 'Howard_SchadowsinZamboula.txt',\n",
       " 'Howard_ShadowsintheMoonlight.txt',\n",
       " 'Howard_TheDevilinIron.txt',\n",
       " 'Kipling_TheEndofthePassage.txt',\n",
       " 'Kipling_TheJungleBook.txt',\n",
       " 'Kipling_ThyServantaDog.txt',\n",
       " 'Lovecraft_AttheMountainofMadness.txt',\n",
       " 'Lovecraft_TheShunnedHouse.txt',\n",
       " 'Poe_EurekaAProsePoem.txt',\n",
       " 'Poe_TheCaskofAmontillado.txt',\n",
       " 'Poe_TheMasqueoftheRedDeath.txt',\n",
       " 'Poe_ThePurloinedLetter.txt']"
      ]
     },
     "execution_count": 9,
     "metadata": {},
     "output_type": "execute_result"
    }
   ],
   "source": [
    "labels = collection.get_labels(doclist_txt)\n",
    "list(labels)"
   ]
  },
  {
   "cell_type": "markdown",
   "metadata": {},
   "source": [
    "##### Visualisierung"
   ]
  },
  {
   "cell_type": "code",
   "execution_count": 10,
   "metadata": {
    "collapsed": false
   },
   "outputs": [
    {
     "name": "stderr",
     "output_type": "stream",
     "text": [
      "31-Oct-2016 14:43:03 INFO collection: Accessing corpus ...\n",
      "31-Oct-2016 14:43:03 INFO gensim.corpora.indexedcorpus: loaded corpus index from out/corpus.mm.index\n",
      "31-Oct-2016 14:43:03 INFO gensim.matutils: initializing corpus reader from out/corpus.mm\n",
      "31-Oct-2016 14:43:03 INFO gensim.matutils: accepted corpus with 17 documents, 514 features, 4585 non-zero entries\n",
      "31-Oct-2016 14:43:03 DEBUG collection: Corpus available.\n",
      "31-Oct-2016 14:43:03 INFO collection: Accessing model ...\n",
      "31-Oct-2016 14:43:03 INFO gensim.utils: loading LdaModel object from out/corpus.lda\n",
      "31-Oct-2016 14:43:03 INFO gensim.utils: loading id2word recursively from out/corpus.lda.id2word.* with mmap=None\n",
      "31-Oct-2016 14:43:03 INFO gensim.utils: setting ignored attribute dispatcher to None\n",
      "31-Oct-2016 14:43:03 INFO gensim.utils: setting ignored attribute state to None\n",
      "31-Oct-2016 14:43:03 INFO gensim.utils: loading LdaModel object from out/corpus.lda.state\n",
      "31-Oct-2016 14:43:03 DEBUG collection: Model available.\n",
      "31-Oct-2016 14:43:03 DEBUG collection: :param: interactive == False.\n",
      "31-Oct-2016 14:43:03 INFO collection: Accessing doc_labels ...\n",
      "31-Oct-2016 14:43:03 DEBUG collection: doc_labels accessed.\n",
      "31-Oct-2016 14:43:03 DEBUG collection: 24 doc_labels available.\n",
      "31-Oct-2016 14:43:03 DEBUG collection: Corpus, model and doc_labels available.\n"
     ]
    }
   ],
   "source": [
    "# Da `out_off` kaputt ist, wird vorübergehend das model aus `out` verwendet (stammt aus dem )\n",
    "\n",
    "lda_model = 'out/corpus.lda'\n",
    "corpus = 'out/corpus.mm'\n",
    "dictionary = 'out/corpus.dict'\n",
    "doc_labels = 'out/corpus_doclabels.txt'\n",
    "interactive  = False\n",
    "\n",
    "vis = collection.Visualization(lda_model, corpus, dictionary, doc_labels, interactive)"
   ]
  },
  {
   "cell_type": "code",
   "execution_count": 11,
   "metadata": {
    "collapsed": false
   },
   "outputs": [
    {
     "name": "stderr",
     "output_type": "stream",
     "text": [
      "31-Oct-2016 14:43:06 INFO collection: Accessing topic distribution ...\n",
      "31-Oct-2016 14:43:06 DEBUG collection: Topic distribution available.\n",
      "31-Oct-2016 14:43:06 INFO collection: Accessing topic probability ...\n",
      "31-Oct-2016 14:43:06 DEBUG collection: Topic probability available.\n",
      "31-Oct-2016 14:43:06 INFO collection: Accessing plot labels ...\n",
      "31-Oct-2016 14:43:06 DEBUG collection: 10 plot labels available.\n",
      "31-Oct-2016 14:43:06 INFO collection: Creating heatmap figure ...\n",
      "31-Oct-2016 14:43:06 DEBUG collection: Heatmap figure available.\n"
     ]
    }
   ],
   "source": [
    "heatmap = vis.make_heatmap()"
   ]
  },
  {
   "cell_type": "code",
   "execution_count": 12,
   "metadata": {
    "collapsed": false
   },
   "outputs": [
    {
     "name": "stderr",
     "output_type": "stream",
     "text": [
      "31-Oct-2016 14:43:07 INFO collection: Saving heatmap figure...\n",
      "31-Oct-2016 14:43:07 DEBUG collection: Heatmap figure available at ./visualizations/heatmap/heatmap.png\n"
     ]
    }
   ],
   "source": [
    "vis.save_heatmap(\"./visualizations/heatmap\")"
   ]
  },
  {
   "cell_type": "code",
   "execution_count": 13,
   "metadata": {
    "collapsed": false
   },
   "outputs": [
    {
     "name": "stderr",
     "output_type": "stream",
     "text": [
      "31-Oct-2016 14:43:08 INFO collection: Accessing corpus ...\n",
      "31-Oct-2016 14:43:08 INFO gensim.corpora.indexedcorpus: loaded corpus index from out/corpus.mm.index\n",
      "31-Oct-2016 14:43:08 INFO gensim.matutils: initializing corpus reader from out/corpus.mm\n",
      "31-Oct-2016 14:43:08 INFO gensim.matutils: accepted corpus with 17 documents, 514 features, 4585 non-zero entries\n",
      "31-Oct-2016 14:43:08 DEBUG collection: Corpus available.\n",
      "31-Oct-2016 14:43:08 INFO collection: Accessing model ...\n",
      "31-Oct-2016 14:43:08 INFO gensim.utils: loading LdaModel object from out/corpus.lda\n",
      "31-Oct-2016 14:43:08 INFO gensim.utils: loading id2word recursively from out/corpus.lda.id2word.* with mmap=None\n",
      "31-Oct-2016 14:43:08 INFO gensim.utils: setting ignored attribute dispatcher to None\n",
      "31-Oct-2016 14:43:08 INFO gensim.utils: setting ignored attribute state to None\n",
      "31-Oct-2016 14:43:08 INFO gensim.utils: loading LdaModel object from out/corpus.lda.state\n",
      "31-Oct-2016 14:43:08 DEBUG collection: Model available.\n",
      "31-Oct-2016 14:43:08 DEBUG collection: :param: interactive == True.\n",
      "31-Oct-2016 14:43:08 INFO collection: Accessing dictionary ...\n",
      "31-Oct-2016 14:43:08 INFO gensim.utils: loading Dictionary object from out/corpus.dict\n",
      "31-Oct-2016 14:43:08 DEBUG collection: Dictionary available.\n",
      "31-Oct-2016 14:43:08 DEBUG collection: Corpus, model and dictionary available.\n"
     ]
    }
   ],
   "source": [
    "vis = collection.Visualization(lda_model, corpus, dictionary, doc_labels, interactive=True)"
   ]
  },
  {
   "cell_type": "code",
   "execution_count": 14,
   "metadata": {
    "collapsed": false
   },
   "outputs": [
    {
     "name": "stderr",
     "output_type": "stream",
     "text": [
      "31-Oct-2016 14:43:09 INFO collection: Accessing model, corpus and dictionary ...\n",
      "31-Oct-2016 14:43:09 DEBUG gensim.models.ldamodel: performing inference on a chunk of 17 documents\n",
      "31-Oct-2016 14:43:09 DEBUG gensim.models.ldamodel: 7/17 documents converged within 50 iterations\n",
      "31-Oct-2016 14:43:10 DEBUG collection: Interactive visualization available.\n"
     ]
    },
    {
     "data": {
      "text/plain": [
       "PreparedData(topic_coordinates=            Freq  cluster  topics         x         y\n",
       "topic                                                \n",
       "6      37.626402        1       1  0.012185  0.020827\n",
       "3      20.661552        1       2  0.034454  0.105210\n",
       "5      11.746715        1       3  0.016539 -0.043044\n",
       "7      11.267934        1       4  0.089552  0.094007\n",
       "2      10.046190        1       5 -0.034746  0.045116\n",
       "9       6.286504        1       6 -0.230607  0.004165\n",
       "8       2.350308        1       7  0.013135  0.020326\n",
       "1       0.004798        1       8  0.011872 -0.047516\n",
       "4       0.004798        1       9  0.040097 -0.094387\n",
       "0       0.004798        1      10  0.047518 -0.104704, topic_info=     Category        Freq     Term       Total  loglift  logprob\n",
       "term                                                            \n",
       "101   Default  922.000000     will  922.000000  30.0000  30.0000\n",
       "37    Default  998.000000      man  998.000000  29.0000  29.0000\n",
       "442   Default  481.000000   holmes  481.000000  28.0000  28.0000\n",
       "246   Default  576.000000     time  576.000000  27.0000  27.0000\n",
       "210   Default  514.000000     well  514.000000  26.0000  26.0000\n",
       "432   Default  377.000000     head  377.000000  25.0000  25.0000\n",
       "14    Default  455.000000    great  455.000000  24.0000  24.0000\n",
       "475   Default  338.000000     good  338.000000  23.0000  23.0000\n",
       "251   Default  438.000000     long  438.000000  22.0000  22.0000\n",
       "383   Default  408.000000     eyes  408.000000  21.0000  21.0000\n",
       "513   Default  320.000000    house  320.000000  20.0000  20.0000\n",
       "140   Default  264.000000   things  264.000000  19.0000  19.0000\n",
       "71    Default  397.000000    night  397.000000  18.0000  18.0000\n",
       "407   Default  264.000000   matter  264.000000  17.0000  17.0000\n",
       "356   Default  239.000000    small  239.000000  16.0000  16.0000\n",
       "231   Default  258.000000     case  258.000000  15.0000  15.0000\n",
       "242   Default  303.000000      day  303.000000  14.0000  14.0000\n",
       "266   Default  236.000000     told  236.000000  13.0000  13.0000\n",
       "322   Default  208.000000    point  208.000000  12.0000  12.0000\n",
       "422   Default  161.000000   watson  161.000000  11.0000  11.0000\n",
       "224   Default  221.000000   course  221.000000  10.0000  10.0000\n",
       "437   Default  310.000000      men  310.000000   9.0000   9.0000\n",
       "278   Default  311.000000     face  311.000000   8.0000   8.0000\n",
       "395   Default  172.000000   friend  172.000000   7.0000   7.0000\n",
       "55    Default  321.000000     hand  321.000000   6.0000   6.0000\n",
       "60    Default  229.000000      don  229.000000   5.0000   5.0000\n",
       "128   Default  277.000000    heard  277.000000   4.0000   4.0000\n",
       "123   Default  254.000000    black  254.000000   3.0000   3.0000\n",
       "146   Default  220.000000    round  220.000000   2.0000   2.0000\n",
       "472   Default  226.000000     room  226.000000   1.0000   1.0000\n",
       "...       ...         ...      ...         ...      ...      ...\n",
       "55    Topic10    0.006257     hand  321.799647  -0.9033  -5.6033\n",
       "210   Topic10    0.006619     well  514.741138  -1.3166  -5.5470\n",
       "14    Topic10    0.006135    great  455.132358  -1.2695  -5.6229\n",
       "251   Topic10    0.006046     long  438.115729  -1.2461  -5.6376\n",
       "475   Topic10    0.005698     good  338.178538  -1.0464  -5.6968\n",
       "123   Topic10    0.005404    black  254.434097  -0.8149  -5.7499\n",
       "246   Topic10    0.006047     time  576.850247  -1.5209  -5.6374\n",
       "81    Topic10    0.005436  thought  282.426578  -0.9133  -5.7439\n",
       "101   Topic10    0.006150     will  922.545924  -1.9737  -5.6206\n",
       "279   Topic10    0.005108     knew  248.453590  -0.8473  -5.8061\n",
       "383   Topic10    0.005368     eyes  408.437986  -1.2948  -5.7564\n",
       "128   Topic10    0.005069    heard  277.592793  -0.9660  -5.8139\n",
       "437   Topic10    0.005115      men  310.223174  -1.0681  -5.8048\n",
       "278   Topic10    0.005013     face  311.792897  -1.0932  -5.8249\n",
       "319   Topic10    0.004749     half  249.098354  -0.9229  -5.8790\n",
       "432   Topic10    0.004927     head  377.493099  -1.3018  -5.8422\n",
       "71    Topic10    0.004931    night  397.880856  -1.3536  -5.8414\n",
       "472   Topic10    0.004625     room  226.837328  -0.8557  -5.9055\n",
       "404   Topic10    0.004632     life  240.508642  -0.9128  -5.9040\n",
       "294   Topic10    0.004590    three  235.986170  -0.9029  -5.9131\n",
       "490   Topic10    0.004568     side  236.158089  -0.9085  -5.9180\n",
       "242   Topic10    0.004656      day  303.029288  -1.1386  -5.8988\n",
       "467   Topic10    0.004450    hands  197.392982  -0.7552  -5.9440\n",
       "18    Topic10    0.004556     left  256.982467  -0.9954  -5.9205\n",
       "126   Topic10    0.004550     door  258.637566  -1.0032  -5.9218\n",
       "356   Topic10    0.004512    small  239.996190  -0.9369  -5.9303\n",
       "442   Topic10    0.004739   holmes  481.435685  -1.5839  -5.8812\n",
       "121   Topic10    0.004349       ll  185.325429  -0.7152  -5.9671\n",
       "513   Topic10    0.004562    house  320.424154  -1.2147  -5.9191\n",
       "272   Topic10    0.004384    white  224.352892  -0.8983  -5.9591\n",
       "\n",
       "[627 rows x 6 columns], token_table=      Topic      Freq        Term\n",
       "term                             \n",
       "220       3  0.680256         _g_\n",
       "271       3  0.911400         _p_\n",
       "27        3  0.913163         _t_\n",
       "362       3  0.480844       _the_\n",
       "362       6  0.480844       _the_\n",
       "291       2  0.026380  absolutely\n",
       "291       3  0.184662  absolutely\n",
       "291       5  0.026380  absolutely\n",
       "291       6  0.738647  absolutely\n",
       "103       1  0.217874     account\n",
       "103       2  0.134875     account\n",
       "103       3  0.062250     account\n",
       "103       5  0.134875     account\n",
       "103       6  0.435748     account\n",
       "103       7  0.010375     account\n",
       "5         3  0.680543    adjusted\n",
       "175       3  0.959130       adler\n",
       "253       3  0.634083   admirably\n",
       "253       5  0.317041   admirably\n",
       "441       1  0.140809         ago\n",
       "441       2  0.187746         ago\n",
       "441       3  0.058670         ago\n",
       "441       4  0.105607         ago\n",
       "441       5  0.363757         ago\n",
       "441       6  0.152543         ago\n",
       "365       1  0.340204         air\n",
       "365       2  0.196960         air\n",
       "365       3  0.080575         air\n",
       "365       4  0.107433         air\n",
       "365       5  0.250677         air\n",
       "...     ...       ...         ...\n",
       "326       4  0.206934       woman\n",
       "326       5  0.034489       woman\n",
       "326       7  0.008622       woman\n",
       "345       1  0.340148        word\n",
       "345       2  0.200087        word\n",
       "345       3  0.086704        word\n",
       "345       4  0.053357        word\n",
       "345       5  0.046687        word\n",
       "345       6  0.266783        word\n",
       "345       7  0.006670        word\n",
       "382       1  0.349636        work\n",
       "382       2  0.266389        work\n",
       "382       3  0.110996        work\n",
       "382       4  0.033299        work\n",
       "382       5  0.172043        work\n",
       "382       6  0.061048        work\n",
       "382       7  0.011100        work\n",
       "337       1  0.221359       years\n",
       "337       2  0.198058       years\n",
       "337       3  0.058252       years\n",
       "337       4  0.040777       years\n",
       "337       5  0.343690       years\n",
       "337       6  0.128155       years\n",
       "337       7  0.011650       years\n",
       "307       1  0.460266       young\n",
       "307       2  0.362007       young\n",
       "307       3  0.036201       young\n",
       "307       4  0.056887       young\n",
       "307       5  0.072401       young\n",
       "307       7  0.010343       young\n",
       "\n",
       "[1375 rows x 3 columns], R=30, lambda_step=0.01, plot_opts={'xlab': 'PC1', 'ylab': 'PC2'}, topic_order=[7, 4, 6, 8, 3, 10, 9, 2, 5, 1])"
      ]
     },
     "execution_count": 14,
     "metadata": {},
     "output_type": "execute_result"
    }
   ],
   "source": [
    "vis.make_interactive()"
   ]
  },
  {
   "cell_type": "code",
   "execution_count": 15,
   "metadata": {
    "collapsed": false
   },
   "outputs": [
    {
     "name": "stderr",
     "output_type": "stream",
     "text": [
      "31-Oct-2016 14:43:13 INFO collection: Saving interactive visualization ...\n",
      "31-Oct-2016 14:43:13 DEBUG collection: Interactive visualization available at ./visualizations/interactive/corpus_interactive.html and ./visualizations/interactive/corpus_interactive.json\n"
     ]
    }
   ],
   "source": [
    "vis.save_interactive(\"./visualizations/interactive\")"
   ]
  },
  {
   "cell_type": "markdown",
   "metadata": {},
   "source": [
    "![success](http://cdn2.hubspot.net/hub/128506/file-446943132-jpg/images/computer_woman_success.jpg)"
   ]
  }
 ],
 "metadata": {
  "kernelspec": {
   "display_name": "Python 3",
   "language": "python",
   "name": "python3"
  },
  "language_info": {
   "codemirror_mode": {
    "name": "ipython",
    "version": 3
   },
   "file_extension": ".py",
   "mimetype": "text/x-python",
   "name": "python",
   "nbconvert_exporter": "python",
   "pygments_lexer": "ipython3",
   "version": "3.5.2"
  }
 },
 "nbformat": 4,
 "nbformat_minor": 1
}
