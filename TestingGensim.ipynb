{
 "cells": [
  {
   "cell_type": "markdown",
   "metadata": {},
   "source": [
    "# Testing `collection.py`"
   ]
  },
  {
   "cell_type": "code",
   "execution_count": 1,
   "metadata": {
    "collapsed": false
   },
   "outputs": [
    {
     "name": "stderr",
     "output_type": "stream",
     "text": [
      "/Library/Frameworks/Python.framework/Versions/3.5/lib/python3.5/site-packages/funcy/decorators.py:56: DeprecationWarning: inspect.getargspec() is deprecated, use inspect.signature() instead\n",
      "  spec = inspect.getargspec(func)\n",
      "/Library/Frameworks/Python.framework/Versions/3.5/lib/python3.5/site-packages/funcy/decorators.py:56: DeprecationWarning: inspect.getargspec() is deprecated, use inspect.signature() instead\n",
      "  spec = inspect.getargspec(func)\n",
      "/Library/Frameworks/Python.framework/Versions/3.5/lib/python3.5/site-packages/funcy/decorators.py:56: DeprecationWarning: inspect.getargspec() is deprecated, use inspect.signature() instead\n",
      "  spec = inspect.getargspec(func)\n",
      "/Library/Frameworks/Python.framework/Versions/3.5/lib/python3.5/site-packages/funcy/decorators.py:56: DeprecationWarning: inspect.getargspec() is deprecated, use inspect.signature() instead\n",
      "  spec = inspect.getargspec(func)\n",
      "/Library/Frameworks/Python.framework/Versions/3.5/lib/python3.5/site-packages/funcy/decorators.py:56: DeprecationWarning: inspect.getargspec() is deprecated, use inspect.signature() instead\n",
      "  spec = inspect.getargspec(func)\n",
      "/Library/Frameworks/Python.framework/Versions/3.5/lib/python3.5/site-packages/funcy/decorators.py:56: DeprecationWarning: inspect.getargspec() is deprecated, use inspect.signature() instead\n",
      "  spec = inspect.getargspec(func)\n",
      "/Library/Frameworks/Python.framework/Versions/3.5/lib/python3.5/site-packages/numpy/lib/utils.py:99: DeprecationWarning: `scipy.sparse.sparsetools` is deprecated!\n",
      "scipy.sparse.sparsetools is a private module for scipy.sparse, and should not be used.\n",
      "  warnings.warn(depdoc, DeprecationWarning)\n"
     ]
    }
   ],
   "source": [
    "import collection"
   ]
  },
  {
   "cell_type": "code",
   "execution_count": 2,
   "metadata": {
    "collapsed": true
   },
   "outputs": [],
   "source": [
    "path_txt = \"corpus\"\n",
    "path_csv = \"corpus_csv\""
   ]
  },
  {
   "cell_type": "markdown",
   "metadata": {},
   "source": [
    "##### Liste mit Dateinamen erzeugen"
   ]
  },
  {
   "cell_type": "code",
   "execution_count": 3,
   "metadata": {
    "collapsed": false,
    "scrolled": true
   },
   "outputs": [
    {
     "name": "stderr",
     "output_type": "stream",
     "text": [
      "31-Oct-2016 11:46:51 INFO collection: Creating document list from txt files ...\n",
      "31-Oct-2016 11:46:51 DEBUG collection: 17 entries in document list available.\n"
     ]
    },
    {
     "data": {
      "text/plain": [
       "['corpus/Doyle_AScandalinBohemia.txt',\n",
       " 'corpus/Doyle_AStudyinScarlet.txt',\n",
       " 'corpus/Doyle_TheHoundoftheBaskervilles.txt',\n",
       " 'corpus/Doyle_TheSignoftheFour.txt',\n",
       " 'corpus/Howard_GodsoftheNorth.txt']"
      ]
     },
     "execution_count": 3,
     "metadata": {},
     "output_type": "execute_result"
    }
   ],
   "source": [
    "doclist_txt = collection.create_document_list(path_txt)\n",
    "doclist_txt[:5]"
   ]
  },
  {
   "cell_type": "code",
   "execution_count": 4,
   "metadata": {
    "collapsed": false
   },
   "outputs": [
    {
     "name": "stderr",
     "output_type": "stream",
     "text": [
      "31-Oct-2016 11:46:51 INFO collection: Creating document list from csv files ...\n",
      "31-Oct-2016 11:46:51 DEBUG collection: 16 entries in document list available.\n"
     ]
    },
    {
     "data": {
      "text/plain": [
       "['corpus_csv/Doyle_AStudyinScarlet.txt.csv',\n",
       " 'corpus_csv/Doyle_TheHoundoftheBaskervilles.txt.csv',\n",
       " 'corpus_csv/Doyle_TheSignoftheFour.txt.csv',\n",
       " 'corpus_csv/Howard_GodsoftheNorth.txt.csv',\n",
       " 'corpus_csv/Howard_SchadowsinZamboula.txt.csv']"
      ]
     },
     "execution_count": 4,
     "metadata": {},
     "output_type": "execute_result"
    }
   ],
   "source": [
    "doclist_csv = collection.create_document_list(path_csv, 'csv')\n",
    "doclist_csv[:5]"
   ]
  },
  {
   "cell_type": "code",
   "execution_count": 5,
   "metadata": {
    "collapsed": false
   },
   "outputs": [
    {
     "name": "stdout",
     "output_type": "stream",
     "text": [
      "Help on function create_document_list in module collection:\n",
      "\n",
      "create_document_list(path, ext='txt')\n",
      "    Creates a list of files with their full path.\n",
      "    Args:\n",
      "        path (str): Path to folder, e.g. '/tmp/corpus'.\n",
      "        ext (str): File extension, e.g. 'csv'. Defaults to 'txt'.\n",
      "    Returns:\n",
      "        list[str]: List of files with full path.\n",
      "\n"
     ]
    }
   ],
   "source": [
    "help(collection.create_document_list)"
   ]
  },
  {
   "cell_type": "markdown",
   "metadata": {},
   "source": [
    "##### Corpus laden"
   ]
  },
  {
   "cell_type": "code",
   "execution_count": 6,
   "metadata": {
    "collapsed": false
   },
   "outputs": [
    {
     "name": "stderr",
     "output_type": "stream",
     "text": [
      "31-Oct-2016 11:46:51 INFO collection: Accessing documents ...\n"
     ]
    },
    {
     "data": {
      "text/plain": [
       "'A SCANDAL IN BOHEMIA\\n\\nA. CONAN DOYLE\\n\\n\\nI\\n\\nTo Sherlock Holmes she is always _the_ woman. I have seldom heard him\\nmention her under any other name. In his eyes she eclipses and\\npredominates the whole of her sex. It was not that he felt any emotion\\nakin to love for Irene Adler. All emotions, and that one particularly,\\nwere abhorrent to his cold, precise but admirably balanced mind. He was,\\nI take it, the most perfect reasoning and observing machine that the\\nworld has seen; but as a lover, he would have placed himself in a false\\nposition. He never spoke of the softer passions, save with a gibe and a\\nsneer. They were admirable things for the observer--excellent for\\ndrawing the veil from men\\'s motives and actions. But for the trained\\nreasoner to admit such intrusions into his own delicate and finely\\nadjusted temperament was to introduce a distracting factor which might\\nthrow a doubt upon all his mental results. Grit in a sensitive\\ninstrument, or a crack in one of his own high-power lenses, would not be\\nmore disturbing than a strong emotion in a nature such as his. And yet\\nthere was but one woman to him, and that woman was the late Irene Adler,\\nof dubious and questionable memory.\\n\\nI had seen little of Holmes lately. My marriage had drifted us away from\\neach other. My own complete happiness, and the home-centred interests\\nwhich rise up around the man who first finds himself master of his own\\nestablishment, were sufficient to absorb all my attention; while Holmes,\\nwho loathed every form of society with his whole Bohemian soul, remained\\nin our lodgings in Baker Street, buried among his old books, and\\nalternating from week to week between cocaine and ambition, the\\ndrowsiness of the drug and the fierce energy of his own keen nature. He\\nwas still, as ever, deeply attracted by the study of crime, and occupied\\nhis immense faculties and extraordinary powers of observation in\\nfollowing out those clews, and clearing up those mysteries, which had\\nbeen abandoned as hopeless by the official police. From time to time I\\nheard some vague account of his doings; of his summons to Odessa in the\\ncase of the Trepoff murder, of his clearing up of the singular tragedy\\nof the Atkinson brothers at Trincomalee, and finally of the mission\\nwhich he had accomplished so delicately and successfully for the\\nreigning family of Holland. Beyond these signs of his activity, however,\\nwhich I merely shared with all the readers of the daily press, I knew\\nlittle of my former friend and companion.\\n\\nOne night--it was on the 20th of March, 1888--I was returning from a\\njourney to a patient (for I had now returned to civil practice), when my\\nway led me through Baker Street. As I passed the well-remembered door,\\nwhich must always be associated in my mind with my wooing, and with the\\ndark incidents of the Study in Scarlet, I was seized with a keen desire\\nto see Holmes again, and to know how he was employing his extraordinary\\npowers. His rooms were brilliantly lighted, and even as I looked up, I\\nsaw his tall, spare figure pass twice in a dark silhouette against the\\nblind. He was pacing the room swiftly, eagerly, with his head sunk upon\\nhis chest, and his hands clasped behind him. To me, who knew his every\\nmood and habit, his attitude and manner told their own story. He was at\\nwork again. He had risen out of his drug-created dreams, and was hot\\nupon the scent of some new problem. I rang the bell, and was shown up to\\nthe chamber which had formerly been in part my own.\\n\\nHis manner was not effusive. It seldom was; but he was glad, I think, to\\nsee me. With hardly a word spoken, but with a kindly eye, he waved me to\\nan armchair, threw across his case of cigars, and indicated a spirit\\ncase and a gasogene in the corner. Then he stood before the fire, and\\nlooked me over in his singular introspective fashion.\\n\\n\"Wedlock suits you,\" he remarked. \"I think Watson, that you have put on\\nseven and a half pounds since I saw you.\"\\n\\n\"Seven,\" I answered.\\n\\n\"Indeed, I should have thought a little more. Just a trifle more, I\\nfancy, Watson. And in practice again, I observe. You did not tell me\\nthat you intended to go into harness.\"\\n\\n\"Then how do you know?\"\\n\\n\"I see it, I deduce it. How do I know that you have been getting\\nyourself very wet lately, and that you have a most clumsy and careless\\nservant girl?\"\\n\\n\"My dear Holmes,\" said I, \"this is too much. You would certainly have\\nbeen burned had you lived a few centuries ago. It is true that I had a\\ncountry walk on Thursday and came home in a dreadful mess; but as I have\\nchanged my clothes, I can\\'t imagine how you deduce it. As to Mary Jane,\\nshe is incorrigible, and my wife has given her notice; but there again I\\nfail to see how you work it out.\"\\n\\nHe chuckled to himself and rubbed his long nervous hands together.\\n\\n\"It is simplicity itself,\" said he, \"my eyes tell me that on the inside\\nof your left shoe, just where the firelight strikes it, the leather is\\nscored by six almost parallel cuts. Obviously they have been caused by\\nsomeone who has very carelessly scraped round the edges of the sole in\\norder to remove crusted mud from it. Hence, you see, my double deduction\\nthat you had been out in vile weather, and that you had a particularly\\nmalignant boot-slicking specimen of the London slavey. As to your\\npractice, if a gentleman walks into my rooms, smelling of iodoform, with\\na black mark of nitrate of silver upon his right forefinger, and a bulge\\non the side of his top hat to show where he has secreted his\\nstethoscope, I must be dull indeed if I do not pronounce him to be an\\nactive member of the medical profession.\"\\n\\nI could not help laughing at the ease with which he explained his\\nprocess of deduction. \"When I hear you give your reasons,\" I remarked,\\n\"the thing always appears to me so ridiculously simple that I could\\neasily do it myself, though at each successive instance of your\\nreasoning I am baffled, until you explain your process. And yet, I\\nbelieve that my eyes are as good as yours.\"\\n\\n\"Quite so,\" he answered, lighting a cigarette, and throwing himself down\\ninto an armchair. \"You see, but you do not observe. The distinction is\\nclear. For example, you have frequently seen the steps which lead up\\nfrom the hall to this room.\"\\n\\n\"Frequently.\"\\n\\n\"How often?\"\\n\\n\"Well, some hundreds of times.\"\\n\\n\"Then how many are there?\"\\n\\n\"How many? I don\\'t know.\"\\n\\n\"Quite so! You have not observed. And yet you have seen. That is just my\\npoint. Now, I know there are seventeen steps, because I have both seen\\nand observed. By the way, since you are interested in these little\\nproblems, and since you are good enough to chronicle one or two of my\\ntrifling experiences, you may be interested in this.\" He threw over a\\nsheet of thick pink-tinted note paper which had been lying open upon the\\ntable. \"It came by the last post,\" said he. \"Read it aloud.\"\\n\\nThe note was undated, and without either signature or address.\\n\\n\"There will call upon you to-night, at a quarter to eight o\\'clock,\" it\\nsaid, \"a gentleman who desires to consult you upon a matter of the very\\ndeepest moment. Your recent services to one of the royal houses of\\nEurope have shown that you are one who may safely be trusted with\\nmatters which are of an importance which can hardly be exaggerated. This\\naccount of you we have from all quarters received. Be in your chamber,\\nthen, at that hour, and do not take it amiss if your visitor wears a\\nmask.\"\\n\\n\"This is indeed a mystery,\" I remarked. \"What do you imagine that it\\nmeans?\"\\n\\n\"I have no data yet. It is a capital mistake to theorize before one has\\ndata. Insensibly one begins to twist facts to suit theories, instead of\\ntheories to suit facts. But the note itself--what do you deduce from\\nit?\"\\n\\nI carefully examined the writing, and the paper upon which it was\\nwritten.\\n\\n\"The man who wrote it was presumably well to do,\" I remarked,\\nendeavouring to imitate my companion\\'s processes. \"Such paper could not\\nbe bought under half a crown a packet. It is peculiarly strong and\\nstiff.\"\\n\\n\"Peculiar--that is the very word,\" said Holmes. \"It is not an English\\npaper at all. Hold it up to the light.\"\\n\\nI did so, and saw a large _E_ with a small _g_, a _P_ and a large _G_\\nwith a small _t_ woven into the texture of the paper.\\n\\n\"What do you make of that?\" asked Holmes.\\n\\n\"The name of the maker, no doubt; or his monogram, rather.\"\\n\\n\"Not all. The _G_ with the small _t_ stands for \\'Gesellschaft,\\' which is\\nthe German for \\'Company.\\' It is a customary contraction like our \\'Co.\\'\\n_P_, of course, stands for \\'Papier.\\' Now for the _Eg_. Let us glance at\\nour \\'Continental Gazetteer.\\'\" He took down a heavy brown volume from his\\nshelves. \"Eglow, Eglonitz--here we are, Egria. It is in a\\nGerman-speaking country--in Bohemia, not far from Carlsbad. \\'Remarkable\\nas being the scene of the death of Wallenstein, and for its numerous\\nglass factories and paper mills.\\' Ha! ha! my boy, what do you make of\\nthat?\" His eyes sparkled, and he sent up a great blue triumphant cloud\\nfrom his cigarette.\\n\\n\"The paper was made in Bohemia,\" I said.\\n\\n\"Precisely. And the man who wrote the note is a German. Do you note the\\npeculiar construction of the sentence--\\'This account of you we have from\\nall quarters received\\'? A Frenchman or Russian could not have written\\nthat. It is the German who is so uncourteous to his verbs. It only\\nremains, therefore, to discover what is wanted by this German who writes\\nupon Bohemian paper, and prefers wearing a mask to showing his face. And\\nhere he comes, if I am not mistaken, to resolve all our doubts.\"\\n\\nAs he spoke there was the sharp sound of horses\\' hoofs and grating\\nwheels against the curb, followed by a sharp pull at the bell. Holmes\\nwhistled.\\n\\n\"A pair, by the sound,\" said he. \"Yes,\" he continued, glancing out of\\nthe window. \"A nice little brougham and a pair of beauties. A hundred\\nand fifty guineas apiece. There\\'s money in this case, Watson, if there\\nis nothing else.\"\\n\\n\"I think I had better go, Holmes.\"\\n\\n\"Not a bit, doctor. Stay where you are. I am lost without my Boswell.\\nAnd this promises to be interesting. It would be a pity to miss it.\"\\n\\n\"But your client--\"\\n\\n\"Never mind him. I may want your help, and so may he. Here he comes. Sit\\ndown in that armchair, doctor, and give us your best attention.\"\\n\\nA slow and heavy step, which had been heard upon the stairs and in the\\npassage, paused immediately outside the door. Then there was a loud and\\nauthoritative tap.\\n\\n\"Come in!\" said Holmes.\\n\\nA man entered who could hardly have been less than six feet six inches\\nin height, with the chest and limbs of a Hercules. His dress was rich\\nwith a richness which would, in England, be looked upon as akin to bad\\ntaste. Heavy bands of astrakhan were slashed across the sleeves and\\nfront of his double-breasted coat, while the deep blue cloak which was\\nthrown over his shoulders was lined with flame-coloured silk, and\\nsecured at the neck with a brooch which consisted of a single flaming\\nberyl. Boots which extended halfway up his calves, and which were\\ntrimmed at the tops with rich brown fur, completed the impression of\\nbarbaric opulence which was suggested by his whole appearance. He\\ncarried a broad-brimmed hat in his hand, while he wore across the upper\\npart of his face, extending down past the cheek-bones, a black visard\\nmask, which he had apparently adjusted that very moment, for his hand\\nwas still raised to it as he entered. From the lower part of the face he\\nappeared to be a man of strong character, with a thick, hanging lip, and\\na long, straight chin, suggestive of resolution pushed to the length of\\nobstinacy.\\n\\n\"You had my note?\" he asked, with a deep, harsh voice and a strongly\\nmarked German accent. \"I told you that I would call.\" He looked from one\\nto the other of us, as if uncertain which to address.\\n\\n\"Pray take a seat,\" said Holmes. \"This is my friend and colleague,\\nDoctor Watson, who is occasionally good enough to help me in my cases.\\nWhom have I the honour to address?\"\\n\\n\"You may address me as the Count von Kramm, a Bohemian nobleman. I\\nunderstand that this gentleman, your friend, is a man of honour and\\ndiscretion, whom I may trust with a matter of the most extreme\\nimportance. If not I should much prefer to communicate with you alone.\"\\n\\nI rose to go, but Holmes caught me by the wrist and pushed me back into\\nmy chair. \"It is both, or none,\" said he. \"You may say before this\\ngentleman anything which you may say to me.\"\\n\\nThe count shrugged his broad shoulders. \"Then I must begin,\" said he,\\n\"by binding you both to absolute secrecy for two years; at the end of\\nthat time the matter will be of no importance. At present it is not too\\nmuch to say that it is of such weight that it may have an influence upon\\nEuropean history.\"\\n\\n\"I promise,\" said Holmes.\\n\\n\"And I.\"\\n\\n\"You will excuse this mask,\" continued our strange visitor. \"The august\\nperson who employs me wishes his agent to be unknown to you, and I may\\nconfess at once that the title by which I have just called myself is not\\nexactly my own.\"\\n\\n\"I was aware of it,\" said Holmes, dryly.\\n\\n\"The circumstances are of great delicacy, and every precaution has to be\\ntaken to quench what might grow to be an immense scandal, and seriously\\ncompromise one of the reigning families of Europe. To speak plainly, the\\nmatter implicates the great House of Ormstein, hereditary kings of\\nBohemia.\"\\n\\n\"I was also aware of that,\" murmured Holmes, settling himself down in\\nhis armchair, and closing his eyes.\\n\\nOur visitor glanced with some apparent surprise at the languid, lounging\\nfigure of the man who had been, no doubt, depicted to him as the most\\nincisive reasoner and most energetic agent in Europe. Holmes slowly\\nreopened his eyes and looked impatiently at his gigantic client.\\n\\n\"If your majesty would condescend to state your case,\" he remarked, \"I\\nshould be better able to advise you.\"\\n\\nThe man sprung from his chair, and paced up and down the room in\\nuncontrollable agitation. Then, with a gesture of desperation, he tore\\nthe mask from his face and hurled it upon the ground.\\n\\n\"You are right,\" he cried, \"I am the king. Why should I attempt to\\nconceal it?\"\\n\\n\"Why, indeed?\" murmured Holmes. \"Your majesty had not spoken before I\\nwas aware that I was addressing Wilhelm Gottsreich Sigismond von\\nOrmstein, Grand Duke of Cassel-Felstein, and hereditary King of\\nBohemia.\"\\n\\n\"But you can understand,\" said our strange visitor, sitting down once\\nmore and passing his hand over his high, white forehead, \"you can\\nunderstand that I am not accustomed to doing such business in my own\\nperson. Yet the matter was so delicate that I could not confide it to an\\nagent without putting myself in his power. I have come incognito from\\nPrague for the purpose of consulting you.\"\\n\\n\"Then, pray consult,\" said Holmes, shutting his eyes once more.\\n\\n\"The facts are briefly these: Some five years ago, during a lengthy\\nvisit to Warsaw, I made the acquaintance of the well-known adventuress\\nIrene Adler. The name is no doubt familiar to you.\"\\n\\n\"Kindly look her up in my index, doctor,\" murmured Holmes, without\\nopening his eyes. For many years he had adopted a system for docketing\\nall paragraphs concerning men and things, so that it was difficult to\\nname a subject or a person on which he could not at once furnish\\ninformation. In this case I found her biography sandwiched in between\\nthat of a Hebrew rabbi and that of a staff commander who had written a\\nmonograph upon the deep-sea fishes.\\n\\n\"Let me see!\" said Holmes. \"Hum! Born in New Jersey in the year 1858.\\nContralto--hum! La Scala--hum! Prima donna Imperial Opera of\\nWarsaw--yes! Retired from operatic stage--ha! Living in London--quite\\nso! Your majesty, as I understand, became entangled with this young\\nperson, wrote her some compromising letters, and is now desirous of\\ngetting those letters back.\"\\n\\n\"Precisely so. But how--\"\\n\\n\"Was there a secret marriage?\"\\n\\n\"None.\"\\n\\n\"No legal papers or certificates?\"\\n\\n\"None.\"\\n\\n\"Then I fail to follow your majesty. If this young person should produce\\nher letters for blackmailing or other purposes, how is she to prove\\ntheir authenticity?\"\\n\\n\"There is the writing.\"\\n\\n\"Pooh-pooh! Forgery.\"\\n\\n\"My private note paper.\"\\n\\n\"Stolen.\"\\n\\n\"My own seal.\"\\n\\n\"Imitated.\"\\n\\n\"My photograph.\"\\n\\n\"Bought.\"\\n\\n\"We were both in the photograph.\"\\n\\n\"Oh, dear! That is very bad. Your majesty has indeed committed an\\nindiscretion.\"\\n\\n\"I was mad--insane.\"\\n\\n\"You have compromised yourself seriously.\"\\n\\n\"I was only crown prince then. I was young. I am but thirty now.\"\\n\\n\"It must be recovered.\"\\n\\n\"We have tried and failed.\"\\n\\n\"Your majesty must pay. It must be bought.\"\\n\\n\"She will not sell.\"\\n\\n\"Stolen, then.\"\\n\\n\"Five attempts have been made. Twice burglars in my pay ransacked her\\nhouse. Once we diverted her luggage when she travelled. Twice she has\\nbeen waylaid. There has been no result.\"\\n\\n\"No sign of it?\"\\n\\n\"Absolutely none.\"\\n\\nHolmes laughed. \"It is quite a pretty little problem,\" said he.\\n\\n\"But a very serious one to me,\" returned the king, reproachfully.\\n\\n\"Very, indeed. And what does she propose to do with the photograph?\"\\n\\n\"To ruin me.\"\\n\\n\"But how?\"\\n\\n\"I am about to be married.\"\\n\\n\"So I have heard.\"\\n\\n\"To Clotilde Lothman von Saxe-Meiningen, second daughter of the King of\\nScandinavia. You may know the strict principles of her family. She is\\nherself the very soul of delicacy. A shadow of a doubt as to my conduct\\nwould bring the matter to an end.\"\\n\\n\"And Irene Adler?\"\\n\\n\"Threatens to send them the photograph. And she will do it. I know that\\nshe will do it. You do not know her, but she has a soul of steel. She\\nhas the face of the most beautiful of women and the mind of the most\\nresolute of men. Rather than I should marry another woman, there are no\\nlengths to which she would not go--none.\"\\n\\n\"You are sure she has not sent it yet?\"\\n\\n\"I am sure.\"\\n\\n\"And why?\"\\n\\n\"Because she has said that she would send it on the day when the\\nbetrothal was publicly proclaimed. That will be next Monday.\"\\n\\n\"Oh, then we have three days yet,\" said Holmes, with a yawn. \"That is\\nvery fortunate, as I have one or two matters of importance to look into\\njust at present. Your majesty will, of course, stay in London for the\\npresent?\"\\n\\n\"Certainly. You will find me at the Langham, under the name of the Count\\nvon Kramm.\"\\n\\n\"Then I shall drop you a line to let you know how we progress.\"\\n\\n\"Pray do so; I shall be all anxiety.\"\\n\\n\"Then, as to money?\"\\n\\n\"You have _carte blanche_.\"\\n\\n\"Absolutely?\"\\n\\n\"I tell you that I would give one of the provinces of my kingdom to have\\nthat photograph.\"\\n\\n\"And for present expenses?\"\\n\\nThe king took a heavy chamois-leather bag from under his cloak, and laid\\nit on the table.\\n\\n\"There are three hundred pounds in gold, and seven hundred in notes,\" he\\nsaid.\\n\\nHolmes scribbled a receipt upon a sheet of his notebook, and handed it\\nto him.\\n\\n\"And mademoiselle\\'s address?\" he asked.\\n\\n\"Is Briony Lodge, Serpentine Avenue, St. John\\'s Wood.\"\\n\\nHolmes took a note of it. \"One other question,\" said he, thoughtfully.\\n\"Was the photograph a cabinet?\"\\n\\n\"It was.\"\\n\\n\"Then, good-night, your majesty, and I trust that we shall soon have\\nsome good news for you. And good-night, Watson,\" he added, as the\\nwheels of the royal brougham rolled down the street. \"If you will be\\ngood enough to call to-morrow afternoon, at three o\\'clock, I should like\\nto chat this little matter over with you.\"\\n\\n\\nII\\n\\nAt three o\\'clock precisely I was at Baker Street, but Holmes had not yet\\nreturned. The landlady informed me that he had left the house shortly\\nafter eight o\\'clock in the morning. I sat down beside the fire, however,\\nwith the intention of awaiting him, however long he might be. I was\\nalready deeply interested in his inquiry, for, though it was surrounded\\nby none of the grim and strange features which were associated with the\\ntwo crimes which I have already recorded, still, the nature of the case\\nand the exalted station of his client gave it a character of its own.\\nIndeed, apart from the nature of the investigation which my friend had\\non hand, there was something in his masterly grasp of a situation, and\\nhis keen, incisive reasoning, which made it a pleasure to me to study\\nhis system of work, and to follow the quick subtle methods by which he\\ndisentangled the most inextricable mysteries. So accustomed was I to his\\ninvariable success that the very possibility of his failing had ceased\\nto enter into my head.\\n\\nIt was close upon four before the door opened, and a drunken-looking\\ngroom, ill-kempt and side-whiskered, with an inflamed face and\\ndisreputable clothes, walked into the room. Accustomed as I was to my\\nfriend\\'s amazing powers in the use of disguises, I had to look three\\ntimes before I was certain that it was indeed he. With a nod he vanished\\ninto the bedroom, whence he emerged in five minutes tweed-suited and\\nrespectable, as of old. Putting his hands into his pockets, he stretched\\nout his legs in front of the fire, and laughed heartily for some\\nminutes.\\n\\n\"Well, really!\" he cried, and then he choked, and laughed again until he\\nwas obliged to lie back, limp and helpless, in the chair.\\n\\n\"What is it?\"\\n\\n\"It\\'s quite too funny. I am sure you could never guess how I employed my\\nmorning, or what I ended by doing.\"\\n\\n\"I can\\'t imagine. I suppose that you have been watching the habits, and,\\nperhaps, the house, of Miss Irene Adler.\"\\n\\n\"Quite so, but the sequel was rather unusual. I will tell you, however.\\nI left the house a little after eight o\\'clock this morning in the\\ncharacter of a groom out of work. There is a wonderful sympathy and\\nfreemasonry among horsey men. Be one of them, and you will know all that\\nthere is to know. I soon found Briony Lodge. It is a bijou villa, with a\\ngarden at the back, but built out in the front right up to the road, two\\nstories. Chubb lock to the door. Large sitting room on the right side,\\nwell furnished, with long windows almost to the floor, and those\\npreposterous English window fasteners which a child could open. Behind\\nthere was nothing remarkable, save that the passage window could be\\nreached from the top of the coach-house. I walked round it and examined\\nit closely from every point of view, but without noting anything else of\\ninterest.\\n\\n\"I then lounged down the street, and found, as I expected, that there\\nwas a mews in a lane which runs down by one wall of the garden. I lent\\nthe hostlers a hand in rubbing down their horses, and I received in\\nexchange two-pence, a glass of half and half, two fills of shag tobacco,\\nand as much information as I could desire about Miss Adler, to say\\nnothing of half a dozen other people in the neighbourhood, in whom I was\\nnot in the least interested, but whose biographies I was compelled to\\nlisten to.\"\\n\\n\"And what of Irene Adler?\" I asked.\\n\\n\"Oh, she has turned all the men\\'s heads down in that part. She is the\\ndaintest thing under a bonnet on this planet. So say the Serpentine\\nMews, to a man. She lives quietly, sings at concerts, drives out at five\\nevery day, and returns at seven sharp for dinner. Seldom goes out at\\nother times, except when she sings. Has only one male visitor, but a\\ngood deal of him. He is dark, handsome, and dashing; never calls less\\nthan once a day, and often twice. He is a Mr. Godfrey Norton of the\\nInner Temple. See the advantages of a cabman as a confidant. They had\\ndriven him home a dozen times from Serpentine Mews, and knew all about\\nhim. When I had listened to all that they had to tell, I began to walk\\nup and down near Briony Lodge once more, and to think over my plan of\\ncampaign.\\n\\n\"This Godfrey Norton was evidently an important factor in the matter. He\\nwas a lawyer. That sounded ominous. What was the relation between them,\\nand what the object of his repeated visits? Was she his client, his\\nfriend, or his mistress? If the former, she had probably transferred the\\nphotograph to his keeping. If the latter, it was less likely. On the\\nissue of this question depended whether I should continue my work at\\nBriony Lodge, or turn my attention to the gentleman\\'s chambers in the\\nTemple. It was a delicate point, and it widened the field of my inquiry.\\nI fear that I bore you with these details, but I have to let you see my\\nlittle difficulties, if you are to understand the situation.\"\\n\\n\"I am following you closely,\" I answered.\\n\\n\"I was still balancing the matter in my mind, when a hansom cab drove up\\nto Briony Lodge, and a gentleman sprung out. He was a remarkably\\nhandsome man, dark, aquiline, and moustached--evidently the man of whom\\nI had heard. He appeared to be in a great hurry, shouted to the cabman\\nto wait, and brushed past the maid who opened the door, with the air of\\na man who was thoroughly at home.\\n\\n\"He was in the house about half an hour, and I could catch glimpses of\\nhim in the windows of the sitting room, pacing up and down, talking\\nexcitedly and waving his arms. Of her I could see nothing. Presently he\\nemerged, looking even more flurried than before. As he stepped up to the\\ncab, he pulled a gold watch from his pocket and looked at it earnestly.\\n\\'Drive like the devil!\\' he shouted, \\'first to Gross & Hankey\\'s in Regent\\nStreet, and then to the Church of St. Monica in the Edgeware Road. Half\\na guinea if you do it in twenty minutes!\\'\\n\\n\"Away they went, and I was just wondering whether I should not do well\\nto follow them, when up the lane came a neat little landau, the coachman\\nwith his coat only half buttoned, and his tie under his ear, while all\\nthe tags of his harness were sticking out of the buckles. It hadn\\'t\\npulled up before she shot out of the hall door and into it. I only\\ncaught a glimpse of her at the moment, but she was a lovely woman, with\\na face that a man might die for.\\n\\n\"\\'The Church of St. Monica, John,\\' she cried; \\'and half a sovereign if\\nyou reach it in twenty minutes.\\'\\n\\n\"This was quite too good to lose, Watson. I was just balancing whether I\\nshould run for it, or whether I should perch behind her landau, when a\\ncab came through the street. The driver looked twice at such a shabby\\nfare; but I jumped in before he could object. \\'The Church of St.\\nMonica,\\' said I, \\'and half a sovereign if you reach it in twenty\\nminutes.\\' It was twenty-five minutes to twelve, and of course it was\\nclear enough what was in the wind.\\n\\n\"My cabby drove fast. I don\\'t think I ever drove faster, but the others\\nwere there before us. The cab and landau with their steaming horses were\\nin front of the door when I arrived. I paid the man, and hurried into\\nthe church. There was not a soul there save the two whom I had followed,\\nand a surpliced clergyman, who seemed to be expostulating with them.\\nThey were all three standing in a knot in front of the altar. I lounged\\nup the side aisle like any other idler who has dropped into a church.\\nSuddenly, to my surprise, the three at the altar faced round to me, and\\nGodfrey Norton came running as hard as he could toward me.\\n\\n\"\\'Thank God!\\' he cried. \\'You\\'ll do. Come! Come!\\'\\n\\n\"\\'What then?\\' I asked.\\n\\n\"\\'Come, man, come; only three minutes, or it won\\'t be legal.\\'\\n\\n\"I was half dragged up to the altar, and, before I knew where I was, I\\nfound myself mumbling responses which were whispered in my ear, and\\nvouching for things of which I knew nothing, and generally assisting in\\nthe secure tying up of Irene Adler, spinster, to Godfrey Norton,\\nbachelor. It was all done in an instant, and there was the gentleman\\nthanking me on the one side and the lady on the other, while the\\nclergyman beamed on me in front. It was the most preposterous position\\nin which I ever found myself in my life, and it was the thought of it\\nthat started me laughing just now. It seems that there had been some\\ninformality about their license; that the clergyman absolutely refused\\nto marry them without a witness of some sort, and that my lucky\\nappearance saved the bridegroom from having to sally out into the\\nstreets in search of a best man. The bride gave me a sovereign, and I\\nmean to wear it on my watch chain in memory of the occasion.\"\\n\\n\"This is a very unexpected turn of affairs,\" said I; \"and what then?\"\\n\\n\"Well, I found my plans very seriously menaced. It looked as if the pair\\nmight take an immediate departure, and so necessitate very prompt and\\nenergetic measures on my part. At the church door, however, they\\nseparated, he driving back to the Temple, and she to her own house. \\'I\\nshall drive out in the park at five as usual,\\' she said, as she left\\nhim. I heard no more. They drove away in different directions, and I\\nwent off to make my own arrangements.\"\\n\\n\"Which are?\"\\n\\n\"Some cold beef and a glass of beer,\" he answered, ringing the bell. \"I\\nhave been too busy to think of food, and I am likely to be busier still\\nthis evening. By the way, doctor, I shall want your co-operation.\"\\n\\n\"I shall be delighted.\"\\n\\n\"You don\\'t mind breaking the law?\"\\n\\n\"Not in the least.\"\\n\\n\"Nor running a chance of arrest?\"\\n\\n\"Not in a good cause.\"\\n\\n\"Oh, the cause is excellent!\"\\n\\n\"Then I am your man.\"\\n\\n\"I was sure that I might rely on you.\"\\n\\n\"But what is it you wish?\"\\n\\n\"When Mrs. Turner has brought in the tray I will make it clear to you.\\nNow,\" he said, as he turned hungrily on the simple fare that our\\nlandlady had provided, \"I must discuss it while I eat, for I have not\\nmuch time. It is nearly five now. In two hours we must be on the scene\\nof action. Miss Irene, or Madame, rather, returns from her drive at\\nseven. We must be at Briony Lodge to meet her.\"\\n\\n\"And what then?\"\\n\\n\"You must leave that to me. I have already arranged what is to occur.\\nThere is only one point on which I must insist. You must not interfere,\\ncome what may. You understand?\"\\n\\n\"I am to be neutral?\"\\n\\n\"To do nothing whatever. There will probably be some small\\nunpleasantness. Do not join in it. It will end in my being conveyed into\\nthe house. Four or five minutes afterwards the sitting-room window will\\nopen. You are to station yourself close to that open window.\"\\n\\n\"Yes.\"\\n\\n\"You are to watch me, for I will be visible to you.\"\\n\\n\"Yes.\"\\n\\n\"And when I raise my hand--so--you will throw into the room what I give\\nyou to throw, and will, at the same time, raise the cry of fire. You\\nquite follow me?\"\\n\\n\"Entirely.\"\\n\\n\"It is nothing very formidable,\" he said, taking a long, cigar-shaped\\nroll from his pocket. \"It is an ordinary plumber\\'s smoke-rocket, fitted\\nwith a cap at either end, to make it self-lighting. Your task is\\nconfined to that. When you raise your cry of fire, it will be taken up\\nby quite a number of people. You may then walk to the end of the street,\\nand I will rejoin you in ten minutes. I hope that I have made myself\\nclear?\"\\n\\n\"I am to remain neutral, to get near the window, to watch you, and, at\\nthe signal, to throw in this object, then to raise the cry of fire and\\nto wait you at the corner of the street.\"\\n\\n\"Precisely.\"\\n\\n\"Then you may entirely rely on me.\"\\n\\n\"That is excellent. I think, perhaps, it is almost time that I prepared\\nfor the new rôle I have to play.\"\\n\\nHe disappeared into his bedroom, and returned in a few minutes in the\\ncharacter of an amiable and simple-minded Nonconformist clergyman. His\\nbroad black hat, his baggy trousers, his white tie, his sympathetic\\nsmile, and general look of peering and benevolent curiosity were such as\\nMr. John Hare alone could have equalled. It was not merely that Holmes\\nchanged his costume. His expression, his manner, his very soul seemed to\\nvary with every fresh part that he assumed. The stage lost a fine\\nactor, even as science lost an acute reasoner, when he became a\\nspecialist in crime.\\n\\nIt was a quarter past six when we left Baker Street, and it still wanted\\nten minutes to the hour when we found ourselves in Serpentine Avenue. It\\nwas already dusk, and the lamps were just being lighted as we paced up\\nand down in front of Briony Lodge, waiting for the coming of its\\noccupant. The house was just such as I had pictured it from Sherlock\\nHolmes\\'s succinct description, but the locality appeared to be less\\nprivate than I expected. On the contrary, for a small street in a quiet\\nneighbourhood, it was remarkably animated. There was a group of shabbily\\ndressed men smoking and laughing in a corner, a scissors-grinder with\\nhis wheel, two guardsmen who were flirting with a nurse-girl, and\\nseveral well-dressed young men who were lounging up and down with cigars\\nin their mouths.\\n\\n\"You see,\" remarked Holmes, as we paced to and fro in front of the\\nhouse, \"this marriage rather simplifies matters. The photograph becomes\\na double-edged weapon now. The chances are that she would be as averse\\nto its being seen by Mr. Godfrey Norton as our client is to its coming\\nto the eyes of his princess. Now the question is--where are we to find\\nthe photograph?\"\\n\\n\"Where, indeed?\"\\n\\n\"It is most unlikely that she carries it about with her. It is cabinet\\nsize. Too large for easy concealment about a woman\\'s dress. She knows\\nthat the king is capable of having her waylaid and searched. Two\\nattempts of the sort have already been made. We may take it, then, that\\nshe does not carry it about with her.\"\\n\\n\"Where, then?\"\\n\\n\"Her banker or her lawyer. There is that double possibility. But I am\\ninclined to think neither. Women are naturally secretive, and they like\\nto do their own secreting. Why should she hand it over to anyone else?\\nShe could trust her own guardianship, but she could not tell what\\nindirect or political influence might be brought to bear upon a business\\nman. Besides, remember that she had resolved to use it within a few\\ndays. It must be where she can lay her hands upon it. It must be in her\\nown house.\"\\n\\n\"But it has twice been burglarized.\"\\n\\n\"Pshaw! They did not know how to look.\"\\n\\n\"But how will you look?\"\\n\\n\"I will not look.\"\\n\\n\"What then?\"\\n\\n\"I will get her to show me.\"\\n\\n\"But she will refuse.\"\\n\\n\"She will not be able to. But I hear the rumble of wheels. It is her\\ncarriage. Now carry out my orders to the letter.\"\\n\\nAs he spoke, the gleam of the sidelights of a carriage came round the\\ncurve of the avenue. It was a smart little landau which rattled up to\\nthe door of Briony Lodge. As it pulled up one of the loafing men at the\\ncorner dashed forward to open the door in the hope of earning a copper,\\nbut was elbowed away by another loafer who had rushed up with the same\\nintention. A fierce quarrel broke out which was increased by the two\\nguardsmen, who took sides with one of the loungers, and by the scissors\\ngrinder, who was equally hot upon the other side. A blow was struck, and\\nin an instant the lady, who had stepped from her carriage, was the\\ncentre of a little knot of struggling men who struck savagely at each\\nother with their fists and sticks. Holmes dashed into the crowd to\\nprotect the lady; but, just as he reached her, he gave a cry and dropped\\nto the ground, with the blood running freely down his face. At his fall\\nthe guardsmen took to their heels in one direction and the loungers in\\nthe other, while a number of better-dressed people who had watched the\\nscuffle without taking part in it crowded in to help the lady and to\\nattend to the injured man. Irene Adler, as I will still call her, had\\nhurried up the steps; but she stood at the top, with her superb figure\\noutlined against the lights of the hall, looking back into the street.\\n\\n\"Is the poor gentleman much hurt?\" she asked.\\n\\n\"He is dead,\" cried several voices.\\n\\n\"No, no, there\\'s life in him,\" shouted another. \"But he\\'ll be gone\\nbefore you can get him to the hospital.\"\\n\\n\"He\\'s a brave fellow,\" said the woman. \"They would have had the lady\\'s\\npurse and watch if it hadn\\'t been for him. They were a gang, and a\\nrough one, too. Ah! he\\'s breathing now.\"\\n\\n\"He can\\'t lie in the street. May we bring him in, marm?\"\\n\\n\"Surely. Bring him into the sitting-room. There is a comfortable sofa.\\nThis way, please.\" Slowly and solemnly he was borne into Briony Lodge,\\nand laid out in the principal room, while I still observed the\\nproceedings from my post by the window. The lamps had been lighted, but\\nthe blinds had not been drawn, so that I could see Holmes as he lay upon\\nthe couch. I do not know whether he was seized with compunction at that\\nmoment for the part he was playing, but I know that I never felt more\\nheartily ashamed of myself in my life than when I saw the beautiful\\ncreature against whom I was conspiring, or the grace and kindliness with\\nwhich she waited upon the injured man. And yet it would be the blackest\\ntreachery to Holmes to draw back now from the part which he had\\nintrusted to me. I hardened my heart, and took the smoke-rocket from\\nunder my ulster. After all, I thought, we are not injuring her. We are\\nbut preventing her from injuring another.\\n\\nHolmes had sat upon the couch, and I saw him motion like a man who is in\\nneed of air. A maid rushed across and threw open the window. At the same\\ninstant I saw him raise his hand, and at the signal I tossed my rocket\\ninto the room with a cry of \"Fire!\" The word was no sooner out of my\\nmouth than the whole crowd of spectators, well dressed and\\nill--gentlemen, hostlers, and servant maids--joined in a general shriek\\nof \"Fire!\" Thick clouds of smoke curled through the room, and out at the\\nopen window. I caught a glimpse of rushing figures, and a moment later\\nthe voice of Holmes from within assuring them that it was a false alarm.\\nSlipping through the shouting crowd, I made my way to the corner of the\\nstreet, and in ten minutes was rejoiced to find my friend\\'s arm in mine,\\nand to get away from the scene of uproar. He walked swiftly and in\\nsilence for some few minutes, until we had turned down one of the quiet\\nstreets which led toward the Edgeware Road.\\n\\n\"You did it very nicely, doctor,\" he remarked. \"Nothing could have been\\nbetter. It is all right.\"\\n\\n\"You have the photograph?\"\\n\\n\"I know where it is.\"\\n\\n\"And how did you find out?\"\\n\\n\"She showed me, as I told you that she would.\"\\n\\n\"I am still in the dark.\"\\n\\n\"I do not wish to make a mystery,\" said he, laughing. \"The matter was\\nperfectly simple. You, of course, saw that everyone in the street was an\\naccomplice. They were all engaged for the evening.\"\\n\\n\"I guessed as much.\"\\n\\n\"Then, when the row broke out, I had a little moist red paint in the\\npalm of my hand. I rushed forward, fell down, clapped my hand to my\\nface, and became a piteous spectacle. It is an old trick.\"\\n\\n\"That also I could fathom.\"\\n\\n\"Then they carried me in. She was bound to have me in. What else could\\nshe do? And into her sitting room, which was the very room which I\\nsuspected. It lay between that and her bedroom, and I was determined to\\nsee which. They laid me on a couch, I motioned for air, they were\\ncompelled to open the window, and you had your chance.\"\\n\\n\"How did that help you?\"\\n\\n\"It was all-important. When a woman thinks that her house is on fire,\\nher instinct is at once to rush to the thing which she values most. It\\nis a perfectly overpowering impulse, and I have more than once taken\\nadvantage of it. In the case of the Darlington Substitution Scandal it\\nwas of use to me, and also in the Arnsworth Castle business. A married\\nwoman grabs at her baby--an unmarried one reaches for her jewel box. Now\\nit was clear to me that our lady of to-day had nothing in the house more\\nprecious to her than what we are in quest of. She would rush to secure\\nit. The alarm of fire was admirably done. The smoke and shouting were\\nenough to shake nerves of steel. She responded beautifully. The\\nphotograph is in a recess behind a sliding panel just above the right\\nbell-pull. She was there in an instant, and I caught a glimpse of it as\\nshe drew it out. When I cried out that it was a false alarm, she\\nreplaced it, glanced at the rocket, rushed from the room, and I have not\\nseen her since. I rose, and, making my excuses, escaped from the house.\\nI hesitated whether to attempt to secure the photograph at once; but\\nthe coachman had come in, and as he was watching me narrowly, it seemed\\nsafer to wait. A little over-precipitance may ruin all.\"\\n\\n\"And now?\" I asked.\\n\\n\"Our quest is practically finished. I shall call with the king\\nto-morrow, and with you, if you care to come with us. We will be shown\\ninto the sitting room to wait for the lady, but it is probable that when\\nshe comes she may find neither us nor the photograph. It might be a\\nsatisfaction to his majesty to regain it with his own hands.\"\\n\\n\"And when will you call?\"\\n\\n\"At eight in the morning. She will not be up, so that we shall have a\\nclear field. Besides, we must be prompt, for this marriage may mean a\\ncomplete change in her life and habits. I must wire to the king without\\ndelay.\"\\n\\nWe had reached Baker Street, and had stopped at the door. He was\\nsearching his pockets for the key when someone passing said:\\n\\n\"Good night, Mister Sherlock Holmes.\"\\n\\nThere were several people on the pavement at the time, but the greeting\\nappeared to come from a slim youth in an ulster who had hurried by.\\n\\n\"I\\'ve heard that voice before,\" said Holmes staring down the dimly\\nlighted street. \"Now, I wonder who the deuce that could have been?\"\\n\\n\\nIII\\n\\nI slept at Baker Street that night, and we were engaged upon our toast\\nand coffee in the morning, when the King of Bohemia rushed into the\\nroom.\\n\\n\"You have really got it?\" he cried, grasping Sherlock Holmes by either\\nshoulder, and looking eagerly into his face.\\n\\n\"Not yet.\"\\n\\n\"But you have hopes?\"\\n\\n\"I have hopes.\"\\n\\n\"Then come. I am all impatience to be gone.\"\\n\\n\"We must have a cab.\"\\n\\n\"No, my brougham is waiting.\"\\n\\n\"Then that will simplify matters.\" We descended, and started off once\\nmore for Briony Lodge.\\n\\n\"Irene Adler is married,\" remarked Holmes.\\n\\n\"Married! When?\"\\n\\n\"Yesterday.\"\\n\\n\"But to whom?\"\\n\\n\"To an English lawyer named Norton.\"\\n\\n\"But she could not love him.\"\\n\\n\"I am in hopes that she does.\"\\n\\n\"And why in hopes?\"\\n\\n\"Because it would spare your majesty all fear of future annoyance. If\\nthe lady loves her husband, she does not love your majesty. If she does\\nnot love your majesty, there is no reason why she should interfere with\\nyour majesty\\'s plan.\"\\n\\n\"It is true. And yet--Well, I wish she had been of my own station. What\\na queen she would have made!\" He relapsed into a moody silence, which\\nwas not broken until we drew up in Serpentine Avenue.\\n\\nThe door of Briony Lodge was open, and an elderly woman stood upon the\\nsteps. She watched us with a sardonic eye as we stepped from the\\nbrougham.\\n\\n\"Mr. Sherlock Holmes, I believe?\" said she.\\n\\n\"I am Mr. Holmes,\" answered my companion, looking at her with a\\nquestioning and rather startled gaze.\\n\\n\"Indeed! My mistress told me that you were likely to call. She left this\\nmorning with her husband by the 5:15 train from Charing Cross for the\\nContinent.\"\\n\\n\"What!\" Sherlock Holmes staggered back, white with chagrin and surprise.\\n\"Do you mean that she has left England?\"\\n\\n\"Never to return.\"\\n\\n\"And the papers?\" asked the King, hoarsely. \"All is lost.\"\\n\\n\"We shall see.\" He pushed past the servant and rushed into the\\ndrawing-room, followed by the King and myself. The furniture was\\nscattered about in every direction, with dismantled shelves and open\\ndrawers, as if the lady had hurriedly ransacked them before her flight.\\nHolmes rushed at the bell-pull, tore back a small sliding shutter, and,\\nplunging in his hand, pulled out a photograph and a letter. The\\nphotograph was of Irene Adler herself in evening dress, the letter was\\nsuperscribed to \"Sherlock Holmes, Esq. To be left till called for.\" My\\nfriend tore it open, and we all three read it together. It was dated at\\nmidnight of the preceding night, and ran in this way:\\n\\n     \"My dear Mr. Sherlock Holmes,--You really did it very well.\\n     You took me in completely. Until after the alarm of fire, I\\n     had not a suspicion. But then, when I found how I had betrayed\\n     myself, I began to think. I had been warned against you months\\n     ago. I had been told that, if the King employed an agent, it\\n     would certainly be you. And your address had been given me.\\n     Yet, with all this, you made me reveal what you wanted to\\n     know. Even after I became suspicious, I found it hard to think\\n     evil of such a dear, kind old clergyman. But, you know, I have\\n     been trained as an actress myself. Male costume is nothing new\\n     to me. I often take advantage of the freedom which it gives. I\\n     sent John, the coachman, to watch you, ran up-stairs, got into\\n     my walking clothes, as I call them, and came down just as you\\n     departed.\\n\\n     \"Well, I followed you to your door, and so made sure that I\\n     was really an object of interest to the celebrated Mr.\\n     Sherlock Holmes. Then I, rather imprudently, wished you\\n     good-night, and started for the Temple to see my husband.\\n\\n     \"We both thought the best resource was flight, when pursued by\\n     so formidable an antagonist; so you will find the nest empty\\n     when you call to-morrow. As to the photograph, your client may\\n     rest in peace. I love and am loved by a better man than he.\\n     The King may do what he will without hindrance from one whom\\n     he has cruelly wronged. I keep it only to safeguard myself,\\n     and to preserve a weapon which will always secure me from any\\n     steps which he might take in the future. I leave a photograph\\n     which he might care to possess; and I remain, dear Mr.\\n     Sherlock Holmes, very truly yours,\\n\\n                                      \"Irene Norton, _née_ Adler.\"\\n\\n\"What a woman--oh, what a woman!\" cried the King of Bohemia, when we had\\nall three read this epistle. \"Did I not tell you how quick and resolute\\nshe was? Would she not have made an admirable queen? Is it not a pity\\nthat she was not on my level?\"\\n\\n\"From what I have seen of the lady she seems indeed to be on a very\\ndifferent level to your Majesty,\" said Holmes, coldly. \"I am sorry that\\nI have not been able to bring your Majesty\\'s business to a more\\nsuccessful conclusion.\"\\n\\n\"On the contrary, my dear sir,\" cried the King; \"nothing could be more\\nsuccessful. I know that her word is inviolate. The photograph is now as\\nsafe as if it were in the fire.\"\\n\\n\"I am glad to hear your Majesty say so.\"\\n\\n\"I am immensely indebted to you. Pray tell me in what way I can reward\\nyou. This ring--\" He slipped an emerald snake ring from his finger and\\nheld it out upon the palm of his hand.\\n\\n\"Your Majesty has something which I should value even more highly,\" said\\nHolmes.\\n\\n\"You have but to name it.\"\\n\\n\"This photograph!\"\\n\\nThe King stared at him in amazement.\\n\\n\"Irene\\'s photograph!\" he cried. \"Certainly, if you wish it.\"\\n\\n\"I thank your Majesty. Then there is no more to be done in the matter. I\\nhave the honour to wish you a very good-morning.\" He bowed, and, turning\\naway without observing the hand which the King had stretched out to him,\\nhe set off in my company for his chambers.\\n\\n       *       *       *       *       *\\n\\nAnd that was how a great scandal threatened to affect the kingdom of\\nBohemia, and how the best plans of Mr. Sherlock Holmes were beaten by a\\nwoman\\'s wit. He used to make merry over the cleverness of women, but I\\nhave not heard him do it of late. And when he speaks of Irene Adler, or\\nwhen he refers to her photograph, it is always under the honourable\\ntitle of _the_ woman.\\n'"
      ]
     },
     "execution_count": 6,
     "metadata": {},
     "output_type": "execute_result"
    }
   ],
   "source": [
    "corpus_txt = collection.read_from_txt(doclist_txt)\n",
    "next(corpus_txt)"
   ]
  },
  {
   "cell_type": "code",
   "execution_count": 7,
   "metadata": {
    "collapsed": false
   },
   "outputs": [
    {
     "name": "stderr",
     "output_type": "stream",
     "text": [
      "31-Oct-2016 11:46:51 INFO collection: Accessing documents ...\n"
     ]
    },
    {
     "data": {
      "text/html": [
       "<div>\n",
       "<table border=\"1\" class=\"dataframe\">\n",
       "  <thead>\n",
       "    <tr style=\"text-align: right;\">\n",
       "      <th></th>\n",
       "      <th>ParagraphId</th>\n",
       "      <th>TokenId</th>\n",
       "      <th>Lemma</th>\n",
       "      <th>CPOS</th>\n",
       "      <th>NamedEntity</th>\n",
       "    </tr>\n",
       "  </thead>\n",
       "  <tbody>\n",
       "    <tr>\n",
       "      <th>0</th>\n",
       "      <td>0</td>\n",
       "      <td>0</td>\n",
       "      <td>﻿a</td>\n",
       "      <td>NP</td>\n",
       "      <td>_</td>\n",
       "    </tr>\n",
       "    <tr>\n",
       "      <th>1</th>\n",
       "      <td>0</td>\n",
       "      <td>1</td>\n",
       "      <td>study</td>\n",
       "      <td>NP</td>\n",
       "      <td>_</td>\n",
       "    </tr>\n",
       "    <tr>\n",
       "      <th>2</th>\n",
       "      <td>0</td>\n",
       "      <td>2</td>\n",
       "      <td>in</td>\n",
       "      <td>PP</td>\n",
       "      <td>_</td>\n",
       "    </tr>\n",
       "    <tr>\n",
       "      <th>3</th>\n",
       "      <td>0</td>\n",
       "      <td>3</td>\n",
       "      <td>scarlet.</td>\n",
       "      <td>NP</td>\n",
       "      <td>_</td>\n",
       "    </tr>\n",
       "    <tr>\n",
       "      <th>4</th>\n",
       "      <td>1</td>\n",
       "      <td>4</td>\n",
       "      <td>by</td>\n",
       "      <td>PP</td>\n",
       "      <td>_</td>\n",
       "    </tr>\n",
       "    <tr>\n",
       "      <th>5</th>\n",
       "      <td>1</td>\n",
       "      <td>5</td>\n",
       "      <td>a.</td>\n",
       "      <td>NP</td>\n",
       "      <td>_</td>\n",
       "    </tr>\n",
       "    <tr>\n",
       "      <th>6</th>\n",
       "      <td>1</td>\n",
       "      <td>6</td>\n",
       "      <td>conan</td>\n",
       "      <td>NP</td>\n",
       "      <td>_</td>\n",
       "    </tr>\n",
       "    <tr>\n",
       "      <th>7</th>\n",
       "      <td>1</td>\n",
       "      <td>7</td>\n",
       "      <td>doyle</td>\n",
       "      <td>NP</td>\n",
       "      <td>_</td>\n",
       "    </tr>\n",
       "    <tr>\n",
       "      <th>8</th>\n",
       "      <td>2</td>\n",
       "      <td>8</td>\n",
       "      <td>[1</td>\n",
       "      <td>CARD</td>\n",
       "      <td>_</td>\n",
       "    </tr>\n",
       "    <tr>\n",
       "      <th>9</th>\n",
       "      <td>2</td>\n",
       "      <td>9</td>\n",
       "      <td>]</td>\n",
       "      <td>PUNC</td>\n",
       "      <td>_</td>\n",
       "    </tr>\n",
       "    <tr>\n",
       "      <th>10</th>\n",
       "      <td>3</td>\n",
       "      <td>10</td>\n",
       "      <td>original</td>\n",
       "      <td>NP</td>\n",
       "      <td>_</td>\n",
       "    </tr>\n",
       "    <tr>\n",
       "      <th>11</th>\n",
       "      <td>3</td>\n",
       "      <td>11</td>\n",
       "      <td>transcriber</td>\n",
       "      <td>NP</td>\n",
       "      <td>_</td>\n",
       "    </tr>\n",
       "    <tr>\n",
       "      <th>12</th>\n",
       "      <td>3</td>\n",
       "      <td>12</td>\n",
       "      <td>'s</td>\n",
       "      <td>O</td>\n",
       "      <td>_</td>\n",
       "    </tr>\n",
       "    <tr>\n",
       "      <th>13</th>\n",
       "      <td>3</td>\n",
       "      <td>13</td>\n",
       "      <td>note</td>\n",
       "      <td>NP</td>\n",
       "      <td>_</td>\n",
       "    </tr>\n",
       "    <tr>\n",
       "      <th>14</th>\n",
       "      <td>3</td>\n",
       "      <td>14</td>\n",
       "      <td>:</td>\n",
       "      <td>PUNC</td>\n",
       "      <td>_</td>\n",
       "    </tr>\n",
       "    <tr>\n",
       "      <th>15</th>\n",
       "      <td>3</td>\n",
       "      <td>15</td>\n",
       "      <td>this</td>\n",
       "      <td>ART</td>\n",
       "      <td>_</td>\n",
       "    </tr>\n",
       "    <tr>\n",
       "      <th>16</th>\n",
       "      <td>3</td>\n",
       "      <td>16</td>\n",
       "      <td>etext</td>\n",
       "      <td>NN</td>\n",
       "      <td>_</td>\n",
       "    </tr>\n",
       "    <tr>\n",
       "      <th>17</th>\n",
       "      <td>3</td>\n",
       "      <td>17</td>\n",
       "      <td>be</td>\n",
       "      <td>V</td>\n",
       "      <td>_</td>\n",
       "    </tr>\n",
       "    <tr>\n",
       "      <th>18</th>\n",
       "      <td>3</td>\n",
       "      <td>18</td>\n",
       "      <td>prepare</td>\n",
       "      <td>V</td>\n",
       "      <td>_</td>\n",
       "    </tr>\n",
       "    <tr>\n",
       "      <th>19</th>\n",
       "      <td>3</td>\n",
       "      <td>19</td>\n",
       "      <td>directly</td>\n",
       "      <td>ADV</td>\n",
       "      <td>_</td>\n",
       "    </tr>\n",
       "    <tr>\n",
       "      <th>20</th>\n",
       "      <td>3</td>\n",
       "      <td>20</td>\n",
       "      <td>from</td>\n",
       "      <td>PP</td>\n",
       "      <td>_</td>\n",
       "    </tr>\n",
       "    <tr>\n",
       "      <th>21</th>\n",
       "      <td>3</td>\n",
       "      <td>21</td>\n",
       "      <td>an</td>\n",
       "      <td>ART</td>\n",
       "      <td>_</td>\n",
       "    </tr>\n",
       "    <tr>\n",
       "      <th>22</th>\n",
       "      <td>3</td>\n",
       "      <td>22</td>\n",
       "      <td>1887</td>\n",
       "      <td>CARD</td>\n",
       "      <td>_</td>\n",
       "    </tr>\n",
       "    <tr>\n",
       "      <th>23</th>\n",
       "      <td>3</td>\n",
       "      <td>23</td>\n",
       "      <td>edition</td>\n",
       "      <td>NN</td>\n",
       "      <td>_</td>\n",
       "    </tr>\n",
       "    <tr>\n",
       "      <th>24</th>\n",
       "      <td>3</td>\n",
       "      <td>24</td>\n",
       "      <td>,</td>\n",
       "      <td>PUNC</td>\n",
       "      <td>_</td>\n",
       "    </tr>\n",
       "    <tr>\n",
       "      <th>25</th>\n",
       "      <td>3</td>\n",
       "      <td>25</td>\n",
       "      <td>and</td>\n",
       "      <td>CONJ</td>\n",
       "      <td>_</td>\n",
       "    </tr>\n",
       "    <tr>\n",
       "      <th>26</th>\n",
       "      <td>3</td>\n",
       "      <td>26</td>\n",
       "      <td>care</td>\n",
       "      <td>NN</td>\n",
       "      <td>_</td>\n",
       "    </tr>\n",
       "    <tr>\n",
       "      <th>27</th>\n",
       "      <td>3</td>\n",
       "      <td>27</td>\n",
       "      <td>have</td>\n",
       "      <td>V</td>\n",
       "      <td>_</td>\n",
       "    </tr>\n",
       "    <tr>\n",
       "      <th>28</th>\n",
       "      <td>3</td>\n",
       "      <td>28</td>\n",
       "      <td>be</td>\n",
       "      <td>V</td>\n",
       "      <td>_</td>\n",
       "    </tr>\n",
       "    <tr>\n",
       "      <th>29</th>\n",
       "      <td>3</td>\n",
       "      <td>29</td>\n",
       "      <td>take</td>\n",
       "      <td>V</td>\n",
       "      <td>_</td>\n",
       "    </tr>\n",
       "    <tr>\n",
       "      <th>...</th>\n",
       "      <td>...</td>\n",
       "      <td>...</td>\n",
       "      <td>...</td>\n",
       "      <td>...</td>\n",
       "      <td>...</td>\n",
       "    </tr>\n",
       "    <tr>\n",
       "      <th>51432</th>\n",
       "      <td>814</td>\n",
       "      <td>51432</td>\n",
       "      <td>content</td>\n",
       "      <td>V</td>\n",
       "      <td>_</td>\n",
       "    </tr>\n",
       "    <tr>\n",
       "      <th>51433</th>\n",
       "      <td>814</td>\n",
       "      <td>51433</td>\n",
       "      <td>by</td>\n",
       "      <td>PP</td>\n",
       "      <td>_</td>\n",
       "    </tr>\n",
       "    <tr>\n",
       "      <th>51434</th>\n",
       "      <td>814</td>\n",
       "      <td>51434</td>\n",
       "      <td>the</td>\n",
       "      <td>ART</td>\n",
       "      <td>_</td>\n",
       "    </tr>\n",
       "    <tr>\n",
       "      <th>51435</th>\n",
       "      <td>814</td>\n",
       "      <td>51435</td>\n",
       "      <td>consciousness</td>\n",
       "      <td>NN</td>\n",
       "      <td>_</td>\n",
       "    </tr>\n",
       "    <tr>\n",
       "      <th>51436</th>\n",
       "      <td>814</td>\n",
       "      <td>51436</td>\n",
       "      <td>of</td>\n",
       "      <td>PP</td>\n",
       "      <td>_</td>\n",
       "    </tr>\n",
       "    <tr>\n",
       "      <th>51437</th>\n",
       "      <td>814</td>\n",
       "      <td>51437</td>\n",
       "      <td>success</td>\n",
       "      <td>NN</td>\n",
       "      <td>_</td>\n",
       "    </tr>\n",
       "    <tr>\n",
       "      <th>51438</th>\n",
       "      <td>814</td>\n",
       "      <td>51438</td>\n",
       "      <td>,</td>\n",
       "      <td>PUNC</td>\n",
       "      <td>_</td>\n",
       "    </tr>\n",
       "    <tr>\n",
       "      <th>51439</th>\n",
       "      <td>814</td>\n",
       "      <td>51439</td>\n",
       "      <td>like</td>\n",
       "      <td>PP</td>\n",
       "      <td>_</td>\n",
       "    </tr>\n",
       "    <tr>\n",
       "      <th>51440</th>\n",
       "      <td>814</td>\n",
       "      <td>51440</td>\n",
       "      <td>the</td>\n",
       "      <td>ART</td>\n",
       "      <td>_</td>\n",
       "    </tr>\n",
       "    <tr>\n",
       "      <th>51441</th>\n",
       "      <td>814</td>\n",
       "      <td>51441</td>\n",
       "      <td>roman</td>\n",
       "      <td>NP</td>\n",
       "      <td>_</td>\n",
       "    </tr>\n",
       "    <tr>\n",
       "      <th>51442</th>\n",
       "      <td>814</td>\n",
       "      <td>51442</td>\n",
       "      <td>miser--</td>\n",
       "      <td>NN</td>\n",
       "      <td>_</td>\n",
       "    </tr>\n",
       "    <tr>\n",
       "      <th>51443</th>\n",
       "      <td>815</td>\n",
       "      <td>51443</td>\n",
       "      <td>\"</td>\n",
       "      <td>NN</td>\n",
       "      <td>_</td>\n",
       "    </tr>\n",
       "    <tr>\n",
       "      <th>51444</th>\n",
       "      <td>815</td>\n",
       "      <td>51444</td>\n",
       "      <td>'populus</td>\n",
       "      <td>V</td>\n",
       "      <td>_</td>\n",
       "    </tr>\n",
       "    <tr>\n",
       "      <th>51445</th>\n",
       "      <td>815</td>\n",
       "      <td>51445</td>\n",
       "      <td>me</td>\n",
       "      <td>PR</td>\n",
       "      <td>_</td>\n",
       "    </tr>\n",
       "    <tr>\n",
       "      <th>51446</th>\n",
       "      <td>815</td>\n",
       "      <td>51446</td>\n",
       "      <td>sibilat</td>\n",
       "      <td>V</td>\n",
       "      <td>_</td>\n",
       "    </tr>\n",
       "    <tr>\n",
       "      <th>51447</th>\n",
       "      <td>815</td>\n",
       "      <td>51447</td>\n",
       "      <td>,</td>\n",
       "      <td>PUNC</td>\n",
       "      <td>_</td>\n",
       "    </tr>\n",
       "    <tr>\n",
       "      <th>51448</th>\n",
       "      <td>815</td>\n",
       "      <td>51448</td>\n",
       "      <td>at</td>\n",
       "      <td>PP</td>\n",
       "      <td>_</td>\n",
       "    </tr>\n",
       "    <tr>\n",
       "      <th>51449</th>\n",
       "      <td>815</td>\n",
       "      <td>51449</td>\n",
       "      <td>mihi</td>\n",
       "      <td>NN</td>\n",
       "      <td>_</td>\n",
       "    </tr>\n",
       "    <tr>\n",
       "      <th>51450</th>\n",
       "      <td>815</td>\n",
       "      <td>51450</td>\n",
       "      <td>plaudo</td>\n",
       "      <td>NN</td>\n",
       "      <td>_</td>\n",
       "    </tr>\n",
       "    <tr>\n",
       "      <th>51451</th>\n",
       "      <td>815</td>\n",
       "      <td>51451</td>\n",
       "      <td>ipse</td>\n",
       "      <td>NN</td>\n",
       "      <td>_</td>\n",
       "    </tr>\n",
       "    <tr>\n",
       "      <th>51452</th>\n",
       "      <td>815</td>\n",
       "      <td>51452</td>\n",
       "      <td>domi</td>\n",
       "      <td>V</td>\n",
       "      <td>_</td>\n",
       "    </tr>\n",
       "    <tr>\n",
       "      <th>51453</th>\n",
       "      <td>815</td>\n",
       "      <td>51453</td>\n",
       "      <td>simul</td>\n",
       "      <td>ADJ</td>\n",
       "      <td>_</td>\n",
       "    </tr>\n",
       "    <tr>\n",
       "      <th>51454</th>\n",
       "      <td>815</td>\n",
       "      <td>51454</td>\n",
       "      <td>ac</td>\n",
       "      <td>ADJ</td>\n",
       "      <td>_</td>\n",
       "    </tr>\n",
       "    <tr>\n",
       "      <th>51455</th>\n",
       "      <td>815</td>\n",
       "      <td>51455</td>\n",
       "      <td>nummo</td>\n",
       "      <td>NN</td>\n",
       "      <td>_</td>\n",
       "    </tr>\n",
       "    <tr>\n",
       "      <th>51456</th>\n",
       "      <td>815</td>\n",
       "      <td>51456</td>\n",
       "      <td>contemplor</td>\n",
       "      <td>NN</td>\n",
       "      <td>_</td>\n",
       "    </tr>\n",
       "    <tr>\n",
       "      <th>51457</th>\n",
       "      <td>815</td>\n",
       "      <td>51457</td>\n",
       "      <td>in</td>\n",
       "      <td>PP</td>\n",
       "      <td>_</td>\n",
       "    </tr>\n",
       "    <tr>\n",
       "      <th>51458</th>\n",
       "      <td>815</td>\n",
       "      <td>51458</td>\n",
       "      <td>arca</td>\n",
       "      <td>NN</td>\n",
       "      <td>_</td>\n",
       "    </tr>\n",
       "    <tr>\n",
       "      <th>51459</th>\n",
       "      <td>815</td>\n",
       "      <td>51459</td>\n",
       "      <td>.</td>\n",
       "      <td>PUNC</td>\n",
       "      <td>_</td>\n",
       "    </tr>\n",
       "    <tr>\n",
       "      <th>51460</th>\n",
       "      <td>815</td>\n",
       "      <td>51460</td>\n",
       "      <td>'</td>\n",
       "      <td>PUNC</td>\n",
       "      <td>_</td>\n",
       "    </tr>\n",
       "    <tr>\n",
       "      <th>51461</th>\n",
       "      <td>815</td>\n",
       "      <td>51461</td>\n",
       "      <td>\"</td>\n",
       "      <td>NN</td>\n",
       "      <td>_</td>\n",
       "    </tr>\n",
       "  </tbody>\n",
       "</table>\n",
       "<p>51462 rows × 5 columns</p>\n",
       "</div>"
      ],
      "text/plain": [
       "       ParagraphId  TokenId          Lemma  CPOS NamedEntity\n",
       "0                0        0             ﻿a    NP           _\n",
       "1                0        1          study    NP           _\n",
       "2                0        2             in    PP           _\n",
       "3                0        3       scarlet.    NP           _\n",
       "4                1        4             by    PP           _\n",
       "5                1        5             a.    NP           _\n",
       "6                1        6          conan    NP           _\n",
       "7                1        7          doyle    NP           _\n",
       "8                2        8             [1  CARD           _\n",
       "9                2        9              ]  PUNC           _\n",
       "10               3       10       original    NP           _\n",
       "11               3       11    transcriber    NP           _\n",
       "12               3       12             's     O           _\n",
       "13               3       13           note    NP           _\n",
       "14               3       14              :  PUNC           _\n",
       "15               3       15           this   ART           _\n",
       "16               3       16          etext    NN           _\n",
       "17               3       17             be     V           _\n",
       "18               3       18        prepare     V           _\n",
       "19               3       19       directly   ADV           _\n",
       "20               3       20           from    PP           _\n",
       "21               3       21             an   ART           _\n",
       "22               3       22           1887  CARD           _\n",
       "23               3       23        edition    NN           _\n",
       "24               3       24              ,  PUNC           _\n",
       "25               3       25            and  CONJ           _\n",
       "26               3       26           care    NN           _\n",
       "27               3       27           have     V           _\n",
       "28               3       28             be     V           _\n",
       "29               3       29           take     V           _\n",
       "...            ...      ...            ...   ...         ...\n",
       "51432          814    51432        content     V           _\n",
       "51433          814    51433             by    PP           _\n",
       "51434          814    51434            the   ART           _\n",
       "51435          814    51435  consciousness    NN           _\n",
       "51436          814    51436             of    PP           _\n",
       "51437          814    51437        success    NN           _\n",
       "51438          814    51438              ,  PUNC           _\n",
       "51439          814    51439           like    PP           _\n",
       "51440          814    51440            the   ART           _\n",
       "51441          814    51441          roman    NP           _\n",
       "51442          814    51442        miser--    NN           _\n",
       "51443          815    51443              \"    NN           _\n",
       "51444          815    51444       'populus     V           _\n",
       "51445          815    51445             me    PR           _\n",
       "51446          815    51446        sibilat     V           _\n",
       "51447          815    51447              ,  PUNC           _\n",
       "51448          815    51448             at    PP           _\n",
       "51449          815    51449           mihi    NN           _\n",
       "51450          815    51450         plaudo    NN           _\n",
       "51451          815    51451           ipse    NN           _\n",
       "51452          815    51452           domi     V           _\n",
       "51453          815    51453          simul   ADJ           _\n",
       "51454          815    51454             ac   ADJ           _\n",
       "51455          815    51455          nummo    NN           _\n",
       "51456          815    51456     contemplor    NN           _\n",
       "51457          815    51457             in    PP           _\n",
       "51458          815    51458           arca    NN           _\n",
       "51459          815    51459              .  PUNC           _\n",
       "51460          815    51460              '  PUNC           _\n",
       "51461          815    51461              \"    NN           _\n",
       "\n",
       "[51462 rows x 5 columns]"
      ]
     },
     "execution_count": 7,
     "metadata": {},
     "output_type": "execute_result"
    }
   ],
   "source": [
    "corpus_csv = collection.read_from_csv(doclist_csv)\n",
    "next(corpus_csv)"
   ]
  },
  {
   "cell_type": "markdown",
   "metadata": {},
   "source": [
    "##### Segmenter"
   ]
  },
  {
   "cell_type": "code",
   "execution_count": 8,
   "metadata": {
    "collapsed": false
   },
   "outputs": [
    {
     "name": "stderr",
     "output_type": "stream",
     "text": [
      "31-Oct-2016 11:46:51 INFO collection: Segmenting document ...\n"
     ]
    },
    {
     "data": {
      "text/plain": [
       "\"A STUDY IN SCARLET.\\n\\nBy A. Conan Doyle\\n\\n\\n     Original Transcriber's Note: This etext is prepared directly\\n     from an 1887 edition, and care has been taken to duplicate the\\n     original exactly, including typographical and punctuation\\n     vagaries.\\n\\n     Additions to the text include adding the underscore character to\\n     indicate italics, and textual end-notes in square braces.\\n\\n     Project Gutenberg Editor's Note: In reproofing and moving old PG\\n     files such as this to the present PG directory system it is the\\n     policy to reformat the text to conform to present PG Standards.\\n     In this case however, in consideration of the note above of the\\n     original transcriber describing his care to try to duplicate the\\n     original 1887 edition as to typography and punctuation vagaries,\\n     no changes have been made in this ascii text file. However, in\\n     the Latin-1 file and this html file, present standards are\\n     followed and the several French and Spanish words have bee\""
      ]
     },
     "execution_count": 8,
     "metadata": {},
     "output_type": "execute_result"
    }
   ],
   "source": [
    "segments = collection.segmenter(corpus_txt, 1000)\n",
    "next(segments)"
   ]
  },
  {
   "cell_type": "code",
   "execution_count": 9,
   "metadata": {
    "collapsed": false
   },
   "outputs": [
    {
     "data": {
      "text/plain": [
       "\"n\\n     given their proper accents.\\n\\n\\t Part II, The Country of the Saints, deals much with the Mormon Church.\\n\\n\\n\\n\\nA STUDY IN SCARLET.\\n\\n\\n\\n\\n\\nPART I.\\n\\n(_Being a reprint from the reminiscences of_ JOHN H. WATSON, M.D., _late\\nof the Army Medical Department._) [2]\\n\\n\\n\\n\\nCHAPTER I. MR. SHERLOCK HOLMES.\\n\\n\\nIN the year 1878 I took my degree of Doctor of Medicine of the\\nUniversity of London, and proceeded to Netley to go through the course\\nprescribed for surgeons in the army. Having completed my studies there,\\nI was duly attached to the Fifth Northumberland Fusiliers as Assistant\\nSurgeon. The regiment was stationed in India at the time, and before\\nI could join it, the second Afghan war had broken out. On landing at\\nBombay, I learned that my corps had advanced through the passes, and\\nwas already deep in the enemy's country. I followed, however, with many\\nother officers who were in the same situation as myself, and succeeded\\nin reaching Candahar in safety, where I found my regiment, and at once\\nentere\""
      ]
     },
     "execution_count": 9,
     "metadata": {},
     "output_type": "execute_result"
    }
   ],
   "source": [
    "next(segments)"
   ]
  },
  {
   "cell_type": "markdown",
   "metadata": {},
   "source": [
    "##### Lemmas anhand POS-Tags auswählen"
   ]
  },
  {
   "cell_type": "code",
   "execution_count": 10,
   "metadata": {
    "collapsed": false
   },
   "outputs": [
    {
     "name": "stderr",
     "output_type": "stream",
     "text": [
      "31-Oct-2016 11:46:51 INFO collection: Accessing ['ADJ', 'V', 'NN'] lemmas ...\n"
     ]
    },
    {
     "data": {
      "text/plain": [
       "37       typographical\n",
       "56             textual\n",
       "59              square\n",
       "72                 old\n",
       "75                such\n",
       "80             present\n",
       "112           original\n",
       "122           original\n",
       "139              ascii\n",
       "147            latin-1\n",
       "154            present\n",
       "161             french\n",
       "163            spanish\n",
       "169             proper\n",
       "294             second\n",
       "320               deep\n",
       "334              other\n",
       "340               same\n",
       "365                new\n",
       "406              fatal\n",
       "430         subclavian\n",
       "442          murderous\n",
       "458            orderly\n",
       "475            british\n",
       "483               weak\n",
       "486          prolonged\n",
       "499              great\n",
       "525               able\n",
       "537             little\n",
       "548            enteric\n",
       "             ...      \n",
       "50767     irresistible\n",
       "50813           sudden\n",
       "50817           likely\n",
       "50833            least\n",
       "50870         original\n",
       "50878             arab\n",
       "50879        detective\n",
       "50918            fresh\n",
       "50933       unexpected\n",
       "50973            whole\n",
       "50979          logical\n",
       "50991        wonderful\n",
       "51095      sensational\n",
       "51099           sudden\n",
       "51139             good\n",
       "51149              old\n",
       "51152         romantic\n",
       "51174          younger\n",
       "51203            other\n",
       "51209            least\n",
       "51216         striking\n",
       "51222        detective\n",
       "51254          british\n",
       "51260             open\n",
       "51267            smart\n",
       "51296          certain\n",
       "51314        detective\n",
       "51355          fitting\n",
       "51453            simul\n",
       "51454               ac\n",
       "Name: Lemma, dtype: object"
      ]
     },
     "execution_count": 10,
     "metadata": {},
     "output_type": "execute_result"
    }
   ],
   "source": [
    "lemmas = collection.filter_POS_tags(doclist_csv)\n",
    "next(lemmas)"
   ]
  },
  {
   "cell_type": "code",
   "execution_count": 11,
   "metadata": {
    "collapsed": false
   },
   "outputs": [
    {
     "name": "stderr",
     "output_type": "stream",
     "text": [
      "31-Oct-2016 11:46:51 INFO collection: Creating document labels ...\n",
      "31-Oct-2016 11:46:51 DEBUG collection: Document labels available.\n"
     ]
    },
    {
     "data": {
      "text/plain": [
       "['Doyle_AScandalinBohemia.txt',\n",
       " 'Doyle_AStudyinScarlet.txt',\n",
       " 'Doyle_TheHoundoftheBaskervilles.txt',\n",
       " 'Doyle_TheSignoftheFour.txt',\n",
       " 'Howard_GodsoftheNorth.txt',\n",
       " 'Howard_SchadowsinZamboula.txt',\n",
       " 'Howard_ShadowsintheMoonlight.txt',\n",
       " 'Howard_TheDevilinIron.txt',\n",
       " 'Kipling_TheEndofthePassage.txt',\n",
       " 'Kipling_TheJungleBook.txt',\n",
       " 'Kipling_ThyServantaDog.txt',\n",
       " 'Lovecraft_AttheMountainofMadness.txt',\n",
       " 'Lovecraft_TheShunnedHouse.txt',\n",
       " 'Poe_EurekaAProsePoem.txt',\n",
       " 'Poe_TheCaskofAmontillado.txt',\n",
       " 'Poe_TheMasqueoftheRedDeath.txt',\n",
       " 'Poe_ThePurloinedLetter.txt']"
      ]
     },
     "execution_count": 11,
     "metadata": {},
     "output_type": "execute_result"
    }
   ],
   "source": [
    "labels = collection.get_labels(doclist_txt)\n",
    "list(labels)"
   ]
  },
  {
   "cell_type": "markdown",
   "metadata": {},
   "source": [
    "##### Visualisierung"
   ]
  },
  {
   "cell_type": "code",
   "execution_count": 12,
   "metadata": {
    "collapsed": false
   },
   "outputs": [
    {
     "name": "stderr",
     "output_type": "stream",
     "text": [
      "31-Oct-2016 11:46:51 INFO collection: Accessing corpus ...\n",
      "31-Oct-2016 11:46:51 INFO gensim.corpora.indexedcorpus: loaded corpus index from out/corpus.mm.index\n",
      "31-Oct-2016 11:46:51 INFO gensim.matutils: initializing corpus reader from out/corpus.mm\n",
      "31-Oct-2016 11:46:51 INFO gensim.matutils: accepted corpus with 17 documents, 514 features, 4585 non-zero entries\n",
      "31-Oct-2016 11:46:51 DEBUG collection: Corpus available.\n",
      "31-Oct-2016 11:46:51 INFO collection: Accessing model ...\n",
      "31-Oct-2016 11:46:52 INFO gensim.utils: loading LdaModel object from out/corpus.lda\n",
      "31-Oct-2016 11:46:52 INFO gensim.utils: loading id2word recursively from out/corpus.lda.id2word.* with mmap=None\n",
      "31-Oct-2016 11:46:52 INFO gensim.utils: setting ignored attribute state to None\n",
      "31-Oct-2016 11:46:52 INFO gensim.utils: setting ignored attribute dispatcher to None\n",
      "31-Oct-2016 11:46:52 INFO gensim.utils: loading LdaModel object from out/corpus.lda.state\n",
      "31-Oct-2016 11:46:52 DEBUG collection: Model available.\n",
      "31-Oct-2016 11:46:52 DEBUG collection: :param: interactive == False.\n",
      "31-Oct-2016 11:46:52 INFO collection: Accessing doc_labels ...\n",
      "31-Oct-2016 11:46:52 DEBUG collection: doc_labels accessed.\n",
      "31-Oct-2016 11:46:52 DEBUG collection: 24 doc_labels available.\n",
      "31-Oct-2016 11:46:52 DEBUG collection: Corpus, model and doc_labels available.\n"
     ]
    }
   ],
   "source": [
    "# Da `out_off` kaputt ist, wird vorübergehend das model aus `out` verwendet (stammt aus dem )\n",
    "\n",
    "lda_model = 'out/corpus.lda'\n",
    "corpus = 'out/corpus.mm'\n",
    "dictionary = 'out/corpus.dict'\n",
    "doc_labels = 'out/corpus_doclabels.txt'\n",
    "interactive  = False\n",
    "\n",
    "vis = collection.Visualization(lda_model, corpus, dictionary, doc_labels, interactive)"
   ]
  },
  {
   "cell_type": "code",
   "execution_count": 13,
   "metadata": {
    "collapsed": false
   },
   "outputs": [
    {
     "name": "stderr",
     "output_type": "stream",
     "text": [
      "31-Oct-2016 11:46:52 INFO collection: Accessing topic distribution ...\n",
      "31-Oct-2016 11:46:52 DEBUG collection: Topic distribution available.\n",
      "31-Oct-2016 11:46:52 INFO collection: Accessing topic probability ...\n",
      "31-Oct-2016 11:46:52 DEBUG collection: Topic probability available.\n",
      "31-Oct-2016 11:46:52 INFO collection: Accessing plot labels ...\n",
      "31-Oct-2016 11:46:52 DEBUG collection: 10 plot labels available.\n",
      "31-Oct-2016 11:46:52 INFO collection: Creating heatmap figure ...\n",
      "31-Oct-2016 11:46:52 DEBUG collection: Heatmap figure available.\n"
     ]
    }
   ],
   "source": [
    "heatmap = vis.make_heatmap()"
   ]
  },
  {
   "cell_type": "code",
   "execution_count": 14,
   "metadata": {
    "collapsed": false
   },
   "outputs": [
    {
     "name": "stderr",
     "output_type": "stream",
     "text": [
      "31-Oct-2016 11:46:52 INFO collection: Saving heatmap figure...\n",
      "31-Oct-2016 11:46:53 DEBUG collection: Heatmap figure available at ./heatmap/heatmap.png\n"
     ]
    }
   ],
   "source": [
    "vis.save_heatmap(\"./heatmap\")"
   ]
  },
  {
   "cell_type": "code",
   "execution_count": 15,
   "metadata": {
    "collapsed": false
   },
   "outputs": [
    {
     "name": "stderr",
     "output_type": "stream",
     "text": [
      "31-Oct-2016 11:46:53 INFO collection: Accessing corpus ...\n",
      "31-Oct-2016 11:46:53 INFO gensim.corpora.indexedcorpus: loaded corpus index from out/corpus.mm.index\n",
      "31-Oct-2016 11:46:53 INFO gensim.matutils: initializing corpus reader from out/corpus.mm\n",
      "31-Oct-2016 11:46:53 INFO gensim.matutils: accepted corpus with 17 documents, 514 features, 4585 non-zero entries\n",
      "31-Oct-2016 11:46:53 DEBUG collection: Corpus available.\n",
      "31-Oct-2016 11:46:53 INFO collection: Accessing model ...\n",
      "31-Oct-2016 11:46:53 INFO gensim.utils: loading LdaModel object from out/corpus.lda\n",
      "31-Oct-2016 11:46:53 INFO gensim.utils: loading id2word recursively from out/corpus.lda.id2word.* with mmap=None\n",
      "31-Oct-2016 11:46:53 INFO gensim.utils: setting ignored attribute state to None\n",
      "31-Oct-2016 11:46:53 INFO gensim.utils: setting ignored attribute dispatcher to None\n",
      "31-Oct-2016 11:46:53 INFO gensim.utils: loading LdaModel object from out/corpus.lda.state\n",
      "31-Oct-2016 11:46:53 DEBUG collection: Model available.\n",
      "31-Oct-2016 11:46:53 DEBUG collection: :param: interactive == True.\n",
      "31-Oct-2016 11:46:53 INFO collection: Accessing dictionary ...\n",
      "31-Oct-2016 11:46:53 INFO gensim.utils: loading Dictionary object from out/corpus.dict\n",
      "31-Oct-2016 11:46:53 DEBUG collection: Dictionary available.\n",
      "31-Oct-2016 11:46:53 DEBUG collection: Corpus, model and dictionary available.\n"
     ]
    }
   ],
   "source": [
    "vis = collection.Visualization(lda_model, corpus, dictionary, doc_labels, interactive=True)"
   ]
  },
  {
   "cell_type": "code",
   "execution_count": 16,
   "metadata": {
    "collapsed": false
   },
   "outputs": [
    {
     "name": "stderr",
     "output_type": "stream",
     "text": [
      "31-Oct-2016 11:46:53 INFO collection: Accessing model, corpus and dictionary ...\n",
      "31-Oct-2016 11:46:53 DEBUG gensim.models.ldamodel: performing inference on a chunk of 17 documents\n",
      "31-Oct-2016 11:46:53 DEBUG gensim.models.ldamodel: 6/17 documents converged within 50 iterations\n",
      "31-Oct-2016 11:46:54 DEBUG collection: Interactive visualization available.\n"
     ]
    },
    {
     "data": {
      "text/plain": [
       "PreparedData(topic_coordinates=            Freq  cluster  topics         x         y\n",
       "topic                                                \n",
       "7      27.058999        1       1 -0.075211 -0.025171\n",
       "9      22.833719        1       2 -0.025198 -0.014362\n",
       "5      21.710310        1       3 -0.004458 -0.051356\n",
       "1       9.727575        1       4 -0.104193  0.098594\n",
       "6       7.893420        1       5 -0.044275 -0.008588\n",
       "8       7.809108        1       6  0.059118 -0.035025\n",
       "0       2.421148        1       7 -0.019533 -0.062575\n",
       "4       0.536127        1       8  0.079791  0.127263\n",
       "2       0.004798        1       9  0.058706 -0.016217\n",
       "3       0.004798        1      10  0.075253 -0.012564, topic_info=     Category        Freq     Term       Total  loglift  logprob\n",
       "term                                                            \n",
       "35    Default  473.000000   holmes  473.000000  30.0000  30.0000\n",
       "473   Default  994.000000      man  994.000000  29.0000  29.0000\n",
       "99    Default  310.000000    house  310.000000  28.0000  28.0000\n",
       "247   Default  928.000000     will  928.000000  27.0000  27.0000\n",
       "483   Default  569.000000     time  569.000000  26.0000  26.0000\n",
       "280   Default  465.000000    great  465.000000  25.0000  25.0000\n",
       "138   Default  509.000000     well  509.000000  24.0000  24.0000\n",
       "206   Default  325.000000     hand  325.000000  23.0000  23.0000\n",
       "396   Default  159.000000   watson  159.000000  22.0000  22.0000\n",
       "190   Default  400.000000    night  400.000000  21.0000  21.0000\n",
       "118   Default  263.000000   things  263.000000  20.0000  20.0000\n",
       "411   Default  303.000000     face  303.000000  19.0000  19.0000\n",
       "38    Default  434.000000     long  434.000000  18.0000  18.0000\n",
       "41    Default  167.000000   street  167.000000  17.0000  17.0000\n",
       "155   Default  382.000000     head  382.000000  16.0000  16.0000\n",
       "57    Default  190.000000    stood  190.000000  15.0000  15.0000\n",
       "44    Default  262.000000     door  262.000000  14.0000  14.0000\n",
       "196   Default  414.000000     eyes  414.000000  13.0000  13.0000\n",
       "445   Default  281.000000  thought  281.000000  12.0000  12.0000\n",
       "76    Default  263.000000    black  263.000000  11.0000  11.0000\n",
       "213   Default  252.000000     half  252.000000  10.0000  10.0000\n",
       "471   Default  237.000000    three  237.000000   9.0000   9.0000\n",
       "219   Default  237.000000    small  237.000000   8.0000   8.0000\n",
       "27    Default  224.000000     room  224.000000   7.0000   7.0000\n",
       "132   Default  237.000000     life  237.000000   6.0000   6.0000\n",
       "17    Default  250.000000     case  250.000000   5.0000   5.0000\n",
       "503   Default  225.000000    white  225.000000   4.0000   4.0000\n",
       "144   Default  249.000000    thing  249.000000   3.0000   3.0000\n",
       "256   Default  234.000000     told  234.000000   2.0000   2.0000\n",
       "391   Default  169.000000   friend  169.000000   1.0000   1.0000\n",
       "...       ...         ...      ...         ...      ...      ...\n",
       "483   Topic10    0.009359     time  569.356291  -1.0711  -5.2006\n",
       "35    Topic10    0.007979   holmes  473.866509  -1.0470  -5.3601\n",
       "256   Topic10    0.006490     told  234.000615  -0.5480  -5.5667\n",
       "99    Topic10    0.006821    house  310.200150  -0.7802  -5.5170\n",
       "38    Topic10    0.007211     long  434.251728  -1.0610  -5.4614\n",
       "155   Topic10    0.006975     head  382.404328  -0.9671  -5.4947\n",
       "280   Topic10    0.007197    great  465.226830  -1.1318  -5.4633\n",
       "503   Topic10    0.005978    white  225.818140  -0.5947  -5.6489\n",
       "196   Topic10    0.006688     eyes  414.130076  -1.0888  -5.5367\n",
       "190   Topic10    0.006527    night  400.398047  -1.0794  -5.5610\n",
       "118   Topic10    0.005990   things  263.286241  -0.7460  -5.6468\n",
       "219   Topic10    0.005844    small  237.802590  -0.6691  -5.6716\n",
       "411   Topic10    0.006067     face  303.665628  -0.8760  -5.6341\n",
       "316   Topic10    0.005534    young  188.056942  -0.4888  -5.7261\n",
       "302   Topic10    0.006043     good  336.763220  -0.9834  -5.6381\n",
       "213   Topic10    0.005669     half  252.253035  -0.7584  -5.7020\n",
       "132   Topic10    0.005571     life  237.403756  -0.7152  -5.7195\n",
       "61    Topic10    0.005712      day  298.016680  -0.9175  -5.6944\n",
       "27    Topic10    0.005442     room  224.687826  -0.6836  -5.7429\n",
       "52    Topic10    0.005383    round  216.154470  -0.6556  -5.7536\n",
       "395   Topic10    0.005441   looked  234.234347  -0.7253  -5.7430\n",
       "86    Topic10    0.005095   called  157.402291  -0.3934  -5.8087\n",
       "250   Topic10    0.005368      don  225.080934  -0.6990  -5.7566\n",
       "17    Topic10    0.005445     case  250.297456  -0.7910  -5.7423\n",
       "403   Topic10    0.005532    heard  279.046998  -0.8838  -5.7264\n",
       "505   Topic10    0.005103    years  173.036674  -0.4865  -5.8071\n",
       "376   Topic10    0.005213      lay  199.198516  -0.6062  -5.7859\n",
       "144   Topic10    0.005372    thing  249.216331  -0.8001  -5.7558\n",
       "206   Topic10    0.005471     hand  325.406641  -1.0486  -5.7375\n",
       "445   Topic10    0.005361  thought  281.897022  -0.9253  -5.7578\n",
       "\n",
       "[650 rows x 6 columns], token_table=      Topic      Freq        Term\n",
       "term                             \n",
       "301       6  0.658684         _g_\n",
       "224       6  0.881336         _p_\n",
       "192       6  0.883854         _t_\n",
       "116       1  0.694354  absolutely\n",
       "116       2  0.077150  absolutely\n",
       "116       3  0.025717  absolutely\n",
       "116       5  0.077150  absolutely\n",
       "116       6  0.128584  absolutely\n",
       "291       1  0.583418     account\n",
       "291       2  0.114600     account\n",
       "291       3  0.104182     account\n",
       "291       5  0.093764     account\n",
       "291       6  0.031255     account\n",
       "291       7  0.052091     account\n",
       "291       8  0.010418     account\n",
       "366       6  0.637746    adjusted\n",
       "353       6  0.850798       adler\n",
       "308       5  0.301039   admirably\n",
       "308       6  0.301039   admirably\n",
       "245       1  0.309927         ago\n",
       "245       2  0.137745         ago\n",
       "245       3  0.057394         ago\n",
       "245       4  0.091830         ago\n",
       "245       5  0.332885         ago\n",
       "245       6  0.034436         ago\n",
       "245       7  0.034436         ago\n",
       "398       1  0.194806         air\n",
       "398       2  0.239081         air\n",
       "398       3  0.177097         air\n",
       "398       4  0.097403         air\n",
       "...     ...       ...         ...\n",
       "347       2  0.226838        word\n",
       "347       3  0.166793        word\n",
       "347       4  0.033359        word\n",
       "347       5  0.053374        word\n",
       "347       6  0.040030        word\n",
       "48        1  0.308209        work\n",
       "48        2  0.324720        work\n",
       "48        3  0.132090        work\n",
       "48        4  0.027519        work\n",
       "48        5  0.159608        work\n",
       "48        6  0.038526        work\n",
       "48        7  0.011007        work\n",
       "277       3  0.533686       wrote\n",
       "277       5  0.152482       wrote\n",
       "277       6  0.228723       wrote\n",
       "277       7  0.076241       wrote\n",
       "505       1  0.306293       years\n",
       "505       2  0.173374       years\n",
       "505       3  0.109803       years\n",
       "505       4  0.034675       years\n",
       "505       5  0.265840       years\n",
       "505       6  0.028896       years\n",
       "505       7  0.075129       years\n",
       "316       1  0.372228       young\n",
       "316       2  0.350958       young\n",
       "316       3  0.154209       young\n",
       "316       4  0.010635       young\n",
       "316       5  0.063810       young\n",
       "316       6  0.031905       young\n",
       "316       7  0.015953       young\n",
       "\n",
       "[1681 rows x 3 columns], R=30, lambda_step=0.01, plot_opts={'xlab': 'PC1', 'ylab': 'PC2'}, topic_order=[8, 10, 6, 2, 7, 9, 1, 5, 3, 4])"
      ]
     },
     "execution_count": 16,
     "metadata": {},
     "output_type": "execute_result"
    }
   ],
   "source": [
    "vis.make_interactive()"
   ]
  },
  {
   "cell_type": "code",
   "execution_count": 17,
   "metadata": {
    "collapsed": false
   },
   "outputs": [
    {
     "name": "stderr",
     "output_type": "stream",
     "text": [
      "31-Oct-2016 11:46:54 INFO collection: Saving interactive visualization ...\n",
      "31-Oct-2016 11:46:54 DEBUG collection: Interactive visualization available at ./interactive/corpus_interactive.html and ./interactive/corpus_interactive.json\n"
     ]
    }
   ],
   "source": [
    "vis.save_interactive(\"./interactive\")"
   ]
  },
  {
   "cell_type": "markdown",
   "metadata": {},
   "source": [
    "![success](http://cdn2.hubspot.net/hub/128506/file-446943132-jpg/images/computer_woman_success.jpg)"
   ]
  }
 ],
 "metadata": {
  "kernelspec": {
   "display_name": "Python 3",
   "language": "python",
   "name": "python3"
  },
  "language_info": {
   "codemirror_mode": {
    "name": "ipython",
    "version": 3
   },
   "file_extension": ".py",
   "mimetype": "text/x-python",
   "name": "python",
   "nbconvert_exporter": "python",
   "pygments_lexer": "ipython3",
   "version": "3.5.2"
  }
 },
 "nbformat": 4,
 "nbformat_minor": 1
}
