{
 "cells": [
  {
   "cell_type": "markdown",
   "metadata": {},
   "source": [
    "# Testing `collection.py`\n",
    "The following tutorial shows how to use the `collection` module of DARIAH-Topics."
   ]
  },
  {
   "cell_type": "markdown",
   "metadata": {},
   "source": [
    "## 1. Prearrangement\n",
    "First you need to import the collection module so your IPython notebook has access to its functions and classes. As second step we set paths for a test corpus consisting of plain text files and one consisting of annotated text preprocessed with several NLP-Tools in form of CSV files (if you have questions concerning the format, click [here](https://github.com/DARIAH-DE/DARIAH-DKPro-Wrapper/blob/master/doc/tutorial.adoc))."
   ]
  },
  {
   "cell_type": "code",
   "execution_count": 2,
   "metadata": {
    "collapsed": false
   },
   "outputs": [],
   "source": [
    "import collection"
   ]
  },
  {
   "cell_type": "code",
   "execution_count": 3,
   "metadata": {
    "collapsed": true
   },
   "outputs": [],
   "source": [
    "path_txt = \"corpus_txt\"\n",
    "path_csv = \"corpus_csv\""
   ]
  },
  {
   "cell_type": "markdown",
   "metadata": {},
   "source": [
    "## 2. Creating list of filenames (plain text and csv files)\n",
    "The following function is used to normalize path names so non-uniform text files will be processable by the module. It is possible to add an additional argument `ext` where you can specify an extension.\n"
   ]
  },
  {
   "cell_type": "code",
   "execution_count": 4,
   "metadata": {
    "collapsed": false
   },
   "outputs": [
    {
     "name": "stderr",
     "output_type": "stream",
     "text": [
      "24-Nov-2016 15:35:19 INFO collection: Creating document list from TXT files ...\n",
      "24-Nov-2016 15:35:19 DEBUG collection: 17 entries in document list.\n"
     ]
    },
    {
     "data": {
      "text/plain": [
       "['corpus_txt/Doyle_AScandalinBohemia.txt',\n",
       " 'corpus_txt/Doyle_AStudyinScarlet.txt',\n",
       " 'corpus_txt/Doyle_TheHoundoftheBaskervilles.txt',\n",
       " 'corpus_txt/Doyle_TheSignoftheFour.txt',\n",
       " 'corpus_txt/Howard_GodsoftheNorth.txt']"
      ]
     },
     "execution_count": 4,
     "metadata": {},
     "output_type": "execute_result"
    }
   ],
   "source": [
    "doclist_txt = collection.create_document_list(path_txt)\n",
    "doclist_txt[:5]"
   ]
  },
  {
   "cell_type": "code",
   "execution_count": 5,
   "metadata": {
    "collapsed": false
   },
   "outputs": [
    {
     "name": "stderr",
     "output_type": "stream",
     "text": [
      "24-Nov-2016 15:35:19 INFO collection: Creating document list from CSV files ...\n",
      "24-Nov-2016 15:35:19 DEBUG collection: 16 entries in document list.\n"
     ]
    },
    {
     "data": {
      "text/plain": [
       "['corpus_csv/Doyle_AStudyinScarlet.txt.csv',\n",
       " 'corpus_csv/Doyle_TheHoundoftheBaskervilles.txt.csv',\n",
       " 'corpus_csv/Doyle_TheSignoftheFour.txt.csv',\n",
       " 'corpus_csv/Howard_GodsoftheNorth.txt.csv',\n",
       " 'corpus_csv/Howard_SchadowsinZamboula.txt.csv']"
      ]
     },
     "execution_count": 5,
     "metadata": {},
     "output_type": "execute_result"
    }
   ],
   "source": [
    "doclist_csv = collection.create_document_list(path_csv, 'csv')\n",
    "doclist_csv[:5]"
   ]
  },
  {
   "cell_type": "markdown",
   "metadata": {},
   "source": [
    "## 3. Getting document labels"
   ]
  },
  {
   "cell_type": "code",
   "execution_count": 6,
   "metadata": {
    "collapsed": false
   },
   "outputs": [
    {
     "name": "stderr",
     "output_type": "stream",
     "text": [
      "24-Nov-2016 15:35:20 INFO collection: Creating document labels ...\n",
      "24-Nov-2016 15:35:20 DEBUG collection: Document labels available.\n"
     ]
    },
    {
     "data": {
      "text/plain": [
       "['Doyle_AScandalinBohemia.txt',\n",
       " 'Doyle_AStudyinScarlet.txt',\n",
       " 'Doyle_TheHoundoftheBaskervilles.txt',\n",
       " 'Doyle_TheSignoftheFour.txt',\n",
       " 'Howard_GodsoftheNorth.txt']"
      ]
     },
     "execution_count": 6,
     "metadata": {},
     "output_type": "execute_result"
    }
   ],
   "source": [
    "doc_labels = collection.get_labels(doclist_txt)\n",
    "list(doc_labels)[:5]"
   ]
  },
  {
   "cell_type": "markdown",
   "metadata": {},
   "source": [
    "## 4. Load the corpora and optional e.g. stopwords list\n",
    "By using the `read_from()`-functions we create a generator object which provides a memory efficient way to handle bigger corpora."
   ]
  },
  {
   "cell_type": "code",
   "execution_count": 7,
   "metadata": {
    "collapsed": false
   },
   "outputs": [],
   "source": [
    "corpus_txt = collection.read_from_txt(doclist_txt)"
   ]
  },
  {
   "cell_type": "code",
   "execution_count": 8,
   "metadata": {
    "collapsed": true
   },
   "outputs": [],
   "source": [
    "corpus_csv = collection.read_from_csv(doclist_csv)"
   ]
  },
  {
   "cell_type": "code",
   "execution_count": 9,
   "metadata": {
    "collapsed": true
   },
   "outputs": [],
   "source": [
    "external = collection.read_from_txt(\"helpful_stuff/stopwords/en\")"
   ]
  },
  {
   "cell_type": "markdown",
   "metadata": {},
   "source": [
    "## 5. Segmenting text\n",
    "An important part of pre-processing in Topic Modeling is segmenting the the texts in 'chunks'. The arguments of the function are for the targeted corpus and the size of the 'chunks' in words. Depending on the languange and type of text results can vary widely in quality."
   ]
  },
  {
   "cell_type": "code",
   "execution_count": 10,
   "metadata": {
    "collapsed": false
   },
   "outputs": [
    {
     "name": "stderr",
     "output_type": "stream",
     "text": [
      "24-Nov-2016 15:35:22 DEBUG collection: Accessing TXT document ...\n",
      "24-Nov-2016 15:35:22 INFO collection: Segmenting document ...\n",
      "24-Nov-2016 15:35:22 DEBUG collection: Segment has a length of 1000 characters.\n"
     ]
    },
    {
     "data": {
      "text/plain": [
       "\"A SCANDAL IN BOHEMIA\\n\\nA. CONAN DOYLE\\n\\n\\nI\\n\\nTo Sherlock Holmes she is always _the_ woman. I have seldom heard him\\nmention her under any other name. In his eyes she eclipses and\\npredominates the whole of her sex. It was not that he felt any emotion\\nakin to love for Irene Adler. All emotions, and that one particularly,\\nwere abhorrent to his cold, precise but admirably balanced mind. He was,\\nI take it, the most perfect reasoning and observing machine that the\\nworld has seen; but as a lover, he would have placed himself in a false\\nposition. He never spoke of the softer passions, save with a gibe and a\\nsneer. They were admirable things for the observer--excellent for\\ndrawing the veil from men's motives and actions. But for the trained\\nreasoner to admit such intrusions into his own delicate and finely\\nadjusted temperament was to introduce a distracting factor which might\\nthrow a doubt upon all his mental results. Grit in a sensitive\\ninstrument, or a crack in one of his own high-power lenses, w\""
      ]
     },
     "execution_count": 10,
     "metadata": {},
     "output_type": "execute_result"
    }
   ],
   "source": [
    "segments = collection.segmenter(corpus_txt, 1000)\n",
    "next(segments)"
   ]
  },
  {
   "cell_type": "markdown",
   "metadata": {},
   "source": [
    "## 6. Filtering text using POS-Tags\n",
    "Another way to preprocess the text is by filtering by POS-Tags and using lemmas (in this case only adjectives, verbs and nouns are filterable). The annotated CSV-file we provide in this example is already enriched with this kind of information.\n"
   ]
  },
  {
   "cell_type": "code",
   "execution_count": 11,
   "metadata": {
    "collapsed": false
   },
   "outputs": [
    {
     "name": "stderr",
     "output_type": "stream",
     "text": [
      "24-Nov-2016 15:35:23 INFO collection: Accessing CSV documents ...\n",
      "24-Nov-2016 15:35:23 INFO collection: Accessing ['ADJ', 'V', 'NN'] lemmas ...\n"
     ]
    },
    {
     "data": {
      "text/plain": [
       "37    typographical\n",
       "56          textual\n",
       "59           square\n",
       "72              old\n",
       "75             such\n",
       "Name: Lemma, dtype: object"
      ]
     },
     "execution_count": 11,
     "metadata": {},
     "output_type": "execute_result"
    }
   ],
   "source": [
    "lemmas = collection.filter_POS_tags(corpus_csv)\n",
    "next(lemmas)[:5]"
   ]
  },
  {
   "cell_type": "markdown",
   "metadata": {},
   "source": [
    "# 7. Count terms to use `find_stopwords()` and `find_hapax()`"
   ]
  },
  {
   "cell_type": "code",
   "execution_count": 12,
   "metadata": {
    "collapsed": false
   },
   "outputs": [
    {
     "name": "stderr",
     "output_type": "stream",
     "text": [
      "24-Nov-2016 15:35:24 INFO collection: Calculating term frequency ...\n",
      "24-Nov-2016 15:35:24 DEBUG collection: Accessing TXT document ...\n",
      "24-Nov-2016 15:35:24 DEBUG collection: Term frequency calculated.\n",
      "24-Nov-2016 15:35:24 DEBUG collection: Accessing TXT document ...\n",
      "24-Nov-2016 15:35:24 DEBUG collection: Term frequency calculated.\n",
      "24-Nov-2016 15:35:24 DEBUG collection: Accessing TXT document ...\n",
      "24-Nov-2016 15:35:24 DEBUG collection: Term frequency calculated.\n",
      "24-Nov-2016 15:35:24 DEBUG collection: Accessing TXT document ...\n",
      "24-Nov-2016 15:35:24 DEBUG collection: Term frequency calculated.\n",
      "24-Nov-2016 15:35:24 DEBUG collection: Accessing TXT document ...\n",
      "24-Nov-2016 15:35:24 DEBUG collection: Term frequency calculated.\n",
      "24-Nov-2016 15:35:24 DEBUG collection: Accessing TXT document ...\n",
      "24-Nov-2016 15:35:24 DEBUG collection: Term frequency calculated.\n",
      "24-Nov-2016 15:35:24 DEBUG collection: Accessing TXT document ...\n",
      "24-Nov-2016 15:35:24 DEBUG collection: Term frequency calculated.\n",
      "24-Nov-2016 15:35:24 DEBUG collection: Accessing TXT document ...\n",
      "24-Nov-2016 15:35:24 DEBUG collection: Term frequency calculated.\n",
      "24-Nov-2016 15:35:24 DEBUG collection: Accessing TXT document ...\n",
      "24-Nov-2016 15:35:24 DEBUG collection: Term frequency calculated.\n",
      "24-Nov-2016 15:35:24 DEBUG collection: Accessing TXT document ...\n",
      "24-Nov-2016 15:35:24 DEBUG collection: Term frequency calculated.\n",
      "24-Nov-2016 15:35:24 DEBUG collection: Accessing TXT document ...\n",
      "24-Nov-2016 15:35:24 DEBUG collection: Term frequency calculated.\n",
      "24-Nov-2016 15:35:24 DEBUG collection: Accessing TXT document ...\n",
      "24-Nov-2016 15:35:24 DEBUG collection: Term frequency calculated.\n",
      "24-Nov-2016 15:35:24 DEBUG collection: Accessing TXT document ...\n",
      "24-Nov-2016 15:35:24 DEBUG collection: Term frequency calculated.\n",
      "24-Nov-2016 15:35:24 DEBUG collection: Accessing TXT document ...\n",
      "24-Nov-2016 15:35:24 DEBUG collection: Term frequency calculated.\n",
      "24-Nov-2016 15:35:24 DEBUG collection: Accessing TXT document ...\n",
      "24-Nov-2016 15:35:24 DEBUG collection: Term frequency calculated.\n",
      "24-Nov-2016 15:35:24 DEBUG collection: Accessing TXT document ...\n",
      "24-Nov-2016 15:35:24 DEBUG collection: Term frequency calculated.\n"
     ]
    }
   ],
   "source": [
    "corpus = collection.calculate_term_frequency(corpus_txt)"
   ]
  },
  {
   "cell_type": "code",
   "execution_count": 13,
   "metadata": {
    "collapsed": false
   },
   "outputs": [],
   "source": [
    "clean_corpus = corpus.copy()"
   ]
  },
  {
   "cell_type": "markdown",
   "metadata": {},
   "source": [
    "## 8. Find stopwords"
   ]
  },
  {
   "cell_type": "code",
   "execution_count": 14,
   "metadata": {
    "collapsed": false
   },
   "outputs": [
    {
     "name": "stderr",
     "output_type": "stream",
     "text": [
      "24-Nov-2016 15:35:27 INFO collection: Finding stopwords ...\n",
      "24-Nov-2016 15:35:27 DEBUG collection: 50 stopwords found.\n"
     ]
    },
    {
     "data": {
      "text/plain": [
       "the    21357\n",
       "of     11614\n",
       "and    11040\n",
       "to      8516\n",
       "a       7652\n",
       "dtype: int64"
      ]
     },
     "execution_count": 14,
     "metadata": {},
     "output_type": "execute_result"
    }
   ],
   "source": [
    "stopwords = collection.find_stopwords(corpus, 50)\n",
    "stopwords[:5]"
   ]
  },
  {
   "cell_type": "markdown",
   "metadata": {},
   "source": [
    "## 9. Find hapax legomena"
   ]
  },
  {
   "cell_type": "code",
   "execution_count": 15,
   "metadata": {
    "collapsed": false
   },
   "outputs": [
    {
     "name": "stderr",
     "output_type": "stream",
     "text": [
      "24-Nov-2016 15:35:28 INFO collection: Find hapax legomena ...\n",
      "24-Nov-2016 15:35:28 DEBUG collection: 26096 hapax legomena found.\n"
     ]
    },
    {
     "data": {
      "text/plain": [
       "\"'--Un     1\n",
       "\"'About    1\n",
       "\"'After    1\n",
       "\"'All      1\n",
       "\"'An       1\n",
       "dtype: int64"
      ]
     },
     "execution_count": 15,
     "metadata": {},
     "output_type": "execute_result"
    }
   ],
   "source": [
    "hapax = collection.find_hapax(corpus)\n",
    "hapax = hapax[:50]\n",
    "hapax[:5]"
   ]
  },
  {
   "cell_type": "markdown",
   "metadata": {},
   "source": [
    "## 10. Remove features"
   ]
  },
  {
   "cell_type": "code",
   "execution_count": 16,
   "metadata": {
    "collapsed": false
   },
   "outputs": [
    {
     "name": "stderr",
     "output_type": "stream",
     "text": [
      "24-Nov-2016 15:35:29 INFO collection: Removing features ...\n",
      "24-Nov-2016 15:35:29 DEBUG collection: 50 features removed.\n"
     ]
    }
   ],
   "source": [
    "clean_corpus = collection.remove_features(clean_corpus, stopwords)"
   ]
  },
  {
   "cell_type": "code",
   "execution_count": 17,
   "metadata": {
    "collapsed": false
   },
   "outputs": [
    {
     "name": "stderr",
     "output_type": "stream",
     "text": [
      "24-Nov-2016 15:35:30 INFO collection: Removing features ...\n",
      "24-Nov-2016 15:35:31 DEBUG collection: 50 features removed.\n"
     ]
    }
   ],
   "source": [
    "# Warum dauert es so lange hapax komplett zu entfernen? Bei\n",
    "# den 100 vorherigen Durchläufen hat es < 1 Sekunde gedauert\n",
    "# und inhaltlich ist alles gleich?!?! War DataFrame schneller\n",
    "# als Series?!?!?!\n",
    "\n",
    "clean_corpus = collection.remove_features(clean_corpus, hapax)"
   ]
  },
  {
   "cell_type": "code",
   "execution_count": 18,
   "metadata": {
    "collapsed": false
   },
   "outputs": [
    {
     "name": "stderr",
     "output_type": "stream",
     "text": [
      "24-Nov-2016 15:35:34 INFO collection: Removing features ...\n",
      "24-Nov-2016 15:35:34 DEBUG collection: Accessing TXT document ...\n",
      "24-Nov-2016 15:35:38 DEBUG collection: 476 features removed.\n"
     ]
    }
   ],
   "source": [
    "clean_corpus = collection.remove_features(clean_corpus, external)"
   ]
  },
  {
   "cell_type": "code",
   "execution_count": 19,
   "metadata": {
    "collapsed": false
   },
   "outputs": [
    {
     "name": "stdout",
     "output_type": "stream",
     "text": [
      "Länge des Kropus:  43989\n",
      "Länge des Korpus (ohne features):  43413\n",
      "5 MFWs:\n",
      " the    21357\n",
      "of     11614\n",
      "and    11040\n",
      "to      8516\n",
      "a       7652\n",
      "dtype: int64 \n",
      "\n",
      "5 MFWs (ohne features):\n",
      " will    841\n",
      "It      789\n",
      "We      601\n",
      "man     511\n",
      "\"I      496\n",
      "dtype: int64\n"
     ]
    }
   ],
   "source": [
    "print(\"Länge des Kropus: \", len(corpus))\n",
    "print(\"Länge des Korpus (ohne features): \", len(clean_corpus))\n",
    "print(\"5 MFWs:\\n\", corpus.sort_values(ascending=False).head(5), \"\\n\")\n",
    "print(\"5 MFWs (ohne features):\\n\", clean_corpus.sort_values(ascending=False).head(5))"
   ]
  },
  {
   "cell_type": "markdown",
   "metadata": {},
   "source": [
    "## 11. Matrix Market"
   ]
  },
  {
   "cell_type": "code",
   "execution_count": 20,
   "metadata": {
    "collapsed": false
   },
   "outputs": [
    {
     "ename": "StopIteration",
     "evalue": "",
     "output_type": "error",
     "traceback": [
      "\u001b[0;31m---------------------------------------------------------------------------\u001b[0m",
      "\u001b[0;31mStopIteration\u001b[0m                             Traceback (most recent call last)",
      "\u001b[0;32m<ipython-input-20-5ed7ae92dced>\u001b[0m in \u001b[0;36m<module>\u001b[0;34m()\u001b[0m\n\u001b[0;32m----> 1\u001b[0;31m \u001b[0mmatrix_market\u001b[0m \u001b[0;34m=\u001b[0m \u001b[0mcollection\u001b[0m\u001b[0;34m.\u001b[0m\u001b[0mcreate_matrix_market\u001b[0m\u001b[0;34m(\u001b[0m\u001b[0mclean_corpus\u001b[0m\u001b[0;34m,\u001b[0m \u001b[0mdoc_labels\u001b[0m\u001b[0;34m)\u001b[0m\u001b[0;34m\u001b[0m\u001b[0m\n\u001b[0m",
      "\u001b[0;32m/Users/severin/git/Topics/collection.py\u001b[0m in \u001b[0;36mcreate_matrix_market\u001b[0;34m(clean_term_frequency, doc_labels)\u001b[0m\n\u001b[1;32m    276\u001b[0m     \u001b[0;31m# and now we make our words list\u001b[0m\u001b[0;34m\u001b[0m\u001b[0;34m\u001b[0m\u001b[0m\n\u001b[1;32m    277\u001b[0m     \u001b[0mallwords\u001b[0m \u001b[0;34m=\u001b[0m \u001b[0mclean_term_frequency\u001b[0m\u001b[0;34m.\u001b[0m\u001b[0mindex\u001b[0m\u001b[0;34m.\u001b[0m\u001b[0mtolist\u001b[0m\u001b[0;34m(\u001b[0m\u001b[0;34m)\u001b[0m\u001b[0;34m\u001b[0m\u001b[0m\n\u001b[0;32m--> 278\u001b[0;31m     \u001b[0malldocs\u001b[0m \u001b[0;34m=\u001b[0m \u001b[0mrange\u001b[0m\u001b[0;34m(\u001b[0m\u001b[0mlen\u001b[0m\u001b[0;34m(\u001b[0m\u001b[0mnext\u001b[0m\u001b[0;34m(\u001b[0m\u001b[0mdoc_labels\u001b[0m\u001b[0;34m)\u001b[0m\u001b[0;34m)\u001b[0m\u001b[0;34m)\u001b[0m\u001b[0;34m\u001b[0m\u001b[0m\n\u001b[0m\u001b[1;32m    279\u001b[0m     \u001b[0mprint\u001b[0m\u001b[0;34m(\u001b[0m\u001b[0malldocs\u001b[0m\u001b[0;34m)\u001b[0m\u001b[0;34m\u001b[0m\u001b[0m\n\u001b[1;32m    280\u001b[0m \u001b[0;34m\u001b[0m\u001b[0m\n",
      "\u001b[0;31mStopIteration\u001b[0m: "
     ]
    }
   ],
   "source": [
    "matrix_market = collection.create_matrix_market(clean_corpus, doc_labels)"
   ]
  },
  {
   "cell_type": "markdown",
   "metadata": {},
   "source": [
    "## 12. Visualization\n",
    "Simple get-functions are implemented for visualization tasks. In this case the get_labels-function extracts the titles of the corpus files we loaded above."
   ]
  },
  {
   "cell_type": "code",
   "execution_count": null,
   "metadata": {
    "collapsed": false
   },
   "outputs": [],
   "source": [
    "lda_model = 'out_easy/corpus.lda'\n",
    "corpus = 'out_easy/corpus.mm'\n",
    "dictionary = 'out_easy/corpus.dict'\n",
    "doc_labels = 'out_easy/corpus_doclabels.txt'\n",
    "interactive  = False\n",
    "\n",
    "vis = collection.Visualization(lda_model, corpus, dictionary, doc_labels, interactive)"
   ]
  },
  {
   "cell_type": "markdown",
   "metadata": {},
   "source": [
    "It is not possible to run `save_heatmap()` before `make_heatmap()`."
   ]
  },
  {
   "cell_type": "code",
   "execution_count": null,
   "metadata": {
    "collapsed": false
   },
   "outputs": [],
   "source": [
    "vis.save_heatmap(\"./visualizations/heatmap\")"
   ]
  },
  {
   "cell_type": "code",
   "execution_count": null,
   "metadata": {
    "collapsed": false
   },
   "outputs": [],
   "source": [
    "vis.make_heatmap()"
   ]
  },
  {
   "cell_type": "code",
   "execution_count": null,
   "metadata": {
    "collapsed": false
   },
   "outputs": [],
   "source": [
    "vis.save_heatmap(\"./visualizations/heatmap\")"
   ]
  },
  {
   "cell_type": "code",
   "execution_count": null,
   "metadata": {
    "collapsed": false
   },
   "outputs": [],
   "source": [
    "vis = collection.Visualization(lda_model, corpus, dictionary, doc_labels, interactive=True)"
   ]
  },
  {
   "cell_type": "markdown",
   "metadata": {},
   "source": [
    "It is not possible to run `save_heatmap()` before `make_heatmap()`."
   ]
  },
  {
   "cell_type": "code",
   "execution_count": null,
   "metadata": {
    "collapsed": false
   },
   "outputs": [],
   "source": [
    "vis.save_interactive(\"./visualizations/interactive\")"
   ]
  },
  {
   "cell_type": "code",
   "execution_count": null,
   "metadata": {
    "collapsed": false
   },
   "outputs": [],
   "source": [
    "vis.make_interactive()"
   ]
  },
  {
   "cell_type": "code",
   "execution_count": null,
   "metadata": {
    "collapsed": false
   },
   "outputs": [],
   "source": [
    "vis.save_interactive(\"./visualizations/interactive\")"
   ]
  },
  {
   "cell_type": "markdown",
   "metadata": {},
   "source": [
    "![success](http://cdn2.hubspot.net/hub/128506/file-446943132-jpg/images/computer_woman_success.jpg)"
   ]
  }
 ],
 "metadata": {
  "kernelspec": {
   "display_name": "Python 3",
   "language": "python",
   "name": "python3"
  },
  "language_info": {
   "codemirror_mode": {
    "name": "ipython",
    "version": 3
   },
   "file_extension": ".py",
   "mimetype": "text/x-python",
   "name": "python",
   "nbconvert_exporter": "python",
   "pygments_lexer": "ipython3",
   "version": "3.5.2"
  }
 },
 "nbformat": 4,
 "nbformat_minor": 1
}
