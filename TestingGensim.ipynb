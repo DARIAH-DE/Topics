{
 "cells": [
  {
   "cell_type": "markdown",
   "metadata": {},
   "source": [
    "# Testing `collection.py`\n",
    "The following tutorial shows how to use the `collection` module of DARIAH-Topics."
   ]
  },
  {
   "cell_type": "markdown",
   "metadata": {},
   "source": [
    "## 1. Prearrangement\n",
    "First you need to import the collection module so your IPython notebook has access to its functions and classes. As second step we set paths for a test corpus consisting of plain text files and one consisting of annotated text preprocessed with several NLP-Tools in form of CSV files (if you have questions concerning the format, click [here](https://github.com/DARIAH-DE/DARIAH-DKPro-Wrapper/blob/master/doc/tutorial.adoc))."
   ]
  },
  {
   "cell_type": "code",
   "execution_count": 2,
   "metadata": {
    "collapsed": false
   },
   "outputs": [],
   "source": [
    "import collection"
   ]
  },
  {
   "cell_type": "code",
   "execution_count": 3,
   "metadata": {
    "collapsed": true
   },
   "outputs": [],
   "source": [
    "path_txt = \"corpus_txt\"\n",
    "path_csv = \"corpus_csv\""
   ]
  },
  {
   "cell_type": "markdown",
   "metadata": {},
   "source": [
    "## 2. Creating list of filenames (plain text and csv files)\n",
    "The following function is used to normalize path names so non-uniform text files will be processable by the module. It is possible to add an additional argument `ext` where you can specify an extension.\n"
   ]
  },
  {
   "cell_type": "code",
   "execution_count": 4,
   "metadata": {
    "collapsed": false
   },
   "outputs": [
    {
     "name": "stderr",
     "output_type": "stream",
     "text": [
      "20-Nov-2016 18:05:47 INFO collection: Creating document list from TXT files ...\n",
      "20-Nov-2016 18:05:47 DEBUG collection: 17 entries in document list.\n"
     ]
    },
    {
     "data": {
      "text/plain": [
       "['corpus_txt/Doyle_AScandalinBohemia.txt',\n",
       " 'corpus_txt/Doyle_AStudyinScarlet.txt',\n",
       " 'corpus_txt/Doyle_TheHoundoftheBaskervilles.txt',\n",
       " 'corpus_txt/Doyle_TheSignoftheFour.txt',\n",
       " 'corpus_txt/Howard_GodsoftheNorth.txt']"
      ]
     },
     "execution_count": 4,
     "metadata": {},
     "output_type": "execute_result"
    }
   ],
   "source": [
    "doclist_txt = collection.create_document_list(path_txt)\n",
    "doclist_txt[:5]"
   ]
  },
  {
   "cell_type": "code",
   "execution_count": 5,
   "metadata": {
    "collapsed": false
   },
   "outputs": [
    {
     "name": "stderr",
     "output_type": "stream",
     "text": [
      "20-Nov-2016 18:05:48 INFO collection: Creating document list from CSV files ...\n",
      "20-Nov-2016 18:05:48 DEBUG collection: 16 entries in document list.\n"
     ]
    },
    {
     "data": {
      "text/plain": [
       "['corpus_csv/Doyle_AStudyinScarlet.txt.csv',\n",
       " 'corpus_csv/Doyle_TheHoundoftheBaskervilles.txt.csv',\n",
       " 'corpus_csv/Doyle_TheSignoftheFour.txt.csv',\n",
       " 'corpus_csv/Howard_GodsoftheNorth.txt.csv',\n",
       " 'corpus_csv/Howard_SchadowsinZamboula.txt.csv']"
      ]
     },
     "execution_count": 5,
     "metadata": {},
     "output_type": "execute_result"
    }
   ],
   "source": [
    "doclist_csv = collection.create_document_list(path_csv, 'csv')\n",
    "doclist_csv[:5]"
   ]
  },
  {
   "cell_type": "markdown",
   "metadata": {},
   "source": [
    "## 3. Getting document labels"
   ]
  },
  {
   "cell_type": "code",
   "execution_count": 6,
   "metadata": {
    "collapsed": false
   },
   "outputs": [
    {
     "name": "stderr",
     "output_type": "stream",
     "text": [
      "20-Nov-2016 18:05:53 INFO collection: Creating document labels ...\n",
      "20-Nov-2016 18:05:53 DEBUG collection: Document labels available.\n"
     ]
    },
    {
     "data": {
      "text/plain": [
       "['Doyle_AScandalinBohemia.txt',\n",
       " 'Doyle_AStudyinScarlet.txt',\n",
       " 'Doyle_TheHoundoftheBaskervilles.txt',\n",
       " 'Doyle_TheSignoftheFour.txt',\n",
       " 'Howard_GodsoftheNorth.txt']"
      ]
     },
     "execution_count": 6,
     "metadata": {},
     "output_type": "execute_result"
    }
   ],
   "source": [
    "labels = collection.get_labels(doclist_txt)\n",
    "list(labels)[:5]"
   ]
  },
  {
   "cell_type": "markdown",
   "metadata": {},
   "source": [
    "## 4. Load the corpora\n",
    "By using the `read_from()`-functions we create a generator object which provides a memory efficient way to handle bigger corpora."
   ]
  },
  {
   "cell_type": "code",
   "execution_count": 7,
   "metadata": {
    "collapsed": true
   },
   "outputs": [],
   "source": [
    "corpus_txt = collection.read_from_txt(doclist_txt)"
   ]
  },
  {
   "cell_type": "code",
   "execution_count": 8,
   "metadata": {
    "collapsed": true
   },
   "outputs": [],
   "source": [
    "corpus_csv = collection.read_from_csv(doclist_csv)"
   ]
  },
  {
   "cell_type": "markdown",
   "metadata": {},
   "source": [
    "## 5. Segmenting text\n",
    "An important part of pre-processing in Topic Modeling is segmenting the the texts in 'chunks'. The arguments of the function are for the targeted corpus and the size of the 'chunks' in words. Depending on the languange and type of text results can vary widely in quality."
   ]
  },
  {
   "cell_type": "code",
   "execution_count": 9,
   "metadata": {
    "collapsed": false
   },
   "outputs": [
    {
     "name": "stderr",
     "output_type": "stream",
     "text": [
      "20-Nov-2016 18:06:04 DEBUG collection: Accessing TXT document ...\n",
      "20-Nov-2016 18:06:04 INFO collection: Segmenting document ...\n",
      "20-Nov-2016 18:06:04 DEBUG collection: Segment has a length of 1000 characters.\n"
     ]
    },
    {
     "data": {
      "text/plain": [
       "\"A SCANDAL IN BOHEMIA\\n\\nA. CONAN DOYLE\\n\\n\\nI\\n\\nTo Sherlock Holmes she is always _the_ woman. I have seldom heard him\\nmention her under any other name. In his eyes she eclipses and\\npredominates the whole of her sex. It was not that he felt any emotion\\nakin to love for Irene Adler. All emotions, and that one particularly,\\nwere abhorrent to his cold, precise but admirably balanced mind. He was,\\nI take it, the most perfect reasoning and observing machine that the\\nworld has seen; but as a lover, he would have placed himself in a false\\nposition. He never spoke of the softer passions, save with a gibe and a\\nsneer. They were admirable things for the observer--excellent for\\ndrawing the veil from men's motives and actions. But for the trained\\nreasoner to admit such intrusions into his own delicate and finely\\nadjusted temperament was to introduce a distracting factor which might\\nthrow a doubt upon all his mental results. Grit in a sensitive\\ninstrument, or a crack in one of his own high-power lenses, w\""
      ]
     },
     "execution_count": 9,
     "metadata": {},
     "output_type": "execute_result"
    }
   ],
   "source": [
    "segments = collection.segmenter(corpus_txt, 1000)\n",
    "next(segments)"
   ]
  },
  {
   "cell_type": "markdown",
   "metadata": {},
   "source": [
    "## 6. Filtering text using POS-Tags\n",
    "Another way to preprocess the text is by filtering by POS-Tags and using lemmas (in this case only adjectives, verbs and nouns are filterable). The annotated CSV-file we provide in this example is already enriched with this kind of information.\n"
   ]
  },
  {
   "cell_type": "code",
   "execution_count": 10,
   "metadata": {
    "collapsed": false
   },
   "outputs": [
    {
     "name": "stderr",
     "output_type": "stream",
     "text": [
      "20-Nov-2016 18:06:12 INFO collection: Accessing CSV documents ...\n",
      "20-Nov-2016 18:06:12 INFO collection: Accessing ['ADJ', 'V', 'NN'] lemmas ...\n"
     ]
    },
    {
     "data": {
      "text/plain": [
       "37    typographical\n",
       "56          textual\n",
       "59           square\n",
       "72              old\n",
       "75             such\n",
       "Name: Lemma, dtype: object"
      ]
     },
     "execution_count": 10,
     "metadata": {},
     "output_type": "execute_result"
    }
   ],
   "source": [
    "lemmas = collection.filter_POS_tags(corpus_csv)\n",
    "next(lemmas)[:5]"
   ]
  },
  {
   "cell_type": "markdown",
   "metadata": {},
   "source": [
    "# 7. Creating a counter to use `find_stopwords()` and `find_hapax()`."
   ]
  },
  {
   "cell_type": "code",
   "execution_count": 11,
   "metadata": {
    "collapsed": false
   },
   "outputs": [
    {
     "name": "stderr",
     "output_type": "stream",
     "text": [
      "20-Nov-2016 18:06:20 INFO collection: Calculating term frequency ...\n",
      "20-Nov-2016 18:06:20 DEBUG collection: Accessing TXT document ...\n",
      "20-Nov-2016 18:06:20 DEBUG collection: Term frequency calculated.\n",
      "20-Nov-2016 18:06:20 DEBUG collection: Accessing TXT document ...\n",
      "20-Nov-2016 18:06:20 DEBUG collection: Term frequency calculated.\n",
      "20-Nov-2016 18:06:20 DEBUG collection: Accessing TXT document ...\n",
      "20-Nov-2016 18:06:20 DEBUG collection: Term frequency calculated.\n",
      "20-Nov-2016 18:06:20 DEBUG collection: Accessing TXT document ...\n",
      "20-Nov-2016 18:06:20 DEBUG collection: Term frequency calculated.\n",
      "20-Nov-2016 18:06:20 DEBUG collection: Accessing TXT document ...\n",
      "20-Nov-2016 18:06:20 DEBUG collection: Term frequency calculated.\n",
      "20-Nov-2016 18:06:20 DEBUG collection: Accessing TXT document ...\n",
      "20-Nov-2016 18:06:20 DEBUG collection: Term frequency calculated.\n",
      "20-Nov-2016 18:06:20 DEBUG collection: Accessing TXT document ...\n",
      "20-Nov-2016 18:06:20 DEBUG collection: Term frequency calculated.\n",
      "20-Nov-2016 18:06:20 DEBUG collection: Accessing TXT document ...\n",
      "20-Nov-2016 18:06:20 DEBUG collection: Term frequency calculated.\n",
      "20-Nov-2016 18:06:20 DEBUG collection: Accessing TXT document ...\n",
      "20-Nov-2016 18:06:20 DEBUG collection: Term frequency calculated.\n",
      "20-Nov-2016 18:06:20 DEBUG collection: Accessing TXT document ...\n",
      "20-Nov-2016 18:06:20 DEBUG collection: Term frequency calculated.\n",
      "20-Nov-2016 18:06:20 DEBUG collection: Accessing TXT document ...\n",
      "20-Nov-2016 18:06:20 DEBUG collection: Term frequency calculated.\n",
      "20-Nov-2016 18:06:20 DEBUG collection: Accessing TXT document ...\n",
      "20-Nov-2016 18:06:20 DEBUG collection: Term frequency calculated.\n",
      "20-Nov-2016 18:06:20 DEBUG collection: Accessing TXT document ...\n",
      "20-Nov-2016 18:06:20 DEBUG collection: Term frequency calculated.\n",
      "20-Nov-2016 18:06:20 DEBUG collection: Accessing TXT document ...\n",
      "20-Nov-2016 18:06:20 DEBUG collection: Term frequency calculated.\n",
      "20-Nov-2016 18:06:20 DEBUG collection: Accessing TXT document ...\n",
      "20-Nov-2016 18:06:20 DEBUG collection: Term frequency calculated.\n",
      "20-Nov-2016 18:06:20 DEBUG collection: Accessing TXT document ...\n",
      "20-Nov-2016 18:06:20 DEBUG collection: Term frequency calculated.\n"
     ]
    }
   ],
   "source": [
    "counter = collection.calculate_term_frequency(corpus_txt)"
   ]
  },
  {
   "cell_type": "code",
   "execution_count": 12,
   "metadata": {
    "collapsed": false
   },
   "outputs": [],
   "source": [
    "#\n",
    "# Kopie des ursprünglichen Counters um im Testvorgang den Counter zurückzusetzen\n",
    "# Auf diese Weise muss der Counter nicht jedes Mal erneut erstellt werden,\n",
    "# sondern kann hier zurückgesetzt werden\n",
    "#\n",
    "\n",
    "countercopy = counter.copy()"
   ]
  },
  {
   "cell_type": "markdown",
   "metadata": {},
   "source": [
    "## 8. Find stopwords"
   ]
  },
  {
   "cell_type": "code",
   "execution_count": 13,
   "metadata": {
    "collapsed": false
   },
   "outputs": [
    {
     "name": "stderr",
     "output_type": "stream",
     "text": [
      "20-Nov-2016 18:06:30 INFO collection: Finding stopwords ...\n",
      "20-Nov-2016 18:06:30 DEBUG collection: 50 stopwords found.\n"
     ]
    },
    {
     "data": {
      "text/html": [
       "<div>\n",
       "<table border=\"1\" class=\"dataframe\">\n",
       "  <thead>\n",
       "    <tr style=\"text-align: right;\">\n",
       "      <th></th>\n",
       "      <th>word</th>\n",
       "      <th>freq</th>\n",
       "    </tr>\n",
       "  </thead>\n",
       "  <tbody>\n",
       "    <tr>\n",
       "      <th>0</th>\n",
       "      <td>the</td>\n",
       "      <td>21357</td>\n",
       "    </tr>\n",
       "    <tr>\n",
       "      <th>1</th>\n",
       "      <td>of</td>\n",
       "      <td>11614</td>\n",
       "    </tr>\n",
       "    <tr>\n",
       "      <th>2</th>\n",
       "      <td>and</td>\n",
       "      <td>11040</td>\n",
       "    </tr>\n",
       "    <tr>\n",
       "      <th>3</th>\n",
       "      <td>to</td>\n",
       "      <td>8516</td>\n",
       "    </tr>\n",
       "    <tr>\n",
       "      <th>4</th>\n",
       "      <td>a</td>\n",
       "      <td>7652</td>\n",
       "    </tr>\n",
       "  </tbody>\n",
       "</table>\n",
       "</div>"
      ],
      "text/plain": [
       "  word   freq\n",
       "0  the  21357\n",
       "1   of  11614\n",
       "2  and  11040\n",
       "3   to   8516\n",
       "4    a   7652"
      ]
     },
     "execution_count": 13,
     "metadata": {},
     "output_type": "execute_result"
    }
   ],
   "source": [
    "stopwords = collection.find_stopwords(countercopy, 50)\n",
    "stopwords[:5]"
   ]
  },
  {
   "cell_type": "markdown",
   "metadata": {},
   "source": [
    "## 9. Find hapax legomena"
   ]
  },
  {
   "cell_type": "code",
   "execution_count": 14,
   "metadata": {
    "collapsed": false
   },
   "outputs": [
    {
     "name": "stderr",
     "output_type": "stream",
     "text": [
      "20-Nov-2016 18:06:35 INFO collection: Find hapax legomena ...\n",
      "20-Nov-2016 18:06:36 DEBUG collection: 26096 hapax legomena found.\n"
     ]
    },
    {
     "data": {
      "text/html": [
       "<div>\n",
       "<table border=\"1\" class=\"dataframe\">\n",
       "  <thead>\n",
       "    <tr style=\"text-align: right;\">\n",
       "      <th></th>\n",
       "      <th>word</th>\n",
       "      <th>freq</th>\n",
       "    </tr>\n",
       "  </thead>\n",
       "  <tbody>\n",
       "    <tr>\n",
       "      <th>0</th>\n",
       "      <td>more!);</td>\n",
       "      <td>1</td>\n",
       "    </tr>\n",
       "    <tr>\n",
       "      <th>1</th>\n",
       "      <td>AVENGING</td>\n",
       "      <td>1</td>\n",
       "    </tr>\n",
       "    <tr>\n",
       "      <th>2</th>\n",
       "      <td>public's</td>\n",
       "      <td>1</td>\n",
       "    </tr>\n",
       "    <tr>\n",
       "      <th>3</th>\n",
       "      <td>surge.</td>\n",
       "      <td>1</td>\n",
       "    </tr>\n",
       "    <tr>\n",
       "      <th>4</th>\n",
       "      <td>mainland!--Come!'</td>\n",
       "      <td>1</td>\n",
       "    </tr>\n",
       "  </tbody>\n",
       "</table>\n",
       "</div>"
      ],
      "text/plain": [
       "                word  freq\n",
       "0            more!);     1\n",
       "1           AVENGING     1\n",
       "2           public's     1\n",
       "3             surge.     1\n",
       "4  mainland!--Come!'     1"
      ]
     },
     "execution_count": 14,
     "metadata": {},
     "output_type": "execute_result"
    }
   ],
   "source": [
    "hapax = collection.find_hapax(countercopy)\n",
    "hapax[:5]"
   ]
  },
  {
   "cell_type": "markdown",
   "metadata": {},
   "source": [
    "## 10. Remove stopwords"
   ]
  },
  {
   "cell_type": "code",
   "execution_count": 15,
   "metadata": {
    "collapsed": false
   },
   "outputs": [
    {
     "name": "stderr",
     "output_type": "stream",
     "text": [
      "20-Nov-2016 18:06:42 INFO collection: Removing stopwords ...\n",
      "20-Nov-2016 18:06:42 DEBUG collection: 50 words removed.\n"
     ]
    }
   ],
   "source": [
    "dict_without_stopwords = collection.remove_filtered_words(countercopy, stopwords)"
   ]
  },
  {
   "cell_type": "code",
   "execution_count": 16,
   "metadata": {
    "collapsed": false
   },
   "outputs": [
    {
     "name": "stdout",
     "output_type": "stream",
     "text": [
      "Länge des counters:  43989\n",
      "Länge des dicts nachdem Stopwords entfernt wurden:  43939\n",
      "25 MFWs von counter:\n",
      " [('the', 21357), ('of', 11614), ('and', 11040), ('to', 8516), ('a', 7652), ('in', 5585), ('I', 5393), ('that', 4479), ('was', 4211), ('he', 3610), ('his', 3503), ('had', 2816), ('is', 2768), ('with', 2767), ('as', 2733), ('it', 2457), ('for', 2282), ('at', 2272), ('have', 2171), ('which', 2063), ('we', 1963), ('you', 1905), ('not', 1902), ('my', 1833), ('be', 1738)] \n",
      "\n",
      "25 MFWs nachdem stopwords entfernt wurden:\n",
      " [('up', 871), ('into', 860), ('so', 849), ('will', 841), ('there', 819), ('their', 802), ('It', 789), ('when', 725), ('very', 694), ('more', 680), ('some', 666), ('she', 652), ('if', 631), ('has', 628), ('who', 623), ('about', 622), ('down', 613), ('what', 608), ('We', 601), ('than', 585), ('any', 584), ('us', 565), ('your', 561), ('over', 540), ('like', 528)]\n",
      "Anzahl der Wörter, die genau ein Mal vorkommen:  26096\n"
     ]
    }
   ],
   "source": [
    "print(\"Länge des counters: \", len(counter))\n",
    "print(\"Länge des dicts nachdem Stopwords entfernt wurden: \", len(dict_without_stopwords))\n",
    "print(\"25 MFWs von counter:\\n\", counter.most_common(25), \"\\n\")\n",
    "print(\"25 MFWs nachdem stopwords entfernt wurden:\\n\", dict_without_stopwords.most_common(25))\n",
    "print(\"Anzahl der Wörter, die genau ein Mal vorkommen: \",len([count for count in dict_without_stopwords.values() if count == 1]))"
   ]
  },
  {
   "cell_type": "markdown",
   "metadata": {
    "collapsed": false
   },
   "source": [
    "## 11. Remove hapax legomena"
   ]
  },
  {
   "cell_type": "code",
   "execution_count": 17,
   "metadata": {
    "collapsed": false
   },
   "outputs": [
    {
     "name": "stderr",
     "output_type": "stream",
     "text": [
      "20-Nov-2016 18:06:57 INFO collection: Removing stopwords ...\n",
      "20-Nov-2016 18:06:57 DEBUG collection: 26096 words removed.\n"
     ]
    }
   ],
   "source": [
    "dict_without_hapax = collection.remove_filtered_words(countercopy, hapax)"
   ]
  },
  {
   "cell_type": "code",
   "execution_count": 18,
   "metadata": {
    "collapsed": false
   },
   "outputs": [
    {
     "name": "stdout",
     "output_type": "stream",
     "text": [
      "Länge des counters:  43989\n",
      "Länge des dicts nachdem Hapax entfernt wurden:  17843\n",
      "Anzahl der Wörter, die öfter als ein Mal vorkommen:  17843\n",
      "Anzahl der Wörter, die genau ein Mal vorkommen:  0\n"
     ]
    }
   ],
   "source": [
    "print(\"Länge des counters: \", len(counter))\n",
    "print(\"Länge des dicts nachdem Hapax entfernt wurden: \",len(dict_without_hapax))\n",
    "print(\"Anzahl der Wörter, die öfter als ein Mal vorkommen: \", len([count for count in dict_without_hapax.values() if count > 1]))\n",
    "print(\"Anzahl der Wörter, die genau ein Mal vorkommen: \",len([count for count in dict_without_hapax.values() if count == 1]))"
   ]
  },
  {
   "cell_type": "markdown",
   "metadata": {},
   "source": [
    "## 12. Visualization\n",
    "Simple get-functions are implemented for visualization tasks. In this case the get_labels-function extracts the titles of the corpus files we loaded above."
   ]
  },
  {
   "cell_type": "code",
   "execution_count": 19,
   "metadata": {
    "collapsed": false
   },
   "outputs": [
    {
     "name": "stderr",
     "output_type": "stream",
     "text": [
      "20-Nov-2016 18:07:07 INFO collection: Accessing corpus ...\n",
      "20-Nov-2016 18:07:07 INFO gensim.corpora.indexedcorpus: loaded corpus index from out_easy/corpus.mm.index\n",
      "20-Nov-2016 18:07:07 INFO gensim.matutils: initializing corpus reader from out_easy/corpus.mm\n",
      "20-Nov-2016 18:07:07 INFO gensim.matutils: accepted corpus with 17 documents, 514 features, 4585 non-zero entries\n",
      "20-Nov-2016 18:07:07 DEBUG collection: Corpus available.\n",
      "20-Nov-2016 18:07:07 INFO collection: Accessing model ...\n",
      "20-Nov-2016 18:07:07 INFO gensim.utils: loading LdaModel object from out_easy/corpus.lda\n",
      "20-Nov-2016 18:07:07 INFO gensim.utils: loading id2word recursively from out_easy/corpus.lda.id2word.* with mmap=None\n",
      "20-Nov-2016 18:07:07 INFO gensim.utils: setting ignored attribute state to None\n",
      "20-Nov-2016 18:07:07 INFO gensim.utils: setting ignored attribute dispatcher to None\n",
      "20-Nov-2016 18:07:07 INFO gensim.utils: loading LdaModel object from out_easy/corpus.lda.state\n",
      "20-Nov-2016 18:07:07 DEBUG collection: Model available.\n",
      "20-Nov-2016 18:07:07 DEBUG collection: :param: interactive == False.\n",
      "20-Nov-2016 18:07:07 INFO collection: Accessing doc_labels ...\n",
      "20-Nov-2016 18:07:07 DEBUG collection: doc_labels accessed.\n",
      "20-Nov-2016 18:07:07 DEBUG collection: 29 doc_labels available.\n",
      "20-Nov-2016 18:07:07 DEBUG collection: Corpus, model and doc_labels available.\n"
     ]
    }
   ],
   "source": [
    "lda_model = 'out_easy/corpus.lda'\n",
    "corpus = 'out_easy/corpus.mm'\n",
    "dictionary = 'out_easy/corpus.dict'\n",
    "doc_labels = 'out_easy/corpus_doclabels.txt'\n",
    "interactive  = False\n",
    "\n",
    "vis = collection.Visualization(lda_model, corpus, dictionary, doc_labels, interactive)"
   ]
  },
  {
   "cell_type": "markdown",
   "metadata": {},
   "source": [
    "It is not possible to run `save_heatmap()` before `make_heatmap()`."
   ]
  },
  {
   "cell_type": "code",
   "execution_count": 20,
   "metadata": {
    "collapsed": false
   },
   "outputs": [
    {
     "name": "stderr",
     "output_type": "stream",
     "text": [
      "20-Nov-2016 18:07:10 INFO collection: Saving heatmap figure...\n",
      "20-Nov-2016 18:07:10 ERROR collection: Run make_heatmap() before save_heatmp()\n"
     ]
    },
    {
     "ename": "AttributeError",
     "evalue": "'Visualization' object has no attribute 'heatmap_vis'",
     "output_type": "error",
     "traceback": [
      "\u001b[0;31m---------------------------------------------------------------------------\u001b[0m",
      "\u001b[0;31mAttributeError\u001b[0m                            Traceback (most recent call last)",
      "\u001b[0;32m<ipython-input-20-27d29aa95e9c>\u001b[0m in \u001b[0;36m<module>\u001b[0;34m()\u001b[0m\n\u001b[0;32m----> 1\u001b[0;31m \u001b[0mvis\u001b[0m\u001b[0;34m.\u001b[0m\u001b[0msave_heatmap\u001b[0m\u001b[0;34m(\u001b[0m\u001b[0;34m\"./visualizations/heatmap\"\u001b[0m\u001b[0;34m)\u001b[0m\u001b[0;34m\u001b[0m\u001b[0m\n\u001b[0m",
      "\u001b[0;32m/Users/severin/git/Topics/collection.py\u001b[0m in \u001b[0;36msave_heatmap\u001b[0;34m(self, path, filename, ext, dpi)\u001b[0m\n\u001b[1;32m    367\u001b[0m         \u001b[0mlog\u001b[0m\u001b[0;34m.\u001b[0m\u001b[0minfo\u001b[0m\u001b[0;34m(\u001b[0m\u001b[0;34m\"Saving heatmap figure...\"\u001b[0m\u001b[0;34m)\u001b[0m\u001b[0;34m\u001b[0m\u001b[0m\n\u001b[1;32m    368\u001b[0m         \u001b[0;32mtry\u001b[0m\u001b[0;34m:\u001b[0m\u001b[0;34m\u001b[0m\u001b[0m\n\u001b[0;32m--> 369\u001b[0;31m             \u001b[0mself\u001b[0m\u001b[0;34m.\u001b[0m\u001b[0mheatmap_vis\u001b[0m\u001b[0;34m.\u001b[0m\u001b[0msavefig\u001b[0m\u001b[0;34m(\u001b[0m\u001b[0mos\u001b[0m\u001b[0;34m.\u001b[0m\u001b[0mpath\u001b[0m\u001b[0;34m.\u001b[0m\u001b[0mjoin\u001b[0m\u001b[0;34m(\u001b[0m\u001b[0mpath\u001b[0m\u001b[0;34m,\u001b[0m \u001b[0mfilename\u001b[0m \u001b[0;34m+\u001b[0m \u001b[0;34m'.'\u001b[0m \u001b[0;34m+\u001b[0m \u001b[0mext\u001b[0m\u001b[0;34m)\u001b[0m\u001b[0;34m,\u001b[0m \u001b[0mdpi\u001b[0m\u001b[0;34m=\u001b[0m\u001b[0mdpi\u001b[0m\u001b[0;34m)\u001b[0m\u001b[0;34m\u001b[0m\u001b[0m\n\u001b[0m\u001b[1;32m    370\u001b[0m             \u001b[0mlog\u001b[0m\u001b[0;34m.\u001b[0m\u001b[0mdebug\u001b[0m\u001b[0;34m(\u001b[0m\u001b[0;34m\"Heatmap figure available at %s/%s.%s\"\u001b[0m\u001b[0;34m,\u001b[0m \u001b[0mpath\u001b[0m\u001b[0;34m,\u001b[0m \u001b[0mfilename\u001b[0m\u001b[0;34m,\u001b[0m \u001b[0mext\u001b[0m\u001b[0;34m)\u001b[0m\u001b[0;34m\u001b[0m\u001b[0m\n\u001b[1;32m    371\u001b[0m         \u001b[0;32mexcept\u001b[0m \u001b[0mAttributeError\u001b[0m\u001b[0;34m:\u001b[0m\u001b[0;34m\u001b[0m\u001b[0m\n",
      "\u001b[0;31mAttributeError\u001b[0m: 'Visualization' object has no attribute 'heatmap_vis'"
     ]
    }
   ],
   "source": [
    "vis.save_heatmap(\"./visualizations/heatmap\")"
   ]
  },
  {
   "cell_type": "code",
   "execution_count": 21,
   "metadata": {
    "collapsed": false
   },
   "outputs": [
    {
     "name": "stderr",
     "output_type": "stream",
     "text": [
      "20-Nov-2016 18:07:15 INFO collection: Accessing topic distribution ...\n",
      "20-Nov-2016 18:07:15 DEBUG collection: Topic distribution available.\n",
      "20-Nov-2016 18:07:15 INFO collection: Accessing topic probability ...\n",
      "20-Nov-2016 18:07:15 DEBUG collection: Topic probability available.\n",
      "20-Nov-2016 18:07:15 INFO collection: Accessing plot labels ...\n",
      "20-Nov-2016 18:07:15 DEBUG collection: 10 plot labels available.\n",
      "20-Nov-2016 18:07:15 INFO collection: Creating heatmap figure ...\n",
      "20-Nov-2016 18:07:15 DEBUG collection: Heatmap figure available.\n"
     ]
    }
   ],
   "source": [
    "vis.make_heatmap()"
   ]
  },
  {
   "cell_type": "code",
   "execution_count": 22,
   "metadata": {
    "collapsed": false
   },
   "outputs": [
    {
     "name": "stderr",
     "output_type": "stream",
     "text": [
      "20-Nov-2016 18:07:16 INFO collection: Saving heatmap figure...\n",
      "20-Nov-2016 18:07:16 DEBUG collection: Heatmap figure available at ./visualizations/heatmap/heatmap.png\n"
     ]
    }
   ],
   "source": [
    "vis.save_heatmap(\"./visualizations/heatmap\")"
   ]
  },
  {
   "cell_type": "code",
   "execution_count": 23,
   "metadata": {
    "collapsed": false
   },
   "outputs": [
    {
     "name": "stderr",
     "output_type": "stream",
     "text": [
      "20-Nov-2016 18:07:17 INFO collection: Accessing corpus ...\n",
      "20-Nov-2016 18:07:17 INFO gensim.corpora.indexedcorpus: loaded corpus index from out_easy/corpus.mm.index\n",
      "20-Nov-2016 18:07:17 INFO gensim.matutils: initializing corpus reader from out_easy/corpus.mm\n",
      "20-Nov-2016 18:07:17 INFO gensim.matutils: accepted corpus with 17 documents, 514 features, 4585 non-zero entries\n",
      "20-Nov-2016 18:07:17 DEBUG collection: Corpus available.\n",
      "20-Nov-2016 18:07:17 INFO collection: Accessing model ...\n",
      "20-Nov-2016 18:07:17 INFO gensim.utils: loading LdaModel object from out_easy/corpus.lda\n",
      "20-Nov-2016 18:07:17 INFO gensim.utils: loading id2word recursively from out_easy/corpus.lda.id2word.* with mmap=None\n",
      "20-Nov-2016 18:07:17 INFO gensim.utils: setting ignored attribute state to None\n",
      "20-Nov-2016 18:07:17 INFO gensim.utils: setting ignored attribute dispatcher to None\n",
      "20-Nov-2016 18:07:17 INFO gensim.utils: loading LdaModel object from out_easy/corpus.lda.state\n",
      "20-Nov-2016 18:07:17 DEBUG collection: Model available.\n",
      "20-Nov-2016 18:07:17 DEBUG collection: :param: interactive == True.\n",
      "20-Nov-2016 18:07:17 INFO collection: Accessing dictionary ...\n",
      "20-Nov-2016 18:07:17 INFO gensim.utils: loading Dictionary object from out_easy/corpus.dict\n",
      "20-Nov-2016 18:07:17 DEBUG collection: Dictionary available.\n",
      "20-Nov-2016 18:07:17 DEBUG collection: Corpus, model and dictionary available.\n"
     ]
    }
   ],
   "source": [
    "vis = collection.Visualization(lda_model, corpus, dictionary, doc_labels, interactive=True)"
   ]
  },
  {
   "cell_type": "markdown",
   "metadata": {},
   "source": [
    "It is not possible to run `save_heatmap()` before `make_heatmap()`."
   ]
  },
  {
   "cell_type": "code",
   "execution_count": 24,
   "metadata": {
    "collapsed": false
   },
   "outputs": [
    {
     "name": "stderr",
     "output_type": "stream",
     "text": [
      "20-Nov-2016 18:07:18 INFO collection: Saving interactive visualization ...\n",
      "20-Nov-2016 18:07:18 ERROR collection: Run make_interactive() before save_interactive()\n"
     ]
    },
    {
     "ename": "AttributeError",
     "evalue": "'Visualization' object has no attribute 'interactive_vis'",
     "output_type": "error",
     "traceback": [
      "\u001b[0;31m---------------------------------------------------------------------------\u001b[0m",
      "\u001b[0;31mAttributeError\u001b[0m                            Traceback (most recent call last)",
      "\u001b[0;32m<ipython-input-24-c43724cc858f>\u001b[0m in \u001b[0;36m<module>\u001b[0;34m()\u001b[0m\n\u001b[0;32m----> 1\u001b[0;31m \u001b[0mvis\u001b[0m\u001b[0;34m.\u001b[0m\u001b[0msave_interactive\u001b[0m\u001b[0;34m(\u001b[0m\u001b[0;34m\"./visualizations/interactive\"\u001b[0m\u001b[0;34m)\u001b[0m\u001b[0;34m\u001b[0m\u001b[0m\n\u001b[0m",
      "\u001b[0;32m/Users/severin/git/Topics/collection.py\u001b[0m in \u001b[0;36msave_interactive\u001b[0;34m(self, path, filename)\u001b[0m\n\u001b[1;32m    407\u001b[0m         \u001b[0;32mtry\u001b[0m\u001b[0;34m:\u001b[0m\u001b[0;34m\u001b[0m\u001b[0m\n\u001b[1;32m    408\u001b[0m             \u001b[0mlog\u001b[0m\u001b[0;34m.\u001b[0m\u001b[0minfo\u001b[0m\u001b[0;34m(\u001b[0m\u001b[0;34m\"Saving interactive visualization ...\"\u001b[0m\u001b[0;34m)\u001b[0m\u001b[0;34m\u001b[0m\u001b[0m\n\u001b[0;32m--> 409\u001b[0;31m             \u001b[0mpyLDAvis\u001b[0m\u001b[0;34m.\u001b[0m\u001b[0msave_html\u001b[0m\u001b[0;34m(\u001b[0m\u001b[0mself\u001b[0m\u001b[0;34m.\u001b[0m\u001b[0minteractive_vis\u001b[0m\u001b[0;34m,\u001b[0m \u001b[0mos\u001b[0m\u001b[0;34m.\u001b[0m\u001b[0mpath\u001b[0m\u001b[0;34m.\u001b[0m\u001b[0mjoin\u001b[0m\u001b[0;34m(\u001b[0m\u001b[0mpath\u001b[0m\u001b[0;34m,\u001b[0m \u001b[0;34m'corpus_interactive.html'\u001b[0m\u001b[0;34m)\u001b[0m\u001b[0;34m)\u001b[0m\u001b[0;34m\u001b[0m\u001b[0m\n\u001b[0m\u001b[1;32m    410\u001b[0m             \u001b[0mpyLDAvis\u001b[0m\u001b[0;34m.\u001b[0m\u001b[0msave_json\u001b[0m\u001b[0;34m(\u001b[0m\u001b[0mself\u001b[0m\u001b[0;34m.\u001b[0m\u001b[0minteractive_vis\u001b[0m\u001b[0;34m,\u001b[0m \u001b[0mos\u001b[0m\u001b[0;34m.\u001b[0m\u001b[0mpath\u001b[0m\u001b[0;34m.\u001b[0m\u001b[0mjoin\u001b[0m\u001b[0;34m(\u001b[0m\u001b[0mpath\u001b[0m\u001b[0;34m,\u001b[0m \u001b[0;34m'corpus_interactive.json'\u001b[0m\u001b[0;34m)\u001b[0m\u001b[0;34m)\u001b[0m\u001b[0;34m\u001b[0m\u001b[0m\n\u001b[1;32m    411\u001b[0m             \u001b[0mpyLDAvis\u001b[0m\u001b[0;34m.\u001b[0m\u001b[0mprepared_data_to_html\u001b[0m\u001b[0;34m(\u001b[0m\u001b[0mself\u001b[0m\u001b[0;34m.\u001b[0m\u001b[0minteractive_vis\u001b[0m\u001b[0;34m)\u001b[0m\u001b[0;34m\u001b[0m\u001b[0m\n",
      "\u001b[0;31mAttributeError\u001b[0m: 'Visualization' object has no attribute 'interactive_vis'"
     ]
    }
   ],
   "source": [
    "vis.save_interactive(\"./visualizations/interactive\")"
   ]
  },
  {
   "cell_type": "code",
   "execution_count": 25,
   "metadata": {
    "collapsed": false
   },
   "outputs": [
    {
     "name": "stderr",
     "output_type": "stream",
     "text": [
      "20-Nov-2016 18:07:19 INFO collection: Accessing model, corpus and dictionary ...\n",
      "20-Nov-2016 18:07:19 DEBUG gensim.models.ldamodel: performing inference on a chunk of 17 documents\n",
      "20-Nov-2016 18:07:19 DEBUG gensim.models.ldamodel: 6/17 documents converged within 50 iterations\n",
      "20-Nov-2016 18:07:20 DEBUG collection: Interactive visualization available.\n"
     ]
    }
   ],
   "source": [
    "vis.make_interactive()"
   ]
  },
  {
   "cell_type": "code",
   "execution_count": 26,
   "metadata": {
    "collapsed": false
   },
   "outputs": [
    {
     "name": "stderr",
     "output_type": "stream",
     "text": [
      "20-Nov-2016 18:07:20 INFO collection: Saving interactive visualization ...\n",
      "20-Nov-2016 18:07:20 DEBUG collection: Interactive visualization available at ./visualizations/interactive/corpus_interactive.html and ./visualizations/interactive/corpus_interactive.json\n"
     ]
    }
   ],
   "source": [
    "vis.save_interactive(\"./visualizations/interactive\")"
   ]
  },
  {
   "cell_type": "markdown",
   "metadata": {},
   "source": [
    "![success](http://cdn2.hubspot.net/hub/128506/file-446943132-jpg/images/computer_woman_success.jpg)"
   ]
  }
 ],
 "metadata": {
  "kernelspec": {
   "display_name": "Python 3",
   "language": "python",
   "name": "python3"
  },
  "language_info": {
   "codemirror_mode": {
    "name": "ipython",
    "version": 3
   },
   "file_extension": ".py",
   "mimetype": "text/x-python",
   "name": "python",
   "nbconvert_exporter": "python",
   "pygments_lexer": "ipython3",
   "version": "3.5.2"
  }
 },
 "nbformat": 4,
 "nbformat_minor": 1
}
