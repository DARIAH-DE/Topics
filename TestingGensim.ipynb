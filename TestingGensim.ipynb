{
 "cells": [
  {
   "cell_type": "code",
   "execution_count": 1,
   "metadata": {
    "collapsed": false
   },
   "outputs": [
    {
     "name": "stderr",
     "output_type": "stream",
     "text": [
      "/usr/local/lib/python3.5/dist-packages/funcy/decorators.py:56: DeprecationWarning: inspect.getargspec() is deprecated, use inspect.signature() instead\n",
      "  spec = inspect.getargspec(func)\n",
      "/usr/local/lib/python3.5/dist-packages/funcy/decorators.py:56: DeprecationWarning: inspect.getargspec() is deprecated, use inspect.signature() instead\n",
      "  spec = inspect.getargspec(func)\n",
      "/usr/local/lib/python3.5/dist-packages/funcy/decorators.py:56: DeprecationWarning: inspect.getargspec() is deprecated, use inspect.signature() instead\n",
      "  spec = inspect.getargspec(func)\n",
      "/usr/local/lib/python3.5/dist-packages/funcy/decorators.py:56: DeprecationWarning: inspect.getargspec() is deprecated, use inspect.signature() instead\n",
      "  spec = inspect.getargspec(func)\n",
      "/usr/local/lib/python3.5/dist-packages/funcy/decorators.py:56: DeprecationWarning: inspect.getargspec() is deprecated, use inspect.signature() instead\n",
      "  spec = inspect.getargspec(func)\n",
      "/usr/local/lib/python3.5/dist-packages/funcy/decorators.py:56: DeprecationWarning: inspect.getargspec() is deprecated, use inspect.signature() instead\n",
      "  spec = inspect.getargspec(func)\n",
      "/usr/local/lib/python3.5/dist-packages/numpy/lib/utils.py:99: DeprecationWarning: `scipy.sparse.sparsetools` is deprecated!\n",
      "scipy.sparse.sparsetools is a private module for scipy.sparse, and should not be used.\n",
      "  warnings.warn(depdoc, DeprecationWarning)\n",
      "Slow version of gensim.models.word2vec is being used\n",
      "Slow version of gensim.models.doc2vec is being used\n"
     ]
    }
   ],
   "source": [
    "import collection "
   ]
  },
  {
   "cell_type": "markdown",
   "metadata": {},
   "source": [
    "##### Liste mit Dateinamen erzeugen"
   ]
  },
  {
   "cell_type": "code",
   "execution_count": 2,
   "metadata": {
    "collapsed": false,
    "scrolled": true
   },
   "outputs": [
    {
     "data": {
      "text/plain": [
       "['corpus/Poe_EurekaAProsePoem.txt',\n",
       " 'corpus/Howard_TheDevilinIron.txt',\n",
       " 'corpus/Lovecraft_TheShunnedHouse.txt',\n",
       " 'corpus/Howard_SchadowsinZamboula.txt',\n",
       " 'corpus/Doyle_AStudyinScarlet.txt',\n",
       " 'corpus/Lovecraft_TheCallofCthulu',\n",
       " 'corpus/Poe_TheCaskofAmontillado.txt',\n",
       " 'corpus/Poe_TheMasqueoftheRedDeath.txt',\n",
       " 'corpus/Howard_GodsoftheNorth.txt',\n",
       " 'corpus/Kipling_TheEndofthePassage.txt',\n",
       " 'corpus/Doyle_TheSignoftheFour.txt',\n",
       " 'corpus/Kipling_TheJungleBook.txt',\n",
       " 'corpus/Doyle_AScandalinBohemia.txt',\n",
       " 'corpus/Poe_ThePurloinedLetter.txt',\n",
       " 'corpus/Lovecraft_AttheMountainofMadness.txt',\n",
       " 'corpus/Lovecraft_TheNamelessCity',\n",
       " 'corpus/Kipling_ThyServantaDog.txt',\n",
       " 'corpus/Howard_ShadowsintheMoonlight.txt',\n",
       " 'corpus/Doyle_TheHoundoftheBaskervilles.txt']"
      ]
     },
     "execution_count": 2,
     "metadata": {},
     "output_type": "execute_result"
    }
   ],
   "source": [
    "doclist = collection.createListOfDocuments(\"corpus/*\")\n",
    "doclist"
   ]
  },
  {
   "cell_type": "markdown",
   "metadata": {},
   "source": [
    "##### Corpus laden"
   ]
  },
  {
   "cell_type": "code",
   "execution_count": 3,
   "metadata": {
    "collapsed": false
   },
   "outputs": [
    {
     "data": {
      "text/plain": [
       "<collection.ReadFromTXT at 0x7f86dd3e3438>"
      ]
     },
     "execution_count": 3,
     "metadata": {},
     "output_type": "execute_result"
    }
   ],
   "source": [
    "corpus = collection.ReadFromTXT(doclist)\n",
    "corpus"
   ]
  },
  {
   "cell_type": "markdown",
   "metadata": {},
   "source": [
    "##### Segmenter"
   ]
  },
  {
   "cell_type": "code",
   "execution_count": 4,
   "metadata": {
    "collapsed": false
   },
   "outputs": [
    {
     "name": "stdout",
     "output_type": "stream",
     "text": [
      "1000\n",
      "1000\n",
      "1000\n",
      "1000\n",
      "1000\n",
      "1000\n",
      "1000\n",
      "1000\n",
      "1000\n",
      "1000\n",
      "1000\n",
      "1000\n",
      "301\n"
     ]
    }
   ],
   "source": [
    "segments = []\n",
    "\n",
    "for document in list(corpus):\n",
    "   segments.append(collection.Segmenter(document, 1000))\n",
    "\n",
    "for s in list(segments[1]):\n",
    "    print(len(s))\n"
   ]
  },
  {
   "cell_type": "markdown",
   "metadata": {},
   "source": [
    "##### Liste mit CSV-Dateien erzeugen"
   ]
  },
  {
   "cell_type": "code",
   "execution_count": 5,
   "metadata": {
    "collapsed": false
   },
   "outputs": [
    {
     "data": {
      "text/plain": [
       "['Doyle_AStudyinScarlet.txt.csv',\n",
       " 'Doyle_TheHoundoftheBaskervilles.txt.csv',\n",
       " 'Doyle_TheSignoftheFour.txt.csv',\n",
       " 'Howard_GodsoftheNorth.txt.csv',\n",
       " 'Howard_SchadowsinZamboula.txt.csv',\n",
       " 'Howard_ShadowsintheMoonlight.txt.csv',\n",
       " 'Howard_TheDevilinIron.txt.csv',\n",
       " 'Kipling_TheEndofthePassage.txt.csv',\n",
       " 'Kipling_TheJungleBook.txt.csv',\n",
       " 'Kipling_ThyServantaDog.txt.csv',\n",
       " 'Lovecraft_AttheMountainofMadness.txt.csv',\n",
       " 'Lovecraft_TheShunnedHouse.txt.csv',\n",
       " 'Poe_EurekaAProsePoem.txt.csv',\n",
       " 'Poe_TheCaskofAmontillado.txt.csv',\n",
       " 'Poe_TheMasqueoftheRedDeath.txt.csv',\n",
       " 'Poe_ThePurloinedLetter.txt.csv']"
      ]
     },
     "execution_count": 5,
     "metadata": {},
     "output_type": "execute_result"
    }
   ],
   "source": [
    "import os\n",
    "files = sorted(os.listdir(\"corpus_csv\"))\n",
    "files"
   ]
  },
  {
   "cell_type": "markdown",
   "metadata": {},
   "source": [
    "##### POS-Tags auswählen"
   ]
  },
  {
   "cell_type": "code",
   "execution_count": 6,
   "metadata": {
    "collapsed": false
   },
   "outputs": [],
   "source": [
    "pos = ['ADJ', \"V\", \"NN\"]\n",
    "\n",
    "corpusCSV = collection.filterPOS(\"corpus_csv\", pos,  files)"
   ]
  },
  {
   "cell_type": "code",
   "execution_count": 12,
   "metadata": {
    "collapsed": false
   },
   "outputs": [
    {
     "data": {
      "text/plain": [
       "<generator object filterPOS.getLabels at 0x7f86dd0bff10>"
      ]
     },
     "execution_count": 12,
     "metadata": {},
     "output_type": "execute_result"
    }
   ],
   "source": [
    "labels = corpusCSV.getLabels()\n",
    "labels"
   ]
  },
  {
   "cell_type": "markdown",
   "metadata": {},
   "source": [
    "##### Lemma"
   ]
  },
  {
   "cell_type": "code",
   "execution_count": 20,
   "metadata": {
    "collapsed": false
   },
   "outputs": [
    {
     "data": {
      "text/plain": [
       "<generator object filterPOS.getLemma at 0x7f86dd0bfdb0>"
      ]
     },
     "execution_count": 20,
     "metadata": {},
     "output_type": "execute_result"
    }
   ],
   "source": [
    "lemma = corpusCSV.getLemma()\n",
    "lemma"
   ]
  },
  {
   "cell_type": "code",
   "execution_count": 22,
   "metadata": {
    "collapsed": false
   },
   "outputs": [],
   "source": []
  },
  {
   "cell_type": "code",
   "execution_count": null,
   "metadata": {
    "collapsed": true
   },
   "outputs": [],
   "source": []
  }
 ],
 "metadata": {
  "kernelspec": {
   "display_name": "Python 3",
   "language": "python",
   "name": "python3"
  },
  "language_info": {
   "codemirror_mode": {
    "name": "ipython",
    "version": 3
   },
   "file_extension": ".py",
   "mimetype": "text/x-python",
   "name": "python",
   "nbconvert_exporter": "python",
   "pygments_lexer": "ipython3",
   "version": "3.5.2"
  }
 },
 "nbformat": 4,
 "nbformat_minor": 1
}
