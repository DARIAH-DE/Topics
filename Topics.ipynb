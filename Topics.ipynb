{
 "cells": [
  {
   "cell_type": "markdown",
   "metadata": {},
   "source": [
    "# Topic Modeling #\n",
    "\n",
    "Gensim-based functions:"
   ]
  },
  {
   "cell_type": "markdown",
   "metadata": {},
   "source": [
    "Load functions from 'topics.py'."
   ]
  },
  {
   "cell_type": "code",
   "execution_count": 1,
   "metadata": {
    "collapsed": false
   },
   "outputs": [],
   "source": [
    "import topics as tp"
   ]
  },
  {
   "cell_type": "markdown",
   "metadata": {},
   "source": [
    "Read text files from a folder."
   ]
  },
  {
   "cell_type": "code",
   "execution_count": 2,
   "metadata": {
    "collapsed": false
   },
   "outputs": [],
   "source": [
    "documents = tp.readCorpus('./test_corpus/*.txt')"
   ]
  },
  {
   "cell_type": "markdown",
   "metadata": {},
   "source": [
    "Or create a test data set."
   ]
  },
  {
   "cell_type": "markdown",
   "metadata": {},
   "source": [
    "### Preprocessing ###\n",
    "\n",
    "Tokenize texts."
   ]
  },
  {
   "cell_type": "code",
   "execution_count": 3,
   "metadata": {
    "collapsed": true
   },
   "outputs": [],
   "source": [
    "texts = tp.tokenize(documents)"
   ]
  },
  {
   "cell_type": "markdown",
   "metadata": {},
   "source": [
    "Remove hapax legomena."
   ]
  },
  {
   "cell_type": "code",
   "execution_count": 4,
   "metadata": {
    "collapsed": true
   },
   "outputs": [],
   "source": [
    "texts = tp.removeHapaxLeg(texts)"
   ]
  },
  {
   "cell_type": "markdown",
   "metadata": {},
   "source": [
    "Remove stopwords."
   ]
  },
  {
   "cell_type": "code",
   "execution_count": 5,
   "metadata": {
    "collapsed": true
   },
   "outputs": [],
   "source": [
    "texts = tp.removeStopWords(texts, stoplist = 'en')"
   ]
  },
  {
   "cell_type": "markdown",
   "metadata": {},
   "source": [
    "### Model creation ###"
   ]
  },
  {
   "cell_type": "code",
   "execution_count": 6,
   "metadata": {
    "collapsed": false,
    "scrolled": true
   },
   "outputs": [],
   "source": [
    "model = tp.getTopics(texts, topics = 5, ldaSource = 'gensim')"
   ]
  },
  {
   "cell_type": "code",
   "execution_count": 7,
   "metadata": {
    "collapsed": false,
    "scrolled": false
   },
   "outputs": [
    {
     "data": {
      "text/plain": [
       "['0.012*conan + 0.011*s + 0.008*olivia + 0.008*like + 0.006*eyes + 0.005*sword + 0.005*saw + 0.004*man + 0.004*trees + 0.004*lay',\n",
       " '0.016*sir + 0.011*said + 0.010*s + 0.010*man + 0.009*holmes + 0.007*moor + 0.007*henry + 0.005*know + 0.005*watson + 0.005*baskerville',\n",
       " '0.013*said + 0.011*s + 0.009*man + 0.008*holmes + 0.005*little + 0.005*small + 0.004*night + 0.004*sholto + 0.004*way + 0.004*treasure',\n",
       " '0.001*said + 0.001*s + 0.001*holmes + 0.001*man + 0.001*sir + 0.001*night + 0.001*know + 0.001*t + 0.001*did + 0.001*like',\n",
       " '0.001*said + 0.001*sir + 0.001*man + 0.001*s + 0.001*holmes + 0.001*henry + 0.001*night + 0.001*come + 0.001*know + 0.001*think']"
      ]
     },
     "execution_count": 7,
     "metadata": {},
     "output_type": "execute_result"
    }
   ],
   "source": [
    "model.show_topics(num_topics = 10)"
   ]
  }
 ],
 "metadata": {
  "kernelspec": {
   "display_name": "Python 3",
   "language": "python",
   "name": "python3"
  },
  "language_info": {
   "codemirror_mode": {
    "name": "ipython",
    "version": 3
   },
   "file_extension": ".py",
   "mimetype": "text/x-python",
   "name": "python",
   "nbconvert_exporter": "python",
   "pygments_lexer": "ipython3",
   "version": "3.4.3"
  }
 },
 "nbformat": 4,
 "nbformat_minor": 0
}
