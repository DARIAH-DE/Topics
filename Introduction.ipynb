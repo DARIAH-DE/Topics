{
 "cells": [
  {
   "cell_type": "markdown",
   "metadata": {},
   "source": [
    "# Topics - Easy Topic Modeling in Python"
   ]
  },
  {
   "cell_type": "markdown",
   "metadata": {},
   "source": [
    "The text mining technique Topic Modeling has become a popular statistical method for clustering documents. This notebook introduces an user-friendly workflow, basically containing data preprocessing, an implementation of LDA (Latent Dirichlet Allocation) topic modeling which learns the relationships between words, topics, and documents, as well as a visualization to explore the trained LDA model."
   ]
  },
  {
   "cell_type": "markdown",
   "metadata": {},
   "source": [
    "#### Preperations\n",
    "\n",
    "The following tutorial will explain how to perform LDA topic modeling with a programming library in Python. If you have not done so yet, please follow the instructions for installing jupyter and all necessary python libraries mentioned in readme.txt/installation_instructions.\n",
    "\n",
    "Before you start, make sure to have Git and the Topics repository ready to use on your computer:\n",
    "1. Download and install [Git](https://git-scm.com/book/en/v2/Getting-Started-Installing-Git)\n",
    "2. Open the [command-line interface](https://en.wikipedia.org/wiki/Command-line_interface), type `git clone https://github.com/DARIAH-DE/Topics.git` and press Enter\n",
    "3. Access the new folder *topics* in your package explorer\n",
    "4. To install the required packages, simply run `setup.py`\n",
    "5. Install [Jupyter](http://jupyter.readthedocs.io/en/latest/install.html) and run it by typing `jupyter notebook` in the command-line\n",
    "5. Access the folder **Topics** through Jupyter in your browser, open **IntroductionTopics.ipynb** and follow the instructions"
   ]
  },
  {
   "cell_type": "markdown",
   "metadata": {},
   "source": [
    "## 1. Preprocessing"
   ]
  },
  {
   "cell_type": "markdown",
   "metadata": {},
   "source": [
    "### 1.1. Loading modules"
   ]
  },
  {
   "cell_type": "markdown",
   "metadata": {},
   "source": [
    "#### Loading modules from DARIAH-Topics library\n",
    "First, we have to get access to the functionalities of the library by importing them. For using its functions we use the prefix of the toolbox's submodules (pre, visual and mallet)."
   ]
  },
  {
   "cell_type": "code",
   "execution_count": 1,
   "metadata": {
    "collapsed": true
   },
   "outputs": [],
   "source": [
    "from dariah_topics import preprocessing as pre\n",
    "from dariah_topics import visualization as visual\n",
    "from dariah_topics import mallet as mal"
   ]
  },
  {
   "cell_type": "markdown",
   "metadata": {},
   "source": [
    "#### Load required functions from Gensim\n",
    "Furthermore, we will need some additional functions from external libraries."
   ]
  },
  {
   "cell_type": "code",
   "execution_count": 2,
   "metadata": {
    "collapsed": true
   },
   "outputs": [],
   "source": [
    "from gensim.models import LdaModel\n",
    "from gensim.corpora import MmCorpus"
   ]
  },
  {
   "cell_type": "markdown",
   "metadata": {},
   "source": [
    "#### Activating inline output in Jupyter notebook\n",
    "The following line will just tell the notebook to show graphics in the output frames."
   ]
  },
  {
   "cell_type": "code",
   "execution_count": 3,
   "metadata": {
    "collapsed": false
   },
   "outputs": [
    {
     "name": "stderr",
     "output_type": "stream",
     "text": [
      "/usr/local/lib/python3.4/dist-packages/traitlets/traitlets.py:809: DeprecationWarning: A parent of InlineBackend._config_changed has adopted the new (traitlets 4.1) @observe(change) API\n",
      "  clsname, change_or_name), DeprecationWarning)\n",
      "/usr/lib/python3.4/importlib/_bootstrap.py:321: DeprecationWarning: `IPython.lib.inputhook` is deprecated since IPython 5.0 and will be removed in future versions.\n",
      "  return f(*args, **kwds)\n",
      "/usr/local/lib/python3.4/dist-packages/IPython/lib/inputhook.py:327: DeprecationWarning: `register` is deprecated since IPython 5.0 and will be removed in future versions.\n",
      "  @inputhook_manager.register('osx')\n",
      "/usr/local/lib/python3.4/dist-packages/IPython/lib/inputhook.py:336: DeprecationWarning: `register` is deprecated since IPython 5.0 and will be removed in future versions.\n",
      "  @inputhook_manager.register('wx')\n",
      "/usr/local/lib/python3.4/dist-packages/IPython/lib/inputhook.py:398: DeprecationWarning: `register` is deprecated since IPython 5.0 and will be removed in future versions.\n",
      "  @inputhook_manager.register('qt', 'qt4')\n",
      "/usr/local/lib/python3.4/dist-packages/IPython/lib/inputhook.py:449: DeprecationWarning: `register` is deprecated since IPython 5.0 and will be removed in future versions.\n",
      "  @inputhook_manager.register('qt5')\n",
      "/usr/local/lib/python3.4/dist-packages/IPython/lib/inputhook.py:458: DeprecationWarning: `register` is deprecated since IPython 5.0 and will be removed in future versions.\n",
      "  @inputhook_manager.register('gtk')\n",
      "/usr/local/lib/python3.4/dist-packages/IPython/lib/inputhook.py:489: DeprecationWarning: `register` is deprecated since IPython 5.0 and will be removed in future versions.\n",
      "  @inputhook_manager.register('tk')\n",
      "/usr/local/lib/python3.4/dist-packages/IPython/lib/inputhook.py:522: DeprecationWarning: `register` is deprecated since IPython 5.0 and will be removed in future versions.\n",
      "  @inputhook_manager.register('glut')\n",
      "/usr/local/lib/python3.4/dist-packages/IPython/lib/inputhook.py:596: DeprecationWarning: `register` is deprecated since IPython 5.0 and will be removed in future versions.\n",
      "  @inputhook_manager.register('pyglet')\n",
      "/usr/local/lib/python3.4/dist-packages/IPython/lib/inputhook.py:624: DeprecationWarning: `register` is deprecated since IPython 5.0 and will be removed in future versions.\n",
      "  @inputhook_manager.register('gtk3')\n"
     ]
    }
   ],
   "source": [
    "%matplotlib inline"
   ]
  },
  {
   "cell_type": "markdown",
   "metadata": {},
   "source": [
    "### 1.2. Reading a corpus of documents"
   ]
  },
  {
   "cell_type": "markdown",
   "metadata": {},
   "source": [
    "#### Defining the path to the corpus folder\n",
    "\n",
    "In the present example code, we are using a folder of 'txt' documents provided with the package. For using your own corpus, change the path accordingly."
   ]
  },
  {
   "cell_type": "code",
   "execution_count": 4,
   "metadata": {
    "collapsed": true
   },
   "outputs": [],
   "source": [
    "path = \"corpus_txt\""
   ]
  },
  {
   "cell_type": "markdown",
   "metadata": {},
   "source": [
    "#### List all documents in the folder\n",
    "We begin by creating a list of all the documents in the folder specified above. That list will tell function `pre.read_from_txt()` (see below) which text documents to read."
   ]
  },
  {
   "cell_type": "code",
   "execution_count": 5,
   "metadata": {
    "collapsed": true
   },
   "outputs": [],
   "source": [
    "doclist = pre.create_document_list(path)"
   ]
  },
  {
   "cell_type": "markdown",
   "metadata": {},
   "source": [
    "The current list of documents looks like this:"
   ]
  },
  {
   "cell_type": "code",
   "execution_count": 6,
   "metadata": {
    "collapsed": false
   },
   "outputs": [
    {
     "data": {
      "text/plain": [
       "['corpus_txt/Kipling_TheEndofthePassage.txt',\n",
       " 'corpus_txt/Howard_TheDevilinIron.txt',\n",
       " 'corpus_txt/Poe_TheMasqueoftheRedDeath.txt',\n",
       " 'corpus_txt/Doyle_AScandalinBohemia.txt',\n",
       " 'corpus_txt/Doyle_AStudyinScarlet.txt',\n",
       " 'corpus_txt/Kipling_ThyServantaDog.txt',\n",
       " 'corpus_txt/Poe_TheCaskofAmontillado.txt',\n",
       " 'corpus_txt/Howard_ShadowsintheMoonlight.txt',\n",
       " 'corpus_txt/Howard_GodsoftheNorth.txt',\n",
       " 'corpus_txt/Howard_SchadowsinZamboula.txt',\n",
       " 'corpus_txt/Doyle_TheSignoftheFour.txt',\n",
       " 'corpus_txt/Lovecraft_AttheMountainofMadness.txt',\n",
       " 'corpus_txt/Poe_ThePurloinedLetter.txt',\n",
       " 'corpus_txt/Lovecraft_TheShunnedHouse.txt',\n",
       " 'corpus_txt/Poe_EurekaAProsePoem.txt',\n",
       " 'corpus_txt/Kipling_TheJungleBook.txt',\n",
       " 'corpus_txt/Doyle_TheHoundoftheBaskervilles.txt']"
      ]
     },
     "execution_count": 6,
     "metadata": {},
     "output_type": "execute_result"
    }
   ],
   "source": [
    "doclist"
   ]
  },
  {
   "cell_type": "markdown",
   "metadata": {},
   "source": [
    "**Alternatively**, if we want to use other documents, or just a selction of those in the specified folder, we can define our own `doclist` by creating a list of strings containing paths to text files. For example, to use only the texts by Edgar A. Poe from the current folder, we would define the list as\n",
    "\n",
    "`\n",
    "    doclist = [ 'corpus_txt/Poe_TheMasqueoftheRedDeath.txt', \n",
    "            'corpus_txt/Poe_TheCaskofAmontillado.txt', \n",
    "            'corpus_txt/Poe_ThePurloinedLetter.txt',\n",
    "            'corpus_txt/Poe_ThePurloinedLetter.txt',\n",
    "            'corpus_txt/Poe_EurekaAProsePoem.txt']\n",
    "`"
   ]
  },
  {
   "cell_type": "markdown",
   "metadata": {},
   "source": [
    "#### Generate document labels"
   ]
  },
  {
   "cell_type": "code",
   "execution_count": 7,
   "metadata": {
    "collapsed": false
   },
   "outputs": [],
   "source": [
    "doc_labels = list(pre.get_labels(doclist))"
   ]
  },
  {
   "cell_type": "markdown",
   "metadata": {},
   "source": [
    "#### Read listed documents from folder"
   ]
  },
  {
   "cell_type": "code",
   "execution_count": 8,
   "metadata": {
    "collapsed": true
   },
   "outputs": [],
   "source": [
    "corpus = pre.read_from_txt(doclist)"
   ]
  },
  {
   "cell_type": "markdown",
   "metadata": {},
   "source": [
    "At this point, the corpus is generator object."
   ]
  },
  {
   "cell_type": "markdown",
   "metadata": {},
   "source": [
    "### 1.3. Tokenize corpus\n",
    "Your text files will be tokenized. Tokenization is the task of cutting a stream of characters into linguistic units, simply words or, more precisely, tokens. The tokenize function the library provides is a simple unicode tokenizer. Depending on the corpus it might be useful to use an external tokenizer function, or even develop your own, since its efficiency varies with language, epoch and text type."
   ]
  },
  {
   "cell_type": "code",
   "execution_count": 9,
   "metadata": {
    "collapsed": true
   },
   "outputs": [],
   "source": [
    "doc_tokens = [list(pre.tokenize(doc)) for doc in list(corpus)]"
   ]
  },
  {
   "cell_type": "markdown",
   "metadata": {},
   "source": [
    "At this point, each text is represented by a list of separate token strings. If we want to look e.g. into the first text (which has the index `0` as Python starts counting at 0) and show its first 10 words/tokens (that have the indeces `0:9` accordingly) by typing:"
   ]
  },
  {
   "cell_type": "code",
   "execution_count": 10,
   "metadata": {
    "collapsed": false
   },
   "outputs": [
    {
     "data": {
      "text/plain": [
       "['title', 'at', 'the', 'end', 'of', 'the', 'passage', 'author', 'rudyard']"
      ]
     },
     "execution_count": 10,
     "metadata": {},
     "output_type": "execute_result"
    }
   ],
   "source": [
    "doc_tokens[0][0:9]"
   ]
  },
  {
   "cell_type": "markdown",
   "metadata": {},
   "source": [
    "### 1.4. Create a sparse bag-of-words model\n",
    "\n",
    "The LDA topic model is based on a bag-of-words model of the corpus. To improve performance in large corpora, actual words and document titels are replaced by indices in the actual bag-of-words model. It is therefore necessary to create dictionaries for mapping these indices in advance."
   ]
  },
  {
   "cell_type": "markdown",
   "metadata": {},
   "source": [
    "#### Create dictionaries"
   ]
  },
  {
   "cell_type": "code",
   "execution_count": 11,
   "metadata": {
    "collapsed": true
   },
   "outputs": [],
   "source": [
    "id_types, doc_ids = pre.create_dictionaries(doc_labels, doc_tokens)"
   ]
  },
  {
   "cell_type": "markdown",
   "metadata": {},
   "source": [
    "#### Create market matrix"
   ]
  },
  {
   "cell_type": "code",
   "execution_count": 12,
   "metadata": {
    "collapsed": true
   },
   "outputs": [],
   "source": [
    "sparse_bow = pre.create_mm(doc_labels, doc_tokens, id_types, doc_ids)"
   ]
  },
  {
   "cell_type": "markdown",
   "metadata": {},
   "source": [
    "### 1.5. Feature selection and/or removal\n",
    "\n",
    "In topic modeling, it is often usefull (if not vital) to remove some types before modeling. In this example, the 100 most frequent words and the *hapax legomena* in the corpus are listed and removed. Alternatively, the 'feature_list' containing all features to be removed from the corpus can be replaced by, or combined with an external stop word list or any other list of strings containing features we want to remove."
   ]
  },
  {
   "cell_type": "markdown",
   "metadata": {},
   "source": [
    "#### List the 100 most frequent words"
   ]
  },
  {
   "cell_type": "code",
   "execution_count": 13,
   "metadata": {
    "collapsed": true
   },
   "outputs": [],
   "source": [
    "mfw100 = pre.find_stopwords(sparse_bow, id_types, 100)"
   ]
  },
  {
   "cell_type": "markdown",
   "metadata": {},
   "source": [
    "#### List hapax legomena"
   ]
  },
  {
   "cell_type": "code",
   "execution_count": 14,
   "metadata": {
    "collapsed": true
   },
   "outputs": [],
   "source": [
    "hapax_list = pre.find_hapax(sparse_bow, id_types)"
   ]
  },
  {
   "cell_type": "markdown",
   "metadata": {},
   "source": [
    "#### Combine lists and remove content from bag-of-words model"
   ]
  },
  {
   "cell_type": "code",
   "execution_count": 15,
   "metadata": {
    "collapsed": true
   },
   "outputs": [],
   "source": [
    "feature_list = set(mfw100).union(hapax_list)\n",
    "clean_term_frequency = pre.remove_features(sparse_bow, id_types, feature_list)"
   ]
  },
  {
   "cell_type": "markdown",
   "metadata": {},
   "source": [
    "### 1.6. Save bag-of-words model"
   ]
  },
  {
   "cell_type": "code",
   "execution_count": 16,
   "metadata": {
    "collapsed": false
   },
   "outputs": [],
   "source": [
    "pre.save_bow_mm(sparse_bow, \"gb_plain\")"
   ]
  },
  {
   "cell_type": "markdown",
   "metadata": {},
   "source": [
    "## 2. Model creation\n",
    "\n",
    "The actual topic modeling is done with external state-of-the-art LDA implementations. In this example, we are relying on the open-source toolkit **Gensim** which was used and cited in over 400 commercial and academic applications since 2008. As an alternative, the Java program **Mallet** can be used for LDA. Instruction on how to use Mallet can be found in the [Mallet notebook](Mallet.ipynb)."
   ]
  },
  {
   "cell_type": "markdown",
   "metadata": {},
   "source": [
    "### 2.1. Load corpus object"
   ]
  },
  {
   "cell_type": "code",
   "execution_count": 17,
   "metadata": {
    "collapsed": false
   },
   "outputs": [],
   "source": [
    "mm = MmCorpus(\"gb_plain.mm\")"
   ]
  },
  {
   "cell_type": "markdown",
   "metadata": {},
   "source": [
    "### 2.2. Rearrange dictionaries "
   ]
  },
  {
   "cell_type": "code",
   "execution_count": 18,
   "metadata": {
    "collapsed": true
   },
   "outputs": [],
   "source": [
    "doc2id = {value : key for key, value in doc_ids.items()}\n",
    "type2id = {value : key for key, value in id_types.items()}"
   ]
  },
  {
   "cell_type": "markdown",
   "metadata": {},
   "source": [
    "### 2.3. Generate LDA model\n",
    "\n",
    "We can define the number of topics we want to calculate as an argument in the function. Furthermore, the number of passes can be defined. A higher number of passes will probably yield a better model, but also increase processing time.\n",
    "\n",
    "**Warning: this step can take quite a while!** Meaning something between some seconds and some hours depending on corpus size and the number of passes. Our example short stories corpus should be done within a minute or two at 'passes = 10'."
   ]
  },
  {
   "cell_type": "code",
   "execution_count": 19,
   "metadata": {
    "collapsed": false
   },
   "outputs": [],
   "source": [
    "model = LdaModel(corpus=mm, id2word=type2id, num_topics=10, passes = 10)"
   ]
  },
  {
   "cell_type": "markdown",
   "metadata": {},
   "source": [
    "### 2.4. Create document-topic matrix\n",
    "\n",
    "The generated model object can now be translated into a human-readable document-topic matrix (that is a actually a pandas data frame) that constitutes our principle exchange format for topic modeling results. For generating the matrix from a Gensim model, we can use the following function:"
   ]
  },
  {
   "cell_type": "code",
   "execution_count": 20,
   "metadata": {
    "collapsed": false
   },
   "outputs": [],
   "source": [
    "doc_topic = visual.create_doc_topic(mm, model, doc_labels)"
   ]
  },
  {
   "cell_type": "markdown",
   "metadata": {},
   "source": [
    "## 3. Model visualization and evaluation"
   ]
  },
  {
   "cell_type": "markdown",
   "metadata": {},
   "source": [
    "Now we can see the topics in the model with the following function:"
   ]
  },
  {
   "cell_type": "code",
   "execution_count": 21,
   "metadata": {
    "collapsed": false
   },
   "outputs": [
    {
     "data": {
      "text/html": [
       "<div>\n",
       "<table border=\"1\" class=\"dataframe\">\n",
       "  <thead>\n",
       "    <tr style=\"text-align: right;\">\n",
       "      <th></th>\n",
       "      <th>Key 1</th>\n",
       "      <th>Key 2</th>\n",
       "      <th>Key 3</th>\n",
       "      <th>Key 4</th>\n",
       "      <th>Key 5</th>\n",
       "      <th>Key 6</th>\n",
       "      <th>Key 7</th>\n",
       "      <th>Key 8</th>\n",
       "      <th>Key 9</th>\n",
       "      <th>Key 10</th>\n",
       "    </tr>\n",
       "  </thead>\n",
       "  <tbody>\n",
       "    <tr>\n",
       "      <th>Topic 1</th>\n",
       "      <td>wadding</td>\n",
       "      <td>streaks</td>\n",
       "      <td>leathers</td>\n",
       "      <td>isn't</td>\n",
       "      <td>fox-hounds</td>\n",
       "      <td>ledges</td>\n",
       "      <td>recompense</td>\n",
       "      <td>inviolate</td>\n",
       "      <td>camel</td>\n",
       "      <td>close-knit</td>\n",
       "    </tr>\n",
       "    <tr>\n",
       "      <th>Topic 2</th>\n",
       "      <td>wadding</td>\n",
       "      <td>streaks</td>\n",
       "      <td>leathers</td>\n",
       "      <td>isn't</td>\n",
       "      <td>fox-hounds</td>\n",
       "      <td>ledges</td>\n",
       "      <td>recompense</td>\n",
       "      <td>inviolate</td>\n",
       "      <td>close-knit</td>\n",
       "      <td>camel</td>\n",
       "    </tr>\n",
       "    <tr>\n",
       "      <th>Topic 3</th>\n",
       "      <td>wadding</td>\n",
       "      <td>streaks</td>\n",
       "      <td>leathers</td>\n",
       "      <td>isn't</td>\n",
       "      <td>recompense</td>\n",
       "      <td>ledges</td>\n",
       "      <td>fox-hounds</td>\n",
       "      <td>inviolate</td>\n",
       "      <td>camel</td>\n",
       "      <td>jewels</td>\n",
       "    </tr>\n",
       "    <tr>\n",
       "      <th>Topic 4</th>\n",
       "      <td>wadding</td>\n",
       "      <td>streaks</td>\n",
       "      <td>leathers</td>\n",
       "      <td>isn't</td>\n",
       "      <td>fox-hounds</td>\n",
       "      <td>seasonal</td>\n",
       "      <td>agglomerative</td>\n",
       "      <td>ledges</td>\n",
       "      <td>close-knit</td>\n",
       "      <td>jewels</td>\n",
       "    </tr>\n",
       "    <tr>\n",
       "      <th>Topic 5</th>\n",
       "      <td>wadding</td>\n",
       "      <td>leathers</td>\n",
       "      <td>streaks</td>\n",
       "      <td>isn't</td>\n",
       "      <td>fox-hounds</td>\n",
       "      <td>close-knit</td>\n",
       "      <td>ledges</td>\n",
       "      <td>recompense</td>\n",
       "      <td>inviolate</td>\n",
       "      <td>neolithic</td>\n",
       "    </tr>\n",
       "    <tr>\n",
       "      <th>Topic 6</th>\n",
       "      <td>wadding</td>\n",
       "      <td>leathers</td>\n",
       "      <td>nurse</td>\n",
       "      <td>streaks</td>\n",
       "      <td>u-boat</td>\n",
       "      <td>camel</td>\n",
       "      <td>launched</td>\n",
       "      <td>fox-hounds</td>\n",
       "      <td>crocodile</td>\n",
       "      <td>recently</td>\n",
       "    </tr>\n",
       "    <tr>\n",
       "      <th>Topic 7</th>\n",
       "      <td>wadding</td>\n",
       "      <td>leathers</td>\n",
       "      <td>isn't</td>\n",
       "      <td>streaks</td>\n",
       "      <td>inviolate</td>\n",
       "      <td>fox-hounds</td>\n",
       "      <td>close-knit</td>\n",
       "      <td>impassable</td>\n",
       "      <td>camel</td>\n",
       "      <td>ledges</td>\n",
       "    </tr>\n",
       "    <tr>\n",
       "      <th>Topic 8</th>\n",
       "      <td>wadding</td>\n",
       "      <td>leathers</td>\n",
       "      <td>streaks</td>\n",
       "      <td>camel</td>\n",
       "      <td>inviolate</td>\n",
       "      <td>isn't</td>\n",
       "      <td>fox-hounds</td>\n",
       "      <td>close-knit</td>\n",
       "      <td>neolithic</td>\n",
       "      <td>nurse</td>\n",
       "    </tr>\n",
       "    <tr>\n",
       "      <th>Topic 9</th>\n",
       "      <td>wadding</td>\n",
       "      <td>leathers</td>\n",
       "      <td>streaks</td>\n",
       "      <td>isn't</td>\n",
       "      <td>ledges</td>\n",
       "      <td>fox-hounds</td>\n",
       "      <td>inviolate</td>\n",
       "      <td>recompense</td>\n",
       "      <td>camel</td>\n",
       "      <td>close-knit</td>\n",
       "    </tr>\n",
       "    <tr>\n",
       "      <th>Topic 10</th>\n",
       "      <td>wadding</td>\n",
       "      <td>streaks</td>\n",
       "      <td>leathers</td>\n",
       "      <td>isn't</td>\n",
       "      <td>fox-hounds</td>\n",
       "      <td>inviolate</td>\n",
       "      <td>recompense</td>\n",
       "      <td>close-knit</td>\n",
       "      <td>ledges</td>\n",
       "      <td>jewels</td>\n",
       "    </tr>\n",
       "  </tbody>\n",
       "</table>\n",
       "</div>"
      ],
      "text/plain": [
       "            Key 1     Key 2     Key 3    Key 4       Key 5       Key 6  \\\n",
       "Topic 1   wadding   streaks  leathers    isn't  fox-hounds      ledges   \n",
       "Topic 2   wadding   streaks  leathers    isn't  fox-hounds      ledges   \n",
       "Topic 3   wadding   streaks  leathers    isn't  recompense      ledges   \n",
       "Topic 4   wadding   streaks  leathers    isn't  fox-hounds    seasonal   \n",
       "Topic 5   wadding  leathers   streaks    isn't  fox-hounds  close-knit   \n",
       "Topic 6   wadding  leathers     nurse  streaks      u-boat       camel   \n",
       "Topic 7   wadding  leathers     isn't  streaks   inviolate  fox-hounds   \n",
       "Topic 8   wadding  leathers   streaks    camel   inviolate       isn't   \n",
       "Topic 9   wadding  leathers   streaks    isn't      ledges  fox-hounds   \n",
       "Topic 10  wadding   streaks  leathers    isn't  fox-hounds   inviolate   \n",
       "\n",
       "                  Key 7       Key 8       Key 9      Key 10  \n",
       "Topic 1      recompense   inviolate       camel  close-knit  \n",
       "Topic 2      recompense   inviolate  close-knit       camel  \n",
       "Topic 3      fox-hounds   inviolate       camel      jewels  \n",
       "Topic 4   agglomerative      ledges  close-knit      jewels  \n",
       "Topic 5          ledges  recompense   inviolate   neolithic  \n",
       "Topic 6        launched  fox-hounds   crocodile    recently  \n",
       "Topic 7      close-knit  impassable       camel      ledges  \n",
       "Topic 8      fox-hounds  close-knit   neolithic       nurse  \n",
       "Topic 9       inviolate  recompense       camel  close-knit  \n",
       "Topic 10     recompense  close-knit      ledges      jewels  "
      ]
     },
     "execution_count": 21,
     "metadata": {},
     "output_type": "execute_result"
    }
   ],
   "source": [
    "visual.topicwords_in_df(model)"
   ]
  },
  {
   "cell_type": "markdown",
   "metadata": {},
   "source": [
    "### 3.1. Distribution of topics"
   ]
  },
  {
   "cell_type": "markdown",
   "metadata": {},
   "source": [
    "#### Distribution of topics over all documents\n",
    "\n",
    "The distribution of topics over all documents can now be visualized in a heat map:"
   ]
  },
  {
   "cell_type": "code",
   "execution_count": 22,
   "metadata": {
    "collapsed": false
   },
   "outputs": [
    {
     "data": {
      "image/png": "[encoded data removed]",
      "text/plain": [
       "<matplotlib.figure.Figure at 0x7f854635a5f8>"
      ]
     },
     "metadata": {},
     "output_type": "display_data"
    }
   ],
   "source": [
    "heatmap = visual.doc_topic_heatmap(doc_topic)\n",
    "heatmap.show()"
   ]
  },
  {
   "cell_type": "markdown",
   "metadata": {},
   "source": [
    "#### Distribution of topics in a single documents\n",
    "\n",
    "To take closer look on the topics in a single text, we can use the follwing function that shows all the topics in a text and their respective proportions. To select the document, we have to give its index to the function."
   ]
  },
  {
   "cell_type": "code",
   "execution_count": 23,
   "metadata": {
    "collapsed": false,
    "scrolled": false
   },
   "outputs": [
    {
     "data": {
      "image/png": "[encoded data removed]",
      "text/plain": [
       "<matplotlib.figure.Figure at 0x7f8545e04b38>"
      ]
     },
     "metadata": {},
     "output_type": "display_data"
    }
   ],
   "source": [
    "visual.plot_doc_topics(doc_topic, 3)"
   ]
  }
 ],
 "metadata": {
  "kernelspec": {
   "display_name": "Python 3",
   "language": "python",
   "name": "python3"
  },
  "language_info": {
   "codemirror_mode": {
    "name": "ipython",
    "version": 3
   },
   "file_extension": ".py",
   "mimetype": "text/x-python",
   "name": "python",
   "nbconvert_exporter": "python",
   "pygments_lexer": "ipython3",
   "version": "3.4.3"
  }
 },
 "nbformat": 4,
 "nbformat_minor": 0
}
