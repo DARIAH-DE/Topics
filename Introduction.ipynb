{
 "cells": [
  {
   "cell_type": "markdown",
   "metadata": {},
   "source": [
    "# Topics - Easy Topic Modeling in Python"
   ]
  },
  {
   "cell_type": "markdown",
   "metadata": {},
   "source": [
    "The text mining technique Topic Modeling has become a popular statistical method for clustering documents. This notebook introduces an user-friendly workflow, basically containing data preprocessing, an implementation of LDA (Latent Dirichlet Allocation) topic modeling which learns the relationships between words, topics, and documents, as well as a visualization to explore the trained LDA model."
   ]
  },
  {
   "cell_type": "markdown",
   "metadata": {},
   "source": [
    "#### Preperations\n",
    "\n",
    "The following tutorial will explain how to perform LDA topic modeling with a programming library in Python. If you have not done so yet, please follow the instructions for installing jupyter and all necessary python libraries mentioned in readme.txt/installation_instructions.\n",
    "\n",
    "Before you start, make sure to have Git and the Topics repository ready to use on your computer:\n",
    "1. Download and install [Git](https://git-scm.com/book/en/v2/Getting-Started-Installing-Git)\n",
    "2. Open the [command-line interface](https://en.wikipedia.org/wiki/Command-line_interface), type `git clone https://github.com/DARIAH-DE/Topics.git` and press Enter\n",
    "3. Access the new folder *topics* in your package explorer\n",
    "4. To install the required packages, simply run `setup.py`\n",
    "5. Install [Jupyter](http://jupyter.readthedocs.io/en/latest/install.html) and run it by typing `jupyter notebook` in the command-line\n",
    "5. Access the folder **Topics** through Jupyter in your browser, open **IntroductionTopics.ipynb** and follow the instructions"
   ]
  },
  {
   "cell_type": "markdown",
   "metadata": {},
   "source": [
    "## 1. Preprocessing"
   ]
  },
  {
   "cell_type": "markdown",
   "metadata": {},
   "source": [
    "### 1.1. Loading modules"
   ]
  },
  {
   "cell_type": "markdown",
   "metadata": {},
   "source": [
    "#### Loading modules from DARIAH-Topics library\n",
    "First, we have to get access to the functionalities of the library by importing them. For using its functions we use the prefix of the toolbox's submodules (pre, visual and mallet)."
   ]
  },
  {
   "cell_type": "code",
   "execution_count": 1,
   "metadata": {},
   "outputs": [
    {
     "name": "stderr",
     "output_type": "stream",
     "text": [
      "INFO summa.preprocessing.cleaner: 'pattern' package not found; tag filters are not available for English\n"
     ]
    }
   ],
   "source": [
    "from dariah_topics import preprocessing as pre\n",
    "from dariah_topics import visualization as visual\n",
    "from dariah_topics import mallet as mal"
   ]
  },
  {
   "cell_type": "markdown",
   "metadata": {},
   "source": [
    "#### Load required functions from Gensim\n",
    "Furthermore, we will need some additional functions from external libraries."
   ]
  },
  {
   "cell_type": "code",
   "execution_count": 2,
   "metadata": {
    "collapsed": true
   },
   "outputs": [],
   "source": [
    "from gensim.models import LdaModel\n",
    "from gensim.corpora import MmCorpus"
   ]
  },
  {
   "cell_type": "markdown",
   "metadata": {},
   "source": [
    "#### Activating inline output in Jupyter notebook\n",
    "The following line will just tell the notebook to show graphics in the output frames."
   ]
  },
  {
   "cell_type": "code",
   "execution_count": 3,
   "metadata": {},
   "outputs": [],
   "source": [
    "%matplotlib inline"
   ]
  },
  {
   "cell_type": "markdown",
   "metadata": {},
   "source": [
    "### 1.2. Reading a corpus of documents"
   ]
  },
  {
   "cell_type": "markdown",
   "metadata": {},
   "source": [
    "#### Defining the path to the corpus folder\n",
    "\n",
    "In the present example code, we are using a folder of 'txt' documents provided with the package. For using your own corpus, change the path accordingly."
   ]
  },
  {
   "cell_type": "code",
   "execution_count": 4,
   "metadata": {
    "collapsed": true
   },
   "outputs": [],
   "source": [
    "path = \"corpus_txt\""
   ]
  },
  {
   "cell_type": "markdown",
   "metadata": {},
   "source": [
    "#### List all documents in the folder\n",
    "We begin by creating a list of all the documents in the folder specified above. That list will tell function `pre.read_from_txt()` (see below) which text documents to read."
   ]
  },
  {
   "cell_type": "code",
   "execution_count": 5,
   "metadata": {},
   "outputs": [
    {
     "name": "stderr",
     "output_type": "stream",
     "text": [
      "INFO preprocessing: Creating document list from TXT files ...\n"
     ]
    }
   ],
   "source": [
    "doclist = pre.create_document_list(path)"
   ]
  },
  {
   "cell_type": "markdown",
   "metadata": {},
   "source": [
    "The current list of documents looks like this:"
   ]
  },
  {
   "cell_type": "code",
   "execution_count": 6,
   "metadata": {},
   "outputs": [
    {
     "data": {
      "text/plain": [
       "['corpus_txt/Poe_TheMasqueoftheRedDeath.txt',\n",
       " 'corpus_txt/Doyle_AScandalinBohemia.txt',\n",
       " 'corpus_txt/Kipling_ThyServantaDog.txt',\n",
       " 'corpus_txt/Poe_EurekaAProsePoem.txt',\n",
       " 'corpus_txt/Howard_TheDevilinIron.txt',\n",
       " 'corpus_txt/Howard_ShadowsintheMoonlight.txt',\n",
       " 'corpus_txt/Kipling_TheJungleBook.txt',\n",
       " 'corpus_txt/Doyle_TheHoundoftheBaskervilles.txt',\n",
       " 'corpus_txt/Howard_GodsoftheNorth.txt',\n",
       " 'corpus_txt/Doyle_TheSignoftheFour.txt',\n",
       " 'corpus_txt/Poe_TheCaskofAmontillado.txt',\n",
       " 'corpus_txt/Lovecraft_TheShunnedHouse.txt',\n",
       " 'corpus_txt/Lovecraft_AttheMountainofMadness.txt',\n",
       " 'corpus_txt/Kipling_TheEndofthePassage.txt',\n",
       " 'corpus_txt/Howard_SchadowsinZamboula.txt',\n",
       " 'corpus_txt/Poe_ThePurloinedLetter.txt',\n",
       " 'corpus_txt/Doyle_AStudyinScarlet.txt']"
      ]
     },
     "execution_count": 6,
     "metadata": {},
     "output_type": "execute_result"
    }
   ],
   "source": [
    "doclist"
   ]
  },
  {
   "cell_type": "markdown",
   "metadata": {},
   "source": [
    "**Alternatively**, if we want to use other documents, or just a selction of those in the specified folder, we can define our own `doclist` by creating a list of strings containing paths to text files. For example, to use only the texts by Edgar A. Poe from the current folder, we would define the list as\n",
    "\n",
    "`\n",
    "    doclist = [ 'corpus_txt/Poe_TheMasqueoftheRedDeath.txt', \n",
    "            'corpus_txt/Poe_TheCaskofAmontillado.txt', \n",
    "            'corpus_txt/Poe_ThePurloinedLetter.txt',\n",
    "            'corpus_txt/Poe_ThePurloinedLetter.txt',\n",
    "            'corpus_txt/Poe_EurekaAProsePoem.txt']\n",
    "`"
   ]
  },
  {
   "cell_type": "markdown",
   "metadata": {},
   "source": [
    "#### Generate document labels"
   ]
  },
  {
   "cell_type": "code",
   "execution_count": 7,
   "metadata": {},
   "outputs": [
    {
     "name": "stderr",
     "output_type": "stream",
     "text": [
      "INFO preprocessing: Creating document labels ...\n"
     ]
    }
   ],
   "source": [
    "doc_labels = list(pre.get_labels(doclist))"
   ]
  },
  {
   "cell_type": "markdown",
   "metadata": {},
   "source": [
    "#### Read listed documents from folder"
   ]
  },
  {
   "cell_type": "code",
   "execution_count": 8,
   "metadata": {
    "collapsed": true
   },
   "outputs": [],
   "source": [
    "corpus = pre.read_from_txt(doclist)"
   ]
  },
  {
   "cell_type": "markdown",
   "metadata": {},
   "source": [
    "At this point, the corpus is generator object."
   ]
  },
  {
   "cell_type": "markdown",
   "metadata": {},
   "source": [
    "### 1.3. Tokenize corpus\n",
    "Your text files will be tokenized. Tokenization is the task of cutting a stream of characters into linguistic units, simply words or, more precisely, tokens. The tokenize function the library provides is a simple unicode tokenizer. Depending on the corpus it might be useful to use an external tokenizer function, or even develop your own, since its efficiency varies with language, epoch and text type."
   ]
  },
  {
   "cell_type": "code",
   "execution_count": 9,
   "metadata": {},
   "outputs": [
    {
     "name": "stderr",
     "output_type": "stream",
     "text": [
      "INFO preprocessing: Accessing TXT documents ...\n"
     ]
    }
   ],
   "source": [
    "doc_tokens = [list(pre.tokenize(doc)) for doc in list(corpus)]"
   ]
  },
  {
   "cell_type": "markdown",
   "metadata": {},
   "source": [
    "At this point, each text is represented by a list of separate token strings. If we want to look e.g. into the first text (which has the index `0` as Python starts counting at 0) and show its first 10 words/tokens (that have the indeces `0:9` accordingly) by typing:"
   ]
  },
  {
   "cell_type": "code",
   "execution_count": 10,
   "metadata": {},
   "outputs": [
    {
     "data": {
      "text/plain": [
       "['the', 'masque', 'of', 'the', 'red', 'death', 'by', 'edgar', 'allan']"
      ]
     },
     "execution_count": 10,
     "metadata": {},
     "output_type": "execute_result"
    }
   ],
   "source": [
    "doc_tokens[0][0:9]"
   ]
  },
  {
   "cell_type": "markdown",
   "metadata": {},
   "source": [
    "### 1.4. Create a sparse bag-of-words model\n",
    "\n",
    "The LDA topic model is based on a bag-of-words model of the corpus. To improve performance in large corpora, actual words and document titels are replaced by indices in the actual bag-of-words model. It is therefore necessary to create dictionaries for mapping these indices in advance."
   ]
  },
  {
   "cell_type": "markdown",
   "metadata": {},
   "source": [
    "#### Create dictionaries"
   ]
  },
  {
   "cell_type": "code",
   "execution_count": 11,
   "metadata": {},
   "outputs": [],
   "source": [
    "id_types = pre.create_dictionary(doc_tokens)\n",
    "doc_ids = pre.create_dictionary(doc_labels)"
   ]
  },
  {
   "cell_type": "markdown",
   "metadata": {},
   "source": [
    "#### Create market matrix"
   ]
  },
  {
   "cell_type": "code",
   "execution_count": 12,
   "metadata": {},
   "outputs": [],
   "source": [
    "sparse_bow = pre.create_sparse_bow(doc_labels, doc_tokens, id_types, doc_ids)"
   ]
  },
  {
   "cell_type": "markdown",
   "metadata": {},
   "source": [
    "### 1.5. Feature selection and/or removal\n",
    "\n",
    "In topic modeling, it is often usefull (if not vital) to remove some types before modeling. In this example, the 100 most frequent words and the *hapax legomena* in the corpus are listed and removed. Alternatively, the 'feature_list' containing all features to be removed from the corpus can be replaced by, or combined with an external stop word list or any other list of strings containing features we want to remove."
   ]
  },
  {
   "cell_type": "markdown",
   "metadata": {},
   "source": [
    "#### List the 100 most frequent words"
   ]
  },
  {
   "cell_type": "code",
   "execution_count": 13,
   "metadata": {},
   "outputs": [
    {
     "name": "stderr",
     "output_type": "stream",
     "text": [
      "INFO preprocessing: Finding stopwords ...\n"
     ]
    }
   ],
   "source": [
    "mfw100 = pre.find_stopwords(sparse_bow, id_types, 100)"
   ]
  },
  {
   "cell_type": "markdown",
   "metadata": {},
   "source": [
    "#### List hapax legomena"
   ]
  },
  {
   "cell_type": "code",
   "execution_count": 14,
   "metadata": {},
   "outputs": [
    {
     "name": "stderr",
     "output_type": "stream",
     "text": [
      "INFO preprocessing: Finding hapax legomena ...\n"
     ]
    }
   ],
   "source": [
    "hapax_list = pre.find_hapax(sparse_bow, id_types)"
   ]
  },
  {
   "cell_type": "markdown",
   "metadata": {},
   "source": [
    "#### Combine lists and remove content from bag-of-words model"
   ]
  },
  {
   "cell_type": "code",
   "execution_count": 15,
   "metadata": {},
   "outputs": [
    {
     "name": "stderr",
     "output_type": "stream",
     "text": [
      "INFO preprocessing: Removing features ...\n"
     ]
    }
   ],
   "source": [
    "feature_list = set(mfw100).union(hapax_list)\n",
    "clean_term_frequency = pre.remove_features(sparse_bow, id_types, feature_list)"
   ]
  },
  {
   "cell_type": "markdown",
   "metadata": {},
   "source": [
    "### 1.6. Save bag-of-words model"
   ]
  },
  {
   "cell_type": "code",
   "execution_count": 16,
   "metadata": {},
   "outputs": [],
   "source": [
    "pre.save_sparse_bow(sparse_bow, \"gb_plain\")"
   ]
  },
  {
   "cell_type": "markdown",
   "metadata": {},
   "source": [
    "## 2. Model creation\n",
    "\n",
    "The actual topic modeling is done with external state-of-the-art LDA implementations. In this example, we are relying on the open-source toolkit **Gensim** which was used and cited in over 400 commercial and academic applications since 2008. As an alternative, the Java program **Mallet** can be used for LDA. Instruction on how to use Mallet can be found in the [Mallet notebook](Mallet.ipynb)."
   ]
  },
  {
   "cell_type": "markdown",
   "metadata": {},
   "source": [
    "### 2.1. Load corpus object"
   ]
  },
  {
   "cell_type": "code",
   "execution_count": 17,
   "metadata": {},
   "outputs": [
    {
     "name": "stderr",
     "output_type": "stream",
     "text": [
      "INFO gensim.matutils: initializing corpus reader from gb_plain.mm\n",
      "INFO gensim.matutils: accepted corpus with 17 documents, 22232 features, 369906 non-zero entries\n"
     ]
    }
   ],
   "source": [
    "mm = MmCorpus(\"gb_plain.mm\")"
   ]
  },
  {
   "cell_type": "markdown",
   "metadata": {},
   "source": [
    "### 2.2. Rearrange dictionaries "
   ]
  },
  {
   "cell_type": "code",
   "execution_count": 18,
   "metadata": {
    "collapsed": true
   },
   "outputs": [],
   "source": [
    "doc2id = {value : key for key, value in doc_ids.items()}\n",
    "type2id = {value : key for key, value in id_types.items()}"
   ]
  },
  {
   "cell_type": "markdown",
   "metadata": {},
   "source": [
    "### 2.3. Generate LDA model\n",
    "\n",
    "We can define the number of topics we want to calculate as an argument in the function. Furthermore, the number of passes can be defined. A higher number of passes will probably yield a better model, but also increase processing time.\n",
    "\n",
    "**Warning: this step can take quite a while!** Meaning something between some seconds and some hours depending on corpus size and the number of passes. Our example short stories corpus should be done within a minute or two at 'passes = 10'."
   ]
  },
  {
   "cell_type": "code",
   "execution_count": 19,
   "metadata": {},
   "outputs": [
    {
     "name": "stderr",
     "output_type": "stream",
     "text": [
      "INFO gensim.models.ldamodel: using symmetric alpha at 0.1\n",
      "INFO gensim.models.ldamodel: using symmetric eta at 4.49781855799937e-05\n",
      "INFO gensim.models.ldamodel: using serial LDA version on this node\n",
      "INFO gensim.models.ldamodel: running online LDA training, 10 topics, 10 passes over the supplied corpus of 17 documents, updating model once every 17 documents, evaluating perplexity every 17 documents, iterating 200x with a convergence threshold of 0.001000\n",
      "INFO gensim.models.ldamodel: -11.191 per-word bound, 2338.2 perplexity estimate based on a held-out corpus of 17 documents with 369906 words\n",
      "INFO gensim.models.ldamodel: PROGRESS: pass 0, at document #17/17\n",
      "INFO gensim.models.ldamodel: topic #3 (0.100): 0.036*\"rigid\" + 0.023*\"hours\" + 0.018*\"overtake\" + 0.013*\"mahomet\" + 0.012*\"seals\" + 0.009*\"taking-all\" + 0.008*\"ends\" + 0.008*\"molds\" + 0.006*\"pelties\" + 0.006*\"exacting\"\n",
      "INFO gensim.models.ldamodel: topic #7 (0.100): 0.019*\"rigid\" + 0.015*\"hours\" + 0.010*\"mahomet\" + 0.009*\"overtake\" + 0.008*\"taking-all\" + 0.008*\"seals\" + 0.008*\"extended\" + 0.007*\"verge\" + 0.007*\"ends\" + 0.006*\"licence-and\"\n",
      "INFO gensim.models.ldamodel: topic #8 (0.100): 0.065*\"rigid\" + 0.043*\"overtake\" + 0.024*\"hours\" + 0.019*\"taking-all\" + 0.018*\"seals\" + 0.014*\"extended\" + 0.012*\"pelties\" + 0.010*\"molds\" + 0.010*\"mahomet\" + 0.010*\"ends\"\n",
      "INFO gensim.models.ldamodel: topic #9 (0.100): 0.064*\"rigid\" + 0.028*\"hours\" + 0.025*\"overtake\" + 0.020*\"seals\" + 0.018*\"mahomet\" + 0.014*\"taking-all\" + 0.013*\"pelties\" + 0.012*\"ends\" + 0.009*\"extended\" + 0.009*\"find-to\"\n",
      "INFO gensim.models.ldamodel: topic #5 (0.100): 0.063*\"rigid\" + 0.032*\"overtake\" + 0.021*\"seals\" + 0.018*\"taking-all\" + 0.016*\"hours\" + 0.013*\"pelties\" + 0.012*\"mahomet\" + 0.012*\"extended\" + 0.010*\"exacting\" + 0.009*\"ends\"\n",
      "INFO gensim.models.ldamodel: topic diff=4.987316, rho=1.000000\n",
      "INFO gensim.models.ldamodel: -7.273 per-word bound, 154.7 perplexity estimate based on a held-out corpus of 17 documents with 369906 words\n",
      "INFO gensim.models.ldamodel: PROGRESS: pass 1, at document #17/17\n",
      "INFO gensim.models.ldamodel: topic #9 (0.100): 0.053*\"rigid\" + 0.027*\"hours\" + 0.022*\"overtake\" + 0.019*\"seals\" + 0.018*\"mahomet\" + 0.013*\"taking-all\" + 0.012*\"ends\" + 0.012*\"pelties\" + 0.010*\"malignly\" + 0.009*\"extended\"\n",
      "INFO gensim.models.ldamodel: topic #2 (0.100): 0.024*\"rigid\" + 0.014*\"overtake\" + 0.013*\"hours\" + 0.008*\"seals\" + 0.006*\"taking-all\" + 0.006*\"extended\" + 0.006*\"mahomet\" + 0.005*\"pelties\" + 0.004*\"find-to\" + 0.004*\"ends\"\n",
      "INFO gensim.models.ldamodel: topic #8 (0.100): 0.073*\"rigid\" + 0.044*\"overtake\" + 0.023*\"hours\" + 0.021*\"seals\" + 0.020*\"taking-all\" + 0.013*\"pelties\" + 0.012*\"extended\" + 0.009*\"whiteness\" + 0.009*\"molds\" + 0.009*\"mahomet\"\n",
      "INFO gensim.models.ldamodel: topic #6 (0.100): 0.014*\"rigid\" + 0.012*\"hours\" + 0.012*\"overtake\" + 0.006*\"seals\" + 0.005*\"taking-all\" + 0.004*\"licence-and\" + 0.003*\"find-to\" + 0.003*\"ends\" + 0.003*\"extended\" + 0.003*\"pelties\"\n",
      "INFO gensim.models.ldamodel: topic #1 (0.100): 0.040*\"rigid\" + 0.019*\"hours\" + 0.018*\"overtake\" + 0.012*\"seals\" + 0.008*\"taking-all\" + 0.007*\"mahomet\" + 0.007*\"pelties\" + 0.006*\"extended\" + 0.006*\"whiteness\" + 0.005*\"licence-and\"\n",
      "INFO gensim.models.ldamodel: topic diff=0.802655, rho=0.577350\n",
      "INFO gensim.models.ldamodel: -7.141 per-word bound, 141.2 perplexity estimate based on a held-out corpus of 17 documents with 369906 words\n",
      "INFO gensim.models.ldamodel: PROGRESS: pass 2, at document #17/17\n",
      "INFO gensim.models.ldamodel: topic #2 (0.100): 0.015*\"rigid\" + 0.009*\"overtake\" + 0.008*\"hours\" + 0.005*\"seals\" + 0.004*\"taking-all\" + 0.004*\"extended\" + 0.004*\"mahomet\" + 0.003*\"pelties\" + 0.003*\"find-to\" + 0.003*\"ends\"\n",
      "INFO gensim.models.ldamodel: topic #9 (0.100): 0.039*\"rigid\" + 0.030*\"hours\" + 0.020*\"seals\" + 0.019*\"mahomet\" + 0.019*\"overtake\" + 0.015*\"malignly\" + 0.013*\"ends\" + 0.012*\"taking-all\" + 0.011*\"pelties\" + 0.009*\"extended\"\n",
      "INFO gensim.models.ldamodel: topic #7 (0.100): 0.006*\"rigid\" + 0.005*\"hours\" + 0.003*\"mahomet\" + 0.003*\"overtake\" + 0.003*\"taking-all\" + 0.003*\"seals\" + 0.003*\"extended\" + 0.002*\"verge\" + 0.002*\"ends\" + 0.002*\"licence-and\"\n",
      "INFO gensim.models.ldamodel: topic #1 (0.100): 0.028*\"rigid\" + 0.013*\"hours\" + 0.013*\"overtake\" + 0.008*\"seals\" + 0.006*\"taking-all\" + 0.005*\"mahomet\" + 0.005*\"pelties\" + 0.005*\"extended\" + 0.004*\"whiteness\" + 0.004*\"licence-and\"\n",
      "INFO gensim.models.ldamodel: topic #4 (0.100): 0.017*\"rigid\" + 0.008*\"overtake\" + 0.007*\"hours\" + 0.006*\"mahomet\" + 0.006*\"ends\" + 0.005*\"seals\" + 0.004*\"molds\" + 0.004*\"taking-all\" + 0.003*\"extended\" + 0.003*\"pelties\"\n",
      "INFO gensim.models.ldamodel: topic diff=0.580110, rho=0.500000\n",
      "INFO gensim.models.ldamodel: -7.076 per-word bound, 135.0 perplexity estimate based on a held-out corpus of 17 documents with 369906 words\n",
      "INFO gensim.models.ldamodel: PROGRESS: pass 3, at document #17/17\n",
      "INFO gensim.models.ldamodel: topic #4 (0.100): 0.011*\"rigid\" + 0.005*\"overtake\" + 0.005*\"hours\" + 0.004*\"mahomet\" + 0.004*\"ends\" + 0.003*\"seals\" + 0.003*\"molds\" + 0.002*\"taking-all\" + 0.002*\"extended\" + 0.002*\"pelties\"\n",
      "INFO gensim.models.ldamodel: topic #5 (0.100): 0.036*\"rigid\" + 0.018*\"overtake\" + 0.012*\"seals\" + 0.010*\"taking-all\" + 0.009*\"hours\" + 0.007*\"pelties\" + 0.007*\"mahomet\" + 0.007*\"extended\" + 0.006*\"exacting\" + 0.005*\"ends\"\n",
      "INFO gensim.models.ldamodel: topic #9 (0.100): 0.033*\"rigid\" + 0.031*\"hours\" + 0.020*\"seals\" + 0.020*\"mahomet\" + 0.018*\"overtake\" + 0.016*\"malignly\" + 0.014*\"ends\" + 0.011*\"taking-all\" + 0.010*\"pelties\" + 0.010*\"licence-and\"\n",
      "INFO gensim.models.ldamodel: topic #3 (0.100): 0.009*\"rigid\" + 0.006*\"hours\" + 0.005*\"overtake\" + 0.003*\"mahomet\" + 0.003*\"seals\" + 0.002*\"taking-all\" + 0.002*\"ends\" + 0.002*\"molds\" + 0.002*\"pelties\" + 0.001*\"exacting\"\n",
      "INFO gensim.models.ldamodel: topic #2 (0.100): 0.009*\"rigid\" + 0.005*\"overtake\" + 0.005*\"hours\" + 0.003*\"seals\" + 0.003*\"taking-all\" + 0.002*\"extended\" + 0.002*\"mahomet\" + 0.002*\"pelties\" + 0.002*\"find-to\" + 0.002*\"ends\"\n",
      "INFO gensim.models.ldamodel: topic diff=0.391680, rho=0.447214\n",
      "INFO gensim.models.ldamodel: -7.049 per-word bound, 132.4 perplexity estimate based on a held-out corpus of 17 documents with 369906 words\n",
      "INFO gensim.models.ldamodel: PROGRESS: pass 4, at document #17/17\n",
      "INFO gensim.models.ldamodel: topic #8 (0.100): 0.076*\"rigid\" + 0.044*\"overtake\" + 0.024*\"hours\" + 0.023*\"seals\" + 0.021*\"taking-all\" + 0.013*\"pelties\" + 0.010*\"extended\" + 0.010*\"whiteness\" + 0.009*\"mahomet\" + 0.009*\"molds\"\n",
      "INFO gensim.models.ldamodel: topic #7 (0.100): 0.002*\"rigid\" + 0.002*\"hours\" + 0.001*\"mahomet\" + 0.001*\"overtake\" + 0.001*\"taking-all\" + 0.001*\"seals\" + 0.001*\"extended\" + 0.001*\"verge\" + 0.001*\"ends\" + 0.001*\"licence-and\"\n",
      "INFO gensim.models.ldamodel: topic #4 (0.100): 0.007*\"rigid\" + 0.003*\"overtake\" + 0.003*\"hours\" + 0.003*\"mahomet\" + 0.003*\"ends\" + 0.002*\"seals\" + 0.002*\"molds\" + 0.002*\"taking-all\" + 0.001*\"extended\" + 0.001*\"pelties\"\n",
      "INFO gensim.models.ldamodel: topic #0 (0.100): 0.063*\"rigid\" + 0.035*\"hours\" + 0.030*\"overtake\" + 0.025*\"seals\" + 0.016*\"taking-all\" + 0.015*\"mahomet\" + 0.015*\"pelties\" + 0.013*\"ends\" + 0.013*\"extended\" + 0.011*\"molds\"\n",
      "INFO gensim.models.ldamodel: topic #2 (0.100): 0.006*\"rigid\" + 0.003*\"overtake\" + 0.003*\"hours\" + 0.002*\"seals\" + 0.002*\"taking-all\" + 0.001*\"extended\" + 0.001*\"mahomet\" + 0.001*\"pelties\" + 0.001*\"find-to\" + 0.001*\"ends\"\n",
      "INFO gensim.models.ldamodel: topic diff=0.274642, rho=0.408248\n",
      "INFO gensim.models.ldamodel: -7.035 per-word bound, 131.1 perplexity estimate based on a held-out corpus of 17 documents with 369906 words\n",
      "INFO gensim.models.ldamodel: PROGRESS: pass 5, at document #17/17\n",
      "INFO gensim.models.ldamodel: topic #4 (0.100): 0.005*\"rigid\" + 0.002*\"overtake\" + 0.002*\"hours\" + 0.002*\"mahomet\" + 0.002*\"ends\" + 0.001*\"seals\" + 0.001*\"molds\" + 0.001*\"taking-all\" + 0.001*\"extended\" + 0.001*\"pelties\"\n",
      "INFO gensim.models.ldamodel: topic #8 (0.100): 0.077*\"rigid\" + 0.044*\"overtake\" + 0.024*\"hours\" + 0.023*\"seals\" + 0.021*\"taking-all\" + 0.013*\"pelties\" + 0.010*\"extended\" + 0.010*\"whiteness\" + 0.009*\"mahomet\" + 0.009*\"molds\"\n",
      "INFO gensim.models.ldamodel: topic #7 (0.100): 0.002*\"rigid\" + 0.001*\"hours\" + 0.001*\"mahomet\" + 0.001*\"overtake\" + 0.001*\"taking-all\" + 0.001*\"seals\" + 0.001*\"extended\" + 0.001*\"verge\" + 0.001*\"ends\" + 0.000*\"licence-and\"\n"
     ]
    },
    {
     "name": "stderr",
     "output_type": "stream",
     "text": [
      "INFO gensim.models.ldamodel: topic #2 (0.100): 0.004*\"rigid\" + 0.002*\"overtake\" + 0.002*\"hours\" + 0.001*\"seals\" + 0.001*\"taking-all\" + 0.001*\"extended\" + 0.001*\"mahomet\" + 0.001*\"pelties\" + 0.001*\"find-to\" + 0.001*\"ends\"\n",
      "INFO gensim.models.ldamodel: topic #0 (0.100): 0.063*\"rigid\" + 0.035*\"hours\" + 0.030*\"overtake\" + 0.025*\"seals\" + 0.016*\"taking-all\" + 0.015*\"mahomet\" + 0.015*\"pelties\" + 0.013*\"ends\" + 0.013*\"extended\" + 0.011*\"molds\"\n",
      "INFO gensim.models.ldamodel: topic diff=0.195798, rho=0.377964\n",
      "INFO gensim.models.ldamodel: -7.027 per-word bound, 130.4 perplexity estimate based on a held-out corpus of 17 documents with 369906 words\n",
      "INFO gensim.models.ldamodel: PROGRESS: pass 6, at document #17/17\n",
      "INFO gensim.models.ldamodel: topic #7 (0.100): 0.001*\"rigid\" + 0.001*\"hours\" + 0.001*\"mahomet\" + 0.001*\"overtake\" + 0.000*\"taking-all\" + 0.000*\"seals\" + 0.000*\"extended\" + 0.000*\"verge\" + 0.000*\"ends\" + 0.000*\"licence-and\"\n",
      "INFO gensim.models.ldamodel: topic #9 (0.100): 0.032*\"hours\" + 0.027*\"rigid\" + 0.020*\"seals\" + 0.020*\"mahomet\" + 0.018*\"malignly\" + 0.017*\"overtake\" + 0.014*\"ends\" + 0.011*\"verge\" + 0.011*\"taking-all\" + 0.010*\"licence-and\"\n",
      "INFO gensim.models.ldamodel: topic #5 (0.100): 0.014*\"rigid\" + 0.007*\"overtake\" + 0.005*\"seals\" + 0.004*\"taking-all\" + 0.004*\"hours\" + 0.003*\"pelties\" + 0.003*\"mahomet\" + 0.003*\"extended\" + 0.002*\"exacting\" + 0.002*\"ends\"\n",
      "INFO gensim.models.ldamodel: topic #1 (0.100): 0.006*\"rigid\" + 0.003*\"hours\" + 0.003*\"overtake\" + 0.002*\"seals\" + 0.001*\"taking-all\" + 0.001*\"mahomet\" + 0.001*\"pelties\" + 0.001*\"extended\" + 0.001*\"whiteness\" + 0.001*\"licence-and\"\n",
      "INFO gensim.models.ldamodel: topic #2 (0.100): 0.003*\"rigid\" + 0.001*\"overtake\" + 0.001*\"hours\" + 0.001*\"seals\" + 0.001*\"taking-all\" + 0.001*\"extended\" + 0.001*\"mahomet\" + 0.001*\"pelties\" + 0.001*\"find-to\" + 0.000*\"ends\"\n",
      "INFO gensim.models.ldamodel: topic diff=0.141132, rho=0.353553\n",
      "INFO gensim.models.ldamodel: -7.022 per-word bound, 130.0 perplexity estimate based on a held-out corpus of 17 documents with 369906 words\n",
      "INFO gensim.models.ldamodel: PROGRESS: pass 7, at document #17/17\n",
      "INFO gensim.models.ldamodel: topic #4 (0.100): 0.002*\"rigid\" + 0.001*\"overtake\" + 0.001*\"hours\" + 0.001*\"mahomet\" + 0.001*\"ends\" + 0.001*\"seals\" + 0.001*\"molds\" + 0.000*\"taking-all\" + 0.000*\"extended\" + 0.000*\"pelties\"\n",
      "INFO gensim.models.ldamodel: topic #2 (0.100): 0.002*\"rigid\" + 0.001*\"overtake\" + 0.001*\"hours\" + 0.001*\"seals\" + 0.000*\"taking-all\" + 0.000*\"extended\" + 0.000*\"mahomet\" + 0.000*\"pelties\" + 0.000*\"find-to\" + 0.000*\"ends\"\n",
      "INFO gensim.models.ldamodel: topic #9 (0.100): 0.032*\"hours\" + 0.027*\"rigid\" + 0.020*\"seals\" + 0.020*\"mahomet\" + 0.018*\"malignly\" + 0.017*\"overtake\" + 0.015*\"ends\" + 0.011*\"verge\" + 0.011*\"taking-all\" + 0.010*\"licence-and\"\n",
      "INFO gensim.models.ldamodel: topic #5 (0.100): 0.010*\"rigid\" + 0.005*\"overtake\" + 0.004*\"seals\" + 0.003*\"taking-all\" + 0.003*\"hours\" + 0.002*\"pelties\" + 0.002*\"mahomet\" + 0.002*\"extended\" + 0.002*\"exacting\" + 0.002*\"ends\"\n",
      "INFO gensim.models.ldamodel: topic #3 (0.100): 0.002*\"rigid\" + 0.001*\"hours\" + 0.001*\"overtake\" + 0.001*\"mahomet\" + 0.001*\"seals\" + 0.000*\"taking-all\" + 0.000*\"ends\" + 0.000*\"molds\" + 0.000*\"pelties\" + 0.000*\"exacting\"\n",
      "INFO gensim.models.ldamodel: topic diff=0.102608, rho=0.333333\n",
      "INFO gensim.models.ldamodel: -7.020 per-word bound, 129.7 perplexity estimate based on a held-out corpus of 17 documents with 369906 words\n",
      "INFO gensim.models.ldamodel: PROGRESS: pass 8, at document #17/17\n",
      "INFO gensim.models.ldamodel: topic #1 (0.100): 0.003*\"rigid\" + 0.001*\"hours\" + 0.001*\"overtake\" + 0.001*\"seals\" + 0.001*\"taking-all\" + 0.001*\"mahomet\" + 0.001*\"pelties\" + 0.000*\"extended\" + 0.000*\"whiteness\" + 0.000*\"licence-and\"\n",
      "INFO gensim.models.ldamodel: topic #3 (0.100): 0.001*\"rigid\" + 0.001*\"hours\" + 0.001*\"overtake\" + 0.000*\"mahomet\" + 0.000*\"seals\" + 0.000*\"taking-all\" + 0.000*\"ends\" + 0.000*\"molds\" + 0.000*\"pelties\" + 0.000*\"exacting\"\n",
      "INFO gensim.models.ldamodel: topic #0 (0.100): 0.063*\"rigid\" + 0.034*\"hours\" + 0.030*\"overtake\" + 0.025*\"seals\" + 0.016*\"taking-all\" + 0.015*\"mahomet\" + 0.015*\"pelties\" + 0.013*\"ends\" + 0.013*\"extended\" + 0.011*\"molds\"\n",
      "INFO gensim.models.ldamodel: topic #7 (0.100): 0.000*\"rigid\" + 0.000*\"hours\" + 0.000*\"mahomet\" + 0.000*\"overtake\" + 0.000*\"taking-all\" + 0.000*\"seals\" + 0.000*\"extended\" + 0.000*\"verge\" + 0.000*\"ends\" + 0.000*\"licence-and\"\n",
      "INFO gensim.models.ldamodel: topic #6 (0.100): 0.001*\"rigid\" + 0.001*\"hours\" + 0.001*\"overtake\" + 0.000*\"seals\" + 0.000*\"taking-all\" + 0.000*\"licence-and\" + 0.000*\"find-to\" + 0.000*\"ends\" + 0.000*\"extended\" + 0.000*\"pelties\"\n",
      "INFO gensim.models.ldamodel: topic diff=0.075200, rho=0.316228\n",
      "INFO gensim.models.ldamodel: -7.018 per-word bound, 129.6 perplexity estimate based on a held-out corpus of 17 documents with 369906 words\n",
      "INFO gensim.models.ldamodel: PROGRESS: pass 9, at document #17/17\n",
      "INFO gensim.models.ldamodel: topic #4 (0.100): 0.001*\"rigid\" + 0.001*\"overtake\" + 0.000*\"hours\" + 0.000*\"mahomet\" + 0.000*\"ends\" + 0.000*\"seals\" + 0.000*\"molds\" + 0.000*\"taking-all\" + 0.000*\"extended\" + 0.000*\"pelties\"\n",
      "INFO gensim.models.ldamodel: topic #6 (0.100): 0.000*\"rigid\" + 0.000*\"hours\" + 0.000*\"overtake\" + 0.000*\"seals\" + 0.000*\"taking-all\" + 0.000*\"licence-and\" + 0.000*\"find-to\" + 0.000*\"ends\" + 0.000*\"extended\" + 0.000*\"pelties\"\n",
      "INFO gensim.models.ldamodel: topic #3 (0.100): 0.001*\"rigid\" + 0.001*\"hours\" + 0.000*\"overtake\" + 0.000*\"mahomet\" + 0.000*\"seals\" + 0.000*\"taking-all\" + 0.000*\"ends\" + 0.000*\"molds\" + 0.000*\"pelties\" + 0.000*\"exacting\"\n",
      "INFO gensim.models.ldamodel: topic #7 (0.100): 0.000*\"rigid\" + 0.000*\"hours\" + 0.000*\"mahomet\" + 0.000*\"overtake\" + 0.000*\"taking-all\" + 0.000*\"seals\" + 0.000*\"extended\" + 0.000*\"verge\" + 0.000*\"ends\" + 0.000*\"licence-and\"\n",
      "INFO gensim.models.ldamodel: topic #9 (0.100): 0.032*\"hours\" + 0.026*\"rigid\" + 0.020*\"seals\" + 0.020*\"mahomet\" + 0.018*\"malignly\" + 0.016*\"overtake\" + 0.015*\"ends\" + 0.011*\"verge\" + 0.010*\"licence-and\" + 0.010*\"taking-all\"\n",
      "INFO gensim.models.ldamodel: topic diff=0.055576, rho=0.301511\n"
     ]
    }
   ],
   "source": [
    "model = LdaModel(corpus=mm, id2word=type2id, num_topics=10, passes=10, iterations=200)"
   ]
  },
  {
   "cell_type": "markdown",
   "metadata": {},
   "source": [
    "### 2.4. Create document-topic matrix\n",
    "\n",
    "The generated model object can now be translated into a human-readable document-topic matrix (that is a actually a pandas data frame) that constitutes our principle exchange format for topic modeling results. For generating the matrix from a Gensim model, we can use the following function:"
   ]
  },
  {
   "cell_type": "code",
   "execution_count": 20,
   "metadata": {},
   "outputs": [],
   "source": [
    "doc_topic = visual.create_doc_topic(mm, model, doc_labels)"
   ]
  },
  {
   "cell_type": "markdown",
   "metadata": {},
   "source": [
    "## 3. Model visualization and evaluation"
   ]
  },
  {
   "cell_type": "markdown",
   "metadata": {},
   "source": [
    "Now we can see the topics in the model with the following function:"
   ]
  },
  {
   "cell_type": "code",
   "execution_count": 21,
   "metadata": {},
   "outputs": [
    {
     "data": {
      "text/html": [
       "<div>\n",
       "<table border=\"1\" class=\"dataframe\">\n",
       "  <thead>\n",
       "    <tr style=\"text-align: right;\">\n",
       "      <th></th>\n",
       "      <th>0</th>\n",
       "      <th>1</th>\n",
       "      <th>2</th>\n",
       "      <th>3</th>\n",
       "      <th>4</th>\n",
       "      <th>5</th>\n",
       "      <th>6</th>\n",
       "      <th>7</th>\n",
       "      <th>8</th>\n",
       "      <th>9</th>\n",
       "    </tr>\n",
       "  </thead>\n",
       "  <tbody>\n",
       "    <tr>\n",
       "      <th>0</th>\n",
       "      <td>rigid</td>\n",
       "      <td>hours</td>\n",
       "      <td>overtake</td>\n",
       "      <td>seals</td>\n",
       "      <td>taking-all</td>\n",
       "      <td>mahomet</td>\n",
       "      <td>pelties</td>\n",
       "      <td>ends</td>\n",
       "      <td>extended</td>\n",
       "      <td>molds</td>\n",
       "    </tr>\n",
       "    <tr>\n",
       "      <th>1</th>\n",
       "      <td>rigid</td>\n",
       "      <td>hours</td>\n",
       "      <td>overtake</td>\n",
       "      <td>seals</td>\n",
       "      <td>taking-all</td>\n",
       "      <td>mahomet</td>\n",
       "      <td>pelties</td>\n",
       "      <td>extended</td>\n",
       "      <td>whiteness</td>\n",
       "      <td>licence-and</td>\n",
       "    </tr>\n",
       "    <tr>\n",
       "      <th>2</th>\n",
       "      <td>rigid</td>\n",
       "      <td>overtake</td>\n",
       "      <td>hours</td>\n",
       "      <td>seals</td>\n",
       "      <td>taking-all</td>\n",
       "      <td>extended</td>\n",
       "      <td>mahomet</td>\n",
       "      <td>pelties</td>\n",
       "      <td>find-to</td>\n",
       "      <td>ends</td>\n",
       "    </tr>\n",
       "    <tr>\n",
       "      <th>3</th>\n",
       "      <td>rigid</td>\n",
       "      <td>hours</td>\n",
       "      <td>overtake</td>\n",
       "      <td>mahomet</td>\n",
       "      <td>seals</td>\n",
       "      <td>taking-all</td>\n",
       "      <td>ends</td>\n",
       "      <td>molds</td>\n",
       "      <td>pelties</td>\n",
       "      <td>exacting</td>\n",
       "    </tr>\n",
       "    <tr>\n",
       "      <th>4</th>\n",
       "      <td>rigid</td>\n",
       "      <td>overtake</td>\n",
       "      <td>hours</td>\n",
       "      <td>mahomet</td>\n",
       "      <td>ends</td>\n",
       "      <td>seals</td>\n",
       "      <td>molds</td>\n",
       "      <td>taking-all</td>\n",
       "      <td>extended</td>\n",
       "      <td>pelties</td>\n",
       "    </tr>\n",
       "    <tr>\n",
       "      <th>5</th>\n",
       "      <td>rigid</td>\n",
       "      <td>overtake</td>\n",
       "      <td>seals</td>\n",
       "      <td>taking-all</td>\n",
       "      <td>hours</td>\n",
       "      <td>pelties</td>\n",
       "      <td>mahomet</td>\n",
       "      <td>extended</td>\n",
       "      <td>exacting</td>\n",
       "      <td>ends</td>\n",
       "    </tr>\n",
       "    <tr>\n",
       "      <th>6</th>\n",
       "      <td>rigid</td>\n",
       "      <td>hours</td>\n",
       "      <td>overtake</td>\n",
       "      <td>seals</td>\n",
       "      <td>taking-all</td>\n",
       "      <td>licence-and</td>\n",
       "      <td>find-to</td>\n",
       "      <td>ends</td>\n",
       "      <td>extended</td>\n",
       "      <td>pelties</td>\n",
       "    </tr>\n",
       "    <tr>\n",
       "      <th>7</th>\n",
       "      <td>rigid</td>\n",
       "      <td>hours</td>\n",
       "      <td>mahomet</td>\n",
       "      <td>overtake</td>\n",
       "      <td>taking-all</td>\n",
       "      <td>seals</td>\n",
       "      <td>extended</td>\n",
       "      <td>verge</td>\n",
       "      <td>ends</td>\n",
       "      <td>licence-and</td>\n",
       "    </tr>\n",
       "    <tr>\n",
       "      <th>8</th>\n",
       "      <td>rigid</td>\n",
       "      <td>overtake</td>\n",
       "      <td>hours</td>\n",
       "      <td>seals</td>\n",
       "      <td>taking-all</td>\n",
       "      <td>pelties</td>\n",
       "      <td>extended</td>\n",
       "      <td>whiteness</td>\n",
       "      <td>mahomet</td>\n",
       "      <td>molds</td>\n",
       "    </tr>\n",
       "    <tr>\n",
       "      <th>9</th>\n",
       "      <td>hours</td>\n",
       "      <td>rigid</td>\n",
       "      <td>seals</td>\n",
       "      <td>mahomet</td>\n",
       "      <td>malignly</td>\n",
       "      <td>overtake</td>\n",
       "      <td>ends</td>\n",
       "      <td>verge</td>\n",
       "      <td>licence-and</td>\n",
       "      <td>taking-all</td>\n",
       "    </tr>\n",
       "  </tbody>\n",
       "</table>\n",
       "</div>"
      ],
      "text/plain": [
       "       0         1         2           3           4            5         6  \\\n",
       "0  rigid     hours  overtake       seals  taking-all      mahomet   pelties   \n",
       "1  rigid     hours  overtake       seals  taking-all      mahomet   pelties   \n",
       "2  rigid  overtake     hours       seals  taking-all     extended   mahomet   \n",
       "3  rigid     hours  overtake     mahomet       seals   taking-all      ends   \n",
       "4  rigid  overtake     hours     mahomet        ends        seals     molds   \n",
       "5  rigid  overtake     seals  taking-all       hours      pelties   mahomet   \n",
       "6  rigid     hours  overtake       seals  taking-all  licence-and   find-to   \n",
       "7  rigid     hours   mahomet    overtake  taking-all        seals  extended   \n",
       "8  rigid  overtake     hours       seals  taking-all      pelties  extended   \n",
       "9  hours     rigid     seals     mahomet    malignly     overtake      ends   \n",
       "\n",
       "            7            8            9  \n",
       "0        ends     extended        molds  \n",
       "1    extended    whiteness  licence-and  \n",
       "2     pelties      find-to         ends  \n",
       "3       molds      pelties     exacting  \n",
       "4  taking-all     extended      pelties  \n",
       "5    extended     exacting         ends  \n",
       "6        ends     extended      pelties  \n",
       "7       verge         ends  licence-and  \n",
       "8   whiteness      mahomet        molds  \n",
       "9       verge  licence-and   taking-all  "
      ]
     },
     "execution_count": 21,
     "metadata": {},
     "output_type": "execute_result"
    }
   ],
   "source": [
    "pre.gensim2dataframe(model)"
   ]
  },
  {
   "cell_type": "markdown",
   "metadata": {},
   "source": [
    "### 3.1. Distribution of topics"
   ]
  },
  {
   "cell_type": "markdown",
   "metadata": {},
   "source": [
    "#### Distribution of topics over all documents\n",
    "\n",
    "The distribution of topics over all documents can now be visualized in a heat map:"
   ]
  },
  {
   "cell_type": "code",
   "execution_count": 22,
   "metadata": {},
   "outputs": [
    {
     "data": {
      "image/png": "[encoded data removed]",
      "text/plain": [
       "<matplotlib.figure.Figure at 0xa3de0cac>"
      ]
     },
     "metadata": {},
     "output_type": "display_data"
    }
   ],
   "source": [
    "heatmap = visual.doc_topic_heatmap(doc_topic)\n",
    "heatmap.show()"
   ]
  },
  {
   "cell_type": "markdown",
   "metadata": {},
   "source": [
    "#### Distribution of topics in a single documents\n",
    "\n",
    "To take closer look on the topics in a single text, we can use the follwing function that shows all the topics in a text and their respective proportions. To select the document, we have to give its index to the function."
   ]
  },
  {
   "cell_type": "code",
   "execution_count": 23,
   "metadata": {
    "scrolled": false
   },
   "outputs": [
    {
     "data": {
      "text/plain": [
       "<module 'matplotlib.pyplot' from '/home/severin/.local/lib/python3.5/site-packages/matplotlib/pyplot.py'>"
      ]
     },
     "execution_count": 23,
     "metadata": {},
     "output_type": "execute_result"
    },
    {
     "data": {
      "image/png": "[encoded data removed]",
      "text/plain": [
       "<matplotlib.figure.Figure at 0xa44de9ac>"
      ]
     },
     "metadata": {},
     "output_type": "display_data"
    }
   ],
   "source": [
    "visual.plot_doc_topics(doc_topic, 3)"
   ]
  }
 ],
 "metadata": {
  "kernelspec": {
   "display_name": "Python 3",
   "language": "python",
   "name": "python3"
  },
  "language_info": {
   "codemirror_mode": {
    "name": "ipython",
    "version": 3
   },
   "file_extension": ".py",
   "mimetype": "text/x-python",
   "name": "python",
   "nbconvert_exporter": "python",
   "pygments_lexer": "ipython3",
   "version": "3.5.3"
  }
 },
 "nbformat": 4,
 "nbformat_minor": 1
}
