{
 "cells": [
  {
   "cell_type": "markdown",
   "metadata": {},
   "source": [
    "# Topics - Easy Topic Modeling in Python"
   ]
  },
  {
   "cell_type": "markdown",
   "metadata": {},
   "source": [
    "## 1. Preprocessing"
   ]
  },
  {
   "cell_type": "markdown",
   "metadata": {},
   "source": [
    "### 1.1. Preperations"
   ]
  },
  {
   "cell_type": "markdown",
   "metadata": {},
   "source": [
    "#### Loading modules from DARIAH-Topics library"
   ]
  },
  {
   "cell_type": "code",
   "execution_count": 1,
   "metadata": {
    "collapsed": false
   },
   "outputs": [
    {
     "name": "stderr",
     "output_type": "stream",
     "text": [
      "/usr/local/lib/python3.5/dist-packages/funcy/decorators.py:56: DeprecationWarning: inspect.getargspec() is deprecated, use inspect.signature() instead\n",
      "  spec = inspect.getargspec(func)\n",
      "/usr/local/lib/python3.5/dist-packages/funcy/decorators.py:56: DeprecationWarning: inspect.getargspec() is deprecated, use inspect.signature() instead\n",
      "  spec = inspect.getargspec(func)\n",
      "/usr/local/lib/python3.5/dist-packages/funcy/decorators.py:56: DeprecationWarning: inspect.getargspec() is deprecated, use inspect.signature() instead\n",
      "  spec = inspect.getargspec(func)\n",
      "/usr/local/lib/python3.5/dist-packages/funcy/decorators.py:56: DeprecationWarning: inspect.getargspec() is deprecated, use inspect.signature() instead\n",
      "  spec = inspect.getargspec(func)\n",
      "/usr/local/lib/python3.5/dist-packages/funcy/decorators.py:56: DeprecationWarning: inspect.getargspec() is deprecated, use inspect.signature() instead\n",
      "  spec = inspect.getargspec(func)\n",
      "/usr/local/lib/python3.5/dist-packages/funcy/decorators.py:56: DeprecationWarning: inspect.getargspec() is deprecated, use inspect.signature() instead\n",
      "  spec = inspect.getargspec(func)\n"
     ]
    }
   ],
   "source": [
    "from dariah_topics import preprocessing as pre\n",
    "from dariah_topics import visualization as visual\n",
    "from dariah_topics import mallet as mal\n",
    "from dariah_topics import evaluation"
   ]
  },
  {
   "cell_type": "markdown",
   "metadata": {},
   "source": [
    "#### Load required functions from Gensim"
   ]
  },
  {
   "cell_type": "code",
   "execution_count": 2,
   "metadata": {
    "collapsed": true
   },
   "outputs": [],
   "source": [
    "from gensim.models import LdaModel\n",
    "from gensim.corpora import MmCorpus"
   ]
  },
  {
   "cell_type": "markdown",
   "metadata": {},
   "source": [
    "#### Activating inline output in Jupyter notebook"
   ]
  },
  {
   "cell_type": "code",
   "execution_count": 3,
   "metadata": {
    "collapsed": false
   },
   "outputs": [],
   "source": [
    "%matplotlib inline"
   ]
  },
  {
   "cell_type": "markdown",
   "metadata": {},
   "source": [
    "### 1.2. Reading a corpus of documents"
   ]
  },
  {
   "cell_type": "markdown",
   "metadata": {},
   "source": [
    "#### Defining the path to the corpus folder\n",
    "\n",
    "In the present example code, we are using a folder of 'txt' documents provided with the package."
   ]
  },
  {
   "cell_type": "code",
   "execution_count": 4,
   "metadata": {
    "collapsed": true
   },
   "outputs": [],
   "source": [
    "path = \"corpus_txt\""
   ]
  },
  {
   "cell_type": "markdown",
   "metadata": {},
   "source": [
    "#### List all documents in the folder"
   ]
  },
  {
   "cell_type": "code",
   "execution_count": 5,
   "metadata": {
    "collapsed": true
   },
   "outputs": [],
   "source": [
    "# List documents in folder\n",
    "doclist = pre.create_document_list(path)"
   ]
  },
  {
   "cell_type": "markdown",
   "metadata": {},
   "source": [
    "Let us check the list of documents:"
   ]
  },
  {
   "cell_type": "code",
   "execution_count": 6,
   "metadata": {
    "collapsed": false
   },
   "outputs": [
    {
     "data": {
      "text/plain": [
       "['corpus_txt/Poe_ThePurloinedLetter.txt',\n",
       " 'corpus_txt/Lovecraft_TheShunnedHouse.txt',\n",
       " 'corpus_txt/Kipling_ThyServantaDog.txt',\n",
       " 'corpus_txt/Howard_ShadowsintheMoonlight.txt',\n",
       " 'corpus_txt/Howard_SchadowsinZamboula.txt',\n",
       " 'corpus_txt/Poe_TheCaskofAmontillado.txt',\n",
       " 'corpus_txt/Kipling_TheEndofthePassage.txt',\n",
       " 'corpus_txt/Howard_TheDevilinIron.txt',\n",
       " 'corpus_txt/Lovecraft_AttheMountainofMadness.txt',\n",
       " 'corpus_txt/Doyle_AStudyinScarlet.txt',\n",
       " 'corpus_txt/Doyle_TheSignoftheFour.txt',\n",
       " 'corpus_txt/Doyle_TheHoundoftheBaskervilles.txt',\n",
       " 'corpus_txt/Kipling_TheJungleBook.txt',\n",
       " 'corpus_txt/Poe_TheMasqueoftheRedDeath.txt',\n",
       " 'corpus_txt/Howard_GodsoftheNorth.txt',\n",
       " 'corpus_txt/Doyle_AScandalinBohemia.txt',\n",
       " 'corpus_txt/Poe_EurekaAProsePoem.txt']"
      ]
     },
     "execution_count": 6,
     "metadata": {},
     "output_type": "execute_result"
    }
   ],
   "source": [
    "doclist"
   ]
  },
  {
   "cell_type": "markdown",
   "metadata": {},
   "source": [
    "#### Generate document labels"
   ]
  },
  {
   "cell_type": "code",
   "execution_count": 7,
   "metadata": {
    "collapsed": true
   },
   "outputs": [],
   "source": [
    "doc_labels = list(pre.get_labels(doclist))"
   ]
  },
  {
   "cell_type": "markdown",
   "metadata": {},
   "source": [
    "#### Read listed documents from folder\n",
    "\n",
    "The list of documents can also be manipulated before giving it to the following function to select specific documents from the folder. In the general case shown here, all documents in the folder are read."
   ]
  },
  {
   "cell_type": "code",
   "execution_count": 8,
   "metadata": {
    "collapsed": true
   },
   "outputs": [],
   "source": [
    "corpus = pre.read_from_txt(doclist)"
   ]
  },
  {
   "cell_type": "markdown",
   "metadata": {},
   "source": [
    "At this point, the corpus is generator object."
   ]
  },
  {
   "cell_type": "markdown",
   "metadata": {},
   "source": [
    "### 1.3. Tokenize corpus"
   ]
  },
  {
   "cell_type": "code",
   "execution_count": 9,
   "metadata": {
    "collapsed": true
   },
   "outputs": [],
   "source": [
    "doc_tokens = [list(pre.tokenize(doc)) for doc in list(corpus)]"
   ]
  },
  {
   "cell_type": "markdown",
   "metadata": {},
   "source": [
    "### 1.4. Create a sparse bag-of-words model\n",
    "\n",
    "The LDA topic model is based on a bag-of-words model of the corpus. To improve performance in large corpora, actual words and document titels are replaced by indices in the actual bag-of-words model. It is therefore necessary to create dictionaries for mapping these indices in advance."
   ]
  },
  {
   "cell_type": "markdown",
   "metadata": {},
   "source": [
    "#### Create dictionaries"
   ]
  },
  {
   "cell_type": "code",
   "execution_count": 10,
   "metadata": {
    "collapsed": true
   },
   "outputs": [],
   "source": [
    "id_types, doc_ids = pre.create_dictionaries(doc_labels, doc_tokens)"
   ]
  },
  {
   "cell_type": "markdown",
   "metadata": {},
   "source": [
    "#### Create market matrix"
   ]
  },
  {
   "cell_type": "code",
   "execution_count": 11,
   "metadata": {
    "collapsed": true
   },
   "outputs": [],
   "source": [
    "sparse_bow = pre.create_mm(doc_labels, doc_tokens, id_types, doc_ids)"
   ]
  },
  {
   "cell_type": "markdown",
   "metadata": {},
   "source": [
    "### 1.5. Feature selection and/or removal\n",
    "\n",
    "In topic modeling, it is often usefull (if not vital) to remove some types before modeling. In this example, the 100 most frequent words and the hapax legomena in the corpus are listed and removed. Alternatively, the 'feature_list' containing all features that are to be removed from the corpus can be replaced by, or combined with a simple stop word list."
   ]
  },
  {
   "cell_type": "markdown",
   "metadata": {},
   "source": [
    "#### List the 100 most frequent words"
   ]
  },
  {
   "cell_type": "code",
   "execution_count": 12,
   "metadata": {
    "collapsed": true
   },
   "outputs": [],
   "source": [
    "mfw100 = pre.find_stopwords(sparse_bow, id_types, 100)"
   ]
  },
  {
   "cell_type": "markdown",
   "metadata": {},
   "source": [
    "#### List hapax legomena"
   ]
  },
  {
   "cell_type": "code",
   "execution_count": 13,
   "metadata": {
    "collapsed": true
   },
   "outputs": [],
   "source": [
    "hapax_list = pre.find_hapax(sparse_bow, id_types)"
   ]
  },
  {
   "cell_type": "markdown",
   "metadata": {},
   "source": [
    "#### Combine lists and remove content from bag-of-words model"
   ]
  },
  {
   "cell_type": "code",
   "execution_count": 14,
   "metadata": {
    "collapsed": true
   },
   "outputs": [],
   "source": [
    "feature_list = set(mfw100).union(hapax_list)\n",
    "clean_term_frequency = pre.remove_features(sparse_bow, id_types, feature_list)"
   ]
  },
  {
   "cell_type": "markdown",
   "metadata": {},
   "source": [
    "### 1.6. Save bag-of-words model"
   ]
  },
  {
   "cell_type": "code",
   "execution_count": 15,
   "metadata": {
    "collapsed": false
   },
   "outputs": [],
   "source": [
    "pre.save_bow_mm(sparse_bow, output_path=\"gb_plain\")"
   ]
  },
  {
   "cell_type": "markdown",
   "metadata": {},
   "source": [
    "## 2. Model creation\n",
    "\n",
    "The actual topic modeling is done with external state-of-the art LDA implementations. In this example, we are relying on Gensim."
   ]
  },
  {
   "cell_type": "markdown",
   "metadata": {},
   "source": [
    "### 2.1. Load corpus object"
   ]
  },
  {
   "cell_type": "code",
   "execution_count": 16,
   "metadata": {
    "collapsed": false
   },
   "outputs": [],
   "source": [
    "mm = MmCorpus(\"gb_plain.mm\")"
   ]
  },
  {
   "cell_type": "markdown",
   "metadata": {},
   "source": [
    "### 2.2. Rearrange dictionaries "
   ]
  },
  {
   "cell_type": "code",
   "execution_count": 17,
   "metadata": {
    "collapsed": true
   },
   "outputs": [],
   "source": [
    "doc2id = {value : key for key, value in doc_ids.items()}\n",
    "type2id = {value : key for key, value in id_types.items()}"
   ]
  },
  {
   "cell_type": "markdown",
   "metadata": {},
   "source": [
    "### 2.3. Generate LDA model\n",
    "\n",
    "**Warning: this step can take quite a while!** Meaning something between some seconds and some hours depending on corpus size and the number of passes. Our example short stories corpus should be done within a minute or two at 'passes = 10'."
   ]
  },
  {
   "cell_type": "code",
   "execution_count": 18,
   "metadata": {
    "collapsed": true
   },
   "outputs": [],
   "source": [
    "model = LdaModel(corpus=mm, id2word=type2id, num_topics=10, passes = 10)"
   ]
  },
  {
   "cell_type": "markdown",
   "metadata": {},
   "source": [
    "### 2.4. Create document-topic matrix\n",
    "\n",
    "The generated model object can now be translated into a human-readable document-topic matrix (that is a actually a pandas data frame) that constitutes our principle exchange format for topic modeling results."
   ]
  },
  {
   "cell_type": "code",
   "execution_count": 19,
   "metadata": {
    "collapsed": true
   },
   "outputs": [],
   "source": [
    "doc_topic = visual.create_doc_topic(mm, model, doc_labels)"
   ]
  },
  {
   "cell_type": "markdown",
   "metadata": {},
   "source": [
    "## 3. Model visualization and evaluation"
   ]
  },
  {
   "cell_type": "markdown",
   "metadata": {},
   "source": [
    "### 3.1. The document-topic matrix in a heat map"
   ]
  },
  {
   "cell_type": "code",
   "execution_count": 20,
   "metadata": {
    "collapsed": false
   },
   "outputs": [
    {
     "data": {
      "image/png": "[encoded data removed]",
      "text/plain": [
       "<matplotlib.figure.Figure at 0xa49dddec>"
      ]
     },
     "metadata": {},
     "output_type": "display_data"
    }
   ],
   "source": [
    "heatmap = visual.doc_topic_heatmap(doc_topic)\n",
    "heatmap.show()"
   ]
  },
  {
   "cell_type": "markdown",
   "metadata": {},
   "source": [
    "### 3.2. Topics in a single document"
   ]
  },
  {
   "cell_type": "code",
   "execution_count": 21,
   "metadata": {
    "collapsed": false,
    "scrolled": true
   },
   "outputs": [
    {
     "data": {
      "image/png": "[encoded data removed]",
      "text/plain": [
       "<matplotlib.figure.Figure at 0xa3fd2ecc>"
      ]
     },
     "metadata": {},
     "output_type": "display_data"
    }
   ],
   "source": [
    "visual.plot_doc_topics(doc_topic, 0)"
   ]
  },
  {
   "cell_type": "markdown",
   "metadata": {},
   "source": [
    "### 3.3. Topic words in a dataframe"
   ]
  },
  {
   "cell_type": "code",
   "execution_count": 22,
   "metadata": {
    "collapsed": false
   },
   "outputs": [
    {
     "data": {
      "text/html": [
       "<div>\n",
       "<table border=\"1\" class=\"dataframe\">\n",
       "  <thead>\n",
       "    <tr style=\"text-align: right;\">\n",
       "      <th></th>\n",
       "      <th>Word 1</th>\n",
       "      <th>Word 2</th>\n",
       "      <th>Word 3</th>\n",
       "      <th>Word 4</th>\n",
       "      <th>Word 5</th>\n",
       "      <th>Word 6</th>\n",
       "      <th>Word 7</th>\n",
       "      <th>Word 8</th>\n",
       "      <th>Word 9</th>\n",
       "      <th>Word 10</th>\n",
       "    </tr>\n",
       "  </thead>\n",
       "  <tbody>\n",
       "    <tr>\n",
       "      <th>Topic 1</th>\n",
       "      <td>fo'c</td>\n",
       "      <td>of-life</td>\n",
       "      <td>niagara</td>\n",
       "      <td>eagle</td>\n",
       "      <td>de_scend</td>\n",
       "      <td>love-locks</td>\n",
       "      <td>liked</td>\n",
       "      <td>syllable</td>\n",
       "      <td>trumpeted</td>\n",
       "      <td>records</td>\n",
       "    </tr>\n",
       "    <tr>\n",
       "      <th>Topic 2</th>\n",
       "      <td>fo'c</td>\n",
       "      <td>of-life</td>\n",
       "      <td>niagara</td>\n",
       "      <td>eagle</td>\n",
       "      <td>liked</td>\n",
       "      <td>de_scend</td>\n",
       "      <td>love-locks</td>\n",
       "      <td>cushion</td>\n",
       "      <td>trumpeted</td>\n",
       "      <td>syllable</td>\n",
       "    </tr>\n",
       "    <tr>\n",
       "      <th>Topic 3</th>\n",
       "      <td>fo'c</td>\n",
       "      <td>of-life</td>\n",
       "      <td>niagara</td>\n",
       "      <td>eagle</td>\n",
       "      <td>de_scend</td>\n",
       "      <td>liked</td>\n",
       "      <td>love-locks</td>\n",
       "      <td>trumpeted</td>\n",
       "      <td>syllable</td>\n",
       "      <td>records</td>\n",
       "    </tr>\n",
       "    <tr>\n",
       "      <th>Topic 4</th>\n",
       "      <td>fo'c</td>\n",
       "      <td>niagara</td>\n",
       "      <td>eagle</td>\n",
       "      <td>de_scend</td>\n",
       "      <td>of-life</td>\n",
       "      <td>love-locks</td>\n",
       "      <td>vi</td>\n",
       "      <td>mention</td>\n",
       "      <td>syllable</td>\n",
       "      <td>mauled</td>\n",
       "    </tr>\n",
       "    <tr>\n",
       "      <th>Topic 5</th>\n",
       "      <td>fo'c</td>\n",
       "      <td>of-life</td>\n",
       "      <td>niagara</td>\n",
       "      <td>eagle</td>\n",
       "      <td>de_scend</td>\n",
       "      <td>liked</td>\n",
       "      <td>cushion</td>\n",
       "      <td>expedient</td>\n",
       "      <td>trumpeted</td>\n",
       "      <td>love-locks</td>\n",
       "    </tr>\n",
       "    <tr>\n",
       "      <th>Topic 6</th>\n",
       "      <td>fo'c</td>\n",
       "      <td>of-life</td>\n",
       "      <td>niagara</td>\n",
       "      <td>eagle</td>\n",
       "      <td>de_scend</td>\n",
       "      <td>liked</td>\n",
       "      <td>trumpeted</td>\n",
       "      <td>cushion</td>\n",
       "      <td>love-locks</td>\n",
       "      <td>syllable</td>\n",
       "    </tr>\n",
       "    <tr>\n",
       "      <th>Topic 7</th>\n",
       "      <td>fo'c</td>\n",
       "      <td>niagara</td>\n",
       "      <td>of-life</td>\n",
       "      <td>eagle</td>\n",
       "      <td>de_scend</td>\n",
       "      <td>expedient</td>\n",
       "      <td>mauled</td>\n",
       "      <td>love-locks</td>\n",
       "      <td>trumpeted</td>\n",
       "      <td>syllable</td>\n",
       "    </tr>\n",
       "    <tr>\n",
       "      <th>Topic 8</th>\n",
       "      <td>fo'c</td>\n",
       "      <td>niagara</td>\n",
       "      <td>of-life</td>\n",
       "      <td>eagle</td>\n",
       "      <td>love-locks</td>\n",
       "      <td>de_scend</td>\n",
       "      <td>syllable</td>\n",
       "      <td>cushion</td>\n",
       "      <td>trumpeted</td>\n",
       "      <td>liked</td>\n",
       "    </tr>\n",
       "    <tr>\n",
       "      <th>Topic 9</th>\n",
       "      <td>of-life</td>\n",
       "      <td>fo'c</td>\n",
       "      <td>eagle</td>\n",
       "      <td>liked</td>\n",
       "      <td>unutterably</td>\n",
       "      <td>niagara</td>\n",
       "      <td>trumpeted</td>\n",
       "      <td>sleepiness</td>\n",
       "      <td>mauled</td>\n",
       "      <td>de_scend</td>\n",
       "    </tr>\n",
       "    <tr>\n",
       "      <th>Topic 10</th>\n",
       "      <td>fo'c</td>\n",
       "      <td>of-life</td>\n",
       "      <td>niagara</td>\n",
       "      <td>eagle</td>\n",
       "      <td>de_scend</td>\n",
       "      <td>love-locks</td>\n",
       "      <td>syllable</td>\n",
       "      <td>liked</td>\n",
       "      <td>cushion</td>\n",
       "      <td>trumpeted</td>\n",
       "    </tr>\n",
       "  </tbody>\n",
       "</table>\n",
       "</div>"
      ],
      "text/plain": [
       "           Word 1   Word 2   Word 3    Word 4       Word 5      Word 6  \\\n",
       "Topic 1      fo'c  of-life  niagara     eagle     de_scend  love-locks   \n",
       "Topic 2      fo'c  of-life  niagara     eagle        liked    de_scend   \n",
       "Topic 3      fo'c  of-life  niagara     eagle     de_scend       liked   \n",
       "Topic 4      fo'c  niagara    eagle  de_scend      of-life  love-locks   \n",
       "Topic 5      fo'c  of-life  niagara     eagle     de_scend       liked   \n",
       "Topic 6      fo'c  of-life  niagara     eagle     de_scend       liked   \n",
       "Topic 7      fo'c  niagara  of-life     eagle     de_scend   expedient   \n",
       "Topic 8      fo'c  niagara  of-life     eagle   love-locks    de_scend   \n",
       "Topic 9   of-life     fo'c    eagle     liked  unutterably     niagara   \n",
       "Topic 10     fo'c  of-life  niagara     eagle     de_scend  love-locks   \n",
       "\n",
       "              Word 7      Word 8      Word 9     Word 10  \n",
       "Topic 1        liked    syllable   trumpeted     records  \n",
       "Topic 2   love-locks     cushion   trumpeted    syllable  \n",
       "Topic 3   love-locks   trumpeted    syllable     records  \n",
       "Topic 4           vi     mention    syllable      mauled  \n",
       "Topic 5      cushion   expedient   trumpeted  love-locks  \n",
       "Topic 6    trumpeted     cushion  love-locks    syllable  \n",
       "Topic 7       mauled  love-locks   trumpeted    syllable  \n",
       "Topic 8     syllable     cushion   trumpeted       liked  \n",
       "Topic 9    trumpeted  sleepiness      mauled    de_scend  \n",
       "Topic 10    syllable       liked     cushion   trumpeted  "
      ]
     },
     "execution_count": 22,
     "metadata": {},
     "output_type": "execute_result"
    }
   ],
   "source": [
    "df = visual.topicwords_in_df(model)\n",
    "df"
   ]
  },
  {
   "cell_type": "code",
   "execution_count": null,
   "metadata": {
    "collapsed": true
   },
   "outputs": [],
   "source": []
  }
 ],
 "metadata": {
  "kernelspec": {
   "display_name": "Python 3",
   "language": "python",
   "name": "python3"
  },
  "language_info": {
   "codemirror_mode": {
    "name": "ipython",
    "version": 3
   },
   "file_extension": ".py",
   "mimetype": "text/x-python",
   "name": "python",
   "nbconvert_exporter": "python",
   "pygments_lexer": "ipython3",
   "version": "3.5.2+"
  }
 },
 "nbformat": 4,
 "nbformat_minor": 0
}
