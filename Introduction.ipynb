{
 "cells": [
  {
   "cell_type": "markdown",
   "metadata": {},
   "source": [
    "# Topics - Easy Topic Modeling in Python"
   ]
  },
  {
   "cell_type": "markdown",
   "metadata": {},
   "source": [
    "The text mining technique Topic Modeling has become a popular statistical method for clustering documents. This notebook introduces an user-friendly workflow, basically containing data preprocessing, an implementation of the prototypic topic model **Latent Dirichlet Allocation** (LDA) which learns the relationships between words, topics, and documents, as well as multiple visualizations to explore the trained LDA model."
   ]
  },
  {
   "cell_type": "markdown",
   "metadata": {},
   "source": [
    "#### Preperations\n",
    "\n",
    "The following tutorial will explain how to perform LDA topic modeling with a programming library in Python. If you have not done so yet, please follow the instructions for installing [Jupyter](http://jupyter.readthedocs.io/en/latest/) and all necessary Python libraries mentioned in the README.\n",
    "\n",
    "Before you start, make sure to have Git and the Topics repository ready to use on your computer:\n",
    "1. Download and install [Git](https://git-scm.com/book/en/v2/Getting-Started-Installing-Git)\n",
    "2. Open the [command-line interface](https://en.wikipedia.org/wiki/Command-line_interface), type `git clone https://github.com/DARIAH-DE/Topics.git` and press Enter\n",
    "3. Access the new folder *topics* in your package explorer\n",
    "4. To install the required packages, simply run `setup.py`\n",
    "5. Install [Jupyter](http://jupyter.readthedocs.io/en/latest/install.html) and run it by typing `jupyter notebook` in the command-line\n",
    "5. Access the folder **Topics** through Jupyter in your browser, open **IntroductionTopics.ipynb** and follow the instructions"
   ]
  },
  {
   "cell_type": "markdown",
   "metadata": {},
   "source": [
    "## 1. Preprocessing"
   ]
  },
  {
   "cell_type": "markdown",
   "metadata": {},
   "source": [
    "### 1.1. Loading modules"
   ]
  },
  {
   "cell_type": "markdown",
   "metadata": {},
   "source": [
    "#### Loading modules from DARIAH-Topics library\n",
    "First, we have to get access to the functionalities of the library by importing them. For using its functions we use the prefix of the toolbox's submodules (pre, visual and mallet)."
   ]
  },
  {
   "cell_type": "code",
   "execution_count": 1,
   "metadata": {
    "collapsed": true
   },
   "outputs": [],
   "source": [
    "from dariah_topics import preprocessing as pre\n",
    "from dariah_topics import visualization as visual\n",
    "from dariah_topics import mallet as mal\n",
    "from dariah_topics import doclist as dl\n",
    "from dariah_topics import meta"
   ]
  },
  {
   "cell_type": "markdown",
   "metadata": {},
   "source": [
    "#### Load required functions from Gensim\n",
    "Furthermore, we will need some additional functions from external libraries."
   ]
  },
  {
   "cell_type": "code",
   "execution_count": 2,
   "metadata": {},
   "outputs": [],
   "source": [
    "from gensim.models import LdaModel\n",
    "from gensim.corpora import MmCorpus"
   ]
  },
  {
   "cell_type": "markdown",
   "metadata": {},
   "source": [
    "#### Activating inline output in Jupyter notebook\n",
    "The following line will just tell the notebook to show graphics in the output frames."
   ]
  },
  {
   "cell_type": "code",
   "execution_count": 3,
   "metadata": {
    "collapsed": true
   },
   "outputs": [],
   "source": [
    "%matplotlib inline"
   ]
  },
  {
   "cell_type": "markdown",
   "metadata": {},
   "source": [
    "### 1.2. Reading a corpus of documents"
   ]
  },
  {
   "cell_type": "markdown",
   "metadata": {},
   "source": [
    "#### Defining the path to the corpus folder\n",
    "\n",
    "In the present example code, we are using a folder of 'txt' documents provided with the package. For using your own corpus, change the path accordingly."
   ]
  },
  {
   "cell_type": "code",
   "execution_count": 4,
   "metadata": {
    "collapsed": true
   },
   "outputs": [],
   "source": [
    "path = \"corpus_txt\""
   ]
  },
  {
   "cell_type": "markdown",
   "metadata": {},
   "source": [
    "#### List all documents in the folder\n",
    "We begin by creating a list of all the documents in the folder specified above. That list will tell function `pre.read_from_txt()` (see below) which text documents to read."
   ]
  },
  {
   "cell_type": "code",
   "execution_count": 5,
   "metadata": {
    "collapsed": true
   },
   "outputs": [],
   "source": [
    "docs = dl.PathDocList(path)\n",
    "doclist = docs.full_paths(as_str=True)"
   ]
  },
  {
   "cell_type": "markdown",
   "metadata": {},
   "source": [
    "The current list of documents looks like this:"
   ]
  },
  {
   "cell_type": "code",
   "execution_count": 6,
   "metadata": {},
   "outputs": [
    {
     "data": {
      "text/plain": [
       "['corpus_txt/Doyle_AScandalinBohemia.txt',\n",
       " 'corpus_txt/Doyle_AStudyinScarlet.txt',\n",
       " 'corpus_txt/Doyle_TheHoundoftheBaskervilles.txt',\n",
       " 'corpus_txt/Doyle_TheSignoftheFour.txt',\n",
       " 'corpus_txt/Howard_GodsoftheNorth.txt',\n",
       " 'corpus_txt/Howard_SchadowsinZamboula.txt',\n",
       " 'corpus_txt/Howard_ShadowsintheMoonlight.txt',\n",
       " 'corpus_txt/Howard_TheDevilinIron.txt',\n",
       " 'corpus_txt/Kipling_TheEndofthePassage.txt',\n",
       " 'corpus_txt/Kipling_TheJungleBook.txt',\n",
       " 'corpus_txt/Kipling_ThyServantaDog.txt',\n",
       " 'corpus_txt/Lovecraft_AttheMountainofMadness.txt',\n",
       " 'corpus_txt/Lovecraft_TheShunnedHouse.txt',\n",
       " 'corpus_txt/Poe_EurekaAProsePoem.txt',\n",
       " 'corpus_txt/Poe_TheCaskofAmontillado.txt',\n",
       " 'corpus_txt/Poe_TheMasqueoftheRedDeath.txt',\n",
       " 'corpus_txt/Poe_ThePurloinedLetter.txt']"
      ]
     },
     "execution_count": 6,
     "metadata": {},
     "output_type": "execute_result"
    }
   ],
   "source": [
    "doclist"
   ]
  },
  {
   "cell_type": "markdown",
   "metadata": {},
   "source": [
    "**Alternatively**, if we want to use other documents, or just a selction of those in the specified folder, we can define our own `doclist` by creating a list of strings containing paths to text files. For example, to use only the texts by Edgar A. Poe from the current folder, we would define the list as\n",
    "\n",
    "`\n",
    "    doclist = [ 'corpus_txt/Poe_TheMasqueoftheRedDeath.txt', \n",
    "            'corpus_txt/Poe_TheCaskofAmontillado.txt', \n",
    "            'corpus_txt/Poe_ThePurloinedLetter.txt',\n",
    "            'corpus_txt/Poe_ThePurloinedLetter.txt',\n",
    "            'corpus_txt/Poe_EurekaAProsePoem.txt']\n",
    "`"
   ]
  },
  {
   "cell_type": "markdown",
   "metadata": {},
   "source": [
    "#### Generate document labels"
   ]
  },
  {
   "cell_type": "code",
   "execution_count": 7,
   "metadata": {},
   "outputs": [
    {
     "data": {
      "text/plain": [
       "['Doyle_AScandalinBohemia',\n",
       " 'Doyle_AStudyinScarlet',\n",
       " 'Doyle_TheHoundoftheBaskervilles',\n",
       " 'Doyle_TheSignoftheFour',\n",
       " 'Howard_GodsoftheNorth',\n",
       " 'Howard_SchadowsinZamboula',\n",
       " 'Howard_ShadowsintheMoonlight',\n",
       " 'Howard_TheDevilinIron',\n",
       " 'Kipling_TheEndofthePassage',\n",
       " 'Kipling_TheJungleBook',\n",
       " 'Kipling_ThyServantaDog',\n",
       " 'Lovecraft_AttheMountainofMadness',\n",
       " 'Lovecraft_TheShunnedHouse',\n",
       " 'Poe_EurekaAProsePoem',\n",
       " 'Poe_TheCaskofAmontillado',\n",
       " 'Poe_TheMasqueoftheRedDeath',\n",
       " 'Poe_ThePurloinedLetter']"
      ]
     },
     "execution_count": 7,
     "metadata": {},
     "output_type": "execute_result"
    }
   ],
   "source": [
    "doc_labels = docs.labels()\n",
    "doc_labels"
   ]
  },
  {
   "cell_type": "markdown",
   "metadata": {},
   "source": [
    "#### Accessing metadata"
   ]
  },
  {
   "cell_type": "markdown",
   "metadata": {},
   "source": [
    "In case you want a more structured overview of your corpus, run the following cells:"
   ]
  },
  {
   "cell_type": "code",
   "execution_count": 8,
   "metadata": {},
   "outputs": [
    {
     "data": {
      "text/html": [
       "<div>\n",
       "<table border=\"1\" class=\"dataframe\">\n",
       "  <thead>\n",
       "    <tr style=\"text-align: right;\">\n",
       "      <th></th>\n",
       "      <th>author</th>\n",
       "      <th>basename</th>\n",
       "      <th>filename</th>\n",
       "      <th>title</th>\n",
       "    </tr>\n",
       "  </thead>\n",
       "  <tbody>\n",
       "    <tr>\n",
       "      <th>0</th>\n",
       "      <td>Doyle</td>\n",
       "      <td>Doyle_AScandalinBohemia</td>\n",
       "      <td>corpus_txt/Doyle_AScandalinBohemia.txt</td>\n",
       "      <td>AScandalinBohemia</td>\n",
       "    </tr>\n",
       "    <tr>\n",
       "      <th>1</th>\n",
       "      <td>Doyle</td>\n",
       "      <td>Doyle_AStudyinScarlet</td>\n",
       "      <td>corpus_txt/Doyle_AStudyinScarlet.txt</td>\n",
       "      <td>AStudyinScarlet</td>\n",
       "    </tr>\n",
       "    <tr>\n",
       "      <th>2</th>\n",
       "      <td>Doyle</td>\n",
       "      <td>Doyle_TheHoundoftheBaskervilles</td>\n",
       "      <td>corpus_txt/Doyle_TheHoundoftheBaskervilles.txt</td>\n",
       "      <td>TheHoundoftheBaskervilles</td>\n",
       "    </tr>\n",
       "    <tr>\n",
       "      <th>3</th>\n",
       "      <td>Doyle</td>\n",
       "      <td>Doyle_TheSignoftheFour</td>\n",
       "      <td>corpus_txt/Doyle_TheSignoftheFour.txt</td>\n",
       "      <td>TheSignoftheFour</td>\n",
       "    </tr>\n",
       "    <tr>\n",
       "      <th>4</th>\n",
       "      <td>Howard</td>\n",
       "      <td>Howard_GodsoftheNorth</td>\n",
       "      <td>corpus_txt/Howard_GodsoftheNorth.txt</td>\n",
       "      <td>GodsoftheNorth</td>\n",
       "    </tr>\n",
       "    <tr>\n",
       "      <th>5</th>\n",
       "      <td>Howard</td>\n",
       "      <td>Howard_SchadowsinZamboula</td>\n",
       "      <td>corpus_txt/Howard_SchadowsinZamboula.txt</td>\n",
       "      <td>SchadowsinZamboula</td>\n",
       "    </tr>\n",
       "    <tr>\n",
       "      <th>6</th>\n",
       "      <td>Howard</td>\n",
       "      <td>Howard_ShadowsintheMoonlight</td>\n",
       "      <td>corpus_txt/Howard_ShadowsintheMoonlight.txt</td>\n",
       "      <td>ShadowsintheMoonlight</td>\n",
       "    </tr>\n",
       "    <tr>\n",
       "      <th>7</th>\n",
       "      <td>Howard</td>\n",
       "      <td>Howard_TheDevilinIron</td>\n",
       "      <td>corpus_txt/Howard_TheDevilinIron.txt</td>\n",
       "      <td>TheDevilinIron</td>\n",
       "    </tr>\n",
       "    <tr>\n",
       "      <th>8</th>\n",
       "      <td>Kipling</td>\n",
       "      <td>Kipling_TheEndofthePassage</td>\n",
       "      <td>corpus_txt/Kipling_TheEndofthePassage.txt</td>\n",
       "      <td>TheEndofthePassage</td>\n",
       "    </tr>\n",
       "    <tr>\n",
       "      <th>9</th>\n",
       "      <td>Kipling</td>\n",
       "      <td>Kipling_TheJungleBook</td>\n",
       "      <td>corpus_txt/Kipling_TheJungleBook.txt</td>\n",
       "      <td>TheJungleBook</td>\n",
       "    </tr>\n",
       "    <tr>\n",
       "      <th>10</th>\n",
       "      <td>Kipling</td>\n",
       "      <td>Kipling_ThyServantaDog</td>\n",
       "      <td>corpus_txt/Kipling_ThyServantaDog.txt</td>\n",
       "      <td>ThyServantaDog</td>\n",
       "    </tr>\n",
       "    <tr>\n",
       "      <th>11</th>\n",
       "      <td>Lovecraft</td>\n",
       "      <td>Lovecraft_AttheMountainofMadness</td>\n",
       "      <td>corpus_txt/Lovecraft_AttheMountainofMadness.txt</td>\n",
       "      <td>AttheMountainofMadness</td>\n",
       "    </tr>\n",
       "    <tr>\n",
       "      <th>12</th>\n",
       "      <td>Lovecraft</td>\n",
       "      <td>Lovecraft_TheShunnedHouse</td>\n",
       "      <td>corpus_txt/Lovecraft_TheShunnedHouse.txt</td>\n",
       "      <td>TheShunnedHouse</td>\n",
       "    </tr>\n",
       "    <tr>\n",
       "      <th>13</th>\n",
       "      <td>Poe</td>\n",
       "      <td>Poe_EurekaAProsePoem</td>\n",
       "      <td>corpus_txt/Poe_EurekaAProsePoem.txt</td>\n",
       "      <td>EurekaAProsePoem</td>\n",
       "    </tr>\n",
       "    <tr>\n",
       "      <th>14</th>\n",
       "      <td>Poe</td>\n",
       "      <td>Poe_TheCaskofAmontillado</td>\n",
       "      <td>corpus_txt/Poe_TheCaskofAmontillado.txt</td>\n",
       "      <td>TheCaskofAmontillado</td>\n",
       "    </tr>\n",
       "    <tr>\n",
       "      <th>15</th>\n",
       "      <td>Poe</td>\n",
       "      <td>Poe_TheMasqueoftheRedDeath</td>\n",
       "      <td>corpus_txt/Poe_TheMasqueoftheRedDeath.txt</td>\n",
       "      <td>TheMasqueoftheRedDeath</td>\n",
       "    </tr>\n",
       "    <tr>\n",
       "      <th>16</th>\n",
       "      <td>Poe</td>\n",
       "      <td>Poe_ThePurloinedLetter</td>\n",
       "      <td>corpus_txt/Poe_ThePurloinedLetter.txt</td>\n",
       "      <td>ThePurloinedLetter</td>\n",
       "    </tr>\n",
       "  </tbody>\n",
       "</table>\n",
       "</div>"
      ],
      "text/plain": [
       "       author                          basename  \\\n",
       "0       Doyle           Doyle_AScandalinBohemia   \n",
       "1       Doyle             Doyle_AStudyinScarlet   \n",
       "2       Doyle   Doyle_TheHoundoftheBaskervilles   \n",
       "3       Doyle            Doyle_TheSignoftheFour   \n",
       "4      Howard             Howard_GodsoftheNorth   \n",
       "5      Howard         Howard_SchadowsinZamboula   \n",
       "6      Howard      Howard_ShadowsintheMoonlight   \n",
       "7      Howard             Howard_TheDevilinIron   \n",
       "8     Kipling        Kipling_TheEndofthePassage   \n",
       "9     Kipling             Kipling_TheJungleBook   \n",
       "10    Kipling            Kipling_ThyServantaDog   \n",
       "11  Lovecraft  Lovecraft_AttheMountainofMadness   \n",
       "12  Lovecraft         Lovecraft_TheShunnedHouse   \n",
       "13        Poe              Poe_EurekaAProsePoem   \n",
       "14        Poe          Poe_TheCaskofAmontillado   \n",
       "15        Poe        Poe_TheMasqueoftheRedDeath   \n",
       "16        Poe            Poe_ThePurloinedLetter   \n",
       "\n",
       "                                           filename                      title  \n",
       "0            corpus_txt/Doyle_AScandalinBohemia.txt          AScandalinBohemia  \n",
       "1              corpus_txt/Doyle_AStudyinScarlet.txt            AStudyinScarlet  \n",
       "2    corpus_txt/Doyle_TheHoundoftheBaskervilles.txt  TheHoundoftheBaskervilles  \n",
       "3             corpus_txt/Doyle_TheSignoftheFour.txt           TheSignoftheFour  \n",
       "4              corpus_txt/Howard_GodsoftheNorth.txt             GodsoftheNorth  \n",
       "5          corpus_txt/Howard_SchadowsinZamboula.txt         SchadowsinZamboula  \n",
       "6       corpus_txt/Howard_ShadowsintheMoonlight.txt      ShadowsintheMoonlight  \n",
       "7              corpus_txt/Howard_TheDevilinIron.txt             TheDevilinIron  \n",
       "8         corpus_txt/Kipling_TheEndofthePassage.txt         TheEndofthePassage  \n",
       "9              corpus_txt/Kipling_TheJungleBook.txt              TheJungleBook  \n",
       "10            corpus_txt/Kipling_ThyServantaDog.txt             ThyServantaDog  \n",
       "11  corpus_txt/Lovecraft_AttheMountainofMadness.txt     AttheMountainofMadness  \n",
       "12         corpus_txt/Lovecraft_TheShunnedHouse.txt            TheShunnedHouse  \n",
       "13              corpus_txt/Poe_EurekaAProsePoem.txt           EurekaAProsePoem  \n",
       "14          corpus_txt/Poe_TheCaskofAmontillado.txt       TheCaskofAmontillado  \n",
       "15        corpus_txt/Poe_TheMasqueoftheRedDeath.txt     TheMasqueoftheRedDeath  \n",
       "16            corpus_txt/Poe_ThePurloinedLetter.txt         ThePurloinedLetter  "
      ]
     },
     "execution_count": 8,
     "metadata": {},
     "output_type": "execute_result"
    }
   ],
   "source": [
    "md = meta.fn2metadata('corpus_txt/*.txt')\n",
    "md"
   ]
  },
  {
   "cell_type": "markdown",
   "metadata": {},
   "source": [
    "#### Read listed documents from folder"
   ]
  },
  {
   "cell_type": "code",
   "execution_count": 9,
   "metadata": {
    "collapsed": true
   },
   "outputs": [],
   "source": [
    "corpus = pre.read_from_txt(doclist)"
   ]
  },
  {
   "cell_type": "markdown",
   "metadata": {},
   "source": [
    "At this point, the corpus is generator object."
   ]
  },
  {
   "cell_type": "markdown",
   "metadata": {},
   "source": [
    "### 1.3. Tokenize corpus\n",
    "Your text files will be tokenized. Tokenization is the task of cutting a stream of characters into linguistic units, simply words or, more precisely, tokens. The tokenize function the library provides is a simple unicode tokenizer. Depending on the corpus it might be useful to use an external tokenizer function, or even develop your own, since its efficiency varies with language, epoch and text type."
   ]
  },
  {
   "cell_type": "code",
   "execution_count": 10,
   "metadata": {},
   "outputs": [],
   "source": [
    "doc_tokens = [list(pre.tokenize(doc)) for doc in list(corpus)]"
   ]
  },
  {
   "cell_type": "markdown",
   "metadata": {},
   "source": [
    "At this point, each text is represented by a list of separate token strings. If we want to look e.g. into the first text (which has the index `0` as Python starts counting at 0) and show its first 10 words/tokens (that have the indeces `0:9` accordingly) by typing:"
   ]
  },
  {
   "cell_type": "code",
   "execution_count": 11,
   "metadata": {},
   "outputs": [
    {
     "data": {
      "text/plain": [
       "['scandal',\n",
       " 'in',\n",
       " 'bohemia',\n",
       " 'conan',\n",
       " 'doyle',\n",
       " 'to',\n",
       " 'sherlock',\n",
       " 'holmes',\n",
       " 'she']"
      ]
     },
     "execution_count": 11,
     "metadata": {},
     "output_type": "execute_result"
    }
   ],
   "source": [
    "doc_tokens[0][0:9]"
   ]
  },
  {
   "cell_type": "markdown",
   "metadata": {},
   "source": [
    "### 1.4. Create a sparse bag-of-words model\n",
    "\n",
    "The LDA topic model is based on a bag-of-words model of the corpus. To improve performance in large corpora, actual words and document titels are replaced by indices in the actual bag-of-words model. It is therefore necessary to create dictionaries for mapping these indices in advance."
   ]
  },
  {
   "cell_type": "markdown",
   "metadata": {},
   "source": [
    "#### Create dictionaries"
   ]
  },
  {
   "cell_type": "code",
   "execution_count": 12,
   "metadata": {
    "collapsed": true
   },
   "outputs": [],
   "source": [
    "id_types = pre.create_dictionary(doc_tokens)\n",
    "doc_ids = pre.create_dictionary(doc_labels)"
   ]
  },
  {
   "cell_type": "markdown",
   "metadata": {},
   "source": [
    "#### Create market matrix"
   ]
  },
  {
   "cell_type": "code",
   "execution_count": 13,
   "metadata": {
    "collapsed": true
   },
   "outputs": [],
   "source": [
    "sparse_bow = pre.create_sparse_bow(doc_labels, doc_tokens, id_types, doc_ids)"
   ]
  },
  {
   "cell_type": "markdown",
   "metadata": {},
   "source": [
    "### 1.5. Feature selection and/or removal\n",
    "\n",
    "In topic modeling, it is often usefull (if not vital) to remove some types before modeling. In this example, the 100 most frequent words and the *hapax legomena* in the corpus are listed and removed. Alternatively, the 'feature_list' containing all features to be removed from the corpus can be replaced by, or combined with an external stop word list or any other list of strings containing features we want to remove."
   ]
  },
  {
   "cell_type": "markdown",
   "metadata": {},
   "source": [
    "#### List the 100 most frequent words"
   ]
  },
  {
   "cell_type": "code",
   "execution_count": 14,
   "metadata": {
    "collapsed": true
   },
   "outputs": [],
   "source": [
    "mfw100 = pre.find_stopwords(sparse_bow, id_types, 100)"
   ]
  },
  {
   "cell_type": "markdown",
   "metadata": {},
   "source": [
    "These are the five most frequent words:"
   ]
  },
  {
   "cell_type": "code",
   "execution_count": 15,
   "metadata": {},
   "outputs": [
    {
     "data": {
      "text/plain": [
       "['the', 'and', 'of', 'to', 'in']"
      ]
     },
     "execution_count": 15,
     "metadata": {},
     "output_type": "execute_result"
    }
   ],
   "source": [
    "mfw100[:5]"
   ]
  },
  {
   "cell_type": "markdown",
   "metadata": {},
   "source": [
    "#### List hapax legomena"
   ]
  },
  {
   "cell_type": "code",
   "execution_count": 16,
   "metadata": {
    "collapsed": true
   },
   "outputs": [],
   "source": [
    "hapax_list = pre.find_hapax(sparse_bow, id_types)"
   ]
  },
  {
   "cell_type": "markdown",
   "metadata": {},
   "source": [
    "#### Combine lists and remove content from bag-of-words model"
   ]
  },
  {
   "cell_type": "code",
   "execution_count": 17,
   "metadata": {
    "collapsed": true
   },
   "outputs": [],
   "source": [
    "feature_list = set(mfw100).union(hapax_list)\n",
    "clean_term_frequency = pre.remove_features(sparse_bow, id_types, feature_list)"
   ]
  },
  {
   "cell_type": "markdown",
   "metadata": {},
   "source": [
    "### 1.6. Save bag-of-words model"
   ]
  },
  {
   "cell_type": "code",
   "execution_count": 18,
   "metadata": {
    "collapsed": true
   },
   "outputs": [],
   "source": [
    "pre.save_sparse_bow(sparse_bow, \"gb_plain\")"
   ]
  },
  {
   "cell_type": "markdown",
   "metadata": {},
   "source": [
    "## 2. Model creation\n",
    "\n",
    "The actual topic modeling is done with external state-of-the-art LDA implementations. In this example, we are relying on the open-source toolkit **Gensim** which was used and cited in over 400 commercial and academic applications since 2008. As an alternative, the Java program **Mallet** can be used for LDA. Instruction on how to use Mallet can be found in the [Mallet notebook](Mallet.ipynb)."
   ]
  },
  {
   "cell_type": "markdown",
   "metadata": {},
   "source": [
    "### 2.1. Load corpus object"
   ]
  },
  {
   "cell_type": "code",
   "execution_count": 19,
   "metadata": {
    "collapsed": true
   },
   "outputs": [],
   "source": [
    "mm = MmCorpus(\"gb_plain.mm\")"
   ]
  },
  {
   "cell_type": "markdown",
   "metadata": {},
   "source": [
    "### 2.2. Rearrange dictionaries "
   ]
  },
  {
   "cell_type": "code",
   "execution_count": 20,
   "metadata": {
    "collapsed": true
   },
   "outputs": [],
   "source": [
    "doc2id = {value : key for key, value in doc_ids.items()}\n",
    "type2id = {value : key for key, value in id_types.items()}"
   ]
  },
  {
   "cell_type": "markdown",
   "metadata": {},
   "source": [
    "### 2.3. Generate LDA model\n",
    "\n",
    "We can define the number of topics we want to calculate as an argument in the function. Furthermore, the number of passes can be defined. A higher number of passes will probably yield a better model, but also increase processing time.\n",
    "\n",
    "**Warning: this step can take quite a while!** Meaning something between some seconds and some hours depending on corpus size and the number of passes. Our example short stories corpus should be done within a minute or two at 'passes = 10'."
   ]
  },
  {
   "cell_type": "code",
   "execution_count": 21,
   "metadata": {
    "collapsed": true
   },
   "outputs": [],
   "source": [
    "model = LdaModel(corpus=mm, id2word=type2id, num_topics=10, passes=10, iterations=200)"
   ]
  },
  {
   "cell_type": "markdown",
   "metadata": {},
   "source": [
    "### 2.4. Create document-topic matrix\n",
    "\n",
    "The generated model object can now be translated into a human-readable document-topic matrix (that is a actually a pandas data frame) that constitutes our principle exchange format for topic modeling results. For generating the matrix from a Gensim model, we can use the following function:"
   ]
  },
  {
   "cell_type": "code",
   "execution_count": 22,
   "metadata": {
    "collapsed": true
   },
   "outputs": [],
   "source": [
    "doc_topic = visual.create_doc_topic(mm, model, doc_labels)"
   ]
  },
  {
   "cell_type": "markdown",
   "metadata": {},
   "source": [
    "## 3. Model visualization and evaluation"
   ]
  },
  {
   "cell_type": "markdown",
   "metadata": {},
   "source": [
    "Now we can see the topics in the model with the following function:"
   ]
  },
  {
   "cell_type": "code",
   "execution_count": 23,
   "metadata": {},
   "outputs": [
    {
     "data": {
      "text/html": [
       "<div>\n",
       "<table border=\"1\" class=\"dataframe\">\n",
       "  <thead>\n",
       "    <tr style=\"text-align: right;\">\n",
       "      <th></th>\n",
       "      <th>0</th>\n",
       "      <th>1</th>\n",
       "      <th>2</th>\n",
       "      <th>3</th>\n",
       "      <th>4</th>\n",
       "      <th>5</th>\n",
       "      <th>6</th>\n",
       "      <th>7</th>\n",
       "      <th>8</th>\n",
       "      <th>9</th>\n",
       "    </tr>\n",
       "  </thead>\n",
       "  <tbody>\n",
       "    <tr>\n",
       "      <th>0</th>\n",
       "      <td>specks</td>\n",
       "      <td>favourite</td>\n",
       "      <td>cliff's</td>\n",
       "      <td>pocket</td>\n",
       "      <td>lazily</td>\n",
       "      <td>broad</td>\n",
       "      <td>over-fond</td>\n",
       "      <td>open-minded</td>\n",
       "      <td>climbed</td>\n",
       "      <td>desisted</td>\n",
       "    </tr>\n",
       "    <tr>\n",
       "      <th>1</th>\n",
       "      <td>specks</td>\n",
       "      <td>lazily</td>\n",
       "      <td>favourite</td>\n",
       "      <td>open-minded</td>\n",
       "      <td>cliff's</td>\n",
       "      <td>desisted</td>\n",
       "      <td>broad</td>\n",
       "      <td>over-fond</td>\n",
       "      <td>outboardoh</td>\n",
       "      <td>lyræ</td>\n",
       "    </tr>\n",
       "    <tr>\n",
       "      <th>2</th>\n",
       "      <td>specks</td>\n",
       "      <td>lazily</td>\n",
       "      <td>favourite</td>\n",
       "      <td>cliff's</td>\n",
       "      <td>open-minded</td>\n",
       "      <td>over-fond</td>\n",
       "      <td>broad</td>\n",
       "      <td>desisted</td>\n",
       "      <td>unearth</td>\n",
       "      <td>pocket</td>\n",
       "    </tr>\n",
       "    <tr>\n",
       "      <th>3</th>\n",
       "      <td>specks</td>\n",
       "      <td>favourite</td>\n",
       "      <td>cliff's</td>\n",
       "      <td>lazily</td>\n",
       "      <td>open-minded</td>\n",
       "      <td>pocket</td>\n",
       "      <td>over-fond</td>\n",
       "      <td>broad</td>\n",
       "      <td>lattice</td>\n",
       "      <td>desisted</td>\n",
       "    </tr>\n",
       "    <tr>\n",
       "      <th>4</th>\n",
       "      <td>specks</td>\n",
       "      <td>cliff's</td>\n",
       "      <td>lazily</td>\n",
       "      <td>favourite</td>\n",
       "      <td>open-minded</td>\n",
       "      <td>desisted</td>\n",
       "      <td>broad</td>\n",
       "      <td>pocket</td>\n",
       "      <td>unearth</td>\n",
       "      <td>lattice</td>\n",
       "    </tr>\n",
       "    <tr>\n",
       "      <th>5</th>\n",
       "      <td>specks</td>\n",
       "      <td>favourite</td>\n",
       "      <td>lazily</td>\n",
       "      <td>cliff's</td>\n",
       "      <td>desisted</td>\n",
       "      <td>open-minded</td>\n",
       "      <td>outboardoh</td>\n",
       "      <td>piled</td>\n",
       "      <td>over-fond</td>\n",
       "      <td>playmate</td>\n",
       "    </tr>\n",
       "    <tr>\n",
       "      <th>6</th>\n",
       "      <td>specks</td>\n",
       "      <td>cliff's</td>\n",
       "      <td>lazily</td>\n",
       "      <td>favourite</td>\n",
       "      <td>pocket</td>\n",
       "      <td>open-minded</td>\n",
       "      <td>over-fond</td>\n",
       "      <td>broad</td>\n",
       "      <td>desisted</td>\n",
       "      <td>piled</td>\n",
       "    </tr>\n",
       "    <tr>\n",
       "      <th>7</th>\n",
       "      <td>specks</td>\n",
       "      <td>cliff's</td>\n",
       "      <td>favourite</td>\n",
       "      <td>lazily</td>\n",
       "      <td>open-minded</td>\n",
       "      <td>broad</td>\n",
       "      <td>outboardoh</td>\n",
       "      <td>pocket</td>\n",
       "      <td>desisted</td>\n",
       "      <td>over-fond</td>\n",
       "    </tr>\n",
       "    <tr>\n",
       "      <th>8</th>\n",
       "      <td>specks</td>\n",
       "      <td>lazily</td>\n",
       "      <td>favourite</td>\n",
       "      <td>cliff's</td>\n",
       "      <td>broad</td>\n",
       "      <td>open-minded</td>\n",
       "      <td>over-fond</td>\n",
       "      <td>outboardoh</td>\n",
       "      <td>piled</td>\n",
       "      <td>desisted</td>\n",
       "    </tr>\n",
       "    <tr>\n",
       "      <th>9</th>\n",
       "      <td>specks</td>\n",
       "      <td>lazily</td>\n",
       "      <td>favourite</td>\n",
       "      <td>cliff's</td>\n",
       "      <td>open-minded</td>\n",
       "      <td>over-fond</td>\n",
       "      <td>broad</td>\n",
       "      <td>piled</td>\n",
       "      <td>desisted</td>\n",
       "      <td>pocket</td>\n",
       "    </tr>\n",
       "  </tbody>\n",
       "</table>\n",
       "</div>"
      ],
      "text/plain": [
       "        0          1          2            3            4            5  \\\n",
       "0  specks  favourite    cliff's       pocket       lazily        broad   \n",
       "1  specks     lazily  favourite  open-minded      cliff's     desisted   \n",
       "2  specks     lazily  favourite      cliff's  open-minded    over-fond   \n",
       "3  specks  favourite    cliff's       lazily  open-minded       pocket   \n",
       "4  specks    cliff's     lazily    favourite  open-minded     desisted   \n",
       "5  specks  favourite     lazily      cliff's     desisted  open-minded   \n",
       "6  specks    cliff's     lazily    favourite       pocket  open-minded   \n",
       "7  specks    cliff's  favourite       lazily  open-minded        broad   \n",
       "8  specks     lazily  favourite      cliff's        broad  open-minded   \n",
       "9  specks     lazily  favourite      cliff's  open-minded    over-fond   \n",
       "\n",
       "            6            7           8          9  \n",
       "0   over-fond  open-minded     climbed   desisted  \n",
       "1       broad    over-fond  outboardoh       lyræ  \n",
       "2       broad     desisted     unearth     pocket  \n",
       "3   over-fond        broad     lattice   desisted  \n",
       "4       broad       pocket     unearth    lattice  \n",
       "5  outboardoh        piled   over-fond   playmate  \n",
       "6   over-fond        broad    desisted      piled  \n",
       "7  outboardoh       pocket    desisted  over-fond  \n",
       "8   over-fond   outboardoh       piled   desisted  \n",
       "9       broad        piled    desisted     pocket  "
      ]
     },
     "execution_count": 23,
     "metadata": {},
     "output_type": "execute_result"
    }
   ],
   "source": [
    "pre.gensim2dataframe(model)"
   ]
  },
  {
   "cell_type": "markdown",
   "metadata": {},
   "source": [
    "### 3.1. Distribution of topics"
   ]
  },
  {
   "cell_type": "markdown",
   "metadata": {},
   "source": [
    "#### Distribution of topics over all documents\n",
    "\n",
    "The distribution of topics over all documents can now be visualized in a heat map:"
   ]
  },
  {
   "cell_type": "code",
   "execution_count": 24,
   "metadata": {},
   "outputs": [
    {
     "data": {
      "image/png": "[encoded data removed]",
      "text/plain": [
       "<matplotlib.figure.Figure at 0x10f0230b8>"
      ]
     },
     "metadata": {},
     "output_type": "display_data"
    }
   ],
   "source": [
    "heatmap = visual.doc_topic_heatmap(doc_topic)\n",
    "heatmap.show()"
   ]
  },
  {
   "cell_type": "markdown",
   "metadata": {},
   "source": [
    "#### Distribution of topics in a single documents\n",
    "\n",
    "To take closer look on the topics in a single text, we can use the follwing function that shows all the topics in a text and their respective proportions. To select the document, we have to give its index to the function."
   ]
  },
  {
   "cell_type": "code",
   "execution_count": 25,
   "metadata": {
    "scrolled": false
   },
   "outputs": [
    {
     "data": {
      "text/plain": [
       "<module 'matplotlib.pyplot' from '/Library/Frameworks/Python.framework/Versions/3.6/lib/python3.6/site-packages/matplotlib/pyplot.py'>"
      ]
     },
     "execution_count": 25,
     "metadata": {},
     "output_type": "execute_result"
    },
    {
     "data": {
      "image/png": "[encoded data removed]",
      "text/plain": [
       "<matplotlib.figure.Figure at 0x10fd1e518>"
      ]
     },
     "metadata": {},
     "output_type": "display_data"
    }
   ],
   "source": [
    "visual.plot_doc_topics(doc_topic, 3)"
   ]
  }
 ],
 "metadata": {
  "kernelspec": {
   "display_name": "Python 3",
   "language": "python",
   "name": "python3"
  },
  "language_info": {
   "codemirror_mode": {
    "name": "ipython",
    "version": 3
   },
   "file_extension": ".py",
   "mimetype": "text/x-python",
   "name": "python",
   "nbconvert_exporter": "python",
   "pygments_lexer": "ipython3",
   "version": "3.6.1"
  }
 },
 "nbformat": 4,
 "nbformat_minor": 1
}
