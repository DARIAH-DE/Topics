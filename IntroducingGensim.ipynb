{
 "cells": [
  {
   "cell_type": "markdown",
   "metadata": {},
   "source": [
    "# Topics – Easy Topic Modeling in Python\n",
    "\n",
    "The text mining technique **Topic Modeling** has become a popular statistical method for clustering documents. This [Jupyter notebook](http://jupyter.org/) introduces a step-by-step workflow, basically containing data preprocessing, the actual topic modeling using **latent Dirichlet allocation** (LDA), which learns the relationships between words, topics, and documents, as well as some interactive visualizations to explore the model.\n",
    "\n",
    "LDA, introduced in the context of text analysis in [2003](http://www.jmlr.org/papers/volume3/blei03a/blei03a.pdf), is an instance of a more general class of models called **mixed-membership models**. Involving a number of distributions and parameters, the topic model is typically performed using [Gibbs sampling](https://en.wikipedia.org/wiki/Gibbs_sampling) with conjugate priors and is purely based on word frequencies.\n",
    "\n",
    "There have been written numerous introductions to topic modeling for humanists (e.g. [this one](http://scottbot.net/topic-modeling-for-humanists-a-guided-tour/)), which provide another level of detail regarding its technical and epistemic properties.\n",
    "\n",
    "For this workflow, you will need a corpus (a set of texts) as plain text (`.txt`) or [TEI XML](http://www.tei-c.org/index.xml) (`.xml`). Using the `dariah_topics` package, you also have the ability to process the output of [DARIAH-DKPro-Wrapper](https://github.com/DARIAH-DE/DARIAH-DKPro-Wrapper), a command-line tool for *natural language processing*.\n",
    "\n",
    "Topic modeling works best with very large corpora. The [TextGrid Repository](https://textgridrep.org/) is a great place to start searching for text data. Anyway, to demonstrate the technique, we provide one small text collection in the folder `grenzboten_sample` containing 15 diary excerpts, as well as 15 war diary excerpts, which appeared in *Die Grenzboten*, a German newspaper of the late 19th and early 20th century.\n",
    "\n",
    "**Of course, you can work with your own corpus in this notebook.**\n",
    "\n",
    "We're relying on the LDA implementation by [Radim Řehůřek](https://radimrehurek.com/), called [Gensim](https://radimrehurek.com/project/gensim/), which is attractive because of its multi-core support. Aside from that, we provide two more Jupyter notebooks:\n",
    "\n",
    "* [IntroducingMallet](IntroducingMallet.ipynb), using LDA by [MALLET](http://mallet.cs.umass.edu/topics.php), which is known to be very robust. \n",
    "* [IntroducingLda](IntroducingLda.ipynb), using LDA by [lda](http://pythonhosted.org/lda/index.html), which is lightweight.\n",
    "\n",
    "For more information in general, have a look at the [documentation](http://dev.digital-humanities.de/ci/job/DARIAH-Topics/doclinks/1/)."
   ]
  },
  {
   "cell_type": "markdown",
   "metadata": {},
   "source": [
    "## First step: Installing dependencies\n",
    "\n",
    "To work within this Jupyter notebook, you will have to import the `dariah_topics` library. As you do, `dariah_topics` also imports a couple of external libraries, which have to be installed first. `pip` is the preferred installer program in Python. Starting with Python 3.4, it is included by default with the Python binary installers. If you are interested in `pip`, have a look at [this website](https://docs.python.org/3/installing/index.html).\n",
    "\n",
    "To install the `dariah_topics` library with all dependencies, open your commandline, go with `cd` to the folder `Topics` and run:\n",
    "\n",
    "```\n",
    "pip install -r requirements.txt\n",
    "```\n",
    "\n",
    "Alternatively, you can do:\n",
    "\n",
    "```\n",
    "python setup.py install\n",
    "```\n",
    "\n",
    "If you get any errors or are not able to install *all* dependencies properly, try [Stack Overflow](https://stackoverflow.com/questions/tagged/pip) for troubleshooting or create a new issue on our [GitHub page](https://github.com/DARIAH-DE/Topics).\n",
    "\n",
    "**Important**: If you are on macOS or Linux, you will have to use `pip3` and `python3`."
   ]
  },
  {
   "cell_type": "markdown",
   "metadata": {},
   "source": [
    "### Some final words\n",
    "As you already know, code has to be written in the grey cells. You execute a cell by clicking the **Run**-button. If you want to run all cells of the notebook at once, click **Cell > Run All** or **Kernel > Restart & Run All** respectively, if you want to restart the Python kernel first. On the left side of an (unexecuted) cell stands `In [ ]:`. The empty bracket means, that the cell hasn't been executed yet. By clicking **Run**, a star appears in the brackets (`In [*]:`), which means the process is running. In most cases, you won't see that star, because your computer is faster than your eyes. You can execute only one cell at once, all following executions will be in the waiting line. If the process of a cell is done, a number appears in the brackets (`In [1]:`)."
   ]
  },
  {
   "cell_type": "markdown",
   "metadata": {},
   "source": [
    "## Starting with topic modeling!\n",
    "\n",
    "Execute the following cell to import modules from the `dariah_topics` library."
   ]
  },
  {
   "cell_type": "code",
   "execution_count": 1,
   "metadata": {},
   "outputs": [],
   "source": [
    "from dariah_topics import preprocessing\n",
    "from dariah_topics import meta\n",
    "from dariah_topics import postprocessing\n",
    "from dariah_topics import visualization"
   ]
  },
  {
   "cell_type": "markdown",
   "metadata": {},
   "source": [
    "Furthermore, we will need some additional functions from external libraries."
   ]
  },
  {
   "cell_type": "code",
   "execution_count": 2,
   "metadata": {},
   "outputs": [],
   "source": [
    "from bokeh.io import show\n",
    "from gensim.models import LdaMulticore"
   ]
  },
  {
   "cell_type": "markdown",
   "metadata": {},
   "source": [
    "Let's not pay heed to any warnings right now and execute the following cell."
   ]
  },
  {
   "cell_type": "code",
   "execution_count": 3,
   "metadata": {},
   "outputs": [],
   "source": [
    "import warnings\n",
    "warnings.filterwarnings(\"ignore\") "
   ]
  },
  {
   "cell_type": "markdown",
   "metadata": {},
   "source": [
    "The following line will just tell the notebook to show graphics in the output frames."
   ]
  },
  {
   "cell_type": "code",
   "execution_count": 4,
   "metadata": {},
   "outputs": [],
   "source": [
    "%matplotlib inline"
   ]
  },
  {
   "cell_type": "markdown",
   "metadata": {},
   "source": [
    "## 1. Preprocessing\n",
    "### 1.1. Reading a corpus of documents"
   ]
  },
  {
   "cell_type": "markdown",
   "metadata": {},
   "source": [
    "#### Defining the path to the corpus folder\n",
    "\n",
    "In the present example code, we are using the 30 diary excerpts from the folder `grenzboten`. To use your own corpus, change the path accordingly."
   ]
  },
  {
   "cell_type": "code",
   "execution_count": 5,
   "metadata": {},
   "outputs": [],
   "source": [
    "path_to_corpus = 'grenzboten_sample/*.txt'"
   ]
  },
  {
   "cell_type": "markdown",
   "metadata": {},
   "source": [
    "By adding `/*.txt` to the actual path, we make sure to select only files with the suffix `.txt`."
   ]
  },
  {
   "cell_type": "markdown",
   "metadata": {},
   "source": [
    "#### Accessing file paths and metadata\n",
    "We begin by creating a list of all the documents in the folder specified above. That list will tell the function `preprocessing.read_from_pathlist` (see below) which text documents to read. Furthermore, based on filenames we can create some metadata, e.g. author and title."
   ]
  },
  {
   "cell_type": "code",
   "execution_count": 6,
   "metadata": {},
   "outputs": [
    {
     "data": {
      "text/html": [
       "<div>\n",
       "<style>\n",
       "    .dataframe thead tr:only-child th {\n",
       "        text-align: right;\n",
       "    }\n",
       "\n",
       "    .dataframe thead th {\n",
       "        text-align: left;\n",
       "    }\n",
       "\n",
       "    .dataframe tbody tr th {\n",
       "        vertical-align: top;\n",
       "    }\n",
       "</style>\n",
       "<table border=\"1\" class=\"dataframe\">\n",
       "  <thead>\n",
       "    <tr style=\"text-align: right;\">\n",
       "      <th></th>\n",
       "      <th>author</th>\n",
       "      <th>basename</th>\n",
       "      <th>filename</th>\n",
       "      <th>title</th>\n",
       "    </tr>\n",
       "  </thead>\n",
       "  <tbody>\n",
       "    <tr>\n",
       "      <th>0</th>\n",
       "      <td>Beck</td>\n",
       "      <td>Beck_1844_Tagebuch_56</td>\n",
       "      <td>grenzboten_sample/Beck_1844_Tagebuch_56.txt</td>\n",
       "      <td>1844_Tagebuch_56</td>\n",
       "    </tr>\n",
       "    <tr>\n",
       "      <th>1</th>\n",
       "      <td>Unbekannt</td>\n",
       "      <td>Unbekannt_1844_Tagebuch_70</td>\n",
       "      <td>grenzboten_sample/Unbekannt_1844_Tagebuch_70.txt</td>\n",
       "      <td>1844_Tagebuch_70</td>\n",
       "    </tr>\n",
       "    <tr>\n",
       "      <th>2</th>\n",
       "      <td>Nimmer</td>\n",
       "      <td>Nimmer_1844_Tagebuch_77</td>\n",
       "      <td>grenzboten_sample/Nimmer_1844_Tagebuch_77.txt</td>\n",
       "      <td>1844_Tagebuch_77</td>\n",
       "    </tr>\n",
       "    <tr>\n",
       "      <th>3</th>\n",
       "      <td>Unbekannt</td>\n",
       "      <td>Unbekannt_1844_Tagebuch_82</td>\n",
       "      <td>grenzboten_sample/Unbekannt_1844_Tagebuch_82.txt</td>\n",
       "      <td>1844_Tagebuch_82</td>\n",
       "    </tr>\n",
       "    <tr>\n",
       "      <th>4</th>\n",
       "      <td>Jörgel</td>\n",
       "      <td>Jörgel_1844_Tagebuch_88</td>\n",
       "      <td>grenzboten_sample/Jörgel_1844_Tagebuch_88.txt</td>\n",
       "      <td>1844_Tagebuch_88</td>\n",
       "    </tr>\n",
       "  </tbody>\n",
       "</table>\n",
       "</div>"
      ],
      "text/plain": [
       "      author                    basename  \\\n",
       "0       Beck       Beck_1844_Tagebuch_56   \n",
       "1  Unbekannt  Unbekannt_1844_Tagebuch_70   \n",
       "2     Nimmer     Nimmer_1844_Tagebuch_77   \n",
       "3  Unbekannt  Unbekannt_1844_Tagebuch_82   \n",
       "4     Jörgel     Jörgel_1844_Tagebuch_88   \n",
       "\n",
       "                                           filename             title  \n",
       "0       grenzboten_sample/Beck_1844_Tagebuch_56.txt  1844_Tagebuch_56  \n",
       "1  grenzboten_sample/Unbekannt_1844_Tagebuch_70.txt  1844_Tagebuch_70  \n",
       "2     grenzboten_sample/Nimmer_1844_Tagebuch_77.txt  1844_Tagebuch_77  \n",
       "3  grenzboten_sample/Unbekannt_1844_Tagebuch_82.txt  1844_Tagebuch_82  \n",
       "4     grenzboten_sample/Jörgel_1844_Tagebuch_88.txt  1844_Tagebuch_88  "
      ]
     },
     "execution_count": 6,
     "metadata": {},
     "output_type": "execute_result"
    }
   ],
   "source": [
    "metadata = meta.fn2metadata(path_to_corpus)\n",
    "metadata[:5] # by adding '[:5]' to the variable, only the first 5 elements will be printed"
   ]
  },
  {
   "cell_type": "markdown",
   "metadata": {},
   "source": [
    "#### Read listed documents from folder"
   ]
  },
  {
   "cell_type": "code",
   "execution_count": 7,
   "metadata": {},
   "outputs": [
    {
     "data": {
      "text/plain": [
       "'Tagebuch von Karl Beck. Man spricht seit vierzehn Tagen von einem vollständigen Ministerwechsel und es circuliren im Publicum die verschiedensten Combinationen, wobei heute ganz andere Namen genannt werden, als gestern und morgen wieder andere, als heute.'"
      ]
     },
     "execution_count": 7,
     "metadata": {},
     "output_type": "execute_result"
    }
   ],
   "source": [
    "corpus = list(preprocessing.read_from_pathlist(metadata['filename']))\n",
    "corpus[0][:255] # printing the first 255 characters of the first document"
   ]
  },
  {
   "cell_type": "markdown",
   "metadata": {},
   "source": [
    "Your `corpus` contains as much elements (`documents`) as texts in your corpus are. Each element of `corpus` is a list containing exactly one element, the text itself as one single string including all whitespaces and punctuations:\n",
    "\n",
    "```\n",
    "[['This is the content of your first document.'],\n",
    " ['This is the content of your second document.'],\n",
    " ...\n",
    " ['This is the content of your last document.']]\n",
    "```"
   ]
  },
  {
   "cell_type": "markdown",
   "metadata": {},
   "source": [
    "### 1.3. Tokenize corpus\n",
    "Now, your `documents` in `corpus` will be tokenized. Tokenization is the task of cutting a stream of characters into linguistic units, simply words or, more precisely, tokens. The tokenize function `dariah_topics` provides is a simple Unicode tokenizer. Depending on the corpus, it might be useful to use an external tokenizer function, or even develop your own, since its efficiency varies with language, epoch and text type."
   ]
  },
  {
   "cell_type": "code",
   "execution_count": 8,
   "metadata": {},
   "outputs": [],
   "source": [
    "tokenized_corpus = [list(preprocessing.tokenize(document)) for document in corpus]"
   ]
  },
  {
   "cell_type": "markdown",
   "metadata": {},
   "source": [
    "At this point, each `document` is represented by a list of separate token strings. As above, have a look at the first document (which has the index `0` as Python starts counting at 0) and show its first 14 words/tokens (that have the indices `0:13` accordingly)."
   ]
  },
  {
   "cell_type": "code",
   "execution_count": 9,
   "metadata": {},
   "outputs": [
    {
     "data": {
      "text/plain": [
       "['tagebuch',\n",
       " 'von',\n",
       " 'karl',\n",
       " 'beck',\n",
       " 'man',\n",
       " 'spricht',\n",
       " 'seit',\n",
       " 'vierzehn',\n",
       " 'tagen',\n",
       " 'von',\n",
       " 'einem',\n",
       " 'vollständigen',\n",
       " 'ministerwechsel']"
      ]
     },
     "execution_count": 9,
     "metadata": {},
     "output_type": "execute_result"
    }
   ],
   "source": [
    "tokenized_corpus[0][0:13]"
   ]
  },
  {
   "cell_type": "markdown",
   "metadata": {},
   "source": [
    "### 1.4. Create a document-term matrix\n",
    "\n",
    "The LDA topic model is based on a bag-of-words model of the corpus. To improve performance in large corpora, actual words and document titels are replaced by indices in the actual bag-of-words model.\n",
    "\n",
    "**Because of Gensim's API, you will have to choose the large corpus model.**"
   ]
  },
  {
   "cell_type": "code",
   "execution_count": 10,
   "metadata": {},
   "outputs": [],
   "source": [
    "document_term_matrix, document_ids, type_ids = preprocessing.create_document_term_matrix(tokenized_corpus, metadata['title'], large_corpus=True)"
   ]
  },
  {
   "cell_type": "markdown",
   "metadata": {},
   "source": [
    "### 1.5. Feature removal\n",
    "\n",
    "*Stopwords* (also known as *most frequent tokens*) and *hapax legomena* are harmful for LDA and have to be removed from the corpus or the document-term matrix respectively. In this example, the 50 most frequent tokens will be categorized as stopwords.\n",
    "\n",
    "**Hint**: Be careful with removing most frequent tokens, you might remove tokens quite important for LDA. Anyway, to gain better results, it is highly recommended to use an external stopwords list.\n",
    "\n",
    "In this notebook, we combine the 50 most frequent tokens, hapax legomena and an external stopwordslist."
   ]
  },
  {
   "cell_type": "markdown",
   "metadata": {},
   "source": [
    "#### List the 100 most frequent words"
   ]
  },
  {
   "cell_type": "code",
   "execution_count": 11,
   "metadata": {},
   "outputs": [],
   "source": [
    "stopwords = preprocessing.find_stopwords(document_term_matrix, most_frequent_tokens=100, type_ids=type_ids)"
   ]
  },
  {
   "cell_type": "markdown",
   "metadata": {},
   "source": [
    "These are the five most frequent words:"
   ]
  },
  {
   "cell_type": "code",
   "execution_count": 12,
   "metadata": {},
   "outputs": [
    {
     "data": {
      "text/plain": [
       "['die', 'der', 'und', 'in', 'den']"
      ]
     },
     "execution_count": 12,
     "metadata": {},
     "output_type": "execute_result"
    }
   ],
   "source": [
    "stopwords[:5]"
   ]
  },
  {
   "cell_type": "markdown",
   "metadata": {},
   "source": [
    "#### List hapax legomena"
   ]
  },
  {
   "cell_type": "code",
   "execution_count": 13,
   "metadata": {},
   "outputs": [
    {
     "name": "stdout",
     "output_type": "stream",
     "text": [
      "Total number of types in corpus: 24451\n",
      "Total number of hapax legomena: 15823\n"
     ]
    }
   ],
   "source": [
    "hapax_legomena = preprocessing.find_hapax_legomena(document_term_matrix, type_ids)\n",
    "print(\"Total number of types in corpus:\", len(type_ids))\n",
    "print(\"Total number of hapax legomena:\", len(hapax_legomena))"
   ]
  },
  {
   "cell_type": "markdown",
   "metadata": {},
   "source": [
    "#### Optional: Use external stopwordlist"
   ]
  },
  {
   "cell_type": "code",
   "execution_count": 14,
   "metadata": {},
   "outputs": [],
   "source": [
    "path_to_stopwordlist = \"tutorial_supplementals/stopwords/de.txt\"\n",
    "external_stopwords = [line.strip() for line in open(path_to_stopwordlist, 'r', encoding='utf-8')]"
   ]
  },
  {
   "cell_type": "markdown",
   "metadata": {},
   "source": [
    "#### Combine lists and remove content from `document_term_matrix`"
   ]
  },
  {
   "cell_type": "code",
   "execution_count": 15,
   "metadata": {},
   "outputs": [],
   "source": [
    "features = stopwords + hapax_legomena + external_stopwords\n",
    "document_term_matrix = preprocessing.remove_features(features, document_term_matrix=document_term_matrix, type_ids=type_ids)"
   ]
  },
  {
   "cell_type": "markdown",
   "metadata": {},
   "source": [
    "### 1.6. Save document-term matrix in Matrix Market format"
   ]
  },
  {
   "cell_type": "code",
   "execution_count": 16,
   "metadata": {},
   "outputs": [],
   "source": [
    "postprocessing.save_document_term_matrix(document_term_matrix=document_term_matrix,\n",
    "                                         path='tutorial_supplementals',\n",
    "                                         matrix_market=True)"
   ]
  },
  {
   "cell_type": "markdown",
   "metadata": {},
   "source": [
    "## 2. Model creation\n",
    "\n",
    "The actual topic modeling is done with external state-of-the-art LDA implementations. In this example, we are relying on the open-source toolkit **Gensim** which was used and cited in over 400 commercial and academic applications since 2008."
   ]
  },
  {
   "cell_type": "markdown",
   "metadata": {},
   "source": [
    "### 2.1. Load document-term matrix"
   ]
  },
  {
   "cell_type": "code",
   "execution_count": 17,
   "metadata": {},
   "outputs": [],
   "source": [
    "matrix_market = preprocessing.read_matrix_market_file('tutorial_supplementals/document_term_matrix.mm')"
   ]
  },
  {
   "cell_type": "markdown",
   "metadata": {},
   "source": [
    "### 2.2. Rearrange dictionaries "
   ]
  },
  {
   "cell_type": "code",
   "execution_count": 18,
   "metadata": {},
   "outputs": [],
   "source": [
    "doc2id = {value : key for key, value in document_ids.items()}\n",
    "type2id = {value : key for key, value in type_ids.items()}"
   ]
  },
  {
   "cell_type": "markdown",
   "metadata": {},
   "source": [
    "### 2.3. Generate LDA model\n",
    "\n",
    "We use the class `LDA` from the library `lda` (which is basically not the same, because Python is case sensitive) to generate a LDA topic model. To instance a `LDA` object, there have to be specified a couple of parameters.\n",
    "\n",
    "But first, if you are curious about any library, module, class or function, try `help()`. This can be very useful, because (at least in a well documented library) explanations of use and parameters will be printed. We're interested in the class `LDA` of the library `lda`, so let's try:\n",
    "\n",
    "```\n",
    "help(LdaMulticore)\n",
    "```\n",
    "\n",
    "This will print something like this (in fact even more):\n",
    "\n",
    "```\n",
    "Help on class LdaMulticore in module gensim.models.ldamulticore:\n",
    "\n",
    "class LdaMulticore(gensim.models.ldamodel.LdaModel)\n",
    " |  The constructor estimates Latent Dirichlet Allocation model parameters based\n",
    " |  on a training corpus:\n",
    " |  \n",
    " |  >>> lda = LdaMulticore(corpus, num_topics=10)\n",
    " |  \n",
    " |  You can then infer topic distributions on new, unseen documents, with\n",
    " |  \n",
    " |  >>> doc_lda = lda[doc_bow]\n",
    " |  \n",
    " |  The model can be updated (trained) with new documents via\n",
    " |  \n",
    " |  >>> lda.update(other_corpus)\n",
    " |  \n",
    " |  Methods defined here:\n",
    " |  \n",
    " |  __init__(parameter ...)\n",
    " |      If given, start training from the iterable `corpus` straight away. If not given,\n",
    " |      the model is left untrained (presumably because you want to call `update()` manually).\n",
    " |      \n",
    " |      `num_topics` is the number of requested latent topics to be extracted from\n",
    " |      the training corpus.\n",
    " |      \n",
    " |      `id2word` is a mapping from word ids (integers) to words (strings). It is\n",
    " |      used to determine the vocabulary size, as well as for debugging and topic\n",
    " |      printing.\n",
    " |      \n",
    " |      `workers` is the number of extra processes to use for parallelization. Uses\n",
    " |      all available cores by default: `workers=cpu_count()-1`. **Note**: for\n",
    " |      hyper-threaded CPUs, `cpu_count()` returns a useless number -- set `workers`\n",
    " |      directly to the number of your **real** cores (not hyperthreads) minus one,\n",
    " |      for optimal performance.\n",
    " |      \n",
    " |      If `batch` is not set, perform online training by updating the model once\n",
    " |      every `workers * chunksize` documents (online training). Otherwise,\n",
    " |      run batch LDA, updating model only once at the end of each full corpus pass.\n",
    " |      \n",
    " |      `alpha` and `eta` are hyperparameters that affect sparsity of the document-topic\n",
    " |      (theta) and topic-word (lambda) distributions. Both default to a symmetric\n",
    " |      1.0/num_topics prior.\n",
    " |      \n",
    " |      `alpha` can be set to an explicit array = prior of your choice. It also\n",
    " |      support special values of 'asymmetric' and 'auto': the former uses a fixed\n",
    " |      normalized asymmetric 1.0/topicno prior, the latter learns an asymmetric\n",
    " |      prior directly from your data.\n",
    " |      \n",
    " |      `eta` can be a scalar for a symmetric prior over topic/word\n",
    " |      distributions, or a matrix of shape num_topics x num_words,\n",
    " |      which can be used to impose asymmetric priors over the word\n",
    " |      distribution on a per-topic basis. This may be useful if you\n",
    " |      want to seed certain topics with particular words by boosting\n",
    " |      the priors for those words.\n",
    "```\n",
    "\n",
    "So, now you know how to define the number of topics and the number of sampling iterations as well. A higher number of iterations will probably yield a better model, but also increases processing time. `alpha`, `eta` and `random_state` are so-called *hyperparameters*. They influence the model's performance, so feel free to play around with them. In the present example, we will leave the default values. Furthermore, there exist various methods for hyperparameter optimization, e.g. gridsearch or Gaussian optimization.\n",
    "\n",
    "**Warning: This step can take quite a while!** Meaning something between some seconds and some hours depending on corpus size and the number of iterations. Our example corpus should be done within a minute or two at `iterations=5000`."
   ]
  },
  {
   "cell_type": "code",
   "execution_count": 19,
   "metadata": {},
   "outputs": [
    {
     "name": "stdout",
     "output_type": "stream",
     "text": [
      "CPU times: user 1min 12s, sys: 30.4 s, total: 1min 42s\n",
      "Wall time: 1min 14s\n"
     ]
    }
   ],
   "source": [
    "%%time\n",
    "\n",
    "model = LdaMulticore(corpus=matrix_market, id2word=type2id, num_topics=10, passes=10, iterations=5000)"
   ]
  },
  {
   "cell_type": "markdown",
   "metadata": {},
   "source": [
    "### 2.4. Create document-topic matrix\n",
    "\n",
    "The generated model object can now be translated into a human-readable document-topic matrix (that is a actually a pandas data frame) that constitutes our principle exchange format for topic modeling results. For generating the matrix from a Gensim model, we can use the following function:"
   ]
  },
  {
   "cell_type": "code",
   "execution_count": 20,
   "metadata": {},
   "outputs": [
    {
     "data": {
      "text/html": [
       "<div>\n",
       "<style>\n",
       "    .dataframe thead tr:only-child th {\n",
       "        text-align: right;\n",
       "    }\n",
       "\n",
       "    .dataframe thead th {\n",
       "        text-align: left;\n",
       "    }\n",
       "\n",
       "    .dataframe tbody tr th {\n",
       "        vertical-align: top;\n",
       "    }\n",
       "</style>\n",
       "<table border=\"1\" class=\"dataframe\">\n",
       "  <thead>\n",
       "    <tr style=\"text-align: right;\">\n",
       "      <th></th>\n",
       "      <th>Key 0</th>\n",
       "      <th>Key 1</th>\n",
       "      <th>Key 2</th>\n",
       "      <th>Key 3</th>\n",
       "      <th>Key 4</th>\n",
       "      <th>Key 5</th>\n",
       "      <th>Key 6</th>\n",
       "      <th>Key 7</th>\n",
       "      <th>Key 8</th>\n",
       "      <th>Key 9</th>\n",
       "    </tr>\n",
       "  </thead>\n",
       "  <tbody>\n",
       "    <tr>\n",
       "      <th>Topic 0</th>\n",
       "      <td>erhielt</td>\n",
       "      <td>steck'n</td>\n",
       "      <td>humbermündung</td>\n",
       "      <td>nachträglichen</td>\n",
       "      <td>wüstensymphonie</td>\n",
       "      <td>stubenwollbräu</td>\n",
       "      <td>artilleriepark</td>\n",
       "      <td>separatistischen</td>\n",
       "      <td>dampfer</td>\n",
       "      <td>abtragen</td>\n",
       "    </tr>\n",
       "    <tr>\n",
       "      <th>Topic 1</th>\n",
       "      <td>gemeinheit</td>\n",
       "      <td>ausgestellt</td>\n",
       "      <td>aston</td>\n",
       "      <td>zerfressen</td>\n",
       "      <td>kirchlicher</td>\n",
       "      <td>j.kuranda</td>\n",
       "      <td>entweichung</td>\n",
       "      <td>henry</td>\n",
       "      <td>bologna</td>\n",
       "      <td>zaire</td>\n",
       "    </tr>\n",
       "    <tr>\n",
       "      <th>Topic 2</th>\n",
       "      <td>verworrene</td>\n",
       "      <td>zerbrochene</td>\n",
       "      <td>systematisch</td>\n",
       "      <td>lrsnck</td>\n",
       "      <td>entwürdigt</td>\n",
       "      <td>henry</td>\n",
       "      <td>missethat</td>\n",
       "      <td>diplomatcntraum</td>\n",
       "      <td>nordamerikanische</td>\n",
       "      <td>erteilen</td>\n",
       "    </tr>\n",
       "    <tr>\n",
       "      <th>Topic 3</th>\n",
       "      <td>artilleriepark</td>\n",
       "      <td>einzuleiten</td>\n",
       "      <td>erhielt</td>\n",
       "      <td>humbermündung</td>\n",
       "      <td>hadtinger</td>\n",
       "      <td>drang</td>\n",
       "      <td>victoria</td>\n",
       "      <td>kleinlich</td>\n",
       "      <td>preßprocesse</td>\n",
       "      <td>dürftige</td>\n",
       "    </tr>\n",
       "    <tr>\n",
       "      <th>Topic 4</th>\n",
       "      <td>schlachtfelds</td>\n",
       "      <td>niemeyern</td>\n",
       "      <td>zerfressen</td>\n",
       "      <td>ausgestellt</td>\n",
       "      <td>j.kuranda</td>\n",
       "      <td>bologna</td>\n",
       "      <td>missethat</td>\n",
       "      <td>henry</td>\n",
       "      <td>gemeinheit</td>\n",
       "      <td>zerbrochene</td>\n",
       "    </tr>\n",
       "    <tr>\n",
       "      <th>Topic 5</th>\n",
       "      <td>abänderung</td>\n",
       "      <td>systematisch</td>\n",
       "      <td>entwürdigt</td>\n",
       "      <td>erteilen</td>\n",
       "      <td>diplomatcntraum</td>\n",
       "      <td>henry</td>\n",
       "      <td>nordamerikanische</td>\n",
       "      <td>missethat</td>\n",
       "      <td>gestern</td>\n",
       "      <td>tongewaltigen</td>\n",
       "    </tr>\n",
       "    <tr>\n",
       "      <th>Topic 6</th>\n",
       "      <td>artilleriepark</td>\n",
       "      <td>humbermündung</td>\n",
       "      <td>erhielt</td>\n",
       "      <td>gebrauchs</td>\n",
       "      <td>directe</td>\n",
       "      <td>steck'n</td>\n",
       "      <td>einzuleiten</td>\n",
       "      <td>d'assa</td>\n",
       "      <td>stubenwollbräu</td>\n",
       "      <td>gemalt</td>\n",
       "    </tr>\n",
       "    <tr>\n",
       "      <th>Topic 7</th>\n",
       "      <td>zuchthaus</td>\n",
       "      <td>lächelte</td>\n",
       "      <td>artilleriepark</td>\n",
       "      <td>blickt</td>\n",
       "      <td>sitmtncher</td>\n",
       "      <td>d'assa</td>\n",
       "      <td>enthoben</td>\n",
       "      <td>überzeugte</td>\n",
       "      <td>de</td>\n",
       "      <td>industrie</td>\n",
       "    </tr>\n",
       "    <tr>\n",
       "      <th>Topic 8</th>\n",
       "      <td>aufzuweisen</td>\n",
       "      <td>befestigen</td>\n",
       "      <td>directe</td>\n",
       "      <td>plagiat</td>\n",
       "      <td>gt;e</td>\n",
       "      <td>anzuwerben</td>\n",
       "      <td>medaillen</td>\n",
       "      <td>pflanzschule</td>\n",
       "      <td>dürftige</td>\n",
       "      <td>artilleriepark</td>\n",
       "    </tr>\n",
       "    <tr>\n",
       "      <th>Topic 9</th>\n",
       "      <td>verworrene</td>\n",
       "      <td>zerbrochene</td>\n",
       "      <td>lrsnck</td>\n",
       "      <td>henry</td>\n",
       "      <td>joseph</td>\n",
       "      <td>j.kuranda</td>\n",
       "      <td>fleißgesegnetcr</td>\n",
       "      <td>diplomatcntraum</td>\n",
       "      <td>nesteln</td>\n",
       "      <td>geringsten</td>\n",
       "    </tr>\n",
       "  </tbody>\n",
       "</table>\n",
       "</div>"
      ],
      "text/plain": [
       "                  Key 0          Key 1           Key 2           Key 3  \\\n",
       "Topic 0         erhielt        steck'n   humbermündung  nachträglichen   \n",
       "Topic 1      gemeinheit    ausgestellt           aston      zerfressen   \n",
       "Topic 2      verworrene    zerbrochene    systematisch          lrsnck   \n",
       "Topic 3  artilleriepark    einzuleiten         erhielt   humbermündung   \n",
       "Topic 4   schlachtfelds      niemeyern      zerfressen     ausgestellt   \n",
       "Topic 5      abänderung   systematisch      entwürdigt        erteilen   \n",
       "Topic 6  artilleriepark  humbermündung         erhielt       gebrauchs   \n",
       "Topic 7       zuchthaus       lächelte  artilleriepark          blickt   \n",
       "Topic 8     aufzuweisen     befestigen         directe         plagiat   \n",
       "Topic 9      verworrene    zerbrochene          lrsnck           henry   \n",
       "\n",
       "                   Key 4           Key 5              Key 6             Key 7  \\\n",
       "Topic 0  wüstensymphonie  stubenwollbräu     artilleriepark  separatistischen   \n",
       "Topic 1      kirchlicher       j.kuranda        entweichung             henry   \n",
       "Topic 2       entwürdigt           henry          missethat   diplomatcntraum   \n",
       "Topic 3        hadtinger           drang           victoria         kleinlich   \n",
       "Topic 4        j.kuranda         bologna          missethat             henry   \n",
       "Topic 5  diplomatcntraum           henry  nordamerikanische         missethat   \n",
       "Topic 6          directe         steck'n        einzuleiten            d'assa   \n",
       "Topic 7       sitmtncher          d'assa           enthoben        überzeugte   \n",
       "Topic 8             gt;e      anzuwerben          medaillen      pflanzschule   \n",
       "Topic 9           joseph       j.kuranda    fleißgesegnetcr   diplomatcntraum   \n",
       "\n",
       "                     Key 8           Key 9  \n",
       "Topic 0            dampfer        abtragen  \n",
       "Topic 1            bologna           zaire  \n",
       "Topic 2  nordamerikanische        erteilen  \n",
       "Topic 3       preßprocesse        dürftige  \n",
       "Topic 4         gemeinheit     zerbrochene  \n",
       "Topic 5            gestern   tongewaltigen  \n",
       "Topic 6     stubenwollbräu          gemalt  \n",
       "Topic 7                 de       industrie  \n",
       "Topic 8           dürftige  artilleriepark  \n",
       "Topic 9            nesteln      geringsten  "
      ]
     },
     "execution_count": 20,
     "metadata": {},
     "output_type": "execute_result"
    }
   ],
   "source": [
    "topics = postprocessing.show_topics(model=model)\n",
    "topics"
   ]
  },
  {
   "cell_type": "markdown",
   "metadata": {},
   "source": [
    "## 3. Model visualization"
   ]
  },
  {
   "cell_type": "markdown",
   "metadata": {},
   "source": [
    "The following matrix contains the probability per topic for each document, which we need for the visualization."
   ]
  },
  {
   "cell_type": "code",
   "execution_count": 21,
   "metadata": {},
   "outputs": [
    {
     "data": {
      "text/html": [
       "<div>\n",
       "<style>\n",
       "    .dataframe thead tr:only-child th {\n",
       "        text-align: right;\n",
       "    }\n",
       "\n",
       "    .dataframe thead th {\n",
       "        text-align: left;\n",
       "    }\n",
       "\n",
       "    .dataframe tbody tr th {\n",
       "        vertical-align: top;\n",
       "    }\n",
       "</style>\n",
       "<table border=\"1\" class=\"dataframe\">\n",
       "  <thead>\n",
       "    <tr style=\"text-align: right;\">\n",
       "      <th>title</th>\n",
       "      <th>1844_Tagebuch_56</th>\n",
       "      <th>1844_Tagebuch_70</th>\n",
       "      <th>1844_Tagebuch_77</th>\n",
       "      <th>1844_Tagebuch_82</th>\n",
       "      <th>1844_Tagebuch_88</th>\n",
       "      <th>1845_Tagebuch_52</th>\n",
       "      <th>1845_Tagebuch_62</th>\n",
       "      <th>1845_Tagebuch_81</th>\n",
       "      <th>1845_Tagebuch_85</th>\n",
       "      <th>1845_Tagebuch_93</th>\n",
       "      <th>...</th>\n",
       "      <th>1915_Kriegstagebuch_33</th>\n",
       "      <th>1915_Kriegstagebuch_39</th>\n",
       "      <th>1915_Kriegstagebuch_73</th>\n",
       "      <th>1915_Kriegstagebuch_94</th>\n",
       "      <th>1915_Kriegstagebuch_99</th>\n",
       "      <th>1916_Kriegstagebuch_41</th>\n",
       "      <th>1916_Kriegstagebuch_48</th>\n",
       "      <th>1916_Kriegstagebuch_49</th>\n",
       "      <th>1916_Kriegstagebuch_69</th>\n",
       "      <th>1916_Kriegstagebuch_81</th>\n",
       "    </tr>\n",
       "  </thead>\n",
       "  <tbody>\n",
       "    <tr>\n",
       "      <th>erhielt steck'n humbermündung</th>\n",
       "      <td>0.999705</td>\n",
       "      <td>0.000000</td>\n",
       "      <td>0.000000</td>\n",
       "      <td>0.000000</td>\n",
       "      <td>0.000000</td>\n",
       "      <td>0.000000</td>\n",
       "      <td>0.000000</td>\n",
       "      <td>0.000000</td>\n",
       "      <td>0.0</td>\n",
       "      <td>0.000000</td>\n",
       "      <td>...</td>\n",
       "      <td>0.000000</td>\n",
       "      <td>0.000000</td>\n",
       "      <td>0.000000</td>\n",
       "      <td>0.00000</td>\n",
       "      <td>0.000000</td>\n",
       "      <td>0.000000</td>\n",
       "      <td>0.000000</td>\n",
       "      <td>0.000000</td>\n",
       "      <td>0.000000</td>\n",
       "      <td>0.000000</td>\n",
       "    </tr>\n",
       "    <tr>\n",
       "      <th>gemeinheit ausgestellt aston</th>\n",
       "      <td>0.000000</td>\n",
       "      <td>0.000000</td>\n",
       "      <td>0.136982</td>\n",
       "      <td>0.639753</td>\n",
       "      <td>0.273818</td>\n",
       "      <td>0.000000</td>\n",
       "      <td>0.719643</td>\n",
       "      <td>0.963755</td>\n",
       "      <td>0.0</td>\n",
       "      <td>0.992385</td>\n",
       "      <td>...</td>\n",
       "      <td>0.999017</td>\n",
       "      <td>0.000000</td>\n",
       "      <td>0.000000</td>\n",
       "      <td>0.00000</td>\n",
       "      <td>0.000000</td>\n",
       "      <td>0.000000</td>\n",
       "      <td>0.557277</td>\n",
       "      <td>0.000000</td>\n",
       "      <td>0.000000</td>\n",
       "      <td>0.000000</td>\n",
       "    </tr>\n",
       "    <tr>\n",
       "      <th>verworrene zerbrochene systematisch</th>\n",
       "      <td>0.000000</td>\n",
       "      <td>0.000000</td>\n",
       "      <td>0.000000</td>\n",
       "      <td>0.000000</td>\n",
       "      <td>0.000000</td>\n",
       "      <td>0.000000</td>\n",
       "      <td>0.000000</td>\n",
       "      <td>0.000000</td>\n",
       "      <td>0.0</td>\n",
       "      <td>0.000000</td>\n",
       "      <td>...</td>\n",
       "      <td>0.000000</td>\n",
       "      <td>0.000000</td>\n",
       "      <td>0.000000</td>\n",
       "      <td>0.00000</td>\n",
       "      <td>0.000000</td>\n",
       "      <td>0.000000</td>\n",
       "      <td>0.000000</td>\n",
       "      <td>0.000000</td>\n",
       "      <td>0.000000</td>\n",
       "      <td>0.000000</td>\n",
       "    </tr>\n",
       "    <tr>\n",
       "      <th>artilleriepark einzuleiten erhielt</th>\n",
       "      <td>0.000000</td>\n",
       "      <td>0.000000</td>\n",
       "      <td>0.000000</td>\n",
       "      <td>0.156291</td>\n",
       "      <td>0.000000</td>\n",
       "      <td>0.813459</td>\n",
       "      <td>0.000000</td>\n",
       "      <td>0.000000</td>\n",
       "      <td>0.0</td>\n",
       "      <td>0.000000</td>\n",
       "      <td>...</td>\n",
       "      <td>0.000000</td>\n",
       "      <td>0.000000</td>\n",
       "      <td>0.000000</td>\n",
       "      <td>0.99885</td>\n",
       "      <td>0.000000</td>\n",
       "      <td>0.815007</td>\n",
       "      <td>0.000000</td>\n",
       "      <td>0.905424</td>\n",
       "      <td>0.999525</td>\n",
       "      <td>0.999577</td>\n",
       "    </tr>\n",
       "    <tr>\n",
       "      <th>schlachtfelds niemeyern zerfressen</th>\n",
       "      <td>0.000000</td>\n",
       "      <td>0.998624</td>\n",
       "      <td>0.348930</td>\n",
       "      <td>0.203016</td>\n",
       "      <td>0.000000</td>\n",
       "      <td>0.000000</td>\n",
       "      <td>0.278966</td>\n",
       "      <td>0.033953</td>\n",
       "      <td>0.0</td>\n",
       "      <td>0.000000</td>\n",
       "      <td>...</td>\n",
       "      <td>0.000000</td>\n",
       "      <td>0.049267</td>\n",
       "      <td>0.998926</td>\n",
       "      <td>0.00000</td>\n",
       "      <td>0.269098</td>\n",
       "      <td>0.000000</td>\n",
       "      <td>0.159074</td>\n",
       "      <td>0.000000</td>\n",
       "      <td>0.000000</td>\n",
       "      <td>0.000000</td>\n",
       "    </tr>\n",
       "  </tbody>\n",
       "</table>\n",
       "<p>5 rows × 30 columns</p>\n",
       "</div>"
      ],
      "text/plain": [
       "title                                1844_Tagebuch_56  1844_Tagebuch_70  \\\n",
       "erhielt steck'n humbermündung                0.999705          0.000000   \n",
       "gemeinheit ausgestellt aston                 0.000000          0.000000   \n",
       "verworrene zerbrochene systematisch          0.000000          0.000000   \n",
       "artilleriepark einzuleiten erhielt           0.000000          0.000000   \n",
       "schlachtfelds niemeyern zerfressen           0.000000          0.998624   \n",
       "\n",
       "title                                1844_Tagebuch_77  1844_Tagebuch_82  \\\n",
       "erhielt steck'n humbermündung                0.000000          0.000000   \n",
       "gemeinheit ausgestellt aston                 0.136982          0.639753   \n",
       "verworrene zerbrochene systematisch          0.000000          0.000000   \n",
       "artilleriepark einzuleiten erhielt           0.000000          0.156291   \n",
       "schlachtfelds niemeyern zerfressen           0.348930          0.203016   \n",
       "\n",
       "title                                1844_Tagebuch_88  1845_Tagebuch_52  \\\n",
       "erhielt steck'n humbermündung                0.000000          0.000000   \n",
       "gemeinheit ausgestellt aston                 0.273818          0.000000   \n",
       "verworrene zerbrochene systematisch          0.000000          0.000000   \n",
       "artilleriepark einzuleiten erhielt           0.000000          0.813459   \n",
       "schlachtfelds niemeyern zerfressen           0.000000          0.000000   \n",
       "\n",
       "title                                1845_Tagebuch_62  1845_Tagebuch_81  \\\n",
       "erhielt steck'n humbermündung                0.000000          0.000000   \n",
       "gemeinheit ausgestellt aston                 0.719643          0.963755   \n",
       "verworrene zerbrochene systematisch          0.000000          0.000000   \n",
       "artilleriepark einzuleiten erhielt           0.000000          0.000000   \n",
       "schlachtfelds niemeyern zerfressen           0.278966          0.033953   \n",
       "\n",
       "title                                1845_Tagebuch_85  1845_Tagebuch_93  \\\n",
       "erhielt steck'n humbermündung                     0.0          0.000000   \n",
       "gemeinheit ausgestellt aston                      0.0          0.992385   \n",
       "verworrene zerbrochene systematisch               0.0          0.000000   \n",
       "artilleriepark einzuleiten erhielt                0.0          0.000000   \n",
       "schlachtfelds niemeyern zerfressen                0.0          0.000000   \n",
       "\n",
       "title                                         ...            \\\n",
       "erhielt steck'n humbermündung                 ...             \n",
       "gemeinheit ausgestellt aston                  ...             \n",
       "verworrene zerbrochene systematisch           ...             \n",
       "artilleriepark einzuleiten erhielt            ...             \n",
       "schlachtfelds niemeyern zerfressen            ...             \n",
       "\n",
       "title                                1915_Kriegstagebuch_33  \\\n",
       "erhielt steck'n humbermündung                      0.000000   \n",
       "gemeinheit ausgestellt aston                       0.999017   \n",
       "verworrene zerbrochene systematisch                0.000000   \n",
       "artilleriepark einzuleiten erhielt                 0.000000   \n",
       "schlachtfelds niemeyern zerfressen                 0.000000   \n",
       "\n",
       "title                                1915_Kriegstagebuch_39  \\\n",
       "erhielt steck'n humbermündung                      0.000000   \n",
       "gemeinheit ausgestellt aston                       0.000000   \n",
       "verworrene zerbrochene systematisch                0.000000   \n",
       "artilleriepark einzuleiten erhielt                 0.000000   \n",
       "schlachtfelds niemeyern zerfressen                 0.049267   \n",
       "\n",
       "title                                1915_Kriegstagebuch_73  \\\n",
       "erhielt steck'n humbermündung                      0.000000   \n",
       "gemeinheit ausgestellt aston                       0.000000   \n",
       "verworrene zerbrochene systematisch                0.000000   \n",
       "artilleriepark einzuleiten erhielt                 0.000000   \n",
       "schlachtfelds niemeyern zerfressen                 0.998926   \n",
       "\n",
       "title                                1915_Kriegstagebuch_94  \\\n",
       "erhielt steck'n humbermündung                       0.00000   \n",
       "gemeinheit ausgestellt aston                        0.00000   \n",
       "verworrene zerbrochene systematisch                 0.00000   \n",
       "artilleriepark einzuleiten erhielt                  0.99885   \n",
       "schlachtfelds niemeyern zerfressen                  0.00000   \n",
       "\n",
       "title                                1915_Kriegstagebuch_99  \\\n",
       "erhielt steck'n humbermündung                      0.000000   \n",
       "gemeinheit ausgestellt aston                       0.000000   \n",
       "verworrene zerbrochene systematisch                0.000000   \n",
       "artilleriepark einzuleiten erhielt                 0.000000   \n",
       "schlachtfelds niemeyern zerfressen                 0.269098   \n",
       "\n",
       "title                                1916_Kriegstagebuch_41  \\\n",
       "erhielt steck'n humbermündung                      0.000000   \n",
       "gemeinheit ausgestellt aston                       0.000000   \n",
       "verworrene zerbrochene systematisch                0.000000   \n",
       "artilleriepark einzuleiten erhielt                 0.815007   \n",
       "schlachtfelds niemeyern zerfressen                 0.000000   \n",
       "\n",
       "title                                1916_Kriegstagebuch_48  \\\n",
       "erhielt steck'n humbermündung                      0.000000   \n",
       "gemeinheit ausgestellt aston                       0.557277   \n",
       "verworrene zerbrochene systematisch                0.000000   \n",
       "artilleriepark einzuleiten erhielt                 0.000000   \n",
       "schlachtfelds niemeyern zerfressen                 0.159074   \n",
       "\n",
       "title                                1916_Kriegstagebuch_49  \\\n",
       "erhielt steck'n humbermündung                      0.000000   \n",
       "gemeinheit ausgestellt aston                       0.000000   \n",
       "verworrene zerbrochene systematisch                0.000000   \n",
       "artilleriepark einzuleiten erhielt                 0.905424   \n",
       "schlachtfelds niemeyern zerfressen                 0.000000   \n",
       "\n",
       "title                                1916_Kriegstagebuch_69  \\\n",
       "erhielt steck'n humbermündung                      0.000000   \n",
       "gemeinheit ausgestellt aston                       0.000000   \n",
       "verworrene zerbrochene systematisch                0.000000   \n",
       "artilleriepark einzuleiten erhielt                 0.999525   \n",
       "schlachtfelds niemeyern zerfressen                 0.000000   \n",
       "\n",
       "title                                1916_Kriegstagebuch_81  \n",
       "erhielt steck'n humbermündung                      0.000000  \n",
       "gemeinheit ausgestellt aston                       0.000000  \n",
       "verworrene zerbrochene systematisch                0.000000  \n",
       "artilleriepark einzuleiten erhielt                 0.999577  \n",
       "schlachtfelds niemeyern zerfressen                 0.000000  \n",
       "\n",
       "[5 rows x 30 columns]"
      ]
     },
     "execution_count": 21,
     "metadata": {},
     "output_type": "execute_result"
    }
   ],
   "source": [
    "document_topics = postprocessing.show_document_topics(topics=topics,\n",
    "                                                      model=model,\n",
    "                                                      document_labels=metadata['title'],\n",
    "                                                      doc2bow=matrix_market)\n",
    "document_topics[:5]"
   ]
  },
  {
   "cell_type": "markdown",
   "metadata": {},
   "source": [
    "### 3.1. Distribution of topics"
   ]
  },
  {
   "cell_type": "markdown",
   "metadata": {},
   "source": [
    "#### Distribution of topics over all documents\n",
    "\n",
    "The distribution of topics over all documents can now be visualized in a heat map."
   ]
  },
  {
   "cell_type": "code",
   "execution_count": 22,
   "metadata": {
    "scrolled": false
   },
   "outputs": [
    {
     "data": {
      "text/html": [
       "\n",
       "    <div class=\"bk-root\">\n",
       "        <a href=\"https://bokeh.pydata.org\" target=\"_blank\" class=\"bk-logo bk-logo-small bk-logo-notebook\"></a>\n",
       "        <span id=\"dd41f50d-5a55-4d68-b312-ca8d4fed5d50\">Loading BokehJS ...</span>\n",
       "    </div>"
      ]
     },
     "metadata": {},
     "output_type": "display_data"
    },
    {
     "data": {
      "application/javascript": [
       "\n",
       "(function(root) {\n",
       "  function now() {\n",
       "    return new Date();\n",
       "  }\n",
       "\n",
       "  var force = true;\n",
       "\n",
       "  if (typeof (root._bokeh_onload_callbacks) === \"undefined\" || force === true) {\n",
       "    root._bokeh_onload_callbacks = [];\n",
       "    root._bokeh_is_loading = undefined;\n",
       "  }\n",
       "\n",
       "  var JS_MIME_TYPE = 'application/javascript';\n",
       "  var HTML_MIME_TYPE = 'text/html';\n",
       "  var EXEC_MIME_TYPE = 'application/vnd.bokehjs_exec.v0+json';\n",
       "  var CLASS_NAME = 'output_bokeh rendered_html';\n",
       "\n",
       "  /**\n",
       "   * Render data to the DOM node\n",
       "   */\n",
       "  function render(props, node) {\n",
       "    var script = document.createElement(\"script\");\n",
       "    node.appendChild(script);\n",
       "  }\n",
       "\n",
       "  /**\n",
       "   * Handle when an output is cleared or removed\n",
       "   */\n",
       "  function handleClearOutput(event, handle) {\n",
       "    var cell = handle.cell;\n",
       "\n",
       "    var id = cell.output_area._bokeh_element_id;\n",
       "    var server_id = cell.output_area._bokeh_server_id;\n",
       "    // Clean up Bokeh references\n",
       "    if (id !== undefined) {\n",
       "      Bokeh.index[id].model.document.clear();\n",
       "      delete Bokeh.index[id];\n",
       "    }\n",
       "\n",
       "    if (server_id !== undefined) {\n",
       "      // Clean up Bokeh references\n",
       "      var cmd = \"from bokeh.io import _state; print(_state.uuid_to_server['\" + server_id + \"'].get_sessions()[0].document.roots[0]._id)\";\n",
       "      cell.notebook.kernel.execute(cmd, {\n",
       "        iopub: {\n",
       "          output: function(msg) {\n",
       "            var element_id = msg.content.text.trim();\n",
       "            Bokeh.index[element_id].model.document.clear();\n",
       "            delete Bokeh.index[element_id];\n",
       "          }\n",
       "        }\n",
       "      });\n",
       "      // Destroy server and session\n",
       "      var cmd = \"from bokeh import io; io._destroy_server('\" + server_id + \"')\";\n",
       "      cell.notebook.kernel.execute(cmd);\n",
       "    }\n",
       "  }\n",
       "\n",
       "  /**\n",
       "   * Handle when a new output is added\n",
       "   */\n",
       "  function handleAddOutput(event, handle) {\n",
       "    var output_area = handle.output_area;\n",
       "    var output = handle.output;\n",
       "\n",
       "    // limit handleAddOutput to display_data with EXEC_MIME_TYPE content only\n",
       "    if ((output.output_type != \"display_data\") || (!output.data.hasOwnProperty(EXEC_MIME_TYPE))) {\n",
       "      return\n",
       "    }\n",
       "\n",
       "    var toinsert = output_area.element.find(`.${CLASS_NAME.split(' ')[0]}`);\n",
       "\n",
       "    if (output.metadata[EXEC_MIME_TYPE][\"id\"] !== undefined) {\n",
       "      toinsert[0].firstChild.textContent = output.data[JS_MIME_TYPE];\n",
       "      // store reference to embed id on output_area\n",
       "      output_area._bokeh_element_id = output.metadata[EXEC_MIME_TYPE][\"id\"];\n",
       "    }\n",
       "    if (output.metadata[EXEC_MIME_TYPE][\"server_id\"] !== undefined) {\n",
       "      var bk_div = document.createElement(\"div\");\n",
       "      bk_div.innerHTML = output.data[HTML_MIME_TYPE];\n",
       "      var script_attrs = bk_div.children[0].attributes;\n",
       "      for (var i = 0; i < script_attrs.length; i++) {\n",
       "        toinsert[0].firstChild.setAttribute(script_attrs[i].name, script_attrs[i].value);\n",
       "      }\n",
       "      // store reference to server id on output_area\n",
       "      output_area._bokeh_server_id = output.metadata[EXEC_MIME_TYPE][\"server_id\"];\n",
       "    }\n",
       "  }\n",
       "\n",
       "  function register_renderer(events, OutputArea) {\n",
       "\n",
       "    function append_mime(data, metadata, element) {\n",
       "      // create a DOM node to render to\n",
       "      var toinsert = this.create_output_subarea(\n",
       "        metadata,\n",
       "        CLASS_NAME,\n",
       "        EXEC_MIME_TYPE\n",
       "      );\n",
       "      this.keyboard_manager.register_events(toinsert);\n",
       "      // Render to node\n",
       "      var props = {data: data, metadata: metadata[EXEC_MIME_TYPE]};\n",
       "      render(props, toinsert[0]);\n",
       "      element.append(toinsert);\n",
       "      return toinsert\n",
       "    }\n",
       "\n",
       "    /* Handle when an output is cleared or removed */\n",
       "    events.on('clear_output.CodeCell', handleClearOutput);\n",
       "    events.on('delete.Cell', handleClearOutput);\n",
       "\n",
       "    /* Handle when a new output is added */\n",
       "    events.on('output_added.OutputArea', handleAddOutput);\n",
       "\n",
       "    /**\n",
       "     * Register the mime type and append_mime function with output_area\n",
       "     */\n",
       "    OutputArea.prototype.register_mime_type(EXEC_MIME_TYPE, append_mime, {\n",
       "      /* Is output safe? */\n",
       "      safe: true,\n",
       "      /* Index of renderer in `output_area.display_order` */\n",
       "      index: 0\n",
       "    });\n",
       "  }\n",
       "\n",
       "  // register the mime type if in Jupyter Notebook environment and previously unregistered\n",
       "  if (root.Jupyter !== undefined) {\n",
       "    var events = require('base/js/events');\n",
       "    var OutputArea = require('notebook/js/outputarea').OutputArea;\n",
       "\n",
       "    if (OutputArea.prototype.mime_types().indexOf(EXEC_MIME_TYPE) == -1) {\n",
       "      register_renderer(events, OutputArea);\n",
       "    }\n",
       "  }\n",
       "\n",
       "  \n",
       "  if (typeof (root._bokeh_timeout) === \"undefined\" || force === true) {\n",
       "    root._bokeh_timeout = Date.now() + 5000;\n",
       "    root._bokeh_failed_load = false;\n",
       "  }\n",
       "\n",
       "  var NB_LOAD_WARNING = {'data': {'text/html':\n",
       "     \"<div style='background-color: #fdd'>\\n\"+\n",
       "     \"<p>\\n\"+\n",
       "     \"BokehJS does not appear to have successfully loaded. If loading BokehJS from CDN, this \\n\"+\n",
       "     \"may be due to a slow or bad network connection. Possible fixes:\\n\"+\n",
       "     \"</p>\\n\"+\n",
       "     \"<ul>\\n\"+\n",
       "     \"<li>re-rerun `output_notebook()` to attempt to load from CDN again, or</li>\\n\"+\n",
       "     \"<li>use INLINE resources instead, as so:</li>\\n\"+\n",
       "     \"</ul>\\n\"+\n",
       "     \"<code>\\n\"+\n",
       "     \"from bokeh.resources import INLINE\\n\"+\n",
       "     \"output_notebook(resources=INLINE)\\n\"+\n",
       "     \"</code>\\n\"+\n",
       "     \"</div>\"}};\n",
       "\n",
       "  function display_loaded() {\n",
       "    var el = document.getElementById(\"dd41f50d-5a55-4d68-b312-ca8d4fed5d50\");\n",
       "    if (el != null) {\n",
       "      el.textContent = \"BokehJS is loading...\";\n",
       "    }\n",
       "    if (root.Bokeh !== undefined) {\n",
       "      if (el != null) {\n",
       "        el.textContent = \"BokehJS \" + root.Bokeh.version + \" successfully loaded.\";\n",
       "      }\n",
       "    } else if (Date.now() < root._bokeh_timeout) {\n",
       "      setTimeout(display_loaded, 100)\n",
       "    }\n",
       "  }\n",
       "\n",
       "\n",
       "  function run_callbacks() {\n",
       "    try {\n",
       "      root._bokeh_onload_callbacks.forEach(function(callback) { callback() });\n",
       "    }\n",
       "    finally {\n",
       "      delete root._bokeh_onload_callbacks\n",
       "    }\n",
       "    console.info(\"Bokeh: all callbacks have finished\");\n",
       "  }\n",
       "\n",
       "  function load_libs(js_urls, callback) {\n",
       "    root._bokeh_onload_callbacks.push(callback);\n",
       "    if (root._bokeh_is_loading > 0) {\n",
       "      console.log(\"Bokeh: BokehJS is being loaded, scheduling callback at\", now());\n",
       "      return null;\n",
       "    }\n",
       "    if (js_urls == null || js_urls.length === 0) {\n",
       "      run_callbacks();\n",
       "      return null;\n",
       "    }\n",
       "    console.log(\"Bokeh: BokehJS not loaded, scheduling load and callback at\", now());\n",
       "    root._bokeh_is_loading = js_urls.length;\n",
       "    for (var i = 0; i < js_urls.length; i++) {\n",
       "      var url = js_urls[i];\n",
       "      var s = document.createElement('script');\n",
       "      s.src = url;\n",
       "      s.async = false;\n",
       "      s.onreadystatechange = s.onload = function() {\n",
       "        root._bokeh_is_loading--;\n",
       "        if (root._bokeh_is_loading === 0) {\n",
       "          console.log(\"Bokeh: all BokehJS libraries loaded\");\n",
       "          run_callbacks()\n",
       "        }\n",
       "      };\n",
       "      s.onerror = function() {\n",
       "        console.warn(\"failed to load library \" + url);\n",
       "      };\n",
       "      console.log(\"Bokeh: injecting script tag for BokehJS library: \", url);\n",
       "      document.getElementsByTagName(\"head\")[0].appendChild(s);\n",
       "    }\n",
       "  };var element = document.getElementById(\"dd41f50d-5a55-4d68-b312-ca8d4fed5d50\");\n",
       "  if (element == null) {\n",
       "    console.log(\"Bokeh: ERROR: autoload.js configured with elementid 'dd41f50d-5a55-4d68-b312-ca8d4fed5d50' but no matching script tag was found. \")\n",
       "    return false;\n",
       "  }\n",
       "\n",
       "  var js_urls = [\"https://cdn.pydata.org/bokeh/release/bokeh-0.12.9.min.js\", \"https://cdn.pydata.org/bokeh/release/bokeh-widgets-0.12.9.min.js\", \"https://cdn.pydata.org/bokeh/release/bokeh-tables-0.12.9.min.js\", \"https://cdn.pydata.org/bokeh/release/bokeh-gl-0.12.9.min.js\"];\n",
       "\n",
       "  var inline_js = [\n",
       "    function(Bokeh) {\n",
       "      Bokeh.set_log_level(\"info\");\n",
       "    },\n",
       "    \n",
       "    function(Bokeh) {\n",
       "      \n",
       "    },\n",
       "    function(Bokeh) {\n",
       "      console.log(\"Bokeh: injecting CSS: https://cdn.pydata.org/bokeh/release/bokeh-0.12.9.min.css\");\n",
       "      Bokeh.embed.inject_css(\"https://cdn.pydata.org/bokeh/release/bokeh-0.12.9.min.css\");\n",
       "      console.log(\"Bokeh: injecting CSS: https://cdn.pydata.org/bokeh/release/bokeh-widgets-0.12.9.min.css\");\n",
       "      Bokeh.embed.inject_css(\"https://cdn.pydata.org/bokeh/release/bokeh-widgets-0.12.9.min.css\");\n",
       "      console.log(\"Bokeh: injecting CSS: https://cdn.pydata.org/bokeh/release/bokeh-tables-0.12.9.min.css\");\n",
       "      Bokeh.embed.inject_css(\"https://cdn.pydata.org/bokeh/release/bokeh-tables-0.12.9.min.css\");\n",
       "    }\n",
       "  ];\n",
       "\n",
       "  function run_inline_js() {\n",
       "    \n",
       "    if ((root.Bokeh !== undefined) || (force === true)) {\n",
       "      for (var i = 0; i < inline_js.length; i++) {\n",
       "        inline_js[i].call(root, root.Bokeh);\n",
       "      }if (force === true) {\n",
       "        display_loaded();\n",
       "      }} else if (Date.now() < root._bokeh_timeout) {\n",
       "      setTimeout(run_inline_js, 100);\n",
       "    } else if (!root._bokeh_failed_load) {\n",
       "      console.log(\"Bokeh: BokehJS failed to load within specified timeout.\");\n",
       "      root._bokeh_failed_load = true;\n",
       "    } else if (force !== true) {\n",
       "      var cell = $(document.getElementById(\"dd41f50d-5a55-4d68-b312-ca8d4fed5d50\")).parents('.cell').data().cell;\n",
       "      cell.output_area.append_execute_result(NB_LOAD_WARNING)\n",
       "    }\n",
       "\n",
       "  }\n",
       "\n",
       "  if (root._bokeh_is_loading === 0) {\n",
       "    console.log(\"Bokeh: BokehJS loaded, going straight to plotting\");\n",
       "    run_inline_js();\n",
       "  } else {\n",
       "    load_libs(js_urls, function() {\n",
       "      console.log(\"Bokeh: BokehJS plotting callback run at\", now());\n",
       "      run_inline_js();\n",
       "    });\n",
       "  }\n",
       "}(window));"
      ],
      "application/vnd.bokehjs_load.v0+json": "\n(function(root) {\n  function now() {\n    return new Date();\n  }\n\n  var force = true;\n\n  if (typeof (root._bokeh_onload_callbacks) === \"undefined\" || force === true) {\n    root._bokeh_onload_callbacks = [];\n    root._bokeh_is_loading = undefined;\n  }\n\n  \n\n  \n  if (typeof (root._bokeh_timeout) === \"undefined\" || force === true) {\n    root._bokeh_timeout = Date.now() + 5000;\n    root._bokeh_failed_load = false;\n  }\n\n  var NB_LOAD_WARNING = {'data': {'text/html':\n     \"<div style='background-color: #fdd'>\\n\"+\n     \"<p>\\n\"+\n     \"BokehJS does not appear to have successfully loaded. If loading BokehJS from CDN, this \\n\"+\n     \"may be due to a slow or bad network connection. Possible fixes:\\n\"+\n     \"</p>\\n\"+\n     \"<ul>\\n\"+\n     \"<li>re-rerun `output_notebook()` to attempt to load from CDN again, or</li>\\n\"+\n     \"<li>use INLINE resources instead, as so:</li>\\n\"+\n     \"</ul>\\n\"+\n     \"<code>\\n\"+\n     \"from bokeh.resources import INLINE\\n\"+\n     \"output_notebook(resources=INLINE)\\n\"+\n     \"</code>\\n\"+\n     \"</div>\"}};\n\n  function display_loaded() {\n    var el = document.getElementById(\"dd41f50d-5a55-4d68-b312-ca8d4fed5d50\");\n    if (el != null) {\n      el.textContent = \"BokehJS is loading...\";\n    }\n    if (root.Bokeh !== undefined) {\n      if (el != null) {\n        el.textContent = \"BokehJS \" + root.Bokeh.version + \" successfully loaded.\";\n      }\n    } else if (Date.now() < root._bokeh_timeout) {\n      setTimeout(display_loaded, 100)\n    }\n  }\n\n\n  function run_callbacks() {\n    try {\n      root._bokeh_onload_callbacks.forEach(function(callback) { callback() });\n    }\n    finally {\n      delete root._bokeh_onload_callbacks\n    }\n    console.info(\"Bokeh: all callbacks have finished\");\n  }\n\n  function load_libs(js_urls, callback) {\n    root._bokeh_onload_callbacks.push(callback);\n    if (root._bokeh_is_loading > 0) {\n      console.log(\"Bokeh: BokehJS is being loaded, scheduling callback at\", now());\n      return null;\n    }\n    if (js_urls == null || js_urls.length === 0) {\n      run_callbacks();\n      return null;\n    }\n    console.log(\"Bokeh: BokehJS not loaded, scheduling load and callback at\", now());\n    root._bokeh_is_loading = js_urls.length;\n    for (var i = 0; i < js_urls.length; i++) {\n      var url = js_urls[i];\n      var s = document.createElement('script');\n      s.src = url;\n      s.async = false;\n      s.onreadystatechange = s.onload = function() {\n        root._bokeh_is_loading--;\n        if (root._bokeh_is_loading === 0) {\n          console.log(\"Bokeh: all BokehJS libraries loaded\");\n          run_callbacks()\n        }\n      };\n      s.onerror = function() {\n        console.warn(\"failed to load library \" + url);\n      };\n      console.log(\"Bokeh: injecting script tag for BokehJS library: \", url);\n      document.getElementsByTagName(\"head\")[0].appendChild(s);\n    }\n  };var element = document.getElementById(\"dd41f50d-5a55-4d68-b312-ca8d4fed5d50\");\n  if (element == null) {\n    console.log(\"Bokeh: ERROR: autoload.js configured with elementid 'dd41f50d-5a55-4d68-b312-ca8d4fed5d50' but no matching script tag was found. \")\n    return false;\n  }\n\n  var js_urls = [\"https://cdn.pydata.org/bokeh/release/bokeh-0.12.9.min.js\", \"https://cdn.pydata.org/bokeh/release/bokeh-widgets-0.12.9.min.js\", \"https://cdn.pydata.org/bokeh/release/bokeh-tables-0.12.9.min.js\", \"https://cdn.pydata.org/bokeh/release/bokeh-gl-0.12.9.min.js\"];\n\n  var inline_js = [\n    function(Bokeh) {\n      Bokeh.set_log_level(\"info\");\n    },\n    \n    function(Bokeh) {\n      \n    },\n    function(Bokeh) {\n      console.log(\"Bokeh: injecting CSS: https://cdn.pydata.org/bokeh/release/bokeh-0.12.9.min.css\");\n      Bokeh.embed.inject_css(\"https://cdn.pydata.org/bokeh/release/bokeh-0.12.9.min.css\");\n      console.log(\"Bokeh: injecting CSS: https://cdn.pydata.org/bokeh/release/bokeh-widgets-0.12.9.min.css\");\n      Bokeh.embed.inject_css(\"https://cdn.pydata.org/bokeh/release/bokeh-widgets-0.12.9.min.css\");\n      console.log(\"Bokeh: injecting CSS: https://cdn.pydata.org/bokeh/release/bokeh-tables-0.12.9.min.css\");\n      Bokeh.embed.inject_css(\"https://cdn.pydata.org/bokeh/release/bokeh-tables-0.12.9.min.css\");\n    }\n  ];\n\n  function run_inline_js() {\n    \n    if ((root.Bokeh !== undefined) || (force === true)) {\n      for (var i = 0; i < inline_js.length; i++) {\n        inline_js[i].call(root, root.Bokeh);\n      }if (force === true) {\n        display_loaded();\n      }} else if (Date.now() < root._bokeh_timeout) {\n      setTimeout(run_inline_js, 100);\n    } else if (!root._bokeh_failed_load) {\n      console.log(\"Bokeh: BokehJS failed to load within specified timeout.\");\n      root._bokeh_failed_load = true;\n    } else if (force !== true) {\n      var cell = $(document.getElementById(\"dd41f50d-5a55-4d68-b312-ca8d4fed5d50\")).parents('.cell').data().cell;\n      cell.output_area.append_execute_result(NB_LOAD_WARNING)\n    }\n\n  }\n\n  if (root._bokeh_is_loading === 0) {\n    console.log(\"Bokeh: BokehJS loaded, going straight to plotting\");\n    run_inline_js();\n  } else {\n    load_libs(js_urls, function() {\n      console.log(\"Bokeh: BokehJS plotting callback run at\", now());\n      run_inline_js();\n    });\n  }\n}(window));"
     },
     "metadata": {},
     "output_type": "display_data"
    },
    {
     "data": {
      "text/html": [
       "\n",
       "<div class=\"bk-root\">\n",
       "    <div class=\"bk-plotdiv\" id=\"d42f9643-4adf-4d4b-b2de-3f67c7d59deb\"></div>\n",
       "</div>"
      ]
     },
     "metadata": {},
     "output_type": "display_data"
    },
    {
     "data": {
      "application/javascript": [
       "(function(root) {\n",
       "  function embed_document(root) {\n",
       "    var docs_json = {\"b79bc8f8-d539-4da3-9ea3-8282853ab2e7\":{\"roots\":{\"references\":[{\"attributes\":{\"source\":{\"id\":\"7a9c56cc-e3f8-4e6c-a955-c88ca4af834e\",\"type\":\"ColumnDataSource\"}},\"id\":\"ae1f6988-015b-4907-a36e-001b026e212e\",\"type\":\"CDSView\"},{\"attributes\":{\"callback\":null,\"tooltips\":[[\"Document\",\"@Document\"],[\"Topic\",\"@Topic\"],[\"Score\",\"@Score\"]]},\"id\":\"23d3941b-5957-4381-ae2d-d7f8cbe456b1\",\"type\":\"HoverTool\"},{\"attributes\":{\"data_source\":{\"id\":\"7a9c56cc-e3f8-4e6c-a955-c88ca4af834e\",\"type\":\"ColumnDataSource\"},\"glyph\":{\"id\":\"5def9bf9-f8e4-4fc7-bfd3-7b2e60c2fdca\",\"type\":\"Rect\"},\"hover_glyph\":null,\"muted_glyph\":null,\"nonselection_glyph\":{\"id\":\"03f3929a-b1e0-47a9-8cd1-af89b7ea8f76\",\"type\":\"Rect\"},\"selection_glyph\":null,\"view\":{\"id\":\"ae1f6988-015b-4907-a36e-001b026e212e\",\"type\":\"CDSView\"}},\"id\":\"4a7a32fd-fbdc-4973-a3ab-182e7943e66f\",\"type\":\"GlyphRenderer\"},{\"attributes\":{\"callback\":null,\"factors\":[\"1844_Tagebuch_56\",\"1844_Tagebuch_70\",\"1844_Tagebuch_77\",\"1844_Tagebuch_82\",\"1844_Tagebuch_88\",\"1845_Tagebuch_52\",\"1845_Tagebuch_62\",\"1845_Tagebuch_81\",\"1845_Tagebuch_85\",\"1845_Tagebuch_93\",\"1846_Tagebuch_51\",\"1846_Tagebuch_72\",\"1846_Tagebuch_82\",\"1846_Tagebuch_88\",\"1846_Tagebuch_96\",\"1914_Kriegstagebuch_37\",\"1914_Kriegstagebuch_68\",\"1914_Kriegstagebuch_94\",\"1914_Kriegstagebuch_95\",\"1914_Kriegstagebuch_97\",\"1915_Kriegstagebuch_33\",\"1915_Kriegstagebuch_39\",\"1915_Kriegstagebuch_73\",\"1915_Kriegstagebuch_94\",\"1915_Kriegstagebuch_99\",\"1916_Kriegstagebuch_41\",\"1916_Kriegstagebuch_48\",\"1916_Kriegstagebuch_49\",\"1916_Kriegstagebuch_69\",\"1916_Kriegstagebuch_81\"]},\"id\":\"96fe2823-45ab-4274-aa51-f2d152f4612d\",\"type\":\"FactorRange\"},{\"attributes\":{},\"id\":\"01af4621-4267-4f7e-a638-36745c985c24\",\"type\":\"SaveTool\"},{\"attributes\":{\"fill_color\":{\"field\":\"Score\",\"transform\":{\"id\":\"b4be8230-d1ba-4998-9f26-a226add2099f\",\"type\":\"LinearColorMapper\"}},\"height\":{\"units\":\"data\",\"value\":1},\"line_color\":{\"value\":null},\"width\":{\"units\":\"data\",\"value\":1},\"x\":{\"field\":\"Document\"},\"y\":{\"field\":\"Topic\"}},\"id\":\"5def9bf9-f8e4-4fc7-bfd3-7b2e60c2fdca\",\"type\":\"Rect\"},{\"attributes\":{\"desired_num_ticks\":7},\"id\":\"8238cc65-a4bc-492f-946b-fe4e4c72a56f\",\"type\":\"BasicTicker\"},{\"attributes\":{},\"id\":\"2acdd8e6-b4ea-4ab4-b6ce-18335ad1de66\",\"type\":\"PanTool\"},{\"attributes\":{\"fill_alpha\":{\"value\":0.1},\"fill_color\":{\"value\":\"#1f77b4\"},\"height\":{\"units\":\"data\",\"value\":1},\"line_alpha\":{\"value\":0.1},\"line_color\":{\"value\":\"#1f77b4\"},\"width\":{\"units\":\"data\",\"value\":1},\"x\":{\"field\":\"Document\"},\"y\":{\"field\":\"Topic\"}},\"id\":\"03f3929a-b1e0-47a9-8cd1-af89b7ea8f76\",\"type\":\"Rect\"},{\"attributes\":{\"overlay\":{\"id\":\"fd0cbb01-ed1b-43d4-8649-661c346ca049\",\"type\":\"BoxAnnotation\"}},\"id\":\"fa346cea-6f2b-4e75-9d11-edc8d9ded787\",\"type\":\"BoxZoomTool\"},{\"attributes\":{},\"id\":\"a2ae7e14-d8bd-4e71-8e6d-edfbcaf3061b\",\"type\":\"CategoricalScale\"},{\"attributes\":{},\"id\":\"f1fc8708-29a1-426c-887a-8c93a36873b9\",\"type\":\"ResetTool\"},{\"attributes\":{\"callback\":null,\"factors\":[\"verworrene zerbrochene lrsnck\",\"aufzuweisen befestigen directe\",\"zuchthaus l\\u00e4chelte artilleriepark\",\"artilleriepark humberm\\u00fcndung erhielt\",\"ab\\u00e4nderung systematisch entw\\u00fcrdigt\",\"schlachtfelds niemeyern zerfressen\",\"artilleriepark einzuleiten erhielt\",\"verworrene zerbrochene systematisch\",\"gemeinheit ausgestellt aston\",\"erhielt steck'n humberm\\u00fcndung\"]},\"id\":\"0baf455d-2167-4f17-97b4-436fd52df48b\",\"type\":\"FactorRange\"},{\"attributes\":{},\"id\":\"09443fb2-af43-4cef-995f-429759dd0490\",\"type\":\"WheelZoomTool\"},{\"attributes\":{},\"id\":\"a125ba55-f67c-4c2d-8edf-2608da2a517f\",\"type\":\"CategoricalScale\"},{\"attributes\":{\"axis_line_color\":{\"value\":null},\"formatter\":{\"id\":\"2ae60416-13fc-4dd9-bb8c-b35705c40b93\",\"type\":\"CategoricalTickFormatter\"},\"major_label_standoff\":0,\"major_label_text_font_size\":{\"value\":\"9pt\"},\"major_tick_line_color\":{\"value\":null},\"plot\":{\"id\":\"982c1587-fd51-4562-83a7-9decf99ae111\",\"subtype\":\"Figure\",\"type\":\"Plot\"},\"ticker\":{\"id\":\"1c3626d7-92ac-4bf3-9468-4acaac97baab\",\"type\":\"CategoricalTicker\"}},\"id\":\"88f0eb78-51a7-4805-b14f-8dd6cc6760a8\",\"type\":\"CategoricalAxis\"},{\"attributes\":{\"active_drag\":\"auto\",\"active_inspect\":\"auto\",\"active_scroll\":\"auto\",\"active_tap\":\"auto\",\"tools\":[{\"id\":\"23d3941b-5957-4381-ae2d-d7f8cbe456b1\",\"type\":\"HoverTool\"},{\"id\":\"01af4621-4267-4f7e-a638-36745c985c24\",\"type\":\"SaveTool\"},{\"id\":\"2acdd8e6-b4ea-4ab4-b6ce-18335ad1de66\",\"type\":\"PanTool\"},{\"id\":\"fa346cea-6f2b-4e75-9d11-edc8d9ded787\",\"type\":\"BoxZoomTool\"},{\"id\":\"f1fc8708-29a1-426c-887a-8c93a36873b9\",\"type\":\"ResetTool\"},{\"id\":\"09443fb2-af43-4cef-995f-429759dd0490\",\"type\":\"WheelZoomTool\"}]},\"id\":\"07d64c41-282a-46ca-9b01-55b25030593d\",\"type\":\"Toolbar\"},{\"attributes\":{\"above\":[{\"id\":\"9468f0b7-2eff-4683-821d-5a47236e70a5\",\"type\":\"CategoricalAxis\"}],\"left\":[{\"id\":\"88f0eb78-51a7-4805-b14f-8dd6cc6760a8\",\"type\":\"CategoricalAxis\"}],\"plot_height\":768,\"plot_width\":1024,\"renderers\":[{\"id\":\"9468f0b7-2eff-4683-821d-5a47236e70a5\",\"type\":\"CategoricalAxis\"},{\"id\":\"3e0880b8-5877-4dd5-9806-114639c78beb\",\"type\":\"Grid\"},{\"id\":\"88f0eb78-51a7-4805-b14f-8dd6cc6760a8\",\"type\":\"CategoricalAxis\"},{\"id\":\"7c39a9ce-0c8e-491e-8a81-3ef7257081a3\",\"type\":\"Grid\"},{\"id\":\"fd0cbb01-ed1b-43d4-8649-661c346ca049\",\"type\":\"BoxAnnotation\"},{\"id\":\"4a7a32fd-fbdc-4973-a3ab-182e7943e66f\",\"type\":\"GlyphRenderer\"},{\"id\":\"87af8727-39d9-4b25-b59d-e6cd20c52881\",\"type\":\"ColorBar\"}],\"right\":[{\"id\":\"87af8727-39d9-4b25-b59d-e6cd20c52881\",\"type\":\"ColorBar\"}],\"sizing_mode\":\"scale_width\",\"title\":{\"id\":\"13e07319-97c7-4dad-910a-bf179495e1ab\",\"type\":\"Title\"},\"toolbar\":{\"id\":\"07d64c41-282a-46ca-9b01-55b25030593d\",\"type\":\"Toolbar\"},\"toolbar_location\":\"below\",\"x_range\":{\"id\":\"96fe2823-45ab-4274-aa51-f2d152f4612d\",\"type\":\"FactorRange\"},\"x_scale\":{\"id\":\"a2ae7e14-d8bd-4e71-8e6d-edfbcaf3061b\",\"type\":\"CategoricalScale\"},\"y_range\":{\"id\":\"0baf455d-2167-4f17-97b4-436fd52df48b\",\"type\":\"FactorRange\"},\"y_scale\":{\"id\":\"a125ba55-f67c-4c2d-8edf-2608da2a517f\",\"type\":\"CategoricalScale\"}},\"id\":\"982c1587-fd51-4562-83a7-9decf99ae111\",\"subtype\":\"Figure\",\"type\":\"Plot\"},{\"attributes\":{\"axis_line_color\":{\"value\":null},\"formatter\":{\"id\":\"15102b0a-a1b8-40e9-a060-2626fa768791\",\"type\":\"CategoricalTickFormatter\"},\"major_label_orientation\":1.0471975511965976,\"major_label_standoff\":0,\"major_label_text_font_size\":{\"value\":\"9pt\"},\"major_tick_line_color\":{\"value\":null},\"plot\":{\"id\":\"982c1587-fd51-4562-83a7-9decf99ae111\",\"subtype\":\"Figure\",\"type\":\"Plot\"},\"ticker\":{\"id\":\"012f36b1-a658-4637-8f9e-c28ef4f853b0\",\"type\":\"CategoricalTicker\"}},\"id\":\"9468f0b7-2eff-4683-821d-5a47236e70a5\",\"type\":\"CategoricalAxis\"},{\"attributes\":{\"plot\":null,\"text\":\"Grenzboten\"},\"id\":\"13e07319-97c7-4dad-910a-bf179495e1ab\",\"type\":\"Title\"},{\"attributes\":{\"callback\":null,\"column_names\":[\"Document\",\"Score\",\"Topic\",\"index\"],\"data\":{\"Document\":[\"1844_Tagebuch_56\",\"1844_Tagebuch_56\",\"1844_Tagebuch_56\",\"1844_Tagebuch_56\",\"1844_Tagebuch_56\",\"1844_Tagebuch_56\",\"1844_Tagebuch_56\",\"1844_Tagebuch_56\",\"1844_Tagebuch_56\",\"1844_Tagebuch_56\",\"1844_Tagebuch_70\",\"1844_Tagebuch_70\",\"1844_Tagebuch_70\",\"1844_Tagebuch_70\",\"1844_Tagebuch_70\",\"1844_Tagebuch_70\",\"1844_Tagebuch_70\",\"1844_Tagebuch_70\",\"1844_Tagebuch_70\",\"1844_Tagebuch_70\",\"1844_Tagebuch_77\",\"1844_Tagebuch_77\",\"1844_Tagebuch_77\",\"1844_Tagebuch_77\",\"1844_Tagebuch_77\",\"1844_Tagebuch_77\",\"1844_Tagebuch_77\",\"1844_Tagebuch_77\",\"1844_Tagebuch_77\",\"1844_Tagebuch_77\",\"1844_Tagebuch_82\",\"1844_Tagebuch_82\",\"1844_Tagebuch_82\",\"1844_Tagebuch_82\",\"1844_Tagebuch_82\",\"1844_Tagebuch_82\",\"1844_Tagebuch_82\",\"1844_Tagebuch_82\",\"1844_Tagebuch_82\",\"1844_Tagebuch_82\",\"1844_Tagebuch_88\",\"1844_Tagebuch_88\",\"1844_Tagebuch_88\",\"1844_Tagebuch_88\",\"1844_Tagebuch_88\",\"1844_Tagebuch_88\",\"1844_Tagebuch_88\",\"1844_Tagebuch_88\",\"1844_Tagebuch_88\",\"1844_Tagebuch_88\",\"1845_Tagebuch_52\",\"1845_Tagebuch_52\",\"1845_Tagebuch_52\",\"1845_Tagebuch_52\",\"1845_Tagebuch_52\",\"1845_Tagebuch_52\",\"1845_Tagebuch_52\",\"1845_Tagebuch_52\",\"1845_Tagebuch_52\",\"1845_Tagebuch_52\",\"1845_Tagebuch_62\",\"1845_Tagebuch_62\",\"1845_Tagebuch_62\",\"1845_Tagebuch_62\",\"1845_Tagebuch_62\",\"1845_Tagebuch_62\",\"1845_Tagebuch_62\",\"1845_Tagebuch_62\",\"1845_Tagebuch_62\",\"1845_Tagebuch_62\",\"1845_Tagebuch_81\",\"1845_Tagebuch_81\",\"1845_Tagebuch_81\",\"1845_Tagebuch_81\",\"1845_Tagebuch_81\",\"1845_Tagebuch_81\",\"1845_Tagebuch_81\",\"1845_Tagebuch_81\",\"1845_Tagebuch_81\",\"1845_Tagebuch_81\",\"1845_Tagebuch_85\",\"1845_Tagebuch_85\",\"1845_Tagebuch_85\",\"1845_Tagebuch_85\",\"1845_Tagebuch_85\",\"1845_Tagebuch_85\",\"1845_Tagebuch_85\",\"1845_Tagebuch_85\",\"1845_Tagebuch_85\",\"1845_Tagebuch_85\",\"1845_Tagebuch_93\",\"1845_Tagebuch_93\",\"1845_Tagebuch_93\",\"1845_Tagebuch_93\",\"1845_Tagebuch_93\",\"1845_Tagebuch_93\",\"1845_Tagebuch_93\",\"1845_Tagebuch_93\",\"1845_Tagebuch_93\",\"1845_Tagebuch_93\",\"1846_Tagebuch_51\",\"1846_Tagebuch_51\",\"1846_Tagebuch_51\",\"1846_Tagebuch_51\",\"1846_Tagebuch_51\",\"1846_Tagebuch_51\",\"1846_Tagebuch_51\",\"1846_Tagebuch_51\",\"1846_Tagebuch_51\",\"1846_Tagebuch_51\",\"1846_Tagebuch_72\",\"1846_Tagebuch_72\",\"1846_Tagebuch_72\",\"1846_Tagebuch_72\",\"1846_Tagebuch_72\",\"1846_Tagebuch_72\",\"1846_Tagebuch_72\",\"1846_Tagebuch_72\",\"1846_Tagebuch_72\",\"1846_Tagebuch_72\",\"1846_Tagebuch_82\",\"1846_Tagebuch_82\",\"1846_Tagebuch_82\",\"1846_Tagebuch_82\",\"1846_Tagebuch_82\",\"1846_Tagebuch_82\",\"1846_Tagebuch_82\",\"1846_Tagebuch_82\",\"1846_Tagebuch_82\",\"1846_Tagebuch_82\",\"1846_Tagebuch_88\",\"1846_Tagebuch_88\",\"1846_Tagebuch_88\",\"1846_Tagebuch_88\",\"1846_Tagebuch_88\",\"1846_Tagebuch_88\",\"1846_Tagebuch_88\",\"1846_Tagebuch_88\",\"1846_Tagebuch_88\",\"1846_Tagebuch_88\",\"1846_Tagebuch_96\",\"1846_Tagebuch_96\",\"1846_Tagebuch_96\",\"1846_Tagebuch_96\",\"1846_Tagebuch_96\",\"1846_Tagebuch_96\",\"1846_Tagebuch_96\",\"1846_Tagebuch_96\",\"1846_Tagebuch_96\",\"1846_Tagebuch_96\",\"1914_Kriegstagebuch_37\",\"1914_Kriegstagebuch_37\",\"1914_Kriegstagebuch_37\",\"1914_Kriegstagebuch_37\",\"1914_Kriegstagebuch_37\",\"1914_Kriegstagebuch_37\",\"1914_Kriegstagebuch_37\",\"1914_Kriegstagebuch_37\",\"1914_Kriegstagebuch_37\",\"1914_Kriegstagebuch_37\",\"1914_Kriegstagebuch_68\",\"1914_Kriegstagebuch_68\",\"1914_Kriegstagebuch_68\",\"1914_Kriegstagebuch_68\",\"1914_Kriegstagebuch_68\",\"1914_Kriegstagebuch_68\",\"1914_Kriegstagebuch_68\",\"1914_Kriegstagebuch_68\",\"1914_Kriegstagebuch_68\",\"1914_Kriegstagebuch_68\",\"1914_Kriegstagebuch_94\",\"1914_Kriegstagebuch_94\",\"1914_Kriegstagebuch_94\",\"1914_Kriegstagebuch_94\",\"1914_Kriegstagebuch_94\",\"1914_Kriegstagebuch_94\",\"1914_Kriegstagebuch_94\",\"1914_Kriegstagebuch_94\",\"1914_Kriegstagebuch_94\",\"1914_Kriegstagebuch_94\",\"1914_Kriegstagebuch_95\",\"1914_Kriegstagebuch_95\",\"1914_Kriegstagebuch_95\",\"1914_Kriegstagebuch_95\",\"1914_Kriegstagebuch_95\",\"1914_Kriegstagebuch_95\",\"1914_Kriegstagebuch_95\",\"1914_Kriegstagebuch_95\",\"1914_Kriegstagebuch_95\",\"1914_Kriegstagebuch_95\",\"1914_Kriegstagebuch_97\",\"1914_Kriegstagebuch_97\",\"1914_Kriegstagebuch_97\",\"1914_Kriegstagebuch_97\",\"1914_Kriegstagebuch_97\",\"1914_Kriegstagebuch_97\",\"1914_Kriegstagebuch_97\",\"1914_Kriegstagebuch_97\",\"1914_Kriegstagebuch_97\",\"1914_Kriegstagebuch_97\",\"1915_Kriegstagebuch_33\",\"1915_Kriegstagebuch_33\",\"1915_Kriegstagebuch_33\",\"1915_Kriegstagebuch_33\",\"1915_Kriegstagebuch_33\",\"1915_Kriegstagebuch_33\",\"1915_Kriegstagebuch_33\",\"1915_Kriegstagebuch_33\",\"1915_Kriegstagebuch_33\",\"1915_Kriegstagebuch_33\",\"1915_Kriegstagebuch_39\",\"1915_Kriegstagebuch_39\",\"1915_Kriegstagebuch_39\",\"1915_Kriegstagebuch_39\",\"1915_Kriegstagebuch_39\",\"1915_Kriegstagebuch_39\",\"1915_Kriegstagebuch_39\",\"1915_Kriegstagebuch_39\",\"1915_Kriegstagebuch_39\",\"1915_Kriegstagebuch_39\",\"1915_Kriegstagebuch_73\",\"1915_Kriegstagebuch_73\",\"1915_Kriegstagebuch_73\",\"1915_Kriegstagebuch_73\",\"1915_Kriegstagebuch_73\",\"1915_Kriegstagebuch_73\",\"1915_Kriegstagebuch_73\",\"1915_Kriegstagebuch_73\",\"1915_Kriegstagebuch_73\",\"1915_Kriegstagebuch_73\",\"1915_Kriegstagebuch_94\",\"1915_Kriegstagebuch_94\",\"1915_Kriegstagebuch_94\",\"1915_Kriegstagebuch_94\",\"1915_Kriegstagebuch_94\",\"1915_Kriegstagebuch_94\",\"1915_Kriegstagebuch_94\",\"1915_Kriegstagebuch_94\",\"1915_Kriegstagebuch_94\",\"1915_Kriegstagebuch_94\",\"1915_Kriegstagebuch_99\",\"1915_Kriegstagebuch_99\",\"1915_Kriegstagebuch_99\",\"1915_Kriegstagebuch_99\",\"1915_Kriegstagebuch_99\",\"1915_Kriegstagebuch_99\",\"1915_Kriegstagebuch_99\",\"1915_Kriegstagebuch_99\",\"1915_Kriegstagebuch_99\",\"1915_Kriegstagebuch_99\",\"1916_Kriegstagebuch_41\",\"1916_Kriegstagebuch_41\",\"1916_Kriegstagebuch_41\",\"1916_Kriegstagebuch_41\",\"1916_Kriegstagebuch_41\",\"1916_Kriegstagebuch_41\",\"1916_Kriegstagebuch_41\",\"1916_Kriegstagebuch_41\",\"1916_Kriegstagebuch_41\",\"1916_Kriegstagebuch_41\",\"1916_Kriegstagebuch_48\",\"1916_Kriegstagebuch_48\",\"1916_Kriegstagebuch_48\",\"1916_Kriegstagebuch_48\",\"1916_Kriegstagebuch_48\",\"1916_Kriegstagebuch_48\",\"1916_Kriegstagebuch_48\",\"1916_Kriegstagebuch_48\",\"1916_Kriegstagebuch_48\",\"1916_Kriegstagebuch_48\",\"1916_Kriegstagebuch_49\",\"1916_Kriegstagebuch_49\",\"1916_Kriegstagebuch_49\",\"1916_Kriegstagebuch_49\",\"1916_Kriegstagebuch_49\",\"1916_Kriegstagebuch_49\",\"1916_Kriegstagebuch_49\",\"1916_Kriegstagebuch_49\",\"1916_Kriegstagebuch_49\",\"1916_Kriegstagebuch_49\",\"1916_Kriegstagebuch_69\",\"1916_Kriegstagebuch_69\",\"1916_Kriegstagebuch_69\",\"1916_Kriegstagebuch_69\",\"1916_Kriegstagebuch_69\",\"1916_Kriegstagebuch_69\",\"1916_Kriegstagebuch_69\",\"1916_Kriegstagebuch_69\",\"1916_Kriegstagebuch_69\",\"1916_Kriegstagebuch_69\",\"1916_Kriegstagebuch_81\",\"1916_Kriegstagebuch_81\",\"1916_Kriegstagebuch_81\",\"1916_Kriegstagebuch_81\",\"1916_Kriegstagebuch_81\",\"1916_Kriegstagebuch_81\",\"1916_Kriegstagebuch_81\",\"1916_Kriegstagebuch_81\",\"1916_Kriegstagebuch_81\",\"1916_Kriegstagebuch_81\"],\"Score\":{\"__ndarray__\":\"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\",\"dtype\":\"float64\",\"shape\":[300]},\"Topic\":[\"erhielt steck'n humberm\\u00fcndung\",\"gemeinheit ausgestellt aston\",\"verworrene zerbrochene systematisch\",\"artilleriepark einzuleiten erhielt\",\"schlachtfelds niemeyern zerfressen\",\"ab\\u00e4nderung systematisch entw\\u00fcrdigt\",\"artilleriepark humberm\\u00fcndung erhielt\",\"zuchthaus l\\u00e4chelte artilleriepark\",\"aufzuweisen befestigen directe\",\"verworrene zerbrochene lrsnck\",\"erhielt steck'n humberm\\u00fcndung\",\"gemeinheit ausgestellt aston\",\"verworrene zerbrochene systematisch\",\"artilleriepark einzuleiten erhielt\",\"schlachtfelds niemeyern zerfressen\",\"ab\\u00e4nderung systematisch entw\\u00fcrdigt\",\"artilleriepark humberm\\u00fcndung erhielt\",\"zuchthaus l\\u00e4chelte artilleriepark\",\"aufzuweisen befestigen directe\",\"verworrene zerbrochene lrsnck\",\"erhielt steck'n humberm\\u00fcndung\",\"gemeinheit ausgestellt aston\",\"verworrene zerbrochene systematisch\",\"artilleriepark einzuleiten erhielt\",\"schlachtfelds niemeyern zerfressen\",\"ab\\u00e4nderung systematisch entw\\u00fcrdigt\",\"artilleriepark humberm\\u00fcndung erhielt\",\"zuchthaus l\\u00e4chelte artilleriepark\",\"aufzuweisen befestigen directe\",\"verworrene zerbrochene lrsnck\",\"erhielt steck'n humberm\\u00fcndung\",\"gemeinheit ausgestellt aston\",\"verworrene zerbrochene systematisch\",\"artilleriepark einzuleiten erhielt\",\"schlachtfelds niemeyern zerfressen\",\"ab\\u00e4nderung systematisch entw\\u00fcrdigt\",\"artilleriepark humberm\\u00fcndung erhielt\",\"zuchthaus l\\u00e4chelte artilleriepark\",\"aufzuweisen befestigen directe\",\"verworrene zerbrochene lrsnck\",\"erhielt steck'n humberm\\u00fcndung\",\"gemeinheit ausgestellt aston\",\"verworrene zerbrochene systematisch\",\"artilleriepark einzuleiten erhielt\",\"schlachtfelds niemeyern zerfressen\",\"ab\\u00e4nderung systematisch entw\\u00fcrdigt\",\"artilleriepark humberm\\u00fcndung erhielt\",\"zuchthaus l\\u00e4chelte artilleriepark\",\"aufzuweisen befestigen directe\",\"verworrene zerbrochene lrsnck\",\"erhielt steck'n humberm\\u00fcndung\",\"gemeinheit ausgestellt aston\",\"verworrene zerbrochene systematisch\",\"artilleriepark einzuleiten erhielt\",\"schlachtfelds niemeyern zerfressen\",\"ab\\u00e4nderung systematisch entw\\u00fcrdigt\",\"artilleriepark humberm\\u00fcndung erhielt\",\"zuchthaus l\\u00e4chelte artilleriepark\",\"aufzuweisen befestigen directe\",\"verworrene zerbrochene lrsnck\",\"erhielt steck'n humberm\\u00fcndung\",\"gemeinheit ausgestellt aston\",\"verworrene zerbrochene systematisch\",\"artilleriepark einzuleiten erhielt\",\"schlachtfelds niemeyern zerfressen\",\"ab\\u00e4nderung systematisch entw\\u00fcrdigt\",\"artilleriepark humberm\\u00fcndung erhielt\",\"zuchthaus l\\u00e4chelte artilleriepark\",\"aufzuweisen befestigen directe\",\"verworrene zerbrochene lrsnck\",\"erhielt steck'n humberm\\u00fcndung\",\"gemeinheit ausgestellt aston\",\"verworrene zerbrochene systematisch\",\"artilleriepark einzuleiten erhielt\",\"schlachtfelds niemeyern zerfressen\",\"ab\\u00e4nderung systematisch entw\\u00fcrdigt\",\"artilleriepark humberm\\u00fcndung erhielt\",\"zuchthaus l\\u00e4chelte artilleriepark\",\"aufzuweisen befestigen directe\",\"verworrene zerbrochene lrsnck\",\"erhielt steck'n humberm\\u00fcndung\",\"gemeinheit ausgestellt aston\",\"verworrene zerbrochene systematisch\",\"artilleriepark einzuleiten erhielt\",\"schlachtfelds niemeyern zerfressen\",\"ab\\u00e4nderung systematisch entw\\u00fcrdigt\",\"artilleriepark humberm\\u00fcndung erhielt\",\"zuchthaus l\\u00e4chelte artilleriepark\",\"aufzuweisen befestigen directe\",\"verworrene zerbrochene lrsnck\",\"erhielt steck'n humberm\\u00fcndung\",\"gemeinheit ausgestellt aston\",\"verworrene zerbrochene systematisch\",\"artilleriepark einzuleiten erhielt\",\"schlachtfelds niemeyern zerfressen\",\"ab\\u00e4nderung systematisch entw\\u00fcrdigt\",\"artilleriepark humberm\\u00fcndung erhielt\",\"zuchthaus l\\u00e4chelte artilleriepark\",\"aufzuweisen befestigen directe\",\"verworrene zerbrochene lrsnck\",\"erhielt steck'n humberm\\u00fcndung\",\"gemeinheit ausgestellt aston\",\"verworrene zerbrochene systematisch\",\"artilleriepark einzuleiten erhielt\",\"schlachtfelds niemeyern zerfressen\",\"ab\\u00e4nderung systematisch entw\\u00fcrdigt\",\"artilleriepark humberm\\u00fcndung erhielt\",\"zuchthaus l\\u00e4chelte artilleriepark\",\"aufzuweisen befestigen directe\",\"verworrene zerbrochene lrsnck\",\"erhielt steck'n humberm\\u00fcndung\",\"gemeinheit ausgestellt aston\",\"verworrene zerbrochene systematisch\",\"artilleriepark einzuleiten erhielt\",\"schlachtfelds niemeyern zerfressen\",\"ab\\u00e4nderung systematisch entw\\u00fcrdigt\",\"artilleriepark humberm\\u00fcndung erhielt\",\"zuchthaus l\\u00e4chelte artilleriepark\",\"aufzuweisen befestigen directe\",\"verworrene zerbrochene lrsnck\",\"erhielt steck'n humberm\\u00fcndung\",\"gemeinheit ausgestellt aston\",\"verworrene zerbrochene systematisch\",\"artilleriepark einzuleiten erhielt\",\"schlachtfelds niemeyern zerfressen\",\"ab\\u00e4nderung systematisch entw\\u00fcrdigt\",\"artilleriepark humberm\\u00fcndung erhielt\",\"zuchthaus l\\u00e4chelte artilleriepark\",\"aufzuweisen befestigen directe\",\"verworrene zerbrochene lrsnck\",\"erhielt steck'n humberm\\u00fcndung\",\"gemeinheit ausgestellt aston\",\"verworrene zerbrochene systematisch\",\"artilleriepark einzuleiten erhielt\",\"schlachtfelds niemeyern zerfressen\",\"ab\\u00e4nderung systematisch entw\\u00fcrdigt\",\"artilleriepark humberm\\u00fcndung erhielt\",\"zuchthaus l\\u00e4chelte artilleriepark\",\"aufzuweisen befestigen directe\",\"verworrene zerbrochene lrsnck\",\"erhielt steck'n humberm\\u00fcndung\",\"gemeinheit ausgestellt aston\",\"verworrene zerbrochene systematisch\",\"artilleriepark einzuleiten erhielt\",\"schlachtfelds niemeyern zerfressen\",\"ab\\u00e4nderung systematisch entw\\u00fcrdigt\",\"artilleriepark humberm\\u00fcndung erhielt\",\"zuchthaus l\\u00e4chelte artilleriepark\",\"aufzuweisen befestigen directe\",\"verworrene zerbrochene lrsnck\",\"erhielt steck'n humberm\\u00fcndung\",\"gemeinheit ausgestellt aston\",\"verworrene zerbrochene systematisch\",\"artilleriepark einzuleiten erhielt\",\"schlachtfelds niemeyern zerfressen\",\"ab\\u00e4nderung systematisch entw\\u00fcrdigt\",\"artilleriepark humberm\\u00fcndung erhielt\",\"zuchthaus l\\u00e4chelte artilleriepark\",\"aufzuweisen befestigen directe\",\"verworrene zerbrochene lrsnck\",\"erhielt steck'n humberm\\u00fcndung\",\"gemeinheit ausgestellt aston\",\"verworrene zerbrochene systematisch\",\"artilleriepark einzuleiten erhielt\",\"schlachtfelds niemeyern zerfressen\",\"ab\\u00e4nderung systematisch entw\\u00fcrdigt\",\"artilleriepark humberm\\u00fcndung erhielt\",\"zuchthaus l\\u00e4chelte artilleriepark\",\"aufzuweisen befestigen directe\",\"verworrene zerbrochene lrsnck\",\"erhielt steck'n humberm\\u00fcndung\",\"gemeinheit ausgestellt aston\",\"verworrene zerbrochene systematisch\",\"artilleriepark einzuleiten erhielt\",\"schlachtfelds niemeyern zerfressen\",\"ab\\u00e4nderung systematisch entw\\u00fcrdigt\",\"artilleriepark humberm\\u00fcndung erhielt\",\"zuchthaus l\\u00e4chelte artilleriepark\",\"aufzuweisen befestigen directe\",\"verworrene zerbrochene lrsnck\",\"erhielt steck'n humberm\\u00fcndung\",\"gemeinheit ausgestellt aston\",\"verworrene zerbrochene systematisch\",\"artilleriepark einzuleiten erhielt\",\"schlachtfelds niemeyern zerfressen\",\"ab\\u00e4nderung systematisch entw\\u00fcrdigt\",\"artilleriepark humberm\\u00fcndung erhielt\",\"zuchthaus l\\u00e4chelte artilleriepark\",\"aufzuweisen befestigen directe\",\"verworrene zerbrochene lrsnck\",\"erhielt steck'n humberm\\u00fcndung\",\"gemeinheit ausgestellt aston\",\"verworrene zerbrochene systematisch\",\"artilleriepark einzuleiten erhielt\",\"schlachtfelds niemeyern zerfressen\",\"ab\\u00e4nderung systematisch entw\\u00fcrdigt\",\"artilleriepark humberm\\u00fcndung erhielt\",\"zuchthaus l\\u00e4chelte artilleriepark\",\"aufzuweisen befestigen directe\",\"verworrene zerbrochene lrsnck\",\"erhielt steck'n humberm\\u00fcndung\",\"gemeinheit ausgestellt aston\",\"verworrene zerbrochene systematisch\",\"artilleriepark einzuleiten erhielt\",\"schlachtfelds niemeyern zerfressen\",\"ab\\u00e4nderung systematisch entw\\u00fcrdigt\",\"artilleriepark humberm\\u00fcndung erhielt\",\"zuchthaus l\\u00e4chelte artilleriepark\",\"aufzuweisen befestigen directe\",\"verworrene zerbrochene lrsnck\",\"erhielt steck'n humberm\\u00fcndung\",\"gemeinheit ausgestellt aston\",\"verworrene zerbrochene systematisch\",\"artilleriepark einzuleiten erhielt\",\"schlachtfelds niemeyern zerfressen\",\"ab\\u00e4nderung systematisch entw\\u00fcrdigt\",\"artilleriepark humberm\\u00fcndung erhielt\",\"zuchthaus l\\u00e4chelte artilleriepark\",\"aufzuweisen befestigen directe\",\"verworrene zerbrochene lrsnck\",\"erhielt steck'n humberm\\u00fcndung\",\"gemeinheit ausgestellt aston\",\"verworrene zerbrochene systematisch\",\"artilleriepark einzuleiten erhielt\",\"schlachtfelds niemeyern zerfressen\",\"ab\\u00e4nderung systematisch entw\\u00fcrdigt\",\"artilleriepark humberm\\u00fcndung erhielt\",\"zuchthaus l\\u00e4chelte artilleriepark\",\"aufzuweisen befestigen directe\",\"verworrene zerbrochene lrsnck\",\"erhielt steck'n humberm\\u00fcndung\",\"gemeinheit ausgestellt aston\",\"verworrene zerbrochene systematisch\",\"artilleriepark einzuleiten erhielt\",\"schlachtfelds niemeyern zerfressen\",\"ab\\u00e4nderung systematisch entw\\u00fcrdigt\",\"artilleriepark humberm\\u00fcndung erhielt\",\"zuchthaus l\\u00e4chelte artilleriepark\",\"aufzuweisen befestigen directe\",\"verworrene zerbrochene lrsnck\",\"erhielt steck'n humberm\\u00fcndung\",\"gemeinheit ausgestellt aston\",\"verworrene zerbrochene systematisch\",\"artilleriepark einzuleiten erhielt\",\"schlachtfelds niemeyern zerfressen\",\"ab\\u00e4nderung systematisch entw\\u00fcrdigt\",\"artilleriepark humberm\\u00fcndung erhielt\",\"zuchthaus l\\u00e4chelte artilleriepark\",\"aufzuweisen befestigen directe\",\"verworrene zerbrochene lrsnck\",\"erhielt steck'n humberm\\u00fcndung\",\"gemeinheit ausgestellt aston\",\"verworrene zerbrochene systematisch\",\"artilleriepark einzuleiten erhielt\",\"schlachtfelds niemeyern zerfressen\",\"ab\\u00e4nderung systematisch entw\\u00fcrdigt\",\"artilleriepark humberm\\u00fcndung erhielt\",\"zuchthaus l\\u00e4chelte artilleriepark\",\"aufzuweisen befestigen directe\",\"verworrene zerbrochene lrsnck\",\"erhielt steck'n humberm\\u00fcndung\",\"gemeinheit ausgestellt aston\",\"verworrene zerbrochene systematisch\",\"artilleriepark einzuleiten erhielt\",\"schlachtfelds niemeyern zerfressen\",\"ab\\u00e4nderung systematisch entw\\u00fcrdigt\",\"artilleriepark humberm\\u00fcndung erhielt\",\"zuchthaus l\\u00e4chelte artilleriepark\",\"aufzuweisen befestigen directe\",\"verworrene zerbrochene lrsnck\",\"erhielt steck'n humberm\\u00fcndung\",\"gemeinheit ausgestellt aston\",\"verworrene zerbrochene systematisch\",\"artilleriepark einzuleiten erhielt\",\"schlachtfelds niemeyern zerfressen\",\"ab\\u00e4nderung systematisch entw\\u00fcrdigt\",\"artilleriepark humberm\\u00fcndung erhielt\",\"zuchthaus l\\u00e4chelte artilleriepark\",\"aufzuweisen befestigen directe\",\"verworrene zerbrochene lrsnck\",\"erhielt steck'n humberm\\u00fcndung\",\"gemeinheit ausgestellt aston\",\"verworrene zerbrochene systematisch\",\"artilleriepark einzuleiten erhielt\",\"schlachtfelds niemeyern zerfressen\",\"ab\\u00e4nderung systematisch entw\\u00fcrdigt\",\"artilleriepark humberm\\u00fcndung erhielt\",\"zuchthaus l\\u00e4chelte artilleriepark\",\"aufzuweisen befestigen directe\",\"verworrene zerbrochene lrsnck\",\"erhielt steck'n humberm\\u00fcndung\",\"gemeinheit ausgestellt aston\",\"verworrene zerbrochene systematisch\",\"artilleriepark einzuleiten erhielt\",\"schlachtfelds niemeyern zerfressen\",\"ab\\u00e4nderung systematisch entw\\u00fcrdigt\",\"artilleriepark humberm\\u00fcndung erhielt\",\"zuchthaus l\\u00e4chelte artilleriepark\",\"aufzuweisen befestigen directe\",\"verworrene zerbrochene lrsnck\"],\"index\":[0,1,2,3,4,5,6,7,8,9,10,11,12,13,14,15,16,17,18,19,20,21,22,23,24,25,26,27,28,29,30,31,32,33,34,35,36,37,38,39,40,41,42,43,44,45,46,47,48,49,50,51,52,53,54,55,56,57,58,59,60,61,62,63,64,65,66,67,68,69,70,71,72,73,74,75,76,77,78,79,80,81,82,83,84,85,86,87,88,89,90,91,92,93,94,95,96,97,98,99,100,101,102,103,104,105,106,107,108,109,110,111,112,113,114,115,116,117,118,119,120,121,122,123,124,125,126,127,128,129,130,131,132,133,134,135,136,137,138,139,140,141,142,143,144,145,146,147,148,149,150,151,152,153,154,155,156,157,158,159,160,161,162,163,164,165,166,167,168,169,170,171,172,173,174,175,176,177,178,179,180,181,182,183,184,185,186,187,188,189,190,191,192,193,194,195,196,197,198,199,200,201,202,203,204,205,206,207,208,209,210,211,212,213,214,215,216,217,218,219,220,221,222,223,224,225,226,227,228,229,230,231,232,233,234,235,236,237,238,239,240,241,242,243,244,245,246,247,248,249,250,251,252,253,254,255,256,257,258,259,260,261,262,263,264,265,266,267,268,269,270,271,272,273,274,275,276,277,278,279,280,281,282,283,284,285,286,287,288,289,290,291,292,293,294,295,296,297,298,299]}},\"id\":\"7a9c56cc-e3f8-4e6c-a955-c88ca4af834e\",\"type\":\"ColumnDataSource\"},{\"attributes\":{\"color_mapper\":{\"id\":\"b4be8230-d1ba-4998-9f26-a226add2099f\",\"type\":\"LinearColorMapper\"},\"formatter\":{\"id\":\"156e48cf-c42e-4aa3-8def-92b38df80291\",\"type\":\"BasicTickFormatter\"},\"label_standoff\":6,\"location\":[0,0],\"major_label_text_font_size\":{\"value\":\"10pt\"},\"plot\":{\"id\":\"982c1587-fd51-4562-83a7-9decf99ae111\",\"subtype\":\"Figure\",\"type\":\"Plot\"},\"ticker\":{\"id\":\"8238cc65-a4bc-492f-946b-fe4e4c72a56f\",\"type\":\"BasicTicker\"}},\"id\":\"87af8727-39d9-4b25-b59d-e6cd20c52881\",\"type\":\"ColorBar\"},{\"attributes\":{},\"id\":\"012f36b1-a658-4637-8f9e-c28ef4f853b0\",\"type\":\"CategoricalTicker\"},{\"attributes\":{\"grid_line_color\":{\"value\":null},\"plot\":{\"id\":\"982c1587-fd51-4562-83a7-9decf99ae111\",\"subtype\":\"Figure\",\"type\":\"Plot\"},\"ticker\":{\"id\":\"012f36b1-a658-4637-8f9e-c28ef4f853b0\",\"type\":\"CategoricalTicker\"}},\"id\":\"3e0880b8-5877-4dd5-9806-114639c78beb\",\"type\":\"Grid\"},{\"attributes\":{\"bottom_units\":\"screen\",\"fill_alpha\":{\"value\":0.5},\"fill_color\":{\"value\":\"lightgrey\"},\"left_units\":\"screen\",\"level\":\"overlay\",\"line_alpha\":{\"value\":1.0},\"line_color\":{\"value\":\"black\"},\"line_dash\":[4,4],\"line_width\":{\"value\":2},\"plot\":null,\"render_mode\":\"css\",\"right_units\":\"screen\",\"top_units\":\"screen\"},\"id\":\"fd0cbb01-ed1b-43d4-8649-661c346ca049\",\"type\":\"BoxAnnotation\"},{\"attributes\":{},\"id\":\"156e48cf-c42e-4aa3-8def-92b38df80291\",\"type\":\"BasicTickFormatter\"},{\"attributes\":{},\"id\":\"2ae60416-13fc-4dd9-bb8c-b35705c40b93\",\"type\":\"CategoricalTickFormatter\"},{\"attributes\":{},\"id\":\"1c3626d7-92ac-4bf3-9468-4acaac97baab\",\"type\":\"CategoricalTicker\"},{\"attributes\":{\"high\":0.9997490716394924,\"low\":0.0,\"palette\":[\"#c6dbef\",\"#9ecae1\",\"#6baed6\",\"#4292c6\",\"#2171b5\",\"#08519c\",\"#08306b\"]},\"id\":\"b4be8230-d1ba-4998-9f26-a226add2099f\",\"type\":\"LinearColorMapper\"},{\"attributes\":{\"dimension\":1,\"grid_line_color\":{\"value\":null},\"plot\":{\"id\":\"982c1587-fd51-4562-83a7-9decf99ae111\",\"subtype\":\"Figure\",\"type\":\"Plot\"},\"ticker\":{\"id\":\"1c3626d7-92ac-4bf3-9468-4acaac97baab\",\"type\":\"CategoricalTicker\"}},\"id\":\"7c39a9ce-0c8e-491e-8a81-3ef7257081a3\",\"type\":\"Grid\"},{\"attributes\":{},\"id\":\"15102b0a-a1b8-40e9-a060-2626fa768791\",\"type\":\"CategoricalTickFormatter\"}],\"root_ids\":[\"982c1587-fd51-4562-83a7-9decf99ae111\"]},\"title\":\"Bokeh Application\",\"version\":\"0.12.9\"}};\n",
       "    var render_items = [{\"docid\":\"b79bc8f8-d539-4da3-9ea3-8282853ab2e7\",\"elementid\":\"d42f9643-4adf-4d4b-b2de-3f67c7d59deb\",\"modelid\":\"982c1587-fd51-4562-83a7-9decf99ae111\",\"notebook_comms_target\":\"6f2eae65-0981-43ba-afaa-a7af4271a25d\"}];\n",
       "\n",
       "    root.Bokeh.embed.embed_items(docs_json, render_items);\n",
       "  }\n",
       "\n",
       "  if (root.Bokeh !== undefined) {\n",
       "    embed_document(root);\n",
       "  } else {\n",
       "    var attempts = 0;\n",
       "    var timer = setInterval(function(root) {\n",
       "      if (root.Bokeh !== undefined) {\n",
       "        embed_document(root);\n",
       "        clearInterval(timer);\n",
       "      }\n",
       "      attempts++;\n",
       "      if (attempts > 100) {\n",
       "        console.log(\"Bokeh: ERROR: Unable to embed document because BokehJS library is missing\")\n",
       "        clearInterval(timer);\n",
       "      }\n",
       "    }, 10, root)\n",
       "  }\n",
       "})(window);"
      ],
      "application/vnd.bokehjs_exec.v0+json": ""
     },
     "metadata": {
      "application/vnd.bokehjs_exec.v0+json": {
       "id": "982c1587-fd51-4562-83a7-9decf99ae111"
      }
     },
     "output_type": "display_data"
    },
    {
     "data": {
      "text/html": [
       "<p><code>&lt;Bokeh Notebook handle for <strong>In[19]</strong>&gt;</code></p>"
      ],
      "text/plain": [
       "<bokeh.io._CommsHandle at 0x7fdcc5f1ddd8>"
      ]
     },
     "execution_count": 22,
     "metadata": {},
     "output_type": "execute_result"
    }
   ],
   "source": [
    "plot = visualization.doc_topic_heatmap_interactive(document_topics, title='Grenzboten')\n",
    "show(plot, notebook_handle=True)"
   ]
  },
  {
   "cell_type": "markdown",
   "metadata": {},
   "source": [
    "#### Distribution of topics in a single documents\n",
    "\n",
    "To take closer look on the topics in a single text, we can use the follwing function that shows all the topics in a text and their respective proportions. To select the document, we have to give its index to the function."
   ]
  },
  {
   "cell_type": "code",
   "execution_count": 23,
   "metadata": {
    "scrolled": false
   },
   "outputs": [
    {
     "data": {
      "text/plain": [
       "<module 'matplotlib.pyplot' from '/usr/local/lib/python3.6/dist-packages/matplotlib/pyplot.py'>"
      ]
     },
     "execution_count": 23,
     "metadata": {},
     "output_type": "execute_result"
    },
    {
     "data": {
      "image/png": "[encoded data removed]",
      "text/plain": [
       "<matplotlib.figure.Figure at 0x7fdcc606ea90>"
      ]
     },
     "metadata": {},
     "output_type": "display_data"
    }
   ],
   "source": [
    "visualization.plot_doc_topics(document_topics, 0)"
   ]
  }
 ],
 "metadata": {
  "kernelspec": {
   "display_name": "Python 3",
   "language": "python",
   "name": "python3"
  },
  "language_info": {
   "codemirror_mode": {
    "name": "ipython",
    "version": 3
   },
   "file_extension": ".py",
   "mimetype": "text/x-python",
   "name": "python",
   "nbconvert_exporter": "python",
   "pygments_lexer": "ipython3",
   "version": "3.6.3"
  }
 },
 "nbformat": 4,
 "nbformat_minor": 1
}
